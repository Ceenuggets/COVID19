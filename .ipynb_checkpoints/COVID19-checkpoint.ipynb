{
 "cells": [
  {
   "cell_type": "markdown",
   "metadata": {},
   "source": [
    "# COVID19 ANALYSIS"
   ]
  },
  {
   "cell_type": "code",
   "execution_count": 4,
   "metadata": {},
   "outputs": [],
   "source": [
    "import pandas as pd\n",
    "import numpy as np\n",
    "import os\n",
    "from datetime import datetime, date, timedelta"
   ]
  },
  {
   "cell_type": "code",
   "execution_count": 39,
   "metadata": {},
   "outputs": [
    {
     "data": {
      "text/plain": [
       "['COVID19Report150720201808.csv', 'COVID19Report160720201632.csv']"
      ]
     },
     "execution_count": 39,
     "metadata": {},
     "output_type": "execute_result"
    }
   ],
   "source": [
    "files = os.listdir('../COVID19/DayReport')\n",
    "files"
   ]
  },
  {
   "cell_type": "code",
   "execution_count": 35,
   "metadata": {},
   "outputs": [],
   "source": [
    "def most_recent_CSV(files, n):\n",
    "    next_mostrecent_CSV ={}\n",
    "    filter_csv = [file for file in files if file[-3:] == 'csv' and file[:13] == 'COVID19Report' and len(file[13:25]) ==12]\n",
    "    datetime_conversion = [datetime.strptime(f[13:25], '%d%m%Y%H%M') for f in filter_csv]\n",
    "    current_datetime = datetime.now().strftime(\"%d%m%Y%H%M\")\n",
    "    current_datetime_conversion = datetime.strptime(current_datetime,'%d%m%Y%H%M')\n",
    "    for given_datetime in datetime_conversion:\n",
    "        datetime_string= given_datetime.strftime('%d')+given_datetime.strftime('%m')+given_datetime.strftime('%Y')+given_datetime.strftime('%H')+given_datetime.strftime('%M')\n",
    "        particular_datetime = [datee  for datee in filter_csv if datee[13:25] == datetime_string]\n",
    "        timediff_seconds = current_datetime_conversion - given_datetime\n",
    "        next_mostrecent_CSV[particular_datetime[0]] = timediff_seconds.total_seconds()\n",
    "        sorted_next_mostrecent_CSV = sorted(next_mostrecent_CSV.items(), key=lambda kv: kv[1])\n",
    "    return sorted_next_mostrecent_CSV[n][0]  "
   ]
  },
  {
   "cell_type": "code",
   "execution_count": 40,
   "metadata": {},
   "outputs": [
    {
     "data": {
      "text/plain": [
       "'COVID19Report160720201632.csv'"
      ]
     },
     "execution_count": 40,
     "metadata": {},
     "output_type": "execute_result"
    }
   ],
   "source": [
    "most_recent_data = most_recent_CSV(files, 0)\n",
    "most_recent_data"
   ]
  }
 ],
 "metadata": {
  "kernelspec": {
   "display_name": "Python 3",
   "language": "python",
   "name": "python3"
  },
  "language_info": {
   "codemirror_mode": {
    "name": "ipython",
    "version": 3
   },
   "file_extension": ".py",
   "mimetype": "text/x-python",
   "name": "python",
   "nbconvert_exporter": "python",
   "pygments_lexer": "ipython3",
   "version": "3.7.4"
  }
 },
 "nbformat": 4,
 "nbformat_minor": 2
}
