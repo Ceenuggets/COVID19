{
 "cells": [
  {
   "cell_type": "markdown",
   "metadata": {},
   "source": [
    "# AFRICA COVID19 ANALYSIS"
   ]
  },
  {
   "cell_type": "markdown",
   "metadata": {},
   "source": [
    "<a id='top'></a>\n",
    "* [General Cases](#general) <br>\n",
    "* [Cases by Region](#by_region) <br>\n",
    "* [Recovery Rate](#recovery)  <br>\n",
    "* [Mortality Rate](#mortality) <br>\n",
    "* [Radndom Selection](#select_few) <br>\n",
    "* [Top Ten New Cases by Country](#top_six) <br>"
   ]
  },
  {
   "cell_type": "code",
   "execution_count": 131,
   "metadata": {},
   "outputs": [],
   "source": [
    "import pandas as pd\n",
    "import numpy as np\n",
    "import plotly.graph_objs as go\n",
    "from plotly.subplots import make_subplots\n",
    "import os\n",
    "import datetime\n",
    "from datetime import date\n",
    "import matplotlib.pyplot as plt\n",
    "%matplotlib inline"
   ]
  },
  {
   "cell_type": "code",
   "execution_count": 132,
   "metadata": {},
   "outputs": [],
   "source": [
    "#SELECT  MOST RECENT DAILY CASES FILE NAME FOR AFRICAN REGIONS\n",
    "def most_recent_new_cases(path):\n",
    "    next_mostrecent_CSV ={}\n",
    "    files = os.listdir(path)\n",
    "    new_casesCSV_files = [file for file in files if file[-3:] == 'csv' and file[-20:-12] == 'NewCases']\n",
    "    date_conversion = [datetime.datetime.strptime(date_slice[-12:-4], '%d%m%Y') for date_slice in new_casesCSV_files]\n",
    "    current_date = datetime.datetime.now().strftime(\"%d%m%Y\")\n",
    "    current_date_conversion = datetime.datetime.strptime(current_date,'%d%m%Y')\n",
    "    for given_date in date_conversion:\n",
    "        datetime_string= given_date.strftime('%d')+given_date.strftime('%m')+given_date.strftime('%Y')\n",
    "        particular_date = [datee  for datee in new_casesCSV_files if datee[-12:-4] == datetime_string]\n",
    "        timediff_seconds = current_date_conversion - given_date\n",
    "        next_mostrecent_CSV[particular_date[0]] = timediff_seconds.total_seconds()\n",
    "        sorted_next_mostrecent_CSV = sorted(next_mostrecent_CSV.items(), key=lambda kv: kv[1])\n",
    "    return sorted_next_mostrecent_CSV[0][0]"
   ]
  },
  {
   "cell_type": "code",
   "execution_count": 133,
   "metadata": {},
   "outputs": [
    {
     "data": {
      "text/plain": [
       "'WestAfricaNewCases25032021.csv'"
      ]
     },
     "execution_count": 133,
     "metadata": {},
     "output_type": "execute_result"
    }
   ],
   "source": [
    "ea_latest = most_recent_new_cases(\"..\\COVID19\\Africa\\EastAfrica\")\n",
    "wa_latest = most_recent_new_cases(\"..\\COVID19\\Africa\\WestAfrica\")\n",
    "na_latest = most_recent_new_cases(\"..\\COVID19\\Africa\\\\NorthAfrica\")\n",
    "sa_latest = most_recent_new_cases(\"..\\COVID19\\Africa\\SouthernAfrica\")\n",
    "ca_latest = most_recent_new_cases(\"..\\COVID19\\Africa\\CentralAfrica\")\n",
    "wa_latest"
   ]
  },
  {
   "cell_type": "markdown",
   "metadata": {},
   "source": [
    "## Loading the files..."
   ]
  },
  {
   "cell_type": "code",
   "execution_count": 134,
   "metadata": {},
   "outputs": [],
   "source": [
    "east_africa= pd.read_csv('../COVID19/Africa/EastAfrica/'+ ea_latest, dtype=object, encoding='utf-8')\n",
    "west_africa = pd.read_csv('../COVID19/Africa/WestAfrica/'+wa_latest, dtype=object, encoding='utf-8')\n",
    "north_africa = pd.read_csv('../COVID19/Africa/NorthAfrica/'+na_latest,dtype=object,  encoding='utf-8')\n",
    "southern_africa= pd.read_csv('../COVID19/Africa/SouthernAfrica/'+sa_latest, dtype=object, encoding='utf-8')\n",
    "central_africa = pd.read_csv('../COVID19/Africa/CentralAfrica/'+ca_latest, dtype=object, encoding='utf-8')"
   ]
  },
  {
   "cell_type": "code",
   "execution_count": 135,
   "metadata": {},
   "outputs": [
    {
     "data": {
      "text/html": [
       "<div>\n",
       "<style scoped>\n",
       "    .dataframe tbody tr th:only-of-type {\n",
       "        vertical-align: middle;\n",
       "    }\n",
       "\n",
       "    .dataframe tbody tr th {\n",
       "        vertical-align: top;\n",
       "    }\n",
       "\n",
       "    .dataframe thead th {\n",
       "        text-align: right;\n",
       "    }\n",
       "</style>\n",
       "<table border=\"1\" class=\"dataframe\">\n",
       "  <thead>\n",
       "    <tr style=\"text-align: right;\">\n",
       "      <th></th>\n",
       "      <th>Country_Other</th>\n",
       "      <th>April16</th>\n",
       "      <th>April17</th>\n",
       "      <th>April18</th>\n",
       "      <th>April19</th>\n",
       "      <th>April20</th>\n",
       "      <th>April21</th>\n",
       "      <th>April22</th>\n",
       "      <th>April23</th>\n",
       "      <th>April24</th>\n",
       "      <th>...</th>\n",
       "      <th>Mar16_2021</th>\n",
       "      <th>Mar17_2021</th>\n",
       "      <th>Mar18_2021</th>\n",
       "      <th>Mar19_2021</th>\n",
       "      <th>Mar20_2021</th>\n",
       "      <th>Mar21_2021</th>\n",
       "      <th>Mar22_2021</th>\n",
       "      <th>Mar23_2021</th>\n",
       "      <th>Mar24_2021</th>\n",
       "      <th>Mar25_2021</th>\n",
       "    </tr>\n",
       "  </thead>\n",
       "  <tbody>\n",
       "    <tr>\n",
       "      <td>0</td>\n",
       "      <td>Ivory Coast</td>\n",
       "      <td>0</td>\n",
       "      <td>+34</td>\n",
       "      <td>+113</td>\n",
       "      <td>+46</td>\n",
       "      <td>+32</td>\n",
       "      <td>+37</td>\n",
       "      <td>+36</td>\n",
       "      <td>+52</td>\n",
       "      <td>+73</td>\n",
       "      <td>...</td>\n",
       "      <td>+212</td>\n",
       "      <td>+162</td>\n",
       "      <td>+641</td>\n",
       "      <td>+511</td>\n",
       "      <td>+479</td>\n",
       "      <td>+397</td>\n",
       "      <td>+291</td>\n",
       "      <td>+267</td>\n",
       "      <td>+439</td>\n",
       "      <td>+767</td>\n",
       "    </tr>\n",
       "    <tr>\n",
       "      <td>1</td>\n",
       "      <td>Ghana</td>\n",
       "      <td>0</td>\n",
       "      <td>0</td>\n",
       "      <td>+193</td>\n",
       "      <td>+208</td>\n",
       "      <td>0</td>\n",
       "      <td>0</td>\n",
       "      <td>+112</td>\n",
       "      <td>0</td>\n",
       "      <td>+125</td>\n",
       "      <td>...</td>\n",
       "      <td>+243</td>\n",
       "      <td>+193</td>\n",
       "      <td>0</td>\n",
       "      <td>+587</td>\n",
       "      <td>+268</td>\n",
       "      <td>+406</td>\n",
       "      <td>0</td>\n",
       "      <td>+211</td>\n",
       "      <td>0</td>\n",
       "      <td>+106</td>\n",
       "    </tr>\n",
       "    <tr>\n",
       "      <td>2</td>\n",
       "      <td>Niger</td>\n",
       "      <td>0</td>\n",
       "      <td>+43</td>\n",
       "      <td>+12</td>\n",
       "      <td>+9</td>\n",
       "      <td>0</td>\n",
       "      <td>+9</td>\n",
       "      <td>+5</td>\n",
       "      <td>+9</td>\n",
       "      <td>+10</td>\n",
       "      <td>...</td>\n",
       "      <td>+5</td>\n",
       "      <td>+34</td>\n",
       "      <td>+2</td>\n",
       "      <td>+5</td>\n",
       "      <td>+7</td>\n",
       "      <td>0</td>\n",
       "      <td>+10</td>\n",
       "      <td>+11</td>\n",
       "      <td>0</td>\n",
       "      <td>+9</td>\n",
       "    </tr>\n",
       "    <tr>\n",
       "      <td>3</td>\n",
       "      <td>Burkina Faso</td>\n",
       "      <td>+4</td>\n",
       "      <td>+11</td>\n",
       "      <td>+8</td>\n",
       "      <td>+11</td>\n",
       "      <td>+5</td>\n",
       "      <td>+19</td>\n",
       "      <td>+9</td>\n",
       "      <td>+7</td>\n",
       "      <td>+13</td>\n",
       "      <td>...</td>\n",
       "      <td>0</td>\n",
       "      <td>+21</td>\n",
       "      <td>+24</td>\n",
       "      <td>0</td>\n",
       "      <td>+66</td>\n",
       "      <td>+19</td>\n",
       "      <td>+24</td>\n",
       "      <td>+13</td>\n",
       "      <td>+24</td>\n",
       "      <td>+23</td>\n",
       "    </tr>\n",
       "    <tr>\n",
       "      <td>4</td>\n",
       "      <td>Nigeria</td>\n",
       "      <td>+35</td>\n",
       "      <td>+51</td>\n",
       "      <td>+49</td>\n",
       "      <td>+85</td>\n",
       "      <td>+38</td>\n",
       "      <td>+117</td>\n",
       "      <td>+91</td>\n",
       "      <td>+108</td>\n",
       "      <td>+114</td>\n",
       "      <td>...</td>\n",
       "      <td>+179</td>\n",
       "      <td>+187</td>\n",
       "      <td>+135</td>\n",
       "      <td>+130</td>\n",
       "      <td>+112</td>\n",
       "      <td>+86</td>\n",
       "      <td>+131</td>\n",
       "      <td>+208</td>\n",
       "      <td>+102</td>\n",
       "      <td>+97</td>\n",
       "    </tr>\n",
       "  </tbody>\n",
       "</table>\n",
       "<p>5 rows × 344 columns</p>\n",
       "</div>"
      ],
      "text/plain": [
       "  Country_Other April16 April17 April18 April19 April20 April21 April22  \\\n",
       "0   Ivory Coast       0     +34    +113     +46     +32     +37     +36   \n",
       "1         Ghana       0       0    +193    +208       0       0    +112   \n",
       "2         Niger       0     +43     +12      +9       0      +9      +5   \n",
       "3  Burkina Faso      +4     +11      +8     +11      +5     +19      +9   \n",
       "4       Nigeria     +35     +51     +49     +85     +38    +117     +91   \n",
       "\n",
       "  April23 April24  ... Mar16_2021 Mar17_2021 Mar18_2021 Mar19_2021 Mar20_2021  \\\n",
       "0     +52     +73  ...       +212       +162       +641       +511       +479   \n",
       "1       0    +125  ...       +243       +193          0       +587       +268   \n",
       "2      +9     +10  ...         +5        +34         +2         +5         +7   \n",
       "3      +7     +13  ...          0        +21        +24          0        +66   \n",
       "4    +108    +114  ...       +179       +187       +135       +130       +112   \n",
       "\n",
       "  Mar21_2021 Mar22_2021 Mar23_2021 Mar24_2021 Mar25_2021  \n",
       "0       +397       +291       +267       +439       +767  \n",
       "1       +406          0       +211          0       +106  \n",
       "2          0        +10        +11          0         +9  \n",
       "3        +19        +24        +13        +24        +23  \n",
       "4        +86       +131       +208       +102        +97  \n",
       "\n",
       "[5 rows x 344 columns]"
      ]
     },
     "execution_count": 135,
     "metadata": {},
     "output_type": "execute_result"
    }
   ],
   "source": [
    "west_africa.head()"
   ]
  },
  {
   "cell_type": "markdown",
   "metadata": {},
   "source": [
    "## SUMMARY FOR AFRICA"
   ]
  },
  {
   "cell_type": "code",
   "execution_count": 136,
   "metadata": {},
   "outputs": [
    {
     "data": {
      "text/html": [
       "<div>\n",
       "<style scoped>\n",
       "    .dataframe tbody tr th:only-of-type {\n",
       "        vertical-align: middle;\n",
       "    }\n",
       "\n",
       "    .dataframe tbody tr th {\n",
       "        vertical-align: top;\n",
       "    }\n",
       "\n",
       "    .dataframe thead th {\n",
       "        text-align: right;\n",
       "    }\n",
       "</style>\n",
       "<table border=\"1\" class=\"dataframe\">\n",
       "  <thead>\n",
       "    <tr style=\"text-align: right;\">\n",
       "      <th></th>\n",
       "      <th>Date</th>\n",
       "      <th>Total_Cases</th>\n",
       "      <th>New_Cases</th>\n",
       "      <th>Total_Deaths</th>\n",
       "      <th>New_Deaths</th>\n",
       "      <th>Total_Recovered</th>\n",
       "      <th>Active_Cases</th>\n",
       "      <th>Serious_Critical</th>\n",
       "    </tr>\n",
       "  </thead>\n",
       "  <tbody>\n",
       "    <tr>\n",
       "      <td>339</td>\n",
       "      <td>Mar21_2021</td>\n",
       "      <td>4138592</td>\n",
       "      <td>9315</td>\n",
       "      <td>110143</td>\n",
       "      <td>229</td>\n",
       "      <td>3697455</td>\n",
       "      <td>330994</td>\n",
       "      <td>2578</td>\n",
       "    </tr>\n",
       "    <tr>\n",
       "      <td>340</td>\n",
       "      <td>Mar22_2021</td>\n",
       "      <td>4148023</td>\n",
       "      <td>9109</td>\n",
       "      <td>110405</td>\n",
       "      <td>262</td>\n",
       "      <td>3706720</td>\n",
       "      <td>330898</td>\n",
       "      <td>2630</td>\n",
       "    </tr>\n",
       "    <tr>\n",
       "      <td>341</td>\n",
       "      <td>Mar23_2021</td>\n",
       "      <td>4157953</td>\n",
       "      <td>9930</td>\n",
       "      <td>110745</td>\n",
       "      <td>340</td>\n",
       "      <td>3717254</td>\n",
       "      <td>329954</td>\n",
       "      <td>2666</td>\n",
       "    </tr>\n",
       "    <tr>\n",
       "      <td>342</td>\n",
       "      <td>Mar24_2021</td>\n",
       "      <td>4168758</td>\n",
       "      <td>10783</td>\n",
       "      <td>111064</td>\n",
       "      <td>319</td>\n",
       "      <td>3725900</td>\n",
       "      <td>331794</td>\n",
       "      <td>2742</td>\n",
       "    </tr>\n",
       "    <tr>\n",
       "      <td>343</td>\n",
       "      <td>Mar25_2021</td>\n",
       "      <td>4181204</td>\n",
       "      <td>12268</td>\n",
       "      <td>111450</td>\n",
       "      <td>376</td>\n",
       "      <td>3738001</td>\n",
       "      <td>331753</td>\n",
       "      <td>2721</td>\n",
       "    </tr>\n",
       "  </tbody>\n",
       "</table>\n",
       "</div>"
      ],
      "text/plain": [
       "           Date  Total_Cases  New_Cases  Total_Deaths  New_Deaths  \\\n",
       "339  Mar21_2021      4138592       9315        110143         229   \n",
       "340  Mar22_2021      4148023       9109        110405         262   \n",
       "341  Mar23_2021      4157953       9930        110745         340   \n",
       "342  Mar24_2021      4168758      10783        111064         319   \n",
       "343  Mar25_2021      4181204      12268        111450         376   \n",
       "\n",
       "     Total_Recovered  Active_Cases  Serious_Critical  \n",
       "339          3697455        330994              2578  \n",
       "340          3706720        330898              2630  \n",
       "341          3717254        329954              2666  \n",
       "342          3725900        331794              2742  \n",
       "343          3738001        331753              2721  "
      ]
     },
     "execution_count": 136,
     "metadata": {},
     "output_type": "execute_result"
    }
   ],
   "source": [
    "african_summary =  pd.read_csv('../COVID19/World/WorldSummary/Africa/Africa_summary.csv', encoding='utf-8')\n",
    "african_summary.tail()"
   ]
  },
  {
   "cell_type": "code",
   "execution_count": 137,
   "metadata": {},
   "outputs": [
    {
     "data": {
      "text/plain": [
       "'March 25, 2021'"
      ]
     },
     "execution_count": 137,
     "metadata": {},
     "output_type": "execute_result"
    }
   ],
   "source": [
    "d = datetime.datetime.strptime(ea_latest[18:26], '%d%m%Y')\n",
    "date_string = d.strftime('%B') + ' ' +d.strftime('%d') + ', '+ d.strftime('%Y')\n",
    "date_string "
   ]
  },
  {
   "cell_type": "code",
   "execution_count": 138,
   "metadata": {},
   "outputs": [],
   "source": [
    "dates = east_africa.columns.to_list()\n",
    "dates = dates[1:]"
   ]
  },
  {
   "cell_type": "code",
   "execution_count": 139,
   "metadata": {},
   "outputs": [],
   "source": [
    "# def format_date(list_date):\n",
    "#     x_date_format = [datetime.datetime.strptime(x[:-7], '%b').strftime('%B') +'-' + x[-7:-5]+'-'+x[-4:] if '_'in x  else  x[:-2] +'-' +x[-2:]+'-' +'2020'  for x in list_date]\n",
    "#     return x_date_format    "
   ]
  },
  {
   "cell_type": "code",
   "execution_count": 140,
   "metadata": {},
   "outputs": [],
   "source": [
    "def format_date(list_date):\n",
    "    x_date_format = [datetime.datetime.strptime(x[:-7], '%b').strftime('%b') +'-' + x[-7:-5]+'-'+x[-4:] if '_'in x  else  datetime.datetime.strptime(x[:-2], '%B').strftime('%b') +'-' +x[-2:]+'-' +'2020'  for x in list_date]\n",
    "    return x_date_format    "
   ]
  },
  {
   "cell_type": "code",
   "execution_count": 141,
   "metadata": {},
   "outputs": [],
   "source": [
    "#Date format for pie chart\n",
    "def pie_date_format(col_date_str):\n",
    "    if '_'in column:\n",
    "        col_date =  datetime.datetime.strptime(col_date_str[:-7], '%b').strftime('%b') +'-' + col_date_str[-7:-5]+'-'+col_date_str[-4:]\n",
    "    else:\n",
    "        col_date =  datetime.datetime.strptime(col_date_str[:-2], '%B').strftime('%b') +'-' +col_date_str[-2:]+'-' +'2020'\n",
    "    \n",
    "    return col_date"
   ]
  },
  {
   "cell_type": "markdown",
   "metadata": {},
   "source": [
    "<a id='general'></a>"
   ]
  },
  {
   "cell_type": "code",
   "execution_count": 142,
   "metadata": {},
   "outputs": [
    {
     "data": {
      "application/vnd.plotly.v1+json": {
       "config": {
        "plotlyServerURL": "https://plot.ly"
       },
       "data": [
        {
         "line": {
          "width": 3
         },
         "mode": "lines",
         "name": "Total_Cases",
         "type": "scatter",
         "x": [
          "Apr-16-2020",
          "Apr-17-2020",
          "Apr-18-2020",
          "Apr-19-2020",
          "Apr-20-2020",
          "Apr-21-2020",
          "Apr-22-2020",
          "Apr-23-2020",
          "Apr-24-2020",
          "Apr-25-2020",
          "Apr-26-2020",
          "Apr-27-2020",
          "Apr-28-2020",
          "Apr-29-2020",
          "Apr-30-2020",
          "May-01-2020",
          "May-02-2020",
          "May-03-2020",
          "May-04-2020",
          "May-05-2020",
          "May-06-2020",
          "May-07-2020",
          "May-08-2020",
          "May-09-2020",
          "May-10-2020",
          "May-11-2020",
          "May-12-2020",
          "May-13-2020",
          "May-14-2020",
          "May-15-2020",
          "May-16-2020",
          "May-17-2020",
          "May-18-2020",
          "May-19-2020",
          "May-20-2020",
          "May-21-2020",
          "May-22-2020",
          "May-23-2020",
          "May-24-2020",
          "May-25-2020",
          "May-26-2020",
          "May-27-2020",
          "May-28-2020",
          "May-29-2020",
          "May-30-2020",
          "May-31-2020",
          "Jun-01-2020",
          "Jun-02-2020",
          "Jun-03-2020",
          "Jun-04-2020",
          "Jun-05-2020",
          "Jun-06-2020",
          "Jun-07-2020",
          "Jun-08-2020",
          "Jun-09-2020",
          "Jun-10-2020",
          "Jun-11-2020",
          "Jun-12-2020",
          "Jun-13-2020",
          "Jun-14-2020",
          "Jun-15-2020",
          "Jun-16-2020",
          "Jun-17-2020",
          "Jun-18-2020",
          "Jun-19-2020",
          "Jun-20-2020",
          "Jun-21-2020",
          "Jun-22-2020",
          "Jun-23-2020",
          "Jun-24-2020",
          "Jun-25-2020",
          "Jun-26-2020",
          "Jun-27-2020",
          "Jun-28-2020",
          "Jun-29-2020",
          "Jun-30-2020",
          "Jul-01-2020",
          "Jul-02-2020",
          "Jul-03-2020",
          "Jul-04-2020",
          "Jul-05-2020",
          "Jul-06-2020",
          "Jul-07-2020",
          "Jul-08-2020",
          "Jul-09-2020",
          "Jul-10-2020",
          "Jul-11-2020",
          "Jul-12-2020",
          "Jul-13-2020",
          "Jul-14-2020",
          "Jul-15-2020",
          "Jul-16-2020",
          "Jul-17-2020",
          "Jul-18-2020",
          "Jul-19-2020",
          "Jul-20-2020",
          "Jul-21-2020",
          "Jul-22-2020",
          "Jul-23-2020",
          "Jul-24-2020",
          "Jul-25-2020",
          "Jul-26-2020",
          "Jul-27-2020",
          "Jul-28-2020",
          "Jul-29-2020",
          "Jul-30-2020",
          "Jul-31-2020",
          "Aug-01-2020",
          "Aug-02-2020",
          "Aug-03-2020",
          "Aug-04-2020",
          "Aug-05-2020",
          "Aug-06-2020",
          "Aug-07-2020",
          "Aug-08-2020",
          "Aug-09-2020",
          "Aug-10-2020",
          "Aug-11-2020",
          "Aug-12-2020",
          "Aug-13-2020",
          "Aug-14-2020",
          "Aug-15-2020",
          "Aug-16-2020",
          "Aug-17-2020",
          "Aug-18-2020",
          "Aug-19-2020",
          "Aug-20-2020",
          "Aug-21-2020",
          "Aug-22-2020",
          "Aug-23-2020",
          "Aug-24-2020",
          "Aug-25-2020",
          "Aug-26-2020",
          "Aug-27-2020",
          "Aug-28-2020",
          "Aug-29-2020",
          "Aug-30-2020",
          "Aug-31-2020",
          "Sep-01-2020",
          "Sep-02-2020",
          "Sep-03-2020",
          "Sep-04-2020",
          "Sep-05-2020",
          "Sep-06-2020",
          "Sep-07-2020",
          "Sep-08-2020",
          "Sep-09-2020",
          "Sep-10-2020",
          "Sep-11-2020",
          "Sep-12-2020",
          "Sep-13-2020",
          "Sep-14-2020",
          "Sep-15-2020",
          "Sep-16-2020",
          "Sep-17-2020",
          "Sep-18-2020",
          "Sep-19-2020",
          "Sep-20-2020",
          "Sep-21-2020",
          "Sep-22-2020",
          "Sep-23-2020",
          "Sep-24-2020",
          "Sep-25-2020",
          "Sep-26-2020",
          "Sep-27-2020",
          "Sep-28-2020",
          "Sep-29-2020",
          "Sep-30-2020",
          "Oct-01-2020",
          "Oct-02-2020",
          "Oct-03-2020",
          "Oct-04-2020",
          "Oct-05-2020",
          "Oct-06-2020",
          "Oct-07-2020",
          "Oct-08-2020",
          "Oct-09-2020",
          "Oct-10-2020",
          "Oct-11-2020",
          "Oct-12-2020",
          "Oct-13-2020",
          "Oct-14-2020",
          "Oct-15-2020",
          "Oct-16-2020",
          "Oct-17-2020",
          "Oct-18-2020",
          "Oct-19-2020",
          "Oct-20-2020",
          "Oct-21-2020",
          "Oct-22-2020",
          "Oct-23-2020",
          "Oct-24-2020",
          "Oct-25-2020",
          "Oct-26-2020",
          "Oct-27-2020",
          "Oct-28-2020",
          "Oct-29-2020",
          "Oct-30-2020",
          "Oct-31-2020",
          "Nov-01-2020",
          "Nov-02-2020",
          "Nov-03-2020",
          "Nov-04-2020",
          "Nov-05-2020",
          "Nov-06-2020",
          "Nov-07-2020",
          "Nov-08-2020",
          "Nov-09-2020",
          "Nov-10-2020",
          "Nov-11-2020",
          "Nov-12-2020",
          "Nov-13-2020",
          "Nov-14-2020",
          "Nov-15-2020",
          "Nov-16-2020",
          "Nov-17-2020",
          "Nov-18-2020",
          "Nov-19-2020",
          "Nov-20-2020",
          "Nov-21-2020",
          "Nov-22-2020",
          "Nov-23-2020",
          "Nov-24-2020",
          "Nov-25-2020",
          "Nov-26-2020",
          "Nov-27-2020",
          "Nov-28-2020",
          "Nov-29-2020",
          "Nov-30-2020",
          "Dec-01-2020",
          "Dec-02-2020",
          "Dec-03-2020",
          "Dec-04-2020",
          "Dec-05-2020",
          "Dec-06-2020",
          "Dec-07-2020",
          "Dec-08-2020",
          "Dec-09-2020",
          "Dec-10-2020",
          "Dec-11-2020",
          "Dec-12-2020",
          "Dec-13-2020",
          "Dec-14-2020",
          "Dec-15-2020",
          "Dec-16-2020",
          "Dec-17-2020",
          "Dec-18-2020",
          "Dec-19-2020",
          "Dec-20-2020",
          "Dec-21-2020",
          "Dec-22-2020",
          "Dec-23-2020",
          "Dec-24-2020",
          "Dec-25-2020",
          "Dec-26-2020",
          "Dec-27-2020",
          "Dec-28-2020",
          "Dec-29-2020",
          "Dec-30-2020",
          "Dec-31-2020",
          "Jan-01-2021",
          "Jan-02-2021",
          "Jan-03-2021",
          "Jan-04-2021",
          "Jan-05-2021",
          "Jan-06-2021",
          "Jan-07-2021",
          "Jan-08-2021",
          "Jan-09-2021",
          "Jan-10-2021",
          "Jan-11-2021",
          "Jan-12-2021",
          "Jan-13-2021",
          "Jan-14-2021",
          "Jan-15-2021",
          "Jan-16-2021",
          "Jan-17-2021",
          "Jan-18-2021",
          "Jan-19-2021",
          "Jan-20-2021",
          "Jan-21-2021",
          "Jan-22-2021",
          "Jan-23-2021",
          "Jan-24-2021",
          "Jan-25-2021",
          "Jan-26-2021",
          "Jan-27-2021",
          "Jan-28-2021",
          "Jan-29-2021",
          "Jan-30-2021",
          "Jan-31-2021",
          "Feb-01-2021",
          "Feb-02-2021",
          "Feb-03-2021",
          "Feb-04-2021",
          "Feb-05-2021",
          "Feb-06-2021",
          "Feb-07-2021",
          "Feb-08-2021",
          "Feb-09-2021",
          "Feb-11-2021",
          "Feb-12-2021",
          "Feb-13-2021",
          "Feb-14-2021",
          "Feb-15-2021",
          "Feb-16-2021",
          "Feb-17-2021",
          "Feb-18-2021",
          "Feb-19-2021",
          "Feb-20-2021",
          "Feb-21-2021",
          "Feb-22-2021",
          "Feb-23-2021",
          "Feb-24-2021",
          "Feb-25-2021",
          "Feb-26-2021",
          "Feb-27-2021",
          "Feb-28-2021",
          "Mar-01-2021",
          "Mar-02-2021",
          "Mar-03-2021",
          "Mar-04-2021",
          "Mar-05-2021",
          "Mar-06-2021",
          "Mar-07-2021",
          "Mar-08-2021",
          "Mar-09-2021",
          "Mar-10-2021",
          "Mar-11-2021",
          "Mar-12-2021",
          "Mar-13-2021",
          "Mar-14-2021",
          "Mar-15-2021",
          "Mar-16-2021",
          "Mar-17-2021",
          "Mar-18-2021",
          "Mar-19-2021",
          "Mar-20-2021",
          "Mar-21-2021",
          "Mar-22-2021",
          "Mar-23-2021",
          "Mar-24-2021",
          "Mar-25-2021"
         ],
         "y": [
          18993,
          20419,
          21741,
          22966,
          24171,
          25411,
          26654,
          28217,
          29840,
          31102,
          32657,
          34036,
          35678,
          37693,
          39785,
          41446,
          43734,
          45380,
          48075,
          50166,
          52713,
          55320,
          59050,
          61985,
          64750,
          67778,
          70982,
          73973,
          77002,
          79780,
          83363,
          86381,
          90080,
          93228,
          96990,
          101684,
          105845,
          109470,
          113656,
          117801,
          121547,
          126638,
          131587,
          137544,
          143769,
          148775,
          154907,
          159838,
          164985,
          172183,
          179337,
          185996,
          192118,
          198990,
          205520,
          212011,
          219354,
          227599,
          235704,
          244578,
          254214,
          261581,
          270660,
          278677,
          288812,
          299841,
          309153,
          318321,
          327464,
          338766,
          350859,
          362616,
          374596,
          385219,
          396314,
          407925,
          421382,
          434442,
          450658,
          466168,
          479845,
          493710,
          511170,
          525892,
          545063,
          562728,
          581640,
          598236,
          614412,
          628885,
          646973,
          668068,
          686961,
          706069,
          724870,
          740026,
          753917,
          773506,
          792040,
          814165,
          832514,
          850628,
          864094,
          877593,
          895157,
          912621,
          931777,
          948730,
          961388,
          972287,
          982219,
          997602,
          1011872,
          1025464,
          1039678,
          1052094,
          1061098,
          1069093,
          1078301,
          1088777,
          1101342,
          1113143,
          1123142,
          1132101,
          1140775,
          1151737,
          1162392,
          1172802,
          1183362,
          1192414,
          1199961,
          1207623,
          1216564,
          1225249,
          1233365,
          1241912,
          1250375,
          1257316,
          1264417,
          1273213,
          1281149,
          1289817,
          1297323,
          1305252,
          1312183,
          1319898,
          1328263,
          1336407,
          1345199,
          1352693,
          1359569,
          1366138,
          1372731,
          1380233,
          1389010,
          1397246,
          1405973,
          1413416,
          1420232,
          1427620,
          1436433,
          1444619,
          1452768,
          1459190,
          1467555,
          1473418,
          1480934,
          1489711,
          1496977,
          1506015,
          1514844,
          1522928,
          1527905,
          1534494,
          1545109,
          1556017,
          1564774,
          1578299,
          1587286,
          1593247,
          1601181,
          1612737,
          1621853,
          1632687,
          1646863,
          1655084,
          1665060,
          1674836,
          1685448,
          1696418,
          1707055,
          1718812,
          1727897,
          1738877,
          1747522,
          1759578,
          1770688,
          1784435,
          1795509,
          1805820,
          1813800,
          1824701,
          1838867,
          1854169,
          1866079,
          1881129,
          1893619,
          1903096,
          1916173,
          1930482,
          1946369,
          1961099,
          1975264,
          1987732,
          1998312,
          2011202,
          2026587,
          2040542,
          2056410,
          2069852,
          2082709,
          2092968,
          2105502,
          2120356,
          2134290,
          2150097,
          2163810,
          2176698,
          2187417,
          2198197,
          2214586,
          2230391,
          2248484,
          2263152,
          2276574,
          2287238,
          2300244,
          2320386,
          2339318,
          2358673,
          2376741,
          2393061,
          2404414,
          2422536,
          2443850,
          2464185,
          2483643,
          2504960,
          2523681,
          2540417,
          2560394,
          2585922,
          2612754,
          2638497,
          2659469,
          2678022,
          2693189,
          2713140,
          2743620,
          2773166,
          2800709,
          2823457,
          2845294,
          2867078,
          2894007,
          2929938,
          2965221,
          2965221,
          3001908,
          3037007,
          3067437,
          3095419,
          3121398,
          3157992,
          3191906,
          3223749,
          3251235,
          3278299,
          3300947,
          3324351,
          3352823,
          3380887,
          3407171,
          3434479,
          3454599,
          3472043,
          3490691,
          3511476,
          3532559,
          3551847,
          3569944,
          3585676,
          3598944,
          3614270,
          3630150,
          3646894,
          3662921,
          3676466,
          3688321,
          3701290,
          3712855,
          3739257,
          3753441,
          3764868,
          3775513,
          3785677,
          3795981,
          3809411,
          3823291,
          3834287,
          3845156,
          3854676,
          3864060,
          3872085,
          3883726,
          3896732,
          3907368,
          3915201,
          3924598,
          3934208,
          3942711,
          3953557,
          3966393,
          3975616,
          3985061,
          3993395,
          4003008,
          4011465,
          4022129,
          4037630,
          4047537,
          4057634,
          4066272,
          4075038,
          4083905,
          4095103,
          4106497,
          4119180,
          4129277,
          4138592,
          4148023,
          4157953,
          4168758,
          4181204
         ]
        },
        {
         "line": {
          "width": 3
         },
         "mode": "lines",
         "name": "New_Cases",
         "type": "scatter",
         "x": [
          "Apr-16-2020",
          "Apr-17-2020",
          "Apr-18-2020",
          "Apr-19-2020",
          "Apr-20-2020",
          "Apr-21-2020",
          "Apr-22-2020",
          "Apr-23-2020",
          "Apr-24-2020",
          "Apr-25-2020",
          "Apr-26-2020",
          "Apr-27-2020",
          "Apr-28-2020",
          "Apr-29-2020",
          "Apr-30-2020",
          "May-01-2020",
          "May-02-2020",
          "May-03-2020",
          "May-04-2020",
          "May-05-2020",
          "May-06-2020",
          "May-07-2020",
          "May-08-2020",
          "May-09-2020",
          "May-10-2020",
          "May-11-2020",
          "May-12-2020",
          "May-13-2020",
          "May-14-2020",
          "May-15-2020",
          "May-16-2020",
          "May-17-2020",
          "May-18-2020",
          "May-19-2020",
          "May-20-2020",
          "May-21-2020",
          "May-22-2020",
          "May-23-2020",
          "May-24-2020",
          "May-25-2020",
          "May-26-2020",
          "May-27-2020",
          "May-28-2020",
          "May-29-2020",
          "May-30-2020",
          "May-31-2020",
          "Jun-01-2020",
          "Jun-02-2020",
          "Jun-03-2020",
          "Jun-04-2020",
          "Jun-05-2020",
          "Jun-06-2020",
          "Jun-07-2020",
          "Jun-08-2020",
          "Jun-09-2020",
          "Jun-10-2020",
          "Jun-11-2020",
          "Jun-12-2020",
          "Jun-13-2020",
          "Jun-14-2020",
          "Jun-15-2020",
          "Jun-16-2020",
          "Jun-17-2020",
          "Jun-18-2020",
          "Jun-19-2020",
          "Jun-20-2020",
          "Jun-21-2020",
          "Jun-22-2020",
          "Jun-23-2020",
          "Jun-24-2020",
          "Jun-25-2020",
          "Jun-26-2020",
          "Jun-27-2020",
          "Jun-28-2020",
          "Jun-29-2020",
          "Jun-30-2020",
          "Jul-01-2020",
          "Jul-02-2020",
          "Jul-03-2020",
          "Jul-04-2020",
          "Jul-05-2020",
          "Jul-06-2020",
          "Jul-07-2020",
          "Jul-08-2020",
          "Jul-09-2020",
          "Jul-10-2020",
          "Jul-11-2020",
          "Jul-12-2020",
          "Jul-13-2020",
          "Jul-14-2020",
          "Jul-15-2020",
          "Jul-16-2020",
          "Jul-17-2020",
          "Jul-18-2020",
          "Jul-19-2020",
          "Jul-20-2020",
          "Jul-21-2020",
          "Jul-22-2020",
          "Jul-23-2020",
          "Jul-24-2020",
          "Jul-25-2020",
          "Jul-26-2020",
          "Jul-27-2020",
          "Jul-28-2020",
          "Jul-29-2020",
          "Jul-30-2020",
          "Jul-31-2020",
          "Aug-01-2020",
          "Aug-02-2020",
          "Aug-03-2020",
          "Aug-04-2020",
          "Aug-05-2020",
          "Aug-06-2020",
          "Aug-07-2020",
          "Aug-08-2020",
          "Aug-09-2020",
          "Aug-10-2020",
          "Aug-11-2020",
          "Aug-12-2020",
          "Aug-13-2020",
          "Aug-14-2020",
          "Aug-15-2020",
          "Aug-16-2020",
          "Aug-17-2020",
          "Aug-18-2020",
          "Aug-19-2020",
          "Aug-20-2020",
          "Aug-21-2020",
          "Aug-22-2020",
          "Aug-23-2020",
          "Aug-24-2020",
          "Aug-25-2020",
          "Aug-26-2020",
          "Aug-27-2020",
          "Aug-28-2020",
          "Aug-29-2020",
          "Aug-30-2020",
          "Aug-31-2020",
          "Sep-01-2020",
          "Sep-02-2020",
          "Sep-03-2020",
          "Sep-04-2020",
          "Sep-05-2020",
          "Sep-06-2020",
          "Sep-07-2020",
          "Sep-08-2020",
          "Sep-09-2020",
          "Sep-10-2020",
          "Sep-11-2020",
          "Sep-12-2020",
          "Sep-13-2020",
          "Sep-14-2020",
          "Sep-15-2020",
          "Sep-16-2020",
          "Sep-17-2020",
          "Sep-18-2020",
          "Sep-19-2020",
          "Sep-20-2020",
          "Sep-21-2020",
          "Sep-22-2020",
          "Sep-23-2020",
          "Sep-24-2020",
          "Sep-25-2020",
          "Sep-26-2020",
          "Sep-27-2020",
          "Sep-28-2020",
          "Sep-29-2020",
          "Sep-30-2020",
          "Oct-01-2020",
          "Oct-02-2020",
          "Oct-03-2020",
          "Oct-04-2020",
          "Oct-05-2020",
          "Oct-06-2020",
          "Oct-07-2020",
          "Oct-08-2020",
          "Oct-09-2020",
          "Oct-10-2020",
          "Oct-11-2020",
          "Oct-12-2020",
          "Oct-13-2020",
          "Oct-14-2020",
          "Oct-15-2020",
          "Oct-16-2020",
          "Oct-17-2020",
          "Oct-18-2020",
          "Oct-19-2020",
          "Oct-20-2020",
          "Oct-21-2020",
          "Oct-22-2020",
          "Oct-23-2020",
          "Oct-24-2020",
          "Oct-25-2020",
          "Oct-26-2020",
          "Oct-27-2020",
          "Oct-28-2020",
          "Oct-29-2020",
          "Oct-30-2020",
          "Oct-31-2020",
          "Nov-01-2020",
          "Nov-02-2020",
          "Nov-03-2020",
          "Nov-04-2020",
          "Nov-05-2020",
          "Nov-06-2020",
          "Nov-07-2020",
          "Nov-08-2020",
          "Nov-09-2020",
          "Nov-10-2020",
          "Nov-11-2020",
          "Nov-12-2020",
          "Nov-13-2020",
          "Nov-14-2020",
          "Nov-15-2020",
          "Nov-16-2020",
          "Nov-17-2020",
          "Nov-18-2020",
          "Nov-19-2020",
          "Nov-20-2020",
          "Nov-21-2020",
          "Nov-22-2020",
          "Nov-23-2020",
          "Nov-24-2020",
          "Nov-25-2020",
          "Nov-26-2020",
          "Nov-27-2020",
          "Nov-28-2020",
          "Nov-29-2020",
          "Nov-30-2020",
          "Dec-01-2020",
          "Dec-02-2020",
          "Dec-03-2020",
          "Dec-04-2020",
          "Dec-05-2020",
          "Dec-06-2020",
          "Dec-07-2020",
          "Dec-08-2020",
          "Dec-09-2020",
          "Dec-10-2020",
          "Dec-11-2020",
          "Dec-12-2020",
          "Dec-13-2020",
          "Dec-14-2020",
          "Dec-15-2020",
          "Dec-16-2020",
          "Dec-17-2020",
          "Dec-18-2020",
          "Dec-19-2020",
          "Dec-20-2020",
          "Dec-21-2020",
          "Dec-22-2020",
          "Dec-23-2020",
          "Dec-24-2020",
          "Dec-25-2020",
          "Dec-26-2020",
          "Dec-27-2020",
          "Dec-28-2020",
          "Dec-29-2020",
          "Dec-30-2020",
          "Dec-31-2020",
          "Jan-01-2021",
          "Jan-02-2021",
          "Jan-03-2021",
          "Jan-04-2021",
          "Jan-05-2021",
          "Jan-06-2021",
          "Jan-07-2021",
          "Jan-08-2021",
          "Jan-09-2021",
          "Jan-10-2021",
          "Jan-11-2021",
          "Jan-12-2021",
          "Jan-13-2021",
          "Jan-14-2021",
          "Jan-15-2021",
          "Jan-16-2021",
          "Jan-17-2021",
          "Jan-18-2021",
          "Jan-19-2021",
          "Jan-20-2021",
          "Jan-21-2021",
          "Jan-22-2021",
          "Jan-23-2021",
          "Jan-24-2021",
          "Jan-25-2021",
          "Jan-26-2021",
          "Jan-27-2021",
          "Jan-28-2021",
          "Jan-29-2021",
          "Jan-30-2021",
          "Jan-31-2021",
          "Feb-01-2021",
          "Feb-02-2021",
          "Feb-03-2021",
          "Feb-04-2021",
          "Feb-05-2021",
          "Feb-06-2021",
          "Feb-07-2021",
          "Feb-08-2021",
          "Feb-09-2021",
          "Feb-11-2021",
          "Feb-12-2021",
          "Feb-13-2021",
          "Feb-14-2021",
          "Feb-15-2021",
          "Feb-16-2021",
          "Feb-17-2021",
          "Feb-18-2021",
          "Feb-19-2021",
          "Feb-20-2021",
          "Feb-21-2021",
          "Feb-22-2021",
          "Feb-23-2021",
          "Feb-24-2021",
          "Feb-25-2021",
          "Feb-26-2021",
          "Feb-27-2021",
          "Feb-28-2021",
          "Mar-01-2021",
          "Mar-02-2021",
          "Mar-03-2021",
          "Mar-04-2021",
          "Mar-05-2021",
          "Mar-06-2021",
          "Mar-07-2021",
          "Mar-08-2021",
          "Mar-09-2021",
          "Mar-10-2021",
          "Mar-11-2021",
          "Mar-12-2021",
          "Mar-13-2021",
          "Mar-14-2021",
          "Mar-15-2021",
          "Mar-16-2021",
          "Mar-17-2021",
          "Mar-18-2021",
          "Mar-19-2021",
          "Mar-20-2021",
          "Mar-21-2021",
          "Mar-22-2021",
          "Mar-23-2021",
          "Mar-24-2021",
          "Mar-25-2021"
         ],
         "y": [
          1166,
          1426,
          1322,
          1225,
          1205,
          1240,
          1243,
          1436,
          1623,
          1262,
          1555,
          1357,
          1642,
          2017,
          2093,
          1661,
          2294,
          1589,
          2695,
          2091,
          2547,
          2607,
          3731,
          2935,
          2765,
          3035,
          3204,
          2991,
          3029,
          2778,
          3588,
          3018,
          3699,
          3357,
          3762,
          4798,
          4161,
          3625,
          4186,
          4145,
          3746,
          5091,
          4949,
          5957,
          6225,
          5006,
          6132,
          4931,
          5147,
          7198,
          7154,
          6659,
          6122,
          6872,
          6530,
          6491,
          7343,
          8245,
          8105,
          8874,
          9636,
          7368,
          9079,
          8017,
          10135,
          10386,
          9312,
          9168,
          9143,
          11302,
          12093,
          11757,
          11980,
          10623,
          10910,
          11611,
          13457,
          13060,
          16216,
          15510,
          13677,
          13865,
          17460,
          14722,
          19171,
          17665,
          18912,
          16596,
          16176,
          14473,
          18057,
          20489,
          18893,
          19108,
          18801,
          15156,
          13891,
          19454,
          18464,
          22125,
          18349,
          18114,
          13470,
          13499,
          17564,
          17464,
          19156,
          16953,
          12658,
          10899,
          9759,
          15383,
          14270,
          13563,
          14209,
          12416,
          8914,
          7995,
          9208,
          10476,
          12565,
          11801,
          9999,
          8959,
          8674,
          10962,
          10655,
          10349,
          10560,
          9052,
          7795,
          7662,
          8941,
          8685,
          8116,
          8547,
          8463,
          6941,
          7101,
          8796,
          7889,
          8669,
          7506,
          7890,
          6931,
          7715,
          8365,
          8144,
          8792,
          7494,
          6805,
          6569,
          6593,
          7499,
          8610,
          8236,
          8727,
          7443,
          6668,
          7365,
          8813,
          8186,
          8149,
          6422,
          8365,
          5863,
          7509,
          8763,
          7260,
          8952,
          8829,
          8084,
          4977,
          6589,
          10615,
          10770,
          8757,
          13525,
          8987,
          5961,
          7934,
          11556,
          9116,
          9506,
          14176,
          8221,
          9976,
          9776,
          10612,
          10970,
          10637,
          11757,
          9085,
          8778,
          8645,
          12056,
          10975,
          13742,
          11074,
          10244,
          7980,
          10894,
          13855,
          15302,
          11910,
          14997,
          12490,
          9371,
          13077,
          14163,
          15617,
          14730,
          14068,
          12468,
          10580,
          12890,
          15346,
          13849,
          15867,
          13442,
          12857,
          10259,
          12534,
          14835,
          13934,
          15783,
          13389,
          12885,
          10353,
          10780,
          16389,
          15691,
          16690,
          14668,
          13422,
          10651,
          13046,
          19805,
          18932,
          19355,
          18068,
          16320,
          11353,
          17976,
          21275,
          20279,
          19458,
          21317,
          18721,
          16596,
          19977,
          25307,
          26832,
          25743,
          20972,
          18553,
          15167,
          19935,
          30480,
          29547,
          27543,
          22748,
          21837,
          21753,
          26857,
          35032,
          35266,
          35266,
          36687,
          35099,
          30354,
          27982,
          25877,
          36594,
          33914,
          31843,
          27486,
          26456,
          22648,
          23404,
          28410,
          27661,
          26284,
          26475,
          20106,
          16597,
          18648,
          20702,
          20435,
          18752,
          17102,
          15732,
          13268,
          15326,
          15858,
          16744,
          15953,
          13398,
          11527,
          12202,
          11565,
          12372,
          13172,
          11427,
          10045,
          9965,
          10304,
          13226,
          13880,
          10773,
          10869,
          9520,
          9384,
          8025,
          11641,
          12678,
          10584,
          7833,
          8771,
          9610,
          8503,
          10165,
          12836,
          9223,
          9423,
          8260,
          9346,
          8457,
          10452,
          13271,
          9848,
          10097,
          8579,
          8489,
          8746,
          11188,
          11354,
          12530,
          9267,
          9315,
          9109,
          9930,
          10783,
          12268
         ]
        },
        {
         "line": {
          "width": 3
         },
         "mode": "lines",
         "name": "Total_Deaths",
         "type": "scatter",
         "x": [
          "Apr-16-2020",
          "Apr-17-2020",
          "Apr-18-2020",
          "Apr-19-2020",
          "Apr-20-2020",
          "Apr-21-2020",
          "Apr-22-2020",
          "Apr-23-2020",
          "Apr-24-2020",
          "Apr-25-2020",
          "Apr-26-2020",
          "Apr-27-2020",
          "Apr-28-2020",
          "Apr-29-2020",
          "Apr-30-2020",
          "May-01-2020",
          "May-02-2020",
          "May-03-2020",
          "May-04-2020",
          "May-05-2020",
          "May-06-2020",
          "May-07-2020",
          "May-08-2020",
          "May-09-2020",
          "May-10-2020",
          "May-11-2020",
          "May-12-2020",
          "May-13-2020",
          "May-14-2020",
          "May-15-2020",
          "May-16-2020",
          "May-17-2020",
          "May-18-2020",
          "May-19-2020",
          "May-20-2020",
          "May-21-2020",
          "May-22-2020",
          "May-23-2020",
          "May-24-2020",
          "May-25-2020",
          "May-26-2020",
          "May-27-2020",
          "May-28-2020",
          "May-29-2020",
          "May-30-2020",
          "May-31-2020",
          "Jun-01-2020",
          "Jun-02-2020",
          "Jun-03-2020",
          "Jun-04-2020",
          "Jun-05-2020",
          "Jun-06-2020",
          "Jun-07-2020",
          "Jun-08-2020",
          "Jun-09-2020",
          "Jun-10-2020",
          "Jun-11-2020",
          "Jun-12-2020",
          "Jun-13-2020",
          "Jun-14-2020",
          "Jun-15-2020",
          "Jun-16-2020",
          "Jun-17-2020",
          "Jun-18-2020",
          "Jun-19-2020",
          "Jun-20-2020",
          "Jun-21-2020",
          "Jun-22-2020",
          "Jun-23-2020",
          "Jun-24-2020",
          "Jun-25-2020",
          "Jun-26-2020",
          "Jun-27-2020",
          "Jun-28-2020",
          "Jun-29-2020",
          "Jun-30-2020",
          "Jul-01-2020",
          "Jul-02-2020",
          "Jul-03-2020",
          "Jul-04-2020",
          "Jul-05-2020",
          "Jul-06-2020",
          "Jul-07-2020",
          "Jul-08-2020",
          "Jul-09-2020",
          "Jul-10-2020",
          "Jul-11-2020",
          "Jul-12-2020",
          "Jul-13-2020",
          "Jul-14-2020",
          "Jul-15-2020",
          "Jul-16-2020",
          "Jul-17-2020",
          "Jul-18-2020",
          "Jul-19-2020",
          "Jul-20-2020",
          "Jul-21-2020",
          "Jul-22-2020",
          "Jul-23-2020",
          "Jul-24-2020",
          "Jul-25-2020",
          "Jul-26-2020",
          "Jul-27-2020",
          "Jul-28-2020",
          "Jul-29-2020",
          "Jul-30-2020",
          "Jul-31-2020",
          "Aug-01-2020",
          "Aug-02-2020",
          "Aug-03-2020",
          "Aug-04-2020",
          "Aug-05-2020",
          "Aug-06-2020",
          "Aug-07-2020",
          "Aug-08-2020",
          "Aug-09-2020",
          "Aug-10-2020",
          "Aug-11-2020",
          "Aug-12-2020",
          "Aug-13-2020",
          "Aug-14-2020",
          "Aug-15-2020",
          "Aug-16-2020",
          "Aug-17-2020",
          "Aug-18-2020",
          "Aug-19-2020",
          "Aug-20-2020",
          "Aug-21-2020",
          "Aug-22-2020",
          "Aug-23-2020",
          "Aug-24-2020",
          "Aug-25-2020",
          "Aug-26-2020",
          "Aug-27-2020",
          "Aug-28-2020",
          "Aug-29-2020",
          "Aug-30-2020",
          "Aug-31-2020",
          "Sep-01-2020",
          "Sep-02-2020",
          "Sep-03-2020",
          "Sep-04-2020",
          "Sep-05-2020",
          "Sep-06-2020",
          "Sep-07-2020",
          "Sep-08-2020",
          "Sep-09-2020",
          "Sep-10-2020",
          "Sep-11-2020",
          "Sep-12-2020",
          "Sep-13-2020",
          "Sep-14-2020",
          "Sep-15-2020",
          "Sep-16-2020",
          "Sep-17-2020",
          "Sep-18-2020",
          "Sep-19-2020",
          "Sep-20-2020",
          "Sep-21-2020",
          "Sep-22-2020",
          "Sep-23-2020",
          "Sep-24-2020",
          "Sep-25-2020",
          "Sep-26-2020",
          "Sep-27-2020",
          "Sep-28-2020",
          "Sep-29-2020",
          "Sep-30-2020",
          "Oct-01-2020",
          "Oct-02-2020",
          "Oct-03-2020",
          "Oct-04-2020",
          "Oct-05-2020",
          "Oct-06-2020",
          "Oct-07-2020",
          "Oct-08-2020",
          "Oct-09-2020",
          "Oct-10-2020",
          "Oct-11-2020",
          "Oct-12-2020",
          "Oct-13-2020",
          "Oct-14-2020",
          "Oct-15-2020",
          "Oct-16-2020",
          "Oct-17-2020",
          "Oct-18-2020",
          "Oct-19-2020",
          "Oct-20-2020",
          "Oct-21-2020",
          "Oct-22-2020",
          "Oct-23-2020",
          "Oct-24-2020",
          "Oct-25-2020",
          "Oct-26-2020",
          "Oct-27-2020",
          "Oct-28-2020",
          "Oct-29-2020",
          "Oct-30-2020",
          "Oct-31-2020",
          "Nov-01-2020",
          "Nov-02-2020",
          "Nov-03-2020",
          "Nov-04-2020",
          "Nov-05-2020",
          "Nov-06-2020",
          "Nov-07-2020",
          "Nov-08-2020",
          "Nov-09-2020",
          "Nov-10-2020",
          "Nov-11-2020",
          "Nov-12-2020",
          "Nov-13-2020",
          "Nov-14-2020",
          "Nov-15-2020",
          "Nov-16-2020",
          "Nov-17-2020",
          "Nov-18-2020",
          "Nov-19-2020",
          "Nov-20-2020",
          "Nov-21-2020",
          "Nov-22-2020",
          "Nov-23-2020",
          "Nov-24-2020",
          "Nov-25-2020",
          "Nov-26-2020",
          "Nov-27-2020",
          "Nov-28-2020",
          "Nov-29-2020",
          "Nov-30-2020",
          "Dec-01-2020",
          "Dec-02-2020",
          "Dec-03-2020",
          "Dec-04-2020",
          "Dec-05-2020",
          "Dec-06-2020",
          "Dec-07-2020",
          "Dec-08-2020",
          "Dec-09-2020",
          "Dec-10-2020",
          "Dec-11-2020",
          "Dec-12-2020",
          "Dec-13-2020",
          "Dec-14-2020",
          "Dec-15-2020",
          "Dec-16-2020",
          "Dec-17-2020",
          "Dec-18-2020",
          "Dec-19-2020",
          "Dec-20-2020",
          "Dec-21-2020",
          "Dec-22-2020",
          "Dec-23-2020",
          "Dec-24-2020",
          "Dec-25-2020",
          "Dec-26-2020",
          "Dec-27-2020",
          "Dec-28-2020",
          "Dec-29-2020",
          "Dec-30-2020",
          "Dec-31-2020",
          "Jan-01-2021",
          "Jan-02-2021",
          "Jan-03-2021",
          "Jan-04-2021",
          "Jan-05-2021",
          "Jan-06-2021",
          "Jan-07-2021",
          "Jan-08-2021",
          "Jan-09-2021",
          "Jan-10-2021",
          "Jan-11-2021",
          "Jan-12-2021",
          "Jan-13-2021",
          "Jan-14-2021",
          "Jan-15-2021",
          "Jan-16-2021",
          "Jan-17-2021",
          "Jan-18-2021",
          "Jan-19-2021",
          "Jan-20-2021",
          "Jan-21-2021",
          "Jan-22-2021",
          "Jan-23-2021",
          "Jan-24-2021",
          "Jan-25-2021",
          "Jan-26-2021",
          "Jan-27-2021",
          "Jan-28-2021",
          "Jan-29-2021",
          "Jan-30-2021",
          "Jan-31-2021",
          "Feb-01-2021",
          "Feb-02-2021",
          "Feb-03-2021",
          "Feb-04-2021",
          "Feb-05-2021",
          "Feb-06-2021",
          "Feb-07-2021",
          "Feb-08-2021",
          "Feb-09-2021",
          "Feb-11-2021",
          "Feb-12-2021",
          "Feb-13-2021",
          "Feb-14-2021",
          "Feb-15-2021",
          "Feb-16-2021",
          "Feb-17-2021",
          "Feb-18-2021",
          "Feb-19-2021",
          "Feb-20-2021",
          "Feb-21-2021",
          "Feb-22-2021",
          "Feb-23-2021",
          "Feb-24-2021",
          "Feb-25-2021",
          "Feb-26-2021",
          "Feb-27-2021",
          "Feb-28-2021",
          "Mar-01-2021",
          "Mar-02-2021",
          "Mar-03-2021",
          "Mar-04-2021",
          "Mar-05-2021",
          "Mar-06-2021",
          "Mar-07-2021",
          "Mar-08-2021",
          "Mar-09-2021",
          "Mar-10-2021",
          "Mar-11-2021",
          "Mar-12-2021",
          "Mar-13-2021",
          "Mar-14-2021",
          "Mar-15-2021",
          "Mar-16-2021",
          "Mar-17-2021",
          "Mar-18-2021",
          "Mar-19-2021",
          "Mar-20-2021",
          "Mar-21-2021",
          "Mar-22-2021",
          "Mar-23-2021",
          "Mar-24-2021",
          "Mar-25-2021"
         ],
         "y": [
          968,
          1020,
          1082,
          1125,
          1164,
          1197,
          1244,
          1298,
          1328,
          1379,
          1427,
          1468,
          1527,
          1592,
          1638,
          1691,
          1763,
          1802,
          1848,
          1917,
          2015,
          2083,
          2161,
          2232,
          2301,
          2355,
          2407,
          2507,
          2578,
          2639,
          2726,
          2777,
          2849,
          2924,
          3010,
          3115,
          3204,
          3267,
          3356,
          3495,
          3613,
          3710,
          3814,
          3945,
          4092,
          4245,
          4369,
          4520,
          4627,
          4783,
          4942,
          5082,
          5215,
          5390,
          5568,
          5717,
          5869,
          6080,
          6283,
          6490,
          6793,
          7026,
          7249,
          7450,
          7713,
          7941,
          8148,
          8371,
          8653,
          8889,
          9104,
          9317,
          9519,
          9698,
          9914,
          10184,
          10443,
          10662,
          10920,
          11117,
          11400,
          11649,
          12015,
          12270,
          12500,
          12809,
          13029,
          13285,
          13504,
          13803,
          14029,
          14442,
          14717,
          14996,
          15210,
          15465,
          15779,
          16482,
          16756,
          17146,
          17570,
          17808,
          18218,
          18540,
          18908,
          19362,
          19726,
          20018,
          20350,
          20671,
          21143,
          21683,
          22114,
          22553,
          22966,
          23324,
          23643,
          23912,
          24322,
          24727,
          25143,
          25383,
          25678,
          25942,
          26357,
          26685,
          27022,
          27374,
          27649,
          27831,
          28051,
          28334,
          28656,
          28910,
          29141,
          29472,
          29633,
          29862,
          30104,
          30370,
          30666,
          30905,
          31131,
          31357,
          31575,
          31801,
          31962,
          32178,
          32410,
          32556,
          32678,
          32849,
          33126,
          33308,
          33484,
          33677,
          33879,
          34008,
          34133,
          34378,
          34583,
          34758,
          34912,
          35080,
          35215,
          35512,
          35729,
          35922,
          36146,
          36288,
          36399,
          36569,
          36697,
          36885,
          37154,
          37452,
          37689,
          37960,
          38168,
          38362,
          38633,
          38896,
          39150,
          39357,
          39622,
          39807,
          39991,
          40289,
          40544,
          40760,
          40985,
          41208,
          41324,
          41672,
          41972,
          42202,
          42404,
          42698,
          42922,
          43244,
          43461,
          43777,
          44012,
          44316,
          44684,
          44918,
          45433,
          45684,
          46025,
          46357,
          46626,
          46906,
          47162,
          47438,
          47775,
          48112,
          48509,
          48785,
          49198,
          49512,
          49802,
          50074,
          50417,
          50736,
          51033,
          51354,
          51589,
          51813,
          52083,
          52340,
          52670,
          52937,
          53377,
          53655,
          53961,
          54209,
          54611,
          54965,
          55357,
          55756,
          56082,
          56428,
          56740,
          57168,
          57526,
          57910,
          58407,
          58855,
          59195,
          59635,
          60155,
          60974,
          61528,
          62052,
          62471,
          62903,
          63449,
          64166,
          64867,
          65566,
          66224,
          66739,
          67344,
          68030,
          68850,
          69960,
          70649,
          70649,
          71559,
          72216,
          72810,
          73491,
          74558,
          75787,
          76840,
          77750,
          78413,
          79011,
          79736,
          80938,
          81863,
          82885,
          83859,
          84641,
          85288,
          86060,
          87043,
          88095,
          89092,
          89939,
          90554,
          91079,
          91587,
          92472,
          93183,
          93751,
          94298,
          94846,
          95203,
          95648,
          96350,
          97385,
          97950,
          98305,
          98601,
          99075,
          99545,
          99948,
          100463,
          100847,
          101140,
          101477,
          101816,
          102286,
          102619,
          102985,
          103303,
          103642,
          103869,
          104184,
          104556,
          104834,
          105165,
          105413,
          105670,
          105900,
          106280,
          106582,
          106883,
          107207,
          107434,
          107730,
          107981,
          108298,
          108603,
          108885,
          109146,
          109700,
          109914,
          110143,
          110405,
          110745,
          111064,
          111450
         ]
        },
        {
         "line": {
          "width": 3
         },
         "mode": "lines",
         "name": "New_Deaths",
         "type": "scatter",
         "x": [
          "Apr-16-2020",
          "Apr-17-2020",
          "Apr-18-2020",
          "Apr-19-2020",
          "Apr-20-2020",
          "Apr-21-2020",
          "Apr-22-2020",
          "Apr-23-2020",
          "Apr-24-2020",
          "Apr-25-2020",
          "Apr-26-2020",
          "Apr-27-2020",
          "Apr-28-2020",
          "Apr-29-2020",
          "Apr-30-2020",
          "May-01-2020",
          "May-02-2020",
          "May-03-2020",
          "May-04-2020",
          "May-05-2020",
          "May-06-2020",
          "May-07-2020",
          "May-08-2020",
          "May-09-2020",
          "May-10-2020",
          "May-11-2020",
          "May-12-2020",
          "May-13-2020",
          "May-14-2020",
          "May-15-2020",
          "May-16-2020",
          "May-17-2020",
          "May-18-2020",
          "May-19-2020",
          "May-20-2020",
          "May-21-2020",
          "May-22-2020",
          "May-23-2020",
          "May-24-2020",
          "May-25-2020",
          "May-26-2020",
          "May-27-2020",
          "May-28-2020",
          "May-29-2020",
          "May-30-2020",
          "May-31-2020",
          "Jun-01-2020",
          "Jun-02-2020",
          "Jun-03-2020",
          "Jun-04-2020",
          "Jun-05-2020",
          "Jun-06-2020",
          "Jun-07-2020",
          "Jun-08-2020",
          "Jun-09-2020",
          "Jun-10-2020",
          "Jun-11-2020",
          "Jun-12-2020",
          "Jun-13-2020",
          "Jun-14-2020",
          "Jun-15-2020",
          "Jun-16-2020",
          "Jun-17-2020",
          "Jun-18-2020",
          "Jun-19-2020",
          "Jun-20-2020",
          "Jun-21-2020",
          "Jun-22-2020",
          "Jun-23-2020",
          "Jun-24-2020",
          "Jun-25-2020",
          "Jun-26-2020",
          "Jun-27-2020",
          "Jun-28-2020",
          "Jun-29-2020",
          "Jun-30-2020",
          "Jul-01-2020",
          "Jul-02-2020",
          "Jul-03-2020",
          "Jul-04-2020",
          "Jul-05-2020",
          "Jul-06-2020",
          "Jul-07-2020",
          "Jul-08-2020",
          "Jul-09-2020",
          "Jul-10-2020",
          "Jul-11-2020",
          "Jul-12-2020",
          "Jul-13-2020",
          "Jul-14-2020",
          "Jul-15-2020",
          "Jul-16-2020",
          "Jul-17-2020",
          "Jul-18-2020",
          "Jul-19-2020",
          "Jul-20-2020",
          "Jul-21-2020",
          "Jul-22-2020",
          "Jul-23-2020",
          "Jul-24-2020",
          "Jul-25-2020",
          "Jul-26-2020",
          "Jul-27-2020",
          "Jul-28-2020",
          "Jul-29-2020",
          "Jul-30-2020",
          "Jul-31-2020",
          "Aug-01-2020",
          "Aug-02-2020",
          "Aug-03-2020",
          "Aug-04-2020",
          "Aug-05-2020",
          "Aug-06-2020",
          "Aug-07-2020",
          "Aug-08-2020",
          "Aug-09-2020",
          "Aug-10-2020",
          "Aug-11-2020",
          "Aug-12-2020",
          "Aug-13-2020",
          "Aug-14-2020",
          "Aug-15-2020",
          "Aug-16-2020",
          "Aug-17-2020",
          "Aug-18-2020",
          "Aug-19-2020",
          "Aug-20-2020",
          "Aug-21-2020",
          "Aug-22-2020",
          "Aug-23-2020",
          "Aug-24-2020",
          "Aug-25-2020",
          "Aug-26-2020",
          "Aug-27-2020",
          "Aug-28-2020",
          "Aug-29-2020",
          "Aug-30-2020",
          "Aug-31-2020",
          "Sep-01-2020",
          "Sep-02-2020",
          "Sep-03-2020",
          "Sep-04-2020",
          "Sep-05-2020",
          "Sep-06-2020",
          "Sep-07-2020",
          "Sep-08-2020",
          "Sep-09-2020",
          "Sep-10-2020",
          "Sep-11-2020",
          "Sep-12-2020",
          "Sep-13-2020",
          "Sep-14-2020",
          "Sep-15-2020",
          "Sep-16-2020",
          "Sep-17-2020",
          "Sep-18-2020",
          "Sep-19-2020",
          "Sep-20-2020",
          "Sep-21-2020",
          "Sep-22-2020",
          "Sep-23-2020",
          "Sep-24-2020",
          "Sep-25-2020",
          "Sep-26-2020",
          "Sep-27-2020",
          "Sep-28-2020",
          "Sep-29-2020",
          "Sep-30-2020",
          "Oct-01-2020",
          "Oct-02-2020",
          "Oct-03-2020",
          "Oct-04-2020",
          "Oct-05-2020",
          "Oct-06-2020",
          "Oct-07-2020",
          "Oct-08-2020",
          "Oct-09-2020",
          "Oct-10-2020",
          "Oct-11-2020",
          "Oct-12-2020",
          "Oct-13-2020",
          "Oct-14-2020",
          "Oct-15-2020",
          "Oct-16-2020",
          "Oct-17-2020",
          "Oct-18-2020",
          "Oct-19-2020",
          "Oct-20-2020",
          "Oct-21-2020",
          "Oct-22-2020",
          "Oct-23-2020",
          "Oct-24-2020",
          "Oct-25-2020",
          "Oct-26-2020",
          "Oct-27-2020",
          "Oct-28-2020",
          "Oct-29-2020",
          "Oct-30-2020",
          "Oct-31-2020",
          "Nov-01-2020",
          "Nov-02-2020",
          "Nov-03-2020",
          "Nov-04-2020",
          "Nov-05-2020",
          "Nov-06-2020",
          "Nov-07-2020",
          "Nov-08-2020",
          "Nov-09-2020",
          "Nov-10-2020",
          "Nov-11-2020",
          "Nov-12-2020",
          "Nov-13-2020",
          "Nov-14-2020",
          "Nov-15-2020",
          "Nov-16-2020",
          "Nov-17-2020",
          "Nov-18-2020",
          "Nov-19-2020",
          "Nov-20-2020",
          "Nov-21-2020",
          "Nov-22-2020",
          "Nov-23-2020",
          "Nov-24-2020",
          "Nov-25-2020",
          "Nov-26-2020",
          "Nov-27-2020",
          "Nov-28-2020",
          "Nov-29-2020",
          "Nov-30-2020",
          "Dec-01-2020",
          "Dec-02-2020",
          "Dec-03-2020",
          "Dec-04-2020",
          "Dec-05-2020",
          "Dec-06-2020",
          "Dec-07-2020",
          "Dec-08-2020",
          "Dec-09-2020",
          "Dec-10-2020",
          "Dec-11-2020",
          "Dec-12-2020",
          "Dec-13-2020",
          "Dec-14-2020",
          "Dec-15-2020",
          "Dec-16-2020",
          "Dec-17-2020",
          "Dec-18-2020",
          "Dec-19-2020",
          "Dec-20-2020",
          "Dec-21-2020",
          "Dec-22-2020",
          "Dec-23-2020",
          "Dec-24-2020",
          "Dec-25-2020",
          "Dec-26-2020",
          "Dec-27-2020",
          "Dec-28-2020",
          "Dec-29-2020",
          "Dec-30-2020",
          "Dec-31-2020",
          "Jan-01-2021",
          "Jan-02-2021",
          "Jan-03-2021",
          "Jan-04-2021",
          "Jan-05-2021",
          "Jan-06-2021",
          "Jan-07-2021",
          "Jan-08-2021",
          "Jan-09-2021",
          "Jan-10-2021",
          "Jan-11-2021",
          "Jan-12-2021",
          "Jan-13-2021",
          "Jan-14-2021",
          "Jan-15-2021",
          "Jan-16-2021",
          "Jan-17-2021",
          "Jan-18-2021",
          "Jan-19-2021",
          "Jan-20-2021",
          "Jan-21-2021",
          "Jan-22-2021",
          "Jan-23-2021",
          "Jan-24-2021",
          "Jan-25-2021",
          "Jan-26-2021",
          "Jan-27-2021",
          "Jan-28-2021",
          "Jan-29-2021",
          "Jan-30-2021",
          "Jan-31-2021",
          "Feb-01-2021",
          "Feb-02-2021",
          "Feb-03-2021",
          "Feb-04-2021",
          "Feb-05-2021",
          "Feb-06-2021",
          "Feb-07-2021",
          "Feb-08-2021",
          "Feb-09-2021",
          "Feb-11-2021",
          "Feb-12-2021",
          "Feb-13-2021",
          "Feb-14-2021",
          "Feb-15-2021",
          "Feb-16-2021",
          "Feb-17-2021",
          "Feb-18-2021",
          "Feb-19-2021",
          "Feb-20-2021",
          "Feb-21-2021",
          "Feb-22-2021",
          "Feb-23-2021",
          "Feb-24-2021",
          "Feb-25-2021",
          "Feb-26-2021",
          "Feb-27-2021",
          "Feb-28-2021",
          "Mar-01-2021",
          "Mar-02-2021",
          "Mar-03-2021",
          "Mar-04-2021",
          "Mar-05-2021",
          "Mar-06-2021",
          "Mar-07-2021",
          "Mar-08-2021",
          "Mar-09-2021",
          "Mar-10-2021",
          "Mar-11-2021",
          "Mar-12-2021",
          "Mar-13-2021",
          "Mar-14-2021",
          "Mar-15-2021",
          "Mar-16-2021",
          "Mar-17-2021",
          "Mar-18-2021",
          "Mar-19-2021",
          "Mar-20-2021",
          "Mar-21-2021",
          "Mar-22-2021",
          "Mar-23-2021",
          "Mar-24-2021",
          "Mar-25-2021"
         ],
         "y": [
          55,
          52,
          62,
          43,
          39,
          33,
          47,
          54,
          30,
          51,
          48,
          39,
          59,
          65,
          46,
          53,
          72,
          37,
          46,
          69,
          98,
          68,
          78,
          71,
          69,
          54,
          52,
          100,
          71,
          61,
          87,
          51,
          72,
          75,
          86,
          105,
          89,
          63,
          89,
          139,
          118,
          97,
          104,
          131,
          147,
          153,
          124,
          151,
          107,
          156,
          159,
          140,
          133,
          173,
          178,
          149,
          152,
          211,
          203,
          207,
          303,
          233,
          223,
          201,
          263,
          210,
          207,
          223,
          282,
          236,
          214,
          213,
          202,
          179,
          216,
          270,
          259,
          219,
          258,
          197,
          284,
          249,
          366,
          255,
          230,
          309,
          220,
          256,
          219,
          299,
          224,
          370,
          275,
          279,
          214,
          255,
          314,
          690,
          274,
          390,
          424,
          238,
          410,
          322,
          368,
          459,
          364,
          292,
          332,
          321,
          472,
          540,
          431,
          439,
          413,
          358,
          319,
          269,
          410,
          405,
          416,
          240,
          295,
          264,
          415,
          328,
          337,
          352,
          275,
          182,
          223,
          283,
          322,
          254,
          231,
          331,
          161,
          226,
          242,
          266,
          296,
          239,
          226,
          226,
          218,
          226,
          192,
          216,
          232,
          146,
          121,
          171,
          277,
          182,
          176,
          197,
          202,
          129,
          135,
          244,
          209,
          175,
          154,
          168,
          135,
          297,
          217,
          193,
          224,
          140,
          111,
          170,
          128,
          188,
          269,
          303,
          237,
          271,
          208,
          194,
          271,
          263,
          254,
          207,
          265,
          185,
          184,
          298,
          255,
          216,
          225,
          223,
          116,
          241,
          182,
          230,
          186,
          294,
          204,
          306,
          217,
          316,
          235,
          302,
          297,
          234,
          238,
          251,
          341,
          332,
          269,
          280,
          256,
          275,
          337,
          337,
          397,
          273,
          413,
          314,
          290,
          269,
          342,
          318,
          297,
          321,
          230,
          224,
          263,
          257,
          330,
          267,
          384,
          278,
          306,
          247,
          402,
          348,
          392,
          399,
          326,
          346,
          312,
          428,
          358,
          383,
          497,
          448,
          340,
          424,
          520,
          623,
          554,
          522,
          419,
          432,
          546,
          717,
          701,
          699,
          658,
          515,
          605,
          686,
          820,
          658,
          689,
          689,
          910,
          657,
          594,
          681,
          1066,
          1229,
          1053,
          909,
          663,
          598,
          725,
          1202,
          924,
          1003,
          956,
          775,
          647,
          637,
          1027,
          1052,
          962,
          844,
          578,
          525,
          508,
          885,
          711,
          568,
          546,
          527,
          352,
          434,
          702,
          498,
          539,
          355,
          296,
          472,
          469,
          401,
          515,
          375,
          293,
          337,
          339,
          470,
          333,
          364,
          317,
          339,
          222,
          315,
          372,
          272,
          331,
          248,
          257,
          225,
          374,
          302,
          300,
          301,
          227,
          296,
          251,
          312,
          304,
          282,
          260,
          553,
          198,
          229,
          262,
          340,
          319,
          376
         ]
        },
        {
         "line": {
          "width": 3
         },
         "mode": "lines",
         "name": "Total_Recovered",
         "type": "scatter",
         "x": [
          "Apr-16-2020",
          "Apr-17-2020",
          "Apr-18-2020",
          "Apr-19-2020",
          "Apr-20-2020",
          "Apr-21-2020",
          "Apr-22-2020",
          "Apr-23-2020",
          "Apr-24-2020",
          "Apr-25-2020",
          "Apr-26-2020",
          "Apr-27-2020",
          "Apr-28-2020",
          "Apr-29-2020",
          "Apr-30-2020",
          "May-01-2020",
          "May-02-2020",
          "May-03-2020",
          "May-04-2020",
          "May-05-2020",
          "May-06-2020",
          "May-07-2020",
          "May-08-2020",
          "May-09-2020",
          "May-10-2020",
          "May-11-2020",
          "May-12-2020",
          "May-13-2020",
          "May-14-2020",
          "May-15-2020",
          "May-16-2020",
          "May-17-2020",
          "May-18-2020",
          "May-19-2020",
          "May-20-2020",
          "May-21-2020",
          "May-22-2020",
          "May-23-2020",
          "May-24-2020",
          "May-25-2020",
          "May-26-2020",
          "May-27-2020",
          "May-28-2020",
          "May-29-2020",
          "May-30-2020",
          "May-31-2020",
          "Jun-01-2020",
          "Jun-02-2020",
          "Jun-03-2020",
          "Jun-04-2020",
          "Jun-05-2020",
          "Jun-06-2020",
          "Jun-07-2020",
          "Jun-08-2020",
          "Jun-09-2020",
          "Jun-10-2020",
          "Jun-11-2020",
          "Jun-12-2020",
          "Jun-13-2020",
          "Jun-14-2020",
          "Jun-15-2020",
          "Jun-16-2020",
          "Jun-17-2020",
          "Jun-18-2020",
          "Jun-19-2020",
          "Jun-20-2020",
          "Jun-21-2020",
          "Jun-22-2020",
          "Jun-23-2020",
          "Jun-24-2020",
          "Jun-25-2020",
          "Jun-26-2020",
          "Jun-27-2020",
          "Jun-28-2020",
          "Jun-29-2020",
          "Jun-30-2020",
          "Jul-01-2020",
          "Jul-02-2020",
          "Jul-03-2020",
          "Jul-04-2020",
          "Jul-05-2020",
          "Jul-06-2020",
          "Jul-07-2020",
          "Jul-08-2020",
          "Jul-09-2020",
          "Jul-10-2020",
          "Jul-11-2020",
          "Jul-12-2020",
          "Jul-13-2020",
          "Jul-14-2020",
          "Jul-15-2020",
          "Jul-16-2020",
          "Jul-17-2020",
          "Jul-18-2020",
          "Jul-19-2020",
          "Jul-20-2020",
          "Jul-21-2020",
          "Jul-22-2020",
          "Jul-23-2020",
          "Jul-24-2020",
          "Jul-25-2020",
          "Jul-26-2020",
          "Jul-27-2020",
          "Jul-28-2020",
          "Jul-29-2020",
          "Jul-30-2020",
          "Jul-31-2020",
          "Aug-01-2020",
          "Aug-02-2020",
          "Aug-03-2020",
          "Aug-04-2020",
          "Aug-05-2020",
          "Aug-06-2020",
          "Aug-07-2020",
          "Aug-08-2020",
          "Aug-09-2020",
          "Aug-10-2020",
          "Aug-11-2020",
          "Aug-12-2020",
          "Aug-13-2020",
          "Aug-14-2020",
          "Aug-15-2020",
          "Aug-16-2020",
          "Aug-17-2020",
          "Aug-18-2020",
          "Aug-19-2020",
          "Aug-20-2020",
          "Aug-21-2020",
          "Aug-22-2020",
          "Aug-23-2020",
          "Aug-24-2020",
          "Aug-25-2020",
          "Aug-26-2020",
          "Aug-27-2020",
          "Aug-28-2020",
          "Aug-29-2020",
          "Aug-30-2020",
          "Aug-31-2020",
          "Sep-01-2020",
          "Sep-02-2020",
          "Sep-03-2020",
          "Sep-04-2020",
          "Sep-05-2020",
          "Sep-06-2020",
          "Sep-07-2020",
          "Sep-08-2020",
          "Sep-09-2020",
          "Sep-10-2020",
          "Sep-11-2020",
          "Sep-12-2020",
          "Sep-13-2020",
          "Sep-14-2020",
          "Sep-15-2020",
          "Sep-16-2020",
          "Sep-17-2020",
          "Sep-18-2020",
          "Sep-19-2020",
          "Sep-20-2020",
          "Sep-21-2020",
          "Sep-22-2020",
          "Sep-23-2020",
          "Sep-24-2020",
          "Sep-25-2020",
          "Sep-26-2020",
          "Sep-27-2020",
          "Sep-28-2020",
          "Sep-29-2020",
          "Sep-30-2020",
          "Oct-01-2020",
          "Oct-02-2020",
          "Oct-03-2020",
          "Oct-04-2020",
          "Oct-05-2020",
          "Oct-06-2020",
          "Oct-07-2020",
          "Oct-08-2020",
          "Oct-09-2020",
          "Oct-10-2020",
          "Oct-11-2020",
          "Oct-12-2020",
          "Oct-13-2020",
          "Oct-14-2020",
          "Oct-15-2020",
          "Oct-16-2020",
          "Oct-17-2020",
          "Oct-18-2020",
          "Oct-19-2020",
          "Oct-20-2020",
          "Oct-21-2020",
          "Oct-22-2020",
          "Oct-23-2020",
          "Oct-24-2020",
          "Oct-25-2020",
          "Oct-26-2020",
          "Oct-27-2020",
          "Oct-28-2020",
          "Oct-29-2020",
          "Oct-30-2020",
          "Oct-31-2020",
          "Nov-01-2020",
          "Nov-02-2020",
          "Nov-03-2020",
          "Nov-04-2020",
          "Nov-05-2020",
          "Nov-06-2020",
          "Nov-07-2020",
          "Nov-08-2020",
          "Nov-09-2020",
          "Nov-10-2020",
          "Nov-11-2020",
          "Nov-12-2020",
          "Nov-13-2020",
          "Nov-14-2020",
          "Nov-15-2020",
          "Nov-16-2020",
          "Nov-17-2020",
          "Nov-18-2020",
          "Nov-19-2020",
          "Nov-20-2020",
          "Nov-21-2020",
          "Nov-22-2020",
          "Nov-23-2020",
          "Nov-24-2020",
          "Nov-25-2020",
          "Nov-26-2020",
          "Nov-27-2020",
          "Nov-28-2020",
          "Nov-29-2020",
          "Nov-30-2020",
          "Dec-01-2020",
          "Dec-02-2020",
          "Dec-03-2020",
          "Dec-04-2020",
          "Dec-05-2020",
          "Dec-06-2020",
          "Dec-07-2020",
          "Dec-08-2020",
          "Dec-09-2020",
          "Dec-10-2020",
          "Dec-11-2020",
          "Dec-12-2020",
          "Dec-13-2020",
          "Dec-14-2020",
          "Dec-15-2020",
          "Dec-16-2020",
          "Dec-17-2020",
          "Dec-18-2020",
          "Dec-19-2020",
          "Dec-20-2020",
          "Dec-21-2020",
          "Dec-22-2020",
          "Dec-23-2020",
          "Dec-24-2020",
          "Dec-25-2020",
          "Dec-26-2020",
          "Dec-27-2020",
          "Dec-28-2020",
          "Dec-29-2020",
          "Dec-30-2020",
          "Dec-31-2020",
          "Jan-01-2021",
          "Jan-02-2021",
          "Jan-03-2021",
          "Jan-04-2021",
          "Jan-05-2021",
          "Jan-06-2021",
          "Jan-07-2021",
          "Jan-08-2021",
          "Jan-09-2021",
          "Jan-10-2021",
          "Jan-11-2021",
          "Jan-12-2021",
          "Jan-13-2021",
          "Jan-14-2021",
          "Jan-15-2021",
          "Jan-16-2021",
          "Jan-17-2021",
          "Jan-18-2021",
          "Jan-19-2021",
          "Jan-20-2021",
          "Jan-21-2021",
          "Jan-22-2021",
          "Jan-23-2021",
          "Jan-24-2021",
          "Jan-25-2021",
          "Jan-26-2021",
          "Jan-27-2021",
          "Jan-28-2021",
          "Jan-29-2021",
          "Jan-30-2021",
          "Jan-31-2021",
          "Feb-01-2021",
          "Feb-02-2021",
          "Feb-03-2021",
          "Feb-04-2021",
          "Feb-05-2021",
          "Feb-06-2021",
          "Feb-07-2021",
          "Feb-08-2021",
          "Feb-09-2021",
          "Feb-11-2021",
          "Feb-12-2021",
          "Feb-13-2021",
          "Feb-14-2021",
          "Feb-15-2021",
          "Feb-16-2021",
          "Feb-17-2021",
          "Feb-18-2021",
          "Feb-19-2021",
          "Feb-20-2021",
          "Feb-21-2021",
          "Feb-22-2021",
          "Feb-23-2021",
          "Feb-24-2021",
          "Feb-25-2021",
          "Feb-26-2021",
          "Feb-27-2021",
          "Feb-28-2021",
          "Mar-01-2021",
          "Mar-02-2021",
          "Mar-03-2021",
          "Mar-04-2021",
          "Mar-05-2021",
          "Mar-06-2021",
          "Mar-07-2021",
          "Mar-08-2021",
          "Mar-09-2021",
          "Mar-10-2021",
          "Mar-11-2021",
          "Mar-12-2021",
          "Mar-13-2021",
          "Mar-14-2021",
          "Mar-15-2021",
          "Mar-16-2021",
          "Mar-17-2021",
          "Mar-18-2021",
          "Mar-19-2021",
          "Mar-20-2021",
          "Mar-21-2021",
          "Mar-22-2021",
          "Mar-23-2021",
          "Mar-24-2021",
          "Mar-25-2021"
         ],
         "y": [
          4585,
          4958,
          5470,
          5840,
          6451,
          6770,
          7315,
          8534,
          9140,
          9530,
          10018,
          10575,
          11868,
          12630,
          13070,
          13918,
          14664,
          15137,
          16231,
          16977,
          18286,
          19099,
          19839,
          21649,
          22643,
          23961,
          24819,
          26250,
          28186,
          30210,
          32103,
          33496,
          34879,
          36802,
          39428,
          40588,
          42881,
          44166,
          46063,
          47813,
          49902,
          52623,
          55126,
          58197,
          60987,
          63463,
          65931,
          68985,
          72380,
          75830,
          80324,
          83432,
          84919,
          88212,
          92914,
          97163,
          100711,
          105092,
          108835,
          112243,
          116730,
          120949,
          125580,
          128347,
          135176,
          144985,
          148863,
          153242,
          156968,
          163507,
          168752,
          175652,
          181179,
          185243,
          189722,
          195397,
          200995,
          209616,
          217705,
          224808,
          230016,
          238464,
          247734,
          255857,
          265783,
          274778,
          287924,
          298194,
          305852,
          316780,
          335800,
          346500,
          363494,
          370715,
          383351,
          392264,
          412654,
          438288,
          449637,
          465357,
          487462,
          494224,
          510089,
          527821,
          544168,
          559906,
          583665,
          606320,
          615344,
          632929,
          655407,
          677208,
          693620,
          707877,
          723688,
          736638,
          747414,
          761619,
          772365,
          783617,
          814407,
          828034,
          838452,
          849723,
          862564,
          874088,
          884480,
          892304,
          902901,
          909724,
          925220,
          934192,
          945475,
          957854,
          964846,
          972908,
          979996,
          987398,
          1002554,
          1011064,
          1017753,
          1025872,
          1033734,
          1040454,
          1049529,
          1055312,
          1063653,
          1072778,
          1080227,
          1096779,
          1104047,
          1110971,
          1121263,
          1131194,
          1138173,
          1145275,
          1153639,
          1158805,
          1166475,
          1173809,
          1180677,
          1190410,
          1199597,
          1207311,
          1213045,
          1218331,
          1225806,
          1233125,
          1239450,
          1246159,
          1253356,
          1260391,
          1268405,
          1275086,
          1286083,
          1292200,
          1299430,
          1305456,
          1311335,
          1318297,
          1323354,
          1330252,
          1336611,
          1343499,
          1352602,
          1361855,
          1367151,
          1376599,
          1384275,
          1390786,
          1398172,
          1405116,
          1412173,
          1421870,
          1429087,
          1436462,
          1444345,
          1455052,
          1462964,
          1472758,
          1481404,
          1489152,
          1497854,
          1548650,
          1560777,
          1582702,
          1595468,
          1603562,
          1613406,
          1629090,
          1641278,
          1650737,
          1660706,
          1668055,
          1680971,
          1691074,
          1709279,
          1720252,
          1735165,
          1743655,
          1753722,
          1766116,
          1781815,
          1791355,
          1800758,
          1815904,
          1825367,
          1841027,
          1853303,
          1863025,
          1876437,
          1902660,
          1916577,
          1928679,
          1936646,
          1947529,
          1965422,
          1977560,
          1991341,
          2003870,
          2014826,
          2023832,
          2033838,
          2047032,
          2066966,
          2081503,
          2092290,
          2103442,
          2116964,
          2126614,
          2153642,
          2165927,
          2187766,
          2203865,
          2222857,
          2237159,
          2248807,
          2268172,
          2289691,
          2309250,
          2324776,
          2340971,
          2352621,
          2368319,
          2386814,
          2407081,
          2425976,
          2425976,
          2444863,
          2461292,
          2478507,
          2494196,
          2550285,
          2574282,
          2605269,
          2628487,
          2661465,
          2687882,
          2718040,
          2755482,
          2784381,
          2821895,
          2851959,
          2879164,
          2904640,
          2935117,
          2960635,
          2983192,
          3002587,
          3026867,
          3045741,
          3064238,
          3085758,
          3109935,
          3126186,
          3140920,
          3161353,
          3176627,
          3205417,
          3220115,
          3234247,
          3268948,
          3284079,
          3294362,
          3303174,
          3317277,
          3331862,
          3346363,
          3360902,
          3374788,
          3385819,
          3395724,
          3406267,
          3421548,
          3434828,
          3450747,
          3465594,
          3475121,
          3484084,
          3492194,
          3504610,
          3516663,
          3527350,
          3536724,
          3548192,
          3555476,
          3565569,
          3578347,
          3589011,
          3604089,
          3614207,
          3625987,
          3635701,
          3645966,
          3656333,
          3664665,
          3674421,
          3682851,
          3689361,
          3697455,
          3706720,
          3717254,
          3725900,
          3738001
         ]
        },
        {
         "line": {
          "width": 3
         },
         "mode": "lines",
         "name": "Active_Cases",
         "type": "scatter",
         "x": [
          "Apr-16-2020",
          "Apr-17-2020",
          "Apr-18-2020",
          "Apr-19-2020",
          "Apr-20-2020",
          "Apr-21-2020",
          "Apr-22-2020",
          "Apr-23-2020",
          "Apr-24-2020",
          "Apr-25-2020",
          "Apr-26-2020",
          "Apr-27-2020",
          "Apr-28-2020",
          "Apr-29-2020",
          "Apr-30-2020",
          "May-01-2020",
          "May-02-2020",
          "May-03-2020",
          "May-04-2020",
          "May-05-2020",
          "May-06-2020",
          "May-07-2020",
          "May-08-2020",
          "May-09-2020",
          "May-10-2020",
          "May-11-2020",
          "May-12-2020",
          "May-13-2020",
          "May-14-2020",
          "May-15-2020",
          "May-16-2020",
          "May-17-2020",
          "May-18-2020",
          "May-19-2020",
          "May-20-2020",
          "May-21-2020",
          "May-22-2020",
          "May-23-2020",
          "May-24-2020",
          "May-25-2020",
          "May-26-2020",
          "May-27-2020",
          "May-28-2020",
          "May-29-2020",
          "May-30-2020",
          "May-31-2020",
          "Jun-01-2020",
          "Jun-02-2020",
          "Jun-03-2020",
          "Jun-04-2020",
          "Jun-05-2020",
          "Jun-06-2020",
          "Jun-07-2020",
          "Jun-08-2020",
          "Jun-09-2020",
          "Jun-10-2020",
          "Jun-11-2020",
          "Jun-12-2020",
          "Jun-13-2020",
          "Jun-14-2020",
          "Jun-15-2020",
          "Jun-16-2020",
          "Jun-17-2020",
          "Jun-18-2020",
          "Jun-19-2020",
          "Jun-20-2020",
          "Jun-21-2020",
          "Jun-22-2020",
          "Jun-23-2020",
          "Jun-24-2020",
          "Jun-25-2020",
          "Jun-26-2020",
          "Jun-27-2020",
          "Jun-28-2020",
          "Jun-29-2020",
          "Jun-30-2020",
          "Jul-01-2020",
          "Jul-02-2020",
          "Jul-03-2020",
          "Jul-04-2020",
          "Jul-05-2020",
          "Jul-06-2020",
          "Jul-07-2020",
          "Jul-08-2020",
          "Jul-09-2020",
          "Jul-10-2020",
          "Jul-11-2020",
          "Jul-12-2020",
          "Jul-13-2020",
          "Jul-14-2020",
          "Jul-15-2020",
          "Jul-16-2020",
          "Jul-17-2020",
          "Jul-18-2020",
          "Jul-19-2020",
          "Jul-20-2020",
          "Jul-21-2020",
          "Jul-22-2020",
          "Jul-23-2020",
          "Jul-24-2020",
          "Jul-25-2020",
          "Jul-26-2020",
          "Jul-27-2020",
          "Jul-28-2020",
          "Jul-29-2020",
          "Jul-30-2020",
          "Jul-31-2020",
          "Aug-01-2020",
          "Aug-02-2020",
          "Aug-03-2020",
          "Aug-04-2020",
          "Aug-05-2020",
          "Aug-06-2020",
          "Aug-07-2020",
          "Aug-08-2020",
          "Aug-09-2020",
          "Aug-10-2020",
          "Aug-11-2020",
          "Aug-12-2020",
          "Aug-13-2020",
          "Aug-14-2020",
          "Aug-15-2020",
          "Aug-16-2020",
          "Aug-17-2020",
          "Aug-18-2020",
          "Aug-19-2020",
          "Aug-20-2020",
          "Aug-21-2020",
          "Aug-22-2020",
          "Aug-23-2020",
          "Aug-24-2020",
          "Aug-25-2020",
          "Aug-26-2020",
          "Aug-27-2020",
          "Aug-28-2020",
          "Aug-29-2020",
          "Aug-30-2020",
          "Aug-31-2020",
          "Sep-01-2020",
          "Sep-02-2020",
          "Sep-03-2020",
          "Sep-04-2020",
          "Sep-05-2020",
          "Sep-06-2020",
          "Sep-07-2020",
          "Sep-08-2020",
          "Sep-09-2020",
          "Sep-10-2020",
          "Sep-11-2020",
          "Sep-12-2020",
          "Sep-13-2020",
          "Sep-14-2020",
          "Sep-15-2020",
          "Sep-16-2020",
          "Sep-17-2020",
          "Sep-18-2020",
          "Sep-19-2020",
          "Sep-20-2020",
          "Sep-21-2020",
          "Sep-22-2020",
          "Sep-23-2020",
          "Sep-24-2020",
          "Sep-25-2020",
          "Sep-26-2020",
          "Sep-27-2020",
          "Sep-28-2020",
          "Sep-29-2020",
          "Sep-30-2020",
          "Oct-01-2020",
          "Oct-02-2020",
          "Oct-03-2020",
          "Oct-04-2020",
          "Oct-05-2020",
          "Oct-06-2020",
          "Oct-07-2020",
          "Oct-08-2020",
          "Oct-09-2020",
          "Oct-10-2020",
          "Oct-11-2020",
          "Oct-12-2020",
          "Oct-13-2020",
          "Oct-14-2020",
          "Oct-15-2020",
          "Oct-16-2020",
          "Oct-17-2020",
          "Oct-18-2020",
          "Oct-19-2020",
          "Oct-20-2020",
          "Oct-21-2020",
          "Oct-22-2020",
          "Oct-23-2020",
          "Oct-24-2020",
          "Oct-25-2020",
          "Oct-26-2020",
          "Oct-27-2020",
          "Oct-28-2020",
          "Oct-29-2020",
          "Oct-30-2020",
          "Oct-31-2020",
          "Nov-01-2020",
          "Nov-02-2020",
          "Nov-03-2020",
          "Nov-04-2020",
          "Nov-05-2020",
          "Nov-06-2020",
          "Nov-07-2020",
          "Nov-08-2020",
          "Nov-09-2020",
          "Nov-10-2020",
          "Nov-11-2020",
          "Nov-12-2020",
          "Nov-13-2020",
          "Nov-14-2020",
          "Nov-15-2020",
          "Nov-16-2020",
          "Nov-17-2020",
          "Nov-18-2020",
          "Nov-19-2020",
          "Nov-20-2020",
          "Nov-21-2020",
          "Nov-22-2020",
          "Nov-23-2020",
          "Nov-24-2020",
          "Nov-25-2020",
          "Nov-26-2020",
          "Nov-27-2020",
          "Nov-28-2020",
          "Nov-29-2020",
          "Nov-30-2020",
          "Dec-01-2020",
          "Dec-02-2020",
          "Dec-03-2020",
          "Dec-04-2020",
          "Dec-05-2020",
          "Dec-06-2020",
          "Dec-07-2020",
          "Dec-08-2020",
          "Dec-09-2020",
          "Dec-10-2020",
          "Dec-11-2020",
          "Dec-12-2020",
          "Dec-13-2020",
          "Dec-14-2020",
          "Dec-15-2020",
          "Dec-16-2020",
          "Dec-17-2020",
          "Dec-18-2020",
          "Dec-19-2020",
          "Dec-20-2020",
          "Dec-21-2020",
          "Dec-22-2020",
          "Dec-23-2020",
          "Dec-24-2020",
          "Dec-25-2020",
          "Dec-26-2020",
          "Dec-27-2020",
          "Dec-28-2020",
          "Dec-29-2020",
          "Dec-30-2020",
          "Dec-31-2020",
          "Jan-01-2021",
          "Jan-02-2021",
          "Jan-03-2021",
          "Jan-04-2021",
          "Jan-05-2021",
          "Jan-06-2021",
          "Jan-07-2021",
          "Jan-08-2021",
          "Jan-09-2021",
          "Jan-10-2021",
          "Jan-11-2021",
          "Jan-12-2021",
          "Jan-13-2021",
          "Jan-14-2021",
          "Jan-15-2021",
          "Jan-16-2021",
          "Jan-17-2021",
          "Jan-18-2021",
          "Jan-19-2021",
          "Jan-20-2021",
          "Jan-21-2021",
          "Jan-22-2021",
          "Jan-23-2021",
          "Jan-24-2021",
          "Jan-25-2021",
          "Jan-26-2021",
          "Jan-27-2021",
          "Jan-28-2021",
          "Jan-29-2021",
          "Jan-30-2021",
          "Jan-31-2021",
          "Feb-01-2021",
          "Feb-02-2021",
          "Feb-03-2021",
          "Feb-04-2021",
          "Feb-05-2021",
          "Feb-06-2021",
          "Feb-07-2021",
          "Feb-08-2021",
          "Feb-09-2021",
          "Feb-11-2021",
          "Feb-12-2021",
          "Feb-13-2021",
          "Feb-14-2021",
          "Feb-15-2021",
          "Feb-16-2021",
          "Feb-17-2021",
          "Feb-18-2021",
          "Feb-19-2021",
          "Feb-20-2021",
          "Feb-21-2021",
          "Feb-22-2021",
          "Feb-23-2021",
          "Feb-24-2021",
          "Feb-25-2021",
          "Feb-26-2021",
          "Feb-27-2021",
          "Feb-28-2021",
          "Mar-01-2021",
          "Mar-02-2021",
          "Mar-03-2021",
          "Mar-04-2021",
          "Mar-05-2021",
          "Mar-06-2021",
          "Mar-07-2021",
          "Mar-08-2021",
          "Mar-09-2021",
          "Mar-10-2021",
          "Mar-11-2021",
          "Mar-12-2021",
          "Mar-13-2021",
          "Mar-14-2021",
          "Mar-15-2021",
          "Mar-16-2021",
          "Mar-17-2021",
          "Mar-18-2021",
          "Mar-19-2021",
          "Mar-20-2021",
          "Mar-21-2021",
          "Mar-22-2021",
          "Mar-23-2021",
          "Mar-24-2021",
          "Mar-25-2021"
         ],
         "y": [
          13440,
          14441,
          15189,
          16001,
          16556,
          17444,
          18095,
          18385,
          19372,
          20193,
          21212,
          21993,
          22283,
          23471,
          25077,
          25837,
          27307,
          28441,
          29996,
          31272,
          32412,
          34138,
          37050,
          38104,
          39806,
          41462,
          43756,
          45216,
          46238,
          46931,
          48534,
          50108,
          52352,
          53502,
          54552,
          57981,
          59760,
          62037,
          64237,
          66493,
          68032,
          70305,
          72647,
          75402,
          78690,
          81067,
          84607,
          86333,
          87978,
          91570,
          94071,
          97482,
          101984,
          105388,
          107038,
          109131,
          112774,
          116427,
          120586,
          125845,
          130691,
          133606,
          137831,
          142880,
          145923,
          146915,
          152142,
          156708,
          161843,
          166370,
          173003,
          177647,
          183898,
          190278,
          196678,
          202344,
          209944,
          214164,
          222033,
          230243,
          238429,
          243597,
          251421,
          257765,
          266780,
          275141,
          280687,
          286757,
          295056,
          298302,
          297144,
          307126,
          308750,
          320358,
          326309,
          332297,
          325484,
          318736,
          325647,
          331662,
          327482,
          338596,
          335787,
          331232,
          332081,
          333353,
          328386,
          322392,
          325694,
          318687,
          305669,
          298711,
          296138,
          295034,
          293024,
          292132,
          290041,
          283562,
          281614,
          280433,
          261792,
          259726,
          259012,
          256436,
          251854,
          250964,
          250890,
          253124,
          252812,
          254859,
          246690,
          245097,
          242433,
          238485,
          239378,
          239532,
          240746,
          240056,
          231759,
          231779,
          232730,
          233040,
          232458,
          233441,
          231079,
          232785,
          232648,
          231451,
          232562,
          223358,
          222844,
          222318,
          218342,
          215731,
          217353,
          218294,
          218455,
          220603,
          219624,
          219433,
          221173,
          219451,
          218259,
          216799,
          219295,
          219575,
          219399,
          220664,
          221381,
          223568,
          225089,
          225968,
          222803,
          222523,
          221872,
          226365,
          227655,
          234883,
          237783,
          236588,
          239194,
          243589,
          246092,
          249831,
          254639,
          253422,
          257918,
          257948,
          260629,
          264872,
          267898,
          272488,
          274400,
          275335,
          276463,
          280914,
          283939,
          286685,
          289623,
          289818,
          288935,
          291772,
          297001,
          261203,
          260618,
          253509,
          252718,
          253850,
          256742,
          255035,
          258465,
          263456,
          267396,
          272239,
          269566,
          272016,
          268799,
          271505,
          272047,
          276685,
          279185,
          276778,
          273270,
          278265,
          282499,
          282839,
          286854,
          283858,
          282031,
          282832,
          285479,
          274794,
          278530,
          280818,
          285967,
          285500,
          280211,
          287861,
          292620,
          299047,
          305833,
          312801,
          313836,
          318336,
          319358,
          324772,
          332946,
          342663,
          347522,
          354168,
          346597,
          359021,
          363460,
          372580,
          374141,
          377960,
          380933,
          380802,
          389062,
          398350,
          409709,
          415747,
          425329,
          430729,
          438343,
          452897,
          468596,
          468596,
          485486,
          503499,
          516120,
          527732,
          496555,
          507923,
          509797,
          517512,
          511357,
          511406,
          503171,
          487931,
          486579,
          476107,
          471353,
          470674,
          464671,
          450866,
          443013,
          440189,
          440880,
          435041,
          433649,
          430359,
          421599,
          411863,
          410781,
          412223,
          407270,
          404993,
          387701,
          385527,
          382258,
          372924,
          371412,
          372201,
          373738,
          369325,
          364574,
          363100,
          361926,
          358652,
          358197,
          357475,
          355977,
          348251,
          346279,
          343000,
          338471,
          336438,
          336645,
          337830,
          333545,
          332060,
          333878,
          333479,
          331199,
          332019,
          331159,
          326536,
          326235,
          326334,
          325896,
          323917,
          322590,
          320774,
          318969,
          321553,
          322930,
          326629,
          330002,
          330994,
          330898,
          329954,
          331794,
          331753
         ]
        },
        {
         "line": {
          "width": 3
         },
         "mode": "lines",
         "name": "Serious_Critical",
         "type": "scatter",
         "x": [
          "Apr-16-2020",
          "Apr-17-2020",
          "Apr-18-2020",
          "Apr-19-2020",
          "Apr-20-2020",
          "Apr-21-2020",
          "Apr-22-2020",
          "Apr-23-2020",
          "Apr-24-2020",
          "Apr-25-2020",
          "Apr-26-2020",
          "Apr-27-2020",
          "Apr-28-2020",
          "Apr-29-2020",
          "Apr-30-2020",
          "May-01-2020",
          "May-02-2020",
          "May-03-2020",
          "May-04-2020",
          "May-05-2020",
          "May-06-2020",
          "May-07-2020",
          "May-08-2020",
          "May-09-2020",
          "May-10-2020",
          "May-11-2020",
          "May-12-2020",
          "May-13-2020",
          "May-14-2020",
          "May-15-2020",
          "May-16-2020",
          "May-17-2020",
          "May-18-2020",
          "May-19-2020",
          "May-20-2020",
          "May-21-2020",
          "May-22-2020",
          "May-23-2020",
          "May-24-2020",
          "May-25-2020",
          "May-26-2020",
          "May-27-2020",
          "May-28-2020",
          "May-29-2020",
          "May-30-2020",
          "May-31-2020",
          "Jun-01-2020",
          "Jun-02-2020",
          "Jun-03-2020",
          "Jun-04-2020",
          "Jun-05-2020",
          "Jun-06-2020",
          "Jun-07-2020",
          "Jun-08-2020",
          "Jun-09-2020",
          "Jun-10-2020",
          "Jun-11-2020",
          "Jun-12-2020",
          "Jun-13-2020",
          "Jun-14-2020",
          "Jun-15-2020",
          "Jun-16-2020",
          "Jun-17-2020",
          "Jun-18-2020",
          "Jun-19-2020",
          "Jun-20-2020",
          "Jun-21-2020",
          "Jun-22-2020",
          "Jun-23-2020",
          "Jun-24-2020",
          "Jun-25-2020",
          "Jun-26-2020",
          "Jun-27-2020",
          "Jun-28-2020",
          "Jun-29-2020",
          "Jun-30-2020",
          "Jul-01-2020",
          "Jul-02-2020",
          "Jul-03-2020",
          "Jul-04-2020",
          "Jul-05-2020",
          "Jul-06-2020",
          "Jul-07-2020",
          "Jul-08-2020",
          "Jul-09-2020",
          "Jul-10-2020",
          "Jul-11-2020",
          "Jul-12-2020",
          "Jul-13-2020",
          "Jul-14-2020",
          "Jul-15-2020",
          "Jul-16-2020",
          "Jul-17-2020",
          "Jul-18-2020",
          "Jul-19-2020",
          "Jul-20-2020",
          "Jul-21-2020",
          "Jul-22-2020",
          "Jul-23-2020",
          "Jul-24-2020",
          "Jul-25-2020",
          "Jul-26-2020",
          "Jul-27-2020",
          "Jul-28-2020",
          "Jul-29-2020",
          "Jul-30-2020",
          "Jul-31-2020",
          "Aug-01-2020",
          "Aug-02-2020",
          "Aug-03-2020",
          "Aug-04-2020",
          "Aug-05-2020",
          "Aug-06-2020",
          "Aug-07-2020",
          "Aug-08-2020",
          "Aug-09-2020",
          "Aug-10-2020",
          "Aug-11-2020",
          "Aug-12-2020",
          "Aug-13-2020",
          "Aug-14-2020",
          "Aug-15-2020",
          "Aug-16-2020",
          "Aug-17-2020",
          "Aug-18-2020",
          "Aug-19-2020",
          "Aug-20-2020",
          "Aug-21-2020",
          "Aug-22-2020",
          "Aug-23-2020",
          "Aug-24-2020",
          "Aug-25-2020",
          "Aug-26-2020",
          "Aug-27-2020",
          "Aug-28-2020",
          "Aug-29-2020",
          "Aug-30-2020",
          "Aug-31-2020",
          "Sep-01-2020",
          "Sep-02-2020",
          "Sep-03-2020",
          "Sep-04-2020",
          "Sep-05-2020",
          "Sep-06-2020",
          "Sep-07-2020",
          "Sep-08-2020",
          "Sep-09-2020",
          "Sep-10-2020",
          "Sep-11-2020",
          "Sep-12-2020",
          "Sep-13-2020",
          "Sep-14-2020",
          "Sep-15-2020",
          "Sep-16-2020",
          "Sep-17-2020",
          "Sep-18-2020",
          "Sep-19-2020",
          "Sep-20-2020",
          "Sep-21-2020",
          "Sep-22-2020",
          "Sep-23-2020",
          "Sep-24-2020",
          "Sep-25-2020",
          "Sep-26-2020",
          "Sep-27-2020",
          "Sep-28-2020",
          "Sep-29-2020",
          "Sep-30-2020",
          "Oct-01-2020",
          "Oct-02-2020",
          "Oct-03-2020",
          "Oct-04-2020",
          "Oct-05-2020",
          "Oct-06-2020",
          "Oct-07-2020",
          "Oct-08-2020",
          "Oct-09-2020",
          "Oct-10-2020",
          "Oct-11-2020",
          "Oct-12-2020",
          "Oct-13-2020",
          "Oct-14-2020",
          "Oct-15-2020",
          "Oct-16-2020",
          "Oct-17-2020",
          "Oct-18-2020",
          "Oct-19-2020",
          "Oct-20-2020",
          "Oct-21-2020",
          "Oct-22-2020",
          "Oct-23-2020",
          "Oct-24-2020",
          "Oct-25-2020",
          "Oct-26-2020",
          "Oct-27-2020",
          "Oct-28-2020",
          "Oct-29-2020",
          "Oct-30-2020",
          "Oct-31-2020",
          "Nov-01-2020",
          "Nov-02-2020",
          "Nov-03-2020",
          "Nov-04-2020",
          "Nov-05-2020",
          "Nov-06-2020",
          "Nov-07-2020",
          "Nov-08-2020",
          "Nov-09-2020",
          "Nov-10-2020",
          "Nov-11-2020",
          "Nov-12-2020",
          "Nov-13-2020",
          "Nov-14-2020",
          "Nov-15-2020",
          "Nov-16-2020",
          "Nov-17-2020",
          "Nov-18-2020",
          "Nov-19-2020",
          "Nov-20-2020",
          "Nov-21-2020",
          "Nov-22-2020",
          "Nov-23-2020",
          "Nov-24-2020",
          "Nov-25-2020",
          "Nov-26-2020",
          "Nov-27-2020",
          "Nov-28-2020",
          "Nov-29-2020",
          "Nov-30-2020",
          "Dec-01-2020",
          "Dec-02-2020",
          "Dec-03-2020",
          "Dec-04-2020",
          "Dec-05-2020",
          "Dec-06-2020",
          "Dec-07-2020",
          "Dec-08-2020",
          "Dec-09-2020",
          "Dec-10-2020",
          "Dec-11-2020",
          "Dec-12-2020",
          "Dec-13-2020",
          "Dec-14-2020",
          "Dec-15-2020",
          "Dec-16-2020",
          "Dec-17-2020",
          "Dec-18-2020",
          "Dec-19-2020",
          "Dec-20-2020",
          "Dec-21-2020",
          "Dec-22-2020",
          "Dec-23-2020",
          "Dec-24-2020",
          "Dec-25-2020",
          "Dec-26-2020",
          "Dec-27-2020",
          "Dec-28-2020",
          "Dec-29-2020",
          "Dec-30-2020",
          "Dec-31-2020",
          "Jan-01-2021",
          "Jan-02-2021",
          "Jan-03-2021",
          "Jan-04-2021",
          "Jan-05-2021",
          "Jan-06-2021",
          "Jan-07-2021",
          "Jan-08-2021",
          "Jan-09-2021",
          "Jan-10-2021",
          "Jan-11-2021",
          "Jan-12-2021",
          "Jan-13-2021",
          "Jan-14-2021",
          "Jan-15-2021",
          "Jan-16-2021",
          "Jan-17-2021",
          "Jan-18-2021",
          "Jan-19-2021",
          "Jan-20-2021",
          "Jan-21-2021",
          "Jan-22-2021",
          "Jan-23-2021",
          "Jan-24-2021",
          "Jan-25-2021",
          "Jan-26-2021",
          "Jan-27-2021",
          "Jan-28-2021",
          "Jan-29-2021",
          "Jan-30-2021",
          "Jan-31-2021",
          "Feb-01-2021",
          "Feb-02-2021",
          "Feb-03-2021",
          "Feb-04-2021",
          "Feb-05-2021",
          "Feb-06-2021",
          "Feb-07-2021",
          "Feb-08-2021",
          "Feb-09-2021",
          "Feb-11-2021",
          "Feb-12-2021",
          "Feb-13-2021",
          "Feb-14-2021",
          "Feb-15-2021",
          "Feb-16-2021",
          "Feb-17-2021",
          "Feb-18-2021",
          "Feb-19-2021",
          "Feb-20-2021",
          "Feb-21-2021",
          "Feb-22-2021",
          "Feb-23-2021",
          "Feb-24-2021",
          "Feb-25-2021",
          "Feb-26-2021",
          "Feb-27-2021",
          "Feb-28-2021",
          "Mar-01-2021",
          "Mar-02-2021",
          "Mar-03-2021",
          "Mar-04-2021",
          "Mar-05-2021",
          "Mar-06-2021",
          "Mar-07-2021",
          "Mar-08-2021",
          "Mar-09-2021",
          "Mar-10-2021",
          "Mar-11-2021",
          "Mar-12-2021",
          "Mar-13-2021",
          "Mar-14-2021",
          "Mar-15-2021",
          "Mar-16-2021",
          "Mar-17-2021",
          "Mar-18-2021",
          "Mar-19-2021",
          "Mar-20-2021",
          "Mar-21-2021",
          "Mar-22-2021",
          "Mar-23-2021",
          "Mar-24-2021",
          "Mar-25-2021"
         ],
         "y": [
          180,
          187,
          195,
          174,
          177,
          164,
          174,
          173,
          148,
          155,
          140,
          138,
          120,
          122,
          126,
          126,
          127,
          132,
          129,
          128,
          128,
          176,
          223,
          217,
          235,
          224,
          219,
          258,
          290,
          288,
          289,
          288,
          285,
          284,
          287,
          285,
          296,
          306,
          323,
          327,
          334,
          349,
          352,
          356,
          370,
          346,
          347,
          425,
          435,
          449,
          443,
          463,
          469,
          490,
          499,
          499,
          511,
          526,
          524,
          515,
          517,
          500,
          493,
          506,
          499,
          481,
          491,
          502,
          504,
          847,
          885,
          881,
          904,
          907,
          924,
          920,
          919,
          916,
          1797,
          944,
          945,
          956,
          950,
          964,
          952,
          965,
          978,
          969,
          994,
          982,
          990,
          1003,
          1030,
          1066,
          1061,
          1047,
          1046,
          1044,
          1068,
          1091,
          1086,
          1091,
          1094,
          1124,
          1120,
          1160,
          1138,
          1151,
          1150,
          1149,
          1149,
          1188,
          1187,
          1196,
          1206,
          1200,
          1161,
          1207,
          1211,
          1188,
          1190,
          1196,
          1210,
          1210,
          1214,
          1206,
          1190,
          1202,
          1207,
          1218,
          1212,
          1258,
          1271,
          1282,
          1289,
          1264,
          1278,
          1270,
          1262,
          1278,
          1445,
          1418,
          1421,
          1421,
          1434,
          1469,
          1468,
          1500,
          1486,
          1486,
          1503,
          1504,
          1428,
          1434,
          1457,
          1451,
          1466,
          1457,
          1465,
          1402,
          1463,
          1455,
          1530,
          1557,
          1515,
          1568,
          1621,
          1609,
          1599,
          1602,
          1576,
          1633,
          1638,
          1607,
          1569,
          1617,
          1640,
          1668,
          1720,
          1685,
          1771,
          1774,
          1829,
          1861,
          1845,
          1850,
          1855,
          1932,
          1961,
          1995,
          2063,
          2060,
          2133,
          2189,
          2191,
          2231,
          2241,
          2295,
          2284,
          2315,
          2341,
          2389,
          2419,
          2428,
          2423,
          2448,
          2434,
          2443,
          2475,
          2482,
          2509,
          2540,
          2609,
          2594,
          2573,
          2575,
          2573,
          2600,
          2607,
          2577,
          2570,
          2558,
          2560,
          2549,
          2584,
          2559,
          2590,
          2601,
          2615,
          2619,
          2594,
          2573,
          2559,
          2551,
          2542,
          2528,
          2528,
          2535,
          2534,
          2549,
          2587,
          2620,
          2624,
          2691,
          2704,
          2761,
          2759,
          2709,
          2734,
          2729,
          2727,
          2602,
          2534,
          2458,
          2487,
          2442,
          2433,
          2446,
          2447,
          2449,
          2433,
          2442,
          2472,
          2500,
          2430,
          2368,
          2379,
          2379,
          2517,
          2468,
          2482,
          2489,
          2560,
          2957,
          2581,
          2598,
          2644,
          2635,
          2699,
          2610,
          2608,
          2588,
          2668,
          2750,
          2800,
          2805,
          2765,
          2765,
          2796,
          2750,
          2765,
          2727,
          2721,
          2669,
          2645,
          2593,
          2603,
          2533,
          2491,
          2497,
          2559,
          2540,
          2517,
          2499,
          2422,
          2439,
          2417,
          2407,
          2420,
          2387,
          2442,
          2480,
          2478,
          2513,
          2521,
          2527,
          2580,
          2528,
          2555,
          2533,
          2500,
          2484,
          2474,
          2505,
          2482,
          2498,
          2584,
          2579,
          2592,
          2580,
          2605,
          2531,
          2546,
          2599,
          2648,
          2619,
          2599,
          2597,
          2551,
          2578,
          2630,
          2666,
          2742,
          2721
         ]
        }
       ],
       "layout": {
        "legend": {
         "bgcolor": "rgba(255, 255, 255, 0)",
         "bordercolor": "rgba(255, 255, 255, 0)",
         "traceorder": "normal",
         "x": 0.07,
         "y": 0.98
        },
        "template": {
         "data": {
          "bar": [
           {
            "error_x": {
             "color": "#2a3f5f"
            },
            "error_y": {
             "color": "#2a3f5f"
            },
            "marker": {
             "line": {
              "color": "#E5ECF6",
              "width": 0.5
             }
            },
            "type": "bar"
           }
          ],
          "barpolar": [
           {
            "marker": {
             "line": {
              "color": "#E5ECF6",
              "width": 0.5
             }
            },
            "type": "barpolar"
           }
          ],
          "carpet": [
           {
            "aaxis": {
             "endlinecolor": "#2a3f5f",
             "gridcolor": "white",
             "linecolor": "white",
             "minorgridcolor": "white",
             "startlinecolor": "#2a3f5f"
            },
            "baxis": {
             "endlinecolor": "#2a3f5f",
             "gridcolor": "white",
             "linecolor": "white",
             "minorgridcolor": "white",
             "startlinecolor": "#2a3f5f"
            },
            "type": "carpet"
           }
          ],
          "choropleth": [
           {
            "colorbar": {
             "outlinewidth": 0,
             "ticks": ""
            },
            "type": "choropleth"
           }
          ],
          "contour": [
           {
            "colorbar": {
             "outlinewidth": 0,
             "ticks": ""
            },
            "colorscale": [
             [
              0,
              "#0d0887"
             ],
             [
              0.1111111111111111,
              "#46039f"
             ],
             [
              0.2222222222222222,
              "#7201a8"
             ],
             [
              0.3333333333333333,
              "#9c179e"
             ],
             [
              0.4444444444444444,
              "#bd3786"
             ],
             [
              0.5555555555555556,
              "#d8576b"
             ],
             [
              0.6666666666666666,
              "#ed7953"
             ],
             [
              0.7777777777777778,
              "#fb9f3a"
             ],
             [
              0.8888888888888888,
              "#fdca26"
             ],
             [
              1,
              "#f0f921"
             ]
            ],
            "type": "contour"
           }
          ],
          "contourcarpet": [
           {
            "colorbar": {
             "outlinewidth": 0,
             "ticks": ""
            },
            "type": "contourcarpet"
           }
          ],
          "heatmap": [
           {
            "colorbar": {
             "outlinewidth": 0,
             "ticks": ""
            },
            "colorscale": [
             [
              0,
              "#0d0887"
             ],
             [
              0.1111111111111111,
              "#46039f"
             ],
             [
              0.2222222222222222,
              "#7201a8"
             ],
             [
              0.3333333333333333,
              "#9c179e"
             ],
             [
              0.4444444444444444,
              "#bd3786"
             ],
             [
              0.5555555555555556,
              "#d8576b"
             ],
             [
              0.6666666666666666,
              "#ed7953"
             ],
             [
              0.7777777777777778,
              "#fb9f3a"
             ],
             [
              0.8888888888888888,
              "#fdca26"
             ],
             [
              1,
              "#f0f921"
             ]
            ],
            "type": "heatmap"
           }
          ],
          "heatmapgl": [
           {
            "colorbar": {
             "outlinewidth": 0,
             "ticks": ""
            },
            "colorscale": [
             [
              0,
              "#0d0887"
             ],
             [
              0.1111111111111111,
              "#46039f"
             ],
             [
              0.2222222222222222,
              "#7201a8"
             ],
             [
              0.3333333333333333,
              "#9c179e"
             ],
             [
              0.4444444444444444,
              "#bd3786"
             ],
             [
              0.5555555555555556,
              "#d8576b"
             ],
             [
              0.6666666666666666,
              "#ed7953"
             ],
             [
              0.7777777777777778,
              "#fb9f3a"
             ],
             [
              0.8888888888888888,
              "#fdca26"
             ],
             [
              1,
              "#f0f921"
             ]
            ],
            "type": "heatmapgl"
           }
          ],
          "histogram": [
           {
            "marker": {
             "colorbar": {
              "outlinewidth": 0,
              "ticks": ""
             }
            },
            "type": "histogram"
           }
          ],
          "histogram2d": [
           {
            "colorbar": {
             "outlinewidth": 0,
             "ticks": ""
            },
            "colorscale": [
             [
              0,
              "#0d0887"
             ],
             [
              0.1111111111111111,
              "#46039f"
             ],
             [
              0.2222222222222222,
              "#7201a8"
             ],
             [
              0.3333333333333333,
              "#9c179e"
             ],
             [
              0.4444444444444444,
              "#bd3786"
             ],
             [
              0.5555555555555556,
              "#d8576b"
             ],
             [
              0.6666666666666666,
              "#ed7953"
             ],
             [
              0.7777777777777778,
              "#fb9f3a"
             ],
             [
              0.8888888888888888,
              "#fdca26"
             ],
             [
              1,
              "#f0f921"
             ]
            ],
            "type": "histogram2d"
           }
          ],
          "histogram2dcontour": [
           {
            "colorbar": {
             "outlinewidth": 0,
             "ticks": ""
            },
            "colorscale": [
             [
              0,
              "#0d0887"
             ],
             [
              0.1111111111111111,
              "#46039f"
             ],
             [
              0.2222222222222222,
              "#7201a8"
             ],
             [
              0.3333333333333333,
              "#9c179e"
             ],
             [
              0.4444444444444444,
              "#bd3786"
             ],
             [
              0.5555555555555556,
              "#d8576b"
             ],
             [
              0.6666666666666666,
              "#ed7953"
             ],
             [
              0.7777777777777778,
              "#fb9f3a"
             ],
             [
              0.8888888888888888,
              "#fdca26"
             ],
             [
              1,
              "#f0f921"
             ]
            ],
            "type": "histogram2dcontour"
           }
          ],
          "mesh3d": [
           {
            "colorbar": {
             "outlinewidth": 0,
             "ticks": ""
            },
            "type": "mesh3d"
           }
          ],
          "parcoords": [
           {
            "line": {
             "colorbar": {
              "outlinewidth": 0,
              "ticks": ""
             }
            },
            "type": "parcoords"
           }
          ],
          "scatter": [
           {
            "marker": {
             "colorbar": {
              "outlinewidth": 0,
              "ticks": ""
             }
            },
            "type": "scatter"
           }
          ],
          "scatter3d": [
           {
            "line": {
             "colorbar": {
              "outlinewidth": 0,
              "ticks": ""
             }
            },
            "marker": {
             "colorbar": {
              "outlinewidth": 0,
              "ticks": ""
             }
            },
            "type": "scatter3d"
           }
          ],
          "scattercarpet": [
           {
            "marker": {
             "colorbar": {
              "outlinewidth": 0,
              "ticks": ""
             }
            },
            "type": "scattercarpet"
           }
          ],
          "scattergeo": [
           {
            "marker": {
             "colorbar": {
              "outlinewidth": 0,
              "ticks": ""
             }
            },
            "type": "scattergeo"
           }
          ],
          "scattergl": [
           {
            "marker": {
             "colorbar": {
              "outlinewidth": 0,
              "ticks": ""
             }
            },
            "type": "scattergl"
           }
          ],
          "scattermapbox": [
           {
            "marker": {
             "colorbar": {
              "outlinewidth": 0,
              "ticks": ""
             }
            },
            "type": "scattermapbox"
           }
          ],
          "scatterpolar": [
           {
            "marker": {
             "colorbar": {
              "outlinewidth": 0,
              "ticks": ""
             }
            },
            "type": "scatterpolar"
           }
          ],
          "scatterpolargl": [
           {
            "marker": {
             "colorbar": {
              "outlinewidth": 0,
              "ticks": ""
             }
            },
            "type": "scatterpolargl"
           }
          ],
          "scatterternary": [
           {
            "marker": {
             "colorbar": {
              "outlinewidth": 0,
              "ticks": ""
             }
            },
            "type": "scatterternary"
           }
          ],
          "surface": [
           {
            "colorbar": {
             "outlinewidth": 0,
             "ticks": ""
            },
            "colorscale": [
             [
              0,
              "#0d0887"
             ],
             [
              0.1111111111111111,
              "#46039f"
             ],
             [
              0.2222222222222222,
              "#7201a8"
             ],
             [
              0.3333333333333333,
              "#9c179e"
             ],
             [
              0.4444444444444444,
              "#bd3786"
             ],
             [
              0.5555555555555556,
              "#d8576b"
             ],
             [
              0.6666666666666666,
              "#ed7953"
             ],
             [
              0.7777777777777778,
              "#fb9f3a"
             ],
             [
              0.8888888888888888,
              "#fdca26"
             ],
             [
              1,
              "#f0f921"
             ]
            ],
            "type": "surface"
           }
          ],
          "table": [
           {
            "cells": {
             "fill": {
              "color": "#EBF0F8"
             },
             "line": {
              "color": "white"
             }
            },
            "header": {
             "fill": {
              "color": "#C8D4E3"
             },
             "line": {
              "color": "white"
             }
            },
            "type": "table"
           }
          ]
         },
         "layout": {
          "annotationdefaults": {
           "arrowcolor": "#2a3f5f",
           "arrowhead": 0,
           "arrowwidth": 1
          },
          "colorscale": {
           "diverging": [
            [
             0,
             "#8e0152"
            ],
            [
             0.1,
             "#c51b7d"
            ],
            [
             0.2,
             "#de77ae"
            ],
            [
             0.3,
             "#f1b6da"
            ],
            [
             0.4,
             "#fde0ef"
            ],
            [
             0.5,
             "#f7f7f7"
            ],
            [
             0.6,
             "#e6f5d0"
            ],
            [
             0.7,
             "#b8e186"
            ],
            [
             0.8,
             "#7fbc41"
            ],
            [
             0.9,
             "#4d9221"
            ],
            [
             1,
             "#276419"
            ]
           ],
           "sequential": [
            [
             0,
             "#0d0887"
            ],
            [
             0.1111111111111111,
             "#46039f"
            ],
            [
             0.2222222222222222,
             "#7201a8"
            ],
            [
             0.3333333333333333,
             "#9c179e"
            ],
            [
             0.4444444444444444,
             "#bd3786"
            ],
            [
             0.5555555555555556,
             "#d8576b"
            ],
            [
             0.6666666666666666,
             "#ed7953"
            ],
            [
             0.7777777777777778,
             "#fb9f3a"
            ],
            [
             0.8888888888888888,
             "#fdca26"
            ],
            [
             1,
             "#f0f921"
            ]
           ],
           "sequentialminus": [
            [
             0,
             "#0d0887"
            ],
            [
             0.1111111111111111,
             "#46039f"
            ],
            [
             0.2222222222222222,
             "#7201a8"
            ],
            [
             0.3333333333333333,
             "#9c179e"
            ],
            [
             0.4444444444444444,
             "#bd3786"
            ],
            [
             0.5555555555555556,
             "#d8576b"
            ],
            [
             0.6666666666666666,
             "#ed7953"
            ],
            [
             0.7777777777777778,
             "#fb9f3a"
            ],
            [
             0.8888888888888888,
             "#fdca26"
            ],
            [
             1,
             "#f0f921"
            ]
           ]
          },
          "colorway": [
           "#636efa",
           "#EF553B",
           "#00cc96",
           "#ab63fa",
           "#FFA15A",
           "#19d3f3",
           "#FF6692",
           "#B6E880",
           "#FF97FF",
           "#FECB52"
          ],
          "font": {
           "color": "#2a3f5f"
          },
          "geo": {
           "bgcolor": "white",
           "lakecolor": "white",
           "landcolor": "#E5ECF6",
           "showlakes": true,
           "showland": true,
           "subunitcolor": "white"
          },
          "hoverlabel": {
           "align": "left"
          },
          "hovermode": "closest",
          "mapbox": {
           "style": "light"
          },
          "paper_bgcolor": "white",
          "plot_bgcolor": "#E5ECF6",
          "polar": {
           "angularaxis": {
            "gridcolor": "white",
            "linecolor": "white",
            "ticks": ""
           },
           "bgcolor": "#E5ECF6",
           "radialaxis": {
            "gridcolor": "white",
            "linecolor": "white",
            "ticks": ""
           }
          },
          "scene": {
           "xaxis": {
            "backgroundcolor": "#E5ECF6",
            "gridcolor": "white",
            "gridwidth": 2,
            "linecolor": "white",
            "showbackground": true,
            "ticks": "",
            "zerolinecolor": "white"
           },
           "yaxis": {
            "backgroundcolor": "#E5ECF6",
            "gridcolor": "white",
            "gridwidth": 2,
            "linecolor": "white",
            "showbackground": true,
            "ticks": "",
            "zerolinecolor": "white"
           },
           "zaxis": {
            "backgroundcolor": "#E5ECF6",
            "gridcolor": "white",
            "gridwidth": 2,
            "linecolor": "white",
            "showbackground": true,
            "ticks": "",
            "zerolinecolor": "white"
           }
          },
          "shapedefaults": {
           "line": {
            "color": "#2a3f5f"
           }
          },
          "ternary": {
           "aaxis": {
            "gridcolor": "white",
            "linecolor": "white",
            "ticks": ""
           },
           "baxis": {
            "gridcolor": "white",
            "linecolor": "white",
            "ticks": ""
           },
           "bgcolor": "#E5ECF6",
           "caxis": {
            "gridcolor": "white",
            "linecolor": "white",
            "ticks": ""
           }
          },
          "title": {
           "x": 0.05
          },
          "xaxis": {
           "automargin": true,
           "gridcolor": "white",
           "linecolor": "white",
           "ticks": "",
           "zerolinecolor": "white",
           "zerolinewidth": 2
          },
          "yaxis": {
           "automargin": true,
           "gridcolor": "white",
           "linecolor": "white",
           "ticks": "",
           "zerolinecolor": "white",
           "zerolinewidth": 2
          }
         }
        },
        "title": {
         "text": "<b>COVID19 CASES IN AFRICA: March 25, 2021</b>",
         "x": 0.5,
         "xanchor": "center",
         "y": 0.9,
         "yanchor": "top"
        },
        "xaxis": {
         "nticks": 30,
         "tickangle": 90,
         "title": {
          "font": {
           "color": "#BDBDBD",
           "size": 18
          },
          "text": "<b>Date</b>"
         }
        },
        "yaxis": {
         "title": {
          "font": {
           "color": "#4D4B4B",
           "size": 18
          },
          "text": "<b>Cases</b>"
         }
        }
       }
      },
      "text/html": [
       "<div>\n",
       "        \n",
       "        \n",
       "            <div id=\"d34ad417-1eb8-4a87-9915-36fbfc10980d\" class=\"plotly-graph-div\" style=\"height:525px; width:100%;\"></div>\n",
       "            <script type=\"text/javascript\">\n",
       "                require([\"plotly\"], function(Plotly) {\n",
       "                    window.PLOTLYENV=window.PLOTLYENV || {};\n",
       "                    \n",
       "                if (document.getElementById(\"d34ad417-1eb8-4a87-9915-36fbfc10980d\")) {\n",
       "                    Plotly.newPlot(\n",
       "                        'd34ad417-1eb8-4a87-9915-36fbfc10980d',\n",
       "                        [{\"line\": {\"width\": 3}, \"mode\": \"lines\", \"name\": \"Total_Cases\", \"type\": \"scatter\", \"x\": [\"Apr-16-2020\", \"Apr-17-2020\", \"Apr-18-2020\", \"Apr-19-2020\", \"Apr-20-2020\", \"Apr-21-2020\", \"Apr-22-2020\", \"Apr-23-2020\", \"Apr-24-2020\", \"Apr-25-2020\", \"Apr-26-2020\", \"Apr-27-2020\", \"Apr-28-2020\", \"Apr-29-2020\", \"Apr-30-2020\", \"May-01-2020\", \"May-02-2020\", \"May-03-2020\", \"May-04-2020\", \"May-05-2020\", \"May-06-2020\", \"May-07-2020\", \"May-08-2020\", \"May-09-2020\", \"May-10-2020\", \"May-11-2020\", \"May-12-2020\", \"May-13-2020\", \"May-14-2020\", \"May-15-2020\", \"May-16-2020\", \"May-17-2020\", \"May-18-2020\", \"May-19-2020\", \"May-20-2020\", \"May-21-2020\", \"May-22-2020\", \"May-23-2020\", \"May-24-2020\", \"May-25-2020\", \"May-26-2020\", \"May-27-2020\", \"May-28-2020\", \"May-29-2020\", \"May-30-2020\", \"May-31-2020\", \"Jun-01-2020\", \"Jun-02-2020\", \"Jun-03-2020\", \"Jun-04-2020\", \"Jun-05-2020\", \"Jun-06-2020\", \"Jun-07-2020\", \"Jun-08-2020\", \"Jun-09-2020\", \"Jun-10-2020\", \"Jun-11-2020\", \"Jun-12-2020\", \"Jun-13-2020\", \"Jun-14-2020\", \"Jun-15-2020\", \"Jun-16-2020\", \"Jun-17-2020\", \"Jun-18-2020\", \"Jun-19-2020\", \"Jun-20-2020\", \"Jun-21-2020\", \"Jun-22-2020\", \"Jun-23-2020\", \"Jun-24-2020\", \"Jun-25-2020\", \"Jun-26-2020\", \"Jun-27-2020\", \"Jun-28-2020\", \"Jun-29-2020\", \"Jun-30-2020\", \"Jul-01-2020\", \"Jul-02-2020\", \"Jul-03-2020\", \"Jul-04-2020\", \"Jul-05-2020\", \"Jul-06-2020\", \"Jul-07-2020\", \"Jul-08-2020\", \"Jul-09-2020\", \"Jul-10-2020\", \"Jul-11-2020\", \"Jul-12-2020\", \"Jul-13-2020\", \"Jul-14-2020\", \"Jul-15-2020\", \"Jul-16-2020\", \"Jul-17-2020\", \"Jul-18-2020\", \"Jul-19-2020\", \"Jul-20-2020\", \"Jul-21-2020\", \"Jul-22-2020\", \"Jul-23-2020\", \"Jul-24-2020\", \"Jul-25-2020\", \"Jul-26-2020\", \"Jul-27-2020\", \"Jul-28-2020\", \"Jul-29-2020\", \"Jul-30-2020\", \"Jul-31-2020\", \"Aug-01-2020\", \"Aug-02-2020\", \"Aug-03-2020\", \"Aug-04-2020\", \"Aug-05-2020\", \"Aug-06-2020\", \"Aug-07-2020\", \"Aug-08-2020\", \"Aug-09-2020\", \"Aug-10-2020\", \"Aug-11-2020\", \"Aug-12-2020\", \"Aug-13-2020\", \"Aug-14-2020\", \"Aug-15-2020\", \"Aug-16-2020\", \"Aug-17-2020\", \"Aug-18-2020\", \"Aug-19-2020\", \"Aug-20-2020\", \"Aug-21-2020\", \"Aug-22-2020\", \"Aug-23-2020\", \"Aug-24-2020\", \"Aug-25-2020\", \"Aug-26-2020\", \"Aug-27-2020\", \"Aug-28-2020\", \"Aug-29-2020\", \"Aug-30-2020\", \"Aug-31-2020\", \"Sep-01-2020\", \"Sep-02-2020\", \"Sep-03-2020\", \"Sep-04-2020\", \"Sep-05-2020\", \"Sep-06-2020\", \"Sep-07-2020\", \"Sep-08-2020\", \"Sep-09-2020\", \"Sep-10-2020\", \"Sep-11-2020\", \"Sep-12-2020\", \"Sep-13-2020\", \"Sep-14-2020\", \"Sep-15-2020\", \"Sep-16-2020\", \"Sep-17-2020\", \"Sep-18-2020\", \"Sep-19-2020\", \"Sep-20-2020\", \"Sep-21-2020\", \"Sep-22-2020\", \"Sep-23-2020\", \"Sep-24-2020\", \"Sep-25-2020\", \"Sep-26-2020\", \"Sep-27-2020\", \"Sep-28-2020\", \"Sep-29-2020\", \"Sep-30-2020\", \"Oct-01-2020\", \"Oct-02-2020\", \"Oct-03-2020\", \"Oct-04-2020\", \"Oct-05-2020\", \"Oct-06-2020\", \"Oct-07-2020\", \"Oct-08-2020\", \"Oct-09-2020\", \"Oct-10-2020\", \"Oct-11-2020\", \"Oct-12-2020\", \"Oct-13-2020\", \"Oct-14-2020\", \"Oct-15-2020\", \"Oct-16-2020\", \"Oct-17-2020\", \"Oct-18-2020\", \"Oct-19-2020\", \"Oct-20-2020\", \"Oct-21-2020\", \"Oct-22-2020\", \"Oct-23-2020\", \"Oct-24-2020\", \"Oct-25-2020\", \"Oct-26-2020\", \"Oct-27-2020\", \"Oct-28-2020\", \"Oct-29-2020\", \"Oct-30-2020\", \"Oct-31-2020\", \"Nov-01-2020\", \"Nov-02-2020\", \"Nov-03-2020\", \"Nov-04-2020\", \"Nov-05-2020\", \"Nov-06-2020\", \"Nov-07-2020\", \"Nov-08-2020\", \"Nov-09-2020\", \"Nov-10-2020\", \"Nov-11-2020\", \"Nov-12-2020\", \"Nov-13-2020\", \"Nov-14-2020\", \"Nov-15-2020\", \"Nov-16-2020\", \"Nov-17-2020\", \"Nov-18-2020\", \"Nov-19-2020\", \"Nov-20-2020\", \"Nov-21-2020\", \"Nov-22-2020\", \"Nov-23-2020\", \"Nov-24-2020\", \"Nov-25-2020\", \"Nov-26-2020\", \"Nov-27-2020\", \"Nov-28-2020\", \"Nov-29-2020\", \"Nov-30-2020\", \"Dec-01-2020\", \"Dec-02-2020\", \"Dec-03-2020\", \"Dec-04-2020\", \"Dec-05-2020\", \"Dec-06-2020\", \"Dec-07-2020\", \"Dec-08-2020\", \"Dec-09-2020\", \"Dec-10-2020\", \"Dec-11-2020\", \"Dec-12-2020\", \"Dec-13-2020\", \"Dec-14-2020\", \"Dec-15-2020\", \"Dec-16-2020\", \"Dec-17-2020\", \"Dec-18-2020\", \"Dec-19-2020\", \"Dec-20-2020\", \"Dec-21-2020\", \"Dec-22-2020\", \"Dec-23-2020\", \"Dec-24-2020\", \"Dec-25-2020\", \"Dec-26-2020\", \"Dec-27-2020\", \"Dec-28-2020\", \"Dec-29-2020\", \"Dec-30-2020\", \"Dec-31-2020\", \"Jan-01-2021\", \"Jan-02-2021\", \"Jan-03-2021\", \"Jan-04-2021\", \"Jan-05-2021\", \"Jan-06-2021\", \"Jan-07-2021\", \"Jan-08-2021\", \"Jan-09-2021\", \"Jan-10-2021\", \"Jan-11-2021\", \"Jan-12-2021\", \"Jan-13-2021\", \"Jan-14-2021\", \"Jan-15-2021\", \"Jan-16-2021\", \"Jan-17-2021\", \"Jan-18-2021\", \"Jan-19-2021\", \"Jan-20-2021\", \"Jan-21-2021\", \"Jan-22-2021\", \"Jan-23-2021\", \"Jan-24-2021\", \"Jan-25-2021\", \"Jan-26-2021\", \"Jan-27-2021\", \"Jan-28-2021\", \"Jan-29-2021\", \"Jan-30-2021\", \"Jan-31-2021\", \"Feb-01-2021\", \"Feb-02-2021\", \"Feb-03-2021\", \"Feb-04-2021\", \"Feb-05-2021\", \"Feb-06-2021\", \"Feb-07-2021\", \"Feb-08-2021\", \"Feb-09-2021\", \"Feb-11-2021\", \"Feb-12-2021\", \"Feb-13-2021\", \"Feb-14-2021\", \"Feb-15-2021\", \"Feb-16-2021\", \"Feb-17-2021\", \"Feb-18-2021\", \"Feb-19-2021\", \"Feb-20-2021\", \"Feb-21-2021\", \"Feb-22-2021\", \"Feb-23-2021\", \"Feb-24-2021\", \"Feb-25-2021\", \"Feb-26-2021\", \"Feb-27-2021\", \"Feb-28-2021\", \"Mar-01-2021\", \"Mar-02-2021\", \"Mar-03-2021\", \"Mar-04-2021\", \"Mar-05-2021\", \"Mar-06-2021\", \"Mar-07-2021\", \"Mar-08-2021\", \"Mar-09-2021\", \"Mar-10-2021\", \"Mar-11-2021\", \"Mar-12-2021\", \"Mar-13-2021\", \"Mar-14-2021\", \"Mar-15-2021\", \"Mar-16-2021\", \"Mar-17-2021\", \"Mar-18-2021\", \"Mar-19-2021\", \"Mar-20-2021\", \"Mar-21-2021\", \"Mar-22-2021\", \"Mar-23-2021\", \"Mar-24-2021\", \"Mar-25-2021\"], \"y\": [18993, 20419, 21741, 22966, 24171, 25411, 26654, 28217, 29840, 31102, 32657, 34036, 35678, 37693, 39785, 41446, 43734, 45380, 48075, 50166, 52713, 55320, 59050, 61985, 64750, 67778, 70982, 73973, 77002, 79780, 83363, 86381, 90080, 93228, 96990, 101684, 105845, 109470, 113656, 117801, 121547, 126638, 131587, 137544, 143769, 148775, 154907, 159838, 164985, 172183, 179337, 185996, 192118, 198990, 205520, 212011, 219354, 227599, 235704, 244578, 254214, 261581, 270660, 278677, 288812, 299841, 309153, 318321, 327464, 338766, 350859, 362616, 374596, 385219, 396314, 407925, 421382, 434442, 450658, 466168, 479845, 493710, 511170, 525892, 545063, 562728, 581640, 598236, 614412, 628885, 646973, 668068, 686961, 706069, 724870, 740026, 753917, 773506, 792040, 814165, 832514, 850628, 864094, 877593, 895157, 912621, 931777, 948730, 961388, 972287, 982219, 997602, 1011872, 1025464, 1039678, 1052094, 1061098, 1069093, 1078301, 1088777, 1101342, 1113143, 1123142, 1132101, 1140775, 1151737, 1162392, 1172802, 1183362, 1192414, 1199961, 1207623, 1216564, 1225249, 1233365, 1241912, 1250375, 1257316, 1264417, 1273213, 1281149, 1289817, 1297323, 1305252, 1312183, 1319898, 1328263, 1336407, 1345199, 1352693, 1359569, 1366138, 1372731, 1380233, 1389010, 1397246, 1405973, 1413416, 1420232, 1427620, 1436433, 1444619, 1452768, 1459190, 1467555, 1473418, 1480934, 1489711, 1496977, 1506015, 1514844, 1522928, 1527905, 1534494, 1545109, 1556017, 1564774, 1578299, 1587286, 1593247, 1601181, 1612737, 1621853, 1632687, 1646863, 1655084, 1665060, 1674836, 1685448, 1696418, 1707055, 1718812, 1727897, 1738877, 1747522, 1759578, 1770688, 1784435, 1795509, 1805820, 1813800, 1824701, 1838867, 1854169, 1866079, 1881129, 1893619, 1903096, 1916173, 1930482, 1946369, 1961099, 1975264, 1987732, 1998312, 2011202, 2026587, 2040542, 2056410, 2069852, 2082709, 2092968, 2105502, 2120356, 2134290, 2150097, 2163810, 2176698, 2187417, 2198197, 2214586, 2230391, 2248484, 2263152, 2276574, 2287238, 2300244, 2320386, 2339318, 2358673, 2376741, 2393061, 2404414, 2422536, 2443850, 2464185, 2483643, 2504960, 2523681, 2540417, 2560394, 2585922, 2612754, 2638497, 2659469, 2678022, 2693189, 2713140, 2743620, 2773166, 2800709, 2823457, 2845294, 2867078, 2894007, 2929938, 2965221, 2965221, 3001908, 3037007, 3067437, 3095419, 3121398, 3157992, 3191906, 3223749, 3251235, 3278299, 3300947, 3324351, 3352823, 3380887, 3407171, 3434479, 3454599, 3472043, 3490691, 3511476, 3532559, 3551847, 3569944, 3585676, 3598944, 3614270, 3630150, 3646894, 3662921, 3676466, 3688321, 3701290, 3712855, 3739257, 3753441, 3764868, 3775513, 3785677, 3795981, 3809411, 3823291, 3834287, 3845156, 3854676, 3864060, 3872085, 3883726, 3896732, 3907368, 3915201, 3924598, 3934208, 3942711, 3953557, 3966393, 3975616, 3985061, 3993395, 4003008, 4011465, 4022129, 4037630, 4047537, 4057634, 4066272, 4075038, 4083905, 4095103, 4106497, 4119180, 4129277, 4138592, 4148023, 4157953, 4168758, 4181204]}, {\"line\": {\"width\": 3}, \"mode\": \"lines\", \"name\": \"New_Cases\", \"type\": \"scatter\", \"x\": [\"Apr-16-2020\", \"Apr-17-2020\", \"Apr-18-2020\", \"Apr-19-2020\", \"Apr-20-2020\", \"Apr-21-2020\", \"Apr-22-2020\", \"Apr-23-2020\", \"Apr-24-2020\", \"Apr-25-2020\", \"Apr-26-2020\", \"Apr-27-2020\", \"Apr-28-2020\", \"Apr-29-2020\", \"Apr-30-2020\", \"May-01-2020\", \"May-02-2020\", \"May-03-2020\", \"May-04-2020\", \"May-05-2020\", \"May-06-2020\", \"May-07-2020\", \"May-08-2020\", \"May-09-2020\", \"May-10-2020\", \"May-11-2020\", \"May-12-2020\", \"May-13-2020\", \"May-14-2020\", \"May-15-2020\", \"May-16-2020\", \"May-17-2020\", \"May-18-2020\", \"May-19-2020\", \"May-20-2020\", \"May-21-2020\", \"May-22-2020\", \"May-23-2020\", \"May-24-2020\", \"May-25-2020\", \"May-26-2020\", \"May-27-2020\", \"May-28-2020\", \"May-29-2020\", \"May-30-2020\", \"May-31-2020\", \"Jun-01-2020\", \"Jun-02-2020\", \"Jun-03-2020\", \"Jun-04-2020\", \"Jun-05-2020\", \"Jun-06-2020\", \"Jun-07-2020\", \"Jun-08-2020\", \"Jun-09-2020\", \"Jun-10-2020\", \"Jun-11-2020\", \"Jun-12-2020\", \"Jun-13-2020\", \"Jun-14-2020\", \"Jun-15-2020\", \"Jun-16-2020\", \"Jun-17-2020\", \"Jun-18-2020\", \"Jun-19-2020\", \"Jun-20-2020\", \"Jun-21-2020\", \"Jun-22-2020\", \"Jun-23-2020\", \"Jun-24-2020\", \"Jun-25-2020\", \"Jun-26-2020\", \"Jun-27-2020\", \"Jun-28-2020\", \"Jun-29-2020\", \"Jun-30-2020\", \"Jul-01-2020\", \"Jul-02-2020\", \"Jul-03-2020\", \"Jul-04-2020\", \"Jul-05-2020\", \"Jul-06-2020\", \"Jul-07-2020\", \"Jul-08-2020\", \"Jul-09-2020\", \"Jul-10-2020\", \"Jul-11-2020\", \"Jul-12-2020\", \"Jul-13-2020\", \"Jul-14-2020\", \"Jul-15-2020\", \"Jul-16-2020\", \"Jul-17-2020\", \"Jul-18-2020\", \"Jul-19-2020\", \"Jul-20-2020\", \"Jul-21-2020\", \"Jul-22-2020\", \"Jul-23-2020\", \"Jul-24-2020\", \"Jul-25-2020\", \"Jul-26-2020\", \"Jul-27-2020\", \"Jul-28-2020\", \"Jul-29-2020\", \"Jul-30-2020\", \"Jul-31-2020\", \"Aug-01-2020\", \"Aug-02-2020\", \"Aug-03-2020\", \"Aug-04-2020\", \"Aug-05-2020\", \"Aug-06-2020\", \"Aug-07-2020\", \"Aug-08-2020\", \"Aug-09-2020\", \"Aug-10-2020\", \"Aug-11-2020\", \"Aug-12-2020\", \"Aug-13-2020\", \"Aug-14-2020\", \"Aug-15-2020\", \"Aug-16-2020\", \"Aug-17-2020\", \"Aug-18-2020\", \"Aug-19-2020\", \"Aug-20-2020\", \"Aug-21-2020\", \"Aug-22-2020\", \"Aug-23-2020\", \"Aug-24-2020\", \"Aug-25-2020\", \"Aug-26-2020\", \"Aug-27-2020\", \"Aug-28-2020\", \"Aug-29-2020\", \"Aug-30-2020\", \"Aug-31-2020\", \"Sep-01-2020\", \"Sep-02-2020\", \"Sep-03-2020\", \"Sep-04-2020\", \"Sep-05-2020\", \"Sep-06-2020\", \"Sep-07-2020\", \"Sep-08-2020\", \"Sep-09-2020\", \"Sep-10-2020\", \"Sep-11-2020\", \"Sep-12-2020\", \"Sep-13-2020\", \"Sep-14-2020\", \"Sep-15-2020\", \"Sep-16-2020\", \"Sep-17-2020\", \"Sep-18-2020\", \"Sep-19-2020\", \"Sep-20-2020\", \"Sep-21-2020\", \"Sep-22-2020\", \"Sep-23-2020\", \"Sep-24-2020\", \"Sep-25-2020\", \"Sep-26-2020\", \"Sep-27-2020\", \"Sep-28-2020\", \"Sep-29-2020\", \"Sep-30-2020\", \"Oct-01-2020\", \"Oct-02-2020\", \"Oct-03-2020\", \"Oct-04-2020\", \"Oct-05-2020\", \"Oct-06-2020\", \"Oct-07-2020\", \"Oct-08-2020\", \"Oct-09-2020\", \"Oct-10-2020\", \"Oct-11-2020\", \"Oct-12-2020\", \"Oct-13-2020\", \"Oct-14-2020\", \"Oct-15-2020\", \"Oct-16-2020\", \"Oct-17-2020\", \"Oct-18-2020\", \"Oct-19-2020\", \"Oct-20-2020\", \"Oct-21-2020\", \"Oct-22-2020\", \"Oct-23-2020\", \"Oct-24-2020\", \"Oct-25-2020\", \"Oct-26-2020\", \"Oct-27-2020\", \"Oct-28-2020\", \"Oct-29-2020\", \"Oct-30-2020\", \"Oct-31-2020\", \"Nov-01-2020\", \"Nov-02-2020\", \"Nov-03-2020\", \"Nov-04-2020\", \"Nov-05-2020\", \"Nov-06-2020\", \"Nov-07-2020\", \"Nov-08-2020\", \"Nov-09-2020\", \"Nov-10-2020\", \"Nov-11-2020\", \"Nov-12-2020\", \"Nov-13-2020\", \"Nov-14-2020\", \"Nov-15-2020\", \"Nov-16-2020\", \"Nov-17-2020\", \"Nov-18-2020\", \"Nov-19-2020\", \"Nov-20-2020\", \"Nov-21-2020\", \"Nov-22-2020\", \"Nov-23-2020\", \"Nov-24-2020\", \"Nov-25-2020\", \"Nov-26-2020\", \"Nov-27-2020\", \"Nov-28-2020\", \"Nov-29-2020\", \"Nov-30-2020\", \"Dec-01-2020\", \"Dec-02-2020\", \"Dec-03-2020\", \"Dec-04-2020\", \"Dec-05-2020\", \"Dec-06-2020\", \"Dec-07-2020\", \"Dec-08-2020\", \"Dec-09-2020\", \"Dec-10-2020\", \"Dec-11-2020\", \"Dec-12-2020\", \"Dec-13-2020\", \"Dec-14-2020\", \"Dec-15-2020\", \"Dec-16-2020\", \"Dec-17-2020\", \"Dec-18-2020\", \"Dec-19-2020\", \"Dec-20-2020\", \"Dec-21-2020\", \"Dec-22-2020\", \"Dec-23-2020\", \"Dec-24-2020\", \"Dec-25-2020\", \"Dec-26-2020\", \"Dec-27-2020\", \"Dec-28-2020\", \"Dec-29-2020\", \"Dec-30-2020\", \"Dec-31-2020\", \"Jan-01-2021\", \"Jan-02-2021\", \"Jan-03-2021\", \"Jan-04-2021\", \"Jan-05-2021\", \"Jan-06-2021\", \"Jan-07-2021\", \"Jan-08-2021\", \"Jan-09-2021\", \"Jan-10-2021\", \"Jan-11-2021\", \"Jan-12-2021\", \"Jan-13-2021\", \"Jan-14-2021\", \"Jan-15-2021\", \"Jan-16-2021\", \"Jan-17-2021\", \"Jan-18-2021\", \"Jan-19-2021\", \"Jan-20-2021\", \"Jan-21-2021\", \"Jan-22-2021\", \"Jan-23-2021\", \"Jan-24-2021\", \"Jan-25-2021\", \"Jan-26-2021\", \"Jan-27-2021\", \"Jan-28-2021\", \"Jan-29-2021\", \"Jan-30-2021\", \"Jan-31-2021\", \"Feb-01-2021\", \"Feb-02-2021\", \"Feb-03-2021\", \"Feb-04-2021\", \"Feb-05-2021\", \"Feb-06-2021\", \"Feb-07-2021\", \"Feb-08-2021\", \"Feb-09-2021\", \"Feb-11-2021\", \"Feb-12-2021\", \"Feb-13-2021\", \"Feb-14-2021\", \"Feb-15-2021\", \"Feb-16-2021\", \"Feb-17-2021\", \"Feb-18-2021\", \"Feb-19-2021\", \"Feb-20-2021\", \"Feb-21-2021\", \"Feb-22-2021\", \"Feb-23-2021\", \"Feb-24-2021\", \"Feb-25-2021\", \"Feb-26-2021\", \"Feb-27-2021\", \"Feb-28-2021\", \"Mar-01-2021\", \"Mar-02-2021\", \"Mar-03-2021\", \"Mar-04-2021\", \"Mar-05-2021\", \"Mar-06-2021\", \"Mar-07-2021\", \"Mar-08-2021\", \"Mar-09-2021\", \"Mar-10-2021\", \"Mar-11-2021\", \"Mar-12-2021\", \"Mar-13-2021\", \"Mar-14-2021\", \"Mar-15-2021\", \"Mar-16-2021\", \"Mar-17-2021\", \"Mar-18-2021\", \"Mar-19-2021\", \"Mar-20-2021\", \"Mar-21-2021\", \"Mar-22-2021\", \"Mar-23-2021\", \"Mar-24-2021\", \"Mar-25-2021\"], \"y\": [1166, 1426, 1322, 1225, 1205, 1240, 1243, 1436, 1623, 1262, 1555, 1357, 1642, 2017, 2093, 1661, 2294, 1589, 2695, 2091, 2547, 2607, 3731, 2935, 2765, 3035, 3204, 2991, 3029, 2778, 3588, 3018, 3699, 3357, 3762, 4798, 4161, 3625, 4186, 4145, 3746, 5091, 4949, 5957, 6225, 5006, 6132, 4931, 5147, 7198, 7154, 6659, 6122, 6872, 6530, 6491, 7343, 8245, 8105, 8874, 9636, 7368, 9079, 8017, 10135, 10386, 9312, 9168, 9143, 11302, 12093, 11757, 11980, 10623, 10910, 11611, 13457, 13060, 16216, 15510, 13677, 13865, 17460, 14722, 19171, 17665, 18912, 16596, 16176, 14473, 18057, 20489, 18893, 19108, 18801, 15156, 13891, 19454, 18464, 22125, 18349, 18114, 13470, 13499, 17564, 17464, 19156, 16953, 12658, 10899, 9759, 15383, 14270, 13563, 14209, 12416, 8914, 7995, 9208, 10476, 12565, 11801, 9999, 8959, 8674, 10962, 10655, 10349, 10560, 9052, 7795, 7662, 8941, 8685, 8116, 8547, 8463, 6941, 7101, 8796, 7889, 8669, 7506, 7890, 6931, 7715, 8365, 8144, 8792, 7494, 6805, 6569, 6593, 7499, 8610, 8236, 8727, 7443, 6668, 7365, 8813, 8186, 8149, 6422, 8365, 5863, 7509, 8763, 7260, 8952, 8829, 8084, 4977, 6589, 10615, 10770, 8757, 13525, 8987, 5961, 7934, 11556, 9116, 9506, 14176, 8221, 9976, 9776, 10612, 10970, 10637, 11757, 9085, 8778, 8645, 12056, 10975, 13742, 11074, 10244, 7980, 10894, 13855, 15302, 11910, 14997, 12490, 9371, 13077, 14163, 15617, 14730, 14068, 12468, 10580, 12890, 15346, 13849, 15867, 13442, 12857, 10259, 12534, 14835, 13934, 15783, 13389, 12885, 10353, 10780, 16389, 15691, 16690, 14668, 13422, 10651, 13046, 19805, 18932, 19355, 18068, 16320, 11353, 17976, 21275, 20279, 19458, 21317, 18721, 16596, 19977, 25307, 26832, 25743, 20972, 18553, 15167, 19935, 30480, 29547, 27543, 22748, 21837, 21753, 26857, 35032, 35266, 35266, 36687, 35099, 30354, 27982, 25877, 36594, 33914, 31843, 27486, 26456, 22648, 23404, 28410, 27661, 26284, 26475, 20106, 16597, 18648, 20702, 20435, 18752, 17102, 15732, 13268, 15326, 15858, 16744, 15953, 13398, 11527, 12202, 11565, 12372, 13172, 11427, 10045, 9965, 10304, 13226, 13880, 10773, 10869, 9520, 9384, 8025, 11641, 12678, 10584, 7833, 8771, 9610, 8503, 10165, 12836, 9223, 9423, 8260, 9346, 8457, 10452, 13271, 9848, 10097, 8579, 8489, 8746, 11188, 11354, 12530, 9267, 9315, 9109, 9930, 10783, 12268]}, {\"line\": {\"width\": 3}, \"mode\": \"lines\", \"name\": \"Total_Deaths\", \"type\": \"scatter\", \"x\": [\"Apr-16-2020\", \"Apr-17-2020\", \"Apr-18-2020\", \"Apr-19-2020\", \"Apr-20-2020\", \"Apr-21-2020\", \"Apr-22-2020\", \"Apr-23-2020\", \"Apr-24-2020\", \"Apr-25-2020\", \"Apr-26-2020\", \"Apr-27-2020\", \"Apr-28-2020\", \"Apr-29-2020\", \"Apr-30-2020\", \"May-01-2020\", \"May-02-2020\", \"May-03-2020\", \"May-04-2020\", \"May-05-2020\", \"May-06-2020\", \"May-07-2020\", \"May-08-2020\", \"May-09-2020\", \"May-10-2020\", \"May-11-2020\", \"May-12-2020\", \"May-13-2020\", \"May-14-2020\", \"May-15-2020\", \"May-16-2020\", \"May-17-2020\", \"May-18-2020\", \"May-19-2020\", \"May-20-2020\", \"May-21-2020\", \"May-22-2020\", \"May-23-2020\", \"May-24-2020\", \"May-25-2020\", \"May-26-2020\", \"May-27-2020\", \"May-28-2020\", \"May-29-2020\", \"May-30-2020\", \"May-31-2020\", \"Jun-01-2020\", \"Jun-02-2020\", \"Jun-03-2020\", \"Jun-04-2020\", \"Jun-05-2020\", \"Jun-06-2020\", \"Jun-07-2020\", \"Jun-08-2020\", \"Jun-09-2020\", \"Jun-10-2020\", \"Jun-11-2020\", \"Jun-12-2020\", \"Jun-13-2020\", \"Jun-14-2020\", \"Jun-15-2020\", \"Jun-16-2020\", \"Jun-17-2020\", \"Jun-18-2020\", \"Jun-19-2020\", \"Jun-20-2020\", \"Jun-21-2020\", \"Jun-22-2020\", \"Jun-23-2020\", \"Jun-24-2020\", \"Jun-25-2020\", \"Jun-26-2020\", \"Jun-27-2020\", \"Jun-28-2020\", \"Jun-29-2020\", \"Jun-30-2020\", \"Jul-01-2020\", \"Jul-02-2020\", \"Jul-03-2020\", \"Jul-04-2020\", \"Jul-05-2020\", \"Jul-06-2020\", \"Jul-07-2020\", \"Jul-08-2020\", \"Jul-09-2020\", \"Jul-10-2020\", \"Jul-11-2020\", \"Jul-12-2020\", \"Jul-13-2020\", \"Jul-14-2020\", \"Jul-15-2020\", \"Jul-16-2020\", \"Jul-17-2020\", \"Jul-18-2020\", \"Jul-19-2020\", \"Jul-20-2020\", \"Jul-21-2020\", \"Jul-22-2020\", \"Jul-23-2020\", \"Jul-24-2020\", \"Jul-25-2020\", \"Jul-26-2020\", \"Jul-27-2020\", \"Jul-28-2020\", \"Jul-29-2020\", \"Jul-30-2020\", \"Jul-31-2020\", \"Aug-01-2020\", \"Aug-02-2020\", \"Aug-03-2020\", \"Aug-04-2020\", \"Aug-05-2020\", \"Aug-06-2020\", \"Aug-07-2020\", \"Aug-08-2020\", \"Aug-09-2020\", \"Aug-10-2020\", \"Aug-11-2020\", \"Aug-12-2020\", \"Aug-13-2020\", \"Aug-14-2020\", \"Aug-15-2020\", \"Aug-16-2020\", \"Aug-17-2020\", \"Aug-18-2020\", \"Aug-19-2020\", \"Aug-20-2020\", \"Aug-21-2020\", \"Aug-22-2020\", \"Aug-23-2020\", \"Aug-24-2020\", \"Aug-25-2020\", \"Aug-26-2020\", \"Aug-27-2020\", \"Aug-28-2020\", \"Aug-29-2020\", \"Aug-30-2020\", \"Aug-31-2020\", \"Sep-01-2020\", \"Sep-02-2020\", \"Sep-03-2020\", \"Sep-04-2020\", \"Sep-05-2020\", \"Sep-06-2020\", \"Sep-07-2020\", \"Sep-08-2020\", \"Sep-09-2020\", \"Sep-10-2020\", \"Sep-11-2020\", \"Sep-12-2020\", \"Sep-13-2020\", \"Sep-14-2020\", \"Sep-15-2020\", \"Sep-16-2020\", \"Sep-17-2020\", \"Sep-18-2020\", \"Sep-19-2020\", \"Sep-20-2020\", \"Sep-21-2020\", \"Sep-22-2020\", \"Sep-23-2020\", \"Sep-24-2020\", \"Sep-25-2020\", \"Sep-26-2020\", \"Sep-27-2020\", \"Sep-28-2020\", \"Sep-29-2020\", \"Sep-30-2020\", \"Oct-01-2020\", \"Oct-02-2020\", \"Oct-03-2020\", \"Oct-04-2020\", \"Oct-05-2020\", \"Oct-06-2020\", \"Oct-07-2020\", \"Oct-08-2020\", \"Oct-09-2020\", \"Oct-10-2020\", \"Oct-11-2020\", \"Oct-12-2020\", \"Oct-13-2020\", \"Oct-14-2020\", \"Oct-15-2020\", \"Oct-16-2020\", \"Oct-17-2020\", \"Oct-18-2020\", \"Oct-19-2020\", \"Oct-20-2020\", \"Oct-21-2020\", \"Oct-22-2020\", \"Oct-23-2020\", \"Oct-24-2020\", \"Oct-25-2020\", \"Oct-26-2020\", \"Oct-27-2020\", \"Oct-28-2020\", \"Oct-29-2020\", \"Oct-30-2020\", \"Oct-31-2020\", \"Nov-01-2020\", \"Nov-02-2020\", \"Nov-03-2020\", \"Nov-04-2020\", \"Nov-05-2020\", \"Nov-06-2020\", \"Nov-07-2020\", \"Nov-08-2020\", \"Nov-09-2020\", \"Nov-10-2020\", \"Nov-11-2020\", \"Nov-12-2020\", \"Nov-13-2020\", \"Nov-14-2020\", \"Nov-15-2020\", \"Nov-16-2020\", \"Nov-17-2020\", \"Nov-18-2020\", \"Nov-19-2020\", \"Nov-20-2020\", \"Nov-21-2020\", \"Nov-22-2020\", \"Nov-23-2020\", \"Nov-24-2020\", \"Nov-25-2020\", \"Nov-26-2020\", \"Nov-27-2020\", \"Nov-28-2020\", \"Nov-29-2020\", \"Nov-30-2020\", \"Dec-01-2020\", \"Dec-02-2020\", \"Dec-03-2020\", \"Dec-04-2020\", \"Dec-05-2020\", \"Dec-06-2020\", \"Dec-07-2020\", \"Dec-08-2020\", \"Dec-09-2020\", \"Dec-10-2020\", \"Dec-11-2020\", \"Dec-12-2020\", \"Dec-13-2020\", \"Dec-14-2020\", \"Dec-15-2020\", \"Dec-16-2020\", \"Dec-17-2020\", \"Dec-18-2020\", \"Dec-19-2020\", \"Dec-20-2020\", \"Dec-21-2020\", \"Dec-22-2020\", \"Dec-23-2020\", \"Dec-24-2020\", \"Dec-25-2020\", \"Dec-26-2020\", \"Dec-27-2020\", \"Dec-28-2020\", \"Dec-29-2020\", \"Dec-30-2020\", \"Dec-31-2020\", \"Jan-01-2021\", \"Jan-02-2021\", \"Jan-03-2021\", \"Jan-04-2021\", \"Jan-05-2021\", \"Jan-06-2021\", \"Jan-07-2021\", \"Jan-08-2021\", \"Jan-09-2021\", \"Jan-10-2021\", \"Jan-11-2021\", \"Jan-12-2021\", \"Jan-13-2021\", \"Jan-14-2021\", \"Jan-15-2021\", \"Jan-16-2021\", \"Jan-17-2021\", \"Jan-18-2021\", \"Jan-19-2021\", \"Jan-20-2021\", \"Jan-21-2021\", \"Jan-22-2021\", \"Jan-23-2021\", \"Jan-24-2021\", \"Jan-25-2021\", \"Jan-26-2021\", \"Jan-27-2021\", \"Jan-28-2021\", \"Jan-29-2021\", \"Jan-30-2021\", \"Jan-31-2021\", \"Feb-01-2021\", \"Feb-02-2021\", \"Feb-03-2021\", \"Feb-04-2021\", \"Feb-05-2021\", \"Feb-06-2021\", \"Feb-07-2021\", \"Feb-08-2021\", \"Feb-09-2021\", \"Feb-11-2021\", \"Feb-12-2021\", \"Feb-13-2021\", \"Feb-14-2021\", \"Feb-15-2021\", \"Feb-16-2021\", \"Feb-17-2021\", \"Feb-18-2021\", \"Feb-19-2021\", \"Feb-20-2021\", \"Feb-21-2021\", \"Feb-22-2021\", \"Feb-23-2021\", \"Feb-24-2021\", \"Feb-25-2021\", \"Feb-26-2021\", \"Feb-27-2021\", \"Feb-28-2021\", \"Mar-01-2021\", \"Mar-02-2021\", \"Mar-03-2021\", \"Mar-04-2021\", \"Mar-05-2021\", \"Mar-06-2021\", \"Mar-07-2021\", \"Mar-08-2021\", \"Mar-09-2021\", \"Mar-10-2021\", \"Mar-11-2021\", \"Mar-12-2021\", \"Mar-13-2021\", \"Mar-14-2021\", \"Mar-15-2021\", \"Mar-16-2021\", \"Mar-17-2021\", \"Mar-18-2021\", \"Mar-19-2021\", \"Mar-20-2021\", \"Mar-21-2021\", \"Mar-22-2021\", \"Mar-23-2021\", \"Mar-24-2021\", \"Mar-25-2021\"], \"y\": [968, 1020, 1082, 1125, 1164, 1197, 1244, 1298, 1328, 1379, 1427, 1468, 1527, 1592, 1638, 1691, 1763, 1802, 1848, 1917, 2015, 2083, 2161, 2232, 2301, 2355, 2407, 2507, 2578, 2639, 2726, 2777, 2849, 2924, 3010, 3115, 3204, 3267, 3356, 3495, 3613, 3710, 3814, 3945, 4092, 4245, 4369, 4520, 4627, 4783, 4942, 5082, 5215, 5390, 5568, 5717, 5869, 6080, 6283, 6490, 6793, 7026, 7249, 7450, 7713, 7941, 8148, 8371, 8653, 8889, 9104, 9317, 9519, 9698, 9914, 10184, 10443, 10662, 10920, 11117, 11400, 11649, 12015, 12270, 12500, 12809, 13029, 13285, 13504, 13803, 14029, 14442, 14717, 14996, 15210, 15465, 15779, 16482, 16756, 17146, 17570, 17808, 18218, 18540, 18908, 19362, 19726, 20018, 20350, 20671, 21143, 21683, 22114, 22553, 22966, 23324, 23643, 23912, 24322, 24727, 25143, 25383, 25678, 25942, 26357, 26685, 27022, 27374, 27649, 27831, 28051, 28334, 28656, 28910, 29141, 29472, 29633, 29862, 30104, 30370, 30666, 30905, 31131, 31357, 31575, 31801, 31962, 32178, 32410, 32556, 32678, 32849, 33126, 33308, 33484, 33677, 33879, 34008, 34133, 34378, 34583, 34758, 34912, 35080, 35215, 35512, 35729, 35922, 36146, 36288, 36399, 36569, 36697, 36885, 37154, 37452, 37689, 37960, 38168, 38362, 38633, 38896, 39150, 39357, 39622, 39807, 39991, 40289, 40544, 40760, 40985, 41208, 41324, 41672, 41972, 42202, 42404, 42698, 42922, 43244, 43461, 43777, 44012, 44316, 44684, 44918, 45433, 45684, 46025, 46357, 46626, 46906, 47162, 47438, 47775, 48112, 48509, 48785, 49198, 49512, 49802, 50074, 50417, 50736, 51033, 51354, 51589, 51813, 52083, 52340, 52670, 52937, 53377, 53655, 53961, 54209, 54611, 54965, 55357, 55756, 56082, 56428, 56740, 57168, 57526, 57910, 58407, 58855, 59195, 59635, 60155, 60974, 61528, 62052, 62471, 62903, 63449, 64166, 64867, 65566, 66224, 66739, 67344, 68030, 68850, 69960, 70649, 70649, 71559, 72216, 72810, 73491, 74558, 75787, 76840, 77750, 78413, 79011, 79736, 80938, 81863, 82885, 83859, 84641, 85288, 86060, 87043, 88095, 89092, 89939, 90554, 91079, 91587, 92472, 93183, 93751, 94298, 94846, 95203, 95648, 96350, 97385, 97950, 98305, 98601, 99075, 99545, 99948, 100463, 100847, 101140, 101477, 101816, 102286, 102619, 102985, 103303, 103642, 103869, 104184, 104556, 104834, 105165, 105413, 105670, 105900, 106280, 106582, 106883, 107207, 107434, 107730, 107981, 108298, 108603, 108885, 109146, 109700, 109914, 110143, 110405, 110745, 111064, 111450]}, {\"line\": {\"width\": 3}, \"mode\": \"lines\", \"name\": \"New_Deaths\", \"type\": \"scatter\", \"x\": [\"Apr-16-2020\", \"Apr-17-2020\", \"Apr-18-2020\", \"Apr-19-2020\", \"Apr-20-2020\", \"Apr-21-2020\", \"Apr-22-2020\", \"Apr-23-2020\", \"Apr-24-2020\", \"Apr-25-2020\", \"Apr-26-2020\", \"Apr-27-2020\", \"Apr-28-2020\", \"Apr-29-2020\", \"Apr-30-2020\", \"May-01-2020\", \"May-02-2020\", \"May-03-2020\", \"May-04-2020\", \"May-05-2020\", \"May-06-2020\", \"May-07-2020\", \"May-08-2020\", \"May-09-2020\", \"May-10-2020\", \"May-11-2020\", \"May-12-2020\", \"May-13-2020\", \"May-14-2020\", \"May-15-2020\", \"May-16-2020\", \"May-17-2020\", \"May-18-2020\", \"May-19-2020\", \"May-20-2020\", \"May-21-2020\", \"May-22-2020\", \"May-23-2020\", \"May-24-2020\", \"May-25-2020\", \"May-26-2020\", \"May-27-2020\", \"May-28-2020\", \"May-29-2020\", \"May-30-2020\", \"May-31-2020\", \"Jun-01-2020\", \"Jun-02-2020\", \"Jun-03-2020\", \"Jun-04-2020\", \"Jun-05-2020\", \"Jun-06-2020\", \"Jun-07-2020\", \"Jun-08-2020\", \"Jun-09-2020\", \"Jun-10-2020\", \"Jun-11-2020\", \"Jun-12-2020\", \"Jun-13-2020\", \"Jun-14-2020\", \"Jun-15-2020\", \"Jun-16-2020\", \"Jun-17-2020\", \"Jun-18-2020\", \"Jun-19-2020\", \"Jun-20-2020\", \"Jun-21-2020\", \"Jun-22-2020\", \"Jun-23-2020\", \"Jun-24-2020\", \"Jun-25-2020\", \"Jun-26-2020\", \"Jun-27-2020\", \"Jun-28-2020\", \"Jun-29-2020\", \"Jun-30-2020\", \"Jul-01-2020\", \"Jul-02-2020\", \"Jul-03-2020\", \"Jul-04-2020\", \"Jul-05-2020\", \"Jul-06-2020\", \"Jul-07-2020\", \"Jul-08-2020\", \"Jul-09-2020\", \"Jul-10-2020\", \"Jul-11-2020\", \"Jul-12-2020\", \"Jul-13-2020\", \"Jul-14-2020\", \"Jul-15-2020\", \"Jul-16-2020\", \"Jul-17-2020\", \"Jul-18-2020\", \"Jul-19-2020\", \"Jul-20-2020\", \"Jul-21-2020\", \"Jul-22-2020\", \"Jul-23-2020\", \"Jul-24-2020\", \"Jul-25-2020\", \"Jul-26-2020\", \"Jul-27-2020\", \"Jul-28-2020\", \"Jul-29-2020\", \"Jul-30-2020\", \"Jul-31-2020\", \"Aug-01-2020\", \"Aug-02-2020\", \"Aug-03-2020\", \"Aug-04-2020\", \"Aug-05-2020\", \"Aug-06-2020\", \"Aug-07-2020\", \"Aug-08-2020\", \"Aug-09-2020\", \"Aug-10-2020\", \"Aug-11-2020\", \"Aug-12-2020\", \"Aug-13-2020\", \"Aug-14-2020\", \"Aug-15-2020\", \"Aug-16-2020\", \"Aug-17-2020\", \"Aug-18-2020\", \"Aug-19-2020\", \"Aug-20-2020\", \"Aug-21-2020\", \"Aug-22-2020\", \"Aug-23-2020\", \"Aug-24-2020\", \"Aug-25-2020\", \"Aug-26-2020\", \"Aug-27-2020\", \"Aug-28-2020\", \"Aug-29-2020\", \"Aug-30-2020\", \"Aug-31-2020\", \"Sep-01-2020\", \"Sep-02-2020\", \"Sep-03-2020\", \"Sep-04-2020\", \"Sep-05-2020\", \"Sep-06-2020\", \"Sep-07-2020\", \"Sep-08-2020\", \"Sep-09-2020\", \"Sep-10-2020\", \"Sep-11-2020\", \"Sep-12-2020\", \"Sep-13-2020\", \"Sep-14-2020\", \"Sep-15-2020\", \"Sep-16-2020\", \"Sep-17-2020\", \"Sep-18-2020\", \"Sep-19-2020\", \"Sep-20-2020\", \"Sep-21-2020\", \"Sep-22-2020\", \"Sep-23-2020\", \"Sep-24-2020\", \"Sep-25-2020\", \"Sep-26-2020\", \"Sep-27-2020\", \"Sep-28-2020\", \"Sep-29-2020\", \"Sep-30-2020\", \"Oct-01-2020\", \"Oct-02-2020\", \"Oct-03-2020\", \"Oct-04-2020\", \"Oct-05-2020\", \"Oct-06-2020\", \"Oct-07-2020\", \"Oct-08-2020\", \"Oct-09-2020\", \"Oct-10-2020\", \"Oct-11-2020\", \"Oct-12-2020\", \"Oct-13-2020\", \"Oct-14-2020\", \"Oct-15-2020\", \"Oct-16-2020\", \"Oct-17-2020\", \"Oct-18-2020\", \"Oct-19-2020\", \"Oct-20-2020\", \"Oct-21-2020\", \"Oct-22-2020\", \"Oct-23-2020\", \"Oct-24-2020\", \"Oct-25-2020\", \"Oct-26-2020\", \"Oct-27-2020\", \"Oct-28-2020\", \"Oct-29-2020\", \"Oct-30-2020\", \"Oct-31-2020\", \"Nov-01-2020\", \"Nov-02-2020\", \"Nov-03-2020\", \"Nov-04-2020\", \"Nov-05-2020\", \"Nov-06-2020\", \"Nov-07-2020\", \"Nov-08-2020\", \"Nov-09-2020\", \"Nov-10-2020\", \"Nov-11-2020\", \"Nov-12-2020\", \"Nov-13-2020\", \"Nov-14-2020\", \"Nov-15-2020\", \"Nov-16-2020\", \"Nov-17-2020\", \"Nov-18-2020\", \"Nov-19-2020\", \"Nov-20-2020\", \"Nov-21-2020\", \"Nov-22-2020\", \"Nov-23-2020\", \"Nov-24-2020\", \"Nov-25-2020\", \"Nov-26-2020\", \"Nov-27-2020\", \"Nov-28-2020\", \"Nov-29-2020\", \"Nov-30-2020\", \"Dec-01-2020\", \"Dec-02-2020\", \"Dec-03-2020\", \"Dec-04-2020\", \"Dec-05-2020\", \"Dec-06-2020\", \"Dec-07-2020\", \"Dec-08-2020\", \"Dec-09-2020\", \"Dec-10-2020\", \"Dec-11-2020\", \"Dec-12-2020\", \"Dec-13-2020\", \"Dec-14-2020\", \"Dec-15-2020\", \"Dec-16-2020\", \"Dec-17-2020\", \"Dec-18-2020\", \"Dec-19-2020\", \"Dec-20-2020\", \"Dec-21-2020\", \"Dec-22-2020\", \"Dec-23-2020\", \"Dec-24-2020\", \"Dec-25-2020\", \"Dec-26-2020\", \"Dec-27-2020\", \"Dec-28-2020\", \"Dec-29-2020\", \"Dec-30-2020\", \"Dec-31-2020\", \"Jan-01-2021\", \"Jan-02-2021\", \"Jan-03-2021\", \"Jan-04-2021\", \"Jan-05-2021\", \"Jan-06-2021\", \"Jan-07-2021\", \"Jan-08-2021\", \"Jan-09-2021\", \"Jan-10-2021\", \"Jan-11-2021\", \"Jan-12-2021\", \"Jan-13-2021\", \"Jan-14-2021\", \"Jan-15-2021\", \"Jan-16-2021\", \"Jan-17-2021\", \"Jan-18-2021\", \"Jan-19-2021\", \"Jan-20-2021\", \"Jan-21-2021\", \"Jan-22-2021\", \"Jan-23-2021\", \"Jan-24-2021\", \"Jan-25-2021\", \"Jan-26-2021\", \"Jan-27-2021\", \"Jan-28-2021\", \"Jan-29-2021\", \"Jan-30-2021\", \"Jan-31-2021\", \"Feb-01-2021\", \"Feb-02-2021\", \"Feb-03-2021\", \"Feb-04-2021\", \"Feb-05-2021\", \"Feb-06-2021\", \"Feb-07-2021\", \"Feb-08-2021\", \"Feb-09-2021\", \"Feb-11-2021\", \"Feb-12-2021\", \"Feb-13-2021\", \"Feb-14-2021\", \"Feb-15-2021\", \"Feb-16-2021\", \"Feb-17-2021\", \"Feb-18-2021\", \"Feb-19-2021\", \"Feb-20-2021\", \"Feb-21-2021\", \"Feb-22-2021\", \"Feb-23-2021\", \"Feb-24-2021\", \"Feb-25-2021\", \"Feb-26-2021\", \"Feb-27-2021\", \"Feb-28-2021\", \"Mar-01-2021\", \"Mar-02-2021\", \"Mar-03-2021\", \"Mar-04-2021\", \"Mar-05-2021\", \"Mar-06-2021\", \"Mar-07-2021\", \"Mar-08-2021\", \"Mar-09-2021\", \"Mar-10-2021\", \"Mar-11-2021\", \"Mar-12-2021\", \"Mar-13-2021\", \"Mar-14-2021\", \"Mar-15-2021\", \"Mar-16-2021\", \"Mar-17-2021\", \"Mar-18-2021\", \"Mar-19-2021\", \"Mar-20-2021\", \"Mar-21-2021\", \"Mar-22-2021\", \"Mar-23-2021\", \"Mar-24-2021\", \"Mar-25-2021\"], \"y\": [55, 52, 62, 43, 39, 33, 47, 54, 30, 51, 48, 39, 59, 65, 46, 53, 72, 37, 46, 69, 98, 68, 78, 71, 69, 54, 52, 100, 71, 61, 87, 51, 72, 75, 86, 105, 89, 63, 89, 139, 118, 97, 104, 131, 147, 153, 124, 151, 107, 156, 159, 140, 133, 173, 178, 149, 152, 211, 203, 207, 303, 233, 223, 201, 263, 210, 207, 223, 282, 236, 214, 213, 202, 179, 216, 270, 259, 219, 258, 197, 284, 249, 366, 255, 230, 309, 220, 256, 219, 299, 224, 370, 275, 279, 214, 255, 314, 690, 274, 390, 424, 238, 410, 322, 368, 459, 364, 292, 332, 321, 472, 540, 431, 439, 413, 358, 319, 269, 410, 405, 416, 240, 295, 264, 415, 328, 337, 352, 275, 182, 223, 283, 322, 254, 231, 331, 161, 226, 242, 266, 296, 239, 226, 226, 218, 226, 192, 216, 232, 146, 121, 171, 277, 182, 176, 197, 202, 129, 135, 244, 209, 175, 154, 168, 135, 297, 217, 193, 224, 140, 111, 170, 128, 188, 269, 303, 237, 271, 208, 194, 271, 263, 254, 207, 265, 185, 184, 298, 255, 216, 225, 223, 116, 241, 182, 230, 186, 294, 204, 306, 217, 316, 235, 302, 297, 234, 238, 251, 341, 332, 269, 280, 256, 275, 337, 337, 397, 273, 413, 314, 290, 269, 342, 318, 297, 321, 230, 224, 263, 257, 330, 267, 384, 278, 306, 247, 402, 348, 392, 399, 326, 346, 312, 428, 358, 383, 497, 448, 340, 424, 520, 623, 554, 522, 419, 432, 546, 717, 701, 699, 658, 515, 605, 686, 820, 658, 689, 689, 910, 657, 594, 681, 1066, 1229, 1053, 909, 663, 598, 725, 1202, 924, 1003, 956, 775, 647, 637, 1027, 1052, 962, 844, 578, 525, 508, 885, 711, 568, 546, 527, 352, 434, 702, 498, 539, 355, 296, 472, 469, 401, 515, 375, 293, 337, 339, 470, 333, 364, 317, 339, 222, 315, 372, 272, 331, 248, 257, 225, 374, 302, 300, 301, 227, 296, 251, 312, 304, 282, 260, 553, 198, 229, 262, 340, 319, 376]}, {\"line\": {\"width\": 3}, \"mode\": \"lines\", \"name\": \"Total_Recovered\", \"type\": \"scatter\", \"x\": [\"Apr-16-2020\", \"Apr-17-2020\", \"Apr-18-2020\", \"Apr-19-2020\", \"Apr-20-2020\", \"Apr-21-2020\", \"Apr-22-2020\", \"Apr-23-2020\", \"Apr-24-2020\", \"Apr-25-2020\", \"Apr-26-2020\", \"Apr-27-2020\", \"Apr-28-2020\", \"Apr-29-2020\", \"Apr-30-2020\", \"May-01-2020\", \"May-02-2020\", \"May-03-2020\", \"May-04-2020\", \"May-05-2020\", \"May-06-2020\", \"May-07-2020\", \"May-08-2020\", \"May-09-2020\", \"May-10-2020\", \"May-11-2020\", \"May-12-2020\", \"May-13-2020\", \"May-14-2020\", \"May-15-2020\", \"May-16-2020\", \"May-17-2020\", \"May-18-2020\", \"May-19-2020\", \"May-20-2020\", \"May-21-2020\", \"May-22-2020\", \"May-23-2020\", \"May-24-2020\", \"May-25-2020\", \"May-26-2020\", \"May-27-2020\", \"May-28-2020\", \"May-29-2020\", \"May-30-2020\", \"May-31-2020\", \"Jun-01-2020\", \"Jun-02-2020\", \"Jun-03-2020\", \"Jun-04-2020\", \"Jun-05-2020\", \"Jun-06-2020\", \"Jun-07-2020\", \"Jun-08-2020\", \"Jun-09-2020\", \"Jun-10-2020\", \"Jun-11-2020\", \"Jun-12-2020\", \"Jun-13-2020\", \"Jun-14-2020\", \"Jun-15-2020\", \"Jun-16-2020\", \"Jun-17-2020\", \"Jun-18-2020\", \"Jun-19-2020\", \"Jun-20-2020\", \"Jun-21-2020\", \"Jun-22-2020\", \"Jun-23-2020\", \"Jun-24-2020\", \"Jun-25-2020\", \"Jun-26-2020\", \"Jun-27-2020\", \"Jun-28-2020\", \"Jun-29-2020\", \"Jun-30-2020\", \"Jul-01-2020\", \"Jul-02-2020\", \"Jul-03-2020\", \"Jul-04-2020\", \"Jul-05-2020\", \"Jul-06-2020\", \"Jul-07-2020\", \"Jul-08-2020\", \"Jul-09-2020\", \"Jul-10-2020\", \"Jul-11-2020\", \"Jul-12-2020\", \"Jul-13-2020\", \"Jul-14-2020\", \"Jul-15-2020\", \"Jul-16-2020\", \"Jul-17-2020\", \"Jul-18-2020\", \"Jul-19-2020\", \"Jul-20-2020\", \"Jul-21-2020\", \"Jul-22-2020\", \"Jul-23-2020\", \"Jul-24-2020\", \"Jul-25-2020\", \"Jul-26-2020\", \"Jul-27-2020\", \"Jul-28-2020\", \"Jul-29-2020\", \"Jul-30-2020\", \"Jul-31-2020\", \"Aug-01-2020\", \"Aug-02-2020\", \"Aug-03-2020\", \"Aug-04-2020\", \"Aug-05-2020\", \"Aug-06-2020\", \"Aug-07-2020\", \"Aug-08-2020\", \"Aug-09-2020\", \"Aug-10-2020\", \"Aug-11-2020\", \"Aug-12-2020\", \"Aug-13-2020\", \"Aug-14-2020\", \"Aug-15-2020\", \"Aug-16-2020\", \"Aug-17-2020\", \"Aug-18-2020\", \"Aug-19-2020\", \"Aug-20-2020\", \"Aug-21-2020\", \"Aug-22-2020\", \"Aug-23-2020\", \"Aug-24-2020\", \"Aug-25-2020\", \"Aug-26-2020\", \"Aug-27-2020\", \"Aug-28-2020\", \"Aug-29-2020\", \"Aug-30-2020\", \"Aug-31-2020\", \"Sep-01-2020\", \"Sep-02-2020\", \"Sep-03-2020\", \"Sep-04-2020\", \"Sep-05-2020\", \"Sep-06-2020\", \"Sep-07-2020\", \"Sep-08-2020\", \"Sep-09-2020\", \"Sep-10-2020\", \"Sep-11-2020\", \"Sep-12-2020\", \"Sep-13-2020\", \"Sep-14-2020\", \"Sep-15-2020\", \"Sep-16-2020\", \"Sep-17-2020\", \"Sep-18-2020\", \"Sep-19-2020\", \"Sep-20-2020\", \"Sep-21-2020\", \"Sep-22-2020\", \"Sep-23-2020\", \"Sep-24-2020\", \"Sep-25-2020\", \"Sep-26-2020\", \"Sep-27-2020\", \"Sep-28-2020\", \"Sep-29-2020\", \"Sep-30-2020\", \"Oct-01-2020\", \"Oct-02-2020\", \"Oct-03-2020\", \"Oct-04-2020\", \"Oct-05-2020\", \"Oct-06-2020\", \"Oct-07-2020\", \"Oct-08-2020\", \"Oct-09-2020\", \"Oct-10-2020\", \"Oct-11-2020\", \"Oct-12-2020\", \"Oct-13-2020\", \"Oct-14-2020\", \"Oct-15-2020\", \"Oct-16-2020\", \"Oct-17-2020\", \"Oct-18-2020\", \"Oct-19-2020\", \"Oct-20-2020\", \"Oct-21-2020\", \"Oct-22-2020\", \"Oct-23-2020\", \"Oct-24-2020\", \"Oct-25-2020\", \"Oct-26-2020\", \"Oct-27-2020\", \"Oct-28-2020\", \"Oct-29-2020\", \"Oct-30-2020\", \"Oct-31-2020\", \"Nov-01-2020\", \"Nov-02-2020\", \"Nov-03-2020\", \"Nov-04-2020\", \"Nov-05-2020\", \"Nov-06-2020\", \"Nov-07-2020\", \"Nov-08-2020\", \"Nov-09-2020\", \"Nov-10-2020\", \"Nov-11-2020\", \"Nov-12-2020\", \"Nov-13-2020\", \"Nov-14-2020\", \"Nov-15-2020\", \"Nov-16-2020\", \"Nov-17-2020\", \"Nov-18-2020\", \"Nov-19-2020\", \"Nov-20-2020\", \"Nov-21-2020\", \"Nov-22-2020\", \"Nov-23-2020\", \"Nov-24-2020\", \"Nov-25-2020\", \"Nov-26-2020\", \"Nov-27-2020\", \"Nov-28-2020\", \"Nov-29-2020\", \"Nov-30-2020\", \"Dec-01-2020\", \"Dec-02-2020\", \"Dec-03-2020\", \"Dec-04-2020\", \"Dec-05-2020\", \"Dec-06-2020\", \"Dec-07-2020\", \"Dec-08-2020\", \"Dec-09-2020\", \"Dec-10-2020\", \"Dec-11-2020\", \"Dec-12-2020\", \"Dec-13-2020\", \"Dec-14-2020\", \"Dec-15-2020\", \"Dec-16-2020\", \"Dec-17-2020\", \"Dec-18-2020\", \"Dec-19-2020\", \"Dec-20-2020\", \"Dec-21-2020\", \"Dec-22-2020\", \"Dec-23-2020\", \"Dec-24-2020\", \"Dec-25-2020\", \"Dec-26-2020\", \"Dec-27-2020\", \"Dec-28-2020\", \"Dec-29-2020\", \"Dec-30-2020\", \"Dec-31-2020\", \"Jan-01-2021\", \"Jan-02-2021\", \"Jan-03-2021\", \"Jan-04-2021\", \"Jan-05-2021\", \"Jan-06-2021\", \"Jan-07-2021\", \"Jan-08-2021\", \"Jan-09-2021\", \"Jan-10-2021\", \"Jan-11-2021\", \"Jan-12-2021\", \"Jan-13-2021\", \"Jan-14-2021\", \"Jan-15-2021\", \"Jan-16-2021\", \"Jan-17-2021\", \"Jan-18-2021\", \"Jan-19-2021\", \"Jan-20-2021\", \"Jan-21-2021\", \"Jan-22-2021\", \"Jan-23-2021\", \"Jan-24-2021\", \"Jan-25-2021\", \"Jan-26-2021\", \"Jan-27-2021\", \"Jan-28-2021\", \"Jan-29-2021\", \"Jan-30-2021\", \"Jan-31-2021\", \"Feb-01-2021\", \"Feb-02-2021\", \"Feb-03-2021\", \"Feb-04-2021\", \"Feb-05-2021\", \"Feb-06-2021\", \"Feb-07-2021\", \"Feb-08-2021\", \"Feb-09-2021\", \"Feb-11-2021\", \"Feb-12-2021\", \"Feb-13-2021\", \"Feb-14-2021\", \"Feb-15-2021\", \"Feb-16-2021\", \"Feb-17-2021\", \"Feb-18-2021\", \"Feb-19-2021\", \"Feb-20-2021\", \"Feb-21-2021\", \"Feb-22-2021\", \"Feb-23-2021\", \"Feb-24-2021\", \"Feb-25-2021\", \"Feb-26-2021\", \"Feb-27-2021\", \"Feb-28-2021\", \"Mar-01-2021\", \"Mar-02-2021\", \"Mar-03-2021\", \"Mar-04-2021\", \"Mar-05-2021\", \"Mar-06-2021\", \"Mar-07-2021\", \"Mar-08-2021\", \"Mar-09-2021\", \"Mar-10-2021\", \"Mar-11-2021\", \"Mar-12-2021\", \"Mar-13-2021\", \"Mar-14-2021\", \"Mar-15-2021\", \"Mar-16-2021\", \"Mar-17-2021\", \"Mar-18-2021\", \"Mar-19-2021\", \"Mar-20-2021\", \"Mar-21-2021\", \"Mar-22-2021\", \"Mar-23-2021\", \"Mar-24-2021\", \"Mar-25-2021\"], \"y\": [4585, 4958, 5470, 5840, 6451, 6770, 7315, 8534, 9140, 9530, 10018, 10575, 11868, 12630, 13070, 13918, 14664, 15137, 16231, 16977, 18286, 19099, 19839, 21649, 22643, 23961, 24819, 26250, 28186, 30210, 32103, 33496, 34879, 36802, 39428, 40588, 42881, 44166, 46063, 47813, 49902, 52623, 55126, 58197, 60987, 63463, 65931, 68985, 72380, 75830, 80324, 83432, 84919, 88212, 92914, 97163, 100711, 105092, 108835, 112243, 116730, 120949, 125580, 128347, 135176, 144985, 148863, 153242, 156968, 163507, 168752, 175652, 181179, 185243, 189722, 195397, 200995, 209616, 217705, 224808, 230016, 238464, 247734, 255857, 265783, 274778, 287924, 298194, 305852, 316780, 335800, 346500, 363494, 370715, 383351, 392264, 412654, 438288, 449637, 465357, 487462, 494224, 510089, 527821, 544168, 559906, 583665, 606320, 615344, 632929, 655407, 677208, 693620, 707877, 723688, 736638, 747414, 761619, 772365, 783617, 814407, 828034, 838452, 849723, 862564, 874088, 884480, 892304, 902901, 909724, 925220, 934192, 945475, 957854, 964846, 972908, 979996, 987398, 1002554, 1011064, 1017753, 1025872, 1033734, 1040454, 1049529, 1055312, 1063653, 1072778, 1080227, 1096779, 1104047, 1110971, 1121263, 1131194, 1138173, 1145275, 1153639, 1158805, 1166475, 1173809, 1180677, 1190410, 1199597, 1207311, 1213045, 1218331, 1225806, 1233125, 1239450, 1246159, 1253356, 1260391, 1268405, 1275086, 1286083, 1292200, 1299430, 1305456, 1311335, 1318297, 1323354, 1330252, 1336611, 1343499, 1352602, 1361855, 1367151, 1376599, 1384275, 1390786, 1398172, 1405116, 1412173, 1421870, 1429087, 1436462, 1444345, 1455052, 1462964, 1472758, 1481404, 1489152, 1497854, 1548650, 1560777, 1582702, 1595468, 1603562, 1613406, 1629090, 1641278, 1650737, 1660706, 1668055, 1680971, 1691074, 1709279, 1720252, 1735165, 1743655, 1753722, 1766116, 1781815, 1791355, 1800758, 1815904, 1825367, 1841027, 1853303, 1863025, 1876437, 1902660, 1916577, 1928679, 1936646, 1947529, 1965422, 1977560, 1991341, 2003870, 2014826, 2023832, 2033838, 2047032, 2066966, 2081503, 2092290, 2103442, 2116964, 2126614, 2153642, 2165927, 2187766, 2203865, 2222857, 2237159, 2248807, 2268172, 2289691, 2309250, 2324776, 2340971, 2352621, 2368319, 2386814, 2407081, 2425976, 2425976, 2444863, 2461292, 2478507, 2494196, 2550285, 2574282, 2605269, 2628487, 2661465, 2687882, 2718040, 2755482, 2784381, 2821895, 2851959, 2879164, 2904640, 2935117, 2960635, 2983192, 3002587, 3026867, 3045741, 3064238, 3085758, 3109935, 3126186, 3140920, 3161353, 3176627, 3205417, 3220115, 3234247, 3268948, 3284079, 3294362, 3303174, 3317277, 3331862, 3346363, 3360902, 3374788, 3385819, 3395724, 3406267, 3421548, 3434828, 3450747, 3465594, 3475121, 3484084, 3492194, 3504610, 3516663, 3527350, 3536724, 3548192, 3555476, 3565569, 3578347, 3589011, 3604089, 3614207, 3625987, 3635701, 3645966, 3656333, 3664665, 3674421, 3682851, 3689361, 3697455, 3706720, 3717254, 3725900, 3738001]}, {\"line\": {\"width\": 3}, \"mode\": \"lines\", \"name\": \"Active_Cases\", \"type\": \"scatter\", \"x\": [\"Apr-16-2020\", \"Apr-17-2020\", \"Apr-18-2020\", \"Apr-19-2020\", \"Apr-20-2020\", \"Apr-21-2020\", \"Apr-22-2020\", \"Apr-23-2020\", \"Apr-24-2020\", \"Apr-25-2020\", \"Apr-26-2020\", \"Apr-27-2020\", \"Apr-28-2020\", \"Apr-29-2020\", \"Apr-30-2020\", \"May-01-2020\", \"May-02-2020\", \"May-03-2020\", \"May-04-2020\", \"May-05-2020\", \"May-06-2020\", \"May-07-2020\", \"May-08-2020\", \"May-09-2020\", \"May-10-2020\", \"May-11-2020\", \"May-12-2020\", \"May-13-2020\", \"May-14-2020\", \"May-15-2020\", \"May-16-2020\", \"May-17-2020\", \"May-18-2020\", \"May-19-2020\", \"May-20-2020\", \"May-21-2020\", \"May-22-2020\", \"May-23-2020\", \"May-24-2020\", \"May-25-2020\", \"May-26-2020\", \"May-27-2020\", \"May-28-2020\", \"May-29-2020\", \"May-30-2020\", \"May-31-2020\", \"Jun-01-2020\", \"Jun-02-2020\", \"Jun-03-2020\", \"Jun-04-2020\", \"Jun-05-2020\", \"Jun-06-2020\", \"Jun-07-2020\", \"Jun-08-2020\", \"Jun-09-2020\", \"Jun-10-2020\", \"Jun-11-2020\", \"Jun-12-2020\", \"Jun-13-2020\", \"Jun-14-2020\", \"Jun-15-2020\", \"Jun-16-2020\", \"Jun-17-2020\", \"Jun-18-2020\", \"Jun-19-2020\", \"Jun-20-2020\", \"Jun-21-2020\", \"Jun-22-2020\", \"Jun-23-2020\", \"Jun-24-2020\", \"Jun-25-2020\", \"Jun-26-2020\", \"Jun-27-2020\", \"Jun-28-2020\", \"Jun-29-2020\", \"Jun-30-2020\", \"Jul-01-2020\", \"Jul-02-2020\", \"Jul-03-2020\", \"Jul-04-2020\", \"Jul-05-2020\", \"Jul-06-2020\", \"Jul-07-2020\", \"Jul-08-2020\", \"Jul-09-2020\", \"Jul-10-2020\", \"Jul-11-2020\", \"Jul-12-2020\", \"Jul-13-2020\", \"Jul-14-2020\", \"Jul-15-2020\", \"Jul-16-2020\", \"Jul-17-2020\", \"Jul-18-2020\", \"Jul-19-2020\", \"Jul-20-2020\", \"Jul-21-2020\", \"Jul-22-2020\", \"Jul-23-2020\", \"Jul-24-2020\", \"Jul-25-2020\", \"Jul-26-2020\", \"Jul-27-2020\", \"Jul-28-2020\", \"Jul-29-2020\", \"Jul-30-2020\", \"Jul-31-2020\", \"Aug-01-2020\", \"Aug-02-2020\", \"Aug-03-2020\", \"Aug-04-2020\", \"Aug-05-2020\", \"Aug-06-2020\", \"Aug-07-2020\", \"Aug-08-2020\", \"Aug-09-2020\", \"Aug-10-2020\", \"Aug-11-2020\", \"Aug-12-2020\", \"Aug-13-2020\", \"Aug-14-2020\", \"Aug-15-2020\", \"Aug-16-2020\", \"Aug-17-2020\", \"Aug-18-2020\", \"Aug-19-2020\", \"Aug-20-2020\", \"Aug-21-2020\", \"Aug-22-2020\", \"Aug-23-2020\", \"Aug-24-2020\", \"Aug-25-2020\", \"Aug-26-2020\", \"Aug-27-2020\", \"Aug-28-2020\", \"Aug-29-2020\", \"Aug-30-2020\", \"Aug-31-2020\", \"Sep-01-2020\", \"Sep-02-2020\", \"Sep-03-2020\", \"Sep-04-2020\", \"Sep-05-2020\", \"Sep-06-2020\", \"Sep-07-2020\", \"Sep-08-2020\", \"Sep-09-2020\", \"Sep-10-2020\", \"Sep-11-2020\", \"Sep-12-2020\", \"Sep-13-2020\", \"Sep-14-2020\", \"Sep-15-2020\", \"Sep-16-2020\", \"Sep-17-2020\", \"Sep-18-2020\", \"Sep-19-2020\", \"Sep-20-2020\", \"Sep-21-2020\", \"Sep-22-2020\", \"Sep-23-2020\", \"Sep-24-2020\", \"Sep-25-2020\", \"Sep-26-2020\", \"Sep-27-2020\", \"Sep-28-2020\", \"Sep-29-2020\", \"Sep-30-2020\", \"Oct-01-2020\", \"Oct-02-2020\", \"Oct-03-2020\", \"Oct-04-2020\", \"Oct-05-2020\", \"Oct-06-2020\", \"Oct-07-2020\", \"Oct-08-2020\", \"Oct-09-2020\", \"Oct-10-2020\", \"Oct-11-2020\", \"Oct-12-2020\", \"Oct-13-2020\", \"Oct-14-2020\", \"Oct-15-2020\", \"Oct-16-2020\", \"Oct-17-2020\", \"Oct-18-2020\", \"Oct-19-2020\", \"Oct-20-2020\", \"Oct-21-2020\", \"Oct-22-2020\", \"Oct-23-2020\", \"Oct-24-2020\", \"Oct-25-2020\", \"Oct-26-2020\", \"Oct-27-2020\", \"Oct-28-2020\", \"Oct-29-2020\", \"Oct-30-2020\", \"Oct-31-2020\", \"Nov-01-2020\", \"Nov-02-2020\", \"Nov-03-2020\", \"Nov-04-2020\", \"Nov-05-2020\", \"Nov-06-2020\", \"Nov-07-2020\", \"Nov-08-2020\", \"Nov-09-2020\", \"Nov-10-2020\", \"Nov-11-2020\", \"Nov-12-2020\", \"Nov-13-2020\", \"Nov-14-2020\", \"Nov-15-2020\", \"Nov-16-2020\", \"Nov-17-2020\", \"Nov-18-2020\", \"Nov-19-2020\", \"Nov-20-2020\", \"Nov-21-2020\", \"Nov-22-2020\", \"Nov-23-2020\", \"Nov-24-2020\", \"Nov-25-2020\", \"Nov-26-2020\", \"Nov-27-2020\", \"Nov-28-2020\", \"Nov-29-2020\", \"Nov-30-2020\", \"Dec-01-2020\", \"Dec-02-2020\", \"Dec-03-2020\", \"Dec-04-2020\", \"Dec-05-2020\", \"Dec-06-2020\", \"Dec-07-2020\", \"Dec-08-2020\", \"Dec-09-2020\", \"Dec-10-2020\", \"Dec-11-2020\", \"Dec-12-2020\", \"Dec-13-2020\", \"Dec-14-2020\", \"Dec-15-2020\", \"Dec-16-2020\", \"Dec-17-2020\", \"Dec-18-2020\", \"Dec-19-2020\", \"Dec-20-2020\", \"Dec-21-2020\", \"Dec-22-2020\", \"Dec-23-2020\", \"Dec-24-2020\", \"Dec-25-2020\", \"Dec-26-2020\", \"Dec-27-2020\", \"Dec-28-2020\", \"Dec-29-2020\", \"Dec-30-2020\", \"Dec-31-2020\", \"Jan-01-2021\", \"Jan-02-2021\", \"Jan-03-2021\", \"Jan-04-2021\", \"Jan-05-2021\", \"Jan-06-2021\", \"Jan-07-2021\", \"Jan-08-2021\", \"Jan-09-2021\", \"Jan-10-2021\", \"Jan-11-2021\", \"Jan-12-2021\", \"Jan-13-2021\", \"Jan-14-2021\", \"Jan-15-2021\", \"Jan-16-2021\", \"Jan-17-2021\", \"Jan-18-2021\", \"Jan-19-2021\", \"Jan-20-2021\", \"Jan-21-2021\", \"Jan-22-2021\", \"Jan-23-2021\", \"Jan-24-2021\", \"Jan-25-2021\", \"Jan-26-2021\", \"Jan-27-2021\", \"Jan-28-2021\", \"Jan-29-2021\", \"Jan-30-2021\", \"Jan-31-2021\", \"Feb-01-2021\", \"Feb-02-2021\", \"Feb-03-2021\", \"Feb-04-2021\", \"Feb-05-2021\", \"Feb-06-2021\", \"Feb-07-2021\", \"Feb-08-2021\", \"Feb-09-2021\", \"Feb-11-2021\", \"Feb-12-2021\", \"Feb-13-2021\", \"Feb-14-2021\", \"Feb-15-2021\", \"Feb-16-2021\", \"Feb-17-2021\", \"Feb-18-2021\", \"Feb-19-2021\", \"Feb-20-2021\", \"Feb-21-2021\", \"Feb-22-2021\", \"Feb-23-2021\", \"Feb-24-2021\", \"Feb-25-2021\", \"Feb-26-2021\", \"Feb-27-2021\", \"Feb-28-2021\", \"Mar-01-2021\", \"Mar-02-2021\", \"Mar-03-2021\", \"Mar-04-2021\", \"Mar-05-2021\", \"Mar-06-2021\", \"Mar-07-2021\", \"Mar-08-2021\", \"Mar-09-2021\", \"Mar-10-2021\", \"Mar-11-2021\", \"Mar-12-2021\", \"Mar-13-2021\", \"Mar-14-2021\", \"Mar-15-2021\", \"Mar-16-2021\", \"Mar-17-2021\", \"Mar-18-2021\", \"Mar-19-2021\", \"Mar-20-2021\", \"Mar-21-2021\", \"Mar-22-2021\", \"Mar-23-2021\", \"Mar-24-2021\", \"Mar-25-2021\"], \"y\": [13440, 14441, 15189, 16001, 16556, 17444, 18095, 18385, 19372, 20193, 21212, 21993, 22283, 23471, 25077, 25837, 27307, 28441, 29996, 31272, 32412, 34138, 37050, 38104, 39806, 41462, 43756, 45216, 46238, 46931, 48534, 50108, 52352, 53502, 54552, 57981, 59760, 62037, 64237, 66493, 68032, 70305, 72647, 75402, 78690, 81067, 84607, 86333, 87978, 91570, 94071, 97482, 101984, 105388, 107038, 109131, 112774, 116427, 120586, 125845, 130691, 133606, 137831, 142880, 145923, 146915, 152142, 156708, 161843, 166370, 173003, 177647, 183898, 190278, 196678, 202344, 209944, 214164, 222033, 230243, 238429, 243597, 251421, 257765, 266780, 275141, 280687, 286757, 295056, 298302, 297144, 307126, 308750, 320358, 326309, 332297, 325484, 318736, 325647, 331662, 327482, 338596, 335787, 331232, 332081, 333353, 328386, 322392, 325694, 318687, 305669, 298711, 296138, 295034, 293024, 292132, 290041, 283562, 281614, 280433, 261792, 259726, 259012, 256436, 251854, 250964, 250890, 253124, 252812, 254859, 246690, 245097, 242433, 238485, 239378, 239532, 240746, 240056, 231759, 231779, 232730, 233040, 232458, 233441, 231079, 232785, 232648, 231451, 232562, 223358, 222844, 222318, 218342, 215731, 217353, 218294, 218455, 220603, 219624, 219433, 221173, 219451, 218259, 216799, 219295, 219575, 219399, 220664, 221381, 223568, 225089, 225968, 222803, 222523, 221872, 226365, 227655, 234883, 237783, 236588, 239194, 243589, 246092, 249831, 254639, 253422, 257918, 257948, 260629, 264872, 267898, 272488, 274400, 275335, 276463, 280914, 283939, 286685, 289623, 289818, 288935, 291772, 297001, 261203, 260618, 253509, 252718, 253850, 256742, 255035, 258465, 263456, 267396, 272239, 269566, 272016, 268799, 271505, 272047, 276685, 279185, 276778, 273270, 278265, 282499, 282839, 286854, 283858, 282031, 282832, 285479, 274794, 278530, 280818, 285967, 285500, 280211, 287861, 292620, 299047, 305833, 312801, 313836, 318336, 319358, 324772, 332946, 342663, 347522, 354168, 346597, 359021, 363460, 372580, 374141, 377960, 380933, 380802, 389062, 398350, 409709, 415747, 425329, 430729, 438343, 452897, 468596, 468596, 485486, 503499, 516120, 527732, 496555, 507923, 509797, 517512, 511357, 511406, 503171, 487931, 486579, 476107, 471353, 470674, 464671, 450866, 443013, 440189, 440880, 435041, 433649, 430359, 421599, 411863, 410781, 412223, 407270, 404993, 387701, 385527, 382258, 372924, 371412, 372201, 373738, 369325, 364574, 363100, 361926, 358652, 358197, 357475, 355977, 348251, 346279, 343000, 338471, 336438, 336645, 337830, 333545, 332060, 333878, 333479, 331199, 332019, 331159, 326536, 326235, 326334, 325896, 323917, 322590, 320774, 318969, 321553, 322930, 326629, 330002, 330994, 330898, 329954, 331794, 331753]}, {\"line\": {\"width\": 3}, \"mode\": \"lines\", \"name\": \"Serious_Critical\", \"type\": \"scatter\", \"x\": [\"Apr-16-2020\", \"Apr-17-2020\", \"Apr-18-2020\", \"Apr-19-2020\", \"Apr-20-2020\", \"Apr-21-2020\", \"Apr-22-2020\", \"Apr-23-2020\", \"Apr-24-2020\", \"Apr-25-2020\", \"Apr-26-2020\", \"Apr-27-2020\", \"Apr-28-2020\", \"Apr-29-2020\", \"Apr-30-2020\", \"May-01-2020\", \"May-02-2020\", \"May-03-2020\", \"May-04-2020\", \"May-05-2020\", \"May-06-2020\", \"May-07-2020\", \"May-08-2020\", \"May-09-2020\", \"May-10-2020\", \"May-11-2020\", \"May-12-2020\", \"May-13-2020\", \"May-14-2020\", \"May-15-2020\", \"May-16-2020\", \"May-17-2020\", \"May-18-2020\", \"May-19-2020\", \"May-20-2020\", \"May-21-2020\", \"May-22-2020\", \"May-23-2020\", \"May-24-2020\", \"May-25-2020\", \"May-26-2020\", \"May-27-2020\", \"May-28-2020\", \"May-29-2020\", \"May-30-2020\", \"May-31-2020\", \"Jun-01-2020\", \"Jun-02-2020\", \"Jun-03-2020\", \"Jun-04-2020\", \"Jun-05-2020\", \"Jun-06-2020\", \"Jun-07-2020\", \"Jun-08-2020\", \"Jun-09-2020\", \"Jun-10-2020\", \"Jun-11-2020\", \"Jun-12-2020\", \"Jun-13-2020\", \"Jun-14-2020\", \"Jun-15-2020\", \"Jun-16-2020\", \"Jun-17-2020\", \"Jun-18-2020\", \"Jun-19-2020\", \"Jun-20-2020\", \"Jun-21-2020\", \"Jun-22-2020\", \"Jun-23-2020\", \"Jun-24-2020\", \"Jun-25-2020\", \"Jun-26-2020\", \"Jun-27-2020\", \"Jun-28-2020\", \"Jun-29-2020\", \"Jun-30-2020\", \"Jul-01-2020\", \"Jul-02-2020\", \"Jul-03-2020\", \"Jul-04-2020\", \"Jul-05-2020\", \"Jul-06-2020\", \"Jul-07-2020\", \"Jul-08-2020\", \"Jul-09-2020\", \"Jul-10-2020\", \"Jul-11-2020\", \"Jul-12-2020\", \"Jul-13-2020\", \"Jul-14-2020\", \"Jul-15-2020\", \"Jul-16-2020\", \"Jul-17-2020\", \"Jul-18-2020\", \"Jul-19-2020\", \"Jul-20-2020\", \"Jul-21-2020\", \"Jul-22-2020\", \"Jul-23-2020\", \"Jul-24-2020\", \"Jul-25-2020\", \"Jul-26-2020\", \"Jul-27-2020\", \"Jul-28-2020\", \"Jul-29-2020\", \"Jul-30-2020\", \"Jul-31-2020\", \"Aug-01-2020\", \"Aug-02-2020\", \"Aug-03-2020\", \"Aug-04-2020\", \"Aug-05-2020\", \"Aug-06-2020\", \"Aug-07-2020\", \"Aug-08-2020\", \"Aug-09-2020\", \"Aug-10-2020\", \"Aug-11-2020\", \"Aug-12-2020\", \"Aug-13-2020\", \"Aug-14-2020\", \"Aug-15-2020\", \"Aug-16-2020\", \"Aug-17-2020\", \"Aug-18-2020\", \"Aug-19-2020\", \"Aug-20-2020\", \"Aug-21-2020\", \"Aug-22-2020\", \"Aug-23-2020\", \"Aug-24-2020\", \"Aug-25-2020\", \"Aug-26-2020\", \"Aug-27-2020\", \"Aug-28-2020\", \"Aug-29-2020\", \"Aug-30-2020\", \"Aug-31-2020\", \"Sep-01-2020\", \"Sep-02-2020\", \"Sep-03-2020\", \"Sep-04-2020\", \"Sep-05-2020\", \"Sep-06-2020\", \"Sep-07-2020\", \"Sep-08-2020\", \"Sep-09-2020\", \"Sep-10-2020\", \"Sep-11-2020\", \"Sep-12-2020\", \"Sep-13-2020\", \"Sep-14-2020\", \"Sep-15-2020\", \"Sep-16-2020\", \"Sep-17-2020\", \"Sep-18-2020\", \"Sep-19-2020\", \"Sep-20-2020\", \"Sep-21-2020\", \"Sep-22-2020\", \"Sep-23-2020\", \"Sep-24-2020\", \"Sep-25-2020\", \"Sep-26-2020\", \"Sep-27-2020\", \"Sep-28-2020\", \"Sep-29-2020\", \"Sep-30-2020\", \"Oct-01-2020\", \"Oct-02-2020\", \"Oct-03-2020\", \"Oct-04-2020\", \"Oct-05-2020\", \"Oct-06-2020\", \"Oct-07-2020\", \"Oct-08-2020\", \"Oct-09-2020\", \"Oct-10-2020\", \"Oct-11-2020\", \"Oct-12-2020\", \"Oct-13-2020\", \"Oct-14-2020\", \"Oct-15-2020\", \"Oct-16-2020\", \"Oct-17-2020\", \"Oct-18-2020\", \"Oct-19-2020\", \"Oct-20-2020\", \"Oct-21-2020\", \"Oct-22-2020\", \"Oct-23-2020\", \"Oct-24-2020\", \"Oct-25-2020\", \"Oct-26-2020\", \"Oct-27-2020\", \"Oct-28-2020\", \"Oct-29-2020\", \"Oct-30-2020\", \"Oct-31-2020\", \"Nov-01-2020\", \"Nov-02-2020\", \"Nov-03-2020\", \"Nov-04-2020\", \"Nov-05-2020\", \"Nov-06-2020\", \"Nov-07-2020\", \"Nov-08-2020\", \"Nov-09-2020\", \"Nov-10-2020\", \"Nov-11-2020\", \"Nov-12-2020\", \"Nov-13-2020\", \"Nov-14-2020\", \"Nov-15-2020\", \"Nov-16-2020\", \"Nov-17-2020\", \"Nov-18-2020\", \"Nov-19-2020\", \"Nov-20-2020\", \"Nov-21-2020\", \"Nov-22-2020\", \"Nov-23-2020\", \"Nov-24-2020\", \"Nov-25-2020\", \"Nov-26-2020\", \"Nov-27-2020\", \"Nov-28-2020\", \"Nov-29-2020\", \"Nov-30-2020\", \"Dec-01-2020\", \"Dec-02-2020\", \"Dec-03-2020\", \"Dec-04-2020\", \"Dec-05-2020\", \"Dec-06-2020\", \"Dec-07-2020\", \"Dec-08-2020\", \"Dec-09-2020\", \"Dec-10-2020\", \"Dec-11-2020\", \"Dec-12-2020\", \"Dec-13-2020\", \"Dec-14-2020\", \"Dec-15-2020\", \"Dec-16-2020\", \"Dec-17-2020\", \"Dec-18-2020\", \"Dec-19-2020\", \"Dec-20-2020\", \"Dec-21-2020\", \"Dec-22-2020\", \"Dec-23-2020\", \"Dec-24-2020\", \"Dec-25-2020\", \"Dec-26-2020\", \"Dec-27-2020\", \"Dec-28-2020\", \"Dec-29-2020\", \"Dec-30-2020\", \"Dec-31-2020\", \"Jan-01-2021\", \"Jan-02-2021\", \"Jan-03-2021\", \"Jan-04-2021\", \"Jan-05-2021\", \"Jan-06-2021\", \"Jan-07-2021\", \"Jan-08-2021\", \"Jan-09-2021\", \"Jan-10-2021\", \"Jan-11-2021\", \"Jan-12-2021\", \"Jan-13-2021\", \"Jan-14-2021\", \"Jan-15-2021\", \"Jan-16-2021\", \"Jan-17-2021\", \"Jan-18-2021\", \"Jan-19-2021\", \"Jan-20-2021\", \"Jan-21-2021\", \"Jan-22-2021\", \"Jan-23-2021\", \"Jan-24-2021\", \"Jan-25-2021\", \"Jan-26-2021\", \"Jan-27-2021\", \"Jan-28-2021\", \"Jan-29-2021\", \"Jan-30-2021\", \"Jan-31-2021\", \"Feb-01-2021\", \"Feb-02-2021\", \"Feb-03-2021\", \"Feb-04-2021\", \"Feb-05-2021\", \"Feb-06-2021\", \"Feb-07-2021\", \"Feb-08-2021\", \"Feb-09-2021\", \"Feb-11-2021\", \"Feb-12-2021\", \"Feb-13-2021\", \"Feb-14-2021\", \"Feb-15-2021\", \"Feb-16-2021\", \"Feb-17-2021\", \"Feb-18-2021\", \"Feb-19-2021\", \"Feb-20-2021\", \"Feb-21-2021\", \"Feb-22-2021\", \"Feb-23-2021\", \"Feb-24-2021\", \"Feb-25-2021\", \"Feb-26-2021\", \"Feb-27-2021\", \"Feb-28-2021\", \"Mar-01-2021\", \"Mar-02-2021\", \"Mar-03-2021\", \"Mar-04-2021\", \"Mar-05-2021\", \"Mar-06-2021\", \"Mar-07-2021\", \"Mar-08-2021\", \"Mar-09-2021\", \"Mar-10-2021\", \"Mar-11-2021\", \"Mar-12-2021\", \"Mar-13-2021\", \"Mar-14-2021\", \"Mar-15-2021\", \"Mar-16-2021\", \"Mar-17-2021\", \"Mar-18-2021\", \"Mar-19-2021\", \"Mar-20-2021\", \"Mar-21-2021\", \"Mar-22-2021\", \"Mar-23-2021\", \"Mar-24-2021\", \"Mar-25-2021\"], \"y\": [180, 187, 195, 174, 177, 164, 174, 173, 148, 155, 140, 138, 120, 122, 126, 126, 127, 132, 129, 128, 128, 176, 223, 217, 235, 224, 219, 258, 290, 288, 289, 288, 285, 284, 287, 285, 296, 306, 323, 327, 334, 349, 352, 356, 370, 346, 347, 425, 435, 449, 443, 463, 469, 490, 499, 499, 511, 526, 524, 515, 517, 500, 493, 506, 499, 481, 491, 502, 504, 847, 885, 881, 904, 907, 924, 920, 919, 916, 1797, 944, 945, 956, 950, 964, 952, 965, 978, 969, 994, 982, 990, 1003, 1030, 1066, 1061, 1047, 1046, 1044, 1068, 1091, 1086, 1091, 1094, 1124, 1120, 1160, 1138, 1151, 1150, 1149, 1149, 1188, 1187, 1196, 1206, 1200, 1161, 1207, 1211, 1188, 1190, 1196, 1210, 1210, 1214, 1206, 1190, 1202, 1207, 1218, 1212, 1258, 1271, 1282, 1289, 1264, 1278, 1270, 1262, 1278, 1445, 1418, 1421, 1421, 1434, 1469, 1468, 1500, 1486, 1486, 1503, 1504, 1428, 1434, 1457, 1451, 1466, 1457, 1465, 1402, 1463, 1455, 1530, 1557, 1515, 1568, 1621, 1609, 1599, 1602, 1576, 1633, 1638, 1607, 1569, 1617, 1640, 1668, 1720, 1685, 1771, 1774, 1829, 1861, 1845, 1850, 1855, 1932, 1961, 1995, 2063, 2060, 2133, 2189, 2191, 2231, 2241, 2295, 2284, 2315, 2341, 2389, 2419, 2428, 2423, 2448, 2434, 2443, 2475, 2482, 2509, 2540, 2609, 2594, 2573, 2575, 2573, 2600, 2607, 2577, 2570, 2558, 2560, 2549, 2584, 2559, 2590, 2601, 2615, 2619, 2594, 2573, 2559, 2551, 2542, 2528, 2528, 2535, 2534, 2549, 2587, 2620, 2624, 2691, 2704, 2761, 2759, 2709, 2734, 2729, 2727, 2602, 2534, 2458, 2487, 2442, 2433, 2446, 2447, 2449, 2433, 2442, 2472, 2500, 2430, 2368, 2379, 2379, 2517, 2468, 2482, 2489, 2560, 2957, 2581, 2598, 2644, 2635, 2699, 2610, 2608, 2588, 2668, 2750, 2800, 2805, 2765, 2765, 2796, 2750, 2765, 2727, 2721, 2669, 2645, 2593, 2603, 2533, 2491, 2497, 2559, 2540, 2517, 2499, 2422, 2439, 2417, 2407, 2420, 2387, 2442, 2480, 2478, 2513, 2521, 2527, 2580, 2528, 2555, 2533, 2500, 2484, 2474, 2505, 2482, 2498, 2584, 2579, 2592, 2580, 2605, 2531, 2546, 2599, 2648, 2619, 2599, 2597, 2551, 2578, 2630, 2666, 2742, 2721]}],\n",
       "                        {\"legend\": {\"bgcolor\": \"rgba(255, 255, 255, 0)\", \"bordercolor\": \"rgba(255, 255, 255, 0)\", \"traceorder\": \"normal\", \"x\": 0.07, \"y\": 0.98}, \"template\": {\"data\": {\"bar\": [{\"error_x\": {\"color\": \"#2a3f5f\"}, \"error_y\": {\"color\": \"#2a3f5f\"}, \"marker\": {\"line\": {\"color\": \"#E5ECF6\", \"width\": 0.5}}, \"type\": \"bar\"}], \"barpolar\": [{\"marker\": {\"line\": {\"color\": \"#E5ECF6\", \"width\": 0.5}}, \"type\": \"barpolar\"}], \"carpet\": [{\"aaxis\": {\"endlinecolor\": \"#2a3f5f\", \"gridcolor\": \"white\", \"linecolor\": \"white\", \"minorgridcolor\": \"white\", \"startlinecolor\": \"#2a3f5f\"}, \"baxis\": {\"endlinecolor\": \"#2a3f5f\", \"gridcolor\": \"white\", \"linecolor\": \"white\", \"minorgridcolor\": \"white\", \"startlinecolor\": \"#2a3f5f\"}, \"type\": \"carpet\"}], \"choropleth\": [{\"colorbar\": {\"outlinewidth\": 0, \"ticks\": \"\"}, \"type\": \"choropleth\"}], \"contour\": [{\"colorbar\": {\"outlinewidth\": 0, \"ticks\": \"\"}, \"colorscale\": [[0.0, \"#0d0887\"], [0.1111111111111111, \"#46039f\"], [0.2222222222222222, \"#7201a8\"], [0.3333333333333333, \"#9c179e\"], [0.4444444444444444, \"#bd3786\"], [0.5555555555555556, \"#d8576b\"], [0.6666666666666666, \"#ed7953\"], [0.7777777777777778, \"#fb9f3a\"], [0.8888888888888888, \"#fdca26\"], [1.0, \"#f0f921\"]], \"type\": \"contour\"}], \"contourcarpet\": [{\"colorbar\": {\"outlinewidth\": 0, \"ticks\": \"\"}, \"type\": \"contourcarpet\"}], \"heatmap\": [{\"colorbar\": {\"outlinewidth\": 0, \"ticks\": \"\"}, \"colorscale\": [[0.0, \"#0d0887\"], [0.1111111111111111, \"#46039f\"], [0.2222222222222222, \"#7201a8\"], [0.3333333333333333, \"#9c179e\"], [0.4444444444444444, \"#bd3786\"], [0.5555555555555556, \"#d8576b\"], [0.6666666666666666, \"#ed7953\"], [0.7777777777777778, \"#fb9f3a\"], [0.8888888888888888, \"#fdca26\"], [1.0, \"#f0f921\"]], \"type\": \"heatmap\"}], \"heatmapgl\": [{\"colorbar\": {\"outlinewidth\": 0, \"ticks\": \"\"}, \"colorscale\": [[0.0, \"#0d0887\"], [0.1111111111111111, \"#46039f\"], [0.2222222222222222, \"#7201a8\"], [0.3333333333333333, \"#9c179e\"], [0.4444444444444444, \"#bd3786\"], [0.5555555555555556, \"#d8576b\"], [0.6666666666666666, \"#ed7953\"], [0.7777777777777778, \"#fb9f3a\"], [0.8888888888888888, \"#fdca26\"], [1.0, \"#f0f921\"]], \"type\": \"heatmapgl\"}], \"histogram\": [{\"marker\": {\"colorbar\": {\"outlinewidth\": 0, \"ticks\": \"\"}}, \"type\": \"histogram\"}], \"histogram2d\": [{\"colorbar\": {\"outlinewidth\": 0, \"ticks\": \"\"}, \"colorscale\": [[0.0, \"#0d0887\"], [0.1111111111111111, \"#46039f\"], [0.2222222222222222, \"#7201a8\"], [0.3333333333333333, \"#9c179e\"], [0.4444444444444444, \"#bd3786\"], [0.5555555555555556, \"#d8576b\"], [0.6666666666666666, \"#ed7953\"], [0.7777777777777778, \"#fb9f3a\"], [0.8888888888888888, \"#fdca26\"], [1.0, \"#f0f921\"]], \"type\": \"histogram2d\"}], \"histogram2dcontour\": [{\"colorbar\": {\"outlinewidth\": 0, \"ticks\": \"\"}, \"colorscale\": [[0.0, \"#0d0887\"], [0.1111111111111111, \"#46039f\"], [0.2222222222222222, \"#7201a8\"], [0.3333333333333333, \"#9c179e\"], [0.4444444444444444, \"#bd3786\"], [0.5555555555555556, \"#d8576b\"], [0.6666666666666666, \"#ed7953\"], [0.7777777777777778, \"#fb9f3a\"], [0.8888888888888888, \"#fdca26\"], [1.0, \"#f0f921\"]], \"type\": \"histogram2dcontour\"}], \"mesh3d\": [{\"colorbar\": {\"outlinewidth\": 0, \"ticks\": \"\"}, \"type\": \"mesh3d\"}], \"parcoords\": [{\"line\": {\"colorbar\": {\"outlinewidth\": 0, \"ticks\": \"\"}}, \"type\": \"parcoords\"}], \"scatter\": [{\"marker\": {\"colorbar\": {\"outlinewidth\": 0, \"ticks\": \"\"}}, \"type\": \"scatter\"}], \"scatter3d\": [{\"line\": {\"colorbar\": {\"outlinewidth\": 0, \"ticks\": \"\"}}, \"marker\": {\"colorbar\": {\"outlinewidth\": 0, \"ticks\": \"\"}}, \"type\": \"scatter3d\"}], \"scattercarpet\": [{\"marker\": {\"colorbar\": {\"outlinewidth\": 0, \"ticks\": \"\"}}, \"type\": \"scattercarpet\"}], \"scattergeo\": [{\"marker\": {\"colorbar\": {\"outlinewidth\": 0, \"ticks\": \"\"}}, \"type\": \"scattergeo\"}], \"scattergl\": [{\"marker\": {\"colorbar\": {\"outlinewidth\": 0, \"ticks\": \"\"}}, \"type\": \"scattergl\"}], \"scattermapbox\": [{\"marker\": {\"colorbar\": {\"outlinewidth\": 0, \"ticks\": \"\"}}, \"type\": \"scattermapbox\"}], \"scatterpolar\": [{\"marker\": {\"colorbar\": {\"outlinewidth\": 0, \"ticks\": \"\"}}, \"type\": \"scatterpolar\"}], \"scatterpolargl\": [{\"marker\": {\"colorbar\": {\"outlinewidth\": 0, \"ticks\": \"\"}}, \"type\": \"scatterpolargl\"}], \"scatterternary\": [{\"marker\": {\"colorbar\": {\"outlinewidth\": 0, \"ticks\": \"\"}}, \"type\": \"scatterternary\"}], \"surface\": [{\"colorbar\": {\"outlinewidth\": 0, \"ticks\": \"\"}, \"colorscale\": [[0.0, \"#0d0887\"], [0.1111111111111111, \"#46039f\"], [0.2222222222222222, \"#7201a8\"], [0.3333333333333333, \"#9c179e\"], [0.4444444444444444, \"#bd3786\"], [0.5555555555555556, \"#d8576b\"], [0.6666666666666666, \"#ed7953\"], [0.7777777777777778, \"#fb9f3a\"], [0.8888888888888888, \"#fdca26\"], [1.0, \"#f0f921\"]], \"type\": \"surface\"}], \"table\": [{\"cells\": {\"fill\": {\"color\": \"#EBF0F8\"}, \"line\": {\"color\": \"white\"}}, \"header\": {\"fill\": {\"color\": \"#C8D4E3\"}, \"line\": {\"color\": \"white\"}}, \"type\": \"table\"}]}, \"layout\": {\"annotationdefaults\": {\"arrowcolor\": \"#2a3f5f\", \"arrowhead\": 0, \"arrowwidth\": 1}, \"colorscale\": {\"diverging\": [[0, \"#8e0152\"], [0.1, \"#c51b7d\"], [0.2, \"#de77ae\"], [0.3, \"#f1b6da\"], [0.4, \"#fde0ef\"], [0.5, \"#f7f7f7\"], [0.6, \"#e6f5d0\"], [0.7, \"#b8e186\"], [0.8, \"#7fbc41\"], [0.9, \"#4d9221\"], [1, \"#276419\"]], \"sequential\": [[0.0, \"#0d0887\"], [0.1111111111111111, \"#46039f\"], [0.2222222222222222, \"#7201a8\"], [0.3333333333333333, \"#9c179e\"], [0.4444444444444444, \"#bd3786\"], [0.5555555555555556, \"#d8576b\"], [0.6666666666666666, \"#ed7953\"], [0.7777777777777778, \"#fb9f3a\"], [0.8888888888888888, \"#fdca26\"], [1.0, \"#f0f921\"]], \"sequentialminus\": [[0.0, \"#0d0887\"], [0.1111111111111111, \"#46039f\"], [0.2222222222222222, \"#7201a8\"], [0.3333333333333333, \"#9c179e\"], [0.4444444444444444, \"#bd3786\"], [0.5555555555555556, \"#d8576b\"], [0.6666666666666666, \"#ed7953\"], [0.7777777777777778, \"#fb9f3a\"], [0.8888888888888888, \"#fdca26\"], [1.0, \"#f0f921\"]]}, \"colorway\": [\"#636efa\", \"#EF553B\", \"#00cc96\", \"#ab63fa\", \"#FFA15A\", \"#19d3f3\", \"#FF6692\", \"#B6E880\", \"#FF97FF\", \"#FECB52\"], \"font\": {\"color\": \"#2a3f5f\"}, \"geo\": {\"bgcolor\": \"white\", \"lakecolor\": \"white\", \"landcolor\": \"#E5ECF6\", \"showlakes\": true, \"showland\": true, \"subunitcolor\": \"white\"}, \"hoverlabel\": {\"align\": \"left\"}, \"hovermode\": \"closest\", \"mapbox\": {\"style\": \"light\"}, \"paper_bgcolor\": \"white\", \"plot_bgcolor\": \"#E5ECF6\", \"polar\": {\"angularaxis\": {\"gridcolor\": \"white\", \"linecolor\": \"white\", \"ticks\": \"\"}, \"bgcolor\": \"#E5ECF6\", \"radialaxis\": {\"gridcolor\": \"white\", \"linecolor\": \"white\", \"ticks\": \"\"}}, \"scene\": {\"xaxis\": {\"backgroundcolor\": \"#E5ECF6\", \"gridcolor\": \"white\", \"gridwidth\": 2, \"linecolor\": \"white\", \"showbackground\": true, \"ticks\": \"\", \"zerolinecolor\": \"white\"}, \"yaxis\": {\"backgroundcolor\": \"#E5ECF6\", \"gridcolor\": \"white\", \"gridwidth\": 2, \"linecolor\": \"white\", \"showbackground\": true, \"ticks\": \"\", \"zerolinecolor\": \"white\"}, \"zaxis\": {\"backgroundcolor\": \"#E5ECF6\", \"gridcolor\": \"white\", \"gridwidth\": 2, \"linecolor\": \"white\", \"showbackground\": true, \"ticks\": \"\", \"zerolinecolor\": \"white\"}}, \"shapedefaults\": {\"line\": {\"color\": \"#2a3f5f\"}}, \"ternary\": {\"aaxis\": {\"gridcolor\": \"white\", \"linecolor\": \"white\", \"ticks\": \"\"}, \"baxis\": {\"gridcolor\": \"white\", \"linecolor\": \"white\", \"ticks\": \"\"}, \"bgcolor\": \"#E5ECF6\", \"caxis\": {\"gridcolor\": \"white\", \"linecolor\": \"white\", \"ticks\": \"\"}}, \"title\": {\"x\": 0.05}, \"xaxis\": {\"automargin\": true, \"gridcolor\": \"white\", \"linecolor\": \"white\", \"ticks\": \"\", \"zerolinecolor\": \"white\", \"zerolinewidth\": 2}, \"yaxis\": {\"automargin\": true, \"gridcolor\": \"white\", \"linecolor\": \"white\", \"ticks\": \"\", \"zerolinecolor\": \"white\", \"zerolinewidth\": 2}}}, \"title\": {\"text\": \"<b>COVID19 CASES IN AFRICA: March 25, 2021</b>\", \"x\": 0.5, \"xanchor\": \"center\", \"y\": 0.9, \"yanchor\": \"top\"}, \"xaxis\": {\"nticks\": 30, \"tickangle\": 90, \"title\": {\"font\": {\"color\": \"#BDBDBD\", \"size\": 18}, \"text\": \"<b>Date</b>\"}}, \"yaxis\": {\"title\": {\"font\": {\"color\": \"#4D4B4B\", \"size\": 18}, \"text\": \"<b>Cases</b>\"}}},\n",
       "                        {\"responsive\": true}\n",
       "                    ).then(function(){\n",
       "                            \n",
       "var gd = document.getElementById('d34ad417-1eb8-4a87-9915-36fbfc10980d');\n",
       "var x = new MutationObserver(function (mutations, observer) {{\n",
       "        var display = window.getComputedStyle(gd).display;\n",
       "        if (!display || display === 'none') {{\n",
       "            console.log([gd, 'removed!']);\n",
       "            Plotly.purge(gd);\n",
       "            observer.disconnect();\n",
       "        }}\n",
       "}});\n",
       "\n",
       "// Listen for the removal of the full notebook cells\n",
       "var notebookContainer = gd.closest('#notebook-container');\n",
       "if (notebookContainer) {{\n",
       "    x.observe(notebookContainer, {childList: true});\n",
       "}}\n",
       "\n",
       "// Listen for the clearing of the current output cell\n",
       "var outputEl = gd.closest('.output');\n",
       "if (outputEl) {{\n",
       "    x.observe(outputEl, {childList: true});\n",
       "}}\n",
       "\n",
       "                        })\n",
       "                };\n",
       "                });\n",
       "            </script>\n",
       "        </div>"
      ]
     },
     "metadata": {},
     "output_type": "display_data"
    }
   ],
   "source": [
    "fig = go.Figure()\n",
    "for column in african_summary.columns[1:]:\n",
    "    fig.add_trace(go.Scatter(\n",
    "#         x=dates,\n",
    "        x=format_date(dates),\n",
    "        y= african_summary[column].tolist(),\n",
    "        name=column,\n",
    "        mode='lines',\n",
    "        line=dict(width=3)       \n",
    "))    \n",
    "fig.update_layout(\n",
    "    title={\n",
    "        'text': '<b>'+'COVID19 CASES IN AFRICA: ' + date_string +'</b>',\n",
    "        'y':0.9,\n",
    "        'x':0.5,\n",
    "        'xanchor': 'center',\n",
    "        'yanchor': 'top'},\n",
    "    xaxis=dict(title='<b>Date</b>',titlefont_size=18, titlefont=dict(color='#BDBDBD'),nticks=30),\n",
    "    yaxis=dict(title='<b>Cases</b>',titlefont_size=18,  titlefont=dict(color='#4D4B4B')),\n",
    "    legend=dict(x=0.07, y=0.98,traceorder=\"normal\",bgcolor='rgba(255, 255, 255, 0)',bordercolor='rgba(255, 255, 255, 0)',),\n",
    "#     margin=dict(l=20, r=20, t=20, b=20),    \n",
    "    xaxis_tickangle=90,   \n",
    "#     legend=dict(x=0.01, y=0.98,traceorder=\"normal\",borderwidth=1,bordercolor=\"Black\",)\n",
    ")\n",
    "fig.show()"
   ]
  },
  {
   "cell_type": "markdown",
   "metadata": {},
   "source": [
    "[Return to top](#top)"
   ]
  },
  {
   "cell_type": "markdown",
   "metadata": {},
   "source": [
    "### NEW CASES BY REGION"
   ]
  },
  {
   "cell_type": "code",
   "execution_count": 143,
   "metadata": {},
   "outputs": [
    {
     "data": {
      "application/vnd.plotly.v1+json": {
       "config": {
        "plotlyServerURL": "https://plot.ly"
       },
       "data": [
        {
         "line": {
          "width": 2.5
         },
         "mode": "lines",
         "name": "East Africa",
         "type": "scatter",
         "x": [
          "Apr-16-2020",
          "Apr-17-2020",
          "Apr-18-2020",
          "Apr-19-2020",
          "Apr-20-2020",
          "Apr-21-2020",
          "Apr-22-2020",
          "Apr-23-2020",
          "Apr-24-2020",
          "Apr-25-2020",
          "Apr-26-2020",
          "Apr-27-2020",
          "Apr-28-2020",
          "Apr-29-2020",
          "Apr-30-2020",
          "May-01-2020",
          "May-02-2020",
          "May-03-2020",
          "May-04-2020",
          "May-05-2020",
          "May-06-2020",
          "May-07-2020",
          "May-08-2020",
          "May-09-2020",
          "May-10-2020",
          "May-11-2020",
          "May-12-2020",
          "May-13-2020",
          "May-14-2020",
          "May-15-2020",
          "May-16-2020",
          "May-17-2020",
          "May-18-2020",
          "May-19-2020",
          "May-20-2020",
          "May-21-2020",
          "May-22-2020",
          "May-23-2020",
          "May-24-2020",
          "May-25-2020",
          "May-26-2020",
          "May-27-2020",
          "May-28-2020",
          "May-29-2020",
          "May-30-2020",
          "May-31-2020",
          "Jun-01-2020",
          "Jun-02-2020",
          "Jun-03-2020",
          "Jun-04-2020",
          "Jun-05-2020",
          "Jun-06-2020",
          "Jun-07-2020",
          "Jun-08-2020",
          "Jun-09-2020",
          "Jun-10-2020",
          "Jun-11-2020",
          "Jun-12-2020",
          "Jun-13-2020",
          "Jun-14-2020",
          "Jun-15-2020",
          "Jun-16-2020",
          "Jun-17-2020",
          "Jun-18-2020",
          "Jun-19-2020",
          "Jun-20-2020",
          "Jun-21-2020",
          "Jun-22-2020",
          "Jun-23-2020",
          "Jun-24-2020",
          "Jun-25-2020",
          "Jun-26-2020",
          "Jun-27-2020",
          "Jun-28-2020",
          "Jun-29-2020",
          "Jun-30-2020",
          "Jul-01-2020",
          "Jul-02-2020",
          "Jul-03-2020",
          "Jul-04-2020",
          "Jul-05-2020",
          "Jul-06-2020",
          "Jul-07-2020",
          "Jul-08-2020",
          "Jul-09-2020",
          "Jul-10-2020",
          "Jul-11-2020",
          "Jul-12-2020",
          "Jul-13-2020",
          "Jul-14-2020",
          "Jul-15-2020",
          "Jul-16-2020",
          "Jul-17-2020",
          "Jul-18-2020",
          "Jul-19-2020",
          "Jul-20-2020",
          "Jul-21-2020",
          "Jul-22-2020",
          "Jul-23-2020",
          "Jul-24-2020",
          "Jul-25-2020",
          "Jul-26-2020",
          "Jul-27-2020",
          "Jul-28-2020",
          "Jul-29-2020",
          "Jul-30-2020",
          "Jul-31-2020",
          "Aug-01-2020",
          "Aug-02-2020",
          "Aug-03-2020",
          "Aug-04-2020",
          "Aug-05-2020",
          "Aug-06-2020",
          "Aug-07-2020",
          "Aug-08-2020",
          "Aug-09-2020",
          "Aug-10-2020",
          "Aug-11-2020",
          "Aug-12-2020",
          "Aug-13-2020",
          "Aug-14-2020",
          "Aug-15-2020",
          "Aug-16-2020",
          "Aug-17-2020",
          "Aug-18-2020",
          "Aug-19-2020",
          "Aug-20-2020",
          "Aug-21-2020",
          "Aug-22-2020",
          "Aug-23-2020",
          "Aug-24-2020",
          "Aug-25-2020",
          "Aug-26-2020",
          "Aug-27-2020",
          "Aug-28-2020",
          "Aug-29-2020",
          "Aug-30-2020",
          "Aug-31-2020",
          "Sep-01-2020",
          "Sep-02-2020",
          "Sep-03-2020",
          "Sep-04-2020",
          "Sep-05-2020",
          "Sep-06-2020",
          "Sep-07-2020",
          "Sep-08-2020",
          "Sep-09-2020",
          "Sep-10-2020",
          "Sep-11-2020",
          "Sep-12-2020",
          "Sep-13-2020",
          "Sep-14-2020",
          "Sep-15-2020",
          "Sep-16-2020",
          "Sep-17-2020",
          "Sep-18-2020",
          "Sep-19-2020",
          "Sep-20-2020",
          "Sep-21-2020",
          "Sep-22-2020",
          "Sep-23-2020",
          "Sep-24-2020",
          "Sep-25-2020",
          "Sep-26-2020",
          "Sep-27-2020",
          "Sep-28-2020",
          "Sep-29-2020",
          "Sep-30-2020",
          "Oct-01-2020",
          "Oct-02-2020",
          "Oct-03-2020",
          "Oct-04-2020",
          "Oct-05-2020",
          "Oct-06-2020",
          "Oct-07-2020",
          "Oct-08-2020",
          "Oct-09-2020",
          "Oct-10-2020",
          "Oct-11-2020",
          "Oct-12-2020",
          "Oct-13-2020",
          "Oct-14-2020",
          "Oct-15-2020",
          "Oct-16-2020",
          "Oct-17-2020",
          "Oct-18-2020",
          "Oct-19-2020",
          "Oct-20-2020",
          "Oct-21-2020",
          "Oct-22-2020",
          "Oct-23-2020",
          "Oct-24-2020",
          "Oct-25-2020",
          "Oct-26-2020",
          "Oct-27-2020",
          "Oct-28-2020",
          "Oct-29-2020",
          "Oct-30-2020",
          "Oct-31-2020",
          "Nov-01-2020",
          "Nov-02-2020",
          "Nov-03-2020",
          "Nov-04-2020",
          "Nov-05-2020",
          "Nov-06-2020",
          "Nov-07-2020",
          "Nov-08-2020",
          "Nov-09-2020",
          "Nov-10-2020",
          "Nov-11-2020",
          "Nov-12-2020",
          "Nov-13-2020",
          "Nov-14-2020",
          "Nov-15-2020",
          "Nov-16-2020",
          "Nov-17-2020",
          "Nov-18-2020",
          "Nov-19-2020",
          "Nov-20-2020",
          "Nov-21-2020",
          "Nov-22-2020",
          "Nov-23-2020",
          "Nov-24-2020",
          "Nov-25-2020",
          "Nov-26-2020",
          "Nov-27-2020",
          "Nov-28-2020",
          "Nov-29-2020",
          "Nov-30-2020",
          "Dec-01-2020",
          "Dec-02-2020",
          "Dec-03-2020",
          "Dec-04-2020",
          "Dec-05-2020",
          "Dec-06-2020",
          "Dec-07-2020",
          "Dec-08-2020",
          "Dec-09-2020",
          "Dec-10-2020",
          "Dec-11-2020",
          "Dec-12-2020",
          "Dec-13-2020",
          "Dec-14-2020",
          "Dec-15-2020",
          "Dec-16-2020",
          "Dec-17-2020",
          "Dec-18-2020",
          "Dec-19-2020",
          "Dec-20-2020",
          "Dec-21-2020",
          "Dec-22-2020",
          "Dec-23-2020",
          "Dec-24-2020",
          "Dec-25-2020",
          "Dec-26-2020",
          "Dec-27-2020",
          "Dec-28-2020",
          "Dec-29-2020",
          "Dec-30-2020",
          "Dec-31-2020",
          "Jan-01-2021",
          "Jan-02-2021",
          "Jan-03-2021",
          "Jan-04-2021",
          "Jan-05-2021",
          "Jan-06-2021",
          "Jan-07-2021",
          "Jan-08-2021",
          "Jan-09-2021",
          "Jan-10-2021",
          "Jan-11-2021",
          "Jan-12-2021",
          "Jan-13-2021",
          "Jan-14-2021",
          "Jan-15-2021",
          "Jan-16-2021",
          "Jan-17-2021",
          "Jan-18-2021",
          "Jan-19-2021",
          "Jan-20-2021",
          "Jan-21-2021",
          "Jan-22-2021",
          "Jan-23-2021",
          "Jan-24-2021",
          "Jan-25-2021",
          "Jan-26-2021",
          "Jan-27-2021",
          "Jan-28-2021",
          "Jan-29-2021",
          "Jan-30-2021",
          "Jan-31-2021",
          "Feb-01-2021",
          "Feb-02-2021",
          "Feb-03-2021",
          "Feb-04-2021",
          "Feb-05-2021",
          "Feb-06-2021",
          "Feb-07-2021",
          "Feb-08-2021",
          "Feb-09-2021",
          "Feb-11-2021",
          "Feb-12-2021",
          "Feb-13-2021",
          "Feb-14-2021",
          "Feb-15-2021",
          "Feb-16-2021",
          "Feb-17-2021",
          "Feb-18-2021",
          "Feb-19-2021",
          "Feb-20-2021",
          "Feb-21-2021",
          "Feb-22-2021",
          "Feb-23-2021",
          "Feb-24-2021",
          "Feb-25-2021",
          "Feb-26-2021",
          "Feb-27-2021",
          "Feb-28-2021",
          "Mar-01-2021",
          "Mar-02-2021",
          "Mar-03-2021",
          "Mar-04-2021",
          "Mar-05-2021",
          "Mar-06-2021",
          "Mar-07-2021",
          "Mar-08-2021",
          "Mar-09-2021",
          "Mar-10-2021",
          "Mar-11-2021",
          "Mar-12-2021",
          "Mar-13-2021",
          "Mar-14-2021",
          "Mar-15-2021",
          "Mar-16-2021",
          "Mar-17-2021",
          "Mar-18-2021",
          "Mar-19-2021",
          "Mar-20-2021",
          "Mar-21-2021",
          "Mar-22-2021",
          "Mar-23-2021",
          "Mar-24-2021",
          "Mar-25-2021"
         ],
         "y": [
          202,
          286,
          106,
          210,
          217,
          255,
          106,
          126,
          137,
          166,
          145,
          129,
          239,
          330,
          221,
          55,
          287,
          164,
          216,
          297,
          213,
          375,
          292,
          484,
          399,
          302,
          563,
          352,
          437,
          298,
          700,
          405,
          623,
          387,
          603,
          1014,
          802,
          258,
          496,
          888,
          396,
          984,
          982,
          605,
          1071,
          672,
          976,
          761,
          789,
          869,
          628,
          784,
          760,
          1066,
          716,
          651,
          570,
          896,
          869,
          749,
          725,
          890,
          798,
          603,
          701,
          835,
          860,
          546,
          820,
          782,
          649,
          924,
          627,
          784,
          573,
          557,
          904,
          543,
          711,
          797,
          774,
          854,
          1027,
          1547,
          1181,
          1254,
          1333,
          1029,
          1086,
          1242,
          1280,
          1671,
          1529,
          1780,
          1871,
          1628,
          1876,
          2219,
          1926,
          2149,
          1819,
          2494,
          1710,
          2338,
          1781,
          2619,
          2631,
          2203,
          2046,
          1731,
          1878,
          1926,
          1709,
          2163,
          2249,
          1678,
          1696,
          1522,
          2129,
          2426,
          2480,
          2738,
          1944,
          2686,
          2270,
          2364,
          2817,
          2902,
          2690,
          2854,
          2281,
          2510,
          2324,
          2293,
          2596,
          2385,
          2310,
          1514,
          1981,
          1705,
          1746,
          1984,
          1900,
          1835,
          1496,
          1844,
          1703,
          1626,
          1539,
          1509,
          1200,
          1234,
          1384,
          1508,
          1382,
          1339,
          1578,
          1535,
          1493,
          1635,
          1331,
          1179,
          1327,
          1302,
          1346,
          1534,
          1494,
          1655,
          1356,
          1674,
          1581,
          1783,
          1223,
          1065,
          1678,
          1620,
          1790,
          1795,
          1629,
          1378,
          1244,
          1703,
          1625,
          1590,
          1619,
          1798,
          1649,
          1531,
          1624,
          2073,
          1819,
          2071,
          1719,
          1274,
          1591,
          2188,
          1864,
          2493,
          2137,
          1572,
          1967,
          1768,
          2485,
          1966,
          2142,
          1983,
          1951,
          2076,
          1947,
          2310,
          1991,
          2553,
          2342,
          1898,
          1954,
          1921,
          2217,
          2556,
          2419,
          2455,
          2153,
          1635,
          1792,
          2414,
          2084,
          3006,
          2265,
          1593,
          1620,
          1950,
          2297,
          2671,
          2434,
          2182,
          1734,
          1957,
          1206,
          3783,
          2201,
          2570,
          2578,
          1875,
          1379,
          1744,
          1973,
          2268,
          2079,
          2177,
          1818,
          1336,
          1611,
          1772,
          1732,
          1879,
          1099,
          1398,
          903,
          1352,
          1750,
          1998,
          1519,
          1309,
          1865,
          1680,
          2164,
          2553,
          2790,
          3206,
          3460,
          3348,
          2530,
          2678,
          6067,
          3987,
          4885,
          4345,
          4539,
          3198,
          4280,
          4788,
          4513,
          4747,
          4202,
          3963,
          3298,
          5035,
          4620,
          4656,
          4952,
          4093,
          3677,
          3777,
          4176,
          4495,
          4901,
          4094,
          3564,
          3505,
          4462,
          3892,
          4039,
          3755,
          2874,
          3968,
          3169,
          3717,
          4796,
          3731,
          3075,
          4564,
          3396,
          3281,
          2905,
          4490,
          3516,
          3142,
          3104,
          2976,
          3133,
          3637,
          3137,
          3870,
          2927,
          3878,
          2874,
          2513,
          3266,
          3577,
          4143,
          3300,
          4527,
          2879,
          2941,
          3741,
          4336,
          4653,
          4828,
          4073,
          3672,
          3343,
          5168,
          4610,
          4629
         ]
        },
        {
         "line": {
          "width": 2.5
         },
         "mode": "lines",
         "name": "West Africa",
         "type": "scatter",
         "x": [
          "Apr-16-2020",
          "Apr-17-2020",
          "Apr-18-2020",
          "Apr-19-2020",
          "Apr-20-2020",
          "Apr-21-2020",
          "Apr-22-2020",
          "Apr-23-2020",
          "Apr-24-2020",
          "Apr-25-2020",
          "Apr-26-2020",
          "Apr-27-2020",
          "Apr-28-2020",
          "Apr-29-2020",
          "Apr-30-2020",
          "May-01-2020",
          "May-02-2020",
          "May-03-2020",
          "May-04-2020",
          "May-05-2020",
          "May-06-2020",
          "May-07-2020",
          "May-08-2020",
          "May-09-2020",
          "May-10-2020",
          "May-11-2020",
          "May-12-2020",
          "May-13-2020",
          "May-14-2020",
          "May-15-2020",
          "May-16-2020",
          "May-17-2020",
          "May-18-2020",
          "May-19-2020",
          "May-20-2020",
          "May-21-2020",
          "May-22-2020",
          "May-23-2020",
          "May-24-2020",
          "May-25-2020",
          "May-26-2020",
          "May-27-2020",
          "May-28-2020",
          "May-29-2020",
          "May-30-2020",
          "May-31-2020",
          "Jun-01-2020",
          "Jun-02-2020",
          "Jun-03-2020",
          "Jun-04-2020",
          "Jun-05-2020",
          "Jun-06-2020",
          "Jun-07-2020",
          "Jun-08-2020",
          "Jun-09-2020",
          "Jun-10-2020",
          "Jun-11-2020",
          "Jun-12-2020",
          "Jun-13-2020",
          "Jun-14-2020",
          "Jun-15-2020",
          "Jun-16-2020",
          "Jun-17-2020",
          "Jun-18-2020",
          "Jun-19-2020",
          "Jun-20-2020",
          "Jun-21-2020",
          "Jun-22-2020",
          "Jun-23-2020",
          "Jun-24-2020",
          "Jun-25-2020",
          "Jun-26-2020",
          "Jun-27-2020",
          "Jun-28-2020",
          "Jun-29-2020",
          "Jun-30-2020",
          "Jul-01-2020",
          "Jul-02-2020",
          "Jul-03-2020",
          "Jul-04-2020",
          "Jul-05-2020",
          "Jul-06-2020",
          "Jul-07-2020",
          "Jul-08-2020",
          "Jul-09-2020",
          "Jul-10-2020",
          "Jul-11-2020",
          "Jul-12-2020",
          "Jul-13-2020",
          "Jul-14-2020",
          "Jul-15-2020",
          "Jul-16-2020",
          "Jul-17-2020",
          "Jul-18-2020",
          "Jul-19-2020",
          "Jul-20-2020",
          "Jul-21-2020",
          "Jul-22-2020",
          "Jul-23-2020",
          "Jul-24-2020",
          "Jul-25-2020",
          "Jul-26-2020",
          "Jul-27-2020",
          "Jul-28-2020",
          "Jul-29-2020",
          "Jul-30-2020",
          "Jul-31-2020",
          "Aug-01-2020",
          "Aug-02-2020",
          "Aug-03-2020",
          "Aug-04-2020",
          "Aug-05-2020",
          "Aug-06-2020",
          "Aug-07-2020",
          "Aug-08-2020",
          "Aug-09-2020",
          "Aug-10-2020",
          "Aug-11-2020",
          "Aug-12-2020",
          "Aug-13-2020",
          "Aug-14-2020",
          "Aug-15-2020",
          "Aug-16-2020",
          "Aug-17-2020",
          "Aug-18-2020",
          "Aug-19-2020",
          "Aug-20-2020",
          "Aug-21-2020",
          "Aug-22-2020",
          "Aug-23-2020",
          "Aug-24-2020",
          "Aug-25-2020",
          "Aug-26-2020",
          "Aug-27-2020",
          "Aug-28-2020",
          "Aug-29-2020",
          "Aug-30-2020",
          "Aug-31-2020",
          "Sep-01-2020",
          "Sep-02-2020",
          "Sep-03-2020",
          "Sep-04-2020",
          "Sep-05-2020",
          "Sep-06-2020",
          "Sep-07-2020",
          "Sep-08-2020",
          "Sep-09-2020",
          "Sep-10-2020",
          "Sep-11-2020",
          "Sep-12-2020",
          "Sep-13-2020",
          "Sep-14-2020",
          "Sep-15-2020",
          "Sep-16-2020",
          "Sep-17-2020",
          "Sep-18-2020",
          "Sep-19-2020",
          "Sep-20-2020",
          "Sep-21-2020",
          "Sep-22-2020",
          "Sep-23-2020",
          "Sep-24-2020",
          "Sep-25-2020",
          "Sep-26-2020",
          "Sep-27-2020",
          "Sep-28-2020",
          "Sep-29-2020",
          "Sep-30-2020",
          "Oct-01-2020",
          "Oct-02-2020",
          "Oct-03-2020",
          "Oct-04-2020",
          "Oct-05-2020",
          "Oct-06-2020",
          "Oct-07-2020",
          "Oct-08-2020",
          "Oct-09-2020",
          "Oct-10-2020",
          "Oct-11-2020",
          "Oct-12-2020",
          "Oct-13-2020",
          "Oct-14-2020",
          "Oct-15-2020",
          "Oct-16-2020",
          "Oct-17-2020",
          "Oct-18-2020",
          "Oct-19-2020",
          "Oct-20-2020",
          "Oct-21-2020",
          "Oct-22-2020",
          "Oct-23-2020",
          "Oct-24-2020",
          "Oct-25-2020",
          "Oct-26-2020",
          "Oct-27-2020",
          "Oct-28-2020",
          "Oct-29-2020",
          "Oct-30-2020",
          "Oct-31-2020",
          "Nov-01-2020",
          "Nov-02-2020",
          "Nov-03-2020",
          "Nov-04-2020",
          "Nov-05-2020",
          "Nov-06-2020",
          "Nov-07-2020",
          "Nov-08-2020",
          "Nov-09-2020",
          "Nov-10-2020",
          "Nov-11-2020",
          "Nov-12-2020",
          "Nov-13-2020",
          "Nov-14-2020",
          "Nov-15-2020",
          "Nov-16-2020",
          "Nov-17-2020",
          "Nov-18-2020",
          "Nov-19-2020",
          "Nov-20-2020",
          "Nov-21-2020",
          "Nov-22-2020",
          "Nov-23-2020",
          "Nov-24-2020",
          "Nov-25-2020",
          "Nov-26-2020",
          "Nov-27-2020",
          "Nov-28-2020",
          "Nov-29-2020",
          "Nov-30-2020",
          "Dec-01-2020",
          "Dec-02-2020",
          "Dec-03-2020",
          "Dec-04-2020",
          "Dec-05-2020",
          "Dec-06-2020",
          "Dec-07-2020",
          "Dec-08-2020",
          "Dec-09-2020",
          "Dec-10-2020",
          "Dec-11-2020",
          "Dec-12-2020",
          "Dec-13-2020",
          "Dec-14-2020",
          "Dec-15-2020",
          "Dec-16-2020",
          "Dec-17-2020",
          "Dec-18-2020",
          "Dec-19-2020",
          "Dec-20-2020",
          "Dec-21-2020",
          "Dec-22-2020",
          "Dec-23-2020",
          "Dec-24-2020",
          "Dec-25-2020",
          "Dec-26-2020",
          "Dec-27-2020",
          "Dec-28-2020",
          "Dec-29-2020",
          "Dec-30-2020",
          "Dec-31-2020",
          "Jan-01-2021",
          "Jan-02-2021",
          "Jan-03-2021",
          "Jan-04-2021",
          "Jan-05-2021",
          "Jan-06-2021",
          "Jan-07-2021",
          "Jan-08-2021",
          "Jan-09-2021",
          "Jan-10-2021",
          "Jan-11-2021",
          "Jan-12-2021",
          "Jan-13-2021",
          "Jan-14-2021",
          "Jan-15-2021",
          "Jan-16-2021",
          "Jan-17-2021",
          "Jan-18-2021",
          "Jan-19-2021",
          "Jan-20-2021",
          "Jan-21-2021",
          "Jan-22-2021",
          "Jan-23-2021",
          "Jan-24-2021",
          "Jan-25-2021",
          "Jan-26-2021",
          "Jan-27-2021",
          "Jan-28-2021",
          "Jan-29-2021",
          "Jan-30-2021",
          "Jan-31-2021",
          "Feb-01-2021",
          "Feb-02-2021",
          "Feb-03-2021",
          "Feb-04-2021",
          "Feb-05-2021",
          "Feb-06-2021",
          "Feb-07-2021",
          "Feb-08-2021",
          "Feb-09-2021",
          "Feb-11-2021",
          "Feb-12-2021",
          "Feb-13-2021",
          "Feb-14-2021",
          "Feb-15-2021",
          "Feb-16-2021",
          "Feb-17-2021",
          "Feb-18-2021",
          "Feb-19-2021",
          "Feb-20-2021",
          "Feb-21-2021",
          "Feb-22-2021",
          "Feb-23-2021",
          "Feb-24-2021",
          "Feb-25-2021",
          "Feb-26-2021",
          "Feb-27-2021",
          "Feb-28-2021",
          "Mar-01-2021",
          "Mar-02-2021",
          "Mar-03-2021",
          "Mar-04-2021",
          "Mar-05-2021",
          "Mar-06-2021",
          "Mar-07-2021",
          "Mar-08-2021",
          "Mar-09-2021",
          "Mar-10-2021",
          "Mar-11-2021",
          "Mar-12-2021",
          "Mar-13-2021",
          "Mar-14-2021",
          "Mar-15-2021",
          "Mar-16-2021",
          "Mar-17-2021",
          "Mar-18-2021",
          "Mar-19-2021",
          "Mar-20-2021",
          "Mar-21-2021",
          "Mar-22-2021",
          "Mar-23-2021",
          "Mar-24-2021",
          "Mar-25-2021"
         ],
         "y": [
          119,
          215,
          479,
          473,
          191,
          307,
          409,
          342,
          553,
          257,
          570,
          366,
          554,
          629,
          893,
          570,
          585,
          345,
          1267,
          433,
          936,
          788,
          1711,
          856,
          648,
          1015,
          1100,
          863,
          754,
          694,
          779,
          583,
          555,
          883,
          791,
          829,
          714,
          716,
          755,
          669,
          737,
          873,
          837,
          1219,
          1046,
          676,
          1193,
          889,
          980,
          1168,
          1223,
          1102,
          863,
          1105,
          1374,
          1023,
          1586,
          1942,
          1378,
          1866,
          1339,
          1472,
          1787,
          2071,
          2013,
          2037,
          1453,
          1416,
          1503,
          1943,
          1745,
          2021,
          2117,
          1492,
          1640,
          1613,
          1772,
          1375,
          2495,
          1216,
          1852,
          1990,
          1910,
          1941,
          1816,
          1767,
          1928,
          1509,
          1423,
          859,
          1813,
          2046,
          1659,
          1791,
          1680,
          1832,
          1590,
          1923,
          1232,
          2626,
          1845,
          2186,
          1627,
          1690,
          1551,
          1054,
          1281,
          2110,
          575,
          1349,
          765,
          2279,
          1509,
          1527,
          1341,
          1451,
          822,
          1151,
          1213,
          1031,
          881,
          1218,
          1203,
          957,
          1330,
          1331,
          1113,
          824,
          1134,
          909,
          888,
          696,
          710,
          764,
          657,
          776,
          676,
          531,
          756,
          783,
          518,
          620,
          604,
          552,
          505,
          743,
          801,
          576,
          601,
          409,
          567,
          470,
          624,
          418,
          429,
          644,
          601,
          494,
          423,
          407,
          556,
          412,
          572,
          372,
          587,
          322,
          455,
          686,
          438,
          528,
          521,
          285,
          334,
          372,
          454,
          489,
          467,
          471,
          426,
          400,
          585,
          563,
          496,
          518,
          446,
          506,
          315,
          411,
          380,
          448,
          317,
          370,
          226,
          323,
          416,
          423,
          735,
          427,
          363,
          451,
          287,
          277,
          686,
          592,
          410,
          383,
          698,
          297,
          482,
          451,
          881,
          416,
          422,
          451,
          622,
          411,
          637,
          586,
          443,
          648,
          555,
          344,
          713,
          678,
          437,
          718,
          522,
          626,
          576,
          626,
          733,
          842,
          1312,
          992,
          1016,
          1039,
          1468,
          1223,
          1452,
          1467,
          1661,
          1104,
          866,
          1551,
          1800,
          2045,
          1766,
          1645,
          1312,
          1059,
          1632,
          2001,
          1987,
          1667,
          1586,
          1474,
          945,
          1695,
          2022,
          1887,
          2071,
          1211,
          1665,
          1752,
          2260,
          2776,
          2698,
          2508,
          2833,
          2113,
          2674,
          2470,
          2848,
          2609,
          2809,
          2370,
          2730,
          2664,
          2243,
          2403,
          3529,
          2840,
          3190,
          2471,
          2936,
          1812,
          3598,
          2449,
          1871,
          3855,
          3418,
          1448,
          3030,
          2879,
          3148,
          3351,
          2642,
          2007,
          2122,
          2228,
          2458,
          2698,
          3315,
          1474,
          2179,
          2514,
          2950,
          2041,
          2023,
          1910,
          1982,
          1407,
          1159,
          1990,
          1739,
          2273,
          981,
          1722,
          758,
          1073,
          1830,
          2943,
          1792,
          1610,
          1427,
          1031,
          994,
          1752,
          1458,
          1705,
          1597,
          1351,
          1076,
          987,
          1510,
          1279,
          2126,
          1476,
          1616,
          760,
          1112,
          1462,
          1864
         ]
        },
        {
         "line": {
          "width": 2.5
         },
         "mode": "lines",
         "name": "North Africa",
         "type": "scatter",
         "x": [
          "Apr-16-2020",
          "Apr-17-2020",
          "Apr-18-2020",
          "Apr-19-2020",
          "Apr-20-2020",
          "Apr-21-2020",
          "Apr-22-2020",
          "Apr-23-2020",
          "Apr-24-2020",
          "Apr-25-2020",
          "Apr-26-2020",
          "Apr-27-2020",
          "Apr-28-2020",
          "Apr-29-2020",
          "Apr-30-2020",
          "May-01-2020",
          "May-02-2020",
          "May-03-2020",
          "May-04-2020",
          "May-05-2020",
          "May-06-2020",
          "May-07-2020",
          "May-08-2020",
          "May-09-2020",
          "May-10-2020",
          "May-11-2020",
          "May-12-2020",
          "May-13-2020",
          "May-14-2020",
          "May-15-2020",
          "May-16-2020",
          "May-17-2020",
          "May-18-2020",
          "May-19-2020",
          "May-20-2020",
          "May-21-2020",
          "May-22-2020",
          "May-23-2020",
          "May-24-2020",
          "May-25-2020",
          "May-26-2020",
          "May-27-2020",
          "May-28-2020",
          "May-29-2020",
          "May-30-2020",
          "May-31-2020",
          "Jun-01-2020",
          "Jun-02-2020",
          "Jun-03-2020",
          "Jun-04-2020",
          "Jun-05-2020",
          "Jun-06-2020",
          "Jun-07-2020",
          "Jun-08-2020",
          "Jun-09-2020",
          "Jun-10-2020",
          "Jun-11-2020",
          "Jun-12-2020",
          "Jun-13-2020",
          "Jun-14-2020",
          "Jun-15-2020",
          "Jun-16-2020",
          "Jun-17-2020",
          "Jun-18-2020",
          "Jun-19-2020",
          "Jun-20-2020",
          "Jun-21-2020",
          "Jun-22-2020",
          "Jun-23-2020",
          "Jun-24-2020",
          "Jun-25-2020",
          "Jun-26-2020",
          "Jun-27-2020",
          "Jun-28-2020",
          "Jun-29-2020",
          "Jun-30-2020",
          "Jul-01-2020",
          "Jul-02-2020",
          "Jul-03-2020",
          "Jul-04-2020",
          "Jul-05-2020",
          "Jul-06-2020",
          "Jul-07-2020",
          "Jul-08-2020",
          "Jul-09-2020",
          "Jul-10-2020",
          "Jul-11-2020",
          "Jul-12-2020",
          "Jul-13-2020",
          "Jul-14-2020",
          "Jul-15-2020",
          "Jul-16-2020",
          "Jul-17-2020",
          "Jul-18-2020",
          "Jul-19-2020",
          "Jul-20-2020",
          "Jul-21-2020",
          "Jul-22-2020",
          "Jul-23-2020",
          "Jul-24-2020",
          "Jul-25-2020",
          "Jul-26-2020",
          "Jul-27-2020",
          "Jul-28-2020",
          "Jul-29-2020",
          "Jul-30-2020",
          "Jul-31-2020",
          "Aug-01-2020",
          "Aug-02-2020",
          "Aug-03-2020",
          "Aug-04-2020",
          "Aug-05-2020",
          "Aug-06-2020",
          "Aug-07-2020",
          "Aug-08-2020",
          "Aug-09-2020",
          "Aug-10-2020",
          "Aug-11-2020",
          "Aug-12-2020",
          "Aug-13-2020",
          "Aug-14-2020",
          "Aug-15-2020",
          "Aug-16-2020",
          "Aug-17-2020",
          "Aug-18-2020",
          "Aug-19-2020",
          "Aug-20-2020",
          "Aug-21-2020",
          "Aug-22-2020",
          "Aug-23-2020",
          "Aug-24-2020",
          "Aug-25-2020",
          "Aug-26-2020",
          "Aug-27-2020",
          "Aug-28-2020",
          "Aug-29-2020",
          "Aug-30-2020",
          "Aug-31-2020",
          "Sep-01-2020",
          "Sep-02-2020",
          "Sep-03-2020",
          "Sep-04-2020",
          "Sep-05-2020",
          "Sep-06-2020",
          "Sep-07-2020",
          "Sep-08-2020",
          "Sep-09-2020",
          "Sep-10-2020",
          "Sep-11-2020",
          "Sep-12-2020",
          "Sep-13-2020",
          "Sep-14-2020",
          "Sep-15-2020",
          "Sep-16-2020",
          "Sep-17-2020",
          "Sep-18-2020",
          "Sep-19-2020",
          "Sep-20-2020",
          "Sep-21-2020",
          "Sep-22-2020",
          "Sep-23-2020",
          "Sep-24-2020",
          "Sep-25-2020",
          "Sep-26-2020",
          "Sep-27-2020",
          "Sep-28-2020",
          "Sep-29-2020",
          "Sep-30-2020",
          "Oct-01-2020",
          "Oct-02-2020",
          "Oct-03-2020",
          "Oct-04-2020",
          "Oct-05-2020",
          "Oct-06-2020",
          "Oct-07-2020",
          "Oct-08-2020",
          "Oct-09-2020",
          "Oct-10-2020",
          "Oct-11-2020",
          "Oct-12-2020",
          "Oct-13-2020",
          "Oct-14-2020",
          "Oct-15-2020",
          "Oct-16-2020",
          "Oct-17-2020",
          "Oct-18-2020",
          "Oct-19-2020",
          "Oct-20-2020",
          "Oct-21-2020",
          "Oct-22-2020",
          "Oct-23-2020",
          "Oct-24-2020",
          "Oct-25-2020",
          "Oct-26-2020",
          "Oct-27-2020",
          "Oct-28-2020",
          "Oct-29-2020",
          "Oct-30-2020",
          "Oct-31-2020",
          "Nov-01-2020",
          "Nov-02-2020",
          "Nov-03-2020",
          "Nov-04-2020",
          "Nov-05-2020",
          "Nov-06-2020",
          "Nov-07-2020",
          "Nov-08-2020",
          "Nov-09-2020",
          "Nov-10-2020",
          "Nov-11-2020",
          "Nov-12-2020",
          "Nov-13-2020",
          "Nov-14-2020",
          "Nov-15-2020",
          "Nov-16-2020",
          "Nov-17-2020",
          "Nov-18-2020",
          "Nov-19-2020",
          "Nov-20-2020",
          "Nov-21-2020",
          "Nov-22-2020",
          "Nov-23-2020",
          "Nov-24-2020",
          "Nov-25-2020",
          "Nov-26-2020",
          "Nov-27-2020",
          "Nov-28-2020",
          "Nov-29-2020",
          "Nov-30-2020",
          "Dec-01-2020",
          "Dec-02-2020",
          "Dec-03-2020",
          "Dec-04-2020",
          "Dec-05-2020",
          "Dec-06-2020",
          "Dec-07-2020",
          "Dec-08-2020",
          "Dec-09-2020",
          "Dec-10-2020",
          "Dec-11-2020",
          "Dec-12-2020",
          "Dec-13-2020",
          "Dec-14-2020",
          "Dec-15-2020",
          "Dec-16-2020",
          "Dec-17-2020",
          "Dec-18-2020",
          "Dec-19-2020",
          "Dec-20-2020",
          "Dec-21-2020",
          "Dec-22-2020",
          "Dec-23-2020",
          "Dec-24-2020",
          "Dec-25-2020",
          "Dec-26-2020",
          "Dec-27-2020",
          "Dec-28-2020",
          "Dec-29-2020",
          "Dec-30-2020",
          "Dec-31-2020",
          "Jan-01-2021",
          "Jan-02-2021",
          "Jan-03-2021",
          "Jan-04-2021",
          "Jan-05-2021",
          "Jan-06-2021",
          "Jan-07-2021",
          "Jan-08-2021",
          "Jan-09-2021",
          "Jan-10-2021",
          "Jan-11-2021",
          "Jan-12-2021",
          "Jan-13-2021",
          "Jan-14-2021",
          "Jan-15-2021",
          "Jan-16-2021",
          "Jan-17-2021",
          "Jan-18-2021",
          "Jan-19-2021",
          "Jan-20-2021",
          "Jan-21-2021",
          "Jan-22-2021",
          "Jan-23-2021",
          "Jan-24-2021",
          "Jan-25-2021",
          "Jan-26-2021",
          "Jan-27-2021",
          "Jan-28-2021",
          "Jan-29-2021",
          "Jan-30-2021",
          "Jan-31-2021",
          "Feb-01-2021",
          "Feb-02-2021",
          "Feb-03-2021",
          "Feb-04-2021",
          "Feb-05-2021",
          "Feb-06-2021",
          "Feb-07-2021",
          "Feb-08-2021",
          "Feb-09-2021",
          "Feb-11-2021",
          "Feb-12-2021",
          "Feb-13-2021",
          "Feb-14-2021",
          "Feb-15-2021",
          "Feb-16-2021",
          "Feb-17-2021",
          "Feb-18-2021",
          "Feb-19-2021",
          "Feb-20-2021",
          "Feb-21-2021",
          "Feb-22-2021",
          "Feb-23-2021",
          "Feb-24-2021",
          "Feb-25-2021",
          "Feb-26-2021",
          "Feb-27-2021",
          "Feb-28-2021",
          "Mar-01-2021",
          "Mar-02-2021",
          "Mar-03-2021",
          "Mar-04-2021",
          "Mar-05-2021",
          "Mar-06-2021",
          "Mar-07-2021",
          "Mar-08-2021",
          "Mar-09-2021",
          "Mar-10-2021",
          "Mar-11-2021",
          "Mar-12-2021",
          "Mar-13-2021",
          "Mar-14-2021",
          "Mar-15-2021",
          "Mar-16-2021",
          "Mar-17-2021",
          "Mar-18-2021",
          "Mar-19-2021",
          "Mar-20-2021",
          "Mar-21-2021",
          "Mar-22-2021",
          "Mar-23-2021",
          "Mar-24-2021",
          "Mar-25-2021"
         ],
         "y": [
          578,
          644,
          427,
          392,
          474,
          438,
          514,
          460,
          516,
          512,
          519,
          456,
          532,
          499,
          543,
          658,
          610,
          629,
          677,
          748,
          739,
          719,
          849,
          878,
          754,
          732,
          660,
          618,
          682,
          634,
          775,
          837,
          805,
          970,
          1023,
          1041,
          1097,
          999,
          975,
          1001,
          1030,
          1116,
          1332,
          1513,
          1583,
          1717,
          1563,
          1314,
          1257,
          1344,
          1550,
          1709,
          1644,
          1630,
          1664,
          1647,
          1591,
          1781,
          1881,
          1866,
          1922,
          1761,
          1569,
          1426,
          2456,
          1934,
          1781,
          1947,
          1704,
          2187,
          2227,
          2177,
          1713,
          1781,
          2145,
          2160,
          2022,
          2223,
          2174,
          2364,
          2111,
          1678,
          1831,
          1760,
          1802,
          1673,
          1659,
          1660,
          1734,
          1672,
          1671,
          1867,
          1538,
          1687,
          1460,
          1681,
          1559,
          1574,
          1732,
          2033,
          2068,
          1836,
          1806,
          1810,
          2074,
          2291,
          2151,
          1574,
          1359,
          1553,
          1845,
          2225,
          2291,
          1902,
          2225,
          2167,
          1996,
          2186,
          2474,
          2380,
          2228,
          2892,
          2579,
          2111,
          2445,
          2582,
          2207,
          2619,
          2502,
          2112,
          2086,
          2235,
          2623,
          2412,
          2507,
          2597,
          2516,
          2412,
          2524,
          2927,
          2673,
          3031,
          2866,
          3598,
          3021,
          3455,
          3489,
          3257,
          4191,
          3457,
          3084,
          3408,
          3392,
          3353,
          4213,
          3726,
          4226,
          3586,
          3542,
          3709,
          4574,
          4034,
          4455,
          3528,
          4959,
          2532,
          4447,
          4270,
          3353,
          4644,
          4513,
          4301,
          2283,
          3834,
          6387,
          6324,
          4773,
          8382,
          5147,
          2751,
          4662,
          6770,
          4483,
          5014,
          9858,
          3992,
          5798,
          6305,
          6168,
          5599,
          6214,
          7037,
          5065,
          5335,
          5197,
          7236,
          5587,
          8465,
          6511,
          6223,
          4670,
          7098,
          8636,
          9308,
          7257,
          10429,
          8159,
          5406,
          8593,
          8903,
          9763,
          8992,
          8618,
          8085,
          5485,
          8024,
          9336,
          6465,
          9467,
          7285,
          7673,
          5081,
          7217,
          8080,
          7409,
          8168,
          7017,
          7910,
          4778,
          5461,
          8880,
          6471,
          7123,
          6412,
          6149,
          3363,
          5930,
          7062,
          5974,
          6028,
          5317,
          4829,
          2801,
          6324,
          6203,
          5875,
          5769,
          5423,
          5309,
          3722,
          5955,
          6274,
          6727,
          6183,
          5626,
          5225,
          4835,
          5885,
          6876,
          5844,
          5357,
          4262,
          4798,
          3983,
          5730,
          6140,
          6086,
          5955,
          5272,
          4624,
          5349,
          5281,
          6753,
          5659,
          7177,
          4523,
          5848,
          4186,
          5588,
          6755,
          5295,
          5341,
          3891,
          4628,
          3268,
          4649,
          4210,
          4271,
          4267,
          2921,
          3614,
          2992,
          4018,
          3637,
          3457,
          3544,
          2160,
          3201,
          2549,
          2845,
          2502,
          2856,
          2338,
          2361,
          1573,
          2395,
          2403,
          2595,
          2550,
          2111,
          2159,
          1898,
          2597,
          2468,
          2562,
          2555,
          1810,
          2513,
          2042,
          2551,
          2729,
          2786,
          2794,
          1823,
          2794,
          2172,
          2917,
          2901,
          2955,
          2839,
          1867,
          2998,
          2312,
          2886,
          3079,
          2811,
          3192,
          1813,
          2549,
          1988,
          2796,
          2825,
          2972
         ]
        },
        {
         "line": {
          "width": 2.5
         },
         "mode": "lines",
         "name": "Southern Africa",
         "type": "scatter",
         "x": [
          "Apr-16-2020",
          "Apr-17-2020",
          "Apr-18-2020",
          "Apr-19-2020",
          "Apr-20-2020",
          "Apr-21-2020",
          "Apr-22-2020",
          "Apr-23-2020",
          "Apr-24-2020",
          "Apr-25-2020",
          "Apr-26-2020",
          "Apr-27-2020",
          "Apr-28-2020",
          "Apr-29-2020",
          "Apr-30-2020",
          "May-01-2020",
          "May-02-2020",
          "May-03-2020",
          "May-04-2020",
          "May-05-2020",
          "May-06-2020",
          "May-07-2020",
          "May-08-2020",
          "May-09-2020",
          "May-10-2020",
          "May-11-2020",
          "May-12-2020",
          "May-13-2020",
          "May-14-2020",
          "May-15-2020",
          "May-16-2020",
          "May-17-2020",
          "May-18-2020",
          "May-19-2020",
          "May-20-2020",
          "May-21-2020",
          "May-22-2020",
          "May-23-2020",
          "May-24-2020",
          "May-25-2020",
          "May-26-2020",
          "May-27-2020",
          "May-28-2020",
          "May-29-2020",
          "May-30-2020",
          "May-31-2020",
          "Jun-01-2020",
          "Jun-02-2020",
          "Jun-03-2020",
          "Jun-04-2020",
          "Jun-05-2020",
          "Jun-06-2020",
          "Jun-07-2020",
          "Jun-08-2020",
          "Jun-09-2020",
          "Jun-10-2020",
          "Jun-11-2020",
          "Jun-12-2020",
          "Jun-13-2020",
          "Jun-14-2020",
          "Jun-15-2020",
          "Jun-16-2020",
          "Jun-17-2020",
          "Jun-18-2020",
          "Jun-19-2020",
          "Jun-20-2020",
          "Jun-21-2020",
          "Jun-22-2020",
          "Jun-23-2020",
          "Jun-24-2020",
          "Jun-25-2020",
          "Jun-26-2020",
          "Jun-27-2020",
          "Jun-28-2020",
          "Jun-29-2020",
          "Jun-30-2020",
          "Jul-01-2020",
          "Jul-02-2020",
          "Jul-03-2020",
          "Jul-04-2020",
          "Jul-05-2020",
          "Jul-06-2020",
          "Jul-07-2020",
          "Jul-08-2020",
          "Jul-09-2020",
          "Jul-10-2020",
          "Jul-11-2020",
          "Jul-12-2020",
          "Jul-13-2020",
          "Jul-14-2020",
          "Jul-15-2020",
          "Jul-16-2020",
          "Jul-17-2020",
          "Jul-18-2020",
          "Jul-19-2020",
          "Jul-20-2020",
          "Jul-21-2020",
          "Jul-22-2020",
          "Jul-23-2020",
          "Jul-24-2020",
          "Jul-25-2020",
          "Jul-26-2020",
          "Jul-27-2020",
          "Jul-28-2020",
          "Jul-29-2020",
          "Jul-30-2020",
          "Jul-31-2020",
          "Aug-01-2020",
          "Aug-02-2020",
          "Aug-03-2020",
          "Aug-04-2020",
          "Aug-05-2020",
          "Aug-06-2020",
          "Aug-07-2020",
          "Aug-08-2020",
          "Aug-09-2020",
          "Aug-10-2020",
          "Aug-11-2020",
          "Aug-12-2020",
          "Aug-13-2020",
          "Aug-14-2020",
          "Aug-15-2020",
          "Aug-16-2020",
          "Aug-17-2020",
          "Aug-18-2020",
          "Aug-19-2020",
          "Aug-20-2020",
          "Aug-21-2020",
          "Aug-22-2020",
          "Aug-23-2020",
          "Aug-24-2020",
          "Aug-25-2020",
          "Aug-26-2020",
          "Aug-27-2020",
          "Aug-28-2020",
          "Aug-29-2020",
          "Aug-30-2020",
          "Aug-31-2020",
          "Sep-01-2020",
          "Sep-02-2020",
          "Sep-03-2020",
          "Sep-04-2020",
          "Sep-05-2020",
          "Sep-06-2020",
          "Sep-07-2020",
          "Sep-08-2020",
          "Sep-09-2020",
          "Sep-10-2020",
          "Sep-11-2020",
          "Sep-12-2020",
          "Sep-13-2020",
          "Sep-14-2020",
          "Sep-15-2020",
          "Sep-16-2020",
          "Sep-17-2020",
          "Sep-18-2020",
          "Sep-19-2020",
          "Sep-20-2020",
          "Sep-21-2020",
          "Sep-22-2020",
          "Sep-23-2020",
          "Sep-24-2020",
          "Sep-25-2020",
          "Sep-26-2020",
          "Sep-27-2020",
          "Sep-28-2020",
          "Sep-29-2020",
          "Sep-30-2020",
          "Oct-01-2020",
          "Oct-02-2020",
          "Oct-03-2020",
          "Oct-04-2020",
          "Oct-05-2020",
          "Oct-06-2020",
          "Oct-07-2020",
          "Oct-08-2020",
          "Oct-09-2020",
          "Oct-10-2020",
          "Oct-11-2020",
          "Oct-12-2020",
          "Oct-13-2020",
          "Oct-14-2020",
          "Oct-15-2020",
          "Oct-16-2020",
          "Oct-17-2020",
          "Oct-18-2020",
          "Oct-19-2020",
          "Oct-20-2020",
          "Oct-21-2020",
          "Oct-22-2020",
          "Oct-23-2020",
          "Oct-24-2020",
          "Oct-25-2020",
          "Oct-26-2020",
          "Oct-27-2020",
          "Oct-28-2020",
          "Oct-29-2020",
          "Oct-30-2020",
          "Oct-31-2020",
          "Nov-01-2020",
          "Nov-02-2020",
          "Nov-03-2020",
          "Nov-04-2020",
          "Nov-05-2020",
          "Nov-06-2020",
          "Nov-07-2020",
          "Nov-08-2020",
          "Nov-09-2020",
          "Nov-10-2020",
          "Nov-11-2020",
          "Nov-12-2020",
          "Nov-13-2020",
          "Nov-14-2020",
          "Nov-15-2020",
          "Nov-16-2020",
          "Nov-17-2020",
          "Nov-18-2020",
          "Nov-19-2020",
          "Nov-20-2020",
          "Nov-21-2020",
          "Nov-22-2020",
          "Nov-23-2020",
          "Nov-24-2020",
          "Nov-25-2020",
          "Nov-26-2020",
          "Nov-27-2020",
          "Nov-28-2020",
          "Nov-29-2020",
          "Nov-30-2020",
          "Dec-01-2020",
          "Dec-02-2020",
          "Dec-03-2020",
          "Dec-04-2020",
          "Dec-05-2020",
          "Dec-06-2020",
          "Dec-07-2020",
          "Dec-08-2020",
          "Dec-09-2020",
          "Dec-10-2020",
          "Dec-11-2020",
          "Dec-12-2020",
          "Dec-13-2020",
          "Dec-14-2020",
          "Dec-15-2020",
          "Dec-16-2020",
          "Dec-17-2020",
          "Dec-18-2020",
          "Dec-19-2020",
          "Dec-20-2020",
          "Dec-21-2020",
          "Dec-22-2020",
          "Dec-23-2020",
          "Dec-24-2020",
          "Dec-25-2020",
          "Dec-26-2020",
          "Dec-27-2020",
          "Dec-28-2020",
          "Dec-29-2020",
          "Dec-30-2020",
          "Dec-31-2020",
          "Jan-01-2021",
          "Jan-02-2021",
          "Jan-03-2021",
          "Jan-04-2021",
          "Jan-05-2021",
          "Jan-06-2021",
          "Jan-07-2021",
          "Jan-08-2021",
          "Jan-09-2021",
          "Jan-10-2021",
          "Jan-11-2021",
          "Jan-12-2021",
          "Jan-13-2021",
          "Jan-14-2021",
          "Jan-15-2021",
          "Jan-16-2021",
          "Jan-17-2021",
          "Jan-18-2021",
          "Jan-19-2021",
          "Jan-20-2021",
          "Jan-21-2021",
          "Jan-22-2021",
          "Jan-23-2021",
          "Jan-24-2021",
          "Jan-25-2021",
          "Jan-26-2021",
          "Jan-27-2021",
          "Jan-28-2021",
          "Jan-29-2021",
          "Jan-30-2021",
          "Jan-31-2021",
          "Feb-01-2021",
          "Feb-02-2021",
          "Feb-03-2021",
          "Feb-04-2021",
          "Feb-05-2021",
          "Feb-06-2021",
          "Feb-07-2021",
          "Feb-08-2021",
          "Feb-09-2021",
          "Feb-11-2021",
          "Feb-12-2021",
          "Feb-13-2021",
          "Feb-14-2021",
          "Feb-15-2021",
          "Feb-16-2021",
          "Feb-17-2021",
          "Feb-18-2021",
          "Feb-19-2021",
          "Feb-20-2021",
          "Feb-21-2021",
          "Feb-22-2021",
          "Feb-23-2021",
          "Feb-24-2021",
          "Feb-25-2021",
          "Feb-26-2021",
          "Feb-27-2021",
          "Feb-28-2021",
          "Mar-01-2021",
          "Mar-02-2021",
          "Mar-03-2021",
          "Mar-04-2021",
          "Mar-05-2021",
          "Mar-06-2021",
          "Mar-07-2021",
          "Mar-08-2021",
          "Mar-09-2021",
          "Mar-10-2021",
          "Mar-11-2021",
          "Mar-12-2021",
          "Mar-13-2021",
          "Mar-14-2021",
          "Mar-15-2021",
          "Mar-16-2021",
          "Mar-17-2021",
          "Mar-18-2021",
          "Mar-19-2021",
          "Mar-20-2021",
          "Mar-21-2021",
          "Mar-22-2021",
          "Mar-23-2021",
          "Mar-24-2021",
          "Mar-25-2021"
         ],
         "y": [
          102,
          179,
          258,
          129,
          144,
          175,
          172,
          318,
          273,
          163,
          188,
          253,
          211,
          374,
          314,
          310,
          387,
          451,
          441,
          355,
          240,
          454,
          669,
          530,
          605,
          641,
          707,
          728,
          665,
          793,
          843,
          1164,
          922,
          770,
          814,
          1146,
          995,
          1237,
          1258,
          1038,
          654,
          1761,
          1490,
          1838,
          1756,
          1723,
          1711,
          1461,
          1730,
          3287,
          2675,
          2574,
          2326,
          2610,
          2170,
          2469,
          3210,
          3393,
          3849,
          4333,
          3515,
          2821,
          4152,
          3566,
          3894,
          4971,
          4648,
          4335,
          4576,
          5716,
          6642,
          6273,
          7248,
          6420,
          6164,
          7040,
          8254,
          8781,
          9214,
          10996,
          8906,
          9134,
          10286,
          9044,
          13855,
          12511,
          13636,
          12307,
          11729,
          10585,
          12933,
          13703,
          13599,
          13626,
          13690,
          9532,
          8367,
          13444,
          13397,
          14358,
          12540,
          11550,
          7518,
          7507,
          11776,
          11379,
          11239,
          10848,
          8612,
          5706,
          4692,
          8682,
          8612,
          7622,
          7928,
          7000,
          4274,
          2810,
          3194,
          4489,
          6610,
          4892,
          4118,
          2970,
          2543,
          4451,
          4331,
          3820,
          4157,
          3117,
          2326,
          1880,
          3143,
          2953,
          2164,
          2696,
          2845,
          2362,
          1463,
          2617,
          2750,
          2864,
          2036,
          1838,
          1586,
          1307,
          2259,
          2363,
          2279,
          2037,
          1737,
          1300,
          1006,
          2035,
          2417,
          2285,
          2169,
          1709,
          887,
          1457,
          2095,
          2398,
          1638,
          1088,
          1404,
          1274,
          964,
          1932,
          1927,
          1926,
          2011,
          1672,
          974,
          1082,
          2061,
          1916,
          1578,
          2638,
          1635,
          1261,
          1234,
          1995,
          2241,
          2168,
          2006,
          1744,
          1881,
          1216,
          2127,
          2565,
          1981,
          1946,
          1717,
          1305,
          1174,
          1956,
          2509,
          1990,
          1811,
          1439,
          823,
          1293,
          1760,
          3132,
          1854,
          1798,
          1460,
          1316,
          1861,
          2256,
          2826,
          2340,
          2352,
          1946,
          2248,
          2076,
          2992,
          3141,
          3259,
          2836,
          2387,
          2612,
          2644,
          3453,
          3673,
          3546,
          3428,
          2627,
          2914,
          2477,
          4252,
          5514,
          5247,
          4900,
          4351,
          4130,
          4197,
          7041,
          9019,
          8812,
          8176,
          8347,
          5921,
          8020,
          10770,
          9817,
          9595,
          11542,
          10018,
          10214,
          10137,
          14814,
          15597,
          15711,
          11968,
          10258,
          8327,
          10617,
          19468,
          19167,
          17783,
          15747,
          13327,
          14193,
          16476,
          23107,
          23291,
          24559,
          23151,
          19924,
          17203,
          14524,
          20393,
          20917,
          16160,
          15258,
          12962,
          12244,
          11061,
          14064,
          14003,
          12823,
          13332,
          8826,
          6632,
          6917,
          7899,
          8784,
          7204,
          5988,
          4812,
          4706,
          3091,
          4475,
          4941,
          4344,
          3777,
          2652,
          2541,
          2388,
          3160,
          3170,
          2717,
          2127,
          2631,
          1570,
          2594,
          3525,
          2424,
          2078,
          1670,
          2337,
          1233,
          2050,
          2640,
          1971,
          1709,
          1414,
          3151,
          1101,
          1634,
          2663,
          1575,
          1458,
          1037,
          1983,
          1178,
          1623,
          2891,
          1460,
          1815,
          1197,
          1760,
          1010,
          1642,
          2165,
          1796,
          1635,
          1331,
          2545,
          814,
          1179,
          2641
         ]
        },
        {
         "line": {
          "width": 2.5
         },
         "mode": "lines",
         "name": "Central Africa",
         "type": "scatter",
         "x": [
          "Apr-16-2020",
          "Apr-17-2020",
          "Apr-18-2020",
          "Apr-19-2020",
          "Apr-20-2020",
          "Apr-21-2020",
          "Apr-22-2020",
          "Apr-23-2020",
          "Apr-24-2020",
          "Apr-25-2020",
          "Apr-26-2020",
          "Apr-27-2020",
          "Apr-28-2020",
          "Apr-29-2020",
          "Apr-30-2020",
          "May-01-2020",
          "May-02-2020",
          "May-03-2020",
          "May-04-2020",
          "May-05-2020",
          "May-06-2020",
          "May-07-2020",
          "May-08-2020",
          "May-09-2020",
          "May-10-2020",
          "May-11-2020",
          "May-12-2020",
          "May-13-2020",
          "May-14-2020",
          "May-15-2020",
          "May-16-2020",
          "May-17-2020",
          "May-18-2020",
          "May-19-2020",
          "May-20-2020",
          "May-21-2020",
          "May-22-2020",
          "May-23-2020",
          "May-24-2020",
          "May-25-2020",
          "May-26-2020",
          "May-27-2020",
          "May-28-2020",
          "May-29-2020",
          "May-30-2020",
          "May-31-2020",
          "Jun-01-2020",
          "Jun-02-2020",
          "Jun-03-2020",
          "Jun-04-2020",
          "Jun-05-2020",
          "Jun-06-2020",
          "Jun-07-2020",
          "Jun-08-2020",
          "Jun-09-2020",
          "Jun-10-2020",
          "Jun-11-2020",
          "Jun-12-2020",
          "Jun-13-2020",
          "Jun-14-2020",
          "Jun-15-2020",
          "Jun-16-2020",
          "Jun-17-2020",
          "Jun-18-2020",
          "Jun-19-2020",
          "Jun-20-2020",
          "Jun-21-2020",
          "Jun-22-2020",
          "Jun-23-2020",
          "Jun-24-2020",
          "Jun-25-2020",
          "Jun-26-2020",
          "Jun-27-2020",
          "Jun-28-2020",
          "Jun-29-2020",
          "Jun-30-2020",
          "Jul-01-2020",
          "Jul-02-2020",
          "Jul-03-2020",
          "Jul-04-2020",
          "Jul-05-2020",
          "Jul-06-2020",
          "Jul-07-2020",
          "Jul-08-2020",
          "Jul-09-2020",
          "Jul-10-2020",
          "Jul-11-2020",
          "Jul-12-2020",
          "Jul-13-2020",
          "Jul-14-2020",
          "Jul-15-2020",
          "Jul-16-2020",
          "Jul-17-2020",
          "Jul-18-2020",
          "Jul-19-2020",
          "Jul-20-2020",
          "Jul-21-2020",
          "Jul-22-2020",
          "Jul-23-2020",
          "Jul-24-2020",
          "Jul-25-2020",
          "Jul-26-2020",
          "Jul-27-2020",
          "Jul-28-2020",
          "Jul-29-2020",
          "Jul-30-2020",
          "Jul-31-2020",
          "Aug-01-2020",
          "Aug-02-2020",
          "Aug-03-2020",
          "Aug-04-2020",
          "Aug-05-2020",
          "Aug-06-2020",
          "Aug-07-2020",
          "Aug-08-2020",
          "Aug-09-2020",
          "Aug-10-2020",
          "Aug-11-2020",
          "Aug-12-2020",
          "Aug-13-2020",
          "Aug-14-2020",
          "Aug-15-2020",
          "Aug-16-2020",
          "Aug-17-2020",
          "Aug-18-2020",
          "Aug-19-2020",
          "Aug-20-2020",
          "Aug-21-2020",
          "Aug-22-2020",
          "Aug-23-2020",
          "Aug-24-2020",
          "Aug-25-2020",
          "Aug-26-2020",
          "Aug-27-2020",
          "Aug-28-2020",
          "Aug-29-2020",
          "Aug-30-2020",
          "Aug-31-2020",
          "Sep-01-2020",
          "Sep-02-2020",
          "Sep-03-2020",
          "Sep-04-2020",
          "Sep-05-2020",
          "Sep-06-2020",
          "Sep-07-2020",
          "Sep-08-2020",
          "Sep-09-2020",
          "Sep-10-2020",
          "Sep-11-2020",
          "Sep-12-2020",
          "Sep-13-2020",
          "Sep-14-2020",
          "Sep-15-2020",
          "Sep-16-2020",
          "Sep-17-2020",
          "Sep-18-2020",
          "Sep-19-2020",
          "Sep-20-2020",
          "Sep-21-2020",
          "Sep-22-2020",
          "Sep-23-2020",
          "Sep-24-2020",
          "Sep-25-2020",
          "Sep-26-2020",
          "Sep-27-2020",
          "Sep-28-2020",
          "Sep-29-2020",
          "Sep-30-2020",
          "Oct-01-2020",
          "Oct-02-2020",
          "Oct-03-2020",
          "Oct-04-2020",
          "Oct-05-2020",
          "Oct-06-2020",
          "Oct-07-2020",
          "Oct-08-2020",
          "Oct-09-2020",
          "Oct-10-2020",
          "Oct-11-2020",
          "Oct-12-2020",
          "Oct-13-2020",
          "Oct-14-2020",
          "Oct-15-2020",
          "Oct-16-2020",
          "Oct-17-2020",
          "Oct-18-2020",
          "Oct-19-2020",
          "Oct-20-2020",
          "Oct-21-2020",
          "Oct-22-2020",
          "Oct-23-2020",
          "Oct-24-2020",
          "Oct-25-2020",
          "Oct-26-2020",
          "Oct-27-2020",
          "Oct-28-2020",
          "Oct-29-2020",
          "Oct-30-2020",
          "Oct-31-2020",
          "Nov-01-2020",
          "Nov-02-2020",
          "Nov-03-2020",
          "Nov-04-2020",
          "Nov-05-2020",
          "Nov-06-2020",
          "Nov-07-2020",
          "Nov-08-2020",
          "Nov-09-2020",
          "Nov-10-2020",
          "Nov-11-2020",
          "Nov-12-2020",
          "Nov-13-2020",
          "Nov-14-2020",
          "Nov-15-2020",
          "Nov-16-2020",
          "Nov-17-2020",
          "Nov-18-2020",
          "Nov-19-2020",
          "Nov-20-2020",
          "Nov-21-2020",
          "Nov-22-2020",
          "Nov-23-2020",
          "Nov-24-2020",
          "Nov-25-2020",
          "Nov-26-2020",
          "Nov-27-2020",
          "Nov-28-2020",
          "Nov-29-2020",
          "Nov-30-2020",
          "Dec-01-2020",
          "Dec-02-2020",
          "Dec-03-2020",
          "Dec-04-2020",
          "Dec-05-2020",
          "Dec-06-2020",
          "Dec-07-2020",
          "Dec-08-2020",
          "Dec-09-2020",
          "Dec-10-2020",
          "Dec-11-2020",
          "Dec-12-2020",
          "Dec-13-2020",
          "Dec-14-2020",
          "Dec-15-2020",
          "Dec-16-2020",
          "Dec-17-2020",
          "Dec-18-2020",
          "Dec-19-2020",
          "Dec-20-2020",
          "Dec-21-2020",
          "Dec-22-2020",
          "Dec-23-2020",
          "Dec-24-2020",
          "Dec-25-2020",
          "Dec-26-2020",
          "Dec-27-2020",
          "Dec-28-2020",
          "Dec-29-2020",
          "Dec-30-2020",
          "Dec-31-2020",
          "Jan-01-2021",
          "Jan-02-2021",
          "Jan-03-2021",
          "Jan-04-2021",
          "Jan-05-2021",
          "Jan-06-2021",
          "Jan-07-2021",
          "Jan-08-2021",
          "Jan-09-2021",
          "Jan-10-2021",
          "Jan-11-2021",
          "Jan-12-2021",
          "Jan-13-2021",
          "Jan-14-2021",
          "Jan-15-2021",
          "Jan-16-2021",
          "Jan-17-2021",
          "Jan-18-2021",
          "Jan-19-2021",
          "Jan-20-2021",
          "Jan-21-2021",
          "Jan-22-2021",
          "Jan-23-2021",
          "Jan-24-2021",
          "Jan-25-2021",
          "Jan-26-2021",
          "Jan-27-2021",
          "Jan-28-2021",
          "Jan-29-2021",
          "Jan-30-2021",
          "Jan-31-2021",
          "Feb-01-2021",
          "Feb-02-2021",
          "Feb-03-2021",
          "Feb-04-2021",
          "Feb-05-2021",
          "Feb-06-2021",
          "Feb-07-2021",
          "Feb-08-2021",
          "Feb-09-2021",
          "Feb-11-2021",
          "Feb-12-2021",
          "Feb-13-2021",
          "Feb-14-2021",
          "Feb-15-2021",
          "Feb-16-2021",
          "Feb-17-2021",
          "Feb-18-2021",
          "Feb-19-2021",
          "Feb-20-2021",
          "Feb-21-2021",
          "Feb-22-2021",
          "Feb-23-2021",
          "Feb-24-2021",
          "Feb-25-2021",
          "Feb-26-2021",
          "Feb-27-2021",
          "Feb-28-2021",
          "Mar-01-2021",
          "Mar-02-2021",
          "Mar-03-2021",
          "Mar-04-2021",
          "Mar-05-2021",
          "Mar-06-2021",
          "Mar-07-2021",
          "Mar-08-2021",
          "Mar-09-2021",
          "Mar-10-2021",
          "Mar-11-2021",
          "Mar-12-2021",
          "Mar-13-2021",
          "Mar-14-2021",
          "Mar-15-2021",
          "Mar-16-2021",
          "Mar-17-2021",
          "Mar-18-2021",
          "Mar-19-2021",
          "Mar-20-2021",
          "Mar-21-2021",
          "Mar-22-2021",
          "Mar-23-2021",
          "Mar-24-2021",
          "Mar-25-2021"
         ],
         "y": [
          165,
          102,
          52,
          21,
          179,
          65,
          42,
          190,
          144,
          164,
          133,
          153,
          106,
          185,
          121,
          68,
          423,
          0,
          94,
          258,
          414,
          271,
          210,
          184,
          359,
          345,
          174,
          429,
          491,
          359,
          491,
          29,
          794,
          347,
          508,
          768,
          508,
          415,
          693,
          549,
          929,
          357,
          308,
          782,
          750,
          218,
          689,
          480,
          389,
          530,
          1078,
          490,
          529,
          461,
          606,
          701,
          386,
          233,
          128,
          60,
          2135,
          424,
          773,
          351,
          1071,
          609,
          570,
          924,
          540,
          674,
          830,
          362,
          275,
          146,
          388,
          241,
          505,
          138,
          1622,
          137,
          34,
          209,
          2406,
          430,
          517,
          460,
          356,
          91,
          204,
          115,
          360,
          1202,
          568,
          224,
          100,
          483,
          499,
          294,
          177,
          959,
          77,
          48,
          809,
          154,
          382,
          121,
          1854,
          218,
          66,
          560,
          579,
          271,
          149,
          349,
          466,
          120,
          126,
          326,
          198,
          150,
          366,
          61,
          155,
          235,
          86,
          234,
          187,
          184,
          77,
          60,
          214,
          341,
          141,
          263,
          192,
          93,
          116,
          122,
          377,
          764,
          202,
          170,
          100,
          67,
          323,
          366,
          113,
          322,
          182,
          82,
          217,
          157,
          187,
          185,
          169,
          242,
          153,
          119,
          323,
          157,
          257,
          163,
          157,
          132,
          69,
          201,
          149,
          220,
          186,
          180,
          203,
          43,
          163,
          236,
          35,
          421,
          149,
          239,
          150,
          171,
          209,
          525,
          271,
          216,
          247,
          181,
          333,
          313,
          313,
          285,
          306,
          333,
          358,
          541,
          267,
          253,
          280,
          367,
          252,
          559,
          233,
          458,
          288,
          304,
          247,
          404,
          222,
          276,
          194,
          243,
          156,
          429,
          334,
          88,
          271,
          458,
          164,
          1101,
          279,
          218,
          89,
          587,
          168,
          210,
          331,
          345,
          157,
          129,
          465,
          266,
          227,
          193,
          574,
          182,
          172,
          162,
          245,
          696,
          286,
          478,
          336,
          165,
          386,
          337,
          529,
          274,
          249,
          530,
          264,
          265,
          642,
          446,
          789,
          303,
          693,
          198,
          157,
          386,
          364,
          651,
          813,
          219,
          182,
          145,
          227,
          456,
          401,
          459,
          383,
          345,
          226,
          924,
          533,
          742,
          812,
          990,
          377,
          356,
          232,
          400,
          321,
          533,
          1860,
          218,
          463,
          235,
          375,
          275,
          458,
          245,
          211,
          345,
          1011,
          372,
          297,
          620,
          1255,
          162,
          528,
          212,
          213,
          693,
          183,
          115,
          413,
          108,
          483,
          1988,
          701,
          206,
          313,
          461,
          131,
          643,
          2221,
          643,
          229,
          146,
          526,
          141,
          835,
          574,
          135,
          654,
          128,
          1647,
          102,
          599,
          1824,
          544,
          291,
          154,
          400,
          122,
          621,
          446,
          588,
          270,
          147,
          473,
          40,
          707,
          162
         ]
        }
       ],
       "layout": {
        "autosize": false,
        "height": 600,
        "legend": {
         "bgcolor": "rgba(255, 255, 255, 0)",
         "bordercolor": "rgba(255, 255, 255, 0)",
         "borderwidth": 1,
         "traceorder": "normal",
         "x": 0.05,
         "y": 0.98
        },
        "template": {
         "data": {
          "bar": [
           {
            "error_x": {
             "color": "#2a3f5f"
            },
            "error_y": {
             "color": "#2a3f5f"
            },
            "marker": {
             "line": {
              "color": "#E5ECF6",
              "width": 0.5
             }
            },
            "type": "bar"
           }
          ],
          "barpolar": [
           {
            "marker": {
             "line": {
              "color": "#E5ECF6",
              "width": 0.5
             }
            },
            "type": "barpolar"
           }
          ],
          "carpet": [
           {
            "aaxis": {
             "endlinecolor": "#2a3f5f",
             "gridcolor": "white",
             "linecolor": "white",
             "minorgridcolor": "white",
             "startlinecolor": "#2a3f5f"
            },
            "baxis": {
             "endlinecolor": "#2a3f5f",
             "gridcolor": "white",
             "linecolor": "white",
             "minorgridcolor": "white",
             "startlinecolor": "#2a3f5f"
            },
            "type": "carpet"
           }
          ],
          "choropleth": [
           {
            "colorbar": {
             "outlinewidth": 0,
             "ticks": ""
            },
            "type": "choropleth"
           }
          ],
          "contour": [
           {
            "colorbar": {
             "outlinewidth": 0,
             "ticks": ""
            },
            "colorscale": [
             [
              0,
              "#0d0887"
             ],
             [
              0.1111111111111111,
              "#46039f"
             ],
             [
              0.2222222222222222,
              "#7201a8"
             ],
             [
              0.3333333333333333,
              "#9c179e"
             ],
             [
              0.4444444444444444,
              "#bd3786"
             ],
             [
              0.5555555555555556,
              "#d8576b"
             ],
             [
              0.6666666666666666,
              "#ed7953"
             ],
             [
              0.7777777777777778,
              "#fb9f3a"
             ],
             [
              0.8888888888888888,
              "#fdca26"
             ],
             [
              1,
              "#f0f921"
             ]
            ],
            "type": "contour"
           }
          ],
          "contourcarpet": [
           {
            "colorbar": {
             "outlinewidth": 0,
             "ticks": ""
            },
            "type": "contourcarpet"
           }
          ],
          "heatmap": [
           {
            "colorbar": {
             "outlinewidth": 0,
             "ticks": ""
            },
            "colorscale": [
             [
              0,
              "#0d0887"
             ],
             [
              0.1111111111111111,
              "#46039f"
             ],
             [
              0.2222222222222222,
              "#7201a8"
             ],
             [
              0.3333333333333333,
              "#9c179e"
             ],
             [
              0.4444444444444444,
              "#bd3786"
             ],
             [
              0.5555555555555556,
              "#d8576b"
             ],
             [
              0.6666666666666666,
              "#ed7953"
             ],
             [
              0.7777777777777778,
              "#fb9f3a"
             ],
             [
              0.8888888888888888,
              "#fdca26"
             ],
             [
              1,
              "#f0f921"
             ]
            ],
            "type": "heatmap"
           }
          ],
          "heatmapgl": [
           {
            "colorbar": {
             "outlinewidth": 0,
             "ticks": ""
            },
            "colorscale": [
             [
              0,
              "#0d0887"
             ],
             [
              0.1111111111111111,
              "#46039f"
             ],
             [
              0.2222222222222222,
              "#7201a8"
             ],
             [
              0.3333333333333333,
              "#9c179e"
             ],
             [
              0.4444444444444444,
              "#bd3786"
             ],
             [
              0.5555555555555556,
              "#d8576b"
             ],
             [
              0.6666666666666666,
              "#ed7953"
             ],
             [
              0.7777777777777778,
              "#fb9f3a"
             ],
             [
              0.8888888888888888,
              "#fdca26"
             ],
             [
              1,
              "#f0f921"
             ]
            ],
            "type": "heatmapgl"
           }
          ],
          "histogram": [
           {
            "marker": {
             "colorbar": {
              "outlinewidth": 0,
              "ticks": ""
             }
            },
            "type": "histogram"
           }
          ],
          "histogram2d": [
           {
            "colorbar": {
             "outlinewidth": 0,
             "ticks": ""
            },
            "colorscale": [
             [
              0,
              "#0d0887"
             ],
             [
              0.1111111111111111,
              "#46039f"
             ],
             [
              0.2222222222222222,
              "#7201a8"
             ],
             [
              0.3333333333333333,
              "#9c179e"
             ],
             [
              0.4444444444444444,
              "#bd3786"
             ],
             [
              0.5555555555555556,
              "#d8576b"
             ],
             [
              0.6666666666666666,
              "#ed7953"
             ],
             [
              0.7777777777777778,
              "#fb9f3a"
             ],
             [
              0.8888888888888888,
              "#fdca26"
             ],
             [
              1,
              "#f0f921"
             ]
            ],
            "type": "histogram2d"
           }
          ],
          "histogram2dcontour": [
           {
            "colorbar": {
             "outlinewidth": 0,
             "ticks": ""
            },
            "colorscale": [
             [
              0,
              "#0d0887"
             ],
             [
              0.1111111111111111,
              "#46039f"
             ],
             [
              0.2222222222222222,
              "#7201a8"
             ],
             [
              0.3333333333333333,
              "#9c179e"
             ],
             [
              0.4444444444444444,
              "#bd3786"
             ],
             [
              0.5555555555555556,
              "#d8576b"
             ],
             [
              0.6666666666666666,
              "#ed7953"
             ],
             [
              0.7777777777777778,
              "#fb9f3a"
             ],
             [
              0.8888888888888888,
              "#fdca26"
             ],
             [
              1,
              "#f0f921"
             ]
            ],
            "type": "histogram2dcontour"
           }
          ],
          "mesh3d": [
           {
            "colorbar": {
             "outlinewidth": 0,
             "ticks": ""
            },
            "type": "mesh3d"
           }
          ],
          "parcoords": [
           {
            "line": {
             "colorbar": {
              "outlinewidth": 0,
              "ticks": ""
             }
            },
            "type": "parcoords"
           }
          ],
          "scatter": [
           {
            "marker": {
             "colorbar": {
              "outlinewidth": 0,
              "ticks": ""
             }
            },
            "type": "scatter"
           }
          ],
          "scatter3d": [
           {
            "line": {
             "colorbar": {
              "outlinewidth": 0,
              "ticks": ""
             }
            },
            "marker": {
             "colorbar": {
              "outlinewidth": 0,
              "ticks": ""
             }
            },
            "type": "scatter3d"
           }
          ],
          "scattercarpet": [
           {
            "marker": {
             "colorbar": {
              "outlinewidth": 0,
              "ticks": ""
             }
            },
            "type": "scattercarpet"
           }
          ],
          "scattergeo": [
           {
            "marker": {
             "colorbar": {
              "outlinewidth": 0,
              "ticks": ""
             }
            },
            "type": "scattergeo"
           }
          ],
          "scattergl": [
           {
            "marker": {
             "colorbar": {
              "outlinewidth": 0,
              "ticks": ""
             }
            },
            "type": "scattergl"
           }
          ],
          "scattermapbox": [
           {
            "marker": {
             "colorbar": {
              "outlinewidth": 0,
              "ticks": ""
             }
            },
            "type": "scattermapbox"
           }
          ],
          "scatterpolar": [
           {
            "marker": {
             "colorbar": {
              "outlinewidth": 0,
              "ticks": ""
             }
            },
            "type": "scatterpolar"
           }
          ],
          "scatterpolargl": [
           {
            "marker": {
             "colorbar": {
              "outlinewidth": 0,
              "ticks": ""
             }
            },
            "type": "scatterpolargl"
           }
          ],
          "scatterternary": [
           {
            "marker": {
             "colorbar": {
              "outlinewidth": 0,
              "ticks": ""
             }
            },
            "type": "scatterternary"
           }
          ],
          "surface": [
           {
            "colorbar": {
             "outlinewidth": 0,
             "ticks": ""
            },
            "colorscale": [
             [
              0,
              "#0d0887"
             ],
             [
              0.1111111111111111,
              "#46039f"
             ],
             [
              0.2222222222222222,
              "#7201a8"
             ],
             [
              0.3333333333333333,
              "#9c179e"
             ],
             [
              0.4444444444444444,
              "#bd3786"
             ],
             [
              0.5555555555555556,
              "#d8576b"
             ],
             [
              0.6666666666666666,
              "#ed7953"
             ],
             [
              0.7777777777777778,
              "#fb9f3a"
             ],
             [
              0.8888888888888888,
              "#fdca26"
             ],
             [
              1,
              "#f0f921"
             ]
            ],
            "type": "surface"
           }
          ],
          "table": [
           {
            "cells": {
             "fill": {
              "color": "#EBF0F8"
             },
             "line": {
              "color": "white"
             }
            },
            "header": {
             "fill": {
              "color": "#C8D4E3"
             },
             "line": {
              "color": "white"
             }
            },
            "type": "table"
           }
          ]
         },
         "layout": {
          "annotationdefaults": {
           "arrowcolor": "#2a3f5f",
           "arrowhead": 0,
           "arrowwidth": 1
          },
          "colorscale": {
           "diverging": [
            [
             0,
             "#8e0152"
            ],
            [
             0.1,
             "#c51b7d"
            ],
            [
             0.2,
             "#de77ae"
            ],
            [
             0.3,
             "#f1b6da"
            ],
            [
             0.4,
             "#fde0ef"
            ],
            [
             0.5,
             "#f7f7f7"
            ],
            [
             0.6,
             "#e6f5d0"
            ],
            [
             0.7,
             "#b8e186"
            ],
            [
             0.8,
             "#7fbc41"
            ],
            [
             0.9,
             "#4d9221"
            ],
            [
             1,
             "#276419"
            ]
           ],
           "sequential": [
            [
             0,
             "#0d0887"
            ],
            [
             0.1111111111111111,
             "#46039f"
            ],
            [
             0.2222222222222222,
             "#7201a8"
            ],
            [
             0.3333333333333333,
             "#9c179e"
            ],
            [
             0.4444444444444444,
             "#bd3786"
            ],
            [
             0.5555555555555556,
             "#d8576b"
            ],
            [
             0.6666666666666666,
             "#ed7953"
            ],
            [
             0.7777777777777778,
             "#fb9f3a"
            ],
            [
             0.8888888888888888,
             "#fdca26"
            ],
            [
             1,
             "#f0f921"
            ]
           ],
           "sequentialminus": [
            [
             0,
             "#0d0887"
            ],
            [
             0.1111111111111111,
             "#46039f"
            ],
            [
             0.2222222222222222,
             "#7201a8"
            ],
            [
             0.3333333333333333,
             "#9c179e"
            ],
            [
             0.4444444444444444,
             "#bd3786"
            ],
            [
             0.5555555555555556,
             "#d8576b"
            ],
            [
             0.6666666666666666,
             "#ed7953"
            ],
            [
             0.7777777777777778,
             "#fb9f3a"
            ],
            [
             0.8888888888888888,
             "#fdca26"
            ],
            [
             1,
             "#f0f921"
            ]
           ]
          },
          "colorway": [
           "#636efa",
           "#EF553B",
           "#00cc96",
           "#ab63fa",
           "#FFA15A",
           "#19d3f3",
           "#FF6692",
           "#B6E880",
           "#FF97FF",
           "#FECB52"
          ],
          "font": {
           "color": "#2a3f5f"
          },
          "geo": {
           "bgcolor": "white",
           "lakecolor": "white",
           "landcolor": "#E5ECF6",
           "showlakes": true,
           "showland": true,
           "subunitcolor": "white"
          },
          "hoverlabel": {
           "align": "left"
          },
          "hovermode": "closest",
          "mapbox": {
           "style": "light"
          },
          "paper_bgcolor": "white",
          "plot_bgcolor": "#E5ECF6",
          "polar": {
           "angularaxis": {
            "gridcolor": "white",
            "linecolor": "white",
            "ticks": ""
           },
           "bgcolor": "#E5ECF6",
           "radialaxis": {
            "gridcolor": "white",
            "linecolor": "white",
            "ticks": ""
           }
          },
          "scene": {
           "xaxis": {
            "backgroundcolor": "#E5ECF6",
            "gridcolor": "white",
            "gridwidth": 2,
            "linecolor": "white",
            "showbackground": true,
            "ticks": "",
            "zerolinecolor": "white"
           },
           "yaxis": {
            "backgroundcolor": "#E5ECF6",
            "gridcolor": "white",
            "gridwidth": 2,
            "linecolor": "white",
            "showbackground": true,
            "ticks": "",
            "zerolinecolor": "white"
           },
           "zaxis": {
            "backgroundcolor": "#E5ECF6",
            "gridcolor": "white",
            "gridwidth": 2,
            "linecolor": "white",
            "showbackground": true,
            "ticks": "",
            "zerolinecolor": "white"
           }
          },
          "shapedefaults": {
           "line": {
            "color": "#2a3f5f"
           }
          },
          "ternary": {
           "aaxis": {
            "gridcolor": "white",
            "linecolor": "white",
            "ticks": ""
           },
           "baxis": {
            "gridcolor": "white",
            "linecolor": "white",
            "ticks": ""
           },
           "bgcolor": "#E5ECF6",
           "caxis": {
            "gridcolor": "white",
            "linecolor": "white",
            "ticks": ""
           }
          },
          "title": {
           "x": 0.05
          },
          "xaxis": {
           "automargin": true,
           "gridcolor": "white",
           "linecolor": "white",
           "ticks": "",
           "zerolinecolor": "white",
           "zerolinewidth": 2
          },
          "yaxis": {
           "automargin": true,
           "gridcolor": "white",
           "linecolor": "white",
           "ticks": "",
           "zerolinecolor": "white",
           "zerolinewidth": 2
          }
         }
        },
        "title": {
         "text": "<b>AFRICA- COVID19 NEW CASES BY REGION: March 25, 2021</b>",
         "x": 0.5,
         "xanchor": "center",
         "y": 0.9,
         "yanchor": "top"
        },
        "width": 1000,
        "xaxis": {
         "nticks": 8,
         "tickangle": 90,
         "title": {
          "font": {
           "color": "#BDBDBD",
           "size": 18
          },
          "text": "<b>Date</b>"
         }
        },
        "yaxis": {
         "title": {
          "font": {
           "color": "#4D4B4B",
           "size": 18
          },
          "text": "<b>New Cases</b>"
         }
        }
       }
      },
      "text/html": [
       "<div>\n",
       "        \n",
       "        \n",
       "            <div id=\"34387092-b2a3-4fa6-994e-3184d512555c\" class=\"plotly-graph-div\" style=\"height:600px; width:1000px;\"></div>\n",
       "            <script type=\"text/javascript\">\n",
       "                require([\"plotly\"], function(Plotly) {\n",
       "                    window.PLOTLYENV=window.PLOTLYENV || {};\n",
       "                    \n",
       "                if (document.getElementById(\"34387092-b2a3-4fa6-994e-3184d512555c\")) {\n",
       "                    Plotly.newPlot(\n",
       "                        '34387092-b2a3-4fa6-994e-3184d512555c',\n",
       "                        [{\"line\": {\"width\": 2.5}, \"mode\": \"lines\", \"name\": \"East Africa\", \"type\": \"scatter\", \"x\": [\"Apr-16-2020\", \"Apr-17-2020\", \"Apr-18-2020\", \"Apr-19-2020\", \"Apr-20-2020\", \"Apr-21-2020\", \"Apr-22-2020\", \"Apr-23-2020\", \"Apr-24-2020\", \"Apr-25-2020\", \"Apr-26-2020\", \"Apr-27-2020\", \"Apr-28-2020\", \"Apr-29-2020\", \"Apr-30-2020\", \"May-01-2020\", \"May-02-2020\", \"May-03-2020\", \"May-04-2020\", \"May-05-2020\", \"May-06-2020\", \"May-07-2020\", \"May-08-2020\", \"May-09-2020\", \"May-10-2020\", \"May-11-2020\", \"May-12-2020\", \"May-13-2020\", \"May-14-2020\", \"May-15-2020\", \"May-16-2020\", \"May-17-2020\", \"May-18-2020\", \"May-19-2020\", \"May-20-2020\", \"May-21-2020\", \"May-22-2020\", \"May-23-2020\", \"May-24-2020\", \"May-25-2020\", \"May-26-2020\", \"May-27-2020\", \"May-28-2020\", \"May-29-2020\", \"May-30-2020\", \"May-31-2020\", \"Jun-01-2020\", \"Jun-02-2020\", \"Jun-03-2020\", \"Jun-04-2020\", \"Jun-05-2020\", \"Jun-06-2020\", \"Jun-07-2020\", \"Jun-08-2020\", \"Jun-09-2020\", \"Jun-10-2020\", \"Jun-11-2020\", \"Jun-12-2020\", \"Jun-13-2020\", \"Jun-14-2020\", \"Jun-15-2020\", \"Jun-16-2020\", \"Jun-17-2020\", \"Jun-18-2020\", \"Jun-19-2020\", \"Jun-20-2020\", \"Jun-21-2020\", \"Jun-22-2020\", \"Jun-23-2020\", \"Jun-24-2020\", \"Jun-25-2020\", \"Jun-26-2020\", \"Jun-27-2020\", \"Jun-28-2020\", \"Jun-29-2020\", \"Jun-30-2020\", \"Jul-01-2020\", \"Jul-02-2020\", \"Jul-03-2020\", \"Jul-04-2020\", \"Jul-05-2020\", \"Jul-06-2020\", \"Jul-07-2020\", \"Jul-08-2020\", \"Jul-09-2020\", \"Jul-10-2020\", \"Jul-11-2020\", \"Jul-12-2020\", \"Jul-13-2020\", \"Jul-14-2020\", \"Jul-15-2020\", \"Jul-16-2020\", \"Jul-17-2020\", \"Jul-18-2020\", \"Jul-19-2020\", \"Jul-20-2020\", \"Jul-21-2020\", \"Jul-22-2020\", \"Jul-23-2020\", \"Jul-24-2020\", \"Jul-25-2020\", \"Jul-26-2020\", \"Jul-27-2020\", \"Jul-28-2020\", \"Jul-29-2020\", \"Jul-30-2020\", \"Jul-31-2020\", \"Aug-01-2020\", \"Aug-02-2020\", \"Aug-03-2020\", \"Aug-04-2020\", \"Aug-05-2020\", \"Aug-06-2020\", \"Aug-07-2020\", \"Aug-08-2020\", \"Aug-09-2020\", \"Aug-10-2020\", \"Aug-11-2020\", \"Aug-12-2020\", \"Aug-13-2020\", \"Aug-14-2020\", \"Aug-15-2020\", \"Aug-16-2020\", \"Aug-17-2020\", \"Aug-18-2020\", \"Aug-19-2020\", \"Aug-20-2020\", \"Aug-21-2020\", \"Aug-22-2020\", \"Aug-23-2020\", \"Aug-24-2020\", \"Aug-25-2020\", \"Aug-26-2020\", \"Aug-27-2020\", \"Aug-28-2020\", \"Aug-29-2020\", \"Aug-30-2020\", \"Aug-31-2020\", \"Sep-01-2020\", \"Sep-02-2020\", \"Sep-03-2020\", \"Sep-04-2020\", \"Sep-05-2020\", \"Sep-06-2020\", \"Sep-07-2020\", \"Sep-08-2020\", \"Sep-09-2020\", \"Sep-10-2020\", \"Sep-11-2020\", \"Sep-12-2020\", \"Sep-13-2020\", \"Sep-14-2020\", \"Sep-15-2020\", \"Sep-16-2020\", \"Sep-17-2020\", \"Sep-18-2020\", \"Sep-19-2020\", \"Sep-20-2020\", \"Sep-21-2020\", \"Sep-22-2020\", \"Sep-23-2020\", \"Sep-24-2020\", \"Sep-25-2020\", \"Sep-26-2020\", \"Sep-27-2020\", \"Sep-28-2020\", \"Sep-29-2020\", \"Sep-30-2020\", \"Oct-01-2020\", \"Oct-02-2020\", \"Oct-03-2020\", \"Oct-04-2020\", \"Oct-05-2020\", \"Oct-06-2020\", \"Oct-07-2020\", \"Oct-08-2020\", \"Oct-09-2020\", \"Oct-10-2020\", \"Oct-11-2020\", \"Oct-12-2020\", \"Oct-13-2020\", \"Oct-14-2020\", \"Oct-15-2020\", \"Oct-16-2020\", \"Oct-17-2020\", \"Oct-18-2020\", \"Oct-19-2020\", \"Oct-20-2020\", \"Oct-21-2020\", \"Oct-22-2020\", \"Oct-23-2020\", \"Oct-24-2020\", \"Oct-25-2020\", \"Oct-26-2020\", \"Oct-27-2020\", \"Oct-28-2020\", \"Oct-29-2020\", \"Oct-30-2020\", \"Oct-31-2020\", \"Nov-01-2020\", \"Nov-02-2020\", \"Nov-03-2020\", \"Nov-04-2020\", \"Nov-05-2020\", \"Nov-06-2020\", \"Nov-07-2020\", \"Nov-08-2020\", \"Nov-09-2020\", \"Nov-10-2020\", \"Nov-11-2020\", \"Nov-12-2020\", \"Nov-13-2020\", \"Nov-14-2020\", \"Nov-15-2020\", \"Nov-16-2020\", \"Nov-17-2020\", \"Nov-18-2020\", \"Nov-19-2020\", \"Nov-20-2020\", \"Nov-21-2020\", \"Nov-22-2020\", \"Nov-23-2020\", \"Nov-24-2020\", \"Nov-25-2020\", \"Nov-26-2020\", \"Nov-27-2020\", \"Nov-28-2020\", \"Nov-29-2020\", \"Nov-30-2020\", \"Dec-01-2020\", \"Dec-02-2020\", \"Dec-03-2020\", \"Dec-04-2020\", \"Dec-05-2020\", \"Dec-06-2020\", \"Dec-07-2020\", \"Dec-08-2020\", \"Dec-09-2020\", \"Dec-10-2020\", \"Dec-11-2020\", \"Dec-12-2020\", \"Dec-13-2020\", \"Dec-14-2020\", \"Dec-15-2020\", \"Dec-16-2020\", \"Dec-17-2020\", \"Dec-18-2020\", \"Dec-19-2020\", \"Dec-20-2020\", \"Dec-21-2020\", \"Dec-22-2020\", \"Dec-23-2020\", \"Dec-24-2020\", \"Dec-25-2020\", \"Dec-26-2020\", \"Dec-27-2020\", \"Dec-28-2020\", \"Dec-29-2020\", \"Dec-30-2020\", \"Dec-31-2020\", \"Jan-01-2021\", \"Jan-02-2021\", \"Jan-03-2021\", \"Jan-04-2021\", \"Jan-05-2021\", \"Jan-06-2021\", \"Jan-07-2021\", \"Jan-08-2021\", \"Jan-09-2021\", \"Jan-10-2021\", \"Jan-11-2021\", \"Jan-12-2021\", \"Jan-13-2021\", \"Jan-14-2021\", \"Jan-15-2021\", \"Jan-16-2021\", \"Jan-17-2021\", \"Jan-18-2021\", \"Jan-19-2021\", \"Jan-20-2021\", \"Jan-21-2021\", \"Jan-22-2021\", \"Jan-23-2021\", \"Jan-24-2021\", \"Jan-25-2021\", \"Jan-26-2021\", \"Jan-27-2021\", \"Jan-28-2021\", \"Jan-29-2021\", \"Jan-30-2021\", \"Jan-31-2021\", \"Feb-01-2021\", \"Feb-02-2021\", \"Feb-03-2021\", \"Feb-04-2021\", \"Feb-05-2021\", \"Feb-06-2021\", \"Feb-07-2021\", \"Feb-08-2021\", \"Feb-09-2021\", \"Feb-11-2021\", \"Feb-12-2021\", \"Feb-13-2021\", \"Feb-14-2021\", \"Feb-15-2021\", \"Feb-16-2021\", \"Feb-17-2021\", \"Feb-18-2021\", \"Feb-19-2021\", \"Feb-20-2021\", \"Feb-21-2021\", \"Feb-22-2021\", \"Feb-23-2021\", \"Feb-24-2021\", \"Feb-25-2021\", \"Feb-26-2021\", \"Feb-27-2021\", \"Feb-28-2021\", \"Mar-01-2021\", \"Mar-02-2021\", \"Mar-03-2021\", \"Mar-04-2021\", \"Mar-05-2021\", \"Mar-06-2021\", \"Mar-07-2021\", \"Mar-08-2021\", \"Mar-09-2021\", \"Mar-10-2021\", \"Mar-11-2021\", \"Mar-12-2021\", \"Mar-13-2021\", \"Mar-14-2021\", \"Mar-15-2021\", \"Mar-16-2021\", \"Mar-17-2021\", \"Mar-18-2021\", \"Mar-19-2021\", \"Mar-20-2021\", \"Mar-21-2021\", \"Mar-22-2021\", \"Mar-23-2021\", \"Mar-24-2021\", \"Mar-25-2021\"], \"y\": [202, 286, 106, 210, 217, 255, 106, 126, 137, 166, 145, 129, 239, 330, 221, 55, 287, 164, 216, 297, 213, 375, 292, 484, 399, 302, 563, 352, 437, 298, 700, 405, 623, 387, 603, 1014, 802, 258, 496, 888, 396, 984, 982, 605, 1071, 672, 976, 761, 789, 869, 628, 784, 760, 1066, 716, 651, 570, 896, 869, 749, 725, 890, 798, 603, 701, 835, 860, 546, 820, 782, 649, 924, 627, 784, 573, 557, 904, 543, 711, 797, 774, 854, 1027, 1547, 1181, 1254, 1333, 1029, 1086, 1242, 1280, 1671, 1529, 1780, 1871, 1628, 1876, 2219, 1926, 2149, 1819, 2494, 1710, 2338, 1781, 2619, 2631, 2203, 2046, 1731, 1878, 1926, 1709, 2163, 2249, 1678, 1696, 1522, 2129, 2426, 2480, 2738, 1944, 2686, 2270, 2364, 2817, 2902, 2690, 2854, 2281, 2510, 2324, 2293, 2596, 2385, 2310, 1514, 1981, 1705, 1746, 1984, 1900, 1835, 1496, 1844, 1703, 1626, 1539, 1509, 1200, 1234, 1384, 1508, 1382, 1339, 1578, 1535, 1493, 1635, 1331, 1179, 1327, 1302, 1346, 1534, 1494, 1655, 1356, 1674, 1581, 1783, 1223, 1065, 1678, 1620, 1790, 1795, 1629, 1378, 1244, 1703, 1625, 1590, 1619, 1798, 1649, 1531, 1624, 2073, 1819, 2071, 1719, 1274, 1591, 2188, 1864, 2493, 2137, 1572, 1967, 1768, 2485, 1966, 2142, 1983, 1951, 2076, 1947, 2310, 1991, 2553, 2342, 1898, 1954, 1921, 2217, 2556, 2419, 2455, 2153, 1635, 1792, 2414, 2084, 3006, 2265, 1593, 1620, 1950, 2297, 2671, 2434, 2182, 1734, 1957, 1206, 3783, 2201, 2570, 2578, 1875, 1379, 1744, 1973, 2268, 2079, 2177, 1818, 1336, 1611, 1772, 1732, 1879, 1099, 1398, 903, 1352, 1750, 1998, 1519, 1309, 1865, 1680, 2164, 2553, 2790, 3206, 3460, 3348, 2530, 2678, 6067, 3987, 4885, 4345, 4539, 3198, 4280, 4788, 4513, 4747, 4202, 3963, 3298, 5035, 4620, 4656, 4952, 4093, 3677, 3777, 4176, 4495, 4901, 4094, 3564, 3505, 4462, 3892, 4039, 3755, 2874, 3968, 3169, 3717, 4796, 3731, 3075, 4564, 3396, 3281, 2905, 4490, 3516, 3142, 3104, 2976, 3133, 3637, 3137, 3870, 2927, 3878, 2874, 2513, 3266, 3577, 4143, 3300, 4527, 2879, 2941, 3741, 4336, 4653, 4828, 4073, 3672, 3343, 5168, 4610, 4629]}, {\"line\": {\"width\": 2.5}, \"mode\": \"lines\", \"name\": \"West Africa\", \"type\": \"scatter\", \"x\": [\"Apr-16-2020\", \"Apr-17-2020\", \"Apr-18-2020\", \"Apr-19-2020\", \"Apr-20-2020\", \"Apr-21-2020\", \"Apr-22-2020\", \"Apr-23-2020\", \"Apr-24-2020\", \"Apr-25-2020\", \"Apr-26-2020\", \"Apr-27-2020\", \"Apr-28-2020\", \"Apr-29-2020\", \"Apr-30-2020\", \"May-01-2020\", \"May-02-2020\", \"May-03-2020\", \"May-04-2020\", \"May-05-2020\", \"May-06-2020\", \"May-07-2020\", \"May-08-2020\", \"May-09-2020\", \"May-10-2020\", \"May-11-2020\", \"May-12-2020\", \"May-13-2020\", \"May-14-2020\", \"May-15-2020\", \"May-16-2020\", \"May-17-2020\", \"May-18-2020\", \"May-19-2020\", \"May-20-2020\", \"May-21-2020\", \"May-22-2020\", \"May-23-2020\", \"May-24-2020\", \"May-25-2020\", \"May-26-2020\", \"May-27-2020\", \"May-28-2020\", \"May-29-2020\", \"May-30-2020\", \"May-31-2020\", \"Jun-01-2020\", \"Jun-02-2020\", \"Jun-03-2020\", \"Jun-04-2020\", \"Jun-05-2020\", \"Jun-06-2020\", \"Jun-07-2020\", \"Jun-08-2020\", \"Jun-09-2020\", \"Jun-10-2020\", \"Jun-11-2020\", \"Jun-12-2020\", \"Jun-13-2020\", \"Jun-14-2020\", \"Jun-15-2020\", \"Jun-16-2020\", \"Jun-17-2020\", \"Jun-18-2020\", \"Jun-19-2020\", \"Jun-20-2020\", \"Jun-21-2020\", \"Jun-22-2020\", \"Jun-23-2020\", \"Jun-24-2020\", \"Jun-25-2020\", \"Jun-26-2020\", \"Jun-27-2020\", \"Jun-28-2020\", \"Jun-29-2020\", \"Jun-30-2020\", \"Jul-01-2020\", \"Jul-02-2020\", \"Jul-03-2020\", \"Jul-04-2020\", \"Jul-05-2020\", \"Jul-06-2020\", \"Jul-07-2020\", \"Jul-08-2020\", \"Jul-09-2020\", \"Jul-10-2020\", \"Jul-11-2020\", \"Jul-12-2020\", \"Jul-13-2020\", \"Jul-14-2020\", \"Jul-15-2020\", \"Jul-16-2020\", \"Jul-17-2020\", \"Jul-18-2020\", \"Jul-19-2020\", \"Jul-20-2020\", \"Jul-21-2020\", \"Jul-22-2020\", \"Jul-23-2020\", \"Jul-24-2020\", \"Jul-25-2020\", \"Jul-26-2020\", \"Jul-27-2020\", \"Jul-28-2020\", \"Jul-29-2020\", \"Jul-30-2020\", \"Jul-31-2020\", \"Aug-01-2020\", \"Aug-02-2020\", \"Aug-03-2020\", \"Aug-04-2020\", \"Aug-05-2020\", \"Aug-06-2020\", \"Aug-07-2020\", \"Aug-08-2020\", \"Aug-09-2020\", \"Aug-10-2020\", \"Aug-11-2020\", \"Aug-12-2020\", \"Aug-13-2020\", \"Aug-14-2020\", \"Aug-15-2020\", \"Aug-16-2020\", \"Aug-17-2020\", \"Aug-18-2020\", \"Aug-19-2020\", \"Aug-20-2020\", \"Aug-21-2020\", \"Aug-22-2020\", \"Aug-23-2020\", \"Aug-24-2020\", \"Aug-25-2020\", \"Aug-26-2020\", \"Aug-27-2020\", \"Aug-28-2020\", \"Aug-29-2020\", \"Aug-30-2020\", \"Aug-31-2020\", \"Sep-01-2020\", \"Sep-02-2020\", \"Sep-03-2020\", \"Sep-04-2020\", \"Sep-05-2020\", \"Sep-06-2020\", \"Sep-07-2020\", \"Sep-08-2020\", \"Sep-09-2020\", \"Sep-10-2020\", \"Sep-11-2020\", \"Sep-12-2020\", \"Sep-13-2020\", \"Sep-14-2020\", \"Sep-15-2020\", \"Sep-16-2020\", \"Sep-17-2020\", \"Sep-18-2020\", \"Sep-19-2020\", \"Sep-20-2020\", \"Sep-21-2020\", \"Sep-22-2020\", \"Sep-23-2020\", \"Sep-24-2020\", \"Sep-25-2020\", \"Sep-26-2020\", \"Sep-27-2020\", \"Sep-28-2020\", \"Sep-29-2020\", \"Sep-30-2020\", \"Oct-01-2020\", \"Oct-02-2020\", \"Oct-03-2020\", \"Oct-04-2020\", \"Oct-05-2020\", \"Oct-06-2020\", \"Oct-07-2020\", \"Oct-08-2020\", \"Oct-09-2020\", \"Oct-10-2020\", \"Oct-11-2020\", \"Oct-12-2020\", \"Oct-13-2020\", \"Oct-14-2020\", \"Oct-15-2020\", \"Oct-16-2020\", \"Oct-17-2020\", \"Oct-18-2020\", \"Oct-19-2020\", \"Oct-20-2020\", \"Oct-21-2020\", \"Oct-22-2020\", \"Oct-23-2020\", \"Oct-24-2020\", \"Oct-25-2020\", \"Oct-26-2020\", \"Oct-27-2020\", \"Oct-28-2020\", \"Oct-29-2020\", \"Oct-30-2020\", \"Oct-31-2020\", \"Nov-01-2020\", \"Nov-02-2020\", \"Nov-03-2020\", \"Nov-04-2020\", \"Nov-05-2020\", \"Nov-06-2020\", \"Nov-07-2020\", \"Nov-08-2020\", \"Nov-09-2020\", \"Nov-10-2020\", \"Nov-11-2020\", \"Nov-12-2020\", \"Nov-13-2020\", \"Nov-14-2020\", \"Nov-15-2020\", \"Nov-16-2020\", \"Nov-17-2020\", \"Nov-18-2020\", \"Nov-19-2020\", \"Nov-20-2020\", \"Nov-21-2020\", \"Nov-22-2020\", \"Nov-23-2020\", \"Nov-24-2020\", \"Nov-25-2020\", \"Nov-26-2020\", \"Nov-27-2020\", \"Nov-28-2020\", \"Nov-29-2020\", \"Nov-30-2020\", \"Dec-01-2020\", \"Dec-02-2020\", \"Dec-03-2020\", \"Dec-04-2020\", \"Dec-05-2020\", \"Dec-06-2020\", \"Dec-07-2020\", \"Dec-08-2020\", \"Dec-09-2020\", \"Dec-10-2020\", \"Dec-11-2020\", \"Dec-12-2020\", \"Dec-13-2020\", \"Dec-14-2020\", \"Dec-15-2020\", \"Dec-16-2020\", \"Dec-17-2020\", \"Dec-18-2020\", \"Dec-19-2020\", \"Dec-20-2020\", \"Dec-21-2020\", \"Dec-22-2020\", \"Dec-23-2020\", \"Dec-24-2020\", \"Dec-25-2020\", \"Dec-26-2020\", \"Dec-27-2020\", \"Dec-28-2020\", \"Dec-29-2020\", \"Dec-30-2020\", \"Dec-31-2020\", \"Jan-01-2021\", \"Jan-02-2021\", \"Jan-03-2021\", \"Jan-04-2021\", \"Jan-05-2021\", \"Jan-06-2021\", \"Jan-07-2021\", \"Jan-08-2021\", \"Jan-09-2021\", \"Jan-10-2021\", \"Jan-11-2021\", \"Jan-12-2021\", \"Jan-13-2021\", \"Jan-14-2021\", \"Jan-15-2021\", \"Jan-16-2021\", \"Jan-17-2021\", \"Jan-18-2021\", \"Jan-19-2021\", \"Jan-20-2021\", \"Jan-21-2021\", \"Jan-22-2021\", \"Jan-23-2021\", \"Jan-24-2021\", \"Jan-25-2021\", \"Jan-26-2021\", \"Jan-27-2021\", \"Jan-28-2021\", \"Jan-29-2021\", \"Jan-30-2021\", \"Jan-31-2021\", \"Feb-01-2021\", \"Feb-02-2021\", \"Feb-03-2021\", \"Feb-04-2021\", \"Feb-05-2021\", \"Feb-06-2021\", \"Feb-07-2021\", \"Feb-08-2021\", \"Feb-09-2021\", \"Feb-11-2021\", \"Feb-12-2021\", \"Feb-13-2021\", \"Feb-14-2021\", \"Feb-15-2021\", \"Feb-16-2021\", \"Feb-17-2021\", \"Feb-18-2021\", \"Feb-19-2021\", \"Feb-20-2021\", \"Feb-21-2021\", \"Feb-22-2021\", \"Feb-23-2021\", \"Feb-24-2021\", \"Feb-25-2021\", \"Feb-26-2021\", \"Feb-27-2021\", \"Feb-28-2021\", \"Mar-01-2021\", \"Mar-02-2021\", \"Mar-03-2021\", \"Mar-04-2021\", \"Mar-05-2021\", \"Mar-06-2021\", \"Mar-07-2021\", \"Mar-08-2021\", \"Mar-09-2021\", \"Mar-10-2021\", \"Mar-11-2021\", \"Mar-12-2021\", \"Mar-13-2021\", \"Mar-14-2021\", \"Mar-15-2021\", \"Mar-16-2021\", \"Mar-17-2021\", \"Mar-18-2021\", \"Mar-19-2021\", \"Mar-20-2021\", \"Mar-21-2021\", \"Mar-22-2021\", \"Mar-23-2021\", \"Mar-24-2021\", \"Mar-25-2021\"], \"y\": [119, 215, 479, 473, 191, 307, 409, 342, 553, 257, 570, 366, 554, 629, 893, 570, 585, 345, 1267, 433, 936, 788, 1711, 856, 648, 1015, 1100, 863, 754, 694, 779, 583, 555, 883, 791, 829, 714, 716, 755, 669, 737, 873, 837, 1219, 1046, 676, 1193, 889, 980, 1168, 1223, 1102, 863, 1105, 1374, 1023, 1586, 1942, 1378, 1866, 1339, 1472, 1787, 2071, 2013, 2037, 1453, 1416, 1503, 1943, 1745, 2021, 2117, 1492, 1640, 1613, 1772, 1375, 2495, 1216, 1852, 1990, 1910, 1941, 1816, 1767, 1928, 1509, 1423, 859, 1813, 2046, 1659, 1791, 1680, 1832, 1590, 1923, 1232, 2626, 1845, 2186, 1627, 1690, 1551, 1054, 1281, 2110, 575, 1349, 765, 2279, 1509, 1527, 1341, 1451, 822, 1151, 1213, 1031, 881, 1218, 1203, 957, 1330, 1331, 1113, 824, 1134, 909, 888, 696, 710, 764, 657, 776, 676, 531, 756, 783, 518, 620, 604, 552, 505, 743, 801, 576, 601, 409, 567, 470, 624, 418, 429, 644, 601, 494, 423, 407, 556, 412, 572, 372, 587, 322, 455, 686, 438, 528, 521, 285, 334, 372, 454, 489, 467, 471, 426, 400, 585, 563, 496, 518, 446, 506, 315, 411, 380, 448, 317, 370, 226, 323, 416, 423, 735, 427, 363, 451, 287, 277, 686, 592, 410, 383, 698, 297, 482, 451, 881, 416, 422, 451, 622, 411, 637, 586, 443, 648, 555, 344, 713, 678, 437, 718, 522, 626, 576, 626, 733, 842, 1312, 992, 1016, 1039, 1468, 1223, 1452, 1467, 1661, 1104, 866, 1551, 1800, 2045, 1766, 1645, 1312, 1059, 1632, 2001, 1987, 1667, 1586, 1474, 945, 1695, 2022, 1887, 2071, 1211, 1665, 1752, 2260, 2776, 2698, 2508, 2833, 2113, 2674, 2470, 2848, 2609, 2809, 2370, 2730, 2664, 2243, 2403, 3529, 2840, 3190, 2471, 2936, 1812, 3598, 2449, 1871, 3855, 3418, 1448, 3030, 2879, 3148, 3351, 2642, 2007, 2122, 2228, 2458, 2698, 3315, 1474, 2179, 2514, 2950, 2041, 2023, 1910, 1982, 1407, 1159, 1990, 1739, 2273, 981, 1722, 758, 1073, 1830, 2943, 1792, 1610, 1427, 1031, 994, 1752, 1458, 1705, 1597, 1351, 1076, 987, 1510, 1279, 2126, 1476, 1616, 760, 1112, 1462, 1864]}, {\"line\": {\"width\": 2.5}, \"mode\": \"lines\", \"name\": \"North Africa\", \"type\": \"scatter\", \"x\": [\"Apr-16-2020\", \"Apr-17-2020\", \"Apr-18-2020\", \"Apr-19-2020\", \"Apr-20-2020\", \"Apr-21-2020\", \"Apr-22-2020\", \"Apr-23-2020\", \"Apr-24-2020\", \"Apr-25-2020\", \"Apr-26-2020\", \"Apr-27-2020\", \"Apr-28-2020\", \"Apr-29-2020\", \"Apr-30-2020\", \"May-01-2020\", \"May-02-2020\", \"May-03-2020\", \"May-04-2020\", \"May-05-2020\", \"May-06-2020\", \"May-07-2020\", \"May-08-2020\", \"May-09-2020\", \"May-10-2020\", \"May-11-2020\", \"May-12-2020\", \"May-13-2020\", \"May-14-2020\", \"May-15-2020\", \"May-16-2020\", \"May-17-2020\", \"May-18-2020\", \"May-19-2020\", \"May-20-2020\", \"May-21-2020\", \"May-22-2020\", \"May-23-2020\", \"May-24-2020\", \"May-25-2020\", \"May-26-2020\", \"May-27-2020\", \"May-28-2020\", \"May-29-2020\", \"May-30-2020\", \"May-31-2020\", \"Jun-01-2020\", \"Jun-02-2020\", \"Jun-03-2020\", \"Jun-04-2020\", \"Jun-05-2020\", \"Jun-06-2020\", \"Jun-07-2020\", \"Jun-08-2020\", \"Jun-09-2020\", \"Jun-10-2020\", \"Jun-11-2020\", \"Jun-12-2020\", \"Jun-13-2020\", \"Jun-14-2020\", \"Jun-15-2020\", \"Jun-16-2020\", \"Jun-17-2020\", \"Jun-18-2020\", \"Jun-19-2020\", \"Jun-20-2020\", \"Jun-21-2020\", \"Jun-22-2020\", \"Jun-23-2020\", \"Jun-24-2020\", \"Jun-25-2020\", \"Jun-26-2020\", \"Jun-27-2020\", \"Jun-28-2020\", \"Jun-29-2020\", \"Jun-30-2020\", \"Jul-01-2020\", \"Jul-02-2020\", \"Jul-03-2020\", \"Jul-04-2020\", \"Jul-05-2020\", \"Jul-06-2020\", \"Jul-07-2020\", \"Jul-08-2020\", \"Jul-09-2020\", \"Jul-10-2020\", \"Jul-11-2020\", \"Jul-12-2020\", \"Jul-13-2020\", \"Jul-14-2020\", \"Jul-15-2020\", \"Jul-16-2020\", \"Jul-17-2020\", \"Jul-18-2020\", \"Jul-19-2020\", \"Jul-20-2020\", \"Jul-21-2020\", \"Jul-22-2020\", \"Jul-23-2020\", \"Jul-24-2020\", \"Jul-25-2020\", \"Jul-26-2020\", \"Jul-27-2020\", \"Jul-28-2020\", \"Jul-29-2020\", \"Jul-30-2020\", \"Jul-31-2020\", \"Aug-01-2020\", \"Aug-02-2020\", \"Aug-03-2020\", \"Aug-04-2020\", \"Aug-05-2020\", \"Aug-06-2020\", \"Aug-07-2020\", \"Aug-08-2020\", \"Aug-09-2020\", \"Aug-10-2020\", \"Aug-11-2020\", \"Aug-12-2020\", \"Aug-13-2020\", \"Aug-14-2020\", \"Aug-15-2020\", \"Aug-16-2020\", \"Aug-17-2020\", \"Aug-18-2020\", \"Aug-19-2020\", \"Aug-20-2020\", \"Aug-21-2020\", \"Aug-22-2020\", \"Aug-23-2020\", \"Aug-24-2020\", \"Aug-25-2020\", \"Aug-26-2020\", \"Aug-27-2020\", \"Aug-28-2020\", \"Aug-29-2020\", \"Aug-30-2020\", \"Aug-31-2020\", \"Sep-01-2020\", \"Sep-02-2020\", \"Sep-03-2020\", \"Sep-04-2020\", \"Sep-05-2020\", \"Sep-06-2020\", \"Sep-07-2020\", \"Sep-08-2020\", \"Sep-09-2020\", \"Sep-10-2020\", \"Sep-11-2020\", \"Sep-12-2020\", \"Sep-13-2020\", \"Sep-14-2020\", \"Sep-15-2020\", \"Sep-16-2020\", \"Sep-17-2020\", \"Sep-18-2020\", \"Sep-19-2020\", \"Sep-20-2020\", \"Sep-21-2020\", \"Sep-22-2020\", \"Sep-23-2020\", \"Sep-24-2020\", \"Sep-25-2020\", \"Sep-26-2020\", \"Sep-27-2020\", \"Sep-28-2020\", \"Sep-29-2020\", \"Sep-30-2020\", \"Oct-01-2020\", \"Oct-02-2020\", \"Oct-03-2020\", \"Oct-04-2020\", \"Oct-05-2020\", \"Oct-06-2020\", \"Oct-07-2020\", \"Oct-08-2020\", \"Oct-09-2020\", \"Oct-10-2020\", \"Oct-11-2020\", \"Oct-12-2020\", \"Oct-13-2020\", \"Oct-14-2020\", \"Oct-15-2020\", \"Oct-16-2020\", \"Oct-17-2020\", \"Oct-18-2020\", \"Oct-19-2020\", \"Oct-20-2020\", \"Oct-21-2020\", \"Oct-22-2020\", \"Oct-23-2020\", \"Oct-24-2020\", \"Oct-25-2020\", \"Oct-26-2020\", \"Oct-27-2020\", \"Oct-28-2020\", \"Oct-29-2020\", \"Oct-30-2020\", \"Oct-31-2020\", \"Nov-01-2020\", \"Nov-02-2020\", \"Nov-03-2020\", \"Nov-04-2020\", \"Nov-05-2020\", \"Nov-06-2020\", \"Nov-07-2020\", \"Nov-08-2020\", \"Nov-09-2020\", \"Nov-10-2020\", \"Nov-11-2020\", \"Nov-12-2020\", \"Nov-13-2020\", \"Nov-14-2020\", \"Nov-15-2020\", \"Nov-16-2020\", \"Nov-17-2020\", \"Nov-18-2020\", \"Nov-19-2020\", \"Nov-20-2020\", \"Nov-21-2020\", \"Nov-22-2020\", \"Nov-23-2020\", \"Nov-24-2020\", \"Nov-25-2020\", \"Nov-26-2020\", \"Nov-27-2020\", \"Nov-28-2020\", \"Nov-29-2020\", \"Nov-30-2020\", \"Dec-01-2020\", \"Dec-02-2020\", \"Dec-03-2020\", \"Dec-04-2020\", \"Dec-05-2020\", \"Dec-06-2020\", \"Dec-07-2020\", \"Dec-08-2020\", \"Dec-09-2020\", \"Dec-10-2020\", \"Dec-11-2020\", \"Dec-12-2020\", \"Dec-13-2020\", \"Dec-14-2020\", \"Dec-15-2020\", \"Dec-16-2020\", \"Dec-17-2020\", \"Dec-18-2020\", \"Dec-19-2020\", \"Dec-20-2020\", \"Dec-21-2020\", \"Dec-22-2020\", \"Dec-23-2020\", \"Dec-24-2020\", \"Dec-25-2020\", \"Dec-26-2020\", \"Dec-27-2020\", \"Dec-28-2020\", \"Dec-29-2020\", \"Dec-30-2020\", \"Dec-31-2020\", \"Jan-01-2021\", \"Jan-02-2021\", \"Jan-03-2021\", \"Jan-04-2021\", \"Jan-05-2021\", \"Jan-06-2021\", \"Jan-07-2021\", \"Jan-08-2021\", \"Jan-09-2021\", \"Jan-10-2021\", \"Jan-11-2021\", \"Jan-12-2021\", \"Jan-13-2021\", \"Jan-14-2021\", \"Jan-15-2021\", \"Jan-16-2021\", \"Jan-17-2021\", \"Jan-18-2021\", \"Jan-19-2021\", \"Jan-20-2021\", \"Jan-21-2021\", \"Jan-22-2021\", \"Jan-23-2021\", \"Jan-24-2021\", \"Jan-25-2021\", \"Jan-26-2021\", \"Jan-27-2021\", \"Jan-28-2021\", \"Jan-29-2021\", \"Jan-30-2021\", \"Jan-31-2021\", \"Feb-01-2021\", \"Feb-02-2021\", \"Feb-03-2021\", \"Feb-04-2021\", \"Feb-05-2021\", \"Feb-06-2021\", \"Feb-07-2021\", \"Feb-08-2021\", \"Feb-09-2021\", \"Feb-11-2021\", \"Feb-12-2021\", \"Feb-13-2021\", \"Feb-14-2021\", \"Feb-15-2021\", \"Feb-16-2021\", \"Feb-17-2021\", \"Feb-18-2021\", \"Feb-19-2021\", \"Feb-20-2021\", \"Feb-21-2021\", \"Feb-22-2021\", \"Feb-23-2021\", \"Feb-24-2021\", \"Feb-25-2021\", \"Feb-26-2021\", \"Feb-27-2021\", \"Feb-28-2021\", \"Mar-01-2021\", \"Mar-02-2021\", \"Mar-03-2021\", \"Mar-04-2021\", \"Mar-05-2021\", \"Mar-06-2021\", \"Mar-07-2021\", \"Mar-08-2021\", \"Mar-09-2021\", \"Mar-10-2021\", \"Mar-11-2021\", \"Mar-12-2021\", \"Mar-13-2021\", \"Mar-14-2021\", \"Mar-15-2021\", \"Mar-16-2021\", \"Mar-17-2021\", \"Mar-18-2021\", \"Mar-19-2021\", \"Mar-20-2021\", \"Mar-21-2021\", \"Mar-22-2021\", \"Mar-23-2021\", \"Mar-24-2021\", \"Mar-25-2021\"], \"y\": [578, 644, 427, 392, 474, 438, 514, 460, 516, 512, 519, 456, 532, 499, 543, 658, 610, 629, 677, 748, 739, 719, 849, 878, 754, 732, 660, 618, 682, 634, 775, 837, 805, 970, 1023, 1041, 1097, 999, 975, 1001, 1030, 1116, 1332, 1513, 1583, 1717, 1563, 1314, 1257, 1344, 1550, 1709, 1644, 1630, 1664, 1647, 1591, 1781, 1881, 1866, 1922, 1761, 1569, 1426, 2456, 1934, 1781, 1947, 1704, 2187, 2227, 2177, 1713, 1781, 2145, 2160, 2022, 2223, 2174, 2364, 2111, 1678, 1831, 1760, 1802, 1673, 1659, 1660, 1734, 1672, 1671, 1867, 1538, 1687, 1460, 1681, 1559, 1574, 1732, 2033, 2068, 1836, 1806, 1810, 2074, 2291, 2151, 1574, 1359, 1553, 1845, 2225, 2291, 1902, 2225, 2167, 1996, 2186, 2474, 2380, 2228, 2892, 2579, 2111, 2445, 2582, 2207, 2619, 2502, 2112, 2086, 2235, 2623, 2412, 2507, 2597, 2516, 2412, 2524, 2927, 2673, 3031, 2866, 3598, 3021, 3455, 3489, 3257, 4191, 3457, 3084, 3408, 3392, 3353, 4213, 3726, 4226, 3586, 3542, 3709, 4574, 4034, 4455, 3528, 4959, 2532, 4447, 4270, 3353, 4644, 4513, 4301, 2283, 3834, 6387, 6324, 4773, 8382, 5147, 2751, 4662, 6770, 4483, 5014, 9858, 3992, 5798, 6305, 6168, 5599, 6214, 7037, 5065, 5335, 5197, 7236, 5587, 8465, 6511, 6223, 4670, 7098, 8636, 9308, 7257, 10429, 8159, 5406, 8593, 8903, 9763, 8992, 8618, 8085, 5485, 8024, 9336, 6465, 9467, 7285, 7673, 5081, 7217, 8080, 7409, 8168, 7017, 7910, 4778, 5461, 8880, 6471, 7123, 6412, 6149, 3363, 5930, 7062, 5974, 6028, 5317, 4829, 2801, 6324, 6203, 5875, 5769, 5423, 5309, 3722, 5955, 6274, 6727, 6183, 5626, 5225, 4835, 5885, 6876, 5844, 5357, 4262, 4798, 3983, 5730, 6140, 6086, 5955, 5272, 4624, 5349, 5281, 6753, 5659, 7177, 4523, 5848, 4186, 5588, 6755, 5295, 5341, 3891, 4628, 3268, 4649, 4210, 4271, 4267, 2921, 3614, 2992, 4018, 3637, 3457, 3544, 2160, 3201, 2549, 2845, 2502, 2856, 2338, 2361, 1573, 2395, 2403, 2595, 2550, 2111, 2159, 1898, 2597, 2468, 2562, 2555, 1810, 2513, 2042, 2551, 2729, 2786, 2794, 1823, 2794, 2172, 2917, 2901, 2955, 2839, 1867, 2998, 2312, 2886, 3079, 2811, 3192, 1813, 2549, 1988, 2796, 2825, 2972]}, {\"line\": {\"width\": 2.5}, \"mode\": \"lines\", \"name\": \"Southern Africa\", \"type\": \"scatter\", \"x\": [\"Apr-16-2020\", \"Apr-17-2020\", \"Apr-18-2020\", \"Apr-19-2020\", \"Apr-20-2020\", \"Apr-21-2020\", \"Apr-22-2020\", \"Apr-23-2020\", \"Apr-24-2020\", \"Apr-25-2020\", \"Apr-26-2020\", \"Apr-27-2020\", \"Apr-28-2020\", \"Apr-29-2020\", \"Apr-30-2020\", \"May-01-2020\", \"May-02-2020\", \"May-03-2020\", \"May-04-2020\", \"May-05-2020\", \"May-06-2020\", \"May-07-2020\", \"May-08-2020\", \"May-09-2020\", \"May-10-2020\", \"May-11-2020\", \"May-12-2020\", \"May-13-2020\", \"May-14-2020\", \"May-15-2020\", \"May-16-2020\", \"May-17-2020\", \"May-18-2020\", \"May-19-2020\", \"May-20-2020\", \"May-21-2020\", \"May-22-2020\", \"May-23-2020\", \"May-24-2020\", \"May-25-2020\", \"May-26-2020\", \"May-27-2020\", \"May-28-2020\", \"May-29-2020\", \"May-30-2020\", \"May-31-2020\", \"Jun-01-2020\", \"Jun-02-2020\", \"Jun-03-2020\", \"Jun-04-2020\", \"Jun-05-2020\", \"Jun-06-2020\", \"Jun-07-2020\", \"Jun-08-2020\", \"Jun-09-2020\", \"Jun-10-2020\", \"Jun-11-2020\", \"Jun-12-2020\", \"Jun-13-2020\", \"Jun-14-2020\", \"Jun-15-2020\", \"Jun-16-2020\", \"Jun-17-2020\", \"Jun-18-2020\", \"Jun-19-2020\", \"Jun-20-2020\", \"Jun-21-2020\", \"Jun-22-2020\", \"Jun-23-2020\", \"Jun-24-2020\", \"Jun-25-2020\", \"Jun-26-2020\", \"Jun-27-2020\", \"Jun-28-2020\", \"Jun-29-2020\", \"Jun-30-2020\", \"Jul-01-2020\", \"Jul-02-2020\", \"Jul-03-2020\", \"Jul-04-2020\", \"Jul-05-2020\", \"Jul-06-2020\", \"Jul-07-2020\", \"Jul-08-2020\", \"Jul-09-2020\", \"Jul-10-2020\", \"Jul-11-2020\", \"Jul-12-2020\", \"Jul-13-2020\", \"Jul-14-2020\", \"Jul-15-2020\", \"Jul-16-2020\", \"Jul-17-2020\", \"Jul-18-2020\", \"Jul-19-2020\", \"Jul-20-2020\", \"Jul-21-2020\", \"Jul-22-2020\", \"Jul-23-2020\", \"Jul-24-2020\", \"Jul-25-2020\", \"Jul-26-2020\", \"Jul-27-2020\", \"Jul-28-2020\", \"Jul-29-2020\", \"Jul-30-2020\", \"Jul-31-2020\", \"Aug-01-2020\", \"Aug-02-2020\", \"Aug-03-2020\", \"Aug-04-2020\", \"Aug-05-2020\", \"Aug-06-2020\", \"Aug-07-2020\", \"Aug-08-2020\", \"Aug-09-2020\", \"Aug-10-2020\", \"Aug-11-2020\", \"Aug-12-2020\", \"Aug-13-2020\", \"Aug-14-2020\", \"Aug-15-2020\", \"Aug-16-2020\", \"Aug-17-2020\", \"Aug-18-2020\", \"Aug-19-2020\", \"Aug-20-2020\", \"Aug-21-2020\", \"Aug-22-2020\", \"Aug-23-2020\", \"Aug-24-2020\", \"Aug-25-2020\", \"Aug-26-2020\", \"Aug-27-2020\", \"Aug-28-2020\", \"Aug-29-2020\", \"Aug-30-2020\", \"Aug-31-2020\", \"Sep-01-2020\", \"Sep-02-2020\", \"Sep-03-2020\", \"Sep-04-2020\", \"Sep-05-2020\", \"Sep-06-2020\", \"Sep-07-2020\", \"Sep-08-2020\", \"Sep-09-2020\", \"Sep-10-2020\", \"Sep-11-2020\", \"Sep-12-2020\", \"Sep-13-2020\", \"Sep-14-2020\", \"Sep-15-2020\", \"Sep-16-2020\", \"Sep-17-2020\", \"Sep-18-2020\", \"Sep-19-2020\", \"Sep-20-2020\", \"Sep-21-2020\", \"Sep-22-2020\", \"Sep-23-2020\", \"Sep-24-2020\", \"Sep-25-2020\", \"Sep-26-2020\", \"Sep-27-2020\", \"Sep-28-2020\", \"Sep-29-2020\", \"Sep-30-2020\", \"Oct-01-2020\", \"Oct-02-2020\", \"Oct-03-2020\", \"Oct-04-2020\", \"Oct-05-2020\", \"Oct-06-2020\", \"Oct-07-2020\", \"Oct-08-2020\", \"Oct-09-2020\", \"Oct-10-2020\", \"Oct-11-2020\", \"Oct-12-2020\", \"Oct-13-2020\", \"Oct-14-2020\", \"Oct-15-2020\", \"Oct-16-2020\", \"Oct-17-2020\", \"Oct-18-2020\", \"Oct-19-2020\", \"Oct-20-2020\", \"Oct-21-2020\", \"Oct-22-2020\", \"Oct-23-2020\", \"Oct-24-2020\", \"Oct-25-2020\", \"Oct-26-2020\", \"Oct-27-2020\", \"Oct-28-2020\", \"Oct-29-2020\", \"Oct-30-2020\", \"Oct-31-2020\", \"Nov-01-2020\", \"Nov-02-2020\", \"Nov-03-2020\", \"Nov-04-2020\", \"Nov-05-2020\", \"Nov-06-2020\", \"Nov-07-2020\", \"Nov-08-2020\", \"Nov-09-2020\", \"Nov-10-2020\", \"Nov-11-2020\", \"Nov-12-2020\", \"Nov-13-2020\", \"Nov-14-2020\", \"Nov-15-2020\", \"Nov-16-2020\", \"Nov-17-2020\", \"Nov-18-2020\", \"Nov-19-2020\", \"Nov-20-2020\", \"Nov-21-2020\", \"Nov-22-2020\", \"Nov-23-2020\", \"Nov-24-2020\", \"Nov-25-2020\", \"Nov-26-2020\", \"Nov-27-2020\", \"Nov-28-2020\", \"Nov-29-2020\", \"Nov-30-2020\", \"Dec-01-2020\", \"Dec-02-2020\", \"Dec-03-2020\", \"Dec-04-2020\", \"Dec-05-2020\", \"Dec-06-2020\", \"Dec-07-2020\", \"Dec-08-2020\", \"Dec-09-2020\", \"Dec-10-2020\", \"Dec-11-2020\", \"Dec-12-2020\", \"Dec-13-2020\", \"Dec-14-2020\", \"Dec-15-2020\", \"Dec-16-2020\", \"Dec-17-2020\", \"Dec-18-2020\", \"Dec-19-2020\", \"Dec-20-2020\", \"Dec-21-2020\", \"Dec-22-2020\", \"Dec-23-2020\", \"Dec-24-2020\", \"Dec-25-2020\", \"Dec-26-2020\", \"Dec-27-2020\", \"Dec-28-2020\", \"Dec-29-2020\", \"Dec-30-2020\", \"Dec-31-2020\", \"Jan-01-2021\", \"Jan-02-2021\", \"Jan-03-2021\", \"Jan-04-2021\", \"Jan-05-2021\", \"Jan-06-2021\", \"Jan-07-2021\", \"Jan-08-2021\", \"Jan-09-2021\", \"Jan-10-2021\", \"Jan-11-2021\", \"Jan-12-2021\", \"Jan-13-2021\", \"Jan-14-2021\", \"Jan-15-2021\", \"Jan-16-2021\", \"Jan-17-2021\", \"Jan-18-2021\", \"Jan-19-2021\", \"Jan-20-2021\", \"Jan-21-2021\", \"Jan-22-2021\", \"Jan-23-2021\", \"Jan-24-2021\", \"Jan-25-2021\", \"Jan-26-2021\", \"Jan-27-2021\", \"Jan-28-2021\", \"Jan-29-2021\", \"Jan-30-2021\", \"Jan-31-2021\", \"Feb-01-2021\", \"Feb-02-2021\", \"Feb-03-2021\", \"Feb-04-2021\", \"Feb-05-2021\", \"Feb-06-2021\", \"Feb-07-2021\", \"Feb-08-2021\", \"Feb-09-2021\", \"Feb-11-2021\", \"Feb-12-2021\", \"Feb-13-2021\", \"Feb-14-2021\", \"Feb-15-2021\", \"Feb-16-2021\", \"Feb-17-2021\", \"Feb-18-2021\", \"Feb-19-2021\", \"Feb-20-2021\", \"Feb-21-2021\", \"Feb-22-2021\", \"Feb-23-2021\", \"Feb-24-2021\", \"Feb-25-2021\", \"Feb-26-2021\", \"Feb-27-2021\", \"Feb-28-2021\", \"Mar-01-2021\", \"Mar-02-2021\", \"Mar-03-2021\", \"Mar-04-2021\", \"Mar-05-2021\", \"Mar-06-2021\", \"Mar-07-2021\", \"Mar-08-2021\", \"Mar-09-2021\", \"Mar-10-2021\", \"Mar-11-2021\", \"Mar-12-2021\", \"Mar-13-2021\", \"Mar-14-2021\", \"Mar-15-2021\", \"Mar-16-2021\", \"Mar-17-2021\", \"Mar-18-2021\", \"Mar-19-2021\", \"Mar-20-2021\", \"Mar-21-2021\", \"Mar-22-2021\", \"Mar-23-2021\", \"Mar-24-2021\", \"Mar-25-2021\"], \"y\": [102, 179, 258, 129, 144, 175, 172, 318, 273, 163, 188, 253, 211, 374, 314, 310, 387, 451, 441, 355, 240, 454, 669, 530, 605, 641, 707, 728, 665, 793, 843, 1164, 922, 770, 814, 1146, 995, 1237, 1258, 1038, 654, 1761, 1490, 1838, 1756, 1723, 1711, 1461, 1730, 3287, 2675, 2574, 2326, 2610, 2170, 2469, 3210, 3393, 3849, 4333, 3515, 2821, 4152, 3566, 3894, 4971, 4648, 4335, 4576, 5716, 6642, 6273, 7248, 6420, 6164, 7040, 8254, 8781, 9214, 10996, 8906, 9134, 10286, 9044, 13855, 12511, 13636, 12307, 11729, 10585, 12933, 13703, 13599, 13626, 13690, 9532, 8367, 13444, 13397, 14358, 12540, 11550, 7518, 7507, 11776, 11379, 11239, 10848, 8612, 5706, 4692, 8682, 8612, 7622, 7928, 7000, 4274, 2810, 3194, 4489, 6610, 4892, 4118, 2970, 2543, 4451, 4331, 3820, 4157, 3117, 2326, 1880, 3143, 2953, 2164, 2696, 2845, 2362, 1463, 2617, 2750, 2864, 2036, 1838, 1586, 1307, 2259, 2363, 2279, 2037, 1737, 1300, 1006, 2035, 2417, 2285, 2169, 1709, 887, 1457, 2095, 2398, 1638, 1088, 1404, 1274, 964, 1932, 1927, 1926, 2011, 1672, 974, 1082, 2061, 1916, 1578, 2638, 1635, 1261, 1234, 1995, 2241, 2168, 2006, 1744, 1881, 1216, 2127, 2565, 1981, 1946, 1717, 1305, 1174, 1956, 2509, 1990, 1811, 1439, 823, 1293, 1760, 3132, 1854, 1798, 1460, 1316, 1861, 2256, 2826, 2340, 2352, 1946, 2248, 2076, 2992, 3141, 3259, 2836, 2387, 2612, 2644, 3453, 3673, 3546, 3428, 2627, 2914, 2477, 4252, 5514, 5247, 4900, 4351, 4130, 4197, 7041, 9019, 8812, 8176, 8347, 5921, 8020, 10770, 9817, 9595, 11542, 10018, 10214, 10137, 14814, 15597, 15711, 11968, 10258, 8327, 10617, 19468, 19167, 17783, 15747, 13327, 14193, 16476, 23107, 23291, 24559, 23151, 19924, 17203, 14524, 20393, 20917, 16160, 15258, 12962, 12244, 11061, 14064, 14003, 12823, 13332, 8826, 6632, 6917, 7899, 8784, 7204, 5988, 4812, 4706, 3091, 4475, 4941, 4344, 3777, 2652, 2541, 2388, 3160, 3170, 2717, 2127, 2631, 1570, 2594, 3525, 2424, 2078, 1670, 2337, 1233, 2050, 2640, 1971, 1709, 1414, 3151, 1101, 1634, 2663, 1575, 1458, 1037, 1983, 1178, 1623, 2891, 1460, 1815, 1197, 1760, 1010, 1642, 2165, 1796, 1635, 1331, 2545, 814, 1179, 2641]}, {\"line\": {\"width\": 2.5}, \"mode\": \"lines\", \"name\": \"Central Africa\", \"type\": \"scatter\", \"x\": [\"Apr-16-2020\", \"Apr-17-2020\", \"Apr-18-2020\", \"Apr-19-2020\", \"Apr-20-2020\", \"Apr-21-2020\", \"Apr-22-2020\", \"Apr-23-2020\", \"Apr-24-2020\", \"Apr-25-2020\", \"Apr-26-2020\", \"Apr-27-2020\", \"Apr-28-2020\", \"Apr-29-2020\", \"Apr-30-2020\", \"May-01-2020\", \"May-02-2020\", \"May-03-2020\", \"May-04-2020\", \"May-05-2020\", \"May-06-2020\", \"May-07-2020\", \"May-08-2020\", \"May-09-2020\", \"May-10-2020\", \"May-11-2020\", \"May-12-2020\", \"May-13-2020\", \"May-14-2020\", \"May-15-2020\", \"May-16-2020\", \"May-17-2020\", \"May-18-2020\", \"May-19-2020\", \"May-20-2020\", \"May-21-2020\", \"May-22-2020\", \"May-23-2020\", \"May-24-2020\", \"May-25-2020\", \"May-26-2020\", \"May-27-2020\", \"May-28-2020\", \"May-29-2020\", \"May-30-2020\", \"May-31-2020\", \"Jun-01-2020\", \"Jun-02-2020\", \"Jun-03-2020\", \"Jun-04-2020\", \"Jun-05-2020\", \"Jun-06-2020\", \"Jun-07-2020\", \"Jun-08-2020\", \"Jun-09-2020\", \"Jun-10-2020\", \"Jun-11-2020\", \"Jun-12-2020\", \"Jun-13-2020\", \"Jun-14-2020\", \"Jun-15-2020\", \"Jun-16-2020\", \"Jun-17-2020\", \"Jun-18-2020\", \"Jun-19-2020\", \"Jun-20-2020\", \"Jun-21-2020\", \"Jun-22-2020\", \"Jun-23-2020\", \"Jun-24-2020\", \"Jun-25-2020\", \"Jun-26-2020\", \"Jun-27-2020\", \"Jun-28-2020\", \"Jun-29-2020\", \"Jun-30-2020\", \"Jul-01-2020\", \"Jul-02-2020\", \"Jul-03-2020\", \"Jul-04-2020\", \"Jul-05-2020\", \"Jul-06-2020\", \"Jul-07-2020\", \"Jul-08-2020\", \"Jul-09-2020\", \"Jul-10-2020\", \"Jul-11-2020\", \"Jul-12-2020\", \"Jul-13-2020\", \"Jul-14-2020\", \"Jul-15-2020\", \"Jul-16-2020\", \"Jul-17-2020\", \"Jul-18-2020\", \"Jul-19-2020\", \"Jul-20-2020\", \"Jul-21-2020\", \"Jul-22-2020\", \"Jul-23-2020\", \"Jul-24-2020\", \"Jul-25-2020\", \"Jul-26-2020\", \"Jul-27-2020\", \"Jul-28-2020\", \"Jul-29-2020\", \"Jul-30-2020\", \"Jul-31-2020\", \"Aug-01-2020\", \"Aug-02-2020\", \"Aug-03-2020\", \"Aug-04-2020\", \"Aug-05-2020\", \"Aug-06-2020\", \"Aug-07-2020\", \"Aug-08-2020\", \"Aug-09-2020\", \"Aug-10-2020\", \"Aug-11-2020\", \"Aug-12-2020\", \"Aug-13-2020\", \"Aug-14-2020\", \"Aug-15-2020\", \"Aug-16-2020\", \"Aug-17-2020\", \"Aug-18-2020\", \"Aug-19-2020\", \"Aug-20-2020\", \"Aug-21-2020\", \"Aug-22-2020\", \"Aug-23-2020\", \"Aug-24-2020\", \"Aug-25-2020\", \"Aug-26-2020\", \"Aug-27-2020\", \"Aug-28-2020\", \"Aug-29-2020\", \"Aug-30-2020\", \"Aug-31-2020\", \"Sep-01-2020\", \"Sep-02-2020\", \"Sep-03-2020\", \"Sep-04-2020\", \"Sep-05-2020\", \"Sep-06-2020\", \"Sep-07-2020\", \"Sep-08-2020\", \"Sep-09-2020\", \"Sep-10-2020\", \"Sep-11-2020\", \"Sep-12-2020\", \"Sep-13-2020\", \"Sep-14-2020\", \"Sep-15-2020\", \"Sep-16-2020\", \"Sep-17-2020\", \"Sep-18-2020\", \"Sep-19-2020\", \"Sep-20-2020\", \"Sep-21-2020\", \"Sep-22-2020\", \"Sep-23-2020\", \"Sep-24-2020\", \"Sep-25-2020\", \"Sep-26-2020\", \"Sep-27-2020\", \"Sep-28-2020\", \"Sep-29-2020\", \"Sep-30-2020\", \"Oct-01-2020\", \"Oct-02-2020\", \"Oct-03-2020\", \"Oct-04-2020\", \"Oct-05-2020\", \"Oct-06-2020\", \"Oct-07-2020\", \"Oct-08-2020\", \"Oct-09-2020\", \"Oct-10-2020\", \"Oct-11-2020\", \"Oct-12-2020\", \"Oct-13-2020\", \"Oct-14-2020\", \"Oct-15-2020\", \"Oct-16-2020\", \"Oct-17-2020\", \"Oct-18-2020\", \"Oct-19-2020\", \"Oct-20-2020\", \"Oct-21-2020\", \"Oct-22-2020\", \"Oct-23-2020\", \"Oct-24-2020\", \"Oct-25-2020\", \"Oct-26-2020\", \"Oct-27-2020\", \"Oct-28-2020\", \"Oct-29-2020\", \"Oct-30-2020\", \"Oct-31-2020\", \"Nov-01-2020\", \"Nov-02-2020\", \"Nov-03-2020\", \"Nov-04-2020\", \"Nov-05-2020\", \"Nov-06-2020\", \"Nov-07-2020\", \"Nov-08-2020\", \"Nov-09-2020\", \"Nov-10-2020\", \"Nov-11-2020\", \"Nov-12-2020\", \"Nov-13-2020\", \"Nov-14-2020\", \"Nov-15-2020\", \"Nov-16-2020\", \"Nov-17-2020\", \"Nov-18-2020\", \"Nov-19-2020\", \"Nov-20-2020\", \"Nov-21-2020\", \"Nov-22-2020\", \"Nov-23-2020\", \"Nov-24-2020\", \"Nov-25-2020\", \"Nov-26-2020\", \"Nov-27-2020\", \"Nov-28-2020\", \"Nov-29-2020\", \"Nov-30-2020\", \"Dec-01-2020\", \"Dec-02-2020\", \"Dec-03-2020\", \"Dec-04-2020\", \"Dec-05-2020\", \"Dec-06-2020\", \"Dec-07-2020\", \"Dec-08-2020\", \"Dec-09-2020\", \"Dec-10-2020\", \"Dec-11-2020\", \"Dec-12-2020\", \"Dec-13-2020\", \"Dec-14-2020\", \"Dec-15-2020\", \"Dec-16-2020\", \"Dec-17-2020\", \"Dec-18-2020\", \"Dec-19-2020\", \"Dec-20-2020\", \"Dec-21-2020\", \"Dec-22-2020\", \"Dec-23-2020\", \"Dec-24-2020\", \"Dec-25-2020\", \"Dec-26-2020\", \"Dec-27-2020\", \"Dec-28-2020\", \"Dec-29-2020\", \"Dec-30-2020\", \"Dec-31-2020\", \"Jan-01-2021\", \"Jan-02-2021\", \"Jan-03-2021\", \"Jan-04-2021\", \"Jan-05-2021\", \"Jan-06-2021\", \"Jan-07-2021\", \"Jan-08-2021\", \"Jan-09-2021\", \"Jan-10-2021\", \"Jan-11-2021\", \"Jan-12-2021\", \"Jan-13-2021\", \"Jan-14-2021\", \"Jan-15-2021\", \"Jan-16-2021\", \"Jan-17-2021\", \"Jan-18-2021\", \"Jan-19-2021\", \"Jan-20-2021\", \"Jan-21-2021\", \"Jan-22-2021\", \"Jan-23-2021\", \"Jan-24-2021\", \"Jan-25-2021\", \"Jan-26-2021\", \"Jan-27-2021\", \"Jan-28-2021\", \"Jan-29-2021\", \"Jan-30-2021\", \"Jan-31-2021\", \"Feb-01-2021\", \"Feb-02-2021\", \"Feb-03-2021\", \"Feb-04-2021\", \"Feb-05-2021\", \"Feb-06-2021\", \"Feb-07-2021\", \"Feb-08-2021\", \"Feb-09-2021\", \"Feb-11-2021\", \"Feb-12-2021\", \"Feb-13-2021\", \"Feb-14-2021\", \"Feb-15-2021\", \"Feb-16-2021\", \"Feb-17-2021\", \"Feb-18-2021\", \"Feb-19-2021\", \"Feb-20-2021\", \"Feb-21-2021\", \"Feb-22-2021\", \"Feb-23-2021\", \"Feb-24-2021\", \"Feb-25-2021\", \"Feb-26-2021\", \"Feb-27-2021\", \"Feb-28-2021\", \"Mar-01-2021\", \"Mar-02-2021\", \"Mar-03-2021\", \"Mar-04-2021\", \"Mar-05-2021\", \"Mar-06-2021\", \"Mar-07-2021\", \"Mar-08-2021\", \"Mar-09-2021\", \"Mar-10-2021\", \"Mar-11-2021\", \"Mar-12-2021\", \"Mar-13-2021\", \"Mar-14-2021\", \"Mar-15-2021\", \"Mar-16-2021\", \"Mar-17-2021\", \"Mar-18-2021\", \"Mar-19-2021\", \"Mar-20-2021\", \"Mar-21-2021\", \"Mar-22-2021\", \"Mar-23-2021\", \"Mar-24-2021\", \"Mar-25-2021\"], \"y\": [165, 102, 52, 21, 179, 65, 42, 190, 144, 164, 133, 153, 106, 185, 121, 68, 423, 0, 94, 258, 414, 271, 210, 184, 359, 345, 174, 429, 491, 359, 491, 29, 794, 347, 508, 768, 508, 415, 693, 549, 929, 357, 308, 782, 750, 218, 689, 480, 389, 530, 1078, 490, 529, 461, 606, 701, 386, 233, 128, 60, 2135, 424, 773, 351, 1071, 609, 570, 924, 540, 674, 830, 362, 275, 146, 388, 241, 505, 138, 1622, 137, 34, 209, 2406, 430, 517, 460, 356, 91, 204, 115, 360, 1202, 568, 224, 100, 483, 499, 294, 177, 959, 77, 48, 809, 154, 382, 121, 1854, 218, 66, 560, 579, 271, 149, 349, 466, 120, 126, 326, 198, 150, 366, 61, 155, 235, 86, 234, 187, 184, 77, 60, 214, 341, 141, 263, 192, 93, 116, 122, 377, 764, 202, 170, 100, 67, 323, 366, 113, 322, 182, 82, 217, 157, 187, 185, 169, 242, 153, 119, 323, 157, 257, 163, 157, 132, 69, 201, 149, 220, 186, 180, 203, 43, 163, 236, 35, 421, 149, 239, 150, 171, 209, 525, 271, 216, 247, 181, 333, 313, 313, 285, 306, 333, 358, 541, 267, 253, 280, 367, 252, 559, 233, 458, 288, 304, 247, 404, 222, 276, 194, 243, 156, 429, 334, 88, 271, 458, 164, 1101, 279, 218, 89, 587, 168, 210, 331, 345, 157, 129, 465, 266, 227, 193, 574, 182, 172, 162, 245, 696, 286, 478, 336, 165, 386, 337, 529, 274, 249, 530, 264, 265, 642, 446, 789, 303, 693, 198, 157, 386, 364, 651, 813, 219, 182, 145, 227, 456, 401, 459, 383, 345, 226, 924, 533, 742, 812, 990, 377, 356, 232, 400, 321, 533, 1860, 218, 463, 235, 375, 275, 458, 245, 211, 345, 1011, 372, 297, 620, 1255, 162, 528, 212, 213, 693, 183, 115, 413, 108, 483, 1988, 701, 206, 313, 461, 131, 643, 2221, 643, 229, 146, 526, 141, 835, 574, 135, 654, 128, 1647, 102, 599, 1824, 544, 291, 154, 400, 122, 621, 446, 588, 270, 147, 473, 40, 707, 162]}],\n",
       "                        {\"autosize\": false, \"height\": 600, \"legend\": {\"bgcolor\": \"rgba(255, 255, 255, 0)\", \"bordercolor\": \"rgba(255, 255, 255, 0)\", \"borderwidth\": 1, \"traceorder\": \"normal\", \"x\": 0.05, \"y\": 0.98}, \"template\": {\"data\": {\"bar\": [{\"error_x\": {\"color\": \"#2a3f5f\"}, \"error_y\": {\"color\": \"#2a3f5f\"}, \"marker\": {\"line\": {\"color\": \"#E5ECF6\", \"width\": 0.5}}, \"type\": \"bar\"}], \"barpolar\": [{\"marker\": {\"line\": {\"color\": \"#E5ECF6\", \"width\": 0.5}}, \"type\": \"barpolar\"}], \"carpet\": [{\"aaxis\": {\"endlinecolor\": \"#2a3f5f\", \"gridcolor\": \"white\", \"linecolor\": \"white\", \"minorgridcolor\": \"white\", \"startlinecolor\": \"#2a3f5f\"}, \"baxis\": {\"endlinecolor\": \"#2a3f5f\", \"gridcolor\": \"white\", \"linecolor\": \"white\", \"minorgridcolor\": \"white\", \"startlinecolor\": \"#2a3f5f\"}, \"type\": \"carpet\"}], \"choropleth\": [{\"colorbar\": {\"outlinewidth\": 0, \"ticks\": \"\"}, \"type\": \"choropleth\"}], \"contour\": [{\"colorbar\": {\"outlinewidth\": 0, \"ticks\": \"\"}, \"colorscale\": [[0.0, \"#0d0887\"], [0.1111111111111111, \"#46039f\"], [0.2222222222222222, \"#7201a8\"], [0.3333333333333333, \"#9c179e\"], [0.4444444444444444, \"#bd3786\"], [0.5555555555555556, \"#d8576b\"], [0.6666666666666666, \"#ed7953\"], [0.7777777777777778, \"#fb9f3a\"], [0.8888888888888888, \"#fdca26\"], [1.0, \"#f0f921\"]], \"type\": \"contour\"}], \"contourcarpet\": [{\"colorbar\": {\"outlinewidth\": 0, \"ticks\": \"\"}, \"type\": \"contourcarpet\"}], \"heatmap\": [{\"colorbar\": {\"outlinewidth\": 0, \"ticks\": \"\"}, \"colorscale\": [[0.0, \"#0d0887\"], [0.1111111111111111, \"#46039f\"], [0.2222222222222222, \"#7201a8\"], [0.3333333333333333, \"#9c179e\"], [0.4444444444444444, \"#bd3786\"], [0.5555555555555556, \"#d8576b\"], [0.6666666666666666, \"#ed7953\"], [0.7777777777777778, \"#fb9f3a\"], [0.8888888888888888, \"#fdca26\"], [1.0, \"#f0f921\"]], \"type\": \"heatmap\"}], \"heatmapgl\": [{\"colorbar\": {\"outlinewidth\": 0, \"ticks\": \"\"}, \"colorscale\": [[0.0, \"#0d0887\"], [0.1111111111111111, \"#46039f\"], [0.2222222222222222, \"#7201a8\"], [0.3333333333333333, \"#9c179e\"], [0.4444444444444444, \"#bd3786\"], [0.5555555555555556, \"#d8576b\"], [0.6666666666666666, \"#ed7953\"], [0.7777777777777778, \"#fb9f3a\"], [0.8888888888888888, \"#fdca26\"], [1.0, \"#f0f921\"]], \"type\": \"heatmapgl\"}], \"histogram\": [{\"marker\": {\"colorbar\": {\"outlinewidth\": 0, \"ticks\": \"\"}}, \"type\": \"histogram\"}], \"histogram2d\": [{\"colorbar\": {\"outlinewidth\": 0, \"ticks\": \"\"}, \"colorscale\": [[0.0, \"#0d0887\"], [0.1111111111111111, \"#46039f\"], [0.2222222222222222, \"#7201a8\"], [0.3333333333333333, \"#9c179e\"], [0.4444444444444444, \"#bd3786\"], [0.5555555555555556, \"#d8576b\"], [0.6666666666666666, \"#ed7953\"], [0.7777777777777778, \"#fb9f3a\"], [0.8888888888888888, \"#fdca26\"], [1.0, \"#f0f921\"]], \"type\": \"histogram2d\"}], \"histogram2dcontour\": [{\"colorbar\": {\"outlinewidth\": 0, \"ticks\": \"\"}, \"colorscale\": [[0.0, \"#0d0887\"], [0.1111111111111111, \"#46039f\"], [0.2222222222222222, \"#7201a8\"], [0.3333333333333333, \"#9c179e\"], [0.4444444444444444, \"#bd3786\"], [0.5555555555555556, \"#d8576b\"], [0.6666666666666666, \"#ed7953\"], [0.7777777777777778, \"#fb9f3a\"], [0.8888888888888888, \"#fdca26\"], [1.0, \"#f0f921\"]], \"type\": \"histogram2dcontour\"}], \"mesh3d\": [{\"colorbar\": {\"outlinewidth\": 0, \"ticks\": \"\"}, \"type\": \"mesh3d\"}], \"parcoords\": [{\"line\": {\"colorbar\": {\"outlinewidth\": 0, \"ticks\": \"\"}}, \"type\": \"parcoords\"}], \"scatter\": [{\"marker\": {\"colorbar\": {\"outlinewidth\": 0, \"ticks\": \"\"}}, \"type\": \"scatter\"}], \"scatter3d\": [{\"line\": {\"colorbar\": {\"outlinewidth\": 0, \"ticks\": \"\"}}, \"marker\": {\"colorbar\": {\"outlinewidth\": 0, \"ticks\": \"\"}}, \"type\": \"scatter3d\"}], \"scattercarpet\": [{\"marker\": {\"colorbar\": {\"outlinewidth\": 0, \"ticks\": \"\"}}, \"type\": \"scattercarpet\"}], \"scattergeo\": [{\"marker\": {\"colorbar\": {\"outlinewidth\": 0, \"ticks\": \"\"}}, \"type\": \"scattergeo\"}], \"scattergl\": [{\"marker\": {\"colorbar\": {\"outlinewidth\": 0, \"ticks\": \"\"}}, \"type\": \"scattergl\"}], \"scattermapbox\": [{\"marker\": {\"colorbar\": {\"outlinewidth\": 0, \"ticks\": \"\"}}, \"type\": \"scattermapbox\"}], \"scatterpolar\": [{\"marker\": {\"colorbar\": {\"outlinewidth\": 0, \"ticks\": \"\"}}, \"type\": \"scatterpolar\"}], \"scatterpolargl\": [{\"marker\": {\"colorbar\": {\"outlinewidth\": 0, \"ticks\": \"\"}}, \"type\": \"scatterpolargl\"}], \"scatterternary\": [{\"marker\": {\"colorbar\": {\"outlinewidth\": 0, \"ticks\": \"\"}}, \"type\": \"scatterternary\"}], \"surface\": [{\"colorbar\": {\"outlinewidth\": 0, \"ticks\": \"\"}, \"colorscale\": [[0.0, \"#0d0887\"], [0.1111111111111111, \"#46039f\"], [0.2222222222222222, \"#7201a8\"], [0.3333333333333333, \"#9c179e\"], [0.4444444444444444, \"#bd3786\"], [0.5555555555555556, \"#d8576b\"], [0.6666666666666666, \"#ed7953\"], [0.7777777777777778, \"#fb9f3a\"], [0.8888888888888888, \"#fdca26\"], [1.0, \"#f0f921\"]], \"type\": \"surface\"}], \"table\": [{\"cells\": {\"fill\": {\"color\": \"#EBF0F8\"}, \"line\": {\"color\": \"white\"}}, \"header\": {\"fill\": {\"color\": \"#C8D4E3\"}, \"line\": {\"color\": \"white\"}}, \"type\": \"table\"}]}, \"layout\": {\"annotationdefaults\": {\"arrowcolor\": \"#2a3f5f\", \"arrowhead\": 0, \"arrowwidth\": 1}, \"colorscale\": {\"diverging\": [[0, \"#8e0152\"], [0.1, \"#c51b7d\"], [0.2, \"#de77ae\"], [0.3, \"#f1b6da\"], [0.4, \"#fde0ef\"], [0.5, \"#f7f7f7\"], [0.6, \"#e6f5d0\"], [0.7, \"#b8e186\"], [0.8, \"#7fbc41\"], [0.9, \"#4d9221\"], [1, \"#276419\"]], \"sequential\": [[0.0, \"#0d0887\"], [0.1111111111111111, \"#46039f\"], [0.2222222222222222, \"#7201a8\"], [0.3333333333333333, \"#9c179e\"], [0.4444444444444444, \"#bd3786\"], [0.5555555555555556, \"#d8576b\"], [0.6666666666666666, \"#ed7953\"], [0.7777777777777778, \"#fb9f3a\"], [0.8888888888888888, \"#fdca26\"], [1.0, \"#f0f921\"]], \"sequentialminus\": [[0.0, \"#0d0887\"], [0.1111111111111111, \"#46039f\"], [0.2222222222222222, \"#7201a8\"], [0.3333333333333333, \"#9c179e\"], [0.4444444444444444, \"#bd3786\"], [0.5555555555555556, \"#d8576b\"], [0.6666666666666666, \"#ed7953\"], [0.7777777777777778, \"#fb9f3a\"], [0.8888888888888888, \"#fdca26\"], [1.0, \"#f0f921\"]]}, \"colorway\": [\"#636efa\", \"#EF553B\", \"#00cc96\", \"#ab63fa\", \"#FFA15A\", \"#19d3f3\", \"#FF6692\", \"#B6E880\", \"#FF97FF\", \"#FECB52\"], \"font\": {\"color\": \"#2a3f5f\"}, \"geo\": {\"bgcolor\": \"white\", \"lakecolor\": \"white\", \"landcolor\": \"#E5ECF6\", \"showlakes\": true, \"showland\": true, \"subunitcolor\": \"white\"}, \"hoverlabel\": {\"align\": \"left\"}, \"hovermode\": \"closest\", \"mapbox\": {\"style\": \"light\"}, \"paper_bgcolor\": \"white\", \"plot_bgcolor\": \"#E5ECF6\", \"polar\": {\"angularaxis\": {\"gridcolor\": \"white\", \"linecolor\": \"white\", \"ticks\": \"\"}, \"bgcolor\": \"#E5ECF6\", \"radialaxis\": {\"gridcolor\": \"white\", \"linecolor\": \"white\", \"ticks\": \"\"}}, \"scene\": {\"xaxis\": {\"backgroundcolor\": \"#E5ECF6\", \"gridcolor\": \"white\", \"gridwidth\": 2, \"linecolor\": \"white\", \"showbackground\": true, \"ticks\": \"\", \"zerolinecolor\": \"white\"}, \"yaxis\": {\"backgroundcolor\": \"#E5ECF6\", \"gridcolor\": \"white\", \"gridwidth\": 2, \"linecolor\": \"white\", \"showbackground\": true, \"ticks\": \"\", \"zerolinecolor\": \"white\"}, \"zaxis\": {\"backgroundcolor\": \"#E5ECF6\", \"gridcolor\": \"white\", \"gridwidth\": 2, \"linecolor\": \"white\", \"showbackground\": true, \"ticks\": \"\", \"zerolinecolor\": \"white\"}}, \"shapedefaults\": {\"line\": {\"color\": \"#2a3f5f\"}}, \"ternary\": {\"aaxis\": {\"gridcolor\": \"white\", \"linecolor\": \"white\", \"ticks\": \"\"}, \"baxis\": {\"gridcolor\": \"white\", \"linecolor\": \"white\", \"ticks\": \"\"}, \"bgcolor\": \"#E5ECF6\", \"caxis\": {\"gridcolor\": \"white\", \"linecolor\": \"white\", \"ticks\": \"\"}}, \"title\": {\"x\": 0.05}, \"xaxis\": {\"automargin\": true, \"gridcolor\": \"white\", \"linecolor\": \"white\", \"ticks\": \"\", \"zerolinecolor\": \"white\", \"zerolinewidth\": 2}, \"yaxis\": {\"automargin\": true, \"gridcolor\": \"white\", \"linecolor\": \"white\", \"ticks\": \"\", \"zerolinecolor\": \"white\", \"zerolinewidth\": 2}}}, \"title\": {\"text\": \"<b>AFRICA- COVID19 NEW CASES BY REGION: March 25, 2021</b>\", \"x\": 0.5, \"xanchor\": \"center\", \"y\": 0.9, \"yanchor\": \"top\"}, \"width\": 1000, \"xaxis\": {\"nticks\": 8, \"tickangle\": 90, \"title\": {\"font\": {\"color\": \"#BDBDBD\", \"size\": 18}, \"text\": \"<b>Date</b>\"}}, \"yaxis\": {\"title\": {\"font\": {\"color\": \"#4D4B4B\", \"size\": 18}, \"text\": \"<b>New Cases</b>\"}}},\n",
       "                        {\"responsive\": true}\n",
       "                    ).then(function(){\n",
       "                            \n",
       "var gd = document.getElementById('34387092-b2a3-4fa6-994e-3184d512555c');\n",
       "var x = new MutationObserver(function (mutations, observer) {{\n",
       "        var display = window.getComputedStyle(gd).display;\n",
       "        if (!display || display === 'none') {{\n",
       "            console.log([gd, 'removed!']);\n",
       "            Plotly.purge(gd);\n",
       "            observer.disconnect();\n",
       "        }}\n",
       "}});\n",
       "\n",
       "// Listen for the removal of the full notebook cells\n",
       "var notebookContainer = gd.closest('#notebook-container');\n",
       "if (notebookContainer) {{\n",
       "    x.observe(notebookContainer, {childList: true});\n",
       "}}\n",
       "\n",
       "// Listen for the clearing of the current output cell\n",
       "var outputEl = gd.closest('.output');\n",
       "if (outputEl) {{\n",
       "    x.observe(outputEl, {childList: true});\n",
       "}}\n",
       "\n",
       "                        })\n",
       "                };\n",
       "                });\n",
       "            </script>\n",
       "        </div>"
      ]
     },
     "metadata": {},
     "output_type": "display_data"
    }
   ],
   "source": [
    "fig = go.Figure()\n",
    "\n",
    "total_per_day1 = []\n",
    "for date in dates:    \n",
    "    total = east_africa[date].str.replace('+','').fillna(0).str.replace(',','').fillna(0).astype(int).sum()\n",
    "    total_per_day1.append(total)\n",
    "\n",
    "fig.add_trace(go.Scatter(\n",
    "x=format_date(dates),\n",
    "y =total_per_day1,\n",
    "    name =\"East Africa\",\n",
    "    mode='lines',\n",
    "#     line=dict(width=3)\n",
    "    \n",
    "))\n",
    "\n",
    "total_per_day2 = []\n",
    "for date in dates:    \n",
    "    total = west_africa[date].str.replace('+','').fillna(0).str.replace(',','').fillna(0).astype(int).sum()\n",
    "    total_per_day2.append(total)\n",
    "\n",
    "fig.add_trace(go.Scatter(\n",
    "x=format_date(dates),\n",
    "y =total_per_day2,\n",
    "    name =\"West Africa\",\n",
    "    mode='lines',\n",
    "#     line=dict(width=3)\n",
    "   \n",
    "))\n",
    "\n",
    "\n",
    "total_per_day3 = []\n",
    "for date in dates:    \n",
    "    total = north_africa[date].str.replace('+','').fillna(0).str.replace(',','').fillna(0).astype(int).sum()\n",
    "    total_per_day3.append(total)\n",
    "\n",
    "fig.add_trace(go.Scatter(\n",
    "x=format_date(dates),\n",
    "y =total_per_day3,\n",
    "    name =\"North Africa\",\n",
    "    mode='lines',\n",
    "#     line=dict(width=3)\n",
    "    \n",
    "))\n",
    "\n",
    "total_per_day4 = []\n",
    "for date in dates:    \n",
    "    total = southern_africa[date].str.replace('+','').fillna(0).str.replace(',','').fillna(0).astype(int).sum()\n",
    "    total_per_day4.append(total)\n",
    "\n",
    "fig.add_trace(go.Scatter(\n",
    "x=format_date(dates),\n",
    "y =total_per_day4,\n",
    "    name =\"Southern Africa\",\n",
    "    mode='lines',\n",
    "#     line=dict(width=3)\n",
    "    \n",
    "))\n",
    "\n",
    "total_per_day5 = []\n",
    "for date in dates:    \n",
    "    total = central_africa[date].str.replace('+','').fillna(0).str.replace(',','').fillna(0).astype(int).sum()\n",
    "    total_per_day5.append(total)\n",
    "\n",
    "fig.add_trace(go.Scatter(\n",
    "x=format_date(dates),\n",
    "y =total_per_day5,\n",
    "    name =\"Central Africa\",\n",
    "    mode='lines',\n",
    "#     line=dict(width=2)\n",
    "    \n",
    "))\n",
    "\n",
    "fig.update_layout(\n",
    "    title={\n",
    "        'text': '<b>'+'AFRICA- COVID19 NEW CASES BY REGION: ' + date_string +'</b>',\n",
    "        'y':0.9,\n",
    "        'x':0.5,\n",
    "        'xanchor': 'center',\n",
    "        'yanchor': 'top'},\n",
    "    xaxis=dict(title='<b>Date</b>',titlefont_size=18, titlefont=dict(color='#BDBDBD'),nticks=8),\n",
    "    yaxis=dict(title='<b>New Cases</b>',titlefont_size=18,  titlefont=dict(color='#4D4B4B')),\n",
    "    xaxis_tickangle=90,\n",
    "    autosize=False,\n",
    "    width=1000,\n",
    "    height=600,\n",
    "    legend=dict(x=0.05, y=0.98,traceorder=\"normal\",borderwidth=1,bgcolor='rgba(255, 255, 255, 0)',bordercolor='rgba(255, 255, 255, 0)',)\n",
    "),\n",
    "fig.update_traces(line=dict(width=2.5))\n",
    "   \n",
    "fig.show()"
   ]
  },
  {
   "cell_type": "markdown",
   "metadata": {},
   "source": [
    "[Return to top](#top)"
   ]
  },
  {
   "cell_type": "code",
   "execution_count": 144,
   "metadata": {},
   "outputs": [
    {
     "data": {
      "text/html": [
       "<div>\n",
       "<style scoped>\n",
       "    .dataframe tbody tr th:only-of-type {\n",
       "        vertical-align: middle;\n",
       "    }\n",
       "\n",
       "    .dataframe tbody tr th {\n",
       "        vertical-align: top;\n",
       "    }\n",
       "\n",
       "    .dataframe thead th {\n",
       "        text-align: right;\n",
       "    }\n",
       "</style>\n",
       "<table border=\"1\" class=\"dataframe\">\n",
       "  <thead>\n",
       "    <tr style=\"text-align: right;\">\n",
       "      <th></th>\n",
       "      <th>Country_Other</th>\n",
       "      <th>April16</th>\n",
       "      <th>April17</th>\n",
       "      <th>April18</th>\n",
       "      <th>April19</th>\n",
       "      <th>April20</th>\n",
       "      <th>April21</th>\n",
       "      <th>April22</th>\n",
       "      <th>April23</th>\n",
       "      <th>April24</th>\n",
       "      <th>...</th>\n",
       "      <th>Mar16_2021</th>\n",
       "      <th>Mar17_2021</th>\n",
       "      <th>Mar18_2021</th>\n",
       "      <th>Mar19_2021</th>\n",
       "      <th>Mar20_2021</th>\n",
       "      <th>Mar21_2021</th>\n",
       "      <th>Mar22_2021</th>\n",
       "      <th>Mar23_2021</th>\n",
       "      <th>Mar24_2021</th>\n",
       "      <th>Mar25_2021</th>\n",
       "    </tr>\n",
       "  </thead>\n",
       "  <tbody>\n",
       "    <tr>\n",
       "      <td>0</td>\n",
       "      <td>China</td>\n",
       "      <td>+46</td>\n",
       "      <td>+325</td>\n",
       "      <td>+27</td>\n",
       "      <td>+16</td>\n",
       "      <td>+12</td>\n",
       "      <td>+11</td>\n",
       "      <td>+30</td>\n",
       "      <td>+10</td>\n",
       "      <td>+6</td>\n",
       "      <td>...</td>\n",
       "      <td>+13</td>\n",
       "      <td>+4</td>\n",
       "      <td>+6</td>\n",
       "      <td>+11</td>\n",
       "      <td>+4</td>\n",
       "      <td>+12</td>\n",
       "      <td>+7</td>\n",
       "      <td>+9</td>\n",
       "      <td>+10</td>\n",
       "      <td>+11</td>\n",
       "    </tr>\n",
       "    <tr>\n",
       "      <td>1</td>\n",
       "      <td>USA</td>\n",
       "      <td>+29,567</td>\n",
       "      <td>+32,165</td>\n",
       "      <td>+29,057</td>\n",
       "      <td>+25,844</td>\n",
       "      <td>+28,123</td>\n",
       "      <td>+25,985</td>\n",
       "      <td>+29,973</td>\n",
       "      <td>+31,900</td>\n",
       "      <td>+38,958</td>\n",
       "      <td>...</td>\n",
       "      <td>+53,231</td>\n",
       "      <td>+62,794</td>\n",
       "      <td>+62,629</td>\n",
       "      <td>+66,413</td>\n",
       "      <td>+56,050</td>\n",
       "      <td>+39,505</td>\n",
       "      <td>+45,748</td>\n",
       "      <td>+58,705</td>\n",
       "      <td>+66,538</td>\n",
       "      <td>+67,046</td>\n",
       "    </tr>\n",
       "    <tr>\n",
       "      <td>2</td>\n",
       "      <td>Spain</td>\n",
       "      <td>+4,289</td>\n",
       "      <td>+5,891</td>\n",
       "      <td>+3,577</td>\n",
       "      <td>+4,258</td>\n",
       "      <td>+1,536</td>\n",
       "      <td>+3,968</td>\n",
       "      <td>+4,211</td>\n",
       "      <td>+4,635</td>\n",
       "      <td>+6,740</td>\n",
       "      <td>...</td>\n",
       "      <td>+4,962</td>\n",
       "      <td>+6,092</td>\n",
       "      <td>+6,216</td>\n",
       "      <td>NaN</td>\n",
       "      <td>NaN</td>\n",
       "      <td>NaN</td>\n",
       "      <td>+4,420</td>\n",
       "      <td>+5,516</td>\n",
       "      <td>+7,026</td>\n",
       "      <td>+6,393</td>\n",
       "    </tr>\n",
       "  </tbody>\n",
       "</table>\n",
       "<p>3 rows × 344 columns</p>\n",
       "</div>"
      ],
      "text/plain": [
       "  Country_Other  April16  April17  April18  April19  April20  April21  \\\n",
       "0         China      +46     +325      +27      +16      +12      +11   \n",
       "1           USA  +29,567  +32,165  +29,057  +25,844  +28,123  +25,985   \n",
       "2         Spain   +4,289   +5,891   +3,577   +4,258   +1,536   +3,968   \n",
       "\n",
       "   April22  April23  April24  ... Mar16_2021 Mar17_2021 Mar18_2021 Mar19_2021  \\\n",
       "0      +30      +10       +6  ...        +13         +4         +6        +11   \n",
       "1  +29,973  +31,900  +38,958  ...    +53,231    +62,794    +62,629    +66,413   \n",
       "2   +4,211   +4,635   +6,740  ...     +4,962     +6,092     +6,216        NaN   \n",
       "\n",
       "  Mar20_2021 Mar21_2021 Mar22_2021 Mar23_2021 Mar24_2021 Mar25_2021  \n",
       "0         +4        +12         +7         +9        +10        +11  \n",
       "1    +56,050    +39,505    +45,748    +58,705    +66,538    +67,046  \n",
       "2        NaN        NaN     +4,420     +5,516     +7,026     +6,393  \n",
       "\n",
       "[3 rows x 344 columns]"
      ]
     },
     "execution_count": 144,
     "metadata": {},
     "output_type": "execute_result"
    }
   ],
   "source": [
    "given_date =ea_latest[18:26]\n",
    "countries_new_cases = pd.read_csv(\"../COVID19/World/NewCases/DailyCases\"+given_date+\".csv\")\n",
    "countries_new_cases.head(3)"
   ]
  },
  {
   "cell_type": "code",
   "execution_count": 145,
   "metadata": {},
   "outputs": [],
   "source": [
    "countries_and_continents = pd.read_csv('../COVID19/GeneralFiles/CountriesAndContinents.csv')\n",
    "african_countries = countries_and_continents[countries_and_continents['continent'] == 'Africa']"
   ]
  },
  {
   "cell_type": "code",
   "execution_count": 146,
   "metadata": {},
   "outputs": [
    {
     "data": {
      "text/plain": [
       "['North Africa',\n",
       " 'South Africa',\n",
       " 'Central Africa',\n",
       " 'East Africa',\n",
       " 'West Africa']"
      ]
     },
     "execution_count": 146,
     "metadata": {},
     "output_type": "execute_result"
    }
   ],
   "source": [
    "african_regions = list(african_countries['region'].unique())\n",
    "african_regions"
   ]
  },
  {
   "cell_type": "code",
   "execution_count": 147,
   "metadata": {},
   "outputs": [
    {
     "data": {
      "text/html": [
       "<div>\n",
       "<style scoped>\n",
       "    .dataframe tbody tr th:only-of-type {\n",
       "        vertical-align: middle;\n",
       "    }\n",
       "\n",
       "    .dataframe tbody tr th {\n",
       "        vertical-align: top;\n",
       "    }\n",
       "\n",
       "    .dataframe thead th {\n",
       "        text-align: right;\n",
       "    }\n",
       "</style>\n",
       "<table border=\"1\" class=\"dataframe\">\n",
       "  <thead>\n",
       "    <tr style=\"text-align: right;\">\n",
       "      <th></th>\n",
       "      <th>country_Other</th>\n",
       "      <th>continent</th>\n",
       "      <th>region</th>\n",
       "    </tr>\n",
       "  </thead>\n",
       "  <tbody>\n",
       "    <tr>\n",
       "      <td>50</td>\n",
       "      <td>South Africa</td>\n",
       "      <td>Africa</td>\n",
       "      <td>South Africa</td>\n",
       "    </tr>\n",
       "    <tr>\n",
       "      <td>170</td>\n",
       "      <td>Zimbabwe</td>\n",
       "      <td>Africa</td>\n",
       "      <td>South Africa</td>\n",
       "    </tr>\n",
       "    <tr>\n",
       "      <td>179</td>\n",
       "      <td>Eswatini</td>\n",
       "      <td>Africa</td>\n",
       "      <td>South Africa</td>\n",
       "    </tr>\n",
       "    <tr>\n",
       "      <td>181</td>\n",
       "      <td>Namibia</td>\n",
       "      <td>Africa</td>\n",
       "      <td>South Africa</td>\n",
       "    </tr>\n",
       "    <tr>\n",
       "      <td>182</td>\n",
       "      <td>Botswana</td>\n",
       "      <td>Africa</td>\n",
       "      <td>South Africa</td>\n",
       "    </tr>\n",
       "    <tr>\n",
       "      <td>214</td>\n",
       "      <td>Lesotho</td>\n",
       "      <td>Africa</td>\n",
       "      <td>South Africa</td>\n",
       "    </tr>\n",
       "  </tbody>\n",
       "</table>\n",
       "</div>"
      ],
      "text/plain": [
       "    country_Other continent        region\n",
       "50   South Africa    Africa  South Africa\n",
       "170      Zimbabwe    Africa  South Africa\n",
       "179      Eswatini    Africa  South Africa\n",
       "181       Namibia    Africa  South Africa\n",
       "182      Botswana    Africa  South Africa\n",
       "214       Lesotho    Africa  South Africa"
      ]
     },
     "execution_count": 147,
     "metadata": {},
     "output_type": "execute_result"
    }
   ],
   "source": [
    "west_africa = countries_and_continents[(countries_and_continents['continent'] == 'Africa') & (countries_and_continents['region'] == 'West Africa')]\n",
    "east_africa = countries_and_continents[(countries_and_continents['continent'] == 'Africa') & (countries_and_continents['region'] == 'East Africa')]\n",
    "central_africa = countries_and_continents[(countries_and_continents['continent'] == 'Africa') & (countries_and_continents['region'] == 'Central Africa')]\n",
    "southern_africa = countries_and_continents[(countries_and_continents['continent'] == 'Africa') & (countries_and_continents['region'] == 'South Africa')]\n",
    "north_africa = countries_and_continents[(countries_and_continents['continent'] == 'Africa') & (countries_and_continents['region'] == 'North Africa')]\n",
    "southern_africa"
   ]
  },
  {
   "cell_type": "code",
   "execution_count": 148,
   "metadata": {},
   "outputs": [
    {
     "data": {
      "text/html": [
       "<div>\n",
       "<style scoped>\n",
       "    .dataframe tbody tr th:only-of-type {\n",
       "        vertical-align: middle;\n",
       "    }\n",
       "\n",
       "    .dataframe tbody tr th {\n",
       "        vertical-align: top;\n",
       "    }\n",
       "\n",
       "    .dataframe thead th {\n",
       "        text-align: right;\n",
       "    }\n",
       "</style>\n",
       "<table border=\"1\" class=\"dataframe\">\n",
       "  <thead>\n",
       "    <tr style=\"text-align: right;\">\n",
       "      <th></th>\n",
       "      <th>Country_Other</th>\n",
       "      <th>Mar20_2021</th>\n",
       "      <th>Mar21_2021</th>\n",
       "      <th>Mar22_2021</th>\n",
       "      <th>Mar23_2021</th>\n",
       "      <th>Mar24_2021</th>\n",
       "      <th>Mar25_2021</th>\n",
       "    </tr>\n",
       "  </thead>\n",
       "  <tbody>\n",
       "    <tr>\n",
       "      <td>52</td>\n",
       "      <td>South Africa</td>\n",
       "      <td>+1,378</td>\n",
       "      <td>+1,051</td>\n",
       "      <td>+599</td>\n",
       "      <td>+510</td>\n",
       "      <td>+1,048</td>\n",
       "      <td>+1,554</td>\n",
       "    </tr>\n",
       "    <tr>\n",
       "      <td>169</td>\n",
       "      <td>Zimbabwe</td>\n",
       "      <td>+10</td>\n",
       "      <td>+3</td>\n",
       "      <td>+19</td>\n",
       "      <td>+33</td>\n",
       "      <td>+32</td>\n",
       "      <td>+29</td>\n",
       "    </tr>\n",
       "    <tr>\n",
       "      <td>177</td>\n",
       "      <td>Eswatini</td>\n",
       "      <td>+9</td>\n",
       "      <td>+3</td>\n",
       "      <td>+4</td>\n",
       "      <td>+6</td>\n",
       "      <td>+5</td>\n",
       "      <td>+5</td>\n",
       "    </tr>\n",
       "    <tr>\n",
       "      <td>180</td>\n",
       "      <td>Namibia</td>\n",
       "      <td>+238</td>\n",
       "      <td>+274</td>\n",
       "      <td>+176</td>\n",
       "      <td>+118</td>\n",
       "      <td>+93</td>\n",
       "      <td>+146</td>\n",
       "    </tr>\n",
       "    <tr>\n",
       "      <td>181</td>\n",
       "      <td>Botswana</td>\n",
       "      <td>0</td>\n",
       "      <td>0</td>\n",
       "      <td>+1,744</td>\n",
       "      <td>0</td>\n",
       "      <td>0</td>\n",
       "      <td>+907</td>\n",
       "    </tr>\n",
       "    <tr>\n",
       "      <td>214</td>\n",
       "      <td>Lesotho</td>\n",
       "      <td>0</td>\n",
       "      <td>0</td>\n",
       "      <td>+3</td>\n",
       "      <td>+147</td>\n",
       "      <td>+1</td>\n",
       "      <td>0</td>\n",
       "    </tr>\n",
       "  </tbody>\n",
       "</table>\n",
       "</div>"
      ],
      "text/plain": [
       "    Country_Other Mar20_2021 Mar21_2021 Mar22_2021 Mar23_2021 Mar24_2021  \\\n",
       "52   South Africa     +1,378     +1,051       +599       +510     +1,048   \n",
       "169      Zimbabwe        +10         +3        +19        +33        +32   \n",
       "177      Eswatini         +9         +3         +4         +6         +5   \n",
       "180       Namibia       +238       +274       +176       +118        +93   \n",
       "181      Botswana          0          0     +1,744          0          0   \n",
       "214       Lesotho          0          0         +3       +147         +1   \n",
       "\n",
       "    Mar25_2021  \n",
       "52      +1,554  \n",
       "169        +29  \n",
       "177         +5  \n",
       "180       +146  \n",
       "181       +907  \n",
       "214          0  "
      ]
     },
     "execution_count": 148,
     "metadata": {},
     "output_type": "execute_result"
    }
   ],
   "source": [
    "north_africa_new_cases = countries_new_cases[countries_new_cases['Country_Other'].isin(north_africa['country_Other'])]\n",
    "north_africa_new_cases = north_africa_new_cases.iloc[:, [0] + list(range(-6, 0))]\n",
    "north_africa_new_cases.fillna(0, inplace=True)\n",
    "north_africa_new_cases.reset_index(drop=True)\n",
    "\n",
    "east_africa_new_cases = countries_new_cases[countries_new_cases['Country_Other'].isin(east_africa['country_Other'])]\n",
    "east_africa_new_cases = east_africa_new_cases.iloc[:, [0] + list(range(-6, 0))]\n",
    "east_africa_new_cases.fillna(0, inplace=True)\n",
    "east_africa_new_cases.reset_index(drop=True)\n",
    "\n",
    "central_africa_new_cases = countries_new_cases[countries_new_cases['Country_Other'].isin(central_africa['country_Other'])]\n",
    "central_africa_new_cases = central_africa_new_cases.iloc[:, [0] + list(range(-6, 0))]\n",
    "central_africa_new_cases.fillna(0, inplace=True)\n",
    "central_africa_new_cases.reset_index(drop=True)\n",
    "\n",
    "southern_africa_new_cases = countries_new_cases[countries_new_cases['Country_Other'].isin(southern_africa['country_Other'])]\n",
    "southern_africa_new_cases = southern_africa_new_cases.iloc[:, [0] + list(range(-6, 0))]\n",
    "southern_africa_new_cases.fillna(0, inplace=True)\n",
    "southern_africa_new_cases.reset_index(drop=True)\n",
    "\n",
    "west_africa_new_cases = countries_new_cases[countries_new_cases['Country_Other'].isin(west_africa['country_Other'])]\n",
    "west_africa_new_cases = west_africa_new_cases.iloc[:, [0] + list(range(-6, 0))]\n",
    "west_africa_new_cases.fillna(0, inplace=True)\n",
    "west_africa_new_cases.reset_index(drop=True)\n",
    "\n",
    "southern_africa_new_cases"
   ]
  },
  {
   "cell_type": "code",
   "execution_count": 149,
   "metadata": {},
   "outputs": [],
   "source": [
    "countries_new_cases =  countries_new_cases.iloc[:, [0] + list(range(-6, 0))]"
   ]
  },
  {
   "cell_type": "markdown",
   "metadata": {},
   "source": [
    "<a id='by_region'></a>"
   ]
  },
  {
   "cell_type": "code",
   "execution_count": 150,
   "metadata": {},
   "outputs": [
    {
     "data": {
      "application/vnd.plotly.v1+json": {
       "config": {
        "plotlyServerURL": "https://plot.ly"
       },
       "data": [
        {
         "domain": {
          "x": [
           0,
           0.4575
          ],
          "y": [
           0.67,
           1
          ]
         },
         "hole": 0.3,
         "hoverinfo": "label+percent+name+value",
         "labels": [
          "North Africa",
          "Southern Africa",
          "Central Africa",
          "East Africa",
          "West Africa"
         ],
         "marker": {
          "colors": [
           "crimson",
           "green",
           "saddlebrown",
           "yellow",
           "blue"
          ]
         },
         "name": "Mar25_2021",
         "textfont": {
          "size": 15
         },
         "textinfo": "percent+value",
         "type": "pie",
         "values": [
          2972,
          2641,
          162,
          4629,
          1864
         ]
        },
        {
         "domain": {
          "x": [
           0.5425,
           1
          ],
          "y": [
           0.67,
           1
          ]
         },
         "hole": 0.3,
         "hoverinfo": "label+percent+name+value",
         "labels": [
          "North Africa",
          "Southern Africa",
          "Central Africa",
          "East Africa",
          "West Africa"
         ],
         "marker": {
          "colors": [
           "crimson",
           "green",
           "saddlebrown",
           "yellow",
           "blue"
          ]
         },
         "name": "Mar24_2021",
         "textfont": {
          "size": 15
         },
         "textinfo": "percent+value",
         "type": "pie",
         "values": [
          2825,
          1179,
          707,
          4610,
          1462
         ]
        },
        {
         "domain": {
          "x": [
           0,
           0.4575
          ],
          "y": [
           0.335,
           0.665
          ]
         },
         "hole": 0.3,
         "hoverinfo": "label+percent+name+value",
         "labels": [
          "North Africa",
          "Southern Africa",
          "Central Africa",
          "East Africa",
          "West Africa"
         ],
         "marker": {
          "colors": [
           "crimson",
           "green",
           "saddlebrown",
           "yellow",
           "blue"
          ]
         },
         "name": "Mar23_2021",
         "textfont": {
          "size": 15
         },
         "textinfo": "percent+value",
         "type": "pie",
         "values": [
          2796,
          814,
          40,
          5168,
          1112
         ]
        },
        {
         "domain": {
          "x": [
           0.5425,
           1
          ],
          "y": [
           0.335,
           0.665
          ]
         },
         "hole": 0.3,
         "hoverinfo": "label+percent+name+value",
         "labels": [
          "North Africa",
          "Southern Africa",
          "Central Africa",
          "East Africa",
          "West Africa"
         ],
         "marker": {
          "colors": [
           "crimson",
           "green",
           "saddlebrown",
           "yellow",
           "blue"
          ]
         },
         "name": "Mar22_2021",
         "textfont": {
          "size": 15
         },
         "textinfo": "percent+value",
         "type": "pie",
         "values": [
          1988,
          2545,
          473,
          3343,
          760
         ]
        },
        {
         "domain": {
          "x": [
           0,
           0.4575
          ],
          "y": [
           0,
           0.33
          ]
         },
         "hole": 0.3,
         "hoverinfo": "label+percent+name+value",
         "labels": [
          "North Africa",
          "Southern Africa",
          "Central Africa",
          "East Africa",
          "West Africa"
         ],
         "marker": {
          "colors": [
           "crimson",
           "green",
           "saddlebrown",
           "yellow",
           "blue"
          ]
         },
         "name": "Mar21_2021",
         "textfont": {
          "size": 15
         },
         "textinfo": "percent+value",
         "type": "pie",
         "values": [
          2549,
          1331,
          147,
          3672,
          1616
         ]
        },
        {
         "domain": {
          "x": [
           0.5425,
           1
          ],
          "y": [
           0,
           0.33
          ]
         },
         "hole": 0.3,
         "hoverinfo": "label+percent+name+value",
         "labels": [
          "North Africa",
          "Southern Africa",
          "Central Africa",
          "East Africa",
          "West Africa"
         ],
         "marker": {
          "colors": [
           "crimson",
           "green",
           "saddlebrown",
           "yellow",
           "blue"
          ]
         },
         "name": "Mar20_2021",
         "textfont": {
          "size": 15
         },
         "textinfo": "percent+value",
         "type": "pie",
         "values": [
          1813,
          1635,
          270,
          4073,
          1476
         ]
        }
       ],
       "layout": {
        "annotations": [
         {
          "font": {
           "color": "black",
           "size": 12
          },
          "showarrow": false,
          "text": "<b>Mar-25-2021</b>",
          "x": 0.168,
          "y": 0.84
         },
         {
          "font": {
           "color": "black",
           "size": 12
          },
          "showarrow": false,
          "text": "<b>Mar-24-2021</b>",
          "x": 0.83,
          "y": 0.84
         },
         {
          "font": {
           "color": "black",
           "size": 12
          },
          "showarrow": false,
          "text": "<b>Mar-23-2021</b>",
          "x": 0.168,
          "y": 0.5
         },
         {
          "font": {
           "color": "black",
           "size": 12
          },
          "showarrow": false,
          "text": "<b>Mar-22-2021</b>",
          "x": 0.83,
          "y": 0.5
         },
         {
          "font": {
           "color": "black",
           "size": 12
          },
          "showarrow": false,
          "text": "<b>Mar-21-2021</b>",
          "x": 0.168,
          "y": 0.155
         },
         {
          "font": {
           "color": "black",
           "size": 12
          },
          "showarrow": false,
          "text": "<b>Mar-20-2021</b>",
          "x": 0.83,
          "y": 0.155
         }
        ],
        "autosize": false,
        "height": 1450,
        "legend": {
         "font": {
          "size": 13
         },
         "traceorder": "normal",
         "x": 1,
         "y": 1
        },
        "template": {
         "data": {
          "bar": [
           {
            "error_x": {
             "color": "#2a3f5f"
            },
            "error_y": {
             "color": "#2a3f5f"
            },
            "marker": {
             "line": {
              "color": "#E5ECF6",
              "width": 0.5
             }
            },
            "type": "bar"
           }
          ],
          "barpolar": [
           {
            "marker": {
             "line": {
              "color": "#E5ECF6",
              "width": 0.5
             }
            },
            "type": "barpolar"
           }
          ],
          "carpet": [
           {
            "aaxis": {
             "endlinecolor": "#2a3f5f",
             "gridcolor": "white",
             "linecolor": "white",
             "minorgridcolor": "white",
             "startlinecolor": "#2a3f5f"
            },
            "baxis": {
             "endlinecolor": "#2a3f5f",
             "gridcolor": "white",
             "linecolor": "white",
             "minorgridcolor": "white",
             "startlinecolor": "#2a3f5f"
            },
            "type": "carpet"
           }
          ],
          "choropleth": [
           {
            "colorbar": {
             "outlinewidth": 0,
             "ticks": ""
            },
            "type": "choropleth"
           }
          ],
          "contour": [
           {
            "colorbar": {
             "outlinewidth": 0,
             "ticks": ""
            },
            "colorscale": [
             [
              0,
              "#0d0887"
             ],
             [
              0.1111111111111111,
              "#46039f"
             ],
             [
              0.2222222222222222,
              "#7201a8"
             ],
             [
              0.3333333333333333,
              "#9c179e"
             ],
             [
              0.4444444444444444,
              "#bd3786"
             ],
             [
              0.5555555555555556,
              "#d8576b"
             ],
             [
              0.6666666666666666,
              "#ed7953"
             ],
             [
              0.7777777777777778,
              "#fb9f3a"
             ],
             [
              0.8888888888888888,
              "#fdca26"
             ],
             [
              1,
              "#f0f921"
             ]
            ],
            "type": "contour"
           }
          ],
          "contourcarpet": [
           {
            "colorbar": {
             "outlinewidth": 0,
             "ticks": ""
            },
            "type": "contourcarpet"
           }
          ],
          "heatmap": [
           {
            "colorbar": {
             "outlinewidth": 0,
             "ticks": ""
            },
            "colorscale": [
             [
              0,
              "#0d0887"
             ],
             [
              0.1111111111111111,
              "#46039f"
             ],
             [
              0.2222222222222222,
              "#7201a8"
             ],
             [
              0.3333333333333333,
              "#9c179e"
             ],
             [
              0.4444444444444444,
              "#bd3786"
             ],
             [
              0.5555555555555556,
              "#d8576b"
             ],
             [
              0.6666666666666666,
              "#ed7953"
             ],
             [
              0.7777777777777778,
              "#fb9f3a"
             ],
             [
              0.8888888888888888,
              "#fdca26"
             ],
             [
              1,
              "#f0f921"
             ]
            ],
            "type": "heatmap"
           }
          ],
          "heatmapgl": [
           {
            "colorbar": {
             "outlinewidth": 0,
             "ticks": ""
            },
            "colorscale": [
             [
              0,
              "#0d0887"
             ],
             [
              0.1111111111111111,
              "#46039f"
             ],
             [
              0.2222222222222222,
              "#7201a8"
             ],
             [
              0.3333333333333333,
              "#9c179e"
             ],
             [
              0.4444444444444444,
              "#bd3786"
             ],
             [
              0.5555555555555556,
              "#d8576b"
             ],
             [
              0.6666666666666666,
              "#ed7953"
             ],
             [
              0.7777777777777778,
              "#fb9f3a"
             ],
             [
              0.8888888888888888,
              "#fdca26"
             ],
             [
              1,
              "#f0f921"
             ]
            ],
            "type": "heatmapgl"
           }
          ],
          "histogram": [
           {
            "marker": {
             "colorbar": {
              "outlinewidth": 0,
              "ticks": ""
             }
            },
            "type": "histogram"
           }
          ],
          "histogram2d": [
           {
            "colorbar": {
             "outlinewidth": 0,
             "ticks": ""
            },
            "colorscale": [
             [
              0,
              "#0d0887"
             ],
             [
              0.1111111111111111,
              "#46039f"
             ],
             [
              0.2222222222222222,
              "#7201a8"
             ],
             [
              0.3333333333333333,
              "#9c179e"
             ],
             [
              0.4444444444444444,
              "#bd3786"
             ],
             [
              0.5555555555555556,
              "#d8576b"
             ],
             [
              0.6666666666666666,
              "#ed7953"
             ],
             [
              0.7777777777777778,
              "#fb9f3a"
             ],
             [
              0.8888888888888888,
              "#fdca26"
             ],
             [
              1,
              "#f0f921"
             ]
            ],
            "type": "histogram2d"
           }
          ],
          "histogram2dcontour": [
           {
            "colorbar": {
             "outlinewidth": 0,
             "ticks": ""
            },
            "colorscale": [
             [
              0,
              "#0d0887"
             ],
             [
              0.1111111111111111,
              "#46039f"
             ],
             [
              0.2222222222222222,
              "#7201a8"
             ],
             [
              0.3333333333333333,
              "#9c179e"
             ],
             [
              0.4444444444444444,
              "#bd3786"
             ],
             [
              0.5555555555555556,
              "#d8576b"
             ],
             [
              0.6666666666666666,
              "#ed7953"
             ],
             [
              0.7777777777777778,
              "#fb9f3a"
             ],
             [
              0.8888888888888888,
              "#fdca26"
             ],
             [
              1,
              "#f0f921"
             ]
            ],
            "type": "histogram2dcontour"
           }
          ],
          "mesh3d": [
           {
            "colorbar": {
             "outlinewidth": 0,
             "ticks": ""
            },
            "type": "mesh3d"
           }
          ],
          "parcoords": [
           {
            "line": {
             "colorbar": {
              "outlinewidth": 0,
              "ticks": ""
             }
            },
            "type": "parcoords"
           }
          ],
          "scatter": [
           {
            "marker": {
             "colorbar": {
              "outlinewidth": 0,
              "ticks": ""
             }
            },
            "type": "scatter"
           }
          ],
          "scatter3d": [
           {
            "line": {
             "colorbar": {
              "outlinewidth": 0,
              "ticks": ""
             }
            },
            "marker": {
             "colorbar": {
              "outlinewidth": 0,
              "ticks": ""
             }
            },
            "type": "scatter3d"
           }
          ],
          "scattercarpet": [
           {
            "marker": {
             "colorbar": {
              "outlinewidth": 0,
              "ticks": ""
             }
            },
            "type": "scattercarpet"
           }
          ],
          "scattergeo": [
           {
            "marker": {
             "colorbar": {
              "outlinewidth": 0,
              "ticks": ""
             }
            },
            "type": "scattergeo"
           }
          ],
          "scattergl": [
           {
            "marker": {
             "colorbar": {
              "outlinewidth": 0,
              "ticks": ""
             }
            },
            "type": "scattergl"
           }
          ],
          "scattermapbox": [
           {
            "marker": {
             "colorbar": {
              "outlinewidth": 0,
              "ticks": ""
             }
            },
            "type": "scattermapbox"
           }
          ],
          "scatterpolar": [
           {
            "marker": {
             "colorbar": {
              "outlinewidth": 0,
              "ticks": ""
             }
            },
            "type": "scatterpolar"
           }
          ],
          "scatterpolargl": [
           {
            "marker": {
             "colorbar": {
              "outlinewidth": 0,
              "ticks": ""
             }
            },
            "type": "scatterpolargl"
           }
          ],
          "scatterternary": [
           {
            "marker": {
             "colorbar": {
              "outlinewidth": 0,
              "ticks": ""
             }
            },
            "type": "scatterternary"
           }
          ],
          "surface": [
           {
            "colorbar": {
             "outlinewidth": 0,
             "ticks": ""
            },
            "colorscale": [
             [
              0,
              "#0d0887"
             ],
             [
              0.1111111111111111,
              "#46039f"
             ],
             [
              0.2222222222222222,
              "#7201a8"
             ],
             [
              0.3333333333333333,
              "#9c179e"
             ],
             [
              0.4444444444444444,
              "#bd3786"
             ],
             [
              0.5555555555555556,
              "#d8576b"
             ],
             [
              0.6666666666666666,
              "#ed7953"
             ],
             [
              0.7777777777777778,
              "#fb9f3a"
             ],
             [
              0.8888888888888888,
              "#fdca26"
             ],
             [
              1,
              "#f0f921"
             ]
            ],
            "type": "surface"
           }
          ],
          "table": [
           {
            "cells": {
             "fill": {
              "color": "#EBF0F8"
             },
             "line": {
              "color": "white"
             }
            },
            "header": {
             "fill": {
              "color": "#C8D4E3"
             },
             "line": {
              "color": "white"
             }
            },
            "type": "table"
           }
          ]
         },
         "layout": {
          "annotationdefaults": {
           "arrowcolor": "#2a3f5f",
           "arrowhead": 0,
           "arrowwidth": 1
          },
          "colorscale": {
           "diverging": [
            [
             0,
             "#8e0152"
            ],
            [
             0.1,
             "#c51b7d"
            ],
            [
             0.2,
             "#de77ae"
            ],
            [
             0.3,
             "#f1b6da"
            ],
            [
             0.4,
             "#fde0ef"
            ],
            [
             0.5,
             "#f7f7f7"
            ],
            [
             0.6,
             "#e6f5d0"
            ],
            [
             0.7,
             "#b8e186"
            ],
            [
             0.8,
             "#7fbc41"
            ],
            [
             0.9,
             "#4d9221"
            ],
            [
             1,
             "#276419"
            ]
           ],
           "sequential": [
            [
             0,
             "#0d0887"
            ],
            [
             0.1111111111111111,
             "#46039f"
            ],
            [
             0.2222222222222222,
             "#7201a8"
            ],
            [
             0.3333333333333333,
             "#9c179e"
            ],
            [
             0.4444444444444444,
             "#bd3786"
            ],
            [
             0.5555555555555556,
             "#d8576b"
            ],
            [
             0.6666666666666666,
             "#ed7953"
            ],
            [
             0.7777777777777778,
             "#fb9f3a"
            ],
            [
             0.8888888888888888,
             "#fdca26"
            ],
            [
             1,
             "#f0f921"
            ]
           ],
           "sequentialminus": [
            [
             0,
             "#0d0887"
            ],
            [
             0.1111111111111111,
             "#46039f"
            ],
            [
             0.2222222222222222,
             "#7201a8"
            ],
            [
             0.3333333333333333,
             "#9c179e"
            ],
            [
             0.4444444444444444,
             "#bd3786"
            ],
            [
             0.5555555555555556,
             "#d8576b"
            ],
            [
             0.6666666666666666,
             "#ed7953"
            ],
            [
             0.7777777777777778,
             "#fb9f3a"
            ],
            [
             0.8888888888888888,
             "#fdca26"
            ],
            [
             1,
             "#f0f921"
            ]
           ]
          },
          "colorway": [
           "#636efa",
           "#EF553B",
           "#00cc96",
           "#ab63fa",
           "#FFA15A",
           "#19d3f3",
           "#FF6692",
           "#B6E880",
           "#FF97FF",
           "#FECB52"
          ],
          "font": {
           "color": "#2a3f5f"
          },
          "geo": {
           "bgcolor": "white",
           "lakecolor": "white",
           "landcolor": "#E5ECF6",
           "showlakes": true,
           "showland": true,
           "subunitcolor": "white"
          },
          "hoverlabel": {
           "align": "left"
          },
          "hovermode": "closest",
          "mapbox": {
           "style": "light"
          },
          "paper_bgcolor": "white",
          "plot_bgcolor": "#E5ECF6",
          "polar": {
           "angularaxis": {
            "gridcolor": "white",
            "linecolor": "white",
            "ticks": ""
           },
           "bgcolor": "#E5ECF6",
           "radialaxis": {
            "gridcolor": "white",
            "linecolor": "white",
            "ticks": ""
           }
          },
          "scene": {
           "xaxis": {
            "backgroundcolor": "#E5ECF6",
            "gridcolor": "white",
            "gridwidth": 2,
            "linecolor": "white",
            "showbackground": true,
            "ticks": "",
            "zerolinecolor": "white"
           },
           "yaxis": {
            "backgroundcolor": "#E5ECF6",
            "gridcolor": "white",
            "gridwidth": 2,
            "linecolor": "white",
            "showbackground": true,
            "ticks": "",
            "zerolinecolor": "white"
           },
           "zaxis": {
            "backgroundcolor": "#E5ECF6",
            "gridcolor": "white",
            "gridwidth": 2,
            "linecolor": "white",
            "showbackground": true,
            "ticks": "",
            "zerolinecolor": "white"
           }
          },
          "shapedefaults": {
           "line": {
            "color": "#2a3f5f"
           }
          },
          "ternary": {
           "aaxis": {
            "gridcolor": "white",
            "linecolor": "white",
            "ticks": ""
           },
           "baxis": {
            "gridcolor": "white",
            "linecolor": "white",
            "ticks": ""
           },
           "bgcolor": "#E5ECF6",
           "caxis": {
            "gridcolor": "white",
            "linecolor": "white",
            "ticks": ""
           }
          },
          "title": {
           "x": 0.05
          },
          "xaxis": {
           "automargin": true,
           "gridcolor": "white",
           "linecolor": "white",
           "ticks": "",
           "zerolinecolor": "white",
           "zerolinewidth": 2
          },
          "yaxis": {
           "automargin": true,
           "gridcolor": "white",
           "linecolor": "white",
           "ticks": "",
           "zerolinecolor": "white",
           "zerolinewidth": 2
          }
         }
        },
        "title": {
         "font": {
          "color": "black",
          "size": 18
         },
         "text": "<b>AFRICA - COVID19 NEW CASES BY REGION: March 25, 2021</b>",
         "x": 0.46,
         "xanchor": "center",
         "y": 0.95,
         "yanchor": "top"
        },
        "width": 990
       }
      },
      "text/html": [
       "<div>\n",
       "        \n",
       "        \n",
       "            <div id=\"1d1bccd6-97f7-4d9e-b48f-c52f685ab94b\" class=\"plotly-graph-div\" style=\"height:1450px; width:990px;\"></div>\n",
       "            <script type=\"text/javascript\">\n",
       "                require([\"plotly\"], function(Plotly) {\n",
       "                    window.PLOTLYENV=window.PLOTLYENV || {};\n",
       "                    \n",
       "                if (document.getElementById(\"1d1bccd6-97f7-4d9e-b48f-c52f685ab94b\")) {\n",
       "                    Plotly.newPlot(\n",
       "                        '1d1bccd6-97f7-4d9e-b48f-c52f685ab94b',\n",
       "                        [{\"domain\": {\"x\": [0.0, 0.4575], \"y\": [0.67, 1.0]}, \"hole\": 0.3, \"hoverinfo\": \"label+percent+name+value\", \"labels\": [\"North Africa\", \"Southern Africa\", \"Central Africa\", \"East Africa\", \"West Africa\"], \"marker\": {\"colors\": [\"crimson\", \"green\", \"saddlebrown\", \"yellow\", \"blue\"]}, \"name\": \"Mar25_2021\", \"textfont\": {\"size\": 15}, \"textinfo\": \"percent+value\", \"type\": \"pie\", \"values\": [2972, 2641, 162, 4629, 1864]}, {\"domain\": {\"x\": [0.5425, 1.0], \"y\": [0.67, 1.0]}, \"hole\": 0.3, \"hoverinfo\": \"label+percent+name+value\", \"labels\": [\"North Africa\", \"Southern Africa\", \"Central Africa\", \"East Africa\", \"West Africa\"], \"marker\": {\"colors\": [\"crimson\", \"green\", \"saddlebrown\", \"yellow\", \"blue\"]}, \"name\": \"Mar24_2021\", \"textfont\": {\"size\": 15}, \"textinfo\": \"percent+value\", \"type\": \"pie\", \"values\": [2825, 1179, 707, 4610, 1462]}, {\"domain\": {\"x\": [0.0, 0.4575], \"y\": [0.335, 0.665]}, \"hole\": 0.3, \"hoverinfo\": \"label+percent+name+value\", \"labels\": [\"North Africa\", \"Southern Africa\", \"Central Africa\", \"East Africa\", \"West Africa\"], \"marker\": {\"colors\": [\"crimson\", \"green\", \"saddlebrown\", \"yellow\", \"blue\"]}, \"name\": \"Mar23_2021\", \"textfont\": {\"size\": 15}, \"textinfo\": \"percent+value\", \"type\": \"pie\", \"values\": [2796, 814, 40, 5168, 1112]}, {\"domain\": {\"x\": [0.5425, 1.0], \"y\": [0.335, 0.665]}, \"hole\": 0.3, \"hoverinfo\": \"label+percent+name+value\", \"labels\": [\"North Africa\", \"Southern Africa\", \"Central Africa\", \"East Africa\", \"West Africa\"], \"marker\": {\"colors\": [\"crimson\", \"green\", \"saddlebrown\", \"yellow\", \"blue\"]}, \"name\": \"Mar22_2021\", \"textfont\": {\"size\": 15}, \"textinfo\": \"percent+value\", \"type\": \"pie\", \"values\": [1988, 2545, 473, 3343, 760]}, {\"domain\": {\"x\": [0.0, 0.4575], \"y\": [0.0, 0.33]}, \"hole\": 0.3, \"hoverinfo\": \"label+percent+name+value\", \"labels\": [\"North Africa\", \"Southern Africa\", \"Central Africa\", \"East Africa\", \"West Africa\"], \"marker\": {\"colors\": [\"crimson\", \"green\", \"saddlebrown\", \"yellow\", \"blue\"]}, \"name\": \"Mar21_2021\", \"textfont\": {\"size\": 15}, \"textinfo\": \"percent+value\", \"type\": \"pie\", \"values\": [2549, 1331, 147, 3672, 1616]}, {\"domain\": {\"x\": [0.5425, 1.0], \"y\": [0.0, 0.33]}, \"hole\": 0.3, \"hoverinfo\": \"label+percent+name+value\", \"labels\": [\"North Africa\", \"Southern Africa\", \"Central Africa\", \"East Africa\", \"West Africa\"], \"marker\": {\"colors\": [\"crimson\", \"green\", \"saddlebrown\", \"yellow\", \"blue\"]}, \"name\": \"Mar20_2021\", \"textfont\": {\"size\": 15}, \"textinfo\": \"percent+value\", \"type\": \"pie\", \"values\": [1813, 1635, 270, 4073, 1476]}],\n",
       "                        {\"annotations\": [{\"font\": {\"color\": \"black\", \"size\": 12}, \"showarrow\": false, \"text\": \"<b>Mar-25-2021</b>\", \"x\": 0.168, \"y\": 0.84}, {\"font\": {\"color\": \"black\", \"size\": 12}, \"showarrow\": false, \"text\": \"<b>Mar-24-2021</b>\", \"x\": 0.83, \"y\": 0.84}, {\"font\": {\"color\": \"black\", \"size\": 12}, \"showarrow\": false, \"text\": \"<b>Mar-23-2021</b>\", \"x\": 0.168, \"y\": 0.5}, {\"font\": {\"color\": \"black\", \"size\": 12}, \"showarrow\": false, \"text\": \"<b>Mar-22-2021</b>\", \"x\": 0.83, \"y\": 0.5}, {\"font\": {\"color\": \"black\", \"size\": 12}, \"showarrow\": false, \"text\": \"<b>Mar-21-2021</b>\", \"x\": 0.168, \"y\": 0.155}, {\"font\": {\"color\": \"black\", \"size\": 12}, \"showarrow\": false, \"text\": \"<b>Mar-20-2021</b>\", \"x\": 0.83, \"y\": 0.155}], \"autosize\": false, \"height\": 1450, \"legend\": {\"font\": {\"size\": 13}, \"traceorder\": \"normal\", \"x\": 1, \"y\": 1}, \"template\": {\"data\": {\"bar\": [{\"error_x\": {\"color\": \"#2a3f5f\"}, \"error_y\": {\"color\": \"#2a3f5f\"}, \"marker\": {\"line\": {\"color\": \"#E5ECF6\", \"width\": 0.5}}, \"type\": \"bar\"}], \"barpolar\": [{\"marker\": {\"line\": {\"color\": \"#E5ECF6\", \"width\": 0.5}}, \"type\": \"barpolar\"}], \"carpet\": [{\"aaxis\": {\"endlinecolor\": \"#2a3f5f\", \"gridcolor\": \"white\", \"linecolor\": \"white\", \"minorgridcolor\": \"white\", \"startlinecolor\": \"#2a3f5f\"}, \"baxis\": {\"endlinecolor\": \"#2a3f5f\", \"gridcolor\": \"white\", \"linecolor\": \"white\", \"minorgridcolor\": \"white\", \"startlinecolor\": \"#2a3f5f\"}, \"type\": \"carpet\"}], \"choropleth\": [{\"colorbar\": {\"outlinewidth\": 0, \"ticks\": \"\"}, \"type\": \"choropleth\"}], \"contour\": [{\"colorbar\": {\"outlinewidth\": 0, \"ticks\": \"\"}, \"colorscale\": [[0.0, \"#0d0887\"], [0.1111111111111111, \"#46039f\"], [0.2222222222222222, \"#7201a8\"], [0.3333333333333333, \"#9c179e\"], [0.4444444444444444, \"#bd3786\"], [0.5555555555555556, \"#d8576b\"], [0.6666666666666666, \"#ed7953\"], [0.7777777777777778, \"#fb9f3a\"], [0.8888888888888888, \"#fdca26\"], [1.0, \"#f0f921\"]], \"type\": \"contour\"}], \"contourcarpet\": [{\"colorbar\": {\"outlinewidth\": 0, \"ticks\": \"\"}, \"type\": \"contourcarpet\"}], \"heatmap\": [{\"colorbar\": {\"outlinewidth\": 0, \"ticks\": \"\"}, \"colorscale\": [[0.0, \"#0d0887\"], [0.1111111111111111, \"#46039f\"], [0.2222222222222222, \"#7201a8\"], [0.3333333333333333, \"#9c179e\"], [0.4444444444444444, \"#bd3786\"], [0.5555555555555556, \"#d8576b\"], [0.6666666666666666, \"#ed7953\"], [0.7777777777777778, \"#fb9f3a\"], [0.8888888888888888, \"#fdca26\"], [1.0, \"#f0f921\"]], \"type\": \"heatmap\"}], \"heatmapgl\": [{\"colorbar\": {\"outlinewidth\": 0, \"ticks\": \"\"}, \"colorscale\": [[0.0, \"#0d0887\"], [0.1111111111111111, \"#46039f\"], [0.2222222222222222, \"#7201a8\"], [0.3333333333333333, \"#9c179e\"], [0.4444444444444444, \"#bd3786\"], [0.5555555555555556, \"#d8576b\"], [0.6666666666666666, \"#ed7953\"], [0.7777777777777778, \"#fb9f3a\"], [0.8888888888888888, \"#fdca26\"], [1.0, \"#f0f921\"]], \"type\": \"heatmapgl\"}], \"histogram\": [{\"marker\": {\"colorbar\": {\"outlinewidth\": 0, \"ticks\": \"\"}}, \"type\": \"histogram\"}], \"histogram2d\": [{\"colorbar\": {\"outlinewidth\": 0, \"ticks\": \"\"}, \"colorscale\": [[0.0, \"#0d0887\"], [0.1111111111111111, \"#46039f\"], [0.2222222222222222, \"#7201a8\"], [0.3333333333333333, \"#9c179e\"], [0.4444444444444444, \"#bd3786\"], [0.5555555555555556, \"#d8576b\"], [0.6666666666666666, \"#ed7953\"], [0.7777777777777778, \"#fb9f3a\"], [0.8888888888888888, \"#fdca26\"], [1.0, \"#f0f921\"]], \"type\": \"histogram2d\"}], \"histogram2dcontour\": [{\"colorbar\": {\"outlinewidth\": 0, \"ticks\": \"\"}, \"colorscale\": [[0.0, \"#0d0887\"], [0.1111111111111111, \"#46039f\"], [0.2222222222222222, \"#7201a8\"], [0.3333333333333333, \"#9c179e\"], [0.4444444444444444, \"#bd3786\"], [0.5555555555555556, \"#d8576b\"], [0.6666666666666666, \"#ed7953\"], [0.7777777777777778, \"#fb9f3a\"], [0.8888888888888888, \"#fdca26\"], [1.0, \"#f0f921\"]], \"type\": \"histogram2dcontour\"}], \"mesh3d\": [{\"colorbar\": {\"outlinewidth\": 0, \"ticks\": \"\"}, \"type\": \"mesh3d\"}], \"parcoords\": [{\"line\": {\"colorbar\": {\"outlinewidth\": 0, \"ticks\": \"\"}}, \"type\": \"parcoords\"}], \"scatter\": [{\"marker\": {\"colorbar\": {\"outlinewidth\": 0, \"ticks\": \"\"}}, \"type\": \"scatter\"}], \"scatter3d\": [{\"line\": {\"colorbar\": {\"outlinewidth\": 0, \"ticks\": \"\"}}, \"marker\": {\"colorbar\": {\"outlinewidth\": 0, \"ticks\": \"\"}}, \"type\": \"scatter3d\"}], \"scattercarpet\": [{\"marker\": {\"colorbar\": {\"outlinewidth\": 0, \"ticks\": \"\"}}, \"type\": \"scattercarpet\"}], \"scattergeo\": [{\"marker\": {\"colorbar\": {\"outlinewidth\": 0, \"ticks\": \"\"}}, \"type\": \"scattergeo\"}], \"scattergl\": [{\"marker\": {\"colorbar\": {\"outlinewidth\": 0, \"ticks\": \"\"}}, \"type\": \"scattergl\"}], \"scattermapbox\": [{\"marker\": {\"colorbar\": {\"outlinewidth\": 0, \"ticks\": \"\"}}, \"type\": \"scattermapbox\"}], \"scatterpolar\": [{\"marker\": {\"colorbar\": {\"outlinewidth\": 0, \"ticks\": \"\"}}, \"type\": \"scatterpolar\"}], \"scatterpolargl\": [{\"marker\": {\"colorbar\": {\"outlinewidth\": 0, \"ticks\": \"\"}}, \"type\": \"scatterpolargl\"}], \"scatterternary\": [{\"marker\": {\"colorbar\": {\"outlinewidth\": 0, \"ticks\": \"\"}}, \"type\": \"scatterternary\"}], \"surface\": [{\"colorbar\": {\"outlinewidth\": 0, \"ticks\": \"\"}, \"colorscale\": [[0.0, \"#0d0887\"], [0.1111111111111111, \"#46039f\"], [0.2222222222222222, \"#7201a8\"], [0.3333333333333333, \"#9c179e\"], [0.4444444444444444, \"#bd3786\"], [0.5555555555555556, \"#d8576b\"], [0.6666666666666666, \"#ed7953\"], [0.7777777777777778, \"#fb9f3a\"], [0.8888888888888888, \"#fdca26\"], [1.0, \"#f0f921\"]], \"type\": \"surface\"}], \"table\": [{\"cells\": {\"fill\": {\"color\": \"#EBF0F8\"}, \"line\": {\"color\": \"white\"}}, \"header\": {\"fill\": {\"color\": \"#C8D4E3\"}, \"line\": {\"color\": \"white\"}}, \"type\": \"table\"}]}, \"layout\": {\"annotationdefaults\": {\"arrowcolor\": \"#2a3f5f\", \"arrowhead\": 0, \"arrowwidth\": 1}, \"colorscale\": {\"diverging\": [[0, \"#8e0152\"], [0.1, \"#c51b7d\"], [0.2, \"#de77ae\"], [0.3, \"#f1b6da\"], [0.4, \"#fde0ef\"], [0.5, \"#f7f7f7\"], [0.6, \"#e6f5d0\"], [0.7, \"#b8e186\"], [0.8, \"#7fbc41\"], [0.9, \"#4d9221\"], [1, \"#276419\"]], \"sequential\": [[0.0, \"#0d0887\"], [0.1111111111111111, \"#46039f\"], [0.2222222222222222, \"#7201a8\"], [0.3333333333333333, \"#9c179e\"], [0.4444444444444444, \"#bd3786\"], [0.5555555555555556, \"#d8576b\"], [0.6666666666666666, \"#ed7953\"], [0.7777777777777778, \"#fb9f3a\"], [0.8888888888888888, \"#fdca26\"], [1.0, \"#f0f921\"]], \"sequentialminus\": [[0.0, \"#0d0887\"], [0.1111111111111111, \"#46039f\"], [0.2222222222222222, \"#7201a8\"], [0.3333333333333333, \"#9c179e\"], [0.4444444444444444, \"#bd3786\"], [0.5555555555555556, \"#d8576b\"], [0.6666666666666666, \"#ed7953\"], [0.7777777777777778, \"#fb9f3a\"], [0.8888888888888888, \"#fdca26\"], [1.0, \"#f0f921\"]]}, \"colorway\": [\"#636efa\", \"#EF553B\", \"#00cc96\", \"#ab63fa\", \"#FFA15A\", \"#19d3f3\", \"#FF6692\", \"#B6E880\", \"#FF97FF\", \"#FECB52\"], \"font\": {\"color\": \"#2a3f5f\"}, \"geo\": {\"bgcolor\": \"white\", \"lakecolor\": \"white\", \"landcolor\": \"#E5ECF6\", \"showlakes\": true, \"showland\": true, \"subunitcolor\": \"white\"}, \"hoverlabel\": {\"align\": \"left\"}, \"hovermode\": \"closest\", \"mapbox\": {\"style\": \"light\"}, \"paper_bgcolor\": \"white\", \"plot_bgcolor\": \"#E5ECF6\", \"polar\": {\"angularaxis\": {\"gridcolor\": \"white\", \"linecolor\": \"white\", \"ticks\": \"\"}, \"bgcolor\": \"#E5ECF6\", \"radialaxis\": {\"gridcolor\": \"white\", \"linecolor\": \"white\", \"ticks\": \"\"}}, \"scene\": {\"xaxis\": {\"backgroundcolor\": \"#E5ECF6\", \"gridcolor\": \"white\", \"gridwidth\": 2, \"linecolor\": \"white\", \"showbackground\": true, \"ticks\": \"\", \"zerolinecolor\": \"white\"}, \"yaxis\": {\"backgroundcolor\": \"#E5ECF6\", \"gridcolor\": \"white\", \"gridwidth\": 2, \"linecolor\": \"white\", \"showbackground\": true, \"ticks\": \"\", \"zerolinecolor\": \"white\"}, \"zaxis\": {\"backgroundcolor\": \"#E5ECF6\", \"gridcolor\": \"white\", \"gridwidth\": 2, \"linecolor\": \"white\", \"showbackground\": true, \"ticks\": \"\", \"zerolinecolor\": \"white\"}}, \"shapedefaults\": {\"line\": {\"color\": \"#2a3f5f\"}}, \"ternary\": {\"aaxis\": {\"gridcolor\": \"white\", \"linecolor\": \"white\", \"ticks\": \"\"}, \"baxis\": {\"gridcolor\": \"white\", \"linecolor\": \"white\", \"ticks\": \"\"}, \"bgcolor\": \"#E5ECF6\", \"caxis\": {\"gridcolor\": \"white\", \"linecolor\": \"white\", \"ticks\": \"\"}}, \"title\": {\"x\": 0.05}, \"xaxis\": {\"automargin\": true, \"gridcolor\": \"white\", \"linecolor\": \"white\", \"ticks\": \"\", \"zerolinecolor\": \"white\", \"zerolinewidth\": 2}, \"yaxis\": {\"automargin\": true, \"gridcolor\": \"white\", \"linecolor\": \"white\", \"ticks\": \"\", \"zerolinecolor\": \"white\", \"zerolinewidth\": 2}}}, \"title\": {\"font\": {\"color\": \"black\", \"size\": 18}, \"text\": \"<b>AFRICA - COVID19 NEW CASES BY REGION: March 25, 2021</b>\", \"x\": 0.46, \"xanchor\": \"center\", \"y\": 0.95, \"yanchor\": \"top\"}, \"width\": 990},\n",
       "                        {\"responsive\": true}\n",
       "                    ).then(function(){\n",
       "                            \n",
       "var gd = document.getElementById('1d1bccd6-97f7-4d9e-b48f-c52f685ab94b');\n",
       "var x = new MutationObserver(function (mutations, observer) {{\n",
       "        var display = window.getComputedStyle(gd).display;\n",
       "        if (!display || display === 'none') {{\n",
       "            console.log([gd, 'removed!']);\n",
       "            Plotly.purge(gd);\n",
       "            observer.disconnect();\n",
       "        }}\n",
       "}});\n",
       "\n",
       "// Listen for the removal of the full notebook cells\n",
       "var notebookContainer = gd.closest('#notebook-container');\n",
       "if (notebookContainer) {{\n",
       "    x.observe(notebookContainer, {childList: true});\n",
       "}}\n",
       "\n",
       "// Listen for the clearing of the current output cell\n",
       "var outputEl = gd.closest('.output');\n",
       "if (outputEl) {{\n",
       "    x.observe(outputEl, {childList: true});\n",
       "}}\n",
       "\n",
       "                        })\n",
       "                };\n",
       "                });\n",
       "            </script>\n",
       "        </div>"
      ]
     },
     "metadata": {},
     "output_type": "display_data"
    }
   ],
   "source": [
    "fig = make_subplots(rows=3, cols=2,  specs=[[{'type':'domain'}, {'type':'domain'}],[{'type':'domain'}, {'type':'domain'}],\n",
    "                                            [{'type':'domain'}, {'type':'domain'}]], print_grid=False,vertical_spacing=0.005,\n",
    "                                            horizontal_spacing=0.085)\n",
    "position = 0\n",
    "\n",
    "x=[0.168, 0.83, 0.168, 0.83, 0.168, 0.83]\n",
    "y=[0.84,0.84, 0.5,0.5,0.155, 0.155]\n",
    "\n",
    "# # x=[0.2, 0.8, 0.2, 0.8, 0.2, 0.8]\n",
    "# # y=[0.85,0.85, 0.5,0.5,0.15, 0.15]\n",
    "\n",
    "# x=[0.18, 0.82, 0.18, 0.82, 0.18, 0.82]\n",
    "# y=[0.85,0.85, 0.5,0.5,0.15, 0.15]\n",
    "\n",
    "slice_colors =  ['crimson', 'green', 'saddlebrown', 'yellow', 'blue']\n",
    "\n",
    "for column in countries_new_cases.columns[1:][::-1]:\n",
    "    afrik_region = []\n",
    "    afric_region_stat = []\n",
    "    row = ((position//2)+1)\n",
    "    col = ((position%2)+1)\n",
    "    for region in african_regions: \n",
    "        if(region == 'North Africa'):        \n",
    "            north_africa_total = countries_new_cases[countries_new_cases['Country_Other'].isin(north_africa_new_cases['Country_Other'])]\n",
    "            north_africa_total=north_africa_total.copy()\n",
    "            north_africa_total.fillna(0, inplace=True)\n",
    "            north_africa_sum = north_africa_total[column].astype(str).str.replace('+','').fillna(0).str.replace(',','').fillna(0).astype(int).sum()  \n",
    "            afrik_region.append(region)\n",
    "            afric_region_stat.append(north_africa_sum)\n",
    "\n",
    "        elif(region == 'South Africa'):\n",
    "            southern_africa_total = countries_new_cases[countries_new_cases['Country_Other'].isin(southern_africa_new_cases['Country_Other'])]\n",
    "            southern_africa_total=southern_africa_total.copy()\n",
    "            southern_africa_total.fillna(0, inplace=True)\n",
    "            southern_africa_sum = southern_africa_total[column].astype(str).str.replace('+','').fillna(0).str.replace(',','').fillna(0).astype(int).sum() \n",
    "            afrik_region.append(region)\n",
    "            afric_region_stat.append(southern_africa_sum)\n",
    "\n",
    "        elif(region == 'Central Africa'):\n",
    "            central_africa_total = countries_new_cases[countries_new_cases['Country_Other'].isin(central_africa_new_cases['Country_Other'])]\n",
    "            central_africa_total=central_africa_total.copy()\n",
    "            central_africa_total.fillna(0, inplace=True)\n",
    "            central_africa_sum = central_africa_total[column].astype(str).str.replace('+','').fillna(0).str.replace(',','').fillna(0).astype(int).sum()\n",
    "            afrik_region.append(region)\n",
    "            afric_region_stat.append(central_africa_sum)\n",
    "\n",
    "        elif(region == 'East Africa'):     \n",
    "            east_africa_total = countries_new_cases[countries_new_cases['Country_Other'].isin(east_africa_new_cases['Country_Other'])]\n",
    "            east_africa_total=east_africa_total.copy()\n",
    "            east_africa_total.fillna(0, inplace=True)\n",
    "            east_africa_sum = east_africa_total[column].astype(str).str.replace('+','').fillna(0).str.replace(',','').fillna(0).astype(int).sum()\n",
    "            afrik_region.append(region)\n",
    "            afric_region_stat.append(east_africa_sum)\n",
    "\n",
    "        elif(region == 'West Africa'): \n",
    "            west_africa_total = countries_new_cases[countries_new_cases['Country_Other'].isin(west_africa_new_cases['Country_Other'])]\n",
    "            west_africa_total=west_africa_total.copy()\n",
    "            west_africa_total.fillna(0, inplace=True)    \n",
    "            west_africa_sum = west_africa_total[column].astype(str).str.replace('+','').fillna(0).str.replace(',','').fillna(0).astype(int).sum()                         \n",
    "            afrik_region.append(region)\n",
    "            afric_region_stat.append(west_africa_sum)\n",
    "\n",
    "            \n",
    "            afrik_region[1] = 'Southern Africa'\n",
    "            fig.add_trace(go.Pie(labels=afrik_region, values=afric_region_stat,name=column, ),row, col)         \n",
    "            fig.update_traces(hole=.3, hoverinfo=\"label+percent+name+value\", textinfo='percent+value',textfont_size=15,marker_colors=slice_colors,)  \n",
    "            \n",
    "       \n",
    "    fig['layout']['annotations'] += tuple([dict(x=x[position],y=y[position],text='<b>'+pie_date_format(column)+'</b>', showarrow=False, font_size=12, font=dict(color='black'))])\n",
    "    fig.update_layout(\n",
    "    width=990,height=1450,autosize=False,\n",
    "    title={'text': '<b>' + 'AFRICA - COVID19 NEW CASES BY REGION: ' + date_string +'</b>',\n",
    "    'y':0.95,\n",
    "    'x':0.46,\n",
    "    'xanchor': 'center',\n",
    "    'yanchor': 'top',\n",
    "    'font_color':'black',\n",
    "    'font_size':18},\n",
    "     legend=dict(x=1, y=1,traceorder=\"normal\",  font=dict(size=13))\n",
    "    )\n",
    "    position=position+1    \n",
    "fig.show()"
   ]
  },
  {
   "cell_type": "markdown",
   "metadata": {},
   "source": [
    "[Return to top](#top)"
   ]
  },
  {
   "cell_type": "markdown",
   "metadata": {},
   "source": [
    "##  Recovery Rate of Countries with up to 100 Confirmed Cases"
   ]
  },
  {
   "cell_type": "code",
   "execution_count": 151,
   "metadata": {},
   "outputs": [],
   "source": [
    "#SELECT MOST RECENT CSV DATA\n",
    "def most_recent_all_cases_CSV(path):\n",
    "    next_mostrecent_CSV ={}\n",
    "    files = os.listdir(path)\n",
    "    filter_csv = [file for file in files if file[-3:] == 'csv' and file[:13] == 'COVID19Report']\n",
    "    datetime_conversion = [datetime.datetime.strptime(f[13:25], '%d%m%Y%H%M') for f in filter_csv]\n",
    "    current_datetime = datetime.datetime.now().strftime(\"%d%m%Y%H%M\")\n",
    "    current_datetime_conversion = datetime.datetime.strptime(current_datetime,'%d%m%Y%H%M')\n",
    "    for given_datetime in datetime_conversion:\n",
    "        datetime_string= given_datetime.strftime('%d')+given_datetime.strftime('%m')+given_datetime.strftime('%Y')+given_datetime.strftime('%H')+given_datetime.strftime('%M')\n",
    "        particular_datetime = [datee  for datee in filter_csv if datee[13:25] == datetime_string]\n",
    "        timediff_seconds = current_datetime_conversion - given_datetime\n",
    "        next_mostrecent_CSV[particular_datetime[0]] = timediff_seconds.total_seconds()\n",
    "        sorted_next_mostrecent_CSV = sorted(next_mostrecent_CSV.items(), key=lambda kv: kv[1])\n",
    "    return sorted_next_mostrecent_CSV[0][0]"
   ]
  },
  {
   "cell_type": "code",
   "execution_count": 152,
   "metadata": {},
   "outputs": [
    {
     "data": {
      "text/plain": [
       "'COVID19Report250320211753.csv'"
      ]
     },
     "execution_count": 152,
     "metadata": {},
     "output_type": "execute_result"
    }
   ],
   "source": [
    "all_cases = most_recent_all_cases_CSV(\"..\\COVID19\\DayReport\")\n",
    "all_cases"
   ]
  },
  {
   "cell_type": "code",
   "execution_count": 153,
   "metadata": {},
   "outputs": [
    {
     "data": {
      "text/html": [
       "<div>\n",
       "<style scoped>\n",
       "    .dataframe tbody tr th:only-of-type {\n",
       "        vertical-align: middle;\n",
       "    }\n",
       "\n",
       "    .dataframe tbody tr th {\n",
       "        vertical-align: top;\n",
       "    }\n",
       "\n",
       "    .dataframe thead th {\n",
       "        text-align: right;\n",
       "    }\n",
       "</style>\n",
       "<table border=\"1\" class=\"dataframe\">\n",
       "  <thead>\n",
       "    <tr style=\"text-align: right;\">\n",
       "      <th></th>\n",
       "      <th>Country_Other</th>\n",
       "      <th>Total_Cases</th>\n",
       "      <th>New_Cases</th>\n",
       "      <th>Total_Deaths</th>\n",
       "      <th>New_Deaths</th>\n",
       "      <th>Total_Recovered</th>\n",
       "      <th>Active_Cases</th>\n",
       "      <th>Serious_Critical</th>\n",
       "      <th>tot_cases_per1M_pop</th>\n",
       "      <th>Deaths_per_1M_Pop</th>\n",
       "      <th>Total_Tests</th>\n",
       "      <th>Tests_per_1M_Pop</th>\n",
       "    </tr>\n",
       "  </thead>\n",
       "  <tbody>\n",
       "    <tr>\n",
       "      <td>0</td>\n",
       "      <td>South Africa</td>\n",
       "      <td>1,541,563</td>\n",
       "      <td>+1,554</td>\n",
       "      <td>52,535</td>\n",
       "      <td>+163</td>\n",
       "      <td>1,467,254</td>\n",
       "      <td>21,774</td>\n",
       "      <td>546</td>\n",
       "      <td>25,756</td>\n",
       "      <td>878</td>\n",
       "      <td>9,722,821</td>\n",
       "      <td>162,444</td>\n",
       "    </tr>\n",
       "    <tr>\n",
       "      <td>1</td>\n",
       "      <td>Morocco</td>\n",
       "      <td>493,353</td>\n",
       "      <td>+511</td>\n",
       "      <td>8,788</td>\n",
       "      <td>+2</td>\n",
       "      <td>481,074</td>\n",
       "      <td>3,491</td>\n",
       "      <td>265</td>\n",
       "      <td>13,252</td>\n",
       "      <td>236</td>\n",
       "      <td>5,904,687</td>\n",
       "      <td>158,603</td>\n",
       "    </tr>\n",
       "    <tr>\n",
       "      <td>2</td>\n",
       "      <td>Tunisia</td>\n",
       "      <td>248,037</td>\n",
       "      <td>+783</td>\n",
       "      <td>8,663</td>\n",
       "      <td>+26</td>\n",
       "      <td>214,407</td>\n",
       "      <td>24,967</td>\n",
       "      <td>281</td>\n",
       "      <td>20,828</td>\n",
       "      <td>727</td>\n",
       "      <td>1,079,149</td>\n",
       "      <td>90,618</td>\n",
       "    </tr>\n",
       "  </tbody>\n",
       "</table>\n",
       "</div>"
      ],
      "text/plain": [
       "  Country_Other Total_Cases New_Cases Total_Deaths New_Deaths Total_Recovered  \\\n",
       "0  South Africa   1,541,563    +1,554       52,535       +163       1,467,254   \n",
       "1       Morocco     493,353      +511        8,788         +2         481,074   \n",
       "2       Tunisia     248,037      +783        8,663        +26         214,407   \n",
       "\n",
       "  Active_Cases Serious_Critical tot_cases_per1M_pop Deaths_per_1M_Pop  \\\n",
       "0       21,774              546              25,756               878   \n",
       "1        3,491              265              13,252               236   \n",
       "2       24,967              281              20,828               727   \n",
       "\n",
       "  Total_Tests Tests_per_1M_Pop  \n",
       "0   9,722,821          162,444  \n",
       "1   5,904,687          158,603  \n",
       "2   1,079,149           90,618  "
      ]
     },
     "execution_count": 153,
     "metadata": {},
     "output_type": "execute_result"
    }
   ],
   "source": [
    "covid_data = pd.read_csv(\"../COVID19/DayReport/\"+all_cases)\n",
    "african_countries_inview = covid_data[covid_data['Country_Other'].isin(african_countries['country_Other'])]\n",
    "african_countries_inview =african_countries_inview.reset_index(drop=True)\n",
    "african_countries_inview.head(3)"
   ]
  },
  {
   "cell_type": "code",
   "execution_count": 154,
   "metadata": {},
   "outputs": [
    {
     "data": {
      "text/plain": [
       "Country_Other          object\n",
       "Total_Cases             int32\n",
       "New_Cases              object\n",
       "Total_Deaths            int32\n",
       "New_Deaths             object\n",
       "Total_Recovered         int32\n",
       "Active_Cases           object\n",
       "Serious_Critical       object\n",
       "tot_cases_per1M_pop    object\n",
       "Deaths_per_1M_Pop      object\n",
       "Total_Tests            object\n",
       "Tests_per_1M_Pop       object\n",
       "dtype: object"
      ]
     },
     "execution_count": 154,
     "metadata": {},
     "output_type": "execute_result"
    }
   ],
   "source": [
    "african_countries_inview['Total_Recovered']=african_countries_inview['Total_Recovered'].str.replace(',','').fillna(0).astype(int)\n",
    "african_countries_inview['Total_Cases']=african_countries_inview['Total_Cases'].str.replace(',','').fillna(0).astype(int)\n",
    "african_countries_inview['Total_Deaths']=african_countries_inview['Total_Deaths'].str.replace(',','').fillna(0).astype(int)\n",
    "african_countries_inview.dtypes"
   ]
  },
  {
   "cell_type": "code",
   "execution_count": 155,
   "metadata": {},
   "outputs": [],
   "source": [
    "african_recovery = pd.DataFrame()\n",
    "african_recovery['Country_Other'] = african_countries_inview['Country_Other']\n",
    "african_recovery['Total_Cases'] = african_countries_inview['Total_Cases']\n",
    "african_recovery['Total_Recovered'] = african_countries_inview['Total_Recovered']"
   ]
  },
  {
   "cell_type": "code",
   "execution_count": 156,
   "metadata": {},
   "outputs": [
    {
     "data": {
      "text/html": [
       "<div>\n",
       "<style scoped>\n",
       "    .dataframe tbody tr th:only-of-type {\n",
       "        vertical-align: middle;\n",
       "    }\n",
       "\n",
       "    .dataframe tbody tr th {\n",
       "        vertical-align: top;\n",
       "    }\n",
       "\n",
       "    .dataframe thead th {\n",
       "        text-align: right;\n",
       "    }\n",
       "</style>\n",
       "<table border=\"1\" class=\"dataframe\">\n",
       "  <thead>\n",
       "    <tr style=\"text-align: right;\">\n",
       "      <th></th>\n",
       "      <th>Country_Other</th>\n",
       "      <th>Total_Cases</th>\n",
       "      <th>Total_Recovered</th>\n",
       "      <th>RecoveryRate</th>\n",
       "    </tr>\n",
       "  </thead>\n",
       "  <tbody>\n",
       "    <tr>\n",
       "      <td>0</td>\n",
       "      <td>South Africa</td>\n",
       "      <td>1541563</td>\n",
       "      <td>1467254</td>\n",
       "      <td>95.18</td>\n",
       "    </tr>\n",
       "    <tr>\n",
       "      <td>1</td>\n",
       "      <td>Morocco</td>\n",
       "      <td>493353</td>\n",
       "      <td>481074</td>\n",
       "      <td>97.51</td>\n",
       "    </tr>\n",
       "    <tr>\n",
       "      <td>2</td>\n",
       "      <td>Tunisia</td>\n",
       "      <td>248037</td>\n",
       "      <td>214407</td>\n",
       "      <td>86.44</td>\n",
       "    </tr>\n",
       "  </tbody>\n",
       "</table>\n",
       "</div>"
      ],
      "text/plain": [
       "  Country_Other  Total_Cases  Total_Recovered  RecoveryRate\n",
       "0  South Africa      1541563          1467254         95.18\n",
       "1       Morocco       493353           481074         97.51\n",
       "2       Tunisia       248037           214407         86.44"
      ]
     },
     "execution_count": 156,
     "metadata": {},
     "output_type": "execute_result"
    }
   ],
   "source": [
    "african_recovery['RecoveryRate'] = round((african_countries_inview['Total_Recovered']/african_countries_inview['Total_Cases'])*100,2)\n",
    "african_recovery.head(3)"
   ]
  },
  {
   "cell_type": "code",
   "execution_count": 157,
   "metadata": {},
   "outputs": [
    {
     "data": {
      "text/html": [
       "<div>\n",
       "<style scoped>\n",
       "    .dataframe tbody tr th:only-of-type {\n",
       "        vertical-align: middle;\n",
       "    }\n",
       "\n",
       "    .dataframe tbody tr th {\n",
       "        vertical-align: top;\n",
       "    }\n",
       "\n",
       "    .dataframe thead th {\n",
       "        text-align: right;\n",
       "    }\n",
       "</style>\n",
       "<table border=\"1\" class=\"dataframe\">\n",
       "  <thead>\n",
       "    <tr style=\"text-align: right;\">\n",
       "      <th></th>\n",
       "      <th>Country_Other</th>\n",
       "      <th>Total_Cases</th>\n",
       "      <th>Total_Recovered</th>\n",
       "      <th>RecoveryRate</th>\n",
       "    </tr>\n",
       "  </thead>\n",
       "  <tbody>\n",
       "    <tr>\n",
       "      <td>0</td>\n",
       "      <td>Morocco</td>\n",
       "      <td>493353</td>\n",
       "      <td>481074</td>\n",
       "      <td>97.51</td>\n",
       "    </tr>\n",
       "    <tr>\n",
       "      <td>1</td>\n",
       "      <td>CAR</td>\n",
       "      <td>5088</td>\n",
       "      <td>4957</td>\n",
       "      <td>97.43</td>\n",
       "    </tr>\n",
       "    <tr>\n",
       "      <td>2</td>\n",
       "      <td>Burkina Faso</td>\n",
       "      <td>12619</td>\n",
       "      <td>12294</td>\n",
       "      <td>97.42</td>\n",
       "    </tr>\n",
       "  </tbody>\n",
       "</table>\n",
       "</div>"
      ],
      "text/plain": [
       "  Country_Other  Total_Cases  Total_Recovered  RecoveryRate\n",
       "0       Morocco       493353           481074         97.51\n",
       "1           CAR         5088             4957         97.43\n",
       "2  Burkina Faso        12619            12294         97.42"
      ]
     },
     "execution_count": 157,
     "metadata": {},
     "output_type": "execute_result"
    }
   ],
   "source": [
    "#Recovery Rate sorted in descensing order\n",
    "african_confirmed100 = african_recovery[african_recovery['Total_Cases']>=100]\n",
    "african_confirmed100 = african_confirmed100.sort_values('RecoveryRate', ascending=False)\n",
    "african_confirmed100.reset_index(drop=True, inplace=True)\n",
    "african_confirmed100.head(3)"
   ]
  },
  {
   "cell_type": "markdown",
   "metadata": {},
   "source": [
    "<a id='recovery'></a>"
   ]
  },
  {
   "cell_type": "code",
   "execution_count": 158,
   "metadata": {},
   "outputs": [
    {
     "data": {
      "application/vnd.plotly.v1+json": {
       "config": {
        "plotlyServerURL": "https://plot.ly"
       },
       "data": [
        {
         "marker": {
          "color": "LimeGreen"
         },
         "name": "Afria",
         "orientation": "h",
         "text": [
          15.35,
          29.09,
          35.95,
          37.19,
          41.53,
          43.45,
          69.4,
          69.56,
          69.64,
          70.78,
          72.34,
          76.64,
          77.71,
          78.54,
          80.7,
          80.88,
          81.03,
          84.18,
          84.78,
          85.47,
          86.09,
          86.44,
          86.8,
          87.64,
          88.14,
          88.47,
          89.83,
          90.38,
          90.87,
          91.38,
          91.44,
          91.88,
          92.04,
          92.13,
          92.13,
          92.36,
          92.47,
          92.76,
          92.79,
          92.85,
          92.89,
          93,
          93.06,
          93.61,
          93.9,
          93.96,
          94.71,
          94.93,
          95.06,
          95.18,
          95.77,
          96.08,
          96.25,
          97.42,
          97.43,
          97.51
         ],
         "textposition": "outside",
         "type": "bar",
         "x": [
          15.35,
          29.09,
          35.95,
          37.19,
          41.53,
          43.45,
          69.4,
          69.56,
          69.64,
          70.78,
          72.34,
          76.64,
          77.71,
          78.54,
          80.7,
          80.88,
          81.03,
          84.18,
          84.78,
          85.47,
          86.09,
          86.44,
          86.8,
          87.64,
          88.14,
          88.47,
          89.83,
          90.38,
          90.87,
          91.38,
          91.44,
          91.88,
          92.04,
          92.13,
          92.13,
          92.36,
          92.47,
          92.76,
          92.79,
          92.85,
          92.89,
          93,
          93.06,
          93.61,
          93.9,
          93.96,
          94.71,
          94.93,
          95.06,
          95.18,
          95.77,
          96.08,
          96.25,
          97.42,
          97.43,
          97.51
         ],
         "y": [
          "Mayotte",
          "Burundi",
          "Tanzania",
          "Uganda",
          "Lesotho",
          "Somalia",
          "Mauritius",
          "Algeria",
          "Mali",
          "Sierra Leone",
          "Kenya",
          "Egypt",
          "Ethiopia",
          "Togo",
          "Guinea-Bissau",
          "Sudan",
          "Mozambique",
          "Guinea",
          "Congo",
          "Seychelles",
          "Gabon",
          "Tunisia",
          "Cameroon",
          "Malawi",
          "Botswana",
          "Djibouti",
          "Ivory Coast",
          "Réunion",
          "Benin",
          "Chad",
          "DRC",
          "Libya",
          "Niger",
          "Rwanda",
          "Angola",
          "Nigeria",
          "Equatorial Guinea",
          "Madagascar",
          "Eritrea",
          "South Sudan",
          "Gambia",
          "Liberia",
          "Sao Tome and Principe",
          "Senegal",
          "Eswatini",
          "Zimbabwe",
          "Comoros",
          "Cabo Verde",
          "Namibia",
          "South Africa",
          "Mauritania",
          "Zambia",
          "Ghana",
          "Burkina Faso",
          "CAR",
          "Morocco"
         ]
        }
       ],
       "layout": {
        "autosize": false,
        "height": 1000,
        "template": {
         "data": {
          "bar": [
           {
            "error_x": {
             "color": "#f2f5fa"
            },
            "error_y": {
             "color": "#f2f5fa"
            },
            "marker": {
             "line": {
              "color": "rgb(17,17,17)",
              "width": 0.5
             }
            },
            "type": "bar"
           }
          ],
          "barpolar": [
           {
            "marker": {
             "line": {
              "color": "rgb(17,17,17)",
              "width": 0.5
             }
            },
            "type": "barpolar"
           }
          ],
          "carpet": [
           {
            "aaxis": {
             "endlinecolor": "#A2B1C6",
             "gridcolor": "#506784",
             "linecolor": "#506784",
             "minorgridcolor": "#506784",
             "startlinecolor": "#A2B1C6"
            },
            "baxis": {
             "endlinecolor": "#A2B1C6",
             "gridcolor": "#506784",
             "linecolor": "#506784",
             "minorgridcolor": "#506784",
             "startlinecolor": "#A2B1C6"
            },
            "type": "carpet"
           }
          ],
          "choropleth": [
           {
            "colorbar": {
             "outlinewidth": 0,
             "ticks": ""
            },
            "type": "choropleth"
           }
          ],
          "contour": [
           {
            "colorbar": {
             "outlinewidth": 0,
             "ticks": ""
            },
            "colorscale": [
             [
              0,
              "#0d0887"
             ],
             [
              0.1111111111111111,
              "#46039f"
             ],
             [
              0.2222222222222222,
              "#7201a8"
             ],
             [
              0.3333333333333333,
              "#9c179e"
             ],
             [
              0.4444444444444444,
              "#bd3786"
             ],
             [
              0.5555555555555556,
              "#d8576b"
             ],
             [
              0.6666666666666666,
              "#ed7953"
             ],
             [
              0.7777777777777778,
              "#fb9f3a"
             ],
             [
              0.8888888888888888,
              "#fdca26"
             ],
             [
              1,
              "#f0f921"
             ]
            ],
            "type": "contour"
           }
          ],
          "contourcarpet": [
           {
            "colorbar": {
             "outlinewidth": 0,
             "ticks": ""
            },
            "type": "contourcarpet"
           }
          ],
          "heatmap": [
           {
            "colorbar": {
             "outlinewidth": 0,
             "ticks": ""
            },
            "colorscale": [
             [
              0,
              "#0d0887"
             ],
             [
              0.1111111111111111,
              "#46039f"
             ],
             [
              0.2222222222222222,
              "#7201a8"
             ],
             [
              0.3333333333333333,
              "#9c179e"
             ],
             [
              0.4444444444444444,
              "#bd3786"
             ],
             [
              0.5555555555555556,
              "#d8576b"
             ],
             [
              0.6666666666666666,
              "#ed7953"
             ],
             [
              0.7777777777777778,
              "#fb9f3a"
             ],
             [
              0.8888888888888888,
              "#fdca26"
             ],
             [
              1,
              "#f0f921"
             ]
            ],
            "type": "heatmap"
           }
          ],
          "heatmapgl": [
           {
            "colorbar": {
             "outlinewidth": 0,
             "ticks": ""
            },
            "colorscale": [
             [
              0,
              "#0d0887"
             ],
             [
              0.1111111111111111,
              "#46039f"
             ],
             [
              0.2222222222222222,
              "#7201a8"
             ],
             [
              0.3333333333333333,
              "#9c179e"
             ],
             [
              0.4444444444444444,
              "#bd3786"
             ],
             [
              0.5555555555555556,
              "#d8576b"
             ],
             [
              0.6666666666666666,
              "#ed7953"
             ],
             [
              0.7777777777777778,
              "#fb9f3a"
             ],
             [
              0.8888888888888888,
              "#fdca26"
             ],
             [
              1,
              "#f0f921"
             ]
            ],
            "type": "heatmapgl"
           }
          ],
          "histogram": [
           {
            "marker": {
             "colorbar": {
              "outlinewidth": 0,
              "ticks": ""
             }
            },
            "type": "histogram"
           }
          ],
          "histogram2d": [
           {
            "colorbar": {
             "outlinewidth": 0,
             "ticks": ""
            },
            "colorscale": [
             [
              0,
              "#0d0887"
             ],
             [
              0.1111111111111111,
              "#46039f"
             ],
             [
              0.2222222222222222,
              "#7201a8"
             ],
             [
              0.3333333333333333,
              "#9c179e"
             ],
             [
              0.4444444444444444,
              "#bd3786"
             ],
             [
              0.5555555555555556,
              "#d8576b"
             ],
             [
              0.6666666666666666,
              "#ed7953"
             ],
             [
              0.7777777777777778,
              "#fb9f3a"
             ],
             [
              0.8888888888888888,
              "#fdca26"
             ],
             [
              1,
              "#f0f921"
             ]
            ],
            "type": "histogram2d"
           }
          ],
          "histogram2dcontour": [
           {
            "colorbar": {
             "outlinewidth": 0,
             "ticks": ""
            },
            "colorscale": [
             [
              0,
              "#0d0887"
             ],
             [
              0.1111111111111111,
              "#46039f"
             ],
             [
              0.2222222222222222,
              "#7201a8"
             ],
             [
              0.3333333333333333,
              "#9c179e"
             ],
             [
              0.4444444444444444,
              "#bd3786"
             ],
             [
              0.5555555555555556,
              "#d8576b"
             ],
             [
              0.6666666666666666,
              "#ed7953"
             ],
             [
              0.7777777777777778,
              "#fb9f3a"
             ],
             [
              0.8888888888888888,
              "#fdca26"
             ],
             [
              1,
              "#f0f921"
             ]
            ],
            "type": "histogram2dcontour"
           }
          ],
          "mesh3d": [
           {
            "colorbar": {
             "outlinewidth": 0,
             "ticks": ""
            },
            "type": "mesh3d"
           }
          ],
          "parcoords": [
           {
            "line": {
             "colorbar": {
              "outlinewidth": 0,
              "ticks": ""
             }
            },
            "type": "parcoords"
           }
          ],
          "scatter": [
           {
            "marker": {
             "line": {
              "color": "#283442"
             }
            },
            "type": "scatter"
           }
          ],
          "scatter3d": [
           {
            "line": {
             "colorbar": {
              "outlinewidth": 0,
              "ticks": ""
             }
            },
            "marker": {
             "colorbar": {
              "outlinewidth": 0,
              "ticks": ""
             }
            },
            "type": "scatter3d"
           }
          ],
          "scattercarpet": [
           {
            "marker": {
             "colorbar": {
              "outlinewidth": 0,
              "ticks": ""
             }
            },
            "type": "scattercarpet"
           }
          ],
          "scattergeo": [
           {
            "marker": {
             "colorbar": {
              "outlinewidth": 0,
              "ticks": ""
             }
            },
            "type": "scattergeo"
           }
          ],
          "scattergl": [
           {
            "marker": {
             "line": {
              "color": "#283442"
             }
            },
            "type": "scattergl"
           }
          ],
          "scattermapbox": [
           {
            "marker": {
             "colorbar": {
              "outlinewidth": 0,
              "ticks": ""
             }
            },
            "type": "scattermapbox"
           }
          ],
          "scatterpolar": [
           {
            "marker": {
             "colorbar": {
              "outlinewidth": 0,
              "ticks": ""
             }
            },
            "type": "scatterpolar"
           }
          ],
          "scatterpolargl": [
           {
            "marker": {
             "colorbar": {
              "outlinewidth": 0,
              "ticks": ""
             }
            },
            "type": "scatterpolargl"
           }
          ],
          "scatterternary": [
           {
            "marker": {
             "colorbar": {
              "outlinewidth": 0,
              "ticks": ""
             }
            },
            "type": "scatterternary"
           }
          ],
          "surface": [
           {
            "colorbar": {
             "outlinewidth": 0,
             "ticks": ""
            },
            "colorscale": [
             [
              0,
              "#0d0887"
             ],
             [
              0.1111111111111111,
              "#46039f"
             ],
             [
              0.2222222222222222,
              "#7201a8"
             ],
             [
              0.3333333333333333,
              "#9c179e"
             ],
             [
              0.4444444444444444,
              "#bd3786"
             ],
             [
              0.5555555555555556,
              "#d8576b"
             ],
             [
              0.6666666666666666,
              "#ed7953"
             ],
             [
              0.7777777777777778,
              "#fb9f3a"
             ],
             [
              0.8888888888888888,
              "#fdca26"
             ],
             [
              1,
              "#f0f921"
             ]
            ],
            "type": "surface"
           }
          ],
          "table": [
           {
            "cells": {
             "fill": {
              "color": "#506784"
             },
             "line": {
              "color": "rgb(17,17,17)"
             }
            },
            "header": {
             "fill": {
              "color": "#2a3f5f"
             },
             "line": {
              "color": "rgb(17,17,17)"
             }
            },
            "type": "table"
           }
          ]
         },
         "layout": {
          "annotationdefaults": {
           "arrowcolor": "#f2f5fa",
           "arrowhead": 0,
           "arrowwidth": 1
          },
          "colorscale": {
           "diverging": [
            [
             0,
             "#8e0152"
            ],
            [
             0.1,
             "#c51b7d"
            ],
            [
             0.2,
             "#de77ae"
            ],
            [
             0.3,
             "#f1b6da"
            ],
            [
             0.4,
             "#fde0ef"
            ],
            [
             0.5,
             "#f7f7f7"
            ],
            [
             0.6,
             "#e6f5d0"
            ],
            [
             0.7,
             "#b8e186"
            ],
            [
             0.8,
             "#7fbc41"
            ],
            [
             0.9,
             "#4d9221"
            ],
            [
             1,
             "#276419"
            ]
           ],
           "sequential": [
            [
             0,
             "#0d0887"
            ],
            [
             0.1111111111111111,
             "#46039f"
            ],
            [
             0.2222222222222222,
             "#7201a8"
            ],
            [
             0.3333333333333333,
             "#9c179e"
            ],
            [
             0.4444444444444444,
             "#bd3786"
            ],
            [
             0.5555555555555556,
             "#d8576b"
            ],
            [
             0.6666666666666666,
             "#ed7953"
            ],
            [
             0.7777777777777778,
             "#fb9f3a"
            ],
            [
             0.8888888888888888,
             "#fdca26"
            ],
            [
             1,
             "#f0f921"
            ]
           ],
           "sequentialminus": [
            [
             0,
             "#0d0887"
            ],
            [
             0.1111111111111111,
             "#46039f"
            ],
            [
             0.2222222222222222,
             "#7201a8"
            ],
            [
             0.3333333333333333,
             "#9c179e"
            ],
            [
             0.4444444444444444,
             "#bd3786"
            ],
            [
             0.5555555555555556,
             "#d8576b"
            ],
            [
             0.6666666666666666,
             "#ed7953"
            ],
            [
             0.7777777777777778,
             "#fb9f3a"
            ],
            [
             0.8888888888888888,
             "#fdca26"
            ],
            [
             1,
             "#f0f921"
            ]
           ]
          },
          "colorway": [
           "#636efa",
           "#EF553B",
           "#00cc96",
           "#ab63fa",
           "#FFA15A",
           "#19d3f3",
           "#FF6692",
           "#B6E880",
           "#FF97FF",
           "#FECB52"
          ],
          "font": {
           "color": "#f2f5fa"
          },
          "geo": {
           "bgcolor": "rgb(17,17,17)",
           "lakecolor": "rgb(17,17,17)",
           "landcolor": "rgb(17,17,17)",
           "showlakes": true,
           "showland": true,
           "subunitcolor": "#506784"
          },
          "hoverlabel": {
           "align": "left"
          },
          "hovermode": "closest",
          "mapbox": {
           "style": "dark"
          },
          "paper_bgcolor": "rgb(17,17,17)",
          "plot_bgcolor": "rgb(17,17,17)",
          "polar": {
           "angularaxis": {
            "gridcolor": "#506784",
            "linecolor": "#506784",
            "ticks": ""
           },
           "bgcolor": "rgb(17,17,17)",
           "radialaxis": {
            "gridcolor": "#506784",
            "linecolor": "#506784",
            "ticks": ""
           }
          },
          "scene": {
           "xaxis": {
            "backgroundcolor": "rgb(17,17,17)",
            "gridcolor": "#506784",
            "gridwidth": 2,
            "linecolor": "#506784",
            "showbackground": true,
            "ticks": "",
            "zerolinecolor": "#C8D4E3"
           },
           "yaxis": {
            "backgroundcolor": "rgb(17,17,17)",
            "gridcolor": "#506784",
            "gridwidth": 2,
            "linecolor": "#506784",
            "showbackground": true,
            "ticks": "",
            "zerolinecolor": "#C8D4E3"
           },
           "zaxis": {
            "backgroundcolor": "rgb(17,17,17)",
            "gridcolor": "#506784",
            "gridwidth": 2,
            "linecolor": "#506784",
            "showbackground": true,
            "ticks": "",
            "zerolinecolor": "#C8D4E3"
           }
          },
          "shapedefaults": {
           "line": {
            "color": "#f2f5fa"
           }
          },
          "sliderdefaults": {
           "bgcolor": "#C8D4E3",
           "bordercolor": "rgb(17,17,17)",
           "borderwidth": 1,
           "tickwidth": 0
          },
          "ternary": {
           "aaxis": {
            "gridcolor": "#506784",
            "linecolor": "#506784",
            "ticks": ""
           },
           "baxis": {
            "gridcolor": "#506784",
            "linecolor": "#506784",
            "ticks": ""
           },
           "bgcolor": "rgb(17,17,17)",
           "caxis": {
            "gridcolor": "#506784",
            "linecolor": "#506784",
            "ticks": ""
           }
          },
          "title": {
           "x": 0.05
          },
          "updatemenudefaults": {
           "bgcolor": "#506784",
           "borderwidth": 0
          },
          "xaxis": {
           "automargin": true,
           "gridcolor": "#283442",
           "linecolor": "#506784",
           "ticks": "",
           "zerolinecolor": "#283442",
           "zerolinewidth": 2
          },
          "yaxis": {
           "automargin": true,
           "gridcolor": "#283442",
           "linecolor": "#506784",
           "ticks": "",
           "zerolinecolor": "#283442",
           "zerolinewidth": 2
          }
         }
        },
        "title": {
         "font": {
          "color": "Cyan",
          "size": 14
         },
         "text": "<b>COVID19 RECOVERY RATE OF AFRICAN COUNTRIES/TERRITORIES: March 25, 2021</b>",
         "x": 0.5,
         "xanchor": "center",
         "y": 0.93,
         "yanchor": "top"
        },
        "width": 1000,
        "xaxis": {
         "title": {
          "font": {
           "color": "#BDBDBD",
           "size": 18
          },
          "text": "<b>Recovery Rate(%)</b>"
         }
        },
        "yaxis": {
         "tickprefix": "      ",
         "title": {
          "font": {
           "color": "#BDBDBD",
           "size": 18
          },
          "text": "<b>Country</b>"
         }
        }
       }
      },
      "text/html": [
       "<div>\n",
       "        \n",
       "        \n",
       "            <div id=\"a4c90084-68ca-4a95-b804-4754d2b5b9d6\" class=\"plotly-graph-div\" style=\"height:1000px; width:1000px;\"></div>\n",
       "            <script type=\"text/javascript\">\n",
       "                require([\"plotly\"], function(Plotly) {\n",
       "                    window.PLOTLYENV=window.PLOTLYENV || {};\n",
       "                    \n",
       "                if (document.getElementById(\"a4c90084-68ca-4a95-b804-4754d2b5b9d6\")) {\n",
       "                    Plotly.newPlot(\n",
       "                        'a4c90084-68ca-4a95-b804-4754d2b5b9d6',\n",
       "                        [{\"marker\": {\"color\": \"LimeGreen\"}, \"name\": \"Afria\", \"orientation\": \"h\", \"text\": [15.35, 29.09, 35.95, 37.19, 41.53, 43.45, 69.4, 69.56, 69.64, 70.78, 72.34, 76.64, 77.71, 78.54, 80.7, 80.88, 81.03, 84.18, 84.78, 85.47, 86.09, 86.44, 86.8, 87.64, 88.14, 88.47, 89.83, 90.38, 90.87, 91.38, 91.44, 91.88, 92.04, 92.13, 92.13, 92.36, 92.47, 92.76, 92.79, 92.85, 92.89, 93.0, 93.06, 93.61, 93.9, 93.96, 94.71, 94.93, 95.06, 95.18, 95.77, 96.08, 96.25, 97.42, 97.43, 97.51], \"textposition\": \"outside\", \"type\": \"bar\", \"x\": [15.35, 29.09, 35.95, 37.19, 41.53, 43.45, 69.4, 69.56, 69.64, 70.78, 72.34, 76.64, 77.71, 78.54, 80.7, 80.88, 81.03, 84.18, 84.78, 85.47, 86.09, 86.44, 86.8, 87.64, 88.14, 88.47, 89.83, 90.38, 90.87, 91.38, 91.44, 91.88, 92.04, 92.13, 92.13, 92.36, 92.47, 92.76, 92.79, 92.85, 92.89, 93.0, 93.06, 93.61, 93.9, 93.96, 94.71, 94.93, 95.06, 95.18, 95.77, 96.08, 96.25, 97.42, 97.43, 97.51], \"y\": [\"Mayotte\", \"Burundi\", \"Tanzania\", \"Uganda\", \"Lesotho\", \"Somalia\", \"Mauritius\", \"Algeria\", \"Mali\", \"Sierra Leone\", \"Kenya\", \"Egypt\", \"Ethiopia\", \"Togo\", \"Guinea-Bissau\", \"Sudan\", \"Mozambique\", \"Guinea\", \"Congo\", \"Seychelles\", \"Gabon\", \"Tunisia\", \"Cameroon\", \"Malawi\", \"Botswana\", \"Djibouti\", \"Ivory Coast\", \"R\\u00e9union\", \"Benin\", \"Chad\", \"DRC\", \"Libya\", \"Niger\", \"Rwanda\", \"Angola\", \"Nigeria\", \"Equatorial Guinea\", \"Madagascar\", \"Eritrea\", \"South Sudan\", \"Gambia\", \"Liberia\", \"Sao Tome and Principe\", \"Senegal\", \"Eswatini\", \"Zimbabwe\", \"Comoros\", \"Cabo Verde\", \"Namibia\", \"South Africa\", \"Mauritania\", \"Zambia\", \"Ghana\", \"Burkina Faso\", \"CAR\", \"Morocco\"]}],\n",
       "                        {\"autosize\": false, \"height\": 1000, \"template\": {\"data\": {\"bar\": [{\"error_x\": {\"color\": \"#f2f5fa\"}, \"error_y\": {\"color\": \"#f2f5fa\"}, \"marker\": {\"line\": {\"color\": \"rgb(17,17,17)\", \"width\": 0.5}}, \"type\": \"bar\"}], \"barpolar\": [{\"marker\": {\"line\": {\"color\": \"rgb(17,17,17)\", \"width\": 0.5}}, \"type\": \"barpolar\"}], \"carpet\": [{\"aaxis\": {\"endlinecolor\": \"#A2B1C6\", \"gridcolor\": \"#506784\", \"linecolor\": \"#506784\", \"minorgridcolor\": \"#506784\", \"startlinecolor\": \"#A2B1C6\"}, \"baxis\": {\"endlinecolor\": \"#A2B1C6\", \"gridcolor\": \"#506784\", \"linecolor\": \"#506784\", \"minorgridcolor\": \"#506784\", \"startlinecolor\": \"#A2B1C6\"}, \"type\": \"carpet\"}], \"choropleth\": [{\"colorbar\": {\"outlinewidth\": 0, \"ticks\": \"\"}, \"type\": \"choropleth\"}], \"contour\": [{\"colorbar\": {\"outlinewidth\": 0, \"ticks\": \"\"}, \"colorscale\": [[0.0, \"#0d0887\"], [0.1111111111111111, \"#46039f\"], [0.2222222222222222, \"#7201a8\"], [0.3333333333333333, \"#9c179e\"], [0.4444444444444444, \"#bd3786\"], [0.5555555555555556, \"#d8576b\"], [0.6666666666666666, \"#ed7953\"], [0.7777777777777778, \"#fb9f3a\"], [0.8888888888888888, \"#fdca26\"], [1.0, \"#f0f921\"]], \"type\": \"contour\"}], \"contourcarpet\": [{\"colorbar\": {\"outlinewidth\": 0, \"ticks\": \"\"}, \"type\": \"contourcarpet\"}], \"heatmap\": [{\"colorbar\": {\"outlinewidth\": 0, \"ticks\": \"\"}, \"colorscale\": [[0.0, \"#0d0887\"], [0.1111111111111111, \"#46039f\"], [0.2222222222222222, \"#7201a8\"], [0.3333333333333333, \"#9c179e\"], [0.4444444444444444, \"#bd3786\"], [0.5555555555555556, \"#d8576b\"], [0.6666666666666666, \"#ed7953\"], [0.7777777777777778, \"#fb9f3a\"], [0.8888888888888888, \"#fdca26\"], [1.0, \"#f0f921\"]], \"type\": \"heatmap\"}], \"heatmapgl\": [{\"colorbar\": {\"outlinewidth\": 0, \"ticks\": \"\"}, \"colorscale\": [[0.0, \"#0d0887\"], [0.1111111111111111, \"#46039f\"], [0.2222222222222222, \"#7201a8\"], [0.3333333333333333, \"#9c179e\"], [0.4444444444444444, \"#bd3786\"], [0.5555555555555556, \"#d8576b\"], [0.6666666666666666, \"#ed7953\"], [0.7777777777777778, \"#fb9f3a\"], [0.8888888888888888, \"#fdca26\"], [1.0, \"#f0f921\"]], \"type\": \"heatmapgl\"}], \"histogram\": [{\"marker\": {\"colorbar\": {\"outlinewidth\": 0, \"ticks\": \"\"}}, \"type\": \"histogram\"}], \"histogram2d\": [{\"colorbar\": {\"outlinewidth\": 0, \"ticks\": \"\"}, \"colorscale\": [[0.0, \"#0d0887\"], [0.1111111111111111, \"#46039f\"], [0.2222222222222222, \"#7201a8\"], [0.3333333333333333, \"#9c179e\"], [0.4444444444444444, \"#bd3786\"], [0.5555555555555556, \"#d8576b\"], [0.6666666666666666, \"#ed7953\"], [0.7777777777777778, \"#fb9f3a\"], [0.8888888888888888, \"#fdca26\"], [1.0, \"#f0f921\"]], \"type\": \"histogram2d\"}], \"histogram2dcontour\": [{\"colorbar\": {\"outlinewidth\": 0, \"ticks\": \"\"}, \"colorscale\": [[0.0, \"#0d0887\"], [0.1111111111111111, \"#46039f\"], [0.2222222222222222, \"#7201a8\"], [0.3333333333333333, \"#9c179e\"], [0.4444444444444444, \"#bd3786\"], [0.5555555555555556, \"#d8576b\"], [0.6666666666666666, \"#ed7953\"], [0.7777777777777778, \"#fb9f3a\"], [0.8888888888888888, \"#fdca26\"], [1.0, \"#f0f921\"]], \"type\": \"histogram2dcontour\"}], \"mesh3d\": [{\"colorbar\": {\"outlinewidth\": 0, \"ticks\": \"\"}, \"type\": \"mesh3d\"}], \"parcoords\": [{\"line\": {\"colorbar\": {\"outlinewidth\": 0, \"ticks\": \"\"}}, \"type\": \"parcoords\"}], \"scatter\": [{\"marker\": {\"line\": {\"color\": \"#283442\"}}, \"type\": \"scatter\"}], \"scatter3d\": [{\"line\": {\"colorbar\": {\"outlinewidth\": 0, \"ticks\": \"\"}}, \"marker\": {\"colorbar\": {\"outlinewidth\": 0, \"ticks\": \"\"}}, \"type\": \"scatter3d\"}], \"scattercarpet\": [{\"marker\": {\"colorbar\": {\"outlinewidth\": 0, \"ticks\": \"\"}}, \"type\": \"scattercarpet\"}], \"scattergeo\": [{\"marker\": {\"colorbar\": {\"outlinewidth\": 0, \"ticks\": \"\"}}, \"type\": \"scattergeo\"}], \"scattergl\": [{\"marker\": {\"line\": {\"color\": \"#283442\"}}, \"type\": \"scattergl\"}], \"scattermapbox\": [{\"marker\": {\"colorbar\": {\"outlinewidth\": 0, \"ticks\": \"\"}}, \"type\": \"scattermapbox\"}], \"scatterpolar\": [{\"marker\": {\"colorbar\": {\"outlinewidth\": 0, \"ticks\": \"\"}}, \"type\": \"scatterpolar\"}], \"scatterpolargl\": [{\"marker\": {\"colorbar\": {\"outlinewidth\": 0, \"ticks\": \"\"}}, \"type\": \"scatterpolargl\"}], \"scatterternary\": [{\"marker\": {\"colorbar\": {\"outlinewidth\": 0, \"ticks\": \"\"}}, \"type\": \"scatterternary\"}], \"surface\": [{\"colorbar\": {\"outlinewidth\": 0, \"ticks\": \"\"}, \"colorscale\": [[0.0, \"#0d0887\"], [0.1111111111111111, \"#46039f\"], [0.2222222222222222, \"#7201a8\"], [0.3333333333333333, \"#9c179e\"], [0.4444444444444444, \"#bd3786\"], [0.5555555555555556, \"#d8576b\"], [0.6666666666666666, \"#ed7953\"], [0.7777777777777778, \"#fb9f3a\"], [0.8888888888888888, \"#fdca26\"], [1.0, \"#f0f921\"]], \"type\": \"surface\"}], \"table\": [{\"cells\": {\"fill\": {\"color\": \"#506784\"}, \"line\": {\"color\": \"rgb(17,17,17)\"}}, \"header\": {\"fill\": {\"color\": \"#2a3f5f\"}, \"line\": {\"color\": \"rgb(17,17,17)\"}}, \"type\": \"table\"}]}, \"layout\": {\"annotationdefaults\": {\"arrowcolor\": \"#f2f5fa\", \"arrowhead\": 0, \"arrowwidth\": 1}, \"colorscale\": {\"diverging\": [[0, \"#8e0152\"], [0.1, \"#c51b7d\"], [0.2, \"#de77ae\"], [0.3, \"#f1b6da\"], [0.4, \"#fde0ef\"], [0.5, \"#f7f7f7\"], [0.6, \"#e6f5d0\"], [0.7, \"#b8e186\"], [0.8, \"#7fbc41\"], [0.9, \"#4d9221\"], [1, \"#276419\"]], \"sequential\": [[0.0, \"#0d0887\"], [0.1111111111111111, \"#46039f\"], [0.2222222222222222, \"#7201a8\"], [0.3333333333333333, \"#9c179e\"], [0.4444444444444444, \"#bd3786\"], [0.5555555555555556, \"#d8576b\"], [0.6666666666666666, \"#ed7953\"], [0.7777777777777778, \"#fb9f3a\"], [0.8888888888888888, \"#fdca26\"], [1.0, \"#f0f921\"]], \"sequentialminus\": [[0.0, \"#0d0887\"], [0.1111111111111111, \"#46039f\"], [0.2222222222222222, \"#7201a8\"], [0.3333333333333333, \"#9c179e\"], [0.4444444444444444, \"#bd3786\"], [0.5555555555555556, \"#d8576b\"], [0.6666666666666666, \"#ed7953\"], [0.7777777777777778, \"#fb9f3a\"], [0.8888888888888888, \"#fdca26\"], [1.0, \"#f0f921\"]]}, \"colorway\": [\"#636efa\", \"#EF553B\", \"#00cc96\", \"#ab63fa\", \"#FFA15A\", \"#19d3f3\", \"#FF6692\", \"#B6E880\", \"#FF97FF\", \"#FECB52\"], \"font\": {\"color\": \"#f2f5fa\"}, \"geo\": {\"bgcolor\": \"rgb(17,17,17)\", \"lakecolor\": \"rgb(17,17,17)\", \"landcolor\": \"rgb(17,17,17)\", \"showlakes\": true, \"showland\": true, \"subunitcolor\": \"#506784\"}, \"hoverlabel\": {\"align\": \"left\"}, \"hovermode\": \"closest\", \"mapbox\": {\"style\": \"dark\"}, \"paper_bgcolor\": \"rgb(17,17,17)\", \"plot_bgcolor\": \"rgb(17,17,17)\", \"polar\": {\"angularaxis\": {\"gridcolor\": \"#506784\", \"linecolor\": \"#506784\", \"ticks\": \"\"}, \"bgcolor\": \"rgb(17,17,17)\", \"radialaxis\": {\"gridcolor\": \"#506784\", \"linecolor\": \"#506784\", \"ticks\": \"\"}}, \"scene\": {\"xaxis\": {\"backgroundcolor\": \"rgb(17,17,17)\", \"gridcolor\": \"#506784\", \"gridwidth\": 2, \"linecolor\": \"#506784\", \"showbackground\": true, \"ticks\": \"\", \"zerolinecolor\": \"#C8D4E3\"}, \"yaxis\": {\"backgroundcolor\": \"rgb(17,17,17)\", \"gridcolor\": \"#506784\", \"gridwidth\": 2, \"linecolor\": \"#506784\", \"showbackground\": true, \"ticks\": \"\", \"zerolinecolor\": \"#C8D4E3\"}, \"zaxis\": {\"backgroundcolor\": \"rgb(17,17,17)\", \"gridcolor\": \"#506784\", \"gridwidth\": 2, \"linecolor\": \"#506784\", \"showbackground\": true, \"ticks\": \"\", \"zerolinecolor\": \"#C8D4E3\"}}, \"shapedefaults\": {\"line\": {\"color\": \"#f2f5fa\"}}, \"sliderdefaults\": {\"bgcolor\": \"#C8D4E3\", \"bordercolor\": \"rgb(17,17,17)\", \"borderwidth\": 1, \"tickwidth\": 0}, \"ternary\": {\"aaxis\": {\"gridcolor\": \"#506784\", \"linecolor\": \"#506784\", \"ticks\": \"\"}, \"baxis\": {\"gridcolor\": \"#506784\", \"linecolor\": \"#506784\", \"ticks\": \"\"}, \"bgcolor\": \"rgb(17,17,17)\", \"caxis\": {\"gridcolor\": \"#506784\", \"linecolor\": \"#506784\", \"ticks\": \"\"}}, \"title\": {\"x\": 0.05}, \"updatemenudefaults\": {\"bgcolor\": \"#506784\", \"borderwidth\": 0}, \"xaxis\": {\"automargin\": true, \"gridcolor\": \"#283442\", \"linecolor\": \"#506784\", \"ticks\": \"\", \"zerolinecolor\": \"#283442\", \"zerolinewidth\": 2}, \"yaxis\": {\"automargin\": true, \"gridcolor\": \"#283442\", \"linecolor\": \"#506784\", \"ticks\": \"\", \"zerolinecolor\": \"#283442\", \"zerolinewidth\": 2}}}, \"title\": {\"font\": {\"color\": \"Cyan\", \"size\": 14}, \"text\": \"<b>COVID19 RECOVERY RATE OF AFRICAN COUNTRIES/TERRITORIES: March 25, 2021</b>\", \"x\": 0.5, \"xanchor\": \"center\", \"y\": 0.93, \"yanchor\": \"top\"}, \"width\": 1000, \"xaxis\": {\"title\": {\"font\": {\"color\": \"#BDBDBD\", \"size\": 18}, \"text\": \"<b>Recovery Rate(%)</b>\"}}, \"yaxis\": {\"tickprefix\": \"      \", \"title\": {\"font\": {\"color\": \"#BDBDBD\", \"size\": 18}, \"text\": \"<b>Country</b>\"}}},\n",
       "                        {\"responsive\": true}\n",
       "                    ).then(function(){\n",
       "                            \n",
       "var gd = document.getElementById('a4c90084-68ca-4a95-b804-4754d2b5b9d6');\n",
       "var x = new MutationObserver(function (mutations, observer) {{\n",
       "        var display = window.getComputedStyle(gd).display;\n",
       "        if (!display || display === 'none') {{\n",
       "            console.log([gd, 'removed!']);\n",
       "            Plotly.purge(gd);\n",
       "            observer.disconnect();\n",
       "        }}\n",
       "}});\n",
       "\n",
       "// Listen for the removal of the full notebook cells\n",
       "var notebookContainer = gd.closest('#notebook-container');\n",
       "if (notebookContainer) {{\n",
       "    x.observe(notebookContainer, {childList: true});\n",
       "}}\n",
       "\n",
       "// Listen for the clearing of the current output cell\n",
       "var outputEl = gd.closest('.output');\n",
       "if (outputEl) {{\n",
       "    x.observe(outputEl, {childList: true});\n",
       "}}\n",
       "\n",
       "                        })\n",
       "                };\n",
       "                });\n",
       "            </script>\n",
       "        </div>"
      ]
     },
     "metadata": {},
     "output_type": "display_data"
    }
   ],
   "source": [
    "fig = go.Figure()\n",
    "\n",
    "fig.add_trace(go.Bar(y = african_confirmed100['Country_Other'][::-1],x=african_confirmed100['RecoveryRate'][::-1],\n",
    "                     text=african_confirmed100['RecoveryRate'][::-1],textposition='outside',name = \"Afria\",marker_color='LimeGreen',orientation='h',\n",
    "#                   \n",
    "))\n",
    "fig.update_layout(\n",
    "    template='plotly_dark',\n",
    "    title={\n",
    "        'text': '<b>COVID19 RECOVERY RATE OF AFRICAN COUNTRIES/TERRITORIES: '  + date_string +'</b>',\n",
    "        'y':0.93,\n",
    "        'x':0.5,\n",
    "        'xanchor': 'center',\n",
    "        'yanchor': 'top',\n",
    "        'font_color':'Cyan',\n",
    "        'font_size':14},\n",
    "    xaxis=dict(title='<b>Recovery Rate(%)</b>',titlefont_size=18, titlefont=dict(color='#BDBDBD')),\n",
    "    yaxis=dict(title='<b>Country</b>',titlefont_size=18, tickprefix=\"      \", titlefont=dict(color='#BDBDBD')),\n",
    "    autosize=False,\n",
    "    width=1000,\n",
    "    height=1000,     \n",
    ")\n",
    "\n",
    "fig.show()\n"
   ]
  },
  {
   "cell_type": "markdown",
   "metadata": {},
   "source": [
    "[Return to top](#top)\n",
    "##  Mortality Rate of Countries with up to 100 Confirmed Cases"
   ]
  },
  {
   "cell_type": "code",
   "execution_count": 159,
   "metadata": {},
   "outputs": [
    {
     "data": {
      "text/html": [
       "<div>\n",
       "<style scoped>\n",
       "    .dataframe tbody tr th:only-of-type {\n",
       "        vertical-align: middle;\n",
       "    }\n",
       "\n",
       "    .dataframe tbody tr th {\n",
       "        vertical-align: top;\n",
       "    }\n",
       "\n",
       "    .dataframe thead th {\n",
       "        text-align: right;\n",
       "    }\n",
       "</style>\n",
       "<table border=\"1\" class=\"dataframe\">\n",
       "  <thead>\n",
       "    <tr style=\"text-align: right;\">\n",
       "      <th></th>\n",
       "      <th>Country_Other</th>\n",
       "      <th>Total_Cases</th>\n",
       "      <th>Total_Deaths</th>\n",
       "    </tr>\n",
       "  </thead>\n",
       "  <tbody>\n",
       "    <tr>\n",
       "      <td>0</td>\n",
       "      <td>South Africa</td>\n",
       "      <td>1541563</td>\n",
       "      <td>52535</td>\n",
       "    </tr>\n",
       "    <tr>\n",
       "      <td>1</td>\n",
       "      <td>Morocco</td>\n",
       "      <td>493353</td>\n",
       "      <td>8788</td>\n",
       "    </tr>\n",
       "    <tr>\n",
       "      <td>2</td>\n",
       "      <td>Tunisia</td>\n",
       "      <td>248037</td>\n",
       "      <td>8663</td>\n",
       "    </tr>\n",
       "  </tbody>\n",
       "</table>\n",
       "</div>"
      ],
      "text/plain": [
       "  Country_Other  Total_Cases  Total_Deaths\n",
       "0  South Africa      1541563         52535\n",
       "1       Morocco       493353          8788\n",
       "2       Tunisia       248037          8663"
      ]
     },
     "execution_count": 159,
     "metadata": {},
     "output_type": "execute_result"
    }
   ],
   "source": [
    "african_mortality_rate =  pd.DataFrame()\n",
    "african_mortality_rate['Country_Other'] = african_countries_inview['Country_Other']\n",
    "african_mortality_rate['Total_Cases'] = african_countries_inview['Total_Cases']\n",
    "african_mortality_rate['Total_Deaths'] = african_countries_inview['Total_Deaths']\n",
    "african_mortality_rate.head(3)"
   ]
  },
  {
   "cell_type": "code",
   "execution_count": 160,
   "metadata": {},
   "outputs": [
    {
     "data": {
      "text/html": [
       "<div>\n",
       "<style scoped>\n",
       "    .dataframe tbody tr th:only-of-type {\n",
       "        vertical-align: middle;\n",
       "    }\n",
       "\n",
       "    .dataframe tbody tr th {\n",
       "        vertical-align: top;\n",
       "    }\n",
       "\n",
       "    .dataframe thead th {\n",
       "        text-align: right;\n",
       "    }\n",
       "</style>\n",
       "<table border=\"1\" class=\"dataframe\">\n",
       "  <thead>\n",
       "    <tr style=\"text-align: right;\">\n",
       "      <th></th>\n",
       "      <th>Country_Other</th>\n",
       "      <th>Total_Cases</th>\n",
       "      <th>Total_Deaths</th>\n",
       "      <th>Mortality_Rate</th>\n",
       "    </tr>\n",
       "  </thead>\n",
       "  <tbody>\n",
       "    <tr>\n",
       "      <td>0</td>\n",
       "      <td>South Africa</td>\n",
       "      <td>1541563</td>\n",
       "      <td>52535</td>\n",
       "      <td>3.41</td>\n",
       "    </tr>\n",
       "    <tr>\n",
       "      <td>1</td>\n",
       "      <td>Morocco</td>\n",
       "      <td>493353</td>\n",
       "      <td>8788</td>\n",
       "      <td>1.78</td>\n",
       "    </tr>\n",
       "    <tr>\n",
       "      <td>2</td>\n",
       "      <td>Tunisia</td>\n",
       "      <td>248037</td>\n",
       "      <td>8663</td>\n",
       "      <td>3.49</td>\n",
       "    </tr>\n",
       "  </tbody>\n",
       "</table>\n",
       "</div>"
      ],
      "text/plain": [
       "  Country_Other  Total_Cases  Total_Deaths  Mortality_Rate\n",
       "0  South Africa      1541563         52535            3.41\n",
       "1       Morocco       493353          8788            1.78\n",
       "2       Tunisia       248037          8663            3.49"
      ]
     },
     "execution_count": 160,
     "metadata": {},
     "output_type": "execute_result"
    }
   ],
   "source": [
    "african_mortality_rate['Mortality_Rate'] = round((african_countries_inview['Total_Deaths']/african_countries_inview['Total_Cases'])*100,2)\n",
    "\n",
    "african_mortality_rate.head(3)"
   ]
  },
  {
   "cell_type": "code",
   "execution_count": 161,
   "metadata": {},
   "outputs": [
    {
     "data": {
      "text/html": [
       "<div>\n",
       "<style scoped>\n",
       "    .dataframe tbody tr th:only-of-type {\n",
       "        vertical-align: middle;\n",
       "    }\n",
       "\n",
       "    .dataframe tbody tr th {\n",
       "        vertical-align: top;\n",
       "    }\n",
       "\n",
       "    .dataframe thead th {\n",
       "        text-align: right;\n",
       "    }\n",
       "</style>\n",
       "<table border=\"1\" class=\"dataframe\">\n",
       "  <thead>\n",
       "    <tr style=\"text-align: right;\">\n",
       "      <th></th>\n",
       "      <th>Country_Other</th>\n",
       "      <th>Total_Cases</th>\n",
       "      <th>Total_Deaths</th>\n",
       "      <th>Mortality_Rate</th>\n",
       "    </tr>\n",
       "  </thead>\n",
       "  <tbody>\n",
       "    <tr>\n",
       "      <td>0</td>\n",
       "      <td>Sudan</td>\n",
       "      <td>29661</td>\n",
       "      <td>2028</td>\n",
       "      <td>6.84</td>\n",
       "    </tr>\n",
       "    <tr>\n",
       "      <td>1</td>\n",
       "      <td>Egypt</td>\n",
       "      <td>198011</td>\n",
       "      <td>11768</td>\n",
       "      <td>5.94</td>\n",
       "    </tr>\n",
       "    <tr>\n",
       "      <td>2</td>\n",
       "      <td>Somalia</td>\n",
       "      <td>10664</td>\n",
       "      <td>471</td>\n",
       "      <td>4.42</td>\n",
       "    </tr>\n",
       "  </tbody>\n",
       "</table>\n",
       "</div>"
      ],
      "text/plain": [
       "  Country_Other  Total_Cases  Total_Deaths  Mortality_Rate\n",
       "0         Sudan        29661          2028            6.84\n",
       "1         Egypt       198011         11768            5.94\n",
       "2       Somalia        10664           471            4.42"
      ]
     },
     "execution_count": 161,
     "metadata": {},
     "output_type": "execute_result"
    }
   ],
   "source": [
    "african_mortality100 = african_mortality_rate[african_mortality_rate['Total_Cases']>=100]\n",
    "african_mortality100 = african_mortality100.sort_values('Mortality_Rate', ascending=False)\n",
    "african_mortality100.reset_index(drop=True, inplace=True)\n",
    "african_mortality100.head(3)"
   ]
  },
  {
   "cell_type": "markdown",
   "metadata": {},
   "source": [
    "<a id='mortality'></a>"
   ]
  },
  {
   "cell_type": "code",
   "execution_count": 162,
   "metadata": {},
   "outputs": [
    {
     "data": {
      "application/vnd.plotly.v1+json": {
       "config": {
        "plotlyServerURL": "https://plot.ly"
       },
       "data": [
        {
         "marker": {
          "color": "Crimson"
         },
         "name": "Afria",
         "orientation": "h",
         "text": [
          0.23,
          0.28,
          0.46,
          0.54,
          0.59,
          0.59,
          0.66,
          0.8,
          0.82,
          0.82,
          0.91,
          0.98,
          1.07,
          1.13,
          1.13,
          1.15,
          1.17,
          1.17,
          1.25,
          1.26,
          1.27,
          1.32,
          1.36,
          1.39,
          1.4,
          1.41,
          1.48,
          1.49,
          1.56,
          1.6,
          1.66,
          1.67,
          1.69,
          1.78,
          2,
          2.43,
          2.52,
          2.62,
          2.64,
          2.69,
          2.95,
          3.04,
          3.32,
          3.41,
          3.49,
          3.54,
          3.73,
          3.85,
          3.89,
          3.96,
          4.13,
          4.13,
          4.16,
          4.42,
          5.94,
          6.84
         ],
         "textposition": "outside",
         "type": "bar",
         "x": [
          0.23,
          0.28,
          0.46,
          0.54,
          0.59,
          0.59,
          0.66,
          0.8,
          0.82,
          0.82,
          0.91,
          0.98,
          1.07,
          1.13,
          1.13,
          1.15,
          1.17,
          1.17,
          1.25,
          1.26,
          1.27,
          1.32,
          1.36,
          1.39,
          1.4,
          1.41,
          1.48,
          1.49,
          1.56,
          1.6,
          1.66,
          1.67,
          1.69,
          1.78,
          2,
          2.43,
          2.52,
          2.62,
          2.64,
          2.69,
          2.95,
          3.04,
          3.32,
          3.41,
          3.49,
          3.54,
          3.73,
          3.85,
          3.89,
          3.96,
          4.13,
          4.13,
          4.16,
          4.42,
          5.94,
          6.84
         ],
         "y": [
          "Burundi",
          "Eritrea",
          "Seychelles",
          "Ivory Coast",
          "Guinea",
          "Gabon",
          "Réunion",
          "Mayotte",
          "Uganda",
          "Ghana",
          "Djibouti",
          "Cabo Verde",
          "South Sudan",
          "Mozambique",
          "Togo",
          "Burkina Faso",
          "Namibia",
          "Mauritius",
          "Nigeria",
          "CAR",
          "Benin",
          "Botswana",
          "Zambia",
          "Congo",
          "Rwanda",
          "Ethiopia",
          "Cameroon",
          "Equatorial Guinea",
          "Sao Tome and Principe",
          "Madagascar",
          "Kenya",
          "Libya",
          "Guinea-Bissau",
          "Morocco",
          "Sierra Leone",
          "Angola",
          "Mauritania",
          "DRC",
          "Algeria",
          "Senegal",
          "Lesotho",
          "Gambia",
          "Malawi",
          "South Africa",
          "Tunisia",
          "Chad",
          "Niger",
          "Eswatini",
          "Mali",
          "Comoros",
          "Zimbabwe",
          "Tanzania",
          "Liberia",
          "Somalia",
          "Egypt",
          "Sudan"
         ]
        }
       ],
       "layout": {
        "autosize": false,
        "height": 1000,
        "template": {
         "data": {
          "bar": [
           {
            "error_x": {
             "color": "#f2f5fa"
            },
            "error_y": {
             "color": "#f2f5fa"
            },
            "marker": {
             "line": {
              "color": "rgb(17,17,17)",
              "width": 0.5
             }
            },
            "type": "bar"
           }
          ],
          "barpolar": [
           {
            "marker": {
             "line": {
              "color": "rgb(17,17,17)",
              "width": 0.5
             }
            },
            "type": "barpolar"
           }
          ],
          "carpet": [
           {
            "aaxis": {
             "endlinecolor": "#A2B1C6",
             "gridcolor": "#506784",
             "linecolor": "#506784",
             "minorgridcolor": "#506784",
             "startlinecolor": "#A2B1C6"
            },
            "baxis": {
             "endlinecolor": "#A2B1C6",
             "gridcolor": "#506784",
             "linecolor": "#506784",
             "minorgridcolor": "#506784",
             "startlinecolor": "#A2B1C6"
            },
            "type": "carpet"
           }
          ],
          "choropleth": [
           {
            "colorbar": {
             "outlinewidth": 0,
             "ticks": ""
            },
            "type": "choropleth"
           }
          ],
          "contour": [
           {
            "colorbar": {
             "outlinewidth": 0,
             "ticks": ""
            },
            "colorscale": [
             [
              0,
              "#0d0887"
             ],
             [
              0.1111111111111111,
              "#46039f"
             ],
             [
              0.2222222222222222,
              "#7201a8"
             ],
             [
              0.3333333333333333,
              "#9c179e"
             ],
             [
              0.4444444444444444,
              "#bd3786"
             ],
             [
              0.5555555555555556,
              "#d8576b"
             ],
             [
              0.6666666666666666,
              "#ed7953"
             ],
             [
              0.7777777777777778,
              "#fb9f3a"
             ],
             [
              0.8888888888888888,
              "#fdca26"
             ],
             [
              1,
              "#f0f921"
             ]
            ],
            "type": "contour"
           }
          ],
          "contourcarpet": [
           {
            "colorbar": {
             "outlinewidth": 0,
             "ticks": ""
            },
            "type": "contourcarpet"
           }
          ],
          "heatmap": [
           {
            "colorbar": {
             "outlinewidth": 0,
             "ticks": ""
            },
            "colorscale": [
             [
              0,
              "#0d0887"
             ],
             [
              0.1111111111111111,
              "#46039f"
             ],
             [
              0.2222222222222222,
              "#7201a8"
             ],
             [
              0.3333333333333333,
              "#9c179e"
             ],
             [
              0.4444444444444444,
              "#bd3786"
             ],
             [
              0.5555555555555556,
              "#d8576b"
             ],
             [
              0.6666666666666666,
              "#ed7953"
             ],
             [
              0.7777777777777778,
              "#fb9f3a"
             ],
             [
              0.8888888888888888,
              "#fdca26"
             ],
             [
              1,
              "#f0f921"
             ]
            ],
            "type": "heatmap"
           }
          ],
          "heatmapgl": [
           {
            "colorbar": {
             "outlinewidth": 0,
             "ticks": ""
            },
            "colorscale": [
             [
              0,
              "#0d0887"
             ],
             [
              0.1111111111111111,
              "#46039f"
             ],
             [
              0.2222222222222222,
              "#7201a8"
             ],
             [
              0.3333333333333333,
              "#9c179e"
             ],
             [
              0.4444444444444444,
              "#bd3786"
             ],
             [
              0.5555555555555556,
              "#d8576b"
             ],
             [
              0.6666666666666666,
              "#ed7953"
             ],
             [
              0.7777777777777778,
              "#fb9f3a"
             ],
             [
              0.8888888888888888,
              "#fdca26"
             ],
             [
              1,
              "#f0f921"
             ]
            ],
            "type": "heatmapgl"
           }
          ],
          "histogram": [
           {
            "marker": {
             "colorbar": {
              "outlinewidth": 0,
              "ticks": ""
             }
            },
            "type": "histogram"
           }
          ],
          "histogram2d": [
           {
            "colorbar": {
             "outlinewidth": 0,
             "ticks": ""
            },
            "colorscale": [
             [
              0,
              "#0d0887"
             ],
             [
              0.1111111111111111,
              "#46039f"
             ],
             [
              0.2222222222222222,
              "#7201a8"
             ],
             [
              0.3333333333333333,
              "#9c179e"
             ],
             [
              0.4444444444444444,
              "#bd3786"
             ],
             [
              0.5555555555555556,
              "#d8576b"
             ],
             [
              0.6666666666666666,
              "#ed7953"
             ],
             [
              0.7777777777777778,
              "#fb9f3a"
             ],
             [
              0.8888888888888888,
              "#fdca26"
             ],
             [
              1,
              "#f0f921"
             ]
            ],
            "type": "histogram2d"
           }
          ],
          "histogram2dcontour": [
           {
            "colorbar": {
             "outlinewidth": 0,
             "ticks": ""
            },
            "colorscale": [
             [
              0,
              "#0d0887"
             ],
             [
              0.1111111111111111,
              "#46039f"
             ],
             [
              0.2222222222222222,
              "#7201a8"
             ],
             [
              0.3333333333333333,
              "#9c179e"
             ],
             [
              0.4444444444444444,
              "#bd3786"
             ],
             [
              0.5555555555555556,
              "#d8576b"
             ],
             [
              0.6666666666666666,
              "#ed7953"
             ],
             [
              0.7777777777777778,
              "#fb9f3a"
             ],
             [
              0.8888888888888888,
              "#fdca26"
             ],
             [
              1,
              "#f0f921"
             ]
            ],
            "type": "histogram2dcontour"
           }
          ],
          "mesh3d": [
           {
            "colorbar": {
             "outlinewidth": 0,
             "ticks": ""
            },
            "type": "mesh3d"
           }
          ],
          "parcoords": [
           {
            "line": {
             "colorbar": {
              "outlinewidth": 0,
              "ticks": ""
             }
            },
            "type": "parcoords"
           }
          ],
          "scatter": [
           {
            "marker": {
             "line": {
              "color": "#283442"
             }
            },
            "type": "scatter"
           }
          ],
          "scatter3d": [
           {
            "line": {
             "colorbar": {
              "outlinewidth": 0,
              "ticks": ""
             }
            },
            "marker": {
             "colorbar": {
              "outlinewidth": 0,
              "ticks": ""
             }
            },
            "type": "scatter3d"
           }
          ],
          "scattercarpet": [
           {
            "marker": {
             "colorbar": {
              "outlinewidth": 0,
              "ticks": ""
             }
            },
            "type": "scattercarpet"
           }
          ],
          "scattergeo": [
           {
            "marker": {
             "colorbar": {
              "outlinewidth": 0,
              "ticks": ""
             }
            },
            "type": "scattergeo"
           }
          ],
          "scattergl": [
           {
            "marker": {
             "line": {
              "color": "#283442"
             }
            },
            "type": "scattergl"
           }
          ],
          "scattermapbox": [
           {
            "marker": {
             "colorbar": {
              "outlinewidth": 0,
              "ticks": ""
             }
            },
            "type": "scattermapbox"
           }
          ],
          "scatterpolar": [
           {
            "marker": {
             "colorbar": {
              "outlinewidth": 0,
              "ticks": ""
             }
            },
            "type": "scatterpolar"
           }
          ],
          "scatterpolargl": [
           {
            "marker": {
             "colorbar": {
              "outlinewidth": 0,
              "ticks": ""
             }
            },
            "type": "scatterpolargl"
           }
          ],
          "scatterternary": [
           {
            "marker": {
             "colorbar": {
              "outlinewidth": 0,
              "ticks": ""
             }
            },
            "type": "scatterternary"
           }
          ],
          "surface": [
           {
            "colorbar": {
             "outlinewidth": 0,
             "ticks": ""
            },
            "colorscale": [
             [
              0,
              "#0d0887"
             ],
             [
              0.1111111111111111,
              "#46039f"
             ],
             [
              0.2222222222222222,
              "#7201a8"
             ],
             [
              0.3333333333333333,
              "#9c179e"
             ],
             [
              0.4444444444444444,
              "#bd3786"
             ],
             [
              0.5555555555555556,
              "#d8576b"
             ],
             [
              0.6666666666666666,
              "#ed7953"
             ],
             [
              0.7777777777777778,
              "#fb9f3a"
             ],
             [
              0.8888888888888888,
              "#fdca26"
             ],
             [
              1,
              "#f0f921"
             ]
            ],
            "type": "surface"
           }
          ],
          "table": [
           {
            "cells": {
             "fill": {
              "color": "#506784"
             },
             "line": {
              "color": "rgb(17,17,17)"
             }
            },
            "header": {
             "fill": {
              "color": "#2a3f5f"
             },
             "line": {
              "color": "rgb(17,17,17)"
             }
            },
            "type": "table"
           }
          ]
         },
         "layout": {
          "annotationdefaults": {
           "arrowcolor": "#f2f5fa",
           "arrowhead": 0,
           "arrowwidth": 1
          },
          "colorscale": {
           "diverging": [
            [
             0,
             "#8e0152"
            ],
            [
             0.1,
             "#c51b7d"
            ],
            [
             0.2,
             "#de77ae"
            ],
            [
             0.3,
             "#f1b6da"
            ],
            [
             0.4,
             "#fde0ef"
            ],
            [
             0.5,
             "#f7f7f7"
            ],
            [
             0.6,
             "#e6f5d0"
            ],
            [
             0.7,
             "#b8e186"
            ],
            [
             0.8,
             "#7fbc41"
            ],
            [
             0.9,
             "#4d9221"
            ],
            [
             1,
             "#276419"
            ]
           ],
           "sequential": [
            [
             0,
             "#0d0887"
            ],
            [
             0.1111111111111111,
             "#46039f"
            ],
            [
             0.2222222222222222,
             "#7201a8"
            ],
            [
             0.3333333333333333,
             "#9c179e"
            ],
            [
             0.4444444444444444,
             "#bd3786"
            ],
            [
             0.5555555555555556,
             "#d8576b"
            ],
            [
             0.6666666666666666,
             "#ed7953"
            ],
            [
             0.7777777777777778,
             "#fb9f3a"
            ],
            [
             0.8888888888888888,
             "#fdca26"
            ],
            [
             1,
             "#f0f921"
            ]
           ],
           "sequentialminus": [
            [
             0,
             "#0d0887"
            ],
            [
             0.1111111111111111,
             "#46039f"
            ],
            [
             0.2222222222222222,
             "#7201a8"
            ],
            [
             0.3333333333333333,
             "#9c179e"
            ],
            [
             0.4444444444444444,
             "#bd3786"
            ],
            [
             0.5555555555555556,
             "#d8576b"
            ],
            [
             0.6666666666666666,
             "#ed7953"
            ],
            [
             0.7777777777777778,
             "#fb9f3a"
            ],
            [
             0.8888888888888888,
             "#fdca26"
            ],
            [
             1,
             "#f0f921"
            ]
           ]
          },
          "colorway": [
           "#636efa",
           "#EF553B",
           "#00cc96",
           "#ab63fa",
           "#FFA15A",
           "#19d3f3",
           "#FF6692",
           "#B6E880",
           "#FF97FF",
           "#FECB52"
          ],
          "font": {
           "color": "#f2f5fa"
          },
          "geo": {
           "bgcolor": "rgb(17,17,17)",
           "lakecolor": "rgb(17,17,17)",
           "landcolor": "rgb(17,17,17)",
           "showlakes": true,
           "showland": true,
           "subunitcolor": "#506784"
          },
          "hoverlabel": {
           "align": "left"
          },
          "hovermode": "closest",
          "mapbox": {
           "style": "dark"
          },
          "paper_bgcolor": "rgb(17,17,17)",
          "plot_bgcolor": "rgb(17,17,17)",
          "polar": {
           "angularaxis": {
            "gridcolor": "#506784",
            "linecolor": "#506784",
            "ticks": ""
           },
           "bgcolor": "rgb(17,17,17)",
           "radialaxis": {
            "gridcolor": "#506784",
            "linecolor": "#506784",
            "ticks": ""
           }
          },
          "scene": {
           "xaxis": {
            "backgroundcolor": "rgb(17,17,17)",
            "gridcolor": "#506784",
            "gridwidth": 2,
            "linecolor": "#506784",
            "showbackground": true,
            "ticks": "",
            "zerolinecolor": "#C8D4E3"
           },
           "yaxis": {
            "backgroundcolor": "rgb(17,17,17)",
            "gridcolor": "#506784",
            "gridwidth": 2,
            "linecolor": "#506784",
            "showbackground": true,
            "ticks": "",
            "zerolinecolor": "#C8D4E3"
           },
           "zaxis": {
            "backgroundcolor": "rgb(17,17,17)",
            "gridcolor": "#506784",
            "gridwidth": 2,
            "linecolor": "#506784",
            "showbackground": true,
            "ticks": "",
            "zerolinecolor": "#C8D4E3"
           }
          },
          "shapedefaults": {
           "line": {
            "color": "#f2f5fa"
           }
          },
          "sliderdefaults": {
           "bgcolor": "#C8D4E3",
           "bordercolor": "rgb(17,17,17)",
           "borderwidth": 1,
           "tickwidth": 0
          },
          "ternary": {
           "aaxis": {
            "gridcolor": "#506784",
            "linecolor": "#506784",
            "ticks": ""
           },
           "baxis": {
            "gridcolor": "#506784",
            "linecolor": "#506784",
            "ticks": ""
           },
           "bgcolor": "rgb(17,17,17)",
           "caxis": {
            "gridcolor": "#506784",
            "linecolor": "#506784",
            "ticks": ""
           }
          },
          "title": {
           "x": 0.05
          },
          "updatemenudefaults": {
           "bgcolor": "#506784",
           "borderwidth": 0
          },
          "xaxis": {
           "automargin": true,
           "gridcolor": "#283442",
           "linecolor": "#506784",
           "ticks": "",
           "zerolinecolor": "#283442",
           "zerolinewidth": 2
          },
          "yaxis": {
           "automargin": true,
           "gridcolor": "#283442",
           "linecolor": "#506784",
           "ticks": "",
           "zerolinecolor": "#283442",
           "zerolinewidth": 2
          }
         }
        },
        "title": {
         "font": {
          "color": "Cyan",
          "size": 12
         },
         "text": "<b>COVID19 MORTALITY RATE OF AFRICAN COUNTRIES/TERRITORIES: March 25, 2021</b>",
         "x": 0.55,
         "xanchor": "center",
         "y": 0.93,
         "yanchor": "top"
        },
        "width": 800,
        "xaxis": {
         "title": {
          "font": {
           "color": "#BDBDBD",
           "size": 18
          },
          "text": "<b>Mortality Rate(%)</b>"
         }
        },
        "yaxis": {
         "tickprefix": "      ",
         "title": {
          "font": {
           "color": "#BDBDBD",
           "size": 18
          },
          "text": "<b>Country</b>"
         }
        }
       }
      },
      "text/html": [
       "<div>\n",
       "        \n",
       "        \n",
       "            <div id=\"f5c47247-bc5b-4340-8050-ce9dbc50726e\" class=\"plotly-graph-div\" style=\"height:1000px; width:800px;\"></div>\n",
       "            <script type=\"text/javascript\">\n",
       "                require([\"plotly\"], function(Plotly) {\n",
       "                    window.PLOTLYENV=window.PLOTLYENV || {};\n",
       "                    \n",
       "                if (document.getElementById(\"f5c47247-bc5b-4340-8050-ce9dbc50726e\")) {\n",
       "                    Plotly.newPlot(\n",
       "                        'f5c47247-bc5b-4340-8050-ce9dbc50726e',\n",
       "                        [{\"marker\": {\"color\": \"Crimson\"}, \"name\": \"Afria\", \"orientation\": \"h\", \"text\": [0.23, 0.28, 0.46, 0.54, 0.59, 0.59, 0.66, 0.8, 0.82, 0.82, 0.91, 0.98, 1.07, 1.13, 1.13, 1.15, 1.17, 1.17, 1.25, 1.26, 1.27, 1.32, 1.36, 1.39, 1.4, 1.41, 1.48, 1.49, 1.56, 1.6, 1.66, 1.67, 1.69, 1.78, 2.0, 2.43, 2.52, 2.62, 2.64, 2.69, 2.95, 3.04, 3.32, 3.41, 3.49, 3.54, 3.73, 3.85, 3.89, 3.96, 4.13, 4.13, 4.16, 4.42, 5.94, 6.84], \"textposition\": \"outside\", \"type\": \"bar\", \"x\": [0.23, 0.28, 0.46, 0.54, 0.59, 0.59, 0.66, 0.8, 0.82, 0.82, 0.91, 0.98, 1.07, 1.13, 1.13, 1.15, 1.17, 1.17, 1.25, 1.26, 1.27, 1.32, 1.36, 1.39, 1.4, 1.41, 1.48, 1.49, 1.56, 1.6, 1.66, 1.67, 1.69, 1.78, 2.0, 2.43, 2.52, 2.62, 2.64, 2.69, 2.95, 3.04, 3.32, 3.41, 3.49, 3.54, 3.73, 3.85, 3.89, 3.96, 4.13, 4.13, 4.16, 4.42, 5.94, 6.84], \"y\": [\"Burundi\", \"Eritrea\", \"Seychelles\", \"Ivory Coast\", \"Guinea\", \"Gabon\", \"R\\u00e9union\", \"Mayotte\", \"Uganda\", \"Ghana\", \"Djibouti\", \"Cabo Verde\", \"South Sudan\", \"Mozambique\", \"Togo\", \"Burkina Faso\", \"Namibia\", \"Mauritius\", \"Nigeria\", \"CAR\", \"Benin\", \"Botswana\", \"Zambia\", \"Congo\", \"Rwanda\", \"Ethiopia\", \"Cameroon\", \"Equatorial Guinea\", \"Sao Tome and Principe\", \"Madagascar\", \"Kenya\", \"Libya\", \"Guinea-Bissau\", \"Morocco\", \"Sierra Leone\", \"Angola\", \"Mauritania\", \"DRC\", \"Algeria\", \"Senegal\", \"Lesotho\", \"Gambia\", \"Malawi\", \"South Africa\", \"Tunisia\", \"Chad\", \"Niger\", \"Eswatini\", \"Mali\", \"Comoros\", \"Zimbabwe\", \"Tanzania\", \"Liberia\", \"Somalia\", \"Egypt\", \"Sudan\"]}],\n",
       "                        {\"autosize\": false, \"height\": 1000, \"template\": {\"data\": {\"bar\": [{\"error_x\": {\"color\": \"#f2f5fa\"}, \"error_y\": {\"color\": \"#f2f5fa\"}, \"marker\": {\"line\": {\"color\": \"rgb(17,17,17)\", \"width\": 0.5}}, \"type\": \"bar\"}], \"barpolar\": [{\"marker\": {\"line\": {\"color\": \"rgb(17,17,17)\", \"width\": 0.5}}, \"type\": \"barpolar\"}], \"carpet\": [{\"aaxis\": {\"endlinecolor\": \"#A2B1C6\", \"gridcolor\": \"#506784\", \"linecolor\": \"#506784\", \"minorgridcolor\": \"#506784\", \"startlinecolor\": \"#A2B1C6\"}, \"baxis\": {\"endlinecolor\": \"#A2B1C6\", \"gridcolor\": \"#506784\", \"linecolor\": \"#506784\", \"minorgridcolor\": \"#506784\", \"startlinecolor\": \"#A2B1C6\"}, \"type\": \"carpet\"}], \"choropleth\": [{\"colorbar\": {\"outlinewidth\": 0, \"ticks\": \"\"}, \"type\": \"choropleth\"}], \"contour\": [{\"colorbar\": {\"outlinewidth\": 0, \"ticks\": \"\"}, \"colorscale\": [[0.0, \"#0d0887\"], [0.1111111111111111, \"#46039f\"], [0.2222222222222222, \"#7201a8\"], [0.3333333333333333, \"#9c179e\"], [0.4444444444444444, \"#bd3786\"], [0.5555555555555556, \"#d8576b\"], [0.6666666666666666, \"#ed7953\"], [0.7777777777777778, \"#fb9f3a\"], [0.8888888888888888, \"#fdca26\"], [1.0, \"#f0f921\"]], \"type\": \"contour\"}], \"contourcarpet\": [{\"colorbar\": {\"outlinewidth\": 0, \"ticks\": \"\"}, \"type\": \"contourcarpet\"}], \"heatmap\": [{\"colorbar\": {\"outlinewidth\": 0, \"ticks\": \"\"}, \"colorscale\": [[0.0, \"#0d0887\"], [0.1111111111111111, \"#46039f\"], [0.2222222222222222, \"#7201a8\"], [0.3333333333333333, \"#9c179e\"], [0.4444444444444444, \"#bd3786\"], [0.5555555555555556, \"#d8576b\"], [0.6666666666666666, \"#ed7953\"], [0.7777777777777778, \"#fb9f3a\"], [0.8888888888888888, \"#fdca26\"], [1.0, \"#f0f921\"]], \"type\": \"heatmap\"}], \"heatmapgl\": [{\"colorbar\": {\"outlinewidth\": 0, \"ticks\": \"\"}, \"colorscale\": [[0.0, \"#0d0887\"], [0.1111111111111111, \"#46039f\"], [0.2222222222222222, \"#7201a8\"], [0.3333333333333333, \"#9c179e\"], [0.4444444444444444, \"#bd3786\"], [0.5555555555555556, \"#d8576b\"], [0.6666666666666666, \"#ed7953\"], [0.7777777777777778, \"#fb9f3a\"], [0.8888888888888888, \"#fdca26\"], [1.0, \"#f0f921\"]], \"type\": \"heatmapgl\"}], \"histogram\": [{\"marker\": {\"colorbar\": {\"outlinewidth\": 0, \"ticks\": \"\"}}, \"type\": \"histogram\"}], \"histogram2d\": [{\"colorbar\": {\"outlinewidth\": 0, \"ticks\": \"\"}, \"colorscale\": [[0.0, \"#0d0887\"], [0.1111111111111111, \"#46039f\"], [0.2222222222222222, \"#7201a8\"], [0.3333333333333333, \"#9c179e\"], [0.4444444444444444, \"#bd3786\"], [0.5555555555555556, \"#d8576b\"], [0.6666666666666666, \"#ed7953\"], [0.7777777777777778, \"#fb9f3a\"], [0.8888888888888888, \"#fdca26\"], [1.0, \"#f0f921\"]], \"type\": \"histogram2d\"}], \"histogram2dcontour\": [{\"colorbar\": {\"outlinewidth\": 0, \"ticks\": \"\"}, \"colorscale\": [[0.0, \"#0d0887\"], [0.1111111111111111, \"#46039f\"], [0.2222222222222222, \"#7201a8\"], [0.3333333333333333, \"#9c179e\"], [0.4444444444444444, \"#bd3786\"], [0.5555555555555556, \"#d8576b\"], [0.6666666666666666, \"#ed7953\"], [0.7777777777777778, \"#fb9f3a\"], [0.8888888888888888, \"#fdca26\"], [1.0, \"#f0f921\"]], \"type\": \"histogram2dcontour\"}], \"mesh3d\": [{\"colorbar\": {\"outlinewidth\": 0, \"ticks\": \"\"}, \"type\": \"mesh3d\"}], \"parcoords\": [{\"line\": {\"colorbar\": {\"outlinewidth\": 0, \"ticks\": \"\"}}, \"type\": \"parcoords\"}], \"scatter\": [{\"marker\": {\"line\": {\"color\": \"#283442\"}}, \"type\": \"scatter\"}], \"scatter3d\": [{\"line\": {\"colorbar\": {\"outlinewidth\": 0, \"ticks\": \"\"}}, \"marker\": {\"colorbar\": {\"outlinewidth\": 0, \"ticks\": \"\"}}, \"type\": \"scatter3d\"}], \"scattercarpet\": [{\"marker\": {\"colorbar\": {\"outlinewidth\": 0, \"ticks\": \"\"}}, \"type\": \"scattercarpet\"}], \"scattergeo\": [{\"marker\": {\"colorbar\": {\"outlinewidth\": 0, \"ticks\": \"\"}}, \"type\": \"scattergeo\"}], \"scattergl\": [{\"marker\": {\"line\": {\"color\": \"#283442\"}}, \"type\": \"scattergl\"}], \"scattermapbox\": [{\"marker\": {\"colorbar\": {\"outlinewidth\": 0, \"ticks\": \"\"}}, \"type\": \"scattermapbox\"}], \"scatterpolar\": [{\"marker\": {\"colorbar\": {\"outlinewidth\": 0, \"ticks\": \"\"}}, \"type\": \"scatterpolar\"}], \"scatterpolargl\": [{\"marker\": {\"colorbar\": {\"outlinewidth\": 0, \"ticks\": \"\"}}, \"type\": \"scatterpolargl\"}], \"scatterternary\": [{\"marker\": {\"colorbar\": {\"outlinewidth\": 0, \"ticks\": \"\"}}, \"type\": \"scatterternary\"}], \"surface\": [{\"colorbar\": {\"outlinewidth\": 0, \"ticks\": \"\"}, \"colorscale\": [[0.0, \"#0d0887\"], [0.1111111111111111, \"#46039f\"], [0.2222222222222222, \"#7201a8\"], [0.3333333333333333, \"#9c179e\"], [0.4444444444444444, \"#bd3786\"], [0.5555555555555556, \"#d8576b\"], [0.6666666666666666, \"#ed7953\"], [0.7777777777777778, \"#fb9f3a\"], [0.8888888888888888, \"#fdca26\"], [1.0, \"#f0f921\"]], \"type\": \"surface\"}], \"table\": [{\"cells\": {\"fill\": {\"color\": \"#506784\"}, \"line\": {\"color\": \"rgb(17,17,17)\"}}, \"header\": {\"fill\": {\"color\": \"#2a3f5f\"}, \"line\": {\"color\": \"rgb(17,17,17)\"}}, \"type\": \"table\"}]}, \"layout\": {\"annotationdefaults\": {\"arrowcolor\": \"#f2f5fa\", \"arrowhead\": 0, \"arrowwidth\": 1}, \"colorscale\": {\"diverging\": [[0, \"#8e0152\"], [0.1, \"#c51b7d\"], [0.2, \"#de77ae\"], [0.3, \"#f1b6da\"], [0.4, \"#fde0ef\"], [0.5, \"#f7f7f7\"], [0.6, \"#e6f5d0\"], [0.7, \"#b8e186\"], [0.8, \"#7fbc41\"], [0.9, \"#4d9221\"], [1, \"#276419\"]], \"sequential\": [[0.0, \"#0d0887\"], [0.1111111111111111, \"#46039f\"], [0.2222222222222222, \"#7201a8\"], [0.3333333333333333, \"#9c179e\"], [0.4444444444444444, \"#bd3786\"], [0.5555555555555556, \"#d8576b\"], [0.6666666666666666, \"#ed7953\"], [0.7777777777777778, \"#fb9f3a\"], [0.8888888888888888, \"#fdca26\"], [1.0, \"#f0f921\"]], \"sequentialminus\": [[0.0, \"#0d0887\"], [0.1111111111111111, \"#46039f\"], [0.2222222222222222, \"#7201a8\"], [0.3333333333333333, \"#9c179e\"], [0.4444444444444444, \"#bd3786\"], [0.5555555555555556, \"#d8576b\"], [0.6666666666666666, \"#ed7953\"], [0.7777777777777778, \"#fb9f3a\"], [0.8888888888888888, \"#fdca26\"], [1.0, \"#f0f921\"]]}, \"colorway\": [\"#636efa\", \"#EF553B\", \"#00cc96\", \"#ab63fa\", \"#FFA15A\", \"#19d3f3\", \"#FF6692\", \"#B6E880\", \"#FF97FF\", \"#FECB52\"], \"font\": {\"color\": \"#f2f5fa\"}, \"geo\": {\"bgcolor\": \"rgb(17,17,17)\", \"lakecolor\": \"rgb(17,17,17)\", \"landcolor\": \"rgb(17,17,17)\", \"showlakes\": true, \"showland\": true, \"subunitcolor\": \"#506784\"}, \"hoverlabel\": {\"align\": \"left\"}, \"hovermode\": \"closest\", \"mapbox\": {\"style\": \"dark\"}, \"paper_bgcolor\": \"rgb(17,17,17)\", \"plot_bgcolor\": \"rgb(17,17,17)\", \"polar\": {\"angularaxis\": {\"gridcolor\": \"#506784\", \"linecolor\": \"#506784\", \"ticks\": \"\"}, \"bgcolor\": \"rgb(17,17,17)\", \"radialaxis\": {\"gridcolor\": \"#506784\", \"linecolor\": \"#506784\", \"ticks\": \"\"}}, \"scene\": {\"xaxis\": {\"backgroundcolor\": \"rgb(17,17,17)\", \"gridcolor\": \"#506784\", \"gridwidth\": 2, \"linecolor\": \"#506784\", \"showbackground\": true, \"ticks\": \"\", \"zerolinecolor\": \"#C8D4E3\"}, \"yaxis\": {\"backgroundcolor\": \"rgb(17,17,17)\", \"gridcolor\": \"#506784\", \"gridwidth\": 2, \"linecolor\": \"#506784\", \"showbackground\": true, \"ticks\": \"\", \"zerolinecolor\": \"#C8D4E3\"}, \"zaxis\": {\"backgroundcolor\": \"rgb(17,17,17)\", \"gridcolor\": \"#506784\", \"gridwidth\": 2, \"linecolor\": \"#506784\", \"showbackground\": true, \"ticks\": \"\", \"zerolinecolor\": \"#C8D4E3\"}}, \"shapedefaults\": {\"line\": {\"color\": \"#f2f5fa\"}}, \"sliderdefaults\": {\"bgcolor\": \"#C8D4E3\", \"bordercolor\": \"rgb(17,17,17)\", \"borderwidth\": 1, \"tickwidth\": 0}, \"ternary\": {\"aaxis\": {\"gridcolor\": \"#506784\", \"linecolor\": \"#506784\", \"ticks\": \"\"}, \"baxis\": {\"gridcolor\": \"#506784\", \"linecolor\": \"#506784\", \"ticks\": \"\"}, \"bgcolor\": \"rgb(17,17,17)\", \"caxis\": {\"gridcolor\": \"#506784\", \"linecolor\": \"#506784\", \"ticks\": \"\"}}, \"title\": {\"x\": 0.05}, \"updatemenudefaults\": {\"bgcolor\": \"#506784\", \"borderwidth\": 0}, \"xaxis\": {\"automargin\": true, \"gridcolor\": \"#283442\", \"linecolor\": \"#506784\", \"ticks\": \"\", \"zerolinecolor\": \"#283442\", \"zerolinewidth\": 2}, \"yaxis\": {\"automargin\": true, \"gridcolor\": \"#283442\", \"linecolor\": \"#506784\", \"ticks\": \"\", \"zerolinecolor\": \"#283442\", \"zerolinewidth\": 2}}}, \"title\": {\"font\": {\"color\": \"Cyan\", \"size\": 12}, \"text\": \"<b>COVID19 MORTALITY RATE OF AFRICAN COUNTRIES/TERRITORIES: March 25, 2021</b>\", \"x\": 0.55, \"xanchor\": \"center\", \"y\": 0.93, \"yanchor\": \"top\"}, \"width\": 800, \"xaxis\": {\"title\": {\"font\": {\"color\": \"#BDBDBD\", \"size\": 18}, \"text\": \"<b>Mortality Rate(%)</b>\"}}, \"yaxis\": {\"tickprefix\": \"      \", \"title\": {\"font\": {\"color\": \"#BDBDBD\", \"size\": 18}, \"text\": \"<b>Country</b>\"}}},\n",
       "                        {\"responsive\": true}\n",
       "                    ).then(function(){\n",
       "                            \n",
       "var gd = document.getElementById('f5c47247-bc5b-4340-8050-ce9dbc50726e');\n",
       "var x = new MutationObserver(function (mutations, observer) {{\n",
       "        var display = window.getComputedStyle(gd).display;\n",
       "        if (!display || display === 'none') {{\n",
       "            console.log([gd, 'removed!']);\n",
       "            Plotly.purge(gd);\n",
       "            observer.disconnect();\n",
       "        }}\n",
       "}});\n",
       "\n",
       "// Listen for the removal of the full notebook cells\n",
       "var notebookContainer = gd.closest('#notebook-container');\n",
       "if (notebookContainer) {{\n",
       "    x.observe(notebookContainer, {childList: true});\n",
       "}}\n",
       "\n",
       "// Listen for the clearing of the current output cell\n",
       "var outputEl = gd.closest('.output');\n",
       "if (outputEl) {{\n",
       "    x.observe(outputEl, {childList: true});\n",
       "}}\n",
       "\n",
       "                        })\n",
       "                };\n",
       "                });\n",
       "            </script>\n",
       "        </div>"
      ]
     },
     "metadata": {},
     "output_type": "display_data"
    }
   ],
   "source": [
    "fig = go.Figure()\n",
    "\n",
    "fig.add_trace(go.Bar(y = african_mortality100['Country_Other'][::-1],x=african_mortality100['Mortality_Rate'][::-1],\n",
    "                     text=african_mortality100['Mortality_Rate'][::-1],textposition='outside',name = \"Afria\",marker_color='Crimson',orientation='h',                  \n",
    "))\n",
    "fig.update_layout(\n",
    "    template='plotly_dark',\n",
    "    title={\n",
    "        'text': '<b>COVID19 MORTALITY RATE OF AFRICAN COUNTRIES/TERRITORIES: ' + date_string +'</b>',\n",
    "        'y':0.93,\n",
    "        'x':0.55,\n",
    "        'xanchor': 'center',\n",
    "        'yanchor': 'top',\n",
    "        'font_color':'Cyan',\n",
    "        'font_size':12},\n",
    "    xaxis=dict(title='<b>Mortality Rate(%)</b>',titlefont_size=18, titlefont=dict(color='#BDBDBD')),\n",
    "    yaxis=dict(title='<b>Country</b>',titlefont_size=18, tickprefix=\"      \", titlefont=dict(color='#BDBDBD')),\n",
    "    autosize=False,\n",
    "    width=800,\n",
    "    height=1000,     \n",
    ")\n",
    "\n",
    "fig.show()"
   ]
  },
  {
   "cell_type": "markdown",
   "metadata": {},
   "source": [
    "[Return to top](#top)\n",
    "## New Cases of some African Countries"
   ]
  },
  {
   "cell_type": "code",
   "execution_count": 163,
   "metadata": {},
   "outputs": [],
   "source": [
    "countries_new_cases = pd.read_csv(\"../COVID19/World/NewCases/DailyCases\"+given_date+\".csv\")"
   ]
  },
  {
   "cell_type": "markdown",
   "metadata": {},
   "source": [
    "<a id='select_few'></a>"
   ]
  },
  {
   "cell_type": "markdown",
   "metadata": {},
   "source": [
    "### South Africa"
   ]
  },
  {
   "cell_type": "code",
   "execution_count": 164,
   "metadata": {},
   "outputs": [],
   "source": [
    "sa = countries_new_cases[countries_new_cases['Country_Other'] == 'South Africa']"
   ]
  },
  {
   "cell_type": "code",
   "execution_count": 165,
   "metadata": {},
   "outputs": [
    {
     "data": {
      "application/vnd.plotly.v1+json": {
       "config": {
        "plotlyServerURL": "https://plot.ly"
       },
       "data": [
        {
         "marker": {
          "color": "#FFAA1D"
         },
         "name": "South Africa",
         "text": [
          "792",
          "998",
          "1862",
          "1676",
          "1654",
          "1447",
          "1168",
          "566",
          "856",
          "1447",
          "1404",
          "1313",
          "1227",
          "862",
          "638",
          "991",
          "1477",
          "1474",
          "1225",
          "1541",
          "1006",
          "613",
          "933",
          "1531",
          "1464",
          "1462",
          "1378",
          "1051",
          "599",
          "510",
          "1048",
          "1554"
         ],
         "textposition": "outside",
         "type": "bar",
         "x": [
          "Feb-22-2021",
          "Feb-23-2021",
          "Feb-24-2021",
          "Feb-25-2021",
          "Feb-26-2021",
          "Feb-27-2021",
          "Feb-28-2021",
          "Mar-01-2021",
          "Mar-02-2021",
          "Mar-03-2021",
          "Mar-04-2021",
          "Mar-05-2021",
          "Mar-06-2021",
          "Mar-07-2021",
          "Mar-08-2021",
          "Mar-09-2021",
          "Mar-10-2021",
          "Mar-11-2021",
          "Mar-12-2021",
          "Mar-13-2021",
          "Mar-14-2021",
          "Mar-15-2021",
          "Mar-16-2021",
          "Mar-17-2021",
          "Mar-18-2021",
          "Mar-19-2021",
          "Mar-20-2021",
          "Mar-21-2021",
          "Mar-22-2021",
          "Mar-23-2021",
          "Mar-24-2021",
          "Mar-25-2021"
         ],
         "y": [
          792,
          998,
          1862,
          1676,
          1654,
          1447,
          1168,
          566,
          856,
          1447,
          1404,
          1313,
          1227,
          862,
          638,
          991,
          1477,
          1474,
          1225,
          1541,
          1006,
          613,
          933,
          1531,
          1464,
          1462,
          1378,
          1051,
          599,
          510,
          1048,
          1554
         ]
        }
       ],
       "layout": {
        "template": {
         "data": {
          "bar": [
           {
            "error_x": {
             "color": "#2a3f5f"
            },
            "error_y": {
             "color": "#2a3f5f"
            },
            "marker": {
             "line": {
              "color": "#E5ECF6",
              "width": 0.5
             }
            },
            "type": "bar"
           }
          ],
          "barpolar": [
           {
            "marker": {
             "line": {
              "color": "#E5ECF6",
              "width": 0.5
             }
            },
            "type": "barpolar"
           }
          ],
          "carpet": [
           {
            "aaxis": {
             "endlinecolor": "#2a3f5f",
             "gridcolor": "white",
             "linecolor": "white",
             "minorgridcolor": "white",
             "startlinecolor": "#2a3f5f"
            },
            "baxis": {
             "endlinecolor": "#2a3f5f",
             "gridcolor": "white",
             "linecolor": "white",
             "minorgridcolor": "white",
             "startlinecolor": "#2a3f5f"
            },
            "type": "carpet"
           }
          ],
          "choropleth": [
           {
            "colorbar": {
             "outlinewidth": 0,
             "ticks": ""
            },
            "type": "choropleth"
           }
          ],
          "contour": [
           {
            "colorbar": {
             "outlinewidth": 0,
             "ticks": ""
            },
            "colorscale": [
             [
              0,
              "#0d0887"
             ],
             [
              0.1111111111111111,
              "#46039f"
             ],
             [
              0.2222222222222222,
              "#7201a8"
             ],
             [
              0.3333333333333333,
              "#9c179e"
             ],
             [
              0.4444444444444444,
              "#bd3786"
             ],
             [
              0.5555555555555556,
              "#d8576b"
             ],
             [
              0.6666666666666666,
              "#ed7953"
             ],
             [
              0.7777777777777778,
              "#fb9f3a"
             ],
             [
              0.8888888888888888,
              "#fdca26"
             ],
             [
              1,
              "#f0f921"
             ]
            ],
            "type": "contour"
           }
          ],
          "contourcarpet": [
           {
            "colorbar": {
             "outlinewidth": 0,
             "ticks": ""
            },
            "type": "contourcarpet"
           }
          ],
          "heatmap": [
           {
            "colorbar": {
             "outlinewidth": 0,
             "ticks": ""
            },
            "colorscale": [
             [
              0,
              "#0d0887"
             ],
             [
              0.1111111111111111,
              "#46039f"
             ],
             [
              0.2222222222222222,
              "#7201a8"
             ],
             [
              0.3333333333333333,
              "#9c179e"
             ],
             [
              0.4444444444444444,
              "#bd3786"
             ],
             [
              0.5555555555555556,
              "#d8576b"
             ],
             [
              0.6666666666666666,
              "#ed7953"
             ],
             [
              0.7777777777777778,
              "#fb9f3a"
             ],
             [
              0.8888888888888888,
              "#fdca26"
             ],
             [
              1,
              "#f0f921"
             ]
            ],
            "type": "heatmap"
           }
          ],
          "heatmapgl": [
           {
            "colorbar": {
             "outlinewidth": 0,
             "ticks": ""
            },
            "colorscale": [
             [
              0,
              "#0d0887"
             ],
             [
              0.1111111111111111,
              "#46039f"
             ],
             [
              0.2222222222222222,
              "#7201a8"
             ],
             [
              0.3333333333333333,
              "#9c179e"
             ],
             [
              0.4444444444444444,
              "#bd3786"
             ],
             [
              0.5555555555555556,
              "#d8576b"
             ],
             [
              0.6666666666666666,
              "#ed7953"
             ],
             [
              0.7777777777777778,
              "#fb9f3a"
             ],
             [
              0.8888888888888888,
              "#fdca26"
             ],
             [
              1,
              "#f0f921"
             ]
            ],
            "type": "heatmapgl"
           }
          ],
          "histogram": [
           {
            "marker": {
             "colorbar": {
              "outlinewidth": 0,
              "ticks": ""
             }
            },
            "type": "histogram"
           }
          ],
          "histogram2d": [
           {
            "colorbar": {
             "outlinewidth": 0,
             "ticks": ""
            },
            "colorscale": [
             [
              0,
              "#0d0887"
             ],
             [
              0.1111111111111111,
              "#46039f"
             ],
             [
              0.2222222222222222,
              "#7201a8"
             ],
             [
              0.3333333333333333,
              "#9c179e"
             ],
             [
              0.4444444444444444,
              "#bd3786"
             ],
             [
              0.5555555555555556,
              "#d8576b"
             ],
             [
              0.6666666666666666,
              "#ed7953"
             ],
             [
              0.7777777777777778,
              "#fb9f3a"
             ],
             [
              0.8888888888888888,
              "#fdca26"
             ],
             [
              1,
              "#f0f921"
             ]
            ],
            "type": "histogram2d"
           }
          ],
          "histogram2dcontour": [
           {
            "colorbar": {
             "outlinewidth": 0,
             "ticks": ""
            },
            "colorscale": [
             [
              0,
              "#0d0887"
             ],
             [
              0.1111111111111111,
              "#46039f"
             ],
             [
              0.2222222222222222,
              "#7201a8"
             ],
             [
              0.3333333333333333,
              "#9c179e"
             ],
             [
              0.4444444444444444,
              "#bd3786"
             ],
             [
              0.5555555555555556,
              "#d8576b"
             ],
             [
              0.6666666666666666,
              "#ed7953"
             ],
             [
              0.7777777777777778,
              "#fb9f3a"
             ],
             [
              0.8888888888888888,
              "#fdca26"
             ],
             [
              1,
              "#f0f921"
             ]
            ],
            "type": "histogram2dcontour"
           }
          ],
          "mesh3d": [
           {
            "colorbar": {
             "outlinewidth": 0,
             "ticks": ""
            },
            "type": "mesh3d"
           }
          ],
          "parcoords": [
           {
            "line": {
             "colorbar": {
              "outlinewidth": 0,
              "ticks": ""
             }
            },
            "type": "parcoords"
           }
          ],
          "scatter": [
           {
            "marker": {
             "colorbar": {
              "outlinewidth": 0,
              "ticks": ""
             }
            },
            "type": "scatter"
           }
          ],
          "scatter3d": [
           {
            "line": {
             "colorbar": {
              "outlinewidth": 0,
              "ticks": ""
             }
            },
            "marker": {
             "colorbar": {
              "outlinewidth": 0,
              "ticks": ""
             }
            },
            "type": "scatter3d"
           }
          ],
          "scattercarpet": [
           {
            "marker": {
             "colorbar": {
              "outlinewidth": 0,
              "ticks": ""
             }
            },
            "type": "scattercarpet"
           }
          ],
          "scattergeo": [
           {
            "marker": {
             "colorbar": {
              "outlinewidth": 0,
              "ticks": ""
             }
            },
            "type": "scattergeo"
           }
          ],
          "scattergl": [
           {
            "marker": {
             "colorbar": {
              "outlinewidth": 0,
              "ticks": ""
             }
            },
            "type": "scattergl"
           }
          ],
          "scattermapbox": [
           {
            "marker": {
             "colorbar": {
              "outlinewidth": 0,
              "ticks": ""
             }
            },
            "type": "scattermapbox"
           }
          ],
          "scatterpolar": [
           {
            "marker": {
             "colorbar": {
              "outlinewidth": 0,
              "ticks": ""
             }
            },
            "type": "scatterpolar"
           }
          ],
          "scatterpolargl": [
           {
            "marker": {
             "colorbar": {
              "outlinewidth": 0,
              "ticks": ""
             }
            },
            "type": "scatterpolargl"
           }
          ],
          "scatterternary": [
           {
            "marker": {
             "colorbar": {
              "outlinewidth": 0,
              "ticks": ""
             }
            },
            "type": "scatterternary"
           }
          ],
          "surface": [
           {
            "colorbar": {
             "outlinewidth": 0,
             "ticks": ""
            },
            "colorscale": [
             [
              0,
              "#0d0887"
             ],
             [
              0.1111111111111111,
              "#46039f"
             ],
             [
              0.2222222222222222,
              "#7201a8"
             ],
             [
              0.3333333333333333,
              "#9c179e"
             ],
             [
              0.4444444444444444,
              "#bd3786"
             ],
             [
              0.5555555555555556,
              "#d8576b"
             ],
             [
              0.6666666666666666,
              "#ed7953"
             ],
             [
              0.7777777777777778,
              "#fb9f3a"
             ],
             [
              0.8888888888888888,
              "#fdca26"
             ],
             [
              1,
              "#f0f921"
             ]
            ],
            "type": "surface"
           }
          ],
          "table": [
           {
            "cells": {
             "fill": {
              "color": "#EBF0F8"
             },
             "line": {
              "color": "white"
             }
            },
            "header": {
             "fill": {
              "color": "#C8D4E3"
             },
             "line": {
              "color": "white"
             }
            },
            "type": "table"
           }
          ]
         },
         "layout": {
          "annotationdefaults": {
           "arrowcolor": "#2a3f5f",
           "arrowhead": 0,
           "arrowwidth": 1
          },
          "colorscale": {
           "diverging": [
            [
             0,
             "#8e0152"
            ],
            [
             0.1,
             "#c51b7d"
            ],
            [
             0.2,
             "#de77ae"
            ],
            [
             0.3,
             "#f1b6da"
            ],
            [
             0.4,
             "#fde0ef"
            ],
            [
             0.5,
             "#f7f7f7"
            ],
            [
             0.6,
             "#e6f5d0"
            ],
            [
             0.7,
             "#b8e186"
            ],
            [
             0.8,
             "#7fbc41"
            ],
            [
             0.9,
             "#4d9221"
            ],
            [
             1,
             "#276419"
            ]
           ],
           "sequential": [
            [
             0,
             "#0d0887"
            ],
            [
             0.1111111111111111,
             "#46039f"
            ],
            [
             0.2222222222222222,
             "#7201a8"
            ],
            [
             0.3333333333333333,
             "#9c179e"
            ],
            [
             0.4444444444444444,
             "#bd3786"
            ],
            [
             0.5555555555555556,
             "#d8576b"
            ],
            [
             0.6666666666666666,
             "#ed7953"
            ],
            [
             0.7777777777777778,
             "#fb9f3a"
            ],
            [
             0.8888888888888888,
             "#fdca26"
            ],
            [
             1,
             "#f0f921"
            ]
           ],
           "sequentialminus": [
            [
             0,
             "#0d0887"
            ],
            [
             0.1111111111111111,
             "#46039f"
            ],
            [
             0.2222222222222222,
             "#7201a8"
            ],
            [
             0.3333333333333333,
             "#9c179e"
            ],
            [
             0.4444444444444444,
             "#bd3786"
            ],
            [
             0.5555555555555556,
             "#d8576b"
            ],
            [
             0.6666666666666666,
             "#ed7953"
            ],
            [
             0.7777777777777778,
             "#fb9f3a"
            ],
            [
             0.8888888888888888,
             "#fdca26"
            ],
            [
             1,
             "#f0f921"
            ]
           ]
          },
          "colorway": [
           "#636efa",
           "#EF553B",
           "#00cc96",
           "#ab63fa",
           "#FFA15A",
           "#19d3f3",
           "#FF6692",
           "#B6E880",
           "#FF97FF",
           "#FECB52"
          ],
          "font": {
           "color": "#2a3f5f"
          },
          "geo": {
           "bgcolor": "white",
           "lakecolor": "white",
           "landcolor": "#E5ECF6",
           "showlakes": true,
           "showland": true,
           "subunitcolor": "white"
          },
          "hoverlabel": {
           "align": "left"
          },
          "hovermode": "closest",
          "mapbox": {
           "style": "light"
          },
          "paper_bgcolor": "white",
          "plot_bgcolor": "#E5ECF6",
          "polar": {
           "angularaxis": {
            "gridcolor": "white",
            "linecolor": "white",
            "ticks": ""
           },
           "bgcolor": "#E5ECF6",
           "radialaxis": {
            "gridcolor": "white",
            "linecolor": "white",
            "ticks": ""
           }
          },
          "scene": {
           "xaxis": {
            "backgroundcolor": "#E5ECF6",
            "gridcolor": "white",
            "gridwidth": 2,
            "linecolor": "white",
            "showbackground": true,
            "ticks": "",
            "zerolinecolor": "white"
           },
           "yaxis": {
            "backgroundcolor": "#E5ECF6",
            "gridcolor": "white",
            "gridwidth": 2,
            "linecolor": "white",
            "showbackground": true,
            "ticks": "",
            "zerolinecolor": "white"
           },
           "zaxis": {
            "backgroundcolor": "#E5ECF6",
            "gridcolor": "white",
            "gridwidth": 2,
            "linecolor": "white",
            "showbackground": true,
            "ticks": "",
            "zerolinecolor": "white"
           }
          },
          "shapedefaults": {
           "line": {
            "color": "#2a3f5f"
           }
          },
          "ternary": {
           "aaxis": {
            "gridcolor": "white",
            "linecolor": "white",
            "ticks": ""
           },
           "baxis": {
            "gridcolor": "white",
            "linecolor": "white",
            "ticks": ""
           },
           "bgcolor": "#E5ECF6",
           "caxis": {
            "gridcolor": "white",
            "linecolor": "white",
            "ticks": ""
           }
          },
          "title": {
           "x": 0.05
          },
          "xaxis": {
           "automargin": true,
           "gridcolor": "white",
           "linecolor": "white",
           "ticks": "",
           "zerolinecolor": "white",
           "zerolinewidth": 2
          },
          "yaxis": {
           "automargin": true,
           "gridcolor": "white",
           "linecolor": "white",
           "ticks": "",
           "zerolinecolor": "white",
           "zerolinewidth": 2
          }
         }
        },
        "title": {
         "text": "SOUTH AFRICA - COVID19 NEW CASES",
         "x": 0.5,
         "xanchor": "center",
         "y": 0.9,
         "yanchor": "top"
        },
        "xaxis": {
         "tickangle": 90,
         "title": {
          "font": {
           "color": "#BDBDBD",
           "size": 18
          },
          "text": "<b>Date</b>"
         }
        },
        "yaxis": {
         "title": {
          "font": {
           "size": 18
          },
          "text": "<b>New Cases</b>"
         }
        }
       }
      },
      "text/html": [
       "<div>\n",
       "        \n",
       "        \n",
       "            <div id=\"ca210811-ce13-4f98-8574-2900b323927e\" class=\"plotly-graph-div\" style=\"height:525px; width:100%;\"></div>\n",
       "            <script type=\"text/javascript\">\n",
       "                require([\"plotly\"], function(Plotly) {\n",
       "                    window.PLOTLYENV=window.PLOTLYENV || {};\n",
       "                    \n",
       "                if (document.getElementById(\"ca210811-ce13-4f98-8574-2900b323927e\")) {\n",
       "                    Plotly.newPlot(\n",
       "                        'ca210811-ce13-4f98-8574-2900b323927e',\n",
       "                        [{\"marker\": {\"color\": \"#FFAA1D\"}, \"name\": \"South Africa\", \"text\": [\"792\", \"998\", \"1862\", \"1676\", \"1654\", \"1447\", \"1168\", \"566\", \"856\", \"1447\", \"1404\", \"1313\", \"1227\", \"862\", \"638\", \"991\", \"1477\", \"1474\", \"1225\", \"1541\", \"1006\", \"613\", \"933\", \"1531\", \"1464\", \"1462\", \"1378\", \"1051\", \"599\", \"510\", \"1048\", \"1554\"], \"textposition\": \"outside\", \"type\": \"bar\", \"x\": [\"Feb-22-2021\", \"Feb-23-2021\", \"Feb-24-2021\", \"Feb-25-2021\", \"Feb-26-2021\", \"Feb-27-2021\", \"Feb-28-2021\", \"Mar-01-2021\", \"Mar-02-2021\", \"Mar-03-2021\", \"Mar-04-2021\", \"Mar-05-2021\", \"Mar-06-2021\", \"Mar-07-2021\", \"Mar-08-2021\", \"Mar-09-2021\", \"Mar-10-2021\", \"Mar-11-2021\", \"Mar-12-2021\", \"Mar-13-2021\", \"Mar-14-2021\", \"Mar-15-2021\", \"Mar-16-2021\", \"Mar-17-2021\", \"Mar-18-2021\", \"Mar-19-2021\", \"Mar-20-2021\", \"Mar-21-2021\", \"Mar-22-2021\", \"Mar-23-2021\", \"Mar-24-2021\", \"Mar-25-2021\"], \"y\": [792, 998, 1862, 1676, 1654, 1447, 1168, 566, 856, 1447, 1404, 1313, 1227, 862, 638, 991, 1477, 1474, 1225, 1541, 1006, 613, 933, 1531, 1464, 1462, 1378, 1051, 599, 510, 1048, 1554]}],\n",
       "                        {\"template\": {\"data\": {\"bar\": [{\"error_x\": {\"color\": \"#2a3f5f\"}, \"error_y\": {\"color\": \"#2a3f5f\"}, \"marker\": {\"line\": {\"color\": \"#E5ECF6\", \"width\": 0.5}}, \"type\": \"bar\"}], \"barpolar\": [{\"marker\": {\"line\": {\"color\": \"#E5ECF6\", \"width\": 0.5}}, \"type\": \"barpolar\"}], \"carpet\": [{\"aaxis\": {\"endlinecolor\": \"#2a3f5f\", \"gridcolor\": \"white\", \"linecolor\": \"white\", \"minorgridcolor\": \"white\", \"startlinecolor\": \"#2a3f5f\"}, \"baxis\": {\"endlinecolor\": \"#2a3f5f\", \"gridcolor\": \"white\", \"linecolor\": \"white\", \"minorgridcolor\": \"white\", \"startlinecolor\": \"#2a3f5f\"}, \"type\": \"carpet\"}], \"choropleth\": [{\"colorbar\": {\"outlinewidth\": 0, \"ticks\": \"\"}, \"type\": \"choropleth\"}], \"contour\": [{\"colorbar\": {\"outlinewidth\": 0, \"ticks\": \"\"}, \"colorscale\": [[0.0, \"#0d0887\"], [0.1111111111111111, \"#46039f\"], [0.2222222222222222, \"#7201a8\"], [0.3333333333333333, \"#9c179e\"], [0.4444444444444444, \"#bd3786\"], [0.5555555555555556, \"#d8576b\"], [0.6666666666666666, \"#ed7953\"], [0.7777777777777778, \"#fb9f3a\"], [0.8888888888888888, \"#fdca26\"], [1.0, \"#f0f921\"]], \"type\": \"contour\"}], \"contourcarpet\": [{\"colorbar\": {\"outlinewidth\": 0, \"ticks\": \"\"}, \"type\": \"contourcarpet\"}], \"heatmap\": [{\"colorbar\": {\"outlinewidth\": 0, \"ticks\": \"\"}, \"colorscale\": [[0.0, \"#0d0887\"], [0.1111111111111111, \"#46039f\"], [0.2222222222222222, \"#7201a8\"], [0.3333333333333333, \"#9c179e\"], [0.4444444444444444, \"#bd3786\"], [0.5555555555555556, \"#d8576b\"], [0.6666666666666666, \"#ed7953\"], [0.7777777777777778, \"#fb9f3a\"], [0.8888888888888888, \"#fdca26\"], [1.0, \"#f0f921\"]], \"type\": \"heatmap\"}], \"heatmapgl\": [{\"colorbar\": {\"outlinewidth\": 0, \"ticks\": \"\"}, \"colorscale\": [[0.0, \"#0d0887\"], [0.1111111111111111, \"#46039f\"], [0.2222222222222222, \"#7201a8\"], [0.3333333333333333, \"#9c179e\"], [0.4444444444444444, \"#bd3786\"], [0.5555555555555556, \"#d8576b\"], [0.6666666666666666, \"#ed7953\"], [0.7777777777777778, \"#fb9f3a\"], [0.8888888888888888, \"#fdca26\"], [1.0, \"#f0f921\"]], \"type\": \"heatmapgl\"}], \"histogram\": [{\"marker\": {\"colorbar\": {\"outlinewidth\": 0, \"ticks\": \"\"}}, \"type\": \"histogram\"}], \"histogram2d\": [{\"colorbar\": {\"outlinewidth\": 0, \"ticks\": \"\"}, \"colorscale\": [[0.0, \"#0d0887\"], [0.1111111111111111, \"#46039f\"], [0.2222222222222222, \"#7201a8\"], [0.3333333333333333, \"#9c179e\"], [0.4444444444444444, \"#bd3786\"], [0.5555555555555556, \"#d8576b\"], [0.6666666666666666, \"#ed7953\"], [0.7777777777777778, \"#fb9f3a\"], [0.8888888888888888, \"#fdca26\"], [1.0, \"#f0f921\"]], \"type\": \"histogram2d\"}], \"histogram2dcontour\": [{\"colorbar\": {\"outlinewidth\": 0, \"ticks\": \"\"}, \"colorscale\": [[0.0, \"#0d0887\"], [0.1111111111111111, \"#46039f\"], [0.2222222222222222, \"#7201a8\"], [0.3333333333333333, \"#9c179e\"], [0.4444444444444444, \"#bd3786\"], [0.5555555555555556, \"#d8576b\"], [0.6666666666666666, \"#ed7953\"], [0.7777777777777778, \"#fb9f3a\"], [0.8888888888888888, \"#fdca26\"], [1.0, \"#f0f921\"]], \"type\": \"histogram2dcontour\"}], \"mesh3d\": [{\"colorbar\": {\"outlinewidth\": 0, \"ticks\": \"\"}, \"type\": \"mesh3d\"}], \"parcoords\": [{\"line\": {\"colorbar\": {\"outlinewidth\": 0, \"ticks\": \"\"}}, \"type\": \"parcoords\"}], \"scatter\": [{\"marker\": {\"colorbar\": {\"outlinewidth\": 0, \"ticks\": \"\"}}, \"type\": \"scatter\"}], \"scatter3d\": [{\"line\": {\"colorbar\": {\"outlinewidth\": 0, \"ticks\": \"\"}}, \"marker\": {\"colorbar\": {\"outlinewidth\": 0, \"ticks\": \"\"}}, \"type\": \"scatter3d\"}], \"scattercarpet\": [{\"marker\": {\"colorbar\": {\"outlinewidth\": 0, \"ticks\": \"\"}}, \"type\": \"scattercarpet\"}], \"scattergeo\": [{\"marker\": {\"colorbar\": {\"outlinewidth\": 0, \"ticks\": \"\"}}, \"type\": \"scattergeo\"}], \"scattergl\": [{\"marker\": {\"colorbar\": {\"outlinewidth\": 0, \"ticks\": \"\"}}, \"type\": \"scattergl\"}], \"scattermapbox\": [{\"marker\": {\"colorbar\": {\"outlinewidth\": 0, \"ticks\": \"\"}}, \"type\": \"scattermapbox\"}], \"scatterpolar\": [{\"marker\": {\"colorbar\": {\"outlinewidth\": 0, \"ticks\": \"\"}}, \"type\": \"scatterpolar\"}], \"scatterpolargl\": [{\"marker\": {\"colorbar\": {\"outlinewidth\": 0, \"ticks\": \"\"}}, \"type\": \"scatterpolargl\"}], \"scatterternary\": [{\"marker\": {\"colorbar\": {\"outlinewidth\": 0, \"ticks\": \"\"}}, \"type\": \"scatterternary\"}], \"surface\": [{\"colorbar\": {\"outlinewidth\": 0, \"ticks\": \"\"}, \"colorscale\": [[0.0, \"#0d0887\"], [0.1111111111111111, \"#46039f\"], [0.2222222222222222, \"#7201a8\"], [0.3333333333333333, \"#9c179e\"], [0.4444444444444444, \"#bd3786\"], [0.5555555555555556, \"#d8576b\"], [0.6666666666666666, \"#ed7953\"], [0.7777777777777778, \"#fb9f3a\"], [0.8888888888888888, \"#fdca26\"], [1.0, \"#f0f921\"]], \"type\": \"surface\"}], \"table\": [{\"cells\": {\"fill\": {\"color\": \"#EBF0F8\"}, \"line\": {\"color\": \"white\"}}, \"header\": {\"fill\": {\"color\": \"#C8D4E3\"}, \"line\": {\"color\": \"white\"}}, \"type\": \"table\"}]}, \"layout\": {\"annotationdefaults\": {\"arrowcolor\": \"#2a3f5f\", \"arrowhead\": 0, \"arrowwidth\": 1}, \"colorscale\": {\"diverging\": [[0, \"#8e0152\"], [0.1, \"#c51b7d\"], [0.2, \"#de77ae\"], [0.3, \"#f1b6da\"], [0.4, \"#fde0ef\"], [0.5, \"#f7f7f7\"], [0.6, \"#e6f5d0\"], [0.7, \"#b8e186\"], [0.8, \"#7fbc41\"], [0.9, \"#4d9221\"], [1, \"#276419\"]], \"sequential\": [[0.0, \"#0d0887\"], [0.1111111111111111, \"#46039f\"], [0.2222222222222222, \"#7201a8\"], [0.3333333333333333, \"#9c179e\"], [0.4444444444444444, \"#bd3786\"], [0.5555555555555556, \"#d8576b\"], [0.6666666666666666, \"#ed7953\"], [0.7777777777777778, \"#fb9f3a\"], [0.8888888888888888, \"#fdca26\"], [1.0, \"#f0f921\"]], \"sequentialminus\": [[0.0, \"#0d0887\"], [0.1111111111111111, \"#46039f\"], [0.2222222222222222, \"#7201a8\"], [0.3333333333333333, \"#9c179e\"], [0.4444444444444444, \"#bd3786\"], [0.5555555555555556, \"#d8576b\"], [0.6666666666666666, \"#ed7953\"], [0.7777777777777778, \"#fb9f3a\"], [0.8888888888888888, \"#fdca26\"], [1.0, \"#f0f921\"]]}, \"colorway\": [\"#636efa\", \"#EF553B\", \"#00cc96\", \"#ab63fa\", \"#FFA15A\", \"#19d3f3\", \"#FF6692\", \"#B6E880\", \"#FF97FF\", \"#FECB52\"], \"font\": {\"color\": \"#2a3f5f\"}, \"geo\": {\"bgcolor\": \"white\", \"lakecolor\": \"white\", \"landcolor\": \"#E5ECF6\", \"showlakes\": true, \"showland\": true, \"subunitcolor\": \"white\"}, \"hoverlabel\": {\"align\": \"left\"}, \"hovermode\": \"closest\", \"mapbox\": {\"style\": \"light\"}, \"paper_bgcolor\": \"white\", \"plot_bgcolor\": \"#E5ECF6\", \"polar\": {\"angularaxis\": {\"gridcolor\": \"white\", \"linecolor\": \"white\", \"ticks\": \"\"}, \"bgcolor\": \"#E5ECF6\", \"radialaxis\": {\"gridcolor\": \"white\", \"linecolor\": \"white\", \"ticks\": \"\"}}, \"scene\": {\"xaxis\": {\"backgroundcolor\": \"#E5ECF6\", \"gridcolor\": \"white\", \"gridwidth\": 2, \"linecolor\": \"white\", \"showbackground\": true, \"ticks\": \"\", \"zerolinecolor\": \"white\"}, \"yaxis\": {\"backgroundcolor\": \"#E5ECF6\", \"gridcolor\": \"white\", \"gridwidth\": 2, \"linecolor\": \"white\", \"showbackground\": true, \"ticks\": \"\", \"zerolinecolor\": \"white\"}, \"zaxis\": {\"backgroundcolor\": \"#E5ECF6\", \"gridcolor\": \"white\", \"gridwidth\": 2, \"linecolor\": \"white\", \"showbackground\": true, \"ticks\": \"\", \"zerolinecolor\": \"white\"}}, \"shapedefaults\": {\"line\": {\"color\": \"#2a3f5f\"}}, \"ternary\": {\"aaxis\": {\"gridcolor\": \"white\", \"linecolor\": \"white\", \"ticks\": \"\"}, \"baxis\": {\"gridcolor\": \"white\", \"linecolor\": \"white\", \"ticks\": \"\"}, \"bgcolor\": \"#E5ECF6\", \"caxis\": {\"gridcolor\": \"white\", \"linecolor\": \"white\", \"ticks\": \"\"}}, \"title\": {\"x\": 0.05}, \"xaxis\": {\"automargin\": true, \"gridcolor\": \"white\", \"linecolor\": \"white\", \"ticks\": \"\", \"zerolinecolor\": \"white\", \"zerolinewidth\": 2}, \"yaxis\": {\"automargin\": true, \"gridcolor\": \"white\", \"linecolor\": \"white\", \"ticks\": \"\", \"zerolinecolor\": \"white\", \"zerolinewidth\": 2}}}, \"title\": {\"text\": \"SOUTH AFRICA - COVID19 NEW CASES\", \"x\": 0.5, \"xanchor\": \"center\", \"y\": 0.9, \"yanchor\": \"top\"}, \"xaxis\": {\"tickangle\": 90, \"title\": {\"font\": {\"color\": \"#BDBDBD\", \"size\": 18}, \"text\": \"<b>Date</b>\"}}, \"yaxis\": {\"title\": {\"font\": {\"size\": 18}, \"text\": \"<b>New Cases</b>\"}}},\n",
       "                        {\"responsive\": true}\n",
       "                    ).then(function(){\n",
       "                            \n",
       "var gd = document.getElementById('ca210811-ce13-4f98-8574-2900b323927e');\n",
       "var x = new MutationObserver(function (mutations, observer) {{\n",
       "        var display = window.getComputedStyle(gd).display;\n",
       "        if (!display || display === 'none') {{\n",
       "            console.log([gd, 'removed!']);\n",
       "            Plotly.purge(gd);\n",
       "            observer.disconnect();\n",
       "        }}\n",
       "}});\n",
       "\n",
       "// Listen for the removal of the full notebook cells\n",
       "var notebookContainer = gd.closest('#notebook-container');\n",
       "if (notebookContainer) {{\n",
       "    x.observe(notebookContainer, {childList: true});\n",
       "}}\n",
       "\n",
       "// Listen for the clearing of the current output cell\n",
       "var outputEl = gd.closest('.output');\n",
       "if (outputEl) {{\n",
       "    x.observe(outputEl, {childList: true});\n",
       "}}\n",
       "\n",
       "                        })\n",
       "                };\n",
       "                });\n",
       "            </script>\n",
       "        </div>"
      ]
     },
     "metadata": {},
     "output_type": "display_data"
    }
   ],
   "source": [
    "fig = go.Figure()\n",
    "\n",
    "sa_total_per_day = []\n",
    "for date in dates:    \n",
    "    total = sa[date].str.replace('+','').fillna(0).str.replace(',','').fillna(0).astype(int)\n",
    "    sa_total_per_day.append(int(total))\n",
    "    \n",
    "fig.add_trace(go.Bar(x=format_date(dates[-32:]),  y = sa_total_per_day[-32:],text=sa_total_per_day[-32:],textposition='outside',name = \"South Africa\",marker_color='#FFAA1D'))\n",
    "fig.update_layout(\n",
    "    title={\n",
    "        'text': \"SOUTH AFRICA - COVID19 NEW CASES\",\n",
    "        'y':0.9,\n",
    "        'x':0.5,\n",
    "        'xanchor': 'center',\n",
    "        'yanchor': 'top'},\n",
    "    xaxis=dict(title='<b>Date</b>',titlefont_size=18, titlefont=dict(color='#BDBDBD')),\n",
    "    yaxis=dict(title='<b>New Cases</b>',titlefont_size=18),\n",
    "    xaxis_tickangle=90,\n",
    ")\n",
    "\n",
    "fig.show()"
   ]
  },
  {
   "cell_type": "markdown",
   "metadata": {},
   "source": [
    "### Nigeria"
   ]
  },
  {
   "cell_type": "code",
   "execution_count": 166,
   "metadata": {},
   "outputs": [],
   "source": [
    "ngr = countries_new_cases[countries_new_cases['Country_Other'] == 'Nigeria']"
   ]
  },
  {
   "cell_type": "code",
   "execution_count": 167,
   "metadata": {},
   "outputs": [
    {
     "data": {
      "application/vnd.plotly.v1+json": {
       "config": {
        "plotlyServerURL": "https://plot.ly"
       },
       "data": [
        {
         "marker": {
          "color": "#FFAA1D"
         },
         "name": "South Africa",
         "text": [
          "542",
          "571",
          "655",
          "634",
          "600",
          "341",
          "240",
          "360",
          "479",
          "464",
          "711",
          "371",
          "195",
          "269",
          "400",
          "346",
          "394",
          "287",
          "399",
          "205",
          "120",
          "238",
          "179",
          "187",
          "135",
          "130",
          "112",
          "86",
          "131",
          "208",
          "102",
          "97"
         ],
         "textposition": "outside",
         "type": "bar",
         "x": [
          "Feb-22-2021",
          "Feb-23-2021",
          "Feb-24-2021",
          "Feb-25-2021",
          "Feb-26-2021",
          "Feb-27-2021",
          "Feb-28-2021",
          "Mar-01-2021",
          "Mar-02-2021",
          "Mar-03-2021",
          "Mar-04-2021",
          "Mar-05-2021",
          "Mar-06-2021",
          "Mar-07-2021",
          "Mar-08-2021",
          "Mar-09-2021",
          "Mar-10-2021",
          "Mar-11-2021",
          "Mar-12-2021",
          "Mar-13-2021",
          "Mar-14-2021",
          "Mar-15-2021",
          "Mar-16-2021",
          "Mar-17-2021",
          "Mar-18-2021",
          "Mar-19-2021",
          "Mar-20-2021",
          "Mar-21-2021",
          "Mar-22-2021",
          "Mar-23-2021",
          "Mar-24-2021",
          "Mar-25-2021"
         ],
         "y": [
          542,
          571,
          655,
          634,
          600,
          341,
          240,
          360,
          479,
          464,
          711,
          371,
          195,
          269,
          400,
          346,
          394,
          287,
          399,
          205,
          120,
          238,
          179,
          187,
          135,
          130,
          112,
          86,
          131,
          208,
          102,
          97
         ]
        }
       ],
       "layout": {
        "template": {
         "data": {
          "bar": [
           {
            "error_x": {
             "color": "#2a3f5f"
            },
            "error_y": {
             "color": "#2a3f5f"
            },
            "marker": {
             "line": {
              "color": "#E5ECF6",
              "width": 0.5
             }
            },
            "type": "bar"
           }
          ],
          "barpolar": [
           {
            "marker": {
             "line": {
              "color": "#E5ECF6",
              "width": 0.5
             }
            },
            "type": "barpolar"
           }
          ],
          "carpet": [
           {
            "aaxis": {
             "endlinecolor": "#2a3f5f",
             "gridcolor": "white",
             "linecolor": "white",
             "minorgridcolor": "white",
             "startlinecolor": "#2a3f5f"
            },
            "baxis": {
             "endlinecolor": "#2a3f5f",
             "gridcolor": "white",
             "linecolor": "white",
             "minorgridcolor": "white",
             "startlinecolor": "#2a3f5f"
            },
            "type": "carpet"
           }
          ],
          "choropleth": [
           {
            "colorbar": {
             "outlinewidth": 0,
             "ticks": ""
            },
            "type": "choropleth"
           }
          ],
          "contour": [
           {
            "colorbar": {
             "outlinewidth": 0,
             "ticks": ""
            },
            "colorscale": [
             [
              0,
              "#0d0887"
             ],
             [
              0.1111111111111111,
              "#46039f"
             ],
             [
              0.2222222222222222,
              "#7201a8"
             ],
             [
              0.3333333333333333,
              "#9c179e"
             ],
             [
              0.4444444444444444,
              "#bd3786"
             ],
             [
              0.5555555555555556,
              "#d8576b"
             ],
             [
              0.6666666666666666,
              "#ed7953"
             ],
             [
              0.7777777777777778,
              "#fb9f3a"
             ],
             [
              0.8888888888888888,
              "#fdca26"
             ],
             [
              1,
              "#f0f921"
             ]
            ],
            "type": "contour"
           }
          ],
          "contourcarpet": [
           {
            "colorbar": {
             "outlinewidth": 0,
             "ticks": ""
            },
            "type": "contourcarpet"
           }
          ],
          "heatmap": [
           {
            "colorbar": {
             "outlinewidth": 0,
             "ticks": ""
            },
            "colorscale": [
             [
              0,
              "#0d0887"
             ],
             [
              0.1111111111111111,
              "#46039f"
             ],
             [
              0.2222222222222222,
              "#7201a8"
             ],
             [
              0.3333333333333333,
              "#9c179e"
             ],
             [
              0.4444444444444444,
              "#bd3786"
             ],
             [
              0.5555555555555556,
              "#d8576b"
             ],
             [
              0.6666666666666666,
              "#ed7953"
             ],
             [
              0.7777777777777778,
              "#fb9f3a"
             ],
             [
              0.8888888888888888,
              "#fdca26"
             ],
             [
              1,
              "#f0f921"
             ]
            ],
            "type": "heatmap"
           }
          ],
          "heatmapgl": [
           {
            "colorbar": {
             "outlinewidth": 0,
             "ticks": ""
            },
            "colorscale": [
             [
              0,
              "#0d0887"
             ],
             [
              0.1111111111111111,
              "#46039f"
             ],
             [
              0.2222222222222222,
              "#7201a8"
             ],
             [
              0.3333333333333333,
              "#9c179e"
             ],
             [
              0.4444444444444444,
              "#bd3786"
             ],
             [
              0.5555555555555556,
              "#d8576b"
             ],
             [
              0.6666666666666666,
              "#ed7953"
             ],
             [
              0.7777777777777778,
              "#fb9f3a"
             ],
             [
              0.8888888888888888,
              "#fdca26"
             ],
             [
              1,
              "#f0f921"
             ]
            ],
            "type": "heatmapgl"
           }
          ],
          "histogram": [
           {
            "marker": {
             "colorbar": {
              "outlinewidth": 0,
              "ticks": ""
             }
            },
            "type": "histogram"
           }
          ],
          "histogram2d": [
           {
            "colorbar": {
             "outlinewidth": 0,
             "ticks": ""
            },
            "colorscale": [
             [
              0,
              "#0d0887"
             ],
             [
              0.1111111111111111,
              "#46039f"
             ],
             [
              0.2222222222222222,
              "#7201a8"
             ],
             [
              0.3333333333333333,
              "#9c179e"
             ],
             [
              0.4444444444444444,
              "#bd3786"
             ],
             [
              0.5555555555555556,
              "#d8576b"
             ],
             [
              0.6666666666666666,
              "#ed7953"
             ],
             [
              0.7777777777777778,
              "#fb9f3a"
             ],
             [
              0.8888888888888888,
              "#fdca26"
             ],
             [
              1,
              "#f0f921"
             ]
            ],
            "type": "histogram2d"
           }
          ],
          "histogram2dcontour": [
           {
            "colorbar": {
             "outlinewidth": 0,
             "ticks": ""
            },
            "colorscale": [
             [
              0,
              "#0d0887"
             ],
             [
              0.1111111111111111,
              "#46039f"
             ],
             [
              0.2222222222222222,
              "#7201a8"
             ],
             [
              0.3333333333333333,
              "#9c179e"
             ],
             [
              0.4444444444444444,
              "#bd3786"
             ],
             [
              0.5555555555555556,
              "#d8576b"
             ],
             [
              0.6666666666666666,
              "#ed7953"
             ],
             [
              0.7777777777777778,
              "#fb9f3a"
             ],
             [
              0.8888888888888888,
              "#fdca26"
             ],
             [
              1,
              "#f0f921"
             ]
            ],
            "type": "histogram2dcontour"
           }
          ],
          "mesh3d": [
           {
            "colorbar": {
             "outlinewidth": 0,
             "ticks": ""
            },
            "type": "mesh3d"
           }
          ],
          "parcoords": [
           {
            "line": {
             "colorbar": {
              "outlinewidth": 0,
              "ticks": ""
             }
            },
            "type": "parcoords"
           }
          ],
          "scatter": [
           {
            "marker": {
             "colorbar": {
              "outlinewidth": 0,
              "ticks": ""
             }
            },
            "type": "scatter"
           }
          ],
          "scatter3d": [
           {
            "line": {
             "colorbar": {
              "outlinewidth": 0,
              "ticks": ""
             }
            },
            "marker": {
             "colorbar": {
              "outlinewidth": 0,
              "ticks": ""
             }
            },
            "type": "scatter3d"
           }
          ],
          "scattercarpet": [
           {
            "marker": {
             "colorbar": {
              "outlinewidth": 0,
              "ticks": ""
             }
            },
            "type": "scattercarpet"
           }
          ],
          "scattergeo": [
           {
            "marker": {
             "colorbar": {
              "outlinewidth": 0,
              "ticks": ""
             }
            },
            "type": "scattergeo"
           }
          ],
          "scattergl": [
           {
            "marker": {
             "colorbar": {
              "outlinewidth": 0,
              "ticks": ""
             }
            },
            "type": "scattergl"
           }
          ],
          "scattermapbox": [
           {
            "marker": {
             "colorbar": {
              "outlinewidth": 0,
              "ticks": ""
             }
            },
            "type": "scattermapbox"
           }
          ],
          "scatterpolar": [
           {
            "marker": {
             "colorbar": {
              "outlinewidth": 0,
              "ticks": ""
             }
            },
            "type": "scatterpolar"
           }
          ],
          "scatterpolargl": [
           {
            "marker": {
             "colorbar": {
              "outlinewidth": 0,
              "ticks": ""
             }
            },
            "type": "scatterpolargl"
           }
          ],
          "scatterternary": [
           {
            "marker": {
             "colorbar": {
              "outlinewidth": 0,
              "ticks": ""
             }
            },
            "type": "scatterternary"
           }
          ],
          "surface": [
           {
            "colorbar": {
             "outlinewidth": 0,
             "ticks": ""
            },
            "colorscale": [
             [
              0,
              "#0d0887"
             ],
             [
              0.1111111111111111,
              "#46039f"
             ],
             [
              0.2222222222222222,
              "#7201a8"
             ],
             [
              0.3333333333333333,
              "#9c179e"
             ],
             [
              0.4444444444444444,
              "#bd3786"
             ],
             [
              0.5555555555555556,
              "#d8576b"
             ],
             [
              0.6666666666666666,
              "#ed7953"
             ],
             [
              0.7777777777777778,
              "#fb9f3a"
             ],
             [
              0.8888888888888888,
              "#fdca26"
             ],
             [
              1,
              "#f0f921"
             ]
            ],
            "type": "surface"
           }
          ],
          "table": [
           {
            "cells": {
             "fill": {
              "color": "#EBF0F8"
             },
             "line": {
              "color": "white"
             }
            },
            "header": {
             "fill": {
              "color": "#C8D4E3"
             },
             "line": {
              "color": "white"
             }
            },
            "type": "table"
           }
          ]
         },
         "layout": {
          "annotationdefaults": {
           "arrowcolor": "#2a3f5f",
           "arrowhead": 0,
           "arrowwidth": 1
          },
          "colorscale": {
           "diverging": [
            [
             0,
             "#8e0152"
            ],
            [
             0.1,
             "#c51b7d"
            ],
            [
             0.2,
             "#de77ae"
            ],
            [
             0.3,
             "#f1b6da"
            ],
            [
             0.4,
             "#fde0ef"
            ],
            [
             0.5,
             "#f7f7f7"
            ],
            [
             0.6,
             "#e6f5d0"
            ],
            [
             0.7,
             "#b8e186"
            ],
            [
             0.8,
             "#7fbc41"
            ],
            [
             0.9,
             "#4d9221"
            ],
            [
             1,
             "#276419"
            ]
           ],
           "sequential": [
            [
             0,
             "#0d0887"
            ],
            [
             0.1111111111111111,
             "#46039f"
            ],
            [
             0.2222222222222222,
             "#7201a8"
            ],
            [
             0.3333333333333333,
             "#9c179e"
            ],
            [
             0.4444444444444444,
             "#bd3786"
            ],
            [
             0.5555555555555556,
             "#d8576b"
            ],
            [
             0.6666666666666666,
             "#ed7953"
            ],
            [
             0.7777777777777778,
             "#fb9f3a"
            ],
            [
             0.8888888888888888,
             "#fdca26"
            ],
            [
             1,
             "#f0f921"
            ]
           ],
           "sequentialminus": [
            [
             0,
             "#0d0887"
            ],
            [
             0.1111111111111111,
             "#46039f"
            ],
            [
             0.2222222222222222,
             "#7201a8"
            ],
            [
             0.3333333333333333,
             "#9c179e"
            ],
            [
             0.4444444444444444,
             "#bd3786"
            ],
            [
             0.5555555555555556,
             "#d8576b"
            ],
            [
             0.6666666666666666,
             "#ed7953"
            ],
            [
             0.7777777777777778,
             "#fb9f3a"
            ],
            [
             0.8888888888888888,
             "#fdca26"
            ],
            [
             1,
             "#f0f921"
            ]
           ]
          },
          "colorway": [
           "#636efa",
           "#EF553B",
           "#00cc96",
           "#ab63fa",
           "#FFA15A",
           "#19d3f3",
           "#FF6692",
           "#B6E880",
           "#FF97FF",
           "#FECB52"
          ],
          "font": {
           "color": "#2a3f5f"
          },
          "geo": {
           "bgcolor": "white",
           "lakecolor": "white",
           "landcolor": "#E5ECF6",
           "showlakes": true,
           "showland": true,
           "subunitcolor": "white"
          },
          "hoverlabel": {
           "align": "left"
          },
          "hovermode": "closest",
          "mapbox": {
           "style": "light"
          },
          "paper_bgcolor": "white",
          "plot_bgcolor": "#E5ECF6",
          "polar": {
           "angularaxis": {
            "gridcolor": "white",
            "linecolor": "white",
            "ticks": ""
           },
           "bgcolor": "#E5ECF6",
           "radialaxis": {
            "gridcolor": "white",
            "linecolor": "white",
            "ticks": ""
           }
          },
          "scene": {
           "xaxis": {
            "backgroundcolor": "#E5ECF6",
            "gridcolor": "white",
            "gridwidth": 2,
            "linecolor": "white",
            "showbackground": true,
            "ticks": "",
            "zerolinecolor": "white"
           },
           "yaxis": {
            "backgroundcolor": "#E5ECF6",
            "gridcolor": "white",
            "gridwidth": 2,
            "linecolor": "white",
            "showbackground": true,
            "ticks": "",
            "zerolinecolor": "white"
           },
           "zaxis": {
            "backgroundcolor": "#E5ECF6",
            "gridcolor": "white",
            "gridwidth": 2,
            "linecolor": "white",
            "showbackground": true,
            "ticks": "",
            "zerolinecolor": "white"
           }
          },
          "shapedefaults": {
           "line": {
            "color": "#2a3f5f"
           }
          },
          "ternary": {
           "aaxis": {
            "gridcolor": "white",
            "linecolor": "white",
            "ticks": ""
           },
           "baxis": {
            "gridcolor": "white",
            "linecolor": "white",
            "ticks": ""
           },
           "bgcolor": "#E5ECF6",
           "caxis": {
            "gridcolor": "white",
            "linecolor": "white",
            "ticks": ""
           }
          },
          "title": {
           "x": 0.05
          },
          "xaxis": {
           "automargin": true,
           "gridcolor": "white",
           "linecolor": "white",
           "ticks": "",
           "zerolinecolor": "white",
           "zerolinewidth": 2
          },
          "yaxis": {
           "automargin": true,
           "gridcolor": "white",
           "linecolor": "white",
           "ticks": "",
           "zerolinecolor": "white",
           "zerolinewidth": 2
          }
         }
        },
        "title": {
         "text": "NIGERIA - COVID19 NEW CASES",
         "x": 0.5,
         "xanchor": "center",
         "y": 0.9,
         "yanchor": "top"
        },
        "xaxis": {
         "tickangle": 90,
         "title": {
          "font": {
           "color": "#BDBDBD",
           "size": 18
          },
          "text": "<b>Date</b>"
         }
        },
        "yaxis": {
         "title": {
          "font": {
           "size": 18
          },
          "text": "<b>New Cases</b>"
         }
        }
       }
      },
      "text/html": [
       "<div>\n",
       "        \n",
       "        \n",
       "            <div id=\"692f94a7-ac77-492a-80e5-ea5225fd3036\" class=\"plotly-graph-div\" style=\"height:525px; width:100%;\"></div>\n",
       "            <script type=\"text/javascript\">\n",
       "                require([\"plotly\"], function(Plotly) {\n",
       "                    window.PLOTLYENV=window.PLOTLYENV || {};\n",
       "                    \n",
       "                if (document.getElementById(\"692f94a7-ac77-492a-80e5-ea5225fd3036\")) {\n",
       "                    Plotly.newPlot(\n",
       "                        '692f94a7-ac77-492a-80e5-ea5225fd3036',\n",
       "                        [{\"marker\": {\"color\": \"#FFAA1D\"}, \"name\": \"South Africa\", \"text\": [\"542\", \"571\", \"655\", \"634\", \"600\", \"341\", \"240\", \"360\", \"479\", \"464\", \"711\", \"371\", \"195\", \"269\", \"400\", \"346\", \"394\", \"287\", \"399\", \"205\", \"120\", \"238\", \"179\", \"187\", \"135\", \"130\", \"112\", \"86\", \"131\", \"208\", \"102\", \"97\"], \"textposition\": \"outside\", \"type\": \"bar\", \"x\": [\"Feb-22-2021\", \"Feb-23-2021\", \"Feb-24-2021\", \"Feb-25-2021\", \"Feb-26-2021\", \"Feb-27-2021\", \"Feb-28-2021\", \"Mar-01-2021\", \"Mar-02-2021\", \"Mar-03-2021\", \"Mar-04-2021\", \"Mar-05-2021\", \"Mar-06-2021\", \"Mar-07-2021\", \"Mar-08-2021\", \"Mar-09-2021\", \"Mar-10-2021\", \"Mar-11-2021\", \"Mar-12-2021\", \"Mar-13-2021\", \"Mar-14-2021\", \"Mar-15-2021\", \"Mar-16-2021\", \"Mar-17-2021\", \"Mar-18-2021\", \"Mar-19-2021\", \"Mar-20-2021\", \"Mar-21-2021\", \"Mar-22-2021\", \"Mar-23-2021\", \"Mar-24-2021\", \"Mar-25-2021\"], \"y\": [542, 571, 655, 634, 600, 341, 240, 360, 479, 464, 711, 371, 195, 269, 400, 346, 394, 287, 399, 205, 120, 238, 179, 187, 135, 130, 112, 86, 131, 208, 102, 97]}],\n",
       "                        {\"template\": {\"data\": {\"bar\": [{\"error_x\": {\"color\": \"#2a3f5f\"}, \"error_y\": {\"color\": \"#2a3f5f\"}, \"marker\": {\"line\": {\"color\": \"#E5ECF6\", \"width\": 0.5}}, \"type\": \"bar\"}], \"barpolar\": [{\"marker\": {\"line\": {\"color\": \"#E5ECF6\", \"width\": 0.5}}, \"type\": \"barpolar\"}], \"carpet\": [{\"aaxis\": {\"endlinecolor\": \"#2a3f5f\", \"gridcolor\": \"white\", \"linecolor\": \"white\", \"minorgridcolor\": \"white\", \"startlinecolor\": \"#2a3f5f\"}, \"baxis\": {\"endlinecolor\": \"#2a3f5f\", \"gridcolor\": \"white\", \"linecolor\": \"white\", \"minorgridcolor\": \"white\", \"startlinecolor\": \"#2a3f5f\"}, \"type\": \"carpet\"}], \"choropleth\": [{\"colorbar\": {\"outlinewidth\": 0, \"ticks\": \"\"}, \"type\": \"choropleth\"}], \"contour\": [{\"colorbar\": {\"outlinewidth\": 0, \"ticks\": \"\"}, \"colorscale\": [[0.0, \"#0d0887\"], [0.1111111111111111, \"#46039f\"], [0.2222222222222222, \"#7201a8\"], [0.3333333333333333, \"#9c179e\"], [0.4444444444444444, \"#bd3786\"], [0.5555555555555556, \"#d8576b\"], [0.6666666666666666, \"#ed7953\"], [0.7777777777777778, \"#fb9f3a\"], [0.8888888888888888, \"#fdca26\"], [1.0, \"#f0f921\"]], \"type\": \"contour\"}], \"contourcarpet\": [{\"colorbar\": {\"outlinewidth\": 0, \"ticks\": \"\"}, \"type\": \"contourcarpet\"}], \"heatmap\": [{\"colorbar\": {\"outlinewidth\": 0, \"ticks\": \"\"}, \"colorscale\": [[0.0, \"#0d0887\"], [0.1111111111111111, \"#46039f\"], [0.2222222222222222, \"#7201a8\"], [0.3333333333333333, \"#9c179e\"], [0.4444444444444444, \"#bd3786\"], [0.5555555555555556, \"#d8576b\"], [0.6666666666666666, \"#ed7953\"], [0.7777777777777778, \"#fb9f3a\"], [0.8888888888888888, \"#fdca26\"], [1.0, \"#f0f921\"]], \"type\": \"heatmap\"}], \"heatmapgl\": [{\"colorbar\": {\"outlinewidth\": 0, \"ticks\": \"\"}, \"colorscale\": [[0.0, \"#0d0887\"], [0.1111111111111111, \"#46039f\"], [0.2222222222222222, \"#7201a8\"], [0.3333333333333333, \"#9c179e\"], [0.4444444444444444, \"#bd3786\"], [0.5555555555555556, \"#d8576b\"], [0.6666666666666666, \"#ed7953\"], [0.7777777777777778, \"#fb9f3a\"], [0.8888888888888888, \"#fdca26\"], [1.0, \"#f0f921\"]], \"type\": \"heatmapgl\"}], \"histogram\": [{\"marker\": {\"colorbar\": {\"outlinewidth\": 0, \"ticks\": \"\"}}, \"type\": \"histogram\"}], \"histogram2d\": [{\"colorbar\": {\"outlinewidth\": 0, \"ticks\": \"\"}, \"colorscale\": [[0.0, \"#0d0887\"], [0.1111111111111111, \"#46039f\"], [0.2222222222222222, \"#7201a8\"], [0.3333333333333333, \"#9c179e\"], [0.4444444444444444, \"#bd3786\"], [0.5555555555555556, \"#d8576b\"], [0.6666666666666666, \"#ed7953\"], [0.7777777777777778, \"#fb9f3a\"], [0.8888888888888888, \"#fdca26\"], [1.0, \"#f0f921\"]], \"type\": \"histogram2d\"}], \"histogram2dcontour\": [{\"colorbar\": {\"outlinewidth\": 0, \"ticks\": \"\"}, \"colorscale\": [[0.0, \"#0d0887\"], [0.1111111111111111, \"#46039f\"], [0.2222222222222222, \"#7201a8\"], [0.3333333333333333, \"#9c179e\"], [0.4444444444444444, \"#bd3786\"], [0.5555555555555556, \"#d8576b\"], [0.6666666666666666, \"#ed7953\"], [0.7777777777777778, \"#fb9f3a\"], [0.8888888888888888, \"#fdca26\"], [1.0, \"#f0f921\"]], \"type\": \"histogram2dcontour\"}], \"mesh3d\": [{\"colorbar\": {\"outlinewidth\": 0, \"ticks\": \"\"}, \"type\": \"mesh3d\"}], \"parcoords\": [{\"line\": {\"colorbar\": {\"outlinewidth\": 0, \"ticks\": \"\"}}, \"type\": \"parcoords\"}], \"scatter\": [{\"marker\": {\"colorbar\": {\"outlinewidth\": 0, \"ticks\": \"\"}}, \"type\": \"scatter\"}], \"scatter3d\": [{\"line\": {\"colorbar\": {\"outlinewidth\": 0, \"ticks\": \"\"}}, \"marker\": {\"colorbar\": {\"outlinewidth\": 0, \"ticks\": \"\"}}, \"type\": \"scatter3d\"}], \"scattercarpet\": [{\"marker\": {\"colorbar\": {\"outlinewidth\": 0, \"ticks\": \"\"}}, \"type\": \"scattercarpet\"}], \"scattergeo\": [{\"marker\": {\"colorbar\": {\"outlinewidth\": 0, \"ticks\": \"\"}}, \"type\": \"scattergeo\"}], \"scattergl\": [{\"marker\": {\"colorbar\": {\"outlinewidth\": 0, \"ticks\": \"\"}}, \"type\": \"scattergl\"}], \"scattermapbox\": [{\"marker\": {\"colorbar\": {\"outlinewidth\": 0, \"ticks\": \"\"}}, \"type\": \"scattermapbox\"}], \"scatterpolar\": [{\"marker\": {\"colorbar\": {\"outlinewidth\": 0, \"ticks\": \"\"}}, \"type\": \"scatterpolar\"}], \"scatterpolargl\": [{\"marker\": {\"colorbar\": {\"outlinewidth\": 0, \"ticks\": \"\"}}, \"type\": \"scatterpolargl\"}], \"scatterternary\": [{\"marker\": {\"colorbar\": {\"outlinewidth\": 0, \"ticks\": \"\"}}, \"type\": \"scatterternary\"}], \"surface\": [{\"colorbar\": {\"outlinewidth\": 0, \"ticks\": \"\"}, \"colorscale\": [[0.0, \"#0d0887\"], [0.1111111111111111, \"#46039f\"], [0.2222222222222222, \"#7201a8\"], [0.3333333333333333, \"#9c179e\"], [0.4444444444444444, \"#bd3786\"], [0.5555555555555556, \"#d8576b\"], [0.6666666666666666, \"#ed7953\"], [0.7777777777777778, \"#fb9f3a\"], [0.8888888888888888, \"#fdca26\"], [1.0, \"#f0f921\"]], \"type\": \"surface\"}], \"table\": [{\"cells\": {\"fill\": {\"color\": \"#EBF0F8\"}, \"line\": {\"color\": \"white\"}}, \"header\": {\"fill\": {\"color\": \"#C8D4E3\"}, \"line\": {\"color\": \"white\"}}, \"type\": \"table\"}]}, \"layout\": {\"annotationdefaults\": {\"arrowcolor\": \"#2a3f5f\", \"arrowhead\": 0, \"arrowwidth\": 1}, \"colorscale\": {\"diverging\": [[0, \"#8e0152\"], [0.1, \"#c51b7d\"], [0.2, \"#de77ae\"], [0.3, \"#f1b6da\"], [0.4, \"#fde0ef\"], [0.5, \"#f7f7f7\"], [0.6, \"#e6f5d0\"], [0.7, \"#b8e186\"], [0.8, \"#7fbc41\"], [0.9, \"#4d9221\"], [1, \"#276419\"]], \"sequential\": [[0.0, \"#0d0887\"], [0.1111111111111111, \"#46039f\"], [0.2222222222222222, \"#7201a8\"], [0.3333333333333333, \"#9c179e\"], [0.4444444444444444, \"#bd3786\"], [0.5555555555555556, \"#d8576b\"], [0.6666666666666666, \"#ed7953\"], [0.7777777777777778, \"#fb9f3a\"], [0.8888888888888888, \"#fdca26\"], [1.0, \"#f0f921\"]], \"sequentialminus\": [[0.0, \"#0d0887\"], [0.1111111111111111, \"#46039f\"], [0.2222222222222222, \"#7201a8\"], [0.3333333333333333, \"#9c179e\"], [0.4444444444444444, \"#bd3786\"], [0.5555555555555556, \"#d8576b\"], [0.6666666666666666, \"#ed7953\"], [0.7777777777777778, \"#fb9f3a\"], [0.8888888888888888, \"#fdca26\"], [1.0, \"#f0f921\"]]}, \"colorway\": [\"#636efa\", \"#EF553B\", \"#00cc96\", \"#ab63fa\", \"#FFA15A\", \"#19d3f3\", \"#FF6692\", \"#B6E880\", \"#FF97FF\", \"#FECB52\"], \"font\": {\"color\": \"#2a3f5f\"}, \"geo\": {\"bgcolor\": \"white\", \"lakecolor\": \"white\", \"landcolor\": \"#E5ECF6\", \"showlakes\": true, \"showland\": true, \"subunitcolor\": \"white\"}, \"hoverlabel\": {\"align\": \"left\"}, \"hovermode\": \"closest\", \"mapbox\": {\"style\": \"light\"}, \"paper_bgcolor\": \"white\", \"plot_bgcolor\": \"#E5ECF6\", \"polar\": {\"angularaxis\": {\"gridcolor\": \"white\", \"linecolor\": \"white\", \"ticks\": \"\"}, \"bgcolor\": \"#E5ECF6\", \"radialaxis\": {\"gridcolor\": \"white\", \"linecolor\": \"white\", \"ticks\": \"\"}}, \"scene\": {\"xaxis\": {\"backgroundcolor\": \"#E5ECF6\", \"gridcolor\": \"white\", \"gridwidth\": 2, \"linecolor\": \"white\", \"showbackground\": true, \"ticks\": \"\", \"zerolinecolor\": \"white\"}, \"yaxis\": {\"backgroundcolor\": \"#E5ECF6\", \"gridcolor\": \"white\", \"gridwidth\": 2, \"linecolor\": \"white\", \"showbackground\": true, \"ticks\": \"\", \"zerolinecolor\": \"white\"}, \"zaxis\": {\"backgroundcolor\": \"#E5ECF6\", \"gridcolor\": \"white\", \"gridwidth\": 2, \"linecolor\": \"white\", \"showbackground\": true, \"ticks\": \"\", \"zerolinecolor\": \"white\"}}, \"shapedefaults\": {\"line\": {\"color\": \"#2a3f5f\"}}, \"ternary\": {\"aaxis\": {\"gridcolor\": \"white\", \"linecolor\": \"white\", \"ticks\": \"\"}, \"baxis\": {\"gridcolor\": \"white\", \"linecolor\": \"white\", \"ticks\": \"\"}, \"bgcolor\": \"#E5ECF6\", \"caxis\": {\"gridcolor\": \"white\", \"linecolor\": \"white\", \"ticks\": \"\"}}, \"title\": {\"x\": 0.05}, \"xaxis\": {\"automargin\": true, \"gridcolor\": \"white\", \"linecolor\": \"white\", \"ticks\": \"\", \"zerolinecolor\": \"white\", \"zerolinewidth\": 2}, \"yaxis\": {\"automargin\": true, \"gridcolor\": \"white\", \"linecolor\": \"white\", \"ticks\": \"\", \"zerolinecolor\": \"white\", \"zerolinewidth\": 2}}}, \"title\": {\"text\": \"NIGERIA - COVID19 NEW CASES\", \"x\": 0.5, \"xanchor\": \"center\", \"y\": 0.9, \"yanchor\": \"top\"}, \"xaxis\": {\"tickangle\": 90, \"title\": {\"font\": {\"color\": \"#BDBDBD\", \"size\": 18}, \"text\": \"<b>Date</b>\"}}, \"yaxis\": {\"title\": {\"font\": {\"size\": 18}, \"text\": \"<b>New Cases</b>\"}}},\n",
       "                        {\"responsive\": true}\n",
       "                    ).then(function(){\n",
       "                            \n",
       "var gd = document.getElementById('692f94a7-ac77-492a-80e5-ea5225fd3036');\n",
       "var x = new MutationObserver(function (mutations, observer) {{\n",
       "        var display = window.getComputedStyle(gd).display;\n",
       "        if (!display || display === 'none') {{\n",
       "            console.log([gd, 'removed!']);\n",
       "            Plotly.purge(gd);\n",
       "            observer.disconnect();\n",
       "        }}\n",
       "}});\n",
       "\n",
       "// Listen for the removal of the full notebook cells\n",
       "var notebookContainer = gd.closest('#notebook-container');\n",
       "if (notebookContainer) {{\n",
       "    x.observe(notebookContainer, {childList: true});\n",
       "}}\n",
       "\n",
       "// Listen for the clearing of the current output cell\n",
       "var outputEl = gd.closest('.output');\n",
       "if (outputEl) {{\n",
       "    x.observe(outputEl, {childList: true});\n",
       "}}\n",
       "\n",
       "                        })\n",
       "                };\n",
       "                });\n",
       "            </script>\n",
       "        </div>"
      ]
     },
     "metadata": {},
     "output_type": "display_data"
    }
   ],
   "source": [
    "fig = go.Figure()\n",
    "\n",
    "ngr_total_per_day = []\n",
    "for date in dates:    \n",
    "    total = ngr[date].str.replace('+','').fillna(0).str.replace(',','').fillna(0).astype(int)\n",
    "    ngr_total_per_day.append(int(total))\n",
    "    \n",
    "fig.add_trace(go.Bar(x=format_date(dates[-32:]),  y = ngr_total_per_day[-32:],text=ngr_total_per_day[-32:],textposition='outside',name = \"South Africa\",marker_color='#FFAA1D'))\n",
    "fig.update_layout(\n",
    "    title={\n",
    "        'text': \"NIGERIA - COVID19 NEW CASES\",\n",
    "        'y':0.9,\n",
    "        'x':0.5,\n",
    "        'xanchor': 'center',\n",
    "        'yanchor': 'top'},\n",
    "    xaxis=dict(title='<b>Date</b>',titlefont_size=18, titlefont=dict(color='#BDBDBD')),\n",
    "    yaxis=dict(title='<b>New Cases</b>',titlefont_size=18),\n",
    "    xaxis_tickangle=90,\n",
    ")\n",
    "\n",
    "fig.show()"
   ]
  },
  {
   "cell_type": "markdown",
   "metadata": {},
   "source": [
    "<a id='top_six'></a>"
   ]
  },
  {
   "cell_type": "markdown",
   "metadata": {},
   "source": [
    "### Ethiopia"
   ]
  },
  {
   "cell_type": "code",
   "execution_count": 197,
   "metadata": {},
   "outputs": [],
   "source": [
    "eth = countries_new_cases[countries_new_cases['Country_Other'] == 'Ethiopia']"
   ]
  },
  {
   "cell_type": "code",
   "execution_count": 198,
   "metadata": {},
   "outputs": [
    {
     "data": {
      "text/html": [
       "<div>\n",
       "<style scoped>\n",
       "    .dataframe tbody tr th:only-of-type {\n",
       "        vertical-align: middle;\n",
       "    }\n",
       "\n",
       "    .dataframe tbody tr th {\n",
       "        vertical-align: top;\n",
       "    }\n",
       "\n",
       "    .dataframe thead th {\n",
       "        text-align: right;\n",
       "    }\n",
       "</style>\n",
       "<table border=\"1\" class=\"dataframe\">\n",
       "  <thead>\n",
       "    <tr style=\"text-align: right;\">\n",
       "      <th></th>\n",
       "      <th>Country_Other</th>\n",
       "      <th>April16</th>\n",
       "      <th>April17</th>\n",
       "      <th>April18</th>\n",
       "      <th>April19</th>\n",
       "      <th>April20</th>\n",
       "      <th>April21</th>\n",
       "      <th>April22</th>\n",
       "      <th>April23</th>\n",
       "      <th>April24</th>\n",
       "      <th>...</th>\n",
       "      <th>Mar16_2021</th>\n",
       "      <th>Mar17_2021</th>\n",
       "      <th>Mar18_2021</th>\n",
       "      <th>Mar19_2021</th>\n",
       "      <th>Mar20_2021</th>\n",
       "      <th>Mar21_2021</th>\n",
       "      <th>Mar22_2021</th>\n",
       "      <th>Mar23_2021</th>\n",
       "      <th>Mar24_2021</th>\n",
       "      <th>Mar25_2021</th>\n",
       "    </tr>\n",
       "  </thead>\n",
       "  <tbody>\n",
       "    <tr>\n",
       "      <td>136</td>\n",
       "      <td>Ethiopia</td>\n",
       "      <td>+7</td>\n",
       "      <td>+4</td>\n",
       "      <td>+9</td>\n",
       "      <td>+3</td>\n",
       "      <td>+3</td>\n",
       "      <td>+3</td>\n",
       "      <td>+2</td>\n",
       "      <td>NaN</td>\n",
       "      <td>+1</td>\n",
       "      <td>...</td>\n",
       "      <td>+1,490</td>\n",
       "      <td>+1,704</td>\n",
       "      <td>+2,057</td>\n",
       "      <td>+1,994</td>\n",
       "      <td>+1,778</td>\n",
       "      <td>+1,724</td>\n",
       "      <td>+1,537</td>\n",
       "      <td>+1,692</td>\n",
       "      <td>+1,981</td>\n",
       "      <td>+1,949</td>\n",
       "    </tr>\n",
       "  </tbody>\n",
       "</table>\n",
       "<p>1 rows × 344 columns</p>\n",
       "</div>"
      ],
      "text/plain": [
       "    Country_Other April16 April17 April18 April19 April20 April21 April22  \\\n",
       "136      Ethiopia      +7      +4      +9      +3      +3      +3      +2   \n",
       "\n",
       "    April23 April24  ... Mar16_2021 Mar17_2021 Mar18_2021 Mar19_2021  \\\n",
       "136     NaN      +1  ...     +1,490     +1,704     +2,057     +1,994   \n",
       "\n",
       "    Mar20_2021 Mar21_2021 Mar22_2021 Mar23_2021 Mar24_2021 Mar25_2021  \n",
       "136     +1,778     +1,724     +1,537     +1,692     +1,981     +1,949  \n",
       "\n",
       "[1 rows x 344 columns]"
      ]
     },
     "execution_count": 198,
     "metadata": {},
     "output_type": "execute_result"
    }
   ],
   "source": [
    "eth"
   ]
  },
  {
   "cell_type": "code",
   "execution_count": 213,
   "metadata": {},
   "outputs": [
    {
     "data": {
      "application/vnd.plotly.v1+json": {
       "config": {
        "plotlyServerURL": "https://plot.ly"
       },
       "data": [
        {
         "marker": {
          "color": "#FFAA1D"
         },
         "name": "Nigeria",
         "text": [
          "735",
          "716",
          "977",
          "878",
          "935",
          "1006",
          "1019",
          "900",
          "841",
          "1161",
          "980",
          "1119",
          "956",
          "1109",
          "995",
          "1202",
          "1543",
          "1332",
          "1361",
          "1483",
          "1413",
          "1151",
          "1490",
          "1704",
          "2057",
          "1994",
          "1778",
          "1724",
          "1537",
          "1692",
          "1981",
          "1949"
         ],
         "textposition": "outside",
         "type": "bar",
         "x": [
          "Feb-22-2021",
          "Feb-23-2021",
          "Feb-24-2021",
          "Feb-25-2021",
          "Feb-26-2021",
          "Feb-27-2021",
          "Feb-28-2021",
          "Mar-01-2021",
          "Mar-02-2021",
          "Mar-03-2021",
          "Mar-04-2021",
          "Mar-05-2021",
          "Mar-06-2021",
          "Mar-07-2021",
          "Mar-08-2021",
          "Mar-09-2021",
          "Mar-10-2021",
          "Mar-11-2021",
          "Mar-12-2021",
          "Mar-13-2021",
          "Mar-14-2021",
          "Mar-15-2021",
          "Mar-16-2021",
          "Mar-17-2021",
          "Mar-18-2021",
          "Mar-19-2021",
          "Mar-20-2021",
          "Mar-21-2021",
          "Mar-22-2021",
          "Mar-23-2021",
          "Mar-24-2021",
          "Mar-25-2021"
         ],
         "y": [
          735,
          716,
          977,
          878,
          935,
          1006,
          1019,
          900,
          841,
          1161,
          980,
          1119,
          956,
          1109,
          995,
          1202,
          1543,
          1332,
          1361,
          1483,
          1413,
          1151,
          1490,
          1704,
          2057,
          1994,
          1778,
          1724,
          1537,
          1692,
          1981,
          1949
         ]
        }
       ],
       "layout": {
        "template": {
         "data": {
          "bar": [
           {
            "error_x": {
             "color": "#2a3f5f"
            },
            "error_y": {
             "color": "#2a3f5f"
            },
            "marker": {
             "line": {
              "color": "#E5ECF6",
              "width": 0.5
             }
            },
            "type": "bar"
           }
          ],
          "barpolar": [
           {
            "marker": {
             "line": {
              "color": "#E5ECF6",
              "width": 0.5
             }
            },
            "type": "barpolar"
           }
          ],
          "carpet": [
           {
            "aaxis": {
             "endlinecolor": "#2a3f5f",
             "gridcolor": "white",
             "linecolor": "white",
             "minorgridcolor": "white",
             "startlinecolor": "#2a3f5f"
            },
            "baxis": {
             "endlinecolor": "#2a3f5f",
             "gridcolor": "white",
             "linecolor": "white",
             "minorgridcolor": "white",
             "startlinecolor": "#2a3f5f"
            },
            "type": "carpet"
           }
          ],
          "choropleth": [
           {
            "colorbar": {
             "outlinewidth": 0,
             "ticks": ""
            },
            "type": "choropleth"
           }
          ],
          "contour": [
           {
            "colorbar": {
             "outlinewidth": 0,
             "ticks": ""
            },
            "colorscale": [
             [
              0,
              "#0d0887"
             ],
             [
              0.1111111111111111,
              "#46039f"
             ],
             [
              0.2222222222222222,
              "#7201a8"
             ],
             [
              0.3333333333333333,
              "#9c179e"
             ],
             [
              0.4444444444444444,
              "#bd3786"
             ],
             [
              0.5555555555555556,
              "#d8576b"
             ],
             [
              0.6666666666666666,
              "#ed7953"
             ],
             [
              0.7777777777777778,
              "#fb9f3a"
             ],
             [
              0.8888888888888888,
              "#fdca26"
             ],
             [
              1,
              "#f0f921"
             ]
            ],
            "type": "contour"
           }
          ],
          "contourcarpet": [
           {
            "colorbar": {
             "outlinewidth": 0,
             "ticks": ""
            },
            "type": "contourcarpet"
           }
          ],
          "heatmap": [
           {
            "colorbar": {
             "outlinewidth": 0,
             "ticks": ""
            },
            "colorscale": [
             [
              0,
              "#0d0887"
             ],
             [
              0.1111111111111111,
              "#46039f"
             ],
             [
              0.2222222222222222,
              "#7201a8"
             ],
             [
              0.3333333333333333,
              "#9c179e"
             ],
             [
              0.4444444444444444,
              "#bd3786"
             ],
             [
              0.5555555555555556,
              "#d8576b"
             ],
             [
              0.6666666666666666,
              "#ed7953"
             ],
             [
              0.7777777777777778,
              "#fb9f3a"
             ],
             [
              0.8888888888888888,
              "#fdca26"
             ],
             [
              1,
              "#f0f921"
             ]
            ],
            "type": "heatmap"
           }
          ],
          "heatmapgl": [
           {
            "colorbar": {
             "outlinewidth": 0,
             "ticks": ""
            },
            "colorscale": [
             [
              0,
              "#0d0887"
             ],
             [
              0.1111111111111111,
              "#46039f"
             ],
             [
              0.2222222222222222,
              "#7201a8"
             ],
             [
              0.3333333333333333,
              "#9c179e"
             ],
             [
              0.4444444444444444,
              "#bd3786"
             ],
             [
              0.5555555555555556,
              "#d8576b"
             ],
             [
              0.6666666666666666,
              "#ed7953"
             ],
             [
              0.7777777777777778,
              "#fb9f3a"
             ],
             [
              0.8888888888888888,
              "#fdca26"
             ],
             [
              1,
              "#f0f921"
             ]
            ],
            "type": "heatmapgl"
           }
          ],
          "histogram": [
           {
            "marker": {
             "colorbar": {
              "outlinewidth": 0,
              "ticks": ""
             }
            },
            "type": "histogram"
           }
          ],
          "histogram2d": [
           {
            "colorbar": {
             "outlinewidth": 0,
             "ticks": ""
            },
            "colorscale": [
             [
              0,
              "#0d0887"
             ],
             [
              0.1111111111111111,
              "#46039f"
             ],
             [
              0.2222222222222222,
              "#7201a8"
             ],
             [
              0.3333333333333333,
              "#9c179e"
             ],
             [
              0.4444444444444444,
              "#bd3786"
             ],
             [
              0.5555555555555556,
              "#d8576b"
             ],
             [
              0.6666666666666666,
              "#ed7953"
             ],
             [
              0.7777777777777778,
              "#fb9f3a"
             ],
             [
              0.8888888888888888,
              "#fdca26"
             ],
             [
              1,
              "#f0f921"
             ]
            ],
            "type": "histogram2d"
           }
          ],
          "histogram2dcontour": [
           {
            "colorbar": {
             "outlinewidth": 0,
             "ticks": ""
            },
            "colorscale": [
             [
              0,
              "#0d0887"
             ],
             [
              0.1111111111111111,
              "#46039f"
             ],
             [
              0.2222222222222222,
              "#7201a8"
             ],
             [
              0.3333333333333333,
              "#9c179e"
             ],
             [
              0.4444444444444444,
              "#bd3786"
             ],
             [
              0.5555555555555556,
              "#d8576b"
             ],
             [
              0.6666666666666666,
              "#ed7953"
             ],
             [
              0.7777777777777778,
              "#fb9f3a"
             ],
             [
              0.8888888888888888,
              "#fdca26"
             ],
             [
              1,
              "#f0f921"
             ]
            ],
            "type": "histogram2dcontour"
           }
          ],
          "mesh3d": [
           {
            "colorbar": {
             "outlinewidth": 0,
             "ticks": ""
            },
            "type": "mesh3d"
           }
          ],
          "parcoords": [
           {
            "line": {
             "colorbar": {
              "outlinewidth": 0,
              "ticks": ""
             }
            },
            "type": "parcoords"
           }
          ],
          "scatter": [
           {
            "marker": {
             "colorbar": {
              "outlinewidth": 0,
              "ticks": ""
             }
            },
            "type": "scatter"
           }
          ],
          "scatter3d": [
           {
            "line": {
             "colorbar": {
              "outlinewidth": 0,
              "ticks": ""
             }
            },
            "marker": {
             "colorbar": {
              "outlinewidth": 0,
              "ticks": ""
             }
            },
            "type": "scatter3d"
           }
          ],
          "scattercarpet": [
           {
            "marker": {
             "colorbar": {
              "outlinewidth": 0,
              "ticks": ""
             }
            },
            "type": "scattercarpet"
           }
          ],
          "scattergeo": [
           {
            "marker": {
             "colorbar": {
              "outlinewidth": 0,
              "ticks": ""
             }
            },
            "type": "scattergeo"
           }
          ],
          "scattergl": [
           {
            "marker": {
             "colorbar": {
              "outlinewidth": 0,
              "ticks": ""
             }
            },
            "type": "scattergl"
           }
          ],
          "scattermapbox": [
           {
            "marker": {
             "colorbar": {
              "outlinewidth": 0,
              "ticks": ""
             }
            },
            "type": "scattermapbox"
           }
          ],
          "scatterpolar": [
           {
            "marker": {
             "colorbar": {
              "outlinewidth": 0,
              "ticks": ""
             }
            },
            "type": "scatterpolar"
           }
          ],
          "scatterpolargl": [
           {
            "marker": {
             "colorbar": {
              "outlinewidth": 0,
              "ticks": ""
             }
            },
            "type": "scatterpolargl"
           }
          ],
          "scatterternary": [
           {
            "marker": {
             "colorbar": {
              "outlinewidth": 0,
              "ticks": ""
             }
            },
            "type": "scatterternary"
           }
          ],
          "surface": [
           {
            "colorbar": {
             "outlinewidth": 0,
             "ticks": ""
            },
            "colorscale": [
             [
              0,
              "#0d0887"
             ],
             [
              0.1111111111111111,
              "#46039f"
             ],
             [
              0.2222222222222222,
              "#7201a8"
             ],
             [
              0.3333333333333333,
              "#9c179e"
             ],
             [
              0.4444444444444444,
              "#bd3786"
             ],
             [
              0.5555555555555556,
              "#d8576b"
             ],
             [
              0.6666666666666666,
              "#ed7953"
             ],
             [
              0.7777777777777778,
              "#fb9f3a"
             ],
             [
              0.8888888888888888,
              "#fdca26"
             ],
             [
              1,
              "#f0f921"
             ]
            ],
            "type": "surface"
           }
          ],
          "table": [
           {
            "cells": {
             "fill": {
              "color": "#EBF0F8"
             },
             "line": {
              "color": "white"
             }
            },
            "header": {
             "fill": {
              "color": "#C8D4E3"
             },
             "line": {
              "color": "white"
             }
            },
            "type": "table"
           }
          ]
         },
         "layout": {
          "annotationdefaults": {
           "arrowcolor": "#2a3f5f",
           "arrowhead": 0,
           "arrowwidth": 1
          },
          "colorscale": {
           "diverging": [
            [
             0,
             "#8e0152"
            ],
            [
             0.1,
             "#c51b7d"
            ],
            [
             0.2,
             "#de77ae"
            ],
            [
             0.3,
             "#f1b6da"
            ],
            [
             0.4,
             "#fde0ef"
            ],
            [
             0.5,
             "#f7f7f7"
            ],
            [
             0.6,
             "#e6f5d0"
            ],
            [
             0.7,
             "#b8e186"
            ],
            [
             0.8,
             "#7fbc41"
            ],
            [
             0.9,
             "#4d9221"
            ],
            [
             1,
             "#276419"
            ]
           ],
           "sequential": [
            [
             0,
             "#0d0887"
            ],
            [
             0.1111111111111111,
             "#46039f"
            ],
            [
             0.2222222222222222,
             "#7201a8"
            ],
            [
             0.3333333333333333,
             "#9c179e"
            ],
            [
             0.4444444444444444,
             "#bd3786"
            ],
            [
             0.5555555555555556,
             "#d8576b"
            ],
            [
             0.6666666666666666,
             "#ed7953"
            ],
            [
             0.7777777777777778,
             "#fb9f3a"
            ],
            [
             0.8888888888888888,
             "#fdca26"
            ],
            [
             1,
             "#f0f921"
            ]
           ],
           "sequentialminus": [
            [
             0,
             "#0d0887"
            ],
            [
             0.1111111111111111,
             "#46039f"
            ],
            [
             0.2222222222222222,
             "#7201a8"
            ],
            [
             0.3333333333333333,
             "#9c179e"
            ],
            [
             0.4444444444444444,
             "#bd3786"
            ],
            [
             0.5555555555555556,
             "#d8576b"
            ],
            [
             0.6666666666666666,
             "#ed7953"
            ],
            [
             0.7777777777777778,
             "#fb9f3a"
            ],
            [
             0.8888888888888888,
             "#fdca26"
            ],
            [
             1,
             "#f0f921"
            ]
           ]
          },
          "colorway": [
           "#636efa",
           "#EF553B",
           "#00cc96",
           "#ab63fa",
           "#FFA15A",
           "#19d3f3",
           "#FF6692",
           "#B6E880",
           "#FF97FF",
           "#FECB52"
          ],
          "font": {
           "color": "#2a3f5f"
          },
          "geo": {
           "bgcolor": "white",
           "lakecolor": "white",
           "landcolor": "#E5ECF6",
           "showlakes": true,
           "showland": true,
           "subunitcolor": "white"
          },
          "hoverlabel": {
           "align": "left"
          },
          "hovermode": "closest",
          "mapbox": {
           "style": "light"
          },
          "paper_bgcolor": "white",
          "plot_bgcolor": "#E5ECF6",
          "polar": {
           "angularaxis": {
            "gridcolor": "white",
            "linecolor": "white",
            "ticks": ""
           },
           "bgcolor": "#E5ECF6",
           "radialaxis": {
            "gridcolor": "white",
            "linecolor": "white",
            "ticks": ""
           }
          },
          "scene": {
           "xaxis": {
            "backgroundcolor": "#E5ECF6",
            "gridcolor": "white",
            "gridwidth": 2,
            "linecolor": "white",
            "showbackground": true,
            "ticks": "",
            "zerolinecolor": "white"
           },
           "yaxis": {
            "backgroundcolor": "#E5ECF6",
            "gridcolor": "white",
            "gridwidth": 2,
            "linecolor": "white",
            "showbackground": true,
            "ticks": "",
            "zerolinecolor": "white"
           },
           "zaxis": {
            "backgroundcolor": "#E5ECF6",
            "gridcolor": "white",
            "gridwidth": 2,
            "linecolor": "white",
            "showbackground": true,
            "ticks": "",
            "zerolinecolor": "white"
           }
          },
          "shapedefaults": {
           "line": {
            "color": "#2a3f5f"
           }
          },
          "ternary": {
           "aaxis": {
            "gridcolor": "white",
            "linecolor": "white",
            "ticks": ""
           },
           "baxis": {
            "gridcolor": "white",
            "linecolor": "white",
            "ticks": ""
           },
           "bgcolor": "#E5ECF6",
           "caxis": {
            "gridcolor": "white",
            "linecolor": "white",
            "ticks": ""
           }
          },
          "title": {
           "x": 0.05
          },
          "xaxis": {
           "automargin": true,
           "gridcolor": "white",
           "linecolor": "white",
           "ticks": "",
           "zerolinecolor": "white",
           "zerolinewidth": 2
          },
          "yaxis": {
           "automargin": true,
           "gridcolor": "white",
           "linecolor": "white",
           "ticks": "",
           "zerolinecolor": "white",
           "zerolinewidth": 2
          }
         }
        },
        "title": {
         "text": "ETHIOPIA - COVID19 NEW CASES",
         "x": 0.5,
         "xanchor": "center",
         "y": 0.9,
         "yanchor": "top"
        },
        "xaxis": {
         "tickangle": 90,
         "title": {
          "font": {
           "color": "#BDBDBD",
           "size": 18
          },
          "text": "<b>Date</b>"
         }
        },
        "yaxis": {
         "title": {
          "font": {
           "size": 18
          },
          "text": "<b>New Cases</b>"
         }
        }
       }
      },
      "text/html": [
       "<div>\n",
       "        \n",
       "        \n",
       "            <div id=\"b94c7940-01b7-4f47-92ec-405f4affc492\" class=\"plotly-graph-div\" style=\"height:525px; width:100%;\"></div>\n",
       "            <script type=\"text/javascript\">\n",
       "                require([\"plotly\"], function(Plotly) {\n",
       "                    window.PLOTLYENV=window.PLOTLYENV || {};\n",
       "                    \n",
       "                if (document.getElementById(\"b94c7940-01b7-4f47-92ec-405f4affc492\")) {\n",
       "                    Plotly.newPlot(\n",
       "                        'b94c7940-01b7-4f47-92ec-405f4affc492',\n",
       "                        [{\"marker\": {\"color\": \"#FFAA1D\"}, \"name\": \"Nigeria\", \"text\": [\"735\", \"716\", \"977\", \"878\", \"935\", \"1006\", \"1019\", \"900\", \"841\", \"1161\", \"980\", \"1119\", \"956\", \"1109\", \"995\", \"1202\", \"1543\", \"1332\", \"1361\", \"1483\", \"1413\", \"1151\", \"1490\", \"1704\", \"2057\", \"1994\", \"1778\", \"1724\", \"1537\", \"1692\", \"1981\", \"1949\"], \"textposition\": \"outside\", \"type\": \"bar\", \"x\": [\"Feb-22-2021\", \"Feb-23-2021\", \"Feb-24-2021\", \"Feb-25-2021\", \"Feb-26-2021\", \"Feb-27-2021\", \"Feb-28-2021\", \"Mar-01-2021\", \"Mar-02-2021\", \"Mar-03-2021\", \"Mar-04-2021\", \"Mar-05-2021\", \"Mar-06-2021\", \"Mar-07-2021\", \"Mar-08-2021\", \"Mar-09-2021\", \"Mar-10-2021\", \"Mar-11-2021\", \"Mar-12-2021\", \"Mar-13-2021\", \"Mar-14-2021\", \"Mar-15-2021\", \"Mar-16-2021\", \"Mar-17-2021\", \"Mar-18-2021\", \"Mar-19-2021\", \"Mar-20-2021\", \"Mar-21-2021\", \"Mar-22-2021\", \"Mar-23-2021\", \"Mar-24-2021\", \"Mar-25-2021\"], \"y\": [735, 716, 977, 878, 935, 1006, 1019, 900, 841, 1161, 980, 1119, 956, 1109, 995, 1202, 1543, 1332, 1361, 1483, 1413, 1151, 1490, 1704, 2057, 1994, 1778, 1724, 1537, 1692, 1981, 1949]}],\n",
       "                        {\"template\": {\"data\": {\"bar\": [{\"error_x\": {\"color\": \"#2a3f5f\"}, \"error_y\": {\"color\": \"#2a3f5f\"}, \"marker\": {\"line\": {\"color\": \"#E5ECF6\", \"width\": 0.5}}, \"type\": \"bar\"}], \"barpolar\": [{\"marker\": {\"line\": {\"color\": \"#E5ECF6\", \"width\": 0.5}}, \"type\": \"barpolar\"}], \"carpet\": [{\"aaxis\": {\"endlinecolor\": \"#2a3f5f\", \"gridcolor\": \"white\", \"linecolor\": \"white\", \"minorgridcolor\": \"white\", \"startlinecolor\": \"#2a3f5f\"}, \"baxis\": {\"endlinecolor\": \"#2a3f5f\", \"gridcolor\": \"white\", \"linecolor\": \"white\", \"minorgridcolor\": \"white\", \"startlinecolor\": \"#2a3f5f\"}, \"type\": \"carpet\"}], \"choropleth\": [{\"colorbar\": {\"outlinewidth\": 0, \"ticks\": \"\"}, \"type\": \"choropleth\"}], \"contour\": [{\"colorbar\": {\"outlinewidth\": 0, \"ticks\": \"\"}, \"colorscale\": [[0.0, \"#0d0887\"], [0.1111111111111111, \"#46039f\"], [0.2222222222222222, \"#7201a8\"], [0.3333333333333333, \"#9c179e\"], [0.4444444444444444, \"#bd3786\"], [0.5555555555555556, \"#d8576b\"], [0.6666666666666666, \"#ed7953\"], [0.7777777777777778, \"#fb9f3a\"], [0.8888888888888888, \"#fdca26\"], [1.0, \"#f0f921\"]], \"type\": \"contour\"}], \"contourcarpet\": [{\"colorbar\": {\"outlinewidth\": 0, \"ticks\": \"\"}, \"type\": \"contourcarpet\"}], \"heatmap\": [{\"colorbar\": {\"outlinewidth\": 0, \"ticks\": \"\"}, \"colorscale\": [[0.0, \"#0d0887\"], [0.1111111111111111, \"#46039f\"], [0.2222222222222222, \"#7201a8\"], [0.3333333333333333, \"#9c179e\"], [0.4444444444444444, \"#bd3786\"], [0.5555555555555556, \"#d8576b\"], [0.6666666666666666, \"#ed7953\"], [0.7777777777777778, \"#fb9f3a\"], [0.8888888888888888, \"#fdca26\"], [1.0, \"#f0f921\"]], \"type\": \"heatmap\"}], \"heatmapgl\": [{\"colorbar\": {\"outlinewidth\": 0, \"ticks\": \"\"}, \"colorscale\": [[0.0, \"#0d0887\"], [0.1111111111111111, \"#46039f\"], [0.2222222222222222, \"#7201a8\"], [0.3333333333333333, \"#9c179e\"], [0.4444444444444444, \"#bd3786\"], [0.5555555555555556, \"#d8576b\"], [0.6666666666666666, \"#ed7953\"], [0.7777777777777778, \"#fb9f3a\"], [0.8888888888888888, \"#fdca26\"], [1.0, \"#f0f921\"]], \"type\": \"heatmapgl\"}], \"histogram\": [{\"marker\": {\"colorbar\": {\"outlinewidth\": 0, \"ticks\": \"\"}}, \"type\": \"histogram\"}], \"histogram2d\": [{\"colorbar\": {\"outlinewidth\": 0, \"ticks\": \"\"}, \"colorscale\": [[0.0, \"#0d0887\"], [0.1111111111111111, \"#46039f\"], [0.2222222222222222, \"#7201a8\"], [0.3333333333333333, \"#9c179e\"], [0.4444444444444444, \"#bd3786\"], [0.5555555555555556, \"#d8576b\"], [0.6666666666666666, \"#ed7953\"], [0.7777777777777778, \"#fb9f3a\"], [0.8888888888888888, \"#fdca26\"], [1.0, \"#f0f921\"]], \"type\": \"histogram2d\"}], \"histogram2dcontour\": [{\"colorbar\": {\"outlinewidth\": 0, \"ticks\": \"\"}, \"colorscale\": [[0.0, \"#0d0887\"], [0.1111111111111111, \"#46039f\"], [0.2222222222222222, \"#7201a8\"], [0.3333333333333333, \"#9c179e\"], [0.4444444444444444, \"#bd3786\"], [0.5555555555555556, \"#d8576b\"], [0.6666666666666666, \"#ed7953\"], [0.7777777777777778, \"#fb9f3a\"], [0.8888888888888888, \"#fdca26\"], [1.0, \"#f0f921\"]], \"type\": \"histogram2dcontour\"}], \"mesh3d\": [{\"colorbar\": {\"outlinewidth\": 0, \"ticks\": \"\"}, \"type\": \"mesh3d\"}], \"parcoords\": [{\"line\": {\"colorbar\": {\"outlinewidth\": 0, \"ticks\": \"\"}}, \"type\": \"parcoords\"}], \"scatter\": [{\"marker\": {\"colorbar\": {\"outlinewidth\": 0, \"ticks\": \"\"}}, \"type\": \"scatter\"}], \"scatter3d\": [{\"line\": {\"colorbar\": {\"outlinewidth\": 0, \"ticks\": \"\"}}, \"marker\": {\"colorbar\": {\"outlinewidth\": 0, \"ticks\": \"\"}}, \"type\": \"scatter3d\"}], \"scattercarpet\": [{\"marker\": {\"colorbar\": {\"outlinewidth\": 0, \"ticks\": \"\"}}, \"type\": \"scattercarpet\"}], \"scattergeo\": [{\"marker\": {\"colorbar\": {\"outlinewidth\": 0, \"ticks\": \"\"}}, \"type\": \"scattergeo\"}], \"scattergl\": [{\"marker\": {\"colorbar\": {\"outlinewidth\": 0, \"ticks\": \"\"}}, \"type\": \"scattergl\"}], \"scattermapbox\": [{\"marker\": {\"colorbar\": {\"outlinewidth\": 0, \"ticks\": \"\"}}, \"type\": \"scattermapbox\"}], \"scatterpolar\": [{\"marker\": {\"colorbar\": {\"outlinewidth\": 0, \"ticks\": \"\"}}, \"type\": \"scatterpolar\"}], \"scatterpolargl\": [{\"marker\": {\"colorbar\": {\"outlinewidth\": 0, \"ticks\": \"\"}}, \"type\": \"scatterpolargl\"}], \"scatterternary\": [{\"marker\": {\"colorbar\": {\"outlinewidth\": 0, \"ticks\": \"\"}}, \"type\": \"scatterternary\"}], \"surface\": [{\"colorbar\": {\"outlinewidth\": 0, \"ticks\": \"\"}, \"colorscale\": [[0.0, \"#0d0887\"], [0.1111111111111111, \"#46039f\"], [0.2222222222222222, \"#7201a8\"], [0.3333333333333333, \"#9c179e\"], [0.4444444444444444, \"#bd3786\"], [0.5555555555555556, \"#d8576b\"], [0.6666666666666666, \"#ed7953\"], [0.7777777777777778, \"#fb9f3a\"], [0.8888888888888888, \"#fdca26\"], [1.0, \"#f0f921\"]], \"type\": \"surface\"}], \"table\": [{\"cells\": {\"fill\": {\"color\": \"#EBF0F8\"}, \"line\": {\"color\": \"white\"}}, \"header\": {\"fill\": {\"color\": \"#C8D4E3\"}, \"line\": {\"color\": \"white\"}}, \"type\": \"table\"}]}, \"layout\": {\"annotationdefaults\": {\"arrowcolor\": \"#2a3f5f\", \"arrowhead\": 0, \"arrowwidth\": 1}, \"colorscale\": {\"diverging\": [[0, \"#8e0152\"], [0.1, \"#c51b7d\"], [0.2, \"#de77ae\"], [0.3, \"#f1b6da\"], [0.4, \"#fde0ef\"], [0.5, \"#f7f7f7\"], [0.6, \"#e6f5d0\"], [0.7, \"#b8e186\"], [0.8, \"#7fbc41\"], [0.9, \"#4d9221\"], [1, \"#276419\"]], \"sequential\": [[0.0, \"#0d0887\"], [0.1111111111111111, \"#46039f\"], [0.2222222222222222, \"#7201a8\"], [0.3333333333333333, \"#9c179e\"], [0.4444444444444444, \"#bd3786\"], [0.5555555555555556, \"#d8576b\"], [0.6666666666666666, \"#ed7953\"], [0.7777777777777778, \"#fb9f3a\"], [0.8888888888888888, \"#fdca26\"], [1.0, \"#f0f921\"]], \"sequentialminus\": [[0.0, \"#0d0887\"], [0.1111111111111111, \"#46039f\"], [0.2222222222222222, \"#7201a8\"], [0.3333333333333333, \"#9c179e\"], [0.4444444444444444, \"#bd3786\"], [0.5555555555555556, \"#d8576b\"], [0.6666666666666666, \"#ed7953\"], [0.7777777777777778, \"#fb9f3a\"], [0.8888888888888888, \"#fdca26\"], [1.0, \"#f0f921\"]]}, \"colorway\": [\"#636efa\", \"#EF553B\", \"#00cc96\", \"#ab63fa\", \"#FFA15A\", \"#19d3f3\", \"#FF6692\", \"#B6E880\", \"#FF97FF\", \"#FECB52\"], \"font\": {\"color\": \"#2a3f5f\"}, \"geo\": {\"bgcolor\": \"white\", \"lakecolor\": \"white\", \"landcolor\": \"#E5ECF6\", \"showlakes\": true, \"showland\": true, \"subunitcolor\": \"white\"}, \"hoverlabel\": {\"align\": \"left\"}, \"hovermode\": \"closest\", \"mapbox\": {\"style\": \"light\"}, \"paper_bgcolor\": \"white\", \"plot_bgcolor\": \"#E5ECF6\", \"polar\": {\"angularaxis\": {\"gridcolor\": \"white\", \"linecolor\": \"white\", \"ticks\": \"\"}, \"bgcolor\": \"#E5ECF6\", \"radialaxis\": {\"gridcolor\": \"white\", \"linecolor\": \"white\", \"ticks\": \"\"}}, \"scene\": {\"xaxis\": {\"backgroundcolor\": \"#E5ECF6\", \"gridcolor\": \"white\", \"gridwidth\": 2, \"linecolor\": \"white\", \"showbackground\": true, \"ticks\": \"\", \"zerolinecolor\": \"white\"}, \"yaxis\": {\"backgroundcolor\": \"#E5ECF6\", \"gridcolor\": \"white\", \"gridwidth\": 2, \"linecolor\": \"white\", \"showbackground\": true, \"ticks\": \"\", \"zerolinecolor\": \"white\"}, \"zaxis\": {\"backgroundcolor\": \"#E5ECF6\", \"gridcolor\": \"white\", \"gridwidth\": 2, \"linecolor\": \"white\", \"showbackground\": true, \"ticks\": \"\", \"zerolinecolor\": \"white\"}}, \"shapedefaults\": {\"line\": {\"color\": \"#2a3f5f\"}}, \"ternary\": {\"aaxis\": {\"gridcolor\": \"white\", \"linecolor\": \"white\", \"ticks\": \"\"}, \"baxis\": {\"gridcolor\": \"white\", \"linecolor\": \"white\", \"ticks\": \"\"}, \"bgcolor\": \"#E5ECF6\", \"caxis\": {\"gridcolor\": \"white\", \"linecolor\": \"white\", \"ticks\": \"\"}}, \"title\": {\"x\": 0.05}, \"xaxis\": {\"automargin\": true, \"gridcolor\": \"white\", \"linecolor\": \"white\", \"ticks\": \"\", \"zerolinecolor\": \"white\", \"zerolinewidth\": 2}, \"yaxis\": {\"automargin\": true, \"gridcolor\": \"white\", \"linecolor\": \"white\", \"ticks\": \"\", \"zerolinecolor\": \"white\", \"zerolinewidth\": 2}}}, \"title\": {\"text\": \"ETHIOPIA - COVID19 NEW CASES\", \"x\": 0.5, \"xanchor\": \"center\", \"y\": 0.9, \"yanchor\": \"top\"}, \"xaxis\": {\"tickangle\": 90, \"title\": {\"font\": {\"color\": \"#BDBDBD\", \"size\": 18}, \"text\": \"<b>Date</b>\"}}, \"yaxis\": {\"title\": {\"font\": {\"size\": 18}, \"text\": \"<b>New Cases</b>\"}}},\n",
       "                        {\"responsive\": true}\n",
       "                    ).then(function(){\n",
       "                            \n",
       "var gd = document.getElementById('b94c7940-01b7-4f47-92ec-405f4affc492');\n",
       "var x = new MutationObserver(function (mutations, observer) {{\n",
       "        var display = window.getComputedStyle(gd).display;\n",
       "        if (!display || display === 'none') {{\n",
       "            console.log([gd, 'removed!']);\n",
       "            Plotly.purge(gd);\n",
       "            observer.disconnect();\n",
       "        }}\n",
       "}});\n",
       "\n",
       "// Listen for the removal of the full notebook cells\n",
       "var notebookContainer = gd.closest('#notebook-container');\n",
       "if (notebookContainer) {{\n",
       "    x.observe(notebookContainer, {childList: true});\n",
       "}}\n",
       "\n",
       "// Listen for the clearing of the current output cell\n",
       "var outputEl = gd.closest('.output');\n",
       "if (outputEl) {{\n",
       "    x.observe(outputEl, {childList: true});\n",
       "}}\n",
       "\n",
       "                        })\n",
       "                };\n",
       "                });\n",
       "            </script>\n",
       "        </div>"
      ]
     },
     "metadata": {},
     "output_type": "display_data"
    }
   ],
   "source": [
    "fig = go.Figure()\n",
    "\n",
    "eth_total_per_day = []\n",
    "\n",
    "for date in dates:   \n",
    "    total = eth[date].str.replace('+','').str.replace(',','').fillna(0).astype(int)\n",
    "    eth_total_per_day.append(int(total))\n",
    "    \n",
    "#     if eth[date].values[0] == 0:\n",
    "#         total = eth[date].values[0]\n",
    "#         eth_total_per_day.append(int(total))\n",
    "#     else: \n",
    "#         total = eth[date].str.replace('+','').fillna(0).str.replace(',','').fillna(0).astype(int)\n",
    "#         eth_total_per_day.append(int(total))\n",
    "    \n",
    "fig.add_trace(go.Bar(x=format_date(dates[-32:]),  y = eth_total_per_day[-32:],text=eth_total_per_day[-32:],textposition='outside',name = \"Ethiopia\",marker_color='#FFAA1D'))\n",
    "fig.update_layout(\n",
    "    title={\n",
    "        'text': \"ETHIOPIA - COVID19 NEW CASES\",\n",
    "        'y':0.9,\n",
    "        'x':0.5,\n",
    "        'xanchor': 'center',\n",
    "        'yanchor': 'top'},\n",
    "    xaxis=dict(title='<b>Date</b>',titlefont_size=18, titlefont=dict(color='#BDBDBD')),\n",
    "    yaxis=dict(title='<b>New Cases</b>',titlefont_size=18),\n",
    "    xaxis_tickangle=90,\n",
    ")\n",
    "\n",
    "fig.show()"
   ]
  },
  {
   "cell_type": "markdown",
   "metadata": {},
   "source": [
    "[Return to top](#top)"
   ]
  },
  {
   "cell_type": "code",
   "execution_count": 210,
   "metadata": {},
   "outputs": [
    {
     "data": {
      "text/plain": [
       "['South Africa',\n",
       " 'Morocco',\n",
       " 'Tunisia',\n",
       " 'Egypt',\n",
       " 'Ethiopia',\n",
       " 'Nigeria',\n",
       " 'Libya',\n",
       " 'Kenya',\n",
       " 'Algeria',\n",
       " 'Ghana']"
      ]
     },
     "execution_count": 210,
     "metadata": {},
     "output_type": "execute_result"
    }
   ],
   "source": [
    "total_confirmed_cases = pd.read_csv('../COVID19/World/TotalCases/TotalCases' + wa_latest[-12:])\n",
    "total_confirmed_cases = total_confirmed_cases[total_confirmed_cases['Country_Other'].isin(african_countries['country_Other'])]\n",
    "total_confirmed_cases.iloc[:, -1] = total_confirmed_cases.iloc[:, -1].str.replace(',','').astype(int)\n",
    "\n",
    "confirmed_cases_first10 = total_confirmed_cases.sort_values(total_confirmed_cases.iloc[:, -1].name, ascending=False)\n",
    "\n",
    "sorted_confirmsed_first10_values = confirmed_cases_first10.iloc[:, -1][:10].tolist()\n",
    "\n",
    "confirmed_cases_first10 = confirmed_cases_first10['Country_Other'][:10].tolist()\n",
    "confirmed_cases_first10\n",
    "# sorted_confirmsed_first10_values"
   ]
  },
  {
   "cell_type": "code",
   "execution_count": 211,
   "metadata": {},
   "outputs": [
    {
     "data": {
      "image/png": "[encoded data removed]",
      "text/plain": [
       "<Figure size 1440x1152 with 10 Axes>"
      ]
     },
     "metadata": {
      "needs_background": "light"
     },
     "output_type": "display_data"
    }
   ],
   "source": [
    "fig = plt.figure(figsize=(20, 16))\n",
    "plt.suptitle('TOP TEN COVID19 CONFIRMED CASES IN AFRICA: '+ date_string , fontsize=16)\n",
    "count_total_per_day=[]\n",
    "axes_y_position ={'y1':1.0}\n",
    "for count in confirmed_cases_first10:\n",
    "    afrik_count = countries_new_cases[countries_new_cases['Country_Other'] == count]\n",
    "    afrik_count =  afrik_count.copy()\n",
    "    afrik_count.fillna(0, inplace=True)\n",
    "    \n",
    "    for date in dates: \n",
    "        if afrik_count[date].values[0] == 0:\n",
    "            total = afrik_count[date].values[0]\n",
    "            count_total_per_day.append(int(total))\n",
    "        else: \n",
    "            total = afrik_count[date].str.replace('+','').fillna(0).str.replace(',','').fillna(0).astype(int)\n",
    "            count_total_per_day.append(int(total))   \n",
    "\n",
    "    ax = fig.add_subplot(len(confirmed_cases_first10)/2,2,confirmed_cases_first10.index(count) + 1)\n",
    "    ax.plot(format_date(dates), count_total_per_day, color='#FF800E', linewidth=2.5)\n",
    "    count_val = confirmed_cases_first10.index(count)\n",
    "    ax.set_title(str(count_val + 1) + ' - ' + count  +'        Total Confirmed:    '+'{: ,}'.format(sorted_confirmsed_first10_values[count_val]))\n",
    "    \n",
    "    if confirmed_cases_first10.index(count)== 4:\n",
    "        ax.set_ylabel('Daily New Cases', fontsize=24, color='#848484')\n",
    "\n",
    "    plt.xticks(rotation=90, fontsize=14)\n",
    "    plt.yticks(fontsize=12)\n",
    "    ax.xaxis.set_major_locator(plt.MaxNLocator(8))\n",
    "    if ax.get_position().y1 < axes_y_position['y1']:\n",
    "        axes_y_position['y1'] = ax.get_position().y1\n",
    "    \n",
    "    count_total_per_day=[] \n",
    "for a in fig.get_axes():\n",
    "    if a.get_position().y1 != axes_y_position['y1']:\n",
    "        tick_labels = ['']*len(a.get_xticklabels())\n",
    "        a.set_xticklabels(tick_labels)\n",
    "\n",
    "fig.subplots_adjust(top=0.92) "
   ]
  },
  {
   "cell_type": "code",
   "execution_count": 212,
   "metadata": {},
   "outputs": [
    {
     "data": {
      "application/vnd.plotly.v1+json": {
       "config": {
        "plotlyServerURL": "https://plot.ly"
       },
       "data": [
        {
         "marker": {
          "color": "#FFAA1D"
         },
         "name": "South Africa",
         "text": [
          "35",
          "51",
          "49",
          "85",
          "38",
          "117",
          "91",
          "108",
          "114",
          "87",
          "91",
          "64",
          "195",
          "196",
          "204",
          "238",
          "218",
          "170",
          "244",
          "148",
          "195",
          "381",
          "386",
          "239",
          "248",
          "242",
          "146",
          "184",
          "191",
          "288",
          "176",
          "338",
          "216",
          "226",
          "276",
          "339",
          "245",
          "265",
          "313",
          "229",
          "276",
          "389",
          "182",
          "387",
          "553",
          "307",
          "416",
          "241",
          "347",
          "350",
          "328",
          "389",
          "253",
          "315",
          "663",
          "409",
          "681",
          "627",
          "501",
          "403",
          "573",
          "490",
          "587",
          "745",
          "667",
          "661",
          "436",
          "675",
          "452",
          "649",
          "594",
          "684",
          "779",
          "490",
          "566",
          "561",
          "790",
          "626",
          "454",
          "603",
          "544",
          "575",
          "503",
          "460",
          "499",
          "575",
          "664",
          "571",
          "595",
          "463",
          "643",
          "595",
          "600",
          "653",
          "556",
          "562",
          "576",
          "543",
          "604",
          "591",
          "438",
          "555",
          "648",
          "624",
          "404",
          "481",
          "462",
          "386",
          "304",
          "288",
          "304",
          "457",
          "354",
          "443",
          "453",
          "437",
          "290",
          "423",
          "453",
          "373",
          "329",
          "325",
          "298",
          "417",
          "410",
          "593",
          "476",
          "340",
          "601",
          "322",
          "321",
          "252",
          "221",
          "296",
          "160",
          "250",
          "138",
          "143",
          "239",
          "216",
          "125",
          "156",
          "162",
          "100",
          "155",
          "296",
          "176",
          "197",
          "188",
          "160",
          "79",
          "132",
          "90",
          "126",
          "131",
          "221",
          "189",
          "97",
          "195",
          "176",
          "111",
          "125",
          "213",
          "136",
          "126",
          "136",
          "187",
          "201",
          "153",
          "126",
          "160",
          "58",
          "120",
          "118",
          "155",
          "103",
          "151",
          "111",
          "163",
          "164",
          "225",
          "179",
          "148",
          "212",
          "113",
          "133",
          "118",
          "72",
          "37",
          "138",
          "77",
          "48",
          "62",
          "119",
          "113",
          "147",
          "150",
          "170",
          "162",
          "111",
          "72",
          "137",
          "155",
          "180",
          "223",
          "59",
          "300",
          "94",
          "152",
          "180",
          "212",
          "156",
          "112",
          "152",
          "157",
          "152",
          "236",
          "146",
          "143",
          "246",
          "155",
          "56",
          "168",
          "198",
          "169",
          "246",
          "110",
          "82",
          "145",
          "281",
          "122",
          "343",
          "324",
          "310",
          "318",
          "390",
          "550",
          "474",
          "675",
          "796",
          "617",
          "418",
          "199",
          "758",
          "930",
          "1145",
          "806",
          "920",
          "501",
          "356",
          "999",
          "1133",
          "1041",
          "784",
          "829",
          "838",
          "397",
          "749",
          "1016",
          "1031",
          "980",
          "576",
          "917",
          "1271",
          "1354",
          "1664",
          "1565",
          "1544",
          "1585",
          "1024",
          "1244",
          "1270",
          "1398",
          "1479",
          "1867",
          "1598",
          "1444",
          "1617",
          "1301",
          "1386",
          "1964",
          "1483",
          "1633",
          "964",
          "1430",
          "1303",
          "1861",
          "864",
          "1114",
          "1883",
          "685",
          "676",
          "1634",
          "1138",
          "1340",
          "1624",
          "1588",
          "506",
          "643",
          "1056",
          "938",
          "1005",
          "1143",
          "520",
          "574",
          "1368",
          "869",
          "877",
          "662",
          "645",
          "521",
          "542",
          "571",
          "655",
          "634",
          "600",
          "341",
          "240",
          "360",
          "479",
          "464",
          "711",
          "371",
          "195",
          "269",
          "400",
          "346",
          "394",
          "287",
          "399",
          "205",
          "120",
          "238",
          "179",
          "187",
          "135",
          "130",
          "112",
          "86",
          "131",
          "208",
          "102",
          "97"
         ],
         "textposition": "outside",
         "type": "bar",
         "x": [
          "Apr-16-2020",
          "Apr-17-2020",
          "Apr-18-2020",
          "Apr-19-2020",
          "Apr-20-2020",
          "Apr-21-2020",
          "Apr-22-2020",
          "Apr-23-2020",
          "Apr-24-2020",
          "Apr-25-2020",
          "Apr-26-2020",
          "Apr-27-2020",
          "Apr-28-2020",
          "Apr-29-2020",
          "Apr-30-2020",
          "May-01-2020",
          "May-02-2020",
          "May-03-2020",
          "May-04-2020",
          "May-05-2020",
          "May-06-2020",
          "May-07-2020",
          "May-08-2020",
          "May-09-2020",
          "May-10-2020",
          "May-11-2020",
          "May-12-2020",
          "May-13-2020",
          "May-14-2020",
          "May-15-2020",
          "May-16-2020",
          "May-17-2020",
          "May-18-2020",
          "May-19-2020",
          "May-20-2020",
          "May-21-2020",
          "May-22-2020",
          "May-23-2020",
          "May-24-2020",
          "May-25-2020",
          "May-26-2020",
          "May-27-2020",
          "May-28-2020",
          "May-29-2020",
          "May-30-2020",
          "May-31-2020",
          "Jun-01-2020",
          "Jun-02-2020",
          "Jun-03-2020",
          "Jun-04-2020",
          "Jun-05-2020",
          "Jun-06-2020",
          "Jun-07-2020",
          "Jun-08-2020",
          "Jun-09-2020",
          "Jun-10-2020",
          "Jun-11-2020",
          "Jun-12-2020",
          "Jun-13-2020",
          "Jun-14-2020",
          "Jun-15-2020",
          "Jun-16-2020",
          "Jun-17-2020",
          "Jun-18-2020",
          "Jun-19-2020",
          "Jun-20-2020",
          "Jun-21-2020",
          "Jun-22-2020",
          "Jun-23-2020",
          "Jun-24-2020",
          "Jun-25-2020",
          "Jun-26-2020",
          "Jun-27-2020",
          "Jun-28-2020",
          "Jun-29-2020",
          "Jun-30-2020",
          "Jul-01-2020",
          "Jul-02-2020",
          "Jul-03-2020",
          "Jul-04-2020",
          "Jul-05-2020",
          "Jul-06-2020",
          "Jul-07-2020",
          "Jul-08-2020",
          "Jul-09-2020",
          "Jul-10-2020",
          "Jul-11-2020",
          "Jul-12-2020",
          "Jul-13-2020",
          "Jul-14-2020",
          "Jul-15-2020",
          "Jul-16-2020",
          "Jul-17-2020",
          "Jul-18-2020",
          "Jul-19-2020",
          "Jul-20-2020",
          "Jul-21-2020",
          "Jul-22-2020",
          "Jul-23-2020",
          "Jul-24-2020",
          "Jul-25-2020",
          "Jul-26-2020",
          "Jul-27-2020",
          "Jul-28-2020",
          "Jul-29-2020",
          "Jul-30-2020",
          "Jul-31-2020",
          "Aug-01-2020",
          "Aug-02-2020",
          "Aug-03-2020",
          "Aug-04-2020",
          "Aug-05-2020",
          "Aug-06-2020",
          "Aug-07-2020",
          "Aug-08-2020",
          "Aug-09-2020",
          "Aug-10-2020",
          "Aug-11-2020",
          "Aug-12-2020",
          "Aug-13-2020",
          "Aug-14-2020",
          "Aug-15-2020",
          "Aug-16-2020",
          "Aug-17-2020",
          "Aug-18-2020",
          "Aug-19-2020",
          "Aug-20-2020",
          "Aug-21-2020",
          "Aug-22-2020",
          "Aug-23-2020",
          "Aug-24-2020",
          "Aug-25-2020",
          "Aug-26-2020",
          "Aug-27-2020",
          "Aug-28-2020",
          "Aug-29-2020",
          "Aug-30-2020",
          "Aug-31-2020",
          "Sep-01-2020",
          "Sep-02-2020",
          "Sep-03-2020",
          "Sep-04-2020",
          "Sep-05-2020",
          "Sep-06-2020",
          "Sep-07-2020",
          "Sep-08-2020",
          "Sep-09-2020",
          "Sep-10-2020",
          "Sep-11-2020",
          "Sep-12-2020",
          "Sep-13-2020",
          "Sep-14-2020",
          "Sep-15-2020",
          "Sep-16-2020",
          "Sep-17-2020",
          "Sep-18-2020",
          "Sep-19-2020",
          "Sep-20-2020",
          "Sep-21-2020",
          "Sep-22-2020",
          "Sep-23-2020",
          "Sep-24-2020",
          "Sep-25-2020",
          "Sep-26-2020",
          "Sep-27-2020",
          "Sep-28-2020",
          "Sep-29-2020",
          "Sep-30-2020",
          "Oct-01-2020",
          "Oct-02-2020",
          "Oct-03-2020",
          "Oct-04-2020",
          "Oct-05-2020",
          "Oct-06-2020",
          "Oct-07-2020",
          "Oct-08-2020",
          "Oct-09-2020",
          "Oct-10-2020",
          "Oct-11-2020",
          "Oct-12-2020",
          "Oct-13-2020",
          "Oct-14-2020",
          "Oct-15-2020",
          "Oct-16-2020",
          "Oct-17-2020",
          "Oct-18-2020",
          "Oct-19-2020",
          "Oct-20-2020",
          "Oct-21-2020",
          "Oct-22-2020",
          "Oct-23-2020",
          "Oct-24-2020",
          "Oct-25-2020",
          "Oct-26-2020",
          "Oct-27-2020",
          "Oct-28-2020",
          "Oct-29-2020",
          "Oct-30-2020",
          "Oct-31-2020",
          "Nov-01-2020",
          "Nov-02-2020",
          "Nov-03-2020",
          "Nov-04-2020",
          "Nov-05-2020",
          "Nov-06-2020",
          "Nov-07-2020",
          "Nov-08-2020",
          "Nov-09-2020",
          "Nov-10-2020",
          "Nov-11-2020",
          "Nov-12-2020",
          "Nov-13-2020",
          "Nov-14-2020",
          "Nov-15-2020",
          "Nov-16-2020",
          "Nov-17-2020",
          "Nov-18-2020",
          "Nov-19-2020",
          "Nov-20-2020",
          "Nov-21-2020",
          "Nov-22-2020",
          "Nov-23-2020",
          "Nov-24-2020",
          "Nov-25-2020",
          "Nov-26-2020",
          "Nov-27-2020",
          "Nov-28-2020",
          "Nov-29-2020",
          "Nov-30-2020",
          "Dec-01-2020",
          "Dec-02-2020",
          "Dec-03-2020",
          "Dec-04-2020",
          "Dec-05-2020",
          "Dec-06-2020",
          "Dec-07-2020",
          "Dec-08-2020",
          "Dec-09-2020",
          "Dec-10-2020",
          "Dec-11-2020",
          "Dec-12-2020",
          "Dec-13-2020",
          "Dec-14-2020",
          "Dec-15-2020",
          "Dec-16-2020",
          "Dec-17-2020",
          "Dec-18-2020",
          "Dec-19-2020",
          "Dec-20-2020",
          "Dec-21-2020",
          "Dec-22-2020",
          "Dec-23-2020",
          "Dec-24-2020",
          "Dec-25-2020",
          "Dec-26-2020",
          "Dec-27-2020",
          "Dec-28-2020",
          "Dec-29-2020",
          "Dec-30-2020",
          "Dec-31-2020",
          "Jan-01-2021",
          "Jan-02-2021",
          "Jan-03-2021",
          "Jan-04-2021",
          "Jan-05-2021",
          "Jan-06-2021",
          "Jan-07-2021",
          "Jan-08-2021",
          "Jan-09-2021",
          "Jan-10-2021",
          "Jan-11-2021",
          "Jan-12-2021",
          "Jan-13-2021",
          "Jan-14-2021",
          "Jan-15-2021",
          "Jan-16-2021",
          "Jan-17-2021",
          "Jan-18-2021",
          "Jan-19-2021",
          "Jan-20-2021",
          "Jan-21-2021",
          "Jan-22-2021",
          "Jan-23-2021",
          "Jan-24-2021",
          "Jan-25-2021",
          "Jan-26-2021",
          "Jan-27-2021",
          "Jan-28-2021",
          "Jan-29-2021",
          "Jan-30-2021",
          "Jan-31-2021",
          "Feb-01-2021",
          "Feb-02-2021",
          "Feb-03-2021",
          "Feb-04-2021",
          "Feb-05-2021",
          "Feb-06-2021",
          "Feb-07-2021",
          "Feb-08-2021",
          "Feb-09-2021",
          "Feb-11-2021",
          "Feb-12-2021",
          "Feb-13-2021",
          "Feb-14-2021",
          "Feb-15-2021",
          "Feb-16-2021",
          "Feb-17-2021",
          "Feb-18-2021",
          "Feb-19-2021",
          "Feb-20-2021",
          "Feb-21-2021",
          "Feb-22-2021",
          "Feb-23-2021",
          "Feb-24-2021",
          "Feb-25-2021",
          "Feb-26-2021",
          "Feb-27-2021",
          "Feb-28-2021",
          "Mar-01-2021",
          "Mar-02-2021",
          "Mar-03-2021",
          "Mar-04-2021",
          "Mar-05-2021",
          "Mar-06-2021",
          "Mar-07-2021",
          "Mar-08-2021",
          "Mar-09-2021",
          "Mar-10-2021",
          "Mar-11-2021",
          "Mar-12-2021",
          "Mar-13-2021",
          "Mar-14-2021",
          "Mar-15-2021",
          "Mar-16-2021",
          "Mar-17-2021",
          "Mar-18-2021",
          "Mar-19-2021",
          "Mar-20-2021",
          "Mar-21-2021",
          "Mar-22-2021",
          "Mar-23-2021",
          "Mar-24-2021",
          "Mar-25-2021"
         ],
         "y": [
          35,
          51,
          49,
          85,
          38,
          117,
          91,
          108,
          114,
          87,
          91,
          64,
          195,
          196,
          204,
          238,
          218,
          170,
          244,
          148,
          195,
          381,
          386,
          239,
          248,
          242,
          146,
          184,
          191,
          288,
          176,
          338,
          216,
          226,
          276,
          339,
          245,
          265,
          313,
          229,
          276,
          389,
          182,
          387,
          553,
          307,
          416,
          241,
          347,
          350,
          328,
          389,
          253,
          315,
          663,
          409,
          681,
          627,
          501,
          403,
          573,
          490,
          587,
          745,
          667,
          661,
          436,
          675,
          452,
          649,
          594,
          684,
          779,
          490,
          566,
          561,
          790,
          626,
          454,
          603,
          544,
          575,
          503,
          460,
          499,
          575,
          664,
          571,
          595,
          463,
          643,
          595,
          600,
          653,
          556,
          562,
          576,
          543,
          604,
          591,
          438,
          555,
          648,
          624,
          404,
          481,
          462,
          386,
          304,
          288,
          304,
          457,
          354,
          443,
          453,
          437,
          290,
          423,
          453,
          373,
          329,
          325,
          298,
          417,
          410,
          593,
          476,
          340,
          601,
          322,
          321,
          252,
          221,
          296,
          160,
          250,
          138,
          143,
          239,
          216,
          125,
          156,
          162,
          100,
          155,
          296,
          176,
          197,
          188,
          160,
          79,
          132,
          90,
          126,
          131,
          221,
          189,
          97,
          195,
          176,
          111,
          125,
          213,
          136,
          126,
          136,
          187,
          201,
          153,
          126,
          160,
          58,
          120,
          118,
          155,
          103,
          151,
          111,
          163,
          164,
          225,
          179,
          148,
          212,
          113,
          133,
          118,
          72,
          37,
          138,
          77,
          48,
          62,
          119,
          113,
          147,
          150,
          170,
          162,
          111,
          72,
          137,
          155,
          180,
          223,
          59,
          300,
          94,
          152,
          180,
          212,
          156,
          112,
          152,
          157,
          152,
          236,
          146,
          143,
          246,
          155,
          56,
          168,
          198,
          169,
          246,
          110,
          82,
          145,
          281,
          122,
          343,
          324,
          310,
          318,
          390,
          550,
          474,
          675,
          796,
          617,
          418,
          199,
          758,
          930,
          1145,
          806,
          920,
          501,
          356,
          999,
          1133,
          1041,
          784,
          829,
          838,
          397,
          749,
          1016,
          1031,
          980,
          576,
          917,
          1271,
          1354,
          1664,
          1565,
          1544,
          1585,
          1024,
          1244,
          1270,
          1398,
          1479,
          1867,
          1598,
          1444,
          1617,
          1301,
          1386,
          1964,
          1483,
          1633,
          964,
          1430,
          1303,
          1861,
          864,
          1114,
          1883,
          685,
          676,
          1634,
          1138,
          1340,
          1624,
          1588,
          506,
          643,
          1056,
          938,
          1005,
          1143,
          520,
          574,
          1368,
          869,
          877,
          662,
          645,
          521,
          542,
          571,
          655,
          634,
          600,
          341,
          240,
          360,
          479,
          464,
          711,
          371,
          195,
          269,
          400,
          346,
          394,
          287,
          399,
          205,
          120,
          238,
          179,
          187,
          135,
          130,
          112,
          86,
          131,
          208,
          102,
          97
         ]
        }
       ],
       "layout": {
        "template": {
         "data": {
          "bar": [
           {
            "error_x": {
             "color": "#2a3f5f"
            },
            "error_y": {
             "color": "#2a3f5f"
            },
            "marker": {
             "line": {
              "color": "#E5ECF6",
              "width": 0.5
             }
            },
            "type": "bar"
           }
          ],
          "barpolar": [
           {
            "marker": {
             "line": {
              "color": "#E5ECF6",
              "width": 0.5
             }
            },
            "type": "barpolar"
           }
          ],
          "carpet": [
           {
            "aaxis": {
             "endlinecolor": "#2a3f5f",
             "gridcolor": "white",
             "linecolor": "white",
             "minorgridcolor": "white",
             "startlinecolor": "#2a3f5f"
            },
            "baxis": {
             "endlinecolor": "#2a3f5f",
             "gridcolor": "white",
             "linecolor": "white",
             "minorgridcolor": "white",
             "startlinecolor": "#2a3f5f"
            },
            "type": "carpet"
           }
          ],
          "choropleth": [
           {
            "colorbar": {
             "outlinewidth": 0,
             "ticks": ""
            },
            "type": "choropleth"
           }
          ],
          "contour": [
           {
            "colorbar": {
             "outlinewidth": 0,
             "ticks": ""
            },
            "colorscale": [
             [
              0,
              "#0d0887"
             ],
             [
              0.1111111111111111,
              "#46039f"
             ],
             [
              0.2222222222222222,
              "#7201a8"
             ],
             [
              0.3333333333333333,
              "#9c179e"
             ],
             [
              0.4444444444444444,
              "#bd3786"
             ],
             [
              0.5555555555555556,
              "#d8576b"
             ],
             [
              0.6666666666666666,
              "#ed7953"
             ],
             [
              0.7777777777777778,
              "#fb9f3a"
             ],
             [
              0.8888888888888888,
              "#fdca26"
             ],
             [
              1,
              "#f0f921"
             ]
            ],
            "type": "contour"
           }
          ],
          "contourcarpet": [
           {
            "colorbar": {
             "outlinewidth": 0,
             "ticks": ""
            },
            "type": "contourcarpet"
           }
          ],
          "heatmap": [
           {
            "colorbar": {
             "outlinewidth": 0,
             "ticks": ""
            },
            "colorscale": [
             [
              0,
              "#0d0887"
             ],
             [
              0.1111111111111111,
              "#46039f"
             ],
             [
              0.2222222222222222,
              "#7201a8"
             ],
             [
              0.3333333333333333,
              "#9c179e"
             ],
             [
              0.4444444444444444,
              "#bd3786"
             ],
             [
              0.5555555555555556,
              "#d8576b"
             ],
             [
              0.6666666666666666,
              "#ed7953"
             ],
             [
              0.7777777777777778,
              "#fb9f3a"
             ],
             [
              0.8888888888888888,
              "#fdca26"
             ],
             [
              1,
              "#f0f921"
             ]
            ],
            "type": "heatmap"
           }
          ],
          "heatmapgl": [
           {
            "colorbar": {
             "outlinewidth": 0,
             "ticks": ""
            },
            "colorscale": [
             [
              0,
              "#0d0887"
             ],
             [
              0.1111111111111111,
              "#46039f"
             ],
             [
              0.2222222222222222,
              "#7201a8"
             ],
             [
              0.3333333333333333,
              "#9c179e"
             ],
             [
              0.4444444444444444,
              "#bd3786"
             ],
             [
              0.5555555555555556,
              "#d8576b"
             ],
             [
              0.6666666666666666,
              "#ed7953"
             ],
             [
              0.7777777777777778,
              "#fb9f3a"
             ],
             [
              0.8888888888888888,
              "#fdca26"
             ],
             [
              1,
              "#f0f921"
             ]
            ],
            "type": "heatmapgl"
           }
          ],
          "histogram": [
           {
            "marker": {
             "colorbar": {
              "outlinewidth": 0,
              "ticks": ""
             }
            },
            "type": "histogram"
           }
          ],
          "histogram2d": [
           {
            "colorbar": {
             "outlinewidth": 0,
             "ticks": ""
            },
            "colorscale": [
             [
              0,
              "#0d0887"
             ],
             [
              0.1111111111111111,
              "#46039f"
             ],
             [
              0.2222222222222222,
              "#7201a8"
             ],
             [
              0.3333333333333333,
              "#9c179e"
             ],
             [
              0.4444444444444444,
              "#bd3786"
             ],
             [
              0.5555555555555556,
              "#d8576b"
             ],
             [
              0.6666666666666666,
              "#ed7953"
             ],
             [
              0.7777777777777778,
              "#fb9f3a"
             ],
             [
              0.8888888888888888,
              "#fdca26"
             ],
             [
              1,
              "#f0f921"
             ]
            ],
            "type": "histogram2d"
           }
          ],
          "histogram2dcontour": [
           {
            "colorbar": {
             "outlinewidth": 0,
             "ticks": ""
            },
            "colorscale": [
             [
              0,
              "#0d0887"
             ],
             [
              0.1111111111111111,
              "#46039f"
             ],
             [
              0.2222222222222222,
              "#7201a8"
             ],
             [
              0.3333333333333333,
              "#9c179e"
             ],
             [
              0.4444444444444444,
              "#bd3786"
             ],
             [
              0.5555555555555556,
              "#d8576b"
             ],
             [
              0.6666666666666666,
              "#ed7953"
             ],
             [
              0.7777777777777778,
              "#fb9f3a"
             ],
             [
              0.8888888888888888,
              "#fdca26"
             ],
             [
              1,
              "#f0f921"
             ]
            ],
            "type": "histogram2dcontour"
           }
          ],
          "mesh3d": [
           {
            "colorbar": {
             "outlinewidth": 0,
             "ticks": ""
            },
            "type": "mesh3d"
           }
          ],
          "parcoords": [
           {
            "line": {
             "colorbar": {
              "outlinewidth": 0,
              "ticks": ""
             }
            },
            "type": "parcoords"
           }
          ],
          "scatter": [
           {
            "marker": {
             "colorbar": {
              "outlinewidth": 0,
              "ticks": ""
             }
            },
            "type": "scatter"
           }
          ],
          "scatter3d": [
           {
            "line": {
             "colorbar": {
              "outlinewidth": 0,
              "ticks": ""
             }
            },
            "marker": {
             "colorbar": {
              "outlinewidth": 0,
              "ticks": ""
             }
            },
            "type": "scatter3d"
           }
          ],
          "scattercarpet": [
           {
            "marker": {
             "colorbar": {
              "outlinewidth": 0,
              "ticks": ""
             }
            },
            "type": "scattercarpet"
           }
          ],
          "scattergeo": [
           {
            "marker": {
             "colorbar": {
              "outlinewidth": 0,
              "ticks": ""
             }
            },
            "type": "scattergeo"
           }
          ],
          "scattergl": [
           {
            "marker": {
             "colorbar": {
              "outlinewidth": 0,
              "ticks": ""
             }
            },
            "type": "scattergl"
           }
          ],
          "scattermapbox": [
           {
            "marker": {
             "colorbar": {
              "outlinewidth": 0,
              "ticks": ""
             }
            },
            "type": "scattermapbox"
           }
          ],
          "scatterpolar": [
           {
            "marker": {
             "colorbar": {
              "outlinewidth": 0,
              "ticks": ""
             }
            },
            "type": "scatterpolar"
           }
          ],
          "scatterpolargl": [
           {
            "marker": {
             "colorbar": {
              "outlinewidth": 0,
              "ticks": ""
             }
            },
            "type": "scatterpolargl"
           }
          ],
          "scatterternary": [
           {
            "marker": {
             "colorbar": {
              "outlinewidth": 0,
              "ticks": ""
             }
            },
            "type": "scatterternary"
           }
          ],
          "surface": [
           {
            "colorbar": {
             "outlinewidth": 0,
             "ticks": ""
            },
            "colorscale": [
             [
              0,
              "#0d0887"
             ],
             [
              0.1111111111111111,
              "#46039f"
             ],
             [
              0.2222222222222222,
              "#7201a8"
             ],
             [
              0.3333333333333333,
              "#9c179e"
             ],
             [
              0.4444444444444444,
              "#bd3786"
             ],
             [
              0.5555555555555556,
              "#d8576b"
             ],
             [
              0.6666666666666666,
              "#ed7953"
             ],
             [
              0.7777777777777778,
              "#fb9f3a"
             ],
             [
              0.8888888888888888,
              "#fdca26"
             ],
             [
              1,
              "#f0f921"
             ]
            ],
            "type": "surface"
           }
          ],
          "table": [
           {
            "cells": {
             "fill": {
              "color": "#EBF0F8"
             },
             "line": {
              "color": "white"
             }
            },
            "header": {
             "fill": {
              "color": "#C8D4E3"
             },
             "line": {
              "color": "white"
             }
            },
            "type": "table"
           }
          ]
         },
         "layout": {
          "annotationdefaults": {
           "arrowcolor": "#2a3f5f",
           "arrowhead": 0,
           "arrowwidth": 1
          },
          "colorscale": {
           "diverging": [
            [
             0,
             "#8e0152"
            ],
            [
             0.1,
             "#c51b7d"
            ],
            [
             0.2,
             "#de77ae"
            ],
            [
             0.3,
             "#f1b6da"
            ],
            [
             0.4,
             "#fde0ef"
            ],
            [
             0.5,
             "#f7f7f7"
            ],
            [
             0.6,
             "#e6f5d0"
            ],
            [
             0.7,
             "#b8e186"
            ],
            [
             0.8,
             "#7fbc41"
            ],
            [
             0.9,
             "#4d9221"
            ],
            [
             1,
             "#276419"
            ]
           ],
           "sequential": [
            [
             0,
             "#0d0887"
            ],
            [
             0.1111111111111111,
             "#46039f"
            ],
            [
             0.2222222222222222,
             "#7201a8"
            ],
            [
             0.3333333333333333,
             "#9c179e"
            ],
            [
             0.4444444444444444,
             "#bd3786"
            ],
            [
             0.5555555555555556,
             "#d8576b"
            ],
            [
             0.6666666666666666,
             "#ed7953"
            ],
            [
             0.7777777777777778,
             "#fb9f3a"
            ],
            [
             0.8888888888888888,
             "#fdca26"
            ],
            [
             1,
             "#f0f921"
            ]
           ],
           "sequentialminus": [
            [
             0,
             "#0d0887"
            ],
            [
             0.1111111111111111,
             "#46039f"
            ],
            [
             0.2222222222222222,
             "#7201a8"
            ],
            [
             0.3333333333333333,
             "#9c179e"
            ],
            [
             0.4444444444444444,
             "#bd3786"
            ],
            [
             0.5555555555555556,
             "#d8576b"
            ],
            [
             0.6666666666666666,
             "#ed7953"
            ],
            [
             0.7777777777777778,
             "#fb9f3a"
            ],
            [
             0.8888888888888888,
             "#fdca26"
            ],
            [
             1,
             "#f0f921"
            ]
           ]
          },
          "colorway": [
           "#636efa",
           "#EF553B",
           "#00cc96",
           "#ab63fa",
           "#FFA15A",
           "#19d3f3",
           "#FF6692",
           "#B6E880",
           "#FF97FF",
           "#FECB52"
          ],
          "font": {
           "color": "#2a3f5f"
          },
          "geo": {
           "bgcolor": "white",
           "lakecolor": "white",
           "landcolor": "#E5ECF6",
           "showlakes": true,
           "showland": true,
           "subunitcolor": "white"
          },
          "hoverlabel": {
           "align": "left"
          },
          "hovermode": "closest",
          "mapbox": {
           "style": "light"
          },
          "paper_bgcolor": "white",
          "plot_bgcolor": "#E5ECF6",
          "polar": {
           "angularaxis": {
            "gridcolor": "white",
            "linecolor": "white",
            "ticks": ""
           },
           "bgcolor": "#E5ECF6",
           "radialaxis": {
            "gridcolor": "white",
            "linecolor": "white",
            "ticks": ""
           }
          },
          "scene": {
           "xaxis": {
            "backgroundcolor": "#E5ECF6",
            "gridcolor": "white",
            "gridwidth": 2,
            "linecolor": "white",
            "showbackground": true,
            "ticks": "",
            "zerolinecolor": "white"
           },
           "yaxis": {
            "backgroundcolor": "#E5ECF6",
            "gridcolor": "white",
            "gridwidth": 2,
            "linecolor": "white",
            "showbackground": true,
            "ticks": "",
            "zerolinecolor": "white"
           },
           "zaxis": {
            "backgroundcolor": "#E5ECF6",
            "gridcolor": "white",
            "gridwidth": 2,
            "linecolor": "white",
            "showbackground": true,
            "ticks": "",
            "zerolinecolor": "white"
           }
          },
          "shapedefaults": {
           "line": {
            "color": "#2a3f5f"
           }
          },
          "ternary": {
           "aaxis": {
            "gridcolor": "white",
            "linecolor": "white",
            "ticks": ""
           },
           "baxis": {
            "gridcolor": "white",
            "linecolor": "white",
            "ticks": ""
           },
           "bgcolor": "#E5ECF6",
           "caxis": {
            "gridcolor": "white",
            "linecolor": "white",
            "ticks": ""
           }
          },
          "title": {
           "x": 0.05
          },
          "xaxis": {
           "automargin": true,
           "gridcolor": "white",
           "linecolor": "white",
           "ticks": "",
           "zerolinecolor": "white",
           "zerolinewidth": 2
          },
          "yaxis": {
           "automargin": true,
           "gridcolor": "white",
           "linecolor": "white",
           "ticks": "",
           "zerolinecolor": "white",
           "zerolinewidth": 2
          }
         }
        },
        "title": {
         "text": "NIGERIA - COVID19 NEW CASES",
         "x": 0.5,
         "xanchor": "center",
         "y": 0.9,
         "yanchor": "top"
        },
        "xaxis": {
         "tickangle": 90,
         "title": {
          "font": {
           "color": "#BDBDBD",
           "size": 18
          },
          "text": "<b>Date</b>"
         }
        },
        "yaxis": {
         "title": {
          "font": {
           "size": 18
          },
          "text": "<b>New Cases</b>"
         }
        }
       }
      },
      "text/html": [
       "<div>\n",
       "        \n",
       "        \n",
       "            <div id=\"65f90eac-3e50-4580-af28-9890a5f7355a\" class=\"plotly-graph-div\" style=\"height:525px; width:100%;\"></div>\n",
       "            <script type=\"text/javascript\">\n",
       "                require([\"plotly\"], function(Plotly) {\n",
       "                    window.PLOTLYENV=window.PLOTLYENV || {};\n",
       "                    \n",
       "                if (document.getElementById(\"65f90eac-3e50-4580-af28-9890a5f7355a\")) {\n",
       "                    Plotly.newPlot(\n",
       "                        '65f90eac-3e50-4580-af28-9890a5f7355a',\n",
       "                        [{\"marker\": {\"color\": \"#FFAA1D\"}, \"name\": \"South Africa\", \"text\": [\"35\", \"51\", \"49\", \"85\", \"38\", \"117\", \"91\", \"108\", \"114\", \"87\", \"91\", \"64\", \"195\", \"196\", \"204\", \"238\", \"218\", \"170\", \"244\", \"148\", \"195\", \"381\", \"386\", \"239\", \"248\", \"242\", \"146\", \"184\", \"191\", \"288\", \"176\", \"338\", \"216\", \"226\", \"276\", \"339\", \"245\", \"265\", \"313\", \"229\", \"276\", \"389\", \"182\", \"387\", \"553\", \"307\", \"416\", \"241\", \"347\", \"350\", \"328\", \"389\", \"253\", \"315\", \"663\", \"409\", \"681\", \"627\", \"501\", \"403\", \"573\", \"490\", \"587\", \"745\", \"667\", \"661\", \"436\", \"675\", \"452\", \"649\", \"594\", \"684\", \"779\", \"490\", \"566\", \"561\", \"790\", \"626\", \"454\", \"603\", \"544\", \"575\", \"503\", \"460\", \"499\", \"575\", \"664\", \"571\", \"595\", \"463\", \"643\", \"595\", \"600\", \"653\", \"556\", \"562\", \"576\", \"543\", \"604\", \"591\", \"438\", \"555\", \"648\", \"624\", \"404\", \"481\", \"462\", \"386\", \"304\", \"288\", \"304\", \"457\", \"354\", \"443\", \"453\", \"437\", \"290\", \"423\", \"453\", \"373\", \"329\", \"325\", \"298\", \"417\", \"410\", \"593\", \"476\", \"340\", \"601\", \"322\", \"321\", \"252\", \"221\", \"296\", \"160\", \"250\", \"138\", \"143\", \"239\", \"216\", \"125\", \"156\", \"162\", \"100\", \"155\", \"296\", \"176\", \"197\", \"188\", \"160\", \"79\", \"132\", \"90\", \"126\", \"131\", \"221\", \"189\", \"97\", \"195\", \"176\", \"111\", \"125\", \"213\", \"136\", \"126\", \"136\", \"187\", \"201\", \"153\", \"126\", \"160\", \"58\", \"120\", \"118\", \"155\", \"103\", \"151\", \"111\", \"163\", \"164\", \"225\", \"179\", \"148\", \"212\", \"113\", \"133\", \"118\", \"72\", \"37\", \"138\", \"77\", \"48\", \"62\", \"119\", \"113\", \"147\", \"150\", \"170\", \"162\", \"111\", \"72\", \"137\", \"155\", \"180\", \"223\", \"59\", \"300\", \"94\", \"152\", \"180\", \"212\", \"156\", \"112\", \"152\", \"157\", \"152\", \"236\", \"146\", \"143\", \"246\", \"155\", \"56\", \"168\", \"198\", \"169\", \"246\", \"110\", \"82\", \"145\", \"281\", \"122\", \"343\", \"324\", \"310\", \"318\", \"390\", \"550\", \"474\", \"675\", \"796\", \"617\", \"418\", \"199\", \"758\", \"930\", \"1145\", \"806\", \"920\", \"501\", \"356\", \"999\", \"1133\", \"1041\", \"784\", \"829\", \"838\", \"397\", \"749\", \"1016\", \"1031\", \"980\", \"576\", \"917\", \"1271\", \"1354\", \"1664\", \"1565\", \"1544\", \"1585\", \"1024\", \"1244\", \"1270\", \"1398\", \"1479\", \"1867\", \"1598\", \"1444\", \"1617\", \"1301\", \"1386\", \"1964\", \"1483\", \"1633\", \"964\", \"1430\", \"1303\", \"1861\", \"864\", \"1114\", \"1883\", \"685\", \"676\", \"1634\", \"1138\", \"1340\", \"1624\", \"1588\", \"506\", \"643\", \"1056\", \"938\", \"1005\", \"1143\", \"520\", \"574\", \"1368\", \"869\", \"877\", \"662\", \"645\", \"521\", \"542\", \"571\", \"655\", \"634\", \"600\", \"341\", \"240\", \"360\", \"479\", \"464\", \"711\", \"371\", \"195\", \"269\", \"400\", \"346\", \"394\", \"287\", \"399\", \"205\", \"120\", \"238\", \"179\", \"187\", \"135\", \"130\", \"112\", \"86\", \"131\", \"208\", \"102\", \"97\"], \"textposition\": \"outside\", \"type\": \"bar\", \"x\": [\"Apr-16-2020\", \"Apr-17-2020\", \"Apr-18-2020\", \"Apr-19-2020\", \"Apr-20-2020\", \"Apr-21-2020\", \"Apr-22-2020\", \"Apr-23-2020\", \"Apr-24-2020\", \"Apr-25-2020\", \"Apr-26-2020\", \"Apr-27-2020\", \"Apr-28-2020\", \"Apr-29-2020\", \"Apr-30-2020\", \"May-01-2020\", \"May-02-2020\", \"May-03-2020\", \"May-04-2020\", \"May-05-2020\", \"May-06-2020\", \"May-07-2020\", \"May-08-2020\", \"May-09-2020\", \"May-10-2020\", \"May-11-2020\", \"May-12-2020\", \"May-13-2020\", \"May-14-2020\", \"May-15-2020\", \"May-16-2020\", \"May-17-2020\", \"May-18-2020\", \"May-19-2020\", \"May-20-2020\", \"May-21-2020\", \"May-22-2020\", \"May-23-2020\", \"May-24-2020\", \"May-25-2020\", \"May-26-2020\", \"May-27-2020\", \"May-28-2020\", \"May-29-2020\", \"May-30-2020\", \"May-31-2020\", \"Jun-01-2020\", \"Jun-02-2020\", \"Jun-03-2020\", \"Jun-04-2020\", \"Jun-05-2020\", \"Jun-06-2020\", \"Jun-07-2020\", \"Jun-08-2020\", \"Jun-09-2020\", \"Jun-10-2020\", \"Jun-11-2020\", \"Jun-12-2020\", \"Jun-13-2020\", \"Jun-14-2020\", \"Jun-15-2020\", \"Jun-16-2020\", \"Jun-17-2020\", \"Jun-18-2020\", \"Jun-19-2020\", \"Jun-20-2020\", \"Jun-21-2020\", \"Jun-22-2020\", \"Jun-23-2020\", \"Jun-24-2020\", \"Jun-25-2020\", \"Jun-26-2020\", \"Jun-27-2020\", \"Jun-28-2020\", \"Jun-29-2020\", \"Jun-30-2020\", \"Jul-01-2020\", \"Jul-02-2020\", \"Jul-03-2020\", \"Jul-04-2020\", \"Jul-05-2020\", \"Jul-06-2020\", \"Jul-07-2020\", \"Jul-08-2020\", \"Jul-09-2020\", \"Jul-10-2020\", \"Jul-11-2020\", \"Jul-12-2020\", \"Jul-13-2020\", \"Jul-14-2020\", \"Jul-15-2020\", \"Jul-16-2020\", \"Jul-17-2020\", \"Jul-18-2020\", \"Jul-19-2020\", \"Jul-20-2020\", \"Jul-21-2020\", \"Jul-22-2020\", \"Jul-23-2020\", \"Jul-24-2020\", \"Jul-25-2020\", \"Jul-26-2020\", \"Jul-27-2020\", \"Jul-28-2020\", \"Jul-29-2020\", \"Jul-30-2020\", \"Jul-31-2020\", \"Aug-01-2020\", \"Aug-02-2020\", \"Aug-03-2020\", \"Aug-04-2020\", \"Aug-05-2020\", \"Aug-06-2020\", \"Aug-07-2020\", \"Aug-08-2020\", \"Aug-09-2020\", \"Aug-10-2020\", \"Aug-11-2020\", \"Aug-12-2020\", \"Aug-13-2020\", \"Aug-14-2020\", \"Aug-15-2020\", \"Aug-16-2020\", \"Aug-17-2020\", \"Aug-18-2020\", \"Aug-19-2020\", \"Aug-20-2020\", \"Aug-21-2020\", \"Aug-22-2020\", \"Aug-23-2020\", \"Aug-24-2020\", \"Aug-25-2020\", \"Aug-26-2020\", \"Aug-27-2020\", \"Aug-28-2020\", \"Aug-29-2020\", \"Aug-30-2020\", \"Aug-31-2020\", \"Sep-01-2020\", \"Sep-02-2020\", \"Sep-03-2020\", \"Sep-04-2020\", \"Sep-05-2020\", \"Sep-06-2020\", \"Sep-07-2020\", \"Sep-08-2020\", \"Sep-09-2020\", \"Sep-10-2020\", \"Sep-11-2020\", \"Sep-12-2020\", \"Sep-13-2020\", \"Sep-14-2020\", \"Sep-15-2020\", \"Sep-16-2020\", \"Sep-17-2020\", \"Sep-18-2020\", \"Sep-19-2020\", \"Sep-20-2020\", \"Sep-21-2020\", \"Sep-22-2020\", \"Sep-23-2020\", \"Sep-24-2020\", \"Sep-25-2020\", \"Sep-26-2020\", \"Sep-27-2020\", \"Sep-28-2020\", \"Sep-29-2020\", \"Sep-30-2020\", \"Oct-01-2020\", \"Oct-02-2020\", \"Oct-03-2020\", \"Oct-04-2020\", \"Oct-05-2020\", \"Oct-06-2020\", \"Oct-07-2020\", \"Oct-08-2020\", \"Oct-09-2020\", \"Oct-10-2020\", \"Oct-11-2020\", \"Oct-12-2020\", \"Oct-13-2020\", \"Oct-14-2020\", \"Oct-15-2020\", \"Oct-16-2020\", \"Oct-17-2020\", \"Oct-18-2020\", \"Oct-19-2020\", \"Oct-20-2020\", \"Oct-21-2020\", \"Oct-22-2020\", \"Oct-23-2020\", \"Oct-24-2020\", \"Oct-25-2020\", \"Oct-26-2020\", \"Oct-27-2020\", \"Oct-28-2020\", \"Oct-29-2020\", \"Oct-30-2020\", \"Oct-31-2020\", \"Nov-01-2020\", \"Nov-02-2020\", \"Nov-03-2020\", \"Nov-04-2020\", \"Nov-05-2020\", \"Nov-06-2020\", \"Nov-07-2020\", \"Nov-08-2020\", \"Nov-09-2020\", \"Nov-10-2020\", \"Nov-11-2020\", \"Nov-12-2020\", \"Nov-13-2020\", \"Nov-14-2020\", \"Nov-15-2020\", \"Nov-16-2020\", \"Nov-17-2020\", \"Nov-18-2020\", \"Nov-19-2020\", \"Nov-20-2020\", \"Nov-21-2020\", \"Nov-22-2020\", \"Nov-23-2020\", \"Nov-24-2020\", \"Nov-25-2020\", \"Nov-26-2020\", \"Nov-27-2020\", \"Nov-28-2020\", \"Nov-29-2020\", \"Nov-30-2020\", \"Dec-01-2020\", \"Dec-02-2020\", \"Dec-03-2020\", \"Dec-04-2020\", \"Dec-05-2020\", \"Dec-06-2020\", \"Dec-07-2020\", \"Dec-08-2020\", \"Dec-09-2020\", \"Dec-10-2020\", \"Dec-11-2020\", \"Dec-12-2020\", \"Dec-13-2020\", \"Dec-14-2020\", \"Dec-15-2020\", \"Dec-16-2020\", \"Dec-17-2020\", \"Dec-18-2020\", \"Dec-19-2020\", \"Dec-20-2020\", \"Dec-21-2020\", \"Dec-22-2020\", \"Dec-23-2020\", \"Dec-24-2020\", \"Dec-25-2020\", \"Dec-26-2020\", \"Dec-27-2020\", \"Dec-28-2020\", \"Dec-29-2020\", \"Dec-30-2020\", \"Dec-31-2020\", \"Jan-01-2021\", \"Jan-02-2021\", \"Jan-03-2021\", \"Jan-04-2021\", \"Jan-05-2021\", \"Jan-06-2021\", \"Jan-07-2021\", \"Jan-08-2021\", \"Jan-09-2021\", \"Jan-10-2021\", \"Jan-11-2021\", \"Jan-12-2021\", \"Jan-13-2021\", \"Jan-14-2021\", \"Jan-15-2021\", \"Jan-16-2021\", \"Jan-17-2021\", \"Jan-18-2021\", \"Jan-19-2021\", \"Jan-20-2021\", \"Jan-21-2021\", \"Jan-22-2021\", \"Jan-23-2021\", \"Jan-24-2021\", \"Jan-25-2021\", \"Jan-26-2021\", \"Jan-27-2021\", \"Jan-28-2021\", \"Jan-29-2021\", \"Jan-30-2021\", \"Jan-31-2021\", \"Feb-01-2021\", \"Feb-02-2021\", \"Feb-03-2021\", \"Feb-04-2021\", \"Feb-05-2021\", \"Feb-06-2021\", \"Feb-07-2021\", \"Feb-08-2021\", \"Feb-09-2021\", \"Feb-11-2021\", \"Feb-12-2021\", \"Feb-13-2021\", \"Feb-14-2021\", \"Feb-15-2021\", \"Feb-16-2021\", \"Feb-17-2021\", \"Feb-18-2021\", \"Feb-19-2021\", \"Feb-20-2021\", \"Feb-21-2021\", \"Feb-22-2021\", \"Feb-23-2021\", \"Feb-24-2021\", \"Feb-25-2021\", \"Feb-26-2021\", \"Feb-27-2021\", \"Feb-28-2021\", \"Mar-01-2021\", \"Mar-02-2021\", \"Mar-03-2021\", \"Mar-04-2021\", \"Mar-05-2021\", \"Mar-06-2021\", \"Mar-07-2021\", \"Mar-08-2021\", \"Mar-09-2021\", \"Mar-10-2021\", \"Mar-11-2021\", \"Mar-12-2021\", \"Mar-13-2021\", \"Mar-14-2021\", \"Mar-15-2021\", \"Mar-16-2021\", \"Mar-17-2021\", \"Mar-18-2021\", \"Mar-19-2021\", \"Mar-20-2021\", \"Mar-21-2021\", \"Mar-22-2021\", \"Mar-23-2021\", \"Mar-24-2021\", \"Mar-25-2021\"], \"y\": [35, 51, 49, 85, 38, 117, 91, 108, 114, 87, 91, 64, 195, 196, 204, 238, 218, 170, 244, 148, 195, 381, 386, 239, 248, 242, 146, 184, 191, 288, 176, 338, 216, 226, 276, 339, 245, 265, 313, 229, 276, 389, 182, 387, 553, 307, 416, 241, 347, 350, 328, 389, 253, 315, 663, 409, 681, 627, 501, 403, 573, 490, 587, 745, 667, 661, 436, 675, 452, 649, 594, 684, 779, 490, 566, 561, 790, 626, 454, 603, 544, 575, 503, 460, 499, 575, 664, 571, 595, 463, 643, 595, 600, 653, 556, 562, 576, 543, 604, 591, 438, 555, 648, 624, 404, 481, 462, 386, 304, 288, 304, 457, 354, 443, 453, 437, 290, 423, 453, 373, 329, 325, 298, 417, 410, 593, 476, 340, 601, 322, 321, 252, 221, 296, 160, 250, 138, 143, 239, 216, 125, 156, 162, 100, 155, 296, 176, 197, 188, 160, 79, 132, 90, 126, 131, 221, 189, 97, 195, 176, 111, 125, 213, 136, 126, 136, 187, 201, 153, 126, 160, 58, 120, 118, 155, 103, 151, 111, 163, 164, 225, 179, 148, 212, 113, 133, 118, 72, 37, 138, 77, 48, 62, 119, 113, 147, 150, 170, 162, 111, 72, 137, 155, 180, 223, 59, 300, 94, 152, 180, 212, 156, 112, 152, 157, 152, 236, 146, 143, 246, 155, 56, 168, 198, 169, 246, 110, 82, 145, 281, 122, 343, 324, 310, 318, 390, 550, 474, 675, 796, 617, 418, 199, 758, 930, 1145, 806, 920, 501, 356, 999, 1133, 1041, 784, 829, 838, 397, 749, 1016, 1031, 980, 576, 917, 1271, 1354, 1664, 1565, 1544, 1585, 1024, 1244, 1270, 1398, 1479, 1867, 1598, 1444, 1617, 1301, 1386, 1964, 1483, 1633, 964, 1430, 1303, 1861, 864, 1114, 1883, 685, 676, 1634, 1138, 1340, 1624, 1588, 506, 643, 1056, 938, 1005, 1143, 520, 574, 1368, 869, 877, 662, 645, 521, 542, 571, 655, 634, 600, 341, 240, 360, 479, 464, 711, 371, 195, 269, 400, 346, 394, 287, 399, 205, 120, 238, 179, 187, 135, 130, 112, 86, 131, 208, 102, 97]}],\n",
       "                        {\"template\": {\"data\": {\"bar\": [{\"error_x\": {\"color\": \"#2a3f5f\"}, \"error_y\": {\"color\": \"#2a3f5f\"}, \"marker\": {\"line\": {\"color\": \"#E5ECF6\", \"width\": 0.5}}, \"type\": \"bar\"}], \"barpolar\": [{\"marker\": {\"line\": {\"color\": \"#E5ECF6\", \"width\": 0.5}}, \"type\": \"barpolar\"}], \"carpet\": [{\"aaxis\": {\"endlinecolor\": \"#2a3f5f\", \"gridcolor\": \"white\", \"linecolor\": \"white\", \"minorgridcolor\": \"white\", \"startlinecolor\": \"#2a3f5f\"}, \"baxis\": {\"endlinecolor\": \"#2a3f5f\", \"gridcolor\": \"white\", \"linecolor\": \"white\", \"minorgridcolor\": \"white\", \"startlinecolor\": \"#2a3f5f\"}, \"type\": \"carpet\"}], \"choropleth\": [{\"colorbar\": {\"outlinewidth\": 0, \"ticks\": \"\"}, \"type\": \"choropleth\"}], \"contour\": [{\"colorbar\": {\"outlinewidth\": 0, \"ticks\": \"\"}, \"colorscale\": [[0.0, \"#0d0887\"], [0.1111111111111111, \"#46039f\"], [0.2222222222222222, \"#7201a8\"], [0.3333333333333333, \"#9c179e\"], [0.4444444444444444, \"#bd3786\"], [0.5555555555555556, \"#d8576b\"], [0.6666666666666666, \"#ed7953\"], [0.7777777777777778, \"#fb9f3a\"], [0.8888888888888888, \"#fdca26\"], [1.0, \"#f0f921\"]], \"type\": \"contour\"}], \"contourcarpet\": [{\"colorbar\": {\"outlinewidth\": 0, \"ticks\": \"\"}, \"type\": \"contourcarpet\"}], \"heatmap\": [{\"colorbar\": {\"outlinewidth\": 0, \"ticks\": \"\"}, \"colorscale\": [[0.0, \"#0d0887\"], [0.1111111111111111, \"#46039f\"], [0.2222222222222222, \"#7201a8\"], [0.3333333333333333, \"#9c179e\"], [0.4444444444444444, \"#bd3786\"], [0.5555555555555556, \"#d8576b\"], [0.6666666666666666, \"#ed7953\"], [0.7777777777777778, \"#fb9f3a\"], [0.8888888888888888, \"#fdca26\"], [1.0, \"#f0f921\"]], \"type\": \"heatmap\"}], \"heatmapgl\": [{\"colorbar\": {\"outlinewidth\": 0, \"ticks\": \"\"}, \"colorscale\": [[0.0, \"#0d0887\"], [0.1111111111111111, \"#46039f\"], [0.2222222222222222, \"#7201a8\"], [0.3333333333333333, \"#9c179e\"], [0.4444444444444444, \"#bd3786\"], [0.5555555555555556, \"#d8576b\"], [0.6666666666666666, \"#ed7953\"], [0.7777777777777778, \"#fb9f3a\"], [0.8888888888888888, \"#fdca26\"], [1.0, \"#f0f921\"]], \"type\": \"heatmapgl\"}], \"histogram\": [{\"marker\": {\"colorbar\": {\"outlinewidth\": 0, \"ticks\": \"\"}}, \"type\": \"histogram\"}], \"histogram2d\": [{\"colorbar\": {\"outlinewidth\": 0, \"ticks\": \"\"}, \"colorscale\": [[0.0, \"#0d0887\"], [0.1111111111111111, \"#46039f\"], [0.2222222222222222, \"#7201a8\"], [0.3333333333333333, \"#9c179e\"], [0.4444444444444444, \"#bd3786\"], [0.5555555555555556, \"#d8576b\"], [0.6666666666666666, \"#ed7953\"], [0.7777777777777778, \"#fb9f3a\"], [0.8888888888888888, \"#fdca26\"], [1.0, \"#f0f921\"]], \"type\": \"histogram2d\"}], \"histogram2dcontour\": [{\"colorbar\": {\"outlinewidth\": 0, \"ticks\": \"\"}, \"colorscale\": [[0.0, \"#0d0887\"], [0.1111111111111111, \"#46039f\"], [0.2222222222222222, \"#7201a8\"], [0.3333333333333333, \"#9c179e\"], [0.4444444444444444, \"#bd3786\"], [0.5555555555555556, \"#d8576b\"], [0.6666666666666666, \"#ed7953\"], [0.7777777777777778, \"#fb9f3a\"], [0.8888888888888888, \"#fdca26\"], [1.0, \"#f0f921\"]], \"type\": \"histogram2dcontour\"}], \"mesh3d\": [{\"colorbar\": {\"outlinewidth\": 0, \"ticks\": \"\"}, \"type\": \"mesh3d\"}], \"parcoords\": [{\"line\": {\"colorbar\": {\"outlinewidth\": 0, \"ticks\": \"\"}}, \"type\": \"parcoords\"}], \"scatter\": [{\"marker\": {\"colorbar\": {\"outlinewidth\": 0, \"ticks\": \"\"}}, \"type\": \"scatter\"}], \"scatter3d\": [{\"line\": {\"colorbar\": {\"outlinewidth\": 0, \"ticks\": \"\"}}, \"marker\": {\"colorbar\": {\"outlinewidth\": 0, \"ticks\": \"\"}}, \"type\": \"scatter3d\"}], \"scattercarpet\": [{\"marker\": {\"colorbar\": {\"outlinewidth\": 0, \"ticks\": \"\"}}, \"type\": \"scattercarpet\"}], \"scattergeo\": [{\"marker\": {\"colorbar\": {\"outlinewidth\": 0, \"ticks\": \"\"}}, \"type\": \"scattergeo\"}], \"scattergl\": [{\"marker\": {\"colorbar\": {\"outlinewidth\": 0, \"ticks\": \"\"}}, \"type\": \"scattergl\"}], \"scattermapbox\": [{\"marker\": {\"colorbar\": {\"outlinewidth\": 0, \"ticks\": \"\"}}, \"type\": \"scattermapbox\"}], \"scatterpolar\": [{\"marker\": {\"colorbar\": {\"outlinewidth\": 0, \"ticks\": \"\"}}, \"type\": \"scatterpolar\"}], \"scatterpolargl\": [{\"marker\": {\"colorbar\": {\"outlinewidth\": 0, \"ticks\": \"\"}}, \"type\": \"scatterpolargl\"}], \"scatterternary\": [{\"marker\": {\"colorbar\": {\"outlinewidth\": 0, \"ticks\": \"\"}}, \"type\": \"scatterternary\"}], \"surface\": [{\"colorbar\": {\"outlinewidth\": 0, \"ticks\": \"\"}, \"colorscale\": [[0.0, \"#0d0887\"], [0.1111111111111111, \"#46039f\"], [0.2222222222222222, \"#7201a8\"], [0.3333333333333333, \"#9c179e\"], [0.4444444444444444, \"#bd3786\"], [0.5555555555555556, \"#d8576b\"], [0.6666666666666666, \"#ed7953\"], [0.7777777777777778, \"#fb9f3a\"], [0.8888888888888888, \"#fdca26\"], [1.0, \"#f0f921\"]], \"type\": \"surface\"}], \"table\": [{\"cells\": {\"fill\": {\"color\": \"#EBF0F8\"}, \"line\": {\"color\": \"white\"}}, \"header\": {\"fill\": {\"color\": \"#C8D4E3\"}, \"line\": {\"color\": \"white\"}}, \"type\": \"table\"}]}, \"layout\": {\"annotationdefaults\": {\"arrowcolor\": \"#2a3f5f\", \"arrowhead\": 0, \"arrowwidth\": 1}, \"colorscale\": {\"diverging\": [[0, \"#8e0152\"], [0.1, \"#c51b7d\"], [0.2, \"#de77ae\"], [0.3, \"#f1b6da\"], [0.4, \"#fde0ef\"], [0.5, \"#f7f7f7\"], [0.6, \"#e6f5d0\"], [0.7, \"#b8e186\"], [0.8, \"#7fbc41\"], [0.9, \"#4d9221\"], [1, \"#276419\"]], \"sequential\": [[0.0, \"#0d0887\"], [0.1111111111111111, \"#46039f\"], [0.2222222222222222, \"#7201a8\"], [0.3333333333333333, \"#9c179e\"], [0.4444444444444444, \"#bd3786\"], [0.5555555555555556, \"#d8576b\"], [0.6666666666666666, \"#ed7953\"], [0.7777777777777778, \"#fb9f3a\"], [0.8888888888888888, \"#fdca26\"], [1.0, \"#f0f921\"]], \"sequentialminus\": [[0.0, \"#0d0887\"], [0.1111111111111111, \"#46039f\"], [0.2222222222222222, \"#7201a8\"], [0.3333333333333333, \"#9c179e\"], [0.4444444444444444, \"#bd3786\"], [0.5555555555555556, \"#d8576b\"], [0.6666666666666666, \"#ed7953\"], [0.7777777777777778, \"#fb9f3a\"], [0.8888888888888888, \"#fdca26\"], [1.0, \"#f0f921\"]]}, \"colorway\": [\"#636efa\", \"#EF553B\", \"#00cc96\", \"#ab63fa\", \"#FFA15A\", \"#19d3f3\", \"#FF6692\", \"#B6E880\", \"#FF97FF\", \"#FECB52\"], \"font\": {\"color\": \"#2a3f5f\"}, \"geo\": {\"bgcolor\": \"white\", \"lakecolor\": \"white\", \"landcolor\": \"#E5ECF6\", \"showlakes\": true, \"showland\": true, \"subunitcolor\": \"white\"}, \"hoverlabel\": {\"align\": \"left\"}, \"hovermode\": \"closest\", \"mapbox\": {\"style\": \"light\"}, \"paper_bgcolor\": \"white\", \"plot_bgcolor\": \"#E5ECF6\", \"polar\": {\"angularaxis\": {\"gridcolor\": \"white\", \"linecolor\": \"white\", \"ticks\": \"\"}, \"bgcolor\": \"#E5ECF6\", \"radialaxis\": {\"gridcolor\": \"white\", \"linecolor\": \"white\", \"ticks\": \"\"}}, \"scene\": {\"xaxis\": {\"backgroundcolor\": \"#E5ECF6\", \"gridcolor\": \"white\", \"gridwidth\": 2, \"linecolor\": \"white\", \"showbackground\": true, \"ticks\": \"\", \"zerolinecolor\": \"white\"}, \"yaxis\": {\"backgroundcolor\": \"#E5ECF6\", \"gridcolor\": \"white\", \"gridwidth\": 2, \"linecolor\": \"white\", \"showbackground\": true, \"ticks\": \"\", \"zerolinecolor\": \"white\"}, \"zaxis\": {\"backgroundcolor\": \"#E5ECF6\", \"gridcolor\": \"white\", \"gridwidth\": 2, \"linecolor\": \"white\", \"showbackground\": true, \"ticks\": \"\", \"zerolinecolor\": \"white\"}}, \"shapedefaults\": {\"line\": {\"color\": \"#2a3f5f\"}}, \"ternary\": {\"aaxis\": {\"gridcolor\": \"white\", \"linecolor\": \"white\", \"ticks\": \"\"}, \"baxis\": {\"gridcolor\": \"white\", \"linecolor\": \"white\", \"ticks\": \"\"}, \"bgcolor\": \"#E5ECF6\", \"caxis\": {\"gridcolor\": \"white\", \"linecolor\": \"white\", \"ticks\": \"\"}}, \"title\": {\"x\": 0.05}, \"xaxis\": {\"automargin\": true, \"gridcolor\": \"white\", \"linecolor\": \"white\", \"ticks\": \"\", \"zerolinecolor\": \"white\", \"zerolinewidth\": 2}, \"yaxis\": {\"automargin\": true, \"gridcolor\": \"white\", \"linecolor\": \"white\", \"ticks\": \"\", \"zerolinecolor\": \"white\", \"zerolinewidth\": 2}}}, \"title\": {\"text\": \"NIGERIA - COVID19 NEW CASES\", \"x\": 0.5, \"xanchor\": \"center\", \"y\": 0.9, \"yanchor\": \"top\"}, \"xaxis\": {\"tickangle\": 90, \"title\": {\"font\": {\"color\": \"#BDBDBD\", \"size\": 18}, \"text\": \"<b>Date</b>\"}}, \"yaxis\": {\"title\": {\"font\": {\"size\": 18}, \"text\": \"<b>New Cases</b>\"}}},\n",
       "                        {\"responsive\": true}\n",
       "                    ).then(function(){\n",
       "                            \n",
       "var gd = document.getElementById('65f90eac-3e50-4580-af28-9890a5f7355a');\n",
       "var x = new MutationObserver(function (mutations, observer) {{\n",
       "        var display = window.getComputedStyle(gd).display;\n",
       "        if (!display || display === 'none') {{\n",
       "            console.log([gd, 'removed!']);\n",
       "            Plotly.purge(gd);\n",
       "            observer.disconnect();\n",
       "        }}\n",
       "}});\n",
       "\n",
       "// Listen for the removal of the full notebook cells\n",
       "var notebookContainer = gd.closest('#notebook-container');\n",
       "if (notebookContainer) {{\n",
       "    x.observe(notebookContainer, {childList: true});\n",
       "}}\n",
       "\n",
       "// Listen for the clearing of the current output cell\n",
       "var outputEl = gd.closest('.output');\n",
       "if (outputEl) {{\n",
       "    x.observe(outputEl, {childList: true});\n",
       "}}\n",
       "\n",
       "                        })\n",
       "                };\n",
       "                });\n",
       "            </script>\n",
       "        </div>"
      ]
     },
     "metadata": {},
     "output_type": "display_data"
    }
   ],
   "source": [
    "fig = go.Figure()\n",
    "\n",
    "ngr_total_per_day = []\n",
    "for date in dates:    \n",
    "    total = ngr[date].str.replace('+','').fillna(0).str.replace(',','').fillna(0).astype(int)\n",
    "    ngr_total_per_day.append(int(total))\n",
    "    \n",
    "fig.add_trace(go.Bar(x=format_date(dates),  y = ngr_total_per_day,text=ngr_total_per_day,textposition='outside',name = \"Nigeria\",marker_color='#FFAA1D'))\n",
    "fig.update_layout(\n",
    "    title={\n",
    "        'text': \"NIGERIA - COVID19 NEW CASES\",\n",
    "        'y':0.9,\n",
    "        'x':0.5,\n",
    "        'xanchor': 'center',\n",
    "        'yanchor': 'top'},\n",
    "    xaxis=dict(title='<b>Date</b>',titlefont_size=18, titlefont=dict(color='#BDBDBD')),\n",
    "    yaxis=dict(title='<b>New Cases</b>',titlefont_size=18),\n",
    "    xaxis_tickangle=90,\n",
    ")\n",
    "\n",
    "fig.show()"
   ]
  },
  {
   "cell_type": "markdown",
   "metadata": {},
   "source": [
    "[Return to top](#top)"
   ]
  }
 ],
 "metadata": {
  "kernelspec": {
   "display_name": "Python 3",
   "language": "python",
   "name": "python3"
  },
  "language_info": {
   "codemirror_mode": {
    "name": "ipython",
    "version": 3
   },
   "file_extension": ".py",
   "mimetype": "text/x-python",
   "name": "python",
   "nbconvert_exporter": "python",
   "pygments_lexer": "ipython3",
   "version": "3.7.4"
  }
 },
 "nbformat": 4,
 "nbformat_minor": 2
}
