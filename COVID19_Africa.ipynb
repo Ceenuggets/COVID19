{
 "cells": [
  {
   "cell_type": "markdown",
   "metadata": {},
   "source": [
    "# AFRICA COVID19 ANALYSIS"
   ]
  },
  {
   "cell_type": "markdown",
   "metadata": {},
   "source": [
    "<a id='top'></a>\n",
    "* [General Cases](#general) <br>\n",
    "* [Cases by Region](#by_region) <br>\n",
    "* [Recovery Rate](#recovery)  <br>\n",
    "* [Mortality Rate](#mortality) <br>\n",
    "* [Radndom Selection](#select_few) <br>\n",
    "* [Top Six New Cases by Country](#top_six) <br>"
   ]
  },
  {
   "cell_type": "code",
   "execution_count": 37,
   "metadata": {},
   "outputs": [],
   "source": [
    "import pandas as pd\n",
    "import numpy as np\n",
    "import plotly.graph_objs as go\n",
    "from plotly.subplots import make_subplots\n",
    "import os\n",
    "import datetime\n",
    "from datetime import date\n",
    "import matplotlib.pyplot as plt\n",
    "%matplotlib inline"
   ]
  },
  {
   "cell_type": "code",
   "execution_count": 38,
   "metadata": {},
   "outputs": [],
   "source": [
    "#SELECT  MOST RECENT DAILY CASES FILE NAME FOR AFRICAN REGIONS\n",
    "def most_recent_new_cases(path):\n",
    "    next_mostrecent_CSV ={}\n",
    "    files = os.listdir(path)\n",
    "    new_casesCSV_files = [file for file in files if file[-3:] == 'csv' and file[-20:-12] == 'NewCases']\n",
    "    date_conversion = [datetime.datetime.strptime(date_slice[-12:-4], '%d%m%Y') for date_slice in new_casesCSV_files]\n",
    "    current_date = datetime.datetime.now().strftime(\"%d%m%Y\")\n",
    "    current_date_conversion = datetime.datetime.strptime(current_date,'%d%m%Y')\n",
    "    for given_date in date_conversion:\n",
    "        datetime_string= given_date.strftime('%d')+given_date.strftime('%m')+given_date.strftime('%Y')\n",
    "        particular_date = [datee  for datee in new_casesCSV_files if datee[-12:-4] == datetime_string]\n",
    "        timediff_seconds = current_date_conversion - given_date\n",
    "        next_mostrecent_CSV[particular_date[0]] = timediff_seconds.total_seconds()\n",
    "        sorted_next_mostrecent_CSV = sorted(next_mostrecent_CSV.items(), key=lambda kv: kv[1])\n",
    "    return sorted_next_mostrecent_CSV[0][0]"
   ]
  },
  {
   "cell_type": "code",
   "execution_count": 39,
   "metadata": {},
   "outputs": [
    {
     "data": {
      "text/plain": [
       "'WestAfricaNewCases06102020.csv'"
      ]
     },
     "execution_count": 39,
     "metadata": {},
     "output_type": "execute_result"
    }
   ],
   "source": [
    "ea_latest = most_recent_new_cases(\"..\\COVID19\\Africa\\EastAfrica\")\n",
    "wa_latest = most_recent_new_cases(\"..\\COVID19\\Africa\\WestAfrica\")\n",
    "na_latest = most_recent_new_cases(\"..\\COVID19\\Africa\\\\NorthAfrica\")\n",
    "sa_latest = most_recent_new_cases(\"..\\COVID19\\Africa\\SouthernAfrica\")\n",
    "ca_latest = most_recent_new_cases(\"..\\COVID19\\Africa\\CentralAfrica\")\n",
    "wa_latest"
   ]
  },
  {
   "cell_type": "markdown",
   "metadata": {},
   "source": [
    "## Loading the files..."
   ]
  },
  {
   "cell_type": "code",
   "execution_count": 40,
   "metadata": {},
   "outputs": [],
   "source": [
    "east_africa= pd.read_csv('../COVID19/Africa/EastAfrica/'+ ea_latest, dtype=object, encoding='utf-8')\n",
    "west_africa = pd.read_csv('../COVID19/Africa/WestAfrica/'+wa_latest, dtype=object, encoding='utf-8')\n",
    "north_africa = pd.read_csv('../COVID19/Africa/NorthAfrica/'+na_latest,dtype=object,  encoding='utf-8')\n",
    "southern_africa= pd.read_csv('../COVID19/Africa/SouthernAfrica/'+sa_latest, dtype=object, encoding='utf-8')\n",
    "central_africa = pd.read_csv('../COVID19/Africa/CentralAfrica/'+ca_latest, dtype=object, encoding='utf-8')"
   ]
  },
  {
   "cell_type": "code",
   "execution_count": 41,
   "metadata": {},
   "outputs": [
    {
     "data": {
      "text/html": [
       "<div>\n",
       "<style scoped>\n",
       "    .dataframe tbody tr th:only-of-type {\n",
       "        vertical-align: middle;\n",
       "    }\n",
       "\n",
       "    .dataframe tbody tr th {\n",
       "        vertical-align: top;\n",
       "    }\n",
       "\n",
       "    .dataframe thead th {\n",
       "        text-align: right;\n",
       "    }\n",
       "</style>\n",
       "<table border=\"1\" class=\"dataframe\">\n",
       "  <thead>\n",
       "    <tr style=\"text-align: right;\">\n",
       "      <th></th>\n",
       "      <th>Country_Other</th>\n",
       "      <th>April16</th>\n",
       "      <th>April17</th>\n",
       "      <th>April18</th>\n",
       "      <th>April19</th>\n",
       "      <th>April20</th>\n",
       "      <th>April21</th>\n",
       "      <th>April22</th>\n",
       "      <th>April23</th>\n",
       "      <th>April24</th>\n",
       "      <th>...</th>\n",
       "      <th>September27</th>\n",
       "      <th>September28</th>\n",
       "      <th>September29</th>\n",
       "      <th>September30</th>\n",
       "      <th>October01</th>\n",
       "      <th>October02</th>\n",
       "      <th>October03</th>\n",
       "      <th>October04</th>\n",
       "      <th>October05</th>\n",
       "      <th>October06</th>\n",
       "    </tr>\n",
       "  </thead>\n",
       "  <tbody>\n",
       "    <tr>\n",
       "      <td>0</td>\n",
       "      <td>Ivory Coast</td>\n",
       "      <td>0</td>\n",
       "      <td>+34</td>\n",
       "      <td>+113</td>\n",
       "      <td>+46</td>\n",
       "      <td>+32</td>\n",
       "      <td>+37</td>\n",
       "      <td>+36</td>\n",
       "      <td>+52</td>\n",
       "      <td>+73</td>\n",
       "      <td>...</td>\n",
       "      <td>+29</td>\n",
       "      <td>+12</td>\n",
       "      <td>+28</td>\n",
       "      <td>+55</td>\n",
       "      <td>+31</td>\n",
       "      <td>+38</td>\n",
       "      <td>+56</td>\n",
       "      <td>+33</td>\n",
       "      <td>+3</td>\n",
       "      <td>+18</td>\n",
       "    </tr>\n",
       "    <tr>\n",
       "      <td>1</td>\n",
       "      <td>Ghana</td>\n",
       "      <td>0</td>\n",
       "      <td>0</td>\n",
       "      <td>+193</td>\n",
       "      <td>+208</td>\n",
       "      <td>0</td>\n",
       "      <td>0</td>\n",
       "      <td>+112</td>\n",
       "      <td>0</td>\n",
       "      <td>+125</td>\n",
       "      <td>...</td>\n",
       "      <td>+165</td>\n",
       "      <td>+57</td>\n",
       "      <td>+38</td>\n",
       "      <td>+144</td>\n",
       "      <td>+30</td>\n",
       "      <td>+38</td>\n",
       "      <td>+109</td>\n",
       "      <td>+26</td>\n",
       "      <td>0</td>\n",
       "      <td>0</td>\n",
       "    </tr>\n",
       "    <tr>\n",
       "      <td>2</td>\n",
       "      <td>Niger</td>\n",
       "      <td>0</td>\n",
       "      <td>+43</td>\n",
       "      <td>+12</td>\n",
       "      <td>+9</td>\n",
       "      <td>0</td>\n",
       "      <td>+9</td>\n",
       "      <td>+5</td>\n",
       "      <td>+9</td>\n",
       "      <td>+10</td>\n",
       "      <td>...</td>\n",
       "      <td>+2</td>\n",
       "      <td>0</td>\n",
       "      <td>0</td>\n",
       "      <td>+1</td>\n",
       "      <td>0</td>\n",
       "      <td>+1</td>\n",
       "      <td>+2</td>\n",
       "      <td>0</td>\n",
       "      <td>0</td>\n",
       "      <td>0</td>\n",
       "    </tr>\n",
       "    <tr>\n",
       "      <td>3</td>\n",
       "      <td>Burkina Faso</td>\n",
       "      <td>+4</td>\n",
       "      <td>+11</td>\n",
       "      <td>+8</td>\n",
       "      <td>+11</td>\n",
       "      <td>+5</td>\n",
       "      <td>+19</td>\n",
       "      <td>+9</td>\n",
       "      <td>+7</td>\n",
       "      <td>+13</td>\n",
       "      <td>...</td>\n",
       "      <td>+35</td>\n",
       "      <td>+20</td>\n",
       "      <td>+4</td>\n",
       "      <td>+24</td>\n",
       "      <td>+32</td>\n",
       "      <td>+35</td>\n",
       "      <td>+31</td>\n",
       "      <td>+13</td>\n",
       "      <td>+17</td>\n",
       "      <td>+13</td>\n",
       "    </tr>\n",
       "    <tr>\n",
       "      <td>4</td>\n",
       "      <td>Nigeria</td>\n",
       "      <td>+35</td>\n",
       "      <td>+51</td>\n",
       "      <td>+49</td>\n",
       "      <td>+85</td>\n",
       "      <td>+38</td>\n",
       "      <td>+117</td>\n",
       "      <td>+91</td>\n",
       "      <td>+108</td>\n",
       "      <td>+114</td>\n",
       "      <td>...</td>\n",
       "      <td>+126</td>\n",
       "      <td>+136</td>\n",
       "      <td>+187</td>\n",
       "      <td>+201</td>\n",
       "      <td>+153</td>\n",
       "      <td>+126</td>\n",
       "      <td>+160</td>\n",
       "      <td>+58</td>\n",
       "      <td>+120</td>\n",
       "      <td>+118</td>\n",
       "    </tr>\n",
       "  </tbody>\n",
       "</table>\n",
       "<p>5 rows × 175 columns</p>\n",
       "</div>"
      ],
      "text/plain": [
       "  Country_Other April16 April17 April18 April19 April20 April21 April22  \\\n",
       "0   Ivory Coast       0     +34    +113     +46     +32     +37     +36   \n",
       "1         Ghana       0       0    +193    +208       0       0    +112   \n",
       "2         Niger       0     +43     +12      +9       0      +9      +5   \n",
       "3  Burkina Faso      +4     +11      +8     +11      +5     +19      +9   \n",
       "4       Nigeria     +35     +51     +49     +85     +38    +117     +91   \n",
       "\n",
       "  April23 April24  ... September27 September28 September29 September30  \\\n",
       "0     +52     +73  ...         +29         +12         +28         +55   \n",
       "1       0    +125  ...        +165         +57         +38        +144   \n",
       "2      +9     +10  ...          +2           0           0          +1   \n",
       "3      +7     +13  ...         +35         +20          +4         +24   \n",
       "4    +108    +114  ...        +126        +136        +187        +201   \n",
       "\n",
       "  October01 October02 October03 October04 October05 October06  \n",
       "0       +31       +38       +56       +33        +3       +18  \n",
       "1       +30       +38      +109       +26         0         0  \n",
       "2         0        +1        +2         0         0         0  \n",
       "3       +32       +35       +31       +13       +17       +13  \n",
       "4      +153      +126      +160       +58      +120      +118  \n",
       "\n",
       "[5 rows x 175 columns]"
      ]
     },
     "execution_count": 41,
     "metadata": {},
     "output_type": "execute_result"
    }
   ],
   "source": [
    "west_africa.head()"
   ]
  },
  {
   "cell_type": "markdown",
   "metadata": {},
   "source": [
    "## SUMMARY FOR AFRICA"
   ]
  },
  {
   "cell_type": "code",
   "execution_count": 42,
   "metadata": {},
   "outputs": [
    {
     "data": {
      "text/html": [
       "<div>\n",
       "<style scoped>\n",
       "    .dataframe tbody tr th:only-of-type {\n",
       "        vertical-align: middle;\n",
       "    }\n",
       "\n",
       "    .dataframe tbody tr th {\n",
       "        vertical-align: top;\n",
       "    }\n",
       "\n",
       "    .dataframe thead th {\n",
       "        text-align: right;\n",
       "    }\n",
       "</style>\n",
       "<table border=\"1\" class=\"dataframe\">\n",
       "  <thead>\n",
       "    <tr style=\"text-align: right;\">\n",
       "      <th></th>\n",
       "      <th>Date</th>\n",
       "      <th>Total_Cases</th>\n",
       "      <th>New_Cases</th>\n",
       "      <th>Total_Deaths</th>\n",
       "      <th>New_Deaths</th>\n",
       "      <th>Total_Recovered</th>\n",
       "      <th>Active_Cases</th>\n",
       "      <th>Serious_Critical</th>\n",
       "    </tr>\n",
       "  </thead>\n",
       "  <tbody>\n",
       "    <tr>\n",
       "      <td>169</td>\n",
       "      <td>October02</td>\n",
       "      <td>1506015</td>\n",
       "      <td>8952</td>\n",
       "      <td>36288</td>\n",
       "      <td>140</td>\n",
       "      <td>1246159</td>\n",
       "      <td>223568</td>\n",
       "      <td>1602</td>\n",
       "    </tr>\n",
       "    <tr>\n",
       "      <td>170</td>\n",
       "      <td>October03</td>\n",
       "      <td>1514844</td>\n",
       "      <td>8829</td>\n",
       "      <td>36399</td>\n",
       "      <td>111</td>\n",
       "      <td>1253356</td>\n",
       "      <td>225089</td>\n",
       "      <td>1576</td>\n",
       "    </tr>\n",
       "    <tr>\n",
       "      <td>171</td>\n",
       "      <td>October04</td>\n",
       "      <td>1522928</td>\n",
       "      <td>8084</td>\n",
       "      <td>36569</td>\n",
       "      <td>170</td>\n",
       "      <td>1260391</td>\n",
       "      <td>225968</td>\n",
       "      <td>1633</td>\n",
       "    </tr>\n",
       "    <tr>\n",
       "      <td>172</td>\n",
       "      <td>October05</td>\n",
       "      <td>1527905</td>\n",
       "      <td>4977</td>\n",
       "      <td>36697</td>\n",
       "      <td>128</td>\n",
       "      <td>1268405</td>\n",
       "      <td>222803</td>\n",
       "      <td>1638</td>\n",
       "    </tr>\n",
       "    <tr>\n",
       "      <td>173</td>\n",
       "      <td>October06</td>\n",
       "      <td>1534494</td>\n",
       "      <td>6589</td>\n",
       "      <td>36885</td>\n",
       "      <td>188</td>\n",
       "      <td>1275086</td>\n",
       "      <td>222523</td>\n",
       "      <td>1607</td>\n",
       "    </tr>\n",
       "  </tbody>\n",
       "</table>\n",
       "</div>"
      ],
      "text/plain": [
       "          Date  Total_Cases  New_Cases  Total_Deaths  New_Deaths  \\\n",
       "169  October02      1506015       8952         36288         140   \n",
       "170  October03      1514844       8829         36399         111   \n",
       "171  October04      1522928       8084         36569         170   \n",
       "172  October05      1527905       4977         36697         128   \n",
       "173  October06      1534494       6589         36885         188   \n",
       "\n",
       "     Total_Recovered  Active_Cases  Serious_Critical  \n",
       "169          1246159        223568              1602  \n",
       "170          1253356        225089              1576  \n",
       "171          1260391        225968              1633  \n",
       "172          1268405        222803              1638  \n",
       "173          1275086        222523              1607  "
      ]
     },
     "execution_count": 42,
     "metadata": {},
     "output_type": "execute_result"
    }
   ],
   "source": [
    "african_summary =  pd.read_csv('../COVID19/World/WorldSummary/Africa/Africa_summary.csv', encoding='utf-8')\n",
    "african_summary.tail()"
   ]
  },
  {
   "cell_type": "code",
   "execution_count": 43,
   "metadata": {},
   "outputs": [
    {
     "data": {
      "text/plain": [
       "'October 06, 2020'"
      ]
     },
     "execution_count": 43,
     "metadata": {},
     "output_type": "execute_result"
    }
   ],
   "source": [
    "d = datetime.datetime.strptime(ea_latest[18:26], '%d%m%Y')\n",
    "date_string = d.strftime('%B') + ' ' +d.strftime('%d') + ', '+ d.strftime('%Y')\n",
    "date_string "
   ]
  },
  {
   "cell_type": "code",
   "execution_count": 44,
   "metadata": {},
   "outputs": [],
   "source": [
    "dates = east_africa.columns.to_list()\n",
    "dates = dates[1:]"
   ]
  },
  {
   "cell_type": "markdown",
   "metadata": {},
   "source": [
    "<a id='general'></a>"
   ]
  },
  {
   "cell_type": "code",
   "execution_count": 45,
   "metadata": {},
   "outputs": [
    {
     "data": {
      "application/vnd.plotly.v1+json": {
       "config": {
        "plotlyServerURL": "https://plot.ly"
       },
       "data": [
        {
         "line": {
          "width": 3
         },
         "mode": "lines",
         "name": "Total_Cases",
         "type": "scatter",
         "x": [
          "April16",
          "April17",
          "April18",
          "April19",
          "April20",
          "April21",
          "April22",
          "April23",
          "April24",
          "April25",
          "April26",
          "April27",
          "April28",
          "April29",
          "April30",
          "May01",
          "May02",
          "May03",
          "May04",
          "May05",
          "May06",
          "May07",
          "May08",
          "May09",
          "May10",
          "May11",
          "May12",
          "May13",
          "May14",
          "May15",
          "May16",
          "May17",
          "May18",
          "May19",
          "May20",
          "May21",
          "May22",
          "May23",
          "May24",
          "May25",
          "May26",
          "May27",
          "May28",
          "May29",
          "May30",
          "May31",
          "June01",
          "June02",
          "June03",
          "June04",
          "June05",
          "June06",
          "June07",
          "June08",
          "June09",
          "June10",
          "June11",
          "June12",
          "June13",
          "June14",
          "June15",
          "June16",
          "June17",
          "June18",
          "June19",
          "June20",
          "June21",
          "June22",
          "June23",
          "June24",
          "June25",
          "June26",
          "June27",
          "June28",
          "June29",
          "June30",
          "July01",
          "July02",
          "July03",
          "July04",
          "July05",
          "July06",
          "July07",
          "July08",
          "July09",
          "July10",
          "July11",
          "July12",
          "July13",
          "July14",
          "July15",
          "July16",
          "July17",
          "July18",
          "July19",
          "July20",
          "July21",
          "July22",
          "July23",
          "July24",
          "July25",
          "July26",
          "July27",
          "July28",
          "July29",
          "July30",
          "July31",
          "August01",
          "August02",
          "August03",
          "August04",
          "August05",
          "August06",
          "August07",
          "August08",
          "August09",
          "August10",
          "August11",
          "August12",
          "August13",
          "August14",
          "August15",
          "August16",
          "August17",
          "August18",
          "August19",
          "August20",
          "August21",
          "August22",
          "August23",
          "August24",
          "August25",
          "August26",
          "August27",
          "August28",
          "August29",
          "August30",
          "August31",
          "September01",
          "September02",
          "September03",
          "September04",
          "September05",
          "September06",
          "September07",
          "September08",
          "September09",
          "September10",
          "September11",
          "September12",
          "September13",
          "September14",
          "September15",
          "September16",
          "September17",
          "September18",
          "September19",
          "September20",
          "September21",
          "September22",
          "September23",
          "September24",
          "September25",
          "September26",
          "September27",
          "September28",
          "September29",
          "September30",
          "October01",
          "October02",
          "October03",
          "October04",
          "October05",
          "October06"
         ],
         "y": [
          18993,
          20419,
          21741,
          22966,
          24171,
          25411,
          26654,
          28217,
          29840,
          31102,
          32657,
          34036,
          35678,
          37693,
          39785,
          41446,
          43734,
          45380,
          48075,
          50166,
          52713,
          55320,
          59050,
          61985,
          64750,
          67778,
          70982,
          73973,
          77002,
          79780,
          83363,
          86381,
          90080,
          93228,
          96990,
          101684,
          105845,
          109470,
          113656,
          117801,
          121547,
          126638,
          131587,
          137544,
          143769,
          148775,
          154907,
          159838,
          164985,
          172183,
          179337,
          185996,
          192118,
          198990,
          205520,
          212011,
          219354,
          227599,
          235704,
          244578,
          254214,
          261581,
          270660,
          278677,
          288812,
          299841,
          309153,
          318321,
          327464,
          338766,
          350859,
          362616,
          374596,
          385219,
          396314,
          407925,
          421382,
          434442,
          450658,
          466168,
          479845,
          493710,
          511170,
          525892,
          545063,
          562728,
          581640,
          598236,
          614412,
          628885,
          646973,
          668068,
          686961,
          706069,
          724870,
          740026,
          753917,
          773506,
          792040,
          814165,
          832514,
          850628,
          864094,
          877593,
          895157,
          912621,
          931777,
          948730,
          961388,
          972287,
          982219,
          997602,
          1011872,
          1025464,
          1039678,
          1052094,
          1061098,
          1069093,
          1078301,
          1088777,
          1101342,
          1113143,
          1123142,
          1132101,
          1140775,
          1151737,
          1162392,
          1172802,
          1183362,
          1192414,
          1199961,
          1207623,
          1216564,
          1225249,
          1233365,
          1241912,
          1250375,
          1257316,
          1264417,
          1273213,
          1281149,
          1289817,
          1297323,
          1305252,
          1312183,
          1319898,
          1328263,
          1336407,
          1345199,
          1352693,
          1359569,
          1366138,
          1372731,
          1380233,
          1389010,
          1397246,
          1405973,
          1413416,
          1420232,
          1427620,
          1436433,
          1444619,
          1452768,
          1459190,
          1467555,
          1473418,
          1480934,
          1489711,
          1496977,
          1506015,
          1514844,
          1522928,
          1527905,
          1534494
         ]
        },
        {
         "line": {
          "width": 3
         },
         "mode": "lines",
         "name": "New_Cases",
         "type": "scatter",
         "x": [
          "April16",
          "April17",
          "April18",
          "April19",
          "April20",
          "April21",
          "April22",
          "April23",
          "April24",
          "April25",
          "April26",
          "April27",
          "April28",
          "April29",
          "April30",
          "May01",
          "May02",
          "May03",
          "May04",
          "May05",
          "May06",
          "May07",
          "May08",
          "May09",
          "May10",
          "May11",
          "May12",
          "May13",
          "May14",
          "May15",
          "May16",
          "May17",
          "May18",
          "May19",
          "May20",
          "May21",
          "May22",
          "May23",
          "May24",
          "May25",
          "May26",
          "May27",
          "May28",
          "May29",
          "May30",
          "May31",
          "June01",
          "June02",
          "June03",
          "June04",
          "June05",
          "June06",
          "June07",
          "June08",
          "June09",
          "June10",
          "June11",
          "June12",
          "June13",
          "June14",
          "June15",
          "June16",
          "June17",
          "June18",
          "June19",
          "June20",
          "June21",
          "June22",
          "June23",
          "June24",
          "June25",
          "June26",
          "June27",
          "June28",
          "June29",
          "June30",
          "July01",
          "July02",
          "July03",
          "July04",
          "July05",
          "July06",
          "July07",
          "July08",
          "July09",
          "July10",
          "July11",
          "July12",
          "July13",
          "July14",
          "July15",
          "July16",
          "July17",
          "July18",
          "July19",
          "July20",
          "July21",
          "July22",
          "July23",
          "July24",
          "July25",
          "July26",
          "July27",
          "July28",
          "July29",
          "July30",
          "July31",
          "August01",
          "August02",
          "August03",
          "August04",
          "August05",
          "August06",
          "August07",
          "August08",
          "August09",
          "August10",
          "August11",
          "August12",
          "August13",
          "August14",
          "August15",
          "August16",
          "August17",
          "August18",
          "August19",
          "August20",
          "August21",
          "August22",
          "August23",
          "August24",
          "August25",
          "August26",
          "August27",
          "August28",
          "August29",
          "August30",
          "August31",
          "September01",
          "September02",
          "September03",
          "September04",
          "September05",
          "September06",
          "September07",
          "September08",
          "September09",
          "September10",
          "September11",
          "September12",
          "September13",
          "September14",
          "September15",
          "September16",
          "September17",
          "September18",
          "September19",
          "September20",
          "September21",
          "September22",
          "September23",
          "September24",
          "September25",
          "September26",
          "September27",
          "September28",
          "September29",
          "September30",
          "October01",
          "October02",
          "October03",
          "October04",
          "October05",
          "October06"
         ],
         "y": [
          1166,
          1426,
          1322,
          1225,
          1205,
          1240,
          1243,
          1436,
          1623,
          1262,
          1555,
          1357,
          1642,
          2017,
          2093,
          1661,
          2294,
          1589,
          2695,
          2091,
          2547,
          2607,
          3731,
          2935,
          2765,
          3035,
          3204,
          2991,
          3029,
          2778,
          3588,
          3018,
          3699,
          3357,
          3762,
          4798,
          4161,
          3625,
          4186,
          4145,
          3746,
          5091,
          4949,
          5957,
          6225,
          5006,
          6132,
          4931,
          5147,
          7198,
          7154,
          6659,
          6122,
          6872,
          6530,
          6491,
          7343,
          8245,
          8105,
          8874,
          9636,
          7368,
          9079,
          8017,
          10135,
          10386,
          9312,
          9168,
          9143,
          11302,
          12093,
          11757,
          11980,
          10623,
          10910,
          11611,
          13457,
          13060,
          16216,
          15510,
          13677,
          13865,
          17460,
          14722,
          19171,
          17665,
          18912,
          16596,
          16176,
          14473,
          18057,
          20489,
          18893,
          19108,
          18801,
          15156,
          13891,
          19454,
          18464,
          22125,
          18349,
          18114,
          13470,
          13499,
          17564,
          17464,
          19156,
          16953,
          12658,
          10899,
          9759,
          15383,
          14270,
          13563,
          14209,
          12416,
          8914,
          7995,
          9208,
          10476,
          12565,
          11801,
          9999,
          8959,
          8674,
          10962,
          10655,
          10349,
          10560,
          9052,
          7795,
          7662,
          8941,
          8685,
          8116,
          8547,
          8463,
          6941,
          7101,
          8796,
          7889,
          8669,
          7506,
          7890,
          6931,
          7715,
          8365,
          8144,
          8792,
          7494,
          6805,
          6569,
          6593,
          7499,
          8610,
          8236,
          8727,
          7443,
          6668,
          7365,
          8813,
          8186,
          8149,
          6422,
          8365,
          5863,
          7509,
          8763,
          7260,
          8952,
          8829,
          8084,
          4977,
          6589
         ]
        },
        {
         "line": {
          "width": 3
         },
         "mode": "lines",
         "name": "Total_Deaths",
         "type": "scatter",
         "x": [
          "April16",
          "April17",
          "April18",
          "April19",
          "April20",
          "April21",
          "April22",
          "April23",
          "April24",
          "April25",
          "April26",
          "April27",
          "April28",
          "April29",
          "April30",
          "May01",
          "May02",
          "May03",
          "May04",
          "May05",
          "May06",
          "May07",
          "May08",
          "May09",
          "May10",
          "May11",
          "May12",
          "May13",
          "May14",
          "May15",
          "May16",
          "May17",
          "May18",
          "May19",
          "May20",
          "May21",
          "May22",
          "May23",
          "May24",
          "May25",
          "May26",
          "May27",
          "May28",
          "May29",
          "May30",
          "May31",
          "June01",
          "June02",
          "June03",
          "June04",
          "June05",
          "June06",
          "June07",
          "June08",
          "June09",
          "June10",
          "June11",
          "June12",
          "June13",
          "June14",
          "June15",
          "June16",
          "June17",
          "June18",
          "June19",
          "June20",
          "June21",
          "June22",
          "June23",
          "June24",
          "June25",
          "June26",
          "June27",
          "June28",
          "June29",
          "June30",
          "July01",
          "July02",
          "July03",
          "July04",
          "July05",
          "July06",
          "July07",
          "July08",
          "July09",
          "July10",
          "July11",
          "July12",
          "July13",
          "July14",
          "July15",
          "July16",
          "July17",
          "July18",
          "July19",
          "July20",
          "July21",
          "July22",
          "July23",
          "July24",
          "July25",
          "July26",
          "July27",
          "July28",
          "July29",
          "July30",
          "July31",
          "August01",
          "August02",
          "August03",
          "August04",
          "August05",
          "August06",
          "August07",
          "August08",
          "August09",
          "August10",
          "August11",
          "August12",
          "August13",
          "August14",
          "August15",
          "August16",
          "August17",
          "August18",
          "August19",
          "August20",
          "August21",
          "August22",
          "August23",
          "August24",
          "August25",
          "August26",
          "August27",
          "August28",
          "August29",
          "August30",
          "August31",
          "September01",
          "September02",
          "September03",
          "September04",
          "September05",
          "September06",
          "September07",
          "September08",
          "September09",
          "September10",
          "September11",
          "September12",
          "September13",
          "September14",
          "September15",
          "September16",
          "September17",
          "September18",
          "September19",
          "September20",
          "September21",
          "September22",
          "September23",
          "September24",
          "September25",
          "September26",
          "September27",
          "September28",
          "September29",
          "September30",
          "October01",
          "October02",
          "October03",
          "October04",
          "October05",
          "October06"
         ],
         "y": [
          968,
          1020,
          1082,
          1125,
          1164,
          1197,
          1244,
          1298,
          1328,
          1379,
          1427,
          1468,
          1527,
          1592,
          1638,
          1691,
          1763,
          1802,
          1848,
          1917,
          2015,
          2083,
          2161,
          2232,
          2301,
          2355,
          2407,
          2507,
          2578,
          2639,
          2726,
          2777,
          2849,
          2924,
          3010,
          3115,
          3204,
          3267,
          3356,
          3495,
          3613,
          3710,
          3814,
          3945,
          4092,
          4245,
          4369,
          4520,
          4627,
          4783,
          4942,
          5082,
          5215,
          5390,
          5568,
          5717,
          5869,
          6080,
          6283,
          6490,
          6793,
          7026,
          7249,
          7450,
          7713,
          7941,
          8148,
          8371,
          8653,
          8889,
          9104,
          9317,
          9519,
          9698,
          9914,
          10184,
          10443,
          10662,
          10920,
          11117,
          11400,
          11649,
          12015,
          12270,
          12500,
          12809,
          13029,
          13285,
          13504,
          13803,
          14029,
          14442,
          14717,
          14996,
          15210,
          15465,
          15779,
          16482,
          16756,
          17146,
          17570,
          17808,
          18218,
          18540,
          18908,
          19362,
          19726,
          20018,
          20350,
          20671,
          21143,
          21683,
          22114,
          22553,
          22966,
          23324,
          23643,
          23912,
          24322,
          24727,
          25143,
          25383,
          25678,
          25942,
          26357,
          26685,
          27022,
          27374,
          27649,
          27831,
          28051,
          28334,
          28656,
          28910,
          29141,
          29472,
          29633,
          29862,
          30104,
          30370,
          30666,
          30905,
          31131,
          31357,
          31575,
          31801,
          31962,
          32178,
          32410,
          32556,
          32678,
          32849,
          33126,
          33308,
          33484,
          33677,
          33879,
          34008,
          34133,
          34378,
          34583,
          34758,
          34912,
          35080,
          35215,
          35512,
          35729,
          35922,
          36146,
          36288,
          36399,
          36569,
          36697,
          36885
         ]
        },
        {
         "line": {
          "width": 3
         },
         "mode": "lines",
         "name": "New_Deaths",
         "type": "scatter",
         "x": [
          "April16",
          "April17",
          "April18",
          "April19",
          "April20",
          "April21",
          "April22",
          "April23",
          "April24",
          "April25",
          "April26",
          "April27",
          "April28",
          "April29",
          "April30",
          "May01",
          "May02",
          "May03",
          "May04",
          "May05",
          "May06",
          "May07",
          "May08",
          "May09",
          "May10",
          "May11",
          "May12",
          "May13",
          "May14",
          "May15",
          "May16",
          "May17",
          "May18",
          "May19",
          "May20",
          "May21",
          "May22",
          "May23",
          "May24",
          "May25",
          "May26",
          "May27",
          "May28",
          "May29",
          "May30",
          "May31",
          "June01",
          "June02",
          "June03",
          "June04",
          "June05",
          "June06",
          "June07",
          "June08",
          "June09",
          "June10",
          "June11",
          "June12",
          "June13",
          "June14",
          "June15",
          "June16",
          "June17",
          "June18",
          "June19",
          "June20",
          "June21",
          "June22",
          "June23",
          "June24",
          "June25",
          "June26",
          "June27",
          "June28",
          "June29",
          "June30",
          "July01",
          "July02",
          "July03",
          "July04",
          "July05",
          "July06",
          "July07",
          "July08",
          "July09",
          "July10",
          "July11",
          "July12",
          "July13",
          "July14",
          "July15",
          "July16",
          "July17",
          "July18",
          "July19",
          "July20",
          "July21",
          "July22",
          "July23",
          "July24",
          "July25",
          "July26",
          "July27",
          "July28",
          "July29",
          "July30",
          "July31",
          "August01",
          "August02",
          "August03",
          "August04",
          "August05",
          "August06",
          "August07",
          "August08",
          "August09",
          "August10",
          "August11",
          "August12",
          "August13",
          "August14",
          "August15",
          "August16",
          "August17",
          "August18",
          "August19",
          "August20",
          "August21",
          "August22",
          "August23",
          "August24",
          "August25",
          "August26",
          "August27",
          "August28",
          "August29",
          "August30",
          "August31",
          "September01",
          "September02",
          "September03",
          "September04",
          "September05",
          "September06",
          "September07",
          "September08",
          "September09",
          "September10",
          "September11",
          "September12",
          "September13",
          "September14",
          "September15",
          "September16",
          "September17",
          "September18",
          "September19",
          "September20",
          "September21",
          "September22",
          "September23",
          "September24",
          "September25",
          "September26",
          "September27",
          "September28",
          "September29",
          "September30",
          "October01",
          "October02",
          "October03",
          "October04",
          "October05",
          "October06"
         ],
         "y": [
          55,
          52,
          62,
          43,
          39,
          33,
          47,
          54,
          30,
          51,
          48,
          39,
          59,
          65,
          46,
          53,
          72,
          37,
          46,
          69,
          98,
          68,
          78,
          71,
          69,
          54,
          52,
          100,
          71,
          61,
          87,
          51,
          72,
          75,
          86,
          105,
          89,
          63,
          89,
          139,
          118,
          97,
          104,
          131,
          147,
          153,
          124,
          151,
          107,
          156,
          159,
          140,
          133,
          173,
          178,
          149,
          152,
          211,
          203,
          207,
          303,
          233,
          223,
          201,
          263,
          210,
          207,
          223,
          282,
          236,
          214,
          213,
          202,
          179,
          216,
          270,
          259,
          219,
          258,
          197,
          284,
          249,
          366,
          255,
          230,
          309,
          220,
          256,
          219,
          299,
          224,
          370,
          275,
          279,
          214,
          255,
          314,
          690,
          274,
          390,
          424,
          238,
          410,
          322,
          368,
          459,
          364,
          292,
          332,
          321,
          472,
          540,
          431,
          439,
          413,
          358,
          319,
          269,
          410,
          405,
          416,
          240,
          295,
          264,
          415,
          328,
          337,
          352,
          275,
          182,
          223,
          283,
          322,
          254,
          231,
          331,
          161,
          226,
          242,
          266,
          296,
          239,
          226,
          226,
          218,
          226,
          192,
          216,
          232,
          146,
          121,
          171,
          277,
          182,
          176,
          197,
          202,
          129,
          135,
          244,
          209,
          175,
          154,
          168,
          135,
          297,
          217,
          193,
          224,
          140,
          111,
          170,
          128,
          188
         ]
        },
        {
         "line": {
          "width": 3
         },
         "mode": "lines",
         "name": "Total_Recovered",
         "type": "scatter",
         "x": [
          "April16",
          "April17",
          "April18",
          "April19",
          "April20",
          "April21",
          "April22",
          "April23",
          "April24",
          "April25",
          "April26",
          "April27",
          "April28",
          "April29",
          "April30",
          "May01",
          "May02",
          "May03",
          "May04",
          "May05",
          "May06",
          "May07",
          "May08",
          "May09",
          "May10",
          "May11",
          "May12",
          "May13",
          "May14",
          "May15",
          "May16",
          "May17",
          "May18",
          "May19",
          "May20",
          "May21",
          "May22",
          "May23",
          "May24",
          "May25",
          "May26",
          "May27",
          "May28",
          "May29",
          "May30",
          "May31",
          "June01",
          "June02",
          "June03",
          "June04",
          "June05",
          "June06",
          "June07",
          "June08",
          "June09",
          "June10",
          "June11",
          "June12",
          "June13",
          "June14",
          "June15",
          "June16",
          "June17",
          "June18",
          "June19",
          "June20",
          "June21",
          "June22",
          "June23",
          "June24",
          "June25",
          "June26",
          "June27",
          "June28",
          "June29",
          "June30",
          "July01",
          "July02",
          "July03",
          "July04",
          "July05",
          "July06",
          "July07",
          "July08",
          "July09",
          "July10",
          "July11",
          "July12",
          "July13",
          "July14",
          "July15",
          "July16",
          "July17",
          "July18",
          "July19",
          "July20",
          "July21",
          "July22",
          "July23",
          "July24",
          "July25",
          "July26",
          "July27",
          "July28",
          "July29",
          "July30",
          "July31",
          "August01",
          "August02",
          "August03",
          "August04",
          "August05",
          "August06",
          "August07",
          "August08",
          "August09",
          "August10",
          "August11",
          "August12",
          "August13",
          "August14",
          "August15",
          "August16",
          "August17",
          "August18",
          "August19",
          "August20",
          "August21",
          "August22",
          "August23",
          "August24",
          "August25",
          "August26",
          "August27",
          "August28",
          "August29",
          "August30",
          "August31",
          "September01",
          "September02",
          "September03",
          "September04",
          "September05",
          "September06",
          "September07",
          "September08",
          "September09",
          "September10",
          "September11",
          "September12",
          "September13",
          "September14",
          "September15",
          "September16",
          "September17",
          "September18",
          "September19",
          "September20",
          "September21",
          "September22",
          "September23",
          "September24",
          "September25",
          "September26",
          "September27",
          "September28",
          "September29",
          "September30",
          "October01",
          "October02",
          "October03",
          "October04",
          "October05",
          "October06"
         ],
         "y": [
          4585,
          4958,
          5470,
          5840,
          6451,
          6770,
          7315,
          8534,
          9140,
          9530,
          10018,
          10575,
          11868,
          12630,
          13070,
          13918,
          14664,
          15137,
          16231,
          16977,
          18286,
          19099,
          19839,
          21649,
          22643,
          23961,
          24819,
          26250,
          28186,
          30210,
          32103,
          33496,
          34879,
          36802,
          39428,
          40588,
          42881,
          44166,
          46063,
          47813,
          49902,
          52623,
          55126,
          58197,
          60987,
          63463,
          65931,
          68985,
          72380,
          75830,
          80324,
          83432,
          84919,
          88212,
          92914,
          97163,
          100711,
          105092,
          108835,
          112243,
          116730,
          120949,
          125580,
          128347,
          135176,
          144985,
          148863,
          153242,
          156968,
          163507,
          168752,
          175652,
          181179,
          185243,
          189722,
          195397,
          200995,
          209616,
          217705,
          224808,
          230016,
          238464,
          247734,
          255857,
          265783,
          274778,
          287924,
          298194,
          305852,
          316780,
          335800,
          346500,
          363494,
          370715,
          383351,
          392264,
          412654,
          438288,
          449637,
          465357,
          487462,
          494224,
          510089,
          527821,
          544168,
          559906,
          583665,
          606320,
          615344,
          632929,
          655407,
          677208,
          693620,
          707877,
          723688,
          736638,
          747414,
          761619,
          772365,
          783617,
          814407,
          828034,
          838452,
          849723,
          862564,
          874088,
          884480,
          892304,
          902901,
          909724,
          925220,
          934192,
          945475,
          957854,
          964846,
          972908,
          979996,
          987398,
          1002554,
          1011064,
          1017753,
          1025872,
          1033734,
          1040454,
          1049529,
          1055312,
          1063653,
          1072778,
          1080227,
          1096779,
          1104047,
          1110971,
          1121263,
          1131194,
          1138173,
          1145275,
          1153639,
          1158805,
          1166475,
          1173809,
          1180677,
          1190410,
          1199597,
          1207311,
          1213045,
          1218331,
          1225806,
          1233125,
          1239450,
          1246159,
          1253356,
          1260391,
          1268405,
          1275086
         ]
        },
        {
         "line": {
          "width": 3
         },
         "mode": "lines",
         "name": "Active_Cases",
         "type": "scatter",
         "x": [
          "April16",
          "April17",
          "April18",
          "April19",
          "April20",
          "April21",
          "April22",
          "April23",
          "April24",
          "April25",
          "April26",
          "April27",
          "April28",
          "April29",
          "April30",
          "May01",
          "May02",
          "May03",
          "May04",
          "May05",
          "May06",
          "May07",
          "May08",
          "May09",
          "May10",
          "May11",
          "May12",
          "May13",
          "May14",
          "May15",
          "May16",
          "May17",
          "May18",
          "May19",
          "May20",
          "May21",
          "May22",
          "May23",
          "May24",
          "May25",
          "May26",
          "May27",
          "May28",
          "May29",
          "May30",
          "May31",
          "June01",
          "June02",
          "June03",
          "June04",
          "June05",
          "June06",
          "June07",
          "June08",
          "June09",
          "June10",
          "June11",
          "June12",
          "June13",
          "June14",
          "June15",
          "June16",
          "June17",
          "June18",
          "June19",
          "June20",
          "June21",
          "June22",
          "June23",
          "June24",
          "June25",
          "June26",
          "June27",
          "June28",
          "June29",
          "June30",
          "July01",
          "July02",
          "July03",
          "July04",
          "July05",
          "July06",
          "July07",
          "July08",
          "July09",
          "July10",
          "July11",
          "July12",
          "July13",
          "July14",
          "July15",
          "July16",
          "July17",
          "July18",
          "July19",
          "July20",
          "July21",
          "July22",
          "July23",
          "July24",
          "July25",
          "July26",
          "July27",
          "July28",
          "July29",
          "July30",
          "July31",
          "August01",
          "August02",
          "August03",
          "August04",
          "August05",
          "August06",
          "August07",
          "August08",
          "August09",
          "August10",
          "August11",
          "August12",
          "August13",
          "August14",
          "August15",
          "August16",
          "August17",
          "August18",
          "August19",
          "August20",
          "August21",
          "August22",
          "August23",
          "August24",
          "August25",
          "August26",
          "August27",
          "August28",
          "August29",
          "August30",
          "August31",
          "September01",
          "September02",
          "September03",
          "September04",
          "September05",
          "September06",
          "September07",
          "September08",
          "September09",
          "September10",
          "September11",
          "September12",
          "September13",
          "September14",
          "September15",
          "September16",
          "September17",
          "September18",
          "September19",
          "September20",
          "September21",
          "September22",
          "September23",
          "September24",
          "September25",
          "September26",
          "September27",
          "September28",
          "September29",
          "September30",
          "October01",
          "October02",
          "October03",
          "October04",
          "October05",
          "October06"
         ],
         "y": [
          13440,
          14441,
          15189,
          16001,
          16556,
          17444,
          18095,
          18385,
          19372,
          20193,
          21212,
          21993,
          22283,
          23471,
          25077,
          25837,
          27307,
          28441,
          29996,
          31272,
          32412,
          34138,
          37050,
          38104,
          39806,
          41462,
          43756,
          45216,
          46238,
          46931,
          48534,
          50108,
          52352,
          53502,
          54552,
          57981,
          59760,
          62037,
          64237,
          66493,
          68032,
          70305,
          72647,
          75402,
          78690,
          81067,
          84607,
          86333,
          87978,
          91570,
          94071,
          97482,
          101984,
          105388,
          107038,
          109131,
          112774,
          116427,
          120586,
          125845,
          130691,
          133606,
          137831,
          142880,
          145923,
          146915,
          152142,
          156708,
          161843,
          166370,
          173003,
          177647,
          183898,
          190278,
          196678,
          202344,
          209944,
          214164,
          222033,
          230243,
          238429,
          243597,
          251421,
          257765,
          266780,
          275141,
          280687,
          286757,
          295056,
          298302,
          297144,
          307126,
          308750,
          320358,
          326309,
          332297,
          325484,
          318736,
          325647,
          331662,
          327482,
          338596,
          335787,
          331232,
          332081,
          333353,
          328386,
          322392,
          325694,
          318687,
          305669,
          298711,
          296138,
          295034,
          293024,
          292132,
          290041,
          283562,
          281614,
          280433,
          261792,
          259726,
          259012,
          256436,
          251854,
          250964,
          250890,
          253124,
          252812,
          254859,
          246690,
          245097,
          242433,
          238485,
          239378,
          239532,
          240746,
          240056,
          231759,
          231779,
          232730,
          233040,
          232458,
          233441,
          231079,
          232785,
          232648,
          231451,
          232562,
          223358,
          222844,
          222318,
          218342,
          215731,
          217353,
          218294,
          218455,
          220603,
          219624,
          219433,
          221173,
          219451,
          218259,
          216799,
          219295,
          219575,
          219399,
          220664,
          221381,
          223568,
          225089,
          225968,
          222803,
          222523
         ]
        },
        {
         "line": {
          "width": 3
         },
         "mode": "lines",
         "name": "Serious_Critical",
         "type": "scatter",
         "x": [
          "April16",
          "April17",
          "April18",
          "April19",
          "April20",
          "April21",
          "April22",
          "April23",
          "April24",
          "April25",
          "April26",
          "April27",
          "April28",
          "April29",
          "April30",
          "May01",
          "May02",
          "May03",
          "May04",
          "May05",
          "May06",
          "May07",
          "May08",
          "May09",
          "May10",
          "May11",
          "May12",
          "May13",
          "May14",
          "May15",
          "May16",
          "May17",
          "May18",
          "May19",
          "May20",
          "May21",
          "May22",
          "May23",
          "May24",
          "May25",
          "May26",
          "May27",
          "May28",
          "May29",
          "May30",
          "May31",
          "June01",
          "June02",
          "June03",
          "June04",
          "June05",
          "June06",
          "June07",
          "June08",
          "June09",
          "June10",
          "June11",
          "June12",
          "June13",
          "June14",
          "June15",
          "June16",
          "June17",
          "June18",
          "June19",
          "June20",
          "June21",
          "June22",
          "June23",
          "June24",
          "June25",
          "June26",
          "June27",
          "June28",
          "June29",
          "June30",
          "July01",
          "July02",
          "July03",
          "July04",
          "July05",
          "July06",
          "July07",
          "July08",
          "July09",
          "July10",
          "July11",
          "July12",
          "July13",
          "July14",
          "July15",
          "July16",
          "July17",
          "July18",
          "July19",
          "July20",
          "July21",
          "July22",
          "July23",
          "July24",
          "July25",
          "July26",
          "July27",
          "July28",
          "July29",
          "July30",
          "July31",
          "August01",
          "August02",
          "August03",
          "August04",
          "August05",
          "August06",
          "August07",
          "August08",
          "August09",
          "August10",
          "August11",
          "August12",
          "August13",
          "August14",
          "August15",
          "August16",
          "August17",
          "August18",
          "August19",
          "August20",
          "August21",
          "August22",
          "August23",
          "August24",
          "August25",
          "August26",
          "August27",
          "August28",
          "August29",
          "August30",
          "August31",
          "September01",
          "September02",
          "September03",
          "September04",
          "September05",
          "September06",
          "September07",
          "September08",
          "September09",
          "September10",
          "September11",
          "September12",
          "September13",
          "September14",
          "September15",
          "September16",
          "September17",
          "September18",
          "September19",
          "September20",
          "September21",
          "September22",
          "September23",
          "September24",
          "September25",
          "September26",
          "September27",
          "September28",
          "September29",
          "September30",
          "October01",
          "October02",
          "October03",
          "October04",
          "October05",
          "October06"
         ],
         "y": [
          180,
          187,
          195,
          174,
          177,
          164,
          174,
          173,
          148,
          155,
          140,
          138,
          120,
          122,
          126,
          126,
          127,
          132,
          129,
          128,
          128,
          176,
          223,
          217,
          235,
          224,
          219,
          258,
          290,
          288,
          289,
          288,
          285,
          284,
          287,
          285,
          296,
          306,
          323,
          327,
          334,
          349,
          352,
          356,
          370,
          346,
          347,
          425,
          435,
          449,
          443,
          463,
          469,
          490,
          499,
          499,
          511,
          526,
          524,
          515,
          517,
          500,
          493,
          506,
          499,
          481,
          491,
          502,
          504,
          847,
          885,
          881,
          904,
          907,
          924,
          920,
          919,
          916,
          1797,
          944,
          945,
          956,
          950,
          964,
          952,
          965,
          978,
          969,
          994,
          982,
          990,
          1003,
          1030,
          1066,
          1061,
          1047,
          1046,
          1044,
          1068,
          1091,
          1086,
          1091,
          1094,
          1124,
          1120,
          1160,
          1138,
          1151,
          1150,
          1149,
          1149,
          1188,
          1187,
          1196,
          1206,
          1200,
          1161,
          1207,
          1211,
          1188,
          1190,
          1196,
          1210,
          1210,
          1214,
          1206,
          1190,
          1202,
          1207,
          1218,
          1212,
          1258,
          1271,
          1282,
          1289,
          1264,
          1278,
          1270,
          1262,
          1278,
          1445,
          1418,
          1421,
          1421,
          1434,
          1469,
          1468,
          1500,
          1486,
          1486,
          1503,
          1504,
          1428,
          1434,
          1457,
          1451,
          1466,
          1457,
          1465,
          1402,
          1463,
          1455,
          1530,
          1557,
          1515,
          1568,
          1621,
          1609,
          1599,
          1602,
          1576,
          1633,
          1638,
          1607
         ]
        }
       ],
       "layout": {
        "legend": {
         "bgcolor": "rgba(255, 255, 255, 0)",
         "bordercolor": "rgba(255, 255, 255, 0)",
         "traceorder": "normal",
         "x": 0.07,
         "y": 0.98
        },
        "template": {
         "data": {
          "bar": [
           {
            "error_x": {
             "color": "#2a3f5f"
            },
            "error_y": {
             "color": "#2a3f5f"
            },
            "marker": {
             "line": {
              "color": "#E5ECF6",
              "width": 0.5
             }
            },
            "type": "bar"
           }
          ],
          "barpolar": [
           {
            "marker": {
             "line": {
              "color": "#E5ECF6",
              "width": 0.5
             }
            },
            "type": "barpolar"
           }
          ],
          "carpet": [
           {
            "aaxis": {
             "endlinecolor": "#2a3f5f",
             "gridcolor": "white",
             "linecolor": "white",
             "minorgridcolor": "white",
             "startlinecolor": "#2a3f5f"
            },
            "baxis": {
             "endlinecolor": "#2a3f5f",
             "gridcolor": "white",
             "linecolor": "white",
             "minorgridcolor": "white",
             "startlinecolor": "#2a3f5f"
            },
            "type": "carpet"
           }
          ],
          "choropleth": [
           {
            "colorbar": {
             "outlinewidth": 0,
             "ticks": ""
            },
            "type": "choropleth"
           }
          ],
          "contour": [
           {
            "colorbar": {
             "outlinewidth": 0,
             "ticks": ""
            },
            "colorscale": [
             [
              0,
              "#0d0887"
             ],
             [
              0.1111111111111111,
              "#46039f"
             ],
             [
              0.2222222222222222,
              "#7201a8"
             ],
             [
              0.3333333333333333,
              "#9c179e"
             ],
             [
              0.4444444444444444,
              "#bd3786"
             ],
             [
              0.5555555555555556,
              "#d8576b"
             ],
             [
              0.6666666666666666,
              "#ed7953"
             ],
             [
              0.7777777777777778,
              "#fb9f3a"
             ],
             [
              0.8888888888888888,
              "#fdca26"
             ],
             [
              1,
              "#f0f921"
             ]
            ],
            "type": "contour"
           }
          ],
          "contourcarpet": [
           {
            "colorbar": {
             "outlinewidth": 0,
             "ticks": ""
            },
            "type": "contourcarpet"
           }
          ],
          "heatmap": [
           {
            "colorbar": {
             "outlinewidth": 0,
             "ticks": ""
            },
            "colorscale": [
             [
              0,
              "#0d0887"
             ],
             [
              0.1111111111111111,
              "#46039f"
             ],
             [
              0.2222222222222222,
              "#7201a8"
             ],
             [
              0.3333333333333333,
              "#9c179e"
             ],
             [
              0.4444444444444444,
              "#bd3786"
             ],
             [
              0.5555555555555556,
              "#d8576b"
             ],
             [
              0.6666666666666666,
              "#ed7953"
             ],
             [
              0.7777777777777778,
              "#fb9f3a"
             ],
             [
              0.8888888888888888,
              "#fdca26"
             ],
             [
              1,
              "#f0f921"
             ]
            ],
            "type": "heatmap"
           }
          ],
          "heatmapgl": [
           {
            "colorbar": {
             "outlinewidth": 0,
             "ticks": ""
            },
            "colorscale": [
             [
              0,
              "#0d0887"
             ],
             [
              0.1111111111111111,
              "#46039f"
             ],
             [
              0.2222222222222222,
              "#7201a8"
             ],
             [
              0.3333333333333333,
              "#9c179e"
             ],
             [
              0.4444444444444444,
              "#bd3786"
             ],
             [
              0.5555555555555556,
              "#d8576b"
             ],
             [
              0.6666666666666666,
              "#ed7953"
             ],
             [
              0.7777777777777778,
              "#fb9f3a"
             ],
             [
              0.8888888888888888,
              "#fdca26"
             ],
             [
              1,
              "#f0f921"
             ]
            ],
            "type": "heatmapgl"
           }
          ],
          "histogram": [
           {
            "marker": {
             "colorbar": {
              "outlinewidth": 0,
              "ticks": ""
             }
            },
            "type": "histogram"
           }
          ],
          "histogram2d": [
           {
            "colorbar": {
             "outlinewidth": 0,
             "ticks": ""
            },
            "colorscale": [
             [
              0,
              "#0d0887"
             ],
             [
              0.1111111111111111,
              "#46039f"
             ],
             [
              0.2222222222222222,
              "#7201a8"
             ],
             [
              0.3333333333333333,
              "#9c179e"
             ],
             [
              0.4444444444444444,
              "#bd3786"
             ],
             [
              0.5555555555555556,
              "#d8576b"
             ],
             [
              0.6666666666666666,
              "#ed7953"
             ],
             [
              0.7777777777777778,
              "#fb9f3a"
             ],
             [
              0.8888888888888888,
              "#fdca26"
             ],
             [
              1,
              "#f0f921"
             ]
            ],
            "type": "histogram2d"
           }
          ],
          "histogram2dcontour": [
           {
            "colorbar": {
             "outlinewidth": 0,
             "ticks": ""
            },
            "colorscale": [
             [
              0,
              "#0d0887"
             ],
             [
              0.1111111111111111,
              "#46039f"
             ],
             [
              0.2222222222222222,
              "#7201a8"
             ],
             [
              0.3333333333333333,
              "#9c179e"
             ],
             [
              0.4444444444444444,
              "#bd3786"
             ],
             [
              0.5555555555555556,
              "#d8576b"
             ],
             [
              0.6666666666666666,
              "#ed7953"
             ],
             [
              0.7777777777777778,
              "#fb9f3a"
             ],
             [
              0.8888888888888888,
              "#fdca26"
             ],
             [
              1,
              "#f0f921"
             ]
            ],
            "type": "histogram2dcontour"
           }
          ],
          "mesh3d": [
           {
            "colorbar": {
             "outlinewidth": 0,
             "ticks": ""
            },
            "type": "mesh3d"
           }
          ],
          "parcoords": [
           {
            "line": {
             "colorbar": {
              "outlinewidth": 0,
              "ticks": ""
             }
            },
            "type": "parcoords"
           }
          ],
          "scatter": [
           {
            "marker": {
             "colorbar": {
              "outlinewidth": 0,
              "ticks": ""
             }
            },
            "type": "scatter"
           }
          ],
          "scatter3d": [
           {
            "line": {
             "colorbar": {
              "outlinewidth": 0,
              "ticks": ""
             }
            },
            "marker": {
             "colorbar": {
              "outlinewidth": 0,
              "ticks": ""
             }
            },
            "type": "scatter3d"
           }
          ],
          "scattercarpet": [
           {
            "marker": {
             "colorbar": {
              "outlinewidth": 0,
              "ticks": ""
             }
            },
            "type": "scattercarpet"
           }
          ],
          "scattergeo": [
           {
            "marker": {
             "colorbar": {
              "outlinewidth": 0,
              "ticks": ""
             }
            },
            "type": "scattergeo"
           }
          ],
          "scattergl": [
           {
            "marker": {
             "colorbar": {
              "outlinewidth": 0,
              "ticks": ""
             }
            },
            "type": "scattergl"
           }
          ],
          "scattermapbox": [
           {
            "marker": {
             "colorbar": {
              "outlinewidth": 0,
              "ticks": ""
             }
            },
            "type": "scattermapbox"
           }
          ],
          "scatterpolar": [
           {
            "marker": {
             "colorbar": {
              "outlinewidth": 0,
              "ticks": ""
             }
            },
            "type": "scatterpolar"
           }
          ],
          "scatterpolargl": [
           {
            "marker": {
             "colorbar": {
              "outlinewidth": 0,
              "ticks": ""
             }
            },
            "type": "scatterpolargl"
           }
          ],
          "scatterternary": [
           {
            "marker": {
             "colorbar": {
              "outlinewidth": 0,
              "ticks": ""
             }
            },
            "type": "scatterternary"
           }
          ],
          "surface": [
           {
            "colorbar": {
             "outlinewidth": 0,
             "ticks": ""
            },
            "colorscale": [
             [
              0,
              "#0d0887"
             ],
             [
              0.1111111111111111,
              "#46039f"
             ],
             [
              0.2222222222222222,
              "#7201a8"
             ],
             [
              0.3333333333333333,
              "#9c179e"
             ],
             [
              0.4444444444444444,
              "#bd3786"
             ],
             [
              0.5555555555555556,
              "#d8576b"
             ],
             [
              0.6666666666666666,
              "#ed7953"
             ],
             [
              0.7777777777777778,
              "#fb9f3a"
             ],
             [
              0.8888888888888888,
              "#fdca26"
             ],
             [
              1,
              "#f0f921"
             ]
            ],
            "type": "surface"
           }
          ],
          "table": [
           {
            "cells": {
             "fill": {
              "color": "#EBF0F8"
             },
             "line": {
              "color": "white"
             }
            },
            "header": {
             "fill": {
              "color": "#C8D4E3"
             },
             "line": {
              "color": "white"
             }
            },
            "type": "table"
           }
          ]
         },
         "layout": {
          "annotationdefaults": {
           "arrowcolor": "#2a3f5f",
           "arrowhead": 0,
           "arrowwidth": 1
          },
          "colorscale": {
           "diverging": [
            [
             0,
             "#8e0152"
            ],
            [
             0.1,
             "#c51b7d"
            ],
            [
             0.2,
             "#de77ae"
            ],
            [
             0.3,
             "#f1b6da"
            ],
            [
             0.4,
             "#fde0ef"
            ],
            [
             0.5,
             "#f7f7f7"
            ],
            [
             0.6,
             "#e6f5d0"
            ],
            [
             0.7,
             "#b8e186"
            ],
            [
             0.8,
             "#7fbc41"
            ],
            [
             0.9,
             "#4d9221"
            ],
            [
             1,
             "#276419"
            ]
           ],
           "sequential": [
            [
             0,
             "#0d0887"
            ],
            [
             0.1111111111111111,
             "#46039f"
            ],
            [
             0.2222222222222222,
             "#7201a8"
            ],
            [
             0.3333333333333333,
             "#9c179e"
            ],
            [
             0.4444444444444444,
             "#bd3786"
            ],
            [
             0.5555555555555556,
             "#d8576b"
            ],
            [
             0.6666666666666666,
             "#ed7953"
            ],
            [
             0.7777777777777778,
             "#fb9f3a"
            ],
            [
             0.8888888888888888,
             "#fdca26"
            ],
            [
             1,
             "#f0f921"
            ]
           ],
           "sequentialminus": [
            [
             0,
             "#0d0887"
            ],
            [
             0.1111111111111111,
             "#46039f"
            ],
            [
             0.2222222222222222,
             "#7201a8"
            ],
            [
             0.3333333333333333,
             "#9c179e"
            ],
            [
             0.4444444444444444,
             "#bd3786"
            ],
            [
             0.5555555555555556,
             "#d8576b"
            ],
            [
             0.6666666666666666,
             "#ed7953"
            ],
            [
             0.7777777777777778,
             "#fb9f3a"
            ],
            [
             0.8888888888888888,
             "#fdca26"
            ],
            [
             1,
             "#f0f921"
            ]
           ]
          },
          "colorway": [
           "#636efa",
           "#EF553B",
           "#00cc96",
           "#ab63fa",
           "#FFA15A",
           "#19d3f3",
           "#FF6692",
           "#B6E880",
           "#FF97FF",
           "#FECB52"
          ],
          "font": {
           "color": "#2a3f5f"
          },
          "geo": {
           "bgcolor": "white",
           "lakecolor": "white",
           "landcolor": "#E5ECF6",
           "showlakes": true,
           "showland": true,
           "subunitcolor": "white"
          },
          "hoverlabel": {
           "align": "left"
          },
          "hovermode": "closest",
          "mapbox": {
           "style": "light"
          },
          "paper_bgcolor": "white",
          "plot_bgcolor": "#E5ECF6",
          "polar": {
           "angularaxis": {
            "gridcolor": "white",
            "linecolor": "white",
            "ticks": ""
           },
           "bgcolor": "#E5ECF6",
           "radialaxis": {
            "gridcolor": "white",
            "linecolor": "white",
            "ticks": ""
           }
          },
          "scene": {
           "xaxis": {
            "backgroundcolor": "#E5ECF6",
            "gridcolor": "white",
            "gridwidth": 2,
            "linecolor": "white",
            "showbackground": true,
            "ticks": "",
            "zerolinecolor": "white"
           },
           "yaxis": {
            "backgroundcolor": "#E5ECF6",
            "gridcolor": "white",
            "gridwidth": 2,
            "linecolor": "white",
            "showbackground": true,
            "ticks": "",
            "zerolinecolor": "white"
           },
           "zaxis": {
            "backgroundcolor": "#E5ECF6",
            "gridcolor": "white",
            "gridwidth": 2,
            "linecolor": "white",
            "showbackground": true,
            "ticks": "",
            "zerolinecolor": "white"
           }
          },
          "shapedefaults": {
           "line": {
            "color": "#2a3f5f"
           }
          },
          "ternary": {
           "aaxis": {
            "gridcolor": "white",
            "linecolor": "white",
            "ticks": ""
           },
           "baxis": {
            "gridcolor": "white",
            "linecolor": "white",
            "ticks": ""
           },
           "bgcolor": "#E5ECF6",
           "caxis": {
            "gridcolor": "white",
            "linecolor": "white",
            "ticks": ""
           }
          },
          "title": {
           "x": 0.05
          },
          "xaxis": {
           "automargin": true,
           "gridcolor": "white",
           "linecolor": "white",
           "ticks": "",
           "zerolinecolor": "white",
           "zerolinewidth": 2
          },
          "yaxis": {
           "automargin": true,
           "gridcolor": "white",
           "linecolor": "white",
           "ticks": "",
           "zerolinecolor": "white",
           "zerolinewidth": 2
          }
         }
        },
        "title": {
         "text": "<b>COVID19 CASES IN AFRICA: October 06, 2020</b>",
         "x": 0.5,
         "xanchor": "center",
         "y": 0.9,
         "yanchor": "top"
        },
        "xaxis": {
         "nticks": 30,
         "tickangle": 90,
         "title": {
          "font": {
           "color": "#BDBDBD",
           "size": 18
          },
          "text": "<b>Date</b>"
         }
        },
        "yaxis": {
         "title": {
          "font": {
           "color": "#4D4B4B",
           "size": 18
          },
          "text": "<b>Cases</b>"
         }
        }
       }
      },
      "text/html": [
       "<div>\n",
       "        \n",
       "        \n",
       "            <div id=\"5c52d7a1-50bb-4f1d-987d-0dccc9876ae2\" class=\"plotly-graph-div\" style=\"height:525px; width:100%;\"></div>\n",
       "            <script type=\"text/javascript\">\n",
       "                require([\"plotly\"], function(Plotly) {\n",
       "                    window.PLOTLYENV=window.PLOTLYENV || {};\n",
       "                    \n",
       "                if (document.getElementById(\"5c52d7a1-50bb-4f1d-987d-0dccc9876ae2\")) {\n",
       "                    Plotly.newPlot(\n",
       "                        '5c52d7a1-50bb-4f1d-987d-0dccc9876ae2',\n",
       "                        [{\"line\": {\"width\": 3}, \"mode\": \"lines\", \"name\": \"Total_Cases\", \"type\": \"scatter\", \"x\": [\"April16\", \"April17\", \"April18\", \"April19\", \"April20\", \"April21\", \"April22\", \"April23\", \"April24\", \"April25\", \"April26\", \"April27\", \"April28\", \"April29\", \"April30\", \"May01\", \"May02\", \"May03\", \"May04\", \"May05\", \"May06\", \"May07\", \"May08\", \"May09\", \"May10\", \"May11\", \"May12\", \"May13\", \"May14\", \"May15\", \"May16\", \"May17\", \"May18\", \"May19\", \"May20\", \"May21\", \"May22\", \"May23\", \"May24\", \"May25\", \"May26\", \"May27\", \"May28\", \"May29\", \"May30\", \"May31\", \"June01\", \"June02\", \"June03\", \"June04\", \"June05\", \"June06\", \"June07\", \"June08\", \"June09\", \"June10\", \"June11\", \"June12\", \"June13\", \"June14\", \"June15\", \"June16\", \"June17\", \"June18\", \"June19\", \"June20\", \"June21\", \"June22\", \"June23\", \"June24\", \"June25\", \"June26\", \"June27\", \"June28\", \"June29\", \"June30\", \"July01\", \"July02\", \"July03\", \"July04\", \"July05\", \"July06\", \"July07\", \"July08\", \"July09\", \"July10\", \"July11\", \"July12\", \"July13\", \"July14\", \"July15\", \"July16\", \"July17\", \"July18\", \"July19\", \"July20\", \"July21\", \"July22\", \"July23\", \"July24\", \"July25\", \"July26\", \"July27\", \"July28\", \"July29\", \"July30\", \"July31\", \"August01\", \"August02\", \"August03\", \"August04\", \"August05\", \"August06\", \"August07\", \"August08\", \"August09\", \"August10\", \"August11\", \"August12\", \"August13\", \"August14\", \"August15\", \"August16\", \"August17\", \"August18\", \"August19\", \"August20\", \"August21\", \"August22\", \"August23\", \"August24\", \"August25\", \"August26\", \"August27\", \"August28\", \"August29\", \"August30\", \"August31\", \"September01\", \"September02\", \"September03\", \"September04\", \"September05\", \"September06\", \"September07\", \"September08\", \"September09\", \"September10\", \"September11\", \"September12\", \"September13\", \"September14\", \"September15\", \"September16\", \"September17\", \"September18\", \"September19\", \"September20\", \"September21\", \"September22\", \"September23\", \"September24\", \"September25\", \"September26\", \"September27\", \"September28\", \"September29\", \"September30\", \"October01\", \"October02\", \"October03\", \"October04\", \"October05\", \"October06\"], \"y\": [18993, 20419, 21741, 22966, 24171, 25411, 26654, 28217, 29840, 31102, 32657, 34036, 35678, 37693, 39785, 41446, 43734, 45380, 48075, 50166, 52713, 55320, 59050, 61985, 64750, 67778, 70982, 73973, 77002, 79780, 83363, 86381, 90080, 93228, 96990, 101684, 105845, 109470, 113656, 117801, 121547, 126638, 131587, 137544, 143769, 148775, 154907, 159838, 164985, 172183, 179337, 185996, 192118, 198990, 205520, 212011, 219354, 227599, 235704, 244578, 254214, 261581, 270660, 278677, 288812, 299841, 309153, 318321, 327464, 338766, 350859, 362616, 374596, 385219, 396314, 407925, 421382, 434442, 450658, 466168, 479845, 493710, 511170, 525892, 545063, 562728, 581640, 598236, 614412, 628885, 646973, 668068, 686961, 706069, 724870, 740026, 753917, 773506, 792040, 814165, 832514, 850628, 864094, 877593, 895157, 912621, 931777, 948730, 961388, 972287, 982219, 997602, 1011872, 1025464, 1039678, 1052094, 1061098, 1069093, 1078301, 1088777, 1101342, 1113143, 1123142, 1132101, 1140775, 1151737, 1162392, 1172802, 1183362, 1192414, 1199961, 1207623, 1216564, 1225249, 1233365, 1241912, 1250375, 1257316, 1264417, 1273213, 1281149, 1289817, 1297323, 1305252, 1312183, 1319898, 1328263, 1336407, 1345199, 1352693, 1359569, 1366138, 1372731, 1380233, 1389010, 1397246, 1405973, 1413416, 1420232, 1427620, 1436433, 1444619, 1452768, 1459190, 1467555, 1473418, 1480934, 1489711, 1496977, 1506015, 1514844, 1522928, 1527905, 1534494]}, {\"line\": {\"width\": 3}, \"mode\": \"lines\", \"name\": \"New_Cases\", \"type\": \"scatter\", \"x\": [\"April16\", \"April17\", \"April18\", \"April19\", \"April20\", \"April21\", \"April22\", \"April23\", \"April24\", \"April25\", \"April26\", \"April27\", \"April28\", \"April29\", \"April30\", \"May01\", \"May02\", \"May03\", \"May04\", \"May05\", \"May06\", \"May07\", \"May08\", \"May09\", \"May10\", \"May11\", \"May12\", \"May13\", \"May14\", \"May15\", \"May16\", \"May17\", \"May18\", \"May19\", \"May20\", \"May21\", \"May22\", \"May23\", \"May24\", \"May25\", \"May26\", \"May27\", \"May28\", \"May29\", \"May30\", \"May31\", \"June01\", \"June02\", \"June03\", \"June04\", \"June05\", \"June06\", \"June07\", \"June08\", \"June09\", \"June10\", \"June11\", \"June12\", \"June13\", \"June14\", \"June15\", \"June16\", \"June17\", \"June18\", \"June19\", \"June20\", \"June21\", \"June22\", \"June23\", \"June24\", \"June25\", \"June26\", \"June27\", \"June28\", \"June29\", \"June30\", \"July01\", \"July02\", \"July03\", \"July04\", \"July05\", \"July06\", \"July07\", \"July08\", \"July09\", \"July10\", \"July11\", \"July12\", \"July13\", \"July14\", \"July15\", \"July16\", \"July17\", \"July18\", \"July19\", \"July20\", \"July21\", \"July22\", \"July23\", \"July24\", \"July25\", \"July26\", \"July27\", \"July28\", \"July29\", \"July30\", \"July31\", \"August01\", \"August02\", \"August03\", \"August04\", \"August05\", \"August06\", \"August07\", \"August08\", \"August09\", \"August10\", \"August11\", \"August12\", \"August13\", \"August14\", \"August15\", \"August16\", \"August17\", \"August18\", \"August19\", \"August20\", \"August21\", \"August22\", \"August23\", \"August24\", \"August25\", \"August26\", \"August27\", \"August28\", \"August29\", \"August30\", \"August31\", \"September01\", \"September02\", \"September03\", \"September04\", \"September05\", \"September06\", \"September07\", \"September08\", \"September09\", \"September10\", \"September11\", \"September12\", \"September13\", \"September14\", \"September15\", \"September16\", \"September17\", \"September18\", \"September19\", \"September20\", \"September21\", \"September22\", \"September23\", \"September24\", \"September25\", \"September26\", \"September27\", \"September28\", \"September29\", \"September30\", \"October01\", \"October02\", \"October03\", \"October04\", \"October05\", \"October06\"], \"y\": [1166, 1426, 1322, 1225, 1205, 1240, 1243, 1436, 1623, 1262, 1555, 1357, 1642, 2017, 2093, 1661, 2294, 1589, 2695, 2091, 2547, 2607, 3731, 2935, 2765, 3035, 3204, 2991, 3029, 2778, 3588, 3018, 3699, 3357, 3762, 4798, 4161, 3625, 4186, 4145, 3746, 5091, 4949, 5957, 6225, 5006, 6132, 4931, 5147, 7198, 7154, 6659, 6122, 6872, 6530, 6491, 7343, 8245, 8105, 8874, 9636, 7368, 9079, 8017, 10135, 10386, 9312, 9168, 9143, 11302, 12093, 11757, 11980, 10623, 10910, 11611, 13457, 13060, 16216, 15510, 13677, 13865, 17460, 14722, 19171, 17665, 18912, 16596, 16176, 14473, 18057, 20489, 18893, 19108, 18801, 15156, 13891, 19454, 18464, 22125, 18349, 18114, 13470, 13499, 17564, 17464, 19156, 16953, 12658, 10899, 9759, 15383, 14270, 13563, 14209, 12416, 8914, 7995, 9208, 10476, 12565, 11801, 9999, 8959, 8674, 10962, 10655, 10349, 10560, 9052, 7795, 7662, 8941, 8685, 8116, 8547, 8463, 6941, 7101, 8796, 7889, 8669, 7506, 7890, 6931, 7715, 8365, 8144, 8792, 7494, 6805, 6569, 6593, 7499, 8610, 8236, 8727, 7443, 6668, 7365, 8813, 8186, 8149, 6422, 8365, 5863, 7509, 8763, 7260, 8952, 8829, 8084, 4977, 6589]}, {\"line\": {\"width\": 3}, \"mode\": \"lines\", \"name\": \"Total_Deaths\", \"type\": \"scatter\", \"x\": [\"April16\", \"April17\", \"April18\", \"April19\", \"April20\", \"April21\", \"April22\", \"April23\", \"April24\", \"April25\", \"April26\", \"April27\", \"April28\", \"April29\", \"April30\", \"May01\", \"May02\", \"May03\", \"May04\", \"May05\", \"May06\", \"May07\", \"May08\", \"May09\", \"May10\", \"May11\", \"May12\", \"May13\", \"May14\", \"May15\", \"May16\", \"May17\", \"May18\", \"May19\", \"May20\", \"May21\", \"May22\", \"May23\", \"May24\", \"May25\", \"May26\", \"May27\", \"May28\", \"May29\", \"May30\", \"May31\", \"June01\", \"June02\", \"June03\", \"June04\", \"June05\", \"June06\", \"June07\", \"June08\", \"June09\", \"June10\", \"June11\", \"June12\", \"June13\", \"June14\", \"June15\", \"June16\", \"June17\", \"June18\", \"June19\", \"June20\", \"June21\", \"June22\", \"June23\", \"June24\", \"June25\", \"June26\", \"June27\", \"June28\", \"June29\", \"June30\", \"July01\", \"July02\", \"July03\", \"July04\", \"July05\", \"July06\", \"July07\", \"July08\", \"July09\", \"July10\", \"July11\", \"July12\", \"July13\", \"July14\", \"July15\", \"July16\", \"July17\", \"July18\", \"July19\", \"July20\", \"July21\", \"July22\", \"July23\", \"July24\", \"July25\", \"July26\", \"July27\", \"July28\", \"July29\", \"July30\", \"July31\", \"August01\", \"August02\", \"August03\", \"August04\", \"August05\", \"August06\", \"August07\", \"August08\", \"August09\", \"August10\", \"August11\", \"August12\", \"August13\", \"August14\", \"August15\", \"August16\", \"August17\", \"August18\", \"August19\", \"August20\", \"August21\", \"August22\", \"August23\", \"August24\", \"August25\", \"August26\", \"August27\", \"August28\", \"August29\", \"August30\", \"August31\", \"September01\", \"September02\", \"September03\", \"September04\", \"September05\", \"September06\", \"September07\", \"September08\", \"September09\", \"September10\", \"September11\", \"September12\", \"September13\", \"September14\", \"September15\", \"September16\", \"September17\", \"September18\", \"September19\", \"September20\", \"September21\", \"September22\", \"September23\", \"September24\", \"September25\", \"September26\", \"September27\", \"September28\", \"September29\", \"September30\", \"October01\", \"October02\", \"October03\", \"October04\", \"October05\", \"October06\"], \"y\": [968, 1020, 1082, 1125, 1164, 1197, 1244, 1298, 1328, 1379, 1427, 1468, 1527, 1592, 1638, 1691, 1763, 1802, 1848, 1917, 2015, 2083, 2161, 2232, 2301, 2355, 2407, 2507, 2578, 2639, 2726, 2777, 2849, 2924, 3010, 3115, 3204, 3267, 3356, 3495, 3613, 3710, 3814, 3945, 4092, 4245, 4369, 4520, 4627, 4783, 4942, 5082, 5215, 5390, 5568, 5717, 5869, 6080, 6283, 6490, 6793, 7026, 7249, 7450, 7713, 7941, 8148, 8371, 8653, 8889, 9104, 9317, 9519, 9698, 9914, 10184, 10443, 10662, 10920, 11117, 11400, 11649, 12015, 12270, 12500, 12809, 13029, 13285, 13504, 13803, 14029, 14442, 14717, 14996, 15210, 15465, 15779, 16482, 16756, 17146, 17570, 17808, 18218, 18540, 18908, 19362, 19726, 20018, 20350, 20671, 21143, 21683, 22114, 22553, 22966, 23324, 23643, 23912, 24322, 24727, 25143, 25383, 25678, 25942, 26357, 26685, 27022, 27374, 27649, 27831, 28051, 28334, 28656, 28910, 29141, 29472, 29633, 29862, 30104, 30370, 30666, 30905, 31131, 31357, 31575, 31801, 31962, 32178, 32410, 32556, 32678, 32849, 33126, 33308, 33484, 33677, 33879, 34008, 34133, 34378, 34583, 34758, 34912, 35080, 35215, 35512, 35729, 35922, 36146, 36288, 36399, 36569, 36697, 36885]}, {\"line\": {\"width\": 3}, \"mode\": \"lines\", \"name\": \"New_Deaths\", \"type\": \"scatter\", \"x\": [\"April16\", \"April17\", \"April18\", \"April19\", \"April20\", \"April21\", \"April22\", \"April23\", \"April24\", \"April25\", \"April26\", \"April27\", \"April28\", \"April29\", \"April30\", \"May01\", \"May02\", \"May03\", \"May04\", \"May05\", \"May06\", \"May07\", \"May08\", \"May09\", \"May10\", \"May11\", \"May12\", \"May13\", \"May14\", \"May15\", \"May16\", \"May17\", \"May18\", \"May19\", \"May20\", \"May21\", \"May22\", \"May23\", \"May24\", \"May25\", \"May26\", \"May27\", \"May28\", \"May29\", \"May30\", \"May31\", \"June01\", \"June02\", \"June03\", \"June04\", \"June05\", \"June06\", \"June07\", \"June08\", \"June09\", \"June10\", \"June11\", \"June12\", \"June13\", \"June14\", \"June15\", \"June16\", \"June17\", \"June18\", \"June19\", \"June20\", \"June21\", \"June22\", \"June23\", \"June24\", \"June25\", \"June26\", \"June27\", \"June28\", \"June29\", \"June30\", \"July01\", \"July02\", \"July03\", \"July04\", \"July05\", \"July06\", \"July07\", \"July08\", \"July09\", \"July10\", \"July11\", \"July12\", \"July13\", \"July14\", \"July15\", \"July16\", \"July17\", \"July18\", \"July19\", \"July20\", \"July21\", \"July22\", \"July23\", \"July24\", \"July25\", \"July26\", \"July27\", \"July28\", \"July29\", \"July30\", \"July31\", \"August01\", \"August02\", \"August03\", \"August04\", \"August05\", \"August06\", \"August07\", \"August08\", \"August09\", \"August10\", \"August11\", \"August12\", \"August13\", \"August14\", \"August15\", \"August16\", \"August17\", \"August18\", \"August19\", \"August20\", \"August21\", \"August22\", \"August23\", \"August24\", \"August25\", \"August26\", \"August27\", \"August28\", \"August29\", \"August30\", \"August31\", \"September01\", \"September02\", \"September03\", \"September04\", \"September05\", \"September06\", \"September07\", \"September08\", \"September09\", \"September10\", \"September11\", \"September12\", \"September13\", \"September14\", \"September15\", \"September16\", \"September17\", \"September18\", \"September19\", \"September20\", \"September21\", \"September22\", \"September23\", \"September24\", \"September25\", \"September26\", \"September27\", \"September28\", \"September29\", \"September30\", \"October01\", \"October02\", \"October03\", \"October04\", \"October05\", \"October06\"], \"y\": [55, 52, 62, 43, 39, 33, 47, 54, 30, 51, 48, 39, 59, 65, 46, 53, 72, 37, 46, 69, 98, 68, 78, 71, 69, 54, 52, 100, 71, 61, 87, 51, 72, 75, 86, 105, 89, 63, 89, 139, 118, 97, 104, 131, 147, 153, 124, 151, 107, 156, 159, 140, 133, 173, 178, 149, 152, 211, 203, 207, 303, 233, 223, 201, 263, 210, 207, 223, 282, 236, 214, 213, 202, 179, 216, 270, 259, 219, 258, 197, 284, 249, 366, 255, 230, 309, 220, 256, 219, 299, 224, 370, 275, 279, 214, 255, 314, 690, 274, 390, 424, 238, 410, 322, 368, 459, 364, 292, 332, 321, 472, 540, 431, 439, 413, 358, 319, 269, 410, 405, 416, 240, 295, 264, 415, 328, 337, 352, 275, 182, 223, 283, 322, 254, 231, 331, 161, 226, 242, 266, 296, 239, 226, 226, 218, 226, 192, 216, 232, 146, 121, 171, 277, 182, 176, 197, 202, 129, 135, 244, 209, 175, 154, 168, 135, 297, 217, 193, 224, 140, 111, 170, 128, 188]}, {\"line\": {\"width\": 3}, \"mode\": \"lines\", \"name\": \"Total_Recovered\", \"type\": \"scatter\", \"x\": [\"April16\", \"April17\", \"April18\", \"April19\", \"April20\", \"April21\", \"April22\", \"April23\", \"April24\", \"April25\", \"April26\", \"April27\", \"April28\", \"April29\", \"April30\", \"May01\", \"May02\", \"May03\", \"May04\", \"May05\", \"May06\", \"May07\", \"May08\", \"May09\", \"May10\", \"May11\", \"May12\", \"May13\", \"May14\", \"May15\", \"May16\", \"May17\", \"May18\", \"May19\", \"May20\", \"May21\", \"May22\", \"May23\", \"May24\", \"May25\", \"May26\", \"May27\", \"May28\", \"May29\", \"May30\", \"May31\", \"June01\", \"June02\", \"June03\", \"June04\", \"June05\", \"June06\", \"June07\", \"June08\", \"June09\", \"June10\", \"June11\", \"June12\", \"June13\", \"June14\", \"June15\", \"June16\", \"June17\", \"June18\", \"June19\", \"June20\", \"June21\", \"June22\", \"June23\", \"June24\", \"June25\", \"June26\", \"June27\", \"June28\", \"June29\", \"June30\", \"July01\", \"July02\", \"July03\", \"July04\", \"July05\", \"July06\", \"July07\", \"July08\", \"July09\", \"July10\", \"July11\", \"July12\", \"July13\", \"July14\", \"July15\", \"July16\", \"July17\", \"July18\", \"July19\", \"July20\", \"July21\", \"July22\", \"July23\", \"July24\", \"July25\", \"July26\", \"July27\", \"July28\", \"July29\", \"July30\", \"July31\", \"August01\", \"August02\", \"August03\", \"August04\", \"August05\", \"August06\", \"August07\", \"August08\", \"August09\", \"August10\", \"August11\", \"August12\", \"August13\", \"August14\", \"August15\", \"August16\", \"August17\", \"August18\", \"August19\", \"August20\", \"August21\", \"August22\", \"August23\", \"August24\", \"August25\", \"August26\", \"August27\", \"August28\", \"August29\", \"August30\", \"August31\", \"September01\", \"September02\", \"September03\", \"September04\", \"September05\", \"September06\", \"September07\", \"September08\", \"September09\", \"September10\", \"September11\", \"September12\", \"September13\", \"September14\", \"September15\", \"September16\", \"September17\", \"September18\", \"September19\", \"September20\", \"September21\", \"September22\", \"September23\", \"September24\", \"September25\", \"September26\", \"September27\", \"September28\", \"September29\", \"September30\", \"October01\", \"October02\", \"October03\", \"October04\", \"October05\", \"October06\"], \"y\": [4585, 4958, 5470, 5840, 6451, 6770, 7315, 8534, 9140, 9530, 10018, 10575, 11868, 12630, 13070, 13918, 14664, 15137, 16231, 16977, 18286, 19099, 19839, 21649, 22643, 23961, 24819, 26250, 28186, 30210, 32103, 33496, 34879, 36802, 39428, 40588, 42881, 44166, 46063, 47813, 49902, 52623, 55126, 58197, 60987, 63463, 65931, 68985, 72380, 75830, 80324, 83432, 84919, 88212, 92914, 97163, 100711, 105092, 108835, 112243, 116730, 120949, 125580, 128347, 135176, 144985, 148863, 153242, 156968, 163507, 168752, 175652, 181179, 185243, 189722, 195397, 200995, 209616, 217705, 224808, 230016, 238464, 247734, 255857, 265783, 274778, 287924, 298194, 305852, 316780, 335800, 346500, 363494, 370715, 383351, 392264, 412654, 438288, 449637, 465357, 487462, 494224, 510089, 527821, 544168, 559906, 583665, 606320, 615344, 632929, 655407, 677208, 693620, 707877, 723688, 736638, 747414, 761619, 772365, 783617, 814407, 828034, 838452, 849723, 862564, 874088, 884480, 892304, 902901, 909724, 925220, 934192, 945475, 957854, 964846, 972908, 979996, 987398, 1002554, 1011064, 1017753, 1025872, 1033734, 1040454, 1049529, 1055312, 1063653, 1072778, 1080227, 1096779, 1104047, 1110971, 1121263, 1131194, 1138173, 1145275, 1153639, 1158805, 1166475, 1173809, 1180677, 1190410, 1199597, 1207311, 1213045, 1218331, 1225806, 1233125, 1239450, 1246159, 1253356, 1260391, 1268405, 1275086]}, {\"line\": {\"width\": 3}, \"mode\": \"lines\", \"name\": \"Active_Cases\", \"type\": \"scatter\", \"x\": [\"April16\", \"April17\", \"April18\", \"April19\", \"April20\", \"April21\", \"April22\", \"April23\", \"April24\", \"April25\", \"April26\", \"April27\", \"April28\", \"April29\", \"April30\", \"May01\", \"May02\", \"May03\", \"May04\", \"May05\", \"May06\", \"May07\", \"May08\", \"May09\", \"May10\", \"May11\", \"May12\", \"May13\", \"May14\", \"May15\", \"May16\", \"May17\", \"May18\", \"May19\", \"May20\", \"May21\", \"May22\", \"May23\", \"May24\", \"May25\", \"May26\", \"May27\", \"May28\", \"May29\", \"May30\", \"May31\", \"June01\", \"June02\", \"June03\", \"June04\", \"June05\", \"June06\", \"June07\", \"June08\", \"June09\", \"June10\", \"June11\", \"June12\", \"June13\", \"June14\", \"June15\", \"June16\", \"June17\", \"June18\", \"June19\", \"June20\", \"June21\", \"June22\", \"June23\", \"June24\", \"June25\", \"June26\", \"June27\", \"June28\", \"June29\", \"June30\", \"July01\", \"July02\", \"July03\", \"July04\", \"July05\", \"July06\", \"July07\", \"July08\", \"July09\", \"July10\", \"July11\", \"July12\", \"July13\", \"July14\", \"July15\", \"July16\", \"July17\", \"July18\", \"July19\", \"July20\", \"July21\", \"July22\", \"July23\", \"July24\", \"July25\", \"July26\", \"July27\", \"July28\", \"July29\", \"July30\", \"July31\", \"August01\", \"August02\", \"August03\", \"August04\", \"August05\", \"August06\", \"August07\", \"August08\", \"August09\", \"August10\", \"August11\", \"August12\", \"August13\", \"August14\", \"August15\", \"August16\", \"August17\", \"August18\", \"August19\", \"August20\", \"August21\", \"August22\", \"August23\", \"August24\", \"August25\", \"August26\", \"August27\", \"August28\", \"August29\", \"August30\", \"August31\", \"September01\", \"September02\", \"September03\", \"September04\", \"September05\", \"September06\", \"September07\", \"September08\", \"September09\", \"September10\", \"September11\", \"September12\", \"September13\", \"September14\", \"September15\", \"September16\", \"September17\", \"September18\", \"September19\", \"September20\", \"September21\", \"September22\", \"September23\", \"September24\", \"September25\", \"September26\", \"September27\", \"September28\", \"September29\", \"September30\", \"October01\", \"October02\", \"October03\", \"October04\", \"October05\", \"October06\"], \"y\": [13440, 14441, 15189, 16001, 16556, 17444, 18095, 18385, 19372, 20193, 21212, 21993, 22283, 23471, 25077, 25837, 27307, 28441, 29996, 31272, 32412, 34138, 37050, 38104, 39806, 41462, 43756, 45216, 46238, 46931, 48534, 50108, 52352, 53502, 54552, 57981, 59760, 62037, 64237, 66493, 68032, 70305, 72647, 75402, 78690, 81067, 84607, 86333, 87978, 91570, 94071, 97482, 101984, 105388, 107038, 109131, 112774, 116427, 120586, 125845, 130691, 133606, 137831, 142880, 145923, 146915, 152142, 156708, 161843, 166370, 173003, 177647, 183898, 190278, 196678, 202344, 209944, 214164, 222033, 230243, 238429, 243597, 251421, 257765, 266780, 275141, 280687, 286757, 295056, 298302, 297144, 307126, 308750, 320358, 326309, 332297, 325484, 318736, 325647, 331662, 327482, 338596, 335787, 331232, 332081, 333353, 328386, 322392, 325694, 318687, 305669, 298711, 296138, 295034, 293024, 292132, 290041, 283562, 281614, 280433, 261792, 259726, 259012, 256436, 251854, 250964, 250890, 253124, 252812, 254859, 246690, 245097, 242433, 238485, 239378, 239532, 240746, 240056, 231759, 231779, 232730, 233040, 232458, 233441, 231079, 232785, 232648, 231451, 232562, 223358, 222844, 222318, 218342, 215731, 217353, 218294, 218455, 220603, 219624, 219433, 221173, 219451, 218259, 216799, 219295, 219575, 219399, 220664, 221381, 223568, 225089, 225968, 222803, 222523]}, {\"line\": {\"width\": 3}, \"mode\": \"lines\", \"name\": \"Serious_Critical\", \"type\": \"scatter\", \"x\": [\"April16\", \"April17\", \"April18\", \"April19\", \"April20\", \"April21\", \"April22\", \"April23\", \"April24\", \"April25\", \"April26\", \"April27\", \"April28\", \"April29\", \"April30\", \"May01\", \"May02\", \"May03\", \"May04\", \"May05\", \"May06\", \"May07\", \"May08\", \"May09\", \"May10\", \"May11\", \"May12\", \"May13\", \"May14\", \"May15\", \"May16\", \"May17\", \"May18\", \"May19\", \"May20\", \"May21\", \"May22\", \"May23\", \"May24\", \"May25\", \"May26\", \"May27\", \"May28\", \"May29\", \"May30\", \"May31\", \"June01\", \"June02\", \"June03\", \"June04\", \"June05\", \"June06\", \"June07\", \"June08\", \"June09\", \"June10\", \"June11\", \"June12\", \"June13\", \"June14\", \"June15\", \"June16\", \"June17\", \"June18\", \"June19\", \"June20\", \"June21\", \"June22\", \"June23\", \"June24\", \"June25\", \"June26\", \"June27\", \"June28\", \"June29\", \"June30\", \"July01\", \"July02\", \"July03\", \"July04\", \"July05\", \"July06\", \"July07\", \"July08\", \"July09\", \"July10\", \"July11\", \"July12\", \"July13\", \"July14\", \"July15\", \"July16\", \"July17\", \"July18\", \"July19\", \"July20\", \"July21\", \"July22\", \"July23\", \"July24\", \"July25\", \"July26\", \"July27\", \"July28\", \"July29\", \"July30\", \"July31\", \"August01\", \"August02\", \"August03\", \"August04\", \"August05\", \"August06\", \"August07\", \"August08\", \"August09\", \"August10\", \"August11\", \"August12\", \"August13\", \"August14\", \"August15\", \"August16\", \"August17\", \"August18\", \"August19\", \"August20\", \"August21\", \"August22\", \"August23\", \"August24\", \"August25\", \"August26\", \"August27\", \"August28\", \"August29\", \"August30\", \"August31\", \"September01\", \"September02\", \"September03\", \"September04\", \"September05\", \"September06\", \"September07\", \"September08\", \"September09\", \"September10\", \"September11\", \"September12\", \"September13\", \"September14\", \"September15\", \"September16\", \"September17\", \"September18\", \"September19\", \"September20\", \"September21\", \"September22\", \"September23\", \"September24\", \"September25\", \"September26\", \"September27\", \"September28\", \"September29\", \"September30\", \"October01\", \"October02\", \"October03\", \"October04\", \"October05\", \"October06\"], \"y\": [180, 187, 195, 174, 177, 164, 174, 173, 148, 155, 140, 138, 120, 122, 126, 126, 127, 132, 129, 128, 128, 176, 223, 217, 235, 224, 219, 258, 290, 288, 289, 288, 285, 284, 287, 285, 296, 306, 323, 327, 334, 349, 352, 356, 370, 346, 347, 425, 435, 449, 443, 463, 469, 490, 499, 499, 511, 526, 524, 515, 517, 500, 493, 506, 499, 481, 491, 502, 504, 847, 885, 881, 904, 907, 924, 920, 919, 916, 1797, 944, 945, 956, 950, 964, 952, 965, 978, 969, 994, 982, 990, 1003, 1030, 1066, 1061, 1047, 1046, 1044, 1068, 1091, 1086, 1091, 1094, 1124, 1120, 1160, 1138, 1151, 1150, 1149, 1149, 1188, 1187, 1196, 1206, 1200, 1161, 1207, 1211, 1188, 1190, 1196, 1210, 1210, 1214, 1206, 1190, 1202, 1207, 1218, 1212, 1258, 1271, 1282, 1289, 1264, 1278, 1270, 1262, 1278, 1445, 1418, 1421, 1421, 1434, 1469, 1468, 1500, 1486, 1486, 1503, 1504, 1428, 1434, 1457, 1451, 1466, 1457, 1465, 1402, 1463, 1455, 1530, 1557, 1515, 1568, 1621, 1609, 1599, 1602, 1576, 1633, 1638, 1607]}],\n",
       "                        {\"legend\": {\"bgcolor\": \"rgba(255, 255, 255, 0)\", \"bordercolor\": \"rgba(255, 255, 255, 0)\", \"traceorder\": \"normal\", \"x\": 0.07, \"y\": 0.98}, \"template\": {\"data\": {\"bar\": [{\"error_x\": {\"color\": \"#2a3f5f\"}, \"error_y\": {\"color\": \"#2a3f5f\"}, \"marker\": {\"line\": {\"color\": \"#E5ECF6\", \"width\": 0.5}}, \"type\": \"bar\"}], \"barpolar\": [{\"marker\": {\"line\": {\"color\": \"#E5ECF6\", \"width\": 0.5}}, \"type\": \"barpolar\"}], \"carpet\": [{\"aaxis\": {\"endlinecolor\": \"#2a3f5f\", \"gridcolor\": \"white\", \"linecolor\": \"white\", \"minorgridcolor\": \"white\", \"startlinecolor\": \"#2a3f5f\"}, \"baxis\": {\"endlinecolor\": \"#2a3f5f\", \"gridcolor\": \"white\", \"linecolor\": \"white\", \"minorgridcolor\": \"white\", \"startlinecolor\": \"#2a3f5f\"}, \"type\": \"carpet\"}], \"choropleth\": [{\"colorbar\": {\"outlinewidth\": 0, \"ticks\": \"\"}, \"type\": \"choropleth\"}], \"contour\": [{\"colorbar\": {\"outlinewidth\": 0, \"ticks\": \"\"}, \"colorscale\": [[0.0, \"#0d0887\"], [0.1111111111111111, \"#46039f\"], [0.2222222222222222, \"#7201a8\"], [0.3333333333333333, \"#9c179e\"], [0.4444444444444444, \"#bd3786\"], [0.5555555555555556, \"#d8576b\"], [0.6666666666666666, \"#ed7953\"], [0.7777777777777778, \"#fb9f3a\"], [0.8888888888888888, \"#fdca26\"], [1.0, \"#f0f921\"]], \"type\": \"contour\"}], \"contourcarpet\": [{\"colorbar\": {\"outlinewidth\": 0, \"ticks\": \"\"}, \"type\": \"contourcarpet\"}], \"heatmap\": [{\"colorbar\": {\"outlinewidth\": 0, \"ticks\": \"\"}, \"colorscale\": [[0.0, \"#0d0887\"], [0.1111111111111111, \"#46039f\"], [0.2222222222222222, \"#7201a8\"], [0.3333333333333333, \"#9c179e\"], [0.4444444444444444, \"#bd3786\"], [0.5555555555555556, \"#d8576b\"], [0.6666666666666666, \"#ed7953\"], [0.7777777777777778, \"#fb9f3a\"], [0.8888888888888888, \"#fdca26\"], [1.0, \"#f0f921\"]], \"type\": \"heatmap\"}], \"heatmapgl\": [{\"colorbar\": {\"outlinewidth\": 0, \"ticks\": \"\"}, \"colorscale\": [[0.0, \"#0d0887\"], [0.1111111111111111, \"#46039f\"], [0.2222222222222222, \"#7201a8\"], [0.3333333333333333, \"#9c179e\"], [0.4444444444444444, \"#bd3786\"], [0.5555555555555556, \"#d8576b\"], [0.6666666666666666, \"#ed7953\"], [0.7777777777777778, \"#fb9f3a\"], [0.8888888888888888, \"#fdca26\"], [1.0, \"#f0f921\"]], \"type\": \"heatmapgl\"}], \"histogram\": [{\"marker\": {\"colorbar\": {\"outlinewidth\": 0, \"ticks\": \"\"}}, \"type\": \"histogram\"}], \"histogram2d\": [{\"colorbar\": {\"outlinewidth\": 0, \"ticks\": \"\"}, \"colorscale\": [[0.0, \"#0d0887\"], [0.1111111111111111, \"#46039f\"], [0.2222222222222222, \"#7201a8\"], [0.3333333333333333, \"#9c179e\"], [0.4444444444444444, \"#bd3786\"], [0.5555555555555556, \"#d8576b\"], [0.6666666666666666, \"#ed7953\"], [0.7777777777777778, \"#fb9f3a\"], [0.8888888888888888, \"#fdca26\"], [1.0, \"#f0f921\"]], \"type\": \"histogram2d\"}], \"histogram2dcontour\": [{\"colorbar\": {\"outlinewidth\": 0, \"ticks\": \"\"}, \"colorscale\": [[0.0, \"#0d0887\"], [0.1111111111111111, \"#46039f\"], [0.2222222222222222, \"#7201a8\"], [0.3333333333333333, \"#9c179e\"], [0.4444444444444444, \"#bd3786\"], [0.5555555555555556, \"#d8576b\"], [0.6666666666666666, \"#ed7953\"], [0.7777777777777778, \"#fb9f3a\"], [0.8888888888888888, \"#fdca26\"], [1.0, \"#f0f921\"]], \"type\": \"histogram2dcontour\"}], \"mesh3d\": [{\"colorbar\": {\"outlinewidth\": 0, \"ticks\": \"\"}, \"type\": \"mesh3d\"}], \"parcoords\": [{\"line\": {\"colorbar\": {\"outlinewidth\": 0, \"ticks\": \"\"}}, \"type\": \"parcoords\"}], \"scatter\": [{\"marker\": {\"colorbar\": {\"outlinewidth\": 0, \"ticks\": \"\"}}, \"type\": \"scatter\"}], \"scatter3d\": [{\"line\": {\"colorbar\": {\"outlinewidth\": 0, \"ticks\": \"\"}}, \"marker\": {\"colorbar\": {\"outlinewidth\": 0, \"ticks\": \"\"}}, \"type\": \"scatter3d\"}], \"scattercarpet\": [{\"marker\": {\"colorbar\": {\"outlinewidth\": 0, \"ticks\": \"\"}}, \"type\": \"scattercarpet\"}], \"scattergeo\": [{\"marker\": {\"colorbar\": {\"outlinewidth\": 0, \"ticks\": \"\"}}, \"type\": \"scattergeo\"}], \"scattergl\": [{\"marker\": {\"colorbar\": {\"outlinewidth\": 0, \"ticks\": \"\"}}, \"type\": \"scattergl\"}], \"scattermapbox\": [{\"marker\": {\"colorbar\": {\"outlinewidth\": 0, \"ticks\": \"\"}}, \"type\": \"scattermapbox\"}], \"scatterpolar\": [{\"marker\": {\"colorbar\": {\"outlinewidth\": 0, \"ticks\": \"\"}}, \"type\": \"scatterpolar\"}], \"scatterpolargl\": [{\"marker\": {\"colorbar\": {\"outlinewidth\": 0, \"ticks\": \"\"}}, \"type\": \"scatterpolargl\"}], \"scatterternary\": [{\"marker\": {\"colorbar\": {\"outlinewidth\": 0, \"ticks\": \"\"}}, \"type\": \"scatterternary\"}], \"surface\": [{\"colorbar\": {\"outlinewidth\": 0, \"ticks\": \"\"}, \"colorscale\": [[0.0, \"#0d0887\"], [0.1111111111111111, \"#46039f\"], [0.2222222222222222, \"#7201a8\"], [0.3333333333333333, \"#9c179e\"], [0.4444444444444444, \"#bd3786\"], [0.5555555555555556, \"#d8576b\"], [0.6666666666666666, \"#ed7953\"], [0.7777777777777778, \"#fb9f3a\"], [0.8888888888888888, \"#fdca26\"], [1.0, \"#f0f921\"]], \"type\": \"surface\"}], \"table\": [{\"cells\": {\"fill\": {\"color\": \"#EBF0F8\"}, \"line\": {\"color\": \"white\"}}, \"header\": {\"fill\": {\"color\": \"#C8D4E3\"}, \"line\": {\"color\": \"white\"}}, \"type\": \"table\"}]}, \"layout\": {\"annotationdefaults\": {\"arrowcolor\": \"#2a3f5f\", \"arrowhead\": 0, \"arrowwidth\": 1}, \"colorscale\": {\"diverging\": [[0, \"#8e0152\"], [0.1, \"#c51b7d\"], [0.2, \"#de77ae\"], [0.3, \"#f1b6da\"], [0.4, \"#fde0ef\"], [0.5, \"#f7f7f7\"], [0.6, \"#e6f5d0\"], [0.7, \"#b8e186\"], [0.8, \"#7fbc41\"], [0.9, \"#4d9221\"], [1, \"#276419\"]], \"sequential\": [[0.0, \"#0d0887\"], [0.1111111111111111, \"#46039f\"], [0.2222222222222222, \"#7201a8\"], [0.3333333333333333, \"#9c179e\"], [0.4444444444444444, \"#bd3786\"], [0.5555555555555556, \"#d8576b\"], [0.6666666666666666, \"#ed7953\"], [0.7777777777777778, \"#fb9f3a\"], [0.8888888888888888, \"#fdca26\"], [1.0, \"#f0f921\"]], \"sequentialminus\": [[0.0, \"#0d0887\"], [0.1111111111111111, \"#46039f\"], [0.2222222222222222, \"#7201a8\"], [0.3333333333333333, \"#9c179e\"], [0.4444444444444444, \"#bd3786\"], [0.5555555555555556, \"#d8576b\"], [0.6666666666666666, \"#ed7953\"], [0.7777777777777778, \"#fb9f3a\"], [0.8888888888888888, \"#fdca26\"], [1.0, \"#f0f921\"]]}, \"colorway\": [\"#636efa\", \"#EF553B\", \"#00cc96\", \"#ab63fa\", \"#FFA15A\", \"#19d3f3\", \"#FF6692\", \"#B6E880\", \"#FF97FF\", \"#FECB52\"], \"font\": {\"color\": \"#2a3f5f\"}, \"geo\": {\"bgcolor\": \"white\", \"lakecolor\": \"white\", \"landcolor\": \"#E5ECF6\", \"showlakes\": true, \"showland\": true, \"subunitcolor\": \"white\"}, \"hoverlabel\": {\"align\": \"left\"}, \"hovermode\": \"closest\", \"mapbox\": {\"style\": \"light\"}, \"paper_bgcolor\": \"white\", \"plot_bgcolor\": \"#E5ECF6\", \"polar\": {\"angularaxis\": {\"gridcolor\": \"white\", \"linecolor\": \"white\", \"ticks\": \"\"}, \"bgcolor\": \"#E5ECF6\", \"radialaxis\": {\"gridcolor\": \"white\", \"linecolor\": \"white\", \"ticks\": \"\"}}, \"scene\": {\"xaxis\": {\"backgroundcolor\": \"#E5ECF6\", \"gridcolor\": \"white\", \"gridwidth\": 2, \"linecolor\": \"white\", \"showbackground\": true, \"ticks\": \"\", \"zerolinecolor\": \"white\"}, \"yaxis\": {\"backgroundcolor\": \"#E5ECF6\", \"gridcolor\": \"white\", \"gridwidth\": 2, \"linecolor\": \"white\", \"showbackground\": true, \"ticks\": \"\", \"zerolinecolor\": \"white\"}, \"zaxis\": {\"backgroundcolor\": \"#E5ECF6\", \"gridcolor\": \"white\", \"gridwidth\": 2, \"linecolor\": \"white\", \"showbackground\": true, \"ticks\": \"\", \"zerolinecolor\": \"white\"}}, \"shapedefaults\": {\"line\": {\"color\": \"#2a3f5f\"}}, \"ternary\": {\"aaxis\": {\"gridcolor\": \"white\", \"linecolor\": \"white\", \"ticks\": \"\"}, \"baxis\": {\"gridcolor\": \"white\", \"linecolor\": \"white\", \"ticks\": \"\"}, \"bgcolor\": \"#E5ECF6\", \"caxis\": {\"gridcolor\": \"white\", \"linecolor\": \"white\", \"ticks\": \"\"}}, \"title\": {\"x\": 0.05}, \"xaxis\": {\"automargin\": true, \"gridcolor\": \"white\", \"linecolor\": \"white\", \"ticks\": \"\", \"zerolinecolor\": \"white\", \"zerolinewidth\": 2}, \"yaxis\": {\"automargin\": true, \"gridcolor\": \"white\", \"linecolor\": \"white\", \"ticks\": \"\", \"zerolinecolor\": \"white\", \"zerolinewidth\": 2}}}, \"title\": {\"text\": \"<b>COVID19 CASES IN AFRICA: October 06, 2020</b>\", \"x\": 0.5, \"xanchor\": \"center\", \"y\": 0.9, \"yanchor\": \"top\"}, \"xaxis\": {\"nticks\": 30, \"tickangle\": 90, \"title\": {\"font\": {\"color\": \"#BDBDBD\", \"size\": 18}, \"text\": \"<b>Date</b>\"}}, \"yaxis\": {\"title\": {\"font\": {\"color\": \"#4D4B4B\", \"size\": 18}, \"text\": \"<b>Cases</b>\"}}},\n",
       "                        {\"responsive\": true}\n",
       "                    ).then(function(){\n",
       "                            \n",
       "var gd = document.getElementById('5c52d7a1-50bb-4f1d-987d-0dccc9876ae2');\n",
       "var x = new MutationObserver(function (mutations, observer) {{\n",
       "        var display = window.getComputedStyle(gd).display;\n",
       "        if (!display || display === 'none') {{\n",
       "            console.log([gd, 'removed!']);\n",
       "            Plotly.purge(gd);\n",
       "            observer.disconnect();\n",
       "        }}\n",
       "}});\n",
       "\n",
       "// Listen for the removal of the full notebook cells\n",
       "var notebookContainer = gd.closest('#notebook-container');\n",
       "if (notebookContainer) {{\n",
       "    x.observe(notebookContainer, {childList: true});\n",
       "}}\n",
       "\n",
       "// Listen for the clearing of the current output cell\n",
       "var outputEl = gd.closest('.output');\n",
       "if (outputEl) {{\n",
       "    x.observe(outputEl, {childList: true});\n",
       "}}\n",
       "\n",
       "                        })\n",
       "                };\n",
       "                });\n",
       "            </script>\n",
       "        </div>"
      ]
     },
     "metadata": {},
     "output_type": "display_data"
    }
   ],
   "source": [
    "fig = go.Figure()\n",
    "for column in african_summary.columns[1:]:\n",
    "    fig.add_trace(go.Scatter(\n",
    "        x=dates,\n",
    "        y= african_summary[column].tolist(),\n",
    "        name=column,\n",
    "        mode='lines',\n",
    "        line=dict(width=3)       \n",
    "))    \n",
    "fig.update_layout(\n",
    "    title={\n",
    "        'text': '<b>'+'COVID19 CASES IN AFRICA: ' + date_string +'</b>',\n",
    "        'y':0.9,\n",
    "        'x':0.5,\n",
    "        'xanchor': 'center',\n",
    "        'yanchor': 'top'},\n",
    "    xaxis=dict(title='<b>Date</b>',titlefont_size=18, titlefont=dict(color='#BDBDBD'),nticks=30),\n",
    "    yaxis=dict(title='<b>Cases</b>',titlefont_size=18,  titlefont=dict(color='#4D4B4B')),\n",
    "    legend=dict(x=0.07, y=0.98,traceorder=\"normal\",bgcolor='rgba(255, 255, 255, 0)',bordercolor='rgba(255, 255, 255, 0)',),\n",
    "#     margin=dict(l=20, r=20, t=20, b=20),    \n",
    "    xaxis_tickangle=90,   \n",
    "#     legend=dict(x=0.01, y=0.98,traceorder=\"normal\",borderwidth=1,bordercolor=\"Black\",)\n",
    ")\n",
    "fig.show()"
   ]
  },
  {
   "cell_type": "markdown",
   "metadata": {},
   "source": [
    "[Return to top](#top)"
   ]
  },
  {
   "cell_type": "markdown",
   "metadata": {},
   "source": [
    "### NEW CASES BY REGION"
   ]
  },
  {
   "cell_type": "code",
   "execution_count": 46,
   "metadata": {},
   "outputs": [
    {
     "data": {
      "application/vnd.plotly.v1+json": {
       "config": {
        "plotlyServerURL": "https://plot.ly"
       },
       "data": [
        {
         "line": {
          "width": 3
         },
         "mode": "lines",
         "name": "East Africa",
         "type": "scatter",
         "x": [
          "April16",
          "April17",
          "April18",
          "April19",
          "April20",
          "April21",
          "April22",
          "April23",
          "April24",
          "April25",
          "April26",
          "April27",
          "April28",
          "April29",
          "April30",
          "May01",
          "May02",
          "May03",
          "May04",
          "May05",
          "May06",
          "May07",
          "May08",
          "May09",
          "May10",
          "May11",
          "May12",
          "May13",
          "May14",
          "May15",
          "May16",
          "May17",
          "May18",
          "May19",
          "May20",
          "May21",
          "May22",
          "May23",
          "May24",
          "May25",
          "May26",
          "May27",
          "May28",
          "May29",
          "May30",
          "May31",
          "June01",
          "June02",
          "June03",
          "June04",
          "June05",
          "June06",
          "June07",
          "June08",
          "June09",
          "June10",
          "June11",
          "June12",
          "June13",
          "June14",
          "June15",
          "June16",
          "June17",
          "June18",
          "June19",
          "June20",
          "June21",
          "June22",
          "June23",
          "June24",
          "June25",
          "June26",
          "June27",
          "June28",
          "June29",
          "June30",
          "July01",
          "July02",
          "July03",
          "July04",
          "July05",
          "July06",
          "July07",
          "July08",
          "July09",
          "July10",
          "July11",
          "July12",
          "July13",
          "July14",
          "July15",
          "July16",
          "July17",
          "July18",
          "July19",
          "July20",
          "July21",
          "July22",
          "July23",
          "July24",
          "July25",
          "July26",
          "July27",
          "July28",
          "July29",
          "July30",
          "July31",
          "August01",
          "August02",
          "August03",
          "August04",
          "August05",
          "August06",
          "August07",
          "August08",
          "August09",
          "August10",
          "August11",
          "August12",
          "August13",
          "August14",
          "August15",
          "August16",
          "August17",
          "August18",
          "August19",
          "August20",
          "August21",
          "August22",
          "August23",
          "August24",
          "August25",
          "August26",
          "August27",
          "August28",
          "August29",
          "August30",
          "August31",
          "September01",
          "September02",
          "September03",
          "September04",
          "September05",
          "September06",
          "September07",
          "September08",
          "September09",
          "September10",
          "September11",
          "September12",
          "September13",
          "September14",
          "September15",
          "September16",
          "September17",
          "September18",
          "September19",
          "September20",
          "September21",
          "September22",
          "September23",
          "September24",
          "September25",
          "September26",
          "September27",
          "September28",
          "September29",
          "September30",
          "October01",
          "October02",
          "October03",
          "October04",
          "October05",
          "October06"
         ],
         "y": [
          202,
          286,
          106,
          210,
          217,
          255,
          106,
          126,
          137,
          166,
          145,
          129,
          239,
          330,
          221,
          55,
          287,
          164,
          216,
          297,
          213,
          375,
          292,
          484,
          399,
          302,
          563,
          352,
          437,
          298,
          700,
          405,
          623,
          387,
          603,
          1014,
          802,
          258,
          496,
          888,
          396,
          984,
          982,
          605,
          1071,
          672,
          976,
          761,
          789,
          869,
          628,
          784,
          760,
          1066,
          716,
          651,
          570,
          896,
          869,
          749,
          725,
          890,
          798,
          603,
          701,
          835,
          860,
          546,
          820,
          782,
          649,
          924,
          627,
          784,
          573,
          557,
          904,
          543,
          711,
          797,
          774,
          854,
          1027,
          1547,
          1181,
          1254,
          1333,
          1029,
          1086,
          1242,
          1280,
          1671,
          1529,
          1780,
          1871,
          1628,
          1876,
          2219,
          1926,
          2149,
          1819,
          2494,
          1710,
          2338,
          1781,
          2619,
          2631,
          2203,
          2046,
          1731,
          1878,
          1926,
          1709,
          2163,
          2249,
          1678,
          1696,
          1522,
          2129,
          2426,
          2480,
          2738,
          1944,
          2686,
          2270,
          2364,
          2817,
          2902,
          2690,
          2854,
          2281,
          2510,
          2324,
          2293,
          2596,
          2385,
          2310,
          1514,
          1981,
          1705,
          1746,
          1984,
          1900,
          1835,
          1496,
          1844,
          1703,
          1626,
          1539,
          1509,
          1200,
          1234,
          1384,
          1508,
          1382,
          1339,
          1578,
          1535,
          1493,
          1635,
          1331,
          1179,
          1327,
          1302,
          1346,
          1534,
          1494,
          1655,
          1356,
          1674,
          1581,
          1783,
          1223,
          1065
         ]
        },
        {
         "line": {
          "width": 3
         },
         "mode": "lines",
         "name": "West Africa",
         "type": "scatter",
         "x": [
          "April16",
          "April17",
          "April18",
          "April19",
          "April20",
          "April21",
          "April22",
          "April23",
          "April24",
          "April25",
          "April26",
          "April27",
          "April28",
          "April29",
          "April30",
          "May01",
          "May02",
          "May03",
          "May04",
          "May05",
          "May06",
          "May07",
          "May08",
          "May09",
          "May10",
          "May11",
          "May12",
          "May13",
          "May14",
          "May15",
          "May16",
          "May17",
          "May18",
          "May19",
          "May20",
          "May21",
          "May22",
          "May23",
          "May24",
          "May25",
          "May26",
          "May27",
          "May28",
          "May29",
          "May30",
          "May31",
          "June01",
          "June02",
          "June03",
          "June04",
          "June05",
          "June06",
          "June07",
          "June08",
          "June09",
          "June10",
          "June11",
          "June12",
          "June13",
          "June14",
          "June15",
          "June16",
          "June17",
          "June18",
          "June19",
          "June20",
          "June21",
          "June22",
          "June23",
          "June24",
          "June25",
          "June26",
          "June27",
          "June28",
          "June29",
          "June30",
          "July01",
          "July02",
          "July03",
          "July04",
          "July05",
          "July06",
          "July07",
          "July08",
          "July09",
          "July10",
          "July11",
          "July12",
          "July13",
          "July14",
          "July15",
          "July16",
          "July17",
          "July18",
          "July19",
          "July20",
          "July21",
          "July22",
          "July23",
          "July24",
          "July25",
          "July26",
          "July27",
          "July28",
          "July29",
          "July30",
          "July31",
          "August01",
          "August02",
          "August03",
          "August04",
          "August05",
          "August06",
          "August07",
          "August08",
          "August09",
          "August10",
          "August11",
          "August12",
          "August13",
          "August14",
          "August15",
          "August16",
          "August17",
          "August18",
          "August19",
          "August20",
          "August21",
          "August22",
          "August23",
          "August24",
          "August25",
          "August26",
          "August27",
          "August28",
          "August29",
          "August30",
          "August31",
          "September01",
          "September02",
          "September03",
          "September04",
          "September05",
          "September06",
          "September07",
          "September08",
          "September09",
          "September10",
          "September11",
          "September12",
          "September13",
          "September14",
          "September15",
          "September16",
          "September17",
          "September18",
          "September19",
          "September20",
          "September21",
          "September22",
          "September23",
          "September24",
          "September25",
          "September26",
          "September27",
          "September28",
          "September29",
          "September30",
          "October01",
          "October02",
          "October03",
          "October04",
          "October05",
          "October06"
         ],
         "y": [
          119,
          215,
          479,
          473,
          191,
          307,
          409,
          342,
          553,
          257,
          570,
          366,
          554,
          629,
          893,
          570,
          585,
          345,
          1267,
          433,
          936,
          788,
          1711,
          856,
          648,
          1015,
          1100,
          863,
          754,
          694,
          779,
          583,
          555,
          883,
          791,
          829,
          714,
          716,
          755,
          669,
          737,
          873,
          837,
          1219,
          1046,
          676,
          1193,
          889,
          980,
          1168,
          1223,
          1102,
          863,
          1105,
          1374,
          1023,
          1586,
          1942,
          1378,
          1866,
          1339,
          1472,
          1787,
          2071,
          2013,
          2037,
          1453,
          1416,
          1503,
          1943,
          1745,
          2021,
          2117,
          1492,
          1640,
          1613,
          1772,
          1375,
          2495,
          1216,
          1852,
          1990,
          1910,
          1941,
          1816,
          1767,
          1928,
          1509,
          1423,
          859,
          1813,
          2046,
          1659,
          1791,
          1680,
          1832,
          1590,
          1923,
          1232,
          2626,
          1845,
          2186,
          1627,
          1690,
          1551,
          1054,
          1281,
          2110,
          575,
          1349,
          765,
          2279,
          1509,
          1527,
          1341,
          1451,
          822,
          1151,
          1213,
          1031,
          881,
          1218,
          1203,
          957,
          1330,
          1331,
          1113,
          824,
          1134,
          909,
          888,
          696,
          710,
          764,
          657,
          776,
          676,
          531,
          756,
          783,
          518,
          620,
          604,
          552,
          505,
          743,
          801,
          576,
          601,
          409,
          567,
          470,
          624,
          418,
          429,
          644,
          601,
          494,
          423,
          407,
          556,
          412,
          572,
          372,
          587,
          322,
          455,
          686,
          438,
          528,
          521,
          285,
          334,
          372
         ]
        },
        {
         "line": {
          "width": 3
         },
         "mode": "lines",
         "name": "North Africa",
         "type": "scatter",
         "x": [
          "April16",
          "April17",
          "April18",
          "April19",
          "April20",
          "April21",
          "April22",
          "April23",
          "April24",
          "April25",
          "April26",
          "April27",
          "April28",
          "April29",
          "April30",
          "May01",
          "May02",
          "May03",
          "May04",
          "May05",
          "May06",
          "May07",
          "May08",
          "May09",
          "May10",
          "May11",
          "May12",
          "May13",
          "May14",
          "May15",
          "May16",
          "May17",
          "May18",
          "May19",
          "May20",
          "May21",
          "May22",
          "May23",
          "May24",
          "May25",
          "May26",
          "May27",
          "May28",
          "May29",
          "May30",
          "May31",
          "June01",
          "June02",
          "June03",
          "June04",
          "June05",
          "June06",
          "June07",
          "June08",
          "June09",
          "June10",
          "June11",
          "June12",
          "June13",
          "June14",
          "June15",
          "June16",
          "June17",
          "June18",
          "June19",
          "June20",
          "June21",
          "June22",
          "June23",
          "June24",
          "June25",
          "June26",
          "June27",
          "June28",
          "June29",
          "June30",
          "July01",
          "July02",
          "July03",
          "July04",
          "July05",
          "July06",
          "July07",
          "July08",
          "July09",
          "July10",
          "July11",
          "July12",
          "July13",
          "July14",
          "July15",
          "July16",
          "July17",
          "July18",
          "July19",
          "July20",
          "July21",
          "July22",
          "July23",
          "July24",
          "July25",
          "July26",
          "July27",
          "July28",
          "July29",
          "July30",
          "July31",
          "August01",
          "August02",
          "August03",
          "August04",
          "August05",
          "August06",
          "August07",
          "August08",
          "August09",
          "August10",
          "August11",
          "August12",
          "August13",
          "August14",
          "August15",
          "August16",
          "August17",
          "August18",
          "August19",
          "August20",
          "August21",
          "August22",
          "August23",
          "August24",
          "August25",
          "August26",
          "August27",
          "August28",
          "August29",
          "August30",
          "August31",
          "September01",
          "September02",
          "September03",
          "September04",
          "September05",
          "September06",
          "September07",
          "September08",
          "September09",
          "September10",
          "September11",
          "September12",
          "September13",
          "September14",
          "September15",
          "September16",
          "September17",
          "September18",
          "September19",
          "September20",
          "September21",
          "September22",
          "September23",
          "September24",
          "September25",
          "September26",
          "September27",
          "September28",
          "September29",
          "September30",
          "October01",
          "October02",
          "October03",
          "October04",
          "October05",
          "October06"
         ],
         "y": [
          578,
          644,
          427,
          392,
          474,
          438,
          514,
          460,
          516,
          512,
          519,
          456,
          532,
          499,
          543,
          658,
          610,
          629,
          677,
          748,
          739,
          719,
          849,
          878,
          754,
          732,
          660,
          618,
          682,
          634,
          775,
          837,
          805,
          970,
          1023,
          1041,
          1097,
          999,
          975,
          1001,
          1030,
          1116,
          1332,
          1513,
          1583,
          1717,
          1563,
          1314,
          1257,
          1344,
          1550,
          1709,
          1644,
          1630,
          1664,
          1647,
          1591,
          1781,
          1881,
          1866,
          1922,
          1761,
          1569,
          1426,
          2456,
          1934,
          1781,
          1947,
          1704,
          2187,
          2227,
          2177,
          1713,
          1781,
          2145,
          2160,
          2022,
          2223,
          2174,
          2364,
          2111,
          1678,
          1831,
          1760,
          1802,
          1673,
          1659,
          1660,
          1734,
          1672,
          1671,
          1867,
          1538,
          1687,
          1460,
          1681,
          1559,
          1574,
          1732,
          2033,
          2068,
          1836,
          1806,
          1810,
          2074,
          2291,
          2151,
          1574,
          1359,
          1553,
          1845,
          2225,
          2291,
          1902,
          2225,
          2167,
          1996,
          2186,
          2474,
          2380,
          2228,
          2892,
          2579,
          2111,
          2445,
          2582,
          2207,
          2619,
          2502,
          2112,
          2086,
          2235,
          2623,
          2412,
          2507,
          2597,
          2516,
          2412,
          2524,
          2927,
          2673,
          3031,
          2866,
          3598,
          3021,
          3455,
          3489,
          3257,
          4191,
          3457,
          3084,
          3408,
          3392,
          3353,
          4213,
          3726,
          4226,
          3586,
          3542,
          3709,
          4574,
          4034,
          4455,
          3528,
          4959,
          2532,
          4447,
          4270,
          3353,
          4644,
          4513,
          4301,
          2283,
          3834
         ]
        },
        {
         "line": {
          "width": 3
         },
         "mode": "lines",
         "name": "Southern Africa",
         "type": "scatter",
         "x": [
          "April16",
          "April17",
          "April18",
          "April19",
          "April20",
          "April21",
          "April22",
          "April23",
          "April24",
          "April25",
          "April26",
          "April27",
          "April28",
          "April29",
          "April30",
          "May01",
          "May02",
          "May03",
          "May04",
          "May05",
          "May06",
          "May07",
          "May08",
          "May09",
          "May10",
          "May11",
          "May12",
          "May13",
          "May14",
          "May15",
          "May16",
          "May17",
          "May18",
          "May19",
          "May20",
          "May21",
          "May22",
          "May23",
          "May24",
          "May25",
          "May26",
          "May27",
          "May28",
          "May29",
          "May30",
          "May31",
          "June01",
          "June02",
          "June03",
          "June04",
          "June05",
          "June06",
          "June07",
          "June08",
          "June09",
          "June10",
          "June11",
          "June12",
          "June13",
          "June14",
          "June15",
          "June16",
          "June17",
          "June18",
          "June19",
          "June20",
          "June21",
          "June22",
          "June23",
          "June24",
          "June25",
          "June26",
          "June27",
          "June28",
          "June29",
          "June30",
          "July01",
          "July02",
          "July03",
          "July04",
          "July05",
          "July06",
          "July07",
          "July08",
          "July09",
          "July10",
          "July11",
          "July12",
          "July13",
          "July14",
          "July15",
          "July16",
          "July17",
          "July18",
          "July19",
          "July20",
          "July21",
          "July22",
          "July23",
          "July24",
          "July25",
          "July26",
          "July27",
          "July28",
          "July29",
          "July30",
          "July31",
          "August01",
          "August02",
          "August03",
          "August04",
          "August05",
          "August06",
          "August07",
          "August08",
          "August09",
          "August10",
          "August11",
          "August12",
          "August13",
          "August14",
          "August15",
          "August16",
          "August17",
          "August18",
          "August19",
          "August20",
          "August21",
          "August22",
          "August23",
          "August24",
          "August25",
          "August26",
          "August27",
          "August28",
          "August29",
          "August30",
          "August31",
          "September01",
          "September02",
          "September03",
          "September04",
          "September05",
          "September06",
          "September07",
          "September08",
          "September09",
          "September10",
          "September11",
          "September12",
          "September13",
          "September14",
          "September15",
          "September16",
          "September17",
          "September18",
          "September19",
          "September20",
          "September21",
          "September22",
          "September23",
          "September24",
          "September25",
          "September26",
          "September27",
          "September28",
          "September29",
          "September30",
          "October01",
          "October02",
          "October03",
          "October04",
          "October05",
          "October06"
         ],
         "y": [
          102,
          179,
          258,
          129,
          144,
          175,
          172,
          318,
          273,
          163,
          188,
          253,
          211,
          374,
          314,
          310,
          387,
          451,
          441,
          355,
          240,
          454,
          669,
          530,
          605,
          641,
          707,
          728,
          665,
          793,
          843,
          1164,
          922,
          770,
          814,
          1146,
          995,
          1237,
          1258,
          1038,
          654,
          1761,
          1490,
          1838,
          1756,
          1723,
          1711,
          1461,
          1730,
          3287,
          2675,
          2574,
          2326,
          2610,
          2170,
          2469,
          3210,
          3393,
          3849,
          4333,
          3515,
          2821,
          4152,
          3566,
          3894,
          4971,
          4648,
          4335,
          4576,
          5716,
          6642,
          6273,
          7248,
          6420,
          6164,
          7040,
          8254,
          8781,
          9214,
          10996,
          8906,
          9134,
          10286,
          9044,
          13855,
          12511,
          13636,
          12307,
          11729,
          10585,
          12933,
          13703,
          13599,
          13626,
          13690,
          9532,
          8367,
          13444,
          13397,
          14358,
          12540,
          11550,
          7518,
          7507,
          11776,
          11379,
          11239,
          10848,
          8612,
          5706,
          4692,
          8682,
          8612,
          7622,
          7928,
          7000,
          4274,
          2810,
          3194,
          4489,
          6610,
          4892,
          4118,
          2970,
          2543,
          4451,
          4331,
          3820,
          4157,
          3117,
          2326,
          1880,
          3143,
          2953,
          2164,
          2696,
          2845,
          2362,
          1463,
          2617,
          2750,
          2864,
          2036,
          1838,
          1586,
          1307,
          2259,
          2363,
          2279,
          2037,
          1737,
          1300,
          1006,
          2035,
          2417,
          2285,
          2169,
          1709,
          887,
          1457,
          2095,
          2398,
          1638,
          1088,
          1404,
          1274,
          964,
          1932,
          1927,
          1926,
          2011,
          1672,
          974,
          1082
         ]
        },
        {
         "line": {
          "width": 3
         },
         "mode": "lines",
         "name": "Central Africa",
         "type": "scatter",
         "x": [
          "April16",
          "April17",
          "April18",
          "April19",
          "April20",
          "April21",
          "April22",
          "April23",
          "April24",
          "April25",
          "April26",
          "April27",
          "April28",
          "April29",
          "April30",
          "May01",
          "May02",
          "May03",
          "May04",
          "May05",
          "May06",
          "May07",
          "May08",
          "May09",
          "May10",
          "May11",
          "May12",
          "May13",
          "May14",
          "May15",
          "May16",
          "May17",
          "May18",
          "May19",
          "May20",
          "May21",
          "May22",
          "May23",
          "May24",
          "May25",
          "May26",
          "May27",
          "May28",
          "May29",
          "May30",
          "May31",
          "June01",
          "June02",
          "June03",
          "June04",
          "June05",
          "June06",
          "June07",
          "June08",
          "June09",
          "June10",
          "June11",
          "June12",
          "June13",
          "June14",
          "June15",
          "June16",
          "June17",
          "June18",
          "June19",
          "June20",
          "June21",
          "June22",
          "June23",
          "June24",
          "June25",
          "June26",
          "June27",
          "June28",
          "June29",
          "June30",
          "July01",
          "July02",
          "July03",
          "July04",
          "July05",
          "July06",
          "July07",
          "July08",
          "July09",
          "July10",
          "July11",
          "July12",
          "July13",
          "July14",
          "July15",
          "July16",
          "July17",
          "July18",
          "July19",
          "July20",
          "July21",
          "July22",
          "July23",
          "July24",
          "July25",
          "July26",
          "July27",
          "July28",
          "July29",
          "July30",
          "July31",
          "August01",
          "August02",
          "August03",
          "August04",
          "August05",
          "August06",
          "August07",
          "August08",
          "August09",
          "August10",
          "August11",
          "August12",
          "August13",
          "August14",
          "August15",
          "August16",
          "August17",
          "August18",
          "August19",
          "August20",
          "August21",
          "August22",
          "August23",
          "August24",
          "August25",
          "August26",
          "August27",
          "August28",
          "August29",
          "August30",
          "August31",
          "September01",
          "September02",
          "September03",
          "September04",
          "September05",
          "September06",
          "September07",
          "September08",
          "September09",
          "September10",
          "September11",
          "September12",
          "September13",
          "September14",
          "September15",
          "September16",
          "September17",
          "September18",
          "September19",
          "September20",
          "September21",
          "September22",
          "September23",
          "September24",
          "September25",
          "September26",
          "September27",
          "September28",
          "September29",
          "September30",
          "October01",
          "October02",
          "October03",
          "October04",
          "October05",
          "October06"
         ],
         "y": [
          165,
          102,
          52,
          21,
          179,
          65,
          42,
          190,
          144,
          164,
          133,
          153,
          106,
          185,
          121,
          68,
          423,
          0,
          94,
          258,
          414,
          271,
          210,
          184,
          359,
          345,
          174,
          429,
          491,
          359,
          491,
          29,
          794,
          347,
          508,
          768,
          508,
          415,
          693,
          549,
          929,
          357,
          308,
          782,
          750,
          218,
          689,
          480,
          389,
          530,
          1078,
          490,
          529,
          461,
          606,
          701,
          386,
          233,
          128,
          60,
          2135,
          424,
          773,
          351,
          1071,
          609,
          570,
          924,
          540,
          674,
          830,
          362,
          275,
          146,
          388,
          241,
          505,
          138,
          1622,
          137,
          34,
          209,
          2406,
          430,
          517,
          460,
          356,
          91,
          204,
          115,
          360,
          1202,
          568,
          224,
          100,
          483,
          499,
          294,
          177,
          959,
          77,
          48,
          809,
          154,
          382,
          121,
          1854,
          218,
          66,
          560,
          579,
          271,
          149,
          349,
          466,
          120,
          126,
          326,
          198,
          150,
          366,
          61,
          155,
          235,
          86,
          234,
          187,
          184,
          77,
          60,
          214,
          341,
          141,
          263,
          192,
          93,
          116,
          122,
          377,
          764,
          202,
          170,
          100,
          67,
          323,
          366,
          113,
          322,
          182,
          82,
          217,
          157,
          187,
          185,
          169,
          242,
          153,
          119,
          323,
          157,
          257,
          163,
          157,
          132,
          69,
          201,
          149,
          220,
          186,
          180,
          203,
          43,
          163,
          236
         ]
        }
       ],
       "layout": {
        "legend": {
         "bgcolor": "rgba(255, 255, 255, 0)",
         "bordercolor": "rgba(255, 255, 255, 0)",
         "borderwidth": 1,
         "traceorder": "normal",
         "x": 0.05,
         "y": 0.98
        },
        "template": {
         "data": {
          "bar": [
           {
            "error_x": {
             "color": "#2a3f5f"
            },
            "error_y": {
             "color": "#2a3f5f"
            },
            "marker": {
             "line": {
              "color": "#E5ECF6",
              "width": 0.5
             }
            },
            "type": "bar"
           }
          ],
          "barpolar": [
           {
            "marker": {
             "line": {
              "color": "#E5ECF6",
              "width": 0.5
             }
            },
            "type": "barpolar"
           }
          ],
          "carpet": [
           {
            "aaxis": {
             "endlinecolor": "#2a3f5f",
             "gridcolor": "white",
             "linecolor": "white",
             "minorgridcolor": "white",
             "startlinecolor": "#2a3f5f"
            },
            "baxis": {
             "endlinecolor": "#2a3f5f",
             "gridcolor": "white",
             "linecolor": "white",
             "minorgridcolor": "white",
             "startlinecolor": "#2a3f5f"
            },
            "type": "carpet"
           }
          ],
          "choropleth": [
           {
            "colorbar": {
             "outlinewidth": 0,
             "ticks": ""
            },
            "type": "choropleth"
           }
          ],
          "contour": [
           {
            "colorbar": {
             "outlinewidth": 0,
             "ticks": ""
            },
            "colorscale": [
             [
              0,
              "#0d0887"
             ],
             [
              0.1111111111111111,
              "#46039f"
             ],
             [
              0.2222222222222222,
              "#7201a8"
             ],
             [
              0.3333333333333333,
              "#9c179e"
             ],
             [
              0.4444444444444444,
              "#bd3786"
             ],
             [
              0.5555555555555556,
              "#d8576b"
             ],
             [
              0.6666666666666666,
              "#ed7953"
             ],
             [
              0.7777777777777778,
              "#fb9f3a"
             ],
             [
              0.8888888888888888,
              "#fdca26"
             ],
             [
              1,
              "#f0f921"
             ]
            ],
            "type": "contour"
           }
          ],
          "contourcarpet": [
           {
            "colorbar": {
             "outlinewidth": 0,
             "ticks": ""
            },
            "type": "contourcarpet"
           }
          ],
          "heatmap": [
           {
            "colorbar": {
             "outlinewidth": 0,
             "ticks": ""
            },
            "colorscale": [
             [
              0,
              "#0d0887"
             ],
             [
              0.1111111111111111,
              "#46039f"
             ],
             [
              0.2222222222222222,
              "#7201a8"
             ],
             [
              0.3333333333333333,
              "#9c179e"
             ],
             [
              0.4444444444444444,
              "#bd3786"
             ],
             [
              0.5555555555555556,
              "#d8576b"
             ],
             [
              0.6666666666666666,
              "#ed7953"
             ],
             [
              0.7777777777777778,
              "#fb9f3a"
             ],
             [
              0.8888888888888888,
              "#fdca26"
             ],
             [
              1,
              "#f0f921"
             ]
            ],
            "type": "heatmap"
           }
          ],
          "heatmapgl": [
           {
            "colorbar": {
             "outlinewidth": 0,
             "ticks": ""
            },
            "colorscale": [
             [
              0,
              "#0d0887"
             ],
             [
              0.1111111111111111,
              "#46039f"
             ],
             [
              0.2222222222222222,
              "#7201a8"
             ],
             [
              0.3333333333333333,
              "#9c179e"
             ],
             [
              0.4444444444444444,
              "#bd3786"
             ],
             [
              0.5555555555555556,
              "#d8576b"
             ],
             [
              0.6666666666666666,
              "#ed7953"
             ],
             [
              0.7777777777777778,
              "#fb9f3a"
             ],
             [
              0.8888888888888888,
              "#fdca26"
             ],
             [
              1,
              "#f0f921"
             ]
            ],
            "type": "heatmapgl"
           }
          ],
          "histogram": [
           {
            "marker": {
             "colorbar": {
              "outlinewidth": 0,
              "ticks": ""
             }
            },
            "type": "histogram"
           }
          ],
          "histogram2d": [
           {
            "colorbar": {
             "outlinewidth": 0,
             "ticks": ""
            },
            "colorscale": [
             [
              0,
              "#0d0887"
             ],
             [
              0.1111111111111111,
              "#46039f"
             ],
             [
              0.2222222222222222,
              "#7201a8"
             ],
             [
              0.3333333333333333,
              "#9c179e"
             ],
             [
              0.4444444444444444,
              "#bd3786"
             ],
             [
              0.5555555555555556,
              "#d8576b"
             ],
             [
              0.6666666666666666,
              "#ed7953"
             ],
             [
              0.7777777777777778,
              "#fb9f3a"
             ],
             [
              0.8888888888888888,
              "#fdca26"
             ],
             [
              1,
              "#f0f921"
             ]
            ],
            "type": "histogram2d"
           }
          ],
          "histogram2dcontour": [
           {
            "colorbar": {
             "outlinewidth": 0,
             "ticks": ""
            },
            "colorscale": [
             [
              0,
              "#0d0887"
             ],
             [
              0.1111111111111111,
              "#46039f"
             ],
             [
              0.2222222222222222,
              "#7201a8"
             ],
             [
              0.3333333333333333,
              "#9c179e"
             ],
             [
              0.4444444444444444,
              "#bd3786"
             ],
             [
              0.5555555555555556,
              "#d8576b"
             ],
             [
              0.6666666666666666,
              "#ed7953"
             ],
             [
              0.7777777777777778,
              "#fb9f3a"
             ],
             [
              0.8888888888888888,
              "#fdca26"
             ],
             [
              1,
              "#f0f921"
             ]
            ],
            "type": "histogram2dcontour"
           }
          ],
          "mesh3d": [
           {
            "colorbar": {
             "outlinewidth": 0,
             "ticks": ""
            },
            "type": "mesh3d"
           }
          ],
          "parcoords": [
           {
            "line": {
             "colorbar": {
              "outlinewidth": 0,
              "ticks": ""
             }
            },
            "type": "parcoords"
           }
          ],
          "scatter": [
           {
            "marker": {
             "colorbar": {
              "outlinewidth": 0,
              "ticks": ""
             }
            },
            "type": "scatter"
           }
          ],
          "scatter3d": [
           {
            "line": {
             "colorbar": {
              "outlinewidth": 0,
              "ticks": ""
             }
            },
            "marker": {
             "colorbar": {
              "outlinewidth": 0,
              "ticks": ""
             }
            },
            "type": "scatter3d"
           }
          ],
          "scattercarpet": [
           {
            "marker": {
             "colorbar": {
              "outlinewidth": 0,
              "ticks": ""
             }
            },
            "type": "scattercarpet"
           }
          ],
          "scattergeo": [
           {
            "marker": {
             "colorbar": {
              "outlinewidth": 0,
              "ticks": ""
             }
            },
            "type": "scattergeo"
           }
          ],
          "scattergl": [
           {
            "marker": {
             "colorbar": {
              "outlinewidth": 0,
              "ticks": ""
             }
            },
            "type": "scattergl"
           }
          ],
          "scattermapbox": [
           {
            "marker": {
             "colorbar": {
              "outlinewidth": 0,
              "ticks": ""
             }
            },
            "type": "scattermapbox"
           }
          ],
          "scatterpolar": [
           {
            "marker": {
             "colorbar": {
              "outlinewidth": 0,
              "ticks": ""
             }
            },
            "type": "scatterpolar"
           }
          ],
          "scatterpolargl": [
           {
            "marker": {
             "colorbar": {
              "outlinewidth": 0,
              "ticks": ""
             }
            },
            "type": "scatterpolargl"
           }
          ],
          "scatterternary": [
           {
            "marker": {
             "colorbar": {
              "outlinewidth": 0,
              "ticks": ""
             }
            },
            "type": "scatterternary"
           }
          ],
          "surface": [
           {
            "colorbar": {
             "outlinewidth": 0,
             "ticks": ""
            },
            "colorscale": [
             [
              0,
              "#0d0887"
             ],
             [
              0.1111111111111111,
              "#46039f"
             ],
             [
              0.2222222222222222,
              "#7201a8"
             ],
             [
              0.3333333333333333,
              "#9c179e"
             ],
             [
              0.4444444444444444,
              "#bd3786"
             ],
             [
              0.5555555555555556,
              "#d8576b"
             ],
             [
              0.6666666666666666,
              "#ed7953"
             ],
             [
              0.7777777777777778,
              "#fb9f3a"
             ],
             [
              0.8888888888888888,
              "#fdca26"
             ],
             [
              1,
              "#f0f921"
             ]
            ],
            "type": "surface"
           }
          ],
          "table": [
           {
            "cells": {
             "fill": {
              "color": "#EBF0F8"
             },
             "line": {
              "color": "white"
             }
            },
            "header": {
             "fill": {
              "color": "#C8D4E3"
             },
             "line": {
              "color": "white"
             }
            },
            "type": "table"
           }
          ]
         },
         "layout": {
          "annotationdefaults": {
           "arrowcolor": "#2a3f5f",
           "arrowhead": 0,
           "arrowwidth": 1
          },
          "colorscale": {
           "diverging": [
            [
             0,
             "#8e0152"
            ],
            [
             0.1,
             "#c51b7d"
            ],
            [
             0.2,
             "#de77ae"
            ],
            [
             0.3,
             "#f1b6da"
            ],
            [
             0.4,
             "#fde0ef"
            ],
            [
             0.5,
             "#f7f7f7"
            ],
            [
             0.6,
             "#e6f5d0"
            ],
            [
             0.7,
             "#b8e186"
            ],
            [
             0.8,
             "#7fbc41"
            ],
            [
             0.9,
             "#4d9221"
            ],
            [
             1,
             "#276419"
            ]
           ],
           "sequential": [
            [
             0,
             "#0d0887"
            ],
            [
             0.1111111111111111,
             "#46039f"
            ],
            [
             0.2222222222222222,
             "#7201a8"
            ],
            [
             0.3333333333333333,
             "#9c179e"
            ],
            [
             0.4444444444444444,
             "#bd3786"
            ],
            [
             0.5555555555555556,
             "#d8576b"
            ],
            [
             0.6666666666666666,
             "#ed7953"
            ],
            [
             0.7777777777777778,
             "#fb9f3a"
            ],
            [
             0.8888888888888888,
             "#fdca26"
            ],
            [
             1,
             "#f0f921"
            ]
           ],
           "sequentialminus": [
            [
             0,
             "#0d0887"
            ],
            [
             0.1111111111111111,
             "#46039f"
            ],
            [
             0.2222222222222222,
             "#7201a8"
            ],
            [
             0.3333333333333333,
             "#9c179e"
            ],
            [
             0.4444444444444444,
             "#bd3786"
            ],
            [
             0.5555555555555556,
             "#d8576b"
            ],
            [
             0.6666666666666666,
             "#ed7953"
            ],
            [
             0.7777777777777778,
             "#fb9f3a"
            ],
            [
             0.8888888888888888,
             "#fdca26"
            ],
            [
             1,
             "#f0f921"
            ]
           ]
          },
          "colorway": [
           "#636efa",
           "#EF553B",
           "#00cc96",
           "#ab63fa",
           "#FFA15A",
           "#19d3f3",
           "#FF6692",
           "#B6E880",
           "#FF97FF",
           "#FECB52"
          ],
          "font": {
           "color": "#2a3f5f"
          },
          "geo": {
           "bgcolor": "white",
           "lakecolor": "white",
           "landcolor": "#E5ECF6",
           "showlakes": true,
           "showland": true,
           "subunitcolor": "white"
          },
          "hoverlabel": {
           "align": "left"
          },
          "hovermode": "closest",
          "mapbox": {
           "style": "light"
          },
          "paper_bgcolor": "white",
          "plot_bgcolor": "#E5ECF6",
          "polar": {
           "angularaxis": {
            "gridcolor": "white",
            "linecolor": "white",
            "ticks": ""
           },
           "bgcolor": "#E5ECF6",
           "radialaxis": {
            "gridcolor": "white",
            "linecolor": "white",
            "ticks": ""
           }
          },
          "scene": {
           "xaxis": {
            "backgroundcolor": "#E5ECF6",
            "gridcolor": "white",
            "gridwidth": 2,
            "linecolor": "white",
            "showbackground": true,
            "ticks": "",
            "zerolinecolor": "white"
           },
           "yaxis": {
            "backgroundcolor": "#E5ECF6",
            "gridcolor": "white",
            "gridwidth": 2,
            "linecolor": "white",
            "showbackground": true,
            "ticks": "",
            "zerolinecolor": "white"
           },
           "zaxis": {
            "backgroundcolor": "#E5ECF6",
            "gridcolor": "white",
            "gridwidth": 2,
            "linecolor": "white",
            "showbackground": true,
            "ticks": "",
            "zerolinecolor": "white"
           }
          },
          "shapedefaults": {
           "line": {
            "color": "#2a3f5f"
           }
          },
          "ternary": {
           "aaxis": {
            "gridcolor": "white",
            "linecolor": "white",
            "ticks": ""
           },
           "baxis": {
            "gridcolor": "white",
            "linecolor": "white",
            "ticks": ""
           },
           "bgcolor": "#E5ECF6",
           "caxis": {
            "gridcolor": "white",
            "linecolor": "white",
            "ticks": ""
           }
          },
          "title": {
           "x": 0.05
          },
          "xaxis": {
           "automargin": true,
           "gridcolor": "white",
           "linecolor": "white",
           "ticks": "",
           "zerolinecolor": "white",
           "zerolinewidth": 2
          },
          "yaxis": {
           "automargin": true,
           "gridcolor": "white",
           "linecolor": "white",
           "ticks": "",
           "zerolinecolor": "white",
           "zerolinewidth": 2
          }
         }
        },
        "title": {
         "text": "<b>AFRICA- COVID19 NEW CASES: October 06, 2020</b>",
         "x": 0.5,
         "xanchor": "center",
         "y": 0.9,
         "yanchor": "top"
        },
        "xaxis": {
         "nticks": 8,
         "tickangle": 90,
         "title": {
          "font": {
           "color": "#BDBDBD",
           "size": 18
          },
          "text": "<b>Date</b>"
         }
        },
        "yaxis": {
         "title": {
          "font": {
           "color": "#4D4B4B",
           "size": 18
          },
          "text": "<b>New Cases</b>"
         }
        }
       }
      },
      "text/html": [
       "<div>\n",
       "        \n",
       "        \n",
       "            <div id=\"a06767b4-e6df-4c40-ad72-f909b673c30c\" class=\"plotly-graph-div\" style=\"height:525px; width:100%;\"></div>\n",
       "            <script type=\"text/javascript\">\n",
       "                require([\"plotly\"], function(Plotly) {\n",
       "                    window.PLOTLYENV=window.PLOTLYENV || {};\n",
       "                    \n",
       "                if (document.getElementById(\"a06767b4-e6df-4c40-ad72-f909b673c30c\")) {\n",
       "                    Plotly.newPlot(\n",
       "                        'a06767b4-e6df-4c40-ad72-f909b673c30c',\n",
       "                        [{\"line\": {\"width\": 3}, \"mode\": \"lines\", \"name\": \"East Africa\", \"type\": \"scatter\", \"x\": [\"April16\", \"April17\", \"April18\", \"April19\", \"April20\", \"April21\", \"April22\", \"April23\", \"April24\", \"April25\", \"April26\", \"April27\", \"April28\", \"April29\", \"April30\", \"May01\", \"May02\", \"May03\", \"May04\", \"May05\", \"May06\", \"May07\", \"May08\", \"May09\", \"May10\", \"May11\", \"May12\", \"May13\", \"May14\", \"May15\", \"May16\", \"May17\", \"May18\", \"May19\", \"May20\", \"May21\", \"May22\", \"May23\", \"May24\", \"May25\", \"May26\", \"May27\", \"May28\", \"May29\", \"May30\", \"May31\", \"June01\", \"June02\", \"June03\", \"June04\", \"June05\", \"June06\", \"June07\", \"June08\", \"June09\", \"June10\", \"June11\", \"June12\", \"June13\", \"June14\", \"June15\", \"June16\", \"June17\", \"June18\", \"June19\", \"June20\", \"June21\", \"June22\", \"June23\", \"June24\", \"June25\", \"June26\", \"June27\", \"June28\", \"June29\", \"June30\", \"July01\", \"July02\", \"July03\", \"July04\", \"July05\", \"July06\", \"July07\", \"July08\", \"July09\", \"July10\", \"July11\", \"July12\", \"July13\", \"July14\", \"July15\", \"July16\", \"July17\", \"July18\", \"July19\", \"July20\", \"July21\", \"July22\", \"July23\", \"July24\", \"July25\", \"July26\", \"July27\", \"July28\", \"July29\", \"July30\", \"July31\", \"August01\", \"August02\", \"August03\", \"August04\", \"August05\", \"August06\", \"August07\", \"August08\", \"August09\", \"August10\", \"August11\", \"August12\", \"August13\", \"August14\", \"August15\", \"August16\", \"August17\", \"August18\", \"August19\", \"August20\", \"August21\", \"August22\", \"August23\", \"August24\", \"August25\", \"August26\", \"August27\", \"August28\", \"August29\", \"August30\", \"August31\", \"September01\", \"September02\", \"September03\", \"September04\", \"September05\", \"September06\", \"September07\", \"September08\", \"September09\", \"September10\", \"September11\", \"September12\", \"September13\", \"September14\", \"September15\", \"September16\", \"September17\", \"September18\", \"September19\", \"September20\", \"September21\", \"September22\", \"September23\", \"September24\", \"September25\", \"September26\", \"September27\", \"September28\", \"September29\", \"September30\", \"October01\", \"October02\", \"October03\", \"October04\", \"October05\", \"October06\"], \"y\": [202, 286, 106, 210, 217, 255, 106, 126, 137, 166, 145, 129, 239, 330, 221, 55, 287, 164, 216, 297, 213, 375, 292, 484, 399, 302, 563, 352, 437, 298, 700, 405, 623, 387, 603, 1014, 802, 258, 496, 888, 396, 984, 982, 605, 1071, 672, 976, 761, 789, 869, 628, 784, 760, 1066, 716, 651, 570, 896, 869, 749, 725, 890, 798, 603, 701, 835, 860, 546, 820, 782, 649, 924, 627, 784, 573, 557, 904, 543, 711, 797, 774, 854, 1027, 1547, 1181, 1254, 1333, 1029, 1086, 1242, 1280, 1671, 1529, 1780, 1871, 1628, 1876, 2219, 1926, 2149, 1819, 2494, 1710, 2338, 1781, 2619, 2631, 2203, 2046, 1731, 1878, 1926, 1709, 2163, 2249, 1678, 1696, 1522, 2129, 2426, 2480, 2738, 1944, 2686, 2270, 2364, 2817, 2902, 2690, 2854, 2281, 2510, 2324, 2293, 2596, 2385, 2310, 1514, 1981, 1705, 1746, 1984, 1900, 1835, 1496, 1844, 1703, 1626, 1539, 1509, 1200, 1234, 1384, 1508, 1382, 1339, 1578, 1535, 1493, 1635, 1331, 1179, 1327, 1302, 1346, 1534, 1494, 1655, 1356, 1674, 1581, 1783, 1223, 1065]}, {\"line\": {\"width\": 3}, \"mode\": \"lines\", \"name\": \"West Africa\", \"type\": \"scatter\", \"x\": [\"April16\", \"April17\", \"April18\", \"April19\", \"April20\", \"April21\", \"April22\", \"April23\", \"April24\", \"April25\", \"April26\", \"April27\", \"April28\", \"April29\", \"April30\", \"May01\", \"May02\", \"May03\", \"May04\", \"May05\", \"May06\", \"May07\", \"May08\", \"May09\", \"May10\", \"May11\", \"May12\", \"May13\", \"May14\", \"May15\", \"May16\", \"May17\", \"May18\", \"May19\", \"May20\", \"May21\", \"May22\", \"May23\", \"May24\", \"May25\", \"May26\", \"May27\", \"May28\", \"May29\", \"May30\", \"May31\", \"June01\", \"June02\", \"June03\", \"June04\", \"June05\", \"June06\", \"June07\", \"June08\", \"June09\", \"June10\", \"June11\", \"June12\", \"June13\", \"June14\", \"June15\", \"June16\", \"June17\", \"June18\", \"June19\", \"June20\", \"June21\", \"June22\", \"June23\", \"June24\", \"June25\", \"June26\", \"June27\", \"June28\", \"June29\", \"June30\", \"July01\", \"July02\", \"July03\", \"July04\", \"July05\", \"July06\", \"July07\", \"July08\", \"July09\", \"July10\", \"July11\", \"July12\", \"July13\", \"July14\", \"July15\", \"July16\", \"July17\", \"July18\", \"July19\", \"July20\", \"July21\", \"July22\", \"July23\", \"July24\", \"July25\", \"July26\", \"July27\", \"July28\", \"July29\", \"July30\", \"July31\", \"August01\", \"August02\", \"August03\", \"August04\", \"August05\", \"August06\", \"August07\", \"August08\", \"August09\", \"August10\", \"August11\", \"August12\", \"August13\", \"August14\", \"August15\", \"August16\", \"August17\", \"August18\", \"August19\", \"August20\", \"August21\", \"August22\", \"August23\", \"August24\", \"August25\", \"August26\", \"August27\", \"August28\", \"August29\", \"August30\", \"August31\", \"September01\", \"September02\", \"September03\", \"September04\", \"September05\", \"September06\", \"September07\", \"September08\", \"September09\", \"September10\", \"September11\", \"September12\", \"September13\", \"September14\", \"September15\", \"September16\", \"September17\", \"September18\", \"September19\", \"September20\", \"September21\", \"September22\", \"September23\", \"September24\", \"September25\", \"September26\", \"September27\", \"September28\", \"September29\", \"September30\", \"October01\", \"October02\", \"October03\", \"October04\", \"October05\", \"October06\"], \"y\": [119, 215, 479, 473, 191, 307, 409, 342, 553, 257, 570, 366, 554, 629, 893, 570, 585, 345, 1267, 433, 936, 788, 1711, 856, 648, 1015, 1100, 863, 754, 694, 779, 583, 555, 883, 791, 829, 714, 716, 755, 669, 737, 873, 837, 1219, 1046, 676, 1193, 889, 980, 1168, 1223, 1102, 863, 1105, 1374, 1023, 1586, 1942, 1378, 1866, 1339, 1472, 1787, 2071, 2013, 2037, 1453, 1416, 1503, 1943, 1745, 2021, 2117, 1492, 1640, 1613, 1772, 1375, 2495, 1216, 1852, 1990, 1910, 1941, 1816, 1767, 1928, 1509, 1423, 859, 1813, 2046, 1659, 1791, 1680, 1832, 1590, 1923, 1232, 2626, 1845, 2186, 1627, 1690, 1551, 1054, 1281, 2110, 575, 1349, 765, 2279, 1509, 1527, 1341, 1451, 822, 1151, 1213, 1031, 881, 1218, 1203, 957, 1330, 1331, 1113, 824, 1134, 909, 888, 696, 710, 764, 657, 776, 676, 531, 756, 783, 518, 620, 604, 552, 505, 743, 801, 576, 601, 409, 567, 470, 624, 418, 429, 644, 601, 494, 423, 407, 556, 412, 572, 372, 587, 322, 455, 686, 438, 528, 521, 285, 334, 372]}, {\"line\": {\"width\": 3}, \"mode\": \"lines\", \"name\": \"North Africa\", \"type\": \"scatter\", \"x\": [\"April16\", \"April17\", \"April18\", \"April19\", \"April20\", \"April21\", \"April22\", \"April23\", \"April24\", \"April25\", \"April26\", \"April27\", \"April28\", \"April29\", \"April30\", \"May01\", \"May02\", \"May03\", \"May04\", \"May05\", \"May06\", \"May07\", \"May08\", \"May09\", \"May10\", \"May11\", \"May12\", \"May13\", \"May14\", \"May15\", \"May16\", \"May17\", \"May18\", \"May19\", \"May20\", \"May21\", \"May22\", \"May23\", \"May24\", \"May25\", \"May26\", \"May27\", \"May28\", \"May29\", \"May30\", \"May31\", \"June01\", \"June02\", \"June03\", \"June04\", \"June05\", \"June06\", \"June07\", \"June08\", \"June09\", \"June10\", \"June11\", \"June12\", \"June13\", \"June14\", \"June15\", \"June16\", \"June17\", \"June18\", \"June19\", \"June20\", \"June21\", \"June22\", \"June23\", \"June24\", \"June25\", \"June26\", \"June27\", \"June28\", \"June29\", \"June30\", \"July01\", \"July02\", \"July03\", \"July04\", \"July05\", \"July06\", \"July07\", \"July08\", \"July09\", \"July10\", \"July11\", \"July12\", \"July13\", \"July14\", \"July15\", \"July16\", \"July17\", \"July18\", \"July19\", \"July20\", \"July21\", \"July22\", \"July23\", \"July24\", \"July25\", \"July26\", \"July27\", \"July28\", \"July29\", \"July30\", \"July31\", \"August01\", \"August02\", \"August03\", \"August04\", \"August05\", \"August06\", \"August07\", \"August08\", \"August09\", \"August10\", \"August11\", \"August12\", \"August13\", \"August14\", \"August15\", \"August16\", \"August17\", \"August18\", \"August19\", \"August20\", \"August21\", \"August22\", \"August23\", \"August24\", \"August25\", \"August26\", \"August27\", \"August28\", \"August29\", \"August30\", \"August31\", \"September01\", \"September02\", \"September03\", \"September04\", \"September05\", \"September06\", \"September07\", \"September08\", \"September09\", \"September10\", \"September11\", \"September12\", \"September13\", \"September14\", \"September15\", \"September16\", \"September17\", \"September18\", \"September19\", \"September20\", \"September21\", \"September22\", \"September23\", \"September24\", \"September25\", \"September26\", \"September27\", \"September28\", \"September29\", \"September30\", \"October01\", \"October02\", \"October03\", \"October04\", \"October05\", \"October06\"], \"y\": [578, 644, 427, 392, 474, 438, 514, 460, 516, 512, 519, 456, 532, 499, 543, 658, 610, 629, 677, 748, 739, 719, 849, 878, 754, 732, 660, 618, 682, 634, 775, 837, 805, 970, 1023, 1041, 1097, 999, 975, 1001, 1030, 1116, 1332, 1513, 1583, 1717, 1563, 1314, 1257, 1344, 1550, 1709, 1644, 1630, 1664, 1647, 1591, 1781, 1881, 1866, 1922, 1761, 1569, 1426, 2456, 1934, 1781, 1947, 1704, 2187, 2227, 2177, 1713, 1781, 2145, 2160, 2022, 2223, 2174, 2364, 2111, 1678, 1831, 1760, 1802, 1673, 1659, 1660, 1734, 1672, 1671, 1867, 1538, 1687, 1460, 1681, 1559, 1574, 1732, 2033, 2068, 1836, 1806, 1810, 2074, 2291, 2151, 1574, 1359, 1553, 1845, 2225, 2291, 1902, 2225, 2167, 1996, 2186, 2474, 2380, 2228, 2892, 2579, 2111, 2445, 2582, 2207, 2619, 2502, 2112, 2086, 2235, 2623, 2412, 2507, 2597, 2516, 2412, 2524, 2927, 2673, 3031, 2866, 3598, 3021, 3455, 3489, 3257, 4191, 3457, 3084, 3408, 3392, 3353, 4213, 3726, 4226, 3586, 3542, 3709, 4574, 4034, 4455, 3528, 4959, 2532, 4447, 4270, 3353, 4644, 4513, 4301, 2283, 3834]}, {\"line\": {\"width\": 3}, \"mode\": \"lines\", \"name\": \"Southern Africa\", \"type\": \"scatter\", \"x\": [\"April16\", \"April17\", \"April18\", \"April19\", \"April20\", \"April21\", \"April22\", \"April23\", \"April24\", \"April25\", \"April26\", \"April27\", \"April28\", \"April29\", \"April30\", \"May01\", \"May02\", \"May03\", \"May04\", \"May05\", \"May06\", \"May07\", \"May08\", \"May09\", \"May10\", \"May11\", \"May12\", \"May13\", \"May14\", \"May15\", \"May16\", \"May17\", \"May18\", \"May19\", \"May20\", \"May21\", \"May22\", \"May23\", \"May24\", \"May25\", \"May26\", \"May27\", \"May28\", \"May29\", \"May30\", \"May31\", \"June01\", \"June02\", \"June03\", \"June04\", \"June05\", \"June06\", \"June07\", \"June08\", \"June09\", \"June10\", \"June11\", \"June12\", \"June13\", \"June14\", \"June15\", \"June16\", \"June17\", \"June18\", \"June19\", \"June20\", \"June21\", \"June22\", \"June23\", \"June24\", \"June25\", \"June26\", \"June27\", \"June28\", \"June29\", \"June30\", \"July01\", \"July02\", \"July03\", \"July04\", \"July05\", \"July06\", \"July07\", \"July08\", \"July09\", \"July10\", \"July11\", \"July12\", \"July13\", \"July14\", \"July15\", \"July16\", \"July17\", \"July18\", \"July19\", \"July20\", \"July21\", \"July22\", \"July23\", \"July24\", \"July25\", \"July26\", \"July27\", \"July28\", \"July29\", \"July30\", \"July31\", \"August01\", \"August02\", \"August03\", \"August04\", \"August05\", \"August06\", \"August07\", \"August08\", \"August09\", \"August10\", \"August11\", \"August12\", \"August13\", \"August14\", \"August15\", \"August16\", \"August17\", \"August18\", \"August19\", \"August20\", \"August21\", \"August22\", \"August23\", \"August24\", \"August25\", \"August26\", \"August27\", \"August28\", \"August29\", \"August30\", \"August31\", \"September01\", \"September02\", \"September03\", \"September04\", \"September05\", \"September06\", \"September07\", \"September08\", \"September09\", \"September10\", \"September11\", \"September12\", \"September13\", \"September14\", \"September15\", \"September16\", \"September17\", \"September18\", \"September19\", \"September20\", \"September21\", \"September22\", \"September23\", \"September24\", \"September25\", \"September26\", \"September27\", \"September28\", \"September29\", \"September30\", \"October01\", \"October02\", \"October03\", \"October04\", \"October05\", \"October06\"], \"y\": [102, 179, 258, 129, 144, 175, 172, 318, 273, 163, 188, 253, 211, 374, 314, 310, 387, 451, 441, 355, 240, 454, 669, 530, 605, 641, 707, 728, 665, 793, 843, 1164, 922, 770, 814, 1146, 995, 1237, 1258, 1038, 654, 1761, 1490, 1838, 1756, 1723, 1711, 1461, 1730, 3287, 2675, 2574, 2326, 2610, 2170, 2469, 3210, 3393, 3849, 4333, 3515, 2821, 4152, 3566, 3894, 4971, 4648, 4335, 4576, 5716, 6642, 6273, 7248, 6420, 6164, 7040, 8254, 8781, 9214, 10996, 8906, 9134, 10286, 9044, 13855, 12511, 13636, 12307, 11729, 10585, 12933, 13703, 13599, 13626, 13690, 9532, 8367, 13444, 13397, 14358, 12540, 11550, 7518, 7507, 11776, 11379, 11239, 10848, 8612, 5706, 4692, 8682, 8612, 7622, 7928, 7000, 4274, 2810, 3194, 4489, 6610, 4892, 4118, 2970, 2543, 4451, 4331, 3820, 4157, 3117, 2326, 1880, 3143, 2953, 2164, 2696, 2845, 2362, 1463, 2617, 2750, 2864, 2036, 1838, 1586, 1307, 2259, 2363, 2279, 2037, 1737, 1300, 1006, 2035, 2417, 2285, 2169, 1709, 887, 1457, 2095, 2398, 1638, 1088, 1404, 1274, 964, 1932, 1927, 1926, 2011, 1672, 974, 1082]}, {\"line\": {\"width\": 3}, \"mode\": \"lines\", \"name\": \"Central Africa\", \"type\": \"scatter\", \"x\": [\"April16\", \"April17\", \"April18\", \"April19\", \"April20\", \"April21\", \"April22\", \"April23\", \"April24\", \"April25\", \"April26\", \"April27\", \"April28\", \"April29\", \"April30\", \"May01\", \"May02\", \"May03\", \"May04\", \"May05\", \"May06\", \"May07\", \"May08\", \"May09\", \"May10\", \"May11\", \"May12\", \"May13\", \"May14\", \"May15\", \"May16\", \"May17\", \"May18\", \"May19\", \"May20\", \"May21\", \"May22\", \"May23\", \"May24\", \"May25\", \"May26\", \"May27\", \"May28\", \"May29\", \"May30\", \"May31\", \"June01\", \"June02\", \"June03\", \"June04\", \"June05\", \"June06\", \"June07\", \"June08\", \"June09\", \"June10\", \"June11\", \"June12\", \"June13\", \"June14\", \"June15\", \"June16\", \"June17\", \"June18\", \"June19\", \"June20\", \"June21\", \"June22\", \"June23\", \"June24\", \"June25\", \"June26\", \"June27\", \"June28\", \"June29\", \"June30\", \"July01\", \"July02\", \"July03\", \"July04\", \"July05\", \"July06\", \"July07\", \"July08\", \"July09\", \"July10\", \"July11\", \"July12\", \"July13\", \"July14\", \"July15\", \"July16\", \"July17\", \"July18\", \"July19\", \"July20\", \"July21\", \"July22\", \"July23\", \"July24\", \"July25\", \"July26\", \"July27\", \"July28\", \"July29\", \"July30\", \"July31\", \"August01\", \"August02\", \"August03\", \"August04\", \"August05\", \"August06\", \"August07\", \"August08\", \"August09\", \"August10\", \"August11\", \"August12\", \"August13\", \"August14\", \"August15\", \"August16\", \"August17\", \"August18\", \"August19\", \"August20\", \"August21\", \"August22\", \"August23\", \"August24\", \"August25\", \"August26\", \"August27\", \"August28\", \"August29\", \"August30\", \"August31\", \"September01\", \"September02\", \"September03\", \"September04\", \"September05\", \"September06\", \"September07\", \"September08\", \"September09\", \"September10\", \"September11\", \"September12\", \"September13\", \"September14\", \"September15\", \"September16\", \"September17\", \"September18\", \"September19\", \"September20\", \"September21\", \"September22\", \"September23\", \"September24\", \"September25\", \"September26\", \"September27\", \"September28\", \"September29\", \"September30\", \"October01\", \"October02\", \"October03\", \"October04\", \"October05\", \"October06\"], \"y\": [165, 102, 52, 21, 179, 65, 42, 190, 144, 164, 133, 153, 106, 185, 121, 68, 423, 0, 94, 258, 414, 271, 210, 184, 359, 345, 174, 429, 491, 359, 491, 29, 794, 347, 508, 768, 508, 415, 693, 549, 929, 357, 308, 782, 750, 218, 689, 480, 389, 530, 1078, 490, 529, 461, 606, 701, 386, 233, 128, 60, 2135, 424, 773, 351, 1071, 609, 570, 924, 540, 674, 830, 362, 275, 146, 388, 241, 505, 138, 1622, 137, 34, 209, 2406, 430, 517, 460, 356, 91, 204, 115, 360, 1202, 568, 224, 100, 483, 499, 294, 177, 959, 77, 48, 809, 154, 382, 121, 1854, 218, 66, 560, 579, 271, 149, 349, 466, 120, 126, 326, 198, 150, 366, 61, 155, 235, 86, 234, 187, 184, 77, 60, 214, 341, 141, 263, 192, 93, 116, 122, 377, 764, 202, 170, 100, 67, 323, 366, 113, 322, 182, 82, 217, 157, 187, 185, 169, 242, 153, 119, 323, 157, 257, 163, 157, 132, 69, 201, 149, 220, 186, 180, 203, 43, 163, 236]}],\n",
       "                        {\"legend\": {\"bgcolor\": \"rgba(255, 255, 255, 0)\", \"bordercolor\": \"rgba(255, 255, 255, 0)\", \"borderwidth\": 1, \"traceorder\": \"normal\", \"x\": 0.05, \"y\": 0.98}, \"template\": {\"data\": {\"bar\": [{\"error_x\": {\"color\": \"#2a3f5f\"}, \"error_y\": {\"color\": \"#2a3f5f\"}, \"marker\": {\"line\": {\"color\": \"#E5ECF6\", \"width\": 0.5}}, \"type\": \"bar\"}], \"barpolar\": [{\"marker\": {\"line\": {\"color\": \"#E5ECF6\", \"width\": 0.5}}, \"type\": \"barpolar\"}], \"carpet\": [{\"aaxis\": {\"endlinecolor\": \"#2a3f5f\", \"gridcolor\": \"white\", \"linecolor\": \"white\", \"minorgridcolor\": \"white\", \"startlinecolor\": \"#2a3f5f\"}, \"baxis\": {\"endlinecolor\": \"#2a3f5f\", \"gridcolor\": \"white\", \"linecolor\": \"white\", \"minorgridcolor\": \"white\", \"startlinecolor\": \"#2a3f5f\"}, \"type\": \"carpet\"}], \"choropleth\": [{\"colorbar\": {\"outlinewidth\": 0, \"ticks\": \"\"}, \"type\": \"choropleth\"}], \"contour\": [{\"colorbar\": {\"outlinewidth\": 0, \"ticks\": \"\"}, \"colorscale\": [[0.0, \"#0d0887\"], [0.1111111111111111, \"#46039f\"], [0.2222222222222222, \"#7201a8\"], [0.3333333333333333, \"#9c179e\"], [0.4444444444444444, \"#bd3786\"], [0.5555555555555556, \"#d8576b\"], [0.6666666666666666, \"#ed7953\"], [0.7777777777777778, \"#fb9f3a\"], [0.8888888888888888, \"#fdca26\"], [1.0, \"#f0f921\"]], \"type\": \"contour\"}], \"contourcarpet\": [{\"colorbar\": {\"outlinewidth\": 0, \"ticks\": \"\"}, \"type\": \"contourcarpet\"}], \"heatmap\": [{\"colorbar\": {\"outlinewidth\": 0, \"ticks\": \"\"}, \"colorscale\": [[0.0, \"#0d0887\"], [0.1111111111111111, \"#46039f\"], [0.2222222222222222, \"#7201a8\"], [0.3333333333333333, \"#9c179e\"], [0.4444444444444444, \"#bd3786\"], [0.5555555555555556, \"#d8576b\"], [0.6666666666666666, \"#ed7953\"], [0.7777777777777778, \"#fb9f3a\"], [0.8888888888888888, \"#fdca26\"], [1.0, \"#f0f921\"]], \"type\": \"heatmap\"}], \"heatmapgl\": [{\"colorbar\": {\"outlinewidth\": 0, \"ticks\": \"\"}, \"colorscale\": [[0.0, \"#0d0887\"], [0.1111111111111111, \"#46039f\"], [0.2222222222222222, \"#7201a8\"], [0.3333333333333333, \"#9c179e\"], [0.4444444444444444, \"#bd3786\"], [0.5555555555555556, \"#d8576b\"], [0.6666666666666666, \"#ed7953\"], [0.7777777777777778, \"#fb9f3a\"], [0.8888888888888888, \"#fdca26\"], [1.0, \"#f0f921\"]], \"type\": \"heatmapgl\"}], \"histogram\": [{\"marker\": {\"colorbar\": {\"outlinewidth\": 0, \"ticks\": \"\"}}, \"type\": \"histogram\"}], \"histogram2d\": [{\"colorbar\": {\"outlinewidth\": 0, \"ticks\": \"\"}, \"colorscale\": [[0.0, \"#0d0887\"], [0.1111111111111111, \"#46039f\"], [0.2222222222222222, \"#7201a8\"], [0.3333333333333333, \"#9c179e\"], [0.4444444444444444, \"#bd3786\"], [0.5555555555555556, \"#d8576b\"], [0.6666666666666666, \"#ed7953\"], [0.7777777777777778, \"#fb9f3a\"], [0.8888888888888888, \"#fdca26\"], [1.0, \"#f0f921\"]], \"type\": \"histogram2d\"}], \"histogram2dcontour\": [{\"colorbar\": {\"outlinewidth\": 0, \"ticks\": \"\"}, \"colorscale\": [[0.0, \"#0d0887\"], [0.1111111111111111, \"#46039f\"], [0.2222222222222222, \"#7201a8\"], [0.3333333333333333, \"#9c179e\"], [0.4444444444444444, \"#bd3786\"], [0.5555555555555556, \"#d8576b\"], [0.6666666666666666, \"#ed7953\"], [0.7777777777777778, \"#fb9f3a\"], [0.8888888888888888, \"#fdca26\"], [1.0, \"#f0f921\"]], \"type\": \"histogram2dcontour\"}], \"mesh3d\": [{\"colorbar\": {\"outlinewidth\": 0, \"ticks\": \"\"}, \"type\": \"mesh3d\"}], \"parcoords\": [{\"line\": {\"colorbar\": {\"outlinewidth\": 0, \"ticks\": \"\"}}, \"type\": \"parcoords\"}], \"scatter\": [{\"marker\": {\"colorbar\": {\"outlinewidth\": 0, \"ticks\": \"\"}}, \"type\": \"scatter\"}], \"scatter3d\": [{\"line\": {\"colorbar\": {\"outlinewidth\": 0, \"ticks\": \"\"}}, \"marker\": {\"colorbar\": {\"outlinewidth\": 0, \"ticks\": \"\"}}, \"type\": \"scatter3d\"}], \"scattercarpet\": [{\"marker\": {\"colorbar\": {\"outlinewidth\": 0, \"ticks\": \"\"}}, \"type\": \"scattercarpet\"}], \"scattergeo\": [{\"marker\": {\"colorbar\": {\"outlinewidth\": 0, \"ticks\": \"\"}}, \"type\": \"scattergeo\"}], \"scattergl\": [{\"marker\": {\"colorbar\": {\"outlinewidth\": 0, \"ticks\": \"\"}}, \"type\": \"scattergl\"}], \"scattermapbox\": [{\"marker\": {\"colorbar\": {\"outlinewidth\": 0, \"ticks\": \"\"}}, \"type\": \"scattermapbox\"}], \"scatterpolar\": [{\"marker\": {\"colorbar\": {\"outlinewidth\": 0, \"ticks\": \"\"}}, \"type\": \"scatterpolar\"}], \"scatterpolargl\": [{\"marker\": {\"colorbar\": {\"outlinewidth\": 0, \"ticks\": \"\"}}, \"type\": \"scatterpolargl\"}], \"scatterternary\": [{\"marker\": {\"colorbar\": {\"outlinewidth\": 0, \"ticks\": \"\"}}, \"type\": \"scatterternary\"}], \"surface\": [{\"colorbar\": {\"outlinewidth\": 0, \"ticks\": \"\"}, \"colorscale\": [[0.0, \"#0d0887\"], [0.1111111111111111, \"#46039f\"], [0.2222222222222222, \"#7201a8\"], [0.3333333333333333, \"#9c179e\"], [0.4444444444444444, \"#bd3786\"], [0.5555555555555556, \"#d8576b\"], [0.6666666666666666, \"#ed7953\"], [0.7777777777777778, \"#fb9f3a\"], [0.8888888888888888, \"#fdca26\"], [1.0, \"#f0f921\"]], \"type\": \"surface\"}], \"table\": [{\"cells\": {\"fill\": {\"color\": \"#EBF0F8\"}, \"line\": {\"color\": \"white\"}}, \"header\": {\"fill\": {\"color\": \"#C8D4E3\"}, \"line\": {\"color\": \"white\"}}, \"type\": \"table\"}]}, \"layout\": {\"annotationdefaults\": {\"arrowcolor\": \"#2a3f5f\", \"arrowhead\": 0, \"arrowwidth\": 1}, \"colorscale\": {\"diverging\": [[0, \"#8e0152\"], [0.1, \"#c51b7d\"], [0.2, \"#de77ae\"], [0.3, \"#f1b6da\"], [0.4, \"#fde0ef\"], [0.5, \"#f7f7f7\"], [0.6, \"#e6f5d0\"], [0.7, \"#b8e186\"], [0.8, \"#7fbc41\"], [0.9, \"#4d9221\"], [1, \"#276419\"]], \"sequential\": [[0.0, \"#0d0887\"], [0.1111111111111111, \"#46039f\"], [0.2222222222222222, \"#7201a8\"], [0.3333333333333333, \"#9c179e\"], [0.4444444444444444, \"#bd3786\"], [0.5555555555555556, \"#d8576b\"], [0.6666666666666666, \"#ed7953\"], [0.7777777777777778, \"#fb9f3a\"], [0.8888888888888888, \"#fdca26\"], [1.0, \"#f0f921\"]], \"sequentialminus\": [[0.0, \"#0d0887\"], [0.1111111111111111, \"#46039f\"], [0.2222222222222222, \"#7201a8\"], [0.3333333333333333, \"#9c179e\"], [0.4444444444444444, \"#bd3786\"], [0.5555555555555556, \"#d8576b\"], [0.6666666666666666, \"#ed7953\"], [0.7777777777777778, \"#fb9f3a\"], [0.8888888888888888, \"#fdca26\"], [1.0, \"#f0f921\"]]}, \"colorway\": [\"#636efa\", \"#EF553B\", \"#00cc96\", \"#ab63fa\", \"#FFA15A\", \"#19d3f3\", \"#FF6692\", \"#B6E880\", \"#FF97FF\", \"#FECB52\"], \"font\": {\"color\": \"#2a3f5f\"}, \"geo\": {\"bgcolor\": \"white\", \"lakecolor\": \"white\", \"landcolor\": \"#E5ECF6\", \"showlakes\": true, \"showland\": true, \"subunitcolor\": \"white\"}, \"hoverlabel\": {\"align\": \"left\"}, \"hovermode\": \"closest\", \"mapbox\": {\"style\": \"light\"}, \"paper_bgcolor\": \"white\", \"plot_bgcolor\": \"#E5ECF6\", \"polar\": {\"angularaxis\": {\"gridcolor\": \"white\", \"linecolor\": \"white\", \"ticks\": \"\"}, \"bgcolor\": \"#E5ECF6\", \"radialaxis\": {\"gridcolor\": \"white\", \"linecolor\": \"white\", \"ticks\": \"\"}}, \"scene\": {\"xaxis\": {\"backgroundcolor\": \"#E5ECF6\", \"gridcolor\": \"white\", \"gridwidth\": 2, \"linecolor\": \"white\", \"showbackground\": true, \"ticks\": \"\", \"zerolinecolor\": \"white\"}, \"yaxis\": {\"backgroundcolor\": \"#E5ECF6\", \"gridcolor\": \"white\", \"gridwidth\": 2, \"linecolor\": \"white\", \"showbackground\": true, \"ticks\": \"\", \"zerolinecolor\": \"white\"}, \"zaxis\": {\"backgroundcolor\": \"#E5ECF6\", \"gridcolor\": \"white\", \"gridwidth\": 2, \"linecolor\": \"white\", \"showbackground\": true, \"ticks\": \"\", \"zerolinecolor\": \"white\"}}, \"shapedefaults\": {\"line\": {\"color\": \"#2a3f5f\"}}, \"ternary\": {\"aaxis\": {\"gridcolor\": \"white\", \"linecolor\": \"white\", \"ticks\": \"\"}, \"baxis\": {\"gridcolor\": \"white\", \"linecolor\": \"white\", \"ticks\": \"\"}, \"bgcolor\": \"#E5ECF6\", \"caxis\": {\"gridcolor\": \"white\", \"linecolor\": \"white\", \"ticks\": \"\"}}, \"title\": {\"x\": 0.05}, \"xaxis\": {\"automargin\": true, \"gridcolor\": \"white\", \"linecolor\": \"white\", \"ticks\": \"\", \"zerolinecolor\": \"white\", \"zerolinewidth\": 2}, \"yaxis\": {\"automargin\": true, \"gridcolor\": \"white\", \"linecolor\": \"white\", \"ticks\": \"\", \"zerolinecolor\": \"white\", \"zerolinewidth\": 2}}}, \"title\": {\"text\": \"<b>AFRICA- COVID19 NEW CASES: October 06, 2020</b>\", \"x\": 0.5, \"xanchor\": \"center\", \"y\": 0.9, \"yanchor\": \"top\"}, \"xaxis\": {\"nticks\": 8, \"tickangle\": 90, \"title\": {\"font\": {\"color\": \"#BDBDBD\", \"size\": 18}, \"text\": \"<b>Date</b>\"}}, \"yaxis\": {\"title\": {\"font\": {\"color\": \"#4D4B4B\", \"size\": 18}, \"text\": \"<b>New Cases</b>\"}}},\n",
       "                        {\"responsive\": true}\n",
       "                    ).then(function(){\n",
       "                            \n",
       "var gd = document.getElementById('a06767b4-e6df-4c40-ad72-f909b673c30c');\n",
       "var x = new MutationObserver(function (mutations, observer) {{\n",
       "        var display = window.getComputedStyle(gd).display;\n",
       "        if (!display || display === 'none') {{\n",
       "            console.log([gd, 'removed!']);\n",
       "            Plotly.purge(gd);\n",
       "            observer.disconnect();\n",
       "        }}\n",
       "}});\n",
       "\n",
       "// Listen for the removal of the full notebook cells\n",
       "var notebookContainer = gd.closest('#notebook-container');\n",
       "if (notebookContainer) {{\n",
       "    x.observe(notebookContainer, {childList: true});\n",
       "}}\n",
       "\n",
       "// Listen for the clearing of the current output cell\n",
       "var outputEl = gd.closest('.output');\n",
       "if (outputEl) {{\n",
       "    x.observe(outputEl, {childList: true});\n",
       "}}\n",
       "\n",
       "                        })\n",
       "                };\n",
       "                });\n",
       "            </script>\n",
       "        </div>"
      ]
     },
     "metadata": {},
     "output_type": "display_data"
    }
   ],
   "source": [
    "fig = go.Figure()\n",
    "\n",
    "total_per_day1 = []\n",
    "for date in dates:    \n",
    "    total = east_africa[date].str.replace('+','').fillna(0).str.replace(',','').fillna(0).astype(int).sum()\n",
    "    total_per_day1.append(total)\n",
    "\n",
    "fig.add_trace(go.Scatter(\n",
    "x=dates,\n",
    "y =total_per_day1,\n",
    "    name =\"East Africa\",\n",
    "    mode='lines',\n",
    "    line=dict(width=3)\n",
    "    \n",
    "))\n",
    "\n",
    "total_per_day2 = []\n",
    "for date in dates:    \n",
    "    total = west_africa[date].str.replace('+','').fillna(0).str.replace(',','').fillna(0).astype(int).sum()\n",
    "    total_per_day2.append(total)\n",
    "\n",
    "fig.add_trace(go.Scatter(\n",
    "x=dates,\n",
    "y =total_per_day2,\n",
    "    name =\"West Africa\",\n",
    "    mode='lines',\n",
    "    line=dict(width=3)\n",
    "   \n",
    "))\n",
    "\n",
    "\n",
    "total_per_day3 = []\n",
    "for date in dates:    \n",
    "    total = north_africa[date].str.replace('+','').fillna(0).str.replace(',','').fillna(0).astype(int).sum()\n",
    "    total_per_day3.append(total)\n",
    "\n",
    "fig.add_trace(go.Scatter(\n",
    "x=dates,\n",
    "y =total_per_day3,\n",
    "    name =\"North Africa\",\n",
    "    mode='lines',\n",
    "    line=dict(width=3)\n",
    "    \n",
    "))\n",
    "\n",
    "total_per_day4 = []\n",
    "for date in dates:    \n",
    "    total = southern_africa[date].str.replace('+','').fillna(0).str.replace(',','').fillna(0).astype(int).sum()\n",
    "    total_per_day4.append(total)\n",
    "\n",
    "fig.add_trace(go.Scatter(\n",
    "x=dates,\n",
    "y =total_per_day4,\n",
    "    name =\"Southern Africa\",\n",
    "    mode='lines',\n",
    "    line=dict(width=3)\n",
    "    \n",
    "))\n",
    "\n",
    "total_per_day5 = []\n",
    "for date in dates:    \n",
    "    total = central_africa[date].str.replace('+','').fillna(0).str.replace(',','').fillna(0).astype(int).sum()\n",
    "    total_per_day5.append(total)\n",
    "\n",
    "fig.add_trace(go.Scatter(\n",
    "x=dates,\n",
    "y =total_per_day5,\n",
    "    name =\"Central Africa\",\n",
    "    mode='lines',\n",
    "    line=dict(width=3)\n",
    "    \n",
    "))\n",
    "\n",
    "fig.update_layout(\n",
    "    title={\n",
    "        'text': '<b>'+'AFRICA- COVID19 NEW CASES: ' + date_string +'</b>',\n",
    "        'y':0.9,\n",
    "        'x':0.5,\n",
    "        'xanchor': 'center',\n",
    "        'yanchor': 'top'},\n",
    "    xaxis=dict(title='<b>Date</b>',titlefont_size=18, titlefont=dict(color='#BDBDBD'),nticks=8),\n",
    "    yaxis=dict(title='<b>New Cases</b>',titlefont_size=18,  titlefont=dict(color='#4D4B4B')),\n",
    "    xaxis_tickangle=90,\n",
    "    legend=dict(x=0.05, y=0.98,traceorder=\"normal\",borderwidth=1,bgcolor='rgba(255, 255, 255, 0)',bordercolor='rgba(255, 255, 255, 0)',)\n",
    ")\n",
    "\n",
    "   \n",
    "fig.show()"
   ]
  },
  {
   "cell_type": "markdown",
   "metadata": {},
   "source": [
    "[Return to top](#top)"
   ]
  },
  {
   "cell_type": "code",
   "execution_count": 47,
   "metadata": {},
   "outputs": [
    {
     "data": {
      "text/html": [
       "<div>\n",
       "<style scoped>\n",
       "    .dataframe tbody tr th:only-of-type {\n",
       "        vertical-align: middle;\n",
       "    }\n",
       "\n",
       "    .dataframe tbody tr th {\n",
       "        vertical-align: top;\n",
       "    }\n",
       "\n",
       "    .dataframe thead th {\n",
       "        text-align: right;\n",
       "    }\n",
       "</style>\n",
       "<table border=\"1\" class=\"dataframe\">\n",
       "  <thead>\n",
       "    <tr style=\"text-align: right;\">\n",
       "      <th></th>\n",
       "      <th>Country_Other</th>\n",
       "      <th>April16</th>\n",
       "      <th>April17</th>\n",
       "      <th>April18</th>\n",
       "      <th>April19</th>\n",
       "      <th>April20</th>\n",
       "      <th>April21</th>\n",
       "      <th>April22</th>\n",
       "      <th>April23</th>\n",
       "      <th>April24</th>\n",
       "      <th>...</th>\n",
       "      <th>September27</th>\n",
       "      <th>September28</th>\n",
       "      <th>September29</th>\n",
       "      <th>September30</th>\n",
       "      <th>October01</th>\n",
       "      <th>October02</th>\n",
       "      <th>October03</th>\n",
       "      <th>October04</th>\n",
       "      <th>October05</th>\n",
       "      <th>October06</th>\n",
       "    </tr>\n",
       "  </thead>\n",
       "  <tbody>\n",
       "    <tr>\n",
       "      <td>0</td>\n",
       "      <td>China</td>\n",
       "      <td>+46</td>\n",
       "      <td>+325</td>\n",
       "      <td>+27</td>\n",
       "      <td>+16</td>\n",
       "      <td>+12</td>\n",
       "      <td>+11</td>\n",
       "      <td>+30</td>\n",
       "      <td>+10</td>\n",
       "      <td>+6</td>\n",
       "      <td>...</td>\n",
       "      <td>+14</td>\n",
       "      <td>+21</td>\n",
       "      <td>+12</td>\n",
       "      <td>+19</td>\n",
       "      <td>+11</td>\n",
       "      <td>+10</td>\n",
       "      <td>+10</td>\n",
       "      <td>+16</td>\n",
       "      <td>+20</td>\n",
       "      <td>+12</td>\n",
       "    </tr>\n",
       "    <tr>\n",
       "      <td>1</td>\n",
       "      <td>USA</td>\n",
       "      <td>+29,567</td>\n",
       "      <td>+32,165</td>\n",
       "      <td>+29,057</td>\n",
       "      <td>+25,844</td>\n",
       "      <td>+28,123</td>\n",
       "      <td>+25,985</td>\n",
       "      <td>+29,973</td>\n",
       "      <td>+31,900</td>\n",
       "      <td>+38,958</td>\n",
       "      <td>...</td>\n",
       "      <td>+33,782</td>\n",
       "      <td>+37,418</td>\n",
       "      <td>+44,227</td>\n",
       "      <td>+40,929</td>\n",
       "      <td>+47,389</td>\n",
       "      <td>+51,403</td>\n",
       "      <td>+48,925</td>\n",
       "      <td>+34,066</td>\n",
       "      <td>+41,576</td>\n",
       "      <td>+43,660</td>\n",
       "    </tr>\n",
       "    <tr>\n",
       "      <td>2</td>\n",
       "      <td>Spain</td>\n",
       "      <td>+4,289</td>\n",
       "      <td>+5,891</td>\n",
       "      <td>+3,577</td>\n",
       "      <td>+4,258</td>\n",
       "      <td>+1,536</td>\n",
       "      <td>+3,968</td>\n",
       "      <td>+4,211</td>\n",
       "      <td>+4,635</td>\n",
       "      <td>+6,740</td>\n",
       "      <td>...</td>\n",
       "      <td>NaN</td>\n",
       "      <td>+2,425</td>\n",
       "      <td>+9,906</td>\n",
       "      <td>+11,016</td>\n",
       "      <td>+3,715</td>\n",
       "      <td>+3,722</td>\n",
       "      <td>NaN</td>\n",
       "      <td>NaN</td>\n",
       "      <td>+2,099</td>\n",
       "      <td>+12,793</td>\n",
       "    </tr>\n",
       "  </tbody>\n",
       "</table>\n",
       "<p>3 rows × 175 columns</p>\n",
       "</div>"
      ],
      "text/plain": [
       "  Country_Other  April16  April17  April18  April19  April20  April21  \\\n",
       "0         China      +46     +325      +27      +16      +12      +11   \n",
       "1           USA  +29,567  +32,165  +29,057  +25,844  +28,123  +25,985   \n",
       "2         Spain   +4,289   +5,891   +3,577   +4,258   +1,536   +3,968   \n",
       "\n",
       "   April22  April23  April24  ... September27 September28 September29  \\\n",
       "0      +30      +10       +6  ...         +14         +21         +12   \n",
       "1  +29,973  +31,900  +38,958  ...     +33,782     +37,418     +44,227   \n",
       "2   +4,211   +4,635   +6,740  ...         NaN      +2,425      +9,906   \n",
       "\n",
       "  September30 October01 October02 October03 October04 October05 October06  \n",
       "0         +19       +11       +10       +10       +16       +20       +12  \n",
       "1     +40,929   +47,389   +51,403   +48,925   +34,066   +41,576   +43,660  \n",
       "2     +11,016    +3,715    +3,722       NaN       NaN    +2,099   +12,793  \n",
       "\n",
       "[3 rows x 175 columns]"
      ]
     },
     "execution_count": 47,
     "metadata": {},
     "output_type": "execute_result"
    }
   ],
   "source": [
    "given_date =ea_latest[18:26]\n",
    "countries_new_cases = pd.read_csv(\"../COVID19/World/NewCases/DailyCases\"+given_date+\".csv\")\n",
    "countries_new_cases.head(3)"
   ]
  },
  {
   "cell_type": "code",
   "execution_count": 48,
   "metadata": {},
   "outputs": [],
   "source": [
    "countries_and_continents = pd.read_csv('../COVID19/GeneralFiles/CountriesAndContinents.csv')\n",
    "african_countries = countries_and_continents[countries_and_continents['continent'] == 'Africa']"
   ]
  },
  {
   "cell_type": "code",
   "execution_count": 49,
   "metadata": {},
   "outputs": [
    {
     "data": {
      "text/plain": [
       "['North Africa',\n",
       " 'South Africa',\n",
       " 'Central Africa',\n",
       " 'East Africa',\n",
       " 'West Africa']"
      ]
     },
     "execution_count": 49,
     "metadata": {},
     "output_type": "execute_result"
    }
   ],
   "source": [
    "african_regions = list(african_countries['region'].unique())\n",
    "african_regions"
   ]
  },
  {
   "cell_type": "code",
   "execution_count": 50,
   "metadata": {},
   "outputs": [
    {
     "data": {
      "text/html": [
       "<div>\n",
       "<style scoped>\n",
       "    .dataframe tbody tr th:only-of-type {\n",
       "        vertical-align: middle;\n",
       "    }\n",
       "\n",
       "    .dataframe tbody tr th {\n",
       "        vertical-align: top;\n",
       "    }\n",
       "\n",
       "    .dataframe thead th {\n",
       "        text-align: right;\n",
       "    }\n",
       "</style>\n",
       "<table border=\"1\" class=\"dataframe\">\n",
       "  <thead>\n",
       "    <tr style=\"text-align: right;\">\n",
       "      <th></th>\n",
       "      <th>country_Other</th>\n",
       "      <th>continent</th>\n",
       "      <th>region</th>\n",
       "    </tr>\n",
       "  </thead>\n",
       "  <tbody>\n",
       "    <tr>\n",
       "      <td>50</td>\n",
       "      <td>South Africa</td>\n",
       "      <td>Africa</td>\n",
       "      <td>South Africa</td>\n",
       "    </tr>\n",
       "    <tr>\n",
       "      <td>170</td>\n",
       "      <td>Zimbabwe</td>\n",
       "      <td>Africa</td>\n",
       "      <td>South Africa</td>\n",
       "    </tr>\n",
       "    <tr>\n",
       "      <td>179</td>\n",
       "      <td>Eswatini</td>\n",
       "      <td>Africa</td>\n",
       "      <td>South Africa</td>\n",
       "    </tr>\n",
       "    <tr>\n",
       "      <td>181</td>\n",
       "      <td>Namibia</td>\n",
       "      <td>Africa</td>\n",
       "      <td>South Africa</td>\n",
       "    </tr>\n",
       "    <tr>\n",
       "      <td>182</td>\n",
       "      <td>Botswana</td>\n",
       "      <td>Africa</td>\n",
       "      <td>South Africa</td>\n",
       "    </tr>\n",
       "    <tr>\n",
       "      <td>214</td>\n",
       "      <td>Lesotho</td>\n",
       "      <td>Africa</td>\n",
       "      <td>South Africa</td>\n",
       "    </tr>\n",
       "  </tbody>\n",
       "</table>\n",
       "</div>"
      ],
      "text/plain": [
       "    country_Other continent        region\n",
       "50   South Africa    Africa  South Africa\n",
       "170      Zimbabwe    Africa  South Africa\n",
       "179      Eswatini    Africa  South Africa\n",
       "181       Namibia    Africa  South Africa\n",
       "182      Botswana    Africa  South Africa\n",
       "214       Lesotho    Africa  South Africa"
      ]
     },
     "execution_count": 50,
     "metadata": {},
     "output_type": "execute_result"
    }
   ],
   "source": [
    "west_africa = countries_and_continents[(countries_and_continents['continent'] == 'Africa') & (countries_and_continents['region'] == 'West Africa')]\n",
    "east_africa = countries_and_continents[(countries_and_continents['continent'] == 'Africa') & (countries_and_continents['region'] == 'East Africa')]\n",
    "central_africa = countries_and_continents[(countries_and_continents['continent'] == 'Africa') & (countries_and_continents['region'] == 'Central Africa')]\n",
    "southern_africa = countries_and_continents[(countries_and_continents['continent'] == 'Africa') & (countries_and_continents['region'] == 'South Africa')]\n",
    "north_africa = countries_and_continents[(countries_and_continents['continent'] == 'Africa') & (countries_and_continents['region'] == 'North Africa')]\n",
    "southern_africa"
   ]
  },
  {
   "cell_type": "code",
   "execution_count": 51,
   "metadata": {},
   "outputs": [
    {
     "data": {
      "text/html": [
       "<div>\n",
       "<style scoped>\n",
       "    .dataframe tbody tr th:only-of-type {\n",
       "        vertical-align: middle;\n",
       "    }\n",
       "\n",
       "    .dataframe tbody tr th {\n",
       "        vertical-align: top;\n",
       "    }\n",
       "\n",
       "    .dataframe thead th {\n",
       "        text-align: right;\n",
       "    }\n",
       "</style>\n",
       "<table border=\"1\" class=\"dataframe\">\n",
       "  <thead>\n",
       "    <tr style=\"text-align: right;\">\n",
       "      <th></th>\n",
       "      <th>Country_Other</th>\n",
       "      <th>October01</th>\n",
       "      <th>October02</th>\n",
       "      <th>October03</th>\n",
       "      <th>October04</th>\n",
       "      <th>October05</th>\n",
       "      <th>October06</th>\n",
       "    </tr>\n",
       "  </thead>\n",
       "  <tbody>\n",
       "    <tr>\n",
       "      <td>52</td>\n",
       "      <td>South Africa</td>\n",
       "      <td>+1,745</td>\n",
       "      <td>+1,749</td>\n",
       "      <td>+1,883</td>\n",
       "      <td>+1,573</td>\n",
       "      <td>+926</td>\n",
       "      <td>+1,027</td>\n",
       "    </tr>\n",
       "    <tr>\n",
       "      <td>169</td>\n",
       "      <td>Zimbabwe</td>\n",
       "      <td>+12</td>\n",
       "      <td>+8</td>\n",
       "      <td>+27</td>\n",
       "      <td>+3</td>\n",
       "      <td>+10</td>\n",
       "      <td>+17</td>\n",
       "    </tr>\n",
       "    <tr>\n",
       "      <td>177</td>\n",
       "      <td>Eswatini</td>\n",
       "      <td>+18</td>\n",
       "      <td>+21</td>\n",
       "      <td>+9</td>\n",
       "      <td>+39</td>\n",
       "      <td>+10</td>\n",
       "      <td>+19</td>\n",
       "    </tr>\n",
       "    <tr>\n",
       "      <td>180</td>\n",
       "      <td>Namibia</td>\n",
       "      <td>+108</td>\n",
       "      <td>+107</td>\n",
       "      <td>+92</td>\n",
       "      <td>+54</td>\n",
       "      <td>+28</td>\n",
       "      <td>+19</td>\n",
       "    </tr>\n",
       "    <tr>\n",
       "      <td>181</td>\n",
       "      <td>Botswana</td>\n",
       "      <td>0</td>\n",
       "      <td>0</td>\n",
       "      <td>0</td>\n",
       "      <td>0</td>\n",
       "      <td>0</td>\n",
       "      <td>0</td>\n",
       "    </tr>\n",
       "    <tr>\n",
       "      <td>214</td>\n",
       "      <td>Lesotho</td>\n",
       "      <td>+44</td>\n",
       "      <td>+41</td>\n",
       "      <td>0</td>\n",
       "      <td>+3</td>\n",
       "      <td>0</td>\n",
       "      <td>0</td>\n",
       "    </tr>\n",
       "  </tbody>\n",
       "</table>\n",
       "</div>"
      ],
      "text/plain": [
       "    Country_Other October01 October02 October03 October04 October05 October06\n",
       "52   South Africa    +1,745    +1,749    +1,883    +1,573      +926    +1,027\n",
       "169      Zimbabwe       +12        +8       +27        +3       +10       +17\n",
       "177      Eswatini       +18       +21        +9       +39       +10       +19\n",
       "180       Namibia      +108      +107       +92       +54       +28       +19\n",
       "181      Botswana         0         0         0         0         0         0\n",
       "214       Lesotho       +44       +41         0        +3         0         0"
      ]
     },
     "execution_count": 51,
     "metadata": {},
     "output_type": "execute_result"
    }
   ],
   "source": [
    "north_africa_new_cases = countries_new_cases[countries_new_cases['Country_Other'].isin(north_africa['country_Other'])]\n",
    "north_africa_new_cases = north_africa_new_cases.iloc[:, [0] + list(range(-6, 0))]\n",
    "north_africa_new_cases.fillna(0, inplace=True)\n",
    "north_africa_new_cases.reset_index(drop=True)\n",
    "\n",
    "east_africa_new_cases = countries_new_cases[countries_new_cases['Country_Other'].isin(east_africa['country_Other'])]\n",
    "east_africa_new_cases = east_africa_new_cases.iloc[:, [0] + list(range(-6, 0))]\n",
    "east_africa_new_cases.fillna(0, inplace=True)\n",
    "east_africa_new_cases.reset_index(drop=True)\n",
    "\n",
    "central_africa_new_cases = countries_new_cases[countries_new_cases['Country_Other'].isin(central_africa['country_Other'])]\n",
    "central_africa_new_cases = central_africa_new_cases.iloc[:, [0] + list(range(-6, 0))]\n",
    "central_africa_new_cases.fillna(0, inplace=True)\n",
    "central_africa_new_cases.reset_index(drop=True)\n",
    "\n",
    "southern_africa_new_cases = countries_new_cases[countries_new_cases['Country_Other'].isin(southern_africa['country_Other'])]\n",
    "southern_africa_new_cases = southern_africa_new_cases.iloc[:, [0] + list(range(-6, 0))]\n",
    "southern_africa_new_cases.fillna(0, inplace=True)\n",
    "southern_africa_new_cases.reset_index(drop=True)\n",
    "\n",
    "west_africa_new_cases = countries_new_cases[countries_new_cases['Country_Other'].isin(west_africa['country_Other'])]\n",
    "west_africa_new_cases = west_africa_new_cases.iloc[:, [0] + list(range(-6, 0))]\n",
    "west_africa_new_cases.fillna(0, inplace=True)\n",
    "west_africa_new_cases.reset_index(drop=True)\n",
    "\n",
    "southern_africa_new_cases"
   ]
  },
  {
   "cell_type": "code",
   "execution_count": 52,
   "metadata": {},
   "outputs": [],
   "source": [
    "countries_new_cases =  countries_new_cases.iloc[:, [0] + list(range(-6, 0))]"
   ]
  },
  {
   "cell_type": "markdown",
   "metadata": {},
   "source": [
    "<a id='by_region'></a>"
   ]
  },
  {
   "cell_type": "code",
   "execution_count": 53,
   "metadata": {},
   "outputs": [
    {
     "data": {
      "application/vnd.plotly.v1+json": {
       "config": {
        "plotlyServerURL": "https://plot.ly"
       },
       "data": [
        {
         "domain": {
          "x": [
           0,
           0.4575
          ],
          "y": [
           0.67,
           1
          ]
         },
         "hole": 0.3,
         "hoverinfo": "label+percent+name+value",
         "labels": [
          "North Africa",
          "Southern Africa",
          "Central Africa",
          "East Africa",
          "West Africa"
         ],
         "marker": {
          "colors": [
           "crimson",
           "green",
           "saddlebrown",
           "yellow",
           "blue"
          ]
         },
         "name": "October06",
         "textfont": {
          "size": 15
         },
         "textinfo": "percent+value",
         "type": "pie",
         "values": [
          3834,
          1082,
          236,
          1065,
          372
         ]
        },
        {
         "domain": {
          "x": [
           0.5425,
           1
          ],
          "y": [
           0.67,
           1
          ]
         },
         "hole": 0.3,
         "hoverinfo": "label+percent+name+value",
         "labels": [
          "North Africa",
          "Southern Africa",
          "Central Africa",
          "East Africa",
          "West Africa"
         ],
         "marker": {
          "colors": [
           "crimson",
           "green",
           "saddlebrown",
           "yellow",
           "blue"
          ]
         },
         "name": "October05",
         "textfont": {
          "size": 15
         },
         "textinfo": "percent+value",
         "type": "pie",
         "values": [
          2283,
          974,
          163,
          1223,
          334
         ]
        },
        {
         "domain": {
          "x": [
           0,
           0.4575
          ],
          "y": [
           0.335,
           0.665
          ]
         },
         "hole": 0.3,
         "hoverinfo": "label+percent+name+value",
         "labels": [
          "North Africa",
          "Southern Africa",
          "Central Africa",
          "East Africa",
          "West Africa"
         ],
         "marker": {
          "colors": [
           "crimson",
           "green",
           "saddlebrown",
           "yellow",
           "blue"
          ]
         },
         "name": "October04",
         "textfont": {
          "size": 15
         },
         "textinfo": "percent+value",
         "type": "pie",
         "values": [
          4301,
          1672,
          43,
          1783,
          285
         ]
        },
        {
         "domain": {
          "x": [
           0.5425,
           1
          ],
          "y": [
           0.335,
           0.665
          ]
         },
         "hole": 0.3,
         "hoverinfo": "label+percent+name+value",
         "labels": [
          "North Africa",
          "Southern Africa",
          "Central Africa",
          "East Africa",
          "West Africa"
         ],
         "marker": {
          "colors": [
           "crimson",
           "green",
           "saddlebrown",
           "yellow",
           "blue"
          ]
         },
         "name": "October03",
         "textfont": {
          "size": 15
         },
         "textinfo": "percent+value",
         "type": "pie",
         "values": [
          4513,
          2011,
          203,
          1581,
          521
         ]
        },
        {
         "domain": {
          "x": [
           0,
           0.4575
          ],
          "y": [
           0,
           0.33
          ]
         },
         "hole": 0.3,
         "hoverinfo": "label+percent+name+value",
         "labels": [
          "North Africa",
          "Southern Africa",
          "Central Africa",
          "East Africa",
          "West Africa"
         ],
         "marker": {
          "colors": [
           "crimson",
           "green",
           "saddlebrown",
           "yellow",
           "blue"
          ]
         },
         "name": "October02",
         "textfont": {
          "size": 15
         },
         "textinfo": "percent+value",
         "type": "pie",
         "values": [
          4644,
          1926,
          180,
          1674,
          528
         ]
        },
        {
         "domain": {
          "x": [
           0.5425,
           1
          ],
          "y": [
           0,
           0.33
          ]
         },
         "hole": 0.3,
         "hoverinfo": "label+percent+name+value",
         "labels": [
          "North Africa",
          "Southern Africa",
          "Central Africa",
          "East Africa",
          "West Africa"
         ],
         "marker": {
          "colors": [
           "crimson",
           "green",
           "saddlebrown",
           "yellow",
           "blue"
          ]
         },
         "name": "October01",
         "textfont": {
          "size": 15
         },
         "textinfo": "percent+value",
         "type": "pie",
         "values": [
          3353,
          1927,
          186,
          1356,
          438
         ]
        }
       ],
       "layout": {
        "annotations": [
         {
          "font": {
           "color": "black",
           "size": 12
          },
          "showarrow": false,
          "text": "<b>October06</b>",
          "x": 0.168,
          "y": 0.84
         },
         {
          "font": {
           "color": "black",
           "size": 12
          },
          "showarrow": false,
          "text": "<b>October05</b>",
          "x": 0.82,
          "y": 0.84
         },
         {
          "font": {
           "color": "black",
           "size": 12
          },
          "showarrow": false,
          "text": "<b>October04</b>",
          "x": 0.168,
          "y": 0.5
         },
         {
          "font": {
           "color": "black",
           "size": 12
          },
          "showarrow": false,
          "text": "<b>October03</b>",
          "x": 0.82,
          "y": 0.5
         },
         {
          "font": {
           "color": "black",
           "size": 12
          },
          "showarrow": false,
          "text": "<b>October02</b>",
          "x": 0.168,
          "y": 0.155
         },
         {
          "font": {
           "color": "black",
           "size": 12
          },
          "showarrow": false,
          "text": "<b>October01</b>",
          "x": 0.82,
          "y": 0.155
         }
        ],
        "autosize": false,
        "height": 1450,
        "legend": {
         "font": {
          "size": 13
         },
         "traceorder": "normal",
         "x": 1,
         "y": 1
        },
        "template": {
         "data": {
          "bar": [
           {
            "error_x": {
             "color": "#2a3f5f"
            },
            "error_y": {
             "color": "#2a3f5f"
            },
            "marker": {
             "line": {
              "color": "#E5ECF6",
              "width": 0.5
             }
            },
            "type": "bar"
           }
          ],
          "barpolar": [
           {
            "marker": {
             "line": {
              "color": "#E5ECF6",
              "width": 0.5
             }
            },
            "type": "barpolar"
           }
          ],
          "carpet": [
           {
            "aaxis": {
             "endlinecolor": "#2a3f5f",
             "gridcolor": "white",
             "linecolor": "white",
             "minorgridcolor": "white",
             "startlinecolor": "#2a3f5f"
            },
            "baxis": {
             "endlinecolor": "#2a3f5f",
             "gridcolor": "white",
             "linecolor": "white",
             "minorgridcolor": "white",
             "startlinecolor": "#2a3f5f"
            },
            "type": "carpet"
           }
          ],
          "choropleth": [
           {
            "colorbar": {
             "outlinewidth": 0,
             "ticks": ""
            },
            "type": "choropleth"
           }
          ],
          "contour": [
           {
            "colorbar": {
             "outlinewidth": 0,
             "ticks": ""
            },
            "colorscale": [
             [
              0,
              "#0d0887"
             ],
             [
              0.1111111111111111,
              "#46039f"
             ],
             [
              0.2222222222222222,
              "#7201a8"
             ],
             [
              0.3333333333333333,
              "#9c179e"
             ],
             [
              0.4444444444444444,
              "#bd3786"
             ],
             [
              0.5555555555555556,
              "#d8576b"
             ],
             [
              0.6666666666666666,
              "#ed7953"
             ],
             [
              0.7777777777777778,
              "#fb9f3a"
             ],
             [
              0.8888888888888888,
              "#fdca26"
             ],
             [
              1,
              "#f0f921"
             ]
            ],
            "type": "contour"
           }
          ],
          "contourcarpet": [
           {
            "colorbar": {
             "outlinewidth": 0,
             "ticks": ""
            },
            "type": "contourcarpet"
           }
          ],
          "heatmap": [
           {
            "colorbar": {
             "outlinewidth": 0,
             "ticks": ""
            },
            "colorscale": [
             [
              0,
              "#0d0887"
             ],
             [
              0.1111111111111111,
              "#46039f"
             ],
             [
              0.2222222222222222,
              "#7201a8"
             ],
             [
              0.3333333333333333,
              "#9c179e"
             ],
             [
              0.4444444444444444,
              "#bd3786"
             ],
             [
              0.5555555555555556,
              "#d8576b"
             ],
             [
              0.6666666666666666,
              "#ed7953"
             ],
             [
              0.7777777777777778,
              "#fb9f3a"
             ],
             [
              0.8888888888888888,
              "#fdca26"
             ],
             [
              1,
              "#f0f921"
             ]
            ],
            "type": "heatmap"
           }
          ],
          "heatmapgl": [
           {
            "colorbar": {
             "outlinewidth": 0,
             "ticks": ""
            },
            "colorscale": [
             [
              0,
              "#0d0887"
             ],
             [
              0.1111111111111111,
              "#46039f"
             ],
             [
              0.2222222222222222,
              "#7201a8"
             ],
             [
              0.3333333333333333,
              "#9c179e"
             ],
             [
              0.4444444444444444,
              "#bd3786"
             ],
             [
              0.5555555555555556,
              "#d8576b"
             ],
             [
              0.6666666666666666,
              "#ed7953"
             ],
             [
              0.7777777777777778,
              "#fb9f3a"
             ],
             [
              0.8888888888888888,
              "#fdca26"
             ],
             [
              1,
              "#f0f921"
             ]
            ],
            "type": "heatmapgl"
           }
          ],
          "histogram": [
           {
            "marker": {
             "colorbar": {
              "outlinewidth": 0,
              "ticks": ""
             }
            },
            "type": "histogram"
           }
          ],
          "histogram2d": [
           {
            "colorbar": {
             "outlinewidth": 0,
             "ticks": ""
            },
            "colorscale": [
             [
              0,
              "#0d0887"
             ],
             [
              0.1111111111111111,
              "#46039f"
             ],
             [
              0.2222222222222222,
              "#7201a8"
             ],
             [
              0.3333333333333333,
              "#9c179e"
             ],
             [
              0.4444444444444444,
              "#bd3786"
             ],
             [
              0.5555555555555556,
              "#d8576b"
             ],
             [
              0.6666666666666666,
              "#ed7953"
             ],
             [
              0.7777777777777778,
              "#fb9f3a"
             ],
             [
              0.8888888888888888,
              "#fdca26"
             ],
             [
              1,
              "#f0f921"
             ]
            ],
            "type": "histogram2d"
           }
          ],
          "histogram2dcontour": [
           {
            "colorbar": {
             "outlinewidth": 0,
             "ticks": ""
            },
            "colorscale": [
             [
              0,
              "#0d0887"
             ],
             [
              0.1111111111111111,
              "#46039f"
             ],
             [
              0.2222222222222222,
              "#7201a8"
             ],
             [
              0.3333333333333333,
              "#9c179e"
             ],
             [
              0.4444444444444444,
              "#bd3786"
             ],
             [
              0.5555555555555556,
              "#d8576b"
             ],
             [
              0.6666666666666666,
              "#ed7953"
             ],
             [
              0.7777777777777778,
              "#fb9f3a"
             ],
             [
              0.8888888888888888,
              "#fdca26"
             ],
             [
              1,
              "#f0f921"
             ]
            ],
            "type": "histogram2dcontour"
           }
          ],
          "mesh3d": [
           {
            "colorbar": {
             "outlinewidth": 0,
             "ticks": ""
            },
            "type": "mesh3d"
           }
          ],
          "parcoords": [
           {
            "line": {
             "colorbar": {
              "outlinewidth": 0,
              "ticks": ""
             }
            },
            "type": "parcoords"
           }
          ],
          "scatter": [
           {
            "marker": {
             "colorbar": {
              "outlinewidth": 0,
              "ticks": ""
             }
            },
            "type": "scatter"
           }
          ],
          "scatter3d": [
           {
            "line": {
             "colorbar": {
              "outlinewidth": 0,
              "ticks": ""
             }
            },
            "marker": {
             "colorbar": {
              "outlinewidth": 0,
              "ticks": ""
             }
            },
            "type": "scatter3d"
           }
          ],
          "scattercarpet": [
           {
            "marker": {
             "colorbar": {
              "outlinewidth": 0,
              "ticks": ""
             }
            },
            "type": "scattercarpet"
           }
          ],
          "scattergeo": [
           {
            "marker": {
             "colorbar": {
              "outlinewidth": 0,
              "ticks": ""
             }
            },
            "type": "scattergeo"
           }
          ],
          "scattergl": [
           {
            "marker": {
             "colorbar": {
              "outlinewidth": 0,
              "ticks": ""
             }
            },
            "type": "scattergl"
           }
          ],
          "scattermapbox": [
           {
            "marker": {
             "colorbar": {
              "outlinewidth": 0,
              "ticks": ""
             }
            },
            "type": "scattermapbox"
           }
          ],
          "scatterpolar": [
           {
            "marker": {
             "colorbar": {
              "outlinewidth": 0,
              "ticks": ""
             }
            },
            "type": "scatterpolar"
           }
          ],
          "scatterpolargl": [
           {
            "marker": {
             "colorbar": {
              "outlinewidth": 0,
              "ticks": ""
             }
            },
            "type": "scatterpolargl"
           }
          ],
          "scatterternary": [
           {
            "marker": {
             "colorbar": {
              "outlinewidth": 0,
              "ticks": ""
             }
            },
            "type": "scatterternary"
           }
          ],
          "surface": [
           {
            "colorbar": {
             "outlinewidth": 0,
             "ticks": ""
            },
            "colorscale": [
             [
              0,
              "#0d0887"
             ],
             [
              0.1111111111111111,
              "#46039f"
             ],
             [
              0.2222222222222222,
              "#7201a8"
             ],
             [
              0.3333333333333333,
              "#9c179e"
             ],
             [
              0.4444444444444444,
              "#bd3786"
             ],
             [
              0.5555555555555556,
              "#d8576b"
             ],
             [
              0.6666666666666666,
              "#ed7953"
             ],
             [
              0.7777777777777778,
              "#fb9f3a"
             ],
             [
              0.8888888888888888,
              "#fdca26"
             ],
             [
              1,
              "#f0f921"
             ]
            ],
            "type": "surface"
           }
          ],
          "table": [
           {
            "cells": {
             "fill": {
              "color": "#EBF0F8"
             },
             "line": {
              "color": "white"
             }
            },
            "header": {
             "fill": {
              "color": "#C8D4E3"
             },
             "line": {
              "color": "white"
             }
            },
            "type": "table"
           }
          ]
         },
         "layout": {
          "annotationdefaults": {
           "arrowcolor": "#2a3f5f",
           "arrowhead": 0,
           "arrowwidth": 1
          },
          "colorscale": {
           "diverging": [
            [
             0,
             "#8e0152"
            ],
            [
             0.1,
             "#c51b7d"
            ],
            [
             0.2,
             "#de77ae"
            ],
            [
             0.3,
             "#f1b6da"
            ],
            [
             0.4,
             "#fde0ef"
            ],
            [
             0.5,
             "#f7f7f7"
            ],
            [
             0.6,
             "#e6f5d0"
            ],
            [
             0.7,
             "#b8e186"
            ],
            [
             0.8,
             "#7fbc41"
            ],
            [
             0.9,
             "#4d9221"
            ],
            [
             1,
             "#276419"
            ]
           ],
           "sequential": [
            [
             0,
             "#0d0887"
            ],
            [
             0.1111111111111111,
             "#46039f"
            ],
            [
             0.2222222222222222,
             "#7201a8"
            ],
            [
             0.3333333333333333,
             "#9c179e"
            ],
            [
             0.4444444444444444,
             "#bd3786"
            ],
            [
             0.5555555555555556,
             "#d8576b"
            ],
            [
             0.6666666666666666,
             "#ed7953"
            ],
            [
             0.7777777777777778,
             "#fb9f3a"
            ],
            [
             0.8888888888888888,
             "#fdca26"
            ],
            [
             1,
             "#f0f921"
            ]
           ],
           "sequentialminus": [
            [
             0,
             "#0d0887"
            ],
            [
             0.1111111111111111,
             "#46039f"
            ],
            [
             0.2222222222222222,
             "#7201a8"
            ],
            [
             0.3333333333333333,
             "#9c179e"
            ],
            [
             0.4444444444444444,
             "#bd3786"
            ],
            [
             0.5555555555555556,
             "#d8576b"
            ],
            [
             0.6666666666666666,
             "#ed7953"
            ],
            [
             0.7777777777777778,
             "#fb9f3a"
            ],
            [
             0.8888888888888888,
             "#fdca26"
            ],
            [
             1,
             "#f0f921"
            ]
           ]
          },
          "colorway": [
           "#636efa",
           "#EF553B",
           "#00cc96",
           "#ab63fa",
           "#FFA15A",
           "#19d3f3",
           "#FF6692",
           "#B6E880",
           "#FF97FF",
           "#FECB52"
          ],
          "font": {
           "color": "#2a3f5f"
          },
          "geo": {
           "bgcolor": "white",
           "lakecolor": "white",
           "landcolor": "#E5ECF6",
           "showlakes": true,
           "showland": true,
           "subunitcolor": "white"
          },
          "hoverlabel": {
           "align": "left"
          },
          "hovermode": "closest",
          "mapbox": {
           "style": "light"
          },
          "paper_bgcolor": "white",
          "plot_bgcolor": "#E5ECF6",
          "polar": {
           "angularaxis": {
            "gridcolor": "white",
            "linecolor": "white",
            "ticks": ""
           },
           "bgcolor": "#E5ECF6",
           "radialaxis": {
            "gridcolor": "white",
            "linecolor": "white",
            "ticks": ""
           }
          },
          "scene": {
           "xaxis": {
            "backgroundcolor": "#E5ECF6",
            "gridcolor": "white",
            "gridwidth": 2,
            "linecolor": "white",
            "showbackground": true,
            "ticks": "",
            "zerolinecolor": "white"
           },
           "yaxis": {
            "backgroundcolor": "#E5ECF6",
            "gridcolor": "white",
            "gridwidth": 2,
            "linecolor": "white",
            "showbackground": true,
            "ticks": "",
            "zerolinecolor": "white"
           },
           "zaxis": {
            "backgroundcolor": "#E5ECF6",
            "gridcolor": "white",
            "gridwidth": 2,
            "linecolor": "white",
            "showbackground": true,
            "ticks": "",
            "zerolinecolor": "white"
           }
          },
          "shapedefaults": {
           "line": {
            "color": "#2a3f5f"
           }
          },
          "ternary": {
           "aaxis": {
            "gridcolor": "white",
            "linecolor": "white",
            "ticks": ""
           },
           "baxis": {
            "gridcolor": "white",
            "linecolor": "white",
            "ticks": ""
           },
           "bgcolor": "#E5ECF6",
           "caxis": {
            "gridcolor": "white",
            "linecolor": "white",
            "ticks": ""
           }
          },
          "title": {
           "x": 0.05
          },
          "xaxis": {
           "automargin": true,
           "gridcolor": "white",
           "linecolor": "white",
           "ticks": "",
           "zerolinecolor": "white",
           "zerolinewidth": 2
          },
          "yaxis": {
           "automargin": true,
           "gridcolor": "white",
           "linecolor": "white",
           "ticks": "",
           "zerolinecolor": "white",
           "zerolinewidth": 2
          }
         }
        },
        "title": {
         "font": {
          "color": "black",
          "size": 18
         },
         "text": "<b>AFRICA - COVID19 NEW CASES BY REGION: October 06, 2020</b>",
         "x": 0.46,
         "xanchor": "center",
         "y": 0.95,
         "yanchor": "top"
        },
        "width": 990
       }
      },
      "text/html": [
       "<div>\n",
       "        \n",
       "        \n",
       "            <div id=\"7f01519b-eea7-4c43-b7b9-547aa02c9b4e\" class=\"plotly-graph-div\" style=\"height:1450px; width:990px;\"></div>\n",
       "            <script type=\"text/javascript\">\n",
       "                require([\"plotly\"], function(Plotly) {\n",
       "                    window.PLOTLYENV=window.PLOTLYENV || {};\n",
       "                    \n",
       "                if (document.getElementById(\"7f01519b-eea7-4c43-b7b9-547aa02c9b4e\")) {\n",
       "                    Plotly.newPlot(\n",
       "                        '7f01519b-eea7-4c43-b7b9-547aa02c9b4e',\n",
       "                        [{\"domain\": {\"x\": [0.0, 0.4575], \"y\": [0.67, 1.0]}, \"hole\": 0.3, \"hoverinfo\": \"label+percent+name+value\", \"labels\": [\"North Africa\", \"Southern Africa\", \"Central Africa\", \"East Africa\", \"West Africa\"], \"marker\": {\"colors\": [\"crimson\", \"green\", \"saddlebrown\", \"yellow\", \"blue\"]}, \"name\": \"October06\", \"textfont\": {\"size\": 15}, \"textinfo\": \"percent+value\", \"type\": \"pie\", \"values\": [3834, 1082, 236, 1065, 372]}, {\"domain\": {\"x\": [0.5425, 1.0], \"y\": [0.67, 1.0]}, \"hole\": 0.3, \"hoverinfo\": \"label+percent+name+value\", \"labels\": [\"North Africa\", \"Southern Africa\", \"Central Africa\", \"East Africa\", \"West Africa\"], \"marker\": {\"colors\": [\"crimson\", \"green\", \"saddlebrown\", \"yellow\", \"blue\"]}, \"name\": \"October05\", \"textfont\": {\"size\": 15}, \"textinfo\": \"percent+value\", \"type\": \"pie\", \"values\": [2283, 974, 163, 1223, 334]}, {\"domain\": {\"x\": [0.0, 0.4575], \"y\": [0.335, 0.665]}, \"hole\": 0.3, \"hoverinfo\": \"label+percent+name+value\", \"labels\": [\"North Africa\", \"Southern Africa\", \"Central Africa\", \"East Africa\", \"West Africa\"], \"marker\": {\"colors\": [\"crimson\", \"green\", \"saddlebrown\", \"yellow\", \"blue\"]}, \"name\": \"October04\", \"textfont\": {\"size\": 15}, \"textinfo\": \"percent+value\", \"type\": \"pie\", \"values\": [4301, 1672, 43, 1783, 285]}, {\"domain\": {\"x\": [0.5425, 1.0], \"y\": [0.335, 0.665]}, \"hole\": 0.3, \"hoverinfo\": \"label+percent+name+value\", \"labels\": [\"North Africa\", \"Southern Africa\", \"Central Africa\", \"East Africa\", \"West Africa\"], \"marker\": {\"colors\": [\"crimson\", \"green\", \"saddlebrown\", \"yellow\", \"blue\"]}, \"name\": \"October03\", \"textfont\": {\"size\": 15}, \"textinfo\": \"percent+value\", \"type\": \"pie\", \"values\": [4513, 2011, 203, 1581, 521]}, {\"domain\": {\"x\": [0.0, 0.4575], \"y\": [0.0, 0.33]}, \"hole\": 0.3, \"hoverinfo\": \"label+percent+name+value\", \"labels\": [\"North Africa\", \"Southern Africa\", \"Central Africa\", \"East Africa\", \"West Africa\"], \"marker\": {\"colors\": [\"crimson\", \"green\", \"saddlebrown\", \"yellow\", \"blue\"]}, \"name\": \"October02\", \"textfont\": {\"size\": 15}, \"textinfo\": \"percent+value\", \"type\": \"pie\", \"values\": [4644, 1926, 180, 1674, 528]}, {\"domain\": {\"x\": [0.5425, 1.0], \"y\": [0.0, 0.33]}, \"hole\": 0.3, \"hoverinfo\": \"label+percent+name+value\", \"labels\": [\"North Africa\", \"Southern Africa\", \"Central Africa\", \"East Africa\", \"West Africa\"], \"marker\": {\"colors\": [\"crimson\", \"green\", \"saddlebrown\", \"yellow\", \"blue\"]}, \"name\": \"October01\", \"textfont\": {\"size\": 15}, \"textinfo\": \"percent+value\", \"type\": \"pie\", \"values\": [3353, 1927, 186, 1356, 438]}],\n",
       "                        {\"annotations\": [{\"font\": {\"color\": \"black\", \"size\": 12}, \"showarrow\": false, \"text\": \"<b>October06</b>\", \"x\": 0.168, \"y\": 0.84}, {\"font\": {\"color\": \"black\", \"size\": 12}, \"showarrow\": false, \"text\": \"<b>October05</b>\", \"x\": 0.82, \"y\": 0.84}, {\"font\": {\"color\": \"black\", \"size\": 12}, \"showarrow\": false, \"text\": \"<b>October04</b>\", \"x\": 0.168, \"y\": 0.5}, {\"font\": {\"color\": \"black\", \"size\": 12}, \"showarrow\": false, \"text\": \"<b>October03</b>\", \"x\": 0.82, \"y\": 0.5}, {\"font\": {\"color\": \"black\", \"size\": 12}, \"showarrow\": false, \"text\": \"<b>October02</b>\", \"x\": 0.168, \"y\": 0.155}, {\"font\": {\"color\": \"black\", \"size\": 12}, \"showarrow\": false, \"text\": \"<b>October01</b>\", \"x\": 0.82, \"y\": 0.155}], \"autosize\": false, \"height\": 1450, \"legend\": {\"font\": {\"size\": 13}, \"traceorder\": \"normal\", \"x\": 1, \"y\": 1}, \"template\": {\"data\": {\"bar\": [{\"error_x\": {\"color\": \"#2a3f5f\"}, \"error_y\": {\"color\": \"#2a3f5f\"}, \"marker\": {\"line\": {\"color\": \"#E5ECF6\", \"width\": 0.5}}, \"type\": \"bar\"}], \"barpolar\": [{\"marker\": {\"line\": {\"color\": \"#E5ECF6\", \"width\": 0.5}}, \"type\": \"barpolar\"}], \"carpet\": [{\"aaxis\": {\"endlinecolor\": \"#2a3f5f\", \"gridcolor\": \"white\", \"linecolor\": \"white\", \"minorgridcolor\": \"white\", \"startlinecolor\": \"#2a3f5f\"}, \"baxis\": {\"endlinecolor\": \"#2a3f5f\", \"gridcolor\": \"white\", \"linecolor\": \"white\", \"minorgridcolor\": \"white\", \"startlinecolor\": \"#2a3f5f\"}, \"type\": \"carpet\"}], \"choropleth\": [{\"colorbar\": {\"outlinewidth\": 0, \"ticks\": \"\"}, \"type\": \"choropleth\"}], \"contour\": [{\"colorbar\": {\"outlinewidth\": 0, \"ticks\": \"\"}, \"colorscale\": [[0.0, \"#0d0887\"], [0.1111111111111111, \"#46039f\"], [0.2222222222222222, \"#7201a8\"], [0.3333333333333333, \"#9c179e\"], [0.4444444444444444, \"#bd3786\"], [0.5555555555555556, \"#d8576b\"], [0.6666666666666666, \"#ed7953\"], [0.7777777777777778, \"#fb9f3a\"], [0.8888888888888888, \"#fdca26\"], [1.0, \"#f0f921\"]], \"type\": \"contour\"}], \"contourcarpet\": [{\"colorbar\": {\"outlinewidth\": 0, \"ticks\": \"\"}, \"type\": \"contourcarpet\"}], \"heatmap\": [{\"colorbar\": {\"outlinewidth\": 0, \"ticks\": \"\"}, \"colorscale\": [[0.0, \"#0d0887\"], [0.1111111111111111, \"#46039f\"], [0.2222222222222222, \"#7201a8\"], [0.3333333333333333, \"#9c179e\"], [0.4444444444444444, \"#bd3786\"], [0.5555555555555556, \"#d8576b\"], [0.6666666666666666, \"#ed7953\"], [0.7777777777777778, \"#fb9f3a\"], [0.8888888888888888, \"#fdca26\"], [1.0, \"#f0f921\"]], \"type\": \"heatmap\"}], \"heatmapgl\": [{\"colorbar\": {\"outlinewidth\": 0, \"ticks\": \"\"}, \"colorscale\": [[0.0, \"#0d0887\"], [0.1111111111111111, \"#46039f\"], [0.2222222222222222, \"#7201a8\"], [0.3333333333333333, \"#9c179e\"], [0.4444444444444444, \"#bd3786\"], [0.5555555555555556, \"#d8576b\"], [0.6666666666666666, \"#ed7953\"], [0.7777777777777778, \"#fb9f3a\"], [0.8888888888888888, \"#fdca26\"], [1.0, \"#f0f921\"]], \"type\": \"heatmapgl\"}], \"histogram\": [{\"marker\": {\"colorbar\": {\"outlinewidth\": 0, \"ticks\": \"\"}}, \"type\": \"histogram\"}], \"histogram2d\": [{\"colorbar\": {\"outlinewidth\": 0, \"ticks\": \"\"}, \"colorscale\": [[0.0, \"#0d0887\"], [0.1111111111111111, \"#46039f\"], [0.2222222222222222, \"#7201a8\"], [0.3333333333333333, \"#9c179e\"], [0.4444444444444444, \"#bd3786\"], [0.5555555555555556, \"#d8576b\"], [0.6666666666666666, \"#ed7953\"], [0.7777777777777778, \"#fb9f3a\"], [0.8888888888888888, \"#fdca26\"], [1.0, \"#f0f921\"]], \"type\": \"histogram2d\"}], \"histogram2dcontour\": [{\"colorbar\": {\"outlinewidth\": 0, \"ticks\": \"\"}, \"colorscale\": [[0.0, \"#0d0887\"], [0.1111111111111111, \"#46039f\"], [0.2222222222222222, \"#7201a8\"], [0.3333333333333333, \"#9c179e\"], [0.4444444444444444, \"#bd3786\"], [0.5555555555555556, \"#d8576b\"], [0.6666666666666666, \"#ed7953\"], [0.7777777777777778, \"#fb9f3a\"], [0.8888888888888888, \"#fdca26\"], [1.0, \"#f0f921\"]], \"type\": \"histogram2dcontour\"}], \"mesh3d\": [{\"colorbar\": {\"outlinewidth\": 0, \"ticks\": \"\"}, \"type\": \"mesh3d\"}], \"parcoords\": [{\"line\": {\"colorbar\": {\"outlinewidth\": 0, \"ticks\": \"\"}}, \"type\": \"parcoords\"}], \"scatter\": [{\"marker\": {\"colorbar\": {\"outlinewidth\": 0, \"ticks\": \"\"}}, \"type\": \"scatter\"}], \"scatter3d\": [{\"line\": {\"colorbar\": {\"outlinewidth\": 0, \"ticks\": \"\"}}, \"marker\": {\"colorbar\": {\"outlinewidth\": 0, \"ticks\": \"\"}}, \"type\": \"scatter3d\"}], \"scattercarpet\": [{\"marker\": {\"colorbar\": {\"outlinewidth\": 0, \"ticks\": \"\"}}, \"type\": \"scattercarpet\"}], \"scattergeo\": [{\"marker\": {\"colorbar\": {\"outlinewidth\": 0, \"ticks\": \"\"}}, \"type\": \"scattergeo\"}], \"scattergl\": [{\"marker\": {\"colorbar\": {\"outlinewidth\": 0, \"ticks\": \"\"}}, \"type\": \"scattergl\"}], \"scattermapbox\": [{\"marker\": {\"colorbar\": {\"outlinewidth\": 0, \"ticks\": \"\"}}, \"type\": \"scattermapbox\"}], \"scatterpolar\": [{\"marker\": {\"colorbar\": {\"outlinewidth\": 0, \"ticks\": \"\"}}, \"type\": \"scatterpolar\"}], \"scatterpolargl\": [{\"marker\": {\"colorbar\": {\"outlinewidth\": 0, \"ticks\": \"\"}}, \"type\": \"scatterpolargl\"}], \"scatterternary\": [{\"marker\": {\"colorbar\": {\"outlinewidth\": 0, \"ticks\": \"\"}}, \"type\": \"scatterternary\"}], \"surface\": [{\"colorbar\": {\"outlinewidth\": 0, \"ticks\": \"\"}, \"colorscale\": [[0.0, \"#0d0887\"], [0.1111111111111111, \"#46039f\"], [0.2222222222222222, \"#7201a8\"], [0.3333333333333333, \"#9c179e\"], [0.4444444444444444, \"#bd3786\"], [0.5555555555555556, \"#d8576b\"], [0.6666666666666666, \"#ed7953\"], [0.7777777777777778, \"#fb9f3a\"], [0.8888888888888888, \"#fdca26\"], [1.0, \"#f0f921\"]], \"type\": \"surface\"}], \"table\": [{\"cells\": {\"fill\": {\"color\": \"#EBF0F8\"}, \"line\": {\"color\": \"white\"}}, \"header\": {\"fill\": {\"color\": \"#C8D4E3\"}, \"line\": {\"color\": \"white\"}}, \"type\": \"table\"}]}, \"layout\": {\"annotationdefaults\": {\"arrowcolor\": \"#2a3f5f\", \"arrowhead\": 0, \"arrowwidth\": 1}, \"colorscale\": {\"diverging\": [[0, \"#8e0152\"], [0.1, \"#c51b7d\"], [0.2, \"#de77ae\"], [0.3, \"#f1b6da\"], [0.4, \"#fde0ef\"], [0.5, \"#f7f7f7\"], [0.6, \"#e6f5d0\"], [0.7, \"#b8e186\"], [0.8, \"#7fbc41\"], [0.9, \"#4d9221\"], [1, \"#276419\"]], \"sequential\": [[0.0, \"#0d0887\"], [0.1111111111111111, \"#46039f\"], [0.2222222222222222, \"#7201a8\"], [0.3333333333333333, \"#9c179e\"], [0.4444444444444444, \"#bd3786\"], [0.5555555555555556, \"#d8576b\"], [0.6666666666666666, \"#ed7953\"], [0.7777777777777778, \"#fb9f3a\"], [0.8888888888888888, \"#fdca26\"], [1.0, \"#f0f921\"]], \"sequentialminus\": [[0.0, \"#0d0887\"], [0.1111111111111111, \"#46039f\"], [0.2222222222222222, \"#7201a8\"], [0.3333333333333333, \"#9c179e\"], [0.4444444444444444, \"#bd3786\"], [0.5555555555555556, \"#d8576b\"], [0.6666666666666666, \"#ed7953\"], [0.7777777777777778, \"#fb9f3a\"], [0.8888888888888888, \"#fdca26\"], [1.0, \"#f0f921\"]]}, \"colorway\": [\"#636efa\", \"#EF553B\", \"#00cc96\", \"#ab63fa\", \"#FFA15A\", \"#19d3f3\", \"#FF6692\", \"#B6E880\", \"#FF97FF\", \"#FECB52\"], \"font\": {\"color\": \"#2a3f5f\"}, \"geo\": {\"bgcolor\": \"white\", \"lakecolor\": \"white\", \"landcolor\": \"#E5ECF6\", \"showlakes\": true, \"showland\": true, \"subunitcolor\": \"white\"}, \"hoverlabel\": {\"align\": \"left\"}, \"hovermode\": \"closest\", \"mapbox\": {\"style\": \"light\"}, \"paper_bgcolor\": \"white\", \"plot_bgcolor\": \"#E5ECF6\", \"polar\": {\"angularaxis\": {\"gridcolor\": \"white\", \"linecolor\": \"white\", \"ticks\": \"\"}, \"bgcolor\": \"#E5ECF6\", \"radialaxis\": {\"gridcolor\": \"white\", \"linecolor\": \"white\", \"ticks\": \"\"}}, \"scene\": {\"xaxis\": {\"backgroundcolor\": \"#E5ECF6\", \"gridcolor\": \"white\", \"gridwidth\": 2, \"linecolor\": \"white\", \"showbackground\": true, \"ticks\": \"\", \"zerolinecolor\": \"white\"}, \"yaxis\": {\"backgroundcolor\": \"#E5ECF6\", \"gridcolor\": \"white\", \"gridwidth\": 2, \"linecolor\": \"white\", \"showbackground\": true, \"ticks\": \"\", \"zerolinecolor\": \"white\"}, \"zaxis\": {\"backgroundcolor\": \"#E5ECF6\", \"gridcolor\": \"white\", \"gridwidth\": 2, \"linecolor\": \"white\", \"showbackground\": true, \"ticks\": \"\", \"zerolinecolor\": \"white\"}}, \"shapedefaults\": {\"line\": {\"color\": \"#2a3f5f\"}}, \"ternary\": {\"aaxis\": {\"gridcolor\": \"white\", \"linecolor\": \"white\", \"ticks\": \"\"}, \"baxis\": {\"gridcolor\": \"white\", \"linecolor\": \"white\", \"ticks\": \"\"}, \"bgcolor\": \"#E5ECF6\", \"caxis\": {\"gridcolor\": \"white\", \"linecolor\": \"white\", \"ticks\": \"\"}}, \"title\": {\"x\": 0.05}, \"xaxis\": {\"automargin\": true, \"gridcolor\": \"white\", \"linecolor\": \"white\", \"ticks\": \"\", \"zerolinecolor\": \"white\", \"zerolinewidth\": 2}, \"yaxis\": {\"automargin\": true, \"gridcolor\": \"white\", \"linecolor\": \"white\", \"ticks\": \"\", \"zerolinecolor\": \"white\", \"zerolinewidth\": 2}}}, \"title\": {\"font\": {\"color\": \"black\", \"size\": 18}, \"text\": \"<b>AFRICA - COVID19 NEW CASES BY REGION: October 06, 2020</b>\", \"x\": 0.46, \"xanchor\": \"center\", \"y\": 0.95, \"yanchor\": \"top\"}, \"width\": 990},\n",
       "                        {\"responsive\": true}\n",
       "                    ).then(function(){\n",
       "                            \n",
       "var gd = document.getElementById('7f01519b-eea7-4c43-b7b9-547aa02c9b4e');\n",
       "var x = new MutationObserver(function (mutations, observer) {{\n",
       "        var display = window.getComputedStyle(gd).display;\n",
       "        if (!display || display === 'none') {{\n",
       "            console.log([gd, 'removed!']);\n",
       "            Plotly.purge(gd);\n",
       "            observer.disconnect();\n",
       "        }}\n",
       "}});\n",
       "\n",
       "// Listen for the removal of the full notebook cells\n",
       "var notebookContainer = gd.closest('#notebook-container');\n",
       "if (notebookContainer) {{\n",
       "    x.observe(notebookContainer, {childList: true});\n",
       "}}\n",
       "\n",
       "// Listen for the clearing of the current output cell\n",
       "var outputEl = gd.closest('.output');\n",
       "if (outputEl) {{\n",
       "    x.observe(outputEl, {childList: true});\n",
       "}}\n",
       "\n",
       "                        })\n",
       "                };\n",
       "                });\n",
       "            </script>\n",
       "        </div>"
      ]
     },
     "metadata": {},
     "output_type": "display_data"
    }
   ],
   "source": [
    "fig = make_subplots(rows=3, cols=2,  specs=[[{'type':'domain'}, {'type':'domain'}],[{'type':'domain'}, {'type':'domain'}],\n",
    "                                            [{'type':'domain'}, {'type':'domain'}]], print_grid=False,vertical_spacing=0.005,\n",
    "                                            horizontal_spacing=0.085)\n",
    "position = 0\n",
    "\n",
    "x=[0.168, 0.82, 0.168, 0.82, 0.168, 0.82]\n",
    "y=[0.84,0.84, 0.5,0.5,0.155, 0.155]\n",
    "\n",
    "# x=[0.2, 0.8, 0.2, 0.8, 0.2, 0.8]\n",
    "# y=[0.85,0.85, 0.5,0.5,0.15, 0.15]\n",
    "\n",
    "# x=[0.18, 0.82, 0.18, 0.82, 0.18, 0.82]\n",
    "# y=[0.85,0.85, 0.5,0.5,0.15, 0.15]\n",
    "slice_colors =  ['crimson', 'green', 'saddlebrown', 'yellow', 'blue']\n",
    "\n",
    "for column in countries_new_cases.columns[1:][::-1]:\n",
    "    afrik_region = []\n",
    "    afric_region_stat = []\n",
    "    row = ((position//2)+1)\n",
    "    col = ((position%2)+1)\n",
    "    for region in african_regions: \n",
    "        if(region == 'North Africa'):        \n",
    "            north_africa_total = countries_new_cases[countries_new_cases['Country_Other'].isin(north_africa_new_cases['Country_Other'])]\n",
    "            north_africa_total=north_africa_total.copy()\n",
    "            north_africa_total.fillna(0, inplace=True)\n",
    "            north_africa_sum = north_africa_total[column].astype(str).str.replace('+','').fillna(0).str.replace(',','').fillna(0).astype(int).sum()  \n",
    "            afrik_region.append(region)\n",
    "            afric_region_stat.append(north_africa_sum)\n",
    "\n",
    "        elif(region == 'South Africa'):\n",
    "            southern_africa_total = countries_new_cases[countries_new_cases['Country_Other'].isin(southern_africa_new_cases['Country_Other'])]\n",
    "            southern_africa_total=southern_africa_total.copy()\n",
    "            southern_africa_total.fillna(0, inplace=True)\n",
    "            southern_africa_sum = southern_africa_total[column].astype(str).str.replace('+','').fillna(0).str.replace(',','').fillna(0).astype(int).sum() \n",
    "            afrik_region.append(region)\n",
    "            afric_region_stat.append(southern_africa_sum)\n",
    "\n",
    "        elif(region == 'Central Africa'):\n",
    "            central_africa_total = countries_new_cases[countries_new_cases['Country_Other'].isin(central_africa_new_cases['Country_Other'])]\n",
    "            central_africa_total=central_africa_total.copy()\n",
    "            central_africa_total.fillna(0, inplace=True)\n",
    "            central_africa_sum = central_africa_total[column].astype(str).str.replace('+','').fillna(0).str.replace(',','').fillna(0).astype(int).sum()\n",
    "            afrik_region.append(region)\n",
    "            afric_region_stat.append(central_africa_sum)\n",
    "\n",
    "        elif(region == 'East Africa'):     \n",
    "            east_africa_total = countries_new_cases[countries_new_cases['Country_Other'].isin(east_africa_new_cases['Country_Other'])]\n",
    "            east_africa_total=east_africa_total.copy()\n",
    "            east_africa_total.fillna(0, inplace=True)\n",
    "            east_africa_sum = east_africa_total[column].astype(str).str.replace('+','').fillna(0).str.replace(',','').fillna(0).astype(int).sum()\n",
    "            afrik_region.append(region)\n",
    "            afric_region_stat.append(east_africa_sum)\n",
    "\n",
    "        elif(region == 'West Africa'): \n",
    "            west_africa_total = countries_new_cases[countries_new_cases['Country_Other'].isin(west_africa_new_cases['Country_Other'])]\n",
    "            west_africa_total=west_africa_total.copy()\n",
    "            west_africa_total.fillna(0, inplace=True)    \n",
    "            west_africa_sum = west_africa_total[column].astype(str).str.replace('+','').fillna(0).str.replace(',','').fillna(0).astype(int).sum()                         \n",
    "            afrik_region.append(region)\n",
    "            afric_region_stat.append(west_africa_sum)\n",
    "\n",
    "            \n",
    "            afrik_region[1] = 'Southern Africa'\n",
    "            fig.add_trace(go.Pie(labels=afrik_region, values=afric_region_stat,name=column, ),row, col)         \n",
    "            fig.update_traces(hole=.3, hoverinfo=\"label+percent+name+value\", textinfo='percent+value',textfont_size=15,marker_colors=slice_colors,)  \n",
    "            \n",
    "       \n",
    "    fig['layout']['annotations'] += tuple([dict(x=x[position],y=y[position],text='<b>'+column+'</b>', showarrow=False, font_size=12, font=dict(color='black'))])\n",
    "    fig.update_layout(\n",
    "    width=990,height=1450,autosize=False,\n",
    "    title={'text': '<b>' + 'AFRICA - COVID19 NEW CASES BY REGION: ' + date_string +'</b>',\n",
    "    'y':0.95,\n",
    "    'x':0.46,\n",
    "    'xanchor': 'center',\n",
    "    'yanchor': 'top',\n",
    "    'font_color':'black',\n",
    "    'font_size':18},\n",
    "     legend=dict(x=1, y=1,traceorder=\"normal\",  font=dict(size=13))\n",
    "    )\n",
    "    position=position+1    \n",
    "fig.show()"
   ]
  },
  {
   "cell_type": "markdown",
   "metadata": {},
   "source": [
    "[Return to top](#top)"
   ]
  },
  {
   "cell_type": "markdown",
   "metadata": {},
   "source": [
    "##  Recovery Rate of Countries with up to 100 Confirmed Cases"
   ]
  },
  {
   "cell_type": "code",
   "execution_count": 54,
   "metadata": {},
   "outputs": [],
   "source": [
    "#SELECT MOST RECENT CSV DATA\n",
    "def most_recent_all_cases_CSV(path):\n",
    "    next_mostrecent_CSV ={}\n",
    "    files = os.listdir(path)\n",
    "    filter_csv = [file for file in files if file[-3:] == 'csv' and file[:13] == 'COVID19Report']\n",
    "    datetime_conversion = [datetime.datetime.strptime(f[13:25], '%d%m%Y%H%M') for f in filter_csv]\n",
    "    current_datetime = datetime.datetime.now().strftime(\"%d%m%Y%H%M\")\n",
    "    current_datetime_conversion = datetime.datetime.strptime(current_datetime,'%d%m%Y%H%M')\n",
    "    for given_datetime in datetime_conversion:\n",
    "        datetime_string= given_datetime.strftime('%d')+given_datetime.strftime('%m')+given_datetime.strftime('%Y')+given_datetime.strftime('%H')+given_datetime.strftime('%M')\n",
    "        particular_datetime = [datee  for datee in filter_csv if datee[13:25] == datetime_string]\n",
    "        timediff_seconds = current_datetime_conversion - given_datetime\n",
    "        next_mostrecent_CSV[particular_datetime[0]] = timediff_seconds.total_seconds()\n",
    "        sorted_next_mostrecent_CSV = sorted(next_mostrecent_CSV.items(), key=lambda kv: kv[1])\n",
    "    return sorted_next_mostrecent_CSV[0][0]"
   ]
  },
  {
   "cell_type": "code",
   "execution_count": 55,
   "metadata": {},
   "outputs": [
    {
     "data": {
      "text/plain": [
       "'COVID19Report061020201033.csv'"
      ]
     },
     "execution_count": 55,
     "metadata": {},
     "output_type": "execute_result"
    }
   ],
   "source": [
    "all_cases = most_recent_all_cases_CSV(\"..\\COVID19\\DayReport\")\n",
    "all_cases"
   ]
  },
  {
   "cell_type": "code",
   "execution_count": 56,
   "metadata": {},
   "outputs": [
    {
     "data": {
      "text/html": [
       "<div>\n",
       "<style scoped>\n",
       "    .dataframe tbody tr th:only-of-type {\n",
       "        vertical-align: middle;\n",
       "    }\n",
       "\n",
       "    .dataframe tbody tr th {\n",
       "        vertical-align: top;\n",
       "    }\n",
       "\n",
       "    .dataframe thead th {\n",
       "        text-align: right;\n",
       "    }\n",
       "</style>\n",
       "<table border=\"1\" class=\"dataframe\">\n",
       "  <thead>\n",
       "    <tr style=\"text-align: right;\">\n",
       "      <th></th>\n",
       "      <th>Country_Other</th>\n",
       "      <th>Total_Cases</th>\n",
       "      <th>New_Cases</th>\n",
       "      <th>Total_Deaths</th>\n",
       "      <th>New_Deaths</th>\n",
       "      <th>Total_Recovered</th>\n",
       "      <th>Active_Cases</th>\n",
       "      <th>Serious_Critical</th>\n",
       "      <th>tot_cases_per1M_pop</th>\n",
       "      <th>Deaths_per_1M_Pop</th>\n",
       "      <th>Total_Tests</th>\n",
       "      <th>Tests_per_1M_Pop</th>\n",
       "    </tr>\n",
       "  </thead>\n",
       "  <tbody>\n",
       "    <tr>\n",
       "      <td>0</td>\n",
       "      <td>South Africa</td>\n",
       "      <td>683,242</td>\n",
       "      <td>+1,027</td>\n",
       "      <td>17,103</td>\n",
       "      <td>+87</td>\n",
       "      <td>616,857</td>\n",
       "      <td>49,282</td>\n",
       "      <td>539</td>\n",
       "      <td>11,482</td>\n",
       "      <td>287</td>\n",
       "      <td>4,294,931</td>\n",
       "      <td>72,176</td>\n",
       "    </tr>\n",
       "    <tr>\n",
       "      <td>1</td>\n",
       "      <td>Morocco</td>\n",
       "      <td>137,248</td>\n",
       "      <td>+2,553</td>\n",
       "      <td>2,410</td>\n",
       "      <td>+41</td>\n",
       "      <td>115,354</td>\n",
       "      <td>19,484</td>\n",
       "      <td>434</td>\n",
       "      <td>3,707</td>\n",
       "      <td>65</td>\n",
       "      <td>2,753,882</td>\n",
       "      <td>74,376</td>\n",
       "    </tr>\n",
       "    <tr>\n",
       "      <td>2</td>\n",
       "      <td>Egypt</td>\n",
       "      <td>103,902</td>\n",
       "      <td>+121</td>\n",
       "      <td>6,001</td>\n",
       "      <td>+11</td>\n",
       "      <td>97,449</td>\n",
       "      <td>452</td>\n",
       "      <td>41</td>\n",
       "      <td>1,010</td>\n",
       "      <td>58</td>\n",
       "      <td>135,000</td>\n",
       "      <td>1,313</td>\n",
       "    </tr>\n",
       "  </tbody>\n",
       "</table>\n",
       "</div>"
      ],
      "text/plain": [
       "  Country_Other Total_Cases New_Cases Total_Deaths New_Deaths Total_Recovered  \\\n",
       "0  South Africa     683,242    +1,027       17,103        +87         616,857   \n",
       "1       Morocco     137,248    +2,553        2,410        +41         115,354   \n",
       "2         Egypt     103,902      +121        6,001        +11          97,449   \n",
       "\n",
       "  Active_Cases Serious_Critical tot_cases_per1M_pop Deaths_per_1M_Pop  \\\n",
       "0       49,282              539              11,482               287   \n",
       "1       19,484              434               3,707                65   \n",
       "2          452               41               1,010                58   \n",
       "\n",
       "  Total_Tests Tests_per_1M_Pop  \n",
       "0   4,294,931           72,176  \n",
       "1   2,753,882           74,376  \n",
       "2     135,000            1,313  "
      ]
     },
     "execution_count": 56,
     "metadata": {},
     "output_type": "execute_result"
    }
   ],
   "source": [
    "covid_data = pd.read_csv(\"../COVID19/DayReport/\"+all_cases)\n",
    "african_countries_inview = covid_data[covid_data['Country_Other'].isin(african_countries['country_Other'])]\n",
    "african_countries_inview =african_countries_inview.reset_index(drop=True)\n",
    "african_countries_inview.head(3)"
   ]
  },
  {
   "cell_type": "code",
   "execution_count": 57,
   "metadata": {},
   "outputs": [
    {
     "data": {
      "text/plain": [
       "Country_Other          object\n",
       "Total_Cases             int32\n",
       "New_Cases              object\n",
       "Total_Deaths            int32\n",
       "New_Deaths             object\n",
       "Total_Recovered         int32\n",
       "Active_Cases           object\n",
       "Serious_Critical       object\n",
       "tot_cases_per1M_pop    object\n",
       "Deaths_per_1M_Pop      object\n",
       "Total_Tests            object\n",
       "Tests_per_1M_Pop       object\n",
       "dtype: object"
      ]
     },
     "execution_count": 57,
     "metadata": {},
     "output_type": "execute_result"
    }
   ],
   "source": [
    "african_countries_inview['Total_Recovered']=african_countries_inview['Total_Recovered'].str.replace(',','').fillna(0).astype(int)\n",
    "african_countries_inview['Total_Cases']=african_countries_inview['Total_Cases'].str.replace(',','').fillna(0).astype(int)\n",
    "african_countries_inview['Total_Deaths']=african_countries_inview['Total_Deaths'].str.replace(',','').fillna(0).astype(int)\n",
    "african_countries_inview.dtypes"
   ]
  },
  {
   "cell_type": "code",
   "execution_count": 58,
   "metadata": {},
   "outputs": [],
   "source": [
    "african_recovery = pd.DataFrame()\n",
    "african_recovery['Country_Other'] = african_countries_inview['Country_Other']\n",
    "african_recovery['Total_Cases'] = african_countries_inview['Total_Cases']\n",
    "african_recovery['Total_Recovered'] = african_countries_inview['Total_Recovered']"
   ]
  },
  {
   "cell_type": "code",
   "execution_count": 59,
   "metadata": {},
   "outputs": [
    {
     "data": {
      "text/html": [
       "<div>\n",
       "<style scoped>\n",
       "    .dataframe tbody tr th:only-of-type {\n",
       "        vertical-align: middle;\n",
       "    }\n",
       "\n",
       "    .dataframe tbody tr th {\n",
       "        vertical-align: top;\n",
       "    }\n",
       "\n",
       "    .dataframe thead th {\n",
       "        text-align: right;\n",
       "    }\n",
       "</style>\n",
       "<table border=\"1\" class=\"dataframe\">\n",
       "  <thead>\n",
       "    <tr style=\"text-align: right;\">\n",
       "      <th></th>\n",
       "      <th>Country_Other</th>\n",
       "      <th>Total_Cases</th>\n",
       "      <th>Total_Recovered</th>\n",
       "      <th>RecoveryRate</th>\n",
       "    </tr>\n",
       "  </thead>\n",
       "  <tbody>\n",
       "    <tr>\n",
       "      <td>0</td>\n",
       "      <td>South Africa</td>\n",
       "      <td>683242</td>\n",
       "      <td>616857</td>\n",
       "      <td>90.28</td>\n",
       "    </tr>\n",
       "    <tr>\n",
       "      <td>1</td>\n",
       "      <td>Morocco</td>\n",
       "      <td>137248</td>\n",
       "      <td>115354</td>\n",
       "      <td>84.05</td>\n",
       "    </tr>\n",
       "    <tr>\n",
       "      <td>2</td>\n",
       "      <td>Egypt</td>\n",
       "      <td>103902</td>\n",
       "      <td>97449</td>\n",
       "      <td>93.79</td>\n",
       "    </tr>\n",
       "  </tbody>\n",
       "</table>\n",
       "</div>"
      ],
      "text/plain": [
       "  Country_Other  Total_Cases  Total_Recovered  RecoveryRate\n",
       "0  South Africa       683242           616857         90.28\n",
       "1       Morocco       137248           115354         84.05\n",
       "2         Egypt       103902            97449         93.79"
      ]
     },
     "execution_count": 59,
     "metadata": {},
     "output_type": "execute_result"
    }
   ],
   "source": [
    "\n",
    "african_recovery['RecoveryRate'] = round((african_countries_inview['Total_Recovered']/african_countries_inview['Total_Cases'])*100,2)\n",
    "african_recovery.head(3)"
   ]
  },
  {
   "cell_type": "code",
   "execution_count": 60,
   "metadata": {},
   "outputs": [
    {
     "data": {
      "text/html": [
       "<div>\n",
       "<style scoped>\n",
       "    .dataframe tbody tr th:only-of-type {\n",
       "        vertical-align: middle;\n",
       "    }\n",
       "\n",
       "    .dataframe tbody tr th {\n",
       "        vertical-align: top;\n",
       "    }\n",
       "\n",
       "    .dataframe thead th {\n",
       "        text-align: right;\n",
       "    }\n",
       "</style>\n",
       "<table border=\"1\" class=\"dataframe\">\n",
       "  <thead>\n",
       "    <tr style=\"text-align: right;\">\n",
       "      <th></th>\n",
       "      <th>Country_Other</th>\n",
       "      <th>Total_Cases</th>\n",
       "      <th>Total_Recovered</th>\n",
       "      <th>RecoveryRate</th>\n",
       "    </tr>\n",
       "  </thead>\n",
       "  <tbody>\n",
       "    <tr>\n",
       "      <td>0</td>\n",
       "      <td>Djibouti</td>\n",
       "      <td>5423</td>\n",
       "      <td>5353</td>\n",
       "      <td>98.71</td>\n",
       "    </tr>\n",
       "    <tr>\n",
       "      <td>1</td>\n",
       "      <td>Ghana</td>\n",
       "      <td>46829</td>\n",
       "      <td>46060</td>\n",
       "      <td>98.36</td>\n",
       "    </tr>\n",
       "    <tr>\n",
       "      <td>2</td>\n",
       "      <td>Ivory Coast</td>\n",
       "      <td>19903</td>\n",
       "      <td>19539</td>\n",
       "      <td>98.17</td>\n",
       "    </tr>\n",
       "  </tbody>\n",
       "</table>\n",
       "</div>"
      ],
      "text/plain": [
       "  Country_Other  Total_Cases  Total_Recovered  RecoveryRate\n",
       "0      Djibouti         5423             5353         98.71\n",
       "1         Ghana        46829            46060         98.36\n",
       "2   Ivory Coast        19903            19539         98.17"
      ]
     },
     "execution_count": 60,
     "metadata": {},
     "output_type": "execute_result"
    }
   ],
   "source": [
    "#Recovery Rate sorted in descensing order\n",
    "african_confirmed100 = african_recovery[african_recovery['Total_Cases']>=100]\n",
    "african_confirmed100 = african_confirmed100.sort_values('RecoveryRate', ascending=False)\n",
    "african_confirmed100.reset_index(drop=True, inplace=True)\n",
    "african_confirmed100.head(3)"
   ]
  },
  {
   "cell_type": "markdown",
   "metadata": {},
   "source": [
    "<a id='recovery'></a>"
   ]
  },
  {
   "cell_type": "code",
   "execution_count": 61,
   "metadata": {},
   "outputs": [
    {
     "data": {
      "application/vnd.plotly.v1+json": {
       "config": {
        "plotlyServerURL": "https://plot.ly"
       },
       "data": [
        {
         "marker": {
          "color": "LimeGreen"
         },
         "name": "Afria",
         "orientation": "h",
         "text": [
          22.64,
          26.29,
          35.95,
          39.45,
          43.7,
          45.38,
          47.18,
          49.54,
          55.02,
          58.26,
          60.09,
          61.8,
          65.59,
          66.61,
          67.65,
          69.04,
          70.16,
          72.45,
          74.96,
          75.1,
          76.16,
          76.38,
          77.63,
          78.06,
          78.49,
          80.37,
          81.36,
          82.34,
          83.71,
          84.05,
          85.44,
          86.11,
          86.41,
          87,
          89.95,
          90.28,
          90.38,
          91.58,
          91.83,
          92.34,
          92.36,
          92.92,
          93.68,
          93.79,
          94.35,
          94.46,
          94.57,
          94.9,
          95.32,
          95.74,
          96.62,
          96.87,
          97.16,
          98.17,
          98.36,
          98.71
         ],
         "textposition": "outside",
         "type": "bar",
         "x": [
          22.64,
          26.29,
          35.95,
          39.45,
          43.7,
          45.38,
          47.18,
          49.54,
          55.02,
          58.26,
          60.09,
          61.8,
          65.59,
          66.61,
          67.65,
          69.04,
          70.16,
          72.45,
          74.96,
          75.1,
          76.16,
          76.38,
          77.63,
          78.06,
          78.49,
          80.37,
          81.36,
          82.34,
          83.71,
          84.05,
          85.44,
          86.11,
          86.41,
          87,
          89.95,
          90.28,
          90.38,
          91.58,
          91.83,
          92.34,
          92.36,
          92.92,
          93.68,
          93.79,
          94.35,
          94.46,
          94.57,
          94.9,
          95.32,
          95.74,
          96.62,
          96.87,
          97.16,
          98.17,
          98.36,
          98.71
         ],
         "y": [
          "Tunisia",
          "Botswana",
          "Tanzania",
          "CAR",
          "Ethiopia",
          "Angola",
          "South Sudan",
          "Sudan",
          "Lesotho",
          "Libya",
          "Uganda",
          "Gambia",
          "Burkina Faso",
          "Rwanda",
          "Mozambique",
          "Kenya",
          "Algeria",
          "Guinea-Bissau",
          "Togo",
          "Sierra Leone",
          "Mayotte",
          "Congo",
          "Réunion",
          "Mali",
          "Malawi",
          "Somalia",
          "Zimbabwe",
          "Namibia",
          "Benin",
          "Morocco",
          "Senegal",
          "Nigeria",
          "Cabo Verde",
          "Chad",
          "Eritrea",
          "South Africa",
          "Mauritius",
          "Liberia",
          "Burundi",
          "Eswatini",
          "Gabon",
          "Niger",
          "Guinea",
          "Egypt",
          "Zambia",
          "Cameroon",
          "Madagascar",
          "DRC",
          "Comoros",
          "Mauritania",
          "Seychelles",
          "Equatorial Guinea",
          "Sao Tome and Principe",
          "Ivory Coast",
          "Ghana",
          "Djibouti"
         ]
        }
       ],
       "layout": {
        "autosize": false,
        "height": 1000,
        "template": {
         "data": {
          "bar": [
           {
            "error_x": {
             "color": "#f2f5fa"
            },
            "error_y": {
             "color": "#f2f5fa"
            },
            "marker": {
             "line": {
              "color": "rgb(17,17,17)",
              "width": 0.5
             }
            },
            "type": "bar"
           }
          ],
          "barpolar": [
           {
            "marker": {
             "line": {
              "color": "rgb(17,17,17)",
              "width": 0.5
             }
            },
            "type": "barpolar"
           }
          ],
          "carpet": [
           {
            "aaxis": {
             "endlinecolor": "#A2B1C6",
             "gridcolor": "#506784",
             "linecolor": "#506784",
             "minorgridcolor": "#506784",
             "startlinecolor": "#A2B1C6"
            },
            "baxis": {
             "endlinecolor": "#A2B1C6",
             "gridcolor": "#506784",
             "linecolor": "#506784",
             "minorgridcolor": "#506784",
             "startlinecolor": "#A2B1C6"
            },
            "type": "carpet"
           }
          ],
          "choropleth": [
           {
            "colorbar": {
             "outlinewidth": 0,
             "ticks": ""
            },
            "type": "choropleth"
           }
          ],
          "contour": [
           {
            "colorbar": {
             "outlinewidth": 0,
             "ticks": ""
            },
            "colorscale": [
             [
              0,
              "#0d0887"
             ],
             [
              0.1111111111111111,
              "#46039f"
             ],
             [
              0.2222222222222222,
              "#7201a8"
             ],
             [
              0.3333333333333333,
              "#9c179e"
             ],
             [
              0.4444444444444444,
              "#bd3786"
             ],
             [
              0.5555555555555556,
              "#d8576b"
             ],
             [
              0.6666666666666666,
              "#ed7953"
             ],
             [
              0.7777777777777778,
              "#fb9f3a"
             ],
             [
              0.8888888888888888,
              "#fdca26"
             ],
             [
              1,
              "#f0f921"
             ]
            ],
            "type": "contour"
           }
          ],
          "contourcarpet": [
           {
            "colorbar": {
             "outlinewidth": 0,
             "ticks": ""
            },
            "type": "contourcarpet"
           }
          ],
          "heatmap": [
           {
            "colorbar": {
             "outlinewidth": 0,
             "ticks": ""
            },
            "colorscale": [
             [
              0,
              "#0d0887"
             ],
             [
              0.1111111111111111,
              "#46039f"
             ],
             [
              0.2222222222222222,
              "#7201a8"
             ],
             [
              0.3333333333333333,
              "#9c179e"
             ],
             [
              0.4444444444444444,
              "#bd3786"
             ],
             [
              0.5555555555555556,
              "#d8576b"
             ],
             [
              0.6666666666666666,
              "#ed7953"
             ],
             [
              0.7777777777777778,
              "#fb9f3a"
             ],
             [
              0.8888888888888888,
              "#fdca26"
             ],
             [
              1,
              "#f0f921"
             ]
            ],
            "type": "heatmap"
           }
          ],
          "heatmapgl": [
           {
            "colorbar": {
             "outlinewidth": 0,
             "ticks": ""
            },
            "colorscale": [
             [
              0,
              "#0d0887"
             ],
             [
              0.1111111111111111,
              "#46039f"
             ],
             [
              0.2222222222222222,
              "#7201a8"
             ],
             [
              0.3333333333333333,
              "#9c179e"
             ],
             [
              0.4444444444444444,
              "#bd3786"
             ],
             [
              0.5555555555555556,
              "#d8576b"
             ],
             [
              0.6666666666666666,
              "#ed7953"
             ],
             [
              0.7777777777777778,
              "#fb9f3a"
             ],
             [
              0.8888888888888888,
              "#fdca26"
             ],
             [
              1,
              "#f0f921"
             ]
            ],
            "type": "heatmapgl"
           }
          ],
          "histogram": [
           {
            "marker": {
             "colorbar": {
              "outlinewidth": 0,
              "ticks": ""
             }
            },
            "type": "histogram"
           }
          ],
          "histogram2d": [
           {
            "colorbar": {
             "outlinewidth": 0,
             "ticks": ""
            },
            "colorscale": [
             [
              0,
              "#0d0887"
             ],
             [
              0.1111111111111111,
              "#46039f"
             ],
             [
              0.2222222222222222,
              "#7201a8"
             ],
             [
              0.3333333333333333,
              "#9c179e"
             ],
             [
              0.4444444444444444,
              "#bd3786"
             ],
             [
              0.5555555555555556,
              "#d8576b"
             ],
             [
              0.6666666666666666,
              "#ed7953"
             ],
             [
              0.7777777777777778,
              "#fb9f3a"
             ],
             [
              0.8888888888888888,
              "#fdca26"
             ],
             [
              1,
              "#f0f921"
             ]
            ],
            "type": "histogram2d"
           }
          ],
          "histogram2dcontour": [
           {
            "colorbar": {
             "outlinewidth": 0,
             "ticks": ""
            },
            "colorscale": [
             [
              0,
              "#0d0887"
             ],
             [
              0.1111111111111111,
              "#46039f"
             ],
             [
              0.2222222222222222,
              "#7201a8"
             ],
             [
              0.3333333333333333,
              "#9c179e"
             ],
             [
              0.4444444444444444,
              "#bd3786"
             ],
             [
              0.5555555555555556,
              "#d8576b"
             ],
             [
              0.6666666666666666,
              "#ed7953"
             ],
             [
              0.7777777777777778,
              "#fb9f3a"
             ],
             [
              0.8888888888888888,
              "#fdca26"
             ],
             [
              1,
              "#f0f921"
             ]
            ],
            "type": "histogram2dcontour"
           }
          ],
          "mesh3d": [
           {
            "colorbar": {
             "outlinewidth": 0,
             "ticks": ""
            },
            "type": "mesh3d"
           }
          ],
          "parcoords": [
           {
            "line": {
             "colorbar": {
              "outlinewidth": 0,
              "ticks": ""
             }
            },
            "type": "parcoords"
           }
          ],
          "scatter": [
           {
            "marker": {
             "line": {
              "color": "#283442"
             }
            },
            "type": "scatter"
           }
          ],
          "scatter3d": [
           {
            "line": {
             "colorbar": {
              "outlinewidth": 0,
              "ticks": ""
             }
            },
            "marker": {
             "colorbar": {
              "outlinewidth": 0,
              "ticks": ""
             }
            },
            "type": "scatter3d"
           }
          ],
          "scattercarpet": [
           {
            "marker": {
             "colorbar": {
              "outlinewidth": 0,
              "ticks": ""
             }
            },
            "type": "scattercarpet"
           }
          ],
          "scattergeo": [
           {
            "marker": {
             "colorbar": {
              "outlinewidth": 0,
              "ticks": ""
             }
            },
            "type": "scattergeo"
           }
          ],
          "scattergl": [
           {
            "marker": {
             "line": {
              "color": "#283442"
             }
            },
            "type": "scattergl"
           }
          ],
          "scattermapbox": [
           {
            "marker": {
             "colorbar": {
              "outlinewidth": 0,
              "ticks": ""
             }
            },
            "type": "scattermapbox"
           }
          ],
          "scatterpolar": [
           {
            "marker": {
             "colorbar": {
              "outlinewidth": 0,
              "ticks": ""
             }
            },
            "type": "scatterpolar"
           }
          ],
          "scatterpolargl": [
           {
            "marker": {
             "colorbar": {
              "outlinewidth": 0,
              "ticks": ""
             }
            },
            "type": "scatterpolargl"
           }
          ],
          "scatterternary": [
           {
            "marker": {
             "colorbar": {
              "outlinewidth": 0,
              "ticks": ""
             }
            },
            "type": "scatterternary"
           }
          ],
          "surface": [
           {
            "colorbar": {
             "outlinewidth": 0,
             "ticks": ""
            },
            "colorscale": [
             [
              0,
              "#0d0887"
             ],
             [
              0.1111111111111111,
              "#46039f"
             ],
             [
              0.2222222222222222,
              "#7201a8"
             ],
             [
              0.3333333333333333,
              "#9c179e"
             ],
             [
              0.4444444444444444,
              "#bd3786"
             ],
             [
              0.5555555555555556,
              "#d8576b"
             ],
             [
              0.6666666666666666,
              "#ed7953"
             ],
             [
              0.7777777777777778,
              "#fb9f3a"
             ],
             [
              0.8888888888888888,
              "#fdca26"
             ],
             [
              1,
              "#f0f921"
             ]
            ],
            "type": "surface"
           }
          ],
          "table": [
           {
            "cells": {
             "fill": {
              "color": "#506784"
             },
             "line": {
              "color": "rgb(17,17,17)"
             }
            },
            "header": {
             "fill": {
              "color": "#2a3f5f"
             },
             "line": {
              "color": "rgb(17,17,17)"
             }
            },
            "type": "table"
           }
          ]
         },
         "layout": {
          "annotationdefaults": {
           "arrowcolor": "#f2f5fa",
           "arrowhead": 0,
           "arrowwidth": 1
          },
          "colorscale": {
           "diverging": [
            [
             0,
             "#8e0152"
            ],
            [
             0.1,
             "#c51b7d"
            ],
            [
             0.2,
             "#de77ae"
            ],
            [
             0.3,
             "#f1b6da"
            ],
            [
             0.4,
             "#fde0ef"
            ],
            [
             0.5,
             "#f7f7f7"
            ],
            [
             0.6,
             "#e6f5d0"
            ],
            [
             0.7,
             "#b8e186"
            ],
            [
             0.8,
             "#7fbc41"
            ],
            [
             0.9,
             "#4d9221"
            ],
            [
             1,
             "#276419"
            ]
           ],
           "sequential": [
            [
             0,
             "#0d0887"
            ],
            [
             0.1111111111111111,
             "#46039f"
            ],
            [
             0.2222222222222222,
             "#7201a8"
            ],
            [
             0.3333333333333333,
             "#9c179e"
            ],
            [
             0.4444444444444444,
             "#bd3786"
            ],
            [
             0.5555555555555556,
             "#d8576b"
            ],
            [
             0.6666666666666666,
             "#ed7953"
            ],
            [
             0.7777777777777778,
             "#fb9f3a"
            ],
            [
             0.8888888888888888,
             "#fdca26"
            ],
            [
             1,
             "#f0f921"
            ]
           ],
           "sequentialminus": [
            [
             0,
             "#0d0887"
            ],
            [
             0.1111111111111111,
             "#46039f"
            ],
            [
             0.2222222222222222,
             "#7201a8"
            ],
            [
             0.3333333333333333,
             "#9c179e"
            ],
            [
             0.4444444444444444,
             "#bd3786"
            ],
            [
             0.5555555555555556,
             "#d8576b"
            ],
            [
             0.6666666666666666,
             "#ed7953"
            ],
            [
             0.7777777777777778,
             "#fb9f3a"
            ],
            [
             0.8888888888888888,
             "#fdca26"
            ],
            [
             1,
             "#f0f921"
            ]
           ]
          },
          "colorway": [
           "#636efa",
           "#EF553B",
           "#00cc96",
           "#ab63fa",
           "#FFA15A",
           "#19d3f3",
           "#FF6692",
           "#B6E880",
           "#FF97FF",
           "#FECB52"
          ],
          "font": {
           "color": "#f2f5fa"
          },
          "geo": {
           "bgcolor": "rgb(17,17,17)",
           "lakecolor": "rgb(17,17,17)",
           "landcolor": "rgb(17,17,17)",
           "showlakes": true,
           "showland": true,
           "subunitcolor": "#506784"
          },
          "hoverlabel": {
           "align": "left"
          },
          "hovermode": "closest",
          "mapbox": {
           "style": "dark"
          },
          "paper_bgcolor": "rgb(17,17,17)",
          "plot_bgcolor": "rgb(17,17,17)",
          "polar": {
           "angularaxis": {
            "gridcolor": "#506784",
            "linecolor": "#506784",
            "ticks": ""
           },
           "bgcolor": "rgb(17,17,17)",
           "radialaxis": {
            "gridcolor": "#506784",
            "linecolor": "#506784",
            "ticks": ""
           }
          },
          "scene": {
           "xaxis": {
            "backgroundcolor": "rgb(17,17,17)",
            "gridcolor": "#506784",
            "gridwidth": 2,
            "linecolor": "#506784",
            "showbackground": true,
            "ticks": "",
            "zerolinecolor": "#C8D4E3"
           },
           "yaxis": {
            "backgroundcolor": "rgb(17,17,17)",
            "gridcolor": "#506784",
            "gridwidth": 2,
            "linecolor": "#506784",
            "showbackground": true,
            "ticks": "",
            "zerolinecolor": "#C8D4E3"
           },
           "zaxis": {
            "backgroundcolor": "rgb(17,17,17)",
            "gridcolor": "#506784",
            "gridwidth": 2,
            "linecolor": "#506784",
            "showbackground": true,
            "ticks": "",
            "zerolinecolor": "#C8D4E3"
           }
          },
          "shapedefaults": {
           "line": {
            "color": "#f2f5fa"
           }
          },
          "sliderdefaults": {
           "bgcolor": "#C8D4E3",
           "bordercolor": "rgb(17,17,17)",
           "borderwidth": 1,
           "tickwidth": 0
          },
          "ternary": {
           "aaxis": {
            "gridcolor": "#506784",
            "linecolor": "#506784",
            "ticks": ""
           },
           "baxis": {
            "gridcolor": "#506784",
            "linecolor": "#506784",
            "ticks": ""
           },
           "bgcolor": "rgb(17,17,17)",
           "caxis": {
            "gridcolor": "#506784",
            "linecolor": "#506784",
            "ticks": ""
           }
          },
          "title": {
           "x": 0.05
          },
          "updatemenudefaults": {
           "bgcolor": "#506784",
           "borderwidth": 0
          },
          "xaxis": {
           "automargin": true,
           "gridcolor": "#283442",
           "linecolor": "#506784",
           "ticks": "",
           "zerolinecolor": "#283442",
           "zerolinewidth": 2
          },
          "yaxis": {
           "automargin": true,
           "gridcolor": "#283442",
           "linecolor": "#506784",
           "ticks": "",
           "zerolinecolor": "#283442",
           "zerolinewidth": 2
          }
         }
        },
        "title": {
         "font": {
          "color": "Cyan",
          "size": 14
         },
         "text": "<b>COVID19 RECOVERY RATE OF AFRICAN COUNTRIES/TERRITORIES: October 06, 2020</b>",
         "x": 0.5,
         "xanchor": "center",
         "y": 0.93,
         "yanchor": "top"
        },
        "width": 1000,
        "xaxis": {
         "title": {
          "font": {
           "color": "#BDBDBD",
           "size": 18
          },
          "text": "<b>Recovery Rate(%)</b>"
         }
        },
        "yaxis": {
         "tickprefix": "      ",
         "title": {
          "font": {
           "color": "#BDBDBD",
           "size": 18
          },
          "text": "<b>Country</b>"
         }
        }
       }
      },
      "text/html": [
       "<div>\n",
       "        \n",
       "        \n",
       "            <div id=\"35115b68-3219-4feb-8038-488403f8ce79\" class=\"plotly-graph-div\" style=\"height:1000px; width:1000px;\"></div>\n",
       "            <script type=\"text/javascript\">\n",
       "                require([\"plotly\"], function(Plotly) {\n",
       "                    window.PLOTLYENV=window.PLOTLYENV || {};\n",
       "                    \n",
       "                if (document.getElementById(\"35115b68-3219-4feb-8038-488403f8ce79\")) {\n",
       "                    Plotly.newPlot(\n",
       "                        '35115b68-3219-4feb-8038-488403f8ce79',\n",
       "                        [{\"marker\": {\"color\": \"LimeGreen\"}, \"name\": \"Afria\", \"orientation\": \"h\", \"text\": [22.64, 26.29, 35.95, 39.45, 43.7, 45.38, 47.18, 49.54, 55.02, 58.26, 60.09, 61.8, 65.59, 66.61, 67.65, 69.04, 70.16, 72.45, 74.96, 75.1, 76.16, 76.38, 77.63, 78.06, 78.49, 80.37, 81.36, 82.34, 83.71, 84.05, 85.44, 86.11, 86.41, 87.0, 89.95, 90.28, 90.38, 91.58, 91.83, 92.34, 92.36, 92.92, 93.68, 93.79, 94.35, 94.46, 94.57, 94.9, 95.32, 95.74, 96.62, 96.87, 97.16, 98.17, 98.36, 98.71], \"textposition\": \"outside\", \"type\": \"bar\", \"x\": [22.64, 26.29, 35.95, 39.45, 43.7, 45.38, 47.18, 49.54, 55.02, 58.26, 60.09, 61.8, 65.59, 66.61, 67.65, 69.04, 70.16, 72.45, 74.96, 75.1, 76.16, 76.38, 77.63, 78.06, 78.49, 80.37, 81.36, 82.34, 83.71, 84.05, 85.44, 86.11, 86.41, 87.0, 89.95, 90.28, 90.38, 91.58, 91.83, 92.34, 92.36, 92.92, 93.68, 93.79, 94.35, 94.46, 94.57, 94.9, 95.32, 95.74, 96.62, 96.87, 97.16, 98.17, 98.36, 98.71], \"y\": [\"Tunisia\", \"Botswana\", \"Tanzania\", \"CAR\", \"Ethiopia\", \"Angola\", \"South Sudan\", \"Sudan\", \"Lesotho\", \"Libya\", \"Uganda\", \"Gambia\", \"Burkina Faso\", \"Rwanda\", \"Mozambique\", \"Kenya\", \"Algeria\", \"Guinea-Bissau\", \"Togo\", \"Sierra Leone\", \"Mayotte\", \"Congo\", \"R\\u00e9union\", \"Mali\", \"Malawi\", \"Somalia\", \"Zimbabwe\", \"Namibia\", \"Benin\", \"Morocco\", \"Senegal\", \"Nigeria\", \"Cabo Verde\", \"Chad\", \"Eritrea\", \"South Africa\", \"Mauritius\", \"Liberia\", \"Burundi\", \"Eswatini\", \"Gabon\", \"Niger\", \"Guinea\", \"Egypt\", \"Zambia\", \"Cameroon\", \"Madagascar\", \"DRC\", \"Comoros\", \"Mauritania\", \"Seychelles\", \"Equatorial Guinea\", \"Sao Tome and Principe\", \"Ivory Coast\", \"Ghana\", \"Djibouti\"]}],\n",
       "                        {\"autosize\": false, \"height\": 1000, \"template\": {\"data\": {\"bar\": [{\"error_x\": {\"color\": \"#f2f5fa\"}, \"error_y\": {\"color\": \"#f2f5fa\"}, \"marker\": {\"line\": {\"color\": \"rgb(17,17,17)\", \"width\": 0.5}}, \"type\": \"bar\"}], \"barpolar\": [{\"marker\": {\"line\": {\"color\": \"rgb(17,17,17)\", \"width\": 0.5}}, \"type\": \"barpolar\"}], \"carpet\": [{\"aaxis\": {\"endlinecolor\": \"#A2B1C6\", \"gridcolor\": \"#506784\", \"linecolor\": \"#506784\", \"minorgridcolor\": \"#506784\", \"startlinecolor\": \"#A2B1C6\"}, \"baxis\": {\"endlinecolor\": \"#A2B1C6\", \"gridcolor\": \"#506784\", \"linecolor\": \"#506784\", \"minorgridcolor\": \"#506784\", \"startlinecolor\": \"#A2B1C6\"}, \"type\": \"carpet\"}], \"choropleth\": [{\"colorbar\": {\"outlinewidth\": 0, \"ticks\": \"\"}, \"type\": \"choropleth\"}], \"contour\": [{\"colorbar\": {\"outlinewidth\": 0, \"ticks\": \"\"}, \"colorscale\": [[0.0, \"#0d0887\"], [0.1111111111111111, \"#46039f\"], [0.2222222222222222, \"#7201a8\"], [0.3333333333333333, \"#9c179e\"], [0.4444444444444444, \"#bd3786\"], [0.5555555555555556, \"#d8576b\"], [0.6666666666666666, \"#ed7953\"], [0.7777777777777778, \"#fb9f3a\"], [0.8888888888888888, \"#fdca26\"], [1.0, \"#f0f921\"]], \"type\": \"contour\"}], \"contourcarpet\": [{\"colorbar\": {\"outlinewidth\": 0, \"ticks\": \"\"}, \"type\": \"contourcarpet\"}], \"heatmap\": [{\"colorbar\": {\"outlinewidth\": 0, \"ticks\": \"\"}, \"colorscale\": [[0.0, \"#0d0887\"], [0.1111111111111111, \"#46039f\"], [0.2222222222222222, \"#7201a8\"], [0.3333333333333333, \"#9c179e\"], [0.4444444444444444, \"#bd3786\"], [0.5555555555555556, \"#d8576b\"], [0.6666666666666666, \"#ed7953\"], [0.7777777777777778, \"#fb9f3a\"], [0.8888888888888888, \"#fdca26\"], [1.0, \"#f0f921\"]], \"type\": \"heatmap\"}], \"heatmapgl\": [{\"colorbar\": {\"outlinewidth\": 0, \"ticks\": \"\"}, \"colorscale\": [[0.0, \"#0d0887\"], [0.1111111111111111, \"#46039f\"], [0.2222222222222222, \"#7201a8\"], [0.3333333333333333, \"#9c179e\"], [0.4444444444444444, \"#bd3786\"], [0.5555555555555556, \"#d8576b\"], [0.6666666666666666, \"#ed7953\"], [0.7777777777777778, \"#fb9f3a\"], [0.8888888888888888, \"#fdca26\"], [1.0, \"#f0f921\"]], \"type\": \"heatmapgl\"}], \"histogram\": [{\"marker\": {\"colorbar\": {\"outlinewidth\": 0, \"ticks\": \"\"}}, \"type\": \"histogram\"}], \"histogram2d\": [{\"colorbar\": {\"outlinewidth\": 0, \"ticks\": \"\"}, \"colorscale\": [[0.0, \"#0d0887\"], [0.1111111111111111, \"#46039f\"], [0.2222222222222222, \"#7201a8\"], [0.3333333333333333, \"#9c179e\"], [0.4444444444444444, \"#bd3786\"], [0.5555555555555556, \"#d8576b\"], [0.6666666666666666, \"#ed7953\"], [0.7777777777777778, \"#fb9f3a\"], [0.8888888888888888, \"#fdca26\"], [1.0, \"#f0f921\"]], \"type\": \"histogram2d\"}], \"histogram2dcontour\": [{\"colorbar\": {\"outlinewidth\": 0, \"ticks\": \"\"}, \"colorscale\": [[0.0, \"#0d0887\"], [0.1111111111111111, \"#46039f\"], [0.2222222222222222, \"#7201a8\"], [0.3333333333333333, \"#9c179e\"], [0.4444444444444444, \"#bd3786\"], [0.5555555555555556, \"#d8576b\"], [0.6666666666666666, \"#ed7953\"], [0.7777777777777778, \"#fb9f3a\"], [0.8888888888888888, \"#fdca26\"], [1.0, \"#f0f921\"]], \"type\": \"histogram2dcontour\"}], \"mesh3d\": [{\"colorbar\": {\"outlinewidth\": 0, \"ticks\": \"\"}, \"type\": \"mesh3d\"}], \"parcoords\": [{\"line\": {\"colorbar\": {\"outlinewidth\": 0, \"ticks\": \"\"}}, \"type\": \"parcoords\"}], \"scatter\": [{\"marker\": {\"line\": {\"color\": \"#283442\"}}, \"type\": \"scatter\"}], \"scatter3d\": [{\"line\": {\"colorbar\": {\"outlinewidth\": 0, \"ticks\": \"\"}}, \"marker\": {\"colorbar\": {\"outlinewidth\": 0, \"ticks\": \"\"}}, \"type\": \"scatter3d\"}], \"scattercarpet\": [{\"marker\": {\"colorbar\": {\"outlinewidth\": 0, \"ticks\": \"\"}}, \"type\": \"scattercarpet\"}], \"scattergeo\": [{\"marker\": {\"colorbar\": {\"outlinewidth\": 0, \"ticks\": \"\"}}, \"type\": \"scattergeo\"}], \"scattergl\": [{\"marker\": {\"line\": {\"color\": \"#283442\"}}, \"type\": \"scattergl\"}], \"scattermapbox\": [{\"marker\": {\"colorbar\": {\"outlinewidth\": 0, \"ticks\": \"\"}}, \"type\": \"scattermapbox\"}], \"scatterpolar\": [{\"marker\": {\"colorbar\": {\"outlinewidth\": 0, \"ticks\": \"\"}}, \"type\": \"scatterpolar\"}], \"scatterpolargl\": [{\"marker\": {\"colorbar\": {\"outlinewidth\": 0, \"ticks\": \"\"}}, \"type\": \"scatterpolargl\"}], \"scatterternary\": [{\"marker\": {\"colorbar\": {\"outlinewidth\": 0, \"ticks\": \"\"}}, \"type\": \"scatterternary\"}], \"surface\": [{\"colorbar\": {\"outlinewidth\": 0, \"ticks\": \"\"}, \"colorscale\": [[0.0, \"#0d0887\"], [0.1111111111111111, \"#46039f\"], [0.2222222222222222, \"#7201a8\"], [0.3333333333333333, \"#9c179e\"], [0.4444444444444444, \"#bd3786\"], [0.5555555555555556, \"#d8576b\"], [0.6666666666666666, \"#ed7953\"], [0.7777777777777778, \"#fb9f3a\"], [0.8888888888888888, \"#fdca26\"], [1.0, \"#f0f921\"]], \"type\": \"surface\"}], \"table\": [{\"cells\": {\"fill\": {\"color\": \"#506784\"}, \"line\": {\"color\": \"rgb(17,17,17)\"}}, \"header\": {\"fill\": {\"color\": \"#2a3f5f\"}, \"line\": {\"color\": \"rgb(17,17,17)\"}}, \"type\": \"table\"}]}, \"layout\": {\"annotationdefaults\": {\"arrowcolor\": \"#f2f5fa\", \"arrowhead\": 0, \"arrowwidth\": 1}, \"colorscale\": {\"diverging\": [[0, \"#8e0152\"], [0.1, \"#c51b7d\"], [0.2, \"#de77ae\"], [0.3, \"#f1b6da\"], [0.4, \"#fde0ef\"], [0.5, \"#f7f7f7\"], [0.6, \"#e6f5d0\"], [0.7, \"#b8e186\"], [0.8, \"#7fbc41\"], [0.9, \"#4d9221\"], [1, \"#276419\"]], \"sequential\": [[0.0, \"#0d0887\"], [0.1111111111111111, \"#46039f\"], [0.2222222222222222, \"#7201a8\"], [0.3333333333333333, \"#9c179e\"], [0.4444444444444444, \"#bd3786\"], [0.5555555555555556, \"#d8576b\"], [0.6666666666666666, \"#ed7953\"], [0.7777777777777778, \"#fb9f3a\"], [0.8888888888888888, \"#fdca26\"], [1.0, \"#f0f921\"]], \"sequentialminus\": [[0.0, \"#0d0887\"], [0.1111111111111111, \"#46039f\"], [0.2222222222222222, \"#7201a8\"], [0.3333333333333333, \"#9c179e\"], [0.4444444444444444, \"#bd3786\"], [0.5555555555555556, \"#d8576b\"], [0.6666666666666666, \"#ed7953\"], [0.7777777777777778, \"#fb9f3a\"], [0.8888888888888888, \"#fdca26\"], [1.0, \"#f0f921\"]]}, \"colorway\": [\"#636efa\", \"#EF553B\", \"#00cc96\", \"#ab63fa\", \"#FFA15A\", \"#19d3f3\", \"#FF6692\", \"#B6E880\", \"#FF97FF\", \"#FECB52\"], \"font\": {\"color\": \"#f2f5fa\"}, \"geo\": {\"bgcolor\": \"rgb(17,17,17)\", \"lakecolor\": \"rgb(17,17,17)\", \"landcolor\": \"rgb(17,17,17)\", \"showlakes\": true, \"showland\": true, \"subunitcolor\": \"#506784\"}, \"hoverlabel\": {\"align\": \"left\"}, \"hovermode\": \"closest\", \"mapbox\": {\"style\": \"dark\"}, \"paper_bgcolor\": \"rgb(17,17,17)\", \"plot_bgcolor\": \"rgb(17,17,17)\", \"polar\": {\"angularaxis\": {\"gridcolor\": \"#506784\", \"linecolor\": \"#506784\", \"ticks\": \"\"}, \"bgcolor\": \"rgb(17,17,17)\", \"radialaxis\": {\"gridcolor\": \"#506784\", \"linecolor\": \"#506784\", \"ticks\": \"\"}}, \"scene\": {\"xaxis\": {\"backgroundcolor\": \"rgb(17,17,17)\", \"gridcolor\": \"#506784\", \"gridwidth\": 2, \"linecolor\": \"#506784\", \"showbackground\": true, \"ticks\": \"\", \"zerolinecolor\": \"#C8D4E3\"}, \"yaxis\": {\"backgroundcolor\": \"rgb(17,17,17)\", \"gridcolor\": \"#506784\", \"gridwidth\": 2, \"linecolor\": \"#506784\", \"showbackground\": true, \"ticks\": \"\", \"zerolinecolor\": \"#C8D4E3\"}, \"zaxis\": {\"backgroundcolor\": \"rgb(17,17,17)\", \"gridcolor\": \"#506784\", \"gridwidth\": 2, \"linecolor\": \"#506784\", \"showbackground\": true, \"ticks\": \"\", \"zerolinecolor\": \"#C8D4E3\"}}, \"shapedefaults\": {\"line\": {\"color\": \"#f2f5fa\"}}, \"sliderdefaults\": {\"bgcolor\": \"#C8D4E3\", \"bordercolor\": \"rgb(17,17,17)\", \"borderwidth\": 1, \"tickwidth\": 0}, \"ternary\": {\"aaxis\": {\"gridcolor\": \"#506784\", \"linecolor\": \"#506784\", \"ticks\": \"\"}, \"baxis\": {\"gridcolor\": \"#506784\", \"linecolor\": \"#506784\", \"ticks\": \"\"}, \"bgcolor\": \"rgb(17,17,17)\", \"caxis\": {\"gridcolor\": \"#506784\", \"linecolor\": \"#506784\", \"ticks\": \"\"}}, \"title\": {\"x\": 0.05}, \"updatemenudefaults\": {\"bgcolor\": \"#506784\", \"borderwidth\": 0}, \"xaxis\": {\"automargin\": true, \"gridcolor\": \"#283442\", \"linecolor\": \"#506784\", \"ticks\": \"\", \"zerolinecolor\": \"#283442\", \"zerolinewidth\": 2}, \"yaxis\": {\"automargin\": true, \"gridcolor\": \"#283442\", \"linecolor\": \"#506784\", \"ticks\": \"\", \"zerolinecolor\": \"#283442\", \"zerolinewidth\": 2}}}, \"title\": {\"font\": {\"color\": \"Cyan\", \"size\": 14}, \"text\": \"<b>COVID19 RECOVERY RATE OF AFRICAN COUNTRIES/TERRITORIES: October 06, 2020</b>\", \"x\": 0.5, \"xanchor\": \"center\", \"y\": 0.93, \"yanchor\": \"top\"}, \"width\": 1000, \"xaxis\": {\"title\": {\"font\": {\"color\": \"#BDBDBD\", \"size\": 18}, \"text\": \"<b>Recovery Rate(%)</b>\"}}, \"yaxis\": {\"tickprefix\": \"      \", \"title\": {\"font\": {\"color\": \"#BDBDBD\", \"size\": 18}, \"text\": \"<b>Country</b>\"}}},\n",
       "                        {\"responsive\": true}\n",
       "                    ).then(function(){\n",
       "                            \n",
       "var gd = document.getElementById('35115b68-3219-4feb-8038-488403f8ce79');\n",
       "var x = new MutationObserver(function (mutations, observer) {{\n",
       "        var display = window.getComputedStyle(gd).display;\n",
       "        if (!display || display === 'none') {{\n",
       "            console.log([gd, 'removed!']);\n",
       "            Plotly.purge(gd);\n",
       "            observer.disconnect();\n",
       "        }}\n",
       "}});\n",
       "\n",
       "// Listen for the removal of the full notebook cells\n",
       "var notebookContainer = gd.closest('#notebook-container');\n",
       "if (notebookContainer) {{\n",
       "    x.observe(notebookContainer, {childList: true});\n",
       "}}\n",
       "\n",
       "// Listen for the clearing of the current output cell\n",
       "var outputEl = gd.closest('.output');\n",
       "if (outputEl) {{\n",
       "    x.observe(outputEl, {childList: true});\n",
       "}}\n",
       "\n",
       "                        })\n",
       "                };\n",
       "                });\n",
       "            </script>\n",
       "        </div>"
      ]
     },
     "metadata": {},
     "output_type": "display_data"
    }
   ],
   "source": [
    "fig = go.Figure()\n",
    "\n",
    "fig.add_trace(go.Bar(y = african_confirmed100['Country_Other'][::-1],x=african_confirmed100['RecoveryRate'][::-1],\n",
    "                     text=african_confirmed100['RecoveryRate'][::-1],textposition='outside',name = \"Afria\",marker_color='LimeGreen',orientation='h',\n",
    "#                   \n",
    "))\n",
    "fig.update_layout(\n",
    "    template='plotly_dark',\n",
    "    title={\n",
    "        'text': '<b>COVID19 RECOVERY RATE OF AFRICAN COUNTRIES/TERRITORIES: '  + date_string +'</b>',\n",
    "        'y':0.93,\n",
    "        'x':0.5,\n",
    "        'xanchor': 'center',\n",
    "        'yanchor': 'top',\n",
    "        'font_color':'Cyan',\n",
    "        'font_size':14},\n",
    "    xaxis=dict(title='<b>Recovery Rate(%)</b>',titlefont_size=18, titlefont=dict(color='#BDBDBD')),\n",
    "    yaxis=dict(title='<b>Country</b>',titlefont_size=18, tickprefix=\"      \", titlefont=dict(color='#BDBDBD')),\n",
    "    autosize=False,\n",
    "    width=1000,\n",
    "    height=1000,     \n",
    ")\n",
    "\n",
    "fig.show()\n"
   ]
  },
  {
   "cell_type": "markdown",
   "metadata": {},
   "source": [
    "[Return to top](#top)\n",
    "##  Mortality Rate of Countries with up to 100 Confirmed Cases"
   ]
  },
  {
   "cell_type": "code",
   "execution_count": 62,
   "metadata": {},
   "outputs": [
    {
     "data": {
      "text/html": [
       "<div>\n",
       "<style scoped>\n",
       "    .dataframe tbody tr th:only-of-type {\n",
       "        vertical-align: middle;\n",
       "    }\n",
       "\n",
       "    .dataframe tbody tr th {\n",
       "        vertical-align: top;\n",
       "    }\n",
       "\n",
       "    .dataframe thead th {\n",
       "        text-align: right;\n",
       "    }\n",
       "</style>\n",
       "<table border=\"1\" class=\"dataframe\">\n",
       "  <thead>\n",
       "    <tr style=\"text-align: right;\">\n",
       "      <th></th>\n",
       "      <th>Country_Other</th>\n",
       "      <th>Total_Cases</th>\n",
       "      <th>Total_Deaths</th>\n",
       "    </tr>\n",
       "  </thead>\n",
       "  <tbody>\n",
       "    <tr>\n",
       "      <td>0</td>\n",
       "      <td>South Africa</td>\n",
       "      <td>683242</td>\n",
       "      <td>17103</td>\n",
       "    </tr>\n",
       "    <tr>\n",
       "      <td>1</td>\n",
       "      <td>Morocco</td>\n",
       "      <td>137248</td>\n",
       "      <td>2410</td>\n",
       "    </tr>\n",
       "    <tr>\n",
       "      <td>2</td>\n",
       "      <td>Egypt</td>\n",
       "      <td>103902</td>\n",
       "      <td>6001</td>\n",
       "    </tr>\n",
       "  </tbody>\n",
       "</table>\n",
       "</div>"
      ],
      "text/plain": [
       "  Country_Other  Total_Cases  Total_Deaths\n",
       "0  South Africa       683242         17103\n",
       "1       Morocco       137248          2410\n",
       "2         Egypt       103902          6001"
      ]
     },
     "execution_count": 62,
     "metadata": {},
     "output_type": "execute_result"
    }
   ],
   "source": [
    "african_mortality_rate =  pd.DataFrame()\n",
    "african_mortality_rate['Country_Other'] = african_countries_inview['Country_Other']\n",
    "african_mortality_rate['Total_Cases'] = african_countries_inview['Total_Cases']\n",
    "african_mortality_rate['Total_Deaths'] = african_countries_inview['Total_Deaths']\n",
    "african_mortality_rate.head(3)"
   ]
  },
  {
   "cell_type": "code",
   "execution_count": 63,
   "metadata": {},
   "outputs": [
    {
     "data": {
      "text/html": [
       "<div>\n",
       "<style scoped>\n",
       "    .dataframe tbody tr th:only-of-type {\n",
       "        vertical-align: middle;\n",
       "    }\n",
       "\n",
       "    .dataframe tbody tr th {\n",
       "        vertical-align: top;\n",
       "    }\n",
       "\n",
       "    .dataframe thead th {\n",
       "        text-align: right;\n",
       "    }\n",
       "</style>\n",
       "<table border=\"1\" class=\"dataframe\">\n",
       "  <thead>\n",
       "    <tr style=\"text-align: right;\">\n",
       "      <th></th>\n",
       "      <th>Country_Other</th>\n",
       "      <th>Total_Cases</th>\n",
       "      <th>Total_Deaths</th>\n",
       "      <th>Mortality_Rate</th>\n",
       "    </tr>\n",
       "  </thead>\n",
       "  <tbody>\n",
       "    <tr>\n",
       "      <td>0</td>\n",
       "      <td>South Africa</td>\n",
       "      <td>683242</td>\n",
       "      <td>17103</td>\n",
       "      <td>2.50</td>\n",
       "    </tr>\n",
       "    <tr>\n",
       "      <td>1</td>\n",
       "      <td>Morocco</td>\n",
       "      <td>137248</td>\n",
       "      <td>2410</td>\n",
       "      <td>1.76</td>\n",
       "    </tr>\n",
       "    <tr>\n",
       "      <td>2</td>\n",
       "      <td>Egypt</td>\n",
       "      <td>103902</td>\n",
       "      <td>6001</td>\n",
       "      <td>5.78</td>\n",
       "    </tr>\n",
       "  </tbody>\n",
       "</table>\n",
       "</div>"
      ],
      "text/plain": [
       "  Country_Other  Total_Cases  Total_Deaths  Mortality_Rate\n",
       "0  South Africa       683242         17103            2.50\n",
       "1       Morocco       137248          2410            1.76\n",
       "2         Egypt       103902          6001            5.78"
      ]
     },
     "execution_count": 63,
     "metadata": {},
     "output_type": "execute_result"
    }
   ],
   "source": [
    "african_mortality_rate['Mortality_Rate'] = round((african_countries_inview['Total_Deaths']/african_countries_inview['Total_Cases'])*100,2)\n",
    "\n",
    "african_mortality_rate.head(3)"
   ]
  },
  {
   "cell_type": "code",
   "execution_count": 64,
   "metadata": {},
   "outputs": [
    {
     "data": {
      "text/html": [
       "<div>\n",
       "<style scoped>\n",
       "    .dataframe tbody tr th:only-of-type {\n",
       "        vertical-align: middle;\n",
       "    }\n",
       "\n",
       "    .dataframe tbody tr th {\n",
       "        vertical-align: top;\n",
       "    }\n",
       "\n",
       "    .dataframe thead th {\n",
       "        text-align: right;\n",
       "    }\n",
       "</style>\n",
       "<table border=\"1\" class=\"dataframe\">\n",
       "  <thead>\n",
       "    <tr style=\"text-align: right;\">\n",
       "      <th></th>\n",
       "      <th>Country_Other</th>\n",
       "      <th>Total_Cases</th>\n",
       "      <th>Total_Deaths</th>\n",
       "      <th>Mortality_Rate</th>\n",
       "    </tr>\n",
       "  </thead>\n",
       "  <tbody>\n",
       "    <tr>\n",
       "      <td>0</td>\n",
       "      <td>Chad</td>\n",
       "      <td>1238</td>\n",
       "      <td>88</td>\n",
       "      <td>7.11</td>\n",
       "    </tr>\n",
       "    <tr>\n",
       "      <td>1</td>\n",
       "      <td>Sudan</td>\n",
       "      <td>13653</td>\n",
       "      <td>836</td>\n",
       "      <td>6.12</td>\n",
       "    </tr>\n",
       "    <tr>\n",
       "      <td>2</td>\n",
       "      <td>Liberia</td>\n",
       "      <td>1354</td>\n",
       "      <td>82</td>\n",
       "      <td>6.06</td>\n",
       "    </tr>\n",
       "  </tbody>\n",
       "</table>\n",
       "</div>"
      ],
      "text/plain": [
       "  Country_Other  Total_Cases  Total_Deaths  Mortality_Rate\n",
       "0          Chad         1238            88            7.11\n",
       "1         Sudan        13653           836            6.12\n",
       "2       Liberia         1354            82            6.06"
      ]
     },
     "execution_count": 64,
     "metadata": {},
     "output_type": "execute_result"
    }
   ],
   "source": [
    "african_mortality100 = african_mortality_rate[african_mortality_rate['Total_Cases']>=100]\n",
    "african_mortality100 = african_mortality100.sort_values('Mortality_Rate', ascending=False)\n",
    "african_mortality100.reset_index(drop=True, inplace=True)\n",
    "african_mortality100.head(3)"
   ]
  },
  {
   "cell_type": "markdown",
   "metadata": {},
   "source": [
    "<a id='mortality'></a>"
   ]
  },
  {
   "cell_type": "code",
   "execution_count": 65,
   "metadata": {},
   "outputs": [
    {
     "data": {
      "application/vnd.plotly.v1+json": {
       "config": {
        "plotlyServerURL": "https://plot.ly"
       },
       "data": [
        {
         "marker": {
          "color": "Crimson"
         },
         "name": "Afria",
         "orientation": "h",
         "text": [
          0,
          0,
          0.19,
          0.37,
          0.57,
          0.6,
          0.6,
          0.61,
          0.63,
          0.65,
          0.71,
          0.92,
          1.06,
          1.07,
          1.08,
          1.12,
          1.28,
          1.41,
          1.43,
          1.44,
          1.55,
          1.56,
          1.64,
          1.64,
          1.68,
          1.74,
          1.75,
          1.76,
          1.83,
          1.87,
          1.88,
          2,
          2.01,
          2.06,
          2.15,
          2.21,
          2.32,
          2.5,
          2.53,
          2.54,
          2.6,
          2.64,
          2.69,
          2.89,
          3.11,
          3.16,
          3.24,
          3.37,
          3.69,
          4.1,
          4.13,
          5.75,
          5.78,
          6.06,
          6.12,
          7.11
         ],
         "textposition": "outside",
         "type": "bar",
         "x": [
          0,
          0,
          0.19,
          0.37,
          0.57,
          0.6,
          0.6,
          0.61,
          0.63,
          0.65,
          0.71,
          0.92,
          1.06,
          1.07,
          1.08,
          1.12,
          1.28,
          1.41,
          1.43,
          1.44,
          1.55,
          1.56,
          1.64,
          1.64,
          1.68,
          1.74,
          1.75,
          1.76,
          1.83,
          1.87,
          1.88,
          2,
          2.01,
          2.06,
          2.15,
          2.21,
          2.32,
          2.5,
          2.53,
          2.54,
          2.6,
          2.64,
          2.69,
          2.89,
          3.11,
          3.16,
          3.24,
          3.37,
          3.69,
          4.1,
          4.13,
          5.75,
          5.78,
          6.06,
          6.12,
          7.11
         ],
         "y": [
          "Seychelles",
          "Eritrea",
          "Burundi",
          "Réunion",
          "Botswana",
          "Ivory Coast",
          "Rwanda",
          "Gabon",
          "Guinea",
          "Ghana",
          "Mozambique",
          "Uganda",
          "Cabo Verde",
          "Namibia",
          "Mayotte",
          "Djibouti",
          "CAR",
          "Madagascar",
          "Comoros",
          "Tunisia",
          "Ethiopia",
          "Libya",
          "Sao Tome and Principe",
          "Equatorial Guinea",
          "Guinea-Bissau",
          "Benin",
          "Congo",
          "Morocco",
          "South Sudan",
          "Nigeria",
          "Kenya",
          "Eswatini",
          "Cameroon",
          "Senegal",
          "Mauritania",
          "Zambia",
          "Lesotho",
          "South Africa",
          "Mauritius",
          "DRC",
          "Togo",
          "Somalia",
          "Burkina Faso",
          "Zimbabwe",
          "Malawi",
          "Sierra Leone",
          "Gambia",
          "Algeria",
          "Angola",
          "Mali",
          "Tanzania",
          "Niger",
          "Egypt",
          "Liberia",
          "Sudan",
          "Chad"
         ]
        }
       ],
       "layout": {
        "autosize": false,
        "height": 1000,
        "template": {
         "data": {
          "bar": [
           {
            "error_x": {
             "color": "#f2f5fa"
            },
            "error_y": {
             "color": "#f2f5fa"
            },
            "marker": {
             "line": {
              "color": "rgb(17,17,17)",
              "width": 0.5
             }
            },
            "type": "bar"
           }
          ],
          "barpolar": [
           {
            "marker": {
             "line": {
              "color": "rgb(17,17,17)",
              "width": 0.5
             }
            },
            "type": "barpolar"
           }
          ],
          "carpet": [
           {
            "aaxis": {
             "endlinecolor": "#A2B1C6",
             "gridcolor": "#506784",
             "linecolor": "#506784",
             "minorgridcolor": "#506784",
             "startlinecolor": "#A2B1C6"
            },
            "baxis": {
             "endlinecolor": "#A2B1C6",
             "gridcolor": "#506784",
             "linecolor": "#506784",
             "minorgridcolor": "#506784",
             "startlinecolor": "#A2B1C6"
            },
            "type": "carpet"
           }
          ],
          "choropleth": [
           {
            "colorbar": {
             "outlinewidth": 0,
             "ticks": ""
            },
            "type": "choropleth"
           }
          ],
          "contour": [
           {
            "colorbar": {
             "outlinewidth": 0,
             "ticks": ""
            },
            "colorscale": [
             [
              0,
              "#0d0887"
             ],
             [
              0.1111111111111111,
              "#46039f"
             ],
             [
              0.2222222222222222,
              "#7201a8"
             ],
             [
              0.3333333333333333,
              "#9c179e"
             ],
             [
              0.4444444444444444,
              "#bd3786"
             ],
             [
              0.5555555555555556,
              "#d8576b"
             ],
             [
              0.6666666666666666,
              "#ed7953"
             ],
             [
              0.7777777777777778,
              "#fb9f3a"
             ],
             [
              0.8888888888888888,
              "#fdca26"
             ],
             [
              1,
              "#f0f921"
             ]
            ],
            "type": "contour"
           }
          ],
          "contourcarpet": [
           {
            "colorbar": {
             "outlinewidth": 0,
             "ticks": ""
            },
            "type": "contourcarpet"
           }
          ],
          "heatmap": [
           {
            "colorbar": {
             "outlinewidth": 0,
             "ticks": ""
            },
            "colorscale": [
             [
              0,
              "#0d0887"
             ],
             [
              0.1111111111111111,
              "#46039f"
             ],
             [
              0.2222222222222222,
              "#7201a8"
             ],
             [
              0.3333333333333333,
              "#9c179e"
             ],
             [
              0.4444444444444444,
              "#bd3786"
             ],
             [
              0.5555555555555556,
              "#d8576b"
             ],
             [
              0.6666666666666666,
              "#ed7953"
             ],
             [
              0.7777777777777778,
              "#fb9f3a"
             ],
             [
              0.8888888888888888,
              "#fdca26"
             ],
             [
              1,
              "#f0f921"
             ]
            ],
            "type": "heatmap"
           }
          ],
          "heatmapgl": [
           {
            "colorbar": {
             "outlinewidth": 0,
             "ticks": ""
            },
            "colorscale": [
             [
              0,
              "#0d0887"
             ],
             [
              0.1111111111111111,
              "#46039f"
             ],
             [
              0.2222222222222222,
              "#7201a8"
             ],
             [
              0.3333333333333333,
              "#9c179e"
             ],
             [
              0.4444444444444444,
              "#bd3786"
             ],
             [
              0.5555555555555556,
              "#d8576b"
             ],
             [
              0.6666666666666666,
              "#ed7953"
             ],
             [
              0.7777777777777778,
              "#fb9f3a"
             ],
             [
              0.8888888888888888,
              "#fdca26"
             ],
             [
              1,
              "#f0f921"
             ]
            ],
            "type": "heatmapgl"
           }
          ],
          "histogram": [
           {
            "marker": {
             "colorbar": {
              "outlinewidth": 0,
              "ticks": ""
             }
            },
            "type": "histogram"
           }
          ],
          "histogram2d": [
           {
            "colorbar": {
             "outlinewidth": 0,
             "ticks": ""
            },
            "colorscale": [
             [
              0,
              "#0d0887"
             ],
             [
              0.1111111111111111,
              "#46039f"
             ],
             [
              0.2222222222222222,
              "#7201a8"
             ],
             [
              0.3333333333333333,
              "#9c179e"
             ],
             [
              0.4444444444444444,
              "#bd3786"
             ],
             [
              0.5555555555555556,
              "#d8576b"
             ],
             [
              0.6666666666666666,
              "#ed7953"
             ],
             [
              0.7777777777777778,
              "#fb9f3a"
             ],
             [
              0.8888888888888888,
              "#fdca26"
             ],
             [
              1,
              "#f0f921"
             ]
            ],
            "type": "histogram2d"
           }
          ],
          "histogram2dcontour": [
           {
            "colorbar": {
             "outlinewidth": 0,
             "ticks": ""
            },
            "colorscale": [
             [
              0,
              "#0d0887"
             ],
             [
              0.1111111111111111,
              "#46039f"
             ],
             [
              0.2222222222222222,
              "#7201a8"
             ],
             [
              0.3333333333333333,
              "#9c179e"
             ],
             [
              0.4444444444444444,
              "#bd3786"
             ],
             [
              0.5555555555555556,
              "#d8576b"
             ],
             [
              0.6666666666666666,
              "#ed7953"
             ],
             [
              0.7777777777777778,
              "#fb9f3a"
             ],
             [
              0.8888888888888888,
              "#fdca26"
             ],
             [
              1,
              "#f0f921"
             ]
            ],
            "type": "histogram2dcontour"
           }
          ],
          "mesh3d": [
           {
            "colorbar": {
             "outlinewidth": 0,
             "ticks": ""
            },
            "type": "mesh3d"
           }
          ],
          "parcoords": [
           {
            "line": {
             "colorbar": {
              "outlinewidth": 0,
              "ticks": ""
             }
            },
            "type": "parcoords"
           }
          ],
          "scatter": [
           {
            "marker": {
             "line": {
              "color": "#283442"
             }
            },
            "type": "scatter"
           }
          ],
          "scatter3d": [
           {
            "line": {
             "colorbar": {
              "outlinewidth": 0,
              "ticks": ""
             }
            },
            "marker": {
             "colorbar": {
              "outlinewidth": 0,
              "ticks": ""
             }
            },
            "type": "scatter3d"
           }
          ],
          "scattercarpet": [
           {
            "marker": {
             "colorbar": {
              "outlinewidth": 0,
              "ticks": ""
             }
            },
            "type": "scattercarpet"
           }
          ],
          "scattergeo": [
           {
            "marker": {
             "colorbar": {
              "outlinewidth": 0,
              "ticks": ""
             }
            },
            "type": "scattergeo"
           }
          ],
          "scattergl": [
           {
            "marker": {
             "line": {
              "color": "#283442"
             }
            },
            "type": "scattergl"
           }
          ],
          "scattermapbox": [
           {
            "marker": {
             "colorbar": {
              "outlinewidth": 0,
              "ticks": ""
             }
            },
            "type": "scattermapbox"
           }
          ],
          "scatterpolar": [
           {
            "marker": {
             "colorbar": {
              "outlinewidth": 0,
              "ticks": ""
             }
            },
            "type": "scatterpolar"
           }
          ],
          "scatterpolargl": [
           {
            "marker": {
             "colorbar": {
              "outlinewidth": 0,
              "ticks": ""
             }
            },
            "type": "scatterpolargl"
           }
          ],
          "scatterternary": [
           {
            "marker": {
             "colorbar": {
              "outlinewidth": 0,
              "ticks": ""
             }
            },
            "type": "scatterternary"
           }
          ],
          "surface": [
           {
            "colorbar": {
             "outlinewidth": 0,
             "ticks": ""
            },
            "colorscale": [
             [
              0,
              "#0d0887"
             ],
             [
              0.1111111111111111,
              "#46039f"
             ],
             [
              0.2222222222222222,
              "#7201a8"
             ],
             [
              0.3333333333333333,
              "#9c179e"
             ],
             [
              0.4444444444444444,
              "#bd3786"
             ],
             [
              0.5555555555555556,
              "#d8576b"
             ],
             [
              0.6666666666666666,
              "#ed7953"
             ],
             [
              0.7777777777777778,
              "#fb9f3a"
             ],
             [
              0.8888888888888888,
              "#fdca26"
             ],
             [
              1,
              "#f0f921"
             ]
            ],
            "type": "surface"
           }
          ],
          "table": [
           {
            "cells": {
             "fill": {
              "color": "#506784"
             },
             "line": {
              "color": "rgb(17,17,17)"
             }
            },
            "header": {
             "fill": {
              "color": "#2a3f5f"
             },
             "line": {
              "color": "rgb(17,17,17)"
             }
            },
            "type": "table"
           }
          ]
         },
         "layout": {
          "annotationdefaults": {
           "arrowcolor": "#f2f5fa",
           "arrowhead": 0,
           "arrowwidth": 1
          },
          "colorscale": {
           "diverging": [
            [
             0,
             "#8e0152"
            ],
            [
             0.1,
             "#c51b7d"
            ],
            [
             0.2,
             "#de77ae"
            ],
            [
             0.3,
             "#f1b6da"
            ],
            [
             0.4,
             "#fde0ef"
            ],
            [
             0.5,
             "#f7f7f7"
            ],
            [
             0.6,
             "#e6f5d0"
            ],
            [
             0.7,
             "#b8e186"
            ],
            [
             0.8,
             "#7fbc41"
            ],
            [
             0.9,
             "#4d9221"
            ],
            [
             1,
             "#276419"
            ]
           ],
           "sequential": [
            [
             0,
             "#0d0887"
            ],
            [
             0.1111111111111111,
             "#46039f"
            ],
            [
             0.2222222222222222,
             "#7201a8"
            ],
            [
             0.3333333333333333,
             "#9c179e"
            ],
            [
             0.4444444444444444,
             "#bd3786"
            ],
            [
             0.5555555555555556,
             "#d8576b"
            ],
            [
             0.6666666666666666,
             "#ed7953"
            ],
            [
             0.7777777777777778,
             "#fb9f3a"
            ],
            [
             0.8888888888888888,
             "#fdca26"
            ],
            [
             1,
             "#f0f921"
            ]
           ],
           "sequentialminus": [
            [
             0,
             "#0d0887"
            ],
            [
             0.1111111111111111,
             "#46039f"
            ],
            [
             0.2222222222222222,
             "#7201a8"
            ],
            [
             0.3333333333333333,
             "#9c179e"
            ],
            [
             0.4444444444444444,
             "#bd3786"
            ],
            [
             0.5555555555555556,
             "#d8576b"
            ],
            [
             0.6666666666666666,
             "#ed7953"
            ],
            [
             0.7777777777777778,
             "#fb9f3a"
            ],
            [
             0.8888888888888888,
             "#fdca26"
            ],
            [
             1,
             "#f0f921"
            ]
           ]
          },
          "colorway": [
           "#636efa",
           "#EF553B",
           "#00cc96",
           "#ab63fa",
           "#FFA15A",
           "#19d3f3",
           "#FF6692",
           "#B6E880",
           "#FF97FF",
           "#FECB52"
          ],
          "font": {
           "color": "#f2f5fa"
          },
          "geo": {
           "bgcolor": "rgb(17,17,17)",
           "lakecolor": "rgb(17,17,17)",
           "landcolor": "rgb(17,17,17)",
           "showlakes": true,
           "showland": true,
           "subunitcolor": "#506784"
          },
          "hoverlabel": {
           "align": "left"
          },
          "hovermode": "closest",
          "mapbox": {
           "style": "dark"
          },
          "paper_bgcolor": "rgb(17,17,17)",
          "plot_bgcolor": "rgb(17,17,17)",
          "polar": {
           "angularaxis": {
            "gridcolor": "#506784",
            "linecolor": "#506784",
            "ticks": ""
           },
           "bgcolor": "rgb(17,17,17)",
           "radialaxis": {
            "gridcolor": "#506784",
            "linecolor": "#506784",
            "ticks": ""
           }
          },
          "scene": {
           "xaxis": {
            "backgroundcolor": "rgb(17,17,17)",
            "gridcolor": "#506784",
            "gridwidth": 2,
            "linecolor": "#506784",
            "showbackground": true,
            "ticks": "",
            "zerolinecolor": "#C8D4E3"
           },
           "yaxis": {
            "backgroundcolor": "rgb(17,17,17)",
            "gridcolor": "#506784",
            "gridwidth": 2,
            "linecolor": "#506784",
            "showbackground": true,
            "ticks": "",
            "zerolinecolor": "#C8D4E3"
           },
           "zaxis": {
            "backgroundcolor": "rgb(17,17,17)",
            "gridcolor": "#506784",
            "gridwidth": 2,
            "linecolor": "#506784",
            "showbackground": true,
            "ticks": "",
            "zerolinecolor": "#C8D4E3"
           }
          },
          "shapedefaults": {
           "line": {
            "color": "#f2f5fa"
           }
          },
          "sliderdefaults": {
           "bgcolor": "#C8D4E3",
           "bordercolor": "rgb(17,17,17)",
           "borderwidth": 1,
           "tickwidth": 0
          },
          "ternary": {
           "aaxis": {
            "gridcolor": "#506784",
            "linecolor": "#506784",
            "ticks": ""
           },
           "baxis": {
            "gridcolor": "#506784",
            "linecolor": "#506784",
            "ticks": ""
           },
           "bgcolor": "rgb(17,17,17)",
           "caxis": {
            "gridcolor": "#506784",
            "linecolor": "#506784",
            "ticks": ""
           }
          },
          "title": {
           "x": 0.05
          },
          "updatemenudefaults": {
           "bgcolor": "#506784",
           "borderwidth": 0
          },
          "xaxis": {
           "automargin": true,
           "gridcolor": "#283442",
           "linecolor": "#506784",
           "ticks": "",
           "zerolinecolor": "#283442",
           "zerolinewidth": 2
          },
          "yaxis": {
           "automargin": true,
           "gridcolor": "#283442",
           "linecolor": "#506784",
           "ticks": "",
           "zerolinecolor": "#283442",
           "zerolinewidth": 2
          }
         }
        },
        "title": {
         "font": {
          "color": "Cyan",
          "size": 12
         },
         "text": "<b>COVID19 MORTALITY RATE OF AFRICAN COUNTRIES/TERRITORIES: October 06, 2020</b>",
         "x": 0.55,
         "xanchor": "center",
         "y": 0.93,
         "yanchor": "top"
        },
        "width": 800,
        "xaxis": {
         "title": {
          "font": {
           "color": "#BDBDBD",
           "size": 18
          },
          "text": "<b>Mortality Rate(%)</b>"
         }
        },
        "yaxis": {
         "tickprefix": "      ",
         "title": {
          "font": {
           "color": "#BDBDBD",
           "size": 18
          },
          "text": "<b>Country</b>"
         }
        }
       }
      },
      "text/html": [
       "<div>\n",
       "        \n",
       "        \n",
       "            <div id=\"fa17812b-a5de-443a-8b00-4a7fef9d2add\" class=\"plotly-graph-div\" style=\"height:1000px; width:800px;\"></div>\n",
       "            <script type=\"text/javascript\">\n",
       "                require([\"plotly\"], function(Plotly) {\n",
       "                    window.PLOTLYENV=window.PLOTLYENV || {};\n",
       "                    \n",
       "                if (document.getElementById(\"fa17812b-a5de-443a-8b00-4a7fef9d2add\")) {\n",
       "                    Plotly.newPlot(\n",
       "                        'fa17812b-a5de-443a-8b00-4a7fef9d2add',\n",
       "                        [{\"marker\": {\"color\": \"Crimson\"}, \"name\": \"Afria\", \"orientation\": \"h\", \"text\": [0.0, 0.0, 0.19, 0.37, 0.57, 0.6, 0.6, 0.61, 0.63, 0.65, 0.71, 0.92, 1.06, 1.07, 1.08, 1.12, 1.28, 1.41, 1.43, 1.44, 1.55, 1.56, 1.64, 1.64, 1.68, 1.74, 1.75, 1.76, 1.83, 1.87, 1.88, 2.0, 2.01, 2.06, 2.15, 2.21, 2.32, 2.5, 2.53, 2.54, 2.6, 2.64, 2.69, 2.89, 3.11, 3.16, 3.24, 3.37, 3.69, 4.1, 4.13, 5.75, 5.78, 6.06, 6.12, 7.11], \"textposition\": \"outside\", \"type\": \"bar\", \"x\": [0.0, 0.0, 0.19, 0.37, 0.57, 0.6, 0.6, 0.61, 0.63, 0.65, 0.71, 0.92, 1.06, 1.07, 1.08, 1.12, 1.28, 1.41, 1.43, 1.44, 1.55, 1.56, 1.64, 1.64, 1.68, 1.74, 1.75, 1.76, 1.83, 1.87, 1.88, 2.0, 2.01, 2.06, 2.15, 2.21, 2.32, 2.5, 2.53, 2.54, 2.6, 2.64, 2.69, 2.89, 3.11, 3.16, 3.24, 3.37, 3.69, 4.1, 4.13, 5.75, 5.78, 6.06, 6.12, 7.11], \"y\": [\"Seychelles\", \"Eritrea\", \"Burundi\", \"R\\u00e9union\", \"Botswana\", \"Ivory Coast\", \"Rwanda\", \"Gabon\", \"Guinea\", \"Ghana\", \"Mozambique\", \"Uganda\", \"Cabo Verde\", \"Namibia\", \"Mayotte\", \"Djibouti\", \"CAR\", \"Madagascar\", \"Comoros\", \"Tunisia\", \"Ethiopia\", \"Libya\", \"Sao Tome and Principe\", \"Equatorial Guinea\", \"Guinea-Bissau\", \"Benin\", \"Congo\", \"Morocco\", \"South Sudan\", \"Nigeria\", \"Kenya\", \"Eswatini\", \"Cameroon\", \"Senegal\", \"Mauritania\", \"Zambia\", \"Lesotho\", \"South Africa\", \"Mauritius\", \"DRC\", \"Togo\", \"Somalia\", \"Burkina Faso\", \"Zimbabwe\", \"Malawi\", \"Sierra Leone\", \"Gambia\", \"Algeria\", \"Angola\", \"Mali\", \"Tanzania\", \"Niger\", \"Egypt\", \"Liberia\", \"Sudan\", \"Chad\"]}],\n",
       "                        {\"autosize\": false, \"height\": 1000, \"template\": {\"data\": {\"bar\": [{\"error_x\": {\"color\": \"#f2f5fa\"}, \"error_y\": {\"color\": \"#f2f5fa\"}, \"marker\": {\"line\": {\"color\": \"rgb(17,17,17)\", \"width\": 0.5}}, \"type\": \"bar\"}], \"barpolar\": [{\"marker\": {\"line\": {\"color\": \"rgb(17,17,17)\", \"width\": 0.5}}, \"type\": \"barpolar\"}], \"carpet\": [{\"aaxis\": {\"endlinecolor\": \"#A2B1C6\", \"gridcolor\": \"#506784\", \"linecolor\": \"#506784\", \"minorgridcolor\": \"#506784\", \"startlinecolor\": \"#A2B1C6\"}, \"baxis\": {\"endlinecolor\": \"#A2B1C6\", \"gridcolor\": \"#506784\", \"linecolor\": \"#506784\", \"minorgridcolor\": \"#506784\", \"startlinecolor\": \"#A2B1C6\"}, \"type\": \"carpet\"}], \"choropleth\": [{\"colorbar\": {\"outlinewidth\": 0, \"ticks\": \"\"}, \"type\": \"choropleth\"}], \"contour\": [{\"colorbar\": {\"outlinewidth\": 0, \"ticks\": \"\"}, \"colorscale\": [[0.0, \"#0d0887\"], [0.1111111111111111, \"#46039f\"], [0.2222222222222222, \"#7201a8\"], [0.3333333333333333, \"#9c179e\"], [0.4444444444444444, \"#bd3786\"], [0.5555555555555556, \"#d8576b\"], [0.6666666666666666, \"#ed7953\"], [0.7777777777777778, \"#fb9f3a\"], [0.8888888888888888, \"#fdca26\"], [1.0, \"#f0f921\"]], \"type\": \"contour\"}], \"contourcarpet\": [{\"colorbar\": {\"outlinewidth\": 0, \"ticks\": \"\"}, \"type\": \"contourcarpet\"}], \"heatmap\": [{\"colorbar\": {\"outlinewidth\": 0, \"ticks\": \"\"}, \"colorscale\": [[0.0, \"#0d0887\"], [0.1111111111111111, \"#46039f\"], [0.2222222222222222, \"#7201a8\"], [0.3333333333333333, \"#9c179e\"], [0.4444444444444444, \"#bd3786\"], [0.5555555555555556, \"#d8576b\"], [0.6666666666666666, \"#ed7953\"], [0.7777777777777778, \"#fb9f3a\"], [0.8888888888888888, \"#fdca26\"], [1.0, \"#f0f921\"]], \"type\": \"heatmap\"}], \"heatmapgl\": [{\"colorbar\": {\"outlinewidth\": 0, \"ticks\": \"\"}, \"colorscale\": [[0.0, \"#0d0887\"], [0.1111111111111111, \"#46039f\"], [0.2222222222222222, \"#7201a8\"], [0.3333333333333333, \"#9c179e\"], [0.4444444444444444, \"#bd3786\"], [0.5555555555555556, \"#d8576b\"], [0.6666666666666666, \"#ed7953\"], [0.7777777777777778, \"#fb9f3a\"], [0.8888888888888888, \"#fdca26\"], [1.0, \"#f0f921\"]], \"type\": \"heatmapgl\"}], \"histogram\": [{\"marker\": {\"colorbar\": {\"outlinewidth\": 0, \"ticks\": \"\"}}, \"type\": \"histogram\"}], \"histogram2d\": [{\"colorbar\": {\"outlinewidth\": 0, \"ticks\": \"\"}, \"colorscale\": [[0.0, \"#0d0887\"], [0.1111111111111111, \"#46039f\"], [0.2222222222222222, \"#7201a8\"], [0.3333333333333333, \"#9c179e\"], [0.4444444444444444, \"#bd3786\"], [0.5555555555555556, \"#d8576b\"], [0.6666666666666666, \"#ed7953\"], [0.7777777777777778, \"#fb9f3a\"], [0.8888888888888888, \"#fdca26\"], [1.0, \"#f0f921\"]], \"type\": \"histogram2d\"}], \"histogram2dcontour\": [{\"colorbar\": {\"outlinewidth\": 0, \"ticks\": \"\"}, \"colorscale\": [[0.0, \"#0d0887\"], [0.1111111111111111, \"#46039f\"], [0.2222222222222222, \"#7201a8\"], [0.3333333333333333, \"#9c179e\"], [0.4444444444444444, \"#bd3786\"], [0.5555555555555556, \"#d8576b\"], [0.6666666666666666, \"#ed7953\"], [0.7777777777777778, \"#fb9f3a\"], [0.8888888888888888, \"#fdca26\"], [1.0, \"#f0f921\"]], \"type\": \"histogram2dcontour\"}], \"mesh3d\": [{\"colorbar\": {\"outlinewidth\": 0, \"ticks\": \"\"}, \"type\": \"mesh3d\"}], \"parcoords\": [{\"line\": {\"colorbar\": {\"outlinewidth\": 0, \"ticks\": \"\"}}, \"type\": \"parcoords\"}], \"scatter\": [{\"marker\": {\"line\": {\"color\": \"#283442\"}}, \"type\": \"scatter\"}], \"scatter3d\": [{\"line\": {\"colorbar\": {\"outlinewidth\": 0, \"ticks\": \"\"}}, \"marker\": {\"colorbar\": {\"outlinewidth\": 0, \"ticks\": \"\"}}, \"type\": \"scatter3d\"}], \"scattercarpet\": [{\"marker\": {\"colorbar\": {\"outlinewidth\": 0, \"ticks\": \"\"}}, \"type\": \"scattercarpet\"}], \"scattergeo\": [{\"marker\": {\"colorbar\": {\"outlinewidth\": 0, \"ticks\": \"\"}}, \"type\": \"scattergeo\"}], \"scattergl\": [{\"marker\": {\"line\": {\"color\": \"#283442\"}}, \"type\": \"scattergl\"}], \"scattermapbox\": [{\"marker\": {\"colorbar\": {\"outlinewidth\": 0, \"ticks\": \"\"}}, \"type\": \"scattermapbox\"}], \"scatterpolar\": [{\"marker\": {\"colorbar\": {\"outlinewidth\": 0, \"ticks\": \"\"}}, \"type\": \"scatterpolar\"}], \"scatterpolargl\": [{\"marker\": {\"colorbar\": {\"outlinewidth\": 0, \"ticks\": \"\"}}, \"type\": \"scatterpolargl\"}], \"scatterternary\": [{\"marker\": {\"colorbar\": {\"outlinewidth\": 0, \"ticks\": \"\"}}, \"type\": \"scatterternary\"}], \"surface\": [{\"colorbar\": {\"outlinewidth\": 0, \"ticks\": \"\"}, \"colorscale\": [[0.0, \"#0d0887\"], [0.1111111111111111, \"#46039f\"], [0.2222222222222222, \"#7201a8\"], [0.3333333333333333, \"#9c179e\"], [0.4444444444444444, \"#bd3786\"], [0.5555555555555556, \"#d8576b\"], [0.6666666666666666, \"#ed7953\"], [0.7777777777777778, \"#fb9f3a\"], [0.8888888888888888, \"#fdca26\"], [1.0, \"#f0f921\"]], \"type\": \"surface\"}], \"table\": [{\"cells\": {\"fill\": {\"color\": \"#506784\"}, \"line\": {\"color\": \"rgb(17,17,17)\"}}, \"header\": {\"fill\": {\"color\": \"#2a3f5f\"}, \"line\": {\"color\": \"rgb(17,17,17)\"}}, \"type\": \"table\"}]}, \"layout\": {\"annotationdefaults\": {\"arrowcolor\": \"#f2f5fa\", \"arrowhead\": 0, \"arrowwidth\": 1}, \"colorscale\": {\"diverging\": [[0, \"#8e0152\"], [0.1, \"#c51b7d\"], [0.2, \"#de77ae\"], [0.3, \"#f1b6da\"], [0.4, \"#fde0ef\"], [0.5, \"#f7f7f7\"], [0.6, \"#e6f5d0\"], [0.7, \"#b8e186\"], [0.8, \"#7fbc41\"], [0.9, \"#4d9221\"], [1, \"#276419\"]], \"sequential\": [[0.0, \"#0d0887\"], [0.1111111111111111, \"#46039f\"], [0.2222222222222222, \"#7201a8\"], [0.3333333333333333, \"#9c179e\"], [0.4444444444444444, \"#bd3786\"], [0.5555555555555556, \"#d8576b\"], [0.6666666666666666, \"#ed7953\"], [0.7777777777777778, \"#fb9f3a\"], [0.8888888888888888, \"#fdca26\"], [1.0, \"#f0f921\"]], \"sequentialminus\": [[0.0, \"#0d0887\"], [0.1111111111111111, \"#46039f\"], [0.2222222222222222, \"#7201a8\"], [0.3333333333333333, \"#9c179e\"], [0.4444444444444444, \"#bd3786\"], [0.5555555555555556, \"#d8576b\"], [0.6666666666666666, \"#ed7953\"], [0.7777777777777778, \"#fb9f3a\"], [0.8888888888888888, \"#fdca26\"], [1.0, \"#f0f921\"]]}, \"colorway\": [\"#636efa\", \"#EF553B\", \"#00cc96\", \"#ab63fa\", \"#FFA15A\", \"#19d3f3\", \"#FF6692\", \"#B6E880\", \"#FF97FF\", \"#FECB52\"], \"font\": {\"color\": \"#f2f5fa\"}, \"geo\": {\"bgcolor\": \"rgb(17,17,17)\", \"lakecolor\": \"rgb(17,17,17)\", \"landcolor\": \"rgb(17,17,17)\", \"showlakes\": true, \"showland\": true, \"subunitcolor\": \"#506784\"}, \"hoverlabel\": {\"align\": \"left\"}, \"hovermode\": \"closest\", \"mapbox\": {\"style\": \"dark\"}, \"paper_bgcolor\": \"rgb(17,17,17)\", \"plot_bgcolor\": \"rgb(17,17,17)\", \"polar\": {\"angularaxis\": {\"gridcolor\": \"#506784\", \"linecolor\": \"#506784\", \"ticks\": \"\"}, \"bgcolor\": \"rgb(17,17,17)\", \"radialaxis\": {\"gridcolor\": \"#506784\", \"linecolor\": \"#506784\", \"ticks\": \"\"}}, \"scene\": {\"xaxis\": {\"backgroundcolor\": \"rgb(17,17,17)\", \"gridcolor\": \"#506784\", \"gridwidth\": 2, \"linecolor\": \"#506784\", \"showbackground\": true, \"ticks\": \"\", \"zerolinecolor\": \"#C8D4E3\"}, \"yaxis\": {\"backgroundcolor\": \"rgb(17,17,17)\", \"gridcolor\": \"#506784\", \"gridwidth\": 2, \"linecolor\": \"#506784\", \"showbackground\": true, \"ticks\": \"\", \"zerolinecolor\": \"#C8D4E3\"}, \"zaxis\": {\"backgroundcolor\": \"rgb(17,17,17)\", \"gridcolor\": \"#506784\", \"gridwidth\": 2, \"linecolor\": \"#506784\", \"showbackground\": true, \"ticks\": \"\", \"zerolinecolor\": \"#C8D4E3\"}}, \"shapedefaults\": {\"line\": {\"color\": \"#f2f5fa\"}}, \"sliderdefaults\": {\"bgcolor\": \"#C8D4E3\", \"bordercolor\": \"rgb(17,17,17)\", \"borderwidth\": 1, \"tickwidth\": 0}, \"ternary\": {\"aaxis\": {\"gridcolor\": \"#506784\", \"linecolor\": \"#506784\", \"ticks\": \"\"}, \"baxis\": {\"gridcolor\": \"#506784\", \"linecolor\": \"#506784\", \"ticks\": \"\"}, \"bgcolor\": \"rgb(17,17,17)\", \"caxis\": {\"gridcolor\": \"#506784\", \"linecolor\": \"#506784\", \"ticks\": \"\"}}, \"title\": {\"x\": 0.05}, \"updatemenudefaults\": {\"bgcolor\": \"#506784\", \"borderwidth\": 0}, \"xaxis\": {\"automargin\": true, \"gridcolor\": \"#283442\", \"linecolor\": \"#506784\", \"ticks\": \"\", \"zerolinecolor\": \"#283442\", \"zerolinewidth\": 2}, \"yaxis\": {\"automargin\": true, \"gridcolor\": \"#283442\", \"linecolor\": \"#506784\", \"ticks\": \"\", \"zerolinecolor\": \"#283442\", \"zerolinewidth\": 2}}}, \"title\": {\"font\": {\"color\": \"Cyan\", \"size\": 12}, \"text\": \"<b>COVID19 MORTALITY RATE OF AFRICAN COUNTRIES/TERRITORIES: October 06, 2020</b>\", \"x\": 0.55, \"xanchor\": \"center\", \"y\": 0.93, \"yanchor\": \"top\"}, \"width\": 800, \"xaxis\": {\"title\": {\"font\": {\"color\": \"#BDBDBD\", \"size\": 18}, \"text\": \"<b>Mortality Rate(%)</b>\"}}, \"yaxis\": {\"tickprefix\": \"      \", \"title\": {\"font\": {\"color\": \"#BDBDBD\", \"size\": 18}, \"text\": \"<b>Country</b>\"}}},\n",
       "                        {\"responsive\": true}\n",
       "                    ).then(function(){\n",
       "                            \n",
       "var gd = document.getElementById('fa17812b-a5de-443a-8b00-4a7fef9d2add');\n",
       "var x = new MutationObserver(function (mutations, observer) {{\n",
       "        var display = window.getComputedStyle(gd).display;\n",
       "        if (!display || display === 'none') {{\n",
       "            console.log([gd, 'removed!']);\n",
       "            Plotly.purge(gd);\n",
       "            observer.disconnect();\n",
       "        }}\n",
       "}});\n",
       "\n",
       "// Listen for the removal of the full notebook cells\n",
       "var notebookContainer = gd.closest('#notebook-container');\n",
       "if (notebookContainer) {{\n",
       "    x.observe(notebookContainer, {childList: true});\n",
       "}}\n",
       "\n",
       "// Listen for the clearing of the current output cell\n",
       "var outputEl = gd.closest('.output');\n",
       "if (outputEl) {{\n",
       "    x.observe(outputEl, {childList: true});\n",
       "}}\n",
       "\n",
       "                        })\n",
       "                };\n",
       "                });\n",
       "            </script>\n",
       "        </div>"
      ]
     },
     "metadata": {},
     "output_type": "display_data"
    }
   ],
   "source": [
    "fig = go.Figure()\n",
    "\n",
    "fig.add_trace(go.Bar(y = african_mortality100['Country_Other'][::-1],x=african_mortality100['Mortality_Rate'][::-1],\n",
    "                     text=african_mortality100['Mortality_Rate'][::-1],textposition='outside',name = \"Afria\",marker_color='Crimson',orientation='h',                  \n",
    "))\n",
    "fig.update_layout(\n",
    "    template='plotly_dark',\n",
    "    title={\n",
    "        'text': '<b>COVID19 MORTALITY RATE OF AFRICAN COUNTRIES/TERRITORIES: ' + date_string +'</b>',\n",
    "        'y':0.93,\n",
    "        'x':0.55,\n",
    "        'xanchor': 'center',\n",
    "        'yanchor': 'top',\n",
    "        'font_color':'Cyan',\n",
    "        'font_size':12},\n",
    "    xaxis=dict(title='<b>Mortality Rate(%)</b>',titlefont_size=18, titlefont=dict(color='#BDBDBD')),\n",
    "    yaxis=dict(title='<b>Country</b>',titlefont_size=18, tickprefix=\"      \", titlefont=dict(color='#BDBDBD')),\n",
    "    autosize=False,\n",
    "    width=800,\n",
    "    height=1000,     \n",
    ")\n",
    "\n",
    "fig.show()"
   ]
  },
  {
   "cell_type": "markdown",
   "metadata": {},
   "source": [
    "[Return to top](#top)\n",
    "## New Cases of some African Countries"
   ]
  },
  {
   "cell_type": "code",
   "execution_count": 66,
   "metadata": {},
   "outputs": [],
   "source": [
    "countries_new_cases = pd.read_csv(\"../COVID19/World/NewCases/DailyCases\"+given_date+\".csv\")"
   ]
  },
  {
   "cell_type": "markdown",
   "metadata": {},
   "source": [
    "<a id='select_few'></a>"
   ]
  },
  {
   "cell_type": "markdown",
   "metadata": {},
   "source": [
    "### South Africa"
   ]
  },
  {
   "cell_type": "code",
   "execution_count": 67,
   "metadata": {},
   "outputs": [],
   "source": [
    "sa = countries_new_cases[countries_new_cases['Country_Other'] == 'South Africa']"
   ]
  },
  {
   "cell_type": "code",
   "execution_count": 68,
   "metadata": {},
   "outputs": [
    {
     "data": {
      "application/vnd.plotly.v1+json": {
       "config": {
        "plotlyServerURL": "https://plot.ly"
       },
       "data": [
        {
         "marker": {
          "color": "#FFAA1D"
         },
         "name": "South Africa",
         "text": [
          "1806",
          "1633",
          "845",
          "1079",
          "1990",
          "2007",
          "1960",
          "1816",
          "1579",
          "956",
          "772",
          "1923",
          "2128",
          "2055",
          "2029",
          "1555",
          "725",
          "1346",
          "1906",
          "1861",
          "1480",
          "969",
          "1268",
          "903",
          "903",
          "1767",
          "1745",
          "1749",
          "1883",
          "1573",
          "926",
          "1027"
         ],
         "textposition": "outside",
         "type": "bar",
         "x": [
          "September05",
          "September06",
          "September07",
          "September08",
          "September09",
          "September10",
          "September11",
          "September12",
          "September13",
          "September14",
          "September15",
          "September16",
          "September17",
          "September18",
          "September19",
          "September20",
          "September21",
          "September22",
          "September23",
          "September24",
          "September25",
          "September26",
          "September27",
          "September28",
          "September29",
          "September30",
          "October01",
          "October02",
          "October03",
          "October04",
          "October05",
          "October06"
         ],
         "y": [
          1806,
          1633,
          845,
          1079,
          1990,
          2007,
          1960,
          1816,
          1579,
          956,
          772,
          1923,
          2128,
          2055,
          2029,
          1555,
          725,
          1346,
          1906,
          1861,
          1480,
          969,
          1268,
          903,
          903,
          1767,
          1745,
          1749,
          1883,
          1573,
          926,
          1027
         ]
        }
       ],
       "layout": {
        "template": {
         "data": {
          "bar": [
           {
            "error_x": {
             "color": "#2a3f5f"
            },
            "error_y": {
             "color": "#2a3f5f"
            },
            "marker": {
             "line": {
              "color": "#E5ECF6",
              "width": 0.5
             }
            },
            "type": "bar"
           }
          ],
          "barpolar": [
           {
            "marker": {
             "line": {
              "color": "#E5ECF6",
              "width": 0.5
             }
            },
            "type": "barpolar"
           }
          ],
          "carpet": [
           {
            "aaxis": {
             "endlinecolor": "#2a3f5f",
             "gridcolor": "white",
             "linecolor": "white",
             "minorgridcolor": "white",
             "startlinecolor": "#2a3f5f"
            },
            "baxis": {
             "endlinecolor": "#2a3f5f",
             "gridcolor": "white",
             "linecolor": "white",
             "minorgridcolor": "white",
             "startlinecolor": "#2a3f5f"
            },
            "type": "carpet"
           }
          ],
          "choropleth": [
           {
            "colorbar": {
             "outlinewidth": 0,
             "ticks": ""
            },
            "type": "choropleth"
           }
          ],
          "contour": [
           {
            "colorbar": {
             "outlinewidth": 0,
             "ticks": ""
            },
            "colorscale": [
             [
              0,
              "#0d0887"
             ],
             [
              0.1111111111111111,
              "#46039f"
             ],
             [
              0.2222222222222222,
              "#7201a8"
             ],
             [
              0.3333333333333333,
              "#9c179e"
             ],
             [
              0.4444444444444444,
              "#bd3786"
             ],
             [
              0.5555555555555556,
              "#d8576b"
             ],
             [
              0.6666666666666666,
              "#ed7953"
             ],
             [
              0.7777777777777778,
              "#fb9f3a"
             ],
             [
              0.8888888888888888,
              "#fdca26"
             ],
             [
              1,
              "#f0f921"
             ]
            ],
            "type": "contour"
           }
          ],
          "contourcarpet": [
           {
            "colorbar": {
             "outlinewidth": 0,
             "ticks": ""
            },
            "type": "contourcarpet"
           }
          ],
          "heatmap": [
           {
            "colorbar": {
             "outlinewidth": 0,
             "ticks": ""
            },
            "colorscale": [
             [
              0,
              "#0d0887"
             ],
             [
              0.1111111111111111,
              "#46039f"
             ],
             [
              0.2222222222222222,
              "#7201a8"
             ],
             [
              0.3333333333333333,
              "#9c179e"
             ],
             [
              0.4444444444444444,
              "#bd3786"
             ],
             [
              0.5555555555555556,
              "#d8576b"
             ],
             [
              0.6666666666666666,
              "#ed7953"
             ],
             [
              0.7777777777777778,
              "#fb9f3a"
             ],
             [
              0.8888888888888888,
              "#fdca26"
             ],
             [
              1,
              "#f0f921"
             ]
            ],
            "type": "heatmap"
           }
          ],
          "heatmapgl": [
           {
            "colorbar": {
             "outlinewidth": 0,
             "ticks": ""
            },
            "colorscale": [
             [
              0,
              "#0d0887"
             ],
             [
              0.1111111111111111,
              "#46039f"
             ],
             [
              0.2222222222222222,
              "#7201a8"
             ],
             [
              0.3333333333333333,
              "#9c179e"
             ],
             [
              0.4444444444444444,
              "#bd3786"
             ],
             [
              0.5555555555555556,
              "#d8576b"
             ],
             [
              0.6666666666666666,
              "#ed7953"
             ],
             [
              0.7777777777777778,
              "#fb9f3a"
             ],
             [
              0.8888888888888888,
              "#fdca26"
             ],
             [
              1,
              "#f0f921"
             ]
            ],
            "type": "heatmapgl"
           }
          ],
          "histogram": [
           {
            "marker": {
             "colorbar": {
              "outlinewidth": 0,
              "ticks": ""
             }
            },
            "type": "histogram"
           }
          ],
          "histogram2d": [
           {
            "colorbar": {
             "outlinewidth": 0,
             "ticks": ""
            },
            "colorscale": [
             [
              0,
              "#0d0887"
             ],
             [
              0.1111111111111111,
              "#46039f"
             ],
             [
              0.2222222222222222,
              "#7201a8"
             ],
             [
              0.3333333333333333,
              "#9c179e"
             ],
             [
              0.4444444444444444,
              "#bd3786"
             ],
             [
              0.5555555555555556,
              "#d8576b"
             ],
             [
              0.6666666666666666,
              "#ed7953"
             ],
             [
              0.7777777777777778,
              "#fb9f3a"
             ],
             [
              0.8888888888888888,
              "#fdca26"
             ],
             [
              1,
              "#f0f921"
             ]
            ],
            "type": "histogram2d"
           }
          ],
          "histogram2dcontour": [
           {
            "colorbar": {
             "outlinewidth": 0,
             "ticks": ""
            },
            "colorscale": [
             [
              0,
              "#0d0887"
             ],
             [
              0.1111111111111111,
              "#46039f"
             ],
             [
              0.2222222222222222,
              "#7201a8"
             ],
             [
              0.3333333333333333,
              "#9c179e"
             ],
             [
              0.4444444444444444,
              "#bd3786"
             ],
             [
              0.5555555555555556,
              "#d8576b"
             ],
             [
              0.6666666666666666,
              "#ed7953"
             ],
             [
              0.7777777777777778,
              "#fb9f3a"
             ],
             [
              0.8888888888888888,
              "#fdca26"
             ],
             [
              1,
              "#f0f921"
             ]
            ],
            "type": "histogram2dcontour"
           }
          ],
          "mesh3d": [
           {
            "colorbar": {
             "outlinewidth": 0,
             "ticks": ""
            },
            "type": "mesh3d"
           }
          ],
          "parcoords": [
           {
            "line": {
             "colorbar": {
              "outlinewidth": 0,
              "ticks": ""
             }
            },
            "type": "parcoords"
           }
          ],
          "scatter": [
           {
            "marker": {
             "colorbar": {
              "outlinewidth": 0,
              "ticks": ""
             }
            },
            "type": "scatter"
           }
          ],
          "scatter3d": [
           {
            "line": {
             "colorbar": {
              "outlinewidth": 0,
              "ticks": ""
             }
            },
            "marker": {
             "colorbar": {
              "outlinewidth": 0,
              "ticks": ""
             }
            },
            "type": "scatter3d"
           }
          ],
          "scattercarpet": [
           {
            "marker": {
             "colorbar": {
              "outlinewidth": 0,
              "ticks": ""
             }
            },
            "type": "scattercarpet"
           }
          ],
          "scattergeo": [
           {
            "marker": {
             "colorbar": {
              "outlinewidth": 0,
              "ticks": ""
             }
            },
            "type": "scattergeo"
           }
          ],
          "scattergl": [
           {
            "marker": {
             "colorbar": {
              "outlinewidth": 0,
              "ticks": ""
             }
            },
            "type": "scattergl"
           }
          ],
          "scattermapbox": [
           {
            "marker": {
             "colorbar": {
              "outlinewidth": 0,
              "ticks": ""
             }
            },
            "type": "scattermapbox"
           }
          ],
          "scatterpolar": [
           {
            "marker": {
             "colorbar": {
              "outlinewidth": 0,
              "ticks": ""
             }
            },
            "type": "scatterpolar"
           }
          ],
          "scatterpolargl": [
           {
            "marker": {
             "colorbar": {
              "outlinewidth": 0,
              "ticks": ""
             }
            },
            "type": "scatterpolargl"
           }
          ],
          "scatterternary": [
           {
            "marker": {
             "colorbar": {
              "outlinewidth": 0,
              "ticks": ""
             }
            },
            "type": "scatterternary"
           }
          ],
          "surface": [
           {
            "colorbar": {
             "outlinewidth": 0,
             "ticks": ""
            },
            "colorscale": [
             [
              0,
              "#0d0887"
             ],
             [
              0.1111111111111111,
              "#46039f"
             ],
             [
              0.2222222222222222,
              "#7201a8"
             ],
             [
              0.3333333333333333,
              "#9c179e"
             ],
             [
              0.4444444444444444,
              "#bd3786"
             ],
             [
              0.5555555555555556,
              "#d8576b"
             ],
             [
              0.6666666666666666,
              "#ed7953"
             ],
             [
              0.7777777777777778,
              "#fb9f3a"
             ],
             [
              0.8888888888888888,
              "#fdca26"
             ],
             [
              1,
              "#f0f921"
             ]
            ],
            "type": "surface"
           }
          ],
          "table": [
           {
            "cells": {
             "fill": {
              "color": "#EBF0F8"
             },
             "line": {
              "color": "white"
             }
            },
            "header": {
             "fill": {
              "color": "#C8D4E3"
             },
             "line": {
              "color": "white"
             }
            },
            "type": "table"
           }
          ]
         },
         "layout": {
          "annotationdefaults": {
           "arrowcolor": "#2a3f5f",
           "arrowhead": 0,
           "arrowwidth": 1
          },
          "colorscale": {
           "diverging": [
            [
             0,
             "#8e0152"
            ],
            [
             0.1,
             "#c51b7d"
            ],
            [
             0.2,
             "#de77ae"
            ],
            [
             0.3,
             "#f1b6da"
            ],
            [
             0.4,
             "#fde0ef"
            ],
            [
             0.5,
             "#f7f7f7"
            ],
            [
             0.6,
             "#e6f5d0"
            ],
            [
             0.7,
             "#b8e186"
            ],
            [
             0.8,
             "#7fbc41"
            ],
            [
             0.9,
             "#4d9221"
            ],
            [
             1,
             "#276419"
            ]
           ],
           "sequential": [
            [
             0,
             "#0d0887"
            ],
            [
             0.1111111111111111,
             "#46039f"
            ],
            [
             0.2222222222222222,
             "#7201a8"
            ],
            [
             0.3333333333333333,
             "#9c179e"
            ],
            [
             0.4444444444444444,
             "#bd3786"
            ],
            [
             0.5555555555555556,
             "#d8576b"
            ],
            [
             0.6666666666666666,
             "#ed7953"
            ],
            [
             0.7777777777777778,
             "#fb9f3a"
            ],
            [
             0.8888888888888888,
             "#fdca26"
            ],
            [
             1,
             "#f0f921"
            ]
           ],
           "sequentialminus": [
            [
             0,
             "#0d0887"
            ],
            [
             0.1111111111111111,
             "#46039f"
            ],
            [
             0.2222222222222222,
             "#7201a8"
            ],
            [
             0.3333333333333333,
             "#9c179e"
            ],
            [
             0.4444444444444444,
             "#bd3786"
            ],
            [
             0.5555555555555556,
             "#d8576b"
            ],
            [
             0.6666666666666666,
             "#ed7953"
            ],
            [
             0.7777777777777778,
             "#fb9f3a"
            ],
            [
             0.8888888888888888,
             "#fdca26"
            ],
            [
             1,
             "#f0f921"
            ]
           ]
          },
          "colorway": [
           "#636efa",
           "#EF553B",
           "#00cc96",
           "#ab63fa",
           "#FFA15A",
           "#19d3f3",
           "#FF6692",
           "#B6E880",
           "#FF97FF",
           "#FECB52"
          ],
          "font": {
           "color": "#2a3f5f"
          },
          "geo": {
           "bgcolor": "white",
           "lakecolor": "white",
           "landcolor": "#E5ECF6",
           "showlakes": true,
           "showland": true,
           "subunitcolor": "white"
          },
          "hoverlabel": {
           "align": "left"
          },
          "hovermode": "closest",
          "mapbox": {
           "style": "light"
          },
          "paper_bgcolor": "white",
          "plot_bgcolor": "#E5ECF6",
          "polar": {
           "angularaxis": {
            "gridcolor": "white",
            "linecolor": "white",
            "ticks": ""
           },
           "bgcolor": "#E5ECF6",
           "radialaxis": {
            "gridcolor": "white",
            "linecolor": "white",
            "ticks": ""
           }
          },
          "scene": {
           "xaxis": {
            "backgroundcolor": "#E5ECF6",
            "gridcolor": "white",
            "gridwidth": 2,
            "linecolor": "white",
            "showbackground": true,
            "ticks": "",
            "zerolinecolor": "white"
           },
           "yaxis": {
            "backgroundcolor": "#E5ECF6",
            "gridcolor": "white",
            "gridwidth": 2,
            "linecolor": "white",
            "showbackground": true,
            "ticks": "",
            "zerolinecolor": "white"
           },
           "zaxis": {
            "backgroundcolor": "#E5ECF6",
            "gridcolor": "white",
            "gridwidth": 2,
            "linecolor": "white",
            "showbackground": true,
            "ticks": "",
            "zerolinecolor": "white"
           }
          },
          "shapedefaults": {
           "line": {
            "color": "#2a3f5f"
           }
          },
          "ternary": {
           "aaxis": {
            "gridcolor": "white",
            "linecolor": "white",
            "ticks": ""
           },
           "baxis": {
            "gridcolor": "white",
            "linecolor": "white",
            "ticks": ""
           },
           "bgcolor": "#E5ECF6",
           "caxis": {
            "gridcolor": "white",
            "linecolor": "white",
            "ticks": ""
           }
          },
          "title": {
           "x": 0.05
          },
          "xaxis": {
           "automargin": true,
           "gridcolor": "white",
           "linecolor": "white",
           "ticks": "",
           "zerolinecolor": "white",
           "zerolinewidth": 2
          },
          "yaxis": {
           "automargin": true,
           "gridcolor": "white",
           "linecolor": "white",
           "ticks": "",
           "zerolinecolor": "white",
           "zerolinewidth": 2
          }
         }
        },
        "title": {
         "text": "SOUTH AFRICA - COVID19 NEW CASES",
         "x": 0.5,
         "xanchor": "center",
         "y": 0.9,
         "yanchor": "top"
        },
        "xaxis": {
         "tickangle": 90,
         "title": {
          "font": {
           "color": "#BDBDBD",
           "size": 18
          },
          "text": "<b>Date</b>"
         }
        },
        "yaxis": {
         "title": {
          "font": {
           "size": 18
          },
          "text": "<b>New Cases</b>"
         }
        }
       }
      },
      "text/html": [
       "<div>\n",
       "        \n",
       "        \n",
       "            <div id=\"0586bc64-1135-48fa-b71d-b52f05064488\" class=\"plotly-graph-div\" style=\"height:525px; width:100%;\"></div>\n",
       "            <script type=\"text/javascript\">\n",
       "                require([\"plotly\"], function(Plotly) {\n",
       "                    window.PLOTLYENV=window.PLOTLYENV || {};\n",
       "                    \n",
       "                if (document.getElementById(\"0586bc64-1135-48fa-b71d-b52f05064488\")) {\n",
       "                    Plotly.newPlot(\n",
       "                        '0586bc64-1135-48fa-b71d-b52f05064488',\n",
       "                        [{\"marker\": {\"color\": \"#FFAA1D\"}, \"name\": \"South Africa\", \"text\": [\"1806\", \"1633\", \"845\", \"1079\", \"1990\", \"2007\", \"1960\", \"1816\", \"1579\", \"956\", \"772\", \"1923\", \"2128\", \"2055\", \"2029\", \"1555\", \"725\", \"1346\", \"1906\", \"1861\", \"1480\", \"969\", \"1268\", \"903\", \"903\", \"1767\", \"1745\", \"1749\", \"1883\", \"1573\", \"926\", \"1027\"], \"textposition\": \"outside\", \"type\": \"bar\", \"x\": [\"September05\", \"September06\", \"September07\", \"September08\", \"September09\", \"September10\", \"September11\", \"September12\", \"September13\", \"September14\", \"September15\", \"September16\", \"September17\", \"September18\", \"September19\", \"September20\", \"September21\", \"September22\", \"September23\", \"September24\", \"September25\", \"September26\", \"September27\", \"September28\", \"September29\", \"September30\", \"October01\", \"October02\", \"October03\", \"October04\", \"October05\", \"October06\"], \"y\": [1806, 1633, 845, 1079, 1990, 2007, 1960, 1816, 1579, 956, 772, 1923, 2128, 2055, 2029, 1555, 725, 1346, 1906, 1861, 1480, 969, 1268, 903, 903, 1767, 1745, 1749, 1883, 1573, 926, 1027]}],\n",
       "                        {\"template\": {\"data\": {\"bar\": [{\"error_x\": {\"color\": \"#2a3f5f\"}, \"error_y\": {\"color\": \"#2a3f5f\"}, \"marker\": {\"line\": {\"color\": \"#E5ECF6\", \"width\": 0.5}}, \"type\": \"bar\"}], \"barpolar\": [{\"marker\": {\"line\": {\"color\": \"#E5ECF6\", \"width\": 0.5}}, \"type\": \"barpolar\"}], \"carpet\": [{\"aaxis\": {\"endlinecolor\": \"#2a3f5f\", \"gridcolor\": \"white\", \"linecolor\": \"white\", \"minorgridcolor\": \"white\", \"startlinecolor\": \"#2a3f5f\"}, \"baxis\": {\"endlinecolor\": \"#2a3f5f\", \"gridcolor\": \"white\", \"linecolor\": \"white\", \"minorgridcolor\": \"white\", \"startlinecolor\": \"#2a3f5f\"}, \"type\": \"carpet\"}], \"choropleth\": [{\"colorbar\": {\"outlinewidth\": 0, \"ticks\": \"\"}, \"type\": \"choropleth\"}], \"contour\": [{\"colorbar\": {\"outlinewidth\": 0, \"ticks\": \"\"}, \"colorscale\": [[0.0, \"#0d0887\"], [0.1111111111111111, \"#46039f\"], [0.2222222222222222, \"#7201a8\"], [0.3333333333333333, \"#9c179e\"], [0.4444444444444444, \"#bd3786\"], [0.5555555555555556, \"#d8576b\"], [0.6666666666666666, \"#ed7953\"], [0.7777777777777778, \"#fb9f3a\"], [0.8888888888888888, \"#fdca26\"], [1.0, \"#f0f921\"]], \"type\": \"contour\"}], \"contourcarpet\": [{\"colorbar\": {\"outlinewidth\": 0, \"ticks\": \"\"}, \"type\": \"contourcarpet\"}], \"heatmap\": [{\"colorbar\": {\"outlinewidth\": 0, \"ticks\": \"\"}, \"colorscale\": [[0.0, \"#0d0887\"], [0.1111111111111111, \"#46039f\"], [0.2222222222222222, \"#7201a8\"], [0.3333333333333333, \"#9c179e\"], [0.4444444444444444, \"#bd3786\"], [0.5555555555555556, \"#d8576b\"], [0.6666666666666666, \"#ed7953\"], [0.7777777777777778, \"#fb9f3a\"], [0.8888888888888888, \"#fdca26\"], [1.0, \"#f0f921\"]], \"type\": \"heatmap\"}], \"heatmapgl\": [{\"colorbar\": {\"outlinewidth\": 0, \"ticks\": \"\"}, \"colorscale\": [[0.0, \"#0d0887\"], [0.1111111111111111, \"#46039f\"], [0.2222222222222222, \"#7201a8\"], [0.3333333333333333, \"#9c179e\"], [0.4444444444444444, \"#bd3786\"], [0.5555555555555556, \"#d8576b\"], [0.6666666666666666, \"#ed7953\"], [0.7777777777777778, \"#fb9f3a\"], [0.8888888888888888, \"#fdca26\"], [1.0, \"#f0f921\"]], \"type\": \"heatmapgl\"}], \"histogram\": [{\"marker\": {\"colorbar\": {\"outlinewidth\": 0, \"ticks\": \"\"}}, \"type\": \"histogram\"}], \"histogram2d\": [{\"colorbar\": {\"outlinewidth\": 0, \"ticks\": \"\"}, \"colorscale\": [[0.0, \"#0d0887\"], [0.1111111111111111, \"#46039f\"], [0.2222222222222222, \"#7201a8\"], [0.3333333333333333, \"#9c179e\"], [0.4444444444444444, \"#bd3786\"], [0.5555555555555556, \"#d8576b\"], [0.6666666666666666, \"#ed7953\"], [0.7777777777777778, \"#fb9f3a\"], [0.8888888888888888, \"#fdca26\"], [1.0, \"#f0f921\"]], \"type\": \"histogram2d\"}], \"histogram2dcontour\": [{\"colorbar\": {\"outlinewidth\": 0, \"ticks\": \"\"}, \"colorscale\": [[0.0, \"#0d0887\"], [0.1111111111111111, \"#46039f\"], [0.2222222222222222, \"#7201a8\"], [0.3333333333333333, \"#9c179e\"], [0.4444444444444444, \"#bd3786\"], [0.5555555555555556, \"#d8576b\"], [0.6666666666666666, \"#ed7953\"], [0.7777777777777778, \"#fb9f3a\"], [0.8888888888888888, \"#fdca26\"], [1.0, \"#f0f921\"]], \"type\": \"histogram2dcontour\"}], \"mesh3d\": [{\"colorbar\": {\"outlinewidth\": 0, \"ticks\": \"\"}, \"type\": \"mesh3d\"}], \"parcoords\": [{\"line\": {\"colorbar\": {\"outlinewidth\": 0, \"ticks\": \"\"}}, \"type\": \"parcoords\"}], \"scatter\": [{\"marker\": {\"colorbar\": {\"outlinewidth\": 0, \"ticks\": \"\"}}, \"type\": \"scatter\"}], \"scatter3d\": [{\"line\": {\"colorbar\": {\"outlinewidth\": 0, \"ticks\": \"\"}}, \"marker\": {\"colorbar\": {\"outlinewidth\": 0, \"ticks\": \"\"}}, \"type\": \"scatter3d\"}], \"scattercarpet\": [{\"marker\": {\"colorbar\": {\"outlinewidth\": 0, \"ticks\": \"\"}}, \"type\": \"scattercarpet\"}], \"scattergeo\": [{\"marker\": {\"colorbar\": {\"outlinewidth\": 0, \"ticks\": \"\"}}, \"type\": \"scattergeo\"}], \"scattergl\": [{\"marker\": {\"colorbar\": {\"outlinewidth\": 0, \"ticks\": \"\"}}, \"type\": \"scattergl\"}], \"scattermapbox\": [{\"marker\": {\"colorbar\": {\"outlinewidth\": 0, \"ticks\": \"\"}}, \"type\": \"scattermapbox\"}], \"scatterpolar\": [{\"marker\": {\"colorbar\": {\"outlinewidth\": 0, \"ticks\": \"\"}}, \"type\": \"scatterpolar\"}], \"scatterpolargl\": [{\"marker\": {\"colorbar\": {\"outlinewidth\": 0, \"ticks\": \"\"}}, \"type\": \"scatterpolargl\"}], \"scatterternary\": [{\"marker\": {\"colorbar\": {\"outlinewidth\": 0, \"ticks\": \"\"}}, \"type\": \"scatterternary\"}], \"surface\": [{\"colorbar\": {\"outlinewidth\": 0, \"ticks\": \"\"}, \"colorscale\": [[0.0, \"#0d0887\"], [0.1111111111111111, \"#46039f\"], [0.2222222222222222, \"#7201a8\"], [0.3333333333333333, \"#9c179e\"], [0.4444444444444444, \"#bd3786\"], [0.5555555555555556, \"#d8576b\"], [0.6666666666666666, \"#ed7953\"], [0.7777777777777778, \"#fb9f3a\"], [0.8888888888888888, \"#fdca26\"], [1.0, \"#f0f921\"]], \"type\": \"surface\"}], \"table\": [{\"cells\": {\"fill\": {\"color\": \"#EBF0F8\"}, \"line\": {\"color\": \"white\"}}, \"header\": {\"fill\": {\"color\": \"#C8D4E3\"}, \"line\": {\"color\": \"white\"}}, \"type\": \"table\"}]}, \"layout\": {\"annotationdefaults\": {\"arrowcolor\": \"#2a3f5f\", \"arrowhead\": 0, \"arrowwidth\": 1}, \"colorscale\": {\"diverging\": [[0, \"#8e0152\"], [0.1, \"#c51b7d\"], [0.2, \"#de77ae\"], [0.3, \"#f1b6da\"], [0.4, \"#fde0ef\"], [0.5, \"#f7f7f7\"], [0.6, \"#e6f5d0\"], [0.7, \"#b8e186\"], [0.8, \"#7fbc41\"], [0.9, \"#4d9221\"], [1, \"#276419\"]], \"sequential\": [[0.0, \"#0d0887\"], [0.1111111111111111, \"#46039f\"], [0.2222222222222222, \"#7201a8\"], [0.3333333333333333, \"#9c179e\"], [0.4444444444444444, \"#bd3786\"], [0.5555555555555556, \"#d8576b\"], [0.6666666666666666, \"#ed7953\"], [0.7777777777777778, \"#fb9f3a\"], [0.8888888888888888, \"#fdca26\"], [1.0, \"#f0f921\"]], \"sequentialminus\": [[0.0, \"#0d0887\"], [0.1111111111111111, \"#46039f\"], [0.2222222222222222, \"#7201a8\"], [0.3333333333333333, \"#9c179e\"], [0.4444444444444444, \"#bd3786\"], [0.5555555555555556, \"#d8576b\"], [0.6666666666666666, \"#ed7953\"], [0.7777777777777778, \"#fb9f3a\"], [0.8888888888888888, \"#fdca26\"], [1.0, \"#f0f921\"]]}, \"colorway\": [\"#636efa\", \"#EF553B\", \"#00cc96\", \"#ab63fa\", \"#FFA15A\", \"#19d3f3\", \"#FF6692\", \"#B6E880\", \"#FF97FF\", \"#FECB52\"], \"font\": {\"color\": \"#2a3f5f\"}, \"geo\": {\"bgcolor\": \"white\", \"lakecolor\": \"white\", \"landcolor\": \"#E5ECF6\", \"showlakes\": true, \"showland\": true, \"subunitcolor\": \"white\"}, \"hoverlabel\": {\"align\": \"left\"}, \"hovermode\": \"closest\", \"mapbox\": {\"style\": \"light\"}, \"paper_bgcolor\": \"white\", \"plot_bgcolor\": \"#E5ECF6\", \"polar\": {\"angularaxis\": {\"gridcolor\": \"white\", \"linecolor\": \"white\", \"ticks\": \"\"}, \"bgcolor\": \"#E5ECF6\", \"radialaxis\": {\"gridcolor\": \"white\", \"linecolor\": \"white\", \"ticks\": \"\"}}, \"scene\": {\"xaxis\": {\"backgroundcolor\": \"#E5ECF6\", \"gridcolor\": \"white\", \"gridwidth\": 2, \"linecolor\": \"white\", \"showbackground\": true, \"ticks\": \"\", \"zerolinecolor\": \"white\"}, \"yaxis\": {\"backgroundcolor\": \"#E5ECF6\", \"gridcolor\": \"white\", \"gridwidth\": 2, \"linecolor\": \"white\", \"showbackground\": true, \"ticks\": \"\", \"zerolinecolor\": \"white\"}, \"zaxis\": {\"backgroundcolor\": \"#E5ECF6\", \"gridcolor\": \"white\", \"gridwidth\": 2, \"linecolor\": \"white\", \"showbackground\": true, \"ticks\": \"\", \"zerolinecolor\": \"white\"}}, \"shapedefaults\": {\"line\": {\"color\": \"#2a3f5f\"}}, \"ternary\": {\"aaxis\": {\"gridcolor\": \"white\", \"linecolor\": \"white\", \"ticks\": \"\"}, \"baxis\": {\"gridcolor\": \"white\", \"linecolor\": \"white\", \"ticks\": \"\"}, \"bgcolor\": \"#E5ECF6\", \"caxis\": {\"gridcolor\": \"white\", \"linecolor\": \"white\", \"ticks\": \"\"}}, \"title\": {\"x\": 0.05}, \"xaxis\": {\"automargin\": true, \"gridcolor\": \"white\", \"linecolor\": \"white\", \"ticks\": \"\", \"zerolinecolor\": \"white\", \"zerolinewidth\": 2}, \"yaxis\": {\"automargin\": true, \"gridcolor\": \"white\", \"linecolor\": \"white\", \"ticks\": \"\", \"zerolinecolor\": \"white\", \"zerolinewidth\": 2}}}, \"title\": {\"text\": \"SOUTH AFRICA - COVID19 NEW CASES\", \"x\": 0.5, \"xanchor\": \"center\", \"y\": 0.9, \"yanchor\": \"top\"}, \"xaxis\": {\"tickangle\": 90, \"title\": {\"font\": {\"color\": \"#BDBDBD\", \"size\": 18}, \"text\": \"<b>Date</b>\"}}, \"yaxis\": {\"title\": {\"font\": {\"size\": 18}, \"text\": \"<b>New Cases</b>\"}}},\n",
       "                        {\"responsive\": true}\n",
       "                    ).then(function(){\n",
       "                            \n",
       "var gd = document.getElementById('0586bc64-1135-48fa-b71d-b52f05064488');\n",
       "var x = new MutationObserver(function (mutations, observer) {{\n",
       "        var display = window.getComputedStyle(gd).display;\n",
       "        if (!display || display === 'none') {{\n",
       "            console.log([gd, 'removed!']);\n",
       "            Plotly.purge(gd);\n",
       "            observer.disconnect();\n",
       "        }}\n",
       "}});\n",
       "\n",
       "// Listen for the removal of the full notebook cells\n",
       "var notebookContainer = gd.closest('#notebook-container');\n",
       "if (notebookContainer) {{\n",
       "    x.observe(notebookContainer, {childList: true});\n",
       "}}\n",
       "\n",
       "// Listen for the clearing of the current output cell\n",
       "var outputEl = gd.closest('.output');\n",
       "if (outputEl) {{\n",
       "    x.observe(outputEl, {childList: true});\n",
       "}}\n",
       "\n",
       "                        })\n",
       "                };\n",
       "                });\n",
       "            </script>\n",
       "        </div>"
      ]
     },
     "metadata": {},
     "output_type": "display_data"
    }
   ],
   "source": [
    "fig = go.Figure()\n",
    "\n",
    "sa_total_per_day = []\n",
    "for date in dates:    \n",
    "    total = sa[date].str.replace('+','').fillna(0).str.replace(',','').fillna(0).astype(int)\n",
    "    sa_total_per_day.append(int(total))\n",
    "    \n",
    "fig.add_trace(go.Bar(x=dates[-32:],  y = sa_total_per_day[-32:],text=sa_total_per_day[-32:],textposition='outside',name = \"South Africa\",marker_color='#FFAA1D'))\n",
    "fig.update_layout(\n",
    "    title={\n",
    "        'text': \"SOUTH AFRICA - COVID19 NEW CASES\",\n",
    "        'y':0.9,\n",
    "        'x':0.5,\n",
    "        'xanchor': 'center',\n",
    "        'yanchor': 'top'},\n",
    "    xaxis=dict(title='<b>Date</b>',titlefont_size=18, titlefont=dict(color='#BDBDBD')),\n",
    "    yaxis=dict(title='<b>New Cases</b>',titlefont_size=18),\n",
    "    xaxis_tickangle=90,\n",
    ")\n",
    "\n",
    "fig.show()"
   ]
  },
  {
   "cell_type": "markdown",
   "metadata": {},
   "source": [
    "### Nigeria"
   ]
  },
  {
   "cell_type": "code",
   "execution_count": 69,
   "metadata": {},
   "outputs": [],
   "source": [
    "ngr = countries_new_cases[countries_new_cases['Country_Other'] == 'Nigeria']"
   ]
  },
  {
   "cell_type": "code",
   "execution_count": 70,
   "metadata": {},
   "outputs": [
    {
     "data": {
      "application/vnd.plotly.v1+json": {
       "config": {
        "plotlyServerURL": "https://plot.ly"
       },
       "data": [
        {
         "marker": {
          "color": "#FFAA1D"
         },
         "name": "South Africa",
         "text": [
          "162",
          "100",
          "155",
          "296",
          "176",
          "197",
          "188",
          "160",
          "79",
          "132",
          "90",
          "126",
          "131",
          "221",
          "189",
          "97",
          "195",
          "176",
          "111",
          "125",
          "213",
          "136",
          "126",
          "136",
          "187",
          "201",
          "153",
          "126",
          "160",
          "58",
          "120",
          "118"
         ],
         "textposition": "outside",
         "type": "bar",
         "x": [
          "September05",
          "September06",
          "September07",
          "September08",
          "September09",
          "September10",
          "September11",
          "September12",
          "September13",
          "September14",
          "September15",
          "September16",
          "September17",
          "September18",
          "September19",
          "September20",
          "September21",
          "September22",
          "September23",
          "September24",
          "September25",
          "September26",
          "September27",
          "September28",
          "September29",
          "September30",
          "October01",
          "October02",
          "October03",
          "October04",
          "October05",
          "October06"
         ],
         "y": [
          162,
          100,
          155,
          296,
          176,
          197,
          188,
          160,
          79,
          132,
          90,
          126,
          131,
          221,
          189,
          97,
          195,
          176,
          111,
          125,
          213,
          136,
          126,
          136,
          187,
          201,
          153,
          126,
          160,
          58,
          120,
          118
         ]
        }
       ],
       "layout": {
        "template": {
         "data": {
          "bar": [
           {
            "error_x": {
             "color": "#2a3f5f"
            },
            "error_y": {
             "color": "#2a3f5f"
            },
            "marker": {
             "line": {
              "color": "#E5ECF6",
              "width": 0.5
             }
            },
            "type": "bar"
           }
          ],
          "barpolar": [
           {
            "marker": {
             "line": {
              "color": "#E5ECF6",
              "width": 0.5
             }
            },
            "type": "barpolar"
           }
          ],
          "carpet": [
           {
            "aaxis": {
             "endlinecolor": "#2a3f5f",
             "gridcolor": "white",
             "linecolor": "white",
             "minorgridcolor": "white",
             "startlinecolor": "#2a3f5f"
            },
            "baxis": {
             "endlinecolor": "#2a3f5f",
             "gridcolor": "white",
             "linecolor": "white",
             "minorgridcolor": "white",
             "startlinecolor": "#2a3f5f"
            },
            "type": "carpet"
           }
          ],
          "choropleth": [
           {
            "colorbar": {
             "outlinewidth": 0,
             "ticks": ""
            },
            "type": "choropleth"
           }
          ],
          "contour": [
           {
            "colorbar": {
             "outlinewidth": 0,
             "ticks": ""
            },
            "colorscale": [
             [
              0,
              "#0d0887"
             ],
             [
              0.1111111111111111,
              "#46039f"
             ],
             [
              0.2222222222222222,
              "#7201a8"
             ],
             [
              0.3333333333333333,
              "#9c179e"
             ],
             [
              0.4444444444444444,
              "#bd3786"
             ],
             [
              0.5555555555555556,
              "#d8576b"
             ],
             [
              0.6666666666666666,
              "#ed7953"
             ],
             [
              0.7777777777777778,
              "#fb9f3a"
             ],
             [
              0.8888888888888888,
              "#fdca26"
             ],
             [
              1,
              "#f0f921"
             ]
            ],
            "type": "contour"
           }
          ],
          "contourcarpet": [
           {
            "colorbar": {
             "outlinewidth": 0,
             "ticks": ""
            },
            "type": "contourcarpet"
           }
          ],
          "heatmap": [
           {
            "colorbar": {
             "outlinewidth": 0,
             "ticks": ""
            },
            "colorscale": [
             [
              0,
              "#0d0887"
             ],
             [
              0.1111111111111111,
              "#46039f"
             ],
             [
              0.2222222222222222,
              "#7201a8"
             ],
             [
              0.3333333333333333,
              "#9c179e"
             ],
             [
              0.4444444444444444,
              "#bd3786"
             ],
             [
              0.5555555555555556,
              "#d8576b"
             ],
             [
              0.6666666666666666,
              "#ed7953"
             ],
             [
              0.7777777777777778,
              "#fb9f3a"
             ],
             [
              0.8888888888888888,
              "#fdca26"
             ],
             [
              1,
              "#f0f921"
             ]
            ],
            "type": "heatmap"
           }
          ],
          "heatmapgl": [
           {
            "colorbar": {
             "outlinewidth": 0,
             "ticks": ""
            },
            "colorscale": [
             [
              0,
              "#0d0887"
             ],
             [
              0.1111111111111111,
              "#46039f"
             ],
             [
              0.2222222222222222,
              "#7201a8"
             ],
             [
              0.3333333333333333,
              "#9c179e"
             ],
             [
              0.4444444444444444,
              "#bd3786"
             ],
             [
              0.5555555555555556,
              "#d8576b"
             ],
             [
              0.6666666666666666,
              "#ed7953"
             ],
             [
              0.7777777777777778,
              "#fb9f3a"
             ],
             [
              0.8888888888888888,
              "#fdca26"
             ],
             [
              1,
              "#f0f921"
             ]
            ],
            "type": "heatmapgl"
           }
          ],
          "histogram": [
           {
            "marker": {
             "colorbar": {
              "outlinewidth": 0,
              "ticks": ""
             }
            },
            "type": "histogram"
           }
          ],
          "histogram2d": [
           {
            "colorbar": {
             "outlinewidth": 0,
             "ticks": ""
            },
            "colorscale": [
             [
              0,
              "#0d0887"
             ],
             [
              0.1111111111111111,
              "#46039f"
             ],
             [
              0.2222222222222222,
              "#7201a8"
             ],
             [
              0.3333333333333333,
              "#9c179e"
             ],
             [
              0.4444444444444444,
              "#bd3786"
             ],
             [
              0.5555555555555556,
              "#d8576b"
             ],
             [
              0.6666666666666666,
              "#ed7953"
             ],
             [
              0.7777777777777778,
              "#fb9f3a"
             ],
             [
              0.8888888888888888,
              "#fdca26"
             ],
             [
              1,
              "#f0f921"
             ]
            ],
            "type": "histogram2d"
           }
          ],
          "histogram2dcontour": [
           {
            "colorbar": {
             "outlinewidth": 0,
             "ticks": ""
            },
            "colorscale": [
             [
              0,
              "#0d0887"
             ],
             [
              0.1111111111111111,
              "#46039f"
             ],
             [
              0.2222222222222222,
              "#7201a8"
             ],
             [
              0.3333333333333333,
              "#9c179e"
             ],
             [
              0.4444444444444444,
              "#bd3786"
             ],
             [
              0.5555555555555556,
              "#d8576b"
             ],
             [
              0.6666666666666666,
              "#ed7953"
             ],
             [
              0.7777777777777778,
              "#fb9f3a"
             ],
             [
              0.8888888888888888,
              "#fdca26"
             ],
             [
              1,
              "#f0f921"
             ]
            ],
            "type": "histogram2dcontour"
           }
          ],
          "mesh3d": [
           {
            "colorbar": {
             "outlinewidth": 0,
             "ticks": ""
            },
            "type": "mesh3d"
           }
          ],
          "parcoords": [
           {
            "line": {
             "colorbar": {
              "outlinewidth": 0,
              "ticks": ""
             }
            },
            "type": "parcoords"
           }
          ],
          "scatter": [
           {
            "marker": {
             "colorbar": {
              "outlinewidth": 0,
              "ticks": ""
             }
            },
            "type": "scatter"
           }
          ],
          "scatter3d": [
           {
            "line": {
             "colorbar": {
              "outlinewidth": 0,
              "ticks": ""
             }
            },
            "marker": {
             "colorbar": {
              "outlinewidth": 0,
              "ticks": ""
             }
            },
            "type": "scatter3d"
           }
          ],
          "scattercarpet": [
           {
            "marker": {
             "colorbar": {
              "outlinewidth": 0,
              "ticks": ""
             }
            },
            "type": "scattercarpet"
           }
          ],
          "scattergeo": [
           {
            "marker": {
             "colorbar": {
              "outlinewidth": 0,
              "ticks": ""
             }
            },
            "type": "scattergeo"
           }
          ],
          "scattergl": [
           {
            "marker": {
             "colorbar": {
              "outlinewidth": 0,
              "ticks": ""
             }
            },
            "type": "scattergl"
           }
          ],
          "scattermapbox": [
           {
            "marker": {
             "colorbar": {
              "outlinewidth": 0,
              "ticks": ""
             }
            },
            "type": "scattermapbox"
           }
          ],
          "scatterpolar": [
           {
            "marker": {
             "colorbar": {
              "outlinewidth": 0,
              "ticks": ""
             }
            },
            "type": "scatterpolar"
           }
          ],
          "scatterpolargl": [
           {
            "marker": {
             "colorbar": {
              "outlinewidth": 0,
              "ticks": ""
             }
            },
            "type": "scatterpolargl"
           }
          ],
          "scatterternary": [
           {
            "marker": {
             "colorbar": {
              "outlinewidth": 0,
              "ticks": ""
             }
            },
            "type": "scatterternary"
           }
          ],
          "surface": [
           {
            "colorbar": {
             "outlinewidth": 0,
             "ticks": ""
            },
            "colorscale": [
             [
              0,
              "#0d0887"
             ],
             [
              0.1111111111111111,
              "#46039f"
             ],
             [
              0.2222222222222222,
              "#7201a8"
             ],
             [
              0.3333333333333333,
              "#9c179e"
             ],
             [
              0.4444444444444444,
              "#bd3786"
             ],
             [
              0.5555555555555556,
              "#d8576b"
             ],
             [
              0.6666666666666666,
              "#ed7953"
             ],
             [
              0.7777777777777778,
              "#fb9f3a"
             ],
             [
              0.8888888888888888,
              "#fdca26"
             ],
             [
              1,
              "#f0f921"
             ]
            ],
            "type": "surface"
           }
          ],
          "table": [
           {
            "cells": {
             "fill": {
              "color": "#EBF0F8"
             },
             "line": {
              "color": "white"
             }
            },
            "header": {
             "fill": {
              "color": "#C8D4E3"
             },
             "line": {
              "color": "white"
             }
            },
            "type": "table"
           }
          ]
         },
         "layout": {
          "annotationdefaults": {
           "arrowcolor": "#2a3f5f",
           "arrowhead": 0,
           "arrowwidth": 1
          },
          "colorscale": {
           "diverging": [
            [
             0,
             "#8e0152"
            ],
            [
             0.1,
             "#c51b7d"
            ],
            [
             0.2,
             "#de77ae"
            ],
            [
             0.3,
             "#f1b6da"
            ],
            [
             0.4,
             "#fde0ef"
            ],
            [
             0.5,
             "#f7f7f7"
            ],
            [
             0.6,
             "#e6f5d0"
            ],
            [
             0.7,
             "#b8e186"
            ],
            [
             0.8,
             "#7fbc41"
            ],
            [
             0.9,
             "#4d9221"
            ],
            [
             1,
             "#276419"
            ]
           ],
           "sequential": [
            [
             0,
             "#0d0887"
            ],
            [
             0.1111111111111111,
             "#46039f"
            ],
            [
             0.2222222222222222,
             "#7201a8"
            ],
            [
             0.3333333333333333,
             "#9c179e"
            ],
            [
             0.4444444444444444,
             "#bd3786"
            ],
            [
             0.5555555555555556,
             "#d8576b"
            ],
            [
             0.6666666666666666,
             "#ed7953"
            ],
            [
             0.7777777777777778,
             "#fb9f3a"
            ],
            [
             0.8888888888888888,
             "#fdca26"
            ],
            [
             1,
             "#f0f921"
            ]
           ],
           "sequentialminus": [
            [
             0,
             "#0d0887"
            ],
            [
             0.1111111111111111,
             "#46039f"
            ],
            [
             0.2222222222222222,
             "#7201a8"
            ],
            [
             0.3333333333333333,
             "#9c179e"
            ],
            [
             0.4444444444444444,
             "#bd3786"
            ],
            [
             0.5555555555555556,
             "#d8576b"
            ],
            [
             0.6666666666666666,
             "#ed7953"
            ],
            [
             0.7777777777777778,
             "#fb9f3a"
            ],
            [
             0.8888888888888888,
             "#fdca26"
            ],
            [
             1,
             "#f0f921"
            ]
           ]
          },
          "colorway": [
           "#636efa",
           "#EF553B",
           "#00cc96",
           "#ab63fa",
           "#FFA15A",
           "#19d3f3",
           "#FF6692",
           "#B6E880",
           "#FF97FF",
           "#FECB52"
          ],
          "font": {
           "color": "#2a3f5f"
          },
          "geo": {
           "bgcolor": "white",
           "lakecolor": "white",
           "landcolor": "#E5ECF6",
           "showlakes": true,
           "showland": true,
           "subunitcolor": "white"
          },
          "hoverlabel": {
           "align": "left"
          },
          "hovermode": "closest",
          "mapbox": {
           "style": "light"
          },
          "paper_bgcolor": "white",
          "plot_bgcolor": "#E5ECF6",
          "polar": {
           "angularaxis": {
            "gridcolor": "white",
            "linecolor": "white",
            "ticks": ""
           },
           "bgcolor": "#E5ECF6",
           "radialaxis": {
            "gridcolor": "white",
            "linecolor": "white",
            "ticks": ""
           }
          },
          "scene": {
           "xaxis": {
            "backgroundcolor": "#E5ECF6",
            "gridcolor": "white",
            "gridwidth": 2,
            "linecolor": "white",
            "showbackground": true,
            "ticks": "",
            "zerolinecolor": "white"
           },
           "yaxis": {
            "backgroundcolor": "#E5ECF6",
            "gridcolor": "white",
            "gridwidth": 2,
            "linecolor": "white",
            "showbackground": true,
            "ticks": "",
            "zerolinecolor": "white"
           },
           "zaxis": {
            "backgroundcolor": "#E5ECF6",
            "gridcolor": "white",
            "gridwidth": 2,
            "linecolor": "white",
            "showbackground": true,
            "ticks": "",
            "zerolinecolor": "white"
           }
          },
          "shapedefaults": {
           "line": {
            "color": "#2a3f5f"
           }
          },
          "ternary": {
           "aaxis": {
            "gridcolor": "white",
            "linecolor": "white",
            "ticks": ""
           },
           "baxis": {
            "gridcolor": "white",
            "linecolor": "white",
            "ticks": ""
           },
           "bgcolor": "#E5ECF6",
           "caxis": {
            "gridcolor": "white",
            "linecolor": "white",
            "ticks": ""
           }
          },
          "title": {
           "x": 0.05
          },
          "xaxis": {
           "automargin": true,
           "gridcolor": "white",
           "linecolor": "white",
           "ticks": "",
           "zerolinecolor": "white",
           "zerolinewidth": 2
          },
          "yaxis": {
           "automargin": true,
           "gridcolor": "white",
           "linecolor": "white",
           "ticks": "",
           "zerolinecolor": "white",
           "zerolinewidth": 2
          }
         }
        },
        "title": {
         "text": "NIGERIA - COVID19 NEW CASES",
         "x": 0.5,
         "xanchor": "center",
         "y": 0.9,
         "yanchor": "top"
        },
        "xaxis": {
         "tickangle": 90,
         "title": {
          "font": {
           "color": "#BDBDBD",
           "size": 18
          },
          "text": "<b>Date</b>"
         }
        },
        "yaxis": {
         "title": {
          "font": {
           "size": 18
          },
          "text": "<b>New Cases</b>"
         }
        }
       }
      },
      "text/html": [
       "<div>\n",
       "        \n",
       "        \n",
       "            <div id=\"acdf2daa-9524-45f3-af7c-ceab4bea0d03\" class=\"plotly-graph-div\" style=\"height:525px; width:100%;\"></div>\n",
       "            <script type=\"text/javascript\">\n",
       "                require([\"plotly\"], function(Plotly) {\n",
       "                    window.PLOTLYENV=window.PLOTLYENV || {};\n",
       "                    \n",
       "                if (document.getElementById(\"acdf2daa-9524-45f3-af7c-ceab4bea0d03\")) {\n",
       "                    Plotly.newPlot(\n",
       "                        'acdf2daa-9524-45f3-af7c-ceab4bea0d03',\n",
       "                        [{\"marker\": {\"color\": \"#FFAA1D\"}, \"name\": \"South Africa\", \"text\": [\"162\", \"100\", \"155\", \"296\", \"176\", \"197\", \"188\", \"160\", \"79\", \"132\", \"90\", \"126\", \"131\", \"221\", \"189\", \"97\", \"195\", \"176\", \"111\", \"125\", \"213\", \"136\", \"126\", \"136\", \"187\", \"201\", \"153\", \"126\", \"160\", \"58\", \"120\", \"118\"], \"textposition\": \"outside\", \"type\": \"bar\", \"x\": [\"September05\", \"September06\", \"September07\", \"September08\", \"September09\", \"September10\", \"September11\", \"September12\", \"September13\", \"September14\", \"September15\", \"September16\", \"September17\", \"September18\", \"September19\", \"September20\", \"September21\", \"September22\", \"September23\", \"September24\", \"September25\", \"September26\", \"September27\", \"September28\", \"September29\", \"September30\", \"October01\", \"October02\", \"October03\", \"October04\", \"October05\", \"October06\"], \"y\": [162, 100, 155, 296, 176, 197, 188, 160, 79, 132, 90, 126, 131, 221, 189, 97, 195, 176, 111, 125, 213, 136, 126, 136, 187, 201, 153, 126, 160, 58, 120, 118]}],\n",
       "                        {\"template\": {\"data\": {\"bar\": [{\"error_x\": {\"color\": \"#2a3f5f\"}, \"error_y\": {\"color\": \"#2a3f5f\"}, \"marker\": {\"line\": {\"color\": \"#E5ECF6\", \"width\": 0.5}}, \"type\": \"bar\"}], \"barpolar\": [{\"marker\": {\"line\": {\"color\": \"#E5ECF6\", \"width\": 0.5}}, \"type\": \"barpolar\"}], \"carpet\": [{\"aaxis\": {\"endlinecolor\": \"#2a3f5f\", \"gridcolor\": \"white\", \"linecolor\": \"white\", \"minorgridcolor\": \"white\", \"startlinecolor\": \"#2a3f5f\"}, \"baxis\": {\"endlinecolor\": \"#2a3f5f\", \"gridcolor\": \"white\", \"linecolor\": \"white\", \"minorgridcolor\": \"white\", \"startlinecolor\": \"#2a3f5f\"}, \"type\": \"carpet\"}], \"choropleth\": [{\"colorbar\": {\"outlinewidth\": 0, \"ticks\": \"\"}, \"type\": \"choropleth\"}], \"contour\": [{\"colorbar\": {\"outlinewidth\": 0, \"ticks\": \"\"}, \"colorscale\": [[0.0, \"#0d0887\"], [0.1111111111111111, \"#46039f\"], [0.2222222222222222, \"#7201a8\"], [0.3333333333333333, \"#9c179e\"], [0.4444444444444444, \"#bd3786\"], [0.5555555555555556, \"#d8576b\"], [0.6666666666666666, \"#ed7953\"], [0.7777777777777778, \"#fb9f3a\"], [0.8888888888888888, \"#fdca26\"], [1.0, \"#f0f921\"]], \"type\": \"contour\"}], \"contourcarpet\": [{\"colorbar\": {\"outlinewidth\": 0, \"ticks\": \"\"}, \"type\": \"contourcarpet\"}], \"heatmap\": [{\"colorbar\": {\"outlinewidth\": 0, \"ticks\": \"\"}, \"colorscale\": [[0.0, \"#0d0887\"], [0.1111111111111111, \"#46039f\"], [0.2222222222222222, \"#7201a8\"], [0.3333333333333333, \"#9c179e\"], [0.4444444444444444, \"#bd3786\"], [0.5555555555555556, \"#d8576b\"], [0.6666666666666666, \"#ed7953\"], [0.7777777777777778, \"#fb9f3a\"], [0.8888888888888888, \"#fdca26\"], [1.0, \"#f0f921\"]], \"type\": \"heatmap\"}], \"heatmapgl\": [{\"colorbar\": {\"outlinewidth\": 0, \"ticks\": \"\"}, \"colorscale\": [[0.0, \"#0d0887\"], [0.1111111111111111, \"#46039f\"], [0.2222222222222222, \"#7201a8\"], [0.3333333333333333, \"#9c179e\"], [0.4444444444444444, \"#bd3786\"], [0.5555555555555556, \"#d8576b\"], [0.6666666666666666, \"#ed7953\"], [0.7777777777777778, \"#fb9f3a\"], [0.8888888888888888, \"#fdca26\"], [1.0, \"#f0f921\"]], \"type\": \"heatmapgl\"}], \"histogram\": [{\"marker\": {\"colorbar\": {\"outlinewidth\": 0, \"ticks\": \"\"}}, \"type\": \"histogram\"}], \"histogram2d\": [{\"colorbar\": {\"outlinewidth\": 0, \"ticks\": \"\"}, \"colorscale\": [[0.0, \"#0d0887\"], [0.1111111111111111, \"#46039f\"], [0.2222222222222222, \"#7201a8\"], [0.3333333333333333, \"#9c179e\"], [0.4444444444444444, \"#bd3786\"], [0.5555555555555556, \"#d8576b\"], [0.6666666666666666, \"#ed7953\"], [0.7777777777777778, \"#fb9f3a\"], [0.8888888888888888, \"#fdca26\"], [1.0, \"#f0f921\"]], \"type\": \"histogram2d\"}], \"histogram2dcontour\": [{\"colorbar\": {\"outlinewidth\": 0, \"ticks\": \"\"}, \"colorscale\": [[0.0, \"#0d0887\"], [0.1111111111111111, \"#46039f\"], [0.2222222222222222, \"#7201a8\"], [0.3333333333333333, \"#9c179e\"], [0.4444444444444444, \"#bd3786\"], [0.5555555555555556, \"#d8576b\"], [0.6666666666666666, \"#ed7953\"], [0.7777777777777778, \"#fb9f3a\"], [0.8888888888888888, \"#fdca26\"], [1.0, \"#f0f921\"]], \"type\": \"histogram2dcontour\"}], \"mesh3d\": [{\"colorbar\": {\"outlinewidth\": 0, \"ticks\": \"\"}, \"type\": \"mesh3d\"}], \"parcoords\": [{\"line\": {\"colorbar\": {\"outlinewidth\": 0, \"ticks\": \"\"}}, \"type\": \"parcoords\"}], \"scatter\": [{\"marker\": {\"colorbar\": {\"outlinewidth\": 0, \"ticks\": \"\"}}, \"type\": \"scatter\"}], \"scatter3d\": [{\"line\": {\"colorbar\": {\"outlinewidth\": 0, \"ticks\": \"\"}}, \"marker\": {\"colorbar\": {\"outlinewidth\": 0, \"ticks\": \"\"}}, \"type\": \"scatter3d\"}], \"scattercarpet\": [{\"marker\": {\"colorbar\": {\"outlinewidth\": 0, \"ticks\": \"\"}}, \"type\": \"scattercarpet\"}], \"scattergeo\": [{\"marker\": {\"colorbar\": {\"outlinewidth\": 0, \"ticks\": \"\"}}, \"type\": \"scattergeo\"}], \"scattergl\": [{\"marker\": {\"colorbar\": {\"outlinewidth\": 0, \"ticks\": \"\"}}, \"type\": \"scattergl\"}], \"scattermapbox\": [{\"marker\": {\"colorbar\": {\"outlinewidth\": 0, \"ticks\": \"\"}}, \"type\": \"scattermapbox\"}], \"scatterpolar\": [{\"marker\": {\"colorbar\": {\"outlinewidth\": 0, \"ticks\": \"\"}}, \"type\": \"scatterpolar\"}], \"scatterpolargl\": [{\"marker\": {\"colorbar\": {\"outlinewidth\": 0, \"ticks\": \"\"}}, \"type\": \"scatterpolargl\"}], \"scatterternary\": [{\"marker\": {\"colorbar\": {\"outlinewidth\": 0, \"ticks\": \"\"}}, \"type\": \"scatterternary\"}], \"surface\": [{\"colorbar\": {\"outlinewidth\": 0, \"ticks\": \"\"}, \"colorscale\": [[0.0, \"#0d0887\"], [0.1111111111111111, \"#46039f\"], [0.2222222222222222, \"#7201a8\"], [0.3333333333333333, \"#9c179e\"], [0.4444444444444444, \"#bd3786\"], [0.5555555555555556, \"#d8576b\"], [0.6666666666666666, \"#ed7953\"], [0.7777777777777778, \"#fb9f3a\"], [0.8888888888888888, \"#fdca26\"], [1.0, \"#f0f921\"]], \"type\": \"surface\"}], \"table\": [{\"cells\": {\"fill\": {\"color\": \"#EBF0F8\"}, \"line\": {\"color\": \"white\"}}, \"header\": {\"fill\": {\"color\": \"#C8D4E3\"}, \"line\": {\"color\": \"white\"}}, \"type\": \"table\"}]}, \"layout\": {\"annotationdefaults\": {\"arrowcolor\": \"#2a3f5f\", \"arrowhead\": 0, \"arrowwidth\": 1}, \"colorscale\": {\"diverging\": [[0, \"#8e0152\"], [0.1, \"#c51b7d\"], [0.2, \"#de77ae\"], [0.3, \"#f1b6da\"], [0.4, \"#fde0ef\"], [0.5, \"#f7f7f7\"], [0.6, \"#e6f5d0\"], [0.7, \"#b8e186\"], [0.8, \"#7fbc41\"], [0.9, \"#4d9221\"], [1, \"#276419\"]], \"sequential\": [[0.0, \"#0d0887\"], [0.1111111111111111, \"#46039f\"], [0.2222222222222222, \"#7201a8\"], [0.3333333333333333, \"#9c179e\"], [0.4444444444444444, \"#bd3786\"], [0.5555555555555556, \"#d8576b\"], [0.6666666666666666, \"#ed7953\"], [0.7777777777777778, \"#fb9f3a\"], [0.8888888888888888, \"#fdca26\"], [1.0, \"#f0f921\"]], \"sequentialminus\": [[0.0, \"#0d0887\"], [0.1111111111111111, \"#46039f\"], [0.2222222222222222, \"#7201a8\"], [0.3333333333333333, \"#9c179e\"], [0.4444444444444444, \"#bd3786\"], [0.5555555555555556, \"#d8576b\"], [0.6666666666666666, \"#ed7953\"], [0.7777777777777778, \"#fb9f3a\"], [0.8888888888888888, \"#fdca26\"], [1.0, \"#f0f921\"]]}, \"colorway\": [\"#636efa\", \"#EF553B\", \"#00cc96\", \"#ab63fa\", \"#FFA15A\", \"#19d3f3\", \"#FF6692\", \"#B6E880\", \"#FF97FF\", \"#FECB52\"], \"font\": {\"color\": \"#2a3f5f\"}, \"geo\": {\"bgcolor\": \"white\", \"lakecolor\": \"white\", \"landcolor\": \"#E5ECF6\", \"showlakes\": true, \"showland\": true, \"subunitcolor\": \"white\"}, \"hoverlabel\": {\"align\": \"left\"}, \"hovermode\": \"closest\", \"mapbox\": {\"style\": \"light\"}, \"paper_bgcolor\": \"white\", \"plot_bgcolor\": \"#E5ECF6\", \"polar\": {\"angularaxis\": {\"gridcolor\": \"white\", \"linecolor\": \"white\", \"ticks\": \"\"}, \"bgcolor\": \"#E5ECF6\", \"radialaxis\": {\"gridcolor\": \"white\", \"linecolor\": \"white\", \"ticks\": \"\"}}, \"scene\": {\"xaxis\": {\"backgroundcolor\": \"#E5ECF6\", \"gridcolor\": \"white\", \"gridwidth\": 2, \"linecolor\": \"white\", \"showbackground\": true, \"ticks\": \"\", \"zerolinecolor\": \"white\"}, \"yaxis\": {\"backgroundcolor\": \"#E5ECF6\", \"gridcolor\": \"white\", \"gridwidth\": 2, \"linecolor\": \"white\", \"showbackground\": true, \"ticks\": \"\", \"zerolinecolor\": \"white\"}, \"zaxis\": {\"backgroundcolor\": \"#E5ECF6\", \"gridcolor\": \"white\", \"gridwidth\": 2, \"linecolor\": \"white\", \"showbackground\": true, \"ticks\": \"\", \"zerolinecolor\": \"white\"}}, \"shapedefaults\": {\"line\": {\"color\": \"#2a3f5f\"}}, \"ternary\": {\"aaxis\": {\"gridcolor\": \"white\", \"linecolor\": \"white\", \"ticks\": \"\"}, \"baxis\": {\"gridcolor\": \"white\", \"linecolor\": \"white\", \"ticks\": \"\"}, \"bgcolor\": \"#E5ECF6\", \"caxis\": {\"gridcolor\": \"white\", \"linecolor\": \"white\", \"ticks\": \"\"}}, \"title\": {\"x\": 0.05}, \"xaxis\": {\"automargin\": true, \"gridcolor\": \"white\", \"linecolor\": \"white\", \"ticks\": \"\", \"zerolinecolor\": \"white\", \"zerolinewidth\": 2}, \"yaxis\": {\"automargin\": true, \"gridcolor\": \"white\", \"linecolor\": \"white\", \"ticks\": \"\", \"zerolinecolor\": \"white\", \"zerolinewidth\": 2}}}, \"title\": {\"text\": \"NIGERIA - COVID19 NEW CASES\", \"x\": 0.5, \"xanchor\": \"center\", \"y\": 0.9, \"yanchor\": \"top\"}, \"xaxis\": {\"tickangle\": 90, \"title\": {\"font\": {\"color\": \"#BDBDBD\", \"size\": 18}, \"text\": \"<b>Date</b>\"}}, \"yaxis\": {\"title\": {\"font\": {\"size\": 18}, \"text\": \"<b>New Cases</b>\"}}},\n",
       "                        {\"responsive\": true}\n",
       "                    ).then(function(){\n",
       "                            \n",
       "var gd = document.getElementById('acdf2daa-9524-45f3-af7c-ceab4bea0d03');\n",
       "var x = new MutationObserver(function (mutations, observer) {{\n",
       "        var display = window.getComputedStyle(gd).display;\n",
       "        if (!display || display === 'none') {{\n",
       "            console.log([gd, 'removed!']);\n",
       "            Plotly.purge(gd);\n",
       "            observer.disconnect();\n",
       "        }}\n",
       "}});\n",
       "\n",
       "// Listen for the removal of the full notebook cells\n",
       "var notebookContainer = gd.closest('#notebook-container');\n",
       "if (notebookContainer) {{\n",
       "    x.observe(notebookContainer, {childList: true});\n",
       "}}\n",
       "\n",
       "// Listen for the clearing of the current output cell\n",
       "var outputEl = gd.closest('.output');\n",
       "if (outputEl) {{\n",
       "    x.observe(outputEl, {childList: true});\n",
       "}}\n",
       "\n",
       "                        })\n",
       "                };\n",
       "                });\n",
       "            </script>\n",
       "        </div>"
      ]
     },
     "metadata": {},
     "output_type": "display_data"
    }
   ],
   "source": [
    "fig = go.Figure()\n",
    "\n",
    "ngr_total_per_day = []\n",
    "for date in dates:    \n",
    "    total = ngr[date].str.replace('+','').fillna(0).str.replace(',','').fillna(0).astype(int)\n",
    "    ngr_total_per_day.append(int(total))\n",
    "    \n",
    "fig.add_trace(go.Bar(x=dates[-32:],  y = ngr_total_per_day[-32:],text=ngr_total_per_day[-32:],textposition='outside',name = \"South Africa\",marker_color='#FFAA1D'))\n",
    "fig.update_layout(\n",
    "    title={\n",
    "        'text': \"NIGERIA - COVID19 NEW CASES\",\n",
    "        'y':0.9,\n",
    "        'x':0.5,\n",
    "        'xanchor': 'center',\n",
    "        'yanchor': 'top'},\n",
    "    xaxis=dict(title='<b>Date</b>',titlefont_size=18, titlefont=dict(color='#BDBDBD')),\n",
    "    yaxis=dict(title='<b>New Cases</b>',titlefont_size=18),\n",
    "    xaxis_tickangle=90,\n",
    ")\n",
    "\n",
    "fig.show()"
   ]
  },
  {
   "cell_type": "markdown",
   "metadata": {},
   "source": [
    "<a id='top_six'></a>"
   ]
  },
  {
   "cell_type": "markdown",
   "metadata": {},
   "source": [
    "[Return to top](#top)"
   ]
  },
  {
   "cell_type": "code",
   "execution_count": 71,
   "metadata": {},
   "outputs": [
    {
     "data": {
      "image/png": "[encoded data removed]",
      "text/plain": [
       "<Figure size 1440x864 with 6 Axes>"
      ]
     },
     "metadata": {
      "needs_background": "light"
     },
     "output_type": "display_data"
    }
   ],
   "source": [
    "fig = plt.figure(figsize=(20, 12))\n",
    "plt.suptitle('COVID19 NEW CASES IN SOME AFRICAN COUNTRIES: '+ date_string , fontsize=16)\n",
    "afrik_counts = ['South Africa', 'Egypt','Morocco','Ethiopia', 'Nigeria','Algeria']\n",
    "count_total_per_day=[]\n",
    "axes_y_position ={'y1':1.0}\n",
    "# plt.ylabel('y-axis',  fontsize=12, labelpad=40)   \n",
    "for count in afrik_counts:\n",
    "    afrik_count = countries_new_cases[countries_new_cases['Country_Other'] == count]\n",
    "    afrik_count =  afrik_count.copy()\n",
    "    afrik_count.fillna(0, inplace=True)\n",
    "    \n",
    "    for date in dates: \n",
    "        if afrik_count[date].values[0] == 0:\n",
    "            total = afrik_count[date].values[0]\n",
    "            count_total_per_day.append(int(total))\n",
    "        else: \n",
    "            total = afrik_count[date].str.replace('+','').fillna(0).str.replace(',','').fillna(0).astype(int)\n",
    "            count_total_per_day.append(int(total))\n",
    "    \n",
    "\n",
    "    ax = fig.add_subplot(3,2,afrik_counts.index(count) + 1)\n",
    "    ax.plot(dates, count_total_per_day, color='#FF800E', linewidth=2.5)\n",
    "    ax.set_title(count)\n",
    "    if afrik_counts.index(count)== 2:\n",
    "        ax.set_ylabel('New Cases', fontsize=24, color='#848484')\n",
    "\n",
    "        \n",
    "    \n",
    "    \n",
    "    plt.xticks(rotation=90, fontsize=14)\n",
    "    plt.yticks(fontsize=12)\n",
    "    ax.xaxis.set_major_locator(plt.MaxNLocator(6))\n",
    "    if ax.get_position().y1 < axes_y_position['y1']:\n",
    "        axes_y_position['y1'] = ax.get_position().y1\n",
    "\n",
    "    \n",
    "    count_total_per_day=[] \n",
    "for a in fig.get_axes():\n",
    "    if a.get_position().y1 != axes_y_position['y1']:\n",
    "        tick_labels = ['']*len(a.get_xticklabels())\n",
    "        a.set_xticklabels(tick_labels)\n",
    "        \n"
   ]
  },
  {
   "cell_type": "markdown",
   "metadata": {},
   "source": [
    "[Return to top](#top)                                                                                                "
   ]
  }
 ],
 "metadata": {
  "kernelspec": {
   "display_name": "Python 3",
   "language": "python",
   "name": "python3"
  },
  "language_info": {
   "codemirror_mode": {
    "name": "ipython",
    "version": 3
   },
   "file_extension": ".py",
   "mimetype": "text/x-python",
   "name": "python",
   "nbconvert_exporter": "python",
   "pygments_lexer": "ipython3",
   "version": "3.7.4"
  }
 },
 "nbformat": 4,
 "nbformat_minor": 2
}
