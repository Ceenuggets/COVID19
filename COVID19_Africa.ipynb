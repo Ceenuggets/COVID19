{
 "cells": [
  {
   "cell_type": "markdown",
   "metadata": {},
   "source": [
    "# AFRICA COVID19 ANALYSIS"
   ]
  },
  {
   "cell_type": "code",
   "execution_count": 69,
   "metadata": {},
   "outputs": [],
   "source": [
    "import pandas as pd\n",
    "import numpy as np\n",
    "import plotly.graph_objs as go\n",
    "from plotly.subplots import make_subplots\n",
    "import os\n",
    "import datetime\n",
    "from datetime import date\n",
    "%matplotlib inline"
   ]
  },
  {
   "cell_type": "code",
   "execution_count": 70,
   "metadata": {},
   "outputs": [],
   "source": [
    "#SELECT  MOST RECENT DAILY CASES FILE NAME FOR AFRICAN REGIONS\n",
    "def most_recent_new_cases(path):\n",
    "    next_mostrecent_CSV ={}\n",
    "    files = os.listdir(path)\n",
    "    new_casesCSV_files = [file for file in files if file[-3:] == 'csv' and file[-20:-12] == 'NewCases']\n",
    "    date_conversion = [datetime.datetime.strptime(date_slice[-12:-4], '%d%m%Y') for date_slice in new_casesCSV_files]\n",
    "    current_date = datetime.datetime.now().strftime(\"%d%m%Y\")\n",
    "    current_date_conversion = datetime.datetime.strptime(current_date,'%d%m%Y')\n",
    "    for given_date in date_conversion:\n",
    "        datetime_string= given_date.strftime('%d')+given_date.strftime('%m')+given_date.strftime('%Y')\n",
    "        particular_date = [datee  for datee in new_casesCSV_files if datee[-12:-4] == datetime_string]\n",
    "        timediff_seconds = current_date_conversion - given_date\n",
    "        next_mostrecent_CSV[particular_date[0]] = timediff_seconds.total_seconds()\n",
    "        sorted_next_mostrecent_CSV = sorted(next_mostrecent_CSV.items(), key=lambda kv: kv[1])\n",
    "    return sorted_next_mostrecent_CSV[0][0]"
   ]
  },
  {
   "cell_type": "code",
   "execution_count": 71,
   "metadata": {},
   "outputs": [
    {
     "data": {
      "text/plain": [
       "'WestAfricaNewCases13082020.csv'"
      ]
     },
     "execution_count": 71,
     "metadata": {},
     "output_type": "execute_result"
    }
   ],
   "source": [
    "ea_latest = most_recent_new_cases(\"..\\COVID19\\Africa\\EastAfrica\")\n",
    "wa_latest = most_recent_new_cases(\"..\\COVID19\\Africa\\WestAfrica\")\n",
    "na_latest = most_recent_new_cases(\"..\\COVID19\\Africa\\\\NorthAfrica\")\n",
    "sa_latest = most_recent_new_cases(\"..\\COVID19\\Africa\\SouthernAfrica\")\n",
    "ca_latest = most_recent_new_cases(\"..\\COVID19\\Africa\\CentralAfrica\")\n",
    "wa_latest"
   ]
  },
  {
   "cell_type": "markdown",
   "metadata": {},
   "source": [
    "## Loading the files..."
   ]
  },
  {
   "cell_type": "code",
   "execution_count": 72,
   "metadata": {},
   "outputs": [],
   "source": [
    "east_africa= pd.read_csv('../COVID19/Africa/EastAfrica/'+ ea_latest, dtype=object, encoding='utf-8')\n",
    "west_africa = pd.read_csv('../COVID19/Africa/WestAfrica/'+wa_latest, dtype=object, encoding='utf-8')\n",
    "north_africa = pd.read_csv('../COVID19/Africa/NorthAfrica/'+na_latest,dtype=object,  encoding='utf-8')\n",
    "southern_africa= pd.read_csv('../COVID19/Africa/SouthernAfrica/'+sa_latest, dtype=object, encoding='utf-8')\n",
    "central_africa = pd.read_csv('../COVID19/Africa/CentralAfrica/'+ca_latest, dtype=object, encoding='utf-8')"
   ]
  },
  {
   "cell_type": "code",
   "execution_count": 73,
   "metadata": {},
   "outputs": [
    {
     "data": {
      "text/html": [
       "<div>\n",
       "<style scoped>\n",
       "    .dataframe tbody tr th:only-of-type {\n",
       "        vertical-align: middle;\n",
       "    }\n",
       "\n",
       "    .dataframe tbody tr th {\n",
       "        vertical-align: top;\n",
       "    }\n",
       "\n",
       "    .dataframe thead th {\n",
       "        text-align: right;\n",
       "    }\n",
       "</style>\n",
       "<table border=\"1\" class=\"dataframe\">\n",
       "  <thead>\n",
       "    <tr style=\"text-align: right;\">\n",
       "      <th></th>\n",
       "      <th>Country_Other</th>\n",
       "      <th>April16</th>\n",
       "      <th>April17</th>\n",
       "      <th>April18</th>\n",
       "      <th>April19</th>\n",
       "      <th>April20</th>\n",
       "      <th>April21</th>\n",
       "      <th>April22</th>\n",
       "      <th>April23</th>\n",
       "      <th>April24</th>\n",
       "      <th>...</th>\n",
       "      <th>August04</th>\n",
       "      <th>August05</th>\n",
       "      <th>August06</th>\n",
       "      <th>August07</th>\n",
       "      <th>August08</th>\n",
       "      <th>August09</th>\n",
       "      <th>August10</th>\n",
       "      <th>August11</th>\n",
       "      <th>August12</th>\n",
       "      <th>August13</th>\n",
       "    </tr>\n",
       "  </thead>\n",
       "  <tbody>\n",
       "    <tr>\n",
       "      <td>0</td>\n",
       "      <td>Ivory Coast</td>\n",
       "      <td>0</td>\n",
       "      <td>+34</td>\n",
       "      <td>+113</td>\n",
       "      <td>+46</td>\n",
       "      <td>+32</td>\n",
       "      <td>+37</td>\n",
       "      <td>+36</td>\n",
       "      <td>+52</td>\n",
       "      <td>+73</td>\n",
       "      <td>...</td>\n",
       "      <td>+73</td>\n",
       "      <td>+56</td>\n",
       "      <td>+98</td>\n",
       "      <td>+77</td>\n",
       "      <td>+96</td>\n",
       "      <td>+95</td>\n",
       "      <td>+83</td>\n",
       "      <td>+49</td>\n",
       "      <td>0</td>\n",
       "      <td>+42</td>\n",
       "    </tr>\n",
       "    <tr>\n",
       "      <td>1</td>\n",
       "      <td>Ghana</td>\n",
       "      <td>0</td>\n",
       "      <td>0</td>\n",
       "      <td>+193</td>\n",
       "      <td>+208</td>\n",
       "      <td>0</td>\n",
       "      <td>0</td>\n",
       "      <td>+112</td>\n",
       "      <td>0</td>\n",
       "      <td>+125</td>\n",
       "      <td>...</td>\n",
       "      <td>0</td>\n",
       "      <td>+1,263</td>\n",
       "      <td>+567</td>\n",
       "      <td>+455</td>\n",
       "      <td>+436</td>\n",
       "      <td>+470</td>\n",
       "      <td>+209</td>\n",
       "      <td>+192</td>\n",
       "      <td>+168</td>\n",
       "      <td>+153</td>\n",
       "    </tr>\n",
       "    <tr>\n",
       "      <td>2</td>\n",
       "      <td>Niger</td>\n",
       "      <td>0</td>\n",
       "      <td>+43</td>\n",
       "      <td>+12</td>\n",
       "      <td>+9</td>\n",
       "      <td>0</td>\n",
       "      <td>+9</td>\n",
       "      <td>+5</td>\n",
       "      <td>+9</td>\n",
       "      <td>+10</td>\n",
       "      <td>...</td>\n",
       "      <td>0</td>\n",
       "      <td>0</td>\n",
       "      <td>+1</td>\n",
       "      <td>0</td>\n",
       "      <td>+4</td>\n",
       "      <td>+1</td>\n",
       "      <td>0</td>\n",
       "      <td>0</td>\n",
       "      <td>+3</td>\n",
       "      <td>0</td>\n",
       "    </tr>\n",
       "    <tr>\n",
       "      <td>3</td>\n",
       "      <td>Burkina Faso</td>\n",
       "      <td>+4</td>\n",
       "      <td>+11</td>\n",
       "      <td>+8</td>\n",
       "      <td>+11</td>\n",
       "      <td>+5</td>\n",
       "      <td>+19</td>\n",
       "      <td>+9</td>\n",
       "      <td>+7</td>\n",
       "      <td>+13</td>\n",
       "      <td>...</td>\n",
       "      <td>+3</td>\n",
       "      <td>0</td>\n",
       "      <td>+5</td>\n",
       "      <td>0</td>\n",
       "      <td>+17</td>\n",
       "      <td>0</td>\n",
       "      <td>+29</td>\n",
       "      <td>+7</td>\n",
       "      <td>+2</td>\n",
       "      <td>+15</td>\n",
       "    </tr>\n",
       "    <tr>\n",
       "      <td>4</td>\n",
       "      <td>Nigeria</td>\n",
       "      <td>+35</td>\n",
       "      <td>+51</td>\n",
       "      <td>+49</td>\n",
       "      <td>+85</td>\n",
       "      <td>+38</td>\n",
       "      <td>+117</td>\n",
       "      <td>+91</td>\n",
       "      <td>+108</td>\n",
       "      <td>+114</td>\n",
       "      <td>...</td>\n",
       "      <td>+304</td>\n",
       "      <td>+457</td>\n",
       "      <td>+354</td>\n",
       "      <td>+443</td>\n",
       "      <td>+453</td>\n",
       "      <td>+437</td>\n",
       "      <td>+290</td>\n",
       "      <td>+423</td>\n",
       "      <td>+453</td>\n",
       "      <td>+373</td>\n",
       "    </tr>\n",
       "  </tbody>\n",
       "</table>\n",
       "<p>5 rows × 121 columns</p>\n",
       "</div>"
      ],
      "text/plain": [
       "  Country_Other April16 April17 April18 April19 April20 April21 April22  \\\n",
       "0   Ivory Coast       0     +34    +113     +46     +32     +37     +36   \n",
       "1         Ghana       0       0    +193    +208       0       0    +112   \n",
       "2         Niger       0     +43     +12      +9       0      +9      +5   \n",
       "3  Burkina Faso      +4     +11      +8     +11      +5     +19      +9   \n",
       "4       Nigeria     +35     +51     +49     +85     +38    +117     +91   \n",
       "\n",
       "  April23 April24  ... August04 August05 August06 August07 August08 August09  \\\n",
       "0     +52     +73  ...      +73      +56      +98      +77      +96      +95   \n",
       "1       0    +125  ...        0   +1,263     +567     +455     +436     +470   \n",
       "2      +9     +10  ...        0        0       +1        0       +4       +1   \n",
       "3      +7     +13  ...       +3        0       +5        0      +17        0   \n",
       "4    +108    +114  ...     +304     +457     +354     +443     +453     +437   \n",
       "\n",
       "  August10 August11 August12 August13  \n",
       "0      +83      +49        0      +42  \n",
       "1     +209     +192     +168     +153  \n",
       "2        0        0       +3        0  \n",
       "3      +29       +7       +2      +15  \n",
       "4     +290     +423     +453     +373  \n",
       "\n",
       "[5 rows x 121 columns]"
      ]
     },
     "execution_count": 73,
     "metadata": {},
     "output_type": "execute_result"
    }
   ],
   "source": [
    "west_africa.head()"
   ]
  },
  {
   "cell_type": "markdown",
   "metadata": {},
   "source": [
    "## SUMMARY FOR AFRICA"
   ]
  },
  {
   "cell_type": "code",
   "execution_count": 74,
   "metadata": {},
   "outputs": [
    {
     "data": {
      "text/html": [
       "<div>\n",
       "<style scoped>\n",
       "    .dataframe tbody tr th:only-of-type {\n",
       "        vertical-align: middle;\n",
       "    }\n",
       "\n",
       "    .dataframe tbody tr th {\n",
       "        vertical-align: top;\n",
       "    }\n",
       "\n",
       "    .dataframe thead th {\n",
       "        text-align: right;\n",
       "    }\n",
       "</style>\n",
       "<table border=\"1\" class=\"dataframe\">\n",
       "  <thead>\n",
       "    <tr style=\"text-align: right;\">\n",
       "      <th></th>\n",
       "      <th>Date</th>\n",
       "      <th>Total_Cases</th>\n",
       "      <th>New_Cases</th>\n",
       "      <th>Total_Deaths</th>\n",
       "      <th>New_Deaths</th>\n",
       "      <th>Total_Recovered</th>\n",
       "      <th>Active_Cases</th>\n",
       "      <th>Serious_Critical</th>\n",
       "    </tr>\n",
       "  </thead>\n",
       "  <tbody>\n",
       "    <tr>\n",
       "      <td>115</td>\n",
       "      <td>August09</td>\n",
       "      <td>1052094</td>\n",
       "      <td>12416</td>\n",
       "      <td>23324</td>\n",
       "      <td>358</td>\n",
       "      <td>736638</td>\n",
       "      <td>292132</td>\n",
       "      <td>1200</td>\n",
       "    </tr>\n",
       "    <tr>\n",
       "      <td>116</td>\n",
       "      <td>August10</td>\n",
       "      <td>1061098</td>\n",
       "      <td>8914</td>\n",
       "      <td>23643</td>\n",
       "      <td>319</td>\n",
       "      <td>747414</td>\n",
       "      <td>290041</td>\n",
       "      <td>1161</td>\n",
       "    </tr>\n",
       "    <tr>\n",
       "      <td>117</td>\n",
       "      <td>August11</td>\n",
       "      <td>1069093</td>\n",
       "      <td>7995</td>\n",
       "      <td>23912</td>\n",
       "      <td>269</td>\n",
       "      <td>761619</td>\n",
       "      <td>283562</td>\n",
       "      <td>1207</td>\n",
       "    </tr>\n",
       "    <tr>\n",
       "      <td>118</td>\n",
       "      <td>August12</td>\n",
       "      <td>1078301</td>\n",
       "      <td>9208</td>\n",
       "      <td>24322</td>\n",
       "      <td>410</td>\n",
       "      <td>772365</td>\n",
       "      <td>281614</td>\n",
       "      <td>1211</td>\n",
       "    </tr>\n",
       "    <tr>\n",
       "      <td>119</td>\n",
       "      <td>August13</td>\n",
       "      <td>1088777</td>\n",
       "      <td>10476</td>\n",
       "      <td>24727</td>\n",
       "      <td>405</td>\n",
       "      <td>783617</td>\n",
       "      <td>280433</td>\n",
       "      <td>1188</td>\n",
       "    </tr>\n",
       "  </tbody>\n",
       "</table>\n",
       "</div>"
      ],
      "text/plain": [
       "         Date  Total_Cases  New_Cases  Total_Deaths  New_Deaths  \\\n",
       "115  August09      1052094      12416         23324         358   \n",
       "116  August10      1061098       8914         23643         319   \n",
       "117  August11      1069093       7995         23912         269   \n",
       "118  August12      1078301       9208         24322         410   \n",
       "119  August13      1088777      10476         24727         405   \n",
       "\n",
       "     Total_Recovered  Active_Cases  Serious_Critical  \n",
       "115           736638        292132              1200  \n",
       "116           747414        290041              1161  \n",
       "117           761619        283562              1207  \n",
       "118           772365        281614              1211  \n",
       "119           783617        280433              1188  "
      ]
     },
     "execution_count": 74,
     "metadata": {},
     "output_type": "execute_result"
    }
   ],
   "source": [
    "african_summary =  pd.read_csv('../COVID19/World/WorldSummary/Africa/Africa_summary.csv', encoding='utf-8')\n",
    "african_summary.tail()"
   ]
  },
  {
   "cell_type": "code",
   "execution_count": 75,
   "metadata": {},
   "outputs": [
    {
     "data": {
      "text/plain": [
       "'August 13, 2020'"
      ]
     },
     "execution_count": 75,
     "metadata": {},
     "output_type": "execute_result"
    }
   ],
   "source": [
    "d = datetime.datetime.strptime(ea_latest[18:26], '%d%m%Y')\n",
    "date_string = d.strftime('%B') + ' ' +d.strftime('%d') + ', '+ d.strftime('%Y')\n",
    "date_string "
   ]
  },
  {
   "cell_type": "code",
   "execution_count": 76,
   "metadata": {},
   "outputs": [],
   "source": [
    "dates = east_africa.columns.to_list()\n",
    "dates = dates[1:]"
   ]
  },
  {
   "cell_type": "code",
   "execution_count": 77,
   "metadata": {},
   "outputs": [
    {
     "data": {
      "application/vnd.plotly.v1+json": {
       "config": {
        "plotlyServerURL": "https://plot.ly"
       },
       "data": [
        {
         "mode": "lines",
         "name": "Total_Cases",
         "type": "scatter",
         "x": [
          "April16",
          "April17",
          "April18",
          "April19",
          "April20",
          "April21",
          "April22",
          "April23",
          "April24",
          "April25",
          "April26",
          "April27",
          "April28",
          "April29",
          "April30",
          "May01",
          "May02",
          "May03",
          "May04",
          "May05",
          "May06",
          "May07",
          "May08",
          "May09",
          "May10",
          "May11",
          "May12",
          "May13",
          "May14",
          "May15",
          "May16",
          "May17",
          "May18",
          "May19",
          "May20",
          "May21",
          "May22",
          "May23",
          "May24",
          "May25",
          "May26",
          "May27",
          "May28",
          "May29",
          "May30",
          "May31",
          "June01",
          "June02",
          "June03",
          "June04",
          "June05",
          "June06",
          "June07",
          "June08",
          "June09",
          "June10",
          "June11",
          "June12",
          "June13",
          "June14",
          "June15",
          "June16",
          "June17",
          "June18",
          "June19",
          "June20",
          "June21",
          "June22",
          "June23",
          "June24",
          "June25",
          "June26",
          "June27",
          "June28",
          "June29",
          "June30",
          "July01",
          "July02",
          "July03",
          "July04",
          "July05",
          "July06",
          "July07",
          "July08",
          "July09",
          "July10",
          "July11",
          "July12",
          "July13",
          "July14",
          "July15",
          "July16",
          "July17",
          "July18",
          "July19",
          "July20",
          "July21",
          "July22",
          "July23",
          "July24",
          "July25",
          "July26",
          "July27",
          "July28",
          "July29",
          "July30",
          "July31",
          "August01",
          "August02",
          "August03",
          "August04",
          "August05",
          "August06",
          "August07",
          "August08",
          "August09",
          "August10",
          "August11",
          "August12",
          "August13"
         ],
         "y": [
          18993,
          20419,
          21741,
          22966,
          24171,
          25411,
          26654,
          28217,
          29840,
          31102,
          32657,
          34036,
          35678,
          37693,
          39785,
          41446,
          43734,
          45380,
          48075,
          50166,
          52713,
          55320,
          59050,
          61985,
          64750,
          67778,
          70982,
          73973,
          77002,
          79780,
          83363,
          86381,
          90080,
          93228,
          96990,
          101684,
          105845,
          109470,
          113656,
          117801,
          121547,
          126638,
          131587,
          137544,
          143769,
          148775,
          154907,
          159838,
          164985,
          172183,
          179337,
          185996,
          192118,
          198990,
          205520,
          212011,
          219354,
          227599,
          235704,
          244578,
          254214,
          261581,
          270660,
          278677,
          288812,
          299841,
          309153,
          318321,
          327464,
          338766,
          350859,
          362616,
          374596,
          385219,
          396314,
          407925,
          421382,
          434442,
          450658,
          466168,
          479845,
          493710,
          511170,
          525892,
          545063,
          562728,
          581640,
          598236,
          614412,
          628885,
          646973,
          668068,
          686961,
          706069,
          724870,
          740026,
          753917,
          773506,
          792040,
          814165,
          832514,
          850628,
          864094,
          877593,
          895157,
          912621,
          931777,
          948730,
          961388,
          972287,
          982219,
          997602,
          1011872,
          1025464,
          1039678,
          1052094,
          1061098,
          1069093,
          1078301,
          1088777
         ]
        },
        {
         "mode": "lines",
         "name": "New_Cases",
         "type": "scatter",
         "x": [
          "April16",
          "April17",
          "April18",
          "April19",
          "April20",
          "April21",
          "April22",
          "April23",
          "April24",
          "April25",
          "April26",
          "April27",
          "April28",
          "April29",
          "April30",
          "May01",
          "May02",
          "May03",
          "May04",
          "May05",
          "May06",
          "May07",
          "May08",
          "May09",
          "May10",
          "May11",
          "May12",
          "May13",
          "May14",
          "May15",
          "May16",
          "May17",
          "May18",
          "May19",
          "May20",
          "May21",
          "May22",
          "May23",
          "May24",
          "May25",
          "May26",
          "May27",
          "May28",
          "May29",
          "May30",
          "May31",
          "June01",
          "June02",
          "June03",
          "June04",
          "June05",
          "June06",
          "June07",
          "June08",
          "June09",
          "June10",
          "June11",
          "June12",
          "June13",
          "June14",
          "June15",
          "June16",
          "June17",
          "June18",
          "June19",
          "June20",
          "June21",
          "June22",
          "June23",
          "June24",
          "June25",
          "June26",
          "June27",
          "June28",
          "June29",
          "June30",
          "July01",
          "July02",
          "July03",
          "July04",
          "July05",
          "July06",
          "July07",
          "July08",
          "July09",
          "July10",
          "July11",
          "July12",
          "July13",
          "July14",
          "July15",
          "July16",
          "July17",
          "July18",
          "July19",
          "July20",
          "July21",
          "July22",
          "July23",
          "July24",
          "July25",
          "July26",
          "July27",
          "July28",
          "July29",
          "July30",
          "July31",
          "August01",
          "August02",
          "August03",
          "August04",
          "August05",
          "August06",
          "August07",
          "August08",
          "August09",
          "August10",
          "August11",
          "August12",
          "August13"
         ],
         "y": [
          1166,
          1426,
          1322,
          1225,
          1205,
          1240,
          1243,
          1436,
          1623,
          1262,
          1555,
          1357,
          1642,
          2017,
          2093,
          1661,
          2294,
          1589,
          2695,
          2091,
          2547,
          2607,
          3731,
          2935,
          2765,
          3035,
          3204,
          2991,
          3029,
          2778,
          3588,
          3018,
          3699,
          3357,
          3762,
          4798,
          4161,
          3625,
          4186,
          4145,
          3746,
          5091,
          4949,
          5957,
          6225,
          5006,
          6132,
          4931,
          5147,
          7198,
          7154,
          6659,
          6122,
          6872,
          6530,
          6491,
          7343,
          8245,
          8105,
          8874,
          9636,
          7368,
          9079,
          8017,
          10135,
          10386,
          9312,
          9168,
          9143,
          11302,
          12093,
          11757,
          11980,
          10623,
          10910,
          11611,
          13457,
          13060,
          16216,
          15510,
          13677,
          13865,
          17460,
          14722,
          19171,
          17665,
          18912,
          16596,
          16176,
          14473,
          18057,
          20489,
          18893,
          19108,
          18801,
          15156,
          13891,
          19454,
          18464,
          22125,
          18349,
          18114,
          13470,
          13499,
          17564,
          17464,
          19156,
          16953,
          12658,
          10899,
          9759,
          15383,
          14270,
          13563,
          14209,
          12416,
          8914,
          7995,
          9208,
          10476
         ]
        },
        {
         "mode": "lines",
         "name": "Total_Deaths",
         "type": "scatter",
         "x": [
          "April16",
          "April17",
          "April18",
          "April19",
          "April20",
          "April21",
          "April22",
          "April23",
          "April24",
          "April25",
          "April26",
          "April27",
          "April28",
          "April29",
          "April30",
          "May01",
          "May02",
          "May03",
          "May04",
          "May05",
          "May06",
          "May07",
          "May08",
          "May09",
          "May10",
          "May11",
          "May12",
          "May13",
          "May14",
          "May15",
          "May16",
          "May17",
          "May18",
          "May19",
          "May20",
          "May21",
          "May22",
          "May23",
          "May24",
          "May25",
          "May26",
          "May27",
          "May28",
          "May29",
          "May30",
          "May31",
          "June01",
          "June02",
          "June03",
          "June04",
          "June05",
          "June06",
          "June07",
          "June08",
          "June09",
          "June10",
          "June11",
          "June12",
          "June13",
          "June14",
          "June15",
          "June16",
          "June17",
          "June18",
          "June19",
          "June20",
          "June21",
          "June22",
          "June23",
          "June24",
          "June25",
          "June26",
          "June27",
          "June28",
          "June29",
          "June30",
          "July01",
          "July02",
          "July03",
          "July04",
          "July05",
          "July06",
          "July07",
          "July08",
          "July09",
          "July10",
          "July11",
          "July12",
          "July13",
          "July14",
          "July15",
          "July16",
          "July17",
          "July18",
          "July19",
          "July20",
          "July21",
          "July22",
          "July23",
          "July24",
          "July25",
          "July26",
          "July27",
          "July28",
          "July29",
          "July30",
          "July31",
          "August01",
          "August02",
          "August03",
          "August04",
          "August05",
          "August06",
          "August07",
          "August08",
          "August09",
          "August10",
          "August11",
          "August12",
          "August13"
         ],
         "y": [
          968,
          1020,
          1082,
          1125,
          1164,
          1197,
          1244,
          1298,
          1328,
          1379,
          1427,
          1468,
          1527,
          1592,
          1638,
          1691,
          1763,
          1802,
          1848,
          1917,
          2015,
          2083,
          2161,
          2232,
          2301,
          2355,
          2407,
          2507,
          2578,
          2639,
          2726,
          2777,
          2849,
          2924,
          3010,
          3115,
          3204,
          3267,
          3356,
          3495,
          3613,
          3710,
          3814,
          3945,
          4092,
          4245,
          4369,
          4520,
          4627,
          4783,
          4942,
          5082,
          5215,
          5390,
          5568,
          5717,
          5869,
          6080,
          6283,
          6490,
          6793,
          7026,
          7249,
          7450,
          7713,
          7941,
          8148,
          8371,
          8653,
          8889,
          9104,
          9317,
          9519,
          9698,
          9914,
          10184,
          10443,
          10662,
          10920,
          11117,
          11400,
          11649,
          12015,
          12270,
          12500,
          12809,
          13029,
          13285,
          13504,
          13803,
          14029,
          14442,
          14717,
          14996,
          15210,
          15465,
          15779,
          16482,
          16756,
          17146,
          17570,
          17808,
          18218,
          18540,
          18908,
          19362,
          19726,
          20018,
          20350,
          20671,
          21143,
          21683,
          22114,
          22553,
          22966,
          23324,
          23643,
          23912,
          24322,
          24727
         ]
        },
        {
         "mode": "lines",
         "name": "New_Deaths",
         "type": "scatter",
         "x": [
          "April16",
          "April17",
          "April18",
          "April19",
          "April20",
          "April21",
          "April22",
          "April23",
          "April24",
          "April25",
          "April26",
          "April27",
          "April28",
          "April29",
          "April30",
          "May01",
          "May02",
          "May03",
          "May04",
          "May05",
          "May06",
          "May07",
          "May08",
          "May09",
          "May10",
          "May11",
          "May12",
          "May13",
          "May14",
          "May15",
          "May16",
          "May17",
          "May18",
          "May19",
          "May20",
          "May21",
          "May22",
          "May23",
          "May24",
          "May25",
          "May26",
          "May27",
          "May28",
          "May29",
          "May30",
          "May31",
          "June01",
          "June02",
          "June03",
          "June04",
          "June05",
          "June06",
          "June07",
          "June08",
          "June09",
          "June10",
          "June11",
          "June12",
          "June13",
          "June14",
          "June15",
          "June16",
          "June17",
          "June18",
          "June19",
          "June20",
          "June21",
          "June22",
          "June23",
          "June24",
          "June25",
          "June26",
          "June27",
          "June28",
          "June29",
          "June30",
          "July01",
          "July02",
          "July03",
          "July04",
          "July05",
          "July06",
          "July07",
          "July08",
          "July09",
          "July10",
          "July11",
          "July12",
          "July13",
          "July14",
          "July15",
          "July16",
          "July17",
          "July18",
          "July19",
          "July20",
          "July21",
          "July22",
          "July23",
          "July24",
          "July25",
          "July26",
          "July27",
          "July28",
          "July29",
          "July30",
          "July31",
          "August01",
          "August02",
          "August03",
          "August04",
          "August05",
          "August06",
          "August07",
          "August08",
          "August09",
          "August10",
          "August11",
          "August12",
          "August13"
         ],
         "y": [
          55,
          52,
          62,
          43,
          39,
          33,
          47,
          54,
          30,
          51,
          48,
          39,
          59,
          65,
          46,
          53,
          72,
          37,
          46,
          69,
          98,
          68,
          78,
          71,
          69,
          54,
          52,
          100,
          71,
          61,
          87,
          51,
          72,
          75,
          86,
          105,
          89,
          63,
          89,
          139,
          118,
          97,
          104,
          131,
          147,
          153,
          124,
          151,
          107,
          156,
          159,
          140,
          133,
          173,
          178,
          149,
          152,
          211,
          203,
          207,
          303,
          233,
          223,
          201,
          263,
          210,
          207,
          223,
          282,
          236,
          214,
          213,
          202,
          179,
          216,
          270,
          259,
          219,
          258,
          197,
          284,
          249,
          366,
          255,
          230,
          309,
          220,
          256,
          219,
          299,
          224,
          370,
          275,
          279,
          214,
          255,
          314,
          690,
          274,
          390,
          424,
          238,
          410,
          322,
          368,
          459,
          364,
          292,
          332,
          321,
          472,
          540,
          431,
          439,
          413,
          358,
          319,
          269,
          410,
          405
         ]
        },
        {
         "mode": "lines",
         "name": "Total_Recovered",
         "type": "scatter",
         "x": [
          "April16",
          "April17",
          "April18",
          "April19",
          "April20",
          "April21",
          "April22",
          "April23",
          "April24",
          "April25",
          "April26",
          "April27",
          "April28",
          "April29",
          "April30",
          "May01",
          "May02",
          "May03",
          "May04",
          "May05",
          "May06",
          "May07",
          "May08",
          "May09",
          "May10",
          "May11",
          "May12",
          "May13",
          "May14",
          "May15",
          "May16",
          "May17",
          "May18",
          "May19",
          "May20",
          "May21",
          "May22",
          "May23",
          "May24",
          "May25",
          "May26",
          "May27",
          "May28",
          "May29",
          "May30",
          "May31",
          "June01",
          "June02",
          "June03",
          "June04",
          "June05",
          "June06",
          "June07",
          "June08",
          "June09",
          "June10",
          "June11",
          "June12",
          "June13",
          "June14",
          "June15",
          "June16",
          "June17",
          "June18",
          "June19",
          "June20",
          "June21",
          "June22",
          "June23",
          "June24",
          "June25",
          "June26",
          "June27",
          "June28",
          "June29",
          "June30",
          "July01",
          "July02",
          "July03",
          "July04",
          "July05",
          "July06",
          "July07",
          "July08",
          "July09",
          "July10",
          "July11",
          "July12",
          "July13",
          "July14",
          "July15",
          "July16",
          "July17",
          "July18",
          "July19",
          "July20",
          "July21",
          "July22",
          "July23",
          "July24",
          "July25",
          "July26",
          "July27",
          "July28",
          "July29",
          "July30",
          "July31",
          "August01",
          "August02",
          "August03",
          "August04",
          "August05",
          "August06",
          "August07",
          "August08",
          "August09",
          "August10",
          "August11",
          "August12",
          "August13"
         ],
         "y": [
          4585,
          4958,
          5470,
          5840,
          6451,
          6770,
          7315,
          8534,
          9140,
          9530,
          10018,
          10575,
          11868,
          12630,
          13070,
          13918,
          14664,
          15137,
          16231,
          16977,
          18286,
          19099,
          19839,
          21649,
          22643,
          23961,
          24819,
          26250,
          28186,
          30210,
          32103,
          33496,
          34879,
          36802,
          39428,
          40588,
          42881,
          44166,
          46063,
          47813,
          49902,
          52623,
          55126,
          58197,
          60987,
          63463,
          65931,
          68985,
          72380,
          75830,
          80324,
          83432,
          84919,
          88212,
          92914,
          97163,
          100711,
          105092,
          108835,
          112243,
          116730,
          120949,
          125580,
          128347,
          135176,
          144985,
          148863,
          153242,
          156968,
          163507,
          168752,
          175652,
          181179,
          185243,
          189722,
          195397,
          200995,
          209616,
          217705,
          224808,
          230016,
          238464,
          247734,
          255857,
          265783,
          274778,
          287924,
          298194,
          305852,
          316780,
          335800,
          346500,
          363494,
          370715,
          383351,
          392264,
          412654,
          438288,
          449637,
          465357,
          487462,
          494224,
          510089,
          527821,
          544168,
          559906,
          583665,
          606320,
          615344,
          632929,
          655407,
          677208,
          693620,
          707877,
          723688,
          736638,
          747414,
          761619,
          772365,
          783617
         ]
        },
        {
         "mode": "lines",
         "name": "Active_Cases",
         "type": "scatter",
         "x": [
          "April16",
          "April17",
          "April18",
          "April19",
          "April20",
          "April21",
          "April22",
          "April23",
          "April24",
          "April25",
          "April26",
          "April27",
          "April28",
          "April29",
          "April30",
          "May01",
          "May02",
          "May03",
          "May04",
          "May05",
          "May06",
          "May07",
          "May08",
          "May09",
          "May10",
          "May11",
          "May12",
          "May13",
          "May14",
          "May15",
          "May16",
          "May17",
          "May18",
          "May19",
          "May20",
          "May21",
          "May22",
          "May23",
          "May24",
          "May25",
          "May26",
          "May27",
          "May28",
          "May29",
          "May30",
          "May31",
          "June01",
          "June02",
          "June03",
          "June04",
          "June05",
          "June06",
          "June07",
          "June08",
          "June09",
          "June10",
          "June11",
          "June12",
          "June13",
          "June14",
          "June15",
          "June16",
          "June17",
          "June18",
          "June19",
          "June20",
          "June21",
          "June22",
          "June23",
          "June24",
          "June25",
          "June26",
          "June27",
          "June28",
          "June29",
          "June30",
          "July01",
          "July02",
          "July03",
          "July04",
          "July05",
          "July06",
          "July07",
          "July08",
          "July09",
          "July10",
          "July11",
          "July12",
          "July13",
          "July14",
          "July15",
          "July16",
          "July17",
          "July18",
          "July19",
          "July20",
          "July21",
          "July22",
          "July23",
          "July24",
          "July25",
          "July26",
          "July27",
          "July28",
          "July29",
          "July30",
          "July31",
          "August01",
          "August02",
          "August03",
          "August04",
          "August05",
          "August06",
          "August07",
          "August08",
          "August09",
          "August10",
          "August11",
          "August12",
          "August13"
         ],
         "y": [
          13440,
          14441,
          15189,
          16001,
          16556,
          17444,
          18095,
          18385,
          19372,
          20193,
          21212,
          21993,
          22283,
          23471,
          25077,
          25837,
          27307,
          28441,
          29996,
          31272,
          32412,
          34138,
          37050,
          38104,
          39806,
          41462,
          43756,
          45216,
          46238,
          46931,
          48534,
          50108,
          52352,
          53502,
          54552,
          57981,
          59760,
          62037,
          64237,
          66493,
          68032,
          70305,
          72647,
          75402,
          78690,
          81067,
          84607,
          86333,
          87978,
          91570,
          94071,
          97482,
          101984,
          105388,
          107038,
          109131,
          112774,
          116427,
          120586,
          125845,
          130691,
          133606,
          137831,
          142880,
          145923,
          146915,
          152142,
          156708,
          161843,
          166370,
          173003,
          177647,
          183898,
          190278,
          196678,
          202344,
          209944,
          214164,
          222033,
          230243,
          238429,
          243597,
          251421,
          257765,
          266780,
          275141,
          280687,
          286757,
          295056,
          298302,
          297144,
          307126,
          308750,
          320358,
          326309,
          332297,
          325484,
          318736,
          325647,
          331662,
          327482,
          338596,
          335787,
          331232,
          332081,
          333353,
          328386,
          322392,
          325694,
          318687,
          305669,
          298711,
          296138,
          295034,
          293024,
          292132,
          290041,
          283562,
          281614,
          280433
         ]
        },
        {
         "mode": "lines",
         "name": "Serious_Critical",
         "type": "scatter",
         "x": [
          "April16",
          "April17",
          "April18",
          "April19",
          "April20",
          "April21",
          "April22",
          "April23",
          "April24",
          "April25",
          "April26",
          "April27",
          "April28",
          "April29",
          "April30",
          "May01",
          "May02",
          "May03",
          "May04",
          "May05",
          "May06",
          "May07",
          "May08",
          "May09",
          "May10",
          "May11",
          "May12",
          "May13",
          "May14",
          "May15",
          "May16",
          "May17",
          "May18",
          "May19",
          "May20",
          "May21",
          "May22",
          "May23",
          "May24",
          "May25",
          "May26",
          "May27",
          "May28",
          "May29",
          "May30",
          "May31",
          "June01",
          "June02",
          "June03",
          "June04",
          "June05",
          "June06",
          "June07",
          "June08",
          "June09",
          "June10",
          "June11",
          "June12",
          "June13",
          "June14",
          "June15",
          "June16",
          "June17",
          "June18",
          "June19",
          "June20",
          "June21",
          "June22",
          "June23",
          "June24",
          "June25",
          "June26",
          "June27",
          "June28",
          "June29",
          "June30",
          "July01",
          "July02",
          "July03",
          "July04",
          "July05",
          "July06",
          "July07",
          "July08",
          "July09",
          "July10",
          "July11",
          "July12",
          "July13",
          "July14",
          "July15",
          "July16",
          "July17",
          "July18",
          "July19",
          "July20",
          "July21",
          "July22",
          "July23",
          "July24",
          "July25",
          "July26",
          "July27",
          "July28",
          "July29",
          "July30",
          "July31",
          "August01",
          "August02",
          "August03",
          "August04",
          "August05",
          "August06",
          "August07",
          "August08",
          "August09",
          "August10",
          "August11",
          "August12",
          "August13"
         ],
         "y": [
          180,
          187,
          195,
          174,
          177,
          164,
          174,
          173,
          148,
          155,
          140,
          138,
          120,
          122,
          126,
          126,
          127,
          132,
          129,
          128,
          128,
          176,
          223,
          217,
          235,
          224,
          219,
          258,
          290,
          288,
          289,
          288,
          285,
          284,
          287,
          285,
          296,
          306,
          323,
          327,
          334,
          349,
          352,
          356,
          370,
          346,
          347,
          425,
          435,
          449,
          443,
          463,
          469,
          490,
          499,
          499,
          511,
          526,
          524,
          515,
          517,
          500,
          493,
          506,
          499,
          481,
          491,
          502,
          504,
          847,
          885,
          881,
          904,
          907,
          924,
          920,
          919,
          916,
          1797,
          944,
          945,
          956,
          950,
          964,
          952,
          965,
          978,
          969,
          994,
          982,
          990,
          1003,
          1030,
          1066,
          1061,
          1047,
          1046,
          1044,
          1068,
          1091,
          1086,
          1091,
          1094,
          1124,
          1120,
          1160,
          1138,
          1151,
          1150,
          1149,
          1149,
          1188,
          1187,
          1196,
          1206,
          1200,
          1161,
          1207,
          1211,
          1188
         ]
        }
       ],
       "layout": {
        "legend": {
         "bgcolor": "rgba(255, 255, 255, 0)",
         "bordercolor": "rgba(255, 255, 255, 0)",
         "traceorder": "normal",
         "x": 0.07,
         "y": 0.98
        },
        "template": {
         "data": {
          "bar": [
           {
            "error_x": {
             "color": "#2a3f5f"
            },
            "error_y": {
             "color": "#2a3f5f"
            },
            "marker": {
             "line": {
              "color": "#E5ECF6",
              "width": 0.5
             }
            },
            "type": "bar"
           }
          ],
          "barpolar": [
           {
            "marker": {
             "line": {
              "color": "#E5ECF6",
              "width": 0.5
             }
            },
            "type": "barpolar"
           }
          ],
          "carpet": [
           {
            "aaxis": {
             "endlinecolor": "#2a3f5f",
             "gridcolor": "white",
             "linecolor": "white",
             "minorgridcolor": "white",
             "startlinecolor": "#2a3f5f"
            },
            "baxis": {
             "endlinecolor": "#2a3f5f",
             "gridcolor": "white",
             "linecolor": "white",
             "minorgridcolor": "white",
             "startlinecolor": "#2a3f5f"
            },
            "type": "carpet"
           }
          ],
          "choropleth": [
           {
            "colorbar": {
             "outlinewidth": 0,
             "ticks": ""
            },
            "type": "choropleth"
           }
          ],
          "contour": [
           {
            "colorbar": {
             "outlinewidth": 0,
             "ticks": ""
            },
            "colorscale": [
             [
              0,
              "#0d0887"
             ],
             [
              0.1111111111111111,
              "#46039f"
             ],
             [
              0.2222222222222222,
              "#7201a8"
             ],
             [
              0.3333333333333333,
              "#9c179e"
             ],
             [
              0.4444444444444444,
              "#bd3786"
             ],
             [
              0.5555555555555556,
              "#d8576b"
             ],
             [
              0.6666666666666666,
              "#ed7953"
             ],
             [
              0.7777777777777778,
              "#fb9f3a"
             ],
             [
              0.8888888888888888,
              "#fdca26"
             ],
             [
              1,
              "#f0f921"
             ]
            ],
            "type": "contour"
           }
          ],
          "contourcarpet": [
           {
            "colorbar": {
             "outlinewidth": 0,
             "ticks": ""
            },
            "type": "contourcarpet"
           }
          ],
          "heatmap": [
           {
            "colorbar": {
             "outlinewidth": 0,
             "ticks": ""
            },
            "colorscale": [
             [
              0,
              "#0d0887"
             ],
             [
              0.1111111111111111,
              "#46039f"
             ],
             [
              0.2222222222222222,
              "#7201a8"
             ],
             [
              0.3333333333333333,
              "#9c179e"
             ],
             [
              0.4444444444444444,
              "#bd3786"
             ],
             [
              0.5555555555555556,
              "#d8576b"
             ],
             [
              0.6666666666666666,
              "#ed7953"
             ],
             [
              0.7777777777777778,
              "#fb9f3a"
             ],
             [
              0.8888888888888888,
              "#fdca26"
             ],
             [
              1,
              "#f0f921"
             ]
            ],
            "type": "heatmap"
           }
          ],
          "heatmapgl": [
           {
            "colorbar": {
             "outlinewidth": 0,
             "ticks": ""
            },
            "colorscale": [
             [
              0,
              "#0d0887"
             ],
             [
              0.1111111111111111,
              "#46039f"
             ],
             [
              0.2222222222222222,
              "#7201a8"
             ],
             [
              0.3333333333333333,
              "#9c179e"
             ],
             [
              0.4444444444444444,
              "#bd3786"
             ],
             [
              0.5555555555555556,
              "#d8576b"
             ],
             [
              0.6666666666666666,
              "#ed7953"
             ],
             [
              0.7777777777777778,
              "#fb9f3a"
             ],
             [
              0.8888888888888888,
              "#fdca26"
             ],
             [
              1,
              "#f0f921"
             ]
            ],
            "type": "heatmapgl"
           }
          ],
          "histogram": [
           {
            "marker": {
             "colorbar": {
              "outlinewidth": 0,
              "ticks": ""
             }
            },
            "type": "histogram"
           }
          ],
          "histogram2d": [
           {
            "colorbar": {
             "outlinewidth": 0,
             "ticks": ""
            },
            "colorscale": [
             [
              0,
              "#0d0887"
             ],
             [
              0.1111111111111111,
              "#46039f"
             ],
             [
              0.2222222222222222,
              "#7201a8"
             ],
             [
              0.3333333333333333,
              "#9c179e"
             ],
             [
              0.4444444444444444,
              "#bd3786"
             ],
             [
              0.5555555555555556,
              "#d8576b"
             ],
             [
              0.6666666666666666,
              "#ed7953"
             ],
             [
              0.7777777777777778,
              "#fb9f3a"
             ],
             [
              0.8888888888888888,
              "#fdca26"
             ],
             [
              1,
              "#f0f921"
             ]
            ],
            "type": "histogram2d"
           }
          ],
          "histogram2dcontour": [
           {
            "colorbar": {
             "outlinewidth": 0,
             "ticks": ""
            },
            "colorscale": [
             [
              0,
              "#0d0887"
             ],
             [
              0.1111111111111111,
              "#46039f"
             ],
             [
              0.2222222222222222,
              "#7201a8"
             ],
             [
              0.3333333333333333,
              "#9c179e"
             ],
             [
              0.4444444444444444,
              "#bd3786"
             ],
             [
              0.5555555555555556,
              "#d8576b"
             ],
             [
              0.6666666666666666,
              "#ed7953"
             ],
             [
              0.7777777777777778,
              "#fb9f3a"
             ],
             [
              0.8888888888888888,
              "#fdca26"
             ],
             [
              1,
              "#f0f921"
             ]
            ],
            "type": "histogram2dcontour"
           }
          ],
          "mesh3d": [
           {
            "colorbar": {
             "outlinewidth": 0,
             "ticks": ""
            },
            "type": "mesh3d"
           }
          ],
          "parcoords": [
           {
            "line": {
             "colorbar": {
              "outlinewidth": 0,
              "ticks": ""
             }
            },
            "type": "parcoords"
           }
          ],
          "scatter": [
           {
            "marker": {
             "colorbar": {
              "outlinewidth": 0,
              "ticks": ""
             }
            },
            "type": "scatter"
           }
          ],
          "scatter3d": [
           {
            "line": {
             "colorbar": {
              "outlinewidth": 0,
              "ticks": ""
             }
            },
            "marker": {
             "colorbar": {
              "outlinewidth": 0,
              "ticks": ""
             }
            },
            "type": "scatter3d"
           }
          ],
          "scattercarpet": [
           {
            "marker": {
             "colorbar": {
              "outlinewidth": 0,
              "ticks": ""
             }
            },
            "type": "scattercarpet"
           }
          ],
          "scattergeo": [
           {
            "marker": {
             "colorbar": {
              "outlinewidth": 0,
              "ticks": ""
             }
            },
            "type": "scattergeo"
           }
          ],
          "scattergl": [
           {
            "marker": {
             "colorbar": {
              "outlinewidth": 0,
              "ticks": ""
             }
            },
            "type": "scattergl"
           }
          ],
          "scattermapbox": [
           {
            "marker": {
             "colorbar": {
              "outlinewidth": 0,
              "ticks": ""
             }
            },
            "type": "scattermapbox"
           }
          ],
          "scatterpolar": [
           {
            "marker": {
             "colorbar": {
              "outlinewidth": 0,
              "ticks": ""
             }
            },
            "type": "scatterpolar"
           }
          ],
          "scatterpolargl": [
           {
            "marker": {
             "colorbar": {
              "outlinewidth": 0,
              "ticks": ""
             }
            },
            "type": "scatterpolargl"
           }
          ],
          "scatterternary": [
           {
            "marker": {
             "colorbar": {
              "outlinewidth": 0,
              "ticks": ""
             }
            },
            "type": "scatterternary"
           }
          ],
          "surface": [
           {
            "colorbar": {
             "outlinewidth": 0,
             "ticks": ""
            },
            "colorscale": [
             [
              0,
              "#0d0887"
             ],
             [
              0.1111111111111111,
              "#46039f"
             ],
             [
              0.2222222222222222,
              "#7201a8"
             ],
             [
              0.3333333333333333,
              "#9c179e"
             ],
             [
              0.4444444444444444,
              "#bd3786"
             ],
             [
              0.5555555555555556,
              "#d8576b"
             ],
             [
              0.6666666666666666,
              "#ed7953"
             ],
             [
              0.7777777777777778,
              "#fb9f3a"
             ],
             [
              0.8888888888888888,
              "#fdca26"
             ],
             [
              1,
              "#f0f921"
             ]
            ],
            "type": "surface"
           }
          ],
          "table": [
           {
            "cells": {
             "fill": {
              "color": "#EBF0F8"
             },
             "line": {
              "color": "white"
             }
            },
            "header": {
             "fill": {
              "color": "#C8D4E3"
             },
             "line": {
              "color": "white"
             }
            },
            "type": "table"
           }
          ]
         },
         "layout": {
          "annotationdefaults": {
           "arrowcolor": "#2a3f5f",
           "arrowhead": 0,
           "arrowwidth": 1
          },
          "colorscale": {
           "diverging": [
            [
             0,
             "#8e0152"
            ],
            [
             0.1,
             "#c51b7d"
            ],
            [
             0.2,
             "#de77ae"
            ],
            [
             0.3,
             "#f1b6da"
            ],
            [
             0.4,
             "#fde0ef"
            ],
            [
             0.5,
             "#f7f7f7"
            ],
            [
             0.6,
             "#e6f5d0"
            ],
            [
             0.7,
             "#b8e186"
            ],
            [
             0.8,
             "#7fbc41"
            ],
            [
             0.9,
             "#4d9221"
            ],
            [
             1,
             "#276419"
            ]
           ],
           "sequential": [
            [
             0,
             "#0d0887"
            ],
            [
             0.1111111111111111,
             "#46039f"
            ],
            [
             0.2222222222222222,
             "#7201a8"
            ],
            [
             0.3333333333333333,
             "#9c179e"
            ],
            [
             0.4444444444444444,
             "#bd3786"
            ],
            [
             0.5555555555555556,
             "#d8576b"
            ],
            [
             0.6666666666666666,
             "#ed7953"
            ],
            [
             0.7777777777777778,
             "#fb9f3a"
            ],
            [
             0.8888888888888888,
             "#fdca26"
            ],
            [
             1,
             "#f0f921"
            ]
           ],
           "sequentialminus": [
            [
             0,
             "#0d0887"
            ],
            [
             0.1111111111111111,
             "#46039f"
            ],
            [
             0.2222222222222222,
             "#7201a8"
            ],
            [
             0.3333333333333333,
             "#9c179e"
            ],
            [
             0.4444444444444444,
             "#bd3786"
            ],
            [
             0.5555555555555556,
             "#d8576b"
            ],
            [
             0.6666666666666666,
             "#ed7953"
            ],
            [
             0.7777777777777778,
             "#fb9f3a"
            ],
            [
             0.8888888888888888,
             "#fdca26"
            ],
            [
             1,
             "#f0f921"
            ]
           ]
          },
          "colorway": [
           "#636efa",
           "#EF553B",
           "#00cc96",
           "#ab63fa",
           "#FFA15A",
           "#19d3f3",
           "#FF6692",
           "#B6E880",
           "#FF97FF",
           "#FECB52"
          ],
          "font": {
           "color": "#2a3f5f"
          },
          "geo": {
           "bgcolor": "white",
           "lakecolor": "white",
           "landcolor": "#E5ECF6",
           "showlakes": true,
           "showland": true,
           "subunitcolor": "white"
          },
          "hoverlabel": {
           "align": "left"
          },
          "hovermode": "closest",
          "mapbox": {
           "style": "light"
          },
          "paper_bgcolor": "white",
          "plot_bgcolor": "#E5ECF6",
          "polar": {
           "angularaxis": {
            "gridcolor": "white",
            "linecolor": "white",
            "ticks": ""
           },
           "bgcolor": "#E5ECF6",
           "radialaxis": {
            "gridcolor": "white",
            "linecolor": "white",
            "ticks": ""
           }
          },
          "scene": {
           "xaxis": {
            "backgroundcolor": "#E5ECF6",
            "gridcolor": "white",
            "gridwidth": 2,
            "linecolor": "white",
            "showbackground": true,
            "ticks": "",
            "zerolinecolor": "white"
           },
           "yaxis": {
            "backgroundcolor": "#E5ECF6",
            "gridcolor": "white",
            "gridwidth": 2,
            "linecolor": "white",
            "showbackground": true,
            "ticks": "",
            "zerolinecolor": "white"
           },
           "zaxis": {
            "backgroundcolor": "#E5ECF6",
            "gridcolor": "white",
            "gridwidth": 2,
            "linecolor": "white",
            "showbackground": true,
            "ticks": "",
            "zerolinecolor": "white"
           }
          },
          "shapedefaults": {
           "line": {
            "color": "#2a3f5f"
           }
          },
          "ternary": {
           "aaxis": {
            "gridcolor": "white",
            "linecolor": "white",
            "ticks": ""
           },
           "baxis": {
            "gridcolor": "white",
            "linecolor": "white",
            "ticks": ""
           },
           "bgcolor": "#E5ECF6",
           "caxis": {
            "gridcolor": "white",
            "linecolor": "white",
            "ticks": ""
           }
          },
          "title": {
           "x": 0.05
          },
          "xaxis": {
           "automargin": true,
           "gridcolor": "white",
           "linecolor": "white",
           "ticks": "",
           "zerolinecolor": "white",
           "zerolinewidth": 2
          },
          "yaxis": {
           "automargin": true,
           "gridcolor": "white",
           "linecolor": "white",
           "ticks": "",
           "zerolinecolor": "white",
           "zerolinewidth": 2
          }
         }
        },
        "title": {
         "text": "<b>COVID19 CASES IN AFRICA: August 13, 2020</b>",
         "x": 0.5,
         "xanchor": "center",
         "y": 0.9,
         "yanchor": "top"
        },
        "xaxis": {
         "nticks": 30,
         "tickangle": 90,
         "title": {
          "font": {
           "color": "#BDBDBD",
           "size": 18
          },
          "text": "<b>Date</b>"
         }
        },
        "yaxis": {
         "title": {
          "font": {
           "color": "#4D4B4B",
           "size": 18
          },
          "text": "<b>New Cases</b>"
         }
        }
       }
      },
      "text/html": [
       "<div>\n",
       "        \n",
       "        \n",
       "            <div id=\"128f70db-5bc1-4d2b-90ad-e307eea9e34b\" class=\"plotly-graph-div\" style=\"height:525px; width:100%;\"></div>\n",
       "            <script type=\"text/javascript\">\n",
       "                require([\"plotly\"], function(Plotly) {\n",
       "                    window.PLOTLYENV=window.PLOTLYENV || {};\n",
       "                    \n",
       "                if (document.getElementById(\"128f70db-5bc1-4d2b-90ad-e307eea9e34b\")) {\n",
       "                    Plotly.newPlot(\n",
       "                        '128f70db-5bc1-4d2b-90ad-e307eea9e34b',\n",
       "                        [{\"mode\": \"lines\", \"name\": \"Total_Cases\", \"type\": \"scatter\", \"x\": [\"April16\", \"April17\", \"April18\", \"April19\", \"April20\", \"April21\", \"April22\", \"April23\", \"April24\", \"April25\", \"April26\", \"April27\", \"April28\", \"April29\", \"April30\", \"May01\", \"May02\", \"May03\", \"May04\", \"May05\", \"May06\", \"May07\", \"May08\", \"May09\", \"May10\", \"May11\", \"May12\", \"May13\", \"May14\", \"May15\", \"May16\", \"May17\", \"May18\", \"May19\", \"May20\", \"May21\", \"May22\", \"May23\", \"May24\", \"May25\", \"May26\", \"May27\", \"May28\", \"May29\", \"May30\", \"May31\", \"June01\", \"June02\", \"June03\", \"June04\", \"June05\", \"June06\", \"June07\", \"June08\", \"June09\", \"June10\", \"June11\", \"June12\", \"June13\", \"June14\", \"June15\", \"June16\", \"June17\", \"June18\", \"June19\", \"June20\", \"June21\", \"June22\", \"June23\", \"June24\", \"June25\", \"June26\", \"June27\", \"June28\", \"June29\", \"June30\", \"July01\", \"July02\", \"July03\", \"July04\", \"July05\", \"July06\", \"July07\", \"July08\", \"July09\", \"July10\", \"July11\", \"July12\", \"July13\", \"July14\", \"July15\", \"July16\", \"July17\", \"July18\", \"July19\", \"July20\", \"July21\", \"July22\", \"July23\", \"July24\", \"July25\", \"July26\", \"July27\", \"July28\", \"July29\", \"July30\", \"July31\", \"August01\", \"August02\", \"August03\", \"August04\", \"August05\", \"August06\", \"August07\", \"August08\", \"August09\", \"August10\", \"August11\", \"August12\", \"August13\"], \"y\": [18993, 20419, 21741, 22966, 24171, 25411, 26654, 28217, 29840, 31102, 32657, 34036, 35678, 37693, 39785, 41446, 43734, 45380, 48075, 50166, 52713, 55320, 59050, 61985, 64750, 67778, 70982, 73973, 77002, 79780, 83363, 86381, 90080, 93228, 96990, 101684, 105845, 109470, 113656, 117801, 121547, 126638, 131587, 137544, 143769, 148775, 154907, 159838, 164985, 172183, 179337, 185996, 192118, 198990, 205520, 212011, 219354, 227599, 235704, 244578, 254214, 261581, 270660, 278677, 288812, 299841, 309153, 318321, 327464, 338766, 350859, 362616, 374596, 385219, 396314, 407925, 421382, 434442, 450658, 466168, 479845, 493710, 511170, 525892, 545063, 562728, 581640, 598236, 614412, 628885, 646973, 668068, 686961, 706069, 724870, 740026, 753917, 773506, 792040, 814165, 832514, 850628, 864094, 877593, 895157, 912621, 931777, 948730, 961388, 972287, 982219, 997602, 1011872, 1025464, 1039678, 1052094, 1061098, 1069093, 1078301, 1088777]}, {\"mode\": \"lines\", \"name\": \"New_Cases\", \"type\": \"scatter\", \"x\": [\"April16\", \"April17\", \"April18\", \"April19\", \"April20\", \"April21\", \"April22\", \"April23\", \"April24\", \"April25\", \"April26\", \"April27\", \"April28\", \"April29\", \"April30\", \"May01\", \"May02\", \"May03\", \"May04\", \"May05\", \"May06\", \"May07\", \"May08\", \"May09\", \"May10\", \"May11\", \"May12\", \"May13\", \"May14\", \"May15\", \"May16\", \"May17\", \"May18\", \"May19\", \"May20\", \"May21\", \"May22\", \"May23\", \"May24\", \"May25\", \"May26\", \"May27\", \"May28\", \"May29\", \"May30\", \"May31\", \"June01\", \"June02\", \"June03\", \"June04\", \"June05\", \"June06\", \"June07\", \"June08\", \"June09\", \"June10\", \"June11\", \"June12\", \"June13\", \"June14\", \"June15\", \"June16\", \"June17\", \"June18\", \"June19\", \"June20\", \"June21\", \"June22\", \"June23\", \"June24\", \"June25\", \"June26\", \"June27\", \"June28\", \"June29\", \"June30\", \"July01\", \"July02\", \"July03\", \"July04\", \"July05\", \"July06\", \"July07\", \"July08\", \"July09\", \"July10\", \"July11\", \"July12\", \"July13\", \"July14\", \"July15\", \"July16\", \"July17\", \"July18\", \"July19\", \"July20\", \"July21\", \"July22\", \"July23\", \"July24\", \"July25\", \"July26\", \"July27\", \"July28\", \"July29\", \"July30\", \"July31\", \"August01\", \"August02\", \"August03\", \"August04\", \"August05\", \"August06\", \"August07\", \"August08\", \"August09\", \"August10\", \"August11\", \"August12\", \"August13\"], \"y\": [1166, 1426, 1322, 1225, 1205, 1240, 1243, 1436, 1623, 1262, 1555, 1357, 1642, 2017, 2093, 1661, 2294, 1589, 2695, 2091, 2547, 2607, 3731, 2935, 2765, 3035, 3204, 2991, 3029, 2778, 3588, 3018, 3699, 3357, 3762, 4798, 4161, 3625, 4186, 4145, 3746, 5091, 4949, 5957, 6225, 5006, 6132, 4931, 5147, 7198, 7154, 6659, 6122, 6872, 6530, 6491, 7343, 8245, 8105, 8874, 9636, 7368, 9079, 8017, 10135, 10386, 9312, 9168, 9143, 11302, 12093, 11757, 11980, 10623, 10910, 11611, 13457, 13060, 16216, 15510, 13677, 13865, 17460, 14722, 19171, 17665, 18912, 16596, 16176, 14473, 18057, 20489, 18893, 19108, 18801, 15156, 13891, 19454, 18464, 22125, 18349, 18114, 13470, 13499, 17564, 17464, 19156, 16953, 12658, 10899, 9759, 15383, 14270, 13563, 14209, 12416, 8914, 7995, 9208, 10476]}, {\"mode\": \"lines\", \"name\": \"Total_Deaths\", \"type\": \"scatter\", \"x\": [\"April16\", \"April17\", \"April18\", \"April19\", \"April20\", \"April21\", \"April22\", \"April23\", \"April24\", \"April25\", \"April26\", \"April27\", \"April28\", \"April29\", \"April30\", \"May01\", \"May02\", \"May03\", \"May04\", \"May05\", \"May06\", \"May07\", \"May08\", \"May09\", \"May10\", \"May11\", \"May12\", \"May13\", \"May14\", \"May15\", \"May16\", \"May17\", \"May18\", \"May19\", \"May20\", \"May21\", \"May22\", \"May23\", \"May24\", \"May25\", \"May26\", \"May27\", \"May28\", \"May29\", \"May30\", \"May31\", \"June01\", \"June02\", \"June03\", \"June04\", \"June05\", \"June06\", \"June07\", \"June08\", \"June09\", \"June10\", \"June11\", \"June12\", \"June13\", \"June14\", \"June15\", \"June16\", \"June17\", \"June18\", \"June19\", \"June20\", \"June21\", \"June22\", \"June23\", \"June24\", \"June25\", \"June26\", \"June27\", \"June28\", \"June29\", \"June30\", \"July01\", \"July02\", \"July03\", \"July04\", \"July05\", \"July06\", \"July07\", \"July08\", \"July09\", \"July10\", \"July11\", \"July12\", \"July13\", \"July14\", \"July15\", \"July16\", \"July17\", \"July18\", \"July19\", \"July20\", \"July21\", \"July22\", \"July23\", \"July24\", \"July25\", \"July26\", \"July27\", \"July28\", \"July29\", \"July30\", \"July31\", \"August01\", \"August02\", \"August03\", \"August04\", \"August05\", \"August06\", \"August07\", \"August08\", \"August09\", \"August10\", \"August11\", \"August12\", \"August13\"], \"y\": [968, 1020, 1082, 1125, 1164, 1197, 1244, 1298, 1328, 1379, 1427, 1468, 1527, 1592, 1638, 1691, 1763, 1802, 1848, 1917, 2015, 2083, 2161, 2232, 2301, 2355, 2407, 2507, 2578, 2639, 2726, 2777, 2849, 2924, 3010, 3115, 3204, 3267, 3356, 3495, 3613, 3710, 3814, 3945, 4092, 4245, 4369, 4520, 4627, 4783, 4942, 5082, 5215, 5390, 5568, 5717, 5869, 6080, 6283, 6490, 6793, 7026, 7249, 7450, 7713, 7941, 8148, 8371, 8653, 8889, 9104, 9317, 9519, 9698, 9914, 10184, 10443, 10662, 10920, 11117, 11400, 11649, 12015, 12270, 12500, 12809, 13029, 13285, 13504, 13803, 14029, 14442, 14717, 14996, 15210, 15465, 15779, 16482, 16756, 17146, 17570, 17808, 18218, 18540, 18908, 19362, 19726, 20018, 20350, 20671, 21143, 21683, 22114, 22553, 22966, 23324, 23643, 23912, 24322, 24727]}, {\"mode\": \"lines\", \"name\": \"New_Deaths\", \"type\": \"scatter\", \"x\": [\"April16\", \"April17\", \"April18\", \"April19\", \"April20\", \"April21\", \"April22\", \"April23\", \"April24\", \"April25\", \"April26\", \"April27\", \"April28\", \"April29\", \"April30\", \"May01\", \"May02\", \"May03\", \"May04\", \"May05\", \"May06\", \"May07\", \"May08\", \"May09\", \"May10\", \"May11\", \"May12\", \"May13\", \"May14\", \"May15\", \"May16\", \"May17\", \"May18\", \"May19\", \"May20\", \"May21\", \"May22\", \"May23\", \"May24\", \"May25\", \"May26\", \"May27\", \"May28\", \"May29\", \"May30\", \"May31\", \"June01\", \"June02\", \"June03\", \"June04\", \"June05\", \"June06\", \"June07\", \"June08\", \"June09\", \"June10\", \"June11\", \"June12\", \"June13\", \"June14\", \"June15\", \"June16\", \"June17\", \"June18\", \"June19\", \"June20\", \"June21\", \"June22\", \"June23\", \"June24\", \"June25\", \"June26\", \"June27\", \"June28\", \"June29\", \"June30\", \"July01\", \"July02\", \"July03\", \"July04\", \"July05\", \"July06\", \"July07\", \"July08\", \"July09\", \"July10\", \"July11\", \"July12\", \"July13\", \"July14\", \"July15\", \"July16\", \"July17\", \"July18\", \"July19\", \"July20\", \"July21\", \"July22\", \"July23\", \"July24\", \"July25\", \"July26\", \"July27\", \"July28\", \"July29\", \"July30\", \"July31\", \"August01\", \"August02\", \"August03\", \"August04\", \"August05\", \"August06\", \"August07\", \"August08\", \"August09\", \"August10\", \"August11\", \"August12\", \"August13\"], \"y\": [55, 52, 62, 43, 39, 33, 47, 54, 30, 51, 48, 39, 59, 65, 46, 53, 72, 37, 46, 69, 98, 68, 78, 71, 69, 54, 52, 100, 71, 61, 87, 51, 72, 75, 86, 105, 89, 63, 89, 139, 118, 97, 104, 131, 147, 153, 124, 151, 107, 156, 159, 140, 133, 173, 178, 149, 152, 211, 203, 207, 303, 233, 223, 201, 263, 210, 207, 223, 282, 236, 214, 213, 202, 179, 216, 270, 259, 219, 258, 197, 284, 249, 366, 255, 230, 309, 220, 256, 219, 299, 224, 370, 275, 279, 214, 255, 314, 690, 274, 390, 424, 238, 410, 322, 368, 459, 364, 292, 332, 321, 472, 540, 431, 439, 413, 358, 319, 269, 410, 405]}, {\"mode\": \"lines\", \"name\": \"Total_Recovered\", \"type\": \"scatter\", \"x\": [\"April16\", \"April17\", \"April18\", \"April19\", \"April20\", \"April21\", \"April22\", \"April23\", \"April24\", \"April25\", \"April26\", \"April27\", \"April28\", \"April29\", \"April30\", \"May01\", \"May02\", \"May03\", \"May04\", \"May05\", \"May06\", \"May07\", \"May08\", \"May09\", \"May10\", \"May11\", \"May12\", \"May13\", \"May14\", \"May15\", \"May16\", \"May17\", \"May18\", \"May19\", \"May20\", \"May21\", \"May22\", \"May23\", \"May24\", \"May25\", \"May26\", \"May27\", \"May28\", \"May29\", \"May30\", \"May31\", \"June01\", \"June02\", \"June03\", \"June04\", \"June05\", \"June06\", \"June07\", \"June08\", \"June09\", \"June10\", \"June11\", \"June12\", \"June13\", \"June14\", \"June15\", \"June16\", \"June17\", \"June18\", \"June19\", \"June20\", \"June21\", \"June22\", \"June23\", \"June24\", \"June25\", \"June26\", \"June27\", \"June28\", \"June29\", \"June30\", \"July01\", \"July02\", \"July03\", \"July04\", \"July05\", \"July06\", \"July07\", \"July08\", \"July09\", \"July10\", \"July11\", \"July12\", \"July13\", \"July14\", \"July15\", \"July16\", \"July17\", \"July18\", \"July19\", \"July20\", \"July21\", \"July22\", \"July23\", \"July24\", \"July25\", \"July26\", \"July27\", \"July28\", \"July29\", \"July30\", \"July31\", \"August01\", \"August02\", \"August03\", \"August04\", \"August05\", \"August06\", \"August07\", \"August08\", \"August09\", \"August10\", \"August11\", \"August12\", \"August13\"], \"y\": [4585, 4958, 5470, 5840, 6451, 6770, 7315, 8534, 9140, 9530, 10018, 10575, 11868, 12630, 13070, 13918, 14664, 15137, 16231, 16977, 18286, 19099, 19839, 21649, 22643, 23961, 24819, 26250, 28186, 30210, 32103, 33496, 34879, 36802, 39428, 40588, 42881, 44166, 46063, 47813, 49902, 52623, 55126, 58197, 60987, 63463, 65931, 68985, 72380, 75830, 80324, 83432, 84919, 88212, 92914, 97163, 100711, 105092, 108835, 112243, 116730, 120949, 125580, 128347, 135176, 144985, 148863, 153242, 156968, 163507, 168752, 175652, 181179, 185243, 189722, 195397, 200995, 209616, 217705, 224808, 230016, 238464, 247734, 255857, 265783, 274778, 287924, 298194, 305852, 316780, 335800, 346500, 363494, 370715, 383351, 392264, 412654, 438288, 449637, 465357, 487462, 494224, 510089, 527821, 544168, 559906, 583665, 606320, 615344, 632929, 655407, 677208, 693620, 707877, 723688, 736638, 747414, 761619, 772365, 783617]}, {\"mode\": \"lines\", \"name\": \"Active_Cases\", \"type\": \"scatter\", \"x\": [\"April16\", \"April17\", \"April18\", \"April19\", \"April20\", \"April21\", \"April22\", \"April23\", \"April24\", \"April25\", \"April26\", \"April27\", \"April28\", \"April29\", \"April30\", \"May01\", \"May02\", \"May03\", \"May04\", \"May05\", \"May06\", \"May07\", \"May08\", \"May09\", \"May10\", \"May11\", \"May12\", \"May13\", \"May14\", \"May15\", \"May16\", \"May17\", \"May18\", \"May19\", \"May20\", \"May21\", \"May22\", \"May23\", \"May24\", \"May25\", \"May26\", \"May27\", \"May28\", \"May29\", \"May30\", \"May31\", \"June01\", \"June02\", \"June03\", \"June04\", \"June05\", \"June06\", \"June07\", \"June08\", \"June09\", \"June10\", \"June11\", \"June12\", \"June13\", \"June14\", \"June15\", \"June16\", \"June17\", \"June18\", \"June19\", \"June20\", \"June21\", \"June22\", \"June23\", \"June24\", \"June25\", \"June26\", \"June27\", \"June28\", \"June29\", \"June30\", \"July01\", \"July02\", \"July03\", \"July04\", \"July05\", \"July06\", \"July07\", \"July08\", \"July09\", \"July10\", \"July11\", \"July12\", \"July13\", \"July14\", \"July15\", \"July16\", \"July17\", \"July18\", \"July19\", \"July20\", \"July21\", \"July22\", \"July23\", \"July24\", \"July25\", \"July26\", \"July27\", \"July28\", \"July29\", \"July30\", \"July31\", \"August01\", \"August02\", \"August03\", \"August04\", \"August05\", \"August06\", \"August07\", \"August08\", \"August09\", \"August10\", \"August11\", \"August12\", \"August13\"], \"y\": [13440, 14441, 15189, 16001, 16556, 17444, 18095, 18385, 19372, 20193, 21212, 21993, 22283, 23471, 25077, 25837, 27307, 28441, 29996, 31272, 32412, 34138, 37050, 38104, 39806, 41462, 43756, 45216, 46238, 46931, 48534, 50108, 52352, 53502, 54552, 57981, 59760, 62037, 64237, 66493, 68032, 70305, 72647, 75402, 78690, 81067, 84607, 86333, 87978, 91570, 94071, 97482, 101984, 105388, 107038, 109131, 112774, 116427, 120586, 125845, 130691, 133606, 137831, 142880, 145923, 146915, 152142, 156708, 161843, 166370, 173003, 177647, 183898, 190278, 196678, 202344, 209944, 214164, 222033, 230243, 238429, 243597, 251421, 257765, 266780, 275141, 280687, 286757, 295056, 298302, 297144, 307126, 308750, 320358, 326309, 332297, 325484, 318736, 325647, 331662, 327482, 338596, 335787, 331232, 332081, 333353, 328386, 322392, 325694, 318687, 305669, 298711, 296138, 295034, 293024, 292132, 290041, 283562, 281614, 280433]}, {\"mode\": \"lines\", \"name\": \"Serious_Critical\", \"type\": \"scatter\", \"x\": [\"April16\", \"April17\", \"April18\", \"April19\", \"April20\", \"April21\", \"April22\", \"April23\", \"April24\", \"April25\", \"April26\", \"April27\", \"April28\", \"April29\", \"April30\", \"May01\", \"May02\", \"May03\", \"May04\", \"May05\", \"May06\", \"May07\", \"May08\", \"May09\", \"May10\", \"May11\", \"May12\", \"May13\", \"May14\", \"May15\", \"May16\", \"May17\", \"May18\", \"May19\", \"May20\", \"May21\", \"May22\", \"May23\", \"May24\", \"May25\", \"May26\", \"May27\", \"May28\", \"May29\", \"May30\", \"May31\", \"June01\", \"June02\", \"June03\", \"June04\", \"June05\", \"June06\", \"June07\", \"June08\", \"June09\", \"June10\", \"June11\", \"June12\", \"June13\", \"June14\", \"June15\", \"June16\", \"June17\", \"June18\", \"June19\", \"June20\", \"June21\", \"June22\", \"June23\", \"June24\", \"June25\", \"June26\", \"June27\", \"June28\", \"June29\", \"June30\", \"July01\", \"July02\", \"July03\", \"July04\", \"July05\", \"July06\", \"July07\", \"July08\", \"July09\", \"July10\", \"July11\", \"July12\", \"July13\", \"July14\", \"July15\", \"July16\", \"July17\", \"July18\", \"July19\", \"July20\", \"July21\", \"July22\", \"July23\", \"July24\", \"July25\", \"July26\", \"July27\", \"July28\", \"July29\", \"July30\", \"July31\", \"August01\", \"August02\", \"August03\", \"August04\", \"August05\", \"August06\", \"August07\", \"August08\", \"August09\", \"August10\", \"August11\", \"August12\", \"August13\"], \"y\": [180, 187, 195, 174, 177, 164, 174, 173, 148, 155, 140, 138, 120, 122, 126, 126, 127, 132, 129, 128, 128, 176, 223, 217, 235, 224, 219, 258, 290, 288, 289, 288, 285, 284, 287, 285, 296, 306, 323, 327, 334, 349, 352, 356, 370, 346, 347, 425, 435, 449, 443, 463, 469, 490, 499, 499, 511, 526, 524, 515, 517, 500, 493, 506, 499, 481, 491, 502, 504, 847, 885, 881, 904, 907, 924, 920, 919, 916, 1797, 944, 945, 956, 950, 964, 952, 965, 978, 969, 994, 982, 990, 1003, 1030, 1066, 1061, 1047, 1046, 1044, 1068, 1091, 1086, 1091, 1094, 1124, 1120, 1160, 1138, 1151, 1150, 1149, 1149, 1188, 1187, 1196, 1206, 1200, 1161, 1207, 1211, 1188]}],\n",
       "                        {\"legend\": {\"bgcolor\": \"rgba(255, 255, 255, 0)\", \"bordercolor\": \"rgba(255, 255, 255, 0)\", \"traceorder\": \"normal\", \"x\": 0.07, \"y\": 0.98}, \"template\": {\"data\": {\"bar\": [{\"error_x\": {\"color\": \"#2a3f5f\"}, \"error_y\": {\"color\": \"#2a3f5f\"}, \"marker\": {\"line\": {\"color\": \"#E5ECF6\", \"width\": 0.5}}, \"type\": \"bar\"}], \"barpolar\": [{\"marker\": {\"line\": {\"color\": \"#E5ECF6\", \"width\": 0.5}}, \"type\": \"barpolar\"}], \"carpet\": [{\"aaxis\": {\"endlinecolor\": \"#2a3f5f\", \"gridcolor\": \"white\", \"linecolor\": \"white\", \"minorgridcolor\": \"white\", \"startlinecolor\": \"#2a3f5f\"}, \"baxis\": {\"endlinecolor\": \"#2a3f5f\", \"gridcolor\": \"white\", \"linecolor\": \"white\", \"minorgridcolor\": \"white\", \"startlinecolor\": \"#2a3f5f\"}, \"type\": \"carpet\"}], \"choropleth\": [{\"colorbar\": {\"outlinewidth\": 0, \"ticks\": \"\"}, \"type\": \"choropleth\"}], \"contour\": [{\"colorbar\": {\"outlinewidth\": 0, \"ticks\": \"\"}, \"colorscale\": [[0.0, \"#0d0887\"], [0.1111111111111111, \"#46039f\"], [0.2222222222222222, \"#7201a8\"], [0.3333333333333333, \"#9c179e\"], [0.4444444444444444, \"#bd3786\"], [0.5555555555555556, \"#d8576b\"], [0.6666666666666666, \"#ed7953\"], [0.7777777777777778, \"#fb9f3a\"], [0.8888888888888888, \"#fdca26\"], [1.0, \"#f0f921\"]], \"type\": \"contour\"}], \"contourcarpet\": [{\"colorbar\": {\"outlinewidth\": 0, \"ticks\": \"\"}, \"type\": \"contourcarpet\"}], \"heatmap\": [{\"colorbar\": {\"outlinewidth\": 0, \"ticks\": \"\"}, \"colorscale\": [[0.0, \"#0d0887\"], [0.1111111111111111, \"#46039f\"], [0.2222222222222222, \"#7201a8\"], [0.3333333333333333, \"#9c179e\"], [0.4444444444444444, \"#bd3786\"], [0.5555555555555556, \"#d8576b\"], [0.6666666666666666, \"#ed7953\"], [0.7777777777777778, \"#fb9f3a\"], [0.8888888888888888, \"#fdca26\"], [1.0, \"#f0f921\"]], \"type\": \"heatmap\"}], \"heatmapgl\": [{\"colorbar\": {\"outlinewidth\": 0, \"ticks\": \"\"}, \"colorscale\": [[0.0, \"#0d0887\"], [0.1111111111111111, \"#46039f\"], [0.2222222222222222, \"#7201a8\"], [0.3333333333333333, \"#9c179e\"], [0.4444444444444444, \"#bd3786\"], [0.5555555555555556, \"#d8576b\"], [0.6666666666666666, \"#ed7953\"], [0.7777777777777778, \"#fb9f3a\"], [0.8888888888888888, \"#fdca26\"], [1.0, \"#f0f921\"]], \"type\": \"heatmapgl\"}], \"histogram\": [{\"marker\": {\"colorbar\": {\"outlinewidth\": 0, \"ticks\": \"\"}}, \"type\": \"histogram\"}], \"histogram2d\": [{\"colorbar\": {\"outlinewidth\": 0, \"ticks\": \"\"}, \"colorscale\": [[0.0, \"#0d0887\"], [0.1111111111111111, \"#46039f\"], [0.2222222222222222, \"#7201a8\"], [0.3333333333333333, \"#9c179e\"], [0.4444444444444444, \"#bd3786\"], [0.5555555555555556, \"#d8576b\"], [0.6666666666666666, \"#ed7953\"], [0.7777777777777778, \"#fb9f3a\"], [0.8888888888888888, \"#fdca26\"], [1.0, \"#f0f921\"]], \"type\": \"histogram2d\"}], \"histogram2dcontour\": [{\"colorbar\": {\"outlinewidth\": 0, \"ticks\": \"\"}, \"colorscale\": [[0.0, \"#0d0887\"], [0.1111111111111111, \"#46039f\"], [0.2222222222222222, \"#7201a8\"], [0.3333333333333333, \"#9c179e\"], [0.4444444444444444, \"#bd3786\"], [0.5555555555555556, \"#d8576b\"], [0.6666666666666666, \"#ed7953\"], [0.7777777777777778, \"#fb9f3a\"], [0.8888888888888888, \"#fdca26\"], [1.0, \"#f0f921\"]], \"type\": \"histogram2dcontour\"}], \"mesh3d\": [{\"colorbar\": {\"outlinewidth\": 0, \"ticks\": \"\"}, \"type\": \"mesh3d\"}], \"parcoords\": [{\"line\": {\"colorbar\": {\"outlinewidth\": 0, \"ticks\": \"\"}}, \"type\": \"parcoords\"}], \"scatter\": [{\"marker\": {\"colorbar\": {\"outlinewidth\": 0, \"ticks\": \"\"}}, \"type\": \"scatter\"}], \"scatter3d\": [{\"line\": {\"colorbar\": {\"outlinewidth\": 0, \"ticks\": \"\"}}, \"marker\": {\"colorbar\": {\"outlinewidth\": 0, \"ticks\": \"\"}}, \"type\": \"scatter3d\"}], \"scattercarpet\": [{\"marker\": {\"colorbar\": {\"outlinewidth\": 0, \"ticks\": \"\"}}, \"type\": \"scattercarpet\"}], \"scattergeo\": [{\"marker\": {\"colorbar\": {\"outlinewidth\": 0, \"ticks\": \"\"}}, \"type\": \"scattergeo\"}], \"scattergl\": [{\"marker\": {\"colorbar\": {\"outlinewidth\": 0, \"ticks\": \"\"}}, \"type\": \"scattergl\"}], \"scattermapbox\": [{\"marker\": {\"colorbar\": {\"outlinewidth\": 0, \"ticks\": \"\"}}, \"type\": \"scattermapbox\"}], \"scatterpolar\": [{\"marker\": {\"colorbar\": {\"outlinewidth\": 0, \"ticks\": \"\"}}, \"type\": \"scatterpolar\"}], \"scatterpolargl\": [{\"marker\": {\"colorbar\": {\"outlinewidth\": 0, \"ticks\": \"\"}}, \"type\": \"scatterpolargl\"}], \"scatterternary\": [{\"marker\": {\"colorbar\": {\"outlinewidth\": 0, \"ticks\": \"\"}}, \"type\": \"scatterternary\"}], \"surface\": [{\"colorbar\": {\"outlinewidth\": 0, \"ticks\": \"\"}, \"colorscale\": [[0.0, \"#0d0887\"], [0.1111111111111111, \"#46039f\"], [0.2222222222222222, \"#7201a8\"], [0.3333333333333333, \"#9c179e\"], [0.4444444444444444, \"#bd3786\"], [0.5555555555555556, \"#d8576b\"], [0.6666666666666666, \"#ed7953\"], [0.7777777777777778, \"#fb9f3a\"], [0.8888888888888888, \"#fdca26\"], [1.0, \"#f0f921\"]], \"type\": \"surface\"}], \"table\": [{\"cells\": {\"fill\": {\"color\": \"#EBF0F8\"}, \"line\": {\"color\": \"white\"}}, \"header\": {\"fill\": {\"color\": \"#C8D4E3\"}, \"line\": {\"color\": \"white\"}}, \"type\": \"table\"}]}, \"layout\": {\"annotationdefaults\": {\"arrowcolor\": \"#2a3f5f\", \"arrowhead\": 0, \"arrowwidth\": 1}, \"colorscale\": {\"diverging\": [[0, \"#8e0152\"], [0.1, \"#c51b7d\"], [0.2, \"#de77ae\"], [0.3, \"#f1b6da\"], [0.4, \"#fde0ef\"], [0.5, \"#f7f7f7\"], [0.6, \"#e6f5d0\"], [0.7, \"#b8e186\"], [0.8, \"#7fbc41\"], [0.9, \"#4d9221\"], [1, \"#276419\"]], \"sequential\": [[0.0, \"#0d0887\"], [0.1111111111111111, \"#46039f\"], [0.2222222222222222, \"#7201a8\"], [0.3333333333333333, \"#9c179e\"], [0.4444444444444444, \"#bd3786\"], [0.5555555555555556, \"#d8576b\"], [0.6666666666666666, \"#ed7953\"], [0.7777777777777778, \"#fb9f3a\"], [0.8888888888888888, \"#fdca26\"], [1.0, \"#f0f921\"]], \"sequentialminus\": [[0.0, \"#0d0887\"], [0.1111111111111111, \"#46039f\"], [0.2222222222222222, \"#7201a8\"], [0.3333333333333333, \"#9c179e\"], [0.4444444444444444, \"#bd3786\"], [0.5555555555555556, \"#d8576b\"], [0.6666666666666666, \"#ed7953\"], [0.7777777777777778, \"#fb9f3a\"], [0.8888888888888888, \"#fdca26\"], [1.0, \"#f0f921\"]]}, \"colorway\": [\"#636efa\", \"#EF553B\", \"#00cc96\", \"#ab63fa\", \"#FFA15A\", \"#19d3f3\", \"#FF6692\", \"#B6E880\", \"#FF97FF\", \"#FECB52\"], \"font\": {\"color\": \"#2a3f5f\"}, \"geo\": {\"bgcolor\": \"white\", \"lakecolor\": \"white\", \"landcolor\": \"#E5ECF6\", \"showlakes\": true, \"showland\": true, \"subunitcolor\": \"white\"}, \"hoverlabel\": {\"align\": \"left\"}, \"hovermode\": \"closest\", \"mapbox\": {\"style\": \"light\"}, \"paper_bgcolor\": \"white\", \"plot_bgcolor\": \"#E5ECF6\", \"polar\": {\"angularaxis\": {\"gridcolor\": \"white\", \"linecolor\": \"white\", \"ticks\": \"\"}, \"bgcolor\": \"#E5ECF6\", \"radialaxis\": {\"gridcolor\": \"white\", \"linecolor\": \"white\", \"ticks\": \"\"}}, \"scene\": {\"xaxis\": {\"backgroundcolor\": \"#E5ECF6\", \"gridcolor\": \"white\", \"gridwidth\": 2, \"linecolor\": \"white\", \"showbackground\": true, \"ticks\": \"\", \"zerolinecolor\": \"white\"}, \"yaxis\": {\"backgroundcolor\": \"#E5ECF6\", \"gridcolor\": \"white\", \"gridwidth\": 2, \"linecolor\": \"white\", \"showbackground\": true, \"ticks\": \"\", \"zerolinecolor\": \"white\"}, \"zaxis\": {\"backgroundcolor\": \"#E5ECF6\", \"gridcolor\": \"white\", \"gridwidth\": 2, \"linecolor\": \"white\", \"showbackground\": true, \"ticks\": \"\", \"zerolinecolor\": \"white\"}}, \"shapedefaults\": {\"line\": {\"color\": \"#2a3f5f\"}}, \"ternary\": {\"aaxis\": {\"gridcolor\": \"white\", \"linecolor\": \"white\", \"ticks\": \"\"}, \"baxis\": {\"gridcolor\": \"white\", \"linecolor\": \"white\", \"ticks\": \"\"}, \"bgcolor\": \"#E5ECF6\", \"caxis\": {\"gridcolor\": \"white\", \"linecolor\": \"white\", \"ticks\": \"\"}}, \"title\": {\"x\": 0.05}, \"xaxis\": {\"automargin\": true, \"gridcolor\": \"white\", \"linecolor\": \"white\", \"ticks\": \"\", \"zerolinecolor\": \"white\", \"zerolinewidth\": 2}, \"yaxis\": {\"automargin\": true, \"gridcolor\": \"white\", \"linecolor\": \"white\", \"ticks\": \"\", \"zerolinecolor\": \"white\", \"zerolinewidth\": 2}}}, \"title\": {\"text\": \"<b>COVID19 CASES IN AFRICA: August 13, 2020</b>\", \"x\": 0.5, \"xanchor\": \"center\", \"y\": 0.9, \"yanchor\": \"top\"}, \"xaxis\": {\"nticks\": 30, \"tickangle\": 90, \"title\": {\"font\": {\"color\": \"#BDBDBD\", \"size\": 18}, \"text\": \"<b>Date</b>\"}}, \"yaxis\": {\"title\": {\"font\": {\"color\": \"#4D4B4B\", \"size\": 18}, \"text\": \"<b>New Cases</b>\"}}},\n",
       "                        {\"responsive\": true}\n",
       "                    ).then(function(){\n",
       "                            \n",
       "var gd = document.getElementById('128f70db-5bc1-4d2b-90ad-e307eea9e34b');\n",
       "var x = new MutationObserver(function (mutations, observer) {{\n",
       "        var display = window.getComputedStyle(gd).display;\n",
       "        if (!display || display === 'none') {{\n",
       "            console.log([gd, 'removed!']);\n",
       "            Plotly.purge(gd);\n",
       "            observer.disconnect();\n",
       "        }}\n",
       "}});\n",
       "\n",
       "// Listen for the removal of the full notebook cells\n",
       "var notebookContainer = gd.closest('#notebook-container');\n",
       "if (notebookContainer) {{\n",
       "    x.observe(notebookContainer, {childList: true});\n",
       "}}\n",
       "\n",
       "// Listen for the clearing of the current output cell\n",
       "var outputEl = gd.closest('.output');\n",
       "if (outputEl) {{\n",
       "    x.observe(outputEl, {childList: true});\n",
       "}}\n",
       "\n",
       "                        })\n",
       "                };\n",
       "                });\n",
       "            </script>\n",
       "        </div>"
      ]
     },
     "metadata": {},
     "output_type": "display_data"
    }
   ],
   "source": [
    "fig = go.Figure()\n",
    "for column in african_summary.columns[1:]:\n",
    "    fig.add_trace(go.Scatter(\n",
    "        x=dates,\n",
    "        y= african_summary[column].tolist(),\n",
    "        name=column,\n",
    "        mode='lines'\n",
    "))\n",
    "  \n",
    "fig.update_layout(\n",
    "    title={\n",
    "        'text': '<b>'+'COVID19 CASES IN AFRICA: ' + date_string +'</b>',\n",
    "        'y':0.9,\n",
    "        'x':0.5,\n",
    "        'xanchor': 'center',\n",
    "        'yanchor': 'top'},\n",
    "    xaxis=dict(title='<b>Date</b>',titlefont_size=18, titlefont=dict(color='#BDBDBD'),nticks=30),\n",
    "    yaxis=dict(title='<b>New Cases</b>',titlefont_size=18,  titlefont=dict(color='#4D4B4B')),\n",
    "    legend=dict(x=0.07, y=0.98,traceorder=\"normal\",bgcolor='rgba(255, 255, 255, 0)',bordercolor='rgba(255, 255, 255, 0)',),\n",
    "    xaxis_tickangle=90\n",
    "#     legend=dict(x=0.01, y=0.98,traceorder=\"normal\",borderwidth=1,bordercolor=\"Black\",)\n",
    ")\n",
    "fig.show()"
   ]
  },
  {
   "cell_type": "markdown",
   "metadata": {},
   "source": [
    "### NEW CASES BY REGION"
   ]
  },
  {
   "cell_type": "code",
   "execution_count": 78,
   "metadata": {},
   "outputs": [
    {
     "data": {
      "application/vnd.plotly.v1+json": {
       "config": {
        "plotlyServerURL": "https://plot.ly"
       },
       "data": [
        {
         "mode": "lines",
         "name": "East Africa",
         "type": "scatter",
         "x": [
          "April16",
          "April17",
          "April18",
          "April19",
          "April20",
          "April21",
          "April22",
          "April23",
          "April24",
          "April25",
          "April26",
          "April27",
          "April28",
          "April29",
          "April30",
          "May01",
          "May02",
          "May03",
          "May04",
          "May05",
          "May06",
          "May07",
          "May08",
          "May09",
          "May10",
          "May11",
          "May12",
          "May13",
          "May14",
          "May15",
          "May16",
          "May17",
          "May18",
          "May19",
          "May20",
          "May21",
          "May22",
          "May23",
          "May24",
          "May25",
          "May26",
          "May27",
          "May28",
          "May29",
          "May30",
          "May31",
          "June01",
          "June02",
          "June03",
          "June04",
          "June05",
          "June06",
          "June07",
          "June08",
          "June09",
          "June10",
          "June11",
          "June12",
          "June13",
          "June14",
          "June15",
          "June16",
          "June17",
          "June18",
          "June19",
          "June20",
          "June21",
          "June22",
          "June23",
          "June24",
          "June25",
          "June26",
          "June27",
          "June28",
          "June29",
          "June30",
          "July01",
          "July02",
          "July03",
          "July04",
          "July05",
          "July06",
          "July07",
          "July08",
          "July09",
          "July10",
          "July11",
          "July12",
          "July13",
          "July14",
          "July15",
          "July16",
          "July17",
          "July18",
          "July19",
          "July20",
          "July21",
          "July22",
          "July23",
          "July24",
          "July25",
          "July26",
          "July27",
          "July28",
          "July29",
          "July30",
          "July31",
          "August01",
          "August02",
          "August03",
          "August04",
          "August05",
          "August06",
          "August07",
          "August08",
          "August09",
          "August10",
          "August11",
          "August12",
          "August13"
         ],
         "y": [
          202,
          286,
          106,
          210,
          217,
          255,
          106,
          126,
          137,
          166,
          145,
          129,
          239,
          330,
          221,
          55,
          287,
          164,
          216,
          297,
          213,
          375,
          292,
          484,
          399,
          302,
          563,
          352,
          437,
          298,
          700,
          405,
          623,
          387,
          603,
          1014,
          802,
          258,
          496,
          888,
          396,
          984,
          982,
          605,
          1071,
          672,
          976,
          761,
          789,
          869,
          628,
          784,
          760,
          1066,
          716,
          651,
          570,
          896,
          869,
          749,
          725,
          890,
          798,
          603,
          701,
          835,
          860,
          546,
          820,
          782,
          649,
          924,
          627,
          784,
          573,
          557,
          904,
          543,
          711,
          797,
          774,
          854,
          1027,
          1547,
          1181,
          1254,
          1333,
          1029,
          1086,
          1242,
          1280,
          1671,
          1529,
          1780,
          1871,
          1628,
          1876,
          2219,
          1926,
          2149,
          1819,
          2494,
          1710,
          2338,
          1781,
          2619,
          2631,
          2203,
          2046,
          1731,
          1878,
          1926,
          1709,
          2163,
          2249,
          1678,
          1696,
          1522,
          2129,
          2426
         ]
        },
        {
         "mode": "lines",
         "name": "West Africa",
         "type": "scatter",
         "x": [
          "April16",
          "April17",
          "April18",
          "April19",
          "April20",
          "April21",
          "April22",
          "April23",
          "April24",
          "April25",
          "April26",
          "April27",
          "April28",
          "April29",
          "April30",
          "May01",
          "May02",
          "May03",
          "May04",
          "May05",
          "May06",
          "May07",
          "May08",
          "May09",
          "May10",
          "May11",
          "May12",
          "May13",
          "May14",
          "May15",
          "May16",
          "May17",
          "May18",
          "May19",
          "May20",
          "May21",
          "May22",
          "May23",
          "May24",
          "May25",
          "May26",
          "May27",
          "May28",
          "May29",
          "May30",
          "May31",
          "June01",
          "June02",
          "June03",
          "June04",
          "June05",
          "June06",
          "June07",
          "June08",
          "June09",
          "June10",
          "June11",
          "June12",
          "June13",
          "June14",
          "June15",
          "June16",
          "June17",
          "June18",
          "June19",
          "June20",
          "June21",
          "June22",
          "June23",
          "June24",
          "June25",
          "June26",
          "June27",
          "June28",
          "June29",
          "June30",
          "July01",
          "July02",
          "July03",
          "July04",
          "July05",
          "July06",
          "July07",
          "July08",
          "July09",
          "July10",
          "July11",
          "July12",
          "July13",
          "July14",
          "July15",
          "July16",
          "July17",
          "July18",
          "July19",
          "July20",
          "July21",
          "July22",
          "July23",
          "July24",
          "July25",
          "July26",
          "July27",
          "July28",
          "July29",
          "July30",
          "July31",
          "August01",
          "August02",
          "August03",
          "August04",
          "August05",
          "August06",
          "August07",
          "August08",
          "August09",
          "August10",
          "August11",
          "August12",
          "August13"
         ],
         "y": [
          119,
          215,
          479,
          473,
          191,
          307,
          409,
          342,
          553,
          257,
          570,
          366,
          554,
          629,
          893,
          570,
          585,
          345,
          1267,
          433,
          936,
          788,
          1711,
          856,
          648,
          1015,
          1100,
          863,
          754,
          694,
          779,
          583,
          555,
          883,
          791,
          829,
          714,
          716,
          755,
          669,
          737,
          873,
          837,
          1219,
          1046,
          676,
          1193,
          889,
          980,
          1168,
          1223,
          1102,
          863,
          1105,
          1374,
          1023,
          1586,
          1942,
          1378,
          1866,
          1339,
          1472,
          1787,
          2071,
          2013,
          2037,
          1453,
          1416,
          1503,
          1943,
          1745,
          2021,
          2117,
          1492,
          1640,
          1613,
          1772,
          1375,
          2495,
          1216,
          1852,
          1990,
          1910,
          1941,
          1816,
          1767,
          1928,
          1509,
          1423,
          859,
          1813,
          2046,
          1659,
          1791,
          1680,
          1832,
          1590,
          1923,
          1232,
          2626,
          1845,
          2186,
          1627,
          1690,
          1551,
          1054,
          1281,
          2110,
          575,
          1349,
          765,
          2279,
          1509,
          1527,
          1341,
          1451,
          822,
          1151,
          1213,
          1031
         ]
        },
        {
         "mode": "lines",
         "name": "North Africa",
         "type": "scatter",
         "x": [
          "April16",
          "April17",
          "April18",
          "April19",
          "April20",
          "April21",
          "April22",
          "April23",
          "April24",
          "April25",
          "April26",
          "April27",
          "April28",
          "April29",
          "April30",
          "May01",
          "May02",
          "May03",
          "May04",
          "May05",
          "May06",
          "May07",
          "May08",
          "May09",
          "May10",
          "May11",
          "May12",
          "May13",
          "May14",
          "May15",
          "May16",
          "May17",
          "May18",
          "May19",
          "May20",
          "May21",
          "May22",
          "May23",
          "May24",
          "May25",
          "May26",
          "May27",
          "May28",
          "May29",
          "May30",
          "May31",
          "June01",
          "June02",
          "June03",
          "June04",
          "June05",
          "June06",
          "June07",
          "June08",
          "June09",
          "June10",
          "June11",
          "June12",
          "June13",
          "June14",
          "June15",
          "June16",
          "June17",
          "June18",
          "June19",
          "June20",
          "June21",
          "June22",
          "June23",
          "June24",
          "June25",
          "June26",
          "June27",
          "June28",
          "June29",
          "June30",
          "July01",
          "July02",
          "July03",
          "July04",
          "July05",
          "July06",
          "July07",
          "July08",
          "July09",
          "July10",
          "July11",
          "July12",
          "July13",
          "July14",
          "July15",
          "July16",
          "July17",
          "July18",
          "July19",
          "July20",
          "July21",
          "July22",
          "July23",
          "July24",
          "July25",
          "July26",
          "July27",
          "July28",
          "July29",
          "July30",
          "July31",
          "August01",
          "August02",
          "August03",
          "August04",
          "August05",
          "August06",
          "August07",
          "August08",
          "August09",
          "August10",
          "August11",
          "August12",
          "August13"
         ],
         "y": [
          578,
          644,
          427,
          392,
          474,
          438,
          514,
          460,
          516,
          512,
          519,
          456,
          532,
          499,
          543,
          658,
          610,
          629,
          677,
          748,
          739,
          719,
          849,
          878,
          754,
          732,
          660,
          618,
          682,
          634,
          775,
          837,
          805,
          970,
          1023,
          1041,
          1097,
          999,
          975,
          1001,
          1030,
          1116,
          1332,
          1513,
          1583,
          1717,
          1563,
          1314,
          1257,
          1344,
          1550,
          1709,
          1644,
          1630,
          1664,
          1647,
          1591,
          1781,
          1881,
          1866,
          1922,
          1761,
          1569,
          1426,
          2456,
          1934,
          1781,
          1947,
          1704,
          2187,
          2227,
          2177,
          1713,
          1781,
          2145,
          2160,
          2022,
          2223,
          2174,
          2364,
          2111,
          1678,
          1831,
          1760,
          1802,
          1673,
          1659,
          1660,
          1734,
          1672,
          1671,
          1867,
          1538,
          1687,
          1460,
          1681,
          1559,
          1574,
          1732,
          2033,
          2068,
          1836,
          1806,
          1810,
          2074,
          2291,
          2151,
          1574,
          1359,
          1553,
          1845,
          2225,
          2291,
          1902,
          2225,
          2167,
          1996,
          2186,
          2474,
          2380
         ]
        },
        {
         "mode": "lines",
         "name": "Southern Africa",
         "type": "scatter",
         "x": [
          "April16",
          "April17",
          "April18",
          "April19",
          "April20",
          "April21",
          "April22",
          "April23",
          "April24",
          "April25",
          "April26",
          "April27",
          "April28",
          "April29",
          "April30",
          "May01",
          "May02",
          "May03",
          "May04",
          "May05",
          "May06",
          "May07",
          "May08",
          "May09",
          "May10",
          "May11",
          "May12",
          "May13",
          "May14",
          "May15",
          "May16",
          "May17",
          "May18",
          "May19",
          "May20",
          "May21",
          "May22",
          "May23",
          "May24",
          "May25",
          "May26",
          "May27",
          "May28",
          "May29",
          "May30",
          "May31",
          "June01",
          "June02",
          "June03",
          "June04",
          "June05",
          "June06",
          "June07",
          "June08",
          "June09",
          "June10",
          "June11",
          "June12",
          "June13",
          "June14",
          "June15",
          "June16",
          "June17",
          "June18",
          "June19",
          "June20",
          "June21",
          "June22",
          "June23",
          "June24",
          "June25",
          "June26",
          "June27",
          "June28",
          "June29",
          "June30",
          "July01",
          "July02",
          "July03",
          "July04",
          "July05",
          "July06",
          "July07",
          "July08",
          "July09",
          "July10",
          "July11",
          "July12",
          "July13",
          "July14",
          "July15",
          "July16",
          "July17",
          "July18",
          "July19",
          "July20",
          "July21",
          "July22",
          "July23",
          "July24",
          "July25",
          "July26",
          "July27",
          "July28",
          "July29",
          "July30",
          "July31",
          "August01",
          "August02",
          "August03",
          "August04",
          "August05",
          "August06",
          "August07",
          "August08",
          "August09",
          "August10",
          "August11",
          "August12",
          "August13"
         ],
         "y": [
          102,
          179,
          258,
          129,
          144,
          175,
          172,
          318,
          273,
          163,
          188,
          253,
          211,
          374,
          314,
          310,
          387,
          451,
          441,
          355,
          240,
          454,
          669,
          530,
          605,
          641,
          707,
          728,
          665,
          793,
          843,
          1164,
          922,
          770,
          814,
          1146,
          995,
          1237,
          1258,
          1038,
          654,
          1761,
          1490,
          1838,
          1756,
          1723,
          1711,
          1461,
          1730,
          3287,
          2675,
          2574,
          2326,
          2610,
          2170,
          2469,
          3210,
          3393,
          3849,
          4333,
          3515,
          2821,
          4152,
          3566,
          3894,
          4971,
          4648,
          4335,
          4576,
          5716,
          6642,
          6273,
          7248,
          6420,
          6164,
          7040,
          8254,
          8781,
          9214,
          10996,
          8906,
          9134,
          10286,
          9044,
          13855,
          12511,
          13636,
          12307,
          11729,
          10585,
          12933,
          13703,
          13599,
          13626,
          13690,
          9532,
          8367,
          13444,
          13397,
          14358,
          12540,
          11550,
          7518,
          7507,
          11776,
          11379,
          11239,
          10848,
          8612,
          5706,
          4692,
          8682,
          8612,
          7622,
          7928,
          7000,
          4274,
          2810,
          3194,
          4489
         ]
        },
        {
         "mode": "lines",
         "name": "Central Africa",
         "type": "scatter",
         "x": [
          "April16",
          "April17",
          "April18",
          "April19",
          "April20",
          "April21",
          "April22",
          "April23",
          "April24",
          "April25",
          "April26",
          "April27",
          "April28",
          "April29",
          "April30",
          "May01",
          "May02",
          "May03",
          "May04",
          "May05",
          "May06",
          "May07",
          "May08",
          "May09",
          "May10",
          "May11",
          "May12",
          "May13",
          "May14",
          "May15",
          "May16",
          "May17",
          "May18",
          "May19",
          "May20",
          "May21",
          "May22",
          "May23",
          "May24",
          "May25",
          "May26",
          "May27",
          "May28",
          "May29",
          "May30",
          "May31",
          "June01",
          "June02",
          "June03",
          "June04",
          "June05",
          "June06",
          "June07",
          "June08",
          "June09",
          "June10",
          "June11",
          "June12",
          "June13",
          "June14",
          "June15",
          "June16",
          "June17",
          "June18",
          "June19",
          "June20",
          "June21",
          "June22",
          "June23",
          "June24",
          "June25",
          "June26",
          "June27",
          "June28",
          "June29",
          "June30",
          "July01",
          "July02",
          "July03",
          "July04",
          "July05",
          "July06",
          "July07",
          "July08",
          "July09",
          "July10",
          "July11",
          "July12",
          "July13",
          "July14",
          "July15",
          "July16",
          "July17",
          "July18",
          "July19",
          "July20",
          "July21",
          "July22",
          "July23",
          "July24",
          "July25",
          "July26",
          "July27",
          "July28",
          "July29",
          "July30",
          "July31",
          "August01",
          "August02",
          "August03",
          "August04",
          "August05",
          "August06",
          "August07",
          "August08",
          "August09",
          "August10",
          "August11",
          "August12",
          "August13"
         ],
         "y": [
          165,
          102,
          52,
          21,
          179,
          65,
          42,
          190,
          144,
          164,
          133,
          153,
          106,
          185,
          121,
          68,
          423,
          0,
          94,
          258,
          414,
          271,
          210,
          184,
          359,
          345,
          174,
          429,
          491,
          359,
          491,
          29,
          794,
          347,
          508,
          768,
          508,
          415,
          693,
          549,
          929,
          357,
          308,
          782,
          750,
          218,
          689,
          480,
          389,
          530,
          1078,
          490,
          529,
          461,
          606,
          701,
          386,
          233,
          128,
          60,
          2135,
          424,
          773,
          351,
          1071,
          609,
          570,
          924,
          540,
          674,
          830,
          362,
          275,
          146,
          388,
          241,
          505,
          138,
          1622,
          137,
          34,
          209,
          2406,
          430,
          517,
          460,
          356,
          91,
          204,
          115,
          360,
          1202,
          568,
          224,
          100,
          483,
          499,
          294,
          177,
          959,
          77,
          48,
          809,
          154,
          382,
          121,
          1854,
          218,
          66,
          560,
          579,
          271,
          149,
          349,
          466,
          120,
          126,
          326,
          198,
          150
         ]
        }
       ],
       "layout": {
        "legend": {
         "bgcolor": "rgba(255, 255, 255, 0)",
         "bordercolor": "rgba(255, 255, 255, 0)",
         "borderwidth": 1,
         "traceorder": "normal",
         "x": 0.05,
         "y": 0.98
        },
        "template": {
         "data": {
          "bar": [
           {
            "error_x": {
             "color": "#2a3f5f"
            },
            "error_y": {
             "color": "#2a3f5f"
            },
            "marker": {
             "line": {
              "color": "#E5ECF6",
              "width": 0.5
             }
            },
            "type": "bar"
           }
          ],
          "barpolar": [
           {
            "marker": {
             "line": {
              "color": "#E5ECF6",
              "width": 0.5
             }
            },
            "type": "barpolar"
           }
          ],
          "carpet": [
           {
            "aaxis": {
             "endlinecolor": "#2a3f5f",
             "gridcolor": "white",
             "linecolor": "white",
             "minorgridcolor": "white",
             "startlinecolor": "#2a3f5f"
            },
            "baxis": {
             "endlinecolor": "#2a3f5f",
             "gridcolor": "white",
             "linecolor": "white",
             "minorgridcolor": "white",
             "startlinecolor": "#2a3f5f"
            },
            "type": "carpet"
           }
          ],
          "choropleth": [
           {
            "colorbar": {
             "outlinewidth": 0,
             "ticks": ""
            },
            "type": "choropleth"
           }
          ],
          "contour": [
           {
            "colorbar": {
             "outlinewidth": 0,
             "ticks": ""
            },
            "colorscale": [
             [
              0,
              "#0d0887"
             ],
             [
              0.1111111111111111,
              "#46039f"
             ],
             [
              0.2222222222222222,
              "#7201a8"
             ],
             [
              0.3333333333333333,
              "#9c179e"
             ],
             [
              0.4444444444444444,
              "#bd3786"
             ],
             [
              0.5555555555555556,
              "#d8576b"
             ],
             [
              0.6666666666666666,
              "#ed7953"
             ],
             [
              0.7777777777777778,
              "#fb9f3a"
             ],
             [
              0.8888888888888888,
              "#fdca26"
             ],
             [
              1,
              "#f0f921"
             ]
            ],
            "type": "contour"
           }
          ],
          "contourcarpet": [
           {
            "colorbar": {
             "outlinewidth": 0,
             "ticks": ""
            },
            "type": "contourcarpet"
           }
          ],
          "heatmap": [
           {
            "colorbar": {
             "outlinewidth": 0,
             "ticks": ""
            },
            "colorscale": [
             [
              0,
              "#0d0887"
             ],
             [
              0.1111111111111111,
              "#46039f"
             ],
             [
              0.2222222222222222,
              "#7201a8"
             ],
             [
              0.3333333333333333,
              "#9c179e"
             ],
             [
              0.4444444444444444,
              "#bd3786"
             ],
             [
              0.5555555555555556,
              "#d8576b"
             ],
             [
              0.6666666666666666,
              "#ed7953"
             ],
             [
              0.7777777777777778,
              "#fb9f3a"
             ],
             [
              0.8888888888888888,
              "#fdca26"
             ],
             [
              1,
              "#f0f921"
             ]
            ],
            "type": "heatmap"
           }
          ],
          "heatmapgl": [
           {
            "colorbar": {
             "outlinewidth": 0,
             "ticks": ""
            },
            "colorscale": [
             [
              0,
              "#0d0887"
             ],
             [
              0.1111111111111111,
              "#46039f"
             ],
             [
              0.2222222222222222,
              "#7201a8"
             ],
             [
              0.3333333333333333,
              "#9c179e"
             ],
             [
              0.4444444444444444,
              "#bd3786"
             ],
             [
              0.5555555555555556,
              "#d8576b"
             ],
             [
              0.6666666666666666,
              "#ed7953"
             ],
             [
              0.7777777777777778,
              "#fb9f3a"
             ],
             [
              0.8888888888888888,
              "#fdca26"
             ],
             [
              1,
              "#f0f921"
             ]
            ],
            "type": "heatmapgl"
           }
          ],
          "histogram": [
           {
            "marker": {
             "colorbar": {
              "outlinewidth": 0,
              "ticks": ""
             }
            },
            "type": "histogram"
           }
          ],
          "histogram2d": [
           {
            "colorbar": {
             "outlinewidth": 0,
             "ticks": ""
            },
            "colorscale": [
             [
              0,
              "#0d0887"
             ],
             [
              0.1111111111111111,
              "#46039f"
             ],
             [
              0.2222222222222222,
              "#7201a8"
             ],
             [
              0.3333333333333333,
              "#9c179e"
             ],
             [
              0.4444444444444444,
              "#bd3786"
             ],
             [
              0.5555555555555556,
              "#d8576b"
             ],
             [
              0.6666666666666666,
              "#ed7953"
             ],
             [
              0.7777777777777778,
              "#fb9f3a"
             ],
             [
              0.8888888888888888,
              "#fdca26"
             ],
             [
              1,
              "#f0f921"
             ]
            ],
            "type": "histogram2d"
           }
          ],
          "histogram2dcontour": [
           {
            "colorbar": {
             "outlinewidth": 0,
             "ticks": ""
            },
            "colorscale": [
             [
              0,
              "#0d0887"
             ],
             [
              0.1111111111111111,
              "#46039f"
             ],
             [
              0.2222222222222222,
              "#7201a8"
             ],
             [
              0.3333333333333333,
              "#9c179e"
             ],
             [
              0.4444444444444444,
              "#bd3786"
             ],
             [
              0.5555555555555556,
              "#d8576b"
             ],
             [
              0.6666666666666666,
              "#ed7953"
             ],
             [
              0.7777777777777778,
              "#fb9f3a"
             ],
             [
              0.8888888888888888,
              "#fdca26"
             ],
             [
              1,
              "#f0f921"
             ]
            ],
            "type": "histogram2dcontour"
           }
          ],
          "mesh3d": [
           {
            "colorbar": {
             "outlinewidth": 0,
             "ticks": ""
            },
            "type": "mesh3d"
           }
          ],
          "parcoords": [
           {
            "line": {
             "colorbar": {
              "outlinewidth": 0,
              "ticks": ""
             }
            },
            "type": "parcoords"
           }
          ],
          "scatter": [
           {
            "marker": {
             "colorbar": {
              "outlinewidth": 0,
              "ticks": ""
             }
            },
            "type": "scatter"
           }
          ],
          "scatter3d": [
           {
            "line": {
             "colorbar": {
              "outlinewidth": 0,
              "ticks": ""
             }
            },
            "marker": {
             "colorbar": {
              "outlinewidth": 0,
              "ticks": ""
             }
            },
            "type": "scatter3d"
           }
          ],
          "scattercarpet": [
           {
            "marker": {
             "colorbar": {
              "outlinewidth": 0,
              "ticks": ""
             }
            },
            "type": "scattercarpet"
           }
          ],
          "scattergeo": [
           {
            "marker": {
             "colorbar": {
              "outlinewidth": 0,
              "ticks": ""
             }
            },
            "type": "scattergeo"
           }
          ],
          "scattergl": [
           {
            "marker": {
             "colorbar": {
              "outlinewidth": 0,
              "ticks": ""
             }
            },
            "type": "scattergl"
           }
          ],
          "scattermapbox": [
           {
            "marker": {
             "colorbar": {
              "outlinewidth": 0,
              "ticks": ""
             }
            },
            "type": "scattermapbox"
           }
          ],
          "scatterpolar": [
           {
            "marker": {
             "colorbar": {
              "outlinewidth": 0,
              "ticks": ""
             }
            },
            "type": "scatterpolar"
           }
          ],
          "scatterpolargl": [
           {
            "marker": {
             "colorbar": {
              "outlinewidth": 0,
              "ticks": ""
             }
            },
            "type": "scatterpolargl"
           }
          ],
          "scatterternary": [
           {
            "marker": {
             "colorbar": {
              "outlinewidth": 0,
              "ticks": ""
             }
            },
            "type": "scatterternary"
           }
          ],
          "surface": [
           {
            "colorbar": {
             "outlinewidth": 0,
             "ticks": ""
            },
            "colorscale": [
             [
              0,
              "#0d0887"
             ],
             [
              0.1111111111111111,
              "#46039f"
             ],
             [
              0.2222222222222222,
              "#7201a8"
             ],
             [
              0.3333333333333333,
              "#9c179e"
             ],
             [
              0.4444444444444444,
              "#bd3786"
             ],
             [
              0.5555555555555556,
              "#d8576b"
             ],
             [
              0.6666666666666666,
              "#ed7953"
             ],
             [
              0.7777777777777778,
              "#fb9f3a"
             ],
             [
              0.8888888888888888,
              "#fdca26"
             ],
             [
              1,
              "#f0f921"
             ]
            ],
            "type": "surface"
           }
          ],
          "table": [
           {
            "cells": {
             "fill": {
              "color": "#EBF0F8"
             },
             "line": {
              "color": "white"
             }
            },
            "header": {
             "fill": {
              "color": "#C8D4E3"
             },
             "line": {
              "color": "white"
             }
            },
            "type": "table"
           }
          ]
         },
         "layout": {
          "annotationdefaults": {
           "arrowcolor": "#2a3f5f",
           "arrowhead": 0,
           "arrowwidth": 1
          },
          "colorscale": {
           "diverging": [
            [
             0,
             "#8e0152"
            ],
            [
             0.1,
             "#c51b7d"
            ],
            [
             0.2,
             "#de77ae"
            ],
            [
             0.3,
             "#f1b6da"
            ],
            [
             0.4,
             "#fde0ef"
            ],
            [
             0.5,
             "#f7f7f7"
            ],
            [
             0.6,
             "#e6f5d0"
            ],
            [
             0.7,
             "#b8e186"
            ],
            [
             0.8,
             "#7fbc41"
            ],
            [
             0.9,
             "#4d9221"
            ],
            [
             1,
             "#276419"
            ]
           ],
           "sequential": [
            [
             0,
             "#0d0887"
            ],
            [
             0.1111111111111111,
             "#46039f"
            ],
            [
             0.2222222222222222,
             "#7201a8"
            ],
            [
             0.3333333333333333,
             "#9c179e"
            ],
            [
             0.4444444444444444,
             "#bd3786"
            ],
            [
             0.5555555555555556,
             "#d8576b"
            ],
            [
             0.6666666666666666,
             "#ed7953"
            ],
            [
             0.7777777777777778,
             "#fb9f3a"
            ],
            [
             0.8888888888888888,
             "#fdca26"
            ],
            [
             1,
             "#f0f921"
            ]
           ],
           "sequentialminus": [
            [
             0,
             "#0d0887"
            ],
            [
             0.1111111111111111,
             "#46039f"
            ],
            [
             0.2222222222222222,
             "#7201a8"
            ],
            [
             0.3333333333333333,
             "#9c179e"
            ],
            [
             0.4444444444444444,
             "#bd3786"
            ],
            [
             0.5555555555555556,
             "#d8576b"
            ],
            [
             0.6666666666666666,
             "#ed7953"
            ],
            [
             0.7777777777777778,
             "#fb9f3a"
            ],
            [
             0.8888888888888888,
             "#fdca26"
            ],
            [
             1,
             "#f0f921"
            ]
           ]
          },
          "colorway": [
           "#636efa",
           "#EF553B",
           "#00cc96",
           "#ab63fa",
           "#FFA15A",
           "#19d3f3",
           "#FF6692",
           "#B6E880",
           "#FF97FF",
           "#FECB52"
          ],
          "font": {
           "color": "#2a3f5f"
          },
          "geo": {
           "bgcolor": "white",
           "lakecolor": "white",
           "landcolor": "#E5ECF6",
           "showlakes": true,
           "showland": true,
           "subunitcolor": "white"
          },
          "hoverlabel": {
           "align": "left"
          },
          "hovermode": "closest",
          "mapbox": {
           "style": "light"
          },
          "paper_bgcolor": "white",
          "plot_bgcolor": "#E5ECF6",
          "polar": {
           "angularaxis": {
            "gridcolor": "white",
            "linecolor": "white",
            "ticks": ""
           },
           "bgcolor": "#E5ECF6",
           "radialaxis": {
            "gridcolor": "white",
            "linecolor": "white",
            "ticks": ""
           }
          },
          "scene": {
           "xaxis": {
            "backgroundcolor": "#E5ECF6",
            "gridcolor": "white",
            "gridwidth": 2,
            "linecolor": "white",
            "showbackground": true,
            "ticks": "",
            "zerolinecolor": "white"
           },
           "yaxis": {
            "backgroundcolor": "#E5ECF6",
            "gridcolor": "white",
            "gridwidth": 2,
            "linecolor": "white",
            "showbackground": true,
            "ticks": "",
            "zerolinecolor": "white"
           },
           "zaxis": {
            "backgroundcolor": "#E5ECF6",
            "gridcolor": "white",
            "gridwidth": 2,
            "linecolor": "white",
            "showbackground": true,
            "ticks": "",
            "zerolinecolor": "white"
           }
          },
          "shapedefaults": {
           "line": {
            "color": "#2a3f5f"
           }
          },
          "ternary": {
           "aaxis": {
            "gridcolor": "white",
            "linecolor": "white",
            "ticks": ""
           },
           "baxis": {
            "gridcolor": "white",
            "linecolor": "white",
            "ticks": ""
           },
           "bgcolor": "#E5ECF6",
           "caxis": {
            "gridcolor": "white",
            "linecolor": "white",
            "ticks": ""
           }
          },
          "title": {
           "x": 0.05
          },
          "xaxis": {
           "automargin": true,
           "gridcolor": "white",
           "linecolor": "white",
           "ticks": "",
           "zerolinecolor": "white",
           "zerolinewidth": 2
          },
          "yaxis": {
           "automargin": true,
           "gridcolor": "white",
           "linecolor": "white",
           "ticks": "",
           "zerolinecolor": "white",
           "zerolinewidth": 2
          }
         }
        },
        "title": {
         "text": "<b>AFRICA- COVID19 NEW CASES: August 13, 2020</b>",
         "x": 0.5,
         "xanchor": "center",
         "y": 0.9,
         "yanchor": "top"
        },
        "xaxis": {
         "nticks": 8,
         "tickangle": 90,
         "title": {
          "font": {
           "color": "#BDBDBD",
           "size": 18
          },
          "text": "<b>Date</b>"
         }
        },
        "yaxis": {
         "title": {
          "font": {
           "color": "#4D4B4B",
           "size": 18
          },
          "text": "<b>New Cases</b>"
         }
        }
       }
      },
      "text/html": [
       "<div>\n",
       "        \n",
       "        \n",
       "            <div id=\"eb43592e-a045-42c3-94ea-ebf398b36391\" class=\"plotly-graph-div\" style=\"height:525px; width:100%;\"></div>\n",
       "            <script type=\"text/javascript\">\n",
       "                require([\"plotly\"], function(Plotly) {\n",
       "                    window.PLOTLYENV=window.PLOTLYENV || {};\n",
       "                    \n",
       "                if (document.getElementById(\"eb43592e-a045-42c3-94ea-ebf398b36391\")) {\n",
       "                    Plotly.newPlot(\n",
       "                        'eb43592e-a045-42c3-94ea-ebf398b36391',\n",
       "                        [{\"mode\": \"lines\", \"name\": \"East Africa\", \"type\": \"scatter\", \"x\": [\"April16\", \"April17\", \"April18\", \"April19\", \"April20\", \"April21\", \"April22\", \"April23\", \"April24\", \"April25\", \"April26\", \"April27\", \"April28\", \"April29\", \"April30\", \"May01\", \"May02\", \"May03\", \"May04\", \"May05\", \"May06\", \"May07\", \"May08\", \"May09\", \"May10\", \"May11\", \"May12\", \"May13\", \"May14\", \"May15\", \"May16\", \"May17\", \"May18\", \"May19\", \"May20\", \"May21\", \"May22\", \"May23\", \"May24\", \"May25\", \"May26\", \"May27\", \"May28\", \"May29\", \"May30\", \"May31\", \"June01\", \"June02\", \"June03\", \"June04\", \"June05\", \"June06\", \"June07\", \"June08\", \"June09\", \"June10\", \"June11\", \"June12\", \"June13\", \"June14\", \"June15\", \"June16\", \"June17\", \"June18\", \"June19\", \"June20\", \"June21\", \"June22\", \"June23\", \"June24\", \"June25\", \"June26\", \"June27\", \"June28\", \"June29\", \"June30\", \"July01\", \"July02\", \"July03\", \"July04\", \"July05\", \"July06\", \"July07\", \"July08\", \"July09\", \"July10\", \"July11\", \"July12\", \"July13\", \"July14\", \"July15\", \"July16\", \"July17\", \"July18\", \"July19\", \"July20\", \"July21\", \"July22\", \"July23\", \"July24\", \"July25\", \"July26\", \"July27\", \"July28\", \"July29\", \"July30\", \"July31\", \"August01\", \"August02\", \"August03\", \"August04\", \"August05\", \"August06\", \"August07\", \"August08\", \"August09\", \"August10\", \"August11\", \"August12\", \"August13\"], \"y\": [202, 286, 106, 210, 217, 255, 106, 126, 137, 166, 145, 129, 239, 330, 221, 55, 287, 164, 216, 297, 213, 375, 292, 484, 399, 302, 563, 352, 437, 298, 700, 405, 623, 387, 603, 1014, 802, 258, 496, 888, 396, 984, 982, 605, 1071, 672, 976, 761, 789, 869, 628, 784, 760, 1066, 716, 651, 570, 896, 869, 749, 725, 890, 798, 603, 701, 835, 860, 546, 820, 782, 649, 924, 627, 784, 573, 557, 904, 543, 711, 797, 774, 854, 1027, 1547, 1181, 1254, 1333, 1029, 1086, 1242, 1280, 1671, 1529, 1780, 1871, 1628, 1876, 2219, 1926, 2149, 1819, 2494, 1710, 2338, 1781, 2619, 2631, 2203, 2046, 1731, 1878, 1926, 1709, 2163, 2249, 1678, 1696, 1522, 2129, 2426]}, {\"mode\": \"lines\", \"name\": \"West Africa\", \"type\": \"scatter\", \"x\": [\"April16\", \"April17\", \"April18\", \"April19\", \"April20\", \"April21\", \"April22\", \"April23\", \"April24\", \"April25\", \"April26\", \"April27\", \"April28\", \"April29\", \"April30\", \"May01\", \"May02\", \"May03\", \"May04\", \"May05\", \"May06\", \"May07\", \"May08\", \"May09\", \"May10\", \"May11\", \"May12\", \"May13\", \"May14\", \"May15\", \"May16\", \"May17\", \"May18\", \"May19\", \"May20\", \"May21\", \"May22\", \"May23\", \"May24\", \"May25\", \"May26\", \"May27\", \"May28\", \"May29\", \"May30\", \"May31\", \"June01\", \"June02\", \"June03\", \"June04\", \"June05\", \"June06\", \"June07\", \"June08\", \"June09\", \"June10\", \"June11\", \"June12\", \"June13\", \"June14\", \"June15\", \"June16\", \"June17\", \"June18\", \"June19\", \"June20\", \"June21\", \"June22\", \"June23\", \"June24\", \"June25\", \"June26\", \"June27\", \"June28\", \"June29\", \"June30\", \"July01\", \"July02\", \"July03\", \"July04\", \"July05\", \"July06\", \"July07\", \"July08\", \"July09\", \"July10\", \"July11\", \"July12\", \"July13\", \"July14\", \"July15\", \"July16\", \"July17\", \"July18\", \"July19\", \"July20\", \"July21\", \"July22\", \"July23\", \"July24\", \"July25\", \"July26\", \"July27\", \"July28\", \"July29\", \"July30\", \"July31\", \"August01\", \"August02\", \"August03\", \"August04\", \"August05\", \"August06\", \"August07\", \"August08\", \"August09\", \"August10\", \"August11\", \"August12\", \"August13\"], \"y\": [119, 215, 479, 473, 191, 307, 409, 342, 553, 257, 570, 366, 554, 629, 893, 570, 585, 345, 1267, 433, 936, 788, 1711, 856, 648, 1015, 1100, 863, 754, 694, 779, 583, 555, 883, 791, 829, 714, 716, 755, 669, 737, 873, 837, 1219, 1046, 676, 1193, 889, 980, 1168, 1223, 1102, 863, 1105, 1374, 1023, 1586, 1942, 1378, 1866, 1339, 1472, 1787, 2071, 2013, 2037, 1453, 1416, 1503, 1943, 1745, 2021, 2117, 1492, 1640, 1613, 1772, 1375, 2495, 1216, 1852, 1990, 1910, 1941, 1816, 1767, 1928, 1509, 1423, 859, 1813, 2046, 1659, 1791, 1680, 1832, 1590, 1923, 1232, 2626, 1845, 2186, 1627, 1690, 1551, 1054, 1281, 2110, 575, 1349, 765, 2279, 1509, 1527, 1341, 1451, 822, 1151, 1213, 1031]}, {\"mode\": \"lines\", \"name\": \"North Africa\", \"type\": \"scatter\", \"x\": [\"April16\", \"April17\", \"April18\", \"April19\", \"April20\", \"April21\", \"April22\", \"April23\", \"April24\", \"April25\", \"April26\", \"April27\", \"April28\", \"April29\", \"April30\", \"May01\", \"May02\", \"May03\", \"May04\", \"May05\", \"May06\", \"May07\", \"May08\", \"May09\", \"May10\", \"May11\", \"May12\", \"May13\", \"May14\", \"May15\", \"May16\", \"May17\", \"May18\", \"May19\", \"May20\", \"May21\", \"May22\", \"May23\", \"May24\", \"May25\", \"May26\", \"May27\", \"May28\", \"May29\", \"May30\", \"May31\", \"June01\", \"June02\", \"June03\", \"June04\", \"June05\", \"June06\", \"June07\", \"June08\", \"June09\", \"June10\", \"June11\", \"June12\", \"June13\", \"June14\", \"June15\", \"June16\", \"June17\", \"June18\", \"June19\", \"June20\", \"June21\", \"June22\", \"June23\", \"June24\", \"June25\", \"June26\", \"June27\", \"June28\", \"June29\", \"June30\", \"July01\", \"July02\", \"July03\", \"July04\", \"July05\", \"July06\", \"July07\", \"July08\", \"July09\", \"July10\", \"July11\", \"July12\", \"July13\", \"July14\", \"July15\", \"July16\", \"July17\", \"July18\", \"July19\", \"July20\", \"July21\", \"July22\", \"July23\", \"July24\", \"July25\", \"July26\", \"July27\", \"July28\", \"July29\", \"July30\", \"July31\", \"August01\", \"August02\", \"August03\", \"August04\", \"August05\", \"August06\", \"August07\", \"August08\", \"August09\", \"August10\", \"August11\", \"August12\", \"August13\"], \"y\": [578, 644, 427, 392, 474, 438, 514, 460, 516, 512, 519, 456, 532, 499, 543, 658, 610, 629, 677, 748, 739, 719, 849, 878, 754, 732, 660, 618, 682, 634, 775, 837, 805, 970, 1023, 1041, 1097, 999, 975, 1001, 1030, 1116, 1332, 1513, 1583, 1717, 1563, 1314, 1257, 1344, 1550, 1709, 1644, 1630, 1664, 1647, 1591, 1781, 1881, 1866, 1922, 1761, 1569, 1426, 2456, 1934, 1781, 1947, 1704, 2187, 2227, 2177, 1713, 1781, 2145, 2160, 2022, 2223, 2174, 2364, 2111, 1678, 1831, 1760, 1802, 1673, 1659, 1660, 1734, 1672, 1671, 1867, 1538, 1687, 1460, 1681, 1559, 1574, 1732, 2033, 2068, 1836, 1806, 1810, 2074, 2291, 2151, 1574, 1359, 1553, 1845, 2225, 2291, 1902, 2225, 2167, 1996, 2186, 2474, 2380]}, {\"mode\": \"lines\", \"name\": \"Southern Africa\", \"type\": \"scatter\", \"x\": [\"April16\", \"April17\", \"April18\", \"April19\", \"April20\", \"April21\", \"April22\", \"April23\", \"April24\", \"April25\", \"April26\", \"April27\", \"April28\", \"April29\", \"April30\", \"May01\", \"May02\", \"May03\", \"May04\", \"May05\", \"May06\", \"May07\", \"May08\", \"May09\", \"May10\", \"May11\", \"May12\", \"May13\", \"May14\", \"May15\", \"May16\", \"May17\", \"May18\", \"May19\", \"May20\", \"May21\", \"May22\", \"May23\", \"May24\", \"May25\", \"May26\", \"May27\", \"May28\", \"May29\", \"May30\", \"May31\", \"June01\", \"June02\", \"June03\", \"June04\", \"June05\", \"June06\", \"June07\", \"June08\", \"June09\", \"June10\", \"June11\", \"June12\", \"June13\", \"June14\", \"June15\", \"June16\", \"June17\", \"June18\", \"June19\", \"June20\", \"June21\", \"June22\", \"June23\", \"June24\", \"June25\", \"June26\", \"June27\", \"June28\", \"June29\", \"June30\", \"July01\", \"July02\", \"July03\", \"July04\", \"July05\", \"July06\", \"July07\", \"July08\", \"July09\", \"July10\", \"July11\", \"July12\", \"July13\", \"July14\", \"July15\", \"July16\", \"July17\", \"July18\", \"July19\", \"July20\", \"July21\", \"July22\", \"July23\", \"July24\", \"July25\", \"July26\", \"July27\", \"July28\", \"July29\", \"July30\", \"July31\", \"August01\", \"August02\", \"August03\", \"August04\", \"August05\", \"August06\", \"August07\", \"August08\", \"August09\", \"August10\", \"August11\", \"August12\", \"August13\"], \"y\": [102, 179, 258, 129, 144, 175, 172, 318, 273, 163, 188, 253, 211, 374, 314, 310, 387, 451, 441, 355, 240, 454, 669, 530, 605, 641, 707, 728, 665, 793, 843, 1164, 922, 770, 814, 1146, 995, 1237, 1258, 1038, 654, 1761, 1490, 1838, 1756, 1723, 1711, 1461, 1730, 3287, 2675, 2574, 2326, 2610, 2170, 2469, 3210, 3393, 3849, 4333, 3515, 2821, 4152, 3566, 3894, 4971, 4648, 4335, 4576, 5716, 6642, 6273, 7248, 6420, 6164, 7040, 8254, 8781, 9214, 10996, 8906, 9134, 10286, 9044, 13855, 12511, 13636, 12307, 11729, 10585, 12933, 13703, 13599, 13626, 13690, 9532, 8367, 13444, 13397, 14358, 12540, 11550, 7518, 7507, 11776, 11379, 11239, 10848, 8612, 5706, 4692, 8682, 8612, 7622, 7928, 7000, 4274, 2810, 3194, 4489]}, {\"mode\": \"lines\", \"name\": \"Central Africa\", \"type\": \"scatter\", \"x\": [\"April16\", \"April17\", \"April18\", \"April19\", \"April20\", \"April21\", \"April22\", \"April23\", \"April24\", \"April25\", \"April26\", \"April27\", \"April28\", \"April29\", \"April30\", \"May01\", \"May02\", \"May03\", \"May04\", \"May05\", \"May06\", \"May07\", \"May08\", \"May09\", \"May10\", \"May11\", \"May12\", \"May13\", \"May14\", \"May15\", \"May16\", \"May17\", \"May18\", \"May19\", \"May20\", \"May21\", \"May22\", \"May23\", \"May24\", \"May25\", \"May26\", \"May27\", \"May28\", \"May29\", \"May30\", \"May31\", \"June01\", \"June02\", \"June03\", \"June04\", \"June05\", \"June06\", \"June07\", \"June08\", \"June09\", \"June10\", \"June11\", \"June12\", \"June13\", \"June14\", \"June15\", \"June16\", \"June17\", \"June18\", \"June19\", \"June20\", \"June21\", \"June22\", \"June23\", \"June24\", \"June25\", \"June26\", \"June27\", \"June28\", \"June29\", \"June30\", \"July01\", \"July02\", \"July03\", \"July04\", \"July05\", \"July06\", \"July07\", \"July08\", \"July09\", \"July10\", \"July11\", \"July12\", \"July13\", \"July14\", \"July15\", \"July16\", \"July17\", \"July18\", \"July19\", \"July20\", \"July21\", \"July22\", \"July23\", \"July24\", \"July25\", \"July26\", \"July27\", \"July28\", \"July29\", \"July30\", \"July31\", \"August01\", \"August02\", \"August03\", \"August04\", \"August05\", \"August06\", \"August07\", \"August08\", \"August09\", \"August10\", \"August11\", \"August12\", \"August13\"], \"y\": [165, 102, 52, 21, 179, 65, 42, 190, 144, 164, 133, 153, 106, 185, 121, 68, 423, 0, 94, 258, 414, 271, 210, 184, 359, 345, 174, 429, 491, 359, 491, 29, 794, 347, 508, 768, 508, 415, 693, 549, 929, 357, 308, 782, 750, 218, 689, 480, 389, 530, 1078, 490, 529, 461, 606, 701, 386, 233, 128, 60, 2135, 424, 773, 351, 1071, 609, 570, 924, 540, 674, 830, 362, 275, 146, 388, 241, 505, 138, 1622, 137, 34, 209, 2406, 430, 517, 460, 356, 91, 204, 115, 360, 1202, 568, 224, 100, 483, 499, 294, 177, 959, 77, 48, 809, 154, 382, 121, 1854, 218, 66, 560, 579, 271, 149, 349, 466, 120, 126, 326, 198, 150]}],\n",
       "                        {\"legend\": {\"bgcolor\": \"rgba(255, 255, 255, 0)\", \"bordercolor\": \"rgba(255, 255, 255, 0)\", \"borderwidth\": 1, \"traceorder\": \"normal\", \"x\": 0.05, \"y\": 0.98}, \"template\": {\"data\": {\"bar\": [{\"error_x\": {\"color\": \"#2a3f5f\"}, \"error_y\": {\"color\": \"#2a3f5f\"}, \"marker\": {\"line\": {\"color\": \"#E5ECF6\", \"width\": 0.5}}, \"type\": \"bar\"}], \"barpolar\": [{\"marker\": {\"line\": {\"color\": \"#E5ECF6\", \"width\": 0.5}}, \"type\": \"barpolar\"}], \"carpet\": [{\"aaxis\": {\"endlinecolor\": \"#2a3f5f\", \"gridcolor\": \"white\", \"linecolor\": \"white\", \"minorgridcolor\": \"white\", \"startlinecolor\": \"#2a3f5f\"}, \"baxis\": {\"endlinecolor\": \"#2a3f5f\", \"gridcolor\": \"white\", \"linecolor\": \"white\", \"minorgridcolor\": \"white\", \"startlinecolor\": \"#2a3f5f\"}, \"type\": \"carpet\"}], \"choropleth\": [{\"colorbar\": {\"outlinewidth\": 0, \"ticks\": \"\"}, \"type\": \"choropleth\"}], \"contour\": [{\"colorbar\": {\"outlinewidth\": 0, \"ticks\": \"\"}, \"colorscale\": [[0.0, \"#0d0887\"], [0.1111111111111111, \"#46039f\"], [0.2222222222222222, \"#7201a8\"], [0.3333333333333333, \"#9c179e\"], [0.4444444444444444, \"#bd3786\"], [0.5555555555555556, \"#d8576b\"], [0.6666666666666666, \"#ed7953\"], [0.7777777777777778, \"#fb9f3a\"], [0.8888888888888888, \"#fdca26\"], [1.0, \"#f0f921\"]], \"type\": \"contour\"}], \"contourcarpet\": [{\"colorbar\": {\"outlinewidth\": 0, \"ticks\": \"\"}, \"type\": \"contourcarpet\"}], \"heatmap\": [{\"colorbar\": {\"outlinewidth\": 0, \"ticks\": \"\"}, \"colorscale\": [[0.0, \"#0d0887\"], [0.1111111111111111, \"#46039f\"], [0.2222222222222222, \"#7201a8\"], [0.3333333333333333, \"#9c179e\"], [0.4444444444444444, \"#bd3786\"], [0.5555555555555556, \"#d8576b\"], [0.6666666666666666, \"#ed7953\"], [0.7777777777777778, \"#fb9f3a\"], [0.8888888888888888, \"#fdca26\"], [1.0, \"#f0f921\"]], \"type\": \"heatmap\"}], \"heatmapgl\": [{\"colorbar\": {\"outlinewidth\": 0, \"ticks\": \"\"}, \"colorscale\": [[0.0, \"#0d0887\"], [0.1111111111111111, \"#46039f\"], [0.2222222222222222, \"#7201a8\"], [0.3333333333333333, \"#9c179e\"], [0.4444444444444444, \"#bd3786\"], [0.5555555555555556, \"#d8576b\"], [0.6666666666666666, \"#ed7953\"], [0.7777777777777778, \"#fb9f3a\"], [0.8888888888888888, \"#fdca26\"], [1.0, \"#f0f921\"]], \"type\": \"heatmapgl\"}], \"histogram\": [{\"marker\": {\"colorbar\": {\"outlinewidth\": 0, \"ticks\": \"\"}}, \"type\": \"histogram\"}], \"histogram2d\": [{\"colorbar\": {\"outlinewidth\": 0, \"ticks\": \"\"}, \"colorscale\": [[0.0, \"#0d0887\"], [0.1111111111111111, \"#46039f\"], [0.2222222222222222, \"#7201a8\"], [0.3333333333333333, \"#9c179e\"], [0.4444444444444444, \"#bd3786\"], [0.5555555555555556, \"#d8576b\"], [0.6666666666666666, \"#ed7953\"], [0.7777777777777778, \"#fb9f3a\"], [0.8888888888888888, \"#fdca26\"], [1.0, \"#f0f921\"]], \"type\": \"histogram2d\"}], \"histogram2dcontour\": [{\"colorbar\": {\"outlinewidth\": 0, \"ticks\": \"\"}, \"colorscale\": [[0.0, \"#0d0887\"], [0.1111111111111111, \"#46039f\"], [0.2222222222222222, \"#7201a8\"], [0.3333333333333333, \"#9c179e\"], [0.4444444444444444, \"#bd3786\"], [0.5555555555555556, \"#d8576b\"], [0.6666666666666666, \"#ed7953\"], [0.7777777777777778, \"#fb9f3a\"], [0.8888888888888888, \"#fdca26\"], [1.0, \"#f0f921\"]], \"type\": \"histogram2dcontour\"}], \"mesh3d\": [{\"colorbar\": {\"outlinewidth\": 0, \"ticks\": \"\"}, \"type\": \"mesh3d\"}], \"parcoords\": [{\"line\": {\"colorbar\": {\"outlinewidth\": 0, \"ticks\": \"\"}}, \"type\": \"parcoords\"}], \"scatter\": [{\"marker\": {\"colorbar\": {\"outlinewidth\": 0, \"ticks\": \"\"}}, \"type\": \"scatter\"}], \"scatter3d\": [{\"line\": {\"colorbar\": {\"outlinewidth\": 0, \"ticks\": \"\"}}, \"marker\": {\"colorbar\": {\"outlinewidth\": 0, \"ticks\": \"\"}}, \"type\": \"scatter3d\"}], \"scattercarpet\": [{\"marker\": {\"colorbar\": {\"outlinewidth\": 0, \"ticks\": \"\"}}, \"type\": \"scattercarpet\"}], \"scattergeo\": [{\"marker\": {\"colorbar\": {\"outlinewidth\": 0, \"ticks\": \"\"}}, \"type\": \"scattergeo\"}], \"scattergl\": [{\"marker\": {\"colorbar\": {\"outlinewidth\": 0, \"ticks\": \"\"}}, \"type\": \"scattergl\"}], \"scattermapbox\": [{\"marker\": {\"colorbar\": {\"outlinewidth\": 0, \"ticks\": \"\"}}, \"type\": \"scattermapbox\"}], \"scatterpolar\": [{\"marker\": {\"colorbar\": {\"outlinewidth\": 0, \"ticks\": \"\"}}, \"type\": \"scatterpolar\"}], \"scatterpolargl\": [{\"marker\": {\"colorbar\": {\"outlinewidth\": 0, \"ticks\": \"\"}}, \"type\": \"scatterpolargl\"}], \"scatterternary\": [{\"marker\": {\"colorbar\": {\"outlinewidth\": 0, \"ticks\": \"\"}}, \"type\": \"scatterternary\"}], \"surface\": [{\"colorbar\": {\"outlinewidth\": 0, \"ticks\": \"\"}, \"colorscale\": [[0.0, \"#0d0887\"], [0.1111111111111111, \"#46039f\"], [0.2222222222222222, \"#7201a8\"], [0.3333333333333333, \"#9c179e\"], [0.4444444444444444, \"#bd3786\"], [0.5555555555555556, \"#d8576b\"], [0.6666666666666666, \"#ed7953\"], [0.7777777777777778, \"#fb9f3a\"], [0.8888888888888888, \"#fdca26\"], [1.0, \"#f0f921\"]], \"type\": \"surface\"}], \"table\": [{\"cells\": {\"fill\": {\"color\": \"#EBF0F8\"}, \"line\": {\"color\": \"white\"}}, \"header\": {\"fill\": {\"color\": \"#C8D4E3\"}, \"line\": {\"color\": \"white\"}}, \"type\": \"table\"}]}, \"layout\": {\"annotationdefaults\": {\"arrowcolor\": \"#2a3f5f\", \"arrowhead\": 0, \"arrowwidth\": 1}, \"colorscale\": {\"diverging\": [[0, \"#8e0152\"], [0.1, \"#c51b7d\"], [0.2, \"#de77ae\"], [0.3, \"#f1b6da\"], [0.4, \"#fde0ef\"], [0.5, \"#f7f7f7\"], [0.6, \"#e6f5d0\"], [0.7, \"#b8e186\"], [0.8, \"#7fbc41\"], [0.9, \"#4d9221\"], [1, \"#276419\"]], \"sequential\": [[0.0, \"#0d0887\"], [0.1111111111111111, \"#46039f\"], [0.2222222222222222, \"#7201a8\"], [0.3333333333333333, \"#9c179e\"], [0.4444444444444444, \"#bd3786\"], [0.5555555555555556, \"#d8576b\"], [0.6666666666666666, \"#ed7953\"], [0.7777777777777778, \"#fb9f3a\"], [0.8888888888888888, \"#fdca26\"], [1.0, \"#f0f921\"]], \"sequentialminus\": [[0.0, \"#0d0887\"], [0.1111111111111111, \"#46039f\"], [0.2222222222222222, \"#7201a8\"], [0.3333333333333333, \"#9c179e\"], [0.4444444444444444, \"#bd3786\"], [0.5555555555555556, \"#d8576b\"], [0.6666666666666666, \"#ed7953\"], [0.7777777777777778, \"#fb9f3a\"], [0.8888888888888888, \"#fdca26\"], [1.0, \"#f0f921\"]]}, \"colorway\": [\"#636efa\", \"#EF553B\", \"#00cc96\", \"#ab63fa\", \"#FFA15A\", \"#19d3f3\", \"#FF6692\", \"#B6E880\", \"#FF97FF\", \"#FECB52\"], \"font\": {\"color\": \"#2a3f5f\"}, \"geo\": {\"bgcolor\": \"white\", \"lakecolor\": \"white\", \"landcolor\": \"#E5ECF6\", \"showlakes\": true, \"showland\": true, \"subunitcolor\": \"white\"}, \"hoverlabel\": {\"align\": \"left\"}, \"hovermode\": \"closest\", \"mapbox\": {\"style\": \"light\"}, \"paper_bgcolor\": \"white\", \"plot_bgcolor\": \"#E5ECF6\", \"polar\": {\"angularaxis\": {\"gridcolor\": \"white\", \"linecolor\": \"white\", \"ticks\": \"\"}, \"bgcolor\": \"#E5ECF6\", \"radialaxis\": {\"gridcolor\": \"white\", \"linecolor\": \"white\", \"ticks\": \"\"}}, \"scene\": {\"xaxis\": {\"backgroundcolor\": \"#E5ECF6\", \"gridcolor\": \"white\", \"gridwidth\": 2, \"linecolor\": \"white\", \"showbackground\": true, \"ticks\": \"\", \"zerolinecolor\": \"white\"}, \"yaxis\": {\"backgroundcolor\": \"#E5ECF6\", \"gridcolor\": \"white\", \"gridwidth\": 2, \"linecolor\": \"white\", \"showbackground\": true, \"ticks\": \"\", \"zerolinecolor\": \"white\"}, \"zaxis\": {\"backgroundcolor\": \"#E5ECF6\", \"gridcolor\": \"white\", \"gridwidth\": 2, \"linecolor\": \"white\", \"showbackground\": true, \"ticks\": \"\", \"zerolinecolor\": \"white\"}}, \"shapedefaults\": {\"line\": {\"color\": \"#2a3f5f\"}}, \"ternary\": {\"aaxis\": {\"gridcolor\": \"white\", \"linecolor\": \"white\", \"ticks\": \"\"}, \"baxis\": {\"gridcolor\": \"white\", \"linecolor\": \"white\", \"ticks\": \"\"}, \"bgcolor\": \"#E5ECF6\", \"caxis\": {\"gridcolor\": \"white\", \"linecolor\": \"white\", \"ticks\": \"\"}}, \"title\": {\"x\": 0.05}, \"xaxis\": {\"automargin\": true, \"gridcolor\": \"white\", \"linecolor\": \"white\", \"ticks\": \"\", \"zerolinecolor\": \"white\", \"zerolinewidth\": 2}, \"yaxis\": {\"automargin\": true, \"gridcolor\": \"white\", \"linecolor\": \"white\", \"ticks\": \"\", \"zerolinecolor\": \"white\", \"zerolinewidth\": 2}}}, \"title\": {\"text\": \"<b>AFRICA- COVID19 NEW CASES: August 13, 2020</b>\", \"x\": 0.5, \"xanchor\": \"center\", \"y\": 0.9, \"yanchor\": \"top\"}, \"xaxis\": {\"nticks\": 8, \"tickangle\": 90, \"title\": {\"font\": {\"color\": \"#BDBDBD\", \"size\": 18}, \"text\": \"<b>Date</b>\"}}, \"yaxis\": {\"title\": {\"font\": {\"color\": \"#4D4B4B\", \"size\": 18}, \"text\": \"<b>New Cases</b>\"}}},\n",
       "                        {\"responsive\": true}\n",
       "                    ).then(function(){\n",
       "                            \n",
       "var gd = document.getElementById('eb43592e-a045-42c3-94ea-ebf398b36391');\n",
       "var x = new MutationObserver(function (mutations, observer) {{\n",
       "        var display = window.getComputedStyle(gd).display;\n",
       "        if (!display || display === 'none') {{\n",
       "            console.log([gd, 'removed!']);\n",
       "            Plotly.purge(gd);\n",
       "            observer.disconnect();\n",
       "        }}\n",
       "}});\n",
       "\n",
       "// Listen for the removal of the full notebook cells\n",
       "var notebookContainer = gd.closest('#notebook-container');\n",
       "if (notebookContainer) {{\n",
       "    x.observe(notebookContainer, {childList: true});\n",
       "}}\n",
       "\n",
       "// Listen for the clearing of the current output cell\n",
       "var outputEl = gd.closest('.output');\n",
       "if (outputEl) {{\n",
       "    x.observe(outputEl, {childList: true});\n",
       "}}\n",
       "\n",
       "                        })\n",
       "                };\n",
       "                });\n",
       "            </script>\n",
       "        </div>"
      ]
     },
     "metadata": {},
     "output_type": "display_data"
    }
   ],
   "source": [
    "fig = go.Figure()\n",
    "\n",
    "total_per_day1 = []\n",
    "for date in dates:    \n",
    "    total = east_africa[date].str.replace('+','').fillna(0).str.replace(',','').fillna(0).astype(int).sum()\n",
    "    total_per_day1.append(total)\n",
    "\n",
    "fig.add_trace(go.Scatter(\n",
    "x=dates,\n",
    "y =total_per_day1,\n",
    "    name =\"East Africa\",\n",
    "    mode='lines'\n",
    "))\n",
    "\n",
    "total_per_day2 = []\n",
    "for date in dates:    \n",
    "    total = west_africa[date].str.replace('+','').fillna(0).str.replace(',','').fillna(0).astype(int).sum()\n",
    "    total_per_day2.append(total)\n",
    "\n",
    "fig.add_trace(go.Scatter(\n",
    "x=dates,\n",
    "y =total_per_day2,\n",
    "    name =\"West Africa\",\n",
    "    mode='lines'\n",
    "))\n",
    "\n",
    "\n",
    "total_per_day3 = []\n",
    "for date in dates:    \n",
    "    total = north_africa[date].str.replace('+','').fillna(0).str.replace(',','').fillna(0).astype(int).sum()\n",
    "    total_per_day3.append(total)\n",
    "\n",
    "fig.add_trace(go.Scatter(\n",
    "x=dates,\n",
    "y =total_per_day3,\n",
    "    name =\"North Africa\",\n",
    "    mode='lines'\n",
    "))\n",
    "\n",
    "total_per_day4 = []\n",
    "for date in dates:    \n",
    "    total = southern_africa[date].str.replace('+','').fillna(0).str.replace(',','').fillna(0).astype(int).sum()\n",
    "    total_per_day4.append(total)\n",
    "\n",
    "fig.add_trace(go.Scatter(\n",
    "x=dates,\n",
    "y =total_per_day4,\n",
    "    name =\"Southern Africa\",\n",
    "    mode='lines'\n",
    "))\n",
    "\n",
    "total_per_day5 = []\n",
    "for date in dates:    \n",
    "    total = central_africa[date].str.replace('+','').fillna(0).str.replace(',','').fillna(0).astype(int).sum()\n",
    "    total_per_day5.append(total)\n",
    "\n",
    "fig.add_trace(go.Scatter(\n",
    "x=dates,\n",
    "y =total_per_day5,\n",
    "    name =\"Central Africa\",\n",
    "    mode='lines'\n",
    "))\n",
    "\n",
    "\n",
    "\n",
    "\n",
    "fig.update_layout(\n",
    "    title={\n",
    "        'text': '<b>'+'AFRICA- COVID19 NEW CASES: ' + date_string +'</b>',\n",
    "        'y':0.9,\n",
    "        'x':0.5,\n",
    "        'xanchor': 'center',\n",
    "        'yanchor': 'top'},\n",
    "    xaxis=dict(title='<b>Date</b>',titlefont_size=18, titlefont=dict(color='#BDBDBD'),nticks=8),\n",
    "    yaxis=dict(title='<b>New Cases</b>',titlefont_size=18,  titlefont=dict(color='#4D4B4B')),\n",
    "    xaxis_tickangle=90,\n",
    "    legend=dict(x=0.05, y=0.98,traceorder=\"normal\",borderwidth=1,bgcolor='rgba(255, 255, 255, 0)',bordercolor='rgba(255, 255, 255, 0)',)\n",
    ")\n",
    "\n",
    "   \n",
    "fig.show()"
   ]
  },
  {
   "cell_type": "code",
   "execution_count": 79,
   "metadata": {},
   "outputs": [
    {
     "data": {
      "text/html": [
       "<div>\n",
       "<style scoped>\n",
       "    .dataframe tbody tr th:only-of-type {\n",
       "        vertical-align: middle;\n",
       "    }\n",
       "\n",
       "    .dataframe tbody tr th {\n",
       "        vertical-align: top;\n",
       "    }\n",
       "\n",
       "    .dataframe thead th {\n",
       "        text-align: right;\n",
       "    }\n",
       "</style>\n",
       "<table border=\"1\" class=\"dataframe\">\n",
       "  <thead>\n",
       "    <tr style=\"text-align: right;\">\n",
       "      <th></th>\n",
       "      <th>Country_Other</th>\n",
       "      <th>April16</th>\n",
       "      <th>April17</th>\n",
       "      <th>April18</th>\n",
       "      <th>April19</th>\n",
       "      <th>April20</th>\n",
       "      <th>April21</th>\n",
       "      <th>April22</th>\n",
       "      <th>April23</th>\n",
       "      <th>April24</th>\n",
       "      <th>...</th>\n",
       "      <th>August04</th>\n",
       "      <th>August05</th>\n",
       "      <th>August06</th>\n",
       "      <th>August07</th>\n",
       "      <th>August08</th>\n",
       "      <th>August09</th>\n",
       "      <th>August10</th>\n",
       "      <th>August11</th>\n",
       "      <th>August12</th>\n",
       "      <th>August13</th>\n",
       "    </tr>\n",
       "  </thead>\n",
       "  <tbody>\n",
       "    <tr>\n",
       "      <td>0</td>\n",
       "      <td>China</td>\n",
       "      <td>+46</td>\n",
       "      <td>+325</td>\n",
       "      <td>+27</td>\n",
       "      <td>+16</td>\n",
       "      <td>+12</td>\n",
       "      <td>+11</td>\n",
       "      <td>+30</td>\n",
       "      <td>+10</td>\n",
       "      <td>+6</td>\n",
       "      <td>...</td>\n",
       "      <td>+36</td>\n",
       "      <td>+27</td>\n",
       "      <td>+37</td>\n",
       "      <td>+37</td>\n",
       "      <td>+31</td>\n",
       "      <td>+23</td>\n",
       "      <td>+49</td>\n",
       "      <td>+44</td>\n",
       "      <td>+25</td>\n",
       "      <td>+19</td>\n",
       "    </tr>\n",
       "    <tr>\n",
       "      <td>1</td>\n",
       "      <td>USA</td>\n",
       "      <td>+29,567</td>\n",
       "      <td>+32,165</td>\n",
       "      <td>+29,057</td>\n",
       "      <td>+25,844</td>\n",
       "      <td>+28,123</td>\n",
       "      <td>+25,985</td>\n",
       "      <td>+29,973</td>\n",
       "      <td>+31,900</td>\n",
       "      <td>+38,958</td>\n",
       "      <td>...</td>\n",
       "      <td>+54,504</td>\n",
       "      <td>+55,148</td>\n",
       "      <td>+58,611</td>\n",
       "      <td>+63,246</td>\n",
       "      <td>+54,199</td>\n",
       "      <td>+47,849</td>\n",
       "      <td>+49,800</td>\n",
       "      <td>+54,519</td>\n",
       "      <td>+54,345</td>\n",
       "      <td>+55,364</td>\n",
       "    </tr>\n",
       "    <tr>\n",
       "      <td>2</td>\n",
       "      <td>Spain</td>\n",
       "      <td>+4,289</td>\n",
       "      <td>+5,891</td>\n",
       "      <td>+3,577</td>\n",
       "      <td>+4,258</td>\n",
       "      <td>+1,536</td>\n",
       "      <td>+3,968</td>\n",
       "      <td>+4,211</td>\n",
       "      <td>+4,635</td>\n",
       "      <td>+6,740</td>\n",
       "      <td>...</td>\n",
       "      <td>+5,760</td>\n",
       "      <td>+2,953</td>\n",
       "      <td>+1,683</td>\n",
       "      <td>+4,507</td>\n",
       "      <td>NaN</td>\n",
       "      <td>NaN</td>\n",
       "      <td>+2,873</td>\n",
       "      <td>+3,632</td>\n",
       "      <td>+3,172</td>\n",
       "      <td>+2,935</td>\n",
       "    </tr>\n",
       "  </tbody>\n",
       "</table>\n",
       "<p>3 rows × 121 columns</p>\n",
       "</div>"
      ],
      "text/plain": [
       "  Country_Other  April16  April17  April18  April19  April20  April21  \\\n",
       "0         China      +46     +325      +27      +16      +12      +11   \n",
       "1           USA  +29,567  +32,165  +29,057  +25,844  +28,123  +25,985   \n",
       "2         Spain   +4,289   +5,891   +3,577   +4,258   +1,536   +3,968   \n",
       "\n",
       "   April22  April23  April24  ... August04 August05 August06 August07  \\\n",
       "0      +30      +10       +6  ...      +36      +27      +37      +37   \n",
       "1  +29,973  +31,900  +38,958  ...  +54,504  +55,148  +58,611  +63,246   \n",
       "2   +4,211   +4,635   +6,740  ...   +5,760   +2,953   +1,683   +4,507   \n",
       "\n",
       "  August08 August09 August10 August11 August12 August13  \n",
       "0      +31      +23      +49      +44      +25      +19  \n",
       "1  +54,199  +47,849  +49,800  +54,519  +54,345  +55,364  \n",
       "2      NaN      NaN   +2,873   +3,632   +3,172   +2,935  \n",
       "\n",
       "[3 rows x 121 columns]"
      ]
     },
     "execution_count": 79,
     "metadata": {},
     "output_type": "execute_result"
    }
   ],
   "source": [
    "given_date =ea_latest[18:26]\n",
    "countries_new_cases = pd.read_csv(\"../COVID19/World/NewCases/DailyCases\"+given_date+\".csv\")\n",
    "countries_new_cases.head(3)"
   ]
  },
  {
   "cell_type": "code",
   "execution_count": 80,
   "metadata": {},
   "outputs": [],
   "source": [
    "countries_and_continents = pd.read_csv('../COVID19/GeneralFiles/CountriesAndContinents.csv')\n",
    "african_countries = countries_and_continents[countries_and_continents['continent'] == 'Africa']"
   ]
  },
  {
   "cell_type": "code",
   "execution_count": 81,
   "metadata": {},
   "outputs": [
    {
     "data": {
      "text/plain": [
       "['North Africa',\n",
       " 'South Africa',\n",
       " 'Central Africa',\n",
       " 'East Africa',\n",
       " 'West Africa']"
      ]
     },
     "execution_count": 81,
     "metadata": {},
     "output_type": "execute_result"
    }
   ],
   "source": [
    "african_regions = list(african_countries['region'].unique())\n",
    "african_regions"
   ]
  },
  {
   "cell_type": "code",
   "execution_count": 82,
   "metadata": {},
   "outputs": [
    {
     "data": {
      "text/html": [
       "<div>\n",
       "<style scoped>\n",
       "    .dataframe tbody tr th:only-of-type {\n",
       "        vertical-align: middle;\n",
       "    }\n",
       "\n",
       "    .dataframe tbody tr th {\n",
       "        vertical-align: top;\n",
       "    }\n",
       "\n",
       "    .dataframe thead th {\n",
       "        text-align: right;\n",
       "    }\n",
       "</style>\n",
       "<table border=\"1\" class=\"dataframe\">\n",
       "  <thead>\n",
       "    <tr style=\"text-align: right;\">\n",
       "      <th></th>\n",
       "      <th>country_Other</th>\n",
       "      <th>continent</th>\n",
       "      <th>region</th>\n",
       "    </tr>\n",
       "  </thead>\n",
       "  <tbody>\n",
       "    <tr>\n",
       "      <td>50</td>\n",
       "      <td>South Africa</td>\n",
       "      <td>Africa</td>\n",
       "      <td>South Africa</td>\n",
       "    </tr>\n",
       "    <tr>\n",
       "      <td>170</td>\n",
       "      <td>Zimbabwe</td>\n",
       "      <td>Africa</td>\n",
       "      <td>South Africa</td>\n",
       "    </tr>\n",
       "    <tr>\n",
       "      <td>179</td>\n",
       "      <td>Eswatini</td>\n",
       "      <td>Africa</td>\n",
       "      <td>South Africa</td>\n",
       "    </tr>\n",
       "    <tr>\n",
       "      <td>181</td>\n",
       "      <td>Namibia</td>\n",
       "      <td>Africa</td>\n",
       "      <td>South Africa</td>\n",
       "    </tr>\n",
       "    <tr>\n",
       "      <td>182</td>\n",
       "      <td>Botswana</td>\n",
       "      <td>Africa</td>\n",
       "      <td>South Africa</td>\n",
       "    </tr>\n",
       "    <tr>\n",
       "      <td>214</td>\n",
       "      <td>Lesotho</td>\n",
       "      <td>Africa</td>\n",
       "      <td>South Africa</td>\n",
       "    </tr>\n",
       "  </tbody>\n",
       "</table>\n",
       "</div>"
      ],
      "text/plain": [
       "    country_Other continent        region\n",
       "50   South Africa    Africa  South Africa\n",
       "170      Zimbabwe    Africa  South Africa\n",
       "179      Eswatini    Africa  South Africa\n",
       "181       Namibia    Africa  South Africa\n",
       "182      Botswana    Africa  South Africa\n",
       "214       Lesotho    Africa  South Africa"
      ]
     },
     "execution_count": 82,
     "metadata": {},
     "output_type": "execute_result"
    }
   ],
   "source": [
    "west_africa = countries_and_continents[(countries_and_continents['continent'] == 'Africa') & (countries_and_continents['region'] == 'West Africa')]\n",
    "east_africa = countries_and_continents[(countries_and_continents['continent'] == 'Africa') & (countries_and_continents['region'] == 'East Africa')]\n",
    "central_africa = countries_and_continents[(countries_and_continents['continent'] == 'Africa') & (countries_and_continents['region'] == 'Central Africa')]\n",
    "southern_africa = countries_and_continents[(countries_and_continents['continent'] == 'Africa') & (countries_and_continents['region'] == 'South Africa')]\n",
    "north_africa = countries_and_continents[(countries_and_continents['continent'] == 'Africa') & (countries_and_continents['region'] == 'North Africa')]\n",
    "southern_africa"
   ]
  },
  {
   "cell_type": "code",
   "execution_count": 83,
   "metadata": {},
   "outputs": [
    {
     "data": {
      "text/html": [
       "<div>\n",
       "<style scoped>\n",
       "    .dataframe tbody tr th:only-of-type {\n",
       "        vertical-align: middle;\n",
       "    }\n",
       "\n",
       "    .dataframe tbody tr th {\n",
       "        vertical-align: top;\n",
       "    }\n",
       "\n",
       "    .dataframe thead th {\n",
       "        text-align: right;\n",
       "    }\n",
       "</style>\n",
       "<table border=\"1\" class=\"dataframe\">\n",
       "  <thead>\n",
       "    <tr style=\"text-align: right;\">\n",
       "      <th></th>\n",
       "      <th>Country_Other</th>\n",
       "      <th>August08</th>\n",
       "      <th>August09</th>\n",
       "      <th>August10</th>\n",
       "      <th>August11</th>\n",
       "      <th>August12</th>\n",
       "      <th>August13</th>\n",
       "    </tr>\n",
       "  </thead>\n",
       "  <tbody>\n",
       "    <tr>\n",
       "      <td>52</td>\n",
       "      <td>South Africa</td>\n",
       "      <td>+7,712</td>\n",
       "      <td>+6,671</td>\n",
       "      <td>+3,739</td>\n",
       "      <td>+2,511</td>\n",
       "      <td>+2,810</td>\n",
       "      <td>+3,946</td>\n",
       "    </tr>\n",
       "    <tr>\n",
       "      <td>169</td>\n",
       "      <td>Zimbabwe</td>\n",
       "      <td>+124</td>\n",
       "      <td>+74</td>\n",
       "      <td>+99</td>\n",
       "      <td>+70</td>\n",
       "      <td>+75</td>\n",
       "      <td>+97</td>\n",
       "    </tr>\n",
       "    <tr>\n",
       "      <td>177</td>\n",
       "      <td>Eswatini</td>\n",
       "      <td>+92</td>\n",
       "      <td>+108</td>\n",
       "      <td>+73</td>\n",
       "      <td>+101</td>\n",
       "      <td>+115</td>\n",
       "      <td>+74</td>\n",
       "    </tr>\n",
       "    <tr>\n",
       "      <td>180</td>\n",
       "      <td>Namibia</td>\n",
       "      <td>0</td>\n",
       "      <td>+147</td>\n",
       "      <td>+152</td>\n",
       "      <td>+128</td>\n",
       "      <td>+177</td>\n",
       "      <td>+138</td>\n",
       "    </tr>\n",
       "    <tr>\n",
       "      <td>181</td>\n",
       "      <td>Botswana</td>\n",
       "      <td>0</td>\n",
       "      <td>0</td>\n",
       "      <td>+172</td>\n",
       "      <td>0</td>\n",
       "      <td>0</td>\n",
       "      <td>+148</td>\n",
       "    </tr>\n",
       "    <tr>\n",
       "      <td>214</td>\n",
       "      <td>Lesotho</td>\n",
       "      <td>0</td>\n",
       "      <td>0</td>\n",
       "      <td>+39</td>\n",
       "      <td>0</td>\n",
       "      <td>+17</td>\n",
       "      <td>+86</td>\n",
       "    </tr>\n",
       "  </tbody>\n",
       "</table>\n",
       "</div>"
      ],
      "text/plain": [
       "    Country_Other August08 August09 August10 August11 August12 August13\n",
       "52   South Africa   +7,712   +6,671   +3,739   +2,511   +2,810   +3,946\n",
       "169      Zimbabwe     +124      +74      +99      +70      +75      +97\n",
       "177      Eswatini      +92     +108      +73     +101     +115      +74\n",
       "180       Namibia        0     +147     +152     +128     +177     +138\n",
       "181      Botswana        0        0     +172        0        0     +148\n",
       "214       Lesotho        0        0      +39        0      +17      +86"
      ]
     },
     "execution_count": 83,
     "metadata": {},
     "output_type": "execute_result"
    }
   ],
   "source": [
    "north_africa_new_cases = countries_new_cases[countries_new_cases['Country_Other'].isin(north_africa['country_Other'])]\n",
    "north_africa_new_cases = north_africa_new_cases.iloc[:, [0] + list(range(-6, 0))]\n",
    "north_africa_new_cases.fillna(0, inplace=True)\n",
    "north_africa_new_cases.reset_index(drop=True)\n",
    "\n",
    "east_africa_new_cases = countries_new_cases[countries_new_cases['Country_Other'].isin(east_africa['country_Other'])]\n",
    "east_africa_new_cases = east_africa_new_cases.iloc[:, [0] + list(range(-6, 0))]\n",
    "east_africa_new_cases.fillna(0, inplace=True)\n",
    "east_africa_new_cases.reset_index(drop=True)\n",
    "\n",
    "central_africa_new_cases = countries_new_cases[countries_new_cases['Country_Other'].isin(central_africa['country_Other'])]\n",
    "central_africa_new_cases = central_africa_new_cases.iloc[:, [0] + list(range(-6, 0))]\n",
    "central_africa_new_cases.fillna(0, inplace=True)\n",
    "central_africa_new_cases.reset_index(drop=True)\n",
    "\n",
    "southern_africa_new_cases = countries_new_cases[countries_new_cases['Country_Other'].isin(southern_africa['country_Other'])]\n",
    "southern_africa_new_cases = southern_africa_new_cases.iloc[:, [0] + list(range(-6, 0))]\n",
    "southern_africa_new_cases.fillna(0, inplace=True)\n",
    "southern_africa_new_cases.reset_index(drop=True)\n",
    "\n",
    "west_africa_new_cases = countries_new_cases[countries_new_cases['Country_Other'].isin(west_africa['country_Other'])]\n",
    "west_africa_new_cases = west_africa_new_cases.iloc[:, [0] + list(range(-6, 0))]\n",
    "west_africa_new_cases.fillna(0, inplace=True)\n",
    "west_africa_new_cases.reset_index(drop=True)\n",
    "\n",
    "southern_africa_new_cases"
   ]
  },
  {
   "cell_type": "code",
   "execution_count": 84,
   "metadata": {},
   "outputs": [],
   "source": [
    "countries_new_cases =  countries_new_cases.iloc[:, [0] + list(range(-6, 0))]"
   ]
  },
  {
   "cell_type": "code",
   "execution_count": 85,
   "metadata": {},
   "outputs": [
    {
     "data": {
      "application/vnd.plotly.v1+json": {
       "config": {
        "plotlyServerURL": "https://plot.ly"
       },
       "data": [
        {
         "domain": {
          "x": [
           0,
           0.4925
          ],
          "y": [
           0.67,
           1
          ]
         },
         "hole": 0.3,
         "hoverinfo": "label+percent+name+value",
         "labels": [
          "North Africa",
          "Southern Africa",
          "Central Africa",
          "East Africa",
          "West Africa"
         ],
         "marker": {
          "colors": [
           "crimson",
           "green",
           "saddlebrown",
           "yellow",
           "blue"
          ]
         },
         "name": "August13",
         "textfont": {
          "size": 18
         },
         "textinfo": "percent+value",
         "type": "pie",
         "values": [
          2380,
          4489,
          150,
          2426,
          1031
         ]
        },
        {
         "domain": {
          "x": [
           0.5075,
           1
          ],
          "y": [
           0.67,
           1
          ]
         },
         "hole": 0.3,
         "hoverinfo": "label+percent+name+value",
         "labels": [
          "North Africa",
          "Southern Africa",
          "Central Africa",
          "East Africa",
          "West Africa"
         ],
         "marker": {
          "colors": [
           "crimson",
           "green",
           "saddlebrown",
           "yellow",
           "blue"
          ]
         },
         "name": "August12",
         "textfont": {
          "size": 18
         },
         "textinfo": "percent+value",
         "type": "pie",
         "values": [
          2474,
          3194,
          198,
          2129,
          1213
         ]
        },
        {
         "domain": {
          "x": [
           0,
           0.4925
          ],
          "y": [
           0.335,
           0.665
          ]
         },
         "hole": 0.3,
         "hoverinfo": "label+percent+name+value",
         "labels": [
          "North Africa",
          "Southern Africa",
          "Central Africa",
          "East Africa",
          "West Africa"
         ],
         "marker": {
          "colors": [
           "crimson",
           "green",
           "saddlebrown",
           "yellow",
           "blue"
          ]
         },
         "name": "August11",
         "textfont": {
          "size": 18
         },
         "textinfo": "percent+value",
         "type": "pie",
         "values": [
          2186,
          2810,
          326,
          1522,
          1151
         ]
        },
        {
         "domain": {
          "x": [
           0.5075,
           1
          ],
          "y": [
           0.335,
           0.665
          ]
         },
         "hole": 0.3,
         "hoverinfo": "label+percent+name+value",
         "labels": [
          "North Africa",
          "Southern Africa",
          "Central Africa",
          "East Africa",
          "West Africa"
         ],
         "marker": {
          "colors": [
           "crimson",
           "green",
           "saddlebrown",
           "yellow",
           "blue"
          ]
         },
         "name": "August10",
         "textfont": {
          "size": 18
         },
         "textinfo": "percent+value",
         "type": "pie",
         "values": [
          1996,
          4274,
          126,
          1696,
          822
         ]
        },
        {
         "domain": {
          "x": [
           0,
           0.4925
          ],
          "y": [
           0,
           0.33
          ]
         },
         "hole": 0.3,
         "hoverinfo": "label+percent+name+value",
         "labels": [
          "North Africa",
          "Southern Africa",
          "Central Africa",
          "East Africa",
          "West Africa"
         ],
         "marker": {
          "colors": [
           "crimson",
           "green",
           "saddlebrown",
           "yellow",
           "blue"
          ]
         },
         "name": "August09",
         "textfont": {
          "size": 18
         },
         "textinfo": "percent+value",
         "type": "pie",
         "values": [
          2167,
          7000,
          120,
          1678,
          1451
         ]
        },
        {
         "domain": {
          "x": [
           0.5075,
           1
          ],
          "y": [
           0,
           0.33
          ]
         },
         "hole": 0.3,
         "hoverinfo": "label+percent+name+value",
         "labels": [
          "North Africa",
          "Southern Africa",
          "Central Africa",
          "East Africa",
          "West Africa"
         ],
         "marker": {
          "colors": [
           "crimson",
           "green",
           "saddlebrown",
           "yellow",
           "blue"
          ]
         },
         "name": "August08",
         "textfont": {
          "size": 18
         },
         "textinfo": "percent+value",
         "type": "pie",
         "values": [
          2225,
          7928,
          466,
          2249,
          1341
         ]
        }
       ],
       "layout": {
        "annotations": [
         {
          "font": {
           "color": "black",
           "size": 20
          },
          "showarrow": false,
          "text": "August13",
          "x": 0.18,
          "y": 0.85
         },
         {
          "font": {
           "color": "black",
           "size": 20
          },
          "showarrow": false,
          "text": "August12",
          "x": 0.82,
          "y": 0.85
         },
         {
          "font": {
           "color": "black",
           "size": 20
          },
          "showarrow": false,
          "text": "August11",
          "x": 0.18,
          "y": 0.5
         },
         {
          "font": {
           "color": "black",
           "size": 20
          },
          "showarrow": false,
          "text": "August10",
          "x": 0.82,
          "y": 0.5
         },
         {
          "font": {
           "color": "black",
           "size": 20
          },
          "showarrow": false,
          "text": "August09",
          "x": 0.18,
          "y": 0.15
         },
         {
          "font": {
           "color": "black",
           "size": 20
          },
          "showarrow": false,
          "text": "August08",
          "x": 0.82,
          "y": 0.15
         }
        ],
        "autosize": false,
        "height": 1450,
        "legend": {
         "font": {
          "size": 13
         },
         "traceorder": "normal",
         "x": 1,
         "y": 1
        },
        "template": {
         "data": {
          "bar": [
           {
            "error_x": {
             "color": "#2a3f5f"
            },
            "error_y": {
             "color": "#2a3f5f"
            },
            "marker": {
             "line": {
              "color": "#E5ECF6",
              "width": 0.5
             }
            },
            "type": "bar"
           }
          ],
          "barpolar": [
           {
            "marker": {
             "line": {
              "color": "#E5ECF6",
              "width": 0.5
             }
            },
            "type": "barpolar"
           }
          ],
          "carpet": [
           {
            "aaxis": {
             "endlinecolor": "#2a3f5f",
             "gridcolor": "white",
             "linecolor": "white",
             "minorgridcolor": "white",
             "startlinecolor": "#2a3f5f"
            },
            "baxis": {
             "endlinecolor": "#2a3f5f",
             "gridcolor": "white",
             "linecolor": "white",
             "minorgridcolor": "white",
             "startlinecolor": "#2a3f5f"
            },
            "type": "carpet"
           }
          ],
          "choropleth": [
           {
            "colorbar": {
             "outlinewidth": 0,
             "ticks": ""
            },
            "type": "choropleth"
           }
          ],
          "contour": [
           {
            "colorbar": {
             "outlinewidth": 0,
             "ticks": ""
            },
            "colorscale": [
             [
              0,
              "#0d0887"
             ],
             [
              0.1111111111111111,
              "#46039f"
             ],
             [
              0.2222222222222222,
              "#7201a8"
             ],
             [
              0.3333333333333333,
              "#9c179e"
             ],
             [
              0.4444444444444444,
              "#bd3786"
             ],
             [
              0.5555555555555556,
              "#d8576b"
             ],
             [
              0.6666666666666666,
              "#ed7953"
             ],
             [
              0.7777777777777778,
              "#fb9f3a"
             ],
             [
              0.8888888888888888,
              "#fdca26"
             ],
             [
              1,
              "#f0f921"
             ]
            ],
            "type": "contour"
           }
          ],
          "contourcarpet": [
           {
            "colorbar": {
             "outlinewidth": 0,
             "ticks": ""
            },
            "type": "contourcarpet"
           }
          ],
          "heatmap": [
           {
            "colorbar": {
             "outlinewidth": 0,
             "ticks": ""
            },
            "colorscale": [
             [
              0,
              "#0d0887"
             ],
             [
              0.1111111111111111,
              "#46039f"
             ],
             [
              0.2222222222222222,
              "#7201a8"
             ],
             [
              0.3333333333333333,
              "#9c179e"
             ],
             [
              0.4444444444444444,
              "#bd3786"
             ],
             [
              0.5555555555555556,
              "#d8576b"
             ],
             [
              0.6666666666666666,
              "#ed7953"
             ],
             [
              0.7777777777777778,
              "#fb9f3a"
             ],
             [
              0.8888888888888888,
              "#fdca26"
             ],
             [
              1,
              "#f0f921"
             ]
            ],
            "type": "heatmap"
           }
          ],
          "heatmapgl": [
           {
            "colorbar": {
             "outlinewidth": 0,
             "ticks": ""
            },
            "colorscale": [
             [
              0,
              "#0d0887"
             ],
             [
              0.1111111111111111,
              "#46039f"
             ],
             [
              0.2222222222222222,
              "#7201a8"
             ],
             [
              0.3333333333333333,
              "#9c179e"
             ],
             [
              0.4444444444444444,
              "#bd3786"
             ],
             [
              0.5555555555555556,
              "#d8576b"
             ],
             [
              0.6666666666666666,
              "#ed7953"
             ],
             [
              0.7777777777777778,
              "#fb9f3a"
             ],
             [
              0.8888888888888888,
              "#fdca26"
             ],
             [
              1,
              "#f0f921"
             ]
            ],
            "type": "heatmapgl"
           }
          ],
          "histogram": [
           {
            "marker": {
             "colorbar": {
              "outlinewidth": 0,
              "ticks": ""
             }
            },
            "type": "histogram"
           }
          ],
          "histogram2d": [
           {
            "colorbar": {
             "outlinewidth": 0,
             "ticks": ""
            },
            "colorscale": [
             [
              0,
              "#0d0887"
             ],
             [
              0.1111111111111111,
              "#46039f"
             ],
             [
              0.2222222222222222,
              "#7201a8"
             ],
             [
              0.3333333333333333,
              "#9c179e"
             ],
             [
              0.4444444444444444,
              "#bd3786"
             ],
             [
              0.5555555555555556,
              "#d8576b"
             ],
             [
              0.6666666666666666,
              "#ed7953"
             ],
             [
              0.7777777777777778,
              "#fb9f3a"
             ],
             [
              0.8888888888888888,
              "#fdca26"
             ],
             [
              1,
              "#f0f921"
             ]
            ],
            "type": "histogram2d"
           }
          ],
          "histogram2dcontour": [
           {
            "colorbar": {
             "outlinewidth": 0,
             "ticks": ""
            },
            "colorscale": [
             [
              0,
              "#0d0887"
             ],
             [
              0.1111111111111111,
              "#46039f"
             ],
             [
              0.2222222222222222,
              "#7201a8"
             ],
             [
              0.3333333333333333,
              "#9c179e"
             ],
             [
              0.4444444444444444,
              "#bd3786"
             ],
             [
              0.5555555555555556,
              "#d8576b"
             ],
             [
              0.6666666666666666,
              "#ed7953"
             ],
             [
              0.7777777777777778,
              "#fb9f3a"
             ],
             [
              0.8888888888888888,
              "#fdca26"
             ],
             [
              1,
              "#f0f921"
             ]
            ],
            "type": "histogram2dcontour"
           }
          ],
          "mesh3d": [
           {
            "colorbar": {
             "outlinewidth": 0,
             "ticks": ""
            },
            "type": "mesh3d"
           }
          ],
          "parcoords": [
           {
            "line": {
             "colorbar": {
              "outlinewidth": 0,
              "ticks": ""
             }
            },
            "type": "parcoords"
           }
          ],
          "scatter": [
           {
            "marker": {
             "colorbar": {
              "outlinewidth": 0,
              "ticks": ""
             }
            },
            "type": "scatter"
           }
          ],
          "scatter3d": [
           {
            "line": {
             "colorbar": {
              "outlinewidth": 0,
              "ticks": ""
             }
            },
            "marker": {
             "colorbar": {
              "outlinewidth": 0,
              "ticks": ""
             }
            },
            "type": "scatter3d"
           }
          ],
          "scattercarpet": [
           {
            "marker": {
             "colorbar": {
              "outlinewidth": 0,
              "ticks": ""
             }
            },
            "type": "scattercarpet"
           }
          ],
          "scattergeo": [
           {
            "marker": {
             "colorbar": {
              "outlinewidth": 0,
              "ticks": ""
             }
            },
            "type": "scattergeo"
           }
          ],
          "scattergl": [
           {
            "marker": {
             "colorbar": {
              "outlinewidth": 0,
              "ticks": ""
             }
            },
            "type": "scattergl"
           }
          ],
          "scattermapbox": [
           {
            "marker": {
             "colorbar": {
              "outlinewidth": 0,
              "ticks": ""
             }
            },
            "type": "scattermapbox"
           }
          ],
          "scatterpolar": [
           {
            "marker": {
             "colorbar": {
              "outlinewidth": 0,
              "ticks": ""
             }
            },
            "type": "scatterpolar"
           }
          ],
          "scatterpolargl": [
           {
            "marker": {
             "colorbar": {
              "outlinewidth": 0,
              "ticks": ""
             }
            },
            "type": "scatterpolargl"
           }
          ],
          "scatterternary": [
           {
            "marker": {
             "colorbar": {
              "outlinewidth": 0,
              "ticks": ""
             }
            },
            "type": "scatterternary"
           }
          ],
          "surface": [
           {
            "colorbar": {
             "outlinewidth": 0,
             "ticks": ""
            },
            "colorscale": [
             [
              0,
              "#0d0887"
             ],
             [
              0.1111111111111111,
              "#46039f"
             ],
             [
              0.2222222222222222,
              "#7201a8"
             ],
             [
              0.3333333333333333,
              "#9c179e"
             ],
             [
              0.4444444444444444,
              "#bd3786"
             ],
             [
              0.5555555555555556,
              "#d8576b"
             ],
             [
              0.6666666666666666,
              "#ed7953"
             ],
             [
              0.7777777777777778,
              "#fb9f3a"
             ],
             [
              0.8888888888888888,
              "#fdca26"
             ],
             [
              1,
              "#f0f921"
             ]
            ],
            "type": "surface"
           }
          ],
          "table": [
           {
            "cells": {
             "fill": {
              "color": "#EBF0F8"
             },
             "line": {
              "color": "white"
             }
            },
            "header": {
             "fill": {
              "color": "#C8D4E3"
             },
             "line": {
              "color": "white"
             }
            },
            "type": "table"
           }
          ]
         },
         "layout": {
          "annotationdefaults": {
           "arrowcolor": "#2a3f5f",
           "arrowhead": 0,
           "arrowwidth": 1
          },
          "colorscale": {
           "diverging": [
            [
             0,
             "#8e0152"
            ],
            [
             0.1,
             "#c51b7d"
            ],
            [
             0.2,
             "#de77ae"
            ],
            [
             0.3,
             "#f1b6da"
            ],
            [
             0.4,
             "#fde0ef"
            ],
            [
             0.5,
             "#f7f7f7"
            ],
            [
             0.6,
             "#e6f5d0"
            ],
            [
             0.7,
             "#b8e186"
            ],
            [
             0.8,
             "#7fbc41"
            ],
            [
             0.9,
             "#4d9221"
            ],
            [
             1,
             "#276419"
            ]
           ],
           "sequential": [
            [
             0,
             "#0d0887"
            ],
            [
             0.1111111111111111,
             "#46039f"
            ],
            [
             0.2222222222222222,
             "#7201a8"
            ],
            [
             0.3333333333333333,
             "#9c179e"
            ],
            [
             0.4444444444444444,
             "#bd3786"
            ],
            [
             0.5555555555555556,
             "#d8576b"
            ],
            [
             0.6666666666666666,
             "#ed7953"
            ],
            [
             0.7777777777777778,
             "#fb9f3a"
            ],
            [
             0.8888888888888888,
             "#fdca26"
            ],
            [
             1,
             "#f0f921"
            ]
           ],
           "sequentialminus": [
            [
             0,
             "#0d0887"
            ],
            [
             0.1111111111111111,
             "#46039f"
            ],
            [
             0.2222222222222222,
             "#7201a8"
            ],
            [
             0.3333333333333333,
             "#9c179e"
            ],
            [
             0.4444444444444444,
             "#bd3786"
            ],
            [
             0.5555555555555556,
             "#d8576b"
            ],
            [
             0.6666666666666666,
             "#ed7953"
            ],
            [
             0.7777777777777778,
             "#fb9f3a"
            ],
            [
             0.8888888888888888,
             "#fdca26"
            ],
            [
             1,
             "#f0f921"
            ]
           ]
          },
          "colorway": [
           "#636efa",
           "#EF553B",
           "#00cc96",
           "#ab63fa",
           "#FFA15A",
           "#19d3f3",
           "#FF6692",
           "#B6E880",
           "#FF97FF",
           "#FECB52"
          ],
          "font": {
           "color": "#2a3f5f"
          },
          "geo": {
           "bgcolor": "white",
           "lakecolor": "white",
           "landcolor": "#E5ECF6",
           "showlakes": true,
           "showland": true,
           "subunitcolor": "white"
          },
          "hoverlabel": {
           "align": "left"
          },
          "hovermode": "closest",
          "mapbox": {
           "style": "light"
          },
          "paper_bgcolor": "white",
          "plot_bgcolor": "#E5ECF6",
          "polar": {
           "angularaxis": {
            "gridcolor": "white",
            "linecolor": "white",
            "ticks": ""
           },
           "bgcolor": "#E5ECF6",
           "radialaxis": {
            "gridcolor": "white",
            "linecolor": "white",
            "ticks": ""
           }
          },
          "scene": {
           "xaxis": {
            "backgroundcolor": "#E5ECF6",
            "gridcolor": "white",
            "gridwidth": 2,
            "linecolor": "white",
            "showbackground": true,
            "ticks": "",
            "zerolinecolor": "white"
           },
           "yaxis": {
            "backgroundcolor": "#E5ECF6",
            "gridcolor": "white",
            "gridwidth": 2,
            "linecolor": "white",
            "showbackground": true,
            "ticks": "",
            "zerolinecolor": "white"
           },
           "zaxis": {
            "backgroundcolor": "#E5ECF6",
            "gridcolor": "white",
            "gridwidth": 2,
            "linecolor": "white",
            "showbackground": true,
            "ticks": "",
            "zerolinecolor": "white"
           }
          },
          "shapedefaults": {
           "line": {
            "color": "#2a3f5f"
           }
          },
          "ternary": {
           "aaxis": {
            "gridcolor": "white",
            "linecolor": "white",
            "ticks": ""
           },
           "baxis": {
            "gridcolor": "white",
            "linecolor": "white",
            "ticks": ""
           },
           "bgcolor": "#E5ECF6",
           "caxis": {
            "gridcolor": "white",
            "linecolor": "white",
            "ticks": ""
           }
          },
          "title": {
           "x": 0.05
          },
          "xaxis": {
           "automargin": true,
           "gridcolor": "white",
           "linecolor": "white",
           "ticks": "",
           "zerolinecolor": "white",
           "zerolinewidth": 2
          },
          "yaxis": {
           "automargin": true,
           "gridcolor": "white",
           "linecolor": "white",
           "ticks": "",
           "zerolinecolor": "white",
           "zerolinewidth": 2
          }
         }
        },
        "title": {
         "font": {
          "color": "black",
          "size": 18
         },
         "text": "<b>AFRICA - COVID19 NEW CASES BY REGION: August 13, 2020</b>",
         "x": 0.46,
         "xanchor": "center",
         "y": 0.95,
         "yanchor": "top"
        },
        "width": 990
       }
      },
      "text/html": [
       "<div>\n",
       "        \n",
       "        \n",
       "            <div id=\"d5e11b9a-c62c-4769-af58-1cb5ee7293e7\" class=\"plotly-graph-div\" style=\"height:1450px; width:990px;\"></div>\n",
       "            <script type=\"text/javascript\">\n",
       "                require([\"plotly\"], function(Plotly) {\n",
       "                    window.PLOTLYENV=window.PLOTLYENV || {};\n",
       "                    \n",
       "                if (document.getElementById(\"d5e11b9a-c62c-4769-af58-1cb5ee7293e7\")) {\n",
       "                    Plotly.newPlot(\n",
       "                        'd5e11b9a-c62c-4769-af58-1cb5ee7293e7',\n",
       "                        [{\"domain\": {\"x\": [0.0, 0.4925], \"y\": [0.67, 1.0]}, \"hole\": 0.3, \"hoverinfo\": \"label+percent+name+value\", \"labels\": [\"North Africa\", \"Southern Africa\", \"Central Africa\", \"East Africa\", \"West Africa\"], \"marker\": {\"colors\": [\"crimson\", \"green\", \"saddlebrown\", \"yellow\", \"blue\"]}, \"name\": \"August13\", \"textfont\": {\"size\": 18}, \"textinfo\": \"percent+value\", \"type\": \"pie\", \"values\": [2380, 4489, 150, 2426, 1031]}, {\"domain\": {\"x\": [0.5075, 1.0], \"y\": [0.67, 1.0]}, \"hole\": 0.3, \"hoverinfo\": \"label+percent+name+value\", \"labels\": [\"North Africa\", \"Southern Africa\", \"Central Africa\", \"East Africa\", \"West Africa\"], \"marker\": {\"colors\": [\"crimson\", \"green\", \"saddlebrown\", \"yellow\", \"blue\"]}, \"name\": \"August12\", \"textfont\": {\"size\": 18}, \"textinfo\": \"percent+value\", \"type\": \"pie\", \"values\": [2474, 3194, 198, 2129, 1213]}, {\"domain\": {\"x\": [0.0, 0.4925], \"y\": [0.335, 0.665]}, \"hole\": 0.3, \"hoverinfo\": \"label+percent+name+value\", \"labels\": [\"North Africa\", \"Southern Africa\", \"Central Africa\", \"East Africa\", \"West Africa\"], \"marker\": {\"colors\": [\"crimson\", \"green\", \"saddlebrown\", \"yellow\", \"blue\"]}, \"name\": \"August11\", \"textfont\": {\"size\": 18}, \"textinfo\": \"percent+value\", \"type\": \"pie\", \"values\": [2186, 2810, 326, 1522, 1151]}, {\"domain\": {\"x\": [0.5075, 1.0], \"y\": [0.335, 0.665]}, \"hole\": 0.3, \"hoverinfo\": \"label+percent+name+value\", \"labels\": [\"North Africa\", \"Southern Africa\", \"Central Africa\", \"East Africa\", \"West Africa\"], \"marker\": {\"colors\": [\"crimson\", \"green\", \"saddlebrown\", \"yellow\", \"blue\"]}, \"name\": \"August10\", \"textfont\": {\"size\": 18}, \"textinfo\": \"percent+value\", \"type\": \"pie\", \"values\": [1996, 4274, 126, 1696, 822]}, {\"domain\": {\"x\": [0.0, 0.4925], \"y\": [0.0, 0.33]}, \"hole\": 0.3, \"hoverinfo\": \"label+percent+name+value\", \"labels\": [\"North Africa\", \"Southern Africa\", \"Central Africa\", \"East Africa\", \"West Africa\"], \"marker\": {\"colors\": [\"crimson\", \"green\", \"saddlebrown\", \"yellow\", \"blue\"]}, \"name\": \"August09\", \"textfont\": {\"size\": 18}, \"textinfo\": \"percent+value\", \"type\": \"pie\", \"values\": [2167, 7000, 120, 1678, 1451]}, {\"domain\": {\"x\": [0.5075, 1.0], \"y\": [0.0, 0.33]}, \"hole\": 0.3, \"hoverinfo\": \"label+percent+name+value\", \"labels\": [\"North Africa\", \"Southern Africa\", \"Central Africa\", \"East Africa\", \"West Africa\"], \"marker\": {\"colors\": [\"crimson\", \"green\", \"saddlebrown\", \"yellow\", \"blue\"]}, \"name\": \"August08\", \"textfont\": {\"size\": 18}, \"textinfo\": \"percent+value\", \"type\": \"pie\", \"values\": [2225, 7928, 466, 2249, 1341]}],\n",
       "                        {\"annotations\": [{\"font\": {\"color\": \"black\", \"size\": 20}, \"showarrow\": false, \"text\": \"August13\", \"x\": 0.18, \"y\": 0.85}, {\"font\": {\"color\": \"black\", \"size\": 20}, \"showarrow\": false, \"text\": \"August12\", \"x\": 0.82, \"y\": 0.85}, {\"font\": {\"color\": \"black\", \"size\": 20}, \"showarrow\": false, \"text\": \"August11\", \"x\": 0.18, \"y\": 0.5}, {\"font\": {\"color\": \"black\", \"size\": 20}, \"showarrow\": false, \"text\": \"August10\", \"x\": 0.82, \"y\": 0.5}, {\"font\": {\"color\": \"black\", \"size\": 20}, \"showarrow\": false, \"text\": \"August09\", \"x\": 0.18, \"y\": 0.15}, {\"font\": {\"color\": \"black\", \"size\": 20}, \"showarrow\": false, \"text\": \"August08\", \"x\": 0.82, \"y\": 0.15}], \"autosize\": false, \"height\": 1450, \"legend\": {\"font\": {\"size\": 13}, \"traceorder\": \"normal\", \"x\": 1, \"y\": 1}, \"template\": {\"data\": {\"bar\": [{\"error_x\": {\"color\": \"#2a3f5f\"}, \"error_y\": {\"color\": \"#2a3f5f\"}, \"marker\": {\"line\": {\"color\": \"#E5ECF6\", \"width\": 0.5}}, \"type\": \"bar\"}], \"barpolar\": [{\"marker\": {\"line\": {\"color\": \"#E5ECF6\", \"width\": 0.5}}, \"type\": \"barpolar\"}], \"carpet\": [{\"aaxis\": {\"endlinecolor\": \"#2a3f5f\", \"gridcolor\": \"white\", \"linecolor\": \"white\", \"minorgridcolor\": \"white\", \"startlinecolor\": \"#2a3f5f\"}, \"baxis\": {\"endlinecolor\": \"#2a3f5f\", \"gridcolor\": \"white\", \"linecolor\": \"white\", \"minorgridcolor\": \"white\", \"startlinecolor\": \"#2a3f5f\"}, \"type\": \"carpet\"}], \"choropleth\": [{\"colorbar\": {\"outlinewidth\": 0, \"ticks\": \"\"}, \"type\": \"choropleth\"}], \"contour\": [{\"colorbar\": {\"outlinewidth\": 0, \"ticks\": \"\"}, \"colorscale\": [[0.0, \"#0d0887\"], [0.1111111111111111, \"#46039f\"], [0.2222222222222222, \"#7201a8\"], [0.3333333333333333, \"#9c179e\"], [0.4444444444444444, \"#bd3786\"], [0.5555555555555556, \"#d8576b\"], [0.6666666666666666, \"#ed7953\"], [0.7777777777777778, \"#fb9f3a\"], [0.8888888888888888, \"#fdca26\"], [1.0, \"#f0f921\"]], \"type\": \"contour\"}], \"contourcarpet\": [{\"colorbar\": {\"outlinewidth\": 0, \"ticks\": \"\"}, \"type\": \"contourcarpet\"}], \"heatmap\": [{\"colorbar\": {\"outlinewidth\": 0, \"ticks\": \"\"}, \"colorscale\": [[0.0, \"#0d0887\"], [0.1111111111111111, \"#46039f\"], [0.2222222222222222, \"#7201a8\"], [0.3333333333333333, \"#9c179e\"], [0.4444444444444444, \"#bd3786\"], [0.5555555555555556, \"#d8576b\"], [0.6666666666666666, \"#ed7953\"], [0.7777777777777778, \"#fb9f3a\"], [0.8888888888888888, \"#fdca26\"], [1.0, \"#f0f921\"]], \"type\": \"heatmap\"}], \"heatmapgl\": [{\"colorbar\": {\"outlinewidth\": 0, \"ticks\": \"\"}, \"colorscale\": [[0.0, \"#0d0887\"], [0.1111111111111111, \"#46039f\"], [0.2222222222222222, \"#7201a8\"], [0.3333333333333333, \"#9c179e\"], [0.4444444444444444, \"#bd3786\"], [0.5555555555555556, \"#d8576b\"], [0.6666666666666666, \"#ed7953\"], [0.7777777777777778, \"#fb9f3a\"], [0.8888888888888888, \"#fdca26\"], [1.0, \"#f0f921\"]], \"type\": \"heatmapgl\"}], \"histogram\": [{\"marker\": {\"colorbar\": {\"outlinewidth\": 0, \"ticks\": \"\"}}, \"type\": \"histogram\"}], \"histogram2d\": [{\"colorbar\": {\"outlinewidth\": 0, \"ticks\": \"\"}, \"colorscale\": [[0.0, \"#0d0887\"], [0.1111111111111111, \"#46039f\"], [0.2222222222222222, \"#7201a8\"], [0.3333333333333333, \"#9c179e\"], [0.4444444444444444, \"#bd3786\"], [0.5555555555555556, \"#d8576b\"], [0.6666666666666666, \"#ed7953\"], [0.7777777777777778, \"#fb9f3a\"], [0.8888888888888888, \"#fdca26\"], [1.0, \"#f0f921\"]], \"type\": \"histogram2d\"}], \"histogram2dcontour\": [{\"colorbar\": {\"outlinewidth\": 0, \"ticks\": \"\"}, \"colorscale\": [[0.0, \"#0d0887\"], [0.1111111111111111, \"#46039f\"], [0.2222222222222222, \"#7201a8\"], [0.3333333333333333, \"#9c179e\"], [0.4444444444444444, \"#bd3786\"], [0.5555555555555556, \"#d8576b\"], [0.6666666666666666, \"#ed7953\"], [0.7777777777777778, \"#fb9f3a\"], [0.8888888888888888, \"#fdca26\"], [1.0, \"#f0f921\"]], \"type\": \"histogram2dcontour\"}], \"mesh3d\": [{\"colorbar\": {\"outlinewidth\": 0, \"ticks\": \"\"}, \"type\": \"mesh3d\"}], \"parcoords\": [{\"line\": {\"colorbar\": {\"outlinewidth\": 0, \"ticks\": \"\"}}, \"type\": \"parcoords\"}], \"scatter\": [{\"marker\": {\"colorbar\": {\"outlinewidth\": 0, \"ticks\": \"\"}}, \"type\": \"scatter\"}], \"scatter3d\": [{\"line\": {\"colorbar\": {\"outlinewidth\": 0, \"ticks\": \"\"}}, \"marker\": {\"colorbar\": {\"outlinewidth\": 0, \"ticks\": \"\"}}, \"type\": \"scatter3d\"}], \"scattercarpet\": [{\"marker\": {\"colorbar\": {\"outlinewidth\": 0, \"ticks\": \"\"}}, \"type\": \"scattercarpet\"}], \"scattergeo\": [{\"marker\": {\"colorbar\": {\"outlinewidth\": 0, \"ticks\": \"\"}}, \"type\": \"scattergeo\"}], \"scattergl\": [{\"marker\": {\"colorbar\": {\"outlinewidth\": 0, \"ticks\": \"\"}}, \"type\": \"scattergl\"}], \"scattermapbox\": [{\"marker\": {\"colorbar\": {\"outlinewidth\": 0, \"ticks\": \"\"}}, \"type\": \"scattermapbox\"}], \"scatterpolar\": [{\"marker\": {\"colorbar\": {\"outlinewidth\": 0, \"ticks\": \"\"}}, \"type\": \"scatterpolar\"}], \"scatterpolargl\": [{\"marker\": {\"colorbar\": {\"outlinewidth\": 0, \"ticks\": \"\"}}, \"type\": \"scatterpolargl\"}], \"scatterternary\": [{\"marker\": {\"colorbar\": {\"outlinewidth\": 0, \"ticks\": \"\"}}, \"type\": \"scatterternary\"}], \"surface\": [{\"colorbar\": {\"outlinewidth\": 0, \"ticks\": \"\"}, \"colorscale\": [[0.0, \"#0d0887\"], [0.1111111111111111, \"#46039f\"], [0.2222222222222222, \"#7201a8\"], [0.3333333333333333, \"#9c179e\"], [0.4444444444444444, \"#bd3786\"], [0.5555555555555556, \"#d8576b\"], [0.6666666666666666, \"#ed7953\"], [0.7777777777777778, \"#fb9f3a\"], [0.8888888888888888, \"#fdca26\"], [1.0, \"#f0f921\"]], \"type\": \"surface\"}], \"table\": [{\"cells\": {\"fill\": {\"color\": \"#EBF0F8\"}, \"line\": {\"color\": \"white\"}}, \"header\": {\"fill\": {\"color\": \"#C8D4E3\"}, \"line\": {\"color\": \"white\"}}, \"type\": \"table\"}]}, \"layout\": {\"annotationdefaults\": {\"arrowcolor\": \"#2a3f5f\", \"arrowhead\": 0, \"arrowwidth\": 1}, \"colorscale\": {\"diverging\": [[0, \"#8e0152\"], [0.1, \"#c51b7d\"], [0.2, \"#de77ae\"], [0.3, \"#f1b6da\"], [0.4, \"#fde0ef\"], [0.5, \"#f7f7f7\"], [0.6, \"#e6f5d0\"], [0.7, \"#b8e186\"], [0.8, \"#7fbc41\"], [0.9, \"#4d9221\"], [1, \"#276419\"]], \"sequential\": [[0.0, \"#0d0887\"], [0.1111111111111111, \"#46039f\"], [0.2222222222222222, \"#7201a8\"], [0.3333333333333333, \"#9c179e\"], [0.4444444444444444, \"#bd3786\"], [0.5555555555555556, \"#d8576b\"], [0.6666666666666666, \"#ed7953\"], [0.7777777777777778, \"#fb9f3a\"], [0.8888888888888888, \"#fdca26\"], [1.0, \"#f0f921\"]], \"sequentialminus\": [[0.0, \"#0d0887\"], [0.1111111111111111, \"#46039f\"], [0.2222222222222222, \"#7201a8\"], [0.3333333333333333, \"#9c179e\"], [0.4444444444444444, \"#bd3786\"], [0.5555555555555556, \"#d8576b\"], [0.6666666666666666, \"#ed7953\"], [0.7777777777777778, \"#fb9f3a\"], [0.8888888888888888, \"#fdca26\"], [1.0, \"#f0f921\"]]}, \"colorway\": [\"#636efa\", \"#EF553B\", \"#00cc96\", \"#ab63fa\", \"#FFA15A\", \"#19d3f3\", \"#FF6692\", \"#B6E880\", \"#FF97FF\", \"#FECB52\"], \"font\": {\"color\": \"#2a3f5f\"}, \"geo\": {\"bgcolor\": \"white\", \"lakecolor\": \"white\", \"landcolor\": \"#E5ECF6\", \"showlakes\": true, \"showland\": true, \"subunitcolor\": \"white\"}, \"hoverlabel\": {\"align\": \"left\"}, \"hovermode\": \"closest\", \"mapbox\": {\"style\": \"light\"}, \"paper_bgcolor\": \"white\", \"plot_bgcolor\": \"#E5ECF6\", \"polar\": {\"angularaxis\": {\"gridcolor\": \"white\", \"linecolor\": \"white\", \"ticks\": \"\"}, \"bgcolor\": \"#E5ECF6\", \"radialaxis\": {\"gridcolor\": \"white\", \"linecolor\": \"white\", \"ticks\": \"\"}}, \"scene\": {\"xaxis\": {\"backgroundcolor\": \"#E5ECF6\", \"gridcolor\": \"white\", \"gridwidth\": 2, \"linecolor\": \"white\", \"showbackground\": true, \"ticks\": \"\", \"zerolinecolor\": \"white\"}, \"yaxis\": {\"backgroundcolor\": \"#E5ECF6\", \"gridcolor\": \"white\", \"gridwidth\": 2, \"linecolor\": \"white\", \"showbackground\": true, \"ticks\": \"\", \"zerolinecolor\": \"white\"}, \"zaxis\": {\"backgroundcolor\": \"#E5ECF6\", \"gridcolor\": \"white\", \"gridwidth\": 2, \"linecolor\": \"white\", \"showbackground\": true, \"ticks\": \"\", \"zerolinecolor\": \"white\"}}, \"shapedefaults\": {\"line\": {\"color\": \"#2a3f5f\"}}, \"ternary\": {\"aaxis\": {\"gridcolor\": \"white\", \"linecolor\": \"white\", \"ticks\": \"\"}, \"baxis\": {\"gridcolor\": \"white\", \"linecolor\": \"white\", \"ticks\": \"\"}, \"bgcolor\": \"#E5ECF6\", \"caxis\": {\"gridcolor\": \"white\", \"linecolor\": \"white\", \"ticks\": \"\"}}, \"title\": {\"x\": 0.05}, \"xaxis\": {\"automargin\": true, \"gridcolor\": \"white\", \"linecolor\": \"white\", \"ticks\": \"\", \"zerolinecolor\": \"white\", \"zerolinewidth\": 2}, \"yaxis\": {\"automargin\": true, \"gridcolor\": \"white\", \"linecolor\": \"white\", \"ticks\": \"\", \"zerolinecolor\": \"white\", \"zerolinewidth\": 2}}}, \"title\": {\"font\": {\"color\": \"black\", \"size\": 18}, \"text\": \"<b>AFRICA - COVID19 NEW CASES BY REGION: August 13, 2020</b>\", \"x\": 0.46, \"xanchor\": \"center\", \"y\": 0.95, \"yanchor\": \"top\"}, \"width\": 990},\n",
       "                        {\"responsive\": true}\n",
       "                    ).then(function(){\n",
       "                            \n",
       "var gd = document.getElementById('d5e11b9a-c62c-4769-af58-1cb5ee7293e7');\n",
       "var x = new MutationObserver(function (mutations, observer) {{\n",
       "        var display = window.getComputedStyle(gd).display;\n",
       "        if (!display || display === 'none') {{\n",
       "            console.log([gd, 'removed!']);\n",
       "            Plotly.purge(gd);\n",
       "            observer.disconnect();\n",
       "        }}\n",
       "}});\n",
       "\n",
       "// Listen for the removal of the full notebook cells\n",
       "var notebookContainer = gd.closest('#notebook-container');\n",
       "if (notebookContainer) {{\n",
       "    x.observe(notebookContainer, {childList: true});\n",
       "}}\n",
       "\n",
       "// Listen for the clearing of the current output cell\n",
       "var outputEl = gd.closest('.output');\n",
       "if (outputEl) {{\n",
       "    x.observe(outputEl, {childList: true});\n",
       "}}\n",
       "\n",
       "                        })\n",
       "                };\n",
       "                });\n",
       "            </script>\n",
       "        </div>"
      ]
     },
     "metadata": {},
     "output_type": "display_data"
    }
   ],
   "source": [
    "fig = make_subplots(rows=3, cols=2,  specs=[[{'type':'domain'}, {'type':'domain'}],[{'type':'domain'}, {'type':'domain'}],\n",
    "                                            [{'type':'domain'}, {'type':'domain'}]], print_grid=False,vertical_spacing=0.005,\n",
    "                                            horizontal_spacing=0.015)\n",
    "position = 0\n",
    "# x=[0.2, 0.8, 0.2, 0.8, 0.2, 0.8]\n",
    "# y=[0.85,0.85, 0.5,0.5,0.15, 0.15]\n",
    "\n",
    "x=[0.18, 0.82, 0.18, 0.82, 0.18, 0.82]\n",
    "y=[0.85,0.85, 0.5,0.5,0.15, 0.15]\n",
    "slice_colors =  ['crimson', 'green', 'saddlebrown', 'yellow', 'blue']\n",
    "\n",
    "for column in countries_new_cases.columns[1:][::-1]:\n",
    "    afrik_region = []\n",
    "    afric_region_stat = []\n",
    "    row = ((position//2)+1)\n",
    "    col = ((position%2)+1)\n",
    "    for region in african_regions: \n",
    "        if(region == 'North Africa'):        \n",
    "            north_africa_total = countries_new_cases[countries_new_cases['Country_Other'].isin(north_africa_new_cases['Country_Other'])]\n",
    "            north_africa_total=north_africa_total.copy()\n",
    "            north_africa_total.fillna(0, inplace=True)\n",
    "            north_africa_sum = north_africa_total[column].astype(str).str.replace('+','').fillna(0).str.replace(',','').fillna(0).astype(int).sum()  \n",
    "            afrik_region.append(region)\n",
    "            afric_region_stat.append(north_africa_sum)\n",
    "\n",
    "        elif(region == 'South Africa'):\n",
    "            southern_africa_total = countries_new_cases[countries_new_cases['Country_Other'].isin(southern_africa_new_cases['Country_Other'])]\n",
    "            southern_africa_total=southern_africa_total.copy()\n",
    "            southern_africa_total.fillna(0, inplace=True)\n",
    "            southern_africa_sum = southern_africa_total[column].astype(str).str.replace('+','').fillna(0).str.replace(',','').fillna(0).astype(int).sum() \n",
    "            afrik_region.append(region)\n",
    "            afric_region_stat.append(southern_africa_sum)\n",
    "\n",
    "        elif(region == 'Central Africa'):\n",
    "            central_africa_total = countries_new_cases[countries_new_cases['Country_Other'].isin(central_africa_new_cases['Country_Other'])]\n",
    "            central_africa_total=central_africa_total.copy()\n",
    "            central_africa_total.fillna(0, inplace=True)\n",
    "            central_africa_sum = central_africa_total[column].astype(str).str.replace('+','').fillna(0).str.replace(',','').fillna(0).astype(int).sum()\n",
    "            afrik_region.append(region)\n",
    "            afric_region_stat.append(central_africa_sum)\n",
    "\n",
    "        elif(region == 'East Africa'):     \n",
    "            east_africa_total = countries_new_cases[countries_new_cases['Country_Other'].isin(east_africa_new_cases['Country_Other'])]\n",
    "            east_africa_total=east_africa_total.copy()\n",
    "            east_africa_total.fillna(0, inplace=True)\n",
    "            east_africa_sum = east_africa_total[column].astype(str).str.replace('+','').fillna(0).str.replace(',','').fillna(0).astype(int).sum()\n",
    "            afrik_region.append(region)\n",
    "            afric_region_stat.append(east_africa_sum)\n",
    "\n",
    "        elif(region == 'West Africa'): \n",
    "            west_africa_total = countries_new_cases[countries_new_cases['Country_Other'].isin(west_africa_new_cases['Country_Other'])]\n",
    "            west_africa_total=west_africa_total.copy()\n",
    "            west_africa_total.fillna(0, inplace=True)    \n",
    "            west_africa_sum = west_africa_total[column].astype(str).str.replace('+','').fillna(0).str.replace(',','').fillna(0).astype(int).sum()                         \n",
    "            afrik_region.append(region)\n",
    "            afric_region_stat.append(west_africa_sum)\n",
    "\n",
    "            \n",
    "            afrik_region[1] = 'Southern Africa'\n",
    "            fig.add_trace(go.Pie(labels=afrik_region, values=afric_region_stat,name=column, ),row, col)         \n",
    "            fig.update_traces(hole=.3, hoverinfo=\"label+percent+name+value\", textinfo='percent+value',textfont_size=18,marker_colors=slice_colors,)  \n",
    "            \n",
    "       \n",
    "    fig['layout']['annotations'] += tuple([dict(x=x[position],y=y[position],text=column, showarrow=False, font_size=20, font=dict(color='black'))])\n",
    "    fig.update_layout(\n",
    "    width=990,height=1450,autosize=False,\n",
    "    title={'text': '<b>' + 'AFRICA - COVID19 NEW CASES BY REGION: ' + date_string +'</b>',\n",
    "    'y':0.95,\n",
    "    'x':0.46,\n",
    "    'xanchor': 'center',\n",
    "    'yanchor': 'top',\n",
    "    'font_color':'black',\n",
    "    'font_size':18},\n",
    "     legend=dict(x=1, y=1,traceorder=\"normal\",  font=dict(size=13))\n",
    "    )\n",
    "    position=position+1    \n",
    "fig.show()"
   ]
  },
  {
   "cell_type": "markdown",
   "metadata": {},
   "source": [
    "##  Recovery Rate of Countries with up to 100 Confirmed Cases"
   ]
  },
  {
   "cell_type": "code",
   "execution_count": 86,
   "metadata": {},
   "outputs": [],
   "source": [
    "#SELECT MOST RECENT CSV DATA\n",
    "def most_recent_all_cases_CSV(path):\n",
    "    next_mostrecent_CSV ={}\n",
    "    files = os.listdir(path)\n",
    "    filter_csv = [file for file in files if file[-3:] == 'csv' and file[:13] == 'COVID19Report']\n",
    "    datetime_conversion = [datetime.datetime.strptime(f[13:25], '%d%m%Y%H%M') for f in filter_csv]\n",
    "    current_datetime = datetime.datetime.now().strftime(\"%d%m%Y%H%M\")\n",
    "    current_datetime_conversion = datetime.datetime.strptime(current_datetime,'%d%m%Y%H%M')\n",
    "    for given_datetime in datetime_conversion:\n",
    "        datetime_string= given_datetime.strftime('%d')+given_datetime.strftime('%m')+given_datetime.strftime('%Y')+given_datetime.strftime('%H')+given_datetime.strftime('%M')\n",
    "        particular_datetime = [datee  for datee in filter_csv if datee[13:25] == datetime_string]\n",
    "        timediff_seconds = current_datetime_conversion - given_datetime\n",
    "        next_mostrecent_CSV[particular_datetime[0]] = timediff_seconds.total_seconds()\n",
    "        sorted_next_mostrecent_CSV = sorted(next_mostrecent_CSV.items(), key=lambda kv: kv[1])\n",
    "    return sorted_next_mostrecent_CSV[0][0]"
   ]
  },
  {
   "cell_type": "code",
   "execution_count": 87,
   "metadata": {},
   "outputs": [
    {
     "data": {
      "text/plain": [
       "'COVID19Report130820200937.csv'"
      ]
     },
     "execution_count": 87,
     "metadata": {},
     "output_type": "execute_result"
    }
   ],
   "source": [
    "all_cases = most_recent_all_cases_CSV(\"..\\COVID19\\DayReport\")\n",
    "all_cases"
   ]
  },
  {
   "cell_type": "code",
   "execution_count": 88,
   "metadata": {},
   "outputs": [
    {
     "data": {
      "text/html": [
       "<div>\n",
       "<style scoped>\n",
       "    .dataframe tbody tr th:only-of-type {\n",
       "        vertical-align: middle;\n",
       "    }\n",
       "\n",
       "    .dataframe tbody tr th {\n",
       "        vertical-align: top;\n",
       "    }\n",
       "\n",
       "    .dataframe thead th {\n",
       "        text-align: right;\n",
       "    }\n",
       "</style>\n",
       "<table border=\"1\" class=\"dataframe\">\n",
       "  <thead>\n",
       "    <tr style=\"text-align: right;\">\n",
       "      <th></th>\n",
       "      <th>Country_Other</th>\n",
       "      <th>Total_Cases</th>\n",
       "      <th>New_Cases</th>\n",
       "      <th>Total_Deaths</th>\n",
       "      <th>New_Deaths</th>\n",
       "      <th>Total_Recovered</th>\n",
       "      <th>Active_Cases</th>\n",
       "      <th>Serious_Critical</th>\n",
       "      <th>tot_cases_per1M_pop</th>\n",
       "      <th>Deaths_per_1M_Pop</th>\n",
       "      <th>Total_Tests</th>\n",
       "      <th>Tests_per_1M_Pop</th>\n",
       "    </tr>\n",
       "  </thead>\n",
       "  <tbody>\n",
       "    <tr>\n",
       "      <td>0</td>\n",
       "      <td>South Africa</td>\n",
       "      <td>572,865</td>\n",
       "      <td>+3,946</td>\n",
       "      <td>11,270</td>\n",
       "      <td>+260</td>\n",
       "      <td>437,617</td>\n",
       "      <td>123,978</td>\n",
       "      <td>539</td>\n",
       "      <td>9,645</td>\n",
       "      <td>190</td>\n",
       "      <td>3,315,497</td>\n",
       "      <td>55,820</td>\n",
       "    </tr>\n",
       "    <tr>\n",
       "      <td>1</td>\n",
       "      <td>Egypt</td>\n",
       "      <td>96,108</td>\n",
       "      <td>+145</td>\n",
       "      <td>5,107</td>\n",
       "      <td>+22</td>\n",
       "      <td>56,890</td>\n",
       "      <td>34,111</td>\n",
       "      <td>41</td>\n",
       "      <td>937</td>\n",
       "      <td>50</td>\n",
       "      <td>135,000</td>\n",
       "      <td>1,316</td>\n",
       "    </tr>\n",
       "    <tr>\n",
       "      <td>2</td>\n",
       "      <td>Nigeria</td>\n",
       "      <td>48,116</td>\n",
       "      <td>+373</td>\n",
       "      <td>966</td>\n",
       "      <td>+10</td>\n",
       "      <td>34,309</td>\n",
       "      <td>12,841</td>\n",
       "      <td>7</td>\n",
       "      <td>233</td>\n",
       "      <td>5</td>\n",
       "      <td>341,421</td>\n",
       "      <td>1,652</td>\n",
       "    </tr>\n",
       "  </tbody>\n",
       "</table>\n",
       "</div>"
      ],
      "text/plain": [
       "  Country_Other Total_Cases New_Cases Total_Deaths New_Deaths Total_Recovered  \\\n",
       "0  South Africa     572,865    +3,946       11,270       +260         437,617   \n",
       "1         Egypt      96,108      +145        5,107        +22          56,890   \n",
       "2       Nigeria      48,116      +373          966        +10          34,309   \n",
       "\n",
       "  Active_Cases Serious_Critical tot_cases_per1M_pop Deaths_per_1M_Pop  \\\n",
       "0      123,978              539               9,645               190   \n",
       "1       34,111               41                 937                50   \n",
       "2       12,841                7                 233                 5   \n",
       "\n",
       "  Total_Tests Tests_per_1M_Pop  \n",
       "0   3,315,497           55,820  \n",
       "1     135,000            1,316  \n",
       "2     341,421            1,652  "
      ]
     },
     "execution_count": 88,
     "metadata": {},
     "output_type": "execute_result"
    }
   ],
   "source": [
    "covid_data = pd.read_csv(\"../COVID19/DayReport/\"+all_cases)\n",
    "african_countries_inview = covid_data[covid_data['Country_Other'].isin(african_countries['country_Other'])]\n",
    "african_countries_inview =african_countries_inview.reset_index(drop=True)\n",
    "african_countries_inview.head(3)"
   ]
  },
  {
   "cell_type": "code",
   "execution_count": 89,
   "metadata": {},
   "outputs": [
    {
     "data": {
      "text/plain": [
       "Country_Other          object\n",
       "Total_Cases             int32\n",
       "New_Cases              object\n",
       "Total_Deaths            int32\n",
       "New_Deaths             object\n",
       "Total_Recovered         int32\n",
       "Active_Cases           object\n",
       "Serious_Critical       object\n",
       "tot_cases_per1M_pop    object\n",
       "Deaths_per_1M_Pop      object\n",
       "Total_Tests            object\n",
       "Tests_per_1M_Pop       object\n",
       "dtype: object"
      ]
     },
     "execution_count": 89,
     "metadata": {},
     "output_type": "execute_result"
    }
   ],
   "source": [
    "african_countries_inview['Total_Recovered']=african_countries_inview['Total_Recovered'].str.replace(',','').fillna(0).astype(int)\n",
    "african_countries_inview['Total_Cases']=african_countries_inview['Total_Cases'].str.replace(',','').fillna(0).astype(int)\n",
    "african_countries_inview['Total_Deaths']=african_countries_inview['Total_Deaths'].str.replace(',','').fillna(0).astype(int)\n",
    "african_countries_inview.dtypes"
   ]
  },
  {
   "cell_type": "code",
   "execution_count": 90,
   "metadata": {},
   "outputs": [],
   "source": [
    "african_recovery = pd.DataFrame()\n",
    "african_recovery['Country_Other'] = african_countries_inview['Country_Other']\n",
    "african_recovery['Total_Cases'] = african_countries_inview['Total_Cases']\n",
    "african_recovery['Total_Recovered'] = african_countries_inview['Total_Recovered']"
   ]
  },
  {
   "cell_type": "code",
   "execution_count": 91,
   "metadata": {},
   "outputs": [
    {
     "data": {
      "text/html": [
       "<div>\n",
       "<style scoped>\n",
       "    .dataframe tbody tr th:only-of-type {\n",
       "        vertical-align: middle;\n",
       "    }\n",
       "\n",
       "    .dataframe tbody tr th {\n",
       "        vertical-align: top;\n",
       "    }\n",
       "\n",
       "    .dataframe thead th {\n",
       "        text-align: right;\n",
       "    }\n",
       "</style>\n",
       "<table border=\"1\" class=\"dataframe\">\n",
       "  <thead>\n",
       "    <tr style=\"text-align: right;\">\n",
       "      <th></th>\n",
       "      <th>Country_Other</th>\n",
       "      <th>Total_Cases</th>\n",
       "      <th>Total_Recovered</th>\n",
       "      <th>RecoveryRate</th>\n",
       "    </tr>\n",
       "  </thead>\n",
       "  <tbody>\n",
       "    <tr>\n",
       "      <td>0</td>\n",
       "      <td>South Africa</td>\n",
       "      <td>572865</td>\n",
       "      <td>437617</td>\n",
       "      <td>76.39</td>\n",
       "    </tr>\n",
       "    <tr>\n",
       "      <td>1</td>\n",
       "      <td>Egypt</td>\n",
       "      <td>96108</td>\n",
       "      <td>56890</td>\n",
       "      <td>59.19</td>\n",
       "    </tr>\n",
       "    <tr>\n",
       "      <td>2</td>\n",
       "      <td>Nigeria</td>\n",
       "      <td>48116</td>\n",
       "      <td>34309</td>\n",
       "      <td>71.30</td>\n",
       "    </tr>\n",
       "  </tbody>\n",
       "</table>\n",
       "</div>"
      ],
      "text/plain": [
       "  Country_Other  Total_Cases  Total_Recovered  RecoveryRate\n",
       "0  South Africa       572865           437617         76.39\n",
       "1         Egypt        96108            56890         59.19\n",
       "2       Nigeria        48116            34309         71.30"
      ]
     },
     "execution_count": 91,
     "metadata": {},
     "output_type": "execute_result"
    }
   ],
   "source": [
    "\n",
    "african_recovery['RecoveryRate'] = round((african_countries_inview['Total_Recovered']/african_countries_inview['Total_Cases'])*100,2)\n",
    "african_recovery.head(3)"
   ]
  },
  {
   "cell_type": "code",
   "execution_count": 92,
   "metadata": {},
   "outputs": [
    {
     "data": {
      "text/html": [
       "<div>\n",
       "<style scoped>\n",
       "    .dataframe tbody tr th:only-of-type {\n",
       "        vertical-align: middle;\n",
       "    }\n",
       "\n",
       "    .dataframe tbody tr th {\n",
       "        vertical-align: top;\n",
       "    }\n",
       "\n",
       "    .dataframe thead th {\n",
       "        text-align: right;\n",
       "    }\n",
       "</style>\n",
       "<table border=\"1\" class=\"dataframe\">\n",
       "  <thead>\n",
       "    <tr style=\"text-align: right;\">\n",
       "      <th></th>\n",
       "      <th>Country_Other</th>\n",
       "      <th>Total_Cases</th>\n",
       "      <th>Total_Recovered</th>\n",
       "      <th>RecoveryRate</th>\n",
       "    </tr>\n",
       "  </thead>\n",
       "  <tbody>\n",
       "    <tr>\n",
       "      <td>0</td>\n",
       "      <td>Seychelles</td>\n",
       "      <td>127</td>\n",
       "      <td>126</td>\n",
       "      <td>99.21</td>\n",
       "    </tr>\n",
       "    <tr>\n",
       "      <td>1</td>\n",
       "      <td>Mauritius</td>\n",
       "      <td>344</td>\n",
       "      <td>334</td>\n",
       "      <td>97.09</td>\n",
       "    </tr>\n",
       "    <tr>\n",
       "      <td>2</td>\n",
       "      <td>Djibouti</td>\n",
       "      <td>5358</td>\n",
       "      <td>5167</td>\n",
       "      <td>96.44</td>\n",
       "    </tr>\n",
       "  </tbody>\n",
       "</table>\n",
       "</div>"
      ],
      "text/plain": [
       "  Country_Other  Total_Cases  Total_Recovered  RecoveryRate\n",
       "0    Seychelles          127              126         99.21\n",
       "1     Mauritius          344              334         97.09\n",
       "2      Djibouti         5358             5167         96.44"
      ]
     },
     "execution_count": 92,
     "metadata": {},
     "output_type": "execute_result"
    }
   ],
   "source": [
    "#Recovery Rate sorted in descensing order\n",
    "african_confirmed100 = african_recovery[african_recovery['Total_Cases']>=100]\n",
    "african_confirmed100 = african_confirmed100.sort_values('RecoveryRate', ascending=False)\n",
    "african_confirmed100.reset_index(drop=True, inplace=True)\n",
    "african_confirmed100.head(3)"
   ]
  },
  {
   "cell_type": "code",
   "execution_count": 93,
   "metadata": {},
   "outputs": [
    {
     "data": {
      "application/vnd.plotly.v1+json": {
       "config": {
        "plotlyServerURL": "https://plot.ly"
       },
       "data": [
        {
         "marker": {
          "color": "LimeGreen"
         },
         "name": "Afria",
         "orientation": "h",
         "text": [
          9.88,
          11.57,
          17.16,
          23.93,
          30.66,
          31.79,
          35.95,
          37.15,
          38.48,
          38.62,
          43.39,
          43.61,
          45.26,
          47.42,
          48.61,
          51.91,
          52.04,
          52.51,
          53.55,
          55.32,
          58.95,
          59.19,
          64.5,
          69.93,
          70.35,
          70.49,
          70.82,
          71.3,
          71.65,
          72.63,
          73.29,
          76.2,
          76.39,
          76.83,
          77.11,
          80.06,
          81.19,
          83.47,
          83.68,
          83.69,
          84.33,
          85.43,
          86.85,
          87.02,
          87.12,
          87.83,
          88.43,
          90.62,
          91.51,
          92.59,
          94.26,
          94.66,
          94.99,
          96.44,
          97.09,
          99.21
         ],
         "textposition": "outside",
         "type": "bar",
         "x": [
          9.88,
          11.57,
          17.16,
          23.93,
          30.66,
          31.79,
          35.95,
          37.15,
          38.48,
          38.62,
          43.39,
          43.61,
          45.26,
          47.42,
          48.61,
          51.91,
          52.04,
          52.51,
          53.55,
          55.32,
          58.95,
          59.19,
          64.5,
          69.93,
          70.35,
          70.49,
          70.82,
          71.3,
          71.65,
          72.63,
          73.29,
          76.2,
          76.39,
          76.83,
          77.11,
          80.06,
          81.19,
          83.47,
          83.68,
          83.69,
          84.33,
          85.43,
          86.85,
          87.02,
          87.12,
          87.83,
          88.43,
          90.62,
          91.51,
          92.59,
          94.26,
          94.66,
          94.99,
          96.44,
          97.09,
          99.21
         ],
         "y": [
          "Botswana",
          "Libya",
          "Gambia",
          "Namibia",
          "Lesotho",
          "Angola",
          "Tanzania",
          "CAR",
          "Mozambique",
          "Zimbabwe",
          "Congo",
          "Ethiopia",
          "Equatorial Guinea",
          "South Sudan",
          "Guinea-Bissau",
          "Malawi",
          "Sudan",
          "Kenya",
          "Somalia",
          "Eswatini",
          "Liberia",
          "Egypt",
          "Senegal",
          "Algeria",
          "Morocco",
          "Tunisia",
          "Rwanda",
          "Nigeria",
          "Togo",
          "Cabo Verde",
          "Gabon",
          "Mali",
          "South Africa",
          "Burundi",
          "Sierra Leone",
          "Ivory Coast",
          "Burkina Faso",
          "Benin",
          "Cameroon",
          "Réunion",
          "Uganda",
          "Zambia",
          "Guinea",
          "Eritrea",
          "Madagascar",
          "Mauritania",
          "DRC",
          "Chad",
          "Sao Tome and Principe",
          "Niger",
          "Mayotte",
          "Ghana",
          "Comoros",
          "Djibouti",
          "Mauritius",
          "Seychelles"
         ]
        }
       ],
       "layout": {
        "autosize": false,
        "height": 1000,
        "template": {
         "data": {
          "bar": [
           {
            "error_x": {
             "color": "#f2f5fa"
            },
            "error_y": {
             "color": "#f2f5fa"
            },
            "marker": {
             "line": {
              "color": "rgb(17,17,17)",
              "width": 0.5
             }
            },
            "type": "bar"
           }
          ],
          "barpolar": [
           {
            "marker": {
             "line": {
              "color": "rgb(17,17,17)",
              "width": 0.5
             }
            },
            "type": "barpolar"
           }
          ],
          "carpet": [
           {
            "aaxis": {
             "endlinecolor": "#A2B1C6",
             "gridcolor": "#506784",
             "linecolor": "#506784",
             "minorgridcolor": "#506784",
             "startlinecolor": "#A2B1C6"
            },
            "baxis": {
             "endlinecolor": "#A2B1C6",
             "gridcolor": "#506784",
             "linecolor": "#506784",
             "minorgridcolor": "#506784",
             "startlinecolor": "#A2B1C6"
            },
            "type": "carpet"
           }
          ],
          "choropleth": [
           {
            "colorbar": {
             "outlinewidth": 0,
             "ticks": ""
            },
            "type": "choropleth"
           }
          ],
          "contour": [
           {
            "colorbar": {
             "outlinewidth": 0,
             "ticks": ""
            },
            "colorscale": [
             [
              0,
              "#0d0887"
             ],
             [
              0.1111111111111111,
              "#46039f"
             ],
             [
              0.2222222222222222,
              "#7201a8"
             ],
             [
              0.3333333333333333,
              "#9c179e"
             ],
             [
              0.4444444444444444,
              "#bd3786"
             ],
             [
              0.5555555555555556,
              "#d8576b"
             ],
             [
              0.6666666666666666,
              "#ed7953"
             ],
             [
              0.7777777777777778,
              "#fb9f3a"
             ],
             [
              0.8888888888888888,
              "#fdca26"
             ],
             [
              1,
              "#f0f921"
             ]
            ],
            "type": "contour"
           }
          ],
          "contourcarpet": [
           {
            "colorbar": {
             "outlinewidth": 0,
             "ticks": ""
            },
            "type": "contourcarpet"
           }
          ],
          "heatmap": [
           {
            "colorbar": {
             "outlinewidth": 0,
             "ticks": ""
            },
            "colorscale": [
             [
              0,
              "#0d0887"
             ],
             [
              0.1111111111111111,
              "#46039f"
             ],
             [
              0.2222222222222222,
              "#7201a8"
             ],
             [
              0.3333333333333333,
              "#9c179e"
             ],
             [
              0.4444444444444444,
              "#bd3786"
             ],
             [
              0.5555555555555556,
              "#d8576b"
             ],
             [
              0.6666666666666666,
              "#ed7953"
             ],
             [
              0.7777777777777778,
              "#fb9f3a"
             ],
             [
              0.8888888888888888,
              "#fdca26"
             ],
             [
              1,
              "#f0f921"
             ]
            ],
            "type": "heatmap"
           }
          ],
          "heatmapgl": [
           {
            "colorbar": {
             "outlinewidth": 0,
             "ticks": ""
            },
            "colorscale": [
             [
              0,
              "#0d0887"
             ],
             [
              0.1111111111111111,
              "#46039f"
             ],
             [
              0.2222222222222222,
              "#7201a8"
             ],
             [
              0.3333333333333333,
              "#9c179e"
             ],
             [
              0.4444444444444444,
              "#bd3786"
             ],
             [
              0.5555555555555556,
              "#d8576b"
             ],
             [
              0.6666666666666666,
              "#ed7953"
             ],
             [
              0.7777777777777778,
              "#fb9f3a"
             ],
             [
              0.8888888888888888,
              "#fdca26"
             ],
             [
              1,
              "#f0f921"
             ]
            ],
            "type": "heatmapgl"
           }
          ],
          "histogram": [
           {
            "marker": {
             "colorbar": {
              "outlinewidth": 0,
              "ticks": ""
             }
            },
            "type": "histogram"
           }
          ],
          "histogram2d": [
           {
            "colorbar": {
             "outlinewidth": 0,
             "ticks": ""
            },
            "colorscale": [
             [
              0,
              "#0d0887"
             ],
             [
              0.1111111111111111,
              "#46039f"
             ],
             [
              0.2222222222222222,
              "#7201a8"
             ],
             [
              0.3333333333333333,
              "#9c179e"
             ],
             [
              0.4444444444444444,
              "#bd3786"
             ],
             [
              0.5555555555555556,
              "#d8576b"
             ],
             [
              0.6666666666666666,
              "#ed7953"
             ],
             [
              0.7777777777777778,
              "#fb9f3a"
             ],
             [
              0.8888888888888888,
              "#fdca26"
             ],
             [
              1,
              "#f0f921"
             ]
            ],
            "type": "histogram2d"
           }
          ],
          "histogram2dcontour": [
           {
            "colorbar": {
             "outlinewidth": 0,
             "ticks": ""
            },
            "colorscale": [
             [
              0,
              "#0d0887"
             ],
             [
              0.1111111111111111,
              "#46039f"
             ],
             [
              0.2222222222222222,
              "#7201a8"
             ],
             [
              0.3333333333333333,
              "#9c179e"
             ],
             [
              0.4444444444444444,
              "#bd3786"
             ],
             [
              0.5555555555555556,
              "#d8576b"
             ],
             [
              0.6666666666666666,
              "#ed7953"
             ],
             [
              0.7777777777777778,
              "#fb9f3a"
             ],
             [
              0.8888888888888888,
              "#fdca26"
             ],
             [
              1,
              "#f0f921"
             ]
            ],
            "type": "histogram2dcontour"
           }
          ],
          "mesh3d": [
           {
            "colorbar": {
             "outlinewidth": 0,
             "ticks": ""
            },
            "type": "mesh3d"
           }
          ],
          "parcoords": [
           {
            "line": {
             "colorbar": {
              "outlinewidth": 0,
              "ticks": ""
             }
            },
            "type": "parcoords"
           }
          ],
          "scatter": [
           {
            "marker": {
             "line": {
              "color": "#283442"
             }
            },
            "type": "scatter"
           }
          ],
          "scatter3d": [
           {
            "line": {
             "colorbar": {
              "outlinewidth": 0,
              "ticks": ""
             }
            },
            "marker": {
             "colorbar": {
              "outlinewidth": 0,
              "ticks": ""
             }
            },
            "type": "scatter3d"
           }
          ],
          "scattercarpet": [
           {
            "marker": {
             "colorbar": {
              "outlinewidth": 0,
              "ticks": ""
             }
            },
            "type": "scattercarpet"
           }
          ],
          "scattergeo": [
           {
            "marker": {
             "colorbar": {
              "outlinewidth": 0,
              "ticks": ""
             }
            },
            "type": "scattergeo"
           }
          ],
          "scattergl": [
           {
            "marker": {
             "line": {
              "color": "#283442"
             }
            },
            "type": "scattergl"
           }
          ],
          "scattermapbox": [
           {
            "marker": {
             "colorbar": {
              "outlinewidth": 0,
              "ticks": ""
             }
            },
            "type": "scattermapbox"
           }
          ],
          "scatterpolar": [
           {
            "marker": {
             "colorbar": {
              "outlinewidth": 0,
              "ticks": ""
             }
            },
            "type": "scatterpolar"
           }
          ],
          "scatterpolargl": [
           {
            "marker": {
             "colorbar": {
              "outlinewidth": 0,
              "ticks": ""
             }
            },
            "type": "scatterpolargl"
           }
          ],
          "scatterternary": [
           {
            "marker": {
             "colorbar": {
              "outlinewidth": 0,
              "ticks": ""
             }
            },
            "type": "scatterternary"
           }
          ],
          "surface": [
           {
            "colorbar": {
             "outlinewidth": 0,
             "ticks": ""
            },
            "colorscale": [
             [
              0,
              "#0d0887"
             ],
             [
              0.1111111111111111,
              "#46039f"
             ],
             [
              0.2222222222222222,
              "#7201a8"
             ],
             [
              0.3333333333333333,
              "#9c179e"
             ],
             [
              0.4444444444444444,
              "#bd3786"
             ],
             [
              0.5555555555555556,
              "#d8576b"
             ],
             [
              0.6666666666666666,
              "#ed7953"
             ],
             [
              0.7777777777777778,
              "#fb9f3a"
             ],
             [
              0.8888888888888888,
              "#fdca26"
             ],
             [
              1,
              "#f0f921"
             ]
            ],
            "type": "surface"
           }
          ],
          "table": [
           {
            "cells": {
             "fill": {
              "color": "#506784"
             },
             "line": {
              "color": "rgb(17,17,17)"
             }
            },
            "header": {
             "fill": {
              "color": "#2a3f5f"
             },
             "line": {
              "color": "rgb(17,17,17)"
             }
            },
            "type": "table"
           }
          ]
         },
         "layout": {
          "annotationdefaults": {
           "arrowcolor": "#f2f5fa",
           "arrowhead": 0,
           "arrowwidth": 1
          },
          "colorscale": {
           "diverging": [
            [
             0,
             "#8e0152"
            ],
            [
             0.1,
             "#c51b7d"
            ],
            [
             0.2,
             "#de77ae"
            ],
            [
             0.3,
             "#f1b6da"
            ],
            [
             0.4,
             "#fde0ef"
            ],
            [
             0.5,
             "#f7f7f7"
            ],
            [
             0.6,
             "#e6f5d0"
            ],
            [
             0.7,
             "#b8e186"
            ],
            [
             0.8,
             "#7fbc41"
            ],
            [
             0.9,
             "#4d9221"
            ],
            [
             1,
             "#276419"
            ]
           ],
           "sequential": [
            [
             0,
             "#0d0887"
            ],
            [
             0.1111111111111111,
             "#46039f"
            ],
            [
             0.2222222222222222,
             "#7201a8"
            ],
            [
             0.3333333333333333,
             "#9c179e"
            ],
            [
             0.4444444444444444,
             "#bd3786"
            ],
            [
             0.5555555555555556,
             "#d8576b"
            ],
            [
             0.6666666666666666,
             "#ed7953"
            ],
            [
             0.7777777777777778,
             "#fb9f3a"
            ],
            [
             0.8888888888888888,
             "#fdca26"
            ],
            [
             1,
             "#f0f921"
            ]
           ],
           "sequentialminus": [
            [
             0,
             "#0d0887"
            ],
            [
             0.1111111111111111,
             "#46039f"
            ],
            [
             0.2222222222222222,
             "#7201a8"
            ],
            [
             0.3333333333333333,
             "#9c179e"
            ],
            [
             0.4444444444444444,
             "#bd3786"
            ],
            [
             0.5555555555555556,
             "#d8576b"
            ],
            [
             0.6666666666666666,
             "#ed7953"
            ],
            [
             0.7777777777777778,
             "#fb9f3a"
            ],
            [
             0.8888888888888888,
             "#fdca26"
            ],
            [
             1,
             "#f0f921"
            ]
           ]
          },
          "colorway": [
           "#636efa",
           "#EF553B",
           "#00cc96",
           "#ab63fa",
           "#FFA15A",
           "#19d3f3",
           "#FF6692",
           "#B6E880",
           "#FF97FF",
           "#FECB52"
          ],
          "font": {
           "color": "#f2f5fa"
          },
          "geo": {
           "bgcolor": "rgb(17,17,17)",
           "lakecolor": "rgb(17,17,17)",
           "landcolor": "rgb(17,17,17)",
           "showlakes": true,
           "showland": true,
           "subunitcolor": "#506784"
          },
          "hoverlabel": {
           "align": "left"
          },
          "hovermode": "closest",
          "mapbox": {
           "style": "dark"
          },
          "paper_bgcolor": "rgb(17,17,17)",
          "plot_bgcolor": "rgb(17,17,17)",
          "polar": {
           "angularaxis": {
            "gridcolor": "#506784",
            "linecolor": "#506784",
            "ticks": ""
           },
           "bgcolor": "rgb(17,17,17)",
           "radialaxis": {
            "gridcolor": "#506784",
            "linecolor": "#506784",
            "ticks": ""
           }
          },
          "scene": {
           "xaxis": {
            "backgroundcolor": "rgb(17,17,17)",
            "gridcolor": "#506784",
            "gridwidth": 2,
            "linecolor": "#506784",
            "showbackground": true,
            "ticks": "",
            "zerolinecolor": "#C8D4E3"
           },
           "yaxis": {
            "backgroundcolor": "rgb(17,17,17)",
            "gridcolor": "#506784",
            "gridwidth": 2,
            "linecolor": "#506784",
            "showbackground": true,
            "ticks": "",
            "zerolinecolor": "#C8D4E3"
           },
           "zaxis": {
            "backgroundcolor": "rgb(17,17,17)",
            "gridcolor": "#506784",
            "gridwidth": 2,
            "linecolor": "#506784",
            "showbackground": true,
            "ticks": "",
            "zerolinecolor": "#C8D4E3"
           }
          },
          "shapedefaults": {
           "line": {
            "color": "#f2f5fa"
           }
          },
          "sliderdefaults": {
           "bgcolor": "#C8D4E3",
           "bordercolor": "rgb(17,17,17)",
           "borderwidth": 1,
           "tickwidth": 0
          },
          "ternary": {
           "aaxis": {
            "gridcolor": "#506784",
            "linecolor": "#506784",
            "ticks": ""
           },
           "baxis": {
            "gridcolor": "#506784",
            "linecolor": "#506784",
            "ticks": ""
           },
           "bgcolor": "rgb(17,17,17)",
           "caxis": {
            "gridcolor": "#506784",
            "linecolor": "#506784",
            "ticks": ""
           }
          },
          "title": {
           "x": 0.05
          },
          "updatemenudefaults": {
           "bgcolor": "#506784",
           "borderwidth": 0
          },
          "xaxis": {
           "automargin": true,
           "gridcolor": "#283442",
           "linecolor": "#506784",
           "ticks": "",
           "zerolinecolor": "#283442",
           "zerolinewidth": 2
          },
          "yaxis": {
           "automargin": true,
           "gridcolor": "#283442",
           "linecolor": "#506784",
           "ticks": "",
           "zerolinecolor": "#283442",
           "zerolinewidth": 2
          }
         }
        },
        "title": {
         "font": {
          "color": "Cyan",
          "size": 14
         },
         "text": "<b>COVID19 RECOVERY RATE OF AFRICAN COUNTRIES/TERRITORIES: August 13, 2020</b>",
         "x": 0.5,
         "xanchor": "center",
         "y": 0.93,
         "yanchor": "top"
        },
        "width": 1000,
        "xaxis": {
         "title": {
          "font": {
           "color": "#BDBDBD",
           "size": 18
          },
          "text": "<b>Recovery Rate(%)</b>"
         }
        },
        "yaxis": {
         "tickprefix": "      ",
         "title": {
          "font": {
           "color": "#BDBDBD",
           "size": 18
          },
          "text": "<b>Country</b>"
         }
        }
       }
      },
      "text/html": [
       "<div>\n",
       "        \n",
       "        \n",
       "            <div id=\"bf45320a-058f-4664-b246-1148594b2797\" class=\"plotly-graph-div\" style=\"height:1000px; width:1000px;\"></div>\n",
       "            <script type=\"text/javascript\">\n",
       "                require([\"plotly\"], function(Plotly) {\n",
       "                    window.PLOTLYENV=window.PLOTLYENV || {};\n",
       "                    \n",
       "                if (document.getElementById(\"bf45320a-058f-4664-b246-1148594b2797\")) {\n",
       "                    Plotly.newPlot(\n",
       "                        'bf45320a-058f-4664-b246-1148594b2797',\n",
       "                        [{\"marker\": {\"color\": \"LimeGreen\"}, \"name\": \"Afria\", \"orientation\": \"h\", \"text\": [9.88, 11.57, 17.16, 23.93, 30.66, 31.79, 35.95, 37.15, 38.48, 38.62, 43.39, 43.61, 45.26, 47.42, 48.61, 51.91, 52.04, 52.51, 53.55, 55.32, 58.95, 59.19, 64.5, 69.93, 70.35, 70.49, 70.82, 71.3, 71.65, 72.63, 73.29, 76.2, 76.39, 76.83, 77.11, 80.06, 81.19, 83.47, 83.68, 83.69, 84.33, 85.43, 86.85, 87.02, 87.12, 87.83, 88.43, 90.62, 91.51, 92.59, 94.26, 94.66, 94.99, 96.44, 97.09, 99.21], \"textposition\": \"outside\", \"type\": \"bar\", \"x\": [9.88, 11.57, 17.16, 23.93, 30.66, 31.79, 35.95, 37.15, 38.48, 38.62, 43.39, 43.61, 45.26, 47.42, 48.61, 51.91, 52.04, 52.51, 53.55, 55.32, 58.95, 59.19, 64.5, 69.93, 70.35, 70.49, 70.82, 71.3, 71.65, 72.63, 73.29, 76.2, 76.39, 76.83, 77.11, 80.06, 81.19, 83.47, 83.68, 83.69, 84.33, 85.43, 86.85, 87.02, 87.12, 87.83, 88.43, 90.62, 91.51, 92.59, 94.26, 94.66, 94.99, 96.44, 97.09, 99.21], \"y\": [\"Botswana\", \"Libya\", \"Gambia\", \"Namibia\", \"Lesotho\", \"Angola\", \"Tanzania\", \"CAR\", \"Mozambique\", \"Zimbabwe\", \"Congo\", \"Ethiopia\", \"Equatorial Guinea\", \"South Sudan\", \"Guinea-Bissau\", \"Malawi\", \"Sudan\", \"Kenya\", \"Somalia\", \"Eswatini\", \"Liberia\", \"Egypt\", \"Senegal\", \"Algeria\", \"Morocco\", \"Tunisia\", \"Rwanda\", \"Nigeria\", \"Togo\", \"Cabo Verde\", \"Gabon\", \"Mali\", \"South Africa\", \"Burundi\", \"Sierra Leone\", \"Ivory Coast\", \"Burkina Faso\", \"Benin\", \"Cameroon\", \"R\\u00e9union\", \"Uganda\", \"Zambia\", \"Guinea\", \"Eritrea\", \"Madagascar\", \"Mauritania\", \"DRC\", \"Chad\", \"Sao Tome and Principe\", \"Niger\", \"Mayotte\", \"Ghana\", \"Comoros\", \"Djibouti\", \"Mauritius\", \"Seychelles\"]}],\n",
       "                        {\"autosize\": false, \"height\": 1000, \"template\": {\"data\": {\"bar\": [{\"error_x\": {\"color\": \"#f2f5fa\"}, \"error_y\": {\"color\": \"#f2f5fa\"}, \"marker\": {\"line\": {\"color\": \"rgb(17,17,17)\", \"width\": 0.5}}, \"type\": \"bar\"}], \"barpolar\": [{\"marker\": {\"line\": {\"color\": \"rgb(17,17,17)\", \"width\": 0.5}}, \"type\": \"barpolar\"}], \"carpet\": [{\"aaxis\": {\"endlinecolor\": \"#A2B1C6\", \"gridcolor\": \"#506784\", \"linecolor\": \"#506784\", \"minorgridcolor\": \"#506784\", \"startlinecolor\": \"#A2B1C6\"}, \"baxis\": {\"endlinecolor\": \"#A2B1C6\", \"gridcolor\": \"#506784\", \"linecolor\": \"#506784\", \"minorgridcolor\": \"#506784\", \"startlinecolor\": \"#A2B1C6\"}, \"type\": \"carpet\"}], \"choropleth\": [{\"colorbar\": {\"outlinewidth\": 0, \"ticks\": \"\"}, \"type\": \"choropleth\"}], \"contour\": [{\"colorbar\": {\"outlinewidth\": 0, \"ticks\": \"\"}, \"colorscale\": [[0.0, \"#0d0887\"], [0.1111111111111111, \"#46039f\"], [0.2222222222222222, \"#7201a8\"], [0.3333333333333333, \"#9c179e\"], [0.4444444444444444, \"#bd3786\"], [0.5555555555555556, \"#d8576b\"], [0.6666666666666666, \"#ed7953\"], [0.7777777777777778, \"#fb9f3a\"], [0.8888888888888888, \"#fdca26\"], [1.0, \"#f0f921\"]], \"type\": \"contour\"}], \"contourcarpet\": [{\"colorbar\": {\"outlinewidth\": 0, \"ticks\": \"\"}, \"type\": \"contourcarpet\"}], \"heatmap\": [{\"colorbar\": {\"outlinewidth\": 0, \"ticks\": \"\"}, \"colorscale\": [[0.0, \"#0d0887\"], [0.1111111111111111, \"#46039f\"], [0.2222222222222222, \"#7201a8\"], [0.3333333333333333, \"#9c179e\"], [0.4444444444444444, \"#bd3786\"], [0.5555555555555556, \"#d8576b\"], [0.6666666666666666, \"#ed7953\"], [0.7777777777777778, \"#fb9f3a\"], [0.8888888888888888, \"#fdca26\"], [1.0, \"#f0f921\"]], \"type\": \"heatmap\"}], \"heatmapgl\": [{\"colorbar\": {\"outlinewidth\": 0, \"ticks\": \"\"}, \"colorscale\": [[0.0, \"#0d0887\"], [0.1111111111111111, \"#46039f\"], [0.2222222222222222, \"#7201a8\"], [0.3333333333333333, \"#9c179e\"], [0.4444444444444444, \"#bd3786\"], [0.5555555555555556, \"#d8576b\"], [0.6666666666666666, \"#ed7953\"], [0.7777777777777778, \"#fb9f3a\"], [0.8888888888888888, \"#fdca26\"], [1.0, \"#f0f921\"]], \"type\": \"heatmapgl\"}], \"histogram\": [{\"marker\": {\"colorbar\": {\"outlinewidth\": 0, \"ticks\": \"\"}}, \"type\": \"histogram\"}], \"histogram2d\": [{\"colorbar\": {\"outlinewidth\": 0, \"ticks\": \"\"}, \"colorscale\": [[0.0, \"#0d0887\"], [0.1111111111111111, \"#46039f\"], [0.2222222222222222, \"#7201a8\"], [0.3333333333333333, \"#9c179e\"], [0.4444444444444444, \"#bd3786\"], [0.5555555555555556, \"#d8576b\"], [0.6666666666666666, \"#ed7953\"], [0.7777777777777778, \"#fb9f3a\"], [0.8888888888888888, \"#fdca26\"], [1.0, \"#f0f921\"]], \"type\": \"histogram2d\"}], \"histogram2dcontour\": [{\"colorbar\": {\"outlinewidth\": 0, \"ticks\": \"\"}, \"colorscale\": [[0.0, \"#0d0887\"], [0.1111111111111111, \"#46039f\"], [0.2222222222222222, \"#7201a8\"], [0.3333333333333333, \"#9c179e\"], [0.4444444444444444, \"#bd3786\"], [0.5555555555555556, \"#d8576b\"], [0.6666666666666666, \"#ed7953\"], [0.7777777777777778, \"#fb9f3a\"], [0.8888888888888888, \"#fdca26\"], [1.0, \"#f0f921\"]], \"type\": \"histogram2dcontour\"}], \"mesh3d\": [{\"colorbar\": {\"outlinewidth\": 0, \"ticks\": \"\"}, \"type\": \"mesh3d\"}], \"parcoords\": [{\"line\": {\"colorbar\": {\"outlinewidth\": 0, \"ticks\": \"\"}}, \"type\": \"parcoords\"}], \"scatter\": [{\"marker\": {\"line\": {\"color\": \"#283442\"}}, \"type\": \"scatter\"}], \"scatter3d\": [{\"line\": {\"colorbar\": {\"outlinewidth\": 0, \"ticks\": \"\"}}, \"marker\": {\"colorbar\": {\"outlinewidth\": 0, \"ticks\": \"\"}}, \"type\": \"scatter3d\"}], \"scattercarpet\": [{\"marker\": {\"colorbar\": {\"outlinewidth\": 0, \"ticks\": \"\"}}, \"type\": \"scattercarpet\"}], \"scattergeo\": [{\"marker\": {\"colorbar\": {\"outlinewidth\": 0, \"ticks\": \"\"}}, \"type\": \"scattergeo\"}], \"scattergl\": [{\"marker\": {\"line\": {\"color\": \"#283442\"}}, \"type\": \"scattergl\"}], \"scattermapbox\": [{\"marker\": {\"colorbar\": {\"outlinewidth\": 0, \"ticks\": \"\"}}, \"type\": \"scattermapbox\"}], \"scatterpolar\": [{\"marker\": {\"colorbar\": {\"outlinewidth\": 0, \"ticks\": \"\"}}, \"type\": \"scatterpolar\"}], \"scatterpolargl\": [{\"marker\": {\"colorbar\": {\"outlinewidth\": 0, \"ticks\": \"\"}}, \"type\": \"scatterpolargl\"}], \"scatterternary\": [{\"marker\": {\"colorbar\": {\"outlinewidth\": 0, \"ticks\": \"\"}}, \"type\": \"scatterternary\"}], \"surface\": [{\"colorbar\": {\"outlinewidth\": 0, \"ticks\": \"\"}, \"colorscale\": [[0.0, \"#0d0887\"], [0.1111111111111111, \"#46039f\"], [0.2222222222222222, \"#7201a8\"], [0.3333333333333333, \"#9c179e\"], [0.4444444444444444, \"#bd3786\"], [0.5555555555555556, \"#d8576b\"], [0.6666666666666666, \"#ed7953\"], [0.7777777777777778, \"#fb9f3a\"], [0.8888888888888888, \"#fdca26\"], [1.0, \"#f0f921\"]], \"type\": \"surface\"}], \"table\": [{\"cells\": {\"fill\": {\"color\": \"#506784\"}, \"line\": {\"color\": \"rgb(17,17,17)\"}}, \"header\": {\"fill\": {\"color\": \"#2a3f5f\"}, \"line\": {\"color\": \"rgb(17,17,17)\"}}, \"type\": \"table\"}]}, \"layout\": {\"annotationdefaults\": {\"arrowcolor\": \"#f2f5fa\", \"arrowhead\": 0, \"arrowwidth\": 1}, \"colorscale\": {\"diverging\": [[0, \"#8e0152\"], [0.1, \"#c51b7d\"], [0.2, \"#de77ae\"], [0.3, \"#f1b6da\"], [0.4, \"#fde0ef\"], [0.5, \"#f7f7f7\"], [0.6, \"#e6f5d0\"], [0.7, \"#b8e186\"], [0.8, \"#7fbc41\"], [0.9, \"#4d9221\"], [1, \"#276419\"]], \"sequential\": [[0.0, \"#0d0887\"], [0.1111111111111111, \"#46039f\"], [0.2222222222222222, \"#7201a8\"], [0.3333333333333333, \"#9c179e\"], [0.4444444444444444, \"#bd3786\"], [0.5555555555555556, \"#d8576b\"], [0.6666666666666666, \"#ed7953\"], [0.7777777777777778, \"#fb9f3a\"], [0.8888888888888888, \"#fdca26\"], [1.0, \"#f0f921\"]], \"sequentialminus\": [[0.0, \"#0d0887\"], [0.1111111111111111, \"#46039f\"], [0.2222222222222222, \"#7201a8\"], [0.3333333333333333, \"#9c179e\"], [0.4444444444444444, \"#bd3786\"], [0.5555555555555556, \"#d8576b\"], [0.6666666666666666, \"#ed7953\"], [0.7777777777777778, \"#fb9f3a\"], [0.8888888888888888, \"#fdca26\"], [1.0, \"#f0f921\"]]}, \"colorway\": [\"#636efa\", \"#EF553B\", \"#00cc96\", \"#ab63fa\", \"#FFA15A\", \"#19d3f3\", \"#FF6692\", \"#B6E880\", \"#FF97FF\", \"#FECB52\"], \"font\": {\"color\": \"#f2f5fa\"}, \"geo\": {\"bgcolor\": \"rgb(17,17,17)\", \"lakecolor\": \"rgb(17,17,17)\", \"landcolor\": \"rgb(17,17,17)\", \"showlakes\": true, \"showland\": true, \"subunitcolor\": \"#506784\"}, \"hoverlabel\": {\"align\": \"left\"}, \"hovermode\": \"closest\", \"mapbox\": {\"style\": \"dark\"}, \"paper_bgcolor\": \"rgb(17,17,17)\", \"plot_bgcolor\": \"rgb(17,17,17)\", \"polar\": {\"angularaxis\": {\"gridcolor\": \"#506784\", \"linecolor\": \"#506784\", \"ticks\": \"\"}, \"bgcolor\": \"rgb(17,17,17)\", \"radialaxis\": {\"gridcolor\": \"#506784\", \"linecolor\": \"#506784\", \"ticks\": \"\"}}, \"scene\": {\"xaxis\": {\"backgroundcolor\": \"rgb(17,17,17)\", \"gridcolor\": \"#506784\", \"gridwidth\": 2, \"linecolor\": \"#506784\", \"showbackground\": true, \"ticks\": \"\", \"zerolinecolor\": \"#C8D4E3\"}, \"yaxis\": {\"backgroundcolor\": \"rgb(17,17,17)\", \"gridcolor\": \"#506784\", \"gridwidth\": 2, \"linecolor\": \"#506784\", \"showbackground\": true, \"ticks\": \"\", \"zerolinecolor\": \"#C8D4E3\"}, \"zaxis\": {\"backgroundcolor\": \"rgb(17,17,17)\", \"gridcolor\": \"#506784\", \"gridwidth\": 2, \"linecolor\": \"#506784\", \"showbackground\": true, \"ticks\": \"\", \"zerolinecolor\": \"#C8D4E3\"}}, \"shapedefaults\": {\"line\": {\"color\": \"#f2f5fa\"}}, \"sliderdefaults\": {\"bgcolor\": \"#C8D4E3\", \"bordercolor\": \"rgb(17,17,17)\", \"borderwidth\": 1, \"tickwidth\": 0}, \"ternary\": {\"aaxis\": {\"gridcolor\": \"#506784\", \"linecolor\": \"#506784\", \"ticks\": \"\"}, \"baxis\": {\"gridcolor\": \"#506784\", \"linecolor\": \"#506784\", \"ticks\": \"\"}, \"bgcolor\": \"rgb(17,17,17)\", \"caxis\": {\"gridcolor\": \"#506784\", \"linecolor\": \"#506784\", \"ticks\": \"\"}}, \"title\": {\"x\": 0.05}, \"updatemenudefaults\": {\"bgcolor\": \"#506784\", \"borderwidth\": 0}, \"xaxis\": {\"automargin\": true, \"gridcolor\": \"#283442\", \"linecolor\": \"#506784\", \"ticks\": \"\", \"zerolinecolor\": \"#283442\", \"zerolinewidth\": 2}, \"yaxis\": {\"automargin\": true, \"gridcolor\": \"#283442\", \"linecolor\": \"#506784\", \"ticks\": \"\", \"zerolinecolor\": \"#283442\", \"zerolinewidth\": 2}}}, \"title\": {\"font\": {\"color\": \"Cyan\", \"size\": 14}, \"text\": \"<b>COVID19 RECOVERY RATE OF AFRICAN COUNTRIES/TERRITORIES: August 13, 2020</b>\", \"x\": 0.5, \"xanchor\": \"center\", \"y\": 0.93, \"yanchor\": \"top\"}, \"width\": 1000, \"xaxis\": {\"title\": {\"font\": {\"color\": \"#BDBDBD\", \"size\": 18}, \"text\": \"<b>Recovery Rate(%)</b>\"}}, \"yaxis\": {\"tickprefix\": \"      \", \"title\": {\"font\": {\"color\": \"#BDBDBD\", \"size\": 18}, \"text\": \"<b>Country</b>\"}}},\n",
       "                        {\"responsive\": true}\n",
       "                    ).then(function(){\n",
       "                            \n",
       "var gd = document.getElementById('bf45320a-058f-4664-b246-1148594b2797');\n",
       "var x = new MutationObserver(function (mutations, observer) {{\n",
       "        var display = window.getComputedStyle(gd).display;\n",
       "        if (!display || display === 'none') {{\n",
       "            console.log([gd, 'removed!']);\n",
       "            Plotly.purge(gd);\n",
       "            observer.disconnect();\n",
       "        }}\n",
       "}});\n",
       "\n",
       "// Listen for the removal of the full notebook cells\n",
       "var notebookContainer = gd.closest('#notebook-container');\n",
       "if (notebookContainer) {{\n",
       "    x.observe(notebookContainer, {childList: true});\n",
       "}}\n",
       "\n",
       "// Listen for the clearing of the current output cell\n",
       "var outputEl = gd.closest('.output');\n",
       "if (outputEl) {{\n",
       "    x.observe(outputEl, {childList: true});\n",
       "}}\n",
       "\n",
       "                        })\n",
       "                };\n",
       "                });\n",
       "            </script>\n",
       "        </div>"
      ]
     },
     "metadata": {},
     "output_type": "display_data"
    }
   ],
   "source": [
    "fig = go.Figure()\n",
    "\n",
    "fig.add_trace(go.Bar(y = african_confirmed100['Country_Other'][::-1],x=african_confirmed100['RecoveryRate'][::-1],\n",
    "                     text=african_confirmed100['RecoveryRate'][::-1],textposition='outside',name = \"Afria\",marker_color='LimeGreen',orientation='h',\n",
    "#                   \n",
    "))\n",
    "fig.update_layout(\n",
    "    template='plotly_dark',\n",
    "    title={\n",
    "        'text': '<b>COVID19 RECOVERY RATE OF AFRICAN COUNTRIES/TERRITORIES: '  + date_string +'</b>',\n",
    "        'y':0.93,\n",
    "        'x':0.5,\n",
    "        'xanchor': 'center',\n",
    "        'yanchor': 'top',\n",
    "        'font_color':'Cyan',\n",
    "        'font_size':14},\n",
    "    xaxis=dict(title='<b>Recovery Rate(%)</b>',titlefont_size=18, titlefont=dict(color='#BDBDBD')),\n",
    "    yaxis=dict(title='<b>Country</b>',titlefont_size=18, tickprefix=\"      \", titlefont=dict(color='#BDBDBD')),\n",
    "    autosize=False,\n",
    "    width=1000,\n",
    "    height=1000,     \n",
    ")\n",
    "\n",
    "fig.show()\n"
   ]
  },
  {
   "cell_type": "markdown",
   "metadata": {},
   "source": [
    "##  Mortality Rate of Countries with up to 100 Confirmed Cases"
   ]
  },
  {
   "cell_type": "code",
   "execution_count": 94,
   "metadata": {},
   "outputs": [
    {
     "data": {
      "text/html": [
       "<div>\n",
       "<style scoped>\n",
       "    .dataframe tbody tr th:only-of-type {\n",
       "        vertical-align: middle;\n",
       "    }\n",
       "\n",
       "    .dataframe tbody tr th {\n",
       "        vertical-align: top;\n",
       "    }\n",
       "\n",
       "    .dataframe thead th {\n",
       "        text-align: right;\n",
       "    }\n",
       "</style>\n",
       "<table border=\"1\" class=\"dataframe\">\n",
       "  <thead>\n",
       "    <tr style=\"text-align: right;\">\n",
       "      <th></th>\n",
       "      <th>Country_Other</th>\n",
       "      <th>Total_Cases</th>\n",
       "      <th>Total_Deaths</th>\n",
       "    </tr>\n",
       "  </thead>\n",
       "  <tbody>\n",
       "    <tr>\n",
       "      <td>0</td>\n",
       "      <td>South Africa</td>\n",
       "      <td>572865</td>\n",
       "      <td>11270</td>\n",
       "    </tr>\n",
       "    <tr>\n",
       "      <td>1</td>\n",
       "      <td>Egypt</td>\n",
       "      <td>96108</td>\n",
       "      <td>5107</td>\n",
       "    </tr>\n",
       "    <tr>\n",
       "      <td>2</td>\n",
       "      <td>Nigeria</td>\n",
       "      <td>48116</td>\n",
       "      <td>966</td>\n",
       "    </tr>\n",
       "  </tbody>\n",
       "</table>\n",
       "</div>"
      ],
      "text/plain": [
       "  Country_Other  Total_Cases  Total_Deaths\n",
       "0  South Africa       572865         11270\n",
       "1         Egypt        96108          5107\n",
       "2       Nigeria        48116           966"
      ]
     },
     "execution_count": 94,
     "metadata": {},
     "output_type": "execute_result"
    }
   ],
   "source": [
    "african_mortality_rate =  pd.DataFrame()\n",
    "african_mortality_rate['Country_Other'] = african_countries_inview['Country_Other']\n",
    "african_mortality_rate['Total_Cases'] = african_countries_inview['Total_Cases']\n",
    "african_mortality_rate['Total_Deaths'] = african_countries_inview['Total_Deaths']\n",
    "african_mortality_rate.head(3)"
   ]
  },
  {
   "cell_type": "code",
   "execution_count": 95,
   "metadata": {},
   "outputs": [
    {
     "data": {
      "text/html": [
       "<div>\n",
       "<style scoped>\n",
       "    .dataframe tbody tr th:only-of-type {\n",
       "        vertical-align: middle;\n",
       "    }\n",
       "\n",
       "    .dataframe tbody tr th {\n",
       "        vertical-align: top;\n",
       "    }\n",
       "\n",
       "    .dataframe thead th {\n",
       "        text-align: right;\n",
       "    }\n",
       "</style>\n",
       "<table border=\"1\" class=\"dataframe\">\n",
       "  <thead>\n",
       "    <tr style=\"text-align: right;\">\n",
       "      <th></th>\n",
       "      <th>Country_Other</th>\n",
       "      <th>Total_Cases</th>\n",
       "      <th>Total_Deaths</th>\n",
       "      <th>Mortality_Rate</th>\n",
       "    </tr>\n",
       "  </thead>\n",
       "  <tbody>\n",
       "    <tr>\n",
       "      <td>0</td>\n",
       "      <td>South Africa</td>\n",
       "      <td>572865</td>\n",
       "      <td>11270</td>\n",
       "      <td>1.97</td>\n",
       "    </tr>\n",
       "    <tr>\n",
       "      <td>1</td>\n",
       "      <td>Egypt</td>\n",
       "      <td>96108</td>\n",
       "      <td>5107</td>\n",
       "      <td>5.31</td>\n",
       "    </tr>\n",
       "    <tr>\n",
       "      <td>2</td>\n",
       "      <td>Nigeria</td>\n",
       "      <td>48116</td>\n",
       "      <td>966</td>\n",
       "      <td>2.01</td>\n",
       "    </tr>\n",
       "  </tbody>\n",
       "</table>\n",
       "</div>"
      ],
      "text/plain": [
       "  Country_Other  Total_Cases  Total_Deaths  Mortality_Rate\n",
       "0  South Africa       572865         11270            1.97\n",
       "1         Egypt        96108          5107            5.31\n",
       "2       Nigeria        48116           966            2.01"
      ]
     },
     "execution_count": 95,
     "metadata": {},
     "output_type": "execute_result"
    }
   ],
   "source": [
    "african_mortality_rate['Mortality_Rate'] = round((african_countries_inview['Total_Deaths']/african_countries_inview['Total_Cases'])*100,2)\n",
    "\n",
    "african_mortality_rate.head(3)"
   ]
  },
  {
   "cell_type": "code",
   "execution_count": 96,
   "metadata": {},
   "outputs": [
    {
     "data": {
      "text/html": [
       "<div>\n",
       "<style scoped>\n",
       "    .dataframe tbody tr th:only-of-type {\n",
       "        vertical-align: middle;\n",
       "    }\n",
       "\n",
       "    .dataframe tbody tr th {\n",
       "        vertical-align: top;\n",
       "    }\n",
       "\n",
       "    .dataframe thead th {\n",
       "        text-align: right;\n",
       "    }\n",
       "</style>\n",
       "<table border=\"1\" class=\"dataframe\">\n",
       "  <thead>\n",
       "    <tr style=\"text-align: right;\">\n",
       "      <th></th>\n",
       "      <th>Country_Other</th>\n",
       "      <th>Total_Cases</th>\n",
       "      <th>Total_Deaths</th>\n",
       "      <th>Mortality_Rate</th>\n",
       "    </tr>\n",
       "  </thead>\n",
       "  <tbody>\n",
       "    <tr>\n",
       "      <td>0</td>\n",
       "      <td>Chad</td>\n",
       "      <td>949</td>\n",
       "      <td>76</td>\n",
       "      <td>8.01</td>\n",
       "    </tr>\n",
       "    <tr>\n",
       "      <td>1</td>\n",
       "      <td>Liberia</td>\n",
       "      <td>1252</td>\n",
       "      <td>82</td>\n",
       "      <td>6.55</td>\n",
       "    </tr>\n",
       "    <tr>\n",
       "      <td>2</td>\n",
       "      <td>Sudan</td>\n",
       "      <td>12115</td>\n",
       "      <td>792</td>\n",
       "      <td>6.54</td>\n",
       "    </tr>\n",
       "  </tbody>\n",
       "</table>\n",
       "</div>"
      ],
      "text/plain": [
       "  Country_Other  Total_Cases  Total_Deaths  Mortality_Rate\n",
       "0          Chad          949            76            8.01\n",
       "1       Liberia         1252            82            6.55\n",
       "2         Sudan        12115           792            6.54"
      ]
     },
     "execution_count": 96,
     "metadata": {},
     "output_type": "execute_result"
    }
   ],
   "source": [
    "african_mortality100 = african_mortality_rate[african_mortality_rate['Total_Cases']>=100]\n",
    "african_mortality100 = african_mortality100.sort_values('Mortality_Rate', ascending=False)\n",
    "african_mortality100.reset_index(drop=True, inplace=True)\n",
    "african_mortality100.head(3)"
   ]
  },
  {
   "cell_type": "code",
   "execution_count": 97,
   "metadata": {},
   "outputs": [
    {
     "data": {
      "application/vnd.plotly.v1+json": {
       "config": {
        "plotlyServerURL": "https://plot.ly"
       },
       "data": [
        {
         "marker": {
          "color": "Crimson"
         },
         "name": "Afria",
         "orientation": "h",
         "text": [
          0,
          0,
          0.24,
          0.25,
          0.36,
          0.53,
          0.61,
          0.63,
          0.63,
          0.66,
          0.72,
          0.76,
          0.81,
          1.07,
          1.1,
          1.2,
          1.25,
          1.31,
          1.39,
          1.54,
          1.6,
          1.6,
          1.7,
          1.72,
          1.75,
          1.81,
          1.83,
          1.89,
          1.9,
          1.91,
          1.97,
          2.01,
          2.08,
          2.19,
          2.36,
          2.36,
          2.44,
          2.57,
          2.76,
          2.83,
          2.84,
          2.87,
          2.88,
          2.91,
          3.11,
          3.56,
          3.61,
          4.13,
          4.4,
          4.41,
          4.81,
          5.31,
          5.94,
          6.54,
          6.55,
          8.01
         ],
         "textposition": "outside",
         "type": "bar",
         "x": [
          0,
          0,
          0.24,
          0.25,
          0.36,
          0.53,
          0.61,
          0.63,
          0.63,
          0.66,
          0.72,
          0.76,
          0.81,
          1.07,
          1.1,
          1.2,
          1.25,
          1.31,
          1.39,
          1.54,
          1.6,
          1.6,
          1.7,
          1.72,
          1.75,
          1.81,
          1.83,
          1.89,
          1.9,
          1.91,
          1.97,
          2.01,
          2.08,
          2.19,
          2.36,
          2.36,
          2.44,
          2.57,
          2.76,
          2.83,
          2.84,
          2.87,
          2.88,
          2.91,
          3.11,
          3.56,
          3.61,
          4.13,
          4.4,
          4.41,
          4.81,
          5.31,
          5.94,
          6.54,
          6.55,
          8.01
         ],
         "y": [
          "Seychelles",
          "Eritrea",
          "Burundi",
          "Botswana",
          "Rwanda",
          "Ghana",
          "Guinea",
          "Ivory Coast",
          "Gabon",
          "Réunion",
          "Mozambique",
          "Namibia",
          "Uganda",
          "Cabo Verde",
          "Djibouti",
          "Madagascar",
          "Mayotte",
          "CAR",
          "Guinea-Bissau",
          "Morocco",
          "Kenya",
          "Congo",
          "Sao Tome and Principe",
          "Equatorial Guinea",
          "Comoros",
          "Eswatini",
          "Ethiopia",
          "Benin",
          "South Sudan",
          "Libya",
          "South Africa",
          "Nigeria",
          "Senegal",
          "Cameroon",
          "Mauritania",
          "Togo",
          "DRC",
          "Zimbabwe",
          "Gambia",
          "Lesotho",
          "Zambia",
          "Tunisia",
          "Somalia",
          "Mauritius",
          "Malawi",
          "Sierra Leone",
          "Algeria",
          "Tanzania",
          "Burkina Faso",
          "Angola",
          "Mali",
          "Egypt",
          "Niger",
          "Sudan",
          "Liberia",
          "Chad"
         ]
        }
       ],
       "layout": {
        "autosize": false,
        "height": 1000,
        "template": {
         "data": {
          "bar": [
           {
            "error_x": {
             "color": "#f2f5fa"
            },
            "error_y": {
             "color": "#f2f5fa"
            },
            "marker": {
             "line": {
              "color": "rgb(17,17,17)",
              "width": 0.5
             }
            },
            "type": "bar"
           }
          ],
          "barpolar": [
           {
            "marker": {
             "line": {
              "color": "rgb(17,17,17)",
              "width": 0.5
             }
            },
            "type": "barpolar"
           }
          ],
          "carpet": [
           {
            "aaxis": {
             "endlinecolor": "#A2B1C6",
             "gridcolor": "#506784",
             "linecolor": "#506784",
             "minorgridcolor": "#506784",
             "startlinecolor": "#A2B1C6"
            },
            "baxis": {
             "endlinecolor": "#A2B1C6",
             "gridcolor": "#506784",
             "linecolor": "#506784",
             "minorgridcolor": "#506784",
             "startlinecolor": "#A2B1C6"
            },
            "type": "carpet"
           }
          ],
          "choropleth": [
           {
            "colorbar": {
             "outlinewidth": 0,
             "ticks": ""
            },
            "type": "choropleth"
           }
          ],
          "contour": [
           {
            "colorbar": {
             "outlinewidth": 0,
             "ticks": ""
            },
            "colorscale": [
             [
              0,
              "#0d0887"
             ],
             [
              0.1111111111111111,
              "#46039f"
             ],
             [
              0.2222222222222222,
              "#7201a8"
             ],
             [
              0.3333333333333333,
              "#9c179e"
             ],
             [
              0.4444444444444444,
              "#bd3786"
             ],
             [
              0.5555555555555556,
              "#d8576b"
             ],
             [
              0.6666666666666666,
              "#ed7953"
             ],
             [
              0.7777777777777778,
              "#fb9f3a"
             ],
             [
              0.8888888888888888,
              "#fdca26"
             ],
             [
              1,
              "#f0f921"
             ]
            ],
            "type": "contour"
           }
          ],
          "contourcarpet": [
           {
            "colorbar": {
             "outlinewidth": 0,
             "ticks": ""
            },
            "type": "contourcarpet"
           }
          ],
          "heatmap": [
           {
            "colorbar": {
             "outlinewidth": 0,
             "ticks": ""
            },
            "colorscale": [
             [
              0,
              "#0d0887"
             ],
             [
              0.1111111111111111,
              "#46039f"
             ],
             [
              0.2222222222222222,
              "#7201a8"
             ],
             [
              0.3333333333333333,
              "#9c179e"
             ],
             [
              0.4444444444444444,
              "#bd3786"
             ],
             [
              0.5555555555555556,
              "#d8576b"
             ],
             [
              0.6666666666666666,
              "#ed7953"
             ],
             [
              0.7777777777777778,
              "#fb9f3a"
             ],
             [
              0.8888888888888888,
              "#fdca26"
             ],
             [
              1,
              "#f0f921"
             ]
            ],
            "type": "heatmap"
           }
          ],
          "heatmapgl": [
           {
            "colorbar": {
             "outlinewidth": 0,
             "ticks": ""
            },
            "colorscale": [
             [
              0,
              "#0d0887"
             ],
             [
              0.1111111111111111,
              "#46039f"
             ],
             [
              0.2222222222222222,
              "#7201a8"
             ],
             [
              0.3333333333333333,
              "#9c179e"
             ],
             [
              0.4444444444444444,
              "#bd3786"
             ],
             [
              0.5555555555555556,
              "#d8576b"
             ],
             [
              0.6666666666666666,
              "#ed7953"
             ],
             [
              0.7777777777777778,
              "#fb9f3a"
             ],
             [
              0.8888888888888888,
              "#fdca26"
             ],
             [
              1,
              "#f0f921"
             ]
            ],
            "type": "heatmapgl"
           }
          ],
          "histogram": [
           {
            "marker": {
             "colorbar": {
              "outlinewidth": 0,
              "ticks": ""
             }
            },
            "type": "histogram"
           }
          ],
          "histogram2d": [
           {
            "colorbar": {
             "outlinewidth": 0,
             "ticks": ""
            },
            "colorscale": [
             [
              0,
              "#0d0887"
             ],
             [
              0.1111111111111111,
              "#46039f"
             ],
             [
              0.2222222222222222,
              "#7201a8"
             ],
             [
              0.3333333333333333,
              "#9c179e"
             ],
             [
              0.4444444444444444,
              "#bd3786"
             ],
             [
              0.5555555555555556,
              "#d8576b"
             ],
             [
              0.6666666666666666,
              "#ed7953"
             ],
             [
              0.7777777777777778,
              "#fb9f3a"
             ],
             [
              0.8888888888888888,
              "#fdca26"
             ],
             [
              1,
              "#f0f921"
             ]
            ],
            "type": "histogram2d"
           }
          ],
          "histogram2dcontour": [
           {
            "colorbar": {
             "outlinewidth": 0,
             "ticks": ""
            },
            "colorscale": [
             [
              0,
              "#0d0887"
             ],
             [
              0.1111111111111111,
              "#46039f"
             ],
             [
              0.2222222222222222,
              "#7201a8"
             ],
             [
              0.3333333333333333,
              "#9c179e"
             ],
             [
              0.4444444444444444,
              "#bd3786"
             ],
             [
              0.5555555555555556,
              "#d8576b"
             ],
             [
              0.6666666666666666,
              "#ed7953"
             ],
             [
              0.7777777777777778,
              "#fb9f3a"
             ],
             [
              0.8888888888888888,
              "#fdca26"
             ],
             [
              1,
              "#f0f921"
             ]
            ],
            "type": "histogram2dcontour"
           }
          ],
          "mesh3d": [
           {
            "colorbar": {
             "outlinewidth": 0,
             "ticks": ""
            },
            "type": "mesh3d"
           }
          ],
          "parcoords": [
           {
            "line": {
             "colorbar": {
              "outlinewidth": 0,
              "ticks": ""
             }
            },
            "type": "parcoords"
           }
          ],
          "scatter": [
           {
            "marker": {
             "line": {
              "color": "#283442"
             }
            },
            "type": "scatter"
           }
          ],
          "scatter3d": [
           {
            "line": {
             "colorbar": {
              "outlinewidth": 0,
              "ticks": ""
             }
            },
            "marker": {
             "colorbar": {
              "outlinewidth": 0,
              "ticks": ""
             }
            },
            "type": "scatter3d"
           }
          ],
          "scattercarpet": [
           {
            "marker": {
             "colorbar": {
              "outlinewidth": 0,
              "ticks": ""
             }
            },
            "type": "scattercarpet"
           }
          ],
          "scattergeo": [
           {
            "marker": {
             "colorbar": {
              "outlinewidth": 0,
              "ticks": ""
             }
            },
            "type": "scattergeo"
           }
          ],
          "scattergl": [
           {
            "marker": {
             "line": {
              "color": "#283442"
             }
            },
            "type": "scattergl"
           }
          ],
          "scattermapbox": [
           {
            "marker": {
             "colorbar": {
              "outlinewidth": 0,
              "ticks": ""
             }
            },
            "type": "scattermapbox"
           }
          ],
          "scatterpolar": [
           {
            "marker": {
             "colorbar": {
              "outlinewidth": 0,
              "ticks": ""
             }
            },
            "type": "scatterpolar"
           }
          ],
          "scatterpolargl": [
           {
            "marker": {
             "colorbar": {
              "outlinewidth": 0,
              "ticks": ""
             }
            },
            "type": "scatterpolargl"
           }
          ],
          "scatterternary": [
           {
            "marker": {
             "colorbar": {
              "outlinewidth": 0,
              "ticks": ""
             }
            },
            "type": "scatterternary"
           }
          ],
          "surface": [
           {
            "colorbar": {
             "outlinewidth": 0,
             "ticks": ""
            },
            "colorscale": [
             [
              0,
              "#0d0887"
             ],
             [
              0.1111111111111111,
              "#46039f"
             ],
             [
              0.2222222222222222,
              "#7201a8"
             ],
             [
              0.3333333333333333,
              "#9c179e"
             ],
             [
              0.4444444444444444,
              "#bd3786"
             ],
             [
              0.5555555555555556,
              "#d8576b"
             ],
             [
              0.6666666666666666,
              "#ed7953"
             ],
             [
              0.7777777777777778,
              "#fb9f3a"
             ],
             [
              0.8888888888888888,
              "#fdca26"
             ],
             [
              1,
              "#f0f921"
             ]
            ],
            "type": "surface"
           }
          ],
          "table": [
           {
            "cells": {
             "fill": {
              "color": "#506784"
             },
             "line": {
              "color": "rgb(17,17,17)"
             }
            },
            "header": {
             "fill": {
              "color": "#2a3f5f"
             },
             "line": {
              "color": "rgb(17,17,17)"
             }
            },
            "type": "table"
           }
          ]
         },
         "layout": {
          "annotationdefaults": {
           "arrowcolor": "#f2f5fa",
           "arrowhead": 0,
           "arrowwidth": 1
          },
          "colorscale": {
           "diverging": [
            [
             0,
             "#8e0152"
            ],
            [
             0.1,
             "#c51b7d"
            ],
            [
             0.2,
             "#de77ae"
            ],
            [
             0.3,
             "#f1b6da"
            ],
            [
             0.4,
             "#fde0ef"
            ],
            [
             0.5,
             "#f7f7f7"
            ],
            [
             0.6,
             "#e6f5d0"
            ],
            [
             0.7,
             "#b8e186"
            ],
            [
             0.8,
             "#7fbc41"
            ],
            [
             0.9,
             "#4d9221"
            ],
            [
             1,
             "#276419"
            ]
           ],
           "sequential": [
            [
             0,
             "#0d0887"
            ],
            [
             0.1111111111111111,
             "#46039f"
            ],
            [
             0.2222222222222222,
             "#7201a8"
            ],
            [
             0.3333333333333333,
             "#9c179e"
            ],
            [
             0.4444444444444444,
             "#bd3786"
            ],
            [
             0.5555555555555556,
             "#d8576b"
            ],
            [
             0.6666666666666666,
             "#ed7953"
            ],
            [
             0.7777777777777778,
             "#fb9f3a"
            ],
            [
             0.8888888888888888,
             "#fdca26"
            ],
            [
             1,
             "#f0f921"
            ]
           ],
           "sequentialminus": [
            [
             0,
             "#0d0887"
            ],
            [
             0.1111111111111111,
             "#46039f"
            ],
            [
             0.2222222222222222,
             "#7201a8"
            ],
            [
             0.3333333333333333,
             "#9c179e"
            ],
            [
             0.4444444444444444,
             "#bd3786"
            ],
            [
             0.5555555555555556,
             "#d8576b"
            ],
            [
             0.6666666666666666,
             "#ed7953"
            ],
            [
             0.7777777777777778,
             "#fb9f3a"
            ],
            [
             0.8888888888888888,
             "#fdca26"
            ],
            [
             1,
             "#f0f921"
            ]
           ]
          },
          "colorway": [
           "#636efa",
           "#EF553B",
           "#00cc96",
           "#ab63fa",
           "#FFA15A",
           "#19d3f3",
           "#FF6692",
           "#B6E880",
           "#FF97FF",
           "#FECB52"
          ],
          "font": {
           "color": "#f2f5fa"
          },
          "geo": {
           "bgcolor": "rgb(17,17,17)",
           "lakecolor": "rgb(17,17,17)",
           "landcolor": "rgb(17,17,17)",
           "showlakes": true,
           "showland": true,
           "subunitcolor": "#506784"
          },
          "hoverlabel": {
           "align": "left"
          },
          "hovermode": "closest",
          "mapbox": {
           "style": "dark"
          },
          "paper_bgcolor": "rgb(17,17,17)",
          "plot_bgcolor": "rgb(17,17,17)",
          "polar": {
           "angularaxis": {
            "gridcolor": "#506784",
            "linecolor": "#506784",
            "ticks": ""
           },
           "bgcolor": "rgb(17,17,17)",
           "radialaxis": {
            "gridcolor": "#506784",
            "linecolor": "#506784",
            "ticks": ""
           }
          },
          "scene": {
           "xaxis": {
            "backgroundcolor": "rgb(17,17,17)",
            "gridcolor": "#506784",
            "gridwidth": 2,
            "linecolor": "#506784",
            "showbackground": true,
            "ticks": "",
            "zerolinecolor": "#C8D4E3"
           },
           "yaxis": {
            "backgroundcolor": "rgb(17,17,17)",
            "gridcolor": "#506784",
            "gridwidth": 2,
            "linecolor": "#506784",
            "showbackground": true,
            "ticks": "",
            "zerolinecolor": "#C8D4E3"
           },
           "zaxis": {
            "backgroundcolor": "rgb(17,17,17)",
            "gridcolor": "#506784",
            "gridwidth": 2,
            "linecolor": "#506784",
            "showbackground": true,
            "ticks": "",
            "zerolinecolor": "#C8D4E3"
           }
          },
          "shapedefaults": {
           "line": {
            "color": "#f2f5fa"
           }
          },
          "sliderdefaults": {
           "bgcolor": "#C8D4E3",
           "bordercolor": "rgb(17,17,17)",
           "borderwidth": 1,
           "tickwidth": 0
          },
          "ternary": {
           "aaxis": {
            "gridcolor": "#506784",
            "linecolor": "#506784",
            "ticks": ""
           },
           "baxis": {
            "gridcolor": "#506784",
            "linecolor": "#506784",
            "ticks": ""
           },
           "bgcolor": "rgb(17,17,17)",
           "caxis": {
            "gridcolor": "#506784",
            "linecolor": "#506784",
            "ticks": ""
           }
          },
          "title": {
           "x": 0.05
          },
          "updatemenudefaults": {
           "bgcolor": "#506784",
           "borderwidth": 0
          },
          "xaxis": {
           "automargin": true,
           "gridcolor": "#283442",
           "linecolor": "#506784",
           "ticks": "",
           "zerolinecolor": "#283442",
           "zerolinewidth": 2
          },
          "yaxis": {
           "automargin": true,
           "gridcolor": "#283442",
           "linecolor": "#506784",
           "ticks": "",
           "zerolinecolor": "#283442",
           "zerolinewidth": 2
          }
         }
        },
        "title": {
         "font": {
          "color": "Cyan",
          "size": 12
         },
         "text": "<b>COVID19 MORTALITY RATE OF AFRICAN COUNTRIES/TERRITORIES: August 13, 2020</b>",
         "x": 0.55,
         "xanchor": "center",
         "y": 0.93,
         "yanchor": "top"
        },
        "width": 800,
        "xaxis": {
         "title": {
          "font": {
           "color": "#BDBDBD",
           "size": 18
          },
          "text": "<b>Mortality Rate(%)</b>"
         }
        },
        "yaxis": {
         "tickprefix": "      ",
         "title": {
          "font": {
           "color": "#BDBDBD",
           "size": 18
          },
          "text": "<b>Country</b>"
         }
        }
       }
      },
      "text/html": [
       "<div>\n",
       "        \n",
       "        \n",
       "            <div id=\"69276665-5b58-4e46-be27-2a1bf026c617\" class=\"plotly-graph-div\" style=\"height:1000px; width:800px;\"></div>\n",
       "            <script type=\"text/javascript\">\n",
       "                require([\"plotly\"], function(Plotly) {\n",
       "                    window.PLOTLYENV=window.PLOTLYENV || {};\n",
       "                    \n",
       "                if (document.getElementById(\"69276665-5b58-4e46-be27-2a1bf026c617\")) {\n",
       "                    Plotly.newPlot(\n",
       "                        '69276665-5b58-4e46-be27-2a1bf026c617',\n",
       "                        [{\"marker\": {\"color\": \"Crimson\"}, \"name\": \"Afria\", \"orientation\": \"h\", \"text\": [0.0, 0.0, 0.24, 0.25, 0.36, 0.53, 0.61, 0.63, 0.63, 0.66, 0.72, 0.76, 0.81, 1.07, 1.1, 1.2, 1.25, 1.31, 1.39, 1.54, 1.6, 1.6, 1.7, 1.72, 1.75, 1.81, 1.83, 1.89, 1.9, 1.91, 1.97, 2.01, 2.08, 2.19, 2.36, 2.36, 2.44, 2.57, 2.76, 2.83, 2.84, 2.87, 2.88, 2.91, 3.11, 3.56, 3.61, 4.13, 4.4, 4.41, 4.81, 5.31, 5.94, 6.54, 6.55, 8.01], \"textposition\": \"outside\", \"type\": \"bar\", \"x\": [0.0, 0.0, 0.24, 0.25, 0.36, 0.53, 0.61, 0.63, 0.63, 0.66, 0.72, 0.76, 0.81, 1.07, 1.1, 1.2, 1.25, 1.31, 1.39, 1.54, 1.6, 1.6, 1.7, 1.72, 1.75, 1.81, 1.83, 1.89, 1.9, 1.91, 1.97, 2.01, 2.08, 2.19, 2.36, 2.36, 2.44, 2.57, 2.76, 2.83, 2.84, 2.87, 2.88, 2.91, 3.11, 3.56, 3.61, 4.13, 4.4, 4.41, 4.81, 5.31, 5.94, 6.54, 6.55, 8.01], \"y\": [\"Seychelles\", \"Eritrea\", \"Burundi\", \"Botswana\", \"Rwanda\", \"Ghana\", \"Guinea\", \"Ivory Coast\", \"Gabon\", \"R\\u00e9union\", \"Mozambique\", \"Namibia\", \"Uganda\", \"Cabo Verde\", \"Djibouti\", \"Madagascar\", \"Mayotte\", \"CAR\", \"Guinea-Bissau\", \"Morocco\", \"Kenya\", \"Congo\", \"Sao Tome and Principe\", \"Equatorial Guinea\", \"Comoros\", \"Eswatini\", \"Ethiopia\", \"Benin\", \"South Sudan\", \"Libya\", \"South Africa\", \"Nigeria\", \"Senegal\", \"Cameroon\", \"Mauritania\", \"Togo\", \"DRC\", \"Zimbabwe\", \"Gambia\", \"Lesotho\", \"Zambia\", \"Tunisia\", \"Somalia\", \"Mauritius\", \"Malawi\", \"Sierra Leone\", \"Algeria\", \"Tanzania\", \"Burkina Faso\", \"Angola\", \"Mali\", \"Egypt\", \"Niger\", \"Sudan\", \"Liberia\", \"Chad\"]}],\n",
       "                        {\"autosize\": false, \"height\": 1000, \"template\": {\"data\": {\"bar\": [{\"error_x\": {\"color\": \"#f2f5fa\"}, \"error_y\": {\"color\": \"#f2f5fa\"}, \"marker\": {\"line\": {\"color\": \"rgb(17,17,17)\", \"width\": 0.5}}, \"type\": \"bar\"}], \"barpolar\": [{\"marker\": {\"line\": {\"color\": \"rgb(17,17,17)\", \"width\": 0.5}}, \"type\": \"barpolar\"}], \"carpet\": [{\"aaxis\": {\"endlinecolor\": \"#A2B1C6\", \"gridcolor\": \"#506784\", \"linecolor\": \"#506784\", \"minorgridcolor\": \"#506784\", \"startlinecolor\": \"#A2B1C6\"}, \"baxis\": {\"endlinecolor\": \"#A2B1C6\", \"gridcolor\": \"#506784\", \"linecolor\": \"#506784\", \"minorgridcolor\": \"#506784\", \"startlinecolor\": \"#A2B1C6\"}, \"type\": \"carpet\"}], \"choropleth\": [{\"colorbar\": {\"outlinewidth\": 0, \"ticks\": \"\"}, \"type\": \"choropleth\"}], \"contour\": [{\"colorbar\": {\"outlinewidth\": 0, \"ticks\": \"\"}, \"colorscale\": [[0.0, \"#0d0887\"], [0.1111111111111111, \"#46039f\"], [0.2222222222222222, \"#7201a8\"], [0.3333333333333333, \"#9c179e\"], [0.4444444444444444, \"#bd3786\"], [0.5555555555555556, \"#d8576b\"], [0.6666666666666666, \"#ed7953\"], [0.7777777777777778, \"#fb9f3a\"], [0.8888888888888888, \"#fdca26\"], [1.0, \"#f0f921\"]], \"type\": \"contour\"}], \"contourcarpet\": [{\"colorbar\": {\"outlinewidth\": 0, \"ticks\": \"\"}, \"type\": \"contourcarpet\"}], \"heatmap\": [{\"colorbar\": {\"outlinewidth\": 0, \"ticks\": \"\"}, \"colorscale\": [[0.0, \"#0d0887\"], [0.1111111111111111, \"#46039f\"], [0.2222222222222222, \"#7201a8\"], [0.3333333333333333, \"#9c179e\"], [0.4444444444444444, \"#bd3786\"], [0.5555555555555556, \"#d8576b\"], [0.6666666666666666, \"#ed7953\"], [0.7777777777777778, \"#fb9f3a\"], [0.8888888888888888, \"#fdca26\"], [1.0, \"#f0f921\"]], \"type\": \"heatmap\"}], \"heatmapgl\": [{\"colorbar\": {\"outlinewidth\": 0, \"ticks\": \"\"}, \"colorscale\": [[0.0, \"#0d0887\"], [0.1111111111111111, \"#46039f\"], [0.2222222222222222, \"#7201a8\"], [0.3333333333333333, \"#9c179e\"], [0.4444444444444444, \"#bd3786\"], [0.5555555555555556, \"#d8576b\"], [0.6666666666666666, \"#ed7953\"], [0.7777777777777778, \"#fb9f3a\"], [0.8888888888888888, \"#fdca26\"], [1.0, \"#f0f921\"]], \"type\": \"heatmapgl\"}], \"histogram\": [{\"marker\": {\"colorbar\": {\"outlinewidth\": 0, \"ticks\": \"\"}}, \"type\": \"histogram\"}], \"histogram2d\": [{\"colorbar\": {\"outlinewidth\": 0, \"ticks\": \"\"}, \"colorscale\": [[0.0, \"#0d0887\"], [0.1111111111111111, \"#46039f\"], [0.2222222222222222, \"#7201a8\"], [0.3333333333333333, \"#9c179e\"], [0.4444444444444444, \"#bd3786\"], [0.5555555555555556, \"#d8576b\"], [0.6666666666666666, \"#ed7953\"], [0.7777777777777778, \"#fb9f3a\"], [0.8888888888888888, \"#fdca26\"], [1.0, \"#f0f921\"]], \"type\": \"histogram2d\"}], \"histogram2dcontour\": [{\"colorbar\": {\"outlinewidth\": 0, \"ticks\": \"\"}, \"colorscale\": [[0.0, \"#0d0887\"], [0.1111111111111111, \"#46039f\"], [0.2222222222222222, \"#7201a8\"], [0.3333333333333333, \"#9c179e\"], [0.4444444444444444, \"#bd3786\"], [0.5555555555555556, \"#d8576b\"], [0.6666666666666666, \"#ed7953\"], [0.7777777777777778, \"#fb9f3a\"], [0.8888888888888888, \"#fdca26\"], [1.0, \"#f0f921\"]], \"type\": \"histogram2dcontour\"}], \"mesh3d\": [{\"colorbar\": {\"outlinewidth\": 0, \"ticks\": \"\"}, \"type\": \"mesh3d\"}], \"parcoords\": [{\"line\": {\"colorbar\": {\"outlinewidth\": 0, \"ticks\": \"\"}}, \"type\": \"parcoords\"}], \"scatter\": [{\"marker\": {\"line\": {\"color\": \"#283442\"}}, \"type\": \"scatter\"}], \"scatter3d\": [{\"line\": {\"colorbar\": {\"outlinewidth\": 0, \"ticks\": \"\"}}, \"marker\": {\"colorbar\": {\"outlinewidth\": 0, \"ticks\": \"\"}}, \"type\": \"scatter3d\"}], \"scattercarpet\": [{\"marker\": {\"colorbar\": {\"outlinewidth\": 0, \"ticks\": \"\"}}, \"type\": \"scattercarpet\"}], \"scattergeo\": [{\"marker\": {\"colorbar\": {\"outlinewidth\": 0, \"ticks\": \"\"}}, \"type\": \"scattergeo\"}], \"scattergl\": [{\"marker\": {\"line\": {\"color\": \"#283442\"}}, \"type\": \"scattergl\"}], \"scattermapbox\": [{\"marker\": {\"colorbar\": {\"outlinewidth\": 0, \"ticks\": \"\"}}, \"type\": \"scattermapbox\"}], \"scatterpolar\": [{\"marker\": {\"colorbar\": {\"outlinewidth\": 0, \"ticks\": \"\"}}, \"type\": \"scatterpolar\"}], \"scatterpolargl\": [{\"marker\": {\"colorbar\": {\"outlinewidth\": 0, \"ticks\": \"\"}}, \"type\": \"scatterpolargl\"}], \"scatterternary\": [{\"marker\": {\"colorbar\": {\"outlinewidth\": 0, \"ticks\": \"\"}}, \"type\": \"scatterternary\"}], \"surface\": [{\"colorbar\": {\"outlinewidth\": 0, \"ticks\": \"\"}, \"colorscale\": [[0.0, \"#0d0887\"], [0.1111111111111111, \"#46039f\"], [0.2222222222222222, \"#7201a8\"], [0.3333333333333333, \"#9c179e\"], [0.4444444444444444, \"#bd3786\"], [0.5555555555555556, \"#d8576b\"], [0.6666666666666666, \"#ed7953\"], [0.7777777777777778, \"#fb9f3a\"], [0.8888888888888888, \"#fdca26\"], [1.0, \"#f0f921\"]], \"type\": \"surface\"}], \"table\": [{\"cells\": {\"fill\": {\"color\": \"#506784\"}, \"line\": {\"color\": \"rgb(17,17,17)\"}}, \"header\": {\"fill\": {\"color\": \"#2a3f5f\"}, \"line\": {\"color\": \"rgb(17,17,17)\"}}, \"type\": \"table\"}]}, \"layout\": {\"annotationdefaults\": {\"arrowcolor\": \"#f2f5fa\", \"arrowhead\": 0, \"arrowwidth\": 1}, \"colorscale\": {\"diverging\": [[0, \"#8e0152\"], [0.1, \"#c51b7d\"], [0.2, \"#de77ae\"], [0.3, \"#f1b6da\"], [0.4, \"#fde0ef\"], [0.5, \"#f7f7f7\"], [0.6, \"#e6f5d0\"], [0.7, \"#b8e186\"], [0.8, \"#7fbc41\"], [0.9, \"#4d9221\"], [1, \"#276419\"]], \"sequential\": [[0.0, \"#0d0887\"], [0.1111111111111111, \"#46039f\"], [0.2222222222222222, \"#7201a8\"], [0.3333333333333333, \"#9c179e\"], [0.4444444444444444, \"#bd3786\"], [0.5555555555555556, \"#d8576b\"], [0.6666666666666666, \"#ed7953\"], [0.7777777777777778, \"#fb9f3a\"], [0.8888888888888888, \"#fdca26\"], [1.0, \"#f0f921\"]], \"sequentialminus\": [[0.0, \"#0d0887\"], [0.1111111111111111, \"#46039f\"], [0.2222222222222222, \"#7201a8\"], [0.3333333333333333, \"#9c179e\"], [0.4444444444444444, \"#bd3786\"], [0.5555555555555556, \"#d8576b\"], [0.6666666666666666, \"#ed7953\"], [0.7777777777777778, \"#fb9f3a\"], [0.8888888888888888, \"#fdca26\"], [1.0, \"#f0f921\"]]}, \"colorway\": [\"#636efa\", \"#EF553B\", \"#00cc96\", \"#ab63fa\", \"#FFA15A\", \"#19d3f3\", \"#FF6692\", \"#B6E880\", \"#FF97FF\", \"#FECB52\"], \"font\": {\"color\": \"#f2f5fa\"}, \"geo\": {\"bgcolor\": \"rgb(17,17,17)\", \"lakecolor\": \"rgb(17,17,17)\", \"landcolor\": \"rgb(17,17,17)\", \"showlakes\": true, \"showland\": true, \"subunitcolor\": \"#506784\"}, \"hoverlabel\": {\"align\": \"left\"}, \"hovermode\": \"closest\", \"mapbox\": {\"style\": \"dark\"}, \"paper_bgcolor\": \"rgb(17,17,17)\", \"plot_bgcolor\": \"rgb(17,17,17)\", \"polar\": {\"angularaxis\": {\"gridcolor\": \"#506784\", \"linecolor\": \"#506784\", \"ticks\": \"\"}, \"bgcolor\": \"rgb(17,17,17)\", \"radialaxis\": {\"gridcolor\": \"#506784\", \"linecolor\": \"#506784\", \"ticks\": \"\"}}, \"scene\": {\"xaxis\": {\"backgroundcolor\": \"rgb(17,17,17)\", \"gridcolor\": \"#506784\", \"gridwidth\": 2, \"linecolor\": \"#506784\", \"showbackground\": true, \"ticks\": \"\", \"zerolinecolor\": \"#C8D4E3\"}, \"yaxis\": {\"backgroundcolor\": \"rgb(17,17,17)\", \"gridcolor\": \"#506784\", \"gridwidth\": 2, \"linecolor\": \"#506784\", \"showbackground\": true, \"ticks\": \"\", \"zerolinecolor\": \"#C8D4E3\"}, \"zaxis\": {\"backgroundcolor\": \"rgb(17,17,17)\", \"gridcolor\": \"#506784\", \"gridwidth\": 2, \"linecolor\": \"#506784\", \"showbackground\": true, \"ticks\": \"\", \"zerolinecolor\": \"#C8D4E3\"}}, \"shapedefaults\": {\"line\": {\"color\": \"#f2f5fa\"}}, \"sliderdefaults\": {\"bgcolor\": \"#C8D4E3\", \"bordercolor\": \"rgb(17,17,17)\", \"borderwidth\": 1, \"tickwidth\": 0}, \"ternary\": {\"aaxis\": {\"gridcolor\": \"#506784\", \"linecolor\": \"#506784\", \"ticks\": \"\"}, \"baxis\": {\"gridcolor\": \"#506784\", \"linecolor\": \"#506784\", \"ticks\": \"\"}, \"bgcolor\": \"rgb(17,17,17)\", \"caxis\": {\"gridcolor\": \"#506784\", \"linecolor\": \"#506784\", \"ticks\": \"\"}}, \"title\": {\"x\": 0.05}, \"updatemenudefaults\": {\"bgcolor\": \"#506784\", \"borderwidth\": 0}, \"xaxis\": {\"automargin\": true, \"gridcolor\": \"#283442\", \"linecolor\": \"#506784\", \"ticks\": \"\", \"zerolinecolor\": \"#283442\", \"zerolinewidth\": 2}, \"yaxis\": {\"automargin\": true, \"gridcolor\": \"#283442\", \"linecolor\": \"#506784\", \"ticks\": \"\", \"zerolinecolor\": \"#283442\", \"zerolinewidth\": 2}}}, \"title\": {\"font\": {\"color\": \"Cyan\", \"size\": 12}, \"text\": \"<b>COVID19 MORTALITY RATE OF AFRICAN COUNTRIES/TERRITORIES: August 13, 2020</b>\", \"x\": 0.55, \"xanchor\": \"center\", \"y\": 0.93, \"yanchor\": \"top\"}, \"width\": 800, \"xaxis\": {\"title\": {\"font\": {\"color\": \"#BDBDBD\", \"size\": 18}, \"text\": \"<b>Mortality Rate(%)</b>\"}}, \"yaxis\": {\"tickprefix\": \"      \", \"title\": {\"font\": {\"color\": \"#BDBDBD\", \"size\": 18}, \"text\": \"<b>Country</b>\"}}},\n",
       "                        {\"responsive\": true}\n",
       "                    ).then(function(){\n",
       "                            \n",
       "var gd = document.getElementById('69276665-5b58-4e46-be27-2a1bf026c617');\n",
       "var x = new MutationObserver(function (mutations, observer) {{\n",
       "        var display = window.getComputedStyle(gd).display;\n",
       "        if (!display || display === 'none') {{\n",
       "            console.log([gd, 'removed!']);\n",
       "            Plotly.purge(gd);\n",
       "            observer.disconnect();\n",
       "        }}\n",
       "}});\n",
       "\n",
       "// Listen for the removal of the full notebook cells\n",
       "var notebookContainer = gd.closest('#notebook-container');\n",
       "if (notebookContainer) {{\n",
       "    x.observe(notebookContainer, {childList: true});\n",
       "}}\n",
       "\n",
       "// Listen for the clearing of the current output cell\n",
       "var outputEl = gd.closest('.output');\n",
       "if (outputEl) {{\n",
       "    x.observe(outputEl, {childList: true});\n",
       "}}\n",
       "\n",
       "                        })\n",
       "                };\n",
       "                });\n",
       "            </script>\n",
       "        </div>"
      ]
     },
     "metadata": {},
     "output_type": "display_data"
    }
   ],
   "source": [
    "fig = go.Figure()\n",
    "\n",
    "fig.add_trace(go.Bar(y = african_mortality100['Country_Other'][::-1],x=african_mortality100['Mortality_Rate'][::-1],\n",
    "                     text=african_mortality100['Mortality_Rate'][::-1],textposition='outside',name = \"Afria\",marker_color='Crimson',orientation='h',                  \n",
    "))\n",
    "fig.update_layout(\n",
    "    template='plotly_dark',\n",
    "    title={\n",
    "        'text': '<b>COVID19 MORTALITY RATE OF AFRICAN COUNTRIES/TERRITORIES: ' + date_string +'</b>',\n",
    "        'y':0.93,\n",
    "        'x':0.55,\n",
    "        'xanchor': 'center',\n",
    "        'yanchor': 'top',\n",
    "        'font_color':'Cyan',\n",
    "        'font_size':12},\n",
    "    xaxis=dict(title='<b>Mortality Rate(%)</b>',titlefont_size=18, titlefont=dict(color='#BDBDBD')),\n",
    "    yaxis=dict(title='<b>Country</b>',titlefont_size=18, tickprefix=\"      \", titlefont=dict(color='#BDBDBD')),\n",
    "    autosize=False,\n",
    "    width=800,\n",
    "    height=1000,     \n",
    ")\n",
    "\n",
    "fig.show()"
   ]
  },
  {
   "cell_type": "markdown",
   "metadata": {},
   "source": [
    "## New Cases of some African Countries"
   ]
  },
  {
   "cell_type": "code",
   "execution_count": 98,
   "metadata": {},
   "outputs": [],
   "source": [
    "countries_new_cases = pd.read_csv(\"../COVID19/World/NewCases/DailyCases\"+given_date+\".csv\")"
   ]
  },
  {
   "cell_type": "markdown",
   "metadata": {},
   "source": [
    "### South Africa"
   ]
  },
  {
   "cell_type": "code",
   "execution_count": 99,
   "metadata": {},
   "outputs": [],
   "source": [
    "sa = countries_new_cases[countries_new_cases['Country_Other'] == 'South Africa']"
   ]
  },
  {
   "cell_type": "code",
   "execution_count": 100,
   "metadata": {},
   "outputs": [
    {
     "data": {
      "application/vnd.plotly.v1+json": {
       "config": {
        "plotlyServerURL": "https://plot.ly"
       },
       "data": [
        {
         "marker": {
          "color": "#FFAA1D"
         },
         "name": "South Africa",
         "text": [
          "11554",
          "10496",
          "12757",
          "13172",
          "13373",
          "13285",
          "13449",
          "9300",
          "8170",
          "13150",
          "13104",
          "13944",
          "12204",
          "11233",
          "7096",
          "7232",
          "11362",
          "11046",
          "11014",
          "10107",
          "8195",
          "5377",
          "4456",
          "8559",
          "8307",
          "7292",
          "7712",
          "6671",
          "3739",
          "2511",
          "2810",
          "3946"
         ],
         "textposition": "outside",
         "type": "bar",
         "x": [
          "July13",
          "July14",
          "July15",
          "July16",
          "July17",
          "July18",
          "July19",
          "July20",
          "July21",
          "July22",
          "July23",
          "July24",
          "July25",
          "July26",
          "July27",
          "July28",
          "July29",
          "July30",
          "July31",
          "August01",
          "August02",
          "August03",
          "August04",
          "August05",
          "August06",
          "August07",
          "August08",
          "August09",
          "August10",
          "August11",
          "August12",
          "August13"
         ],
         "y": [
          11554,
          10496,
          12757,
          13172,
          13373,
          13285,
          13449,
          9300,
          8170,
          13150,
          13104,
          13944,
          12204,
          11233,
          7096,
          7232,
          11362,
          11046,
          11014,
          10107,
          8195,
          5377,
          4456,
          8559,
          8307,
          7292,
          7712,
          6671,
          3739,
          2511,
          2810,
          3946
         ]
        }
       ],
       "layout": {
        "template": {
         "data": {
          "bar": [
           {
            "error_x": {
             "color": "#2a3f5f"
            },
            "error_y": {
             "color": "#2a3f5f"
            },
            "marker": {
             "line": {
              "color": "#E5ECF6",
              "width": 0.5
             }
            },
            "type": "bar"
           }
          ],
          "barpolar": [
           {
            "marker": {
             "line": {
              "color": "#E5ECF6",
              "width": 0.5
             }
            },
            "type": "barpolar"
           }
          ],
          "carpet": [
           {
            "aaxis": {
             "endlinecolor": "#2a3f5f",
             "gridcolor": "white",
             "linecolor": "white",
             "minorgridcolor": "white",
             "startlinecolor": "#2a3f5f"
            },
            "baxis": {
             "endlinecolor": "#2a3f5f",
             "gridcolor": "white",
             "linecolor": "white",
             "minorgridcolor": "white",
             "startlinecolor": "#2a3f5f"
            },
            "type": "carpet"
           }
          ],
          "choropleth": [
           {
            "colorbar": {
             "outlinewidth": 0,
             "ticks": ""
            },
            "type": "choropleth"
           }
          ],
          "contour": [
           {
            "colorbar": {
             "outlinewidth": 0,
             "ticks": ""
            },
            "colorscale": [
             [
              0,
              "#0d0887"
             ],
             [
              0.1111111111111111,
              "#46039f"
             ],
             [
              0.2222222222222222,
              "#7201a8"
             ],
             [
              0.3333333333333333,
              "#9c179e"
             ],
             [
              0.4444444444444444,
              "#bd3786"
             ],
             [
              0.5555555555555556,
              "#d8576b"
             ],
             [
              0.6666666666666666,
              "#ed7953"
             ],
             [
              0.7777777777777778,
              "#fb9f3a"
             ],
             [
              0.8888888888888888,
              "#fdca26"
             ],
             [
              1,
              "#f0f921"
             ]
            ],
            "type": "contour"
           }
          ],
          "contourcarpet": [
           {
            "colorbar": {
             "outlinewidth": 0,
             "ticks": ""
            },
            "type": "contourcarpet"
           }
          ],
          "heatmap": [
           {
            "colorbar": {
             "outlinewidth": 0,
             "ticks": ""
            },
            "colorscale": [
             [
              0,
              "#0d0887"
             ],
             [
              0.1111111111111111,
              "#46039f"
             ],
             [
              0.2222222222222222,
              "#7201a8"
             ],
             [
              0.3333333333333333,
              "#9c179e"
             ],
             [
              0.4444444444444444,
              "#bd3786"
             ],
             [
              0.5555555555555556,
              "#d8576b"
             ],
             [
              0.6666666666666666,
              "#ed7953"
             ],
             [
              0.7777777777777778,
              "#fb9f3a"
             ],
             [
              0.8888888888888888,
              "#fdca26"
             ],
             [
              1,
              "#f0f921"
             ]
            ],
            "type": "heatmap"
           }
          ],
          "heatmapgl": [
           {
            "colorbar": {
             "outlinewidth": 0,
             "ticks": ""
            },
            "colorscale": [
             [
              0,
              "#0d0887"
             ],
             [
              0.1111111111111111,
              "#46039f"
             ],
             [
              0.2222222222222222,
              "#7201a8"
             ],
             [
              0.3333333333333333,
              "#9c179e"
             ],
             [
              0.4444444444444444,
              "#bd3786"
             ],
             [
              0.5555555555555556,
              "#d8576b"
             ],
             [
              0.6666666666666666,
              "#ed7953"
             ],
             [
              0.7777777777777778,
              "#fb9f3a"
             ],
             [
              0.8888888888888888,
              "#fdca26"
             ],
             [
              1,
              "#f0f921"
             ]
            ],
            "type": "heatmapgl"
           }
          ],
          "histogram": [
           {
            "marker": {
             "colorbar": {
              "outlinewidth": 0,
              "ticks": ""
             }
            },
            "type": "histogram"
           }
          ],
          "histogram2d": [
           {
            "colorbar": {
             "outlinewidth": 0,
             "ticks": ""
            },
            "colorscale": [
             [
              0,
              "#0d0887"
             ],
             [
              0.1111111111111111,
              "#46039f"
             ],
             [
              0.2222222222222222,
              "#7201a8"
             ],
             [
              0.3333333333333333,
              "#9c179e"
             ],
             [
              0.4444444444444444,
              "#bd3786"
             ],
             [
              0.5555555555555556,
              "#d8576b"
             ],
             [
              0.6666666666666666,
              "#ed7953"
             ],
             [
              0.7777777777777778,
              "#fb9f3a"
             ],
             [
              0.8888888888888888,
              "#fdca26"
             ],
             [
              1,
              "#f0f921"
             ]
            ],
            "type": "histogram2d"
           }
          ],
          "histogram2dcontour": [
           {
            "colorbar": {
             "outlinewidth": 0,
             "ticks": ""
            },
            "colorscale": [
             [
              0,
              "#0d0887"
             ],
             [
              0.1111111111111111,
              "#46039f"
             ],
             [
              0.2222222222222222,
              "#7201a8"
             ],
             [
              0.3333333333333333,
              "#9c179e"
             ],
             [
              0.4444444444444444,
              "#bd3786"
             ],
             [
              0.5555555555555556,
              "#d8576b"
             ],
             [
              0.6666666666666666,
              "#ed7953"
             ],
             [
              0.7777777777777778,
              "#fb9f3a"
             ],
             [
              0.8888888888888888,
              "#fdca26"
             ],
             [
              1,
              "#f0f921"
             ]
            ],
            "type": "histogram2dcontour"
           }
          ],
          "mesh3d": [
           {
            "colorbar": {
             "outlinewidth": 0,
             "ticks": ""
            },
            "type": "mesh3d"
           }
          ],
          "parcoords": [
           {
            "line": {
             "colorbar": {
              "outlinewidth": 0,
              "ticks": ""
             }
            },
            "type": "parcoords"
           }
          ],
          "scatter": [
           {
            "marker": {
             "colorbar": {
              "outlinewidth": 0,
              "ticks": ""
             }
            },
            "type": "scatter"
           }
          ],
          "scatter3d": [
           {
            "line": {
             "colorbar": {
              "outlinewidth": 0,
              "ticks": ""
             }
            },
            "marker": {
             "colorbar": {
              "outlinewidth": 0,
              "ticks": ""
             }
            },
            "type": "scatter3d"
           }
          ],
          "scattercarpet": [
           {
            "marker": {
             "colorbar": {
              "outlinewidth": 0,
              "ticks": ""
             }
            },
            "type": "scattercarpet"
           }
          ],
          "scattergeo": [
           {
            "marker": {
             "colorbar": {
              "outlinewidth": 0,
              "ticks": ""
             }
            },
            "type": "scattergeo"
           }
          ],
          "scattergl": [
           {
            "marker": {
             "colorbar": {
              "outlinewidth": 0,
              "ticks": ""
             }
            },
            "type": "scattergl"
           }
          ],
          "scattermapbox": [
           {
            "marker": {
             "colorbar": {
              "outlinewidth": 0,
              "ticks": ""
             }
            },
            "type": "scattermapbox"
           }
          ],
          "scatterpolar": [
           {
            "marker": {
             "colorbar": {
              "outlinewidth": 0,
              "ticks": ""
             }
            },
            "type": "scatterpolar"
           }
          ],
          "scatterpolargl": [
           {
            "marker": {
             "colorbar": {
              "outlinewidth": 0,
              "ticks": ""
             }
            },
            "type": "scatterpolargl"
           }
          ],
          "scatterternary": [
           {
            "marker": {
             "colorbar": {
              "outlinewidth": 0,
              "ticks": ""
             }
            },
            "type": "scatterternary"
           }
          ],
          "surface": [
           {
            "colorbar": {
             "outlinewidth": 0,
             "ticks": ""
            },
            "colorscale": [
             [
              0,
              "#0d0887"
             ],
             [
              0.1111111111111111,
              "#46039f"
             ],
             [
              0.2222222222222222,
              "#7201a8"
             ],
             [
              0.3333333333333333,
              "#9c179e"
             ],
             [
              0.4444444444444444,
              "#bd3786"
             ],
             [
              0.5555555555555556,
              "#d8576b"
             ],
             [
              0.6666666666666666,
              "#ed7953"
             ],
             [
              0.7777777777777778,
              "#fb9f3a"
             ],
             [
              0.8888888888888888,
              "#fdca26"
             ],
             [
              1,
              "#f0f921"
             ]
            ],
            "type": "surface"
           }
          ],
          "table": [
           {
            "cells": {
             "fill": {
              "color": "#EBF0F8"
             },
             "line": {
              "color": "white"
             }
            },
            "header": {
             "fill": {
              "color": "#C8D4E3"
             },
             "line": {
              "color": "white"
             }
            },
            "type": "table"
           }
          ]
         },
         "layout": {
          "annotationdefaults": {
           "arrowcolor": "#2a3f5f",
           "arrowhead": 0,
           "arrowwidth": 1
          },
          "colorscale": {
           "diverging": [
            [
             0,
             "#8e0152"
            ],
            [
             0.1,
             "#c51b7d"
            ],
            [
             0.2,
             "#de77ae"
            ],
            [
             0.3,
             "#f1b6da"
            ],
            [
             0.4,
             "#fde0ef"
            ],
            [
             0.5,
             "#f7f7f7"
            ],
            [
             0.6,
             "#e6f5d0"
            ],
            [
             0.7,
             "#b8e186"
            ],
            [
             0.8,
             "#7fbc41"
            ],
            [
             0.9,
             "#4d9221"
            ],
            [
             1,
             "#276419"
            ]
           ],
           "sequential": [
            [
             0,
             "#0d0887"
            ],
            [
             0.1111111111111111,
             "#46039f"
            ],
            [
             0.2222222222222222,
             "#7201a8"
            ],
            [
             0.3333333333333333,
             "#9c179e"
            ],
            [
             0.4444444444444444,
             "#bd3786"
            ],
            [
             0.5555555555555556,
             "#d8576b"
            ],
            [
             0.6666666666666666,
             "#ed7953"
            ],
            [
             0.7777777777777778,
             "#fb9f3a"
            ],
            [
             0.8888888888888888,
             "#fdca26"
            ],
            [
             1,
             "#f0f921"
            ]
           ],
           "sequentialminus": [
            [
             0,
             "#0d0887"
            ],
            [
             0.1111111111111111,
             "#46039f"
            ],
            [
             0.2222222222222222,
             "#7201a8"
            ],
            [
             0.3333333333333333,
             "#9c179e"
            ],
            [
             0.4444444444444444,
             "#bd3786"
            ],
            [
             0.5555555555555556,
             "#d8576b"
            ],
            [
             0.6666666666666666,
             "#ed7953"
            ],
            [
             0.7777777777777778,
             "#fb9f3a"
            ],
            [
             0.8888888888888888,
             "#fdca26"
            ],
            [
             1,
             "#f0f921"
            ]
           ]
          },
          "colorway": [
           "#636efa",
           "#EF553B",
           "#00cc96",
           "#ab63fa",
           "#FFA15A",
           "#19d3f3",
           "#FF6692",
           "#B6E880",
           "#FF97FF",
           "#FECB52"
          ],
          "font": {
           "color": "#2a3f5f"
          },
          "geo": {
           "bgcolor": "white",
           "lakecolor": "white",
           "landcolor": "#E5ECF6",
           "showlakes": true,
           "showland": true,
           "subunitcolor": "white"
          },
          "hoverlabel": {
           "align": "left"
          },
          "hovermode": "closest",
          "mapbox": {
           "style": "light"
          },
          "paper_bgcolor": "white",
          "plot_bgcolor": "#E5ECF6",
          "polar": {
           "angularaxis": {
            "gridcolor": "white",
            "linecolor": "white",
            "ticks": ""
           },
           "bgcolor": "#E5ECF6",
           "radialaxis": {
            "gridcolor": "white",
            "linecolor": "white",
            "ticks": ""
           }
          },
          "scene": {
           "xaxis": {
            "backgroundcolor": "#E5ECF6",
            "gridcolor": "white",
            "gridwidth": 2,
            "linecolor": "white",
            "showbackground": true,
            "ticks": "",
            "zerolinecolor": "white"
           },
           "yaxis": {
            "backgroundcolor": "#E5ECF6",
            "gridcolor": "white",
            "gridwidth": 2,
            "linecolor": "white",
            "showbackground": true,
            "ticks": "",
            "zerolinecolor": "white"
           },
           "zaxis": {
            "backgroundcolor": "#E5ECF6",
            "gridcolor": "white",
            "gridwidth": 2,
            "linecolor": "white",
            "showbackground": true,
            "ticks": "",
            "zerolinecolor": "white"
           }
          },
          "shapedefaults": {
           "line": {
            "color": "#2a3f5f"
           }
          },
          "ternary": {
           "aaxis": {
            "gridcolor": "white",
            "linecolor": "white",
            "ticks": ""
           },
           "baxis": {
            "gridcolor": "white",
            "linecolor": "white",
            "ticks": ""
           },
           "bgcolor": "#E5ECF6",
           "caxis": {
            "gridcolor": "white",
            "linecolor": "white",
            "ticks": ""
           }
          },
          "title": {
           "x": 0.05
          },
          "xaxis": {
           "automargin": true,
           "gridcolor": "white",
           "linecolor": "white",
           "ticks": "",
           "zerolinecolor": "white",
           "zerolinewidth": 2
          },
          "yaxis": {
           "automargin": true,
           "gridcolor": "white",
           "linecolor": "white",
           "ticks": "",
           "zerolinecolor": "white",
           "zerolinewidth": 2
          }
         }
        },
        "title": {
         "text": "SOUTH AFRICA - COVID19 NEW CASES",
         "x": 0.5,
         "xanchor": "center",
         "y": 0.9,
         "yanchor": "top"
        },
        "xaxis": {
         "tickangle": 90,
         "title": {
          "font": {
           "color": "#BDBDBD",
           "size": 18
          },
          "text": "<b>Date</b>"
         }
        },
        "yaxis": {
         "title": {
          "font": {
           "size": 18
          },
          "text": "<b>New Cases</b>"
         }
        }
       }
      },
      "text/html": [
       "<div>\n",
       "        \n",
       "        \n",
       "            <div id=\"0c344e63-4f10-4523-992f-c6efa30b883c\" class=\"plotly-graph-div\" style=\"height:525px; width:100%;\"></div>\n",
       "            <script type=\"text/javascript\">\n",
       "                require([\"plotly\"], function(Plotly) {\n",
       "                    window.PLOTLYENV=window.PLOTLYENV || {};\n",
       "                    \n",
       "                if (document.getElementById(\"0c344e63-4f10-4523-992f-c6efa30b883c\")) {\n",
       "                    Plotly.newPlot(\n",
       "                        '0c344e63-4f10-4523-992f-c6efa30b883c',\n",
       "                        [{\"marker\": {\"color\": \"#FFAA1D\"}, \"name\": \"South Africa\", \"text\": [\"11554\", \"10496\", \"12757\", \"13172\", \"13373\", \"13285\", \"13449\", \"9300\", \"8170\", \"13150\", \"13104\", \"13944\", \"12204\", \"11233\", \"7096\", \"7232\", \"11362\", \"11046\", \"11014\", \"10107\", \"8195\", \"5377\", \"4456\", \"8559\", \"8307\", \"7292\", \"7712\", \"6671\", \"3739\", \"2511\", \"2810\", \"3946\"], \"textposition\": \"outside\", \"type\": \"bar\", \"x\": [\"July13\", \"July14\", \"July15\", \"July16\", \"July17\", \"July18\", \"July19\", \"July20\", \"July21\", \"July22\", \"July23\", \"July24\", \"July25\", \"July26\", \"July27\", \"July28\", \"July29\", \"July30\", \"July31\", \"August01\", \"August02\", \"August03\", \"August04\", \"August05\", \"August06\", \"August07\", \"August08\", \"August09\", \"August10\", \"August11\", \"August12\", \"August13\"], \"y\": [11554, 10496, 12757, 13172, 13373, 13285, 13449, 9300, 8170, 13150, 13104, 13944, 12204, 11233, 7096, 7232, 11362, 11046, 11014, 10107, 8195, 5377, 4456, 8559, 8307, 7292, 7712, 6671, 3739, 2511, 2810, 3946]}],\n",
       "                        {\"template\": {\"data\": {\"bar\": [{\"error_x\": {\"color\": \"#2a3f5f\"}, \"error_y\": {\"color\": \"#2a3f5f\"}, \"marker\": {\"line\": {\"color\": \"#E5ECF6\", \"width\": 0.5}}, \"type\": \"bar\"}], \"barpolar\": [{\"marker\": {\"line\": {\"color\": \"#E5ECF6\", \"width\": 0.5}}, \"type\": \"barpolar\"}], \"carpet\": [{\"aaxis\": {\"endlinecolor\": \"#2a3f5f\", \"gridcolor\": \"white\", \"linecolor\": \"white\", \"minorgridcolor\": \"white\", \"startlinecolor\": \"#2a3f5f\"}, \"baxis\": {\"endlinecolor\": \"#2a3f5f\", \"gridcolor\": \"white\", \"linecolor\": \"white\", \"minorgridcolor\": \"white\", \"startlinecolor\": \"#2a3f5f\"}, \"type\": \"carpet\"}], \"choropleth\": [{\"colorbar\": {\"outlinewidth\": 0, \"ticks\": \"\"}, \"type\": \"choropleth\"}], \"contour\": [{\"colorbar\": {\"outlinewidth\": 0, \"ticks\": \"\"}, \"colorscale\": [[0.0, \"#0d0887\"], [0.1111111111111111, \"#46039f\"], [0.2222222222222222, \"#7201a8\"], [0.3333333333333333, \"#9c179e\"], [0.4444444444444444, \"#bd3786\"], [0.5555555555555556, \"#d8576b\"], [0.6666666666666666, \"#ed7953\"], [0.7777777777777778, \"#fb9f3a\"], [0.8888888888888888, \"#fdca26\"], [1.0, \"#f0f921\"]], \"type\": \"contour\"}], \"contourcarpet\": [{\"colorbar\": {\"outlinewidth\": 0, \"ticks\": \"\"}, \"type\": \"contourcarpet\"}], \"heatmap\": [{\"colorbar\": {\"outlinewidth\": 0, \"ticks\": \"\"}, \"colorscale\": [[0.0, \"#0d0887\"], [0.1111111111111111, \"#46039f\"], [0.2222222222222222, \"#7201a8\"], [0.3333333333333333, \"#9c179e\"], [0.4444444444444444, \"#bd3786\"], [0.5555555555555556, \"#d8576b\"], [0.6666666666666666, \"#ed7953\"], [0.7777777777777778, \"#fb9f3a\"], [0.8888888888888888, \"#fdca26\"], [1.0, \"#f0f921\"]], \"type\": \"heatmap\"}], \"heatmapgl\": [{\"colorbar\": {\"outlinewidth\": 0, \"ticks\": \"\"}, \"colorscale\": [[0.0, \"#0d0887\"], [0.1111111111111111, \"#46039f\"], [0.2222222222222222, \"#7201a8\"], [0.3333333333333333, \"#9c179e\"], [0.4444444444444444, \"#bd3786\"], [0.5555555555555556, \"#d8576b\"], [0.6666666666666666, \"#ed7953\"], [0.7777777777777778, \"#fb9f3a\"], [0.8888888888888888, \"#fdca26\"], [1.0, \"#f0f921\"]], \"type\": \"heatmapgl\"}], \"histogram\": [{\"marker\": {\"colorbar\": {\"outlinewidth\": 0, \"ticks\": \"\"}}, \"type\": \"histogram\"}], \"histogram2d\": [{\"colorbar\": {\"outlinewidth\": 0, \"ticks\": \"\"}, \"colorscale\": [[0.0, \"#0d0887\"], [0.1111111111111111, \"#46039f\"], [0.2222222222222222, \"#7201a8\"], [0.3333333333333333, \"#9c179e\"], [0.4444444444444444, \"#bd3786\"], [0.5555555555555556, \"#d8576b\"], [0.6666666666666666, \"#ed7953\"], [0.7777777777777778, \"#fb9f3a\"], [0.8888888888888888, \"#fdca26\"], [1.0, \"#f0f921\"]], \"type\": \"histogram2d\"}], \"histogram2dcontour\": [{\"colorbar\": {\"outlinewidth\": 0, \"ticks\": \"\"}, \"colorscale\": [[0.0, \"#0d0887\"], [0.1111111111111111, \"#46039f\"], [0.2222222222222222, \"#7201a8\"], [0.3333333333333333, \"#9c179e\"], [0.4444444444444444, \"#bd3786\"], [0.5555555555555556, \"#d8576b\"], [0.6666666666666666, \"#ed7953\"], [0.7777777777777778, \"#fb9f3a\"], [0.8888888888888888, \"#fdca26\"], [1.0, \"#f0f921\"]], \"type\": \"histogram2dcontour\"}], \"mesh3d\": [{\"colorbar\": {\"outlinewidth\": 0, \"ticks\": \"\"}, \"type\": \"mesh3d\"}], \"parcoords\": [{\"line\": {\"colorbar\": {\"outlinewidth\": 0, \"ticks\": \"\"}}, \"type\": \"parcoords\"}], \"scatter\": [{\"marker\": {\"colorbar\": {\"outlinewidth\": 0, \"ticks\": \"\"}}, \"type\": \"scatter\"}], \"scatter3d\": [{\"line\": {\"colorbar\": {\"outlinewidth\": 0, \"ticks\": \"\"}}, \"marker\": {\"colorbar\": {\"outlinewidth\": 0, \"ticks\": \"\"}}, \"type\": \"scatter3d\"}], \"scattercarpet\": [{\"marker\": {\"colorbar\": {\"outlinewidth\": 0, \"ticks\": \"\"}}, \"type\": \"scattercarpet\"}], \"scattergeo\": [{\"marker\": {\"colorbar\": {\"outlinewidth\": 0, \"ticks\": \"\"}}, \"type\": \"scattergeo\"}], \"scattergl\": [{\"marker\": {\"colorbar\": {\"outlinewidth\": 0, \"ticks\": \"\"}}, \"type\": \"scattergl\"}], \"scattermapbox\": [{\"marker\": {\"colorbar\": {\"outlinewidth\": 0, \"ticks\": \"\"}}, \"type\": \"scattermapbox\"}], \"scatterpolar\": [{\"marker\": {\"colorbar\": {\"outlinewidth\": 0, \"ticks\": \"\"}}, \"type\": \"scatterpolar\"}], \"scatterpolargl\": [{\"marker\": {\"colorbar\": {\"outlinewidth\": 0, \"ticks\": \"\"}}, \"type\": \"scatterpolargl\"}], \"scatterternary\": [{\"marker\": {\"colorbar\": {\"outlinewidth\": 0, \"ticks\": \"\"}}, \"type\": \"scatterternary\"}], \"surface\": [{\"colorbar\": {\"outlinewidth\": 0, \"ticks\": \"\"}, \"colorscale\": [[0.0, \"#0d0887\"], [0.1111111111111111, \"#46039f\"], [0.2222222222222222, \"#7201a8\"], [0.3333333333333333, \"#9c179e\"], [0.4444444444444444, \"#bd3786\"], [0.5555555555555556, \"#d8576b\"], [0.6666666666666666, \"#ed7953\"], [0.7777777777777778, \"#fb9f3a\"], [0.8888888888888888, \"#fdca26\"], [1.0, \"#f0f921\"]], \"type\": \"surface\"}], \"table\": [{\"cells\": {\"fill\": {\"color\": \"#EBF0F8\"}, \"line\": {\"color\": \"white\"}}, \"header\": {\"fill\": {\"color\": \"#C8D4E3\"}, \"line\": {\"color\": \"white\"}}, \"type\": \"table\"}]}, \"layout\": {\"annotationdefaults\": {\"arrowcolor\": \"#2a3f5f\", \"arrowhead\": 0, \"arrowwidth\": 1}, \"colorscale\": {\"diverging\": [[0, \"#8e0152\"], [0.1, \"#c51b7d\"], [0.2, \"#de77ae\"], [0.3, \"#f1b6da\"], [0.4, \"#fde0ef\"], [0.5, \"#f7f7f7\"], [0.6, \"#e6f5d0\"], [0.7, \"#b8e186\"], [0.8, \"#7fbc41\"], [0.9, \"#4d9221\"], [1, \"#276419\"]], \"sequential\": [[0.0, \"#0d0887\"], [0.1111111111111111, \"#46039f\"], [0.2222222222222222, \"#7201a8\"], [0.3333333333333333, \"#9c179e\"], [0.4444444444444444, \"#bd3786\"], [0.5555555555555556, \"#d8576b\"], [0.6666666666666666, \"#ed7953\"], [0.7777777777777778, \"#fb9f3a\"], [0.8888888888888888, \"#fdca26\"], [1.0, \"#f0f921\"]], \"sequentialminus\": [[0.0, \"#0d0887\"], [0.1111111111111111, \"#46039f\"], [0.2222222222222222, \"#7201a8\"], [0.3333333333333333, \"#9c179e\"], [0.4444444444444444, \"#bd3786\"], [0.5555555555555556, \"#d8576b\"], [0.6666666666666666, \"#ed7953\"], [0.7777777777777778, \"#fb9f3a\"], [0.8888888888888888, \"#fdca26\"], [1.0, \"#f0f921\"]]}, \"colorway\": [\"#636efa\", \"#EF553B\", \"#00cc96\", \"#ab63fa\", \"#FFA15A\", \"#19d3f3\", \"#FF6692\", \"#B6E880\", \"#FF97FF\", \"#FECB52\"], \"font\": {\"color\": \"#2a3f5f\"}, \"geo\": {\"bgcolor\": \"white\", \"lakecolor\": \"white\", \"landcolor\": \"#E5ECF6\", \"showlakes\": true, \"showland\": true, \"subunitcolor\": \"white\"}, \"hoverlabel\": {\"align\": \"left\"}, \"hovermode\": \"closest\", \"mapbox\": {\"style\": \"light\"}, \"paper_bgcolor\": \"white\", \"plot_bgcolor\": \"#E5ECF6\", \"polar\": {\"angularaxis\": {\"gridcolor\": \"white\", \"linecolor\": \"white\", \"ticks\": \"\"}, \"bgcolor\": \"#E5ECF6\", \"radialaxis\": {\"gridcolor\": \"white\", \"linecolor\": \"white\", \"ticks\": \"\"}}, \"scene\": {\"xaxis\": {\"backgroundcolor\": \"#E5ECF6\", \"gridcolor\": \"white\", \"gridwidth\": 2, \"linecolor\": \"white\", \"showbackground\": true, \"ticks\": \"\", \"zerolinecolor\": \"white\"}, \"yaxis\": {\"backgroundcolor\": \"#E5ECF6\", \"gridcolor\": \"white\", \"gridwidth\": 2, \"linecolor\": \"white\", \"showbackground\": true, \"ticks\": \"\", \"zerolinecolor\": \"white\"}, \"zaxis\": {\"backgroundcolor\": \"#E5ECF6\", \"gridcolor\": \"white\", \"gridwidth\": 2, \"linecolor\": \"white\", \"showbackground\": true, \"ticks\": \"\", \"zerolinecolor\": \"white\"}}, \"shapedefaults\": {\"line\": {\"color\": \"#2a3f5f\"}}, \"ternary\": {\"aaxis\": {\"gridcolor\": \"white\", \"linecolor\": \"white\", \"ticks\": \"\"}, \"baxis\": {\"gridcolor\": \"white\", \"linecolor\": \"white\", \"ticks\": \"\"}, \"bgcolor\": \"#E5ECF6\", \"caxis\": {\"gridcolor\": \"white\", \"linecolor\": \"white\", \"ticks\": \"\"}}, \"title\": {\"x\": 0.05}, \"xaxis\": {\"automargin\": true, \"gridcolor\": \"white\", \"linecolor\": \"white\", \"ticks\": \"\", \"zerolinecolor\": \"white\", \"zerolinewidth\": 2}, \"yaxis\": {\"automargin\": true, \"gridcolor\": \"white\", \"linecolor\": \"white\", \"ticks\": \"\", \"zerolinecolor\": \"white\", \"zerolinewidth\": 2}}}, \"title\": {\"text\": \"SOUTH AFRICA - COVID19 NEW CASES\", \"x\": 0.5, \"xanchor\": \"center\", \"y\": 0.9, \"yanchor\": \"top\"}, \"xaxis\": {\"tickangle\": 90, \"title\": {\"font\": {\"color\": \"#BDBDBD\", \"size\": 18}, \"text\": \"<b>Date</b>\"}}, \"yaxis\": {\"title\": {\"font\": {\"size\": 18}, \"text\": \"<b>New Cases</b>\"}}},\n",
       "                        {\"responsive\": true}\n",
       "                    ).then(function(){\n",
       "                            \n",
       "var gd = document.getElementById('0c344e63-4f10-4523-992f-c6efa30b883c');\n",
       "var x = new MutationObserver(function (mutations, observer) {{\n",
       "        var display = window.getComputedStyle(gd).display;\n",
       "        if (!display || display === 'none') {{\n",
       "            console.log([gd, 'removed!']);\n",
       "            Plotly.purge(gd);\n",
       "            observer.disconnect();\n",
       "        }}\n",
       "}});\n",
       "\n",
       "// Listen for the removal of the full notebook cells\n",
       "var notebookContainer = gd.closest('#notebook-container');\n",
       "if (notebookContainer) {{\n",
       "    x.observe(notebookContainer, {childList: true});\n",
       "}}\n",
       "\n",
       "// Listen for the clearing of the current output cell\n",
       "var outputEl = gd.closest('.output');\n",
       "if (outputEl) {{\n",
       "    x.observe(outputEl, {childList: true});\n",
       "}}\n",
       "\n",
       "                        })\n",
       "                };\n",
       "                });\n",
       "            </script>\n",
       "        </div>"
      ]
     },
     "metadata": {},
     "output_type": "display_data"
    }
   ],
   "source": [
    "fig = go.Figure()\n",
    "\n",
    "sa_total_per_day = []\n",
    "for date in dates:    \n",
    "    total = sa[date].str.replace('+','').fillna(0).str.replace(',','').fillna(0).astype(int)\n",
    "    sa_total_per_day.append(int(total))\n",
    "    \n",
    "fig.add_trace(go.Bar(x=dates[-32:],  y = sa_total_per_day[-32:],text=sa_total_per_day[-32:],textposition='outside',name = \"South Africa\",marker_color='#FFAA1D'))\n",
    "fig.update_layout(\n",
    "    title={\n",
    "        'text': \"SOUTH AFRICA - COVID19 NEW CASES\",\n",
    "        'y':0.9,\n",
    "        'x':0.5,\n",
    "        'xanchor': 'center',\n",
    "        'yanchor': 'top'},\n",
    "    xaxis=dict(title='<b>Date</b>',titlefont_size=18, titlefont=dict(color='#BDBDBD')),\n",
    "    yaxis=dict(title='<b>New Cases</b>',titlefont_size=18),\n",
    "    xaxis_tickangle=90,\n",
    ")\n",
    "\n",
    "fig.show()"
   ]
  },
  {
   "cell_type": "code",
   "execution_count": 101,
   "metadata": {},
   "outputs": [
    {
     "name": "stdout",
     "output_type": "stream",
     "text": [
      "*****************************************\n",
      "South Africa\n",
      "[99, 178, 251, 124, 142, 165, 170, 318, 267, 141, 185, 247, 203, 354, 297, 304, 385, 447, 437, 352, 236, 424, 663, 525, 595, 637, 698, 724, 665, 785, 831, 1160, 918, 767, 803, 1134, 988, 1218, 1240, 1032, 649, 1673, 1466, 1837, 1727, 1716, 1674, 1455, 1713, 3267, 2642, 2539, 2312, 2594, 2112, 2430, 3147, 3359, 3809, 4302, 3495, 2801, 4078, 3478, 3825, 4966, 4621, 4288, 4518, 5688, 6579, 6215, 7210, 6334, 6130, 6945, 8124, 8728, 9063, 10853, 8773, 8971, 10134, 8810, 13674, 12348, 13497, 12058, 11554, 10496, 12757, 13172, 13373, 13285, 13449, 9300, 8170, 13150, 13104, 13944, 12204, 11233, 7096, 7232, 11362, 11046, 11014, 10107, 8195, 5377, 4456, 8559, 8307, 7292, 7712, 6671, 3739, 2511, 2810, 3946]\n",
      "*****************************************\n",
      "Egypt\n",
      "[168, 171, 188, 112, 189, 157, 169, 232, 201, 227, 215, 248, 260, 226, 269, 358, 298, 272, 348, 388, 387, 393, 495, 488, 436, 346, 347, 338, 398, 399, 491, 510, 535, 720, 745, 774, 783, 727, 752, 702, 789, 910, 1127, 1289, 1367, 1536, 1399, 1152, 1079, 1152, 1348, 1497, 1467, 1365, 1385, 1455, 1442, 1577, 1677, 1618, 1691, 1567, 1363, 1218, 1774, 1547, 1475, 1576, 1332, 1420, 1569, 1625, 1168, 1265, 1566, 1557, 1503, 1485, 1412, 1324, 1218, 969, 1057, 1025, 950, 981, 923, 912, 931, 929, 913, 928, 703, 698, 603, 627, 676, 667, 668, 659, 511, 479, 420, 465, 409, 401, 321, 238, 167, 157, 112, 123, 131, 141, 167, 178, 174, 168, 129, 145]\n",
      "*****************************************\n",
      "Nigeria\n",
      "[35, 51, 49, 85, 38, 117, 91, 108, 114, 87, 91, 64, 195, 196, 204, 238, 218, 170, 244, 148, 195, 381, 386, 239, 248, 242, 146, 184, 191, 288, 176, 338, 216, 226, 276, 339, 245, 265, 313, 229, 276, 389, 182, 387, 553, 307, 416, 241, 347, 350, 328, 389, 253, 315, 663, 409, 681, 627, 501, 403, 573, 490, 587, 745, 667, 661, 436, 675, 452, 649, 594, 684, 779, 490, 566, 561, 790, 626, 454, 603, 544, 575, 503, 460, 499, 575, 664, 571, 595, 463, 643, 595, 600, 653, 556, 562, 576, 543, 604, 591, 438, 555, 648, 624, 404, 481, 462, 386, 304, 288, 304, 457, 354, 443, 453, 437, 290, 423, 453, 373]\n",
      "*****************************************\n",
      "Ghana\n",
      "[0, 0, 193, 208, 0, 0, 112, 0, 125, 0, 271, 0, 121, 0, 403, 0, 95, 0, 550, 0, 372, 0, 921, 251, 0, 437, 427, 281, 122, 108, 97, 0, 0, 361, 173, 0, 217, 131, 66, 125, 309, 186, 0, 313, 152, 113, 189, 227, 251, 337, 283, 294, 176, 272, 291, 0, 157, 498, 262, 846, 0, 229, 397, 339, 274, 514, 290, 147, 414, 445, 460, 361, 597, 311, 609, 390, 393, 0, 1254, 0, 697, 992, 891, 854, 641, 371, 414, 270, 470, 0, 442, 695, 447, 488, 607, 763, 559, 683, 0, 1385, 794, 1118, 655, 782, 736, 0, 359, 1513, 0, 798, 0, 1263, 567, 455, 436, 470, 209, 192, 168, 153]\n",
      "*****************************************\n",
      "Algeria\n",
      "[108, 150, 116, 95, 89, 93, 99, 97, 120, 129, 126, 135, 132, 199, 158, 148, 141, 179, 174, 190, 159, 185, 187, 189, 165, 168, 176, 186, 189, 187, 192, 198, 182, 176, 165, 186, 190, 195, 193, 197, 194, 160, 140, 137, 133, 127, 119, 113, 107, 98, 104, 115, 104, 111, 117, 102, 105, 109, 112, 109, 112, 116, 121, 117, 119, 127, 140, 149, 156, 172, 197, 240, 283, 305, 298, 336, 365, 385, 413, 430, 441, 463, 475, 469, 460, 434, 470, 483, 494, 527, 554, 585, 593, 601, 535, 607, 587, 594, 612, 675, 605, 593, 616, 642, 614, 602, 563, 556, 515, 507, 532, 551, 571, 529, 538, 521, 498, 492, 495, 488]\n",
      "*****************************************\n",
      "Morocco\n",
      "[259, 281, 121, 170, 191, 163, 237, 122, 190, 139, 168, 55, 132, 69, 102, 146, 160, 174, 150, 166, 189, 140, 163, 199, 153, 218, 137, 94, 95, 45, 89, 129, 82, 71, 110, 78, 121, 74, 27, 99, 45, 24, 42, 71, 66, 27, 26, 33, 56, 81, 68, 80, 73, 78, 135, 71, 29, 73, 82, 101, 92, 46, 66, 77, 539, 226, 138, 195, 172, 563, 431, 295, 244, 175, 238, 243, 103, 333, 319, 534, 393, 164, 228, 164, 308, 249, 214, 203, 191, 161, 165, 283, 181, 289, 221, 326, 180, 220, 302, 570, 811, 633, 609, 500, 826, 1046, 1063, 693, 522, 659, 1021, 1283, 1144, 1018, 1345, 1230, 826, 1132, 1499, 1241]\n"
     ]
    }
   ],
   "source": [
    "afrik_counts = ['South Africa', 'Egypt','Nigeria','Ghana', 'Algeria','Morocco']\n",
    "count_total_per_day=[]\n",
    "for count in afrik_counts:\n",
    "    afrik_count = countries_new_cases[countries_new_cases['Country_Other'] == count]\n",
    "    afrik_count =  afrik_count.copy()\n",
    "    afrik_count.fillna(0, inplace=True)\n",
    "    print('*****************************************')\n",
    "    print(count)\n",
    "    \n",
    "    for date in dates: \n",
    "        if afrik_count[date].values[0] == 0:\n",
    "            total = afrik_count[date].values[0]\n",
    "            count_total_per_day.append(int(total))\n",
    "        else: \n",
    "            total = afrik_count[date].str.replace('+','').fillna(0).str.replace(',','').fillna(0).astype(int)\n",
    "            count_total_per_day.append(int(total))\n",
    "    \n",
    "#             print(total)\n",
    "    print(count_total_per_day)\n",
    "#     GRAPH HERE\n",
    "    count_total_per_day=[]\n"
   ]
  },
  {
   "cell_type": "code",
   "execution_count": 102,
   "metadata": {},
   "outputs": [
    {
     "name": "stdout",
     "output_type": "stream",
     "text": [
      "Test\n"
     ]
    }
   ],
   "source": [
    "print('Test')"
   ]
  }
 ],
 "metadata": {
  "kernelspec": {
   "display_name": "Python 3",
   "language": "python",
   "name": "python3"
  },
  "language_info": {
   "codemirror_mode": {
    "name": "ipython",
    "version": 3
   },
   "file_extension": ".py",
   "mimetype": "text/x-python",
   "name": "python",
   "nbconvert_exporter": "python",
   "pygments_lexer": "ipython3",
   "version": "3.7.4"
  }
 },
 "nbformat": 4,
 "nbformat_minor": 2
}
