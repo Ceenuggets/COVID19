{
 "cells": [
  {
   "cell_type": "markdown",
   "metadata": {},
   "source": [
    "# AFRICA COVID19 ANALYSIS"
   ]
  },
  {
   "cell_type": "markdown",
   "metadata": {},
   "source": [
    "<a id='top'></a>\n",
    "* [General Cases](#general) <br>\n",
    "* [Cases by Region](#by_region) <br>\n",
    "* [Recovery Rate](#recovery)  <br>\n",
    "* [Mortality Rate](#mortality) <br>\n",
    "* [Radndom Selection](#select_few) <br>\n",
    "* [Top Ten New Cases by Country](#top_six) <br>"
   ]
  },
  {
   "cell_type": "code",
   "execution_count": 37,
   "metadata": {},
   "outputs": [],
   "source": [
    "import pandas as pd\n",
    "import numpy as np\n",
    "import plotly.graph_objs as go\n",
    "from plotly.subplots import make_subplots\n",
    "import os\n",
    "import datetime\n",
    "from datetime import date\n",
    "import matplotlib.pyplot as plt\n",
    "%matplotlib inline"
   ]
  },
  {
   "cell_type": "code",
   "execution_count": 38,
   "metadata": {},
   "outputs": [],
   "source": [
    "#SELECT  MOST RECENT DAILY CASES FILE NAME FOR AFRICAN REGIONS\n",
    "def most_recent_new_cases(path):\n",
    "    next_mostrecent_CSV ={}\n",
    "    files = os.listdir(path)\n",
    "    new_casesCSV_files = [file for file in files if file[-3:] == 'csv' and file[-20:-12] == 'NewCases']\n",
    "    date_conversion = [datetime.datetime.strptime(date_slice[-12:-4], '%d%m%Y') for date_slice in new_casesCSV_files]\n",
    "    current_date = datetime.datetime.now().strftime(\"%d%m%Y\")\n",
    "    current_date_conversion = datetime.datetime.strptime(current_date,'%d%m%Y')\n",
    "    for given_date in date_conversion:\n",
    "        datetime_string= given_date.strftime('%d')+given_date.strftime('%m')+given_date.strftime('%Y')\n",
    "        particular_date = [datee  for datee in new_casesCSV_files if datee[-12:-4] == datetime_string]\n",
    "        timediff_seconds = current_date_conversion - given_date\n",
    "        next_mostrecent_CSV[particular_date[0]] = timediff_seconds.total_seconds()\n",
    "        sorted_next_mostrecent_CSV = sorted(next_mostrecent_CSV.items(), key=lambda kv: kv[1])\n",
    "    return sorted_next_mostrecent_CSV[0][0]"
   ]
  },
  {
   "cell_type": "code",
   "execution_count": 39,
   "metadata": {},
   "outputs": [
    {
     "data": {
      "text/plain": [
       "'WestAfricaNewCases19112020.csv'"
      ]
     },
     "execution_count": 39,
     "metadata": {},
     "output_type": "execute_result"
    }
   ],
   "source": [
    "ea_latest = most_recent_new_cases(\"..\\COVID19\\Africa\\EastAfrica\")\n",
    "wa_latest = most_recent_new_cases(\"..\\COVID19\\Africa\\WestAfrica\")\n",
    "na_latest = most_recent_new_cases(\"..\\COVID19\\Africa\\\\NorthAfrica\")\n",
    "sa_latest = most_recent_new_cases(\"..\\COVID19\\Africa\\SouthernAfrica\")\n",
    "ca_latest = most_recent_new_cases(\"..\\COVID19\\Africa\\CentralAfrica\")\n",
    "wa_latest"
   ]
  },
  {
   "cell_type": "markdown",
   "metadata": {},
   "source": [
    "## Loading the files..."
   ]
  },
  {
   "cell_type": "code",
   "execution_count": 40,
   "metadata": {},
   "outputs": [],
   "source": [
    "east_africa= pd.read_csv('../COVID19/Africa/EastAfrica/'+ ea_latest, dtype=object, encoding='utf-8')\n",
    "west_africa = pd.read_csv('../COVID19/Africa/WestAfrica/'+wa_latest, dtype=object, encoding='utf-8')\n",
    "north_africa = pd.read_csv('../COVID19/Africa/NorthAfrica/'+na_latest,dtype=object,  encoding='utf-8')\n",
    "southern_africa= pd.read_csv('../COVID19/Africa/SouthernAfrica/'+sa_latest, dtype=object, encoding='utf-8')\n",
    "central_africa = pd.read_csv('../COVID19/Africa/CentralAfrica/'+ca_latest, dtype=object, encoding='utf-8')"
   ]
  },
  {
   "cell_type": "code",
   "execution_count": 41,
   "metadata": {},
   "outputs": [
    {
     "data": {
      "text/html": [
       "<div>\n",
       "<style scoped>\n",
       "    .dataframe tbody tr th:only-of-type {\n",
       "        vertical-align: middle;\n",
       "    }\n",
       "\n",
       "    .dataframe tbody tr th {\n",
       "        vertical-align: top;\n",
       "    }\n",
       "\n",
       "    .dataframe thead th {\n",
       "        text-align: right;\n",
       "    }\n",
       "</style>\n",
       "<table border=\"1\" class=\"dataframe\">\n",
       "  <thead>\n",
       "    <tr style=\"text-align: right;\">\n",
       "      <th></th>\n",
       "      <th>Country_Other</th>\n",
       "      <th>April16</th>\n",
       "      <th>April17</th>\n",
       "      <th>April18</th>\n",
       "      <th>April19</th>\n",
       "      <th>April20</th>\n",
       "      <th>April21</th>\n",
       "      <th>April22</th>\n",
       "      <th>April23</th>\n",
       "      <th>April24</th>\n",
       "      <th>...</th>\n",
       "      <th>November10</th>\n",
       "      <th>November11</th>\n",
       "      <th>November12</th>\n",
       "      <th>November13</th>\n",
       "      <th>November14</th>\n",
       "      <th>November15</th>\n",
       "      <th>November16</th>\n",
       "      <th>November17</th>\n",
       "      <th>November18</th>\n",
       "      <th>November19</th>\n",
       "    </tr>\n",
       "  </thead>\n",
       "  <tbody>\n",
       "    <tr>\n",
       "      <td>0</td>\n",
       "      <td>Ivory Coast</td>\n",
       "      <td>0</td>\n",
       "      <td>+34</td>\n",
       "      <td>+113</td>\n",
       "      <td>+46</td>\n",
       "      <td>+32</td>\n",
       "      <td>+37</td>\n",
       "      <td>+36</td>\n",
       "      <td>+52</td>\n",
       "      <td>+73</td>\n",
       "      <td>...</td>\n",
       "      <td>+12</td>\n",
       "      <td>+8</td>\n",
       "      <td>+27</td>\n",
       "      <td>+17</td>\n",
       "      <td>+46</td>\n",
       "      <td>+31</td>\n",
       "      <td>+12</td>\n",
       "      <td>+16</td>\n",
       "      <td>+41</td>\n",
       "      <td>+38</td>\n",
       "    </tr>\n",
       "    <tr>\n",
       "      <td>1</td>\n",
       "      <td>Ghana</td>\n",
       "      <td>0</td>\n",
       "      <td>0</td>\n",
       "      <td>+193</td>\n",
       "      <td>+208</td>\n",
       "      <td>0</td>\n",
       "      <td>0</td>\n",
       "      <td>+112</td>\n",
       "      <td>0</td>\n",
       "      <td>+125</td>\n",
       "      <td>...</td>\n",
       "      <td>+100</td>\n",
       "      <td>0</td>\n",
       "      <td>+385</td>\n",
       "      <td>+61</td>\n",
       "      <td>0</td>\n",
       "      <td>+105</td>\n",
       "      <td>+253</td>\n",
       "      <td>0</td>\n",
       "      <td>+81</td>\n",
       "      <td>+174</td>\n",
       "    </tr>\n",
       "    <tr>\n",
       "      <td>2</td>\n",
       "      <td>Niger</td>\n",
       "      <td>0</td>\n",
       "      <td>+43</td>\n",
       "      <td>+12</td>\n",
       "      <td>+9</td>\n",
       "      <td>0</td>\n",
       "      <td>+9</td>\n",
       "      <td>+5</td>\n",
       "      <td>+9</td>\n",
       "      <td>+10</td>\n",
       "      <td>...</td>\n",
       "      <td>+10</td>\n",
       "      <td>+7</td>\n",
       "      <td>+19</td>\n",
       "      <td>+7</td>\n",
       "      <td>+12</td>\n",
       "      <td>+6</td>\n",
       "      <td>+9</td>\n",
       "      <td>+11</td>\n",
       "      <td>+4</td>\n",
       "      <td>+4</td>\n",
       "    </tr>\n",
       "    <tr>\n",
       "      <td>3</td>\n",
       "      <td>Burkina Faso</td>\n",
       "      <td>+4</td>\n",
       "      <td>+11</td>\n",
       "      <td>+8</td>\n",
       "      <td>+11</td>\n",
       "      <td>+5</td>\n",
       "      <td>+19</td>\n",
       "      <td>+9</td>\n",
       "      <td>+7</td>\n",
       "      <td>+13</td>\n",
       "      <td>...</td>\n",
       "      <td>+1</td>\n",
       "      <td>+4</td>\n",
       "      <td>0</td>\n",
       "      <td>+23</td>\n",
       "      <td>+26</td>\n",
       "      <td>+6</td>\n",
       "      <td>+11</td>\n",
       "      <td>0</td>\n",
       "      <td>+18</td>\n",
       "      <td>+16</td>\n",
       "    </tr>\n",
       "    <tr>\n",
       "      <td>4</td>\n",
       "      <td>Nigeria</td>\n",
       "      <td>+35</td>\n",
       "      <td>+51</td>\n",
       "      <td>+49</td>\n",
       "      <td>+85</td>\n",
       "      <td>+38</td>\n",
       "      <td>+117</td>\n",
       "      <td>+91</td>\n",
       "      <td>+108</td>\n",
       "      <td>+114</td>\n",
       "      <td>...</td>\n",
       "      <td>+152</td>\n",
       "      <td>+180</td>\n",
       "      <td>+212</td>\n",
       "      <td>+156</td>\n",
       "      <td>+112</td>\n",
       "      <td>+152</td>\n",
       "      <td>+157</td>\n",
       "      <td>+152</td>\n",
       "      <td>+236</td>\n",
       "      <td>+146</td>\n",
       "    </tr>\n",
       "  </tbody>\n",
       "</table>\n",
       "<p>5 rows × 219 columns</p>\n",
       "</div>"
      ],
      "text/plain": [
       "  Country_Other April16 April17 April18 April19 April20 April21 April22  \\\n",
       "0   Ivory Coast       0     +34    +113     +46     +32     +37     +36   \n",
       "1         Ghana       0       0    +193    +208       0       0    +112   \n",
       "2         Niger       0     +43     +12      +9       0      +9      +5   \n",
       "3  Burkina Faso      +4     +11      +8     +11      +5     +19      +9   \n",
       "4       Nigeria     +35     +51     +49     +85     +38    +117     +91   \n",
       "\n",
       "  April23 April24  ... November10 November11 November12 November13 November14  \\\n",
       "0     +52     +73  ...        +12         +8        +27        +17        +46   \n",
       "1       0    +125  ...       +100          0       +385        +61          0   \n",
       "2      +9     +10  ...        +10         +7        +19         +7        +12   \n",
       "3      +7     +13  ...         +1         +4          0        +23        +26   \n",
       "4    +108    +114  ...       +152       +180       +212       +156       +112   \n",
       "\n",
       "  November15 November16 November17 November18 November19  \n",
       "0        +31        +12        +16        +41        +38  \n",
       "1       +105       +253          0        +81       +174  \n",
       "2         +6         +9        +11         +4         +4  \n",
       "3         +6        +11          0        +18        +16  \n",
       "4       +152       +157       +152       +236       +146  \n",
       "\n",
       "[5 rows x 219 columns]"
      ]
     },
     "execution_count": 41,
     "metadata": {},
     "output_type": "execute_result"
    }
   ],
   "source": [
    "west_africa.head()"
   ]
  },
  {
   "cell_type": "markdown",
   "metadata": {},
   "source": [
    "## SUMMARY FOR AFRICA"
   ]
  },
  {
   "cell_type": "code",
   "execution_count": 42,
   "metadata": {},
   "outputs": [
    {
     "data": {
      "text/html": [
       "<div>\n",
       "<style scoped>\n",
       "    .dataframe tbody tr th:only-of-type {\n",
       "        vertical-align: middle;\n",
       "    }\n",
       "\n",
       "    .dataframe tbody tr th {\n",
       "        vertical-align: top;\n",
       "    }\n",
       "\n",
       "    .dataframe thead th {\n",
       "        text-align: right;\n",
       "    }\n",
       "</style>\n",
       "<table border=\"1\" class=\"dataframe\">\n",
       "  <thead>\n",
       "    <tr style=\"text-align: right;\">\n",
       "      <th></th>\n",
       "      <th>Date</th>\n",
       "      <th>Total_Cases</th>\n",
       "      <th>New_Cases</th>\n",
       "      <th>Total_Deaths</th>\n",
       "      <th>New_Deaths</th>\n",
       "      <th>Total_Recovered</th>\n",
       "      <th>Active_Cases</th>\n",
       "      <th>Serious_Critical</th>\n",
       "    </tr>\n",
       "  </thead>\n",
       "  <tbody>\n",
       "    <tr>\n",
       "      <td>213</td>\n",
       "      <td>November15</td>\n",
       "      <td>1987732</td>\n",
       "      <td>12468</td>\n",
       "      <td>47438</td>\n",
       "      <td>275</td>\n",
       "      <td>1668055</td>\n",
       "      <td>272239</td>\n",
       "      <td>2594</td>\n",
       "    </tr>\n",
       "    <tr>\n",
       "      <td>214</td>\n",
       "      <td>November16</td>\n",
       "      <td>1998312</td>\n",
       "      <td>10580</td>\n",
       "      <td>47775</td>\n",
       "      <td>337</td>\n",
       "      <td>1680971</td>\n",
       "      <td>269566</td>\n",
       "      <td>2573</td>\n",
       "    </tr>\n",
       "    <tr>\n",
       "      <td>215</td>\n",
       "      <td>November17</td>\n",
       "      <td>2011202</td>\n",
       "      <td>12890</td>\n",
       "      <td>48112</td>\n",
       "      <td>337</td>\n",
       "      <td>1691074</td>\n",
       "      <td>272016</td>\n",
       "      <td>2575</td>\n",
       "    </tr>\n",
       "    <tr>\n",
       "      <td>216</td>\n",
       "      <td>November18</td>\n",
       "      <td>2026587</td>\n",
       "      <td>15346</td>\n",
       "      <td>48509</td>\n",
       "      <td>397</td>\n",
       "      <td>1709279</td>\n",
       "      <td>268799</td>\n",
       "      <td>2573</td>\n",
       "    </tr>\n",
       "    <tr>\n",
       "      <td>217</td>\n",
       "      <td>November19</td>\n",
       "      <td>2040542</td>\n",
       "      <td>13849</td>\n",
       "      <td>48785</td>\n",
       "      <td>273</td>\n",
       "      <td>1720252</td>\n",
       "      <td>271505</td>\n",
       "      <td>2600</td>\n",
       "    </tr>\n",
       "  </tbody>\n",
       "</table>\n",
       "</div>"
      ],
      "text/plain": [
       "           Date  Total_Cases  New_Cases  Total_Deaths  New_Deaths  \\\n",
       "213  November15      1987732      12468         47438         275   \n",
       "214  November16      1998312      10580         47775         337   \n",
       "215  November17      2011202      12890         48112         337   \n",
       "216  November18      2026587      15346         48509         397   \n",
       "217  November19      2040542      13849         48785         273   \n",
       "\n",
       "     Total_Recovered  Active_Cases  Serious_Critical  \n",
       "213          1668055        272239              2594  \n",
       "214          1680971        269566              2573  \n",
       "215          1691074        272016              2575  \n",
       "216          1709279        268799              2573  \n",
       "217          1720252        271505              2600  "
      ]
     },
     "execution_count": 42,
     "metadata": {},
     "output_type": "execute_result"
    }
   ],
   "source": [
    "african_summary =  pd.read_csv('../COVID19/World/WorldSummary/Africa/Africa_summary.csv', encoding='utf-8')\n",
    "african_summary.tail()"
   ]
  },
  {
   "cell_type": "code",
   "execution_count": 43,
   "metadata": {},
   "outputs": [
    {
     "data": {
      "text/plain": [
       "'November 19, 2020'"
      ]
     },
     "execution_count": 43,
     "metadata": {},
     "output_type": "execute_result"
    }
   ],
   "source": [
    "d = datetime.datetime.strptime(ea_latest[18:26], '%d%m%Y')\n",
    "date_string = d.strftime('%B') + ' ' +d.strftime('%d') + ', '+ d.strftime('%Y')\n",
    "date_string "
   ]
  },
  {
   "cell_type": "code",
   "execution_count": 44,
   "metadata": {},
   "outputs": [],
   "source": [
    "dates = east_africa.columns.to_list()\n",
    "dates = dates[1:]"
   ]
  },
  {
   "cell_type": "markdown",
   "metadata": {},
   "source": [
    "<a id='general'></a>"
   ]
  },
  {
   "cell_type": "code",
   "execution_count": 45,
   "metadata": {},
   "outputs": [
    {
     "data": {
      "application/vnd.plotly.v1+json": {
       "config": {
        "plotlyServerURL": "https://plot.ly"
       },
       "data": [
        {
         "line": {
          "width": 3
         },
         "mode": "lines",
         "name": "Total_Cases",
         "type": "scatter",
         "x": [
          "April16",
          "April17",
          "April18",
          "April19",
          "April20",
          "April21",
          "April22",
          "April23",
          "April24",
          "April25",
          "April26",
          "April27",
          "April28",
          "April29",
          "April30",
          "May01",
          "May02",
          "May03",
          "May04",
          "May05",
          "May06",
          "May07",
          "May08",
          "May09",
          "May10",
          "May11",
          "May12",
          "May13",
          "May14",
          "May15",
          "May16",
          "May17",
          "May18",
          "May19",
          "May20",
          "May21",
          "May22",
          "May23",
          "May24",
          "May25",
          "May26",
          "May27",
          "May28",
          "May29",
          "May30",
          "May31",
          "June01",
          "June02",
          "June03",
          "June04",
          "June05",
          "June06",
          "June07",
          "June08",
          "June09",
          "June10",
          "June11",
          "June12",
          "June13",
          "June14",
          "June15",
          "June16",
          "June17",
          "June18",
          "June19",
          "June20",
          "June21",
          "June22",
          "June23",
          "June24",
          "June25",
          "June26",
          "June27",
          "June28",
          "June29",
          "June30",
          "July01",
          "July02",
          "July03",
          "July04",
          "July05",
          "July06",
          "July07",
          "July08",
          "July09",
          "July10",
          "July11",
          "July12",
          "July13",
          "July14",
          "July15",
          "July16",
          "July17",
          "July18",
          "July19",
          "July20",
          "July21",
          "July22",
          "July23",
          "July24",
          "July25",
          "July26",
          "July27",
          "July28",
          "July29",
          "July30",
          "July31",
          "August01",
          "August02",
          "August03",
          "August04",
          "August05",
          "August06",
          "August07",
          "August08",
          "August09",
          "August10",
          "August11",
          "August12",
          "August13",
          "August14",
          "August15",
          "August16",
          "August17",
          "August18",
          "August19",
          "August20",
          "August21",
          "August22",
          "August23",
          "August24",
          "August25",
          "August26",
          "August27",
          "August28",
          "August29",
          "August30",
          "August31",
          "September01",
          "September02",
          "September03",
          "September04",
          "September05",
          "September06",
          "September07",
          "September08",
          "September09",
          "September10",
          "September11",
          "September12",
          "September13",
          "September14",
          "September15",
          "September16",
          "September17",
          "September18",
          "September19",
          "September20",
          "September21",
          "September22",
          "September23",
          "September24",
          "September25",
          "September26",
          "September27",
          "September28",
          "September29",
          "September30",
          "October01",
          "October02",
          "October03",
          "October04",
          "October05",
          "October06",
          "October07",
          "October08",
          "October09",
          "October10",
          "October11",
          "October12",
          "October13",
          "October14",
          "October15",
          "October16",
          "October17",
          "October18",
          "October19",
          "October20",
          "October21",
          "October22",
          "October23",
          "October24",
          "October25",
          "October26",
          "October27",
          "October28",
          "October29",
          "October30",
          "October31",
          "November01",
          "November02",
          "November03",
          "November04",
          "November05",
          "November06",
          "November07",
          "November08",
          "November09",
          "November10",
          "November11",
          "November12",
          "November13",
          "November14",
          "November15",
          "November16",
          "November17",
          "November18",
          "November19"
         ],
         "y": [
          18993,
          20419,
          21741,
          22966,
          24171,
          25411,
          26654,
          28217,
          29840,
          31102,
          32657,
          34036,
          35678,
          37693,
          39785,
          41446,
          43734,
          45380,
          48075,
          50166,
          52713,
          55320,
          59050,
          61985,
          64750,
          67778,
          70982,
          73973,
          77002,
          79780,
          83363,
          86381,
          90080,
          93228,
          96990,
          101684,
          105845,
          109470,
          113656,
          117801,
          121547,
          126638,
          131587,
          137544,
          143769,
          148775,
          154907,
          159838,
          164985,
          172183,
          179337,
          185996,
          192118,
          198990,
          205520,
          212011,
          219354,
          227599,
          235704,
          244578,
          254214,
          261581,
          270660,
          278677,
          288812,
          299841,
          309153,
          318321,
          327464,
          338766,
          350859,
          362616,
          374596,
          385219,
          396314,
          407925,
          421382,
          434442,
          450658,
          466168,
          479845,
          493710,
          511170,
          525892,
          545063,
          562728,
          581640,
          598236,
          614412,
          628885,
          646973,
          668068,
          686961,
          706069,
          724870,
          740026,
          753917,
          773506,
          792040,
          814165,
          832514,
          850628,
          864094,
          877593,
          895157,
          912621,
          931777,
          948730,
          961388,
          972287,
          982219,
          997602,
          1011872,
          1025464,
          1039678,
          1052094,
          1061098,
          1069093,
          1078301,
          1088777,
          1101342,
          1113143,
          1123142,
          1132101,
          1140775,
          1151737,
          1162392,
          1172802,
          1183362,
          1192414,
          1199961,
          1207623,
          1216564,
          1225249,
          1233365,
          1241912,
          1250375,
          1257316,
          1264417,
          1273213,
          1281149,
          1289817,
          1297323,
          1305252,
          1312183,
          1319898,
          1328263,
          1336407,
          1345199,
          1352693,
          1359569,
          1366138,
          1372731,
          1380233,
          1389010,
          1397246,
          1405973,
          1413416,
          1420232,
          1427620,
          1436433,
          1444619,
          1452768,
          1459190,
          1467555,
          1473418,
          1480934,
          1489711,
          1496977,
          1506015,
          1514844,
          1522928,
          1527905,
          1534494,
          1545109,
          1556017,
          1564774,
          1578299,
          1587286,
          1593247,
          1601181,
          1612737,
          1621853,
          1632687,
          1646863,
          1655084,
          1665060,
          1674836,
          1685448,
          1696418,
          1707055,
          1718812,
          1727897,
          1738877,
          1747522,
          1759578,
          1770688,
          1784435,
          1795509,
          1805820,
          1813800,
          1824701,
          1838867,
          1854169,
          1866079,
          1881129,
          1893619,
          1903096,
          1916173,
          1930482,
          1946369,
          1961099,
          1975264,
          1987732,
          1998312,
          2011202,
          2026587,
          2040542
         ]
        },
        {
         "line": {
          "width": 3
         },
         "mode": "lines",
         "name": "New_Cases",
         "type": "scatter",
         "x": [
          "April16",
          "April17",
          "April18",
          "April19",
          "April20",
          "April21",
          "April22",
          "April23",
          "April24",
          "April25",
          "April26",
          "April27",
          "April28",
          "April29",
          "April30",
          "May01",
          "May02",
          "May03",
          "May04",
          "May05",
          "May06",
          "May07",
          "May08",
          "May09",
          "May10",
          "May11",
          "May12",
          "May13",
          "May14",
          "May15",
          "May16",
          "May17",
          "May18",
          "May19",
          "May20",
          "May21",
          "May22",
          "May23",
          "May24",
          "May25",
          "May26",
          "May27",
          "May28",
          "May29",
          "May30",
          "May31",
          "June01",
          "June02",
          "June03",
          "June04",
          "June05",
          "June06",
          "June07",
          "June08",
          "June09",
          "June10",
          "June11",
          "June12",
          "June13",
          "June14",
          "June15",
          "June16",
          "June17",
          "June18",
          "June19",
          "June20",
          "June21",
          "June22",
          "June23",
          "June24",
          "June25",
          "June26",
          "June27",
          "June28",
          "June29",
          "June30",
          "July01",
          "July02",
          "July03",
          "July04",
          "July05",
          "July06",
          "July07",
          "July08",
          "July09",
          "July10",
          "July11",
          "July12",
          "July13",
          "July14",
          "July15",
          "July16",
          "July17",
          "July18",
          "July19",
          "July20",
          "July21",
          "July22",
          "July23",
          "July24",
          "July25",
          "July26",
          "July27",
          "July28",
          "July29",
          "July30",
          "July31",
          "August01",
          "August02",
          "August03",
          "August04",
          "August05",
          "August06",
          "August07",
          "August08",
          "August09",
          "August10",
          "August11",
          "August12",
          "August13",
          "August14",
          "August15",
          "August16",
          "August17",
          "August18",
          "August19",
          "August20",
          "August21",
          "August22",
          "August23",
          "August24",
          "August25",
          "August26",
          "August27",
          "August28",
          "August29",
          "August30",
          "August31",
          "September01",
          "September02",
          "September03",
          "September04",
          "September05",
          "September06",
          "September07",
          "September08",
          "September09",
          "September10",
          "September11",
          "September12",
          "September13",
          "September14",
          "September15",
          "September16",
          "September17",
          "September18",
          "September19",
          "September20",
          "September21",
          "September22",
          "September23",
          "September24",
          "September25",
          "September26",
          "September27",
          "September28",
          "September29",
          "September30",
          "October01",
          "October02",
          "October03",
          "October04",
          "October05",
          "October06",
          "October07",
          "October08",
          "October09",
          "October10",
          "October11",
          "October12",
          "October13",
          "October14",
          "October15",
          "October16",
          "October17",
          "October18",
          "October19",
          "October20",
          "October21",
          "October22",
          "October23",
          "October24",
          "October25",
          "October26",
          "October27",
          "October28",
          "October29",
          "October30",
          "October31",
          "November01",
          "November02",
          "November03",
          "November04",
          "November05",
          "November06",
          "November07",
          "November08",
          "November09",
          "November10",
          "November11",
          "November12",
          "November13",
          "November14",
          "November15",
          "November16",
          "November17",
          "November18",
          "November19"
         ],
         "y": [
          1166,
          1426,
          1322,
          1225,
          1205,
          1240,
          1243,
          1436,
          1623,
          1262,
          1555,
          1357,
          1642,
          2017,
          2093,
          1661,
          2294,
          1589,
          2695,
          2091,
          2547,
          2607,
          3731,
          2935,
          2765,
          3035,
          3204,
          2991,
          3029,
          2778,
          3588,
          3018,
          3699,
          3357,
          3762,
          4798,
          4161,
          3625,
          4186,
          4145,
          3746,
          5091,
          4949,
          5957,
          6225,
          5006,
          6132,
          4931,
          5147,
          7198,
          7154,
          6659,
          6122,
          6872,
          6530,
          6491,
          7343,
          8245,
          8105,
          8874,
          9636,
          7368,
          9079,
          8017,
          10135,
          10386,
          9312,
          9168,
          9143,
          11302,
          12093,
          11757,
          11980,
          10623,
          10910,
          11611,
          13457,
          13060,
          16216,
          15510,
          13677,
          13865,
          17460,
          14722,
          19171,
          17665,
          18912,
          16596,
          16176,
          14473,
          18057,
          20489,
          18893,
          19108,
          18801,
          15156,
          13891,
          19454,
          18464,
          22125,
          18349,
          18114,
          13470,
          13499,
          17564,
          17464,
          19156,
          16953,
          12658,
          10899,
          9759,
          15383,
          14270,
          13563,
          14209,
          12416,
          8914,
          7995,
          9208,
          10476,
          12565,
          11801,
          9999,
          8959,
          8674,
          10962,
          10655,
          10349,
          10560,
          9052,
          7795,
          7662,
          8941,
          8685,
          8116,
          8547,
          8463,
          6941,
          7101,
          8796,
          7889,
          8669,
          7506,
          7890,
          6931,
          7715,
          8365,
          8144,
          8792,
          7494,
          6805,
          6569,
          6593,
          7499,
          8610,
          8236,
          8727,
          7443,
          6668,
          7365,
          8813,
          8186,
          8149,
          6422,
          8365,
          5863,
          7509,
          8763,
          7260,
          8952,
          8829,
          8084,
          4977,
          6589,
          10615,
          10770,
          8757,
          13525,
          8987,
          5961,
          7934,
          11556,
          9116,
          9506,
          14176,
          8221,
          9976,
          9776,
          10612,
          10970,
          10637,
          11757,
          9085,
          8778,
          8645,
          12056,
          10975,
          13742,
          11074,
          10244,
          7980,
          10894,
          13855,
          15302,
          11910,
          14997,
          12490,
          9371,
          13077,
          14163,
          15617,
          14730,
          14068,
          12468,
          10580,
          12890,
          15346,
          13849
         ]
        },
        {
         "line": {
          "width": 3
         },
         "mode": "lines",
         "name": "Total_Deaths",
         "type": "scatter",
         "x": [
          "April16",
          "April17",
          "April18",
          "April19",
          "April20",
          "April21",
          "April22",
          "April23",
          "April24",
          "April25",
          "April26",
          "April27",
          "April28",
          "April29",
          "April30",
          "May01",
          "May02",
          "May03",
          "May04",
          "May05",
          "May06",
          "May07",
          "May08",
          "May09",
          "May10",
          "May11",
          "May12",
          "May13",
          "May14",
          "May15",
          "May16",
          "May17",
          "May18",
          "May19",
          "May20",
          "May21",
          "May22",
          "May23",
          "May24",
          "May25",
          "May26",
          "May27",
          "May28",
          "May29",
          "May30",
          "May31",
          "June01",
          "June02",
          "June03",
          "June04",
          "June05",
          "June06",
          "June07",
          "June08",
          "June09",
          "June10",
          "June11",
          "June12",
          "June13",
          "June14",
          "June15",
          "June16",
          "June17",
          "June18",
          "June19",
          "June20",
          "June21",
          "June22",
          "June23",
          "June24",
          "June25",
          "June26",
          "June27",
          "June28",
          "June29",
          "June30",
          "July01",
          "July02",
          "July03",
          "July04",
          "July05",
          "July06",
          "July07",
          "July08",
          "July09",
          "July10",
          "July11",
          "July12",
          "July13",
          "July14",
          "July15",
          "July16",
          "July17",
          "July18",
          "July19",
          "July20",
          "July21",
          "July22",
          "July23",
          "July24",
          "July25",
          "July26",
          "July27",
          "July28",
          "July29",
          "July30",
          "July31",
          "August01",
          "August02",
          "August03",
          "August04",
          "August05",
          "August06",
          "August07",
          "August08",
          "August09",
          "August10",
          "August11",
          "August12",
          "August13",
          "August14",
          "August15",
          "August16",
          "August17",
          "August18",
          "August19",
          "August20",
          "August21",
          "August22",
          "August23",
          "August24",
          "August25",
          "August26",
          "August27",
          "August28",
          "August29",
          "August30",
          "August31",
          "September01",
          "September02",
          "September03",
          "September04",
          "September05",
          "September06",
          "September07",
          "September08",
          "September09",
          "September10",
          "September11",
          "September12",
          "September13",
          "September14",
          "September15",
          "September16",
          "September17",
          "September18",
          "September19",
          "September20",
          "September21",
          "September22",
          "September23",
          "September24",
          "September25",
          "September26",
          "September27",
          "September28",
          "September29",
          "September30",
          "October01",
          "October02",
          "October03",
          "October04",
          "October05",
          "October06",
          "October07",
          "October08",
          "October09",
          "October10",
          "October11",
          "October12",
          "October13",
          "October14",
          "October15",
          "October16",
          "October17",
          "October18",
          "October19",
          "October20",
          "October21",
          "October22",
          "October23",
          "October24",
          "October25",
          "October26",
          "October27",
          "October28",
          "October29",
          "October30",
          "October31",
          "November01",
          "November02",
          "November03",
          "November04",
          "November05",
          "November06",
          "November07",
          "November08",
          "November09",
          "November10",
          "November11",
          "November12",
          "November13",
          "November14",
          "November15",
          "November16",
          "November17",
          "November18",
          "November19"
         ],
         "y": [
          968,
          1020,
          1082,
          1125,
          1164,
          1197,
          1244,
          1298,
          1328,
          1379,
          1427,
          1468,
          1527,
          1592,
          1638,
          1691,
          1763,
          1802,
          1848,
          1917,
          2015,
          2083,
          2161,
          2232,
          2301,
          2355,
          2407,
          2507,
          2578,
          2639,
          2726,
          2777,
          2849,
          2924,
          3010,
          3115,
          3204,
          3267,
          3356,
          3495,
          3613,
          3710,
          3814,
          3945,
          4092,
          4245,
          4369,
          4520,
          4627,
          4783,
          4942,
          5082,
          5215,
          5390,
          5568,
          5717,
          5869,
          6080,
          6283,
          6490,
          6793,
          7026,
          7249,
          7450,
          7713,
          7941,
          8148,
          8371,
          8653,
          8889,
          9104,
          9317,
          9519,
          9698,
          9914,
          10184,
          10443,
          10662,
          10920,
          11117,
          11400,
          11649,
          12015,
          12270,
          12500,
          12809,
          13029,
          13285,
          13504,
          13803,
          14029,
          14442,
          14717,
          14996,
          15210,
          15465,
          15779,
          16482,
          16756,
          17146,
          17570,
          17808,
          18218,
          18540,
          18908,
          19362,
          19726,
          20018,
          20350,
          20671,
          21143,
          21683,
          22114,
          22553,
          22966,
          23324,
          23643,
          23912,
          24322,
          24727,
          25143,
          25383,
          25678,
          25942,
          26357,
          26685,
          27022,
          27374,
          27649,
          27831,
          28051,
          28334,
          28656,
          28910,
          29141,
          29472,
          29633,
          29862,
          30104,
          30370,
          30666,
          30905,
          31131,
          31357,
          31575,
          31801,
          31962,
          32178,
          32410,
          32556,
          32678,
          32849,
          33126,
          33308,
          33484,
          33677,
          33879,
          34008,
          34133,
          34378,
          34583,
          34758,
          34912,
          35080,
          35215,
          35512,
          35729,
          35922,
          36146,
          36288,
          36399,
          36569,
          36697,
          36885,
          37154,
          37452,
          37689,
          37960,
          38168,
          38362,
          38633,
          38896,
          39150,
          39357,
          39622,
          39807,
          39991,
          40289,
          40544,
          40760,
          40985,
          41208,
          41324,
          41672,
          41972,
          42202,
          42404,
          42698,
          42922,
          43244,
          43461,
          43777,
          44012,
          44316,
          44684,
          44918,
          45433,
          45684,
          46025,
          46357,
          46626,
          46906,
          47162,
          47438,
          47775,
          48112,
          48509,
          48785
         ]
        },
        {
         "line": {
          "width": 3
         },
         "mode": "lines",
         "name": "New_Deaths",
         "type": "scatter",
         "x": [
          "April16",
          "April17",
          "April18",
          "April19",
          "April20",
          "April21",
          "April22",
          "April23",
          "April24",
          "April25",
          "April26",
          "April27",
          "April28",
          "April29",
          "April30",
          "May01",
          "May02",
          "May03",
          "May04",
          "May05",
          "May06",
          "May07",
          "May08",
          "May09",
          "May10",
          "May11",
          "May12",
          "May13",
          "May14",
          "May15",
          "May16",
          "May17",
          "May18",
          "May19",
          "May20",
          "May21",
          "May22",
          "May23",
          "May24",
          "May25",
          "May26",
          "May27",
          "May28",
          "May29",
          "May30",
          "May31",
          "June01",
          "June02",
          "June03",
          "June04",
          "June05",
          "June06",
          "June07",
          "June08",
          "June09",
          "June10",
          "June11",
          "June12",
          "June13",
          "June14",
          "June15",
          "June16",
          "June17",
          "June18",
          "June19",
          "June20",
          "June21",
          "June22",
          "June23",
          "June24",
          "June25",
          "June26",
          "June27",
          "June28",
          "June29",
          "June30",
          "July01",
          "July02",
          "July03",
          "July04",
          "July05",
          "July06",
          "July07",
          "July08",
          "July09",
          "July10",
          "July11",
          "July12",
          "July13",
          "July14",
          "July15",
          "July16",
          "July17",
          "July18",
          "July19",
          "July20",
          "July21",
          "July22",
          "July23",
          "July24",
          "July25",
          "July26",
          "July27",
          "July28",
          "July29",
          "July30",
          "July31",
          "August01",
          "August02",
          "August03",
          "August04",
          "August05",
          "August06",
          "August07",
          "August08",
          "August09",
          "August10",
          "August11",
          "August12",
          "August13",
          "August14",
          "August15",
          "August16",
          "August17",
          "August18",
          "August19",
          "August20",
          "August21",
          "August22",
          "August23",
          "August24",
          "August25",
          "August26",
          "August27",
          "August28",
          "August29",
          "August30",
          "August31",
          "September01",
          "September02",
          "September03",
          "September04",
          "September05",
          "September06",
          "September07",
          "September08",
          "September09",
          "September10",
          "September11",
          "September12",
          "September13",
          "September14",
          "September15",
          "September16",
          "September17",
          "September18",
          "September19",
          "September20",
          "September21",
          "September22",
          "September23",
          "September24",
          "September25",
          "September26",
          "September27",
          "September28",
          "September29",
          "September30",
          "October01",
          "October02",
          "October03",
          "October04",
          "October05",
          "October06",
          "October07",
          "October08",
          "October09",
          "October10",
          "October11",
          "October12",
          "October13",
          "October14",
          "October15",
          "October16",
          "October17",
          "October18",
          "October19",
          "October20",
          "October21",
          "October22",
          "October23",
          "October24",
          "October25",
          "October26",
          "October27",
          "October28",
          "October29",
          "October30",
          "October31",
          "November01",
          "November02",
          "November03",
          "November04",
          "November05",
          "November06",
          "November07",
          "November08",
          "November09",
          "November10",
          "November11",
          "November12",
          "November13",
          "November14",
          "November15",
          "November16",
          "November17",
          "November18",
          "November19"
         ],
         "y": [
          55,
          52,
          62,
          43,
          39,
          33,
          47,
          54,
          30,
          51,
          48,
          39,
          59,
          65,
          46,
          53,
          72,
          37,
          46,
          69,
          98,
          68,
          78,
          71,
          69,
          54,
          52,
          100,
          71,
          61,
          87,
          51,
          72,
          75,
          86,
          105,
          89,
          63,
          89,
          139,
          118,
          97,
          104,
          131,
          147,
          153,
          124,
          151,
          107,
          156,
          159,
          140,
          133,
          173,
          178,
          149,
          152,
          211,
          203,
          207,
          303,
          233,
          223,
          201,
          263,
          210,
          207,
          223,
          282,
          236,
          214,
          213,
          202,
          179,
          216,
          270,
          259,
          219,
          258,
          197,
          284,
          249,
          366,
          255,
          230,
          309,
          220,
          256,
          219,
          299,
          224,
          370,
          275,
          279,
          214,
          255,
          314,
          690,
          274,
          390,
          424,
          238,
          410,
          322,
          368,
          459,
          364,
          292,
          332,
          321,
          472,
          540,
          431,
          439,
          413,
          358,
          319,
          269,
          410,
          405,
          416,
          240,
          295,
          264,
          415,
          328,
          337,
          352,
          275,
          182,
          223,
          283,
          322,
          254,
          231,
          331,
          161,
          226,
          242,
          266,
          296,
          239,
          226,
          226,
          218,
          226,
          192,
          216,
          232,
          146,
          121,
          171,
          277,
          182,
          176,
          197,
          202,
          129,
          135,
          244,
          209,
          175,
          154,
          168,
          135,
          297,
          217,
          193,
          224,
          140,
          111,
          170,
          128,
          188,
          269,
          303,
          237,
          271,
          208,
          194,
          271,
          263,
          254,
          207,
          265,
          185,
          184,
          298,
          255,
          216,
          225,
          223,
          116,
          241,
          182,
          230,
          186,
          294,
          204,
          306,
          217,
          316,
          235,
          302,
          297,
          234,
          238,
          251,
          341,
          332,
          269,
          280,
          256,
          275,
          337,
          337,
          397,
          273
         ]
        },
        {
         "line": {
          "width": 3
         },
         "mode": "lines",
         "name": "Total_Recovered",
         "type": "scatter",
         "x": [
          "April16",
          "April17",
          "April18",
          "April19",
          "April20",
          "April21",
          "April22",
          "April23",
          "April24",
          "April25",
          "April26",
          "April27",
          "April28",
          "April29",
          "April30",
          "May01",
          "May02",
          "May03",
          "May04",
          "May05",
          "May06",
          "May07",
          "May08",
          "May09",
          "May10",
          "May11",
          "May12",
          "May13",
          "May14",
          "May15",
          "May16",
          "May17",
          "May18",
          "May19",
          "May20",
          "May21",
          "May22",
          "May23",
          "May24",
          "May25",
          "May26",
          "May27",
          "May28",
          "May29",
          "May30",
          "May31",
          "June01",
          "June02",
          "June03",
          "June04",
          "June05",
          "June06",
          "June07",
          "June08",
          "June09",
          "June10",
          "June11",
          "June12",
          "June13",
          "June14",
          "June15",
          "June16",
          "June17",
          "June18",
          "June19",
          "June20",
          "June21",
          "June22",
          "June23",
          "June24",
          "June25",
          "June26",
          "June27",
          "June28",
          "June29",
          "June30",
          "July01",
          "July02",
          "July03",
          "July04",
          "July05",
          "July06",
          "July07",
          "July08",
          "July09",
          "July10",
          "July11",
          "July12",
          "July13",
          "July14",
          "July15",
          "July16",
          "July17",
          "July18",
          "July19",
          "July20",
          "July21",
          "July22",
          "July23",
          "July24",
          "July25",
          "July26",
          "July27",
          "July28",
          "July29",
          "July30",
          "July31",
          "August01",
          "August02",
          "August03",
          "August04",
          "August05",
          "August06",
          "August07",
          "August08",
          "August09",
          "August10",
          "August11",
          "August12",
          "August13",
          "August14",
          "August15",
          "August16",
          "August17",
          "August18",
          "August19",
          "August20",
          "August21",
          "August22",
          "August23",
          "August24",
          "August25",
          "August26",
          "August27",
          "August28",
          "August29",
          "August30",
          "August31",
          "September01",
          "September02",
          "September03",
          "September04",
          "September05",
          "September06",
          "September07",
          "September08",
          "September09",
          "September10",
          "September11",
          "September12",
          "September13",
          "September14",
          "September15",
          "September16",
          "September17",
          "September18",
          "September19",
          "September20",
          "September21",
          "September22",
          "September23",
          "September24",
          "September25",
          "September26",
          "September27",
          "September28",
          "September29",
          "September30",
          "October01",
          "October02",
          "October03",
          "October04",
          "October05",
          "October06",
          "October07",
          "October08",
          "October09",
          "October10",
          "October11",
          "October12",
          "October13",
          "October14",
          "October15",
          "October16",
          "October17",
          "October18",
          "October19",
          "October20",
          "October21",
          "October22",
          "October23",
          "October24",
          "October25",
          "October26",
          "October27",
          "October28",
          "October29",
          "October30",
          "October31",
          "November01",
          "November02",
          "November03",
          "November04",
          "November05",
          "November06",
          "November07",
          "November08",
          "November09",
          "November10",
          "November11",
          "November12",
          "November13",
          "November14",
          "November15",
          "November16",
          "November17",
          "November18",
          "November19"
         ],
         "y": [
          4585,
          4958,
          5470,
          5840,
          6451,
          6770,
          7315,
          8534,
          9140,
          9530,
          10018,
          10575,
          11868,
          12630,
          13070,
          13918,
          14664,
          15137,
          16231,
          16977,
          18286,
          19099,
          19839,
          21649,
          22643,
          23961,
          24819,
          26250,
          28186,
          30210,
          32103,
          33496,
          34879,
          36802,
          39428,
          40588,
          42881,
          44166,
          46063,
          47813,
          49902,
          52623,
          55126,
          58197,
          60987,
          63463,
          65931,
          68985,
          72380,
          75830,
          80324,
          83432,
          84919,
          88212,
          92914,
          97163,
          100711,
          105092,
          108835,
          112243,
          116730,
          120949,
          125580,
          128347,
          135176,
          144985,
          148863,
          153242,
          156968,
          163507,
          168752,
          175652,
          181179,
          185243,
          189722,
          195397,
          200995,
          209616,
          217705,
          224808,
          230016,
          238464,
          247734,
          255857,
          265783,
          274778,
          287924,
          298194,
          305852,
          316780,
          335800,
          346500,
          363494,
          370715,
          383351,
          392264,
          412654,
          438288,
          449637,
          465357,
          487462,
          494224,
          510089,
          527821,
          544168,
          559906,
          583665,
          606320,
          615344,
          632929,
          655407,
          677208,
          693620,
          707877,
          723688,
          736638,
          747414,
          761619,
          772365,
          783617,
          814407,
          828034,
          838452,
          849723,
          862564,
          874088,
          884480,
          892304,
          902901,
          909724,
          925220,
          934192,
          945475,
          957854,
          964846,
          972908,
          979996,
          987398,
          1002554,
          1011064,
          1017753,
          1025872,
          1033734,
          1040454,
          1049529,
          1055312,
          1063653,
          1072778,
          1080227,
          1096779,
          1104047,
          1110971,
          1121263,
          1131194,
          1138173,
          1145275,
          1153639,
          1158805,
          1166475,
          1173809,
          1180677,
          1190410,
          1199597,
          1207311,
          1213045,
          1218331,
          1225806,
          1233125,
          1239450,
          1246159,
          1253356,
          1260391,
          1268405,
          1275086,
          1286083,
          1292200,
          1299430,
          1305456,
          1311335,
          1318297,
          1323354,
          1330252,
          1336611,
          1343499,
          1352602,
          1361855,
          1367151,
          1376599,
          1384275,
          1390786,
          1398172,
          1405116,
          1412173,
          1421870,
          1429087,
          1436462,
          1444345,
          1455052,
          1462964,
          1472758,
          1481404,
          1489152,
          1497854,
          1548650,
          1560777,
          1582702,
          1595468,
          1603562,
          1613406,
          1629090,
          1641278,
          1650737,
          1660706,
          1668055,
          1680971,
          1691074,
          1709279,
          1720252
         ]
        },
        {
         "line": {
          "width": 3
         },
         "mode": "lines",
         "name": "Active_Cases",
         "type": "scatter",
         "x": [
          "April16",
          "April17",
          "April18",
          "April19",
          "April20",
          "April21",
          "April22",
          "April23",
          "April24",
          "April25",
          "April26",
          "April27",
          "April28",
          "April29",
          "April30",
          "May01",
          "May02",
          "May03",
          "May04",
          "May05",
          "May06",
          "May07",
          "May08",
          "May09",
          "May10",
          "May11",
          "May12",
          "May13",
          "May14",
          "May15",
          "May16",
          "May17",
          "May18",
          "May19",
          "May20",
          "May21",
          "May22",
          "May23",
          "May24",
          "May25",
          "May26",
          "May27",
          "May28",
          "May29",
          "May30",
          "May31",
          "June01",
          "June02",
          "June03",
          "June04",
          "June05",
          "June06",
          "June07",
          "June08",
          "June09",
          "June10",
          "June11",
          "June12",
          "June13",
          "June14",
          "June15",
          "June16",
          "June17",
          "June18",
          "June19",
          "June20",
          "June21",
          "June22",
          "June23",
          "June24",
          "June25",
          "June26",
          "June27",
          "June28",
          "June29",
          "June30",
          "July01",
          "July02",
          "July03",
          "July04",
          "July05",
          "July06",
          "July07",
          "July08",
          "July09",
          "July10",
          "July11",
          "July12",
          "July13",
          "July14",
          "July15",
          "July16",
          "July17",
          "July18",
          "July19",
          "July20",
          "July21",
          "July22",
          "July23",
          "July24",
          "July25",
          "July26",
          "July27",
          "July28",
          "July29",
          "July30",
          "July31",
          "August01",
          "August02",
          "August03",
          "August04",
          "August05",
          "August06",
          "August07",
          "August08",
          "August09",
          "August10",
          "August11",
          "August12",
          "August13",
          "August14",
          "August15",
          "August16",
          "August17",
          "August18",
          "August19",
          "August20",
          "August21",
          "August22",
          "August23",
          "August24",
          "August25",
          "August26",
          "August27",
          "August28",
          "August29",
          "August30",
          "August31",
          "September01",
          "September02",
          "September03",
          "September04",
          "September05",
          "September06",
          "September07",
          "September08",
          "September09",
          "September10",
          "September11",
          "September12",
          "September13",
          "September14",
          "September15",
          "September16",
          "September17",
          "September18",
          "September19",
          "September20",
          "September21",
          "September22",
          "September23",
          "September24",
          "September25",
          "September26",
          "September27",
          "September28",
          "September29",
          "September30",
          "October01",
          "October02",
          "October03",
          "October04",
          "October05",
          "October06",
          "October07",
          "October08",
          "October09",
          "October10",
          "October11",
          "October12",
          "October13",
          "October14",
          "October15",
          "October16",
          "October17",
          "October18",
          "October19",
          "October20",
          "October21",
          "October22",
          "October23",
          "October24",
          "October25",
          "October26",
          "October27",
          "October28",
          "October29",
          "October30",
          "October31",
          "November01",
          "November02",
          "November03",
          "November04",
          "November05",
          "November06",
          "November07",
          "November08",
          "November09",
          "November10",
          "November11",
          "November12",
          "November13",
          "November14",
          "November15",
          "November16",
          "November17",
          "November18",
          "November19"
         ],
         "y": [
          13440,
          14441,
          15189,
          16001,
          16556,
          17444,
          18095,
          18385,
          19372,
          20193,
          21212,
          21993,
          22283,
          23471,
          25077,
          25837,
          27307,
          28441,
          29996,
          31272,
          32412,
          34138,
          37050,
          38104,
          39806,
          41462,
          43756,
          45216,
          46238,
          46931,
          48534,
          50108,
          52352,
          53502,
          54552,
          57981,
          59760,
          62037,
          64237,
          66493,
          68032,
          70305,
          72647,
          75402,
          78690,
          81067,
          84607,
          86333,
          87978,
          91570,
          94071,
          97482,
          101984,
          105388,
          107038,
          109131,
          112774,
          116427,
          120586,
          125845,
          130691,
          133606,
          137831,
          142880,
          145923,
          146915,
          152142,
          156708,
          161843,
          166370,
          173003,
          177647,
          183898,
          190278,
          196678,
          202344,
          209944,
          214164,
          222033,
          230243,
          238429,
          243597,
          251421,
          257765,
          266780,
          275141,
          280687,
          286757,
          295056,
          298302,
          297144,
          307126,
          308750,
          320358,
          326309,
          332297,
          325484,
          318736,
          325647,
          331662,
          327482,
          338596,
          335787,
          331232,
          332081,
          333353,
          328386,
          322392,
          325694,
          318687,
          305669,
          298711,
          296138,
          295034,
          293024,
          292132,
          290041,
          283562,
          281614,
          280433,
          261792,
          259726,
          259012,
          256436,
          251854,
          250964,
          250890,
          253124,
          252812,
          254859,
          246690,
          245097,
          242433,
          238485,
          239378,
          239532,
          240746,
          240056,
          231759,
          231779,
          232730,
          233040,
          232458,
          233441,
          231079,
          232785,
          232648,
          231451,
          232562,
          223358,
          222844,
          222318,
          218342,
          215731,
          217353,
          218294,
          218455,
          220603,
          219624,
          219433,
          221173,
          219451,
          218259,
          216799,
          219295,
          219575,
          219399,
          220664,
          221381,
          223568,
          225089,
          225968,
          222803,
          222523,
          221872,
          226365,
          227655,
          234883,
          237783,
          236588,
          239194,
          243589,
          246092,
          249831,
          254639,
          253422,
          257918,
          257948,
          260629,
          264872,
          267898,
          272488,
          274400,
          275335,
          276463,
          280914,
          283939,
          286685,
          289623,
          289818,
          288935,
          291772,
          297001,
          261203,
          260618,
          253509,
          252718,
          253850,
          256742,
          255035,
          258465,
          263456,
          267396,
          272239,
          269566,
          272016,
          268799,
          271505
         ]
        },
        {
         "line": {
          "width": 3
         },
         "mode": "lines",
         "name": "Serious_Critical",
         "type": "scatter",
         "x": [
          "April16",
          "April17",
          "April18",
          "April19",
          "April20",
          "April21",
          "April22",
          "April23",
          "April24",
          "April25",
          "April26",
          "April27",
          "April28",
          "April29",
          "April30",
          "May01",
          "May02",
          "May03",
          "May04",
          "May05",
          "May06",
          "May07",
          "May08",
          "May09",
          "May10",
          "May11",
          "May12",
          "May13",
          "May14",
          "May15",
          "May16",
          "May17",
          "May18",
          "May19",
          "May20",
          "May21",
          "May22",
          "May23",
          "May24",
          "May25",
          "May26",
          "May27",
          "May28",
          "May29",
          "May30",
          "May31",
          "June01",
          "June02",
          "June03",
          "June04",
          "June05",
          "June06",
          "June07",
          "June08",
          "June09",
          "June10",
          "June11",
          "June12",
          "June13",
          "June14",
          "June15",
          "June16",
          "June17",
          "June18",
          "June19",
          "June20",
          "June21",
          "June22",
          "June23",
          "June24",
          "June25",
          "June26",
          "June27",
          "June28",
          "June29",
          "June30",
          "July01",
          "July02",
          "July03",
          "July04",
          "July05",
          "July06",
          "July07",
          "July08",
          "July09",
          "July10",
          "July11",
          "July12",
          "July13",
          "July14",
          "July15",
          "July16",
          "July17",
          "July18",
          "July19",
          "July20",
          "July21",
          "July22",
          "July23",
          "July24",
          "July25",
          "July26",
          "July27",
          "July28",
          "July29",
          "July30",
          "July31",
          "August01",
          "August02",
          "August03",
          "August04",
          "August05",
          "August06",
          "August07",
          "August08",
          "August09",
          "August10",
          "August11",
          "August12",
          "August13",
          "August14",
          "August15",
          "August16",
          "August17",
          "August18",
          "August19",
          "August20",
          "August21",
          "August22",
          "August23",
          "August24",
          "August25",
          "August26",
          "August27",
          "August28",
          "August29",
          "August30",
          "August31",
          "September01",
          "September02",
          "September03",
          "September04",
          "September05",
          "September06",
          "September07",
          "September08",
          "September09",
          "September10",
          "September11",
          "September12",
          "September13",
          "September14",
          "September15",
          "September16",
          "September17",
          "September18",
          "September19",
          "September20",
          "September21",
          "September22",
          "September23",
          "September24",
          "September25",
          "September26",
          "September27",
          "September28",
          "September29",
          "September30",
          "October01",
          "October02",
          "October03",
          "October04",
          "October05",
          "October06",
          "October07",
          "October08",
          "October09",
          "October10",
          "October11",
          "October12",
          "October13",
          "October14",
          "October15",
          "October16",
          "October17",
          "October18",
          "October19",
          "October20",
          "October21",
          "October22",
          "October23",
          "October24",
          "October25",
          "October26",
          "October27",
          "October28",
          "October29",
          "October30",
          "October31",
          "November01",
          "November02",
          "November03",
          "November04",
          "November05",
          "November06",
          "November07",
          "November08",
          "November09",
          "November10",
          "November11",
          "November12",
          "November13",
          "November14",
          "November15",
          "November16",
          "November17",
          "November18",
          "November19"
         ],
         "y": [
          180,
          187,
          195,
          174,
          177,
          164,
          174,
          173,
          148,
          155,
          140,
          138,
          120,
          122,
          126,
          126,
          127,
          132,
          129,
          128,
          128,
          176,
          223,
          217,
          235,
          224,
          219,
          258,
          290,
          288,
          289,
          288,
          285,
          284,
          287,
          285,
          296,
          306,
          323,
          327,
          334,
          349,
          352,
          356,
          370,
          346,
          347,
          425,
          435,
          449,
          443,
          463,
          469,
          490,
          499,
          499,
          511,
          526,
          524,
          515,
          517,
          500,
          493,
          506,
          499,
          481,
          491,
          502,
          504,
          847,
          885,
          881,
          904,
          907,
          924,
          920,
          919,
          916,
          1797,
          944,
          945,
          956,
          950,
          964,
          952,
          965,
          978,
          969,
          994,
          982,
          990,
          1003,
          1030,
          1066,
          1061,
          1047,
          1046,
          1044,
          1068,
          1091,
          1086,
          1091,
          1094,
          1124,
          1120,
          1160,
          1138,
          1151,
          1150,
          1149,
          1149,
          1188,
          1187,
          1196,
          1206,
          1200,
          1161,
          1207,
          1211,
          1188,
          1190,
          1196,
          1210,
          1210,
          1214,
          1206,
          1190,
          1202,
          1207,
          1218,
          1212,
          1258,
          1271,
          1282,
          1289,
          1264,
          1278,
          1270,
          1262,
          1278,
          1445,
          1418,
          1421,
          1421,
          1434,
          1469,
          1468,
          1500,
          1486,
          1486,
          1503,
          1504,
          1428,
          1434,
          1457,
          1451,
          1466,
          1457,
          1465,
          1402,
          1463,
          1455,
          1530,
          1557,
          1515,
          1568,
          1621,
          1609,
          1599,
          1602,
          1576,
          1633,
          1638,
          1607,
          1569,
          1617,
          1640,
          1668,
          1720,
          1685,
          1771,
          1774,
          1829,
          1861,
          1845,
          1850,
          1855,
          1932,
          1961,
          1995,
          2063,
          2060,
          2133,
          2189,
          2191,
          2231,
          2241,
          2295,
          2284,
          2315,
          2341,
          2389,
          2419,
          2428,
          2423,
          2448,
          2434,
          2443,
          2475,
          2482,
          2509,
          2540,
          2609,
          2594,
          2573,
          2575,
          2573,
          2600
         ]
        }
       ],
       "layout": {
        "legend": {
         "bgcolor": "rgba(255, 255, 255, 0)",
         "bordercolor": "rgba(255, 255, 255, 0)",
         "traceorder": "normal",
         "x": 0.07,
         "y": 0.98
        },
        "template": {
         "data": {
          "bar": [
           {
            "error_x": {
             "color": "#2a3f5f"
            },
            "error_y": {
             "color": "#2a3f5f"
            },
            "marker": {
             "line": {
              "color": "#E5ECF6",
              "width": 0.5
             }
            },
            "type": "bar"
           }
          ],
          "barpolar": [
           {
            "marker": {
             "line": {
              "color": "#E5ECF6",
              "width": 0.5
             }
            },
            "type": "barpolar"
           }
          ],
          "carpet": [
           {
            "aaxis": {
             "endlinecolor": "#2a3f5f",
             "gridcolor": "white",
             "linecolor": "white",
             "minorgridcolor": "white",
             "startlinecolor": "#2a3f5f"
            },
            "baxis": {
             "endlinecolor": "#2a3f5f",
             "gridcolor": "white",
             "linecolor": "white",
             "minorgridcolor": "white",
             "startlinecolor": "#2a3f5f"
            },
            "type": "carpet"
           }
          ],
          "choropleth": [
           {
            "colorbar": {
             "outlinewidth": 0,
             "ticks": ""
            },
            "type": "choropleth"
           }
          ],
          "contour": [
           {
            "colorbar": {
             "outlinewidth": 0,
             "ticks": ""
            },
            "colorscale": [
             [
              0,
              "#0d0887"
             ],
             [
              0.1111111111111111,
              "#46039f"
             ],
             [
              0.2222222222222222,
              "#7201a8"
             ],
             [
              0.3333333333333333,
              "#9c179e"
             ],
             [
              0.4444444444444444,
              "#bd3786"
             ],
             [
              0.5555555555555556,
              "#d8576b"
             ],
             [
              0.6666666666666666,
              "#ed7953"
             ],
             [
              0.7777777777777778,
              "#fb9f3a"
             ],
             [
              0.8888888888888888,
              "#fdca26"
             ],
             [
              1,
              "#f0f921"
             ]
            ],
            "type": "contour"
           }
          ],
          "contourcarpet": [
           {
            "colorbar": {
             "outlinewidth": 0,
             "ticks": ""
            },
            "type": "contourcarpet"
           }
          ],
          "heatmap": [
           {
            "colorbar": {
             "outlinewidth": 0,
             "ticks": ""
            },
            "colorscale": [
             [
              0,
              "#0d0887"
             ],
             [
              0.1111111111111111,
              "#46039f"
             ],
             [
              0.2222222222222222,
              "#7201a8"
             ],
             [
              0.3333333333333333,
              "#9c179e"
             ],
             [
              0.4444444444444444,
              "#bd3786"
             ],
             [
              0.5555555555555556,
              "#d8576b"
             ],
             [
              0.6666666666666666,
              "#ed7953"
             ],
             [
              0.7777777777777778,
              "#fb9f3a"
             ],
             [
              0.8888888888888888,
              "#fdca26"
             ],
             [
              1,
              "#f0f921"
             ]
            ],
            "type": "heatmap"
           }
          ],
          "heatmapgl": [
           {
            "colorbar": {
             "outlinewidth": 0,
             "ticks": ""
            },
            "colorscale": [
             [
              0,
              "#0d0887"
             ],
             [
              0.1111111111111111,
              "#46039f"
             ],
             [
              0.2222222222222222,
              "#7201a8"
             ],
             [
              0.3333333333333333,
              "#9c179e"
             ],
             [
              0.4444444444444444,
              "#bd3786"
             ],
             [
              0.5555555555555556,
              "#d8576b"
             ],
             [
              0.6666666666666666,
              "#ed7953"
             ],
             [
              0.7777777777777778,
              "#fb9f3a"
             ],
             [
              0.8888888888888888,
              "#fdca26"
             ],
             [
              1,
              "#f0f921"
             ]
            ],
            "type": "heatmapgl"
           }
          ],
          "histogram": [
           {
            "marker": {
             "colorbar": {
              "outlinewidth": 0,
              "ticks": ""
             }
            },
            "type": "histogram"
           }
          ],
          "histogram2d": [
           {
            "colorbar": {
             "outlinewidth": 0,
             "ticks": ""
            },
            "colorscale": [
             [
              0,
              "#0d0887"
             ],
             [
              0.1111111111111111,
              "#46039f"
             ],
             [
              0.2222222222222222,
              "#7201a8"
             ],
             [
              0.3333333333333333,
              "#9c179e"
             ],
             [
              0.4444444444444444,
              "#bd3786"
             ],
             [
              0.5555555555555556,
              "#d8576b"
             ],
             [
              0.6666666666666666,
              "#ed7953"
             ],
             [
              0.7777777777777778,
              "#fb9f3a"
             ],
             [
              0.8888888888888888,
              "#fdca26"
             ],
             [
              1,
              "#f0f921"
             ]
            ],
            "type": "histogram2d"
           }
          ],
          "histogram2dcontour": [
           {
            "colorbar": {
             "outlinewidth": 0,
             "ticks": ""
            },
            "colorscale": [
             [
              0,
              "#0d0887"
             ],
             [
              0.1111111111111111,
              "#46039f"
             ],
             [
              0.2222222222222222,
              "#7201a8"
             ],
             [
              0.3333333333333333,
              "#9c179e"
             ],
             [
              0.4444444444444444,
              "#bd3786"
             ],
             [
              0.5555555555555556,
              "#d8576b"
             ],
             [
              0.6666666666666666,
              "#ed7953"
             ],
             [
              0.7777777777777778,
              "#fb9f3a"
             ],
             [
              0.8888888888888888,
              "#fdca26"
             ],
             [
              1,
              "#f0f921"
             ]
            ],
            "type": "histogram2dcontour"
           }
          ],
          "mesh3d": [
           {
            "colorbar": {
             "outlinewidth": 0,
             "ticks": ""
            },
            "type": "mesh3d"
           }
          ],
          "parcoords": [
           {
            "line": {
             "colorbar": {
              "outlinewidth": 0,
              "ticks": ""
             }
            },
            "type": "parcoords"
           }
          ],
          "scatter": [
           {
            "marker": {
             "colorbar": {
              "outlinewidth": 0,
              "ticks": ""
             }
            },
            "type": "scatter"
           }
          ],
          "scatter3d": [
           {
            "line": {
             "colorbar": {
              "outlinewidth": 0,
              "ticks": ""
             }
            },
            "marker": {
             "colorbar": {
              "outlinewidth": 0,
              "ticks": ""
             }
            },
            "type": "scatter3d"
           }
          ],
          "scattercarpet": [
           {
            "marker": {
             "colorbar": {
              "outlinewidth": 0,
              "ticks": ""
             }
            },
            "type": "scattercarpet"
           }
          ],
          "scattergeo": [
           {
            "marker": {
             "colorbar": {
              "outlinewidth": 0,
              "ticks": ""
             }
            },
            "type": "scattergeo"
           }
          ],
          "scattergl": [
           {
            "marker": {
             "colorbar": {
              "outlinewidth": 0,
              "ticks": ""
             }
            },
            "type": "scattergl"
           }
          ],
          "scattermapbox": [
           {
            "marker": {
             "colorbar": {
              "outlinewidth": 0,
              "ticks": ""
             }
            },
            "type": "scattermapbox"
           }
          ],
          "scatterpolar": [
           {
            "marker": {
             "colorbar": {
              "outlinewidth": 0,
              "ticks": ""
             }
            },
            "type": "scatterpolar"
           }
          ],
          "scatterpolargl": [
           {
            "marker": {
             "colorbar": {
              "outlinewidth": 0,
              "ticks": ""
             }
            },
            "type": "scatterpolargl"
           }
          ],
          "scatterternary": [
           {
            "marker": {
             "colorbar": {
              "outlinewidth": 0,
              "ticks": ""
             }
            },
            "type": "scatterternary"
           }
          ],
          "surface": [
           {
            "colorbar": {
             "outlinewidth": 0,
             "ticks": ""
            },
            "colorscale": [
             [
              0,
              "#0d0887"
             ],
             [
              0.1111111111111111,
              "#46039f"
             ],
             [
              0.2222222222222222,
              "#7201a8"
             ],
             [
              0.3333333333333333,
              "#9c179e"
             ],
             [
              0.4444444444444444,
              "#bd3786"
             ],
             [
              0.5555555555555556,
              "#d8576b"
             ],
             [
              0.6666666666666666,
              "#ed7953"
             ],
             [
              0.7777777777777778,
              "#fb9f3a"
             ],
             [
              0.8888888888888888,
              "#fdca26"
             ],
             [
              1,
              "#f0f921"
             ]
            ],
            "type": "surface"
           }
          ],
          "table": [
           {
            "cells": {
             "fill": {
              "color": "#EBF0F8"
             },
             "line": {
              "color": "white"
             }
            },
            "header": {
             "fill": {
              "color": "#C8D4E3"
             },
             "line": {
              "color": "white"
             }
            },
            "type": "table"
           }
          ]
         },
         "layout": {
          "annotationdefaults": {
           "arrowcolor": "#2a3f5f",
           "arrowhead": 0,
           "arrowwidth": 1
          },
          "colorscale": {
           "diverging": [
            [
             0,
             "#8e0152"
            ],
            [
             0.1,
             "#c51b7d"
            ],
            [
             0.2,
             "#de77ae"
            ],
            [
             0.3,
             "#f1b6da"
            ],
            [
             0.4,
             "#fde0ef"
            ],
            [
             0.5,
             "#f7f7f7"
            ],
            [
             0.6,
             "#e6f5d0"
            ],
            [
             0.7,
             "#b8e186"
            ],
            [
             0.8,
             "#7fbc41"
            ],
            [
             0.9,
             "#4d9221"
            ],
            [
             1,
             "#276419"
            ]
           ],
           "sequential": [
            [
             0,
             "#0d0887"
            ],
            [
             0.1111111111111111,
             "#46039f"
            ],
            [
             0.2222222222222222,
             "#7201a8"
            ],
            [
             0.3333333333333333,
             "#9c179e"
            ],
            [
             0.4444444444444444,
             "#bd3786"
            ],
            [
             0.5555555555555556,
             "#d8576b"
            ],
            [
             0.6666666666666666,
             "#ed7953"
            ],
            [
             0.7777777777777778,
             "#fb9f3a"
            ],
            [
             0.8888888888888888,
             "#fdca26"
            ],
            [
             1,
             "#f0f921"
            ]
           ],
           "sequentialminus": [
            [
             0,
             "#0d0887"
            ],
            [
             0.1111111111111111,
             "#46039f"
            ],
            [
             0.2222222222222222,
             "#7201a8"
            ],
            [
             0.3333333333333333,
             "#9c179e"
            ],
            [
             0.4444444444444444,
             "#bd3786"
            ],
            [
             0.5555555555555556,
             "#d8576b"
            ],
            [
             0.6666666666666666,
             "#ed7953"
            ],
            [
             0.7777777777777778,
             "#fb9f3a"
            ],
            [
             0.8888888888888888,
             "#fdca26"
            ],
            [
             1,
             "#f0f921"
            ]
           ]
          },
          "colorway": [
           "#636efa",
           "#EF553B",
           "#00cc96",
           "#ab63fa",
           "#FFA15A",
           "#19d3f3",
           "#FF6692",
           "#B6E880",
           "#FF97FF",
           "#FECB52"
          ],
          "font": {
           "color": "#2a3f5f"
          },
          "geo": {
           "bgcolor": "white",
           "lakecolor": "white",
           "landcolor": "#E5ECF6",
           "showlakes": true,
           "showland": true,
           "subunitcolor": "white"
          },
          "hoverlabel": {
           "align": "left"
          },
          "hovermode": "closest",
          "mapbox": {
           "style": "light"
          },
          "paper_bgcolor": "white",
          "plot_bgcolor": "#E5ECF6",
          "polar": {
           "angularaxis": {
            "gridcolor": "white",
            "linecolor": "white",
            "ticks": ""
           },
           "bgcolor": "#E5ECF6",
           "radialaxis": {
            "gridcolor": "white",
            "linecolor": "white",
            "ticks": ""
           }
          },
          "scene": {
           "xaxis": {
            "backgroundcolor": "#E5ECF6",
            "gridcolor": "white",
            "gridwidth": 2,
            "linecolor": "white",
            "showbackground": true,
            "ticks": "",
            "zerolinecolor": "white"
           },
           "yaxis": {
            "backgroundcolor": "#E5ECF6",
            "gridcolor": "white",
            "gridwidth": 2,
            "linecolor": "white",
            "showbackground": true,
            "ticks": "",
            "zerolinecolor": "white"
           },
           "zaxis": {
            "backgroundcolor": "#E5ECF6",
            "gridcolor": "white",
            "gridwidth": 2,
            "linecolor": "white",
            "showbackground": true,
            "ticks": "",
            "zerolinecolor": "white"
           }
          },
          "shapedefaults": {
           "line": {
            "color": "#2a3f5f"
           }
          },
          "ternary": {
           "aaxis": {
            "gridcolor": "white",
            "linecolor": "white",
            "ticks": ""
           },
           "baxis": {
            "gridcolor": "white",
            "linecolor": "white",
            "ticks": ""
           },
           "bgcolor": "#E5ECF6",
           "caxis": {
            "gridcolor": "white",
            "linecolor": "white",
            "ticks": ""
           }
          },
          "title": {
           "x": 0.05
          },
          "xaxis": {
           "automargin": true,
           "gridcolor": "white",
           "linecolor": "white",
           "ticks": "",
           "zerolinecolor": "white",
           "zerolinewidth": 2
          },
          "yaxis": {
           "automargin": true,
           "gridcolor": "white",
           "linecolor": "white",
           "ticks": "",
           "zerolinecolor": "white",
           "zerolinewidth": 2
          }
         }
        },
        "title": {
         "text": "<b>COVID19 CASES IN AFRICA: November 19, 2020</b>",
         "x": 0.5,
         "xanchor": "center",
         "y": 0.9,
         "yanchor": "top"
        },
        "xaxis": {
         "nticks": 30,
         "tickangle": 90,
         "title": {
          "font": {
           "color": "#BDBDBD",
           "size": 18
          },
          "text": "<b>Date</b>"
         }
        },
        "yaxis": {
         "title": {
          "font": {
           "color": "#4D4B4B",
           "size": 18
          },
          "text": "<b>Cases</b>"
         }
        }
       }
      },
      "text/html": [
       "<div>\n",
       "        \n",
       "        \n",
       "            <div id=\"f5b3fe63-0c6c-46e1-8357-6b56d06ff2c3\" class=\"plotly-graph-div\" style=\"height:525px; width:100%;\"></div>\n",
       "            <script type=\"text/javascript\">\n",
       "                require([\"plotly\"], function(Plotly) {\n",
       "                    window.PLOTLYENV=window.PLOTLYENV || {};\n",
       "                    \n",
       "                if (document.getElementById(\"f5b3fe63-0c6c-46e1-8357-6b56d06ff2c3\")) {\n",
       "                    Plotly.newPlot(\n",
       "                        'f5b3fe63-0c6c-46e1-8357-6b56d06ff2c3',\n",
       "                        [{\"line\": {\"width\": 3}, \"mode\": \"lines\", \"name\": \"Total_Cases\", \"type\": \"scatter\", \"x\": [\"April16\", \"April17\", \"April18\", \"April19\", \"April20\", \"April21\", \"April22\", \"April23\", \"April24\", \"April25\", \"April26\", \"April27\", \"April28\", \"April29\", \"April30\", \"May01\", \"May02\", \"May03\", \"May04\", \"May05\", \"May06\", \"May07\", \"May08\", \"May09\", \"May10\", \"May11\", \"May12\", \"May13\", \"May14\", \"May15\", \"May16\", \"May17\", \"May18\", \"May19\", \"May20\", \"May21\", \"May22\", \"May23\", \"May24\", \"May25\", \"May26\", \"May27\", \"May28\", \"May29\", \"May30\", \"May31\", \"June01\", \"June02\", \"June03\", \"June04\", \"June05\", \"June06\", \"June07\", \"June08\", \"June09\", \"June10\", \"June11\", \"June12\", \"June13\", \"June14\", \"June15\", \"June16\", \"June17\", \"June18\", \"June19\", \"June20\", \"June21\", \"June22\", \"June23\", \"June24\", \"June25\", \"June26\", \"June27\", \"June28\", \"June29\", \"June30\", \"July01\", \"July02\", \"July03\", \"July04\", \"July05\", \"July06\", \"July07\", \"July08\", \"July09\", \"July10\", \"July11\", \"July12\", \"July13\", \"July14\", \"July15\", \"July16\", \"July17\", \"July18\", \"July19\", \"July20\", \"July21\", \"July22\", \"July23\", \"July24\", \"July25\", \"July26\", \"July27\", \"July28\", \"July29\", \"July30\", \"July31\", \"August01\", \"August02\", \"August03\", \"August04\", \"August05\", \"August06\", \"August07\", \"August08\", \"August09\", \"August10\", \"August11\", \"August12\", \"August13\", \"August14\", \"August15\", \"August16\", \"August17\", \"August18\", \"August19\", \"August20\", \"August21\", \"August22\", \"August23\", \"August24\", \"August25\", \"August26\", \"August27\", \"August28\", \"August29\", \"August30\", \"August31\", \"September01\", \"September02\", \"September03\", \"September04\", \"September05\", \"September06\", \"September07\", \"September08\", \"September09\", \"September10\", \"September11\", \"September12\", \"September13\", \"September14\", \"September15\", \"September16\", \"September17\", \"September18\", \"September19\", \"September20\", \"September21\", \"September22\", \"September23\", \"September24\", \"September25\", \"September26\", \"September27\", \"September28\", \"September29\", \"September30\", \"October01\", \"October02\", \"October03\", \"October04\", \"October05\", \"October06\", \"October07\", \"October08\", \"October09\", \"October10\", \"October11\", \"October12\", \"October13\", \"October14\", \"October15\", \"October16\", \"October17\", \"October18\", \"October19\", \"October20\", \"October21\", \"October22\", \"October23\", \"October24\", \"October25\", \"October26\", \"October27\", \"October28\", \"October29\", \"October30\", \"October31\", \"November01\", \"November02\", \"November03\", \"November04\", \"November05\", \"November06\", \"November07\", \"November08\", \"November09\", \"November10\", \"November11\", \"November12\", \"November13\", \"November14\", \"November15\", \"November16\", \"November17\", \"November18\", \"November19\"], \"y\": [18993, 20419, 21741, 22966, 24171, 25411, 26654, 28217, 29840, 31102, 32657, 34036, 35678, 37693, 39785, 41446, 43734, 45380, 48075, 50166, 52713, 55320, 59050, 61985, 64750, 67778, 70982, 73973, 77002, 79780, 83363, 86381, 90080, 93228, 96990, 101684, 105845, 109470, 113656, 117801, 121547, 126638, 131587, 137544, 143769, 148775, 154907, 159838, 164985, 172183, 179337, 185996, 192118, 198990, 205520, 212011, 219354, 227599, 235704, 244578, 254214, 261581, 270660, 278677, 288812, 299841, 309153, 318321, 327464, 338766, 350859, 362616, 374596, 385219, 396314, 407925, 421382, 434442, 450658, 466168, 479845, 493710, 511170, 525892, 545063, 562728, 581640, 598236, 614412, 628885, 646973, 668068, 686961, 706069, 724870, 740026, 753917, 773506, 792040, 814165, 832514, 850628, 864094, 877593, 895157, 912621, 931777, 948730, 961388, 972287, 982219, 997602, 1011872, 1025464, 1039678, 1052094, 1061098, 1069093, 1078301, 1088777, 1101342, 1113143, 1123142, 1132101, 1140775, 1151737, 1162392, 1172802, 1183362, 1192414, 1199961, 1207623, 1216564, 1225249, 1233365, 1241912, 1250375, 1257316, 1264417, 1273213, 1281149, 1289817, 1297323, 1305252, 1312183, 1319898, 1328263, 1336407, 1345199, 1352693, 1359569, 1366138, 1372731, 1380233, 1389010, 1397246, 1405973, 1413416, 1420232, 1427620, 1436433, 1444619, 1452768, 1459190, 1467555, 1473418, 1480934, 1489711, 1496977, 1506015, 1514844, 1522928, 1527905, 1534494, 1545109, 1556017, 1564774, 1578299, 1587286, 1593247, 1601181, 1612737, 1621853, 1632687, 1646863, 1655084, 1665060, 1674836, 1685448, 1696418, 1707055, 1718812, 1727897, 1738877, 1747522, 1759578, 1770688, 1784435, 1795509, 1805820, 1813800, 1824701, 1838867, 1854169, 1866079, 1881129, 1893619, 1903096, 1916173, 1930482, 1946369, 1961099, 1975264, 1987732, 1998312, 2011202, 2026587, 2040542]}, {\"line\": {\"width\": 3}, \"mode\": \"lines\", \"name\": \"New_Cases\", \"type\": \"scatter\", \"x\": [\"April16\", \"April17\", \"April18\", \"April19\", \"April20\", \"April21\", \"April22\", \"April23\", \"April24\", \"April25\", \"April26\", \"April27\", \"April28\", \"April29\", \"April30\", \"May01\", \"May02\", \"May03\", \"May04\", \"May05\", \"May06\", \"May07\", \"May08\", \"May09\", \"May10\", \"May11\", \"May12\", \"May13\", \"May14\", \"May15\", \"May16\", \"May17\", \"May18\", \"May19\", \"May20\", \"May21\", \"May22\", \"May23\", \"May24\", \"May25\", \"May26\", \"May27\", \"May28\", \"May29\", \"May30\", \"May31\", \"June01\", \"June02\", \"June03\", \"June04\", \"June05\", \"June06\", \"June07\", \"June08\", \"June09\", \"June10\", \"June11\", \"June12\", \"June13\", \"June14\", \"June15\", \"June16\", \"June17\", \"June18\", \"June19\", \"June20\", \"June21\", \"June22\", \"June23\", \"June24\", \"June25\", \"June26\", \"June27\", \"June28\", \"June29\", \"June30\", \"July01\", \"July02\", \"July03\", \"July04\", \"July05\", \"July06\", \"July07\", \"July08\", \"July09\", \"July10\", \"July11\", \"July12\", \"July13\", \"July14\", \"July15\", \"July16\", \"July17\", \"July18\", \"July19\", \"July20\", \"July21\", \"July22\", \"July23\", \"July24\", \"July25\", \"July26\", \"July27\", \"July28\", \"July29\", \"July30\", \"July31\", \"August01\", \"August02\", \"August03\", \"August04\", \"August05\", \"August06\", \"August07\", \"August08\", \"August09\", \"August10\", \"August11\", \"August12\", \"August13\", \"August14\", \"August15\", \"August16\", \"August17\", \"August18\", \"August19\", \"August20\", \"August21\", \"August22\", \"August23\", \"August24\", \"August25\", \"August26\", \"August27\", \"August28\", \"August29\", \"August30\", \"August31\", \"September01\", \"September02\", \"September03\", \"September04\", \"September05\", \"September06\", \"September07\", \"September08\", \"September09\", \"September10\", \"September11\", \"September12\", \"September13\", \"September14\", \"September15\", \"September16\", \"September17\", \"September18\", \"September19\", \"September20\", \"September21\", \"September22\", \"September23\", \"September24\", \"September25\", \"September26\", \"September27\", \"September28\", \"September29\", \"September30\", \"October01\", \"October02\", \"October03\", \"October04\", \"October05\", \"October06\", \"October07\", \"October08\", \"October09\", \"October10\", \"October11\", \"October12\", \"October13\", \"October14\", \"October15\", \"October16\", \"October17\", \"October18\", \"October19\", \"October20\", \"October21\", \"October22\", \"October23\", \"October24\", \"October25\", \"October26\", \"October27\", \"October28\", \"October29\", \"October30\", \"October31\", \"November01\", \"November02\", \"November03\", \"November04\", \"November05\", \"November06\", \"November07\", \"November08\", \"November09\", \"November10\", \"November11\", \"November12\", \"November13\", \"November14\", \"November15\", \"November16\", \"November17\", \"November18\", \"November19\"], \"y\": [1166, 1426, 1322, 1225, 1205, 1240, 1243, 1436, 1623, 1262, 1555, 1357, 1642, 2017, 2093, 1661, 2294, 1589, 2695, 2091, 2547, 2607, 3731, 2935, 2765, 3035, 3204, 2991, 3029, 2778, 3588, 3018, 3699, 3357, 3762, 4798, 4161, 3625, 4186, 4145, 3746, 5091, 4949, 5957, 6225, 5006, 6132, 4931, 5147, 7198, 7154, 6659, 6122, 6872, 6530, 6491, 7343, 8245, 8105, 8874, 9636, 7368, 9079, 8017, 10135, 10386, 9312, 9168, 9143, 11302, 12093, 11757, 11980, 10623, 10910, 11611, 13457, 13060, 16216, 15510, 13677, 13865, 17460, 14722, 19171, 17665, 18912, 16596, 16176, 14473, 18057, 20489, 18893, 19108, 18801, 15156, 13891, 19454, 18464, 22125, 18349, 18114, 13470, 13499, 17564, 17464, 19156, 16953, 12658, 10899, 9759, 15383, 14270, 13563, 14209, 12416, 8914, 7995, 9208, 10476, 12565, 11801, 9999, 8959, 8674, 10962, 10655, 10349, 10560, 9052, 7795, 7662, 8941, 8685, 8116, 8547, 8463, 6941, 7101, 8796, 7889, 8669, 7506, 7890, 6931, 7715, 8365, 8144, 8792, 7494, 6805, 6569, 6593, 7499, 8610, 8236, 8727, 7443, 6668, 7365, 8813, 8186, 8149, 6422, 8365, 5863, 7509, 8763, 7260, 8952, 8829, 8084, 4977, 6589, 10615, 10770, 8757, 13525, 8987, 5961, 7934, 11556, 9116, 9506, 14176, 8221, 9976, 9776, 10612, 10970, 10637, 11757, 9085, 8778, 8645, 12056, 10975, 13742, 11074, 10244, 7980, 10894, 13855, 15302, 11910, 14997, 12490, 9371, 13077, 14163, 15617, 14730, 14068, 12468, 10580, 12890, 15346, 13849]}, {\"line\": {\"width\": 3}, \"mode\": \"lines\", \"name\": \"Total_Deaths\", \"type\": \"scatter\", \"x\": [\"April16\", \"April17\", \"April18\", \"April19\", \"April20\", \"April21\", \"April22\", \"April23\", \"April24\", \"April25\", \"April26\", \"April27\", \"April28\", \"April29\", \"April30\", \"May01\", \"May02\", \"May03\", \"May04\", \"May05\", \"May06\", \"May07\", \"May08\", \"May09\", \"May10\", \"May11\", \"May12\", \"May13\", \"May14\", \"May15\", \"May16\", \"May17\", \"May18\", \"May19\", \"May20\", \"May21\", \"May22\", \"May23\", \"May24\", \"May25\", \"May26\", \"May27\", \"May28\", \"May29\", \"May30\", \"May31\", \"June01\", \"June02\", \"June03\", \"June04\", \"June05\", \"June06\", \"June07\", \"June08\", \"June09\", \"June10\", \"June11\", \"June12\", \"June13\", \"June14\", \"June15\", \"June16\", \"June17\", \"June18\", \"June19\", \"June20\", \"June21\", \"June22\", \"June23\", \"June24\", \"June25\", \"June26\", \"June27\", \"June28\", \"June29\", \"June30\", \"July01\", \"July02\", \"July03\", \"July04\", \"July05\", \"July06\", \"July07\", \"July08\", \"July09\", \"July10\", \"July11\", \"July12\", \"July13\", \"July14\", \"July15\", \"July16\", \"July17\", \"July18\", \"July19\", \"July20\", \"July21\", \"July22\", \"July23\", \"July24\", \"July25\", \"July26\", \"July27\", \"July28\", \"July29\", \"July30\", \"July31\", \"August01\", \"August02\", \"August03\", \"August04\", \"August05\", \"August06\", \"August07\", \"August08\", \"August09\", \"August10\", \"August11\", \"August12\", \"August13\", \"August14\", \"August15\", \"August16\", \"August17\", \"August18\", \"August19\", \"August20\", \"August21\", \"August22\", \"August23\", \"August24\", \"August25\", \"August26\", \"August27\", \"August28\", \"August29\", \"August30\", \"August31\", \"September01\", \"September02\", \"September03\", \"September04\", \"September05\", \"September06\", \"September07\", \"September08\", \"September09\", \"September10\", \"September11\", \"September12\", \"September13\", \"September14\", \"September15\", \"September16\", \"September17\", \"September18\", \"September19\", \"September20\", \"September21\", \"September22\", \"September23\", \"September24\", \"September25\", \"September26\", \"September27\", \"September28\", \"September29\", \"September30\", \"October01\", \"October02\", \"October03\", \"October04\", \"October05\", \"October06\", \"October07\", \"October08\", \"October09\", \"October10\", \"October11\", \"October12\", \"October13\", \"October14\", \"October15\", \"October16\", \"October17\", \"October18\", \"October19\", \"October20\", \"October21\", \"October22\", \"October23\", \"October24\", \"October25\", \"October26\", \"October27\", \"October28\", \"October29\", \"October30\", \"October31\", \"November01\", \"November02\", \"November03\", \"November04\", \"November05\", \"November06\", \"November07\", \"November08\", \"November09\", \"November10\", \"November11\", \"November12\", \"November13\", \"November14\", \"November15\", \"November16\", \"November17\", \"November18\", \"November19\"], \"y\": [968, 1020, 1082, 1125, 1164, 1197, 1244, 1298, 1328, 1379, 1427, 1468, 1527, 1592, 1638, 1691, 1763, 1802, 1848, 1917, 2015, 2083, 2161, 2232, 2301, 2355, 2407, 2507, 2578, 2639, 2726, 2777, 2849, 2924, 3010, 3115, 3204, 3267, 3356, 3495, 3613, 3710, 3814, 3945, 4092, 4245, 4369, 4520, 4627, 4783, 4942, 5082, 5215, 5390, 5568, 5717, 5869, 6080, 6283, 6490, 6793, 7026, 7249, 7450, 7713, 7941, 8148, 8371, 8653, 8889, 9104, 9317, 9519, 9698, 9914, 10184, 10443, 10662, 10920, 11117, 11400, 11649, 12015, 12270, 12500, 12809, 13029, 13285, 13504, 13803, 14029, 14442, 14717, 14996, 15210, 15465, 15779, 16482, 16756, 17146, 17570, 17808, 18218, 18540, 18908, 19362, 19726, 20018, 20350, 20671, 21143, 21683, 22114, 22553, 22966, 23324, 23643, 23912, 24322, 24727, 25143, 25383, 25678, 25942, 26357, 26685, 27022, 27374, 27649, 27831, 28051, 28334, 28656, 28910, 29141, 29472, 29633, 29862, 30104, 30370, 30666, 30905, 31131, 31357, 31575, 31801, 31962, 32178, 32410, 32556, 32678, 32849, 33126, 33308, 33484, 33677, 33879, 34008, 34133, 34378, 34583, 34758, 34912, 35080, 35215, 35512, 35729, 35922, 36146, 36288, 36399, 36569, 36697, 36885, 37154, 37452, 37689, 37960, 38168, 38362, 38633, 38896, 39150, 39357, 39622, 39807, 39991, 40289, 40544, 40760, 40985, 41208, 41324, 41672, 41972, 42202, 42404, 42698, 42922, 43244, 43461, 43777, 44012, 44316, 44684, 44918, 45433, 45684, 46025, 46357, 46626, 46906, 47162, 47438, 47775, 48112, 48509, 48785]}, {\"line\": {\"width\": 3}, \"mode\": \"lines\", \"name\": \"New_Deaths\", \"type\": \"scatter\", \"x\": [\"April16\", \"April17\", \"April18\", \"April19\", \"April20\", \"April21\", \"April22\", \"April23\", \"April24\", \"April25\", \"April26\", \"April27\", \"April28\", \"April29\", \"April30\", \"May01\", \"May02\", \"May03\", \"May04\", \"May05\", \"May06\", \"May07\", \"May08\", \"May09\", \"May10\", \"May11\", \"May12\", \"May13\", \"May14\", \"May15\", \"May16\", \"May17\", \"May18\", \"May19\", \"May20\", \"May21\", \"May22\", \"May23\", \"May24\", \"May25\", \"May26\", \"May27\", \"May28\", \"May29\", \"May30\", \"May31\", \"June01\", \"June02\", \"June03\", \"June04\", \"June05\", \"June06\", \"June07\", \"June08\", \"June09\", \"June10\", \"June11\", \"June12\", \"June13\", \"June14\", \"June15\", \"June16\", \"June17\", \"June18\", \"June19\", \"June20\", \"June21\", \"June22\", \"June23\", \"June24\", \"June25\", \"June26\", \"June27\", \"June28\", \"June29\", \"June30\", \"July01\", \"July02\", \"July03\", \"July04\", \"July05\", \"July06\", \"July07\", \"July08\", \"July09\", \"July10\", \"July11\", \"July12\", \"July13\", \"July14\", \"July15\", \"July16\", \"July17\", \"July18\", \"July19\", \"July20\", \"July21\", \"July22\", \"July23\", \"July24\", \"July25\", \"July26\", \"July27\", \"July28\", \"July29\", \"July30\", \"July31\", \"August01\", \"August02\", \"August03\", \"August04\", \"August05\", \"August06\", \"August07\", \"August08\", \"August09\", \"August10\", \"August11\", \"August12\", \"August13\", \"August14\", \"August15\", \"August16\", \"August17\", \"August18\", \"August19\", \"August20\", \"August21\", \"August22\", \"August23\", \"August24\", \"August25\", \"August26\", \"August27\", \"August28\", \"August29\", \"August30\", \"August31\", \"September01\", \"September02\", \"September03\", \"September04\", \"September05\", \"September06\", \"September07\", \"September08\", \"September09\", \"September10\", \"September11\", \"September12\", \"September13\", \"September14\", \"September15\", \"September16\", \"September17\", \"September18\", \"September19\", \"September20\", \"September21\", \"September22\", \"September23\", \"September24\", \"September25\", \"September26\", \"September27\", \"September28\", \"September29\", \"September30\", \"October01\", \"October02\", \"October03\", \"October04\", \"October05\", \"October06\", \"October07\", \"October08\", \"October09\", \"October10\", \"October11\", \"October12\", \"October13\", \"October14\", \"October15\", \"October16\", \"October17\", \"October18\", \"October19\", \"October20\", \"October21\", \"October22\", \"October23\", \"October24\", \"October25\", \"October26\", \"October27\", \"October28\", \"October29\", \"October30\", \"October31\", \"November01\", \"November02\", \"November03\", \"November04\", \"November05\", \"November06\", \"November07\", \"November08\", \"November09\", \"November10\", \"November11\", \"November12\", \"November13\", \"November14\", \"November15\", \"November16\", \"November17\", \"November18\", \"November19\"], \"y\": [55, 52, 62, 43, 39, 33, 47, 54, 30, 51, 48, 39, 59, 65, 46, 53, 72, 37, 46, 69, 98, 68, 78, 71, 69, 54, 52, 100, 71, 61, 87, 51, 72, 75, 86, 105, 89, 63, 89, 139, 118, 97, 104, 131, 147, 153, 124, 151, 107, 156, 159, 140, 133, 173, 178, 149, 152, 211, 203, 207, 303, 233, 223, 201, 263, 210, 207, 223, 282, 236, 214, 213, 202, 179, 216, 270, 259, 219, 258, 197, 284, 249, 366, 255, 230, 309, 220, 256, 219, 299, 224, 370, 275, 279, 214, 255, 314, 690, 274, 390, 424, 238, 410, 322, 368, 459, 364, 292, 332, 321, 472, 540, 431, 439, 413, 358, 319, 269, 410, 405, 416, 240, 295, 264, 415, 328, 337, 352, 275, 182, 223, 283, 322, 254, 231, 331, 161, 226, 242, 266, 296, 239, 226, 226, 218, 226, 192, 216, 232, 146, 121, 171, 277, 182, 176, 197, 202, 129, 135, 244, 209, 175, 154, 168, 135, 297, 217, 193, 224, 140, 111, 170, 128, 188, 269, 303, 237, 271, 208, 194, 271, 263, 254, 207, 265, 185, 184, 298, 255, 216, 225, 223, 116, 241, 182, 230, 186, 294, 204, 306, 217, 316, 235, 302, 297, 234, 238, 251, 341, 332, 269, 280, 256, 275, 337, 337, 397, 273]}, {\"line\": {\"width\": 3}, \"mode\": \"lines\", \"name\": \"Total_Recovered\", \"type\": \"scatter\", \"x\": [\"April16\", \"April17\", \"April18\", \"April19\", \"April20\", \"April21\", \"April22\", \"April23\", \"April24\", \"April25\", \"April26\", \"April27\", \"April28\", \"April29\", \"April30\", \"May01\", \"May02\", \"May03\", \"May04\", \"May05\", \"May06\", \"May07\", \"May08\", \"May09\", \"May10\", \"May11\", \"May12\", \"May13\", \"May14\", \"May15\", \"May16\", \"May17\", \"May18\", \"May19\", \"May20\", \"May21\", \"May22\", \"May23\", \"May24\", \"May25\", \"May26\", \"May27\", \"May28\", \"May29\", \"May30\", \"May31\", \"June01\", \"June02\", \"June03\", \"June04\", \"June05\", \"June06\", \"June07\", \"June08\", \"June09\", \"June10\", \"June11\", \"June12\", \"June13\", \"June14\", \"June15\", \"June16\", \"June17\", \"June18\", \"June19\", \"June20\", \"June21\", \"June22\", \"June23\", \"June24\", \"June25\", \"June26\", \"June27\", \"June28\", \"June29\", \"June30\", \"July01\", \"July02\", \"July03\", \"July04\", \"July05\", \"July06\", \"July07\", \"July08\", \"July09\", \"July10\", \"July11\", \"July12\", \"July13\", \"July14\", \"July15\", \"July16\", \"July17\", \"July18\", \"July19\", \"July20\", \"July21\", \"July22\", \"July23\", \"July24\", \"July25\", \"July26\", \"July27\", \"July28\", \"July29\", \"July30\", \"July31\", \"August01\", \"August02\", \"August03\", \"August04\", \"August05\", \"August06\", \"August07\", \"August08\", \"August09\", \"August10\", \"August11\", \"August12\", \"August13\", \"August14\", \"August15\", \"August16\", \"August17\", \"August18\", \"August19\", \"August20\", \"August21\", \"August22\", \"August23\", \"August24\", \"August25\", \"August26\", \"August27\", \"August28\", \"August29\", \"August30\", \"August31\", \"September01\", \"September02\", \"September03\", \"September04\", \"September05\", \"September06\", \"September07\", \"September08\", \"September09\", \"September10\", \"September11\", \"September12\", \"September13\", \"September14\", \"September15\", \"September16\", \"September17\", \"September18\", \"September19\", \"September20\", \"September21\", \"September22\", \"September23\", \"September24\", \"September25\", \"September26\", \"September27\", \"September28\", \"September29\", \"September30\", \"October01\", \"October02\", \"October03\", \"October04\", \"October05\", \"October06\", \"October07\", \"October08\", \"October09\", \"October10\", \"October11\", \"October12\", \"October13\", \"October14\", \"October15\", \"October16\", \"October17\", \"October18\", \"October19\", \"October20\", \"October21\", \"October22\", \"October23\", \"October24\", \"October25\", \"October26\", \"October27\", \"October28\", \"October29\", \"October30\", \"October31\", \"November01\", \"November02\", \"November03\", \"November04\", \"November05\", \"November06\", \"November07\", \"November08\", \"November09\", \"November10\", \"November11\", \"November12\", \"November13\", \"November14\", \"November15\", \"November16\", \"November17\", \"November18\", \"November19\"], \"y\": [4585, 4958, 5470, 5840, 6451, 6770, 7315, 8534, 9140, 9530, 10018, 10575, 11868, 12630, 13070, 13918, 14664, 15137, 16231, 16977, 18286, 19099, 19839, 21649, 22643, 23961, 24819, 26250, 28186, 30210, 32103, 33496, 34879, 36802, 39428, 40588, 42881, 44166, 46063, 47813, 49902, 52623, 55126, 58197, 60987, 63463, 65931, 68985, 72380, 75830, 80324, 83432, 84919, 88212, 92914, 97163, 100711, 105092, 108835, 112243, 116730, 120949, 125580, 128347, 135176, 144985, 148863, 153242, 156968, 163507, 168752, 175652, 181179, 185243, 189722, 195397, 200995, 209616, 217705, 224808, 230016, 238464, 247734, 255857, 265783, 274778, 287924, 298194, 305852, 316780, 335800, 346500, 363494, 370715, 383351, 392264, 412654, 438288, 449637, 465357, 487462, 494224, 510089, 527821, 544168, 559906, 583665, 606320, 615344, 632929, 655407, 677208, 693620, 707877, 723688, 736638, 747414, 761619, 772365, 783617, 814407, 828034, 838452, 849723, 862564, 874088, 884480, 892304, 902901, 909724, 925220, 934192, 945475, 957854, 964846, 972908, 979996, 987398, 1002554, 1011064, 1017753, 1025872, 1033734, 1040454, 1049529, 1055312, 1063653, 1072778, 1080227, 1096779, 1104047, 1110971, 1121263, 1131194, 1138173, 1145275, 1153639, 1158805, 1166475, 1173809, 1180677, 1190410, 1199597, 1207311, 1213045, 1218331, 1225806, 1233125, 1239450, 1246159, 1253356, 1260391, 1268405, 1275086, 1286083, 1292200, 1299430, 1305456, 1311335, 1318297, 1323354, 1330252, 1336611, 1343499, 1352602, 1361855, 1367151, 1376599, 1384275, 1390786, 1398172, 1405116, 1412173, 1421870, 1429087, 1436462, 1444345, 1455052, 1462964, 1472758, 1481404, 1489152, 1497854, 1548650, 1560777, 1582702, 1595468, 1603562, 1613406, 1629090, 1641278, 1650737, 1660706, 1668055, 1680971, 1691074, 1709279, 1720252]}, {\"line\": {\"width\": 3}, \"mode\": \"lines\", \"name\": \"Active_Cases\", \"type\": \"scatter\", \"x\": [\"April16\", \"April17\", \"April18\", \"April19\", \"April20\", \"April21\", \"April22\", \"April23\", \"April24\", \"April25\", \"April26\", \"April27\", \"April28\", \"April29\", \"April30\", \"May01\", \"May02\", \"May03\", \"May04\", \"May05\", \"May06\", \"May07\", \"May08\", \"May09\", \"May10\", \"May11\", \"May12\", \"May13\", \"May14\", \"May15\", \"May16\", \"May17\", \"May18\", \"May19\", \"May20\", \"May21\", \"May22\", \"May23\", \"May24\", \"May25\", \"May26\", \"May27\", \"May28\", \"May29\", \"May30\", \"May31\", \"June01\", \"June02\", \"June03\", \"June04\", \"June05\", \"June06\", \"June07\", \"June08\", \"June09\", \"June10\", \"June11\", \"June12\", \"June13\", \"June14\", \"June15\", \"June16\", \"June17\", \"June18\", \"June19\", \"June20\", \"June21\", \"June22\", \"June23\", \"June24\", \"June25\", \"June26\", \"June27\", \"June28\", \"June29\", \"June30\", \"July01\", \"July02\", \"July03\", \"July04\", \"July05\", \"July06\", \"July07\", \"July08\", \"July09\", \"July10\", \"July11\", \"July12\", \"July13\", \"July14\", \"July15\", \"July16\", \"July17\", \"July18\", \"July19\", \"July20\", \"July21\", \"July22\", \"July23\", \"July24\", \"July25\", \"July26\", \"July27\", \"July28\", \"July29\", \"July30\", \"July31\", \"August01\", \"August02\", \"August03\", \"August04\", \"August05\", \"August06\", \"August07\", \"August08\", \"August09\", \"August10\", \"August11\", \"August12\", \"August13\", \"August14\", \"August15\", \"August16\", \"August17\", \"August18\", \"August19\", \"August20\", \"August21\", \"August22\", \"August23\", \"August24\", \"August25\", \"August26\", \"August27\", \"August28\", \"August29\", \"August30\", \"August31\", \"September01\", \"September02\", \"September03\", \"September04\", \"September05\", \"September06\", \"September07\", \"September08\", \"September09\", \"September10\", \"September11\", \"September12\", \"September13\", \"September14\", \"September15\", \"September16\", \"September17\", \"September18\", \"September19\", \"September20\", \"September21\", \"September22\", \"September23\", \"September24\", \"September25\", \"September26\", \"September27\", \"September28\", \"September29\", \"September30\", \"October01\", \"October02\", \"October03\", \"October04\", \"October05\", \"October06\", \"October07\", \"October08\", \"October09\", \"October10\", \"October11\", \"October12\", \"October13\", \"October14\", \"October15\", \"October16\", \"October17\", \"October18\", \"October19\", \"October20\", \"October21\", \"October22\", \"October23\", \"October24\", \"October25\", \"October26\", \"October27\", \"October28\", \"October29\", \"October30\", \"October31\", \"November01\", \"November02\", \"November03\", \"November04\", \"November05\", \"November06\", \"November07\", \"November08\", \"November09\", \"November10\", \"November11\", \"November12\", \"November13\", \"November14\", \"November15\", \"November16\", \"November17\", \"November18\", \"November19\"], \"y\": [13440, 14441, 15189, 16001, 16556, 17444, 18095, 18385, 19372, 20193, 21212, 21993, 22283, 23471, 25077, 25837, 27307, 28441, 29996, 31272, 32412, 34138, 37050, 38104, 39806, 41462, 43756, 45216, 46238, 46931, 48534, 50108, 52352, 53502, 54552, 57981, 59760, 62037, 64237, 66493, 68032, 70305, 72647, 75402, 78690, 81067, 84607, 86333, 87978, 91570, 94071, 97482, 101984, 105388, 107038, 109131, 112774, 116427, 120586, 125845, 130691, 133606, 137831, 142880, 145923, 146915, 152142, 156708, 161843, 166370, 173003, 177647, 183898, 190278, 196678, 202344, 209944, 214164, 222033, 230243, 238429, 243597, 251421, 257765, 266780, 275141, 280687, 286757, 295056, 298302, 297144, 307126, 308750, 320358, 326309, 332297, 325484, 318736, 325647, 331662, 327482, 338596, 335787, 331232, 332081, 333353, 328386, 322392, 325694, 318687, 305669, 298711, 296138, 295034, 293024, 292132, 290041, 283562, 281614, 280433, 261792, 259726, 259012, 256436, 251854, 250964, 250890, 253124, 252812, 254859, 246690, 245097, 242433, 238485, 239378, 239532, 240746, 240056, 231759, 231779, 232730, 233040, 232458, 233441, 231079, 232785, 232648, 231451, 232562, 223358, 222844, 222318, 218342, 215731, 217353, 218294, 218455, 220603, 219624, 219433, 221173, 219451, 218259, 216799, 219295, 219575, 219399, 220664, 221381, 223568, 225089, 225968, 222803, 222523, 221872, 226365, 227655, 234883, 237783, 236588, 239194, 243589, 246092, 249831, 254639, 253422, 257918, 257948, 260629, 264872, 267898, 272488, 274400, 275335, 276463, 280914, 283939, 286685, 289623, 289818, 288935, 291772, 297001, 261203, 260618, 253509, 252718, 253850, 256742, 255035, 258465, 263456, 267396, 272239, 269566, 272016, 268799, 271505]}, {\"line\": {\"width\": 3}, \"mode\": \"lines\", \"name\": \"Serious_Critical\", \"type\": \"scatter\", \"x\": [\"April16\", \"April17\", \"April18\", \"April19\", \"April20\", \"April21\", \"April22\", \"April23\", \"April24\", \"April25\", \"April26\", \"April27\", \"April28\", \"April29\", \"April30\", \"May01\", \"May02\", \"May03\", \"May04\", \"May05\", \"May06\", \"May07\", \"May08\", \"May09\", \"May10\", \"May11\", \"May12\", \"May13\", \"May14\", \"May15\", \"May16\", \"May17\", \"May18\", \"May19\", \"May20\", \"May21\", \"May22\", \"May23\", \"May24\", \"May25\", \"May26\", \"May27\", \"May28\", \"May29\", \"May30\", \"May31\", \"June01\", \"June02\", \"June03\", \"June04\", \"June05\", \"June06\", \"June07\", \"June08\", \"June09\", \"June10\", \"June11\", \"June12\", \"June13\", \"June14\", \"June15\", \"June16\", \"June17\", \"June18\", \"June19\", \"June20\", \"June21\", \"June22\", \"June23\", \"June24\", \"June25\", \"June26\", \"June27\", \"June28\", \"June29\", \"June30\", \"July01\", \"July02\", \"July03\", \"July04\", \"July05\", \"July06\", \"July07\", \"July08\", \"July09\", \"July10\", \"July11\", \"July12\", \"July13\", \"July14\", \"July15\", \"July16\", \"July17\", \"July18\", \"July19\", \"July20\", \"July21\", \"July22\", \"July23\", \"July24\", \"July25\", \"July26\", \"July27\", \"July28\", \"July29\", \"July30\", \"July31\", \"August01\", \"August02\", \"August03\", \"August04\", \"August05\", \"August06\", \"August07\", \"August08\", \"August09\", \"August10\", \"August11\", \"August12\", \"August13\", \"August14\", \"August15\", \"August16\", \"August17\", \"August18\", \"August19\", \"August20\", \"August21\", \"August22\", \"August23\", \"August24\", \"August25\", \"August26\", \"August27\", \"August28\", \"August29\", \"August30\", \"August31\", \"September01\", \"September02\", \"September03\", \"September04\", \"September05\", \"September06\", \"September07\", \"September08\", \"September09\", \"September10\", \"September11\", \"September12\", \"September13\", \"September14\", \"September15\", \"September16\", \"September17\", \"September18\", \"September19\", \"September20\", \"September21\", \"September22\", \"September23\", \"September24\", \"September25\", \"September26\", \"September27\", \"September28\", \"September29\", \"September30\", \"October01\", \"October02\", \"October03\", \"October04\", \"October05\", \"October06\", \"October07\", \"October08\", \"October09\", \"October10\", \"October11\", \"October12\", \"October13\", \"October14\", \"October15\", \"October16\", \"October17\", \"October18\", \"October19\", \"October20\", \"October21\", \"October22\", \"October23\", \"October24\", \"October25\", \"October26\", \"October27\", \"October28\", \"October29\", \"October30\", \"October31\", \"November01\", \"November02\", \"November03\", \"November04\", \"November05\", \"November06\", \"November07\", \"November08\", \"November09\", \"November10\", \"November11\", \"November12\", \"November13\", \"November14\", \"November15\", \"November16\", \"November17\", \"November18\", \"November19\"], \"y\": [180, 187, 195, 174, 177, 164, 174, 173, 148, 155, 140, 138, 120, 122, 126, 126, 127, 132, 129, 128, 128, 176, 223, 217, 235, 224, 219, 258, 290, 288, 289, 288, 285, 284, 287, 285, 296, 306, 323, 327, 334, 349, 352, 356, 370, 346, 347, 425, 435, 449, 443, 463, 469, 490, 499, 499, 511, 526, 524, 515, 517, 500, 493, 506, 499, 481, 491, 502, 504, 847, 885, 881, 904, 907, 924, 920, 919, 916, 1797, 944, 945, 956, 950, 964, 952, 965, 978, 969, 994, 982, 990, 1003, 1030, 1066, 1061, 1047, 1046, 1044, 1068, 1091, 1086, 1091, 1094, 1124, 1120, 1160, 1138, 1151, 1150, 1149, 1149, 1188, 1187, 1196, 1206, 1200, 1161, 1207, 1211, 1188, 1190, 1196, 1210, 1210, 1214, 1206, 1190, 1202, 1207, 1218, 1212, 1258, 1271, 1282, 1289, 1264, 1278, 1270, 1262, 1278, 1445, 1418, 1421, 1421, 1434, 1469, 1468, 1500, 1486, 1486, 1503, 1504, 1428, 1434, 1457, 1451, 1466, 1457, 1465, 1402, 1463, 1455, 1530, 1557, 1515, 1568, 1621, 1609, 1599, 1602, 1576, 1633, 1638, 1607, 1569, 1617, 1640, 1668, 1720, 1685, 1771, 1774, 1829, 1861, 1845, 1850, 1855, 1932, 1961, 1995, 2063, 2060, 2133, 2189, 2191, 2231, 2241, 2295, 2284, 2315, 2341, 2389, 2419, 2428, 2423, 2448, 2434, 2443, 2475, 2482, 2509, 2540, 2609, 2594, 2573, 2575, 2573, 2600]}],\n",
       "                        {\"legend\": {\"bgcolor\": \"rgba(255, 255, 255, 0)\", \"bordercolor\": \"rgba(255, 255, 255, 0)\", \"traceorder\": \"normal\", \"x\": 0.07, \"y\": 0.98}, \"template\": {\"data\": {\"bar\": [{\"error_x\": {\"color\": \"#2a3f5f\"}, \"error_y\": {\"color\": \"#2a3f5f\"}, \"marker\": {\"line\": {\"color\": \"#E5ECF6\", \"width\": 0.5}}, \"type\": \"bar\"}], \"barpolar\": [{\"marker\": {\"line\": {\"color\": \"#E5ECF6\", \"width\": 0.5}}, \"type\": \"barpolar\"}], \"carpet\": [{\"aaxis\": {\"endlinecolor\": \"#2a3f5f\", \"gridcolor\": \"white\", \"linecolor\": \"white\", \"minorgridcolor\": \"white\", \"startlinecolor\": \"#2a3f5f\"}, \"baxis\": {\"endlinecolor\": \"#2a3f5f\", \"gridcolor\": \"white\", \"linecolor\": \"white\", \"minorgridcolor\": \"white\", \"startlinecolor\": \"#2a3f5f\"}, \"type\": \"carpet\"}], \"choropleth\": [{\"colorbar\": {\"outlinewidth\": 0, \"ticks\": \"\"}, \"type\": \"choropleth\"}], \"contour\": [{\"colorbar\": {\"outlinewidth\": 0, \"ticks\": \"\"}, \"colorscale\": [[0.0, \"#0d0887\"], [0.1111111111111111, \"#46039f\"], [0.2222222222222222, \"#7201a8\"], [0.3333333333333333, \"#9c179e\"], [0.4444444444444444, \"#bd3786\"], [0.5555555555555556, \"#d8576b\"], [0.6666666666666666, \"#ed7953\"], [0.7777777777777778, \"#fb9f3a\"], [0.8888888888888888, \"#fdca26\"], [1.0, \"#f0f921\"]], \"type\": \"contour\"}], \"contourcarpet\": [{\"colorbar\": {\"outlinewidth\": 0, \"ticks\": \"\"}, \"type\": \"contourcarpet\"}], \"heatmap\": [{\"colorbar\": {\"outlinewidth\": 0, \"ticks\": \"\"}, \"colorscale\": [[0.0, \"#0d0887\"], [0.1111111111111111, \"#46039f\"], [0.2222222222222222, \"#7201a8\"], [0.3333333333333333, \"#9c179e\"], [0.4444444444444444, \"#bd3786\"], [0.5555555555555556, \"#d8576b\"], [0.6666666666666666, \"#ed7953\"], [0.7777777777777778, \"#fb9f3a\"], [0.8888888888888888, \"#fdca26\"], [1.0, \"#f0f921\"]], \"type\": \"heatmap\"}], \"heatmapgl\": [{\"colorbar\": {\"outlinewidth\": 0, \"ticks\": \"\"}, \"colorscale\": [[0.0, \"#0d0887\"], [0.1111111111111111, \"#46039f\"], [0.2222222222222222, \"#7201a8\"], [0.3333333333333333, \"#9c179e\"], [0.4444444444444444, \"#bd3786\"], [0.5555555555555556, \"#d8576b\"], [0.6666666666666666, \"#ed7953\"], [0.7777777777777778, \"#fb9f3a\"], [0.8888888888888888, \"#fdca26\"], [1.0, \"#f0f921\"]], \"type\": \"heatmapgl\"}], \"histogram\": [{\"marker\": {\"colorbar\": {\"outlinewidth\": 0, \"ticks\": \"\"}}, \"type\": \"histogram\"}], \"histogram2d\": [{\"colorbar\": {\"outlinewidth\": 0, \"ticks\": \"\"}, \"colorscale\": [[0.0, \"#0d0887\"], [0.1111111111111111, \"#46039f\"], [0.2222222222222222, \"#7201a8\"], [0.3333333333333333, \"#9c179e\"], [0.4444444444444444, \"#bd3786\"], [0.5555555555555556, \"#d8576b\"], [0.6666666666666666, \"#ed7953\"], [0.7777777777777778, \"#fb9f3a\"], [0.8888888888888888, \"#fdca26\"], [1.0, \"#f0f921\"]], \"type\": \"histogram2d\"}], \"histogram2dcontour\": [{\"colorbar\": {\"outlinewidth\": 0, \"ticks\": \"\"}, \"colorscale\": [[0.0, \"#0d0887\"], [0.1111111111111111, \"#46039f\"], [0.2222222222222222, \"#7201a8\"], [0.3333333333333333, \"#9c179e\"], [0.4444444444444444, \"#bd3786\"], [0.5555555555555556, \"#d8576b\"], [0.6666666666666666, \"#ed7953\"], [0.7777777777777778, \"#fb9f3a\"], [0.8888888888888888, \"#fdca26\"], [1.0, \"#f0f921\"]], \"type\": \"histogram2dcontour\"}], \"mesh3d\": [{\"colorbar\": {\"outlinewidth\": 0, \"ticks\": \"\"}, \"type\": \"mesh3d\"}], \"parcoords\": [{\"line\": {\"colorbar\": {\"outlinewidth\": 0, \"ticks\": \"\"}}, \"type\": \"parcoords\"}], \"scatter\": [{\"marker\": {\"colorbar\": {\"outlinewidth\": 0, \"ticks\": \"\"}}, \"type\": \"scatter\"}], \"scatter3d\": [{\"line\": {\"colorbar\": {\"outlinewidth\": 0, \"ticks\": \"\"}}, \"marker\": {\"colorbar\": {\"outlinewidth\": 0, \"ticks\": \"\"}}, \"type\": \"scatter3d\"}], \"scattercarpet\": [{\"marker\": {\"colorbar\": {\"outlinewidth\": 0, \"ticks\": \"\"}}, \"type\": \"scattercarpet\"}], \"scattergeo\": [{\"marker\": {\"colorbar\": {\"outlinewidth\": 0, \"ticks\": \"\"}}, \"type\": \"scattergeo\"}], \"scattergl\": [{\"marker\": {\"colorbar\": {\"outlinewidth\": 0, \"ticks\": \"\"}}, \"type\": \"scattergl\"}], \"scattermapbox\": [{\"marker\": {\"colorbar\": {\"outlinewidth\": 0, \"ticks\": \"\"}}, \"type\": \"scattermapbox\"}], \"scatterpolar\": [{\"marker\": {\"colorbar\": {\"outlinewidth\": 0, \"ticks\": \"\"}}, \"type\": \"scatterpolar\"}], \"scatterpolargl\": [{\"marker\": {\"colorbar\": {\"outlinewidth\": 0, \"ticks\": \"\"}}, \"type\": \"scatterpolargl\"}], \"scatterternary\": [{\"marker\": {\"colorbar\": {\"outlinewidth\": 0, \"ticks\": \"\"}}, \"type\": \"scatterternary\"}], \"surface\": [{\"colorbar\": {\"outlinewidth\": 0, \"ticks\": \"\"}, \"colorscale\": [[0.0, \"#0d0887\"], [0.1111111111111111, \"#46039f\"], [0.2222222222222222, \"#7201a8\"], [0.3333333333333333, \"#9c179e\"], [0.4444444444444444, \"#bd3786\"], [0.5555555555555556, \"#d8576b\"], [0.6666666666666666, \"#ed7953\"], [0.7777777777777778, \"#fb9f3a\"], [0.8888888888888888, \"#fdca26\"], [1.0, \"#f0f921\"]], \"type\": \"surface\"}], \"table\": [{\"cells\": {\"fill\": {\"color\": \"#EBF0F8\"}, \"line\": {\"color\": \"white\"}}, \"header\": {\"fill\": {\"color\": \"#C8D4E3\"}, \"line\": {\"color\": \"white\"}}, \"type\": \"table\"}]}, \"layout\": {\"annotationdefaults\": {\"arrowcolor\": \"#2a3f5f\", \"arrowhead\": 0, \"arrowwidth\": 1}, \"colorscale\": {\"diverging\": [[0, \"#8e0152\"], [0.1, \"#c51b7d\"], [0.2, \"#de77ae\"], [0.3, \"#f1b6da\"], [0.4, \"#fde0ef\"], [0.5, \"#f7f7f7\"], [0.6, \"#e6f5d0\"], [0.7, \"#b8e186\"], [0.8, \"#7fbc41\"], [0.9, \"#4d9221\"], [1, \"#276419\"]], \"sequential\": [[0.0, \"#0d0887\"], [0.1111111111111111, \"#46039f\"], [0.2222222222222222, \"#7201a8\"], [0.3333333333333333, \"#9c179e\"], [0.4444444444444444, \"#bd3786\"], [0.5555555555555556, \"#d8576b\"], [0.6666666666666666, \"#ed7953\"], [0.7777777777777778, \"#fb9f3a\"], [0.8888888888888888, \"#fdca26\"], [1.0, \"#f0f921\"]], \"sequentialminus\": [[0.0, \"#0d0887\"], [0.1111111111111111, \"#46039f\"], [0.2222222222222222, \"#7201a8\"], [0.3333333333333333, \"#9c179e\"], [0.4444444444444444, \"#bd3786\"], [0.5555555555555556, \"#d8576b\"], [0.6666666666666666, \"#ed7953\"], [0.7777777777777778, \"#fb9f3a\"], [0.8888888888888888, \"#fdca26\"], [1.0, \"#f0f921\"]]}, \"colorway\": [\"#636efa\", \"#EF553B\", \"#00cc96\", \"#ab63fa\", \"#FFA15A\", \"#19d3f3\", \"#FF6692\", \"#B6E880\", \"#FF97FF\", \"#FECB52\"], \"font\": {\"color\": \"#2a3f5f\"}, \"geo\": {\"bgcolor\": \"white\", \"lakecolor\": \"white\", \"landcolor\": \"#E5ECF6\", \"showlakes\": true, \"showland\": true, \"subunitcolor\": \"white\"}, \"hoverlabel\": {\"align\": \"left\"}, \"hovermode\": \"closest\", \"mapbox\": {\"style\": \"light\"}, \"paper_bgcolor\": \"white\", \"plot_bgcolor\": \"#E5ECF6\", \"polar\": {\"angularaxis\": {\"gridcolor\": \"white\", \"linecolor\": \"white\", \"ticks\": \"\"}, \"bgcolor\": \"#E5ECF6\", \"radialaxis\": {\"gridcolor\": \"white\", \"linecolor\": \"white\", \"ticks\": \"\"}}, \"scene\": {\"xaxis\": {\"backgroundcolor\": \"#E5ECF6\", \"gridcolor\": \"white\", \"gridwidth\": 2, \"linecolor\": \"white\", \"showbackground\": true, \"ticks\": \"\", \"zerolinecolor\": \"white\"}, \"yaxis\": {\"backgroundcolor\": \"#E5ECF6\", \"gridcolor\": \"white\", \"gridwidth\": 2, \"linecolor\": \"white\", \"showbackground\": true, \"ticks\": \"\", \"zerolinecolor\": \"white\"}, \"zaxis\": {\"backgroundcolor\": \"#E5ECF6\", \"gridcolor\": \"white\", \"gridwidth\": 2, \"linecolor\": \"white\", \"showbackground\": true, \"ticks\": \"\", \"zerolinecolor\": \"white\"}}, \"shapedefaults\": {\"line\": {\"color\": \"#2a3f5f\"}}, \"ternary\": {\"aaxis\": {\"gridcolor\": \"white\", \"linecolor\": \"white\", \"ticks\": \"\"}, \"baxis\": {\"gridcolor\": \"white\", \"linecolor\": \"white\", \"ticks\": \"\"}, \"bgcolor\": \"#E5ECF6\", \"caxis\": {\"gridcolor\": \"white\", \"linecolor\": \"white\", \"ticks\": \"\"}}, \"title\": {\"x\": 0.05}, \"xaxis\": {\"automargin\": true, \"gridcolor\": \"white\", \"linecolor\": \"white\", \"ticks\": \"\", \"zerolinecolor\": \"white\", \"zerolinewidth\": 2}, \"yaxis\": {\"automargin\": true, \"gridcolor\": \"white\", \"linecolor\": \"white\", \"ticks\": \"\", \"zerolinecolor\": \"white\", \"zerolinewidth\": 2}}}, \"title\": {\"text\": \"<b>COVID19 CASES IN AFRICA: November 19, 2020</b>\", \"x\": 0.5, \"xanchor\": \"center\", \"y\": 0.9, \"yanchor\": \"top\"}, \"xaxis\": {\"nticks\": 30, \"tickangle\": 90, \"title\": {\"font\": {\"color\": \"#BDBDBD\", \"size\": 18}, \"text\": \"<b>Date</b>\"}}, \"yaxis\": {\"title\": {\"font\": {\"color\": \"#4D4B4B\", \"size\": 18}, \"text\": \"<b>Cases</b>\"}}},\n",
       "                        {\"responsive\": true}\n",
       "                    ).then(function(){\n",
       "                            \n",
       "var gd = document.getElementById('f5b3fe63-0c6c-46e1-8357-6b56d06ff2c3');\n",
       "var x = new MutationObserver(function (mutations, observer) {{\n",
       "        var display = window.getComputedStyle(gd).display;\n",
       "        if (!display || display === 'none') {{\n",
       "            console.log([gd, 'removed!']);\n",
       "            Plotly.purge(gd);\n",
       "            observer.disconnect();\n",
       "        }}\n",
       "}});\n",
       "\n",
       "// Listen for the removal of the full notebook cells\n",
       "var notebookContainer = gd.closest('#notebook-container');\n",
       "if (notebookContainer) {{\n",
       "    x.observe(notebookContainer, {childList: true});\n",
       "}}\n",
       "\n",
       "// Listen for the clearing of the current output cell\n",
       "var outputEl = gd.closest('.output');\n",
       "if (outputEl) {{\n",
       "    x.observe(outputEl, {childList: true});\n",
       "}}\n",
       "\n",
       "                        })\n",
       "                };\n",
       "                });\n",
       "            </script>\n",
       "        </div>"
      ]
     },
     "metadata": {},
     "output_type": "display_data"
    }
   ],
   "source": [
    "fig = go.Figure()\n",
    "for column in african_summary.columns[1:]:\n",
    "    fig.add_trace(go.Scatter(\n",
    "        x=dates,\n",
    "        y= african_summary[column].tolist(),\n",
    "        name=column,\n",
    "        mode='lines',\n",
    "        line=dict(width=3)       \n",
    "))    \n",
    "fig.update_layout(\n",
    "    title={\n",
    "        'text': '<b>'+'COVID19 CASES IN AFRICA: ' + date_string +'</b>',\n",
    "        'y':0.9,\n",
    "        'x':0.5,\n",
    "        'xanchor': 'center',\n",
    "        'yanchor': 'top'},\n",
    "    xaxis=dict(title='<b>Date</b>',titlefont_size=18, titlefont=dict(color='#BDBDBD'),nticks=30),\n",
    "    yaxis=dict(title='<b>Cases</b>',titlefont_size=18,  titlefont=dict(color='#4D4B4B')),\n",
    "    legend=dict(x=0.07, y=0.98,traceorder=\"normal\",bgcolor='rgba(255, 255, 255, 0)',bordercolor='rgba(255, 255, 255, 0)',),\n",
    "#     margin=dict(l=20, r=20, t=20, b=20),    \n",
    "    xaxis_tickangle=90,   \n",
    "#     legend=dict(x=0.01, y=0.98,traceorder=\"normal\",borderwidth=1,bordercolor=\"Black\",)\n",
    ")\n",
    "fig.show()"
   ]
  },
  {
   "cell_type": "markdown",
   "metadata": {},
   "source": [
    "[Return to top](#top)"
   ]
  },
  {
   "cell_type": "markdown",
   "metadata": {},
   "source": [
    "### NEW CASES BY REGION"
   ]
  },
  {
   "cell_type": "code",
   "execution_count": 46,
   "metadata": {},
   "outputs": [
    {
     "data": {
      "application/vnd.plotly.v1+json": {
       "config": {
        "plotlyServerURL": "https://plot.ly"
       },
       "data": [
        {
         "line": {
          "width": 3
         },
         "mode": "lines",
         "name": "East Africa",
         "type": "scatter",
         "x": [
          "April16",
          "April17",
          "April18",
          "April19",
          "April20",
          "April21",
          "April22",
          "April23",
          "April24",
          "April25",
          "April26",
          "April27",
          "April28",
          "April29",
          "April30",
          "May01",
          "May02",
          "May03",
          "May04",
          "May05",
          "May06",
          "May07",
          "May08",
          "May09",
          "May10",
          "May11",
          "May12",
          "May13",
          "May14",
          "May15",
          "May16",
          "May17",
          "May18",
          "May19",
          "May20",
          "May21",
          "May22",
          "May23",
          "May24",
          "May25",
          "May26",
          "May27",
          "May28",
          "May29",
          "May30",
          "May31",
          "June01",
          "June02",
          "June03",
          "June04",
          "June05",
          "June06",
          "June07",
          "June08",
          "June09",
          "June10",
          "June11",
          "June12",
          "June13",
          "June14",
          "June15",
          "June16",
          "June17",
          "June18",
          "June19",
          "June20",
          "June21",
          "June22",
          "June23",
          "June24",
          "June25",
          "June26",
          "June27",
          "June28",
          "June29",
          "June30",
          "July01",
          "July02",
          "July03",
          "July04",
          "July05",
          "July06",
          "July07",
          "July08",
          "July09",
          "July10",
          "July11",
          "July12",
          "July13",
          "July14",
          "July15",
          "July16",
          "July17",
          "July18",
          "July19",
          "July20",
          "July21",
          "July22",
          "July23",
          "July24",
          "July25",
          "July26",
          "July27",
          "July28",
          "July29",
          "July30",
          "July31",
          "August01",
          "August02",
          "August03",
          "August04",
          "August05",
          "August06",
          "August07",
          "August08",
          "August09",
          "August10",
          "August11",
          "August12",
          "August13",
          "August14",
          "August15",
          "August16",
          "August17",
          "August18",
          "August19",
          "August20",
          "August21",
          "August22",
          "August23",
          "August24",
          "August25",
          "August26",
          "August27",
          "August28",
          "August29",
          "August30",
          "August31",
          "September01",
          "September02",
          "September03",
          "September04",
          "September05",
          "September06",
          "September07",
          "September08",
          "September09",
          "September10",
          "September11",
          "September12",
          "September13",
          "September14",
          "September15",
          "September16",
          "September17",
          "September18",
          "September19",
          "September20",
          "September21",
          "September22",
          "September23",
          "September24",
          "September25",
          "September26",
          "September27",
          "September28",
          "September29",
          "September30",
          "October01",
          "October02",
          "October03",
          "October04",
          "October05",
          "October06",
          "October07",
          "October08",
          "October09",
          "October10",
          "October11",
          "October12",
          "October13",
          "October14",
          "October15",
          "October16",
          "October17",
          "October18",
          "October19",
          "October20",
          "October21",
          "October22",
          "October23",
          "October24",
          "October25",
          "October26",
          "October27",
          "October28",
          "October29",
          "October30",
          "October31",
          "November01",
          "November02",
          "November03",
          "November04",
          "November05",
          "November06",
          "November07",
          "November08",
          "November09",
          "November10",
          "November11",
          "November12",
          "November13",
          "November14",
          "November15",
          "November16",
          "November17",
          "November18",
          "November19"
         ],
         "y": [
          202,
          286,
          106,
          210,
          217,
          255,
          106,
          126,
          137,
          166,
          145,
          129,
          239,
          330,
          221,
          55,
          287,
          164,
          216,
          297,
          213,
          375,
          292,
          484,
          399,
          302,
          563,
          352,
          437,
          298,
          700,
          405,
          623,
          387,
          603,
          1014,
          802,
          258,
          496,
          888,
          396,
          984,
          982,
          605,
          1071,
          672,
          976,
          761,
          789,
          869,
          628,
          784,
          760,
          1066,
          716,
          651,
          570,
          896,
          869,
          749,
          725,
          890,
          798,
          603,
          701,
          835,
          860,
          546,
          820,
          782,
          649,
          924,
          627,
          784,
          573,
          557,
          904,
          543,
          711,
          797,
          774,
          854,
          1027,
          1547,
          1181,
          1254,
          1333,
          1029,
          1086,
          1242,
          1280,
          1671,
          1529,
          1780,
          1871,
          1628,
          1876,
          2219,
          1926,
          2149,
          1819,
          2494,
          1710,
          2338,
          1781,
          2619,
          2631,
          2203,
          2046,
          1731,
          1878,
          1926,
          1709,
          2163,
          2249,
          1678,
          1696,
          1522,
          2129,
          2426,
          2480,
          2738,
          1944,
          2686,
          2270,
          2364,
          2817,
          2902,
          2690,
          2854,
          2281,
          2510,
          2324,
          2293,
          2596,
          2385,
          2310,
          1514,
          1981,
          1705,
          1746,
          1984,
          1900,
          1835,
          1496,
          1844,
          1703,
          1626,
          1539,
          1509,
          1200,
          1234,
          1384,
          1508,
          1382,
          1339,
          1578,
          1535,
          1493,
          1635,
          1331,
          1179,
          1327,
          1302,
          1346,
          1534,
          1494,
          1655,
          1356,
          1674,
          1581,
          1783,
          1223,
          1065,
          1678,
          1620,
          1790,
          1795,
          1629,
          1378,
          1244,
          1703,
          1625,
          1590,
          1619,
          1798,
          1649,
          1531,
          1624,
          2073,
          1819,
          2071,
          1719,
          1274,
          1591,
          2188,
          1864,
          2493,
          2137,
          1572,
          1967,
          1768,
          2485,
          1966,
          2142,
          1983,
          1951,
          2076,
          1947,
          2310,
          1991,
          2553,
          2342,
          1898,
          1954,
          1921,
          2217,
          2556
         ]
        },
        {
         "line": {
          "width": 3
         },
         "mode": "lines",
         "name": "West Africa",
         "type": "scatter",
         "x": [
          "April16",
          "April17",
          "April18",
          "April19",
          "April20",
          "April21",
          "April22",
          "April23",
          "April24",
          "April25",
          "April26",
          "April27",
          "April28",
          "April29",
          "April30",
          "May01",
          "May02",
          "May03",
          "May04",
          "May05",
          "May06",
          "May07",
          "May08",
          "May09",
          "May10",
          "May11",
          "May12",
          "May13",
          "May14",
          "May15",
          "May16",
          "May17",
          "May18",
          "May19",
          "May20",
          "May21",
          "May22",
          "May23",
          "May24",
          "May25",
          "May26",
          "May27",
          "May28",
          "May29",
          "May30",
          "May31",
          "June01",
          "June02",
          "June03",
          "June04",
          "June05",
          "June06",
          "June07",
          "June08",
          "June09",
          "June10",
          "June11",
          "June12",
          "June13",
          "June14",
          "June15",
          "June16",
          "June17",
          "June18",
          "June19",
          "June20",
          "June21",
          "June22",
          "June23",
          "June24",
          "June25",
          "June26",
          "June27",
          "June28",
          "June29",
          "June30",
          "July01",
          "July02",
          "July03",
          "July04",
          "July05",
          "July06",
          "July07",
          "July08",
          "July09",
          "July10",
          "July11",
          "July12",
          "July13",
          "July14",
          "July15",
          "July16",
          "July17",
          "July18",
          "July19",
          "July20",
          "July21",
          "July22",
          "July23",
          "July24",
          "July25",
          "July26",
          "July27",
          "July28",
          "July29",
          "July30",
          "July31",
          "August01",
          "August02",
          "August03",
          "August04",
          "August05",
          "August06",
          "August07",
          "August08",
          "August09",
          "August10",
          "August11",
          "August12",
          "August13",
          "August14",
          "August15",
          "August16",
          "August17",
          "August18",
          "August19",
          "August20",
          "August21",
          "August22",
          "August23",
          "August24",
          "August25",
          "August26",
          "August27",
          "August28",
          "August29",
          "August30",
          "August31",
          "September01",
          "September02",
          "September03",
          "September04",
          "September05",
          "September06",
          "September07",
          "September08",
          "September09",
          "September10",
          "September11",
          "September12",
          "September13",
          "September14",
          "September15",
          "September16",
          "September17",
          "September18",
          "September19",
          "September20",
          "September21",
          "September22",
          "September23",
          "September24",
          "September25",
          "September26",
          "September27",
          "September28",
          "September29",
          "September30",
          "October01",
          "October02",
          "October03",
          "October04",
          "October05",
          "October06",
          "October07",
          "October08",
          "October09",
          "October10",
          "October11",
          "October12",
          "October13",
          "October14",
          "October15",
          "October16",
          "October17",
          "October18",
          "October19",
          "October20",
          "October21",
          "October22",
          "October23",
          "October24",
          "October25",
          "October26",
          "October27",
          "October28",
          "October29",
          "October30",
          "October31",
          "November01",
          "November02",
          "November03",
          "November04",
          "November05",
          "November06",
          "November07",
          "November08",
          "November09",
          "November10",
          "November11",
          "November12",
          "November13",
          "November14",
          "November15",
          "November16",
          "November17",
          "November18",
          "November19"
         ],
         "y": [
          119,
          215,
          479,
          473,
          191,
          307,
          409,
          342,
          553,
          257,
          570,
          366,
          554,
          629,
          893,
          570,
          585,
          345,
          1267,
          433,
          936,
          788,
          1711,
          856,
          648,
          1015,
          1100,
          863,
          754,
          694,
          779,
          583,
          555,
          883,
          791,
          829,
          714,
          716,
          755,
          669,
          737,
          873,
          837,
          1219,
          1046,
          676,
          1193,
          889,
          980,
          1168,
          1223,
          1102,
          863,
          1105,
          1374,
          1023,
          1586,
          1942,
          1378,
          1866,
          1339,
          1472,
          1787,
          2071,
          2013,
          2037,
          1453,
          1416,
          1503,
          1943,
          1745,
          2021,
          2117,
          1492,
          1640,
          1613,
          1772,
          1375,
          2495,
          1216,
          1852,
          1990,
          1910,
          1941,
          1816,
          1767,
          1928,
          1509,
          1423,
          859,
          1813,
          2046,
          1659,
          1791,
          1680,
          1832,
          1590,
          1923,
          1232,
          2626,
          1845,
          2186,
          1627,
          1690,
          1551,
          1054,
          1281,
          2110,
          575,
          1349,
          765,
          2279,
          1509,
          1527,
          1341,
          1451,
          822,
          1151,
          1213,
          1031,
          881,
          1218,
          1203,
          957,
          1330,
          1331,
          1113,
          824,
          1134,
          909,
          888,
          696,
          710,
          764,
          657,
          776,
          676,
          531,
          756,
          783,
          518,
          620,
          604,
          552,
          505,
          743,
          801,
          576,
          601,
          409,
          567,
          470,
          624,
          418,
          429,
          644,
          601,
          494,
          423,
          407,
          556,
          412,
          572,
          372,
          587,
          322,
          455,
          686,
          438,
          528,
          521,
          285,
          334,
          372,
          454,
          489,
          467,
          471,
          426,
          400,
          585,
          563,
          496,
          518,
          446,
          506,
          315,
          411,
          380,
          448,
          317,
          370,
          226,
          323,
          416,
          423,
          735,
          427,
          363,
          451,
          287,
          277,
          686,
          592,
          410,
          383,
          698,
          297,
          482,
          451,
          881,
          416,
          422,
          451,
          622,
          411,
          637,
          586
         ]
        },
        {
         "line": {
          "width": 3
         },
         "mode": "lines",
         "name": "North Africa",
         "type": "scatter",
         "x": [
          "April16",
          "April17",
          "April18",
          "April19",
          "April20",
          "April21",
          "April22",
          "April23",
          "April24",
          "April25",
          "April26",
          "April27",
          "April28",
          "April29",
          "April30",
          "May01",
          "May02",
          "May03",
          "May04",
          "May05",
          "May06",
          "May07",
          "May08",
          "May09",
          "May10",
          "May11",
          "May12",
          "May13",
          "May14",
          "May15",
          "May16",
          "May17",
          "May18",
          "May19",
          "May20",
          "May21",
          "May22",
          "May23",
          "May24",
          "May25",
          "May26",
          "May27",
          "May28",
          "May29",
          "May30",
          "May31",
          "June01",
          "June02",
          "June03",
          "June04",
          "June05",
          "June06",
          "June07",
          "June08",
          "June09",
          "June10",
          "June11",
          "June12",
          "June13",
          "June14",
          "June15",
          "June16",
          "June17",
          "June18",
          "June19",
          "June20",
          "June21",
          "June22",
          "June23",
          "June24",
          "June25",
          "June26",
          "June27",
          "June28",
          "June29",
          "June30",
          "July01",
          "July02",
          "July03",
          "July04",
          "July05",
          "July06",
          "July07",
          "July08",
          "July09",
          "July10",
          "July11",
          "July12",
          "July13",
          "July14",
          "July15",
          "July16",
          "July17",
          "July18",
          "July19",
          "July20",
          "July21",
          "July22",
          "July23",
          "July24",
          "July25",
          "July26",
          "July27",
          "July28",
          "July29",
          "July30",
          "July31",
          "August01",
          "August02",
          "August03",
          "August04",
          "August05",
          "August06",
          "August07",
          "August08",
          "August09",
          "August10",
          "August11",
          "August12",
          "August13",
          "August14",
          "August15",
          "August16",
          "August17",
          "August18",
          "August19",
          "August20",
          "August21",
          "August22",
          "August23",
          "August24",
          "August25",
          "August26",
          "August27",
          "August28",
          "August29",
          "August30",
          "August31",
          "September01",
          "September02",
          "September03",
          "September04",
          "September05",
          "September06",
          "September07",
          "September08",
          "September09",
          "September10",
          "September11",
          "September12",
          "September13",
          "September14",
          "September15",
          "September16",
          "September17",
          "September18",
          "September19",
          "September20",
          "September21",
          "September22",
          "September23",
          "September24",
          "September25",
          "September26",
          "September27",
          "September28",
          "September29",
          "September30",
          "October01",
          "October02",
          "October03",
          "October04",
          "October05",
          "October06",
          "October07",
          "October08",
          "October09",
          "October10",
          "October11",
          "October12",
          "October13",
          "October14",
          "October15",
          "October16",
          "October17",
          "October18",
          "October19",
          "October20",
          "October21",
          "October22",
          "October23",
          "October24",
          "October25",
          "October26",
          "October27",
          "October28",
          "October29",
          "October30",
          "October31",
          "November01",
          "November02",
          "November03",
          "November04",
          "November05",
          "November06",
          "November07",
          "November08",
          "November09",
          "November10",
          "November11",
          "November12",
          "November13",
          "November14",
          "November15",
          "November16",
          "November17",
          "November18",
          "November19"
         ],
         "y": [
          578,
          644,
          427,
          392,
          474,
          438,
          514,
          460,
          516,
          512,
          519,
          456,
          532,
          499,
          543,
          658,
          610,
          629,
          677,
          748,
          739,
          719,
          849,
          878,
          754,
          732,
          660,
          618,
          682,
          634,
          775,
          837,
          805,
          970,
          1023,
          1041,
          1097,
          999,
          975,
          1001,
          1030,
          1116,
          1332,
          1513,
          1583,
          1717,
          1563,
          1314,
          1257,
          1344,
          1550,
          1709,
          1644,
          1630,
          1664,
          1647,
          1591,
          1781,
          1881,
          1866,
          1922,
          1761,
          1569,
          1426,
          2456,
          1934,
          1781,
          1947,
          1704,
          2187,
          2227,
          2177,
          1713,
          1781,
          2145,
          2160,
          2022,
          2223,
          2174,
          2364,
          2111,
          1678,
          1831,
          1760,
          1802,
          1673,
          1659,
          1660,
          1734,
          1672,
          1671,
          1867,
          1538,
          1687,
          1460,
          1681,
          1559,
          1574,
          1732,
          2033,
          2068,
          1836,
          1806,
          1810,
          2074,
          2291,
          2151,
          1574,
          1359,
          1553,
          1845,
          2225,
          2291,
          1902,
          2225,
          2167,
          1996,
          2186,
          2474,
          2380,
          2228,
          2892,
          2579,
          2111,
          2445,
          2582,
          2207,
          2619,
          2502,
          2112,
          2086,
          2235,
          2623,
          2412,
          2507,
          2597,
          2516,
          2412,
          2524,
          2927,
          2673,
          3031,
          2866,
          3598,
          3021,
          3455,
          3489,
          3257,
          4191,
          3457,
          3084,
          3408,
          3392,
          3353,
          4213,
          3726,
          4226,
          3586,
          3542,
          3709,
          4574,
          4034,
          4455,
          3528,
          4959,
          2532,
          4447,
          4270,
          3353,
          4644,
          4513,
          4301,
          2283,
          3834,
          6387,
          6324,
          4773,
          8382,
          5147,
          2751,
          4662,
          6770,
          4483,
          5014,
          9858,
          3992,
          5798,
          6305,
          6168,
          5599,
          6214,
          7037,
          5065,
          5335,
          5197,
          7236,
          5587,
          8465,
          6511,
          6223,
          4670,
          7098,
          8636,
          9308,
          7257,
          10429,
          8159,
          5406,
          8593,
          8903,
          9763,
          8992,
          8618,
          8085,
          5485,
          8024,
          9336,
          6465
         ]
        },
        {
         "line": {
          "width": 3
         },
         "mode": "lines",
         "name": "Southern Africa",
         "type": "scatter",
         "x": [
          "April16",
          "April17",
          "April18",
          "April19",
          "April20",
          "April21",
          "April22",
          "April23",
          "April24",
          "April25",
          "April26",
          "April27",
          "April28",
          "April29",
          "April30",
          "May01",
          "May02",
          "May03",
          "May04",
          "May05",
          "May06",
          "May07",
          "May08",
          "May09",
          "May10",
          "May11",
          "May12",
          "May13",
          "May14",
          "May15",
          "May16",
          "May17",
          "May18",
          "May19",
          "May20",
          "May21",
          "May22",
          "May23",
          "May24",
          "May25",
          "May26",
          "May27",
          "May28",
          "May29",
          "May30",
          "May31",
          "June01",
          "June02",
          "June03",
          "June04",
          "June05",
          "June06",
          "June07",
          "June08",
          "June09",
          "June10",
          "June11",
          "June12",
          "June13",
          "June14",
          "June15",
          "June16",
          "June17",
          "June18",
          "June19",
          "June20",
          "June21",
          "June22",
          "June23",
          "June24",
          "June25",
          "June26",
          "June27",
          "June28",
          "June29",
          "June30",
          "July01",
          "July02",
          "July03",
          "July04",
          "July05",
          "July06",
          "July07",
          "July08",
          "July09",
          "July10",
          "July11",
          "July12",
          "July13",
          "July14",
          "July15",
          "July16",
          "July17",
          "July18",
          "July19",
          "July20",
          "July21",
          "July22",
          "July23",
          "July24",
          "July25",
          "July26",
          "July27",
          "July28",
          "July29",
          "July30",
          "July31",
          "August01",
          "August02",
          "August03",
          "August04",
          "August05",
          "August06",
          "August07",
          "August08",
          "August09",
          "August10",
          "August11",
          "August12",
          "August13",
          "August14",
          "August15",
          "August16",
          "August17",
          "August18",
          "August19",
          "August20",
          "August21",
          "August22",
          "August23",
          "August24",
          "August25",
          "August26",
          "August27",
          "August28",
          "August29",
          "August30",
          "August31",
          "September01",
          "September02",
          "September03",
          "September04",
          "September05",
          "September06",
          "September07",
          "September08",
          "September09",
          "September10",
          "September11",
          "September12",
          "September13",
          "September14",
          "September15",
          "September16",
          "September17",
          "September18",
          "September19",
          "September20",
          "September21",
          "September22",
          "September23",
          "September24",
          "September25",
          "September26",
          "September27",
          "September28",
          "September29",
          "September30",
          "October01",
          "October02",
          "October03",
          "October04",
          "October05",
          "October06",
          "October07",
          "October08",
          "October09",
          "October10",
          "October11",
          "October12",
          "October13",
          "October14",
          "October15",
          "October16",
          "October17",
          "October18",
          "October19",
          "October20",
          "October21",
          "October22",
          "October23",
          "October24",
          "October25",
          "October26",
          "October27",
          "October28",
          "October29",
          "October30",
          "October31",
          "November01",
          "November02",
          "November03",
          "November04",
          "November05",
          "November06",
          "November07",
          "November08",
          "November09",
          "November10",
          "November11",
          "November12",
          "November13",
          "November14",
          "November15",
          "November16",
          "November17",
          "November18",
          "November19"
         ],
         "y": [
          102,
          179,
          258,
          129,
          144,
          175,
          172,
          318,
          273,
          163,
          188,
          253,
          211,
          374,
          314,
          310,
          387,
          451,
          441,
          355,
          240,
          454,
          669,
          530,
          605,
          641,
          707,
          728,
          665,
          793,
          843,
          1164,
          922,
          770,
          814,
          1146,
          995,
          1237,
          1258,
          1038,
          654,
          1761,
          1490,
          1838,
          1756,
          1723,
          1711,
          1461,
          1730,
          3287,
          2675,
          2574,
          2326,
          2610,
          2170,
          2469,
          3210,
          3393,
          3849,
          4333,
          3515,
          2821,
          4152,
          3566,
          3894,
          4971,
          4648,
          4335,
          4576,
          5716,
          6642,
          6273,
          7248,
          6420,
          6164,
          7040,
          8254,
          8781,
          9214,
          10996,
          8906,
          9134,
          10286,
          9044,
          13855,
          12511,
          13636,
          12307,
          11729,
          10585,
          12933,
          13703,
          13599,
          13626,
          13690,
          9532,
          8367,
          13444,
          13397,
          14358,
          12540,
          11550,
          7518,
          7507,
          11776,
          11379,
          11239,
          10848,
          8612,
          5706,
          4692,
          8682,
          8612,
          7622,
          7928,
          7000,
          4274,
          2810,
          3194,
          4489,
          6610,
          4892,
          4118,
          2970,
          2543,
          4451,
          4331,
          3820,
          4157,
          3117,
          2326,
          1880,
          3143,
          2953,
          2164,
          2696,
          2845,
          2362,
          1463,
          2617,
          2750,
          2864,
          2036,
          1838,
          1586,
          1307,
          2259,
          2363,
          2279,
          2037,
          1737,
          1300,
          1006,
          2035,
          2417,
          2285,
          2169,
          1709,
          887,
          1457,
          2095,
          2398,
          1638,
          1088,
          1404,
          1274,
          964,
          1932,
          1927,
          1926,
          2011,
          1672,
          974,
          1082,
          2061,
          1916,
          1578,
          2638,
          1635,
          1261,
          1234,
          1995,
          2241,
          2168,
          2006,
          1744,
          1881,
          1216,
          2127,
          2565,
          1981,
          1946,
          1717,
          1305,
          1174,
          1956,
          2509,
          1990,
          1811,
          1439,
          823,
          1293,
          1760,
          3132,
          1854,
          1798,
          1460,
          1316,
          1861,
          2256,
          2826,
          2340,
          2352,
          1946,
          2248,
          2076,
          2992,
          3141
         ]
        },
        {
         "line": {
          "width": 3
         },
         "mode": "lines",
         "name": "Central Africa",
         "type": "scatter",
         "x": [
          "April16",
          "April17",
          "April18",
          "April19",
          "April20",
          "April21",
          "April22",
          "April23",
          "April24",
          "April25",
          "April26",
          "April27",
          "April28",
          "April29",
          "April30",
          "May01",
          "May02",
          "May03",
          "May04",
          "May05",
          "May06",
          "May07",
          "May08",
          "May09",
          "May10",
          "May11",
          "May12",
          "May13",
          "May14",
          "May15",
          "May16",
          "May17",
          "May18",
          "May19",
          "May20",
          "May21",
          "May22",
          "May23",
          "May24",
          "May25",
          "May26",
          "May27",
          "May28",
          "May29",
          "May30",
          "May31",
          "June01",
          "June02",
          "June03",
          "June04",
          "June05",
          "June06",
          "June07",
          "June08",
          "June09",
          "June10",
          "June11",
          "June12",
          "June13",
          "June14",
          "June15",
          "June16",
          "June17",
          "June18",
          "June19",
          "June20",
          "June21",
          "June22",
          "June23",
          "June24",
          "June25",
          "June26",
          "June27",
          "June28",
          "June29",
          "June30",
          "July01",
          "July02",
          "July03",
          "July04",
          "July05",
          "July06",
          "July07",
          "July08",
          "July09",
          "July10",
          "July11",
          "July12",
          "July13",
          "July14",
          "July15",
          "July16",
          "July17",
          "July18",
          "July19",
          "July20",
          "July21",
          "July22",
          "July23",
          "July24",
          "July25",
          "July26",
          "July27",
          "July28",
          "July29",
          "July30",
          "July31",
          "August01",
          "August02",
          "August03",
          "August04",
          "August05",
          "August06",
          "August07",
          "August08",
          "August09",
          "August10",
          "August11",
          "August12",
          "August13",
          "August14",
          "August15",
          "August16",
          "August17",
          "August18",
          "August19",
          "August20",
          "August21",
          "August22",
          "August23",
          "August24",
          "August25",
          "August26",
          "August27",
          "August28",
          "August29",
          "August30",
          "August31",
          "September01",
          "September02",
          "September03",
          "September04",
          "September05",
          "September06",
          "September07",
          "September08",
          "September09",
          "September10",
          "September11",
          "September12",
          "September13",
          "September14",
          "September15",
          "September16",
          "September17",
          "September18",
          "September19",
          "September20",
          "September21",
          "September22",
          "September23",
          "September24",
          "September25",
          "September26",
          "September27",
          "September28",
          "September29",
          "September30",
          "October01",
          "October02",
          "October03",
          "October04",
          "October05",
          "October06",
          "October07",
          "October08",
          "October09",
          "October10",
          "October11",
          "October12",
          "October13",
          "October14",
          "October15",
          "October16",
          "October17",
          "October18",
          "October19",
          "October20",
          "October21",
          "October22",
          "October23",
          "October24",
          "October25",
          "October26",
          "October27",
          "October28",
          "October29",
          "October30",
          "October31",
          "November01",
          "November02",
          "November03",
          "November04",
          "November05",
          "November06",
          "November07",
          "November08",
          "November09",
          "November10",
          "November11",
          "November12",
          "November13",
          "November14",
          "November15",
          "November16",
          "November17",
          "November18",
          "November19"
         ],
         "y": [
          165,
          102,
          52,
          21,
          179,
          65,
          42,
          190,
          144,
          164,
          133,
          153,
          106,
          185,
          121,
          68,
          423,
          0,
          94,
          258,
          414,
          271,
          210,
          184,
          359,
          345,
          174,
          429,
          491,
          359,
          491,
          29,
          794,
          347,
          508,
          768,
          508,
          415,
          693,
          549,
          929,
          357,
          308,
          782,
          750,
          218,
          689,
          480,
          389,
          530,
          1078,
          490,
          529,
          461,
          606,
          701,
          386,
          233,
          128,
          60,
          2135,
          424,
          773,
          351,
          1071,
          609,
          570,
          924,
          540,
          674,
          830,
          362,
          275,
          146,
          388,
          241,
          505,
          138,
          1622,
          137,
          34,
          209,
          2406,
          430,
          517,
          460,
          356,
          91,
          204,
          115,
          360,
          1202,
          568,
          224,
          100,
          483,
          499,
          294,
          177,
          959,
          77,
          48,
          809,
          154,
          382,
          121,
          1854,
          218,
          66,
          560,
          579,
          271,
          149,
          349,
          466,
          120,
          126,
          326,
          198,
          150,
          366,
          61,
          155,
          235,
          86,
          234,
          187,
          184,
          77,
          60,
          214,
          341,
          141,
          263,
          192,
          93,
          116,
          122,
          377,
          764,
          202,
          170,
          100,
          67,
          323,
          366,
          113,
          322,
          182,
          82,
          217,
          157,
          187,
          185,
          169,
          242,
          153,
          119,
          323,
          157,
          257,
          163,
          157,
          132,
          69,
          201,
          149,
          220,
          186,
          180,
          203,
          43,
          163,
          236,
          35,
          421,
          149,
          239,
          150,
          171,
          209,
          525,
          271,
          216,
          247,
          181,
          333,
          313,
          313,
          285,
          306,
          333,
          358,
          541,
          267,
          253,
          280,
          367,
          252,
          559,
          233,
          458,
          288,
          304,
          247,
          404,
          222,
          276,
          194,
          243,
          156,
          429,
          334,
          88,
          271,
          458,
          164,
          1101
         ]
        }
       ],
       "layout": {
        "legend": {
         "bgcolor": "rgba(255, 255, 255, 0)",
         "bordercolor": "rgba(255, 255, 255, 0)",
         "borderwidth": 1,
         "traceorder": "normal",
         "x": 0.05,
         "y": 0.98
        },
        "template": {
         "data": {
          "bar": [
           {
            "error_x": {
             "color": "#2a3f5f"
            },
            "error_y": {
             "color": "#2a3f5f"
            },
            "marker": {
             "line": {
              "color": "#E5ECF6",
              "width": 0.5
             }
            },
            "type": "bar"
           }
          ],
          "barpolar": [
           {
            "marker": {
             "line": {
              "color": "#E5ECF6",
              "width": 0.5
             }
            },
            "type": "barpolar"
           }
          ],
          "carpet": [
           {
            "aaxis": {
             "endlinecolor": "#2a3f5f",
             "gridcolor": "white",
             "linecolor": "white",
             "minorgridcolor": "white",
             "startlinecolor": "#2a3f5f"
            },
            "baxis": {
             "endlinecolor": "#2a3f5f",
             "gridcolor": "white",
             "linecolor": "white",
             "minorgridcolor": "white",
             "startlinecolor": "#2a3f5f"
            },
            "type": "carpet"
           }
          ],
          "choropleth": [
           {
            "colorbar": {
             "outlinewidth": 0,
             "ticks": ""
            },
            "type": "choropleth"
           }
          ],
          "contour": [
           {
            "colorbar": {
             "outlinewidth": 0,
             "ticks": ""
            },
            "colorscale": [
             [
              0,
              "#0d0887"
             ],
             [
              0.1111111111111111,
              "#46039f"
             ],
             [
              0.2222222222222222,
              "#7201a8"
             ],
             [
              0.3333333333333333,
              "#9c179e"
             ],
             [
              0.4444444444444444,
              "#bd3786"
             ],
             [
              0.5555555555555556,
              "#d8576b"
             ],
             [
              0.6666666666666666,
              "#ed7953"
             ],
             [
              0.7777777777777778,
              "#fb9f3a"
             ],
             [
              0.8888888888888888,
              "#fdca26"
             ],
             [
              1,
              "#f0f921"
             ]
            ],
            "type": "contour"
           }
          ],
          "contourcarpet": [
           {
            "colorbar": {
             "outlinewidth": 0,
             "ticks": ""
            },
            "type": "contourcarpet"
           }
          ],
          "heatmap": [
           {
            "colorbar": {
             "outlinewidth": 0,
             "ticks": ""
            },
            "colorscale": [
             [
              0,
              "#0d0887"
             ],
             [
              0.1111111111111111,
              "#46039f"
             ],
             [
              0.2222222222222222,
              "#7201a8"
             ],
             [
              0.3333333333333333,
              "#9c179e"
             ],
             [
              0.4444444444444444,
              "#bd3786"
             ],
             [
              0.5555555555555556,
              "#d8576b"
             ],
             [
              0.6666666666666666,
              "#ed7953"
             ],
             [
              0.7777777777777778,
              "#fb9f3a"
             ],
             [
              0.8888888888888888,
              "#fdca26"
             ],
             [
              1,
              "#f0f921"
             ]
            ],
            "type": "heatmap"
           }
          ],
          "heatmapgl": [
           {
            "colorbar": {
             "outlinewidth": 0,
             "ticks": ""
            },
            "colorscale": [
             [
              0,
              "#0d0887"
             ],
             [
              0.1111111111111111,
              "#46039f"
             ],
             [
              0.2222222222222222,
              "#7201a8"
             ],
             [
              0.3333333333333333,
              "#9c179e"
             ],
             [
              0.4444444444444444,
              "#bd3786"
             ],
             [
              0.5555555555555556,
              "#d8576b"
             ],
             [
              0.6666666666666666,
              "#ed7953"
             ],
             [
              0.7777777777777778,
              "#fb9f3a"
             ],
             [
              0.8888888888888888,
              "#fdca26"
             ],
             [
              1,
              "#f0f921"
             ]
            ],
            "type": "heatmapgl"
           }
          ],
          "histogram": [
           {
            "marker": {
             "colorbar": {
              "outlinewidth": 0,
              "ticks": ""
             }
            },
            "type": "histogram"
           }
          ],
          "histogram2d": [
           {
            "colorbar": {
             "outlinewidth": 0,
             "ticks": ""
            },
            "colorscale": [
             [
              0,
              "#0d0887"
             ],
             [
              0.1111111111111111,
              "#46039f"
             ],
             [
              0.2222222222222222,
              "#7201a8"
             ],
             [
              0.3333333333333333,
              "#9c179e"
             ],
             [
              0.4444444444444444,
              "#bd3786"
             ],
             [
              0.5555555555555556,
              "#d8576b"
             ],
             [
              0.6666666666666666,
              "#ed7953"
             ],
             [
              0.7777777777777778,
              "#fb9f3a"
             ],
             [
              0.8888888888888888,
              "#fdca26"
             ],
             [
              1,
              "#f0f921"
             ]
            ],
            "type": "histogram2d"
           }
          ],
          "histogram2dcontour": [
           {
            "colorbar": {
             "outlinewidth": 0,
             "ticks": ""
            },
            "colorscale": [
             [
              0,
              "#0d0887"
             ],
             [
              0.1111111111111111,
              "#46039f"
             ],
             [
              0.2222222222222222,
              "#7201a8"
             ],
             [
              0.3333333333333333,
              "#9c179e"
             ],
             [
              0.4444444444444444,
              "#bd3786"
             ],
             [
              0.5555555555555556,
              "#d8576b"
             ],
             [
              0.6666666666666666,
              "#ed7953"
             ],
             [
              0.7777777777777778,
              "#fb9f3a"
             ],
             [
              0.8888888888888888,
              "#fdca26"
             ],
             [
              1,
              "#f0f921"
             ]
            ],
            "type": "histogram2dcontour"
           }
          ],
          "mesh3d": [
           {
            "colorbar": {
             "outlinewidth": 0,
             "ticks": ""
            },
            "type": "mesh3d"
           }
          ],
          "parcoords": [
           {
            "line": {
             "colorbar": {
              "outlinewidth": 0,
              "ticks": ""
             }
            },
            "type": "parcoords"
           }
          ],
          "scatter": [
           {
            "marker": {
             "colorbar": {
              "outlinewidth": 0,
              "ticks": ""
             }
            },
            "type": "scatter"
           }
          ],
          "scatter3d": [
           {
            "line": {
             "colorbar": {
              "outlinewidth": 0,
              "ticks": ""
             }
            },
            "marker": {
             "colorbar": {
              "outlinewidth": 0,
              "ticks": ""
             }
            },
            "type": "scatter3d"
           }
          ],
          "scattercarpet": [
           {
            "marker": {
             "colorbar": {
              "outlinewidth": 0,
              "ticks": ""
             }
            },
            "type": "scattercarpet"
           }
          ],
          "scattergeo": [
           {
            "marker": {
             "colorbar": {
              "outlinewidth": 0,
              "ticks": ""
             }
            },
            "type": "scattergeo"
           }
          ],
          "scattergl": [
           {
            "marker": {
             "colorbar": {
              "outlinewidth": 0,
              "ticks": ""
             }
            },
            "type": "scattergl"
           }
          ],
          "scattermapbox": [
           {
            "marker": {
             "colorbar": {
              "outlinewidth": 0,
              "ticks": ""
             }
            },
            "type": "scattermapbox"
           }
          ],
          "scatterpolar": [
           {
            "marker": {
             "colorbar": {
              "outlinewidth": 0,
              "ticks": ""
             }
            },
            "type": "scatterpolar"
           }
          ],
          "scatterpolargl": [
           {
            "marker": {
             "colorbar": {
              "outlinewidth": 0,
              "ticks": ""
             }
            },
            "type": "scatterpolargl"
           }
          ],
          "scatterternary": [
           {
            "marker": {
             "colorbar": {
              "outlinewidth": 0,
              "ticks": ""
             }
            },
            "type": "scatterternary"
           }
          ],
          "surface": [
           {
            "colorbar": {
             "outlinewidth": 0,
             "ticks": ""
            },
            "colorscale": [
             [
              0,
              "#0d0887"
             ],
             [
              0.1111111111111111,
              "#46039f"
             ],
             [
              0.2222222222222222,
              "#7201a8"
             ],
             [
              0.3333333333333333,
              "#9c179e"
             ],
             [
              0.4444444444444444,
              "#bd3786"
             ],
             [
              0.5555555555555556,
              "#d8576b"
             ],
             [
              0.6666666666666666,
              "#ed7953"
             ],
             [
              0.7777777777777778,
              "#fb9f3a"
             ],
             [
              0.8888888888888888,
              "#fdca26"
             ],
             [
              1,
              "#f0f921"
             ]
            ],
            "type": "surface"
           }
          ],
          "table": [
           {
            "cells": {
             "fill": {
              "color": "#EBF0F8"
             },
             "line": {
              "color": "white"
             }
            },
            "header": {
             "fill": {
              "color": "#C8D4E3"
             },
             "line": {
              "color": "white"
             }
            },
            "type": "table"
           }
          ]
         },
         "layout": {
          "annotationdefaults": {
           "arrowcolor": "#2a3f5f",
           "arrowhead": 0,
           "arrowwidth": 1
          },
          "colorscale": {
           "diverging": [
            [
             0,
             "#8e0152"
            ],
            [
             0.1,
             "#c51b7d"
            ],
            [
             0.2,
             "#de77ae"
            ],
            [
             0.3,
             "#f1b6da"
            ],
            [
             0.4,
             "#fde0ef"
            ],
            [
             0.5,
             "#f7f7f7"
            ],
            [
             0.6,
             "#e6f5d0"
            ],
            [
             0.7,
             "#b8e186"
            ],
            [
             0.8,
             "#7fbc41"
            ],
            [
             0.9,
             "#4d9221"
            ],
            [
             1,
             "#276419"
            ]
           ],
           "sequential": [
            [
             0,
             "#0d0887"
            ],
            [
             0.1111111111111111,
             "#46039f"
            ],
            [
             0.2222222222222222,
             "#7201a8"
            ],
            [
             0.3333333333333333,
             "#9c179e"
            ],
            [
             0.4444444444444444,
             "#bd3786"
            ],
            [
             0.5555555555555556,
             "#d8576b"
            ],
            [
             0.6666666666666666,
             "#ed7953"
            ],
            [
             0.7777777777777778,
             "#fb9f3a"
            ],
            [
             0.8888888888888888,
             "#fdca26"
            ],
            [
             1,
             "#f0f921"
            ]
           ],
           "sequentialminus": [
            [
             0,
             "#0d0887"
            ],
            [
             0.1111111111111111,
             "#46039f"
            ],
            [
             0.2222222222222222,
             "#7201a8"
            ],
            [
             0.3333333333333333,
             "#9c179e"
            ],
            [
             0.4444444444444444,
             "#bd3786"
            ],
            [
             0.5555555555555556,
             "#d8576b"
            ],
            [
             0.6666666666666666,
             "#ed7953"
            ],
            [
             0.7777777777777778,
             "#fb9f3a"
            ],
            [
             0.8888888888888888,
             "#fdca26"
            ],
            [
             1,
             "#f0f921"
            ]
           ]
          },
          "colorway": [
           "#636efa",
           "#EF553B",
           "#00cc96",
           "#ab63fa",
           "#FFA15A",
           "#19d3f3",
           "#FF6692",
           "#B6E880",
           "#FF97FF",
           "#FECB52"
          ],
          "font": {
           "color": "#2a3f5f"
          },
          "geo": {
           "bgcolor": "white",
           "lakecolor": "white",
           "landcolor": "#E5ECF6",
           "showlakes": true,
           "showland": true,
           "subunitcolor": "white"
          },
          "hoverlabel": {
           "align": "left"
          },
          "hovermode": "closest",
          "mapbox": {
           "style": "light"
          },
          "paper_bgcolor": "white",
          "plot_bgcolor": "#E5ECF6",
          "polar": {
           "angularaxis": {
            "gridcolor": "white",
            "linecolor": "white",
            "ticks": ""
           },
           "bgcolor": "#E5ECF6",
           "radialaxis": {
            "gridcolor": "white",
            "linecolor": "white",
            "ticks": ""
           }
          },
          "scene": {
           "xaxis": {
            "backgroundcolor": "#E5ECF6",
            "gridcolor": "white",
            "gridwidth": 2,
            "linecolor": "white",
            "showbackground": true,
            "ticks": "",
            "zerolinecolor": "white"
           },
           "yaxis": {
            "backgroundcolor": "#E5ECF6",
            "gridcolor": "white",
            "gridwidth": 2,
            "linecolor": "white",
            "showbackground": true,
            "ticks": "",
            "zerolinecolor": "white"
           },
           "zaxis": {
            "backgroundcolor": "#E5ECF6",
            "gridcolor": "white",
            "gridwidth": 2,
            "linecolor": "white",
            "showbackground": true,
            "ticks": "",
            "zerolinecolor": "white"
           }
          },
          "shapedefaults": {
           "line": {
            "color": "#2a3f5f"
           }
          },
          "ternary": {
           "aaxis": {
            "gridcolor": "white",
            "linecolor": "white",
            "ticks": ""
           },
           "baxis": {
            "gridcolor": "white",
            "linecolor": "white",
            "ticks": ""
           },
           "bgcolor": "#E5ECF6",
           "caxis": {
            "gridcolor": "white",
            "linecolor": "white",
            "ticks": ""
           }
          },
          "title": {
           "x": 0.05
          },
          "xaxis": {
           "automargin": true,
           "gridcolor": "white",
           "linecolor": "white",
           "ticks": "",
           "zerolinecolor": "white",
           "zerolinewidth": 2
          },
          "yaxis": {
           "automargin": true,
           "gridcolor": "white",
           "linecolor": "white",
           "ticks": "",
           "zerolinecolor": "white",
           "zerolinewidth": 2
          }
         }
        },
        "title": {
         "text": "<b>AFRICA- COVID19 NEW CASES: November 19, 2020</b>",
         "x": 0.5,
         "xanchor": "center",
         "y": 0.9,
         "yanchor": "top"
        },
        "xaxis": {
         "nticks": 8,
         "tickangle": 90,
         "title": {
          "font": {
           "color": "#BDBDBD",
           "size": 18
          },
          "text": "<b>Date</b>"
         }
        },
        "yaxis": {
         "title": {
          "font": {
           "color": "#4D4B4B",
           "size": 18
          },
          "text": "<b>New Cases</b>"
         }
        }
       }
      },
      "text/html": [
       "<div>\n",
       "        \n",
       "        \n",
       "            <div id=\"e8cd0ca2-e22f-4682-b948-3c2153b4a57c\" class=\"plotly-graph-div\" style=\"height:525px; width:100%;\"></div>\n",
       "            <script type=\"text/javascript\">\n",
       "                require([\"plotly\"], function(Plotly) {\n",
       "                    window.PLOTLYENV=window.PLOTLYENV || {};\n",
       "                    \n",
       "                if (document.getElementById(\"e8cd0ca2-e22f-4682-b948-3c2153b4a57c\")) {\n",
       "                    Plotly.newPlot(\n",
       "                        'e8cd0ca2-e22f-4682-b948-3c2153b4a57c',\n",
       "                        [{\"line\": {\"width\": 3}, \"mode\": \"lines\", \"name\": \"East Africa\", \"type\": \"scatter\", \"x\": [\"April16\", \"April17\", \"April18\", \"April19\", \"April20\", \"April21\", \"April22\", \"April23\", \"April24\", \"April25\", \"April26\", \"April27\", \"April28\", \"April29\", \"April30\", \"May01\", \"May02\", \"May03\", \"May04\", \"May05\", \"May06\", \"May07\", \"May08\", \"May09\", \"May10\", \"May11\", \"May12\", \"May13\", \"May14\", \"May15\", \"May16\", \"May17\", \"May18\", \"May19\", \"May20\", \"May21\", \"May22\", \"May23\", \"May24\", \"May25\", \"May26\", \"May27\", \"May28\", \"May29\", \"May30\", \"May31\", \"June01\", \"June02\", \"June03\", \"June04\", \"June05\", \"June06\", \"June07\", \"June08\", \"June09\", \"June10\", \"June11\", \"June12\", \"June13\", \"June14\", \"June15\", \"June16\", \"June17\", \"June18\", \"June19\", \"June20\", \"June21\", \"June22\", \"June23\", \"June24\", \"June25\", \"June26\", \"June27\", \"June28\", \"June29\", \"June30\", \"July01\", \"July02\", \"July03\", \"July04\", \"July05\", \"July06\", \"July07\", \"July08\", \"July09\", \"July10\", \"July11\", \"July12\", \"July13\", \"July14\", \"July15\", \"July16\", \"July17\", \"July18\", \"July19\", \"July20\", \"July21\", \"July22\", \"July23\", \"July24\", \"July25\", \"July26\", \"July27\", \"July28\", \"July29\", \"July30\", \"July31\", \"August01\", \"August02\", \"August03\", \"August04\", \"August05\", \"August06\", \"August07\", \"August08\", \"August09\", \"August10\", \"August11\", \"August12\", \"August13\", \"August14\", \"August15\", \"August16\", \"August17\", \"August18\", \"August19\", \"August20\", \"August21\", \"August22\", \"August23\", \"August24\", \"August25\", \"August26\", \"August27\", \"August28\", \"August29\", \"August30\", \"August31\", \"September01\", \"September02\", \"September03\", \"September04\", \"September05\", \"September06\", \"September07\", \"September08\", \"September09\", \"September10\", \"September11\", \"September12\", \"September13\", \"September14\", \"September15\", \"September16\", \"September17\", \"September18\", \"September19\", \"September20\", \"September21\", \"September22\", \"September23\", \"September24\", \"September25\", \"September26\", \"September27\", \"September28\", \"September29\", \"September30\", \"October01\", \"October02\", \"October03\", \"October04\", \"October05\", \"October06\", \"October07\", \"October08\", \"October09\", \"October10\", \"October11\", \"October12\", \"October13\", \"October14\", \"October15\", \"October16\", \"October17\", \"October18\", \"October19\", \"October20\", \"October21\", \"October22\", \"October23\", \"October24\", \"October25\", \"October26\", \"October27\", \"October28\", \"October29\", \"October30\", \"October31\", \"November01\", \"November02\", \"November03\", \"November04\", \"November05\", \"November06\", \"November07\", \"November08\", \"November09\", \"November10\", \"November11\", \"November12\", \"November13\", \"November14\", \"November15\", \"November16\", \"November17\", \"November18\", \"November19\"], \"y\": [202, 286, 106, 210, 217, 255, 106, 126, 137, 166, 145, 129, 239, 330, 221, 55, 287, 164, 216, 297, 213, 375, 292, 484, 399, 302, 563, 352, 437, 298, 700, 405, 623, 387, 603, 1014, 802, 258, 496, 888, 396, 984, 982, 605, 1071, 672, 976, 761, 789, 869, 628, 784, 760, 1066, 716, 651, 570, 896, 869, 749, 725, 890, 798, 603, 701, 835, 860, 546, 820, 782, 649, 924, 627, 784, 573, 557, 904, 543, 711, 797, 774, 854, 1027, 1547, 1181, 1254, 1333, 1029, 1086, 1242, 1280, 1671, 1529, 1780, 1871, 1628, 1876, 2219, 1926, 2149, 1819, 2494, 1710, 2338, 1781, 2619, 2631, 2203, 2046, 1731, 1878, 1926, 1709, 2163, 2249, 1678, 1696, 1522, 2129, 2426, 2480, 2738, 1944, 2686, 2270, 2364, 2817, 2902, 2690, 2854, 2281, 2510, 2324, 2293, 2596, 2385, 2310, 1514, 1981, 1705, 1746, 1984, 1900, 1835, 1496, 1844, 1703, 1626, 1539, 1509, 1200, 1234, 1384, 1508, 1382, 1339, 1578, 1535, 1493, 1635, 1331, 1179, 1327, 1302, 1346, 1534, 1494, 1655, 1356, 1674, 1581, 1783, 1223, 1065, 1678, 1620, 1790, 1795, 1629, 1378, 1244, 1703, 1625, 1590, 1619, 1798, 1649, 1531, 1624, 2073, 1819, 2071, 1719, 1274, 1591, 2188, 1864, 2493, 2137, 1572, 1967, 1768, 2485, 1966, 2142, 1983, 1951, 2076, 1947, 2310, 1991, 2553, 2342, 1898, 1954, 1921, 2217, 2556]}, {\"line\": {\"width\": 3}, \"mode\": \"lines\", \"name\": \"West Africa\", \"type\": \"scatter\", \"x\": [\"April16\", \"April17\", \"April18\", \"April19\", \"April20\", \"April21\", \"April22\", \"April23\", \"April24\", \"April25\", \"April26\", \"April27\", \"April28\", \"April29\", \"April30\", \"May01\", \"May02\", \"May03\", \"May04\", \"May05\", \"May06\", \"May07\", \"May08\", \"May09\", \"May10\", \"May11\", \"May12\", \"May13\", \"May14\", \"May15\", \"May16\", \"May17\", \"May18\", \"May19\", \"May20\", \"May21\", \"May22\", \"May23\", \"May24\", \"May25\", \"May26\", \"May27\", \"May28\", \"May29\", \"May30\", \"May31\", \"June01\", \"June02\", \"June03\", \"June04\", \"June05\", \"June06\", \"June07\", \"June08\", \"June09\", \"June10\", \"June11\", \"June12\", \"June13\", \"June14\", \"June15\", \"June16\", \"June17\", \"June18\", \"June19\", \"June20\", \"June21\", \"June22\", \"June23\", \"June24\", \"June25\", \"June26\", \"June27\", \"June28\", \"June29\", \"June30\", \"July01\", \"July02\", \"July03\", \"July04\", \"July05\", \"July06\", \"July07\", \"July08\", \"July09\", \"July10\", \"July11\", \"July12\", \"July13\", \"July14\", \"July15\", \"July16\", \"July17\", \"July18\", \"July19\", \"July20\", \"July21\", \"July22\", \"July23\", \"July24\", \"July25\", \"July26\", \"July27\", \"July28\", \"July29\", \"July30\", \"July31\", \"August01\", \"August02\", \"August03\", \"August04\", \"August05\", \"August06\", \"August07\", \"August08\", \"August09\", \"August10\", \"August11\", \"August12\", \"August13\", \"August14\", \"August15\", \"August16\", \"August17\", \"August18\", \"August19\", \"August20\", \"August21\", \"August22\", \"August23\", \"August24\", \"August25\", \"August26\", \"August27\", \"August28\", \"August29\", \"August30\", \"August31\", \"September01\", \"September02\", \"September03\", \"September04\", \"September05\", \"September06\", \"September07\", \"September08\", \"September09\", \"September10\", \"September11\", \"September12\", \"September13\", \"September14\", \"September15\", \"September16\", \"September17\", \"September18\", \"September19\", \"September20\", \"September21\", \"September22\", \"September23\", \"September24\", \"September25\", \"September26\", \"September27\", \"September28\", \"September29\", \"September30\", \"October01\", \"October02\", \"October03\", \"October04\", \"October05\", \"October06\", \"October07\", \"October08\", \"October09\", \"October10\", \"October11\", \"October12\", \"October13\", \"October14\", \"October15\", \"October16\", \"October17\", \"October18\", \"October19\", \"October20\", \"October21\", \"October22\", \"October23\", \"October24\", \"October25\", \"October26\", \"October27\", \"October28\", \"October29\", \"October30\", \"October31\", \"November01\", \"November02\", \"November03\", \"November04\", \"November05\", \"November06\", \"November07\", \"November08\", \"November09\", \"November10\", \"November11\", \"November12\", \"November13\", \"November14\", \"November15\", \"November16\", \"November17\", \"November18\", \"November19\"], \"y\": [119, 215, 479, 473, 191, 307, 409, 342, 553, 257, 570, 366, 554, 629, 893, 570, 585, 345, 1267, 433, 936, 788, 1711, 856, 648, 1015, 1100, 863, 754, 694, 779, 583, 555, 883, 791, 829, 714, 716, 755, 669, 737, 873, 837, 1219, 1046, 676, 1193, 889, 980, 1168, 1223, 1102, 863, 1105, 1374, 1023, 1586, 1942, 1378, 1866, 1339, 1472, 1787, 2071, 2013, 2037, 1453, 1416, 1503, 1943, 1745, 2021, 2117, 1492, 1640, 1613, 1772, 1375, 2495, 1216, 1852, 1990, 1910, 1941, 1816, 1767, 1928, 1509, 1423, 859, 1813, 2046, 1659, 1791, 1680, 1832, 1590, 1923, 1232, 2626, 1845, 2186, 1627, 1690, 1551, 1054, 1281, 2110, 575, 1349, 765, 2279, 1509, 1527, 1341, 1451, 822, 1151, 1213, 1031, 881, 1218, 1203, 957, 1330, 1331, 1113, 824, 1134, 909, 888, 696, 710, 764, 657, 776, 676, 531, 756, 783, 518, 620, 604, 552, 505, 743, 801, 576, 601, 409, 567, 470, 624, 418, 429, 644, 601, 494, 423, 407, 556, 412, 572, 372, 587, 322, 455, 686, 438, 528, 521, 285, 334, 372, 454, 489, 467, 471, 426, 400, 585, 563, 496, 518, 446, 506, 315, 411, 380, 448, 317, 370, 226, 323, 416, 423, 735, 427, 363, 451, 287, 277, 686, 592, 410, 383, 698, 297, 482, 451, 881, 416, 422, 451, 622, 411, 637, 586]}, {\"line\": {\"width\": 3}, \"mode\": \"lines\", \"name\": \"North Africa\", \"type\": \"scatter\", \"x\": [\"April16\", \"April17\", \"April18\", \"April19\", \"April20\", \"April21\", \"April22\", \"April23\", \"April24\", \"April25\", \"April26\", \"April27\", \"April28\", \"April29\", \"April30\", \"May01\", \"May02\", \"May03\", \"May04\", \"May05\", \"May06\", \"May07\", \"May08\", \"May09\", \"May10\", \"May11\", \"May12\", \"May13\", \"May14\", \"May15\", \"May16\", \"May17\", \"May18\", \"May19\", \"May20\", \"May21\", \"May22\", \"May23\", \"May24\", \"May25\", \"May26\", \"May27\", \"May28\", \"May29\", \"May30\", \"May31\", \"June01\", \"June02\", \"June03\", \"June04\", \"June05\", \"June06\", \"June07\", \"June08\", \"June09\", \"June10\", \"June11\", \"June12\", \"June13\", \"June14\", \"June15\", \"June16\", \"June17\", \"June18\", \"June19\", \"June20\", \"June21\", \"June22\", \"June23\", \"June24\", \"June25\", \"June26\", \"June27\", \"June28\", \"June29\", \"June30\", \"July01\", \"July02\", \"July03\", \"July04\", \"July05\", \"July06\", \"July07\", \"July08\", \"July09\", \"July10\", \"July11\", \"July12\", \"July13\", \"July14\", \"July15\", \"July16\", \"July17\", \"July18\", \"July19\", \"July20\", \"July21\", \"July22\", \"July23\", \"July24\", \"July25\", \"July26\", \"July27\", \"July28\", \"July29\", \"July30\", \"July31\", \"August01\", \"August02\", \"August03\", \"August04\", \"August05\", \"August06\", \"August07\", \"August08\", \"August09\", \"August10\", \"August11\", \"August12\", \"August13\", \"August14\", \"August15\", \"August16\", \"August17\", \"August18\", \"August19\", \"August20\", \"August21\", \"August22\", \"August23\", \"August24\", \"August25\", \"August26\", \"August27\", \"August28\", \"August29\", \"August30\", \"August31\", \"September01\", \"September02\", \"September03\", \"September04\", \"September05\", \"September06\", \"September07\", \"September08\", \"September09\", \"September10\", \"September11\", \"September12\", \"September13\", \"September14\", \"September15\", \"September16\", \"September17\", \"September18\", \"September19\", \"September20\", \"September21\", \"September22\", \"September23\", \"September24\", \"September25\", \"September26\", \"September27\", \"September28\", \"September29\", \"September30\", \"October01\", \"October02\", \"October03\", \"October04\", \"October05\", \"October06\", \"October07\", \"October08\", \"October09\", \"October10\", \"October11\", \"October12\", \"October13\", \"October14\", \"October15\", \"October16\", \"October17\", \"October18\", \"October19\", \"October20\", \"October21\", \"October22\", \"October23\", \"October24\", \"October25\", \"October26\", \"October27\", \"October28\", \"October29\", \"October30\", \"October31\", \"November01\", \"November02\", \"November03\", \"November04\", \"November05\", \"November06\", \"November07\", \"November08\", \"November09\", \"November10\", \"November11\", \"November12\", \"November13\", \"November14\", \"November15\", \"November16\", \"November17\", \"November18\", \"November19\"], \"y\": [578, 644, 427, 392, 474, 438, 514, 460, 516, 512, 519, 456, 532, 499, 543, 658, 610, 629, 677, 748, 739, 719, 849, 878, 754, 732, 660, 618, 682, 634, 775, 837, 805, 970, 1023, 1041, 1097, 999, 975, 1001, 1030, 1116, 1332, 1513, 1583, 1717, 1563, 1314, 1257, 1344, 1550, 1709, 1644, 1630, 1664, 1647, 1591, 1781, 1881, 1866, 1922, 1761, 1569, 1426, 2456, 1934, 1781, 1947, 1704, 2187, 2227, 2177, 1713, 1781, 2145, 2160, 2022, 2223, 2174, 2364, 2111, 1678, 1831, 1760, 1802, 1673, 1659, 1660, 1734, 1672, 1671, 1867, 1538, 1687, 1460, 1681, 1559, 1574, 1732, 2033, 2068, 1836, 1806, 1810, 2074, 2291, 2151, 1574, 1359, 1553, 1845, 2225, 2291, 1902, 2225, 2167, 1996, 2186, 2474, 2380, 2228, 2892, 2579, 2111, 2445, 2582, 2207, 2619, 2502, 2112, 2086, 2235, 2623, 2412, 2507, 2597, 2516, 2412, 2524, 2927, 2673, 3031, 2866, 3598, 3021, 3455, 3489, 3257, 4191, 3457, 3084, 3408, 3392, 3353, 4213, 3726, 4226, 3586, 3542, 3709, 4574, 4034, 4455, 3528, 4959, 2532, 4447, 4270, 3353, 4644, 4513, 4301, 2283, 3834, 6387, 6324, 4773, 8382, 5147, 2751, 4662, 6770, 4483, 5014, 9858, 3992, 5798, 6305, 6168, 5599, 6214, 7037, 5065, 5335, 5197, 7236, 5587, 8465, 6511, 6223, 4670, 7098, 8636, 9308, 7257, 10429, 8159, 5406, 8593, 8903, 9763, 8992, 8618, 8085, 5485, 8024, 9336, 6465]}, {\"line\": {\"width\": 3}, \"mode\": \"lines\", \"name\": \"Southern Africa\", \"type\": \"scatter\", \"x\": [\"April16\", \"April17\", \"April18\", \"April19\", \"April20\", \"April21\", \"April22\", \"April23\", \"April24\", \"April25\", \"April26\", \"April27\", \"April28\", \"April29\", \"April30\", \"May01\", \"May02\", \"May03\", \"May04\", \"May05\", \"May06\", \"May07\", \"May08\", \"May09\", \"May10\", \"May11\", \"May12\", \"May13\", \"May14\", \"May15\", \"May16\", \"May17\", \"May18\", \"May19\", \"May20\", \"May21\", \"May22\", \"May23\", \"May24\", \"May25\", \"May26\", \"May27\", \"May28\", \"May29\", \"May30\", \"May31\", \"June01\", \"June02\", \"June03\", \"June04\", \"June05\", \"June06\", \"June07\", \"June08\", \"June09\", \"June10\", \"June11\", \"June12\", \"June13\", \"June14\", \"June15\", \"June16\", \"June17\", \"June18\", \"June19\", \"June20\", \"June21\", \"June22\", \"June23\", \"June24\", \"June25\", \"June26\", \"June27\", \"June28\", \"June29\", \"June30\", \"July01\", \"July02\", \"July03\", \"July04\", \"July05\", \"July06\", \"July07\", \"July08\", \"July09\", \"July10\", \"July11\", \"July12\", \"July13\", \"July14\", \"July15\", \"July16\", \"July17\", \"July18\", \"July19\", \"July20\", \"July21\", \"July22\", \"July23\", \"July24\", \"July25\", \"July26\", \"July27\", \"July28\", \"July29\", \"July30\", \"July31\", \"August01\", \"August02\", \"August03\", \"August04\", \"August05\", \"August06\", \"August07\", \"August08\", \"August09\", \"August10\", \"August11\", \"August12\", \"August13\", \"August14\", \"August15\", \"August16\", \"August17\", \"August18\", \"August19\", \"August20\", \"August21\", \"August22\", \"August23\", \"August24\", \"August25\", \"August26\", \"August27\", \"August28\", \"August29\", \"August30\", \"August31\", \"September01\", \"September02\", \"September03\", \"September04\", \"September05\", \"September06\", \"September07\", \"September08\", \"September09\", \"September10\", \"September11\", \"September12\", \"September13\", \"September14\", \"September15\", \"September16\", \"September17\", \"September18\", \"September19\", \"September20\", \"September21\", \"September22\", \"September23\", \"September24\", \"September25\", \"September26\", \"September27\", \"September28\", \"September29\", \"September30\", \"October01\", \"October02\", \"October03\", \"October04\", \"October05\", \"October06\", \"October07\", \"October08\", \"October09\", \"October10\", \"October11\", \"October12\", \"October13\", \"October14\", \"October15\", \"October16\", \"October17\", \"October18\", \"October19\", \"October20\", \"October21\", \"October22\", \"October23\", \"October24\", \"October25\", \"October26\", \"October27\", \"October28\", \"October29\", \"October30\", \"October31\", \"November01\", \"November02\", \"November03\", \"November04\", \"November05\", \"November06\", \"November07\", \"November08\", \"November09\", \"November10\", \"November11\", \"November12\", \"November13\", \"November14\", \"November15\", \"November16\", \"November17\", \"November18\", \"November19\"], \"y\": [102, 179, 258, 129, 144, 175, 172, 318, 273, 163, 188, 253, 211, 374, 314, 310, 387, 451, 441, 355, 240, 454, 669, 530, 605, 641, 707, 728, 665, 793, 843, 1164, 922, 770, 814, 1146, 995, 1237, 1258, 1038, 654, 1761, 1490, 1838, 1756, 1723, 1711, 1461, 1730, 3287, 2675, 2574, 2326, 2610, 2170, 2469, 3210, 3393, 3849, 4333, 3515, 2821, 4152, 3566, 3894, 4971, 4648, 4335, 4576, 5716, 6642, 6273, 7248, 6420, 6164, 7040, 8254, 8781, 9214, 10996, 8906, 9134, 10286, 9044, 13855, 12511, 13636, 12307, 11729, 10585, 12933, 13703, 13599, 13626, 13690, 9532, 8367, 13444, 13397, 14358, 12540, 11550, 7518, 7507, 11776, 11379, 11239, 10848, 8612, 5706, 4692, 8682, 8612, 7622, 7928, 7000, 4274, 2810, 3194, 4489, 6610, 4892, 4118, 2970, 2543, 4451, 4331, 3820, 4157, 3117, 2326, 1880, 3143, 2953, 2164, 2696, 2845, 2362, 1463, 2617, 2750, 2864, 2036, 1838, 1586, 1307, 2259, 2363, 2279, 2037, 1737, 1300, 1006, 2035, 2417, 2285, 2169, 1709, 887, 1457, 2095, 2398, 1638, 1088, 1404, 1274, 964, 1932, 1927, 1926, 2011, 1672, 974, 1082, 2061, 1916, 1578, 2638, 1635, 1261, 1234, 1995, 2241, 2168, 2006, 1744, 1881, 1216, 2127, 2565, 1981, 1946, 1717, 1305, 1174, 1956, 2509, 1990, 1811, 1439, 823, 1293, 1760, 3132, 1854, 1798, 1460, 1316, 1861, 2256, 2826, 2340, 2352, 1946, 2248, 2076, 2992, 3141]}, {\"line\": {\"width\": 3}, \"mode\": \"lines\", \"name\": \"Central Africa\", \"type\": \"scatter\", \"x\": [\"April16\", \"April17\", \"April18\", \"April19\", \"April20\", \"April21\", \"April22\", \"April23\", \"April24\", \"April25\", \"April26\", \"April27\", \"April28\", \"April29\", \"April30\", \"May01\", \"May02\", \"May03\", \"May04\", \"May05\", \"May06\", \"May07\", \"May08\", \"May09\", \"May10\", \"May11\", \"May12\", \"May13\", \"May14\", \"May15\", \"May16\", \"May17\", \"May18\", \"May19\", \"May20\", \"May21\", \"May22\", \"May23\", \"May24\", \"May25\", \"May26\", \"May27\", \"May28\", \"May29\", \"May30\", \"May31\", \"June01\", \"June02\", \"June03\", \"June04\", \"June05\", \"June06\", \"June07\", \"June08\", \"June09\", \"June10\", \"June11\", \"June12\", \"June13\", \"June14\", \"June15\", \"June16\", \"June17\", \"June18\", \"June19\", \"June20\", \"June21\", \"June22\", \"June23\", \"June24\", \"June25\", \"June26\", \"June27\", \"June28\", \"June29\", \"June30\", \"July01\", \"July02\", \"July03\", \"July04\", \"July05\", \"July06\", \"July07\", \"July08\", \"July09\", \"July10\", \"July11\", \"July12\", \"July13\", \"July14\", \"July15\", \"July16\", \"July17\", \"July18\", \"July19\", \"July20\", \"July21\", \"July22\", \"July23\", \"July24\", \"July25\", \"July26\", \"July27\", \"July28\", \"July29\", \"July30\", \"July31\", \"August01\", \"August02\", \"August03\", \"August04\", \"August05\", \"August06\", \"August07\", \"August08\", \"August09\", \"August10\", \"August11\", \"August12\", \"August13\", \"August14\", \"August15\", \"August16\", \"August17\", \"August18\", \"August19\", \"August20\", \"August21\", \"August22\", \"August23\", \"August24\", \"August25\", \"August26\", \"August27\", \"August28\", \"August29\", \"August30\", \"August31\", \"September01\", \"September02\", \"September03\", \"September04\", \"September05\", \"September06\", \"September07\", \"September08\", \"September09\", \"September10\", \"September11\", \"September12\", \"September13\", \"September14\", \"September15\", \"September16\", \"September17\", \"September18\", \"September19\", \"September20\", \"September21\", \"September22\", \"September23\", \"September24\", \"September25\", \"September26\", \"September27\", \"September28\", \"September29\", \"September30\", \"October01\", \"October02\", \"October03\", \"October04\", \"October05\", \"October06\", \"October07\", \"October08\", \"October09\", \"October10\", \"October11\", \"October12\", \"October13\", \"October14\", \"October15\", \"October16\", \"October17\", \"October18\", \"October19\", \"October20\", \"October21\", \"October22\", \"October23\", \"October24\", \"October25\", \"October26\", \"October27\", \"October28\", \"October29\", \"October30\", \"October31\", \"November01\", \"November02\", \"November03\", \"November04\", \"November05\", \"November06\", \"November07\", \"November08\", \"November09\", \"November10\", \"November11\", \"November12\", \"November13\", \"November14\", \"November15\", \"November16\", \"November17\", \"November18\", \"November19\"], \"y\": [165, 102, 52, 21, 179, 65, 42, 190, 144, 164, 133, 153, 106, 185, 121, 68, 423, 0, 94, 258, 414, 271, 210, 184, 359, 345, 174, 429, 491, 359, 491, 29, 794, 347, 508, 768, 508, 415, 693, 549, 929, 357, 308, 782, 750, 218, 689, 480, 389, 530, 1078, 490, 529, 461, 606, 701, 386, 233, 128, 60, 2135, 424, 773, 351, 1071, 609, 570, 924, 540, 674, 830, 362, 275, 146, 388, 241, 505, 138, 1622, 137, 34, 209, 2406, 430, 517, 460, 356, 91, 204, 115, 360, 1202, 568, 224, 100, 483, 499, 294, 177, 959, 77, 48, 809, 154, 382, 121, 1854, 218, 66, 560, 579, 271, 149, 349, 466, 120, 126, 326, 198, 150, 366, 61, 155, 235, 86, 234, 187, 184, 77, 60, 214, 341, 141, 263, 192, 93, 116, 122, 377, 764, 202, 170, 100, 67, 323, 366, 113, 322, 182, 82, 217, 157, 187, 185, 169, 242, 153, 119, 323, 157, 257, 163, 157, 132, 69, 201, 149, 220, 186, 180, 203, 43, 163, 236, 35, 421, 149, 239, 150, 171, 209, 525, 271, 216, 247, 181, 333, 313, 313, 285, 306, 333, 358, 541, 267, 253, 280, 367, 252, 559, 233, 458, 288, 304, 247, 404, 222, 276, 194, 243, 156, 429, 334, 88, 271, 458, 164, 1101]}],\n",
       "                        {\"legend\": {\"bgcolor\": \"rgba(255, 255, 255, 0)\", \"bordercolor\": \"rgba(255, 255, 255, 0)\", \"borderwidth\": 1, \"traceorder\": \"normal\", \"x\": 0.05, \"y\": 0.98}, \"template\": {\"data\": {\"bar\": [{\"error_x\": {\"color\": \"#2a3f5f\"}, \"error_y\": {\"color\": \"#2a3f5f\"}, \"marker\": {\"line\": {\"color\": \"#E5ECF6\", \"width\": 0.5}}, \"type\": \"bar\"}], \"barpolar\": [{\"marker\": {\"line\": {\"color\": \"#E5ECF6\", \"width\": 0.5}}, \"type\": \"barpolar\"}], \"carpet\": [{\"aaxis\": {\"endlinecolor\": \"#2a3f5f\", \"gridcolor\": \"white\", \"linecolor\": \"white\", \"minorgridcolor\": \"white\", \"startlinecolor\": \"#2a3f5f\"}, \"baxis\": {\"endlinecolor\": \"#2a3f5f\", \"gridcolor\": \"white\", \"linecolor\": \"white\", \"minorgridcolor\": \"white\", \"startlinecolor\": \"#2a3f5f\"}, \"type\": \"carpet\"}], \"choropleth\": [{\"colorbar\": {\"outlinewidth\": 0, \"ticks\": \"\"}, \"type\": \"choropleth\"}], \"contour\": [{\"colorbar\": {\"outlinewidth\": 0, \"ticks\": \"\"}, \"colorscale\": [[0.0, \"#0d0887\"], [0.1111111111111111, \"#46039f\"], [0.2222222222222222, \"#7201a8\"], [0.3333333333333333, \"#9c179e\"], [0.4444444444444444, \"#bd3786\"], [0.5555555555555556, \"#d8576b\"], [0.6666666666666666, \"#ed7953\"], [0.7777777777777778, \"#fb9f3a\"], [0.8888888888888888, \"#fdca26\"], [1.0, \"#f0f921\"]], \"type\": \"contour\"}], \"contourcarpet\": [{\"colorbar\": {\"outlinewidth\": 0, \"ticks\": \"\"}, \"type\": \"contourcarpet\"}], \"heatmap\": [{\"colorbar\": {\"outlinewidth\": 0, \"ticks\": \"\"}, \"colorscale\": [[0.0, \"#0d0887\"], [0.1111111111111111, \"#46039f\"], [0.2222222222222222, \"#7201a8\"], [0.3333333333333333, \"#9c179e\"], [0.4444444444444444, \"#bd3786\"], [0.5555555555555556, \"#d8576b\"], [0.6666666666666666, \"#ed7953\"], [0.7777777777777778, \"#fb9f3a\"], [0.8888888888888888, \"#fdca26\"], [1.0, \"#f0f921\"]], \"type\": \"heatmap\"}], \"heatmapgl\": [{\"colorbar\": {\"outlinewidth\": 0, \"ticks\": \"\"}, \"colorscale\": [[0.0, \"#0d0887\"], [0.1111111111111111, \"#46039f\"], [0.2222222222222222, \"#7201a8\"], [0.3333333333333333, \"#9c179e\"], [0.4444444444444444, \"#bd3786\"], [0.5555555555555556, \"#d8576b\"], [0.6666666666666666, \"#ed7953\"], [0.7777777777777778, \"#fb9f3a\"], [0.8888888888888888, \"#fdca26\"], [1.0, \"#f0f921\"]], \"type\": \"heatmapgl\"}], \"histogram\": [{\"marker\": {\"colorbar\": {\"outlinewidth\": 0, \"ticks\": \"\"}}, \"type\": \"histogram\"}], \"histogram2d\": [{\"colorbar\": {\"outlinewidth\": 0, \"ticks\": \"\"}, \"colorscale\": [[0.0, \"#0d0887\"], [0.1111111111111111, \"#46039f\"], [0.2222222222222222, \"#7201a8\"], [0.3333333333333333, \"#9c179e\"], [0.4444444444444444, \"#bd3786\"], [0.5555555555555556, \"#d8576b\"], [0.6666666666666666, \"#ed7953\"], [0.7777777777777778, \"#fb9f3a\"], [0.8888888888888888, \"#fdca26\"], [1.0, \"#f0f921\"]], \"type\": \"histogram2d\"}], \"histogram2dcontour\": [{\"colorbar\": {\"outlinewidth\": 0, \"ticks\": \"\"}, \"colorscale\": [[0.0, \"#0d0887\"], [0.1111111111111111, \"#46039f\"], [0.2222222222222222, \"#7201a8\"], [0.3333333333333333, \"#9c179e\"], [0.4444444444444444, \"#bd3786\"], [0.5555555555555556, \"#d8576b\"], [0.6666666666666666, \"#ed7953\"], [0.7777777777777778, \"#fb9f3a\"], [0.8888888888888888, \"#fdca26\"], [1.0, \"#f0f921\"]], \"type\": \"histogram2dcontour\"}], \"mesh3d\": [{\"colorbar\": {\"outlinewidth\": 0, \"ticks\": \"\"}, \"type\": \"mesh3d\"}], \"parcoords\": [{\"line\": {\"colorbar\": {\"outlinewidth\": 0, \"ticks\": \"\"}}, \"type\": \"parcoords\"}], \"scatter\": [{\"marker\": {\"colorbar\": {\"outlinewidth\": 0, \"ticks\": \"\"}}, \"type\": \"scatter\"}], \"scatter3d\": [{\"line\": {\"colorbar\": {\"outlinewidth\": 0, \"ticks\": \"\"}}, \"marker\": {\"colorbar\": {\"outlinewidth\": 0, \"ticks\": \"\"}}, \"type\": \"scatter3d\"}], \"scattercarpet\": [{\"marker\": {\"colorbar\": {\"outlinewidth\": 0, \"ticks\": \"\"}}, \"type\": \"scattercarpet\"}], \"scattergeo\": [{\"marker\": {\"colorbar\": {\"outlinewidth\": 0, \"ticks\": \"\"}}, \"type\": \"scattergeo\"}], \"scattergl\": [{\"marker\": {\"colorbar\": {\"outlinewidth\": 0, \"ticks\": \"\"}}, \"type\": \"scattergl\"}], \"scattermapbox\": [{\"marker\": {\"colorbar\": {\"outlinewidth\": 0, \"ticks\": \"\"}}, \"type\": \"scattermapbox\"}], \"scatterpolar\": [{\"marker\": {\"colorbar\": {\"outlinewidth\": 0, \"ticks\": \"\"}}, \"type\": \"scatterpolar\"}], \"scatterpolargl\": [{\"marker\": {\"colorbar\": {\"outlinewidth\": 0, \"ticks\": \"\"}}, \"type\": \"scatterpolargl\"}], \"scatterternary\": [{\"marker\": {\"colorbar\": {\"outlinewidth\": 0, \"ticks\": \"\"}}, \"type\": \"scatterternary\"}], \"surface\": [{\"colorbar\": {\"outlinewidth\": 0, \"ticks\": \"\"}, \"colorscale\": [[0.0, \"#0d0887\"], [0.1111111111111111, \"#46039f\"], [0.2222222222222222, \"#7201a8\"], [0.3333333333333333, \"#9c179e\"], [0.4444444444444444, \"#bd3786\"], [0.5555555555555556, \"#d8576b\"], [0.6666666666666666, \"#ed7953\"], [0.7777777777777778, \"#fb9f3a\"], [0.8888888888888888, \"#fdca26\"], [1.0, \"#f0f921\"]], \"type\": \"surface\"}], \"table\": [{\"cells\": {\"fill\": {\"color\": \"#EBF0F8\"}, \"line\": {\"color\": \"white\"}}, \"header\": {\"fill\": {\"color\": \"#C8D4E3\"}, \"line\": {\"color\": \"white\"}}, \"type\": \"table\"}]}, \"layout\": {\"annotationdefaults\": {\"arrowcolor\": \"#2a3f5f\", \"arrowhead\": 0, \"arrowwidth\": 1}, \"colorscale\": {\"diverging\": [[0, \"#8e0152\"], [0.1, \"#c51b7d\"], [0.2, \"#de77ae\"], [0.3, \"#f1b6da\"], [0.4, \"#fde0ef\"], [0.5, \"#f7f7f7\"], [0.6, \"#e6f5d0\"], [0.7, \"#b8e186\"], [0.8, \"#7fbc41\"], [0.9, \"#4d9221\"], [1, \"#276419\"]], \"sequential\": [[0.0, \"#0d0887\"], [0.1111111111111111, \"#46039f\"], [0.2222222222222222, \"#7201a8\"], [0.3333333333333333, \"#9c179e\"], [0.4444444444444444, \"#bd3786\"], [0.5555555555555556, \"#d8576b\"], [0.6666666666666666, \"#ed7953\"], [0.7777777777777778, \"#fb9f3a\"], [0.8888888888888888, \"#fdca26\"], [1.0, \"#f0f921\"]], \"sequentialminus\": [[0.0, \"#0d0887\"], [0.1111111111111111, \"#46039f\"], [0.2222222222222222, \"#7201a8\"], [0.3333333333333333, \"#9c179e\"], [0.4444444444444444, \"#bd3786\"], [0.5555555555555556, \"#d8576b\"], [0.6666666666666666, \"#ed7953\"], [0.7777777777777778, \"#fb9f3a\"], [0.8888888888888888, \"#fdca26\"], [1.0, \"#f0f921\"]]}, \"colorway\": [\"#636efa\", \"#EF553B\", \"#00cc96\", \"#ab63fa\", \"#FFA15A\", \"#19d3f3\", \"#FF6692\", \"#B6E880\", \"#FF97FF\", \"#FECB52\"], \"font\": {\"color\": \"#2a3f5f\"}, \"geo\": {\"bgcolor\": \"white\", \"lakecolor\": \"white\", \"landcolor\": \"#E5ECF6\", \"showlakes\": true, \"showland\": true, \"subunitcolor\": \"white\"}, \"hoverlabel\": {\"align\": \"left\"}, \"hovermode\": \"closest\", \"mapbox\": {\"style\": \"light\"}, \"paper_bgcolor\": \"white\", \"plot_bgcolor\": \"#E5ECF6\", \"polar\": {\"angularaxis\": {\"gridcolor\": \"white\", \"linecolor\": \"white\", \"ticks\": \"\"}, \"bgcolor\": \"#E5ECF6\", \"radialaxis\": {\"gridcolor\": \"white\", \"linecolor\": \"white\", \"ticks\": \"\"}}, \"scene\": {\"xaxis\": {\"backgroundcolor\": \"#E5ECF6\", \"gridcolor\": \"white\", \"gridwidth\": 2, \"linecolor\": \"white\", \"showbackground\": true, \"ticks\": \"\", \"zerolinecolor\": \"white\"}, \"yaxis\": {\"backgroundcolor\": \"#E5ECF6\", \"gridcolor\": \"white\", \"gridwidth\": 2, \"linecolor\": \"white\", \"showbackground\": true, \"ticks\": \"\", \"zerolinecolor\": \"white\"}, \"zaxis\": {\"backgroundcolor\": \"#E5ECF6\", \"gridcolor\": \"white\", \"gridwidth\": 2, \"linecolor\": \"white\", \"showbackground\": true, \"ticks\": \"\", \"zerolinecolor\": \"white\"}}, \"shapedefaults\": {\"line\": {\"color\": \"#2a3f5f\"}}, \"ternary\": {\"aaxis\": {\"gridcolor\": \"white\", \"linecolor\": \"white\", \"ticks\": \"\"}, \"baxis\": {\"gridcolor\": \"white\", \"linecolor\": \"white\", \"ticks\": \"\"}, \"bgcolor\": \"#E5ECF6\", \"caxis\": {\"gridcolor\": \"white\", \"linecolor\": \"white\", \"ticks\": \"\"}}, \"title\": {\"x\": 0.05}, \"xaxis\": {\"automargin\": true, \"gridcolor\": \"white\", \"linecolor\": \"white\", \"ticks\": \"\", \"zerolinecolor\": \"white\", \"zerolinewidth\": 2}, \"yaxis\": {\"automargin\": true, \"gridcolor\": \"white\", \"linecolor\": \"white\", \"ticks\": \"\", \"zerolinecolor\": \"white\", \"zerolinewidth\": 2}}}, \"title\": {\"text\": \"<b>AFRICA- COVID19 NEW CASES: November 19, 2020</b>\", \"x\": 0.5, \"xanchor\": \"center\", \"y\": 0.9, \"yanchor\": \"top\"}, \"xaxis\": {\"nticks\": 8, \"tickangle\": 90, \"title\": {\"font\": {\"color\": \"#BDBDBD\", \"size\": 18}, \"text\": \"<b>Date</b>\"}}, \"yaxis\": {\"title\": {\"font\": {\"color\": \"#4D4B4B\", \"size\": 18}, \"text\": \"<b>New Cases</b>\"}}},\n",
       "                        {\"responsive\": true}\n",
       "                    ).then(function(){\n",
       "                            \n",
       "var gd = document.getElementById('e8cd0ca2-e22f-4682-b948-3c2153b4a57c');\n",
       "var x = new MutationObserver(function (mutations, observer) {{\n",
       "        var display = window.getComputedStyle(gd).display;\n",
       "        if (!display || display === 'none') {{\n",
       "            console.log([gd, 'removed!']);\n",
       "            Plotly.purge(gd);\n",
       "            observer.disconnect();\n",
       "        }}\n",
       "}});\n",
       "\n",
       "// Listen for the removal of the full notebook cells\n",
       "var notebookContainer = gd.closest('#notebook-container');\n",
       "if (notebookContainer) {{\n",
       "    x.observe(notebookContainer, {childList: true});\n",
       "}}\n",
       "\n",
       "// Listen for the clearing of the current output cell\n",
       "var outputEl = gd.closest('.output');\n",
       "if (outputEl) {{\n",
       "    x.observe(outputEl, {childList: true});\n",
       "}}\n",
       "\n",
       "                        })\n",
       "                };\n",
       "                });\n",
       "            </script>\n",
       "        </div>"
      ]
     },
     "metadata": {},
     "output_type": "display_data"
    }
   ],
   "source": [
    "fig = go.Figure()\n",
    "\n",
    "total_per_day1 = []\n",
    "for date in dates:    \n",
    "    total = east_africa[date].str.replace('+','').fillna(0).str.replace(',','').fillna(0).astype(int).sum()\n",
    "    total_per_day1.append(total)\n",
    "\n",
    "fig.add_trace(go.Scatter(\n",
    "x=dates,\n",
    "y =total_per_day1,\n",
    "    name =\"East Africa\",\n",
    "    mode='lines',\n",
    "    line=dict(width=3)\n",
    "    \n",
    "))\n",
    "\n",
    "total_per_day2 = []\n",
    "for date in dates:    \n",
    "    total = west_africa[date].str.replace('+','').fillna(0).str.replace(',','').fillna(0).astype(int).sum()\n",
    "    total_per_day2.append(total)\n",
    "\n",
    "fig.add_trace(go.Scatter(\n",
    "x=dates,\n",
    "y =total_per_day2,\n",
    "    name =\"West Africa\",\n",
    "    mode='lines',\n",
    "    line=dict(width=3)\n",
    "   \n",
    "))\n",
    "\n",
    "\n",
    "total_per_day3 = []\n",
    "for date in dates:    \n",
    "    total = north_africa[date].str.replace('+','').fillna(0).str.replace(',','').fillna(0).astype(int).sum()\n",
    "    total_per_day3.append(total)\n",
    "\n",
    "fig.add_trace(go.Scatter(\n",
    "x=dates,\n",
    "y =total_per_day3,\n",
    "    name =\"North Africa\",\n",
    "    mode='lines',\n",
    "    line=dict(width=3)\n",
    "    \n",
    "))\n",
    "\n",
    "total_per_day4 = []\n",
    "for date in dates:    \n",
    "    total = southern_africa[date].str.replace('+','').fillna(0).str.replace(',','').fillna(0).astype(int).sum()\n",
    "    total_per_day4.append(total)\n",
    "\n",
    "fig.add_trace(go.Scatter(\n",
    "x=dates,\n",
    "y =total_per_day4,\n",
    "    name =\"Southern Africa\",\n",
    "    mode='lines',\n",
    "    line=dict(width=3)\n",
    "    \n",
    "))\n",
    "\n",
    "total_per_day5 = []\n",
    "for date in dates:    \n",
    "    total = central_africa[date].str.replace('+','').fillna(0).str.replace(',','').fillna(0).astype(int).sum()\n",
    "    total_per_day5.append(total)\n",
    "\n",
    "fig.add_trace(go.Scatter(\n",
    "x=dates,\n",
    "y =total_per_day5,\n",
    "    name =\"Central Africa\",\n",
    "    mode='lines',\n",
    "    line=dict(width=3)\n",
    "    \n",
    "))\n",
    "\n",
    "fig.update_layout(\n",
    "    title={\n",
    "        'text': '<b>'+'AFRICA- COVID19 NEW CASES: ' + date_string +'</b>',\n",
    "        'y':0.9,\n",
    "        'x':0.5,\n",
    "        'xanchor': 'center',\n",
    "        'yanchor': 'top'},\n",
    "    xaxis=dict(title='<b>Date</b>',titlefont_size=18, titlefont=dict(color='#BDBDBD'),nticks=8),\n",
    "    yaxis=dict(title='<b>New Cases</b>',titlefont_size=18,  titlefont=dict(color='#4D4B4B')),\n",
    "    xaxis_tickangle=90,\n",
    "    legend=dict(x=0.05, y=0.98,traceorder=\"normal\",borderwidth=1,bgcolor='rgba(255, 255, 255, 0)',bordercolor='rgba(255, 255, 255, 0)',)\n",
    ")\n",
    "\n",
    "   \n",
    "fig.show()"
   ]
  },
  {
   "cell_type": "markdown",
   "metadata": {},
   "source": [
    "[Return to top](#top)"
   ]
  },
  {
   "cell_type": "code",
   "execution_count": 47,
   "metadata": {},
   "outputs": [
    {
     "data": {
      "text/html": [
       "<div>\n",
       "<style scoped>\n",
       "    .dataframe tbody tr th:only-of-type {\n",
       "        vertical-align: middle;\n",
       "    }\n",
       "\n",
       "    .dataframe tbody tr th {\n",
       "        vertical-align: top;\n",
       "    }\n",
       "\n",
       "    .dataframe thead th {\n",
       "        text-align: right;\n",
       "    }\n",
       "</style>\n",
       "<table border=\"1\" class=\"dataframe\">\n",
       "  <thead>\n",
       "    <tr style=\"text-align: right;\">\n",
       "      <th></th>\n",
       "      <th>Country_Other</th>\n",
       "      <th>April16</th>\n",
       "      <th>April17</th>\n",
       "      <th>April18</th>\n",
       "      <th>April19</th>\n",
       "      <th>April20</th>\n",
       "      <th>April21</th>\n",
       "      <th>April22</th>\n",
       "      <th>April23</th>\n",
       "      <th>April24</th>\n",
       "      <th>...</th>\n",
       "      <th>November10</th>\n",
       "      <th>November11</th>\n",
       "      <th>November12</th>\n",
       "      <th>November13</th>\n",
       "      <th>November14</th>\n",
       "      <th>November15</th>\n",
       "      <th>November16</th>\n",
       "      <th>November17</th>\n",
       "      <th>November18</th>\n",
       "      <th>November19</th>\n",
       "    </tr>\n",
       "  </thead>\n",
       "  <tbody>\n",
       "    <tr>\n",
       "      <td>0</td>\n",
       "      <td>China</td>\n",
       "      <td>+46</td>\n",
       "      <td>+325</td>\n",
       "      <td>+27</td>\n",
       "      <td>+16</td>\n",
       "      <td>+12</td>\n",
       "      <td>+11</td>\n",
       "      <td>+30</td>\n",
       "      <td>+10</td>\n",
       "      <td>+6</td>\n",
       "      <td>...</td>\n",
       "      <td>+22</td>\n",
       "      <td>+17</td>\n",
       "      <td>+15</td>\n",
       "      <td>+8</td>\n",
       "      <td>+18</td>\n",
       "      <td>+13</td>\n",
       "      <td>+8</td>\n",
       "      <td>+15</td>\n",
       "      <td>+8</td>\n",
       "      <td>+12</td>\n",
       "    </tr>\n",
       "    <tr>\n",
       "      <td>1</td>\n",
       "      <td>USA</td>\n",
       "      <td>+29,567</td>\n",
       "      <td>+32,165</td>\n",
       "      <td>+29,057</td>\n",
       "      <td>+25,844</td>\n",
       "      <td>+28,123</td>\n",
       "      <td>+25,985</td>\n",
       "      <td>+29,973</td>\n",
       "      <td>+31,900</td>\n",
       "      <td>+38,958</td>\n",
       "      <td>...</td>\n",
       "      <td>+135,653</td>\n",
       "      <td>+142,906</td>\n",
       "      <td>+161,541</td>\n",
       "      <td>+183,625</td>\n",
       "      <td>+157,253</td>\n",
       "      <td>+139,084</td>\n",
       "      <td>+162,346</td>\n",
       "      <td>+157,261</td>\n",
       "      <td>+173,768</td>\n",
       "      <td>+192,186</td>\n",
       "    </tr>\n",
       "    <tr>\n",
       "      <td>2</td>\n",
       "      <td>Spain</td>\n",
       "      <td>+4,289</td>\n",
       "      <td>+5,891</td>\n",
       "      <td>+3,577</td>\n",
       "      <td>+4,258</td>\n",
       "      <td>+1,536</td>\n",
       "      <td>+3,968</td>\n",
       "      <td>+4,211</td>\n",
       "      <td>+4,635</td>\n",
       "      <td>+6,740</td>\n",
       "      <td>...</td>\n",
       "      <td>+17,395</td>\n",
       "      <td>+19,096</td>\n",
       "      <td>+19,511</td>\n",
       "      <td>+21,371</td>\n",
       "      <td>NaN</td>\n",
       "      <td>NaN</td>\n",
       "      <td>+12,758</td>\n",
       "      <td>+13,159</td>\n",
       "      <td>+11,064</td>\n",
       "      <td>+16,233</td>\n",
       "    </tr>\n",
       "  </tbody>\n",
       "</table>\n",
       "<p>3 rows × 219 columns</p>\n",
       "</div>"
      ],
      "text/plain": [
       "  Country_Other  April16  April17  April18  April19  April20  April21  \\\n",
       "0         China      +46     +325      +27      +16      +12      +11   \n",
       "1           USA  +29,567  +32,165  +29,057  +25,844  +28,123  +25,985   \n",
       "2         Spain   +4,289   +5,891   +3,577   +4,258   +1,536   +3,968   \n",
       "\n",
       "   April22  April23  April24  ... November10 November11 November12 November13  \\\n",
       "0      +30      +10       +6  ...        +22        +17        +15         +8   \n",
       "1  +29,973  +31,900  +38,958  ...   +135,653   +142,906   +161,541   +183,625   \n",
       "2   +4,211   +4,635   +6,740  ...    +17,395    +19,096    +19,511    +21,371   \n",
       "\n",
       "  November14 November15 November16 November17 November18 November19  \n",
       "0        +18        +13         +8        +15         +8        +12  \n",
       "1   +157,253   +139,084   +162,346   +157,261   +173,768   +192,186  \n",
       "2        NaN        NaN    +12,758    +13,159    +11,064    +16,233  \n",
       "\n",
       "[3 rows x 219 columns]"
      ]
     },
     "execution_count": 47,
     "metadata": {},
     "output_type": "execute_result"
    }
   ],
   "source": [
    "given_date =ea_latest[18:26]\n",
    "countries_new_cases = pd.read_csv(\"../COVID19/World/NewCases/DailyCases\"+given_date+\".csv\")\n",
    "countries_new_cases.head(3)"
   ]
  },
  {
   "cell_type": "code",
   "execution_count": 48,
   "metadata": {},
   "outputs": [],
   "source": [
    "countries_and_continents = pd.read_csv('../COVID19/GeneralFiles/CountriesAndContinents.csv')\n",
    "african_countries = countries_and_continents[countries_and_continents['continent'] == 'Africa']"
   ]
  },
  {
   "cell_type": "code",
   "execution_count": 49,
   "metadata": {},
   "outputs": [
    {
     "data": {
      "text/plain": [
       "['North Africa',\n",
       " 'South Africa',\n",
       " 'Central Africa',\n",
       " 'East Africa',\n",
       " 'West Africa']"
      ]
     },
     "execution_count": 49,
     "metadata": {},
     "output_type": "execute_result"
    }
   ],
   "source": [
    "african_regions = list(african_countries['region'].unique())\n",
    "african_regions"
   ]
  },
  {
   "cell_type": "code",
   "execution_count": 50,
   "metadata": {},
   "outputs": [
    {
     "data": {
      "text/html": [
       "<div>\n",
       "<style scoped>\n",
       "    .dataframe tbody tr th:only-of-type {\n",
       "        vertical-align: middle;\n",
       "    }\n",
       "\n",
       "    .dataframe tbody tr th {\n",
       "        vertical-align: top;\n",
       "    }\n",
       "\n",
       "    .dataframe thead th {\n",
       "        text-align: right;\n",
       "    }\n",
       "</style>\n",
       "<table border=\"1\" class=\"dataframe\">\n",
       "  <thead>\n",
       "    <tr style=\"text-align: right;\">\n",
       "      <th></th>\n",
       "      <th>country_Other</th>\n",
       "      <th>continent</th>\n",
       "      <th>region</th>\n",
       "    </tr>\n",
       "  </thead>\n",
       "  <tbody>\n",
       "    <tr>\n",
       "      <td>50</td>\n",
       "      <td>South Africa</td>\n",
       "      <td>Africa</td>\n",
       "      <td>South Africa</td>\n",
       "    </tr>\n",
       "    <tr>\n",
       "      <td>170</td>\n",
       "      <td>Zimbabwe</td>\n",
       "      <td>Africa</td>\n",
       "      <td>South Africa</td>\n",
       "    </tr>\n",
       "    <tr>\n",
       "      <td>179</td>\n",
       "      <td>Eswatini</td>\n",
       "      <td>Africa</td>\n",
       "      <td>South Africa</td>\n",
       "    </tr>\n",
       "    <tr>\n",
       "      <td>181</td>\n",
       "      <td>Namibia</td>\n",
       "      <td>Africa</td>\n",
       "      <td>South Africa</td>\n",
       "    </tr>\n",
       "    <tr>\n",
       "      <td>182</td>\n",
       "      <td>Botswana</td>\n",
       "      <td>Africa</td>\n",
       "      <td>South Africa</td>\n",
       "    </tr>\n",
       "    <tr>\n",
       "      <td>214</td>\n",
       "      <td>Lesotho</td>\n",
       "      <td>Africa</td>\n",
       "      <td>South Africa</td>\n",
       "    </tr>\n",
       "  </tbody>\n",
       "</table>\n",
       "</div>"
      ],
      "text/plain": [
       "    country_Other continent        region\n",
       "50   South Africa    Africa  South Africa\n",
       "170      Zimbabwe    Africa  South Africa\n",
       "179      Eswatini    Africa  South Africa\n",
       "181       Namibia    Africa  South Africa\n",
       "182      Botswana    Africa  South Africa\n",
       "214       Lesotho    Africa  South Africa"
      ]
     },
     "execution_count": 50,
     "metadata": {},
     "output_type": "execute_result"
    }
   ],
   "source": [
    "west_africa = countries_and_continents[(countries_and_continents['continent'] == 'Africa') & (countries_and_continents['region'] == 'West Africa')]\n",
    "east_africa = countries_and_continents[(countries_and_continents['continent'] == 'Africa') & (countries_and_continents['region'] == 'East Africa')]\n",
    "central_africa = countries_and_continents[(countries_and_continents['continent'] == 'Africa') & (countries_and_continents['region'] == 'Central Africa')]\n",
    "southern_africa = countries_and_continents[(countries_and_continents['continent'] == 'Africa') & (countries_and_continents['region'] == 'South Africa')]\n",
    "north_africa = countries_and_continents[(countries_and_continents['continent'] == 'Africa') & (countries_and_continents['region'] == 'North Africa')]\n",
    "southern_africa"
   ]
  },
  {
   "cell_type": "code",
   "execution_count": 51,
   "metadata": {},
   "outputs": [
    {
     "data": {
      "text/html": [
       "<div>\n",
       "<style scoped>\n",
       "    .dataframe tbody tr th:only-of-type {\n",
       "        vertical-align: middle;\n",
       "    }\n",
       "\n",
       "    .dataframe tbody tr th {\n",
       "        vertical-align: top;\n",
       "    }\n",
       "\n",
       "    .dataframe thead th {\n",
       "        text-align: right;\n",
       "    }\n",
       "</style>\n",
       "<table border=\"1\" class=\"dataframe\">\n",
       "  <thead>\n",
       "    <tr style=\"text-align: right;\">\n",
       "      <th></th>\n",
       "      <th>Country_Other</th>\n",
       "      <th>November14</th>\n",
       "      <th>November15</th>\n",
       "      <th>November16</th>\n",
       "      <th>November17</th>\n",
       "      <th>November18</th>\n",
       "      <th>November19</th>\n",
       "    </tr>\n",
       "  </thead>\n",
       "  <tbody>\n",
       "    <tr>\n",
       "      <td>52</td>\n",
       "      <td>South Africa</td>\n",
       "      <td>+2,237</td>\n",
       "      <td>+1,842</td>\n",
       "      <td>+1,245</td>\n",
       "      <td>+1,987</td>\n",
       "      <td>+2,888</td>\n",
       "      <td>+2,514</td>\n",
       "    </tr>\n",
       "    <tr>\n",
       "      <td>169</td>\n",
       "      <td>Zimbabwe</td>\n",
       "      <td>+21</td>\n",
       "      <td>+43</td>\n",
       "      <td>+68</td>\n",
       "      <td>+48</td>\n",
       "      <td>+36</td>\n",
       "      <td>+65</td>\n",
       "    </tr>\n",
       "    <tr>\n",
       "      <td>177</td>\n",
       "      <td>Eswatini</td>\n",
       "      <td>+17</td>\n",
       "      <td>+2</td>\n",
       "      <td>+10</td>\n",
       "      <td>+19</td>\n",
       "      <td>+20</td>\n",
       "      <td>+12</td>\n",
       "    </tr>\n",
       "    <tr>\n",
       "      <td>180</td>\n",
       "      <td>Namibia</td>\n",
       "      <td>+77</td>\n",
       "      <td>+59</td>\n",
       "      <td>+47</td>\n",
       "      <td>+11</td>\n",
       "      <td>+44</td>\n",
       "      <td>+52</td>\n",
       "    </tr>\n",
       "    <tr>\n",
       "      <td>181</td>\n",
       "      <td>Botswana</td>\n",
       "      <td>0</td>\n",
       "      <td>0</td>\n",
       "      <td>+878</td>\n",
       "      <td>0</td>\n",
       "      <td>0</td>\n",
       "      <td>+491</td>\n",
       "    </tr>\n",
       "    <tr>\n",
       "      <td>214</td>\n",
       "      <td>Lesotho</td>\n",
       "      <td>0</td>\n",
       "      <td>0</td>\n",
       "      <td>0</td>\n",
       "      <td>+11</td>\n",
       "      <td>+4</td>\n",
       "      <td>+7</td>\n",
       "    </tr>\n",
       "  </tbody>\n",
       "</table>\n",
       "</div>"
      ],
      "text/plain": [
       "    Country_Other November14 November15 November16 November17 November18  \\\n",
       "52   South Africa     +2,237     +1,842     +1,245     +1,987     +2,888   \n",
       "169      Zimbabwe        +21        +43        +68        +48        +36   \n",
       "177      Eswatini        +17         +2        +10        +19        +20   \n",
       "180       Namibia        +77        +59        +47        +11        +44   \n",
       "181      Botswana          0          0       +878          0          0   \n",
       "214       Lesotho          0          0          0        +11         +4   \n",
       "\n",
       "    November19  \n",
       "52      +2,514  \n",
       "169        +65  \n",
       "177        +12  \n",
       "180        +52  \n",
       "181       +491  \n",
       "214         +7  "
      ]
     },
     "execution_count": 51,
     "metadata": {},
     "output_type": "execute_result"
    }
   ],
   "source": [
    "north_africa_new_cases = countries_new_cases[countries_new_cases['Country_Other'].isin(north_africa['country_Other'])]\n",
    "north_africa_new_cases = north_africa_new_cases.iloc[:, [0] + list(range(-6, 0))]\n",
    "north_africa_new_cases.fillna(0, inplace=True)\n",
    "north_africa_new_cases.reset_index(drop=True)\n",
    "\n",
    "east_africa_new_cases = countries_new_cases[countries_new_cases['Country_Other'].isin(east_africa['country_Other'])]\n",
    "east_africa_new_cases = east_africa_new_cases.iloc[:, [0] + list(range(-6, 0))]\n",
    "east_africa_new_cases.fillna(0, inplace=True)\n",
    "east_africa_new_cases.reset_index(drop=True)\n",
    "\n",
    "central_africa_new_cases = countries_new_cases[countries_new_cases['Country_Other'].isin(central_africa['country_Other'])]\n",
    "central_africa_new_cases = central_africa_new_cases.iloc[:, [0] + list(range(-6, 0))]\n",
    "central_africa_new_cases.fillna(0, inplace=True)\n",
    "central_africa_new_cases.reset_index(drop=True)\n",
    "\n",
    "southern_africa_new_cases = countries_new_cases[countries_new_cases['Country_Other'].isin(southern_africa['country_Other'])]\n",
    "southern_africa_new_cases = southern_africa_new_cases.iloc[:, [0] + list(range(-6, 0))]\n",
    "southern_africa_new_cases.fillna(0, inplace=True)\n",
    "southern_africa_new_cases.reset_index(drop=True)\n",
    "\n",
    "west_africa_new_cases = countries_new_cases[countries_new_cases['Country_Other'].isin(west_africa['country_Other'])]\n",
    "west_africa_new_cases = west_africa_new_cases.iloc[:, [0] + list(range(-6, 0))]\n",
    "west_africa_new_cases.fillna(0, inplace=True)\n",
    "west_africa_new_cases.reset_index(drop=True)\n",
    "\n",
    "southern_africa_new_cases"
   ]
  },
  {
   "cell_type": "code",
   "execution_count": 52,
   "metadata": {},
   "outputs": [],
   "source": [
    "countries_new_cases =  countries_new_cases.iloc[:, [0] + list(range(-6, 0))]"
   ]
  },
  {
   "cell_type": "markdown",
   "metadata": {},
   "source": [
    "<a id='by_region'></a>"
   ]
  },
  {
   "cell_type": "code",
   "execution_count": 53,
   "metadata": {},
   "outputs": [
    {
     "data": {
      "application/vnd.plotly.v1+json": {
       "config": {
        "plotlyServerURL": "https://plot.ly"
       },
       "data": [
        {
         "domain": {
          "x": [
           0,
           0.4575
          ],
          "y": [
           0.67,
           1
          ]
         },
         "hole": 0.3,
         "hoverinfo": "label+percent+name+value",
         "labels": [
          "North Africa",
          "Southern Africa",
          "Central Africa",
          "East Africa",
          "West Africa"
         ],
         "marker": {
          "colors": [
           "crimson",
           "green",
           "saddlebrown",
           "yellow",
           "blue"
          ]
         },
         "name": "November19",
         "textfont": {
          "size": 15
         },
         "textinfo": "percent+value",
         "type": "pie",
         "values": [
          6465,
          3141,
          1101,
          2556,
          586
         ]
        },
        {
         "domain": {
          "x": [
           0.5425,
           1
          ],
          "y": [
           0.67,
           1
          ]
         },
         "hole": 0.3,
         "hoverinfo": "label+percent+name+value",
         "labels": [
          "North Africa",
          "Southern Africa",
          "Central Africa",
          "East Africa",
          "West Africa"
         ],
         "marker": {
          "colors": [
           "crimson",
           "green",
           "saddlebrown",
           "yellow",
           "blue"
          ]
         },
         "name": "November18",
         "textfont": {
          "size": 15
         },
         "textinfo": "percent+value",
         "type": "pie",
         "values": [
          9336,
          2992,
          164,
          2217,
          637
         ]
        },
        {
         "domain": {
          "x": [
           0,
           0.4575
          ],
          "y": [
           0.335,
           0.665
          ]
         },
         "hole": 0.3,
         "hoverinfo": "label+percent+name+value",
         "labels": [
          "North Africa",
          "Southern Africa",
          "Central Africa",
          "East Africa",
          "West Africa"
         ],
         "marker": {
          "colors": [
           "crimson",
           "green",
           "saddlebrown",
           "yellow",
           "blue"
          ]
         },
         "name": "November17",
         "textfont": {
          "size": 15
         },
         "textinfo": "percent+value",
         "type": "pie",
         "values": [
          8024,
          2076,
          458,
          1921,
          411
         ]
        },
        {
         "domain": {
          "x": [
           0.5425,
           1
          ],
          "y": [
           0.335,
           0.665
          ]
         },
         "hole": 0.3,
         "hoverinfo": "label+percent+name+value",
         "labels": [
          "North Africa",
          "Southern Africa",
          "Central Africa",
          "East Africa",
          "West Africa"
         ],
         "marker": {
          "colors": [
           "crimson",
           "green",
           "saddlebrown",
           "yellow",
           "blue"
          ]
         },
         "name": "November16",
         "textfont": {
          "size": 15
         },
         "textinfo": "percent+value",
         "type": "pie",
         "values": [
          5485,
          2248,
          271,
          1954,
          622
         ]
        },
        {
         "domain": {
          "x": [
           0,
           0.4575
          ],
          "y": [
           0,
           0.33
          ]
         },
         "hole": 0.3,
         "hoverinfo": "label+percent+name+value",
         "labels": [
          "North Africa",
          "Southern Africa",
          "Central Africa",
          "East Africa",
          "West Africa"
         ],
         "marker": {
          "colors": [
           "crimson",
           "green",
           "saddlebrown",
           "yellow",
           "blue"
          ]
         },
         "name": "November15",
         "textfont": {
          "size": 15
         },
         "textinfo": "percent+value",
         "type": "pie",
         "values": [
          8085,
          1946,
          88,
          1898,
          451
         ]
        },
        {
         "domain": {
          "x": [
           0.5425,
           1
          ],
          "y": [
           0,
           0.33
          ]
         },
         "hole": 0.3,
         "hoverinfo": "label+percent+name+value",
         "labels": [
          "North Africa",
          "Southern Africa",
          "Central Africa",
          "East Africa",
          "West Africa"
         ],
         "marker": {
          "colors": [
           "crimson",
           "green",
           "saddlebrown",
           "yellow",
           "blue"
          ]
         },
         "name": "November14",
         "textfont": {
          "size": 15
         },
         "textinfo": "percent+value",
         "type": "pie",
         "values": [
          8618,
          2352,
          334,
          2342,
          422
         ]
        }
       ],
       "layout": {
        "annotations": [
         {
          "font": {
           "color": "black",
           "size": 12
          },
          "showarrow": false,
          "text": "<b>November19</b>",
          "x": 0.168,
          "y": 0.84
         },
         {
          "font": {
           "color": "black",
           "size": 12
          },
          "showarrow": false,
          "text": "<b>November18</b>",
          "x": 0.82,
          "y": 0.84
         },
         {
          "font": {
           "color": "black",
           "size": 12
          },
          "showarrow": false,
          "text": "<b>November17</b>",
          "x": 0.168,
          "y": 0.5
         },
         {
          "font": {
           "color": "black",
           "size": 12
          },
          "showarrow": false,
          "text": "<b>November16</b>",
          "x": 0.82,
          "y": 0.5
         },
         {
          "font": {
           "color": "black",
           "size": 12
          },
          "showarrow": false,
          "text": "<b>November15</b>",
          "x": 0.168,
          "y": 0.155
         },
         {
          "font": {
           "color": "black",
           "size": 12
          },
          "showarrow": false,
          "text": "<b>November14</b>",
          "x": 0.82,
          "y": 0.155
         }
        ],
        "autosize": false,
        "height": 1450,
        "legend": {
         "font": {
          "size": 13
         },
         "traceorder": "normal",
         "x": 1,
         "y": 1
        },
        "template": {
         "data": {
          "bar": [
           {
            "error_x": {
             "color": "#2a3f5f"
            },
            "error_y": {
             "color": "#2a3f5f"
            },
            "marker": {
             "line": {
              "color": "#E5ECF6",
              "width": 0.5
             }
            },
            "type": "bar"
           }
          ],
          "barpolar": [
           {
            "marker": {
             "line": {
              "color": "#E5ECF6",
              "width": 0.5
             }
            },
            "type": "barpolar"
           }
          ],
          "carpet": [
           {
            "aaxis": {
             "endlinecolor": "#2a3f5f",
             "gridcolor": "white",
             "linecolor": "white",
             "minorgridcolor": "white",
             "startlinecolor": "#2a3f5f"
            },
            "baxis": {
             "endlinecolor": "#2a3f5f",
             "gridcolor": "white",
             "linecolor": "white",
             "minorgridcolor": "white",
             "startlinecolor": "#2a3f5f"
            },
            "type": "carpet"
           }
          ],
          "choropleth": [
           {
            "colorbar": {
             "outlinewidth": 0,
             "ticks": ""
            },
            "type": "choropleth"
           }
          ],
          "contour": [
           {
            "colorbar": {
             "outlinewidth": 0,
             "ticks": ""
            },
            "colorscale": [
             [
              0,
              "#0d0887"
             ],
             [
              0.1111111111111111,
              "#46039f"
             ],
             [
              0.2222222222222222,
              "#7201a8"
             ],
             [
              0.3333333333333333,
              "#9c179e"
             ],
             [
              0.4444444444444444,
              "#bd3786"
             ],
             [
              0.5555555555555556,
              "#d8576b"
             ],
             [
              0.6666666666666666,
              "#ed7953"
             ],
             [
              0.7777777777777778,
              "#fb9f3a"
             ],
             [
              0.8888888888888888,
              "#fdca26"
             ],
             [
              1,
              "#f0f921"
             ]
            ],
            "type": "contour"
           }
          ],
          "contourcarpet": [
           {
            "colorbar": {
             "outlinewidth": 0,
             "ticks": ""
            },
            "type": "contourcarpet"
           }
          ],
          "heatmap": [
           {
            "colorbar": {
             "outlinewidth": 0,
             "ticks": ""
            },
            "colorscale": [
             [
              0,
              "#0d0887"
             ],
             [
              0.1111111111111111,
              "#46039f"
             ],
             [
              0.2222222222222222,
              "#7201a8"
             ],
             [
              0.3333333333333333,
              "#9c179e"
             ],
             [
              0.4444444444444444,
              "#bd3786"
             ],
             [
              0.5555555555555556,
              "#d8576b"
             ],
             [
              0.6666666666666666,
              "#ed7953"
             ],
             [
              0.7777777777777778,
              "#fb9f3a"
             ],
             [
              0.8888888888888888,
              "#fdca26"
             ],
             [
              1,
              "#f0f921"
             ]
            ],
            "type": "heatmap"
           }
          ],
          "heatmapgl": [
           {
            "colorbar": {
             "outlinewidth": 0,
             "ticks": ""
            },
            "colorscale": [
             [
              0,
              "#0d0887"
             ],
             [
              0.1111111111111111,
              "#46039f"
             ],
             [
              0.2222222222222222,
              "#7201a8"
             ],
             [
              0.3333333333333333,
              "#9c179e"
             ],
             [
              0.4444444444444444,
              "#bd3786"
             ],
             [
              0.5555555555555556,
              "#d8576b"
             ],
             [
              0.6666666666666666,
              "#ed7953"
             ],
             [
              0.7777777777777778,
              "#fb9f3a"
             ],
             [
              0.8888888888888888,
              "#fdca26"
             ],
             [
              1,
              "#f0f921"
             ]
            ],
            "type": "heatmapgl"
           }
          ],
          "histogram": [
           {
            "marker": {
             "colorbar": {
              "outlinewidth": 0,
              "ticks": ""
             }
            },
            "type": "histogram"
           }
          ],
          "histogram2d": [
           {
            "colorbar": {
             "outlinewidth": 0,
             "ticks": ""
            },
            "colorscale": [
             [
              0,
              "#0d0887"
             ],
             [
              0.1111111111111111,
              "#46039f"
             ],
             [
              0.2222222222222222,
              "#7201a8"
             ],
             [
              0.3333333333333333,
              "#9c179e"
             ],
             [
              0.4444444444444444,
              "#bd3786"
             ],
             [
              0.5555555555555556,
              "#d8576b"
             ],
             [
              0.6666666666666666,
              "#ed7953"
             ],
             [
              0.7777777777777778,
              "#fb9f3a"
             ],
             [
              0.8888888888888888,
              "#fdca26"
             ],
             [
              1,
              "#f0f921"
             ]
            ],
            "type": "histogram2d"
           }
          ],
          "histogram2dcontour": [
           {
            "colorbar": {
             "outlinewidth": 0,
             "ticks": ""
            },
            "colorscale": [
             [
              0,
              "#0d0887"
             ],
             [
              0.1111111111111111,
              "#46039f"
             ],
             [
              0.2222222222222222,
              "#7201a8"
             ],
             [
              0.3333333333333333,
              "#9c179e"
             ],
             [
              0.4444444444444444,
              "#bd3786"
             ],
             [
              0.5555555555555556,
              "#d8576b"
             ],
             [
              0.6666666666666666,
              "#ed7953"
             ],
             [
              0.7777777777777778,
              "#fb9f3a"
             ],
             [
              0.8888888888888888,
              "#fdca26"
             ],
             [
              1,
              "#f0f921"
             ]
            ],
            "type": "histogram2dcontour"
           }
          ],
          "mesh3d": [
           {
            "colorbar": {
             "outlinewidth": 0,
             "ticks": ""
            },
            "type": "mesh3d"
           }
          ],
          "parcoords": [
           {
            "line": {
             "colorbar": {
              "outlinewidth": 0,
              "ticks": ""
             }
            },
            "type": "parcoords"
           }
          ],
          "scatter": [
           {
            "marker": {
             "colorbar": {
              "outlinewidth": 0,
              "ticks": ""
             }
            },
            "type": "scatter"
           }
          ],
          "scatter3d": [
           {
            "line": {
             "colorbar": {
              "outlinewidth": 0,
              "ticks": ""
             }
            },
            "marker": {
             "colorbar": {
              "outlinewidth": 0,
              "ticks": ""
             }
            },
            "type": "scatter3d"
           }
          ],
          "scattercarpet": [
           {
            "marker": {
             "colorbar": {
              "outlinewidth": 0,
              "ticks": ""
             }
            },
            "type": "scattercarpet"
           }
          ],
          "scattergeo": [
           {
            "marker": {
             "colorbar": {
              "outlinewidth": 0,
              "ticks": ""
             }
            },
            "type": "scattergeo"
           }
          ],
          "scattergl": [
           {
            "marker": {
             "colorbar": {
              "outlinewidth": 0,
              "ticks": ""
             }
            },
            "type": "scattergl"
           }
          ],
          "scattermapbox": [
           {
            "marker": {
             "colorbar": {
              "outlinewidth": 0,
              "ticks": ""
             }
            },
            "type": "scattermapbox"
           }
          ],
          "scatterpolar": [
           {
            "marker": {
             "colorbar": {
              "outlinewidth": 0,
              "ticks": ""
             }
            },
            "type": "scatterpolar"
           }
          ],
          "scatterpolargl": [
           {
            "marker": {
             "colorbar": {
              "outlinewidth": 0,
              "ticks": ""
             }
            },
            "type": "scatterpolargl"
           }
          ],
          "scatterternary": [
           {
            "marker": {
             "colorbar": {
              "outlinewidth": 0,
              "ticks": ""
             }
            },
            "type": "scatterternary"
           }
          ],
          "surface": [
           {
            "colorbar": {
             "outlinewidth": 0,
             "ticks": ""
            },
            "colorscale": [
             [
              0,
              "#0d0887"
             ],
             [
              0.1111111111111111,
              "#46039f"
             ],
             [
              0.2222222222222222,
              "#7201a8"
             ],
             [
              0.3333333333333333,
              "#9c179e"
             ],
             [
              0.4444444444444444,
              "#bd3786"
             ],
             [
              0.5555555555555556,
              "#d8576b"
             ],
             [
              0.6666666666666666,
              "#ed7953"
             ],
             [
              0.7777777777777778,
              "#fb9f3a"
             ],
             [
              0.8888888888888888,
              "#fdca26"
             ],
             [
              1,
              "#f0f921"
             ]
            ],
            "type": "surface"
           }
          ],
          "table": [
           {
            "cells": {
             "fill": {
              "color": "#EBF0F8"
             },
             "line": {
              "color": "white"
             }
            },
            "header": {
             "fill": {
              "color": "#C8D4E3"
             },
             "line": {
              "color": "white"
             }
            },
            "type": "table"
           }
          ]
         },
         "layout": {
          "annotationdefaults": {
           "arrowcolor": "#2a3f5f",
           "arrowhead": 0,
           "arrowwidth": 1
          },
          "colorscale": {
           "diverging": [
            [
             0,
             "#8e0152"
            ],
            [
             0.1,
             "#c51b7d"
            ],
            [
             0.2,
             "#de77ae"
            ],
            [
             0.3,
             "#f1b6da"
            ],
            [
             0.4,
             "#fde0ef"
            ],
            [
             0.5,
             "#f7f7f7"
            ],
            [
             0.6,
             "#e6f5d0"
            ],
            [
             0.7,
             "#b8e186"
            ],
            [
             0.8,
             "#7fbc41"
            ],
            [
             0.9,
             "#4d9221"
            ],
            [
             1,
             "#276419"
            ]
           ],
           "sequential": [
            [
             0,
             "#0d0887"
            ],
            [
             0.1111111111111111,
             "#46039f"
            ],
            [
             0.2222222222222222,
             "#7201a8"
            ],
            [
             0.3333333333333333,
             "#9c179e"
            ],
            [
             0.4444444444444444,
             "#bd3786"
            ],
            [
             0.5555555555555556,
             "#d8576b"
            ],
            [
             0.6666666666666666,
             "#ed7953"
            ],
            [
             0.7777777777777778,
             "#fb9f3a"
            ],
            [
             0.8888888888888888,
             "#fdca26"
            ],
            [
             1,
             "#f0f921"
            ]
           ],
           "sequentialminus": [
            [
             0,
             "#0d0887"
            ],
            [
             0.1111111111111111,
             "#46039f"
            ],
            [
             0.2222222222222222,
             "#7201a8"
            ],
            [
             0.3333333333333333,
             "#9c179e"
            ],
            [
             0.4444444444444444,
             "#bd3786"
            ],
            [
             0.5555555555555556,
             "#d8576b"
            ],
            [
             0.6666666666666666,
             "#ed7953"
            ],
            [
             0.7777777777777778,
             "#fb9f3a"
            ],
            [
             0.8888888888888888,
             "#fdca26"
            ],
            [
             1,
             "#f0f921"
            ]
           ]
          },
          "colorway": [
           "#636efa",
           "#EF553B",
           "#00cc96",
           "#ab63fa",
           "#FFA15A",
           "#19d3f3",
           "#FF6692",
           "#B6E880",
           "#FF97FF",
           "#FECB52"
          ],
          "font": {
           "color": "#2a3f5f"
          },
          "geo": {
           "bgcolor": "white",
           "lakecolor": "white",
           "landcolor": "#E5ECF6",
           "showlakes": true,
           "showland": true,
           "subunitcolor": "white"
          },
          "hoverlabel": {
           "align": "left"
          },
          "hovermode": "closest",
          "mapbox": {
           "style": "light"
          },
          "paper_bgcolor": "white",
          "plot_bgcolor": "#E5ECF6",
          "polar": {
           "angularaxis": {
            "gridcolor": "white",
            "linecolor": "white",
            "ticks": ""
           },
           "bgcolor": "#E5ECF6",
           "radialaxis": {
            "gridcolor": "white",
            "linecolor": "white",
            "ticks": ""
           }
          },
          "scene": {
           "xaxis": {
            "backgroundcolor": "#E5ECF6",
            "gridcolor": "white",
            "gridwidth": 2,
            "linecolor": "white",
            "showbackground": true,
            "ticks": "",
            "zerolinecolor": "white"
           },
           "yaxis": {
            "backgroundcolor": "#E5ECF6",
            "gridcolor": "white",
            "gridwidth": 2,
            "linecolor": "white",
            "showbackground": true,
            "ticks": "",
            "zerolinecolor": "white"
           },
           "zaxis": {
            "backgroundcolor": "#E5ECF6",
            "gridcolor": "white",
            "gridwidth": 2,
            "linecolor": "white",
            "showbackground": true,
            "ticks": "",
            "zerolinecolor": "white"
           }
          },
          "shapedefaults": {
           "line": {
            "color": "#2a3f5f"
           }
          },
          "ternary": {
           "aaxis": {
            "gridcolor": "white",
            "linecolor": "white",
            "ticks": ""
           },
           "baxis": {
            "gridcolor": "white",
            "linecolor": "white",
            "ticks": ""
           },
           "bgcolor": "#E5ECF6",
           "caxis": {
            "gridcolor": "white",
            "linecolor": "white",
            "ticks": ""
           }
          },
          "title": {
           "x": 0.05
          },
          "xaxis": {
           "automargin": true,
           "gridcolor": "white",
           "linecolor": "white",
           "ticks": "",
           "zerolinecolor": "white",
           "zerolinewidth": 2
          },
          "yaxis": {
           "automargin": true,
           "gridcolor": "white",
           "linecolor": "white",
           "ticks": "",
           "zerolinecolor": "white",
           "zerolinewidth": 2
          }
         }
        },
        "title": {
         "font": {
          "color": "black",
          "size": 18
         },
         "text": "<b>AFRICA - COVID19 NEW CASES BY REGION: November 19, 2020</b>",
         "x": 0.46,
         "xanchor": "center",
         "y": 0.95,
         "yanchor": "top"
        },
        "width": 990
       }
      },
      "text/html": [
       "<div>\n",
       "        \n",
       "        \n",
       "            <div id=\"0e3a458c-7fc1-4256-a7f3-c02f12522f51\" class=\"plotly-graph-div\" style=\"height:1450px; width:990px;\"></div>\n",
       "            <script type=\"text/javascript\">\n",
       "                require([\"plotly\"], function(Plotly) {\n",
       "                    window.PLOTLYENV=window.PLOTLYENV || {};\n",
       "                    \n",
       "                if (document.getElementById(\"0e3a458c-7fc1-4256-a7f3-c02f12522f51\")) {\n",
       "                    Plotly.newPlot(\n",
       "                        '0e3a458c-7fc1-4256-a7f3-c02f12522f51',\n",
       "                        [{\"domain\": {\"x\": [0.0, 0.4575], \"y\": [0.67, 1.0]}, \"hole\": 0.3, \"hoverinfo\": \"label+percent+name+value\", \"labels\": [\"North Africa\", \"Southern Africa\", \"Central Africa\", \"East Africa\", \"West Africa\"], \"marker\": {\"colors\": [\"crimson\", \"green\", \"saddlebrown\", \"yellow\", \"blue\"]}, \"name\": \"November19\", \"textfont\": {\"size\": 15}, \"textinfo\": \"percent+value\", \"type\": \"pie\", \"values\": [6465, 3141, 1101, 2556, 586]}, {\"domain\": {\"x\": [0.5425, 1.0], \"y\": [0.67, 1.0]}, \"hole\": 0.3, \"hoverinfo\": \"label+percent+name+value\", \"labels\": [\"North Africa\", \"Southern Africa\", \"Central Africa\", \"East Africa\", \"West Africa\"], \"marker\": {\"colors\": [\"crimson\", \"green\", \"saddlebrown\", \"yellow\", \"blue\"]}, \"name\": \"November18\", \"textfont\": {\"size\": 15}, \"textinfo\": \"percent+value\", \"type\": \"pie\", \"values\": [9336, 2992, 164, 2217, 637]}, {\"domain\": {\"x\": [0.0, 0.4575], \"y\": [0.335, 0.665]}, \"hole\": 0.3, \"hoverinfo\": \"label+percent+name+value\", \"labels\": [\"North Africa\", \"Southern Africa\", \"Central Africa\", \"East Africa\", \"West Africa\"], \"marker\": {\"colors\": [\"crimson\", \"green\", \"saddlebrown\", \"yellow\", \"blue\"]}, \"name\": \"November17\", \"textfont\": {\"size\": 15}, \"textinfo\": \"percent+value\", \"type\": \"pie\", \"values\": [8024, 2076, 458, 1921, 411]}, {\"domain\": {\"x\": [0.5425, 1.0], \"y\": [0.335, 0.665]}, \"hole\": 0.3, \"hoverinfo\": \"label+percent+name+value\", \"labels\": [\"North Africa\", \"Southern Africa\", \"Central Africa\", \"East Africa\", \"West Africa\"], \"marker\": {\"colors\": [\"crimson\", \"green\", \"saddlebrown\", \"yellow\", \"blue\"]}, \"name\": \"November16\", \"textfont\": {\"size\": 15}, \"textinfo\": \"percent+value\", \"type\": \"pie\", \"values\": [5485, 2248, 271, 1954, 622]}, {\"domain\": {\"x\": [0.0, 0.4575], \"y\": [0.0, 0.33]}, \"hole\": 0.3, \"hoverinfo\": \"label+percent+name+value\", \"labels\": [\"North Africa\", \"Southern Africa\", \"Central Africa\", \"East Africa\", \"West Africa\"], \"marker\": {\"colors\": [\"crimson\", \"green\", \"saddlebrown\", \"yellow\", \"blue\"]}, \"name\": \"November15\", \"textfont\": {\"size\": 15}, \"textinfo\": \"percent+value\", \"type\": \"pie\", \"values\": [8085, 1946, 88, 1898, 451]}, {\"domain\": {\"x\": [0.5425, 1.0], \"y\": [0.0, 0.33]}, \"hole\": 0.3, \"hoverinfo\": \"label+percent+name+value\", \"labels\": [\"North Africa\", \"Southern Africa\", \"Central Africa\", \"East Africa\", \"West Africa\"], \"marker\": {\"colors\": [\"crimson\", \"green\", \"saddlebrown\", \"yellow\", \"blue\"]}, \"name\": \"November14\", \"textfont\": {\"size\": 15}, \"textinfo\": \"percent+value\", \"type\": \"pie\", \"values\": [8618, 2352, 334, 2342, 422]}],\n",
       "                        {\"annotations\": [{\"font\": {\"color\": \"black\", \"size\": 12}, \"showarrow\": false, \"text\": \"<b>November19</b>\", \"x\": 0.168, \"y\": 0.84}, {\"font\": {\"color\": \"black\", \"size\": 12}, \"showarrow\": false, \"text\": \"<b>November18</b>\", \"x\": 0.82, \"y\": 0.84}, {\"font\": {\"color\": \"black\", \"size\": 12}, \"showarrow\": false, \"text\": \"<b>November17</b>\", \"x\": 0.168, \"y\": 0.5}, {\"font\": {\"color\": \"black\", \"size\": 12}, \"showarrow\": false, \"text\": \"<b>November16</b>\", \"x\": 0.82, \"y\": 0.5}, {\"font\": {\"color\": \"black\", \"size\": 12}, \"showarrow\": false, \"text\": \"<b>November15</b>\", \"x\": 0.168, \"y\": 0.155}, {\"font\": {\"color\": \"black\", \"size\": 12}, \"showarrow\": false, \"text\": \"<b>November14</b>\", \"x\": 0.82, \"y\": 0.155}], \"autosize\": false, \"height\": 1450, \"legend\": {\"font\": {\"size\": 13}, \"traceorder\": \"normal\", \"x\": 1, \"y\": 1}, \"template\": {\"data\": {\"bar\": [{\"error_x\": {\"color\": \"#2a3f5f\"}, \"error_y\": {\"color\": \"#2a3f5f\"}, \"marker\": {\"line\": {\"color\": \"#E5ECF6\", \"width\": 0.5}}, \"type\": \"bar\"}], \"barpolar\": [{\"marker\": {\"line\": {\"color\": \"#E5ECF6\", \"width\": 0.5}}, \"type\": \"barpolar\"}], \"carpet\": [{\"aaxis\": {\"endlinecolor\": \"#2a3f5f\", \"gridcolor\": \"white\", \"linecolor\": \"white\", \"minorgridcolor\": \"white\", \"startlinecolor\": \"#2a3f5f\"}, \"baxis\": {\"endlinecolor\": \"#2a3f5f\", \"gridcolor\": \"white\", \"linecolor\": \"white\", \"minorgridcolor\": \"white\", \"startlinecolor\": \"#2a3f5f\"}, \"type\": \"carpet\"}], \"choropleth\": [{\"colorbar\": {\"outlinewidth\": 0, \"ticks\": \"\"}, \"type\": \"choropleth\"}], \"contour\": [{\"colorbar\": {\"outlinewidth\": 0, \"ticks\": \"\"}, \"colorscale\": [[0.0, \"#0d0887\"], [0.1111111111111111, \"#46039f\"], [0.2222222222222222, \"#7201a8\"], [0.3333333333333333, \"#9c179e\"], [0.4444444444444444, \"#bd3786\"], [0.5555555555555556, \"#d8576b\"], [0.6666666666666666, \"#ed7953\"], [0.7777777777777778, \"#fb9f3a\"], [0.8888888888888888, \"#fdca26\"], [1.0, \"#f0f921\"]], \"type\": \"contour\"}], \"contourcarpet\": [{\"colorbar\": {\"outlinewidth\": 0, \"ticks\": \"\"}, \"type\": \"contourcarpet\"}], \"heatmap\": [{\"colorbar\": {\"outlinewidth\": 0, \"ticks\": \"\"}, \"colorscale\": [[0.0, \"#0d0887\"], [0.1111111111111111, \"#46039f\"], [0.2222222222222222, \"#7201a8\"], [0.3333333333333333, \"#9c179e\"], [0.4444444444444444, \"#bd3786\"], [0.5555555555555556, \"#d8576b\"], [0.6666666666666666, \"#ed7953\"], [0.7777777777777778, \"#fb9f3a\"], [0.8888888888888888, \"#fdca26\"], [1.0, \"#f0f921\"]], \"type\": \"heatmap\"}], \"heatmapgl\": [{\"colorbar\": {\"outlinewidth\": 0, \"ticks\": \"\"}, \"colorscale\": [[0.0, \"#0d0887\"], [0.1111111111111111, \"#46039f\"], [0.2222222222222222, \"#7201a8\"], [0.3333333333333333, \"#9c179e\"], [0.4444444444444444, \"#bd3786\"], [0.5555555555555556, \"#d8576b\"], [0.6666666666666666, \"#ed7953\"], [0.7777777777777778, \"#fb9f3a\"], [0.8888888888888888, \"#fdca26\"], [1.0, \"#f0f921\"]], \"type\": \"heatmapgl\"}], \"histogram\": [{\"marker\": {\"colorbar\": {\"outlinewidth\": 0, \"ticks\": \"\"}}, \"type\": \"histogram\"}], \"histogram2d\": [{\"colorbar\": {\"outlinewidth\": 0, \"ticks\": \"\"}, \"colorscale\": [[0.0, \"#0d0887\"], [0.1111111111111111, \"#46039f\"], [0.2222222222222222, \"#7201a8\"], [0.3333333333333333, \"#9c179e\"], [0.4444444444444444, \"#bd3786\"], [0.5555555555555556, \"#d8576b\"], [0.6666666666666666, \"#ed7953\"], [0.7777777777777778, \"#fb9f3a\"], [0.8888888888888888, \"#fdca26\"], [1.0, \"#f0f921\"]], \"type\": \"histogram2d\"}], \"histogram2dcontour\": [{\"colorbar\": {\"outlinewidth\": 0, \"ticks\": \"\"}, \"colorscale\": [[0.0, \"#0d0887\"], [0.1111111111111111, \"#46039f\"], [0.2222222222222222, \"#7201a8\"], [0.3333333333333333, \"#9c179e\"], [0.4444444444444444, \"#bd3786\"], [0.5555555555555556, \"#d8576b\"], [0.6666666666666666, \"#ed7953\"], [0.7777777777777778, \"#fb9f3a\"], [0.8888888888888888, \"#fdca26\"], [1.0, \"#f0f921\"]], \"type\": \"histogram2dcontour\"}], \"mesh3d\": [{\"colorbar\": {\"outlinewidth\": 0, \"ticks\": \"\"}, \"type\": \"mesh3d\"}], \"parcoords\": [{\"line\": {\"colorbar\": {\"outlinewidth\": 0, \"ticks\": \"\"}}, \"type\": \"parcoords\"}], \"scatter\": [{\"marker\": {\"colorbar\": {\"outlinewidth\": 0, \"ticks\": \"\"}}, \"type\": \"scatter\"}], \"scatter3d\": [{\"line\": {\"colorbar\": {\"outlinewidth\": 0, \"ticks\": \"\"}}, \"marker\": {\"colorbar\": {\"outlinewidth\": 0, \"ticks\": \"\"}}, \"type\": \"scatter3d\"}], \"scattercarpet\": [{\"marker\": {\"colorbar\": {\"outlinewidth\": 0, \"ticks\": \"\"}}, \"type\": \"scattercarpet\"}], \"scattergeo\": [{\"marker\": {\"colorbar\": {\"outlinewidth\": 0, \"ticks\": \"\"}}, \"type\": \"scattergeo\"}], \"scattergl\": [{\"marker\": {\"colorbar\": {\"outlinewidth\": 0, \"ticks\": \"\"}}, \"type\": \"scattergl\"}], \"scattermapbox\": [{\"marker\": {\"colorbar\": {\"outlinewidth\": 0, \"ticks\": \"\"}}, \"type\": \"scattermapbox\"}], \"scatterpolar\": [{\"marker\": {\"colorbar\": {\"outlinewidth\": 0, \"ticks\": \"\"}}, \"type\": \"scatterpolar\"}], \"scatterpolargl\": [{\"marker\": {\"colorbar\": {\"outlinewidth\": 0, \"ticks\": \"\"}}, \"type\": \"scatterpolargl\"}], \"scatterternary\": [{\"marker\": {\"colorbar\": {\"outlinewidth\": 0, \"ticks\": \"\"}}, \"type\": \"scatterternary\"}], \"surface\": [{\"colorbar\": {\"outlinewidth\": 0, \"ticks\": \"\"}, \"colorscale\": [[0.0, \"#0d0887\"], [0.1111111111111111, \"#46039f\"], [0.2222222222222222, \"#7201a8\"], [0.3333333333333333, \"#9c179e\"], [0.4444444444444444, \"#bd3786\"], [0.5555555555555556, \"#d8576b\"], [0.6666666666666666, \"#ed7953\"], [0.7777777777777778, \"#fb9f3a\"], [0.8888888888888888, \"#fdca26\"], [1.0, \"#f0f921\"]], \"type\": \"surface\"}], \"table\": [{\"cells\": {\"fill\": {\"color\": \"#EBF0F8\"}, \"line\": {\"color\": \"white\"}}, \"header\": {\"fill\": {\"color\": \"#C8D4E3\"}, \"line\": {\"color\": \"white\"}}, \"type\": \"table\"}]}, \"layout\": {\"annotationdefaults\": {\"arrowcolor\": \"#2a3f5f\", \"arrowhead\": 0, \"arrowwidth\": 1}, \"colorscale\": {\"diverging\": [[0, \"#8e0152\"], [0.1, \"#c51b7d\"], [0.2, \"#de77ae\"], [0.3, \"#f1b6da\"], [0.4, \"#fde0ef\"], [0.5, \"#f7f7f7\"], [0.6, \"#e6f5d0\"], [0.7, \"#b8e186\"], [0.8, \"#7fbc41\"], [0.9, \"#4d9221\"], [1, \"#276419\"]], \"sequential\": [[0.0, \"#0d0887\"], [0.1111111111111111, \"#46039f\"], [0.2222222222222222, \"#7201a8\"], [0.3333333333333333, \"#9c179e\"], [0.4444444444444444, \"#bd3786\"], [0.5555555555555556, \"#d8576b\"], [0.6666666666666666, \"#ed7953\"], [0.7777777777777778, \"#fb9f3a\"], [0.8888888888888888, \"#fdca26\"], [1.0, \"#f0f921\"]], \"sequentialminus\": [[0.0, \"#0d0887\"], [0.1111111111111111, \"#46039f\"], [0.2222222222222222, \"#7201a8\"], [0.3333333333333333, \"#9c179e\"], [0.4444444444444444, \"#bd3786\"], [0.5555555555555556, \"#d8576b\"], [0.6666666666666666, \"#ed7953\"], [0.7777777777777778, \"#fb9f3a\"], [0.8888888888888888, \"#fdca26\"], [1.0, \"#f0f921\"]]}, \"colorway\": [\"#636efa\", \"#EF553B\", \"#00cc96\", \"#ab63fa\", \"#FFA15A\", \"#19d3f3\", \"#FF6692\", \"#B6E880\", \"#FF97FF\", \"#FECB52\"], \"font\": {\"color\": \"#2a3f5f\"}, \"geo\": {\"bgcolor\": \"white\", \"lakecolor\": \"white\", \"landcolor\": \"#E5ECF6\", \"showlakes\": true, \"showland\": true, \"subunitcolor\": \"white\"}, \"hoverlabel\": {\"align\": \"left\"}, \"hovermode\": \"closest\", \"mapbox\": {\"style\": \"light\"}, \"paper_bgcolor\": \"white\", \"plot_bgcolor\": \"#E5ECF6\", \"polar\": {\"angularaxis\": {\"gridcolor\": \"white\", \"linecolor\": \"white\", \"ticks\": \"\"}, \"bgcolor\": \"#E5ECF6\", \"radialaxis\": {\"gridcolor\": \"white\", \"linecolor\": \"white\", \"ticks\": \"\"}}, \"scene\": {\"xaxis\": {\"backgroundcolor\": \"#E5ECF6\", \"gridcolor\": \"white\", \"gridwidth\": 2, \"linecolor\": \"white\", \"showbackground\": true, \"ticks\": \"\", \"zerolinecolor\": \"white\"}, \"yaxis\": {\"backgroundcolor\": \"#E5ECF6\", \"gridcolor\": \"white\", \"gridwidth\": 2, \"linecolor\": \"white\", \"showbackground\": true, \"ticks\": \"\", \"zerolinecolor\": \"white\"}, \"zaxis\": {\"backgroundcolor\": \"#E5ECF6\", \"gridcolor\": \"white\", \"gridwidth\": 2, \"linecolor\": \"white\", \"showbackground\": true, \"ticks\": \"\", \"zerolinecolor\": \"white\"}}, \"shapedefaults\": {\"line\": {\"color\": \"#2a3f5f\"}}, \"ternary\": {\"aaxis\": {\"gridcolor\": \"white\", \"linecolor\": \"white\", \"ticks\": \"\"}, \"baxis\": {\"gridcolor\": \"white\", \"linecolor\": \"white\", \"ticks\": \"\"}, \"bgcolor\": \"#E5ECF6\", \"caxis\": {\"gridcolor\": \"white\", \"linecolor\": \"white\", \"ticks\": \"\"}}, \"title\": {\"x\": 0.05}, \"xaxis\": {\"automargin\": true, \"gridcolor\": \"white\", \"linecolor\": \"white\", \"ticks\": \"\", \"zerolinecolor\": \"white\", \"zerolinewidth\": 2}, \"yaxis\": {\"automargin\": true, \"gridcolor\": \"white\", \"linecolor\": \"white\", \"ticks\": \"\", \"zerolinecolor\": \"white\", \"zerolinewidth\": 2}}}, \"title\": {\"font\": {\"color\": \"black\", \"size\": 18}, \"text\": \"<b>AFRICA - COVID19 NEW CASES BY REGION: November 19, 2020</b>\", \"x\": 0.46, \"xanchor\": \"center\", \"y\": 0.95, \"yanchor\": \"top\"}, \"width\": 990},\n",
       "                        {\"responsive\": true}\n",
       "                    ).then(function(){\n",
       "                            \n",
       "var gd = document.getElementById('0e3a458c-7fc1-4256-a7f3-c02f12522f51');\n",
       "var x = new MutationObserver(function (mutations, observer) {{\n",
       "        var display = window.getComputedStyle(gd).display;\n",
       "        if (!display || display === 'none') {{\n",
       "            console.log([gd, 'removed!']);\n",
       "            Plotly.purge(gd);\n",
       "            observer.disconnect();\n",
       "        }}\n",
       "}});\n",
       "\n",
       "// Listen for the removal of the full notebook cells\n",
       "var notebookContainer = gd.closest('#notebook-container');\n",
       "if (notebookContainer) {{\n",
       "    x.observe(notebookContainer, {childList: true});\n",
       "}}\n",
       "\n",
       "// Listen for the clearing of the current output cell\n",
       "var outputEl = gd.closest('.output');\n",
       "if (outputEl) {{\n",
       "    x.observe(outputEl, {childList: true});\n",
       "}}\n",
       "\n",
       "                        })\n",
       "                };\n",
       "                });\n",
       "            </script>\n",
       "        </div>"
      ]
     },
     "metadata": {},
     "output_type": "display_data"
    }
   ],
   "source": [
    "fig = make_subplots(rows=3, cols=2,  specs=[[{'type':'domain'}, {'type':'domain'}],[{'type':'domain'}, {'type':'domain'}],\n",
    "                                            [{'type':'domain'}, {'type':'domain'}]], print_grid=False,vertical_spacing=0.005,\n",
    "                                            horizontal_spacing=0.085)\n",
    "position = 0\n",
    "\n",
    "x=[0.168, 0.82, 0.168, 0.82, 0.168, 0.82]\n",
    "y=[0.84,0.84, 0.5,0.5,0.155, 0.155]\n",
    "\n",
    "# x=[0.2, 0.8, 0.2, 0.8, 0.2, 0.8]\n",
    "# y=[0.85,0.85, 0.5,0.5,0.15, 0.15]\n",
    "\n",
    "# x=[0.18, 0.82, 0.18, 0.82, 0.18, 0.82]\n",
    "# y=[0.85,0.85, 0.5,0.5,0.15, 0.15]\n",
    "slice_colors =  ['crimson', 'green', 'saddlebrown', 'yellow', 'blue']\n",
    "\n",
    "for column in countries_new_cases.columns[1:][::-1]:\n",
    "    afrik_region = []\n",
    "    afric_region_stat = []\n",
    "    row = ((position//2)+1)\n",
    "    col = ((position%2)+1)\n",
    "    for region in african_regions: \n",
    "        if(region == 'North Africa'):        \n",
    "            north_africa_total = countries_new_cases[countries_new_cases['Country_Other'].isin(north_africa_new_cases['Country_Other'])]\n",
    "            north_africa_total=north_africa_total.copy()\n",
    "            north_africa_total.fillna(0, inplace=True)\n",
    "            north_africa_sum = north_africa_total[column].astype(str).str.replace('+','').fillna(0).str.replace(',','').fillna(0).astype(int).sum()  \n",
    "            afrik_region.append(region)\n",
    "            afric_region_stat.append(north_africa_sum)\n",
    "\n",
    "        elif(region == 'South Africa'):\n",
    "            southern_africa_total = countries_new_cases[countries_new_cases['Country_Other'].isin(southern_africa_new_cases['Country_Other'])]\n",
    "            southern_africa_total=southern_africa_total.copy()\n",
    "            southern_africa_total.fillna(0, inplace=True)\n",
    "            southern_africa_sum = southern_africa_total[column].astype(str).str.replace('+','').fillna(0).str.replace(',','').fillna(0).astype(int).sum() \n",
    "            afrik_region.append(region)\n",
    "            afric_region_stat.append(southern_africa_sum)\n",
    "\n",
    "        elif(region == 'Central Africa'):\n",
    "            central_africa_total = countries_new_cases[countries_new_cases['Country_Other'].isin(central_africa_new_cases['Country_Other'])]\n",
    "            central_africa_total=central_africa_total.copy()\n",
    "            central_africa_total.fillna(0, inplace=True)\n",
    "            central_africa_sum = central_africa_total[column].astype(str).str.replace('+','').fillna(0).str.replace(',','').fillna(0).astype(int).sum()\n",
    "            afrik_region.append(region)\n",
    "            afric_region_stat.append(central_africa_sum)\n",
    "\n",
    "        elif(region == 'East Africa'):     \n",
    "            east_africa_total = countries_new_cases[countries_new_cases['Country_Other'].isin(east_africa_new_cases['Country_Other'])]\n",
    "            east_africa_total=east_africa_total.copy()\n",
    "            east_africa_total.fillna(0, inplace=True)\n",
    "            east_africa_sum = east_africa_total[column].astype(str).str.replace('+','').fillna(0).str.replace(',','').fillna(0).astype(int).sum()\n",
    "            afrik_region.append(region)\n",
    "            afric_region_stat.append(east_africa_sum)\n",
    "\n",
    "        elif(region == 'West Africa'): \n",
    "            west_africa_total = countries_new_cases[countries_new_cases['Country_Other'].isin(west_africa_new_cases['Country_Other'])]\n",
    "            west_africa_total=west_africa_total.copy()\n",
    "            west_africa_total.fillna(0, inplace=True)    \n",
    "            west_africa_sum = west_africa_total[column].astype(str).str.replace('+','').fillna(0).str.replace(',','').fillna(0).astype(int).sum()                         \n",
    "            afrik_region.append(region)\n",
    "            afric_region_stat.append(west_africa_sum)\n",
    "\n",
    "            \n",
    "            afrik_region[1] = 'Southern Africa'\n",
    "            fig.add_trace(go.Pie(labels=afrik_region, values=afric_region_stat,name=column, ),row, col)         \n",
    "            fig.update_traces(hole=.3, hoverinfo=\"label+percent+name+value\", textinfo='percent+value',textfont_size=15,marker_colors=slice_colors,)  \n",
    "            \n",
    "       \n",
    "    fig['layout']['annotations'] += tuple([dict(x=x[position],y=y[position],text='<b>'+column+'</b>', showarrow=False, font_size=12, font=dict(color='black'))])\n",
    "    fig.update_layout(\n",
    "    width=990,height=1450,autosize=False,\n",
    "    title={'text': '<b>' + 'AFRICA - COVID19 NEW CASES BY REGION: ' + date_string +'</b>',\n",
    "    'y':0.95,\n",
    "    'x':0.46,\n",
    "    'xanchor': 'center',\n",
    "    'yanchor': 'top',\n",
    "    'font_color':'black',\n",
    "    'font_size':18},\n",
    "     legend=dict(x=1, y=1,traceorder=\"normal\",  font=dict(size=13))\n",
    "    )\n",
    "    position=position+1    \n",
    "fig.show()"
   ]
  },
  {
   "cell_type": "markdown",
   "metadata": {},
   "source": [
    "[Return to top](#top)"
   ]
  },
  {
   "cell_type": "markdown",
   "metadata": {},
   "source": [
    "##  Recovery Rate of Countries with up to 100 Confirmed Cases"
   ]
  },
  {
   "cell_type": "code",
   "execution_count": 54,
   "metadata": {},
   "outputs": [],
   "source": [
    "#SELECT MOST RECENT CSV DATA\n",
    "def most_recent_all_cases_CSV(path):\n",
    "    next_mostrecent_CSV ={}\n",
    "    files = os.listdir(path)\n",
    "    filter_csv = [file for file in files if file[-3:] == 'csv' and file[:13] == 'COVID19Report']\n",
    "    datetime_conversion = [datetime.datetime.strptime(f[13:25], '%d%m%Y%H%M') for f in filter_csv]\n",
    "    current_datetime = datetime.datetime.now().strftime(\"%d%m%Y%H%M\")\n",
    "    current_datetime_conversion = datetime.datetime.strptime(current_datetime,'%d%m%Y%H%M')\n",
    "    for given_datetime in datetime_conversion:\n",
    "        datetime_string= given_datetime.strftime('%d')+given_datetime.strftime('%m')+given_datetime.strftime('%Y')+given_datetime.strftime('%H')+given_datetime.strftime('%M')\n",
    "        particular_datetime = [datee  for datee in filter_csv if datee[13:25] == datetime_string]\n",
    "        timediff_seconds = current_datetime_conversion - given_datetime\n",
    "        next_mostrecent_CSV[particular_datetime[0]] = timediff_seconds.total_seconds()\n",
    "        sorted_next_mostrecent_CSV = sorted(next_mostrecent_CSV.items(), key=lambda kv: kv[1])\n",
    "    return sorted_next_mostrecent_CSV[0][0]"
   ]
  },
  {
   "cell_type": "code",
   "execution_count": 55,
   "metadata": {},
   "outputs": [
    {
     "data": {
      "text/plain": [
       "'COVID19Report191120201925.csv'"
      ]
     },
     "execution_count": 55,
     "metadata": {},
     "output_type": "execute_result"
    }
   ],
   "source": [
    "all_cases = most_recent_all_cases_CSV(\"..\\COVID19\\DayReport\")\n",
    "all_cases"
   ]
  },
  {
   "cell_type": "code",
   "execution_count": 56,
   "metadata": {},
   "outputs": [
    {
     "data": {
      "text/html": [
       "<div>\n",
       "<style scoped>\n",
       "    .dataframe tbody tr th:only-of-type {\n",
       "        vertical-align: middle;\n",
       "    }\n",
       "\n",
       "    .dataframe tbody tr th {\n",
       "        vertical-align: top;\n",
       "    }\n",
       "\n",
       "    .dataframe thead th {\n",
       "        text-align: right;\n",
       "    }\n",
       "</style>\n",
       "<table border=\"1\" class=\"dataframe\">\n",
       "  <thead>\n",
       "    <tr style=\"text-align: right;\">\n",
       "      <th></th>\n",
       "      <th>Country_Other</th>\n",
       "      <th>Total_Cases</th>\n",
       "      <th>New_Cases</th>\n",
       "      <th>Total_Deaths</th>\n",
       "      <th>New_Deaths</th>\n",
       "      <th>Total_Recovered</th>\n",
       "      <th>Active_Cases</th>\n",
       "      <th>Serious_Critical</th>\n",
       "      <th>tot_cases_per1M_pop</th>\n",
       "      <th>Deaths_per_1M_Pop</th>\n",
       "      <th>Total_Tests</th>\n",
       "      <th>Tests_per_1M_Pop</th>\n",
       "    </tr>\n",
       "  </thead>\n",
       "  <tbody>\n",
       "    <tr>\n",
       "      <td>0</td>\n",
       "      <td>South Africa</td>\n",
       "      <td>759,658</td>\n",
       "      <td>+2,514</td>\n",
       "      <td>20,671</td>\n",
       "      <td>+115</td>\n",
       "      <td>702,544</td>\n",
       "      <td>36,443</td>\n",
       "      <td>546</td>\n",
       "      <td>12,747</td>\n",
       "      <td>347</td>\n",
       "      <td>5,214,036</td>\n",
       "      <td>87,490</td>\n",
       "    </tr>\n",
       "    <tr>\n",
       "      <td>1</td>\n",
       "      <td>Morocco</td>\n",
       "      <td>311,554</td>\n",
       "      <td>+4,559</td>\n",
       "      <td>5,090</td>\n",
       "      <td>+77</td>\n",
       "      <td>257,992</td>\n",
       "      <td>48,472</td>\n",
       "      <td>1,048</td>\n",
       "      <td>8,402</td>\n",
       "      <td>137</td>\n",
       "      <td>3,733,534</td>\n",
       "      <td>100,692</td>\n",
       "    </tr>\n",
       "    <tr>\n",
       "      <td>2</td>\n",
       "      <td>Egypt</td>\n",
       "      <td>111,955</td>\n",
       "      <td>+342</td>\n",
       "      <td>6,508</td>\n",
       "      <td>+13</td>\n",
       "      <td>101,564</td>\n",
       "      <td>3,883</td>\n",
       "      <td>46</td>\n",
       "      <td>1,086</td>\n",
       "      <td>63</td>\n",
       "      <td>1,000,000</td>\n",
       "      <td>9,702</td>\n",
       "    </tr>\n",
       "  </tbody>\n",
       "</table>\n",
       "</div>"
      ],
      "text/plain": [
       "  Country_Other Total_Cases New_Cases Total_Deaths New_Deaths Total_Recovered  \\\n",
       "0  South Africa     759,658    +2,514       20,671       +115         702,544   \n",
       "1       Morocco     311,554    +4,559        5,090        +77         257,992   \n",
       "2         Egypt     111,955      +342        6,508        +13         101,564   \n",
       "\n",
       "  Active_Cases Serious_Critical tot_cases_per1M_pop Deaths_per_1M_Pop  \\\n",
       "0       36,443              546              12,747               347   \n",
       "1       48,472            1,048               8,402               137   \n",
       "2        3,883               46               1,086                63   \n",
       "\n",
       "  Total_Tests Tests_per_1M_Pop  \n",
       "0   5,214,036           87,490  \n",
       "1   3,733,534          100,692  \n",
       "2   1,000,000            9,702  "
      ]
     },
     "execution_count": 56,
     "metadata": {},
     "output_type": "execute_result"
    }
   ],
   "source": [
    "covid_data = pd.read_csv(\"../COVID19/DayReport/\"+all_cases)\n",
    "african_countries_inview = covid_data[covid_data['Country_Other'].isin(african_countries['country_Other'])]\n",
    "african_countries_inview =african_countries_inview.reset_index(drop=True)\n",
    "african_countries_inview.head(3)"
   ]
  },
  {
   "cell_type": "code",
   "execution_count": 57,
   "metadata": {},
   "outputs": [
    {
     "data": {
      "text/plain": [
       "Country_Other          object\n",
       "Total_Cases             int32\n",
       "New_Cases              object\n",
       "Total_Deaths            int32\n",
       "New_Deaths             object\n",
       "Total_Recovered         int32\n",
       "Active_Cases           object\n",
       "Serious_Critical       object\n",
       "tot_cases_per1M_pop    object\n",
       "Deaths_per_1M_Pop      object\n",
       "Total_Tests            object\n",
       "Tests_per_1M_Pop       object\n",
       "dtype: object"
      ]
     },
     "execution_count": 57,
     "metadata": {},
     "output_type": "execute_result"
    }
   ],
   "source": [
    "african_countries_inview['Total_Recovered']=african_countries_inview['Total_Recovered'].str.replace(',','').fillna(0).astype(int)\n",
    "african_countries_inview['Total_Cases']=african_countries_inview['Total_Cases'].str.replace(',','').fillna(0).astype(int)\n",
    "african_countries_inview['Total_Deaths']=african_countries_inview['Total_Deaths'].str.replace(',','').fillna(0).astype(int)\n",
    "african_countries_inview.dtypes"
   ]
  },
  {
   "cell_type": "code",
   "execution_count": 58,
   "metadata": {},
   "outputs": [],
   "source": [
    "african_recovery = pd.DataFrame()\n",
    "african_recovery['Country_Other'] = african_countries_inview['Country_Other']\n",
    "african_recovery['Total_Cases'] = african_countries_inview['Total_Cases']\n",
    "african_recovery['Total_Recovered'] = african_countries_inview['Total_Recovered']"
   ]
  },
  {
   "cell_type": "code",
   "execution_count": 59,
   "metadata": {},
   "outputs": [
    {
     "data": {
      "text/html": [
       "<div>\n",
       "<style scoped>\n",
       "    .dataframe tbody tr th:only-of-type {\n",
       "        vertical-align: middle;\n",
       "    }\n",
       "\n",
       "    .dataframe tbody tr th {\n",
       "        vertical-align: top;\n",
       "    }\n",
       "\n",
       "    .dataframe thead th {\n",
       "        text-align: right;\n",
       "    }\n",
       "</style>\n",
       "<table border=\"1\" class=\"dataframe\">\n",
       "  <thead>\n",
       "    <tr style=\"text-align: right;\">\n",
       "      <th></th>\n",
       "      <th>Country_Other</th>\n",
       "      <th>Total_Cases</th>\n",
       "      <th>Total_Recovered</th>\n",
       "      <th>RecoveryRate</th>\n",
       "    </tr>\n",
       "  </thead>\n",
       "  <tbody>\n",
       "    <tr>\n",
       "      <td>0</td>\n",
       "      <td>South Africa</td>\n",
       "      <td>759658</td>\n",
       "      <td>702544</td>\n",
       "      <td>92.48</td>\n",
       "    </tr>\n",
       "    <tr>\n",
       "      <td>1</td>\n",
       "      <td>Morocco</td>\n",
       "      <td>311554</td>\n",
       "      <td>257992</td>\n",
       "      <td>82.81</td>\n",
       "    </tr>\n",
       "    <tr>\n",
       "      <td>2</td>\n",
       "      <td>Egypt</td>\n",
       "      <td>111955</td>\n",
       "      <td>101564</td>\n",
       "      <td>90.72</td>\n",
       "    </tr>\n",
       "  </tbody>\n",
       "</table>\n",
       "</div>"
      ],
      "text/plain": [
       "  Country_Other  Total_Cases  Total_Recovered  RecoveryRate\n",
       "0  South Africa       759658           702544         92.48\n",
       "1       Morocco       311554           257992         82.81\n",
       "2         Egypt       111955           101564         90.72"
      ]
     },
     "execution_count": 59,
     "metadata": {},
     "output_type": "execute_result"
    }
   ],
   "source": [
    "\n",
    "african_recovery['RecoveryRate'] = round((african_countries_inview['Total_Recovered']/african_countries_inview['Total_Cases'])*100,2)\n",
    "african_recovery.head(3)"
   ]
  },
  {
   "cell_type": "code",
   "execution_count": 60,
   "metadata": {},
   "outputs": [
    {
     "data": {
      "text/html": [
       "<div>\n",
       "<style scoped>\n",
       "    .dataframe tbody tr th:only-of-type {\n",
       "        vertical-align: middle;\n",
       "    }\n",
       "\n",
       "    .dataframe tbody tr th {\n",
       "        vertical-align: top;\n",
       "    }\n",
       "\n",
       "    .dataframe thead th {\n",
       "        text-align: right;\n",
       "    }\n",
       "</style>\n",
       "<table border=\"1\" class=\"dataframe\">\n",
       "  <thead>\n",
       "    <tr style=\"text-align: right;\">\n",
       "      <th></th>\n",
       "      <th>Country_Other</th>\n",
       "      <th>Total_Cases</th>\n",
       "      <th>Total_Recovered</th>\n",
       "      <th>RecoveryRate</th>\n",
       "    </tr>\n",
       "  </thead>\n",
       "  <tbody>\n",
       "    <tr>\n",
       "      <td>0</td>\n",
       "      <td>Gabon</td>\n",
       "      <td>9116</td>\n",
       "      <td>8965</td>\n",
       "      <td>98.34</td>\n",
       "    </tr>\n",
       "    <tr>\n",
       "      <td>1</td>\n",
       "      <td>Ivory Coast</td>\n",
       "      <td>21083</td>\n",
       "      <td>20729</td>\n",
       "      <td>98.32</td>\n",
       "    </tr>\n",
       "    <tr>\n",
       "      <td>2</td>\n",
       "      <td>Djibouti</td>\n",
       "      <td>5658</td>\n",
       "      <td>5550</td>\n",
       "      <td>98.09</td>\n",
       "    </tr>\n",
       "  </tbody>\n",
       "</table>\n",
       "</div>"
      ],
      "text/plain": [
       "  Country_Other  Total_Cases  Total_Recovered  RecoveryRate\n",
       "0         Gabon         9116             8965         98.34\n",
       "1   Ivory Coast        21083            20729         98.32\n",
       "2      Djibouti         5658             5550         98.09"
      ]
     },
     "execution_count": 60,
     "metadata": {},
     "output_type": "execute_result"
    }
   ],
   "source": [
    "#Recovery Rate sorted in descensing order\n",
    "african_confirmed100 = african_recovery[african_recovery['Total_Cases']>=100]\n",
    "african_confirmed100 = african_confirmed100.sort_values('RecoveryRate', ascending=False)\n",
    "african_confirmed100.reset_index(drop=True, inplace=True)\n",
    "african_confirmed100.head(3)"
   ]
  },
  {
   "cell_type": "markdown",
   "metadata": {},
   "source": [
    "<a id='recovery'></a>"
   ]
  },
  {
   "cell_type": "code",
   "execution_count": 61,
   "metadata": {},
   "outputs": [
    {
     "data": {
      "application/vnd.plotly.v1+json": {
       "config": {
        "plotlyServerURL": "https://plot.ly"
       },
       "data": [
        {
         "marker": {
          "color": "LimeGreen"
         },
         "name": "Afria",
         "orientation": "h",
         "text": [
          35.95,
          39.21,
          42.77,
          49.14,
          49.96,
          58.86,
          61.56,
          61.65,
          62.23,
          63.21,
          65.54,
          68.32,
          69.02,
          69.51,
          73.22,
          75.82,
          76.05,
          76.05,
          77.23,
          81.23,
          82.81,
          86.37,
          86.48,
          86.53,
          87.27,
          87.65,
          88.44,
          89.7,
          90.31,
          90.55,
          90.59,
          90.72,
          91.95,
          92.18,
          92.19,
          92.48,
          93.4,
          93.52,
          94.03,
          94.26,
          94.42,
          94.46,
          94.72,
          94.79,
          95.1,
          95.63,
          95.85,
          96.49,
          96.57,
          96.98,
          97.15,
          97.51,
          97.55,
          98.09,
          98.32,
          98.34
         ],
         "textposition": "outside",
         "type": "bar",
         "x": [
          35.95,
          39.21,
          42.77,
          49.14,
          49.96,
          58.86,
          61.56,
          61.65,
          62.23,
          63.21,
          65.54,
          68.32,
          69.02,
          69.51,
          73.22,
          75.82,
          76.05,
          76.05,
          77.23,
          81.23,
          82.81,
          86.37,
          86.48,
          86.53,
          87.27,
          87.65,
          88.44,
          89.7,
          90.31,
          90.55,
          90.59,
          90.72,
          91.95,
          92.18,
          92.19,
          92.48,
          93.4,
          93.52,
          94.03,
          94.26,
          94.42,
          94.46,
          94.72,
          94.79,
          95.1,
          95.63,
          95.85,
          96.49,
          96.57,
          96.98,
          97.15,
          97.51,
          97.55,
          98.09,
          98.32,
          98.34
         ],
         "y": [
          "Tanzania",
          "CAR",
          "South Sudan",
          "Uganda",
          "Angola",
          "Mayotte",
          "Libya",
          "Lesotho",
          "Ethiopia",
          "Sudan",
          "Algeria",
          "Kenya",
          "Congo",
          "Tunisia",
          "Mali",
          "Togo",
          "Sierra Leone",
          "Botswana",
          "Somalia",
          "Réunion",
          "Morocco",
          "Niger",
          "Liberia",
          "Eritrea",
          "Mozambique",
          "Mauritius",
          "Benin",
          "Burundi",
          "Chad",
          "Malawi",
          "Zimbabwe",
          "Egypt",
          "Guinea",
          "Burkina Faso",
          "Rwanda",
          "South Africa",
          "DRC",
          "Nigeria",
          "Mauritania",
          "Cameroon",
          "Guinea-Bissau",
          "Sao Tome and Principe",
          "Eswatini",
          "Cabo Verde",
          "Comoros",
          "Zambia",
          "Madagascar",
          "Namibia",
          "Gambia",
          "Ghana",
          "Equatorial Guinea",
          "Senegal",
          "Seychelles",
          "Djibouti",
          "Ivory Coast",
          "Gabon"
         ]
        }
       ],
       "layout": {
        "autosize": false,
        "height": 1000,
        "template": {
         "data": {
          "bar": [
           {
            "error_x": {
             "color": "#f2f5fa"
            },
            "error_y": {
             "color": "#f2f5fa"
            },
            "marker": {
             "line": {
              "color": "rgb(17,17,17)",
              "width": 0.5
             }
            },
            "type": "bar"
           }
          ],
          "barpolar": [
           {
            "marker": {
             "line": {
              "color": "rgb(17,17,17)",
              "width": 0.5
             }
            },
            "type": "barpolar"
           }
          ],
          "carpet": [
           {
            "aaxis": {
             "endlinecolor": "#A2B1C6",
             "gridcolor": "#506784",
             "linecolor": "#506784",
             "minorgridcolor": "#506784",
             "startlinecolor": "#A2B1C6"
            },
            "baxis": {
             "endlinecolor": "#A2B1C6",
             "gridcolor": "#506784",
             "linecolor": "#506784",
             "minorgridcolor": "#506784",
             "startlinecolor": "#A2B1C6"
            },
            "type": "carpet"
           }
          ],
          "choropleth": [
           {
            "colorbar": {
             "outlinewidth": 0,
             "ticks": ""
            },
            "type": "choropleth"
           }
          ],
          "contour": [
           {
            "colorbar": {
             "outlinewidth": 0,
             "ticks": ""
            },
            "colorscale": [
             [
              0,
              "#0d0887"
             ],
             [
              0.1111111111111111,
              "#46039f"
             ],
             [
              0.2222222222222222,
              "#7201a8"
             ],
             [
              0.3333333333333333,
              "#9c179e"
             ],
             [
              0.4444444444444444,
              "#bd3786"
             ],
             [
              0.5555555555555556,
              "#d8576b"
             ],
             [
              0.6666666666666666,
              "#ed7953"
             ],
             [
              0.7777777777777778,
              "#fb9f3a"
             ],
             [
              0.8888888888888888,
              "#fdca26"
             ],
             [
              1,
              "#f0f921"
             ]
            ],
            "type": "contour"
           }
          ],
          "contourcarpet": [
           {
            "colorbar": {
             "outlinewidth": 0,
             "ticks": ""
            },
            "type": "contourcarpet"
           }
          ],
          "heatmap": [
           {
            "colorbar": {
             "outlinewidth": 0,
             "ticks": ""
            },
            "colorscale": [
             [
              0,
              "#0d0887"
             ],
             [
              0.1111111111111111,
              "#46039f"
             ],
             [
              0.2222222222222222,
              "#7201a8"
             ],
             [
              0.3333333333333333,
              "#9c179e"
             ],
             [
              0.4444444444444444,
              "#bd3786"
             ],
             [
              0.5555555555555556,
              "#d8576b"
             ],
             [
              0.6666666666666666,
              "#ed7953"
             ],
             [
              0.7777777777777778,
              "#fb9f3a"
             ],
             [
              0.8888888888888888,
              "#fdca26"
             ],
             [
              1,
              "#f0f921"
             ]
            ],
            "type": "heatmap"
           }
          ],
          "heatmapgl": [
           {
            "colorbar": {
             "outlinewidth": 0,
             "ticks": ""
            },
            "colorscale": [
             [
              0,
              "#0d0887"
             ],
             [
              0.1111111111111111,
              "#46039f"
             ],
             [
              0.2222222222222222,
              "#7201a8"
             ],
             [
              0.3333333333333333,
              "#9c179e"
             ],
             [
              0.4444444444444444,
              "#bd3786"
             ],
             [
              0.5555555555555556,
              "#d8576b"
             ],
             [
              0.6666666666666666,
              "#ed7953"
             ],
             [
              0.7777777777777778,
              "#fb9f3a"
             ],
             [
              0.8888888888888888,
              "#fdca26"
             ],
             [
              1,
              "#f0f921"
             ]
            ],
            "type": "heatmapgl"
           }
          ],
          "histogram": [
           {
            "marker": {
             "colorbar": {
              "outlinewidth": 0,
              "ticks": ""
             }
            },
            "type": "histogram"
           }
          ],
          "histogram2d": [
           {
            "colorbar": {
             "outlinewidth": 0,
             "ticks": ""
            },
            "colorscale": [
             [
              0,
              "#0d0887"
             ],
             [
              0.1111111111111111,
              "#46039f"
             ],
             [
              0.2222222222222222,
              "#7201a8"
             ],
             [
              0.3333333333333333,
              "#9c179e"
             ],
             [
              0.4444444444444444,
              "#bd3786"
             ],
             [
              0.5555555555555556,
              "#d8576b"
             ],
             [
              0.6666666666666666,
              "#ed7953"
             ],
             [
              0.7777777777777778,
              "#fb9f3a"
             ],
             [
              0.8888888888888888,
              "#fdca26"
             ],
             [
              1,
              "#f0f921"
             ]
            ],
            "type": "histogram2d"
           }
          ],
          "histogram2dcontour": [
           {
            "colorbar": {
             "outlinewidth": 0,
             "ticks": ""
            },
            "colorscale": [
             [
              0,
              "#0d0887"
             ],
             [
              0.1111111111111111,
              "#46039f"
             ],
             [
              0.2222222222222222,
              "#7201a8"
             ],
             [
              0.3333333333333333,
              "#9c179e"
             ],
             [
              0.4444444444444444,
              "#bd3786"
             ],
             [
              0.5555555555555556,
              "#d8576b"
             ],
             [
              0.6666666666666666,
              "#ed7953"
             ],
             [
              0.7777777777777778,
              "#fb9f3a"
             ],
             [
              0.8888888888888888,
              "#fdca26"
             ],
             [
              1,
              "#f0f921"
             ]
            ],
            "type": "histogram2dcontour"
           }
          ],
          "mesh3d": [
           {
            "colorbar": {
             "outlinewidth": 0,
             "ticks": ""
            },
            "type": "mesh3d"
           }
          ],
          "parcoords": [
           {
            "line": {
             "colorbar": {
              "outlinewidth": 0,
              "ticks": ""
             }
            },
            "type": "parcoords"
           }
          ],
          "scatter": [
           {
            "marker": {
             "line": {
              "color": "#283442"
             }
            },
            "type": "scatter"
           }
          ],
          "scatter3d": [
           {
            "line": {
             "colorbar": {
              "outlinewidth": 0,
              "ticks": ""
             }
            },
            "marker": {
             "colorbar": {
              "outlinewidth": 0,
              "ticks": ""
             }
            },
            "type": "scatter3d"
           }
          ],
          "scattercarpet": [
           {
            "marker": {
             "colorbar": {
              "outlinewidth": 0,
              "ticks": ""
             }
            },
            "type": "scattercarpet"
           }
          ],
          "scattergeo": [
           {
            "marker": {
             "colorbar": {
              "outlinewidth": 0,
              "ticks": ""
             }
            },
            "type": "scattergeo"
           }
          ],
          "scattergl": [
           {
            "marker": {
             "line": {
              "color": "#283442"
             }
            },
            "type": "scattergl"
           }
          ],
          "scattermapbox": [
           {
            "marker": {
             "colorbar": {
              "outlinewidth": 0,
              "ticks": ""
             }
            },
            "type": "scattermapbox"
           }
          ],
          "scatterpolar": [
           {
            "marker": {
             "colorbar": {
              "outlinewidth": 0,
              "ticks": ""
             }
            },
            "type": "scatterpolar"
           }
          ],
          "scatterpolargl": [
           {
            "marker": {
             "colorbar": {
              "outlinewidth": 0,
              "ticks": ""
             }
            },
            "type": "scatterpolargl"
           }
          ],
          "scatterternary": [
           {
            "marker": {
             "colorbar": {
              "outlinewidth": 0,
              "ticks": ""
             }
            },
            "type": "scatterternary"
           }
          ],
          "surface": [
           {
            "colorbar": {
             "outlinewidth": 0,
             "ticks": ""
            },
            "colorscale": [
             [
              0,
              "#0d0887"
             ],
             [
              0.1111111111111111,
              "#46039f"
             ],
             [
              0.2222222222222222,
              "#7201a8"
             ],
             [
              0.3333333333333333,
              "#9c179e"
             ],
             [
              0.4444444444444444,
              "#bd3786"
             ],
             [
              0.5555555555555556,
              "#d8576b"
             ],
             [
              0.6666666666666666,
              "#ed7953"
             ],
             [
              0.7777777777777778,
              "#fb9f3a"
             ],
             [
              0.8888888888888888,
              "#fdca26"
             ],
             [
              1,
              "#f0f921"
             ]
            ],
            "type": "surface"
           }
          ],
          "table": [
           {
            "cells": {
             "fill": {
              "color": "#506784"
             },
             "line": {
              "color": "rgb(17,17,17)"
             }
            },
            "header": {
             "fill": {
              "color": "#2a3f5f"
             },
             "line": {
              "color": "rgb(17,17,17)"
             }
            },
            "type": "table"
           }
          ]
         },
         "layout": {
          "annotationdefaults": {
           "arrowcolor": "#f2f5fa",
           "arrowhead": 0,
           "arrowwidth": 1
          },
          "colorscale": {
           "diverging": [
            [
             0,
             "#8e0152"
            ],
            [
             0.1,
             "#c51b7d"
            ],
            [
             0.2,
             "#de77ae"
            ],
            [
             0.3,
             "#f1b6da"
            ],
            [
             0.4,
             "#fde0ef"
            ],
            [
             0.5,
             "#f7f7f7"
            ],
            [
             0.6,
             "#e6f5d0"
            ],
            [
             0.7,
             "#b8e186"
            ],
            [
             0.8,
             "#7fbc41"
            ],
            [
             0.9,
             "#4d9221"
            ],
            [
             1,
             "#276419"
            ]
           ],
           "sequential": [
            [
             0,
             "#0d0887"
            ],
            [
             0.1111111111111111,
             "#46039f"
            ],
            [
             0.2222222222222222,
             "#7201a8"
            ],
            [
             0.3333333333333333,
             "#9c179e"
            ],
            [
             0.4444444444444444,
             "#bd3786"
            ],
            [
             0.5555555555555556,
             "#d8576b"
            ],
            [
             0.6666666666666666,
             "#ed7953"
            ],
            [
             0.7777777777777778,
             "#fb9f3a"
            ],
            [
             0.8888888888888888,
             "#fdca26"
            ],
            [
             1,
             "#f0f921"
            ]
           ],
           "sequentialminus": [
            [
             0,
             "#0d0887"
            ],
            [
             0.1111111111111111,
             "#46039f"
            ],
            [
             0.2222222222222222,
             "#7201a8"
            ],
            [
             0.3333333333333333,
             "#9c179e"
            ],
            [
             0.4444444444444444,
             "#bd3786"
            ],
            [
             0.5555555555555556,
             "#d8576b"
            ],
            [
             0.6666666666666666,
             "#ed7953"
            ],
            [
             0.7777777777777778,
             "#fb9f3a"
            ],
            [
             0.8888888888888888,
             "#fdca26"
            ],
            [
             1,
             "#f0f921"
            ]
           ]
          },
          "colorway": [
           "#636efa",
           "#EF553B",
           "#00cc96",
           "#ab63fa",
           "#FFA15A",
           "#19d3f3",
           "#FF6692",
           "#B6E880",
           "#FF97FF",
           "#FECB52"
          ],
          "font": {
           "color": "#f2f5fa"
          },
          "geo": {
           "bgcolor": "rgb(17,17,17)",
           "lakecolor": "rgb(17,17,17)",
           "landcolor": "rgb(17,17,17)",
           "showlakes": true,
           "showland": true,
           "subunitcolor": "#506784"
          },
          "hoverlabel": {
           "align": "left"
          },
          "hovermode": "closest",
          "mapbox": {
           "style": "dark"
          },
          "paper_bgcolor": "rgb(17,17,17)",
          "plot_bgcolor": "rgb(17,17,17)",
          "polar": {
           "angularaxis": {
            "gridcolor": "#506784",
            "linecolor": "#506784",
            "ticks": ""
           },
           "bgcolor": "rgb(17,17,17)",
           "radialaxis": {
            "gridcolor": "#506784",
            "linecolor": "#506784",
            "ticks": ""
           }
          },
          "scene": {
           "xaxis": {
            "backgroundcolor": "rgb(17,17,17)",
            "gridcolor": "#506784",
            "gridwidth": 2,
            "linecolor": "#506784",
            "showbackground": true,
            "ticks": "",
            "zerolinecolor": "#C8D4E3"
           },
           "yaxis": {
            "backgroundcolor": "rgb(17,17,17)",
            "gridcolor": "#506784",
            "gridwidth": 2,
            "linecolor": "#506784",
            "showbackground": true,
            "ticks": "",
            "zerolinecolor": "#C8D4E3"
           },
           "zaxis": {
            "backgroundcolor": "rgb(17,17,17)",
            "gridcolor": "#506784",
            "gridwidth": 2,
            "linecolor": "#506784",
            "showbackground": true,
            "ticks": "",
            "zerolinecolor": "#C8D4E3"
           }
          },
          "shapedefaults": {
           "line": {
            "color": "#f2f5fa"
           }
          },
          "sliderdefaults": {
           "bgcolor": "#C8D4E3",
           "bordercolor": "rgb(17,17,17)",
           "borderwidth": 1,
           "tickwidth": 0
          },
          "ternary": {
           "aaxis": {
            "gridcolor": "#506784",
            "linecolor": "#506784",
            "ticks": ""
           },
           "baxis": {
            "gridcolor": "#506784",
            "linecolor": "#506784",
            "ticks": ""
           },
           "bgcolor": "rgb(17,17,17)",
           "caxis": {
            "gridcolor": "#506784",
            "linecolor": "#506784",
            "ticks": ""
           }
          },
          "title": {
           "x": 0.05
          },
          "updatemenudefaults": {
           "bgcolor": "#506784",
           "borderwidth": 0
          },
          "xaxis": {
           "automargin": true,
           "gridcolor": "#283442",
           "linecolor": "#506784",
           "ticks": "",
           "zerolinecolor": "#283442",
           "zerolinewidth": 2
          },
          "yaxis": {
           "automargin": true,
           "gridcolor": "#283442",
           "linecolor": "#506784",
           "ticks": "",
           "zerolinecolor": "#283442",
           "zerolinewidth": 2
          }
         }
        },
        "title": {
         "font": {
          "color": "Cyan",
          "size": 14
         },
         "text": "<b>COVID19 RECOVERY RATE OF AFRICAN COUNTRIES/TERRITORIES: November 19, 2020</b>",
         "x": 0.5,
         "xanchor": "center",
         "y": 0.93,
         "yanchor": "top"
        },
        "width": 1000,
        "xaxis": {
         "title": {
          "font": {
           "color": "#BDBDBD",
           "size": 18
          },
          "text": "<b>Recovery Rate(%)</b>"
         }
        },
        "yaxis": {
         "tickprefix": "      ",
         "title": {
          "font": {
           "color": "#BDBDBD",
           "size": 18
          },
          "text": "<b>Country</b>"
         }
        }
       }
      },
      "text/html": [
       "<div>\n",
       "        \n",
       "        \n",
       "            <div id=\"49a7e9c5-25e1-4b71-b859-f9572d85e972\" class=\"plotly-graph-div\" style=\"height:1000px; width:1000px;\"></div>\n",
       "            <script type=\"text/javascript\">\n",
       "                require([\"plotly\"], function(Plotly) {\n",
       "                    window.PLOTLYENV=window.PLOTLYENV || {};\n",
       "                    \n",
       "                if (document.getElementById(\"49a7e9c5-25e1-4b71-b859-f9572d85e972\")) {\n",
       "                    Plotly.newPlot(\n",
       "                        '49a7e9c5-25e1-4b71-b859-f9572d85e972',\n",
       "                        [{\"marker\": {\"color\": \"LimeGreen\"}, \"name\": \"Afria\", \"orientation\": \"h\", \"text\": [35.95, 39.21, 42.77, 49.14, 49.96, 58.86, 61.56, 61.65, 62.23, 63.21, 65.54, 68.32, 69.02, 69.51, 73.22, 75.82, 76.05, 76.05, 77.23, 81.23, 82.81, 86.37, 86.48, 86.53, 87.27, 87.65, 88.44, 89.7, 90.31, 90.55, 90.59, 90.72, 91.95, 92.18, 92.19, 92.48, 93.4, 93.52, 94.03, 94.26, 94.42, 94.46, 94.72, 94.79, 95.1, 95.63, 95.85, 96.49, 96.57, 96.98, 97.15, 97.51, 97.55, 98.09, 98.32, 98.34], \"textposition\": \"outside\", \"type\": \"bar\", \"x\": [35.95, 39.21, 42.77, 49.14, 49.96, 58.86, 61.56, 61.65, 62.23, 63.21, 65.54, 68.32, 69.02, 69.51, 73.22, 75.82, 76.05, 76.05, 77.23, 81.23, 82.81, 86.37, 86.48, 86.53, 87.27, 87.65, 88.44, 89.7, 90.31, 90.55, 90.59, 90.72, 91.95, 92.18, 92.19, 92.48, 93.4, 93.52, 94.03, 94.26, 94.42, 94.46, 94.72, 94.79, 95.1, 95.63, 95.85, 96.49, 96.57, 96.98, 97.15, 97.51, 97.55, 98.09, 98.32, 98.34], \"y\": [\"Tanzania\", \"CAR\", \"South Sudan\", \"Uganda\", \"Angola\", \"Mayotte\", \"Libya\", \"Lesotho\", \"Ethiopia\", \"Sudan\", \"Algeria\", \"Kenya\", \"Congo\", \"Tunisia\", \"Mali\", \"Togo\", \"Sierra Leone\", \"Botswana\", \"Somalia\", \"R\\u00e9union\", \"Morocco\", \"Niger\", \"Liberia\", \"Eritrea\", \"Mozambique\", \"Mauritius\", \"Benin\", \"Burundi\", \"Chad\", \"Malawi\", \"Zimbabwe\", \"Egypt\", \"Guinea\", \"Burkina Faso\", \"Rwanda\", \"South Africa\", \"DRC\", \"Nigeria\", \"Mauritania\", \"Cameroon\", \"Guinea-Bissau\", \"Sao Tome and Principe\", \"Eswatini\", \"Cabo Verde\", \"Comoros\", \"Zambia\", \"Madagascar\", \"Namibia\", \"Gambia\", \"Ghana\", \"Equatorial Guinea\", \"Senegal\", \"Seychelles\", \"Djibouti\", \"Ivory Coast\", \"Gabon\"]}],\n",
       "                        {\"autosize\": false, \"height\": 1000, \"template\": {\"data\": {\"bar\": [{\"error_x\": {\"color\": \"#f2f5fa\"}, \"error_y\": {\"color\": \"#f2f5fa\"}, \"marker\": {\"line\": {\"color\": \"rgb(17,17,17)\", \"width\": 0.5}}, \"type\": \"bar\"}], \"barpolar\": [{\"marker\": {\"line\": {\"color\": \"rgb(17,17,17)\", \"width\": 0.5}}, \"type\": \"barpolar\"}], \"carpet\": [{\"aaxis\": {\"endlinecolor\": \"#A2B1C6\", \"gridcolor\": \"#506784\", \"linecolor\": \"#506784\", \"minorgridcolor\": \"#506784\", \"startlinecolor\": \"#A2B1C6\"}, \"baxis\": {\"endlinecolor\": \"#A2B1C6\", \"gridcolor\": \"#506784\", \"linecolor\": \"#506784\", \"minorgridcolor\": \"#506784\", \"startlinecolor\": \"#A2B1C6\"}, \"type\": \"carpet\"}], \"choropleth\": [{\"colorbar\": {\"outlinewidth\": 0, \"ticks\": \"\"}, \"type\": \"choropleth\"}], \"contour\": [{\"colorbar\": {\"outlinewidth\": 0, \"ticks\": \"\"}, \"colorscale\": [[0.0, \"#0d0887\"], [0.1111111111111111, \"#46039f\"], [0.2222222222222222, \"#7201a8\"], [0.3333333333333333, \"#9c179e\"], [0.4444444444444444, \"#bd3786\"], [0.5555555555555556, \"#d8576b\"], [0.6666666666666666, \"#ed7953\"], [0.7777777777777778, \"#fb9f3a\"], [0.8888888888888888, \"#fdca26\"], [1.0, \"#f0f921\"]], \"type\": \"contour\"}], \"contourcarpet\": [{\"colorbar\": {\"outlinewidth\": 0, \"ticks\": \"\"}, \"type\": \"contourcarpet\"}], \"heatmap\": [{\"colorbar\": {\"outlinewidth\": 0, \"ticks\": \"\"}, \"colorscale\": [[0.0, \"#0d0887\"], [0.1111111111111111, \"#46039f\"], [0.2222222222222222, \"#7201a8\"], [0.3333333333333333, \"#9c179e\"], [0.4444444444444444, \"#bd3786\"], [0.5555555555555556, \"#d8576b\"], [0.6666666666666666, \"#ed7953\"], [0.7777777777777778, \"#fb9f3a\"], [0.8888888888888888, \"#fdca26\"], [1.0, \"#f0f921\"]], \"type\": \"heatmap\"}], \"heatmapgl\": [{\"colorbar\": {\"outlinewidth\": 0, \"ticks\": \"\"}, \"colorscale\": [[0.0, \"#0d0887\"], [0.1111111111111111, \"#46039f\"], [0.2222222222222222, \"#7201a8\"], [0.3333333333333333, \"#9c179e\"], [0.4444444444444444, \"#bd3786\"], [0.5555555555555556, \"#d8576b\"], [0.6666666666666666, \"#ed7953\"], [0.7777777777777778, \"#fb9f3a\"], [0.8888888888888888, \"#fdca26\"], [1.0, \"#f0f921\"]], \"type\": \"heatmapgl\"}], \"histogram\": [{\"marker\": {\"colorbar\": {\"outlinewidth\": 0, \"ticks\": \"\"}}, \"type\": \"histogram\"}], \"histogram2d\": [{\"colorbar\": {\"outlinewidth\": 0, \"ticks\": \"\"}, \"colorscale\": [[0.0, \"#0d0887\"], [0.1111111111111111, \"#46039f\"], [0.2222222222222222, \"#7201a8\"], [0.3333333333333333, \"#9c179e\"], [0.4444444444444444, \"#bd3786\"], [0.5555555555555556, \"#d8576b\"], [0.6666666666666666, \"#ed7953\"], [0.7777777777777778, \"#fb9f3a\"], [0.8888888888888888, \"#fdca26\"], [1.0, \"#f0f921\"]], \"type\": \"histogram2d\"}], \"histogram2dcontour\": [{\"colorbar\": {\"outlinewidth\": 0, \"ticks\": \"\"}, \"colorscale\": [[0.0, \"#0d0887\"], [0.1111111111111111, \"#46039f\"], [0.2222222222222222, \"#7201a8\"], [0.3333333333333333, \"#9c179e\"], [0.4444444444444444, \"#bd3786\"], [0.5555555555555556, \"#d8576b\"], [0.6666666666666666, \"#ed7953\"], [0.7777777777777778, \"#fb9f3a\"], [0.8888888888888888, \"#fdca26\"], [1.0, \"#f0f921\"]], \"type\": \"histogram2dcontour\"}], \"mesh3d\": [{\"colorbar\": {\"outlinewidth\": 0, \"ticks\": \"\"}, \"type\": \"mesh3d\"}], \"parcoords\": [{\"line\": {\"colorbar\": {\"outlinewidth\": 0, \"ticks\": \"\"}}, \"type\": \"parcoords\"}], \"scatter\": [{\"marker\": {\"line\": {\"color\": \"#283442\"}}, \"type\": \"scatter\"}], \"scatter3d\": [{\"line\": {\"colorbar\": {\"outlinewidth\": 0, \"ticks\": \"\"}}, \"marker\": {\"colorbar\": {\"outlinewidth\": 0, \"ticks\": \"\"}}, \"type\": \"scatter3d\"}], \"scattercarpet\": [{\"marker\": {\"colorbar\": {\"outlinewidth\": 0, \"ticks\": \"\"}}, \"type\": \"scattercarpet\"}], \"scattergeo\": [{\"marker\": {\"colorbar\": {\"outlinewidth\": 0, \"ticks\": \"\"}}, \"type\": \"scattergeo\"}], \"scattergl\": [{\"marker\": {\"line\": {\"color\": \"#283442\"}}, \"type\": \"scattergl\"}], \"scattermapbox\": [{\"marker\": {\"colorbar\": {\"outlinewidth\": 0, \"ticks\": \"\"}}, \"type\": \"scattermapbox\"}], \"scatterpolar\": [{\"marker\": {\"colorbar\": {\"outlinewidth\": 0, \"ticks\": \"\"}}, \"type\": \"scatterpolar\"}], \"scatterpolargl\": [{\"marker\": {\"colorbar\": {\"outlinewidth\": 0, \"ticks\": \"\"}}, \"type\": \"scatterpolargl\"}], \"scatterternary\": [{\"marker\": {\"colorbar\": {\"outlinewidth\": 0, \"ticks\": \"\"}}, \"type\": \"scatterternary\"}], \"surface\": [{\"colorbar\": {\"outlinewidth\": 0, \"ticks\": \"\"}, \"colorscale\": [[0.0, \"#0d0887\"], [0.1111111111111111, \"#46039f\"], [0.2222222222222222, \"#7201a8\"], [0.3333333333333333, \"#9c179e\"], [0.4444444444444444, \"#bd3786\"], [0.5555555555555556, \"#d8576b\"], [0.6666666666666666, \"#ed7953\"], [0.7777777777777778, \"#fb9f3a\"], [0.8888888888888888, \"#fdca26\"], [1.0, \"#f0f921\"]], \"type\": \"surface\"}], \"table\": [{\"cells\": {\"fill\": {\"color\": \"#506784\"}, \"line\": {\"color\": \"rgb(17,17,17)\"}}, \"header\": {\"fill\": {\"color\": \"#2a3f5f\"}, \"line\": {\"color\": \"rgb(17,17,17)\"}}, \"type\": \"table\"}]}, \"layout\": {\"annotationdefaults\": {\"arrowcolor\": \"#f2f5fa\", \"arrowhead\": 0, \"arrowwidth\": 1}, \"colorscale\": {\"diverging\": [[0, \"#8e0152\"], [0.1, \"#c51b7d\"], [0.2, \"#de77ae\"], [0.3, \"#f1b6da\"], [0.4, \"#fde0ef\"], [0.5, \"#f7f7f7\"], [0.6, \"#e6f5d0\"], [0.7, \"#b8e186\"], [0.8, \"#7fbc41\"], [0.9, \"#4d9221\"], [1, \"#276419\"]], \"sequential\": [[0.0, \"#0d0887\"], [0.1111111111111111, \"#46039f\"], [0.2222222222222222, \"#7201a8\"], [0.3333333333333333, \"#9c179e\"], [0.4444444444444444, \"#bd3786\"], [0.5555555555555556, \"#d8576b\"], [0.6666666666666666, \"#ed7953\"], [0.7777777777777778, \"#fb9f3a\"], [0.8888888888888888, \"#fdca26\"], [1.0, \"#f0f921\"]], \"sequentialminus\": [[0.0, \"#0d0887\"], [0.1111111111111111, \"#46039f\"], [0.2222222222222222, \"#7201a8\"], [0.3333333333333333, \"#9c179e\"], [0.4444444444444444, \"#bd3786\"], [0.5555555555555556, \"#d8576b\"], [0.6666666666666666, \"#ed7953\"], [0.7777777777777778, \"#fb9f3a\"], [0.8888888888888888, \"#fdca26\"], [1.0, \"#f0f921\"]]}, \"colorway\": [\"#636efa\", \"#EF553B\", \"#00cc96\", \"#ab63fa\", \"#FFA15A\", \"#19d3f3\", \"#FF6692\", \"#B6E880\", \"#FF97FF\", \"#FECB52\"], \"font\": {\"color\": \"#f2f5fa\"}, \"geo\": {\"bgcolor\": \"rgb(17,17,17)\", \"lakecolor\": \"rgb(17,17,17)\", \"landcolor\": \"rgb(17,17,17)\", \"showlakes\": true, \"showland\": true, \"subunitcolor\": \"#506784\"}, \"hoverlabel\": {\"align\": \"left\"}, \"hovermode\": \"closest\", \"mapbox\": {\"style\": \"dark\"}, \"paper_bgcolor\": \"rgb(17,17,17)\", \"plot_bgcolor\": \"rgb(17,17,17)\", \"polar\": {\"angularaxis\": {\"gridcolor\": \"#506784\", \"linecolor\": \"#506784\", \"ticks\": \"\"}, \"bgcolor\": \"rgb(17,17,17)\", \"radialaxis\": {\"gridcolor\": \"#506784\", \"linecolor\": \"#506784\", \"ticks\": \"\"}}, \"scene\": {\"xaxis\": {\"backgroundcolor\": \"rgb(17,17,17)\", \"gridcolor\": \"#506784\", \"gridwidth\": 2, \"linecolor\": \"#506784\", \"showbackground\": true, \"ticks\": \"\", \"zerolinecolor\": \"#C8D4E3\"}, \"yaxis\": {\"backgroundcolor\": \"rgb(17,17,17)\", \"gridcolor\": \"#506784\", \"gridwidth\": 2, \"linecolor\": \"#506784\", \"showbackground\": true, \"ticks\": \"\", \"zerolinecolor\": \"#C8D4E3\"}, \"zaxis\": {\"backgroundcolor\": \"rgb(17,17,17)\", \"gridcolor\": \"#506784\", \"gridwidth\": 2, \"linecolor\": \"#506784\", \"showbackground\": true, \"ticks\": \"\", \"zerolinecolor\": \"#C8D4E3\"}}, \"shapedefaults\": {\"line\": {\"color\": \"#f2f5fa\"}}, \"sliderdefaults\": {\"bgcolor\": \"#C8D4E3\", \"bordercolor\": \"rgb(17,17,17)\", \"borderwidth\": 1, \"tickwidth\": 0}, \"ternary\": {\"aaxis\": {\"gridcolor\": \"#506784\", \"linecolor\": \"#506784\", \"ticks\": \"\"}, \"baxis\": {\"gridcolor\": \"#506784\", \"linecolor\": \"#506784\", \"ticks\": \"\"}, \"bgcolor\": \"rgb(17,17,17)\", \"caxis\": {\"gridcolor\": \"#506784\", \"linecolor\": \"#506784\", \"ticks\": \"\"}}, \"title\": {\"x\": 0.05}, \"updatemenudefaults\": {\"bgcolor\": \"#506784\", \"borderwidth\": 0}, \"xaxis\": {\"automargin\": true, \"gridcolor\": \"#283442\", \"linecolor\": \"#506784\", \"ticks\": \"\", \"zerolinecolor\": \"#283442\", \"zerolinewidth\": 2}, \"yaxis\": {\"automargin\": true, \"gridcolor\": \"#283442\", \"linecolor\": \"#506784\", \"ticks\": \"\", \"zerolinecolor\": \"#283442\", \"zerolinewidth\": 2}}}, \"title\": {\"font\": {\"color\": \"Cyan\", \"size\": 14}, \"text\": \"<b>COVID19 RECOVERY RATE OF AFRICAN COUNTRIES/TERRITORIES: November 19, 2020</b>\", \"x\": 0.5, \"xanchor\": \"center\", \"y\": 0.93, \"yanchor\": \"top\"}, \"width\": 1000, \"xaxis\": {\"title\": {\"font\": {\"color\": \"#BDBDBD\", \"size\": 18}, \"text\": \"<b>Recovery Rate(%)</b>\"}}, \"yaxis\": {\"tickprefix\": \"      \", \"title\": {\"font\": {\"color\": \"#BDBDBD\", \"size\": 18}, \"text\": \"<b>Country</b>\"}}},\n",
       "                        {\"responsive\": true}\n",
       "                    ).then(function(){\n",
       "                            \n",
       "var gd = document.getElementById('49a7e9c5-25e1-4b71-b859-f9572d85e972');\n",
       "var x = new MutationObserver(function (mutations, observer) {{\n",
       "        var display = window.getComputedStyle(gd).display;\n",
       "        if (!display || display === 'none') {{\n",
       "            console.log([gd, 'removed!']);\n",
       "            Plotly.purge(gd);\n",
       "            observer.disconnect();\n",
       "        }}\n",
       "}});\n",
       "\n",
       "// Listen for the removal of the full notebook cells\n",
       "var notebookContainer = gd.closest('#notebook-container');\n",
       "if (notebookContainer) {{\n",
       "    x.observe(notebookContainer, {childList: true});\n",
       "}}\n",
       "\n",
       "// Listen for the clearing of the current output cell\n",
       "var outputEl = gd.closest('.output');\n",
       "if (outputEl) {{\n",
       "    x.observe(outputEl, {childList: true});\n",
       "}}\n",
       "\n",
       "                        })\n",
       "                };\n",
       "                });\n",
       "            </script>\n",
       "        </div>"
      ]
     },
     "metadata": {},
     "output_type": "display_data"
    }
   ],
   "source": [
    "fig = go.Figure()\n",
    "\n",
    "fig.add_trace(go.Bar(y = african_confirmed100['Country_Other'][::-1],x=african_confirmed100['RecoveryRate'][::-1],\n",
    "                     text=african_confirmed100['RecoveryRate'][::-1],textposition='outside',name = \"Afria\",marker_color='LimeGreen',orientation='h',\n",
    "#                   \n",
    "))\n",
    "fig.update_layout(\n",
    "    template='plotly_dark',\n",
    "    title={\n",
    "        'text': '<b>COVID19 RECOVERY RATE OF AFRICAN COUNTRIES/TERRITORIES: '  + date_string +'</b>',\n",
    "        'y':0.93,\n",
    "        'x':0.5,\n",
    "        'xanchor': 'center',\n",
    "        'yanchor': 'top',\n",
    "        'font_color':'Cyan',\n",
    "        'font_size':14},\n",
    "    xaxis=dict(title='<b>Recovery Rate(%)</b>',titlefont_size=18, titlefont=dict(color='#BDBDBD')),\n",
    "    yaxis=dict(title='<b>Country</b>',titlefont_size=18, tickprefix=\"      \", titlefont=dict(color='#BDBDBD')),\n",
    "    autosize=False,\n",
    "    width=1000,\n",
    "    height=1000,     \n",
    ")\n",
    "\n",
    "fig.show()\n"
   ]
  },
  {
   "cell_type": "markdown",
   "metadata": {},
   "source": [
    "[Return to top](#top)\n",
    "##  Mortality Rate of Countries with up to 100 Confirmed Cases"
   ]
  },
  {
   "cell_type": "code",
   "execution_count": 62,
   "metadata": {},
   "outputs": [
    {
     "data": {
      "text/html": [
       "<div>\n",
       "<style scoped>\n",
       "    .dataframe tbody tr th:only-of-type {\n",
       "        vertical-align: middle;\n",
       "    }\n",
       "\n",
       "    .dataframe tbody tr th {\n",
       "        vertical-align: top;\n",
       "    }\n",
       "\n",
       "    .dataframe thead th {\n",
       "        text-align: right;\n",
       "    }\n",
       "</style>\n",
       "<table border=\"1\" class=\"dataframe\">\n",
       "  <thead>\n",
       "    <tr style=\"text-align: right;\">\n",
       "      <th></th>\n",
       "      <th>Country_Other</th>\n",
       "      <th>Total_Cases</th>\n",
       "      <th>Total_Deaths</th>\n",
       "    </tr>\n",
       "  </thead>\n",
       "  <tbody>\n",
       "    <tr>\n",
       "      <td>0</td>\n",
       "      <td>South Africa</td>\n",
       "      <td>759658</td>\n",
       "      <td>20671</td>\n",
       "    </tr>\n",
       "    <tr>\n",
       "      <td>1</td>\n",
       "      <td>Morocco</td>\n",
       "      <td>311554</td>\n",
       "      <td>5090</td>\n",
       "    </tr>\n",
       "    <tr>\n",
       "      <td>2</td>\n",
       "      <td>Egypt</td>\n",
       "      <td>111955</td>\n",
       "      <td>6508</td>\n",
       "    </tr>\n",
       "  </tbody>\n",
       "</table>\n",
       "</div>"
      ],
      "text/plain": [
       "  Country_Other  Total_Cases  Total_Deaths\n",
       "0  South Africa       759658         20671\n",
       "1       Morocco       311554          5090\n",
       "2         Egypt       111955          6508"
      ]
     },
     "execution_count": 62,
     "metadata": {},
     "output_type": "execute_result"
    }
   ],
   "source": [
    "african_mortality_rate =  pd.DataFrame()\n",
    "african_mortality_rate['Country_Other'] = african_countries_inview['Country_Other']\n",
    "african_mortality_rate['Total_Cases'] = african_countries_inview['Total_Cases']\n",
    "african_mortality_rate['Total_Deaths'] = african_countries_inview['Total_Deaths']\n",
    "african_mortality_rate.head(3)"
   ]
  },
  {
   "cell_type": "code",
   "execution_count": 63,
   "metadata": {},
   "outputs": [
    {
     "data": {
      "text/html": [
       "<div>\n",
       "<style scoped>\n",
       "    .dataframe tbody tr th:only-of-type {\n",
       "        vertical-align: middle;\n",
       "    }\n",
       "\n",
       "    .dataframe tbody tr th {\n",
       "        vertical-align: top;\n",
       "    }\n",
       "\n",
       "    .dataframe thead th {\n",
       "        text-align: right;\n",
       "    }\n",
       "</style>\n",
       "<table border=\"1\" class=\"dataframe\">\n",
       "  <thead>\n",
       "    <tr style=\"text-align: right;\">\n",
       "      <th></th>\n",
       "      <th>Country_Other</th>\n",
       "      <th>Total_Cases</th>\n",
       "      <th>Total_Deaths</th>\n",
       "      <th>Mortality_Rate</th>\n",
       "    </tr>\n",
       "  </thead>\n",
       "  <tbody>\n",
       "    <tr>\n",
       "      <td>0</td>\n",
       "      <td>South Africa</td>\n",
       "      <td>759658</td>\n",
       "      <td>20671</td>\n",
       "      <td>2.72</td>\n",
       "    </tr>\n",
       "    <tr>\n",
       "      <td>1</td>\n",
       "      <td>Morocco</td>\n",
       "      <td>311554</td>\n",
       "      <td>5090</td>\n",
       "      <td>1.63</td>\n",
       "    </tr>\n",
       "    <tr>\n",
       "      <td>2</td>\n",
       "      <td>Egypt</td>\n",
       "      <td>111955</td>\n",
       "      <td>6508</td>\n",
       "      <td>5.81</td>\n",
       "    </tr>\n",
       "  </tbody>\n",
       "</table>\n",
       "</div>"
      ],
      "text/plain": [
       "  Country_Other  Total_Cases  Total_Deaths  Mortality_Rate\n",
       "0  South Africa       759658         20671            2.72\n",
       "1       Morocco       311554          5090            1.63\n",
       "2         Egypt       111955          6508            5.81"
      ]
     },
     "execution_count": 63,
     "metadata": {},
     "output_type": "execute_result"
    }
   ],
   "source": [
    "african_mortality_rate['Mortality_Rate'] = round((african_countries_inview['Total_Deaths']/african_countries_inview['Total_Cases'])*100,2)\n",
    "\n",
    "african_mortality_rate.head(3)"
   ]
  },
  {
   "cell_type": "code",
   "execution_count": 64,
   "metadata": {},
   "outputs": [
    {
     "data": {
      "text/html": [
       "<div>\n",
       "<style scoped>\n",
       "    .dataframe tbody tr th:only-of-type {\n",
       "        vertical-align: middle;\n",
       "    }\n",
       "\n",
       "    .dataframe tbody tr th {\n",
       "        vertical-align: top;\n",
       "    }\n",
       "\n",
       "    .dataframe thead th {\n",
       "        text-align: right;\n",
       "    }\n",
       "</style>\n",
       "<table border=\"1\" class=\"dataframe\">\n",
       "  <thead>\n",
       "    <tr style=\"text-align: right;\">\n",
       "      <th></th>\n",
       "      <th>Country_Other</th>\n",
       "      <th>Total_Cases</th>\n",
       "      <th>Total_Deaths</th>\n",
       "      <th>Mortality_Rate</th>\n",
       "    </tr>\n",
       "  </thead>\n",
       "  <tbody>\n",
       "    <tr>\n",
       "      <td>0</td>\n",
       "      <td>Sudan</td>\n",
       "      <td>15299</td>\n",
       "      <td>1179</td>\n",
       "      <td>7.71</td>\n",
       "    </tr>\n",
       "    <tr>\n",
       "      <td>1</td>\n",
       "      <td>Chad</td>\n",
       "      <td>1620</td>\n",
       "      <td>101</td>\n",
       "      <td>6.23</td>\n",
       "    </tr>\n",
       "    <tr>\n",
       "      <td>2</td>\n",
       "      <td>Egypt</td>\n",
       "      <td>111955</td>\n",
       "      <td>6508</td>\n",
       "      <td>5.81</td>\n",
       "    </tr>\n",
       "  </tbody>\n",
       "</table>\n",
       "</div>"
      ],
      "text/plain": [
       "  Country_Other  Total_Cases  Total_Deaths  Mortality_Rate\n",
       "0         Sudan        15299          1179            7.71\n",
       "1          Chad         1620           101            6.23\n",
       "2         Egypt       111955          6508            5.81"
      ]
     },
     "execution_count": 64,
     "metadata": {},
     "output_type": "execute_result"
    }
   ],
   "source": [
    "african_mortality100 = african_mortality_rate[african_mortality_rate['Total_Cases']>=100]\n",
    "african_mortality100 = african_mortality100.sort_values('Mortality_Rate', ascending=False)\n",
    "african_mortality100.reset_index(drop=True, inplace=True)\n",
    "african_mortality100.head(3)"
   ]
  },
  {
   "cell_type": "markdown",
   "metadata": {},
   "source": [
    "<a id='mortality'></a>"
   ]
  },
  {
   "cell_type": "code",
   "execution_count": 65,
   "metadata": {},
   "outputs": [
    {
     "data": {
      "application/vnd.plotly.v1+json": {
       "config": {
        "plotlyServerURL": "https://plot.ly"
       },
       "data": [
        {
         "marker": {
          "color": "Crimson"
         },
         "name": "Afria",
         "orientation": "h",
         "text": [
          0,
          0,
          0.16,
          0.32,
          0.47,
          0.59,
          0.61,
          0.64,
          0.65,
          0.82,
          0.83,
          0.92,
          0.95,
          1.03,
          1.03,
          1.08,
          1.18,
          1.28,
          1.4,
          1.44,
          1.47,
          1.54,
          1.63,
          1.64,
          1.65,
          1.66,
          1.77,
          1.78,
          1.79,
          1.85,
          1.93,
          1.96,
          2.02,
          2.05,
          2.08,
          2.09,
          2.13,
          2.27,
          2.36,
          2.46,
          2.53,
          2.69,
          2.72,
          2.93,
          3.03,
          3.08,
          3.09,
          3.1,
          3.29,
          3.47,
          4.13,
          5.24,
          5.33,
          5.81,
          6.23,
          7.71
         ],
         "textposition": "outside",
         "type": "bar",
         "x": [
          0,
          0,
          0.16,
          0.32,
          0.47,
          0.59,
          0.61,
          0.64,
          0.65,
          0.82,
          0.83,
          0.92,
          0.95,
          1.03,
          1.03,
          1.08,
          1.18,
          1.28,
          1.4,
          1.44,
          1.47,
          1.54,
          1.63,
          1.64,
          1.65,
          1.66,
          1.77,
          1.78,
          1.79,
          1.85,
          1.93,
          1.96,
          2.02,
          2.05,
          2.08,
          2.09,
          2.13,
          2.27,
          2.36,
          2.46,
          2.53,
          2.69,
          2.72,
          2.93,
          3.03,
          3.08,
          3.09,
          3.1,
          3.29,
          3.47,
          4.13,
          5.24,
          5.33,
          5.81,
          6.23,
          7.71
         ],
         "y": [
          "Seychelles",
          "Eritrea",
          "Burundi",
          "Botswana",
          "Réunion",
          "Guinea",
          "Ivory Coast",
          "Ghana",
          "Gabon",
          "Mozambique",
          "Rwanda",
          "Uganda",
          "Mayotte",
          "Namibia",
          "Cabo Verde",
          "Djibouti",
          "Comoros",
          "CAR",
          "Libya",
          "Madagascar",
          "Benin",
          "Ethiopia",
          "Morocco",
          "Sao Tome and Principe",
          "Congo",
          "Equatorial Guinea",
          "Nigeria",
          "Guinea-Bissau",
          "Kenya",
          "Cameroon",
          "Eswatini",
          "South Sudan",
          "Mauritius",
          "Zambia",
          "Senegal",
          "Mauritania",
          "Lesotho",
          "Togo",
          "Angola",
          "Somalia",
          "Burkina Faso",
          "DRC",
          "South Africa",
          "Zimbabwe",
          "Tunisia",
          "Malawi",
          "Sierra Leone",
          "Algeria",
          "Gambia",
          "Mali",
          "Tanzania",
          "Niger",
          "Liberia",
          "Egypt",
          "Chad",
          "Sudan"
         ]
        }
       ],
       "layout": {
        "autosize": false,
        "height": 1000,
        "template": {
         "data": {
          "bar": [
           {
            "error_x": {
             "color": "#f2f5fa"
            },
            "error_y": {
             "color": "#f2f5fa"
            },
            "marker": {
             "line": {
              "color": "rgb(17,17,17)",
              "width": 0.5
             }
            },
            "type": "bar"
           }
          ],
          "barpolar": [
           {
            "marker": {
             "line": {
              "color": "rgb(17,17,17)",
              "width": 0.5
             }
            },
            "type": "barpolar"
           }
          ],
          "carpet": [
           {
            "aaxis": {
             "endlinecolor": "#A2B1C6",
             "gridcolor": "#506784",
             "linecolor": "#506784",
             "minorgridcolor": "#506784",
             "startlinecolor": "#A2B1C6"
            },
            "baxis": {
             "endlinecolor": "#A2B1C6",
             "gridcolor": "#506784",
             "linecolor": "#506784",
             "minorgridcolor": "#506784",
             "startlinecolor": "#A2B1C6"
            },
            "type": "carpet"
           }
          ],
          "choropleth": [
           {
            "colorbar": {
             "outlinewidth": 0,
             "ticks": ""
            },
            "type": "choropleth"
           }
          ],
          "contour": [
           {
            "colorbar": {
             "outlinewidth": 0,
             "ticks": ""
            },
            "colorscale": [
             [
              0,
              "#0d0887"
             ],
             [
              0.1111111111111111,
              "#46039f"
             ],
             [
              0.2222222222222222,
              "#7201a8"
             ],
             [
              0.3333333333333333,
              "#9c179e"
             ],
             [
              0.4444444444444444,
              "#bd3786"
             ],
             [
              0.5555555555555556,
              "#d8576b"
             ],
             [
              0.6666666666666666,
              "#ed7953"
             ],
             [
              0.7777777777777778,
              "#fb9f3a"
             ],
             [
              0.8888888888888888,
              "#fdca26"
             ],
             [
              1,
              "#f0f921"
             ]
            ],
            "type": "contour"
           }
          ],
          "contourcarpet": [
           {
            "colorbar": {
             "outlinewidth": 0,
             "ticks": ""
            },
            "type": "contourcarpet"
           }
          ],
          "heatmap": [
           {
            "colorbar": {
             "outlinewidth": 0,
             "ticks": ""
            },
            "colorscale": [
             [
              0,
              "#0d0887"
             ],
             [
              0.1111111111111111,
              "#46039f"
             ],
             [
              0.2222222222222222,
              "#7201a8"
             ],
             [
              0.3333333333333333,
              "#9c179e"
             ],
             [
              0.4444444444444444,
              "#bd3786"
             ],
             [
              0.5555555555555556,
              "#d8576b"
             ],
             [
              0.6666666666666666,
              "#ed7953"
             ],
             [
              0.7777777777777778,
              "#fb9f3a"
             ],
             [
              0.8888888888888888,
              "#fdca26"
             ],
             [
              1,
              "#f0f921"
             ]
            ],
            "type": "heatmap"
           }
          ],
          "heatmapgl": [
           {
            "colorbar": {
             "outlinewidth": 0,
             "ticks": ""
            },
            "colorscale": [
             [
              0,
              "#0d0887"
             ],
             [
              0.1111111111111111,
              "#46039f"
             ],
             [
              0.2222222222222222,
              "#7201a8"
             ],
             [
              0.3333333333333333,
              "#9c179e"
             ],
             [
              0.4444444444444444,
              "#bd3786"
             ],
             [
              0.5555555555555556,
              "#d8576b"
             ],
             [
              0.6666666666666666,
              "#ed7953"
             ],
             [
              0.7777777777777778,
              "#fb9f3a"
             ],
             [
              0.8888888888888888,
              "#fdca26"
             ],
             [
              1,
              "#f0f921"
             ]
            ],
            "type": "heatmapgl"
           }
          ],
          "histogram": [
           {
            "marker": {
             "colorbar": {
              "outlinewidth": 0,
              "ticks": ""
             }
            },
            "type": "histogram"
           }
          ],
          "histogram2d": [
           {
            "colorbar": {
             "outlinewidth": 0,
             "ticks": ""
            },
            "colorscale": [
             [
              0,
              "#0d0887"
             ],
             [
              0.1111111111111111,
              "#46039f"
             ],
             [
              0.2222222222222222,
              "#7201a8"
             ],
             [
              0.3333333333333333,
              "#9c179e"
             ],
             [
              0.4444444444444444,
              "#bd3786"
             ],
             [
              0.5555555555555556,
              "#d8576b"
             ],
             [
              0.6666666666666666,
              "#ed7953"
             ],
             [
              0.7777777777777778,
              "#fb9f3a"
             ],
             [
              0.8888888888888888,
              "#fdca26"
             ],
             [
              1,
              "#f0f921"
             ]
            ],
            "type": "histogram2d"
           }
          ],
          "histogram2dcontour": [
           {
            "colorbar": {
             "outlinewidth": 0,
             "ticks": ""
            },
            "colorscale": [
             [
              0,
              "#0d0887"
             ],
             [
              0.1111111111111111,
              "#46039f"
             ],
             [
              0.2222222222222222,
              "#7201a8"
             ],
             [
              0.3333333333333333,
              "#9c179e"
             ],
             [
              0.4444444444444444,
              "#bd3786"
             ],
             [
              0.5555555555555556,
              "#d8576b"
             ],
             [
              0.6666666666666666,
              "#ed7953"
             ],
             [
              0.7777777777777778,
              "#fb9f3a"
             ],
             [
              0.8888888888888888,
              "#fdca26"
             ],
             [
              1,
              "#f0f921"
             ]
            ],
            "type": "histogram2dcontour"
           }
          ],
          "mesh3d": [
           {
            "colorbar": {
             "outlinewidth": 0,
             "ticks": ""
            },
            "type": "mesh3d"
           }
          ],
          "parcoords": [
           {
            "line": {
             "colorbar": {
              "outlinewidth": 0,
              "ticks": ""
             }
            },
            "type": "parcoords"
           }
          ],
          "scatter": [
           {
            "marker": {
             "line": {
              "color": "#283442"
             }
            },
            "type": "scatter"
           }
          ],
          "scatter3d": [
           {
            "line": {
             "colorbar": {
              "outlinewidth": 0,
              "ticks": ""
             }
            },
            "marker": {
             "colorbar": {
              "outlinewidth": 0,
              "ticks": ""
             }
            },
            "type": "scatter3d"
           }
          ],
          "scattercarpet": [
           {
            "marker": {
             "colorbar": {
              "outlinewidth": 0,
              "ticks": ""
             }
            },
            "type": "scattercarpet"
           }
          ],
          "scattergeo": [
           {
            "marker": {
             "colorbar": {
              "outlinewidth": 0,
              "ticks": ""
             }
            },
            "type": "scattergeo"
           }
          ],
          "scattergl": [
           {
            "marker": {
             "line": {
              "color": "#283442"
             }
            },
            "type": "scattergl"
           }
          ],
          "scattermapbox": [
           {
            "marker": {
             "colorbar": {
              "outlinewidth": 0,
              "ticks": ""
             }
            },
            "type": "scattermapbox"
           }
          ],
          "scatterpolar": [
           {
            "marker": {
             "colorbar": {
              "outlinewidth": 0,
              "ticks": ""
             }
            },
            "type": "scatterpolar"
           }
          ],
          "scatterpolargl": [
           {
            "marker": {
             "colorbar": {
              "outlinewidth": 0,
              "ticks": ""
             }
            },
            "type": "scatterpolargl"
           }
          ],
          "scatterternary": [
           {
            "marker": {
             "colorbar": {
              "outlinewidth": 0,
              "ticks": ""
             }
            },
            "type": "scatterternary"
           }
          ],
          "surface": [
           {
            "colorbar": {
             "outlinewidth": 0,
             "ticks": ""
            },
            "colorscale": [
             [
              0,
              "#0d0887"
             ],
             [
              0.1111111111111111,
              "#46039f"
             ],
             [
              0.2222222222222222,
              "#7201a8"
             ],
             [
              0.3333333333333333,
              "#9c179e"
             ],
             [
              0.4444444444444444,
              "#bd3786"
             ],
             [
              0.5555555555555556,
              "#d8576b"
             ],
             [
              0.6666666666666666,
              "#ed7953"
             ],
             [
              0.7777777777777778,
              "#fb9f3a"
             ],
             [
              0.8888888888888888,
              "#fdca26"
             ],
             [
              1,
              "#f0f921"
             ]
            ],
            "type": "surface"
           }
          ],
          "table": [
           {
            "cells": {
             "fill": {
              "color": "#506784"
             },
             "line": {
              "color": "rgb(17,17,17)"
             }
            },
            "header": {
             "fill": {
              "color": "#2a3f5f"
             },
             "line": {
              "color": "rgb(17,17,17)"
             }
            },
            "type": "table"
           }
          ]
         },
         "layout": {
          "annotationdefaults": {
           "arrowcolor": "#f2f5fa",
           "arrowhead": 0,
           "arrowwidth": 1
          },
          "colorscale": {
           "diverging": [
            [
             0,
             "#8e0152"
            ],
            [
             0.1,
             "#c51b7d"
            ],
            [
             0.2,
             "#de77ae"
            ],
            [
             0.3,
             "#f1b6da"
            ],
            [
             0.4,
             "#fde0ef"
            ],
            [
             0.5,
             "#f7f7f7"
            ],
            [
             0.6,
             "#e6f5d0"
            ],
            [
             0.7,
             "#b8e186"
            ],
            [
             0.8,
             "#7fbc41"
            ],
            [
             0.9,
             "#4d9221"
            ],
            [
             1,
             "#276419"
            ]
           ],
           "sequential": [
            [
             0,
             "#0d0887"
            ],
            [
             0.1111111111111111,
             "#46039f"
            ],
            [
             0.2222222222222222,
             "#7201a8"
            ],
            [
             0.3333333333333333,
             "#9c179e"
            ],
            [
             0.4444444444444444,
             "#bd3786"
            ],
            [
             0.5555555555555556,
             "#d8576b"
            ],
            [
             0.6666666666666666,
             "#ed7953"
            ],
            [
             0.7777777777777778,
             "#fb9f3a"
            ],
            [
             0.8888888888888888,
             "#fdca26"
            ],
            [
             1,
             "#f0f921"
            ]
           ],
           "sequentialminus": [
            [
             0,
             "#0d0887"
            ],
            [
             0.1111111111111111,
             "#46039f"
            ],
            [
             0.2222222222222222,
             "#7201a8"
            ],
            [
             0.3333333333333333,
             "#9c179e"
            ],
            [
             0.4444444444444444,
             "#bd3786"
            ],
            [
             0.5555555555555556,
             "#d8576b"
            ],
            [
             0.6666666666666666,
             "#ed7953"
            ],
            [
             0.7777777777777778,
             "#fb9f3a"
            ],
            [
             0.8888888888888888,
             "#fdca26"
            ],
            [
             1,
             "#f0f921"
            ]
           ]
          },
          "colorway": [
           "#636efa",
           "#EF553B",
           "#00cc96",
           "#ab63fa",
           "#FFA15A",
           "#19d3f3",
           "#FF6692",
           "#B6E880",
           "#FF97FF",
           "#FECB52"
          ],
          "font": {
           "color": "#f2f5fa"
          },
          "geo": {
           "bgcolor": "rgb(17,17,17)",
           "lakecolor": "rgb(17,17,17)",
           "landcolor": "rgb(17,17,17)",
           "showlakes": true,
           "showland": true,
           "subunitcolor": "#506784"
          },
          "hoverlabel": {
           "align": "left"
          },
          "hovermode": "closest",
          "mapbox": {
           "style": "dark"
          },
          "paper_bgcolor": "rgb(17,17,17)",
          "plot_bgcolor": "rgb(17,17,17)",
          "polar": {
           "angularaxis": {
            "gridcolor": "#506784",
            "linecolor": "#506784",
            "ticks": ""
           },
           "bgcolor": "rgb(17,17,17)",
           "radialaxis": {
            "gridcolor": "#506784",
            "linecolor": "#506784",
            "ticks": ""
           }
          },
          "scene": {
           "xaxis": {
            "backgroundcolor": "rgb(17,17,17)",
            "gridcolor": "#506784",
            "gridwidth": 2,
            "linecolor": "#506784",
            "showbackground": true,
            "ticks": "",
            "zerolinecolor": "#C8D4E3"
           },
           "yaxis": {
            "backgroundcolor": "rgb(17,17,17)",
            "gridcolor": "#506784",
            "gridwidth": 2,
            "linecolor": "#506784",
            "showbackground": true,
            "ticks": "",
            "zerolinecolor": "#C8D4E3"
           },
           "zaxis": {
            "backgroundcolor": "rgb(17,17,17)",
            "gridcolor": "#506784",
            "gridwidth": 2,
            "linecolor": "#506784",
            "showbackground": true,
            "ticks": "",
            "zerolinecolor": "#C8D4E3"
           }
          },
          "shapedefaults": {
           "line": {
            "color": "#f2f5fa"
           }
          },
          "sliderdefaults": {
           "bgcolor": "#C8D4E3",
           "bordercolor": "rgb(17,17,17)",
           "borderwidth": 1,
           "tickwidth": 0
          },
          "ternary": {
           "aaxis": {
            "gridcolor": "#506784",
            "linecolor": "#506784",
            "ticks": ""
           },
           "baxis": {
            "gridcolor": "#506784",
            "linecolor": "#506784",
            "ticks": ""
           },
           "bgcolor": "rgb(17,17,17)",
           "caxis": {
            "gridcolor": "#506784",
            "linecolor": "#506784",
            "ticks": ""
           }
          },
          "title": {
           "x": 0.05
          },
          "updatemenudefaults": {
           "bgcolor": "#506784",
           "borderwidth": 0
          },
          "xaxis": {
           "automargin": true,
           "gridcolor": "#283442",
           "linecolor": "#506784",
           "ticks": "",
           "zerolinecolor": "#283442",
           "zerolinewidth": 2
          },
          "yaxis": {
           "automargin": true,
           "gridcolor": "#283442",
           "linecolor": "#506784",
           "ticks": "",
           "zerolinecolor": "#283442",
           "zerolinewidth": 2
          }
         }
        },
        "title": {
         "font": {
          "color": "Cyan",
          "size": 12
         },
         "text": "<b>COVID19 MORTALITY RATE OF AFRICAN COUNTRIES/TERRITORIES: November 19, 2020</b>",
         "x": 0.55,
         "xanchor": "center",
         "y": 0.93,
         "yanchor": "top"
        },
        "width": 800,
        "xaxis": {
         "title": {
          "font": {
           "color": "#BDBDBD",
           "size": 18
          },
          "text": "<b>Mortality Rate(%)</b>"
         }
        },
        "yaxis": {
         "tickprefix": "      ",
         "title": {
          "font": {
           "color": "#BDBDBD",
           "size": 18
          },
          "text": "<b>Country</b>"
         }
        }
       }
      },
      "text/html": [
       "<div>\n",
       "        \n",
       "        \n",
       "            <div id=\"a21868ff-3452-4b04-9a03-0be2b6d64cfb\" class=\"plotly-graph-div\" style=\"height:1000px; width:800px;\"></div>\n",
       "            <script type=\"text/javascript\">\n",
       "                require([\"plotly\"], function(Plotly) {\n",
       "                    window.PLOTLYENV=window.PLOTLYENV || {};\n",
       "                    \n",
       "                if (document.getElementById(\"a21868ff-3452-4b04-9a03-0be2b6d64cfb\")) {\n",
       "                    Plotly.newPlot(\n",
       "                        'a21868ff-3452-4b04-9a03-0be2b6d64cfb',\n",
       "                        [{\"marker\": {\"color\": \"Crimson\"}, \"name\": \"Afria\", \"orientation\": \"h\", \"text\": [0.0, 0.0, 0.16, 0.32, 0.47, 0.59, 0.61, 0.64, 0.65, 0.82, 0.83, 0.92, 0.95, 1.03, 1.03, 1.08, 1.18, 1.28, 1.4, 1.44, 1.47, 1.54, 1.63, 1.64, 1.65, 1.66, 1.77, 1.78, 1.79, 1.85, 1.93, 1.96, 2.02, 2.05, 2.08, 2.09, 2.13, 2.27, 2.36, 2.46, 2.53, 2.69, 2.72, 2.93, 3.03, 3.08, 3.09, 3.1, 3.29, 3.47, 4.13, 5.24, 5.33, 5.81, 6.23, 7.71], \"textposition\": \"outside\", \"type\": \"bar\", \"x\": [0.0, 0.0, 0.16, 0.32, 0.47, 0.59, 0.61, 0.64, 0.65, 0.82, 0.83, 0.92, 0.95, 1.03, 1.03, 1.08, 1.18, 1.28, 1.4, 1.44, 1.47, 1.54, 1.63, 1.64, 1.65, 1.66, 1.77, 1.78, 1.79, 1.85, 1.93, 1.96, 2.02, 2.05, 2.08, 2.09, 2.13, 2.27, 2.36, 2.46, 2.53, 2.69, 2.72, 2.93, 3.03, 3.08, 3.09, 3.1, 3.29, 3.47, 4.13, 5.24, 5.33, 5.81, 6.23, 7.71], \"y\": [\"Seychelles\", \"Eritrea\", \"Burundi\", \"Botswana\", \"R\\u00e9union\", \"Guinea\", \"Ivory Coast\", \"Ghana\", \"Gabon\", \"Mozambique\", \"Rwanda\", \"Uganda\", \"Mayotte\", \"Namibia\", \"Cabo Verde\", \"Djibouti\", \"Comoros\", \"CAR\", \"Libya\", \"Madagascar\", \"Benin\", \"Ethiopia\", \"Morocco\", \"Sao Tome and Principe\", \"Congo\", \"Equatorial Guinea\", \"Nigeria\", \"Guinea-Bissau\", \"Kenya\", \"Cameroon\", \"Eswatini\", \"South Sudan\", \"Mauritius\", \"Zambia\", \"Senegal\", \"Mauritania\", \"Lesotho\", \"Togo\", \"Angola\", \"Somalia\", \"Burkina Faso\", \"DRC\", \"South Africa\", \"Zimbabwe\", \"Tunisia\", \"Malawi\", \"Sierra Leone\", \"Algeria\", \"Gambia\", \"Mali\", \"Tanzania\", \"Niger\", \"Liberia\", \"Egypt\", \"Chad\", \"Sudan\"]}],\n",
       "                        {\"autosize\": false, \"height\": 1000, \"template\": {\"data\": {\"bar\": [{\"error_x\": {\"color\": \"#f2f5fa\"}, \"error_y\": {\"color\": \"#f2f5fa\"}, \"marker\": {\"line\": {\"color\": \"rgb(17,17,17)\", \"width\": 0.5}}, \"type\": \"bar\"}], \"barpolar\": [{\"marker\": {\"line\": {\"color\": \"rgb(17,17,17)\", \"width\": 0.5}}, \"type\": \"barpolar\"}], \"carpet\": [{\"aaxis\": {\"endlinecolor\": \"#A2B1C6\", \"gridcolor\": \"#506784\", \"linecolor\": \"#506784\", \"minorgridcolor\": \"#506784\", \"startlinecolor\": \"#A2B1C6\"}, \"baxis\": {\"endlinecolor\": \"#A2B1C6\", \"gridcolor\": \"#506784\", \"linecolor\": \"#506784\", \"minorgridcolor\": \"#506784\", \"startlinecolor\": \"#A2B1C6\"}, \"type\": \"carpet\"}], \"choropleth\": [{\"colorbar\": {\"outlinewidth\": 0, \"ticks\": \"\"}, \"type\": \"choropleth\"}], \"contour\": [{\"colorbar\": {\"outlinewidth\": 0, \"ticks\": \"\"}, \"colorscale\": [[0.0, \"#0d0887\"], [0.1111111111111111, \"#46039f\"], [0.2222222222222222, \"#7201a8\"], [0.3333333333333333, \"#9c179e\"], [0.4444444444444444, \"#bd3786\"], [0.5555555555555556, \"#d8576b\"], [0.6666666666666666, \"#ed7953\"], [0.7777777777777778, \"#fb9f3a\"], [0.8888888888888888, \"#fdca26\"], [1.0, \"#f0f921\"]], \"type\": \"contour\"}], \"contourcarpet\": [{\"colorbar\": {\"outlinewidth\": 0, \"ticks\": \"\"}, \"type\": \"contourcarpet\"}], \"heatmap\": [{\"colorbar\": {\"outlinewidth\": 0, \"ticks\": \"\"}, \"colorscale\": [[0.0, \"#0d0887\"], [0.1111111111111111, \"#46039f\"], [0.2222222222222222, \"#7201a8\"], [0.3333333333333333, \"#9c179e\"], [0.4444444444444444, \"#bd3786\"], [0.5555555555555556, \"#d8576b\"], [0.6666666666666666, \"#ed7953\"], [0.7777777777777778, \"#fb9f3a\"], [0.8888888888888888, \"#fdca26\"], [1.0, \"#f0f921\"]], \"type\": \"heatmap\"}], \"heatmapgl\": [{\"colorbar\": {\"outlinewidth\": 0, \"ticks\": \"\"}, \"colorscale\": [[0.0, \"#0d0887\"], [0.1111111111111111, \"#46039f\"], [0.2222222222222222, \"#7201a8\"], [0.3333333333333333, \"#9c179e\"], [0.4444444444444444, \"#bd3786\"], [0.5555555555555556, \"#d8576b\"], [0.6666666666666666, \"#ed7953\"], [0.7777777777777778, \"#fb9f3a\"], [0.8888888888888888, \"#fdca26\"], [1.0, \"#f0f921\"]], \"type\": \"heatmapgl\"}], \"histogram\": [{\"marker\": {\"colorbar\": {\"outlinewidth\": 0, \"ticks\": \"\"}}, \"type\": \"histogram\"}], \"histogram2d\": [{\"colorbar\": {\"outlinewidth\": 0, \"ticks\": \"\"}, \"colorscale\": [[0.0, \"#0d0887\"], [0.1111111111111111, \"#46039f\"], [0.2222222222222222, \"#7201a8\"], [0.3333333333333333, \"#9c179e\"], [0.4444444444444444, \"#bd3786\"], [0.5555555555555556, \"#d8576b\"], [0.6666666666666666, \"#ed7953\"], [0.7777777777777778, \"#fb9f3a\"], [0.8888888888888888, \"#fdca26\"], [1.0, \"#f0f921\"]], \"type\": \"histogram2d\"}], \"histogram2dcontour\": [{\"colorbar\": {\"outlinewidth\": 0, \"ticks\": \"\"}, \"colorscale\": [[0.0, \"#0d0887\"], [0.1111111111111111, \"#46039f\"], [0.2222222222222222, \"#7201a8\"], [0.3333333333333333, \"#9c179e\"], [0.4444444444444444, \"#bd3786\"], [0.5555555555555556, \"#d8576b\"], [0.6666666666666666, \"#ed7953\"], [0.7777777777777778, \"#fb9f3a\"], [0.8888888888888888, \"#fdca26\"], [1.0, \"#f0f921\"]], \"type\": \"histogram2dcontour\"}], \"mesh3d\": [{\"colorbar\": {\"outlinewidth\": 0, \"ticks\": \"\"}, \"type\": \"mesh3d\"}], \"parcoords\": [{\"line\": {\"colorbar\": {\"outlinewidth\": 0, \"ticks\": \"\"}}, \"type\": \"parcoords\"}], \"scatter\": [{\"marker\": {\"line\": {\"color\": \"#283442\"}}, \"type\": \"scatter\"}], \"scatter3d\": [{\"line\": {\"colorbar\": {\"outlinewidth\": 0, \"ticks\": \"\"}}, \"marker\": {\"colorbar\": {\"outlinewidth\": 0, \"ticks\": \"\"}}, \"type\": \"scatter3d\"}], \"scattercarpet\": [{\"marker\": {\"colorbar\": {\"outlinewidth\": 0, \"ticks\": \"\"}}, \"type\": \"scattercarpet\"}], \"scattergeo\": [{\"marker\": {\"colorbar\": {\"outlinewidth\": 0, \"ticks\": \"\"}}, \"type\": \"scattergeo\"}], \"scattergl\": [{\"marker\": {\"line\": {\"color\": \"#283442\"}}, \"type\": \"scattergl\"}], \"scattermapbox\": [{\"marker\": {\"colorbar\": {\"outlinewidth\": 0, \"ticks\": \"\"}}, \"type\": \"scattermapbox\"}], \"scatterpolar\": [{\"marker\": {\"colorbar\": {\"outlinewidth\": 0, \"ticks\": \"\"}}, \"type\": \"scatterpolar\"}], \"scatterpolargl\": [{\"marker\": {\"colorbar\": {\"outlinewidth\": 0, \"ticks\": \"\"}}, \"type\": \"scatterpolargl\"}], \"scatterternary\": [{\"marker\": {\"colorbar\": {\"outlinewidth\": 0, \"ticks\": \"\"}}, \"type\": \"scatterternary\"}], \"surface\": [{\"colorbar\": {\"outlinewidth\": 0, \"ticks\": \"\"}, \"colorscale\": [[0.0, \"#0d0887\"], [0.1111111111111111, \"#46039f\"], [0.2222222222222222, \"#7201a8\"], [0.3333333333333333, \"#9c179e\"], [0.4444444444444444, \"#bd3786\"], [0.5555555555555556, \"#d8576b\"], [0.6666666666666666, \"#ed7953\"], [0.7777777777777778, \"#fb9f3a\"], [0.8888888888888888, \"#fdca26\"], [1.0, \"#f0f921\"]], \"type\": \"surface\"}], \"table\": [{\"cells\": {\"fill\": {\"color\": \"#506784\"}, \"line\": {\"color\": \"rgb(17,17,17)\"}}, \"header\": {\"fill\": {\"color\": \"#2a3f5f\"}, \"line\": {\"color\": \"rgb(17,17,17)\"}}, \"type\": \"table\"}]}, \"layout\": {\"annotationdefaults\": {\"arrowcolor\": \"#f2f5fa\", \"arrowhead\": 0, \"arrowwidth\": 1}, \"colorscale\": {\"diverging\": [[0, \"#8e0152\"], [0.1, \"#c51b7d\"], [0.2, \"#de77ae\"], [0.3, \"#f1b6da\"], [0.4, \"#fde0ef\"], [0.5, \"#f7f7f7\"], [0.6, \"#e6f5d0\"], [0.7, \"#b8e186\"], [0.8, \"#7fbc41\"], [0.9, \"#4d9221\"], [1, \"#276419\"]], \"sequential\": [[0.0, \"#0d0887\"], [0.1111111111111111, \"#46039f\"], [0.2222222222222222, \"#7201a8\"], [0.3333333333333333, \"#9c179e\"], [0.4444444444444444, \"#bd3786\"], [0.5555555555555556, \"#d8576b\"], [0.6666666666666666, \"#ed7953\"], [0.7777777777777778, \"#fb9f3a\"], [0.8888888888888888, \"#fdca26\"], [1.0, \"#f0f921\"]], \"sequentialminus\": [[0.0, \"#0d0887\"], [0.1111111111111111, \"#46039f\"], [0.2222222222222222, \"#7201a8\"], [0.3333333333333333, \"#9c179e\"], [0.4444444444444444, \"#bd3786\"], [0.5555555555555556, \"#d8576b\"], [0.6666666666666666, \"#ed7953\"], [0.7777777777777778, \"#fb9f3a\"], [0.8888888888888888, \"#fdca26\"], [1.0, \"#f0f921\"]]}, \"colorway\": [\"#636efa\", \"#EF553B\", \"#00cc96\", \"#ab63fa\", \"#FFA15A\", \"#19d3f3\", \"#FF6692\", \"#B6E880\", \"#FF97FF\", \"#FECB52\"], \"font\": {\"color\": \"#f2f5fa\"}, \"geo\": {\"bgcolor\": \"rgb(17,17,17)\", \"lakecolor\": \"rgb(17,17,17)\", \"landcolor\": \"rgb(17,17,17)\", \"showlakes\": true, \"showland\": true, \"subunitcolor\": \"#506784\"}, \"hoverlabel\": {\"align\": \"left\"}, \"hovermode\": \"closest\", \"mapbox\": {\"style\": \"dark\"}, \"paper_bgcolor\": \"rgb(17,17,17)\", \"plot_bgcolor\": \"rgb(17,17,17)\", \"polar\": {\"angularaxis\": {\"gridcolor\": \"#506784\", \"linecolor\": \"#506784\", \"ticks\": \"\"}, \"bgcolor\": \"rgb(17,17,17)\", \"radialaxis\": {\"gridcolor\": \"#506784\", \"linecolor\": \"#506784\", \"ticks\": \"\"}}, \"scene\": {\"xaxis\": {\"backgroundcolor\": \"rgb(17,17,17)\", \"gridcolor\": \"#506784\", \"gridwidth\": 2, \"linecolor\": \"#506784\", \"showbackground\": true, \"ticks\": \"\", \"zerolinecolor\": \"#C8D4E3\"}, \"yaxis\": {\"backgroundcolor\": \"rgb(17,17,17)\", \"gridcolor\": \"#506784\", \"gridwidth\": 2, \"linecolor\": \"#506784\", \"showbackground\": true, \"ticks\": \"\", \"zerolinecolor\": \"#C8D4E3\"}, \"zaxis\": {\"backgroundcolor\": \"rgb(17,17,17)\", \"gridcolor\": \"#506784\", \"gridwidth\": 2, \"linecolor\": \"#506784\", \"showbackground\": true, \"ticks\": \"\", \"zerolinecolor\": \"#C8D4E3\"}}, \"shapedefaults\": {\"line\": {\"color\": \"#f2f5fa\"}}, \"sliderdefaults\": {\"bgcolor\": \"#C8D4E3\", \"bordercolor\": \"rgb(17,17,17)\", \"borderwidth\": 1, \"tickwidth\": 0}, \"ternary\": {\"aaxis\": {\"gridcolor\": \"#506784\", \"linecolor\": \"#506784\", \"ticks\": \"\"}, \"baxis\": {\"gridcolor\": \"#506784\", \"linecolor\": \"#506784\", \"ticks\": \"\"}, \"bgcolor\": \"rgb(17,17,17)\", \"caxis\": {\"gridcolor\": \"#506784\", \"linecolor\": \"#506784\", \"ticks\": \"\"}}, \"title\": {\"x\": 0.05}, \"updatemenudefaults\": {\"bgcolor\": \"#506784\", \"borderwidth\": 0}, \"xaxis\": {\"automargin\": true, \"gridcolor\": \"#283442\", \"linecolor\": \"#506784\", \"ticks\": \"\", \"zerolinecolor\": \"#283442\", \"zerolinewidth\": 2}, \"yaxis\": {\"automargin\": true, \"gridcolor\": \"#283442\", \"linecolor\": \"#506784\", \"ticks\": \"\", \"zerolinecolor\": \"#283442\", \"zerolinewidth\": 2}}}, \"title\": {\"font\": {\"color\": \"Cyan\", \"size\": 12}, \"text\": \"<b>COVID19 MORTALITY RATE OF AFRICAN COUNTRIES/TERRITORIES: November 19, 2020</b>\", \"x\": 0.55, \"xanchor\": \"center\", \"y\": 0.93, \"yanchor\": \"top\"}, \"width\": 800, \"xaxis\": {\"title\": {\"font\": {\"color\": \"#BDBDBD\", \"size\": 18}, \"text\": \"<b>Mortality Rate(%)</b>\"}}, \"yaxis\": {\"tickprefix\": \"      \", \"title\": {\"font\": {\"color\": \"#BDBDBD\", \"size\": 18}, \"text\": \"<b>Country</b>\"}}},\n",
       "                        {\"responsive\": true}\n",
       "                    ).then(function(){\n",
       "                            \n",
       "var gd = document.getElementById('a21868ff-3452-4b04-9a03-0be2b6d64cfb');\n",
       "var x = new MutationObserver(function (mutations, observer) {{\n",
       "        var display = window.getComputedStyle(gd).display;\n",
       "        if (!display || display === 'none') {{\n",
       "            console.log([gd, 'removed!']);\n",
       "            Plotly.purge(gd);\n",
       "            observer.disconnect();\n",
       "        }}\n",
       "}});\n",
       "\n",
       "// Listen for the removal of the full notebook cells\n",
       "var notebookContainer = gd.closest('#notebook-container');\n",
       "if (notebookContainer) {{\n",
       "    x.observe(notebookContainer, {childList: true});\n",
       "}}\n",
       "\n",
       "// Listen for the clearing of the current output cell\n",
       "var outputEl = gd.closest('.output');\n",
       "if (outputEl) {{\n",
       "    x.observe(outputEl, {childList: true});\n",
       "}}\n",
       "\n",
       "                        })\n",
       "                };\n",
       "                });\n",
       "            </script>\n",
       "        </div>"
      ]
     },
     "metadata": {},
     "output_type": "display_data"
    }
   ],
   "source": [
    "fig = go.Figure()\n",
    "\n",
    "fig.add_trace(go.Bar(y = african_mortality100['Country_Other'][::-1],x=african_mortality100['Mortality_Rate'][::-1],\n",
    "                     text=african_mortality100['Mortality_Rate'][::-1],textposition='outside',name = \"Afria\",marker_color='Crimson',orientation='h',                  \n",
    "))\n",
    "fig.update_layout(\n",
    "    template='plotly_dark',\n",
    "    title={\n",
    "        'text': '<b>COVID19 MORTALITY RATE OF AFRICAN COUNTRIES/TERRITORIES: ' + date_string +'</b>',\n",
    "        'y':0.93,\n",
    "        'x':0.55,\n",
    "        'xanchor': 'center',\n",
    "        'yanchor': 'top',\n",
    "        'font_color':'Cyan',\n",
    "        'font_size':12},\n",
    "    xaxis=dict(title='<b>Mortality Rate(%)</b>',titlefont_size=18, titlefont=dict(color='#BDBDBD')),\n",
    "    yaxis=dict(title='<b>Country</b>',titlefont_size=18, tickprefix=\"      \", titlefont=dict(color='#BDBDBD')),\n",
    "    autosize=False,\n",
    "    width=800,\n",
    "    height=1000,     \n",
    ")\n",
    "\n",
    "fig.show()"
   ]
  },
  {
   "cell_type": "markdown",
   "metadata": {},
   "source": [
    "[Return to top](#top)\n",
    "## New Cases of some African Countries"
   ]
  },
  {
   "cell_type": "code",
   "execution_count": 66,
   "metadata": {},
   "outputs": [],
   "source": [
    "countries_new_cases = pd.read_csv(\"../COVID19/World/NewCases/DailyCases\"+given_date+\".csv\")"
   ]
  },
  {
   "cell_type": "markdown",
   "metadata": {},
   "source": [
    "<a id='select_few'></a>"
   ]
  },
  {
   "cell_type": "markdown",
   "metadata": {},
   "source": [
    "### South Africa"
   ]
  },
  {
   "cell_type": "code",
   "execution_count": 67,
   "metadata": {},
   "outputs": [],
   "source": [
    "sa = countries_new_cases[countries_new_cases['Country_Other'] == 'South Africa']"
   ]
  },
  {
   "cell_type": "code",
   "execution_count": 68,
   "metadata": {},
   "outputs": [
    {
     "data": {
      "application/vnd.plotly.v1+json": {
       "config": {
        "plotlyServerURL": "https://plot.ly"
       },
       "data": [
        {
         "marker": {
          "color": "#FFAA1D"
         },
         "name": "South Africa",
         "text": [
          "1461",
          "1050",
          "2055",
          "2156",
          "1897",
          "1834",
          "1622",
          "891",
          "1092",
          "1863",
          "2056",
          "1912",
          "1770",
          "1371",
          "772",
          "1241",
          "1712",
          "1866",
          "1761",
          "1731",
          "1372",
          "1247",
          "1729",
          "2140",
          "2338",
          "2213",
          "2237",
          "1842",
          "1245",
          "1987",
          "2888",
          "2514"
         ],
         "textposition": "outside",
         "type": "bar",
         "x": [
          "October19",
          "October20",
          "October21",
          "October22",
          "October23",
          "October24",
          "October25",
          "October26",
          "October27",
          "October28",
          "October29",
          "October30",
          "October31",
          "November01",
          "November02",
          "November03",
          "November04",
          "November05",
          "November06",
          "November07",
          "November08",
          "November09",
          "November10",
          "November11",
          "November12",
          "November13",
          "November14",
          "November15",
          "November16",
          "November17",
          "November18",
          "November19"
         ],
         "y": [
          1461,
          1050,
          2055,
          2156,
          1897,
          1834,
          1622,
          891,
          1092,
          1863,
          2056,
          1912,
          1770,
          1371,
          772,
          1241,
          1712,
          1866,
          1761,
          1731,
          1372,
          1247,
          1729,
          2140,
          2338,
          2213,
          2237,
          1842,
          1245,
          1987,
          2888,
          2514
         ]
        }
       ],
       "layout": {
        "template": {
         "data": {
          "bar": [
           {
            "error_x": {
             "color": "#2a3f5f"
            },
            "error_y": {
             "color": "#2a3f5f"
            },
            "marker": {
             "line": {
              "color": "#E5ECF6",
              "width": 0.5
             }
            },
            "type": "bar"
           }
          ],
          "barpolar": [
           {
            "marker": {
             "line": {
              "color": "#E5ECF6",
              "width": 0.5
             }
            },
            "type": "barpolar"
           }
          ],
          "carpet": [
           {
            "aaxis": {
             "endlinecolor": "#2a3f5f",
             "gridcolor": "white",
             "linecolor": "white",
             "minorgridcolor": "white",
             "startlinecolor": "#2a3f5f"
            },
            "baxis": {
             "endlinecolor": "#2a3f5f",
             "gridcolor": "white",
             "linecolor": "white",
             "minorgridcolor": "white",
             "startlinecolor": "#2a3f5f"
            },
            "type": "carpet"
           }
          ],
          "choropleth": [
           {
            "colorbar": {
             "outlinewidth": 0,
             "ticks": ""
            },
            "type": "choropleth"
           }
          ],
          "contour": [
           {
            "colorbar": {
             "outlinewidth": 0,
             "ticks": ""
            },
            "colorscale": [
             [
              0,
              "#0d0887"
             ],
             [
              0.1111111111111111,
              "#46039f"
             ],
             [
              0.2222222222222222,
              "#7201a8"
             ],
             [
              0.3333333333333333,
              "#9c179e"
             ],
             [
              0.4444444444444444,
              "#bd3786"
             ],
             [
              0.5555555555555556,
              "#d8576b"
             ],
             [
              0.6666666666666666,
              "#ed7953"
             ],
             [
              0.7777777777777778,
              "#fb9f3a"
             ],
             [
              0.8888888888888888,
              "#fdca26"
             ],
             [
              1,
              "#f0f921"
             ]
            ],
            "type": "contour"
           }
          ],
          "contourcarpet": [
           {
            "colorbar": {
             "outlinewidth": 0,
             "ticks": ""
            },
            "type": "contourcarpet"
           }
          ],
          "heatmap": [
           {
            "colorbar": {
             "outlinewidth": 0,
             "ticks": ""
            },
            "colorscale": [
             [
              0,
              "#0d0887"
             ],
             [
              0.1111111111111111,
              "#46039f"
             ],
             [
              0.2222222222222222,
              "#7201a8"
             ],
             [
              0.3333333333333333,
              "#9c179e"
             ],
             [
              0.4444444444444444,
              "#bd3786"
             ],
             [
              0.5555555555555556,
              "#d8576b"
             ],
             [
              0.6666666666666666,
              "#ed7953"
             ],
             [
              0.7777777777777778,
              "#fb9f3a"
             ],
             [
              0.8888888888888888,
              "#fdca26"
             ],
             [
              1,
              "#f0f921"
             ]
            ],
            "type": "heatmap"
           }
          ],
          "heatmapgl": [
           {
            "colorbar": {
             "outlinewidth": 0,
             "ticks": ""
            },
            "colorscale": [
             [
              0,
              "#0d0887"
             ],
             [
              0.1111111111111111,
              "#46039f"
             ],
             [
              0.2222222222222222,
              "#7201a8"
             ],
             [
              0.3333333333333333,
              "#9c179e"
             ],
             [
              0.4444444444444444,
              "#bd3786"
             ],
             [
              0.5555555555555556,
              "#d8576b"
             ],
             [
              0.6666666666666666,
              "#ed7953"
             ],
             [
              0.7777777777777778,
              "#fb9f3a"
             ],
             [
              0.8888888888888888,
              "#fdca26"
             ],
             [
              1,
              "#f0f921"
             ]
            ],
            "type": "heatmapgl"
           }
          ],
          "histogram": [
           {
            "marker": {
             "colorbar": {
              "outlinewidth": 0,
              "ticks": ""
             }
            },
            "type": "histogram"
           }
          ],
          "histogram2d": [
           {
            "colorbar": {
             "outlinewidth": 0,
             "ticks": ""
            },
            "colorscale": [
             [
              0,
              "#0d0887"
             ],
             [
              0.1111111111111111,
              "#46039f"
             ],
             [
              0.2222222222222222,
              "#7201a8"
             ],
             [
              0.3333333333333333,
              "#9c179e"
             ],
             [
              0.4444444444444444,
              "#bd3786"
             ],
             [
              0.5555555555555556,
              "#d8576b"
             ],
             [
              0.6666666666666666,
              "#ed7953"
             ],
             [
              0.7777777777777778,
              "#fb9f3a"
             ],
             [
              0.8888888888888888,
              "#fdca26"
             ],
             [
              1,
              "#f0f921"
             ]
            ],
            "type": "histogram2d"
           }
          ],
          "histogram2dcontour": [
           {
            "colorbar": {
             "outlinewidth": 0,
             "ticks": ""
            },
            "colorscale": [
             [
              0,
              "#0d0887"
             ],
             [
              0.1111111111111111,
              "#46039f"
             ],
             [
              0.2222222222222222,
              "#7201a8"
             ],
             [
              0.3333333333333333,
              "#9c179e"
             ],
             [
              0.4444444444444444,
              "#bd3786"
             ],
             [
              0.5555555555555556,
              "#d8576b"
             ],
             [
              0.6666666666666666,
              "#ed7953"
             ],
             [
              0.7777777777777778,
              "#fb9f3a"
             ],
             [
              0.8888888888888888,
              "#fdca26"
             ],
             [
              1,
              "#f0f921"
             ]
            ],
            "type": "histogram2dcontour"
           }
          ],
          "mesh3d": [
           {
            "colorbar": {
             "outlinewidth": 0,
             "ticks": ""
            },
            "type": "mesh3d"
           }
          ],
          "parcoords": [
           {
            "line": {
             "colorbar": {
              "outlinewidth": 0,
              "ticks": ""
             }
            },
            "type": "parcoords"
           }
          ],
          "scatter": [
           {
            "marker": {
             "colorbar": {
              "outlinewidth": 0,
              "ticks": ""
             }
            },
            "type": "scatter"
           }
          ],
          "scatter3d": [
           {
            "line": {
             "colorbar": {
              "outlinewidth": 0,
              "ticks": ""
             }
            },
            "marker": {
             "colorbar": {
              "outlinewidth": 0,
              "ticks": ""
             }
            },
            "type": "scatter3d"
           }
          ],
          "scattercarpet": [
           {
            "marker": {
             "colorbar": {
              "outlinewidth": 0,
              "ticks": ""
             }
            },
            "type": "scattercarpet"
           }
          ],
          "scattergeo": [
           {
            "marker": {
             "colorbar": {
              "outlinewidth": 0,
              "ticks": ""
             }
            },
            "type": "scattergeo"
           }
          ],
          "scattergl": [
           {
            "marker": {
             "colorbar": {
              "outlinewidth": 0,
              "ticks": ""
             }
            },
            "type": "scattergl"
           }
          ],
          "scattermapbox": [
           {
            "marker": {
             "colorbar": {
              "outlinewidth": 0,
              "ticks": ""
             }
            },
            "type": "scattermapbox"
           }
          ],
          "scatterpolar": [
           {
            "marker": {
             "colorbar": {
              "outlinewidth": 0,
              "ticks": ""
             }
            },
            "type": "scatterpolar"
           }
          ],
          "scatterpolargl": [
           {
            "marker": {
             "colorbar": {
              "outlinewidth": 0,
              "ticks": ""
             }
            },
            "type": "scatterpolargl"
           }
          ],
          "scatterternary": [
           {
            "marker": {
             "colorbar": {
              "outlinewidth": 0,
              "ticks": ""
             }
            },
            "type": "scatterternary"
           }
          ],
          "surface": [
           {
            "colorbar": {
             "outlinewidth": 0,
             "ticks": ""
            },
            "colorscale": [
             [
              0,
              "#0d0887"
             ],
             [
              0.1111111111111111,
              "#46039f"
             ],
             [
              0.2222222222222222,
              "#7201a8"
             ],
             [
              0.3333333333333333,
              "#9c179e"
             ],
             [
              0.4444444444444444,
              "#bd3786"
             ],
             [
              0.5555555555555556,
              "#d8576b"
             ],
             [
              0.6666666666666666,
              "#ed7953"
             ],
             [
              0.7777777777777778,
              "#fb9f3a"
             ],
             [
              0.8888888888888888,
              "#fdca26"
             ],
             [
              1,
              "#f0f921"
             ]
            ],
            "type": "surface"
           }
          ],
          "table": [
           {
            "cells": {
             "fill": {
              "color": "#EBF0F8"
             },
             "line": {
              "color": "white"
             }
            },
            "header": {
             "fill": {
              "color": "#C8D4E3"
             },
             "line": {
              "color": "white"
             }
            },
            "type": "table"
           }
          ]
         },
         "layout": {
          "annotationdefaults": {
           "arrowcolor": "#2a3f5f",
           "arrowhead": 0,
           "arrowwidth": 1
          },
          "colorscale": {
           "diverging": [
            [
             0,
             "#8e0152"
            ],
            [
             0.1,
             "#c51b7d"
            ],
            [
             0.2,
             "#de77ae"
            ],
            [
             0.3,
             "#f1b6da"
            ],
            [
             0.4,
             "#fde0ef"
            ],
            [
             0.5,
             "#f7f7f7"
            ],
            [
             0.6,
             "#e6f5d0"
            ],
            [
             0.7,
             "#b8e186"
            ],
            [
             0.8,
             "#7fbc41"
            ],
            [
             0.9,
             "#4d9221"
            ],
            [
             1,
             "#276419"
            ]
           ],
           "sequential": [
            [
             0,
             "#0d0887"
            ],
            [
             0.1111111111111111,
             "#46039f"
            ],
            [
             0.2222222222222222,
             "#7201a8"
            ],
            [
             0.3333333333333333,
             "#9c179e"
            ],
            [
             0.4444444444444444,
             "#bd3786"
            ],
            [
             0.5555555555555556,
             "#d8576b"
            ],
            [
             0.6666666666666666,
             "#ed7953"
            ],
            [
             0.7777777777777778,
             "#fb9f3a"
            ],
            [
             0.8888888888888888,
             "#fdca26"
            ],
            [
             1,
             "#f0f921"
            ]
           ],
           "sequentialminus": [
            [
             0,
             "#0d0887"
            ],
            [
             0.1111111111111111,
             "#46039f"
            ],
            [
             0.2222222222222222,
             "#7201a8"
            ],
            [
             0.3333333333333333,
             "#9c179e"
            ],
            [
             0.4444444444444444,
             "#bd3786"
            ],
            [
             0.5555555555555556,
             "#d8576b"
            ],
            [
             0.6666666666666666,
             "#ed7953"
            ],
            [
             0.7777777777777778,
             "#fb9f3a"
            ],
            [
             0.8888888888888888,
             "#fdca26"
            ],
            [
             1,
             "#f0f921"
            ]
           ]
          },
          "colorway": [
           "#636efa",
           "#EF553B",
           "#00cc96",
           "#ab63fa",
           "#FFA15A",
           "#19d3f3",
           "#FF6692",
           "#B6E880",
           "#FF97FF",
           "#FECB52"
          ],
          "font": {
           "color": "#2a3f5f"
          },
          "geo": {
           "bgcolor": "white",
           "lakecolor": "white",
           "landcolor": "#E5ECF6",
           "showlakes": true,
           "showland": true,
           "subunitcolor": "white"
          },
          "hoverlabel": {
           "align": "left"
          },
          "hovermode": "closest",
          "mapbox": {
           "style": "light"
          },
          "paper_bgcolor": "white",
          "plot_bgcolor": "#E5ECF6",
          "polar": {
           "angularaxis": {
            "gridcolor": "white",
            "linecolor": "white",
            "ticks": ""
           },
           "bgcolor": "#E5ECF6",
           "radialaxis": {
            "gridcolor": "white",
            "linecolor": "white",
            "ticks": ""
           }
          },
          "scene": {
           "xaxis": {
            "backgroundcolor": "#E5ECF6",
            "gridcolor": "white",
            "gridwidth": 2,
            "linecolor": "white",
            "showbackground": true,
            "ticks": "",
            "zerolinecolor": "white"
           },
           "yaxis": {
            "backgroundcolor": "#E5ECF6",
            "gridcolor": "white",
            "gridwidth": 2,
            "linecolor": "white",
            "showbackground": true,
            "ticks": "",
            "zerolinecolor": "white"
           },
           "zaxis": {
            "backgroundcolor": "#E5ECF6",
            "gridcolor": "white",
            "gridwidth": 2,
            "linecolor": "white",
            "showbackground": true,
            "ticks": "",
            "zerolinecolor": "white"
           }
          },
          "shapedefaults": {
           "line": {
            "color": "#2a3f5f"
           }
          },
          "ternary": {
           "aaxis": {
            "gridcolor": "white",
            "linecolor": "white",
            "ticks": ""
           },
           "baxis": {
            "gridcolor": "white",
            "linecolor": "white",
            "ticks": ""
           },
           "bgcolor": "#E5ECF6",
           "caxis": {
            "gridcolor": "white",
            "linecolor": "white",
            "ticks": ""
           }
          },
          "title": {
           "x": 0.05
          },
          "xaxis": {
           "automargin": true,
           "gridcolor": "white",
           "linecolor": "white",
           "ticks": "",
           "zerolinecolor": "white",
           "zerolinewidth": 2
          },
          "yaxis": {
           "automargin": true,
           "gridcolor": "white",
           "linecolor": "white",
           "ticks": "",
           "zerolinecolor": "white",
           "zerolinewidth": 2
          }
         }
        },
        "title": {
         "text": "SOUTH AFRICA - COVID19 NEW CASES",
         "x": 0.5,
         "xanchor": "center",
         "y": 0.9,
         "yanchor": "top"
        },
        "xaxis": {
         "tickangle": 90,
         "title": {
          "font": {
           "color": "#BDBDBD",
           "size": 18
          },
          "text": "<b>Date</b>"
         }
        },
        "yaxis": {
         "title": {
          "font": {
           "size": 18
          },
          "text": "<b>New Cases</b>"
         }
        }
       }
      },
      "text/html": [
       "<div>\n",
       "        \n",
       "        \n",
       "            <div id=\"beee147e-3549-4238-b1bc-0f73d3ab436e\" class=\"plotly-graph-div\" style=\"height:525px; width:100%;\"></div>\n",
       "            <script type=\"text/javascript\">\n",
       "                require([\"plotly\"], function(Plotly) {\n",
       "                    window.PLOTLYENV=window.PLOTLYENV || {};\n",
       "                    \n",
       "                if (document.getElementById(\"beee147e-3549-4238-b1bc-0f73d3ab436e\")) {\n",
       "                    Plotly.newPlot(\n",
       "                        'beee147e-3549-4238-b1bc-0f73d3ab436e',\n",
       "                        [{\"marker\": {\"color\": \"#FFAA1D\"}, \"name\": \"South Africa\", \"text\": [\"1461\", \"1050\", \"2055\", \"2156\", \"1897\", \"1834\", \"1622\", \"891\", \"1092\", \"1863\", \"2056\", \"1912\", \"1770\", \"1371\", \"772\", \"1241\", \"1712\", \"1866\", \"1761\", \"1731\", \"1372\", \"1247\", \"1729\", \"2140\", \"2338\", \"2213\", \"2237\", \"1842\", \"1245\", \"1987\", \"2888\", \"2514\"], \"textposition\": \"outside\", \"type\": \"bar\", \"x\": [\"October19\", \"October20\", \"October21\", \"October22\", \"October23\", \"October24\", \"October25\", \"October26\", \"October27\", \"October28\", \"October29\", \"October30\", \"October31\", \"November01\", \"November02\", \"November03\", \"November04\", \"November05\", \"November06\", \"November07\", \"November08\", \"November09\", \"November10\", \"November11\", \"November12\", \"November13\", \"November14\", \"November15\", \"November16\", \"November17\", \"November18\", \"November19\"], \"y\": [1461, 1050, 2055, 2156, 1897, 1834, 1622, 891, 1092, 1863, 2056, 1912, 1770, 1371, 772, 1241, 1712, 1866, 1761, 1731, 1372, 1247, 1729, 2140, 2338, 2213, 2237, 1842, 1245, 1987, 2888, 2514]}],\n",
       "                        {\"template\": {\"data\": {\"bar\": [{\"error_x\": {\"color\": \"#2a3f5f\"}, \"error_y\": {\"color\": \"#2a3f5f\"}, \"marker\": {\"line\": {\"color\": \"#E5ECF6\", \"width\": 0.5}}, \"type\": \"bar\"}], \"barpolar\": [{\"marker\": {\"line\": {\"color\": \"#E5ECF6\", \"width\": 0.5}}, \"type\": \"barpolar\"}], \"carpet\": [{\"aaxis\": {\"endlinecolor\": \"#2a3f5f\", \"gridcolor\": \"white\", \"linecolor\": \"white\", \"minorgridcolor\": \"white\", \"startlinecolor\": \"#2a3f5f\"}, \"baxis\": {\"endlinecolor\": \"#2a3f5f\", \"gridcolor\": \"white\", \"linecolor\": \"white\", \"minorgridcolor\": \"white\", \"startlinecolor\": \"#2a3f5f\"}, \"type\": \"carpet\"}], \"choropleth\": [{\"colorbar\": {\"outlinewidth\": 0, \"ticks\": \"\"}, \"type\": \"choropleth\"}], \"contour\": [{\"colorbar\": {\"outlinewidth\": 0, \"ticks\": \"\"}, \"colorscale\": [[0.0, \"#0d0887\"], [0.1111111111111111, \"#46039f\"], [0.2222222222222222, \"#7201a8\"], [0.3333333333333333, \"#9c179e\"], [0.4444444444444444, \"#bd3786\"], [0.5555555555555556, \"#d8576b\"], [0.6666666666666666, \"#ed7953\"], [0.7777777777777778, \"#fb9f3a\"], [0.8888888888888888, \"#fdca26\"], [1.0, \"#f0f921\"]], \"type\": \"contour\"}], \"contourcarpet\": [{\"colorbar\": {\"outlinewidth\": 0, \"ticks\": \"\"}, \"type\": \"contourcarpet\"}], \"heatmap\": [{\"colorbar\": {\"outlinewidth\": 0, \"ticks\": \"\"}, \"colorscale\": [[0.0, \"#0d0887\"], [0.1111111111111111, \"#46039f\"], [0.2222222222222222, \"#7201a8\"], [0.3333333333333333, \"#9c179e\"], [0.4444444444444444, \"#bd3786\"], [0.5555555555555556, \"#d8576b\"], [0.6666666666666666, \"#ed7953\"], [0.7777777777777778, \"#fb9f3a\"], [0.8888888888888888, \"#fdca26\"], [1.0, \"#f0f921\"]], \"type\": \"heatmap\"}], \"heatmapgl\": [{\"colorbar\": {\"outlinewidth\": 0, \"ticks\": \"\"}, \"colorscale\": [[0.0, \"#0d0887\"], [0.1111111111111111, \"#46039f\"], [0.2222222222222222, \"#7201a8\"], [0.3333333333333333, \"#9c179e\"], [0.4444444444444444, \"#bd3786\"], [0.5555555555555556, \"#d8576b\"], [0.6666666666666666, \"#ed7953\"], [0.7777777777777778, \"#fb9f3a\"], [0.8888888888888888, \"#fdca26\"], [1.0, \"#f0f921\"]], \"type\": \"heatmapgl\"}], \"histogram\": [{\"marker\": {\"colorbar\": {\"outlinewidth\": 0, \"ticks\": \"\"}}, \"type\": \"histogram\"}], \"histogram2d\": [{\"colorbar\": {\"outlinewidth\": 0, \"ticks\": \"\"}, \"colorscale\": [[0.0, \"#0d0887\"], [0.1111111111111111, \"#46039f\"], [0.2222222222222222, \"#7201a8\"], [0.3333333333333333, \"#9c179e\"], [0.4444444444444444, \"#bd3786\"], [0.5555555555555556, \"#d8576b\"], [0.6666666666666666, \"#ed7953\"], [0.7777777777777778, \"#fb9f3a\"], [0.8888888888888888, \"#fdca26\"], [1.0, \"#f0f921\"]], \"type\": \"histogram2d\"}], \"histogram2dcontour\": [{\"colorbar\": {\"outlinewidth\": 0, \"ticks\": \"\"}, \"colorscale\": [[0.0, \"#0d0887\"], [0.1111111111111111, \"#46039f\"], [0.2222222222222222, \"#7201a8\"], [0.3333333333333333, \"#9c179e\"], [0.4444444444444444, \"#bd3786\"], [0.5555555555555556, \"#d8576b\"], [0.6666666666666666, \"#ed7953\"], [0.7777777777777778, \"#fb9f3a\"], [0.8888888888888888, \"#fdca26\"], [1.0, \"#f0f921\"]], \"type\": \"histogram2dcontour\"}], \"mesh3d\": [{\"colorbar\": {\"outlinewidth\": 0, \"ticks\": \"\"}, \"type\": \"mesh3d\"}], \"parcoords\": [{\"line\": {\"colorbar\": {\"outlinewidth\": 0, \"ticks\": \"\"}}, \"type\": \"parcoords\"}], \"scatter\": [{\"marker\": {\"colorbar\": {\"outlinewidth\": 0, \"ticks\": \"\"}}, \"type\": \"scatter\"}], \"scatter3d\": [{\"line\": {\"colorbar\": {\"outlinewidth\": 0, \"ticks\": \"\"}}, \"marker\": {\"colorbar\": {\"outlinewidth\": 0, \"ticks\": \"\"}}, \"type\": \"scatter3d\"}], \"scattercarpet\": [{\"marker\": {\"colorbar\": {\"outlinewidth\": 0, \"ticks\": \"\"}}, \"type\": \"scattercarpet\"}], \"scattergeo\": [{\"marker\": {\"colorbar\": {\"outlinewidth\": 0, \"ticks\": \"\"}}, \"type\": \"scattergeo\"}], \"scattergl\": [{\"marker\": {\"colorbar\": {\"outlinewidth\": 0, \"ticks\": \"\"}}, \"type\": \"scattergl\"}], \"scattermapbox\": [{\"marker\": {\"colorbar\": {\"outlinewidth\": 0, \"ticks\": \"\"}}, \"type\": \"scattermapbox\"}], \"scatterpolar\": [{\"marker\": {\"colorbar\": {\"outlinewidth\": 0, \"ticks\": \"\"}}, \"type\": \"scatterpolar\"}], \"scatterpolargl\": [{\"marker\": {\"colorbar\": {\"outlinewidth\": 0, \"ticks\": \"\"}}, \"type\": \"scatterpolargl\"}], \"scatterternary\": [{\"marker\": {\"colorbar\": {\"outlinewidth\": 0, \"ticks\": \"\"}}, \"type\": \"scatterternary\"}], \"surface\": [{\"colorbar\": {\"outlinewidth\": 0, \"ticks\": \"\"}, \"colorscale\": [[0.0, \"#0d0887\"], [0.1111111111111111, \"#46039f\"], [0.2222222222222222, \"#7201a8\"], [0.3333333333333333, \"#9c179e\"], [0.4444444444444444, \"#bd3786\"], [0.5555555555555556, \"#d8576b\"], [0.6666666666666666, \"#ed7953\"], [0.7777777777777778, \"#fb9f3a\"], [0.8888888888888888, \"#fdca26\"], [1.0, \"#f0f921\"]], \"type\": \"surface\"}], \"table\": [{\"cells\": {\"fill\": {\"color\": \"#EBF0F8\"}, \"line\": {\"color\": \"white\"}}, \"header\": {\"fill\": {\"color\": \"#C8D4E3\"}, \"line\": {\"color\": \"white\"}}, \"type\": \"table\"}]}, \"layout\": {\"annotationdefaults\": {\"arrowcolor\": \"#2a3f5f\", \"arrowhead\": 0, \"arrowwidth\": 1}, \"colorscale\": {\"diverging\": [[0, \"#8e0152\"], [0.1, \"#c51b7d\"], [0.2, \"#de77ae\"], [0.3, \"#f1b6da\"], [0.4, \"#fde0ef\"], [0.5, \"#f7f7f7\"], [0.6, \"#e6f5d0\"], [0.7, \"#b8e186\"], [0.8, \"#7fbc41\"], [0.9, \"#4d9221\"], [1, \"#276419\"]], \"sequential\": [[0.0, \"#0d0887\"], [0.1111111111111111, \"#46039f\"], [0.2222222222222222, \"#7201a8\"], [0.3333333333333333, \"#9c179e\"], [0.4444444444444444, \"#bd3786\"], [0.5555555555555556, \"#d8576b\"], [0.6666666666666666, \"#ed7953\"], [0.7777777777777778, \"#fb9f3a\"], [0.8888888888888888, \"#fdca26\"], [1.0, \"#f0f921\"]], \"sequentialminus\": [[0.0, \"#0d0887\"], [0.1111111111111111, \"#46039f\"], [0.2222222222222222, \"#7201a8\"], [0.3333333333333333, \"#9c179e\"], [0.4444444444444444, \"#bd3786\"], [0.5555555555555556, \"#d8576b\"], [0.6666666666666666, \"#ed7953\"], [0.7777777777777778, \"#fb9f3a\"], [0.8888888888888888, \"#fdca26\"], [1.0, \"#f0f921\"]]}, \"colorway\": [\"#636efa\", \"#EF553B\", \"#00cc96\", \"#ab63fa\", \"#FFA15A\", \"#19d3f3\", \"#FF6692\", \"#B6E880\", \"#FF97FF\", \"#FECB52\"], \"font\": {\"color\": \"#2a3f5f\"}, \"geo\": {\"bgcolor\": \"white\", \"lakecolor\": \"white\", \"landcolor\": \"#E5ECF6\", \"showlakes\": true, \"showland\": true, \"subunitcolor\": \"white\"}, \"hoverlabel\": {\"align\": \"left\"}, \"hovermode\": \"closest\", \"mapbox\": {\"style\": \"light\"}, \"paper_bgcolor\": \"white\", \"plot_bgcolor\": \"#E5ECF6\", \"polar\": {\"angularaxis\": {\"gridcolor\": \"white\", \"linecolor\": \"white\", \"ticks\": \"\"}, \"bgcolor\": \"#E5ECF6\", \"radialaxis\": {\"gridcolor\": \"white\", \"linecolor\": \"white\", \"ticks\": \"\"}}, \"scene\": {\"xaxis\": {\"backgroundcolor\": \"#E5ECF6\", \"gridcolor\": \"white\", \"gridwidth\": 2, \"linecolor\": \"white\", \"showbackground\": true, \"ticks\": \"\", \"zerolinecolor\": \"white\"}, \"yaxis\": {\"backgroundcolor\": \"#E5ECF6\", \"gridcolor\": \"white\", \"gridwidth\": 2, \"linecolor\": \"white\", \"showbackground\": true, \"ticks\": \"\", \"zerolinecolor\": \"white\"}, \"zaxis\": {\"backgroundcolor\": \"#E5ECF6\", \"gridcolor\": \"white\", \"gridwidth\": 2, \"linecolor\": \"white\", \"showbackground\": true, \"ticks\": \"\", \"zerolinecolor\": \"white\"}}, \"shapedefaults\": {\"line\": {\"color\": \"#2a3f5f\"}}, \"ternary\": {\"aaxis\": {\"gridcolor\": \"white\", \"linecolor\": \"white\", \"ticks\": \"\"}, \"baxis\": {\"gridcolor\": \"white\", \"linecolor\": \"white\", \"ticks\": \"\"}, \"bgcolor\": \"#E5ECF6\", \"caxis\": {\"gridcolor\": \"white\", \"linecolor\": \"white\", \"ticks\": \"\"}}, \"title\": {\"x\": 0.05}, \"xaxis\": {\"automargin\": true, \"gridcolor\": \"white\", \"linecolor\": \"white\", \"ticks\": \"\", \"zerolinecolor\": \"white\", \"zerolinewidth\": 2}, \"yaxis\": {\"automargin\": true, \"gridcolor\": \"white\", \"linecolor\": \"white\", \"ticks\": \"\", \"zerolinecolor\": \"white\", \"zerolinewidth\": 2}}}, \"title\": {\"text\": \"SOUTH AFRICA - COVID19 NEW CASES\", \"x\": 0.5, \"xanchor\": \"center\", \"y\": 0.9, \"yanchor\": \"top\"}, \"xaxis\": {\"tickangle\": 90, \"title\": {\"font\": {\"color\": \"#BDBDBD\", \"size\": 18}, \"text\": \"<b>Date</b>\"}}, \"yaxis\": {\"title\": {\"font\": {\"size\": 18}, \"text\": \"<b>New Cases</b>\"}}},\n",
       "                        {\"responsive\": true}\n",
       "                    ).then(function(){\n",
       "                            \n",
       "var gd = document.getElementById('beee147e-3549-4238-b1bc-0f73d3ab436e');\n",
       "var x = new MutationObserver(function (mutations, observer) {{\n",
       "        var display = window.getComputedStyle(gd).display;\n",
       "        if (!display || display === 'none') {{\n",
       "            console.log([gd, 'removed!']);\n",
       "            Plotly.purge(gd);\n",
       "            observer.disconnect();\n",
       "        }}\n",
       "}});\n",
       "\n",
       "// Listen for the removal of the full notebook cells\n",
       "var notebookContainer = gd.closest('#notebook-container');\n",
       "if (notebookContainer) {{\n",
       "    x.observe(notebookContainer, {childList: true});\n",
       "}}\n",
       "\n",
       "// Listen for the clearing of the current output cell\n",
       "var outputEl = gd.closest('.output');\n",
       "if (outputEl) {{\n",
       "    x.observe(outputEl, {childList: true});\n",
       "}}\n",
       "\n",
       "                        })\n",
       "                };\n",
       "                });\n",
       "            </script>\n",
       "        </div>"
      ]
     },
     "metadata": {},
     "output_type": "display_data"
    }
   ],
   "source": [
    "fig = go.Figure()\n",
    "\n",
    "sa_total_per_day = []\n",
    "for date in dates:    \n",
    "    total = sa[date].str.replace('+','').fillna(0).str.replace(',','').fillna(0).astype(int)\n",
    "    sa_total_per_day.append(int(total))\n",
    "    \n",
    "fig.add_trace(go.Bar(x=dates[-32:],  y = sa_total_per_day[-32:],text=sa_total_per_day[-32:],textposition='outside',name = \"South Africa\",marker_color='#FFAA1D'))\n",
    "fig.update_layout(\n",
    "    title={\n",
    "        'text': \"SOUTH AFRICA - COVID19 NEW CASES\",\n",
    "        'y':0.9,\n",
    "        'x':0.5,\n",
    "        'xanchor': 'center',\n",
    "        'yanchor': 'top'},\n",
    "    xaxis=dict(title='<b>Date</b>',titlefont_size=18, titlefont=dict(color='#BDBDBD')),\n",
    "    yaxis=dict(title='<b>New Cases</b>',titlefont_size=18),\n",
    "    xaxis_tickangle=90,\n",
    ")\n",
    "\n",
    "fig.show()"
   ]
  },
  {
   "cell_type": "markdown",
   "metadata": {},
   "source": [
    "### Nigeria"
   ]
  },
  {
   "cell_type": "code",
   "execution_count": 69,
   "metadata": {},
   "outputs": [],
   "source": [
    "ngr = countries_new_cases[countries_new_cases['Country_Other'] == 'Nigeria']"
   ]
  },
  {
   "cell_type": "code",
   "execution_count": 70,
   "metadata": {},
   "outputs": [
    {
     "data": {
      "application/vnd.plotly.v1+json": {
       "config": {
        "plotlyServerURL": "https://plot.ly"
       },
       "data": [
        {
         "marker": {
          "color": "#FFAA1D"
         },
         "name": "South Africa",
         "text": [
          "118",
          "72",
          "37",
          "138",
          "77",
          "48",
          "62",
          "119",
          "113",
          "147",
          "150",
          "170",
          "162",
          "111",
          "72",
          "137",
          "155",
          "180",
          "223",
          "59",
          "300",
          "94",
          "152",
          "180",
          "212",
          "156",
          "112",
          "152",
          "157",
          "152",
          "236",
          "146"
         ],
         "textposition": "outside",
         "type": "bar",
         "x": [
          "October19",
          "October20",
          "October21",
          "October22",
          "October23",
          "October24",
          "October25",
          "October26",
          "October27",
          "October28",
          "October29",
          "October30",
          "October31",
          "November01",
          "November02",
          "November03",
          "November04",
          "November05",
          "November06",
          "November07",
          "November08",
          "November09",
          "November10",
          "November11",
          "November12",
          "November13",
          "November14",
          "November15",
          "November16",
          "November17",
          "November18",
          "November19"
         ],
         "y": [
          118,
          72,
          37,
          138,
          77,
          48,
          62,
          119,
          113,
          147,
          150,
          170,
          162,
          111,
          72,
          137,
          155,
          180,
          223,
          59,
          300,
          94,
          152,
          180,
          212,
          156,
          112,
          152,
          157,
          152,
          236,
          146
         ]
        }
       ],
       "layout": {
        "template": {
         "data": {
          "bar": [
           {
            "error_x": {
             "color": "#2a3f5f"
            },
            "error_y": {
             "color": "#2a3f5f"
            },
            "marker": {
             "line": {
              "color": "#E5ECF6",
              "width": 0.5
             }
            },
            "type": "bar"
           }
          ],
          "barpolar": [
           {
            "marker": {
             "line": {
              "color": "#E5ECF6",
              "width": 0.5
             }
            },
            "type": "barpolar"
           }
          ],
          "carpet": [
           {
            "aaxis": {
             "endlinecolor": "#2a3f5f",
             "gridcolor": "white",
             "linecolor": "white",
             "minorgridcolor": "white",
             "startlinecolor": "#2a3f5f"
            },
            "baxis": {
             "endlinecolor": "#2a3f5f",
             "gridcolor": "white",
             "linecolor": "white",
             "minorgridcolor": "white",
             "startlinecolor": "#2a3f5f"
            },
            "type": "carpet"
           }
          ],
          "choropleth": [
           {
            "colorbar": {
             "outlinewidth": 0,
             "ticks": ""
            },
            "type": "choropleth"
           }
          ],
          "contour": [
           {
            "colorbar": {
             "outlinewidth": 0,
             "ticks": ""
            },
            "colorscale": [
             [
              0,
              "#0d0887"
             ],
             [
              0.1111111111111111,
              "#46039f"
             ],
             [
              0.2222222222222222,
              "#7201a8"
             ],
             [
              0.3333333333333333,
              "#9c179e"
             ],
             [
              0.4444444444444444,
              "#bd3786"
             ],
             [
              0.5555555555555556,
              "#d8576b"
             ],
             [
              0.6666666666666666,
              "#ed7953"
             ],
             [
              0.7777777777777778,
              "#fb9f3a"
             ],
             [
              0.8888888888888888,
              "#fdca26"
             ],
             [
              1,
              "#f0f921"
             ]
            ],
            "type": "contour"
           }
          ],
          "contourcarpet": [
           {
            "colorbar": {
             "outlinewidth": 0,
             "ticks": ""
            },
            "type": "contourcarpet"
           }
          ],
          "heatmap": [
           {
            "colorbar": {
             "outlinewidth": 0,
             "ticks": ""
            },
            "colorscale": [
             [
              0,
              "#0d0887"
             ],
             [
              0.1111111111111111,
              "#46039f"
             ],
             [
              0.2222222222222222,
              "#7201a8"
             ],
             [
              0.3333333333333333,
              "#9c179e"
             ],
             [
              0.4444444444444444,
              "#bd3786"
             ],
             [
              0.5555555555555556,
              "#d8576b"
             ],
             [
              0.6666666666666666,
              "#ed7953"
             ],
             [
              0.7777777777777778,
              "#fb9f3a"
             ],
             [
              0.8888888888888888,
              "#fdca26"
             ],
             [
              1,
              "#f0f921"
             ]
            ],
            "type": "heatmap"
           }
          ],
          "heatmapgl": [
           {
            "colorbar": {
             "outlinewidth": 0,
             "ticks": ""
            },
            "colorscale": [
             [
              0,
              "#0d0887"
             ],
             [
              0.1111111111111111,
              "#46039f"
             ],
             [
              0.2222222222222222,
              "#7201a8"
             ],
             [
              0.3333333333333333,
              "#9c179e"
             ],
             [
              0.4444444444444444,
              "#bd3786"
             ],
             [
              0.5555555555555556,
              "#d8576b"
             ],
             [
              0.6666666666666666,
              "#ed7953"
             ],
             [
              0.7777777777777778,
              "#fb9f3a"
             ],
             [
              0.8888888888888888,
              "#fdca26"
             ],
             [
              1,
              "#f0f921"
             ]
            ],
            "type": "heatmapgl"
           }
          ],
          "histogram": [
           {
            "marker": {
             "colorbar": {
              "outlinewidth": 0,
              "ticks": ""
             }
            },
            "type": "histogram"
           }
          ],
          "histogram2d": [
           {
            "colorbar": {
             "outlinewidth": 0,
             "ticks": ""
            },
            "colorscale": [
             [
              0,
              "#0d0887"
             ],
             [
              0.1111111111111111,
              "#46039f"
             ],
             [
              0.2222222222222222,
              "#7201a8"
             ],
             [
              0.3333333333333333,
              "#9c179e"
             ],
             [
              0.4444444444444444,
              "#bd3786"
             ],
             [
              0.5555555555555556,
              "#d8576b"
             ],
             [
              0.6666666666666666,
              "#ed7953"
             ],
             [
              0.7777777777777778,
              "#fb9f3a"
             ],
             [
              0.8888888888888888,
              "#fdca26"
             ],
             [
              1,
              "#f0f921"
             ]
            ],
            "type": "histogram2d"
           }
          ],
          "histogram2dcontour": [
           {
            "colorbar": {
             "outlinewidth": 0,
             "ticks": ""
            },
            "colorscale": [
             [
              0,
              "#0d0887"
             ],
             [
              0.1111111111111111,
              "#46039f"
             ],
             [
              0.2222222222222222,
              "#7201a8"
             ],
             [
              0.3333333333333333,
              "#9c179e"
             ],
             [
              0.4444444444444444,
              "#bd3786"
             ],
             [
              0.5555555555555556,
              "#d8576b"
             ],
             [
              0.6666666666666666,
              "#ed7953"
             ],
             [
              0.7777777777777778,
              "#fb9f3a"
             ],
             [
              0.8888888888888888,
              "#fdca26"
             ],
             [
              1,
              "#f0f921"
             ]
            ],
            "type": "histogram2dcontour"
           }
          ],
          "mesh3d": [
           {
            "colorbar": {
             "outlinewidth": 0,
             "ticks": ""
            },
            "type": "mesh3d"
           }
          ],
          "parcoords": [
           {
            "line": {
             "colorbar": {
              "outlinewidth": 0,
              "ticks": ""
             }
            },
            "type": "parcoords"
           }
          ],
          "scatter": [
           {
            "marker": {
             "colorbar": {
              "outlinewidth": 0,
              "ticks": ""
             }
            },
            "type": "scatter"
           }
          ],
          "scatter3d": [
           {
            "line": {
             "colorbar": {
              "outlinewidth": 0,
              "ticks": ""
             }
            },
            "marker": {
             "colorbar": {
              "outlinewidth": 0,
              "ticks": ""
             }
            },
            "type": "scatter3d"
           }
          ],
          "scattercarpet": [
           {
            "marker": {
             "colorbar": {
              "outlinewidth": 0,
              "ticks": ""
             }
            },
            "type": "scattercarpet"
           }
          ],
          "scattergeo": [
           {
            "marker": {
             "colorbar": {
              "outlinewidth": 0,
              "ticks": ""
             }
            },
            "type": "scattergeo"
           }
          ],
          "scattergl": [
           {
            "marker": {
             "colorbar": {
              "outlinewidth": 0,
              "ticks": ""
             }
            },
            "type": "scattergl"
           }
          ],
          "scattermapbox": [
           {
            "marker": {
             "colorbar": {
              "outlinewidth": 0,
              "ticks": ""
             }
            },
            "type": "scattermapbox"
           }
          ],
          "scatterpolar": [
           {
            "marker": {
             "colorbar": {
              "outlinewidth": 0,
              "ticks": ""
             }
            },
            "type": "scatterpolar"
           }
          ],
          "scatterpolargl": [
           {
            "marker": {
             "colorbar": {
              "outlinewidth": 0,
              "ticks": ""
             }
            },
            "type": "scatterpolargl"
           }
          ],
          "scatterternary": [
           {
            "marker": {
             "colorbar": {
              "outlinewidth": 0,
              "ticks": ""
             }
            },
            "type": "scatterternary"
           }
          ],
          "surface": [
           {
            "colorbar": {
             "outlinewidth": 0,
             "ticks": ""
            },
            "colorscale": [
             [
              0,
              "#0d0887"
             ],
             [
              0.1111111111111111,
              "#46039f"
             ],
             [
              0.2222222222222222,
              "#7201a8"
             ],
             [
              0.3333333333333333,
              "#9c179e"
             ],
             [
              0.4444444444444444,
              "#bd3786"
             ],
             [
              0.5555555555555556,
              "#d8576b"
             ],
             [
              0.6666666666666666,
              "#ed7953"
             ],
             [
              0.7777777777777778,
              "#fb9f3a"
             ],
             [
              0.8888888888888888,
              "#fdca26"
             ],
             [
              1,
              "#f0f921"
             ]
            ],
            "type": "surface"
           }
          ],
          "table": [
           {
            "cells": {
             "fill": {
              "color": "#EBF0F8"
             },
             "line": {
              "color": "white"
             }
            },
            "header": {
             "fill": {
              "color": "#C8D4E3"
             },
             "line": {
              "color": "white"
             }
            },
            "type": "table"
           }
          ]
         },
         "layout": {
          "annotationdefaults": {
           "arrowcolor": "#2a3f5f",
           "arrowhead": 0,
           "arrowwidth": 1
          },
          "colorscale": {
           "diverging": [
            [
             0,
             "#8e0152"
            ],
            [
             0.1,
             "#c51b7d"
            ],
            [
             0.2,
             "#de77ae"
            ],
            [
             0.3,
             "#f1b6da"
            ],
            [
             0.4,
             "#fde0ef"
            ],
            [
             0.5,
             "#f7f7f7"
            ],
            [
             0.6,
             "#e6f5d0"
            ],
            [
             0.7,
             "#b8e186"
            ],
            [
             0.8,
             "#7fbc41"
            ],
            [
             0.9,
             "#4d9221"
            ],
            [
             1,
             "#276419"
            ]
           ],
           "sequential": [
            [
             0,
             "#0d0887"
            ],
            [
             0.1111111111111111,
             "#46039f"
            ],
            [
             0.2222222222222222,
             "#7201a8"
            ],
            [
             0.3333333333333333,
             "#9c179e"
            ],
            [
             0.4444444444444444,
             "#bd3786"
            ],
            [
             0.5555555555555556,
             "#d8576b"
            ],
            [
             0.6666666666666666,
             "#ed7953"
            ],
            [
             0.7777777777777778,
             "#fb9f3a"
            ],
            [
             0.8888888888888888,
             "#fdca26"
            ],
            [
             1,
             "#f0f921"
            ]
           ],
           "sequentialminus": [
            [
             0,
             "#0d0887"
            ],
            [
             0.1111111111111111,
             "#46039f"
            ],
            [
             0.2222222222222222,
             "#7201a8"
            ],
            [
             0.3333333333333333,
             "#9c179e"
            ],
            [
             0.4444444444444444,
             "#bd3786"
            ],
            [
             0.5555555555555556,
             "#d8576b"
            ],
            [
             0.6666666666666666,
             "#ed7953"
            ],
            [
             0.7777777777777778,
             "#fb9f3a"
            ],
            [
             0.8888888888888888,
             "#fdca26"
            ],
            [
             1,
             "#f0f921"
            ]
           ]
          },
          "colorway": [
           "#636efa",
           "#EF553B",
           "#00cc96",
           "#ab63fa",
           "#FFA15A",
           "#19d3f3",
           "#FF6692",
           "#B6E880",
           "#FF97FF",
           "#FECB52"
          ],
          "font": {
           "color": "#2a3f5f"
          },
          "geo": {
           "bgcolor": "white",
           "lakecolor": "white",
           "landcolor": "#E5ECF6",
           "showlakes": true,
           "showland": true,
           "subunitcolor": "white"
          },
          "hoverlabel": {
           "align": "left"
          },
          "hovermode": "closest",
          "mapbox": {
           "style": "light"
          },
          "paper_bgcolor": "white",
          "plot_bgcolor": "#E5ECF6",
          "polar": {
           "angularaxis": {
            "gridcolor": "white",
            "linecolor": "white",
            "ticks": ""
           },
           "bgcolor": "#E5ECF6",
           "radialaxis": {
            "gridcolor": "white",
            "linecolor": "white",
            "ticks": ""
           }
          },
          "scene": {
           "xaxis": {
            "backgroundcolor": "#E5ECF6",
            "gridcolor": "white",
            "gridwidth": 2,
            "linecolor": "white",
            "showbackground": true,
            "ticks": "",
            "zerolinecolor": "white"
           },
           "yaxis": {
            "backgroundcolor": "#E5ECF6",
            "gridcolor": "white",
            "gridwidth": 2,
            "linecolor": "white",
            "showbackground": true,
            "ticks": "",
            "zerolinecolor": "white"
           },
           "zaxis": {
            "backgroundcolor": "#E5ECF6",
            "gridcolor": "white",
            "gridwidth": 2,
            "linecolor": "white",
            "showbackground": true,
            "ticks": "",
            "zerolinecolor": "white"
           }
          },
          "shapedefaults": {
           "line": {
            "color": "#2a3f5f"
           }
          },
          "ternary": {
           "aaxis": {
            "gridcolor": "white",
            "linecolor": "white",
            "ticks": ""
           },
           "baxis": {
            "gridcolor": "white",
            "linecolor": "white",
            "ticks": ""
           },
           "bgcolor": "#E5ECF6",
           "caxis": {
            "gridcolor": "white",
            "linecolor": "white",
            "ticks": ""
           }
          },
          "title": {
           "x": 0.05
          },
          "xaxis": {
           "automargin": true,
           "gridcolor": "white",
           "linecolor": "white",
           "ticks": "",
           "zerolinecolor": "white",
           "zerolinewidth": 2
          },
          "yaxis": {
           "automargin": true,
           "gridcolor": "white",
           "linecolor": "white",
           "ticks": "",
           "zerolinecolor": "white",
           "zerolinewidth": 2
          }
         }
        },
        "title": {
         "text": "NIGERIA - COVID19 NEW CASES",
         "x": 0.5,
         "xanchor": "center",
         "y": 0.9,
         "yanchor": "top"
        },
        "xaxis": {
         "tickangle": 90,
         "title": {
          "font": {
           "color": "#BDBDBD",
           "size": 18
          },
          "text": "<b>Date</b>"
         }
        },
        "yaxis": {
         "title": {
          "font": {
           "size": 18
          },
          "text": "<b>New Cases</b>"
         }
        }
       }
      },
      "text/html": [
       "<div>\n",
       "        \n",
       "        \n",
       "            <div id=\"d07e6bed-fafd-4450-919e-1d9e797f3302\" class=\"plotly-graph-div\" style=\"height:525px; width:100%;\"></div>\n",
       "            <script type=\"text/javascript\">\n",
       "                require([\"plotly\"], function(Plotly) {\n",
       "                    window.PLOTLYENV=window.PLOTLYENV || {};\n",
       "                    \n",
       "                if (document.getElementById(\"d07e6bed-fafd-4450-919e-1d9e797f3302\")) {\n",
       "                    Plotly.newPlot(\n",
       "                        'd07e6bed-fafd-4450-919e-1d9e797f3302',\n",
       "                        [{\"marker\": {\"color\": \"#FFAA1D\"}, \"name\": \"South Africa\", \"text\": [\"118\", \"72\", \"37\", \"138\", \"77\", \"48\", \"62\", \"119\", \"113\", \"147\", \"150\", \"170\", \"162\", \"111\", \"72\", \"137\", \"155\", \"180\", \"223\", \"59\", \"300\", \"94\", \"152\", \"180\", \"212\", \"156\", \"112\", \"152\", \"157\", \"152\", \"236\", \"146\"], \"textposition\": \"outside\", \"type\": \"bar\", \"x\": [\"October19\", \"October20\", \"October21\", \"October22\", \"October23\", \"October24\", \"October25\", \"October26\", \"October27\", \"October28\", \"October29\", \"October30\", \"October31\", \"November01\", \"November02\", \"November03\", \"November04\", \"November05\", \"November06\", \"November07\", \"November08\", \"November09\", \"November10\", \"November11\", \"November12\", \"November13\", \"November14\", \"November15\", \"November16\", \"November17\", \"November18\", \"November19\"], \"y\": [118, 72, 37, 138, 77, 48, 62, 119, 113, 147, 150, 170, 162, 111, 72, 137, 155, 180, 223, 59, 300, 94, 152, 180, 212, 156, 112, 152, 157, 152, 236, 146]}],\n",
       "                        {\"template\": {\"data\": {\"bar\": [{\"error_x\": {\"color\": \"#2a3f5f\"}, \"error_y\": {\"color\": \"#2a3f5f\"}, \"marker\": {\"line\": {\"color\": \"#E5ECF6\", \"width\": 0.5}}, \"type\": \"bar\"}], \"barpolar\": [{\"marker\": {\"line\": {\"color\": \"#E5ECF6\", \"width\": 0.5}}, \"type\": \"barpolar\"}], \"carpet\": [{\"aaxis\": {\"endlinecolor\": \"#2a3f5f\", \"gridcolor\": \"white\", \"linecolor\": \"white\", \"minorgridcolor\": \"white\", \"startlinecolor\": \"#2a3f5f\"}, \"baxis\": {\"endlinecolor\": \"#2a3f5f\", \"gridcolor\": \"white\", \"linecolor\": \"white\", \"minorgridcolor\": \"white\", \"startlinecolor\": \"#2a3f5f\"}, \"type\": \"carpet\"}], \"choropleth\": [{\"colorbar\": {\"outlinewidth\": 0, \"ticks\": \"\"}, \"type\": \"choropleth\"}], \"contour\": [{\"colorbar\": {\"outlinewidth\": 0, \"ticks\": \"\"}, \"colorscale\": [[0.0, \"#0d0887\"], [0.1111111111111111, \"#46039f\"], [0.2222222222222222, \"#7201a8\"], [0.3333333333333333, \"#9c179e\"], [0.4444444444444444, \"#bd3786\"], [0.5555555555555556, \"#d8576b\"], [0.6666666666666666, \"#ed7953\"], [0.7777777777777778, \"#fb9f3a\"], [0.8888888888888888, \"#fdca26\"], [1.0, \"#f0f921\"]], \"type\": \"contour\"}], \"contourcarpet\": [{\"colorbar\": {\"outlinewidth\": 0, \"ticks\": \"\"}, \"type\": \"contourcarpet\"}], \"heatmap\": [{\"colorbar\": {\"outlinewidth\": 0, \"ticks\": \"\"}, \"colorscale\": [[0.0, \"#0d0887\"], [0.1111111111111111, \"#46039f\"], [0.2222222222222222, \"#7201a8\"], [0.3333333333333333, \"#9c179e\"], [0.4444444444444444, \"#bd3786\"], [0.5555555555555556, \"#d8576b\"], [0.6666666666666666, \"#ed7953\"], [0.7777777777777778, \"#fb9f3a\"], [0.8888888888888888, \"#fdca26\"], [1.0, \"#f0f921\"]], \"type\": \"heatmap\"}], \"heatmapgl\": [{\"colorbar\": {\"outlinewidth\": 0, \"ticks\": \"\"}, \"colorscale\": [[0.0, \"#0d0887\"], [0.1111111111111111, \"#46039f\"], [0.2222222222222222, \"#7201a8\"], [0.3333333333333333, \"#9c179e\"], [0.4444444444444444, \"#bd3786\"], [0.5555555555555556, \"#d8576b\"], [0.6666666666666666, \"#ed7953\"], [0.7777777777777778, \"#fb9f3a\"], [0.8888888888888888, \"#fdca26\"], [1.0, \"#f0f921\"]], \"type\": \"heatmapgl\"}], \"histogram\": [{\"marker\": {\"colorbar\": {\"outlinewidth\": 0, \"ticks\": \"\"}}, \"type\": \"histogram\"}], \"histogram2d\": [{\"colorbar\": {\"outlinewidth\": 0, \"ticks\": \"\"}, \"colorscale\": [[0.0, \"#0d0887\"], [0.1111111111111111, \"#46039f\"], [0.2222222222222222, \"#7201a8\"], [0.3333333333333333, \"#9c179e\"], [0.4444444444444444, \"#bd3786\"], [0.5555555555555556, \"#d8576b\"], [0.6666666666666666, \"#ed7953\"], [0.7777777777777778, \"#fb9f3a\"], [0.8888888888888888, \"#fdca26\"], [1.0, \"#f0f921\"]], \"type\": \"histogram2d\"}], \"histogram2dcontour\": [{\"colorbar\": {\"outlinewidth\": 0, \"ticks\": \"\"}, \"colorscale\": [[0.0, \"#0d0887\"], [0.1111111111111111, \"#46039f\"], [0.2222222222222222, \"#7201a8\"], [0.3333333333333333, \"#9c179e\"], [0.4444444444444444, \"#bd3786\"], [0.5555555555555556, \"#d8576b\"], [0.6666666666666666, \"#ed7953\"], [0.7777777777777778, \"#fb9f3a\"], [0.8888888888888888, \"#fdca26\"], [1.0, \"#f0f921\"]], \"type\": \"histogram2dcontour\"}], \"mesh3d\": [{\"colorbar\": {\"outlinewidth\": 0, \"ticks\": \"\"}, \"type\": \"mesh3d\"}], \"parcoords\": [{\"line\": {\"colorbar\": {\"outlinewidth\": 0, \"ticks\": \"\"}}, \"type\": \"parcoords\"}], \"scatter\": [{\"marker\": {\"colorbar\": {\"outlinewidth\": 0, \"ticks\": \"\"}}, \"type\": \"scatter\"}], \"scatter3d\": [{\"line\": {\"colorbar\": {\"outlinewidth\": 0, \"ticks\": \"\"}}, \"marker\": {\"colorbar\": {\"outlinewidth\": 0, \"ticks\": \"\"}}, \"type\": \"scatter3d\"}], \"scattercarpet\": [{\"marker\": {\"colorbar\": {\"outlinewidth\": 0, \"ticks\": \"\"}}, \"type\": \"scattercarpet\"}], \"scattergeo\": [{\"marker\": {\"colorbar\": {\"outlinewidth\": 0, \"ticks\": \"\"}}, \"type\": \"scattergeo\"}], \"scattergl\": [{\"marker\": {\"colorbar\": {\"outlinewidth\": 0, \"ticks\": \"\"}}, \"type\": \"scattergl\"}], \"scattermapbox\": [{\"marker\": {\"colorbar\": {\"outlinewidth\": 0, \"ticks\": \"\"}}, \"type\": \"scattermapbox\"}], \"scatterpolar\": [{\"marker\": {\"colorbar\": {\"outlinewidth\": 0, \"ticks\": \"\"}}, \"type\": \"scatterpolar\"}], \"scatterpolargl\": [{\"marker\": {\"colorbar\": {\"outlinewidth\": 0, \"ticks\": \"\"}}, \"type\": \"scatterpolargl\"}], \"scatterternary\": [{\"marker\": {\"colorbar\": {\"outlinewidth\": 0, \"ticks\": \"\"}}, \"type\": \"scatterternary\"}], \"surface\": [{\"colorbar\": {\"outlinewidth\": 0, \"ticks\": \"\"}, \"colorscale\": [[0.0, \"#0d0887\"], [0.1111111111111111, \"#46039f\"], [0.2222222222222222, \"#7201a8\"], [0.3333333333333333, \"#9c179e\"], [0.4444444444444444, \"#bd3786\"], [0.5555555555555556, \"#d8576b\"], [0.6666666666666666, \"#ed7953\"], [0.7777777777777778, \"#fb9f3a\"], [0.8888888888888888, \"#fdca26\"], [1.0, \"#f0f921\"]], \"type\": \"surface\"}], \"table\": [{\"cells\": {\"fill\": {\"color\": \"#EBF0F8\"}, \"line\": {\"color\": \"white\"}}, \"header\": {\"fill\": {\"color\": \"#C8D4E3\"}, \"line\": {\"color\": \"white\"}}, \"type\": \"table\"}]}, \"layout\": {\"annotationdefaults\": {\"arrowcolor\": \"#2a3f5f\", \"arrowhead\": 0, \"arrowwidth\": 1}, \"colorscale\": {\"diverging\": [[0, \"#8e0152\"], [0.1, \"#c51b7d\"], [0.2, \"#de77ae\"], [0.3, \"#f1b6da\"], [0.4, \"#fde0ef\"], [0.5, \"#f7f7f7\"], [0.6, \"#e6f5d0\"], [0.7, \"#b8e186\"], [0.8, \"#7fbc41\"], [0.9, \"#4d9221\"], [1, \"#276419\"]], \"sequential\": [[0.0, \"#0d0887\"], [0.1111111111111111, \"#46039f\"], [0.2222222222222222, \"#7201a8\"], [0.3333333333333333, \"#9c179e\"], [0.4444444444444444, \"#bd3786\"], [0.5555555555555556, \"#d8576b\"], [0.6666666666666666, \"#ed7953\"], [0.7777777777777778, \"#fb9f3a\"], [0.8888888888888888, \"#fdca26\"], [1.0, \"#f0f921\"]], \"sequentialminus\": [[0.0, \"#0d0887\"], [0.1111111111111111, \"#46039f\"], [0.2222222222222222, \"#7201a8\"], [0.3333333333333333, \"#9c179e\"], [0.4444444444444444, \"#bd3786\"], [0.5555555555555556, \"#d8576b\"], [0.6666666666666666, \"#ed7953\"], [0.7777777777777778, \"#fb9f3a\"], [0.8888888888888888, \"#fdca26\"], [1.0, \"#f0f921\"]]}, \"colorway\": [\"#636efa\", \"#EF553B\", \"#00cc96\", \"#ab63fa\", \"#FFA15A\", \"#19d3f3\", \"#FF6692\", \"#B6E880\", \"#FF97FF\", \"#FECB52\"], \"font\": {\"color\": \"#2a3f5f\"}, \"geo\": {\"bgcolor\": \"white\", \"lakecolor\": \"white\", \"landcolor\": \"#E5ECF6\", \"showlakes\": true, \"showland\": true, \"subunitcolor\": \"white\"}, \"hoverlabel\": {\"align\": \"left\"}, \"hovermode\": \"closest\", \"mapbox\": {\"style\": \"light\"}, \"paper_bgcolor\": \"white\", \"plot_bgcolor\": \"#E5ECF6\", \"polar\": {\"angularaxis\": {\"gridcolor\": \"white\", \"linecolor\": \"white\", \"ticks\": \"\"}, \"bgcolor\": \"#E5ECF6\", \"radialaxis\": {\"gridcolor\": \"white\", \"linecolor\": \"white\", \"ticks\": \"\"}}, \"scene\": {\"xaxis\": {\"backgroundcolor\": \"#E5ECF6\", \"gridcolor\": \"white\", \"gridwidth\": 2, \"linecolor\": \"white\", \"showbackground\": true, \"ticks\": \"\", \"zerolinecolor\": \"white\"}, \"yaxis\": {\"backgroundcolor\": \"#E5ECF6\", \"gridcolor\": \"white\", \"gridwidth\": 2, \"linecolor\": \"white\", \"showbackground\": true, \"ticks\": \"\", \"zerolinecolor\": \"white\"}, \"zaxis\": {\"backgroundcolor\": \"#E5ECF6\", \"gridcolor\": \"white\", \"gridwidth\": 2, \"linecolor\": \"white\", \"showbackground\": true, \"ticks\": \"\", \"zerolinecolor\": \"white\"}}, \"shapedefaults\": {\"line\": {\"color\": \"#2a3f5f\"}}, \"ternary\": {\"aaxis\": {\"gridcolor\": \"white\", \"linecolor\": \"white\", \"ticks\": \"\"}, \"baxis\": {\"gridcolor\": \"white\", \"linecolor\": \"white\", \"ticks\": \"\"}, \"bgcolor\": \"#E5ECF6\", \"caxis\": {\"gridcolor\": \"white\", \"linecolor\": \"white\", \"ticks\": \"\"}}, \"title\": {\"x\": 0.05}, \"xaxis\": {\"automargin\": true, \"gridcolor\": \"white\", \"linecolor\": \"white\", \"ticks\": \"\", \"zerolinecolor\": \"white\", \"zerolinewidth\": 2}, \"yaxis\": {\"automargin\": true, \"gridcolor\": \"white\", \"linecolor\": \"white\", \"ticks\": \"\", \"zerolinecolor\": \"white\", \"zerolinewidth\": 2}}}, \"title\": {\"text\": \"NIGERIA - COVID19 NEW CASES\", \"x\": 0.5, \"xanchor\": \"center\", \"y\": 0.9, \"yanchor\": \"top\"}, \"xaxis\": {\"tickangle\": 90, \"title\": {\"font\": {\"color\": \"#BDBDBD\", \"size\": 18}, \"text\": \"<b>Date</b>\"}}, \"yaxis\": {\"title\": {\"font\": {\"size\": 18}, \"text\": \"<b>New Cases</b>\"}}},\n",
       "                        {\"responsive\": true}\n",
       "                    ).then(function(){\n",
       "                            \n",
       "var gd = document.getElementById('d07e6bed-fafd-4450-919e-1d9e797f3302');\n",
       "var x = new MutationObserver(function (mutations, observer) {{\n",
       "        var display = window.getComputedStyle(gd).display;\n",
       "        if (!display || display === 'none') {{\n",
       "            console.log([gd, 'removed!']);\n",
       "            Plotly.purge(gd);\n",
       "            observer.disconnect();\n",
       "        }}\n",
       "}});\n",
       "\n",
       "// Listen for the removal of the full notebook cells\n",
       "var notebookContainer = gd.closest('#notebook-container');\n",
       "if (notebookContainer) {{\n",
       "    x.observe(notebookContainer, {childList: true});\n",
       "}}\n",
       "\n",
       "// Listen for the clearing of the current output cell\n",
       "var outputEl = gd.closest('.output');\n",
       "if (outputEl) {{\n",
       "    x.observe(outputEl, {childList: true});\n",
       "}}\n",
       "\n",
       "                        })\n",
       "                };\n",
       "                });\n",
       "            </script>\n",
       "        </div>"
      ]
     },
     "metadata": {},
     "output_type": "display_data"
    }
   ],
   "source": [
    "fig = go.Figure()\n",
    "\n",
    "ngr_total_per_day = []\n",
    "for date in dates:    \n",
    "    total = ngr[date].str.replace('+','').fillna(0).str.replace(',','').fillna(0).astype(int)\n",
    "    ngr_total_per_day.append(int(total))\n",
    "    \n",
    "fig.add_trace(go.Bar(x=dates[-32:],  y = ngr_total_per_day[-32:],text=ngr_total_per_day[-32:],textposition='outside',name = \"South Africa\",marker_color='#FFAA1D'))\n",
    "fig.update_layout(\n",
    "    title={\n",
    "        'text': \"NIGERIA - COVID19 NEW CASES\",\n",
    "        'y':0.9,\n",
    "        'x':0.5,\n",
    "        'xanchor': 'center',\n",
    "        'yanchor': 'top'},\n",
    "    xaxis=dict(title='<b>Date</b>',titlefont_size=18, titlefont=dict(color='#BDBDBD')),\n",
    "    yaxis=dict(title='<b>New Cases</b>',titlefont_size=18),\n",
    "    xaxis_tickangle=90,\n",
    ")\n",
    "\n",
    "fig.show()"
   ]
  },
  {
   "cell_type": "markdown",
   "metadata": {},
   "source": [
    "<a id='top_six'></a>"
   ]
  },
  {
   "cell_type": "markdown",
   "metadata": {},
   "source": [
    "[Return to top](#top)"
   ]
  },
  {
   "cell_type": "code",
   "execution_count": 71,
   "metadata": {},
   "outputs": [
    {
     "data": {
      "text/plain": [
       "['South Africa',\n",
       " 'Morocco',\n",
       " 'Egypt',\n",
       " 'Ethiopia',\n",
       " 'Tunisia',\n",
       " 'Libya',\n",
       " 'Kenya',\n",
       " 'Algeria',\n",
       " 'Nigeria',\n",
       " 'Ghana']"
      ]
     },
     "execution_count": 71,
     "metadata": {},
     "output_type": "execute_result"
    }
   ],
   "source": [
    "total_confirmed_cases = pd.read_csv('../COVID19/World/TotalCases/TotalCases' + wa_latest[-12:])\n",
    "total_confirmed_cases = total_confirmed_cases[total_confirmed_cases['Country_Other'].isin(african_countries['country_Other'])]\n",
    "total_confirmed_cases.iloc[:, -1] = total_confirmed_cases.iloc[:, -1].str.replace(',','').astype(int)\n",
    "\n",
    "confirmed_cases_first10 = total_confirmed_cases.sort_values(total_confirmed_cases.iloc[:, -1].name, ascending=False)\n",
    "\n",
    "sorted_confirmsed_first10_values = confirmed_cases_first10.iloc[:, -1][:10].tolist()\n",
    "\n",
    "confirmed_cases_first10 = confirmed_cases_first10['Country_Other'][:10].tolist()\n",
    "confirmed_cases_first10\n",
    "# sorted_confirmsed_first10_values"
   ]
  },
  {
   "cell_type": "code",
   "execution_count": 72,
   "metadata": {},
   "outputs": [
    {
     "data": {
      "image/png": "[encoded data removed]",
      "text/plain": [
       "<Figure size 1440x1152 with 10 Axes>"
      ]
     },
     "metadata": {
      "needs_background": "light"
     },
     "output_type": "display_data"
    }
   ],
   "source": [
    "fig = plt.figure(figsize=(20, 16))\n",
    "plt.suptitle('TOP TEN COVID19 CONFIRMED CASES IN AFRICA: '+ date_string , fontsize=16)\n",
    "count_total_per_day=[]\n",
    "axes_y_position ={'y1':1.0}\n",
    "for count in confirmed_cases_first10:\n",
    "    afrik_count = countries_new_cases[countries_new_cases['Country_Other'] == count]\n",
    "    afrik_count =  afrik_count.copy()\n",
    "    afrik_count.fillna(0, inplace=True)\n",
    "    \n",
    "    for date in dates: \n",
    "        if afrik_count[date].values[0] == 0:\n",
    "            total = afrik_count[date].values[0]\n",
    "            count_total_per_day.append(int(total))\n",
    "        else: \n",
    "            total = afrik_count[date].str.replace('+','').fillna(0).str.replace(',','').fillna(0).astype(int)\n",
    "            count_total_per_day.append(int(total))   \n",
    "\n",
    "    ax = fig.add_subplot(len(confirmed_cases_first10)/2,2,confirmed_cases_first10.index(count) + 1)\n",
    "    ax.plot(dates, count_total_per_day, color='#FF800E', linewidth=2.5)\n",
    "    count_val = confirmed_cases_first10.index(count)\n",
    "    ax.set_title(str(count_val + 1) + ' - ' + count  +'        Total Confirmed:    '+'{: ,}'.format(sorted_confirmsed_first10_values[count_val]))\n",
    "    \n",
    "    if confirmed_cases_first10.index(count)== 4:\n",
    "        ax.set_ylabel('Daily New Cases', fontsize=24, color='#848484')\n",
    "\n",
    "    plt.xticks(rotation=90, fontsize=14)\n",
    "    plt.yticks(fontsize=12)\n",
    "    ax.xaxis.set_major_locator(plt.MaxNLocator(6))\n",
    "    if ax.get_position().y1 < axes_y_position['y1']:\n",
    "        axes_y_position['y1'] = ax.get_position().y1\n",
    "    \n",
    "    count_total_per_day=[] \n",
    "for a in fig.get_axes():\n",
    "    if a.get_position().y1 != axes_y_position['y1']:\n",
    "        tick_labels = ['']*len(a.get_xticklabels())\n",
    "        a.set_xticklabels(tick_labels)"
   ]
  },
  {
   "cell_type": "markdown",
   "metadata": {},
   "source": [
    "[Return to top](#top)"
   ]
  }
 ],
 "metadata": {
  "kernelspec": {
   "display_name": "Python 3",
   "language": "python",
   "name": "python3"
  },
  "language_info": {
   "codemirror_mode": {
    "name": "ipython",
    "version": 3
   },
   "file_extension": ".py",
   "mimetype": "text/x-python",
   "name": "python",
   "nbconvert_exporter": "python",
   "pygments_lexer": "ipython3",
   "version": "3.7.4"
  }
 },
 "nbformat": 4,
 "nbformat_minor": 2
}
