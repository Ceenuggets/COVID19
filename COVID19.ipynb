{
 "cells": [
  {
   "cell_type": "markdown",
   "metadata": {},
   "source": [
    "# COVID19 ANALYSIS"
   ]
  },
  {
   "cell_type": "code",
   "execution_count": 1,
   "metadata": {},
   "outputs": [],
   "source": [
    "import pandas as pd\n",
    "import numpy as np\n",
    "import os\n",
    "from datetime import datetime, date, timedelta"
   ]
  },
  {
   "cell_type": "code",
   "execution_count": 2,
   "metadata": {},
   "outputs": [
    {
     "data": {
      "text/plain": [
       "['COVID19Report010820201938.csv',\n",
       " 'COVID19Report010920201131.csv',\n",
       " 'COVID19Report011020202033.csv',\n",
       " 'COVID19Report020820201919.csv',\n",
       " 'COVID19Report020920201217.csv',\n",
       " 'COVID19Report021020200946.csv',\n",
       " 'COVID19Report030820201242.csv',\n",
       " 'COVID19Report030920202125.csv',\n",
       " 'COVID19Report031020201012.csv',\n",
       " 'COVID19Report040820201518.csv',\n",
       " 'COVID19Report040920201011.csv',\n",
       " 'COVID19Report041020201348.csv',\n",
       " 'COVID19Report050820202049.csv',\n",
       " 'COVID19Report050920202011.csv',\n",
       " 'COVID19Report051020201040.csv',\n",
       " 'COVID19Report060820201004.csv',\n",
       " 'COVID19Report060920201108.csv',\n",
       " 'COVID19Report061020201033.csv',\n",
       " 'COVID19Report070820202316.csv',\n",
       " 'COVID19Report070920202102.csv',\n",
       " 'COVID19Report071020201030.csv',\n",
       " 'COVID19Report080820200952.csv',\n",
       " 'COVID19Report080920202129.csv',\n",
       " 'COVID19Report081020200955.csv',\n",
       " 'COVID19Report090820201318.csv',\n",
       " 'COVID19Report090920201251.csv',\n",
       " 'COVID19Report091020202021.csv',\n",
       " 'COVID19Report100820201207.csv',\n",
       " 'COVID19Report100920201345.csv',\n",
       " 'COVID19Report101020201945.csv',\n",
       " 'COVID19Report110820201153.csv',\n",
       " 'COVID19Report111020202010.csv',\n",
       " 'COVID19Report120820201349.csv',\n",
       " 'COVID19Report120920200046.csv',\n",
       " 'COVID19Report120920201117.csv',\n",
       " 'COVID19Report121020200826.csv',\n",
       " 'COVID19Report130820200937.csv',\n",
       " 'COVID19Report130920201628.csv',\n",
       " 'COVID19Report131020201143.csv',\n",
       " 'COVID19Report140820201802.csv',\n",
       " 'COVID19Report140920201658.csv',\n",
       " 'COVID19Report141020201343.csv',\n",
       " 'COVID19Report150720201808.csv',\n",
       " 'COVID19Report150820201957.csv',\n",
       " 'COVID19Report150920201507.csv',\n",
       " 'COVID19Report160720201632.csv',\n",
       " 'COVID19Report160820202028.csv',\n",
       " 'COVID19Report170720201756.csv',\n",
       " 'COVID19Report170820201410.csv',\n",
       " 'COVID19Report170920200030.csv',\n",
       " 'COVID19Report170920201219.csv',\n",
       " 'COVID19Report180720202130.csv',\n",
       " 'COVID19Report180820201942.csv',\n",
       " 'COVID19Report180920201132.csv',\n",
       " 'COVID19Report190720201639.csv',\n",
       " 'COVID19Report190820202014.csv',\n",
       " 'COVID19Report190920202110.csv',\n",
       " 'COVID19Report200720202044.csv',\n",
       " 'COVID19Report200820200921.csv',\n",
       " 'COVID19Report200920201057.csv',\n",
       " 'COVID19Report210720201542.csv',\n",
       " 'COVID19Report210820201745.csv',\n",
       " 'COVID19Report210920200841.csv',\n",
       " 'COVID19Report220720202316.csv',\n",
       " 'COVID19Report220820201831.csv',\n",
       " 'COVID19Report220920201108.csv',\n",
       " 'COVID19Report230720201601.csv',\n",
       " 'COVID19Report230820201549.csv',\n",
       " 'COVID19Report230920202023.csv',\n",
       " 'COVID19Report240720202010.csv',\n",
       " 'COVID19Report240820201027.csv',\n",
       " 'COVID19Report240920201342.csv',\n",
       " 'COVID19Report250720201127.csv',\n",
       " 'COVID19Report250820202102.csv',\n",
       " 'COVID19Report250920200928.csv',\n",
       " 'COVID19Report260720201222.csv',\n",
       " 'COVID19Report260920202039.csv',\n",
       " 'COVID19Report270720201024.csv',\n",
       " 'COVID19Report270820200040.csv',\n",
       " 'COVID19Report270820201956.csv',\n",
       " 'COVID19Report270920200751.csv',\n",
       " 'COVID19Report280720202032.csv',\n",
       " 'COVID19Report280820201948.csv',\n",
       " 'COVID19Report280920202035.csv',\n",
       " 'COVID19Report290720201957.csv',\n",
       " 'COVID19Report290820201948.csv',\n",
       " 'COVID19Report290920202058.csv',\n",
       " 'COVID19Report300720201229.csv',\n",
       " 'COVID19Report300820200955.csv',\n",
       " 'COVID19Report300920201108.csv',\n",
       " 'COVID19Report310720200951.csv',\n",
       " 'COVID19Report310820201518.csv']"
      ]
     },
     "execution_count": 2,
     "metadata": {},
     "output_type": "execute_result"
    }
   ],
   "source": [
    "files = os.listdir('../COVID19/DayReport')\n",
    "files"
   ]
  },
  {
   "cell_type": "code",
   "execution_count": 3,
   "metadata": {},
   "outputs": [],
   "source": [
    "def most_recent_CSV(files, n):\n",
    "    next_mostrecent_CSV ={}\n",
    "    filter_csv = [file for file in files if file[-3:] == 'csv' and file[:13] == 'COVID19Report' and len(file[13:25]) ==12]\n",
    "    datetime_conversion = [datetime.strptime(f[13:25], '%d%m%Y%H%M') for f in filter_csv]\n",
    "    current_datetime = datetime.now().strftime(\"%d%m%Y%H%M\")\n",
    "    current_datetime_conversion = datetime.strptime(current_datetime,'%d%m%Y%H%M')\n",
    "    for given_datetime in datetime_conversion:\n",
    "        datetime_string= given_datetime.strftime('%d')+given_datetime.strftime('%m')+given_datetime.strftime('%Y')+given_datetime.strftime('%H')+given_datetime.strftime('%M')\n",
    "        particular_datetime = [datee  for datee in filter_csv if datee[13:25] == datetime_string]\n",
    "        timediff_seconds = current_datetime_conversion - given_datetime\n",
    "        next_mostrecent_CSV[particular_datetime[0]] = timediff_seconds.total_seconds()\n",
    "        sorted_next_mostrecent_CSV = sorted(next_mostrecent_CSV.items(), key=lambda kv: kv[1])\n",
    "    return sorted_next_mostrecent_CSV[n][0]  "
   ]
  },
  {
   "cell_type": "code",
   "execution_count": 6,
   "metadata": {},
   "outputs": [
    {
     "data": {
      "text/plain": [
       "'COVID19Report141020201343.csv'"
      ]
     },
     "execution_count": 6,
     "metadata": {},
     "output_type": "execute_result"
    }
   ],
   "source": [
    "most_recent_data = most_recent_CSV(files, 0)\n",
    "most_recent_data"
   ]
  },
  {
   "cell_type": "code",
   "execution_count": null,
   "metadata": {},
   "outputs": [],
   "source": []
  }
 ],
 "metadata": {
  "kernelspec": {
   "display_name": "Python 3",
   "language": "python",
   "name": "python3"
  },
  "language_info": {
   "codemirror_mode": {
    "name": "ipython",
    "version": 3
   },
   "file_extension": ".py",
   "mimetype": "text/x-python",
   "name": "python",
   "nbconvert_exporter": "python",
   "pygments_lexer": "ipython3",
   "version": "3.7.4"
  }
 },
 "nbformat": 4,
 "nbformat_minor": 2
}
